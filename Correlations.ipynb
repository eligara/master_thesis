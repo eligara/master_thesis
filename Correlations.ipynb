{
 "cells": [
  {
   "cell_type": "code",
   "execution_count": null,
   "metadata": {},
   "outputs": [],
   "source": [
    "import numpy as np\n",
    "import pandas as pd\n",
    "from matplotlib import pyplot as plt"
   ]
  },
  {
   "cell_type": "code",
   "execution_count": null,
   "metadata": {},
   "outputs": [],
   "source": [
    "df = pd.read_csv(\"correlations.dat\", sep='\\t', header=None)\n",
    "df.head()"
   ]
  },
  {
   "cell_type": "code",
   "execution_count": null,
   "metadata": {},
   "outputs": [],
   "source": [
    "print(len(df[0].values))"
   ]
  },
  {
   "cell_type": "code",
   "execution_count": null,
   "metadata": {},
   "outputs": [],
   "source": [
    "bins = 120\n",
    "rang = (0-0.5/bins,1+0.5/bins)\n",
    "fig = plt.figure()\n",
    "plt.hist(df.loc[:,2].values, histtype='step', color='blue', range=rang, bins=bins, density=True, label='data')\n",
    "plt.yscale('log')\n",
    "plt.xlabel('I(X,Y)', fontsize=16)\n",
    "plt.ylabel('#')\n",
    "plt.legend(fontsize=18)\n",
    "plt.show()"
   ]
  },
  {
   "cell_type": "code",
   "execution_count": null,
   "metadata": {},
   "outputs": [],
   "source": [
    "fig.savefig(\"IXY.pdf\")"
   ]
  },
  {
   "cell_type": "code",
   "execution_count": null,
   "metadata": {},
   "outputs": [],
   "source": [
    "bins = 120\n",
    "rang = (0-0.4*0.5/bins,0.4+0.4*0.5/bins)\n",
    "fig = plt.figure()\n",
    "plt.hist(df.loc[:,2].values, histtype='step', color='blue', range=rang, bins=bins, density=True, label='data')\n",
    "plt.yscale('log')\n",
    "plt.xlabel('I(X,Y)', fontsize=16)\n",
    "plt.ylabel('#')\n",
    "plt.legend(fontsize=18)\n",
    "plt.show()"
   ]
  },
  {
   "cell_type": "code",
   "execution_count": null,
   "metadata": {},
   "outputs": [],
   "source": [
    "fig.savefig(\"IXY_zoom.pdf\")"
   ]
  },
  {
   "cell_type": "markdown",
   "metadata": {},
   "source": [
    "# null"
   ]
  },
  {
   "cell_type": "code",
   "execution_count": null,
   "metadata": {},
   "outputs": [],
   "source": [
    "df_null = pd.read_csv(\"correlations_null.dat\", sep='\\t', header=None)\n",
    "df_null.head()"
   ]
  },
  {
   "cell_type": "code",
   "execution_count": null,
   "metadata": {},
   "outputs": [],
   "source": [
    "print(len(df_null[0].values))"
   ]
  },
  {
   "cell_type": "code",
   "execution_count": null,
   "metadata": {},
   "outputs": [],
   "source": [
    "bins = 120\n",
    "rang = (0-0.5/bins,1+0.5/bins)\n",
    "fig = plt.figure()\n",
    "plt.hist(df.loc[:,2].values, histtype='step', color='blue', range=rang, bins=bins, density=True, label='data')\n",
    "plt.hist(df_null.loc[:,2].values, histtype='step', range=rang, bins=bins, color='red', density=True, label='null')\n",
    "plt.yscale('log')\n",
    "plt.xlabel('I(X,Y)', fontsize=16)\n",
    "plt.ylabel('#')\n",
    "plt.legend(fontsize=18)\n",
    "plt.show()"
   ]
  },
  {
   "cell_type": "code",
   "execution_count": null,
   "metadata": {},
   "outputs": [],
   "source": [
    "fig.savefig(\"IXY_null.pdf\")"
   ]
  },
  {
   "cell_type": "code",
   "execution_count": null,
   "metadata": {},
   "outputs": [],
   "source": [
    "bins = 120\n",
    "rang = (0-0.4*0.5/bins,0.4+0.4*0.5/bins)\n",
    "fig = plt.figure()\n",
    "plt.hist(df.loc[:,2].values, histtype='step', color='blue', range=rang, bins=bins, density=True, label='data')\n",
    "plt.hist(df_null.loc[:,2].values, histtype='step', range=rang, bins=bins, color='red', density=True, label='null')\n",
    "plt.yscale('log')\n",
    "plt.xlabel('I(X,Y)', fontsize=16)\n",
    "plt.ylabel('#')\n",
    "plt.legend(fontsize=18)\n",
    "plt.show()"
   ]
  },
  {
   "cell_type": "code",
   "execution_count": null,
   "metadata": {},
   "outputs": [],
   "source": [
    "fig.savefig(\"IXY_null_zoom.pdf\")"
   ]
  },
  {
   "cell_type": "code",
   "execution_count": null,
   "metadata": {},
   "outputs": [],
   "source": []
  }
 ],
 "metadata": {
  "kernelspec": {
   "display_name": "Python 3",
   "language": "python",
   "name": "python3"
  },
  "language_info": {
   "codemirror_mode": {
    "name": "ipython",
    "version": 3
   },
   "file_extension": ".py",
   "mimetype": "text/x-python",
   "name": "python",
   "nbconvert_exporter": "python",
   "pygments_lexer": "ipython3",
   "version": "3.6.8"
  }
 },
 "nbformat": 4,
 "nbformat_minor": 2
}
