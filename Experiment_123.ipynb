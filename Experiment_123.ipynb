{
 "cells": [
  {
   "cell_type": "code",
   "execution_count": null,
   "metadata": {},
   "outputs": [],
   "source": [
    "import pandas as pd\n",
    "import matplotlib.pyplot as plt\n",
    "import numpy as np\n",
    "import os"
   ]
  },
  {
   "cell_type": "code",
   "execution_count": null,
   "metadata": {},
   "outputs": [],
   "source": [
    "directory=r\"/Volumes/GoogleDrive/My Drive/tesi_magistrale/tesi/gtex/123experiments/\"\n",
    "os.chdir(directory)"
   ]
  },
  {
   "cell_type": "code",
   "execution_count": null,
   "metadata": {},
   "outputs": [],
   "source": [
    "df = pd.read_csv(\"sizescale.csv\")\n",
    "df.columns"
   ]
  },
  {
   "cell_type": "code",
   "execution_count": null,
   "metadata": {},
   "outputs": [],
   "source": [
    "x = df['labels']\n",
    "fig = plt.figure(figsize=(10,5))\n",
    "plt.plot(x,df['labels'])\n",
    "plt.plot(x,df['secondary'])\n",
    "plt.scatter(x,df['first'])\n",
    "plt.scatter(x,df['second'])\n",
    "plt.scatter(x,df['third'])\n",
    "plt.yscale('log')\n",
    "plt.ylabel('number of tissues expected\\ncompared to the ones in output', fontsize=18)\n",
    "plt.xlabel('number of tissues presented', fontsize=18)\n",
    "plt.show()\n",
    "fig.savefig('sizescale.pdf')"
   ]
  },
  {
   "cell_type": "code",
   "execution_count": null,
   "metadata": {},
   "outputs": [],
   "source": []
  }
 ],
 "metadata": {
  "kernelspec": {
   "display_name": "Python 3",
   "language": "python",
   "name": "python3"
  },
  "language_info": {
   "codemirror_mode": {
    "name": "ipython",
    "version": 3
   },
   "file_extension": ".py",
   "mimetype": "text/x-python",
   "name": "python",
   "nbconvert_exporter": "python",
   "pygments_lexer": "ipython3",
   "version": "3.6.8"
  }
 },
 "nbformat": 4,
 "nbformat_minor": 2
}
