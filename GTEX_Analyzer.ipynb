{
 "cells": [
  {
   "cell_type": "code",
   "execution_count": null,
   "metadata": {},
   "outputs": [],
   "source": [
    "import os\n",
    "import sys\n",
    "import pandas as pd\n",
    "import numpy as np\n",
    "import regex as re\n",
    "import mygene\n",
    "from matplotlib import pyplot as plt\n",
    "from scipy.optimize import curve_fit, fminbound\n",
    "from scipy import stats\n",
    "from tableanalyzer import *"
   ]
  },
  {
   "cell_type": "code",
   "execution_count": null,
   "metadata": {},
   "outputs": [],
   "source": [
    "mg = mygene.MyGeneInfo()"
   ]
  },
  {
   "cell_type": "code",
   "execution_count": null,
   "metadata": {},
   "outputs": [],
   "source": [
    "#mg.getgene(\"ENSG00000221782\", 'name,symbol,refseq.rna,type_of_gene,exac.bp')"
   ]
  },
  {
   "cell_type": "code",
   "execution_count": null,
   "metadata": {},
   "outputs": [],
   "source": [
    "working_dir = \"/Users/filippo/Developer/tesi/results/proteincoding_GTEX/\"\n",
    "os.chdir(working_dir)"
   ]
  },
  {
   "cell_type": "code",
   "execution_count": null,
   "metadata": {},
   "outputs": [],
   "source": [
    "df_tcga = pd.read_csv((\"%s/TCGA/mainTable_TCGA.csv\"%working_dir))\n",
    "df_tcga.columns.values[0]='gene'"
   ]
  },
  {
   "cell_type": "code",
   "execution_count": null,
   "metadata": {},
   "outputs": [],
   "source": [
    "df_gtex = pd.read_csv((\"%s/GTEX/mainTable_GTEX.csv\"%working_dir))\n",
    "df_gtex.columns.values[0]='gene'"
   ]
  },
  {
   "cell_type": "code",
   "execution_count": null,
   "metadata": {},
   "outputs": [],
   "source": [
    "df_tcga.head()"
   ]
  },
  {
   "cell_type": "code",
   "execution_count": null,
   "metadata": {},
   "outputs": [],
   "source": [
    "df_gtex.head()"
   ]
  },
  {
   "cell_type": "code",
   "execution_count": null,
   "metadata": {},
   "outputs": [],
   "source": [
    "ngenes_tcga = len(df_tcga['gene'])\n",
    "nfiles_tcga = len(df_tcga.loc[0,:])-1\n",
    "ngenes_gtex = len(df_gtex['gene'])\n",
    "nfiles_gtex = len(df_gtex.loc[0,:])-1\n",
    "print(\"TCGA genes:%d\\trealizations:%d\"%(ngenes_tcga,nfiles_tcga))\n",
    "print(\"GTEX genes:%d\\trealizations:%d\"%(ngenes_gtex,nfiles_gtex))"
   ]
  },
  {
   "cell_type": "code",
   "execution_count": null,
   "metadata": {},
   "outputs": [],
   "source": []
  },
  {
   "cell_type": "code",
   "execution_count": null,
   "metadata": {},
   "outputs": [],
   "source": []
  },
  {
   "cell_type": "markdown",
   "metadata": {},
   "source": [
    "## Means sigmas"
   ]
  },
  {
   "cell_type": "code",
   "execution_count": null,
   "metadata": {},
   "outputs": [],
   "source": [
    "df_mv_tcga = pd.read_csv(\"%s/TCGA/meanVariances_TCGA.csv\"%working_dir, index_col = [0])\n",
    "#type_of_gene='protein-coding'\n",
    "#df_mv = df_mv.loc[df_mv['type_of_gene']==type_of_gene]\n",
    "df_mv_occ=pd.read_csv(\"%s/TCGA/O_TCGA.dat\"%working_dir, header=None)\n",
    "df_mv_tcga.drop(\"type_of_gene\", axis=1, inplace=True)\n",
    "df_mv_tcga.insert(2, 'occurrence', df_mv_occ.values)\n",
    "df_mv_tcga.head()"
   ]
  },
  {
   "cell_type": "code",
   "execution_count": null,
   "metadata": {},
   "outputs": [],
   "source": [
    "df_mv_gtex = pd.read_csv(\"%s/GTEX/meanVariances_GTEX.csv\"%working_dir, index_col = [0])\n",
    "#type_of_gene='protein-coding'\n",
    "#df_mv = df_mv.loc[df_mv['type_of_gene']==type_of_gene]\n",
    "df_mv_occ=pd.read_csv(\"%s/GTEX/O_GTEX.dat\"%working_dir, header=None)\n",
    "df_mv_gtex.drop(\"type_of_gene\", axis=1, inplace=True)\n",
    "df_mv_gtex.insert(2, 'occurrence', df_mv_occ.values)\n",
    "df_mv_gtex.head()"
   ]
  },
  {
   "cell_type": "code",
   "execution_count": null,
   "metadata": {},
   "outputs": [],
   "source": [
    "means_tcga = df_mv_tcga['mean'].values\n",
    "variances_tcga = df_mv_tcga['variance'].values\n",
    "occurrences_tcga = np.array(df_mv_tcga['occurrence'].values, dtype=float)*nfiles_tcga\n",
    "means_gtex = df_mv_gtex['mean'].values\n",
    "variances_gtex = df_mv_gtex['variance'].values\n",
    "occurrences_gtex = np.array(df_mv_gtex['occurrence'].values, dtype=float)*nfiles_tcga"
   ]
  },
  {
   "cell_type": "markdown",
   "metadata": {},
   "source": [
    "### plot"
   ]
  },
  {
   "cell_type": "markdown",
   "metadata": {},
   "source": [
    "#### **var** versus **mean**"
   ]
  },
  {
   "cell_type": "code",
   "execution_count": null,
   "metadata": {},
   "outputs": [],
   "source": [
    "fig=plt.figure(figsize=(15,4))\n",
    "plt.subplot(121)\n",
    "plt.scatter(means_gtex, variances_gtex, c='b')\n",
    "plt.scatter(means_tcga, variances_tcga, c='r')\n",
    "plt.xlabel(\"$<FPKM>$\", fontsize=16)\n",
    "plt.ylabel(\"$\\sigma^2_{FPKM}$\", fontsize=16)\n",
    "plt.subplot(122)\n",
    "plt.scatter(means_gtex, variances_gtex, c='b')\n",
    "plt.scatter(means_tcga, variances_tcga, c='r')\n",
    "plt.xlabel(\"$<FPKM>$\", fontsize=16)\n",
    "plt.ylabel(\"$\\sigma^2_{FPKM}$\", fontsize=16)\n",
    "plt.yscale('log')\n",
    "#plt.xlim(1e-2,200)\n",
    "plt.ylim((1e-2,1e9))\n",
    "plt.show()"
   ]
  },
  {
   "cell_type": "code",
   "execution_count": null,
   "metadata": {},
   "outputs": [],
   "source": [
    "fig.savefig(\"varmean.png\")"
   ]
  },
  {
   "cell_type": "code",
   "execution_count": null,
   "metadata": {},
   "outputs": [],
   "source": [
    "fig=plt.figure(figsize=(15,4))\n",
    "plt.scatter(means_tcga, variances_tcga, c='r', label='tcga', alpha=0.6)\n",
    "plt.scatter(means_gtex, variances_gtex, c='b', label='gtex', alpha=0.6)\n",
    "plt.xlabel(\"$<FPKM>$\", fontsize=16)\n",
    "plt.ylabel(\"$\\sigma^2_{FPKM}$\", fontsize=16)\n",
    "plt.xscale('log')\n",
    "plt.yscale('log')\n",
    "plt.xlim(5e-2,5e5)\n",
    "plt.ylim((1e-5,5e9))\n",
    "plt.legend()\n",
    "plt.show()\n",
    "fig.savefig(\"varmean_loglog.png\")"
   ]
  },
  {
   "cell_type": "markdown",
   "metadata": {},
   "source": [
    "### mean versus occurrence"
   ]
  },
  {
   "cell_type": "code",
   "execution_count": null,
   "metadata": {},
   "outputs": [],
   "source": [
    "fig=plt.figure(figsize=(8,5))\n",
    "plt.scatter(occurrences_tcga, means_tcga, c='r', label='tcga', alpha=0.6)\n",
    "plt.scatter(occurrences_gtex, means_gtex, c='b', label='gtex', alpha=0.6)\n",
    "plt.ylabel(\"$<FPKM>$\", fontsize=16)\n",
    "plt.xlabel(\"$\\Sigma_j\\Theta(FPKM-0.1)\\Theta(1e5-FPKM)$\", fontsize=16)\n",
    "plt.xscale('log')\n",
    "plt.yscale('log')\n",
    "plt.ylim(1e-1,5e5)\n",
    "plt.xlim(1e0,1e3)\n",
    "plt.show()"
   ]
  },
  {
   "cell_type": "code",
   "execution_count": null,
   "metadata": {},
   "outputs": [],
   "source": [
    "fig.savefig(\"meanDiff_loglog.png\")"
   ]
  },
  {
   "cell_type": "code",
   "execution_count": null,
   "metadata": {},
   "outputs": [],
   "source": []
  },
  {
   "cell_type": "code",
   "execution_count": null,
   "metadata": {},
   "outputs": [],
   "source": []
  },
  {
   "cell_type": "markdown",
   "metadata": {},
   "source": [
    "### Distributions"
   ]
  },
  {
   "cell_type": "code",
   "execution_count": null,
   "metadata": {},
   "outputs": [],
   "source": [
    "len(means)"
   ]
  },
  {
   "cell_type": "code",
   "execution_count": null,
   "metadata": {},
   "outputs": [],
   "source": [
    "len(variances)"
   ]
  },
  {
   "cell_type": "code",
   "execution_count": null,
   "metadata": {},
   "outputs": [],
   "source": [
    "bins = 60\n",
    "_range = (0-1e4*0.5/bins, 1e4+1e4*0.5/bins)\n",
    "fig = plt.figure()\n",
    "plt.hist(means_tcga, density = True, range=_range, bins=bins, histtype='step', label='tcga', color='r')\n",
    "plt.hist(means_gtex, density = True, range=_range, bins=bins, histtype='step', label='gtex', color='b')\n",
    "plt.title(\"means\")\n",
    "plt.xlabel(\"$<FPKM>$\")\n",
    "plt.ylabel(\"#\")\n",
    "plt.yscale('log')\n",
    "plt.legend()\n",
    "plt.show()\n",
    "fig.savefig(\"mean_distr.pdf\")"
   ]
  },
  {
   "cell_type": "code",
   "execution_count": null,
   "metadata": {},
   "outputs": [],
   "source": [
    "bins = 80\n",
    "_range = (0-1e4*0.5/bins, 1e4+1e4*0.5/bins)\n",
    "fig = plt.figure()\n",
    "plt.hist(variances_tcga, density = True, range=_range, bins=bins, histtype='step', label='tcga', color='r')\n",
    "plt.hist(variances_gtex, density = True, range=_range, bins=bins, histtype='step', label='gtex', color='b')\n",
    "plt.title(\"vars\")\n",
    "plt.xlabel(\"$<\\sigma_{FPKM}^2>$\")\n",
    "plt.ylabel(\"#\")\n",
    "plt.yscale('log')\n",
    "plt.show()\n",
    "fig.savefig(\"var_distr.pdf\")"
   ]
  },
  {
   "cell_type": "code",
   "execution_count": null,
   "metadata": {},
   "outputs": [],
   "source": []
  },
  {
   "cell_type": "markdown",
   "metadata": {},
   "source": [
    "# single gene"
   ]
  },
  {
   "cell_type": "code",
   "execution_count": null,
   "metadata": {},
   "outputs": [],
   "source": [
    "fig = plt.figure()\n",
    "ax=fig.subplots()\n",
    "genedistr(geneinfo('PTPN6', df_tcga, nfiles_tcga), 50,ax=ax, density=True, label='tcga', save=False);\n",
    "genedistr(geneinfo('PTPN6', df_gtex, nfiles_gtex), 50,ax=ax, density=True, label='gtex', save=False);\n",
    "plt.legend()\n",
    "plt.show()"
   ]
  },
  {
   "cell_type": "markdown",
   "metadata": {},
   "source": [
    "# subset analysis"
   ]
  },
  {
   "cell_type": "markdown",
   "metadata": {},
   "source": [
    "#### query genes"
   ]
  },
  {
   "cell_type": "code",
   "execution_count": null,
   "metadata": {},
   "outputs": [],
   "source": [
    "search_mean_max = 200\n",
    "search_mean_min = 50\n",
    "search_var_max = 1e12\n",
    "search_var_min = 1e6\n",
    "pc = True\n",
    "query_result = df_mv_gtex.loc[((df_mv_gtex['mean']>(search_mean_min)) & (df_mv_gtex['mean']<(search_mean_max))) & ((df_mv_gtex['variance']>(search_var_min)) & (df_mv_gtex['variance']<(search_var_max)))].sort_values(by='mean')\n",
    "query_result"
   ]
  },
  {
   "cell_type": "code",
   "execution_count": null,
   "metadata": {},
   "outputs": [],
   "source": [
    "genesnames = []\n",
    "for g in query_result.index.values[:15]:\n",
    "    genesnames.append((geneinfo(g[:15], df_tcga, nfiles_tcga),geneinfo(g[:15], df_gtex, nfiles_gtex)))"
   ]
  },
  {
   "cell_type": "code",
   "execution_count": null,
   "metadata": {},
   "outputs": [],
   "source": []
  },
  {
   "cell_type": "code",
   "execution_count": null,
   "metadata": {},
   "outputs": [],
   "source": []
  },
  {
   "cell_type": "code",
   "execution_count": null,
   "metadata": {},
   "outputs": [],
   "source": []
  },
  {
   "cell_type": "markdown",
   "metadata": {},
   "source": [
    "### plot all"
   ]
  },
  {
   "cell_type": "code",
   "execution_count": null,
   "metadata": {},
   "outputs": [],
   "source": [
    "for gene_tcga, gene_gtex in genesnames:\n",
    "    print(gene_tcga['name'])\n",
    "    print(\"mean: %f\\t\\t%f\"%(gene_tcga['avg'],gene_gtex['avg']))\n",
    "    print(\"var: %f\\t\\t%f\"%(gene_tcga['var'],gene_gtex['var']))\n",
    "    fig = plt.figure()\n",
    "    ax=fig.subplots()\n",
    "    genedistr(gene_gtex, 50,ax=ax, density=True, label='tcga', save=False);\n",
    "    genedistr(gene_tcga, 50,ax=ax, density=True, label='gtex', save=False);\n",
    "    plt.legend()\n",
    "    fig.savefig(\"plot/genes/%s.png\"%gene_tcga['name'])\n",
    "    plt.show()"
   ]
  },
  {
   "cell_type": "code",
   "execution_count": null,
   "metadata": {},
   "outputs": [],
   "source": []
  },
  {
   "cell_type": "code",
   "execution_count": null,
   "metadata": {},
   "outputs": [],
   "source": []
  },
  {
   "cell_type": "code",
   "execution_count": null,
   "metadata": {},
   "outputs": [],
   "source": [
    "x_lin = np.logspace(-1,4, dtype=float)"
   ]
  },
  {
   "cell_type": "code",
   "execution_count": null,
   "metadata": {},
   "outputs": [],
   "source": [
    "def add_binned_plt(x,y, ax = None, label='', c='b'):\n",
    "    if ax==None:\n",
    "        fig=plt.figure()\n",
    "        ax=fig.subplots()\n",
    "    else:\n",
    "        fig=ax.get_figure()\n",
    "    ax.scatter(x, y, marker='o', alpha=0.2, linewidths=0.1, label=label, c=c)\n",
    "\n",
    "    log_bins_for_x = np.logspace(-1, np.log10(np.max(x)), num=30)\n",
    "    bin_means, bin_edges, binnumber = stats.binned_statistic(x, y, statistic='mean', bins=log_bins_for_x)\n",
    "    bin_centres = (bin_edges[:-1]+bin_edges[1:])/2\n",
    "    ax.hlines(bin_means, bin_edges[:-1], bin_edges[1:], colors=c, lw=5, label='binned average')\n",
    "\n",
    "    \n",
    "    #popt, pcov = curve_fit(lambda x,a,b : a*np.power(x,b), bin_centres, bin_means, bounds=([1,1],[35,5]))\n",
    "    #plt.plot(bin_centres, popt[0]*np.power(bin_centres, popt[1]), color='y', lw=3, label='fit')\n",
    "    #print(popt[0],popt[1])\n",
    "\n",
    "    bin_sigmas,  bin_sigmas_edges, binsigmanumber = stats.binned_statistic(x, y, statistic=np.std, bins=log_bins_for_x)\n",
    "    ax.plot((bin_edges[:-1] + bin_edges[1:])/2, bin_means+bin_sigmas*3, lw=3, color=c, label='binned average + $3\\sigma$')\n",
    "    ax.set_xlabel(\"$<FPKM>$\", fontsize=16)\n",
    "    ax.set_ylabel(\"$\\sigma^2_{FPKM}$\", fontsize=16)\n",
    "    ax.set_xscale('log')\n",
    "    ax.set_yscale('log')\n",
    "    ax.set_ylim(1e-2, 1e9)\n",
    "    ax.set_xlim(5e-2,5e5)"
   ]
  },
  {
   "cell_type": "code",
   "execution_count": null,
   "metadata": {},
   "outputs": [],
   "source": [
    "fig=plt.figure(figsize=(12,7))\n",
    "ax=fig.subplots()\n",
    "\n",
    "ax.plot(x_lin,np.power(x_lin,2), 'g-', lw=5, label='$<FPKM>^2$')\n",
    "ax.plot(x_lin,x_lin, 'y-', lw=5, label='$<FPKM>$')\n",
    "\n",
    "add_binned_plt(means_gtex, variances_gtex, label='gtex', ax=ax, c='b')\n",
    "add_binned_plt(means_tcga, variances_tcga, label='tcga', ax=ax, c='r')\n",
    "plt.legend()\n",
    "plt.show()"
   ]
  },
  {
   "cell_type": "code",
   "execution_count": null,
   "metadata": {},
   "outputs": [],
   "source": [
    "fig.savefig(\"varmean_3sigma.png\")"
   ]
  },
  {
   "cell_type": "code",
   "execution_count": null,
   "metadata": {},
   "outputs": [],
   "source": []
  },
  {
   "cell_type": "code",
   "execution_count": null,
   "metadata": {},
   "outputs": [],
   "source": [
    "x = means_gtex\n",
    "y = variances_gtex\n",
    "\n",
    "# INIT FIGURE #################################################################\n",
    "\n",
    "fig = plt.figure(figsize=(12, 6))\n",
    "ax = fig.subplots()\n",
    "\n",
    "\n",
    "# AX #########################################################################\n",
    "\n",
    "xmin = np.log10(1e-1)\n",
    "xmax = np.log10(x.max())\n",
    "ymin = np.log10(1e-3)\n",
    "ymax = np.log10(y.max())\n",
    "\n",
    "xbins = np.logspace(xmin, xmax, 30) # <- make a range from 10**xmin to 10**xmax\n",
    "ybins = np.logspace(ymin, ymax, 30) # <- make a range from 10**ymin to 10**ymax\n",
    "\n",
    "counts, _, _, _ = ax.hist2d(x, y, bins=(xbins, ybins));\n",
    "\n",
    "pcm = ax.pcolormesh(xbins, ybins, counts.T)\n",
    "plt.colorbar(pcm)\n",
    "#fig.colorbar(pcm, ax=ax2)  # this works too\n",
    "\n",
    "## The following line doesn't actually work...\n",
    "## See http://stackoverflow.com/questions/29175093/creating-a-log-linear-plot-in-matplotlib-using-hist2d\n",
    "#H = ax2.hist2d(x, y, bins=[xbins, ybins])\n",
    "#fig.colorbar(H[3], ax=ax2)\n",
    "\n",
    "ax.set_xscale(\"log\")               # <- Activate log scale on X axis\n",
    "ax.set_yscale(\"log\")               # <- Activate log scale on Y axis\n",
    "\n",
    "ax.set_xlim(xmin=xbins[0])\n",
    "ax.set_xlim(xmax=xbins[-1])\n",
    "ax.set_ylim(ymin=ybins[0])\n",
    "ax.set_ylim(ymax=ybins[-1])\n",
    "\n",
    "ax.set_title(\"\")\n",
    "ax.set_xlabel(\"$<FPKM>$\", fontsize=16)\n",
    "ax.set_ylabel(\"$\\sigma^2_{FPKM}$\", fontsize=16)\n",
    "\n",
    "# SHOW AND SAVE FILE ##########################################################\n",
    "\n",
    "plt.tight_layout()\n",
    "plt.show()"
   ]
  },
  {
   "cell_type": "code",
   "execution_count": null,
   "metadata": {},
   "outputs": [],
   "source": [
    "fig.savefig(\"varmean_density_gtex.png\")"
   ]
  },
  {
   "cell_type": "markdown",
   "metadata": {},
   "source": [
    "## data size Heaps check"
   ]
  },
  {
   "cell_type": "code",
   "execution_count": null,
   "metadata": {},
   "outputs": [],
   "source": [
    "col = df.loc[:,df.keys()[1]].values\n",
    "np.sum(col)"
   ]
  },
  {
   "cell_type": "code",
   "execution_count": null,
   "metadata": {},
   "outputs": [],
   "source": [
    "len(col[col.nonzero()])"
   ]
  },
  {
   "cell_type": "code",
   "execution_count": null,
   "metadata": {},
   "outputs": [],
   "source": [
    "x = []\n",
    "y = []\n",
    "for i in range(1, 450):\n",
    "    col = df.loc[:,df.keys()[i]].values\n",
    "    x.append(np.sum(col))\n",
    "    y.append(len(col[col.nonzero()]))\n",
    "plt.scatter(x,y)"
   ]
  },
  {
   "cell_type": "code",
   "execution_count": null,
   "metadata": {},
   "outputs": [],
   "source": []
  },
  {
   "cell_type": "code",
   "execution_count": null,
   "metadata": {},
   "outputs": [],
   "source": []
  },
  {
   "cell_type": "code",
   "execution_count": null,
   "metadata": {},
   "outputs": [],
   "source": []
  }
 ],
 "metadata": {
  "kernelspec": {
   "display_name": "Python 2",
   "language": "python",
   "name": "python2"
  },
  "language_info": {
   "codemirror_mode": {
    "name": "ipython",
    "version": 2
   },
   "file_extension": ".py",
   "mimetype": "text/x-python",
   "name": "python",
   "nbconvert_exporter": "python",
   "pygments_lexer": "ipython2",
   "version": "2.7.15"
  }
 },
 "nbformat": 4,
 "nbformat_minor": 2
}
