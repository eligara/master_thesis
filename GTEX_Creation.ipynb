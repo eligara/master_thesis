{
 "cells": [
  {
   "cell_type": "code",
   "execution_count": null,
   "metadata": {},
   "outputs": [],
   "source": [
    "import os\n",
    "import sys\n",
    "import pandas as pd\n",
    "import numpy as np\n",
    "import regex as re\n",
    "from matplotlib import pyplot as plt\n",
    "import requests as rq"
   ]
  },
  {
   "cell_type": "code",
   "execution_count": null,
   "metadata": {},
   "outputs": [],
   "source": [
    "headers = {\n",
    "'Accept': 'application/json',\n",
    "}\n",
    "\n",
    "uri = 'http://rest.genenames.org'\n",
    "path = '/fetch/symbol/'\n",
    "gene = 'SYNJ1'\n",
    "\n",
    "response = rq.get(uri+path+gene, headers=headers)\n",
    "\n",
    "data = response.json()\n",
    "print 'Symbol: ' + data['response']['docs'][0]['symbol']\n",
    "print 'ENSG: ' + data['response']['docs'][0]['ensembl_gene_id']"
   ]
  },
  {
   "cell_type": "code",
   "execution_count": null,
   "metadata": {},
   "outputs": [],
   "source": []
  },
  {
   "cell_type": "code",
   "execution_count": null,
   "metadata": {},
   "outputs": [],
   "source": [
    "working_dir = \"/Users/filippo/Developer/tesi\"\n",
    "os.chdir(working_dir)\n",
    "files = os.listdir(\"data_gtex\")"
   ]
  },
  {
   "cell_type": "code",
   "execution_count": null,
   "metadata": {},
   "outputs": [],
   "source": [
    "len(files)"
   ]
  },
  {
   "cell_type": "code",
   "execution_count": null,
   "metadata": {},
   "outputs": [],
   "source": [
    "df=pd.read_csv(\"genes_hugo_symbol.txt\", index_col=[0])\n",
    "df.set_index('Hugo_Symbol', inplace=True)"
   ]
  },
  {
   "cell_type": "code",
   "execution_count": null,
   "metadata": {},
   "outputs": [],
   "source": [
    "maxacceptables = 34\n",
    "added = 1\n",
    "for i,cfile in enumerate(files):\n",
    "    if(re.match(\"[a-zA-Z0-9\\-\\.]{1,35}[.gz]\",cfile)):\n",
    "        print(cfile)\n",
    "        cdf = pd.read_csv((\"%s/data_gtex/%s\"%(working_dir,cfile)), sep='\\t', header=[0], index_col=[0], compression='gzip')\n",
    "        try:\n",
    "            df = df.combine_first(cdf.loc[df.index,cdf.keys()[2:]])\n",
    "            added=added+1\n",
    "        except:\n",
    "            print \"Unexpected error:\", sys.exc_info()[0]\n",
    "        print(df.columns)\n",
    "    if added >= maxacceptables:\n",
    "        break\n",
    "\n",
    "print(added)"
   ]
  },
  {
   "cell_type": "code",
   "execution_count": null,
   "metadata": {},
   "outputs": [],
   "source": [
    "df.fillna(value=0., inplace=True)"
   ]
  },
  {
   "cell_type": "code",
   "execution_count": null,
   "metadata": {},
   "outputs": [],
   "source": [
    "df_conversion=pd.read_csv(\"hugo_ensg.txt\", header=None)\n",
    "df_conversion.head()"
   ]
  },
  {
   "cell_type": "code",
   "execution_count": null,
   "metadata": {},
   "outputs": [],
   "source": [
    "#df.insert(0,'gene',df_conversion.loc[:,1].values)\n",
    "#df.set_index('gene',inplace=True)\n",
    "#df.drop('Hugo_Symbol', axis=1, inplace=True)"
   ]
  },
  {
   "cell_type": "code",
   "execution_count": null,
   "metadata": {},
   "outputs": [],
   "source": [
    "# df = pd.read_csv((\"%s/mainTable.csv\"%working_dir))"
   ]
  },
  {
   "cell_type": "code",
   "execution_count": null,
   "metadata": {},
   "outputs": [],
   "source": [
    "#df.columns=['gene', 'breast', 'kidney', 'bronchus', 'brain']"
   ]
  },
  {
   "cell_type": "code",
   "execution_count": null,
   "metadata": {},
   "outputs": [],
   "source": [
    "df.head()"
   ]
  },
  {
   "cell_type": "code",
   "execution_count": null,
   "metadata": {},
   "outputs": [],
   "source": [
    "print((\"genes:%d\\trealizations:%d\"%(len(df.index),len(df.keys()))))"
   ]
  },
  {
   "cell_type": "code",
   "execution_count": null,
   "metadata": {},
   "outputs": [],
   "source": [
    "df.to_csv((\"%s/mainTable.csv\"%working_dir))"
   ]
  },
  {
   "cell_type": "code",
   "execution_count": null,
   "metadata": {},
   "outputs": [],
   "source": []
  },
  {
   "cell_type": "code",
   "execution_count": null,
   "metadata": {},
   "outputs": [],
   "source": [
    "gene=df.index[0]\n",
    "response = rq.get(uri+path+gene, headers=headers)\n",
    "\n",
    "data = response.json()\n",
    "print 'Symbol: ' + data['response']['docs'][0]['symbol']\n",
    "print 'ENSG: ' + data['response']['docs'][0]['locus_group']\n",
    "print 'ENSG: ' + data['response']['docs'][0]['ensembl_gene_id']"
   ]
  },
  {
   "cell_type": "code",
   "execution_count": null,
   "metadata": {},
   "outputs": [],
   "source": [
    "df.loc[:,[k for k in df.keys() if 'TCGA' in k]].to_csv(\"mainTable_TCGA.csv\")\n",
    "df.loc[:,[k for k in df.keys() if 'GTEX' in k]].to_csv(\"mainTable_GTEX.csv\")"
   ]
  },
  {
   "cell_type": "markdown",
   "metadata": {},
   "source": [
    "## Zipf"
   ]
  },
  {
   "cell_type": "code",
   "execution_count": null,
   "metadata": {},
   "outputs": [],
   "source": [
    "A = [df.loc[:,df.keys()[9]].values, df.loc[:,df.keys()[45]].values, df.loc[:,df.keys()[42]].values]\n",
    "colors = ['red', 'blue', 'yellow']\n",
    "fig = plt.figure()\n",
    "x = np.arange(1, len(A[0]))\n",
    "plt.ylabel(\"frequencyi\")\n",
    "plt.xlabel(\"RANKi\")\n",
    "plt.yscale('log')\n",
    "plt.xscale('log')\n",
    "plt.plot(x, 1./x, 'g--', label='$r^{-\\\\alpha}$')\n",
    "for i,a in enumerate(A):\n",
    "    plt.plot(np.sort(a/np.sum(a))[::-1], c=colors[i], label = 'file') \n",
    "plt.legend(fontsize=16)\n",
    "plt.show()"
   ]
  },
  {
   "cell_type": "code",
   "execution_count": null,
   "metadata": {},
   "outputs": [],
   "source": []
  }
 ],
 "metadata": {
  "kernelspec": {
   "display_name": "Python 2",
   "language": "python",
   "name": "python2"
  },
  "language_info": {
   "codemirror_mode": {
    "name": "ipython",
    "version": 2
   },
   "file_extension": ".py",
   "mimetype": "text/x-python",
   "name": "python",
   "nbconvert_exporter": "python",
   "pygments_lexer": "ipython2",
   "version": "2.7.15"
  }
 },
 "nbformat": 4,
 "nbformat_minor": 2
}
