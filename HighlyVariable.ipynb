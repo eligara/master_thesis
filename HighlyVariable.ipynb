{
 "cells": [
  {
   "cell_type": "code",
   "execution_count": null,
   "metadata": {},
   "outputs": [],
   "source": [
    "import pandas as pd\n",
    "import scanpy as sc\n",
    "import numpy as np\n",
    "import matplotlib.pyplot as plt\n",
    "import os"
   ]
  },
  {
   "cell_type": "code",
   "execution_count": null,
   "metadata": {},
   "outputs": [],
   "source": [
    "directory=\"/Volumes/GoogleDrive/My Drive/tesi_magistrale/tesi/gtex/results/protein-coding/\"\n",
    "os.chdir(directory)"
   ]
  },
  {
   "cell_type": "code",
   "execution_count": null,
   "metadata": {},
   "outputs": [],
   "source": [
    "df = pd.read_csv(\"mainTable.csv\", index_col=0, header=0)"
   ]
  },
  {
   "cell_type": "code",
   "execution_count": null,
   "metadata": {},
   "outputs": [],
   "source": [
    "files = pd.read_csv(\"files.dat\", index_col=0, header=0)"
   ]
  },
  {
   "cell_type": "code",
   "execution_count": null,
   "metadata": {},
   "outputs": [],
   "source": [
    "genes = pd.read_csv(\"meanVariances.csv\", index_col=0, header=0).reindex(index=df.index)"
   ]
  },
  {
   "cell_type": "code",
   "execution_count": null,
   "metadata": {},
   "outputs": [],
   "source": [
    "adata = sc.AnnData(df.transpose(), obs=files, var=genes)"
   ]
  },
  {
   "cell_type": "code",
   "execution_count": null,
   "metadata": {},
   "outputs": [],
   "source": [
    "adata"
   ]
  },
  {
   "cell_type": "code",
   "execution_count": null,
   "metadata": {},
   "outputs": [],
   "source": [
    "sc.pp.log1p(adata)"
   ]
  },
  {
   "cell_type": "code",
   "execution_count": null,
   "metadata": {},
   "outputs": [],
   "source": [
    "sc.pp.highly_variable_genes(adata, n_top_genes=200)"
   ]
  },
  {
   "cell_type": "code",
   "execution_count": null,
   "metadata": {},
   "outputs": [],
   "source": [
    "HVG = adata.var[adata.var['highly_variable']==True].index\n",
    "adata.var[adata.var['highly_variable']==True]"
   ]
  },
  {
   "cell_type": "code",
   "execution_count": null,
   "metadata": {},
   "outputs": [],
   "source": [
    "x = genes['mean'].values\n",
    "y = genes['variance'].values\n",
    "cv2 = [yi/xi/xi if xi!=0 else 0 for xi, yi in zip(x,y)]\n",
    "y=np.array(cv2)\n",
    "HVx = genes[genes.index.isin(HVG)]['mean'].values\n",
    "HVy = genes[genes.index.isin(HVG)]['variance'].values\n",
    "HVcv2 = [yi/xi/xi if xi!=0 else 0 for xi, yi in zip(HVx,HVy)]\n",
    "HVy=np.array(HVcv2)\n",
    "plt.scatter(x,y)\n",
    "plt.scatter(HVx,HVy)\n",
    "plt.ylim((y[y!=0].min(),y.max()))\n",
    "plt.xlim((x[x!=0].min(),x.max()))\n",
    "plt.xscale('log')\n",
    "plt.yscale('log')\n",
    "plt.show()"
   ]
  },
  {
   "cell_type": "code",
   "execution_count": null,
   "metadata": {},
   "outputs": [],
   "source": [
    "x = adata.var['means'].values\n",
    "y = adata.var['dispersions'].values\n",
    "HVx = adata.var[adata.var['highly_variable']==True]['means'].values\n",
    "HVy = adata.var[adata.var['highly_variable']==True]['dispersions'].values\n",
    "fig=plt.figure(figsize=(20,10))\n",
    "plt.scatter(x,y, label='genes')\n",
    "plt.scatter(HVx,HVy, label='highly variable genes')\n",
    "plt.ylim((np.nanmin(y)-0.1,np.nanmax(y)))\n",
    "plt.xlim((-0.1,x.max()))\n",
    "plt.xlabel(\"Log - Mean\", fontsize=18)\n",
    "plt.ylabel(\"Log - Dispersion\", fontsize=18)\n",
    "plt.legend(fontsize=20)\n",
    "plt.show()\n",
    "fig.savefig(\"DispersionMean.pdf\")"
   ]
  },
  {
   "cell_type": "code",
   "execution_count": null,
   "metadata": {},
   "outputs": [],
   "source": [
    "x.min()"
   ]
  },
  {
   "cell_type": "code",
   "execution_count": null,
   "metadata": {},
   "outputs": [],
   "source": [
    "df.apply(lambda x: np.average(np.log(x[x!=0])), axis=1)"
   ]
  },
  {
   "cell_type": "code",
   "execution_count": null,
   "metadata": {},
   "outputs": [],
   "source": [
    "adata.var"
   ]
  },
  {
   "cell_type": "code",
   "execution_count": null,
   "metadata": {},
   "outputs": [],
   "source": [
    "HVG"
   ]
  },
  {
   "cell_type": "code",
   "execution_count": null,
   "metadata": {},
   "outputs": [],
   "source": []
  }
 ],
 "metadata": {
  "kernelspec": {
   "display_name": "Python 3",
   "language": "python",
   "name": "python3"
  },
  "language_info": {
   "codemirror_mode": {
    "name": "ipython",
    "version": 3
   },
   "file_extension": ".py",
   "mimetype": "text/x-python",
   "name": "python",
   "nbconvert_exporter": "python",
   "pygments_lexer": "ipython3",
   "version": "3.6.9"
  }
 },
 "nbformat": 4,
 "nbformat_minor": 2
}
