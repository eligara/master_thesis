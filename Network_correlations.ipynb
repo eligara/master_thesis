{
 "cells": [
  {
   "cell_type": "code",
   "execution_count": null,
   "metadata": {},
   "outputs": [],
   "source": [
    "import pandas as pd\n",
    "import networkx as nx\n",
    "import numpy as np\n",
    "from matplotlib import pyplot as plt\n",
    "import collections\n",
    "from scipy.optimize import curve_fit"
   ]
  },
  {
   "cell_type": "code",
   "execution_count": null,
   "metadata": {},
   "outputs": [],
   "source": [
    "df = pd.read_csv(\"correlations.dat\", sep='\\t', header=None)\n",
    "df.head()"
   ]
  },
  {
   "cell_type": "code",
   "execution_count": null,
   "metadata": {},
   "outputs": [],
   "source": []
  },
  {
   "cell_type": "code",
   "execution_count": null,
   "metadata": {},
   "outputs": [],
   "source": [
    "G=nx.Graph()"
   ]
  },
  {
   "cell_type": "code",
   "execution_count": null,
   "metadata": {},
   "outputs": [],
   "source": [
    "#G.add_nodes_from(np.arange(np.max(df.loc[:,1])))"
   ]
  },
  {
   "cell_type": "code",
   "execution_count": null,
   "metadata": {},
   "outputs": [],
   "source": [
    "for edge in df.loc[:,:].values:\n",
    "    #G.add_weighted_edges_from([(edge[0],edge[1],edge[2])])\n",
    "    if edge[2] > 0.01:\n",
    "        G.add_node(edge[0])\n",
    "        G.add_node(edge[1])\n",
    "        G.add_edge(edge[0],edge[1])"
   ]
  },
  {
   "cell_type": "code",
   "execution_count": null,
   "metadata": {},
   "outputs": [],
   "source": [
    "N = G.number_of_nodes()\n",
    "N"
   ]
  },
  {
   "cell_type": "code",
   "execution_count": null,
   "metadata": {},
   "outputs": [],
   "source": [
    "L = G.number_of_edges()\n",
    "L"
   ]
  },
  {
   "cell_type": "code",
   "execution_count": null,
   "metadata": {},
   "outputs": [],
   "source": [
    "N*(N-1)/2"
   ]
  },
  {
   "cell_type": "code",
   "execution_count": null,
   "metadata": {},
   "outputs": [],
   "source": [
    "options = {'node_color': 'orange', \"edge_color\":'gray', \"font_color\": 'white', \"font-family\":\"Helvetica\", \"font_size\":'20', \"font_style\":\"bold\", 'node_size': 50, 'width': 0.8, 'with_labels': False}"
   ]
  },
  {
   "cell_type": "code",
   "execution_count": null,
   "metadata": {},
   "outputs": [],
   "source": [
    "lay = nx.layout.spring_layout(G, k=0.8)"
   ]
  },
  {
   "cell_type": "code",
   "execution_count": null,
   "metadata": {},
   "outputs": [],
   "source": [
    "fig = plt.figure()\n",
    "nx.draw(G, pos=lay, **options)\n",
    "plt.show()"
   ]
  },
  {
   "cell_type": "code",
   "execution_count": null,
   "metadata": {},
   "outputs": [],
   "source": [
    "fig.savefig(\"graph.pdf\")"
   ]
  },
  {
   "cell_type": "code",
   "execution_count": null,
   "metadata": {},
   "outputs": [],
   "source": []
  },
  {
   "cell_type": "code",
   "execution_count": null,
   "metadata": {},
   "outputs": [],
   "source": []
  },
  {
   "cell_type": "code",
   "execution_count": null,
   "metadata": {},
   "outputs": [],
   "source": []
  },
  {
   "cell_type": "code",
   "execution_count": null,
   "metadata": {},
   "outputs": [],
   "source": []
  },
  {
   "cell_type": "code",
   "execution_count": null,
   "metadata": {},
   "outputs": [],
   "source": []
  },
  {
   "cell_type": "code",
   "execution_count": null,
   "metadata": {},
   "outputs": [],
   "source": [
    "degree_sequence = [d for n, d in G.degree()]  # degree sequence"
   ]
  },
  {
   "cell_type": "code",
   "execution_count": null,
   "metadata": {},
   "outputs": [],
   "source": [
    "fig = plt.figure()\n",
    "counts, bin_edges, _ = plt.hist(degree_sequence, density=True, histtype='step', bins=70)\n",
    "x=np.logspace(1, 3)\n",
    "plt.plot(x, 1./(x-0.1), 'g--')\n",
    "plt.xscale('log')\n",
    "plt.yscale('log')\n",
    "plt.title(\"Degree Histogram\")\n",
    "plt.ylabel(\"P(k)\")\n",
    "plt.xlabel(\"Degree k\")\n",
    "plt.show()"
   ]
  },
  {
   "cell_type": "code",
   "execution_count": null,
   "metadata": {},
   "outputs": [],
   "source": [
    "degree_sequence = sorted([d for n, d in G.degree()], reverse=True)  # degree sequence\n",
    "#print \"Degree sequence\", degree_sequence\n",
    "degreeCount = collections.Counter(degree_sequence)\n",
    "deg, cnt = zip(*degreeCount.items())\n",
    "fig, ax = plt.subplots()\n",
    "plt.xscale('log')\n",
    "plt.yscale('log')\n",
    "norm = np.sum(cnt)\n",
    "plt.scatter(deg, np.array(cnt,dtype=float)/norm, color='b', label='degree')\n",
    "x=np.arange(1, np.max(degree_sequence))\n",
    "#plt.plot(x, 1./(x-0.1), 'g--')\n",
    "plt.show()\n",
    "fig.savefig(\"degree_distribution.png\")"
   ]
  },
  {
   "cell_type": "code",
   "execution_count": null,
   "metadata": {},
   "outputs": [],
   "source": [
    "bin_centres = (bin_edges[:-1] + bin_edges[1:])/2.\n",
    "fig = plt.figure()\n",
    "plt.xscale('log')\n",
    "plt.yscale('log')\n",
    "norm = np.sum(cnt)\n",
    "plt.scatter(bin_centres, counts, color='b', label='degree')\n",
    "x=np.arange(10, 900)\n",
    "plt.plot(x, 1./x, 'g--')\n",
    "plt.xlabel(\"degree\", fontsize=16)\n",
    "plt.show()\n",
    "fig.savefig(\"degree_distribution.pdf\")"
   ]
  },
  {
   "cell_type": "code",
   "execution_count": null,
   "metadata": {},
   "outputs": [],
   "source": [
    "def fitfunc(x, alpha, c):\n",
    "    return np.power(x,alpha)*(10**c)"
   ]
  },
  {
   "cell_type": "code",
   "execution_count": null,
   "metadata": {},
   "outputs": [],
   "source": [
    "counts, bin_edges, _ = plt.hist(deg, weights=cnt,  histtype='step',bins=35, label='degree')\n",
    "bin_centres = (bin_edges[:-1] + bin_edges[1:])/2."
   ]
  },
  {
   "cell_type": "code",
   "execution_count": null,
   "metadata": {},
   "outputs": [],
   "source": [
    "fig = plt.figure()\n",
    "plt.scatter(bin_centres, counts, color='b', label='degree')\n",
    "x=np.arange(5, np.max(degree_sequence))\n",
    "plt.plot(x, 1./(x-0.01)*(10**3), 'g--', label='$r^{-1}$')\n",
    "popt, pcov = curve_fit(fitfunc, bin_centres[:20], counts[:20])\n",
    "plt.plot(x, fitfunc(x, *popt), 'r', label='fit of $C r^{-\\\\alpha}$')\n",
    "plt.xscale('log')\n",
    "plt.yscale('log')\n",
    "plt.title(\"Degree Histogram\")\n",
    "plt.ylabel(\"P(k)\")\n",
    "plt.xlabel(\"Degree k\")\n",
    "plt.legend()\n",
    "plt.show()"
   ]
  },
  {
   "cell_type": "code",
   "execution_count": null,
   "metadata": {},
   "outputs": [],
   "source": [
    "popt"
   ]
  },
  {
   "cell_type": "code",
   "execution_count": null,
   "metadata": {},
   "outputs": [],
   "source": [
    "fig.savefig(\"degree_distribution.pdf\")"
   ]
  },
  {
   "cell_type": "code",
   "execution_count": null,
   "metadata": {},
   "outputs": [],
   "source": []
  },
  {
   "cell_type": "code",
   "execution_count": null,
   "metadata": {},
   "outputs": [],
   "source": []
  },
  {
   "cell_type": "code",
   "execution_count": null,
   "metadata": {},
   "outputs": [],
   "source": []
  }
 ],
 "metadata": {
  "kernelspec": {
   "display_name": "Python 2",
   "language": "python",
   "name": "python2"
  },
  "language_info": {
   "codemirror_mode": {
    "name": "ipython",
    "version": 2
   },
   "file_extension": ".py",
   "mimetype": "text/x-python",
   "name": "python",
   "nbconvert_exporter": "python",
   "pygments_lexer": "ipython2",
   "version": "2.7.15"
  }
 },
 "nbformat": 4,
 "nbformat_minor": 2
}
