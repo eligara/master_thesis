{
 "cells": [
  {
   "cell_type": "code",
   "execution_count": null,
   "metadata": {},
   "outputs": [],
   "source": [
    "import pandas as pd\n",
    "import matplotlib.pyplot as plt\n",
    "import os, sys, subprocess\n",
    "%load_ext watermark"
   ]
  },
  {
   "cell_type": "code",
   "execution_count": null,
   "metadata": {},
   "outputs": [],
   "source": [
    "%watermark"
   ]
  },
  {
   "cell_type": "code",
   "execution_count": null,
   "metadata": {
    "tags": [
     "parameters"
    ]
   },
   "outputs": [],
   "source": [
    "#parameters\n",
    "workingdir = r\"/Volumes/GoogleDrive/My Drive/tesi_magistrale/tesi/gtex/hsbm/random_genes\"\n",
    "#workingdir=r\"/Volumes/GoogleDrive/My Drive/tesi_magistrale/tesi/results/hsbm/miRNA\"\n",
    "execdir = r\"/Users/filippo/Developer/tesi\"\n",
    "#dockerurl = \"cloudadm@193.144.35.220:/home/cloudadm/master_thesis/hsbm\"\n",
    "dockerurl = \"filippo.valle@c3s.unito.it:/archive/home/filippo.valle/hsbm-occam/tcgamirna\""
   ]
  },
  {
   "cell_type": "code",
   "execution_count": null,
   "metadata": {},
   "outputs": [],
   "source": [
    "os.chdir(workingdir)"
   ]
  },
  {
   "cell_type": "markdown",
   "metadata": {},
   "source": [
    "# Get the data\n",
    "[Table_creation](Table_creation.ipynb) and [GTex_table_creation](GTex_table_creation) do this for you"
   ]
  },
  {
   "cell_type": "markdown",
   "metadata": {},
   "source": [
    "# Get annotations"
   ]
  },
  {
   "cell_type": "code",
   "execution_count": null,
   "metadata": {},
   "outputs": [],
   "source": [
    "df_file=pd.read_csv(\"files.dat\", index_col=[0])\n",
    "df_file.head()"
   ]
  },
  {
   "cell_type": "code",
   "execution_count": null,
   "metadata": {},
   "outputs": [],
   "source": [
    "df_file.groupby(by='primary_site').count()"
   ]
  },
  {
   "cell_type": "code",
   "execution_count": null,
   "metadata": {},
   "outputs": [],
   "source": [
    "pc=pd.read_csv(\"%s/genes.txt\"%execdir, index_col=[0])\n",
    "pc=pc[pc['type_of_gene']=='protein-coding']\n",
    "pc.head()"
   ]
  },
  {
   "cell_type": "markdown",
   "metadata": {},
   "source": [
    "# Run statistics\n",
    "```python\n",
    "import tacos\n",
    "tacos.statistics()\n",
    "tacos.shuffleLabels()\n",
    "```\n",
    "\n",
    "CHECK **BioParameters.h** before compiling"
   ]
  },
  {
   "cell_type": "code",
   "execution_count": null,
   "metadata": {},
   "outputs": [],
   "source": [
    "os.chdir(workingdir)\n",
    "os.system(\"cp %s/tacos/master/python/addo.py .\"%execdir)\n",
    "os.system(\"cp %s/tacos/master/data_mining .\"%execdir)\n",
    "os.system(\"chmod +x data_mining\")\n",
    "os.system(\"mv mainTable_all.csv mainTable.csv\")\n",
    "os.system(\"./data_mining 0\")\n",
    "os.system(\"./data_mining 2\")\n",
    "os.system(\"python addo.py\")"
   ]
  },
  {
   "cell_type": "code",
   "execution_count": null,
   "metadata": {},
   "outputs": [],
   "source": [
    "os.system(\"./data_mining 8\")#shuffle files"
   ]
  },
  {
   "cell_type": "markdown",
   "metadata": {},
   "source": [
    "# Analyse table and select genes\n",
    "\n",
    "[Table_Analyser.ipynb](Table_Analyzer.ipynb)"
   ]
  },
  {
   "cell_type": "code",
   "execution_count": null,
   "metadata": {},
   "outputs": [],
   "source": [
    "os.chdir(execdir)\n",
    "from tableanalyser import scalinglawsandoverexpressed"
   ]
  },
  {
   "cell_type": "code",
   "execution_count": null,
   "metadata": {},
   "outputs": [],
   "source": [
    "scalinglawsandoverexpressed(workingdir)"
   ]
  },
  {
   "cell_type": "code",
   "execution_count": null,
   "metadata": {},
   "outputs": [],
   "source": [
    "os.chdir(workingdir)\n",
    "os.system(\"mv mainTable.csv mainTable_all.csv\")\n",
    "os.system(\"mv mainTable_over.csv mainTable.csv\")"
   ]
  },
  {
   "cell_type": "markdown",
   "metadata": {},
   "source": [
    "# Make bipartite network\n",
    "```bash\n",
    "python addo.py\n",
    "```\n",
    "```python\n",
    "import tacos\n",
    "tacos.makegraph()\n",
    "```"
   ]
  },
  {
   "cell_type": "code",
   "execution_count": null,
   "metadata": {},
   "outputs": [],
   "source": [
    "os.chdir(workingdir)\n",
    "os.system(\"./data_mining 0\")\n",
    "os.system(\"./data_mining 2\")\n",
    "os.system(\"python addo.py\")\n",
    "os.system(\"./data_mining 7\")"
   ]
  },
  {
   "cell_type": "code",
   "execution_count": null,
   "metadata": {},
   "outputs": [],
   "source": [
    "os.system(\"scp graph.xml.gz %s/.\"%dockerurl)"
   ]
  },
  {
   "cell_type": "markdown",
   "metadata": {},
   "source": [
    "[hSBM.ipynb]()"
   ]
  },
  {
   "cell_type": "markdown",
   "metadata": {},
   "source": [
    "# Run stochastic block model\n",
    "```\n",
    "docker run -it -d -v $PWD:/home/filippo fvalle01/hsbm\n",
    "```\n",
    "\n",
    "download the data"
   ]
  },
  {
   "cell_type": "code",
   "execution_count": null,
   "metadata": {},
   "outputs": [],
   "source": [
    "os.chdir(workingdir)\n",
    "os.system(\"mkdir -p topsbm\")\n",
    "os.system(\"scp %s/* topsbm/.\"%dockerurl)"
   ]
  },
  {
   "cell_type": "markdown",
   "metadata": {},
   "source": [
    "# Run cluster analysis"
   ]
  },
  {
   "cell_type": "code",
   "execution_count": null,
   "metadata": {},
   "outputs": [],
   "source": [
    "os.chdir(execdir)\n",
    "from hsbmpy import clusteranalysis, get_scores, add_score_lines, getclustersizesarray\n",
    "#geneontology"
   ]
  },
  {
   "cell_type": "code",
   "execution_count": null,
   "metadata": {},
   "outputs": [],
   "source": [
    "os.chdir(execdir)\n",
    "import hsbmpy, importlib\n",
    "importlib.reload(hsbmpy)\n",
    "from hsbmpy import clusteranalysis, get_scores, add_score_lines, getclustersizesarray\n",
    "os.chdir(workingdir)"
   ]
  },
  {
   "cell_type": "code",
   "execution_count": null,
   "metadata": {},
   "outputs": [],
   "source": [
    "labels = df_file.columns\n",
    "clusteranalysis(workingdir, labels, l=3)"
   ]
  },
  {
   "cell_type": "code",
   "execution_count": null,
   "metadata": {},
   "outputs": [],
   "source": [
    "scores = get_scores(workingdir,labels, l=3, verbose=False)\n",
    "fig=plt.figure(figsize=(12,8))\n",
    "ax = fig.subplots(1)\n",
    "add_score_lines(ax,scores,labels=[k for k in scores.keys()],xl=getclustersizesarray(workingdir,l=3))\n",
    "plt.show()\n",
    "fig.savefig(\"%s/metric.pdf\"%(workingdir))"
   ]
  },
  {
   "cell_type": "code",
   "execution_count": null,
   "metadata": {},
   "outputs": [],
   "source": [
    "geneontology.topicanalysis()"
   ]
  },
  {
   "cell_type": "markdown",
   "metadata": {},
   "source": [
    "# Clean"
   ]
  },
  {
   "cell_type": "code",
   "execution_count": null,
   "metadata": {},
   "outputs": [],
   "source": [
    "os.chdir(workingdir)\n",
    "os.system(\"rm -rf data_mining addo.py\")"
   ]
  },
  {
   "cell_type": "code",
   "execution_count": null,
   "metadata": {},
   "outputs": [],
   "source": []
  }
 ],
 "metadata": {
  "kernelspec": {
   "display_name": "Python 3",
   "language": "python",
   "name": "python3"
  },
  "language_info": {
   "codemirror_mode": {
    "name": "ipython",
    "version": 3
   },
   "file_extension": ".py",
   "mimetype": "text/x-python",
   "name": "python",
   "nbconvert_exporter": "python",
   "pygments_lexer": "ipython3",
   "version": "3.6.9"
  }
 },
 "nbformat": 4,
 "nbformat_minor": 2
}
