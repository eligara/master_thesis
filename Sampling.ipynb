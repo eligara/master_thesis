{
 "cells": [
  {
   "cell_type": "code",
   "execution_count": null,
   "metadata": {},
   "outputs": [],
   "source": [
    "import pandas as pd\n",
    "import numpy as np\n",
    "from matplotlib import pyplot as plt"
   ]
  },
  {
   "cell_type": "code",
   "execution_count": null,
   "metadata": {},
   "outputs": [],
   "source": [
    "a_df = pd.read_csv(\"A.dat\",header=None, index_col=None)\n",
    "vs_df = pd.read_csv(\"vocabulary_size.dat\",header=None, index_col=None)"
   ]
  },
  {
   "cell_type": "code",
   "execution_count": null,
   "metadata": {},
   "outputs": [],
   "source": [
    "#vs = vs_df.values.T[0]\n",
    "#name='tcga [$<>=%.0f$, $\\sigma=%.0f$]'%(np.average(vs),np.std(vs))\n",
    "#vs=np.random.uniform(9e7,2e8, size=50)\n",
    "#name='uniform [9e7,2e8]'\n",
    "vs = [x for x in np.random.normal(5.3e7,17e6,size=100) if x > 0]\n",
    "name = 'gaus [$<>=5.3e7$, $\\sigma=17e6$]'"
   ]
  },
  {
   "cell_type": "code",
   "execution_count": null,
   "metadata": {},
   "outputs": [],
   "source": [
    "A = a_df.values.T[0]\n",
    "A = A/np.sum(A)\n",
    "A = np.sort(A)[::-1]\n",
    "plt.plot(A)\n",
    "plt.xscale('log')\n",
    "plt.yscale('log')"
   ]
  },
  {
   "cell_type": "code",
   "execution_count": null,
   "metadata": {},
   "outputs": [],
   "source": [
    "fig = plt.figure()\n",
    "plt.hist(vs, range=(np.min(vs),np.max(vs)))\n",
    "plt.title(name, fontsize=18)\n",
    "plt.xlabel(\"$N_s=\\Sigma_in_{iS}$\", fontsize=16)\n",
    "plt.show()\n",
    "fig.savefig(\"distr_%s.pdf\"%name)"
   ]
  },
  {
   "cell_type": "code",
   "execution_count": null,
   "metadata": {},
   "outputs": [],
   "source": [
    "samples = []\n",
    "for sample in vs[:100]:\n",
    "    samples.append(np.random.multinomial(sample,A))\n",
    "samples=np.array(samples).T"
   ]
  },
  {
   "cell_type": "code",
   "execution_count": null,
   "metadata": {},
   "outputs": [],
   "source": [
    "means=[]\n",
    "variances=[]\n",
    "for sample in samples:\n",
    "    means.append(np.average(sample))\n",
    "    variances.append(np.var(sample))\n",
    "means=np.array(means)\n",
    "variances=np.array(variances)"
   ]
  },
  {
   "cell_type": "code",
   "execution_count": null,
   "metadata": {},
   "outputs": [],
   "source": [
    "max_x = means.max()\n",
    "min_x = means[means.nonzero()].min()\n",
    "x=np.arange(max_x,min_x,(max_x-min_x)/1000)"
   ]
  },
  {
   "cell_type": "code",
   "execution_count": null,
   "metadata": {},
   "outputs": [],
   "source": [
    "fig = plt.figure()\n",
    "plt.scatter(means,variances)\n",
    "plt.plot(x,x)\n",
    "plt.plot(x,np.power(x,2))\n",
    "plt.title(name, fontsize=18)\n",
    "plt.xlabel('<>',fontsize=18)\n",
    "plt.ylabel('$\\sigma^2$',fontsize=18)\n",
    "plt.xscale('log')\n",
    "plt.yscale('log')\n",
    "plt.xlim(means[means.nonzero()].min(),means.max())\n",
    "plt.ylim(variances[variances.nonzero()].min(),variances.max())\n",
    "plt.show()\n",
    "fig.savefig(\"sigmaMean_%s.pdf\"%name)"
   ]
  },
  {
   "cell_type": "code",
   "execution_count": null,
   "metadata": {},
   "outputs": [],
   "source": [
    "cv2=np.array([variance/(means[i]*means[i]) if means[i]!=0 else 0 for i, variance in enumerate(variances)])"
   ]
  },
  {
   "cell_type": "code",
   "execution_count": null,
   "metadata": {},
   "outputs": [],
   "source": [
    "fig=plt.figure()\n",
    "plt.scatter(means,cv2)\n",
    "plt.plot(x,1./x)\n",
    "plt.plot(x,[1 for _ in x])\n",
    "plt.xlabel('<>',fontsize=18)\n",
    "plt.ylabel('$CV^2=\\sigma^2/<>^2$',fontsize=18)\n",
    "plt.xscale('log')\n",
    "plt.yscale('log')\n",
    "plt.xlim(means[means.nonzero()].min(),means.max())\n",
    "plt.ylim(cv2[cv2.nonzero()].min(),cv2.max())\n",
    "plt.title(name, fontsize=18)\n",
    "plt.show()\n",
    "fig.savefig(\"CV2mean_%s.pdf\"%name)"
   ]
  },
  {
   "cell_type": "code",
   "execution_count": null,
   "metadata": {},
   "outputs": [],
   "source": [
    "cv2[cv2.nonzero()].min()"
   ]
  },
  {
   "cell_type": "code",
   "execution_count": null,
   "metadata": {},
   "outputs": [],
   "source": [
    "from scipy.stats import mode\n",
    "mode(cv2[cv2.nonzero()])"
   ]
  },
  {
   "cell_type": "code",
   "execution_count": null,
   "metadata": {},
   "outputs": [],
   "source": []
  },
  {
   "cell_type": "code",
   "execution_count": null,
   "metadata": {},
   "outputs": [],
   "source": []
  },
  {
   "cell_type": "code",
   "execution_count": null,
   "metadata": {},
   "outputs": [],
   "source": [
    "sigmaCV_min=np.array([\n",
    "    [5e-1, 1e2, 1e3, 1e4, 1e5, 5e5, 1e6, 5e6, 1e7, 1.7e7, 5e7, 1e8, 5e8, 1e10, 5e10, 1e12, 5e15],\n",
    "                      [1.37e-6,1.29e-6,1.32e-6,1.36e-6,5.4e-6,6.9e-5,3.5e-4,9e-3,3.2e-2,0.09,0.32,0.34,0.61,0.39,0.53,0.41,0.45]\n",
    "])"
   ]
  },
  {
   "cell_type": "code",
   "execution_count": null,
   "metadata": {},
   "outputs": [],
   "source": [
    "fig=plt.figure()\n",
    "plt.scatter(sigmaCV_min[0],sigmaCV_min[1])\n",
    "plt.scatter(17e6,9e-2, lw=5)\n",
    "plt.plot([17e6 for _ in range(10)], np.logspace(-7,0,10), 'r--')\n",
    "plt.plot(np.logspace(0,12,10), [0.09 for _ in range(10)], 'r--')\n",
    "plt.xscale('log')\n",
    "plt.yscale('log')\n",
    "plt.xlabel('$\\sigma_N{_s}$', fontsize=16)\n",
    "plt.ylabel('$CV^2$ min', fontsize=16)\n",
    "plt.xlim(sigmaCV_min[0][sigmaCV_min[0].nonzero()].min()/10,sigmaCV_min[0].max()/10)\n",
    "plt.ylim(sigmaCV_min[1][sigmaCV_min[1].nonzero()].min()/10,sigmaCV_min[1].max()*10)\n",
    "plt.show()\n",
    "fig.savefig(\"CV_sigmagauss.pdf\")"
   ]
  },
  {
   "cell_type": "code",
   "execution_count": null,
   "metadata": {},
   "outputs": [],
   "source": []
  },
  {
   "cell_type": "code",
   "execution_count": null,
   "metadata": {},
   "outputs": [],
   "source": []
  }
 ],
 "metadata": {
  "kernelspec": {
   "display_name": "Python 2",
   "language": "python",
   "name": "python2"
  },
  "language_info": {
   "codemirror_mode": {
    "name": "ipython",
    "version": 2
   },
   "file_extension": ".py",
   "mimetype": "text/x-python",
   "name": "python",
   "nbconvert_exporter": "python",
   "pygments_lexer": "ipython2",
   "version": "2.7.15"
  }
 },
 "nbformat": 4,
 "nbformat_minor": 2
}
