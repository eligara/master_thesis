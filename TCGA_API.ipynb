{
 "cells": [
  {
   "cell_type": "code",
   "execution_count": 1,
   "metadata": {},
   "outputs": [],
   "source": [
    "import requests as rq"
   ]
  },
  {
   "cell_type": "markdown",
   "metadata": {},
   "source": [
    "# Schemas\n",
    "\n",
    "See https://docs.gdc.cancer.gov/API/Users_Guide/Submission/#gdc-data-dictionary-endpoints for details"
   ]
  },
  {
   "cell_type": "code",
   "execution_count": 2,
   "metadata": {},
   "outputs": [],
   "source": [
    "endpoints = rq.get('https://api.gdc.cancer.gov/v0/submission/_dictionary/case')\n",
    "endpoints_response = endpoints.json()"
   ]
  },
  {
   "cell_type": "code",
   "execution_count": 3,
   "metadata": {},
   "outputs": [
    {
     "data": {
      "text/plain": [
       "dict_keys(['$schema', 'additionalProperties', 'category', 'description', 'downloadable', 'id', 'links', 'namespace', 'previous_version_downloadable', 'program', 'project', 'properties', 'required', 'submittable', 'systemProperties', 'title', 'type', 'uniqueKeys', 'validators'])"
      ]
     },
     "execution_count": 3,
     "metadata": {},
     "output_type": "execute_result"
    }
   ],
   "source": [
    "endpoints_response.keys()"
   ]
  },
  {
   "cell_type": "code",
   "execution_count": 4,
   "metadata": {},
   "outputs": [
    {
     "data": {
      "text/plain": [
       "dict_keys(['batch_id', 'created_datetime', 'days_to_lost_to_followup', 'disease_type', 'id', 'index_date', 'lost_to_followup', 'primary_site', 'project_id', 'projects', 'state', 'submitter_id', 'tissue_source_sites', 'type', 'updated_datetime'])"
      ]
     },
     "execution_count": 4,
     "metadata": {},
     "output_type": "execute_result"
    }
   ],
   "source": [
    "endpoints_response['properties'].keys()"
   ]
  },
  {
   "cell_type": "code",
   "execution_count": 5,
   "metadata": {},
   "outputs": [
    {
     "name": "stdout",
     "output_type": "stream",
     "text": [
      "disease types [deprecated enum]: 45\n",
      "disease types: 103\n",
      "case id: {'pattern': '^[a-fA-F0-9]{8}-[a-fA-F0-9]{4}-[a-fA-F0-9]{4}-[a-fA-F0-9]{4}-[a-fA-F0-9]{12}$', 'systemAlias': 'node_id', 'term': {'description': 'A 128-bit identifier. Depending on the mechanism used to generate it, it is either guaranteed to be different from all other UUIDs/GUIDs generated until 3400 AD or extremely likely to be different. Its relatively small size lends itself well to sorting, ordering, and hashing of all sorts, storing in databases, simple allocation, and ease of programming in general.\\n', 'termDef': {'cde_id': 'C54100', 'cde_version': None, 'source': 'NCIt', 'term': 'Universally Unique Identifier', 'term_url': 'https://ncit.nci.nih.gov/ncitbrowser/ConceptReport.jsp?dictionary=NCI_Thesaurus&version=16.02d&ns=NCI_Thesaurus&code=C54100'}}, 'type': 'string'}\n"
     ]
    }
   ],
   "source": [
    "dis_type = endpoints_response['properties']['disease_type']\n",
    "print(\"disease types [deprecated enum]: %d\"%len(dis_type['deprecated_enum']))\n",
    "print(\"disease types: %d\"%len(dis_type['enum']))\n",
    "print(\"case id: %s\"%endpoints_response['properties']['id'])"
   ]
  },
  {
   "cell_type": "code",
   "execution_count": 6,
   "metadata": {},
   "outputs": [
    {
     "name": "stdout",
     "output_type": "stream",
     "text": [
      "primary sites [deprecated enum]: 19\n",
      "primary sites: 90\n"
     ]
    }
   ],
   "source": [
    "psite = endpoints_response['properties']['primary_site']\n",
    "print(\"primary sites [deprecated enum]: %d\"%len(psite['deprecated_enum']))\n",
    "print(\"primary sites: %d\"%len(psite['enum']))"
   ]
  },
  {
   "cell_type": "code",
   "execution_count": null,
   "metadata": {},
   "outputs": [],
   "source": []
  }
 ],
 "metadata": {
  "kernelspec": {
   "display_name": "Python 3",
   "language": "python",
   "name": "python3"
  },
  "language_info": {
   "codemirror_mode": {
    "name": "ipython",
    "version": 3
   },
   "file_extension": ".py",
   "mimetype": "text/x-python",
   "name": "python",
   "nbconvert_exporter": "python",
   "pygments_lexer": "ipython3",
   "version": "3.6.8"
  }
 },
 "nbformat": 4,
 "nbformat_minor": 2
}
