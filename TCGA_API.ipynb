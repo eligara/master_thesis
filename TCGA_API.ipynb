{
 "cells": [
  {
   "cell_type": "code",
   "execution_count": 1,
   "metadata": {},
   "outputs": [],
   "source": [
    "import requests as rq"
   ]
  },
  {
   "cell_type": "markdown",
   "metadata": {},
   "source": [
    "# Schemas\n",
    "\n",
    "See https://docs.gdc.cancer.gov/API/Users_Guide/Submission/#gdc-data-dictionary-endpoints for details"
   ]
  },
  {
   "cell_type": "code",
   "execution_count": 2,
   "metadata": {},
   "outputs": [],
   "source": [
    "endpoints = rq.get('https://api.gdc.cancer.gov/v0/submission/_dictionary/case')\n",
    "endpoints_response = endpoints.json()"
   ]
  },
  {
   "cell_type": "code",
   "execution_count": 3,
   "metadata": {},
   "outputs": [
    {
     "data": {
      "text/plain": [
       "dict_keys(['$schema', 'additionalProperties', 'category', 'description', 'downloadable', 'id', 'links', 'namespace', 'previous_version_downloadable', 'program', 'project', 'properties', 'required', 'submittable', 'systemProperties', 'title', 'type', 'uniqueKeys', 'validators'])"
      ]
     },
     "execution_count": 3,
     "metadata": {},
     "output_type": "execute_result"
    }
   ],
   "source": [
    "endpoints_response.keys()"
   ]
  },
  {
   "cell_type": "code",
   "execution_count": 4,
   "metadata": {},
   "outputs": [
    {
     "data": {
      "text/plain": [
       "dict_keys(['batch_id', 'created_datetime', 'days_to_lost_to_followup', 'disease_type', 'id', 'index_date', 'lost_to_followup', 'primary_site', 'project_id', 'projects', 'state', 'submitter_id', 'tissue_source_sites', 'type', 'updated_datetime'])"
      ]
     },
     "execution_count": 4,
     "metadata": {},
     "output_type": "execute_result"
    }
   ],
   "source": [
    "endpoints_response['properties'].keys()"
   ]
  },
  {
   "cell_type": "code",
   "execution_count": 5,
   "metadata": {},
   "outputs": [
    {
     "name": "stdout",
     "output_type": "stream",
     "text": [
      "disease types [deprecated enum]: 44\n",
      "disease types: 103\n",
      "case id: {'pattern': '^[a-fA-F0-9]{8}-[a-fA-F0-9]{4}-[a-fA-F0-9]{4}-[a-fA-F0-9]{4}-[a-fA-F0-9]{12}$', 'systemAlias': 'node_id', 'term': {'description': 'A 128-bit identifier. Depending on the mechanism used to generate it, it is either guaranteed to be different from all other UUIDs/GUIDs generated until 3400 AD or extremely likely to be different. Its relatively small size lends itself well to sorting, ordering, and hashing of all sorts, storing in databases, simple allocation, and ease of programming in general.\\n', 'termDef': {'cde_id': 'C54100', 'cde_version': None, 'source': 'NCIt', 'term': 'Universally Unique Identifier', 'term_url': 'https://ncit.nci.nih.gov/ncitbrowser/ConceptReport.jsp?dictionary=NCI_Thesaurus&version=16.02d&ns=NCI_Thesaurus&code=C54100'}}, 'type': 'string'}\n"
     ]
    }
   ],
   "source": [
    "dis_type = endpoints_response['properties']['disease_type']\n",
    "print(\"disease types [deprecated enum]: %d\"%len(dis_type['deprecated_enum']))\n",
    "print(\"disease types: %d\"%len(dis_type['enum']))\n",
    "print(\"case id: %s\"%endpoints_response['properties']['id'])"
   ]
  },
  {
   "cell_type": "code",
   "execution_count": 6,
   "metadata": {},
   "outputs": [
    {
     "name": "stdout",
     "output_type": "stream",
     "text": [
      "primary sites [deprecated enum]: 19\n",
      "primary sites: 90\n"
     ]
    }
   ],
   "source": [
    "psite = endpoints_response['properties']['primary_site']\n",
    "print(\"primary sites [deprecated enum]: %d\"%len(psite['deprecated_enum']))\n",
    "print(\"primary sites: %d\"%len(psite['enum']))"
   ]
  },
  {
   "cell_type": "code",
   "execution_count": 7,
   "metadata": {},
   "outputs": [
    {
     "data": {
      "text/plain": [
       "{'deprecated_enum': ['Adrenal Gland',\n",
       "  'Bile Duct',\n",
       "  'Blood',\n",
       "  'Bone',\n",
       "  'Bone Marrow',\n",
       "  'Cervix',\n",
       "  'Colorectal',\n",
       "  'Eye',\n",
       "  'Head and Neck',\n",
       "  'Liver',\n",
       "  'Lung',\n",
       "  'Lymph Nodes',\n",
       "  'Nervous System',\n",
       "  'Not Applicable',\n",
       "  'Pleura',\n",
       "  'Prostate',\n",
       "  'Soft Tissue',\n",
       "  'Thyroid',\n",
       "  'Uterus'],\n",
       " 'enum': ['Accessory sinuses',\n",
       "  'Adrenal gland',\n",
       "  'Anus and anal canal',\n",
       "  'Base of tongue',\n",
       "  'Bladder',\n",
       "  'Bones, joints and articular cartilage of limbs',\n",
       "  'Bones, joints and articular cartilage of other and unspecified sites',\n",
       "  'Brain',\n",
       "  'Breast',\n",
       "  'Bronchus and lung',\n",
       "  'Cervix uteri',\n",
       "  'Colon',\n",
       "  'Connective, subcutaneous and other soft tissues',\n",
       "  'Corpus uteri',\n",
       "  'Esophagus',\n",
       "  'Eye and adnexa',\n",
       "  'Floor of mouth',\n",
       "  'Gallbladder',\n",
       "  'Gum',\n",
       "  'Heart, mediastinum, and pleura',\n",
       "  'Hematopoietic and reticuloendothelial systems',\n",
       "  'Hypopharynx',\n",
       "  'Kidney',\n",
       "  'Larynx',\n",
       "  'Lip',\n",
       "  'Liver and intrahepatic bile ducts',\n",
       "  'Lymph nodes',\n",
       "  'Meninges',\n",
       "  'Nasal cavity and middle ear',\n",
       "  'Nasopharynx',\n",
       "  'Oropharynx',\n",
       "  'Other and ill-defined digestive organs',\n",
       "  'Other and ill-defined sites',\n",
       "  'Other and ill-defined sites in lip, oral cavity and pharynx',\n",
       "  'Other and ill-defined sites within respiratory system and intrathoracic organs',\n",
       "  'Other and unspecified female genital organs',\n",
       "  'Other and unspecified major salivary glands',\n",
       "  'Other and unspecified male genital organs',\n",
       "  'Other and unspecified parts of biliary tract',\n",
       "  'Other and unspecified parts of mouth',\n",
       "  'Other and unspecified parts of tongue',\n",
       "  'Other and unspecified urinary organs',\n",
       "  'Other endocrine glands and related structures',\n",
       "  'Ovary',\n",
       "  'Palate',\n",
       "  'Pancreas',\n",
       "  'Parotid gland',\n",
       "  'Penis',\n",
       "  'Peripheral nerves and autonomic nervous system',\n",
       "  'Placenta',\n",
       "  'Prostate gland',\n",
       "  'Pyriform sinus',\n",
       "  'Rectosigmoid junction',\n",
       "  'Rectum',\n",
       "  'Renal pelvis',\n",
       "  'Retroperitoneum and peritoneum',\n",
       "  'Skin',\n",
       "  'Small intestine',\n",
       "  'Spinal cord, cranial nerves, and other parts of central nervous system',\n",
       "  'Stomach',\n",
       "  'Testis',\n",
       "  'Thymus',\n",
       "  'Thyroid gland',\n",
       "  'Tonsil',\n",
       "  'Trachea',\n",
       "  'Ureter',\n",
       "  'Uterus, NOS',\n",
       "  'Vagina',\n",
       "  'Vulva',\n",
       "  'Unknown',\n",
       "  'Not Reported',\n",
       "  'Adrenal Gland',\n",
       "  'Bile Duct',\n",
       "  'Blood',\n",
       "  'Bone',\n",
       "  'Bone Marrow',\n",
       "  'Cervix',\n",
       "  'Colorectal',\n",
       "  'Eye',\n",
       "  'Head and Neck',\n",
       "  'Liver',\n",
       "  'Lung',\n",
       "  'Lymph Nodes',\n",
       "  'Nervous System',\n",
       "  'Not Applicable',\n",
       "  'Pleura',\n",
       "  'Prostate',\n",
       "  'Soft Tissue',\n",
       "  'Thyroid',\n",
       "  'Uterus'],\n",
       " 'term': {'description': \"The text term used to describe the primary site of disease, as categorized by the World Health Organization's (WHO) International Classification of Diseases for Oncology (ICD-O). This categorization groups cases into general categories. Reference tissue_or_organ_of_origin on the diagnosis node for more specific primary sites of disease.\\n\",\n",
       "  'termDef': {'cde_id': 6161019,\n",
       "   'cde_version': 1.0,\n",
       "   'source': 'caDSR',\n",
       "   'term': 'ICD-O Primary Anatomic Site Category',\n",
       "   'term_url': 'https://cdebrowser.nci.nih.gov/cdebrowserClient/cdeBrowser.html#/search?publicId=6161019&version=1.0'}}}"
      ]
     },
     "execution_count": 7,
     "metadata": {},
     "output_type": "execute_result"
    }
   ],
   "source": [
    "psite"
   ]
  },
  {
   "cell_type": "code",
   "execution_count": null,
   "metadata": {},
   "outputs": [],
   "source": []
  }
 ],
 "metadata": {
  "kernelspec": {
   "display_name": "Python 3",
   "language": "python",
   "name": "python3"
  },
  "language_info": {
   "codemirror_mode": {
    "name": "ipython",
    "version": 3
   },
   "file_extension": ".py",
   "mimetype": "text/x-python",
   "name": "python",
   "nbconvert_exporter": "python",
   "pygments_lexer": "ipython3",
   "version": "3.6.9"
  }
 },
 "nbformat": 4,
 "nbformat_minor": 2
}
