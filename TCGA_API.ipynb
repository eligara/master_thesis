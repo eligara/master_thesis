{
 "cells": [
  {
   "cell_type": "code",
   "execution_count": 1,
   "metadata": {},
   "outputs": [],
   "source": [
    "import requests\n",
    "import json\n",
    "import pandas as pd"
   ]
  },
  {
   "cell_type": "code",
   "execution_count": 2,
   "metadata": {},
   "outputs": [],
   "source": [
    "cases_endpt = 'https://api.gdc.cancer.gov/cases'"
   ]
  },
  {
   "cell_type": "code",
   "execution_count": 24,
   "metadata": {},
   "outputs": [],
   "source": [
    "fields = [\n",
    "    \"submitter_id\",\n",
    "    \"case_id\",\n",
    "    \"primary_site\",\n",
    "    \"disease_type\",\n",
    "    \"diagnoses.vital_status\",\n",
    "    \"diagnoses.tumor_stage\",\n",
    "    \"diagnoses.tumor_grade\",\n",
    "    #\"files.data_category\"\n",
    "    ]\n",
    "\n",
    "fields = ','.join(fields)"
   ]
  },
  {
   "cell_type": "code",
   "execution_count": 25,
   "metadata": {},
   "outputs": [],
   "source": [
    "filters = {\n",
    "    \"op\": \"in\",\n",
    "    \"content\":{\n",
    "        \"field\": \"case_id\",\n",
    "        \"value\": [\"ac3582a9-46b1-4322-95fa-9e8b149b8044\"]\n",
    "        }\n",
    "    }"
   ]
  },
  {
   "cell_type": "code",
   "execution_count": 26,
   "metadata": {},
   "outputs": [],
   "source": [
    "params = {\n",
    "    \"fields\": fields,\n",
    "    \"format\": \"TSV\",\n",
    "    \"size\": \"1\"\n",
    "    }"
   ]
  },
  {
   "cell_type": "code",
   "execution_count": 27,
   "metadata": {},
   "outputs": [
    {
     "name": "stdout",
     "output_type": "stream",
     "text": [
      "disease_type\tdiagnoses.0.vital_status\tsubmitter_id\tcase_id\tprimary_site\tdiagnoses.0.tumor_grade\tdiagnoses.0.tumor_stage\tid\r\n",
      "Gliomas\tdead\tTCGA-06-1084\tac3582a9-46b1-4322-95fa-9e8b149b8044\tBrain\tnot reported\tnot reported\tac3582a9-46b1-4322-95fa-9e8b149b8044\r\n",
      "\n"
     ]
    }
   ],
   "source": [
    "response = requests.get(cases_endpt, params = params)\n",
    "\n",
    "print(response.content.decode(\"utf-8\"))"
   ]
  },
  {
   "cell_type": "code",
   "execution_count": null,
   "metadata": {},
   "outputs": [],
   "source": []
  },
  {
   "cell_type": "code",
   "execution_count": null,
   "metadata": {},
   "outputs": [],
   "source": []
  }
 ],
 "metadata": {
  "kernelspec": {
   "display_name": "Python 2",
   "language": "python",
   "name": "python2"
  },
  "language_info": {
   "codemirror_mode": {
    "name": "ipython",
    "version": 2
   },
   "file_extension": ".py",
   "mimetype": "text/x-python",
   "name": "python",
   "nbconvert_exporter": "python",
   "pygments_lexer": "ipython2",
   "version": "2.7.15"
  }
 },
 "nbformat": 4,
 "nbformat_minor": 2
}
