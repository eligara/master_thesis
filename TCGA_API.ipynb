{
 "cells": [
  {
   "cell_type": "code",
   "execution_count": 1,
   "metadata": {},
   "outputs": [],
   "source": [
    "import requests as rq"
   ]
  },
  {
   "cell_type": "markdown",
   "metadata": {},
   "source": [
    "# Schemas\n",
    "\n",
    "See https://docs.gdc.cancer.gov/API/Users_Guide/Submission/#gdc-data-dictionary-endpoints for details"
   ]
  },
  {
   "cell_type": "code",
   "execution_count": 3,
   "metadata": {},
   "outputs": [],
   "source": [
    "endpoints = rq.get('https://api.gdc.cancer.gov/v0/submission/_dictionary/case')\n",
    "endpoints_response = endpoints.json()"
   ]
  },
  {
   "cell_type": "code",
   "execution_count": 4,
   "metadata": {},
   "outputs": [
    {
     "data": {
      "text/plain": [
       "[u'category',\n",
       " u'uniqueKeys',\n",
       " u'description',\n",
       " u'links',\n",
       " u'title',\n",
       " u'systemProperties',\n",
       " u'required',\n",
       " u'namespace',\n",
       " u'properties',\n",
       " u'project',\n",
       " u'previous_version_downloadable',\n",
       " u'program',\n",
       " u'downloadable',\n",
       " u'validators',\n",
       " u'additionalProperties',\n",
       " u'$schema',\n",
       " u'submittable',\n",
       " u'type',\n",
       " u'id']"
      ]
     },
     "execution_count": 4,
     "metadata": {},
     "output_type": "execute_result"
    }
   ],
   "source": [
    "endpoints_response.keys()"
   ]
  },
  {
   "cell_type": "code",
   "execution_count": 5,
   "metadata": {},
   "outputs": [
    {
     "data": {
      "text/plain": [
       "[u'disease_type',\n",
       " u'tissue_source_sites',\n",
       " u'updated_datetime',\n",
       " u'created_datetime',\n",
       " u'index_date',\n",
       " u'days_to_lost_to_followup',\n",
       " u'lost_to_followup',\n",
       " u'state',\n",
       " u'primary_site',\n",
       " u'submitter_id',\n",
       " u'batch_id',\n",
       " u'project_id',\n",
       " u'type',\n",
       " u'id',\n",
       " u'projects']"
      ]
     },
     "execution_count": 5,
     "metadata": {},
     "output_type": "execute_result"
    }
   ],
   "source": [
    "endpoints_response['properties'].keys()"
   ]
  },
  {
   "cell_type": "code",
   "execution_count": 6,
   "metadata": {},
   "outputs": [
    {
     "name": "stdout",
     "output_type": "stream",
     "text": [
      "disease types [deprecated enum]: 45\n",
      "disease types: 103\n"
     ]
    }
   ],
   "source": [
    "dis_type = endpoints_response['properties']['disease_type']\n",
    "print(\"disease types [deprecated enum]: %d\"%len(dis_type['deprecated_enum']))\n",
    "print(\"disease types: %d\"%len(dis_type['enum']))"
   ]
  },
  {
   "cell_type": "code",
   "execution_count": 7,
   "metadata": {},
   "outputs": [
    {
     "name": "stdout",
     "output_type": "stream",
     "text": [
      "primary sites [deprecated enum]: 19\n",
      "primary sites: 90\n"
     ]
    }
   ],
   "source": [
    "psite = endpoints_response['properties']['primary_site']\n",
    "print(\"primary sites [deprecated enum]: %d\"%len(psite['deprecated_enum']))\n",
    "print(\"primary sites: %d\"%len(psite['enum']))"
   ]
  },
  {
   "cell_type": "code",
   "execution_count": null,
   "metadata": {},
   "outputs": [],
   "source": []
  }
 ],
 "metadata": {
  "kernelspec": {
   "display_name": "Python 2",
   "language": "python",
   "name": "python2"
  },
  "language_info": {
   "codemirror_mode": {
    "name": "ipython",
    "version": 2
   },
   "file_extension": ".py",
   "mimetype": "text/x-python",
   "name": "python",
   "nbconvert_exporter": "python",
   "pygments_lexer": "ipython2",
   "version": "2.7.15"
  }
 },
 "nbformat": 4,
 "nbformat_minor": 2
}
