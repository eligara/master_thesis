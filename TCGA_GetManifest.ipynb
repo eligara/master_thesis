{
 "cells": [
  {
   "cell_type": "code",
   "execution_count": null,
   "metadata": {},
   "outputs": [],
   "source": [
    "import requests\n",
    "import json\n",
    "import pandas as pd"
   ]
  },
  {
   "cell_type": "code",
   "execution_count": null,
   "metadata": {},
   "outputs": [],
   "source": [
    "files_endpt = \"https://api.gdc.cancer.gov/files\"\n",
    "\n",
    "# The 'fields' parameter is passed as a comma-separated string of single names.\n",
    "fields = [\n",
    "    \"file_name\",\n",
    "    #\"analysis.workflow_type\",\n",
    "    #\"experimental_strategy\",\n",
    "    \"cases.project.primary_site\",\n",
    "    \"cases.project.disease_type\",\n",
    "    #\"cases.project.project_id\"\n",
    "]\n",
    "\n",
    "fields = ','.join(fields)"
   ]
  },
  {
   "cell_type": "code",
   "execution_count": null,
   "metadata": {},
   "outputs": [],
   "source": [
    "#miRNA filters\n",
    "filters = {\n",
    "    \"op\": \"and\",\n",
    "    \"content\":[\n",
    "        {\n",
    "        \"op\": \"in\",\n",
    "        \"content\":{\n",
    "            \"field\": \"files.data_type\",\n",
    "            \"value\": [\"miRNA Expression Quantification\"]\n",
    "            }\n",
    "        },\n",
    "          {\n",
    "        \"op\": \"in\",\n",
    "        \"content\":{\n",
    "               \"field\": \"files.experimental_strategy\",\n",
    "                \"value\": [\"miRNA-Seq\"]\n",
    "                }\n",
    "        },\n",
    "        {\n",
    "        \"op\": \"in\",\n",
    "        \"content\":{\n",
    "            \"field\": \"files.data_format\",\n",
    "            \"value\": [\"TXT\"]\n",
    "            }\n",
    "        },\n",
    "        {\n",
    "        \"op\": \"in\",\n",
    "        \"content\":{\n",
    "            \"field\": \"cases.project.primary_site\",\n",
    "            \"value\": [\"Breast\", \"Brain\", \"Kidney\", \"Bronchus and lung\", \"Thyroid gland\", \"Corpus uteri\", \"Prostate gland\", \"Ovary\", \"Stomach\"]\n",
    "            }\n",
    "        }\n",
    "        \n",
    "    ]\n",
    "}"
   ]
  },
  {
   "cell_type": "code",
   "execution_count": null,
   "metadata": {},
   "outputs": [],
   "source": [
    "# Colon filters\n",
    "filters = {\n",
    "    \"op\": \"and\",\n",
    "    \"content\":[\n",
    "        {\n",
    "        \"op\": \"in\",\n",
    "        \"content\":{\n",
    "            \"field\": \"files.data_type\",\n",
    "            \"value\": [\"Gene Expression Quantification\"]\n",
    "            }\n",
    "        },\n",
    "        {\n",
    "        \"op\": \"in\",\n",
    "        \"content\":{\n",
    "               \"field\": \"files.analysis.workflow_type\",\n",
    "                \"value\": [\"HTSeq - Counts\"]\n",
    "                }\n",
    "        },\n",
    "        {\n",
    "        \"op\": \"in\",\n",
    "        \"content\":{\n",
    "            \"field\": \"files.data_format\",\n",
    "            \"value\": [\"TXT\"]\n",
    "            }\n",
    "        },\n",
    "        {\n",
    "        \"op\": \"in\",\n",
    "        \"content\":{\n",
    "            \"field\": \"cases.project.project_id\",\n",
    "            \"value\": [\"TCGA-COAD\"]\n",
    "            }\n",
    "        }\n",
    "        \n",
    "    ]\n",
    "}"
   ]
  },
  {
   "cell_type": "code",
   "execution_count": null,
   "metadata": {},
   "outputs": [],
   "source": [
    "# A POST is used, so the filter parameters can be passed directly as a Dict object.\n",
    "##remove manifest to have file fields\n",
    "params = {\n",
    "    \"filters\": filters,\n",
    "    \"fields\": fields,\n",
    "    \"format\": \"TSV\",\n",
    "    \"size\": \"100000\"\n",
    "    #\"return_type\": \"manifest\"\n",
    "    }"
   ]
  },
  {
   "cell_type": "code",
   "execution_count": null,
   "metadata": {},
   "outputs": [],
   "source": [
    "# The parameters are passed to 'json' rather than 'params' in this case\n",
    "response = requests.post(files_endpt, headers = {\"Content-Type\": \"application/json\"}, json = params)\n",
    "\n",
    "print(response.content.decode(\"utf-8\"))"
   ]
  },
  {
   "cell_type": "code",
   "execution_count": null,
   "metadata": {},
   "outputs": [],
   "source": [
    "len(response.content.decode(\"utf-8\"))"
   ]
  },
  {
   "cell_type": "code",
   "execution_count": null,
   "metadata": {},
   "outputs": [],
   "source": [
    "with open(\"manifest.txt\",\"w\") as manifest:\n",
    "    manifest.write(response.content.decode(\"utf-8\"))\n",
    "    manifest.close()"
   ]
  },
  {
   "cell_type": "markdown",
   "metadata": {},
   "source": [
    "## Files"
   ]
  },
  {
   "cell_type": "code",
   "execution_count": null,
   "metadata": {},
   "outputs": [],
   "source": [
    "with open(\"files.txt\",\"w\") as files:\n",
    "    files.write(response.content.decode(\"utf-8\"))\n",
    "    files.close()"
   ]
  },
  {
   "cell_type": "code",
   "execution_count": null,
   "metadata": {},
   "outputs": [],
   "source": [
    "df_files = pd.read_csv(\"files.txt\", sep='\\t', index_col=0)\n",
    "df_files.drop(\"id\", axis=1, inplace=True)\n",
    "df_files.columns=['disease_type','primary_site']\n",
    "df_files.head()"
   ]
  },
  {
   "cell_type": "code",
   "execution_count": null,
   "metadata": {},
   "outputs": [],
   "source": [
    "df_files.to_csv(\"files_new.dat\", index=True, header=True)"
   ]
  },
  {
   "cell_type": "code",
   "execution_count": null,
   "metadata": {},
   "outputs": [],
   "source": []
  }
 ],
 "metadata": {
  "kernelspec": {
   "display_name": "Python 3",
   "language": "python",
   "name": "python3"
  },
  "language_info": {
   "codemirror_mode": {
    "name": "ipython",
    "version": 3
   },
   "file_extension": ".py",
   "mimetype": "text/x-python",
   "name": "python",
   "nbconvert_exporter": "python",
   "pygments_lexer": "ipython3",
   "version": "3.6.9"
  }
 },
 "nbformat": 4,
 "nbformat_minor": 2
}
