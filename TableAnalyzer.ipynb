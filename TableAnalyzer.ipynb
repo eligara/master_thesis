{
 "cells": [
  {
   "cell_type": "code",
   "execution_count": 1,
   "metadata": {},
   "outputs": [],
   "source": [
    "import os\n",
    "import sys\n",
    "import pandas as pd\n",
    "import numpy as np\n",
    "import regex as re\n",
    "import mygene\n",
    "from matplotlib import pyplot as plt\n",
    "from tableanalyzer import *"
   ]
  },
  {
   "cell_type": "code",
   "execution_count": 2,
   "metadata": {},
   "outputs": [],
   "source": [
    "mg = mygene.MyGeneInfo()"
   ]
  },
  {
   "cell_type": "code",
   "execution_count": 3,
   "metadata": {},
   "outputs": [
    {
     "data": {
      "text/plain": [
       "{u'_id': u'4514',\n",
       " u'_score': 11.708687,\n",
       " u'name': u'cytochrome c oxidase III',\n",
       " u'symbol': u'COX3',\n",
       " u'type_of_gene': u'protein-coding'}"
      ]
     },
     "execution_count": 3,
     "metadata": {},
     "output_type": "execute_result"
    }
   ],
   "source": [
    "mg.getgene(\"ENSG00000198938\", 'name,symbol,refseq.rna,type_of_gene,exac.bp')"
   ]
  },
  {
   "cell_type": "code",
   "execution_count": 4,
   "metadata": {},
   "outputs": [],
   "source": [
    "working_dir = \"/Users/filippo/Developer/tesi\"\n",
    "os.chdir(working_dir)\n",
    "dirs = os.listdir(\"data\")"
   ]
  },
  {
   "cell_type": "code",
   "execution_count": 5,
   "metadata": {},
   "outputs": [
    {
     "data": {
      "text/plain": [
       "8935"
      ]
     },
     "execution_count": 5,
     "metadata": {},
     "output_type": "execute_result"
    }
   ],
   "source": [
    "len(dirs)"
   ]
  },
  {
   "cell_type": "code",
   "execution_count": 6,
   "metadata": {},
   "outputs": [
    {
     "data": {
      "text/html": [
       "<div>\n",
       "<style scoped>\n",
       "    .dataframe tbody tr th:only-of-type {\n",
       "        vertical-align: middle;\n",
       "    }\n",
       "\n",
       "    .dataframe tbody tr th {\n",
       "        vertical-align: top;\n",
       "    }\n",
       "\n",
       "    .dataframe thead th {\n",
       "        text-align: right;\n",
       "    }\n",
       "</style>\n",
       "<table border=\"1\" class=\"dataframe\">\n",
       "  <thead>\n",
       "    <tr style=\"text-align: right;\">\n",
       "      <th></th>\n",
       "      <th>gene</th>\n",
       "      <th>85593c7d-7441-4d41-81d3-aaa17c7e398b.F</th>\n",
       "      <th>bfeaa9f7-e413-40b8-86ba-c9d26a96c240.F</th>\n",
       "      <th>426b94fe-fcff-49f2-9d0b-c7cb49bb5559.F</th>\n",
       "      <th>38083e21-7761-47c7-9112-769c7f85e283.F</th>\n",
       "      <th>6e2570b0-fc95-4ba9-a8a5-b79f6dea0246.F</th>\n",
       "      <th>21800024-cf76-4185-b57b-526539ccdba2.F</th>\n",
       "      <th>1f0f7598-d8c0-41ba-8b07-c958fecbb5f7.F</th>\n",
       "      <th>ea50d2da-4f84-46dc-8036-c34392793aed.F</th>\n",
       "      <th>7b2c7499-15c0-4926-a12c-4561df34954b.F</th>\n",
       "      <th>...</th>\n",
       "      <th>bd556315-a050-465f-9a41-bdebe7e3eb61.F</th>\n",
       "      <th>fde7c419-b8c0-4e04-8512-0e3b8eadebda.F</th>\n",
       "      <th>46551ef6-d1de-43c3-8ea5-5ade8a5bffd7.F</th>\n",
       "      <th>1a587b92-0a11-47f0-83c2-77a2b6de1088.F</th>\n",
       "      <th>171f664b-3226-4944-9219-91d2a7fdfb5f.F</th>\n",
       "      <th>9c77be54-d58e-4dec-8894-acb71a12cac5.F</th>\n",
       "      <th>2556ce90-db5f-4beb-897a-db3cf556e054.F</th>\n",
       "      <th>234724ab-6f82-4ac9-9948-37ffd9c3e418.F</th>\n",
       "      <th>cd550979-69b5-43d0-9724-cc25eb502cb8.F</th>\n",
       "      <th>03872f69-93f5-4d6c-aeb3-dadbc2762682.F</th>\n",
       "    </tr>\n",
       "  </thead>\n",
       "  <tbody>\n",
       "    <tr>\n",
       "      <th>0</th>\n",
       "      <td>ENSG00000242268</td>\n",
       "      <td>0.076913</td>\n",
       "      <td>0.000000</td>\n",
       "      <td>0.137506</td>\n",
       "      <td>0.841950</td>\n",
       "      <td>0.522683</td>\n",
       "      <td>0.436242</td>\n",
       "      <td>0.062384</td>\n",
       "      <td>0.902013</td>\n",
       "      <td>0.000000</td>\n",
       "      <td>...</td>\n",
       "      <td>0.000000</td>\n",
       "      <td>0.046059</td>\n",
       "      <td>0.027827</td>\n",
       "      <td>0.000000</td>\n",
       "      <td>0.975612</td>\n",
       "      <td>0.000000</td>\n",
       "      <td>0.000000</td>\n",
       "      <td>0.000000</td>\n",
       "      <td>0.000000</td>\n",
       "      <td>0.000000</td>\n",
       "    </tr>\n",
       "    <tr>\n",
       "      <th>1</th>\n",
       "      <td>ENSG00000270112</td>\n",
       "      <td>0.007115</td>\n",
       "      <td>0.000000</td>\n",
       "      <td>0.010902</td>\n",
       "      <td>0.025961</td>\n",
       "      <td>0.616454</td>\n",
       "      <td>0.207531</td>\n",
       "      <td>0.025968</td>\n",
       "      <td>0.060075</td>\n",
       "      <td>1.020406</td>\n",
       "      <td>...</td>\n",
       "      <td>0.000000</td>\n",
       "      <td>0.019172</td>\n",
       "      <td>0.003861</td>\n",
       "      <td>0.031637</td>\n",
       "      <td>0.118014</td>\n",
       "      <td>0.000000</td>\n",
       "      <td>0.016449</td>\n",
       "      <td>0.000000</td>\n",
       "      <td>0.003548</td>\n",
       "      <td>0.000000</td>\n",
       "    </tr>\n",
       "    <tr>\n",
       "      <th>2</th>\n",
       "      <td>ENSG00000167578</td>\n",
       "      <td>6.736458</td>\n",
       "      <td>3.268259</td>\n",
       "      <td>0.804157</td>\n",
       "      <td>4.580433</td>\n",
       "      <td>3.330552</td>\n",
       "      <td>3.467188</td>\n",
       "      <td>1.923817</td>\n",
       "      <td>4.086256</td>\n",
       "      <td>2.477979</td>\n",
       "      <td>...</td>\n",
       "      <td>1.933432</td>\n",
       "      <td>4.589182</td>\n",
       "      <td>2.509192</td>\n",
       "      <td>1.182190</td>\n",
       "      <td>4.894803</td>\n",
       "      <td>3.463509</td>\n",
       "      <td>3.816159</td>\n",
       "      <td>2.281180</td>\n",
       "      <td>2.112157</td>\n",
       "      <td>11.051738</td>\n",
       "    </tr>\n",
       "    <tr>\n",
       "      <th>3</th>\n",
       "      <td>ENSG00000273842</td>\n",
       "      <td>0.000000</td>\n",
       "      <td>0.000000</td>\n",
       "      <td>0.000000</td>\n",
       "      <td>0.000000</td>\n",
       "      <td>0.000000</td>\n",
       "      <td>0.000000</td>\n",
       "      <td>0.000000</td>\n",
       "      <td>0.000000</td>\n",
       "      <td>0.000000</td>\n",
       "      <td>...</td>\n",
       "      <td>0.000000</td>\n",
       "      <td>0.000000</td>\n",
       "      <td>0.000000</td>\n",
       "      <td>0.000000</td>\n",
       "      <td>0.000000</td>\n",
       "      <td>0.000000</td>\n",
       "      <td>0.000000</td>\n",
       "      <td>0.000000</td>\n",
       "      <td>0.000000</td>\n",
       "      <td>0.000000</td>\n",
       "    </tr>\n",
       "    <tr>\n",
       "      <th>4</th>\n",
       "      <td>ENSG00000078237</td>\n",
       "      <td>4.449834</td>\n",
       "      <td>3.115587</td>\n",
       "      <td>1.536337</td>\n",
       "      <td>3.729699</td>\n",
       "      <td>3.989718</td>\n",
       "      <td>6.747617</td>\n",
       "      <td>3.787525</td>\n",
       "      <td>4.364158</td>\n",
       "      <td>4.201916</td>\n",
       "      <td>...</td>\n",
       "      <td>4.181816</td>\n",
       "      <td>15.874804</td>\n",
       "      <td>2.699238</td>\n",
       "      <td>6.278986</td>\n",
       "      <td>3.378318</td>\n",
       "      <td>6.234426</td>\n",
       "      <td>5.366732</td>\n",
       "      <td>2.985039</td>\n",
       "      <td>4.456480</td>\n",
       "      <td>3.583194</td>\n",
       "    </tr>\n",
       "  </tbody>\n",
       "</table>\n",
       "<p>5 rows × 5001 columns</p>\n",
       "</div>"
      ],
      "text/plain": [
       "              gene  85593c7d-7441-4d41-81d3-aaa17c7e398b.F  \\\n",
       "0  ENSG00000242268                                0.076913   \n",
       "1  ENSG00000270112                                0.007115   \n",
       "2  ENSG00000167578                                6.736458   \n",
       "3  ENSG00000273842                                0.000000   \n",
       "4  ENSG00000078237                                4.449834   \n",
       "\n",
       "   bfeaa9f7-e413-40b8-86ba-c9d26a96c240.F  \\\n",
       "0                                0.000000   \n",
       "1                                0.000000   \n",
       "2                                3.268259   \n",
       "3                                0.000000   \n",
       "4                                3.115587   \n",
       "\n",
       "   426b94fe-fcff-49f2-9d0b-c7cb49bb5559.F  \\\n",
       "0                                0.137506   \n",
       "1                                0.010902   \n",
       "2                                0.804157   \n",
       "3                                0.000000   \n",
       "4                                1.536337   \n",
       "\n",
       "   38083e21-7761-47c7-9112-769c7f85e283.F  \\\n",
       "0                                0.841950   \n",
       "1                                0.025961   \n",
       "2                                4.580433   \n",
       "3                                0.000000   \n",
       "4                                3.729699   \n",
       "\n",
       "   6e2570b0-fc95-4ba9-a8a5-b79f6dea0246.F  \\\n",
       "0                                0.522683   \n",
       "1                                0.616454   \n",
       "2                                3.330552   \n",
       "3                                0.000000   \n",
       "4                                3.989718   \n",
       "\n",
       "   21800024-cf76-4185-b57b-526539ccdba2.F  \\\n",
       "0                                0.436242   \n",
       "1                                0.207531   \n",
       "2                                3.467188   \n",
       "3                                0.000000   \n",
       "4                                6.747617   \n",
       "\n",
       "   1f0f7598-d8c0-41ba-8b07-c958fecbb5f7.F  \\\n",
       "0                                0.062384   \n",
       "1                                0.025968   \n",
       "2                                1.923817   \n",
       "3                                0.000000   \n",
       "4                                3.787525   \n",
       "\n",
       "   ea50d2da-4f84-46dc-8036-c34392793aed.F  \\\n",
       "0                                0.902013   \n",
       "1                                0.060075   \n",
       "2                                4.086256   \n",
       "3                                0.000000   \n",
       "4                                4.364158   \n",
       "\n",
       "   7b2c7499-15c0-4926-a12c-4561df34954b.F  \\\n",
       "0                                0.000000   \n",
       "1                                1.020406   \n",
       "2                                2.477979   \n",
       "3                                0.000000   \n",
       "4                                4.201916   \n",
       "\n",
       "                    ...                    \\\n",
       "0                   ...                     \n",
       "1                   ...                     \n",
       "2                   ...                     \n",
       "3                   ...                     \n",
       "4                   ...                     \n",
       "\n",
       "   bd556315-a050-465f-9a41-bdebe7e3eb61.F  \\\n",
       "0                                0.000000   \n",
       "1                                0.000000   \n",
       "2                                1.933432   \n",
       "3                                0.000000   \n",
       "4                                4.181816   \n",
       "\n",
       "   fde7c419-b8c0-4e04-8512-0e3b8eadebda.F  \\\n",
       "0                                0.046059   \n",
       "1                                0.019172   \n",
       "2                                4.589182   \n",
       "3                                0.000000   \n",
       "4                               15.874804   \n",
       "\n",
       "   46551ef6-d1de-43c3-8ea5-5ade8a5bffd7.F  \\\n",
       "0                                0.027827   \n",
       "1                                0.003861   \n",
       "2                                2.509192   \n",
       "3                                0.000000   \n",
       "4                                2.699238   \n",
       "\n",
       "   1a587b92-0a11-47f0-83c2-77a2b6de1088.F  \\\n",
       "0                                0.000000   \n",
       "1                                0.031637   \n",
       "2                                1.182190   \n",
       "3                                0.000000   \n",
       "4                                6.278986   \n",
       "\n",
       "   171f664b-3226-4944-9219-91d2a7fdfb5f.F  \\\n",
       "0                                0.975612   \n",
       "1                                0.118014   \n",
       "2                                4.894803   \n",
       "3                                0.000000   \n",
       "4                                3.378318   \n",
       "\n",
       "   9c77be54-d58e-4dec-8894-acb71a12cac5.F  \\\n",
       "0                                0.000000   \n",
       "1                                0.000000   \n",
       "2                                3.463509   \n",
       "3                                0.000000   \n",
       "4                                6.234426   \n",
       "\n",
       "   2556ce90-db5f-4beb-897a-db3cf556e054.F  \\\n",
       "0                                0.000000   \n",
       "1                                0.016449   \n",
       "2                                3.816159   \n",
       "3                                0.000000   \n",
       "4                                5.366732   \n",
       "\n",
       "   234724ab-6f82-4ac9-9948-37ffd9c3e418.F  \\\n",
       "0                                0.000000   \n",
       "1                                0.000000   \n",
       "2                                2.281180   \n",
       "3                                0.000000   \n",
       "4                                2.985039   \n",
       "\n",
       "   cd550979-69b5-43d0-9724-cc25eb502cb8.F  \\\n",
       "0                                0.000000   \n",
       "1                                0.003548   \n",
       "2                                2.112157   \n",
       "3                                0.000000   \n",
       "4                                4.456480   \n",
       "\n",
       "   03872f69-93f5-4d6c-aeb3-dadbc2762682.F  \n",
       "0                                0.000000  \n",
       "1                                0.000000  \n",
       "2                               11.051738  \n",
       "3                                0.000000  \n",
       "4                                3.583194  \n",
       "\n",
       "[5 rows x 5001 columns]"
      ]
     },
     "execution_count": 6,
     "metadata": {},
     "output_type": "execute_result"
    }
   ],
   "source": [
    "df = pd.read_csv((\"%s/mainTable.csv\"%working_dir))\n",
    "genes = np.array([gene[:15] for gene in df.loc[:,'gene'].values])\n",
    "df['gene'] = genes\n",
    "df = df.to_sparse(fill_value=0.)\n",
    "df.head()"
   ]
  },
  {
   "cell_type": "code",
   "execution_count": 7,
   "metadata": {},
   "outputs": [
    {
     "name": "stdout",
     "output_type": "stream",
     "text": [
      "<class 'pandas.core.sparse.frame.SparseDataFrame'>\n",
      "RangeIndex: 60483 entries, 0 to 60482\n",
      "Columns: 5001 entries, gene to 03872f69-93f5-4d6c-aeb3-dadbc2762682.F\n",
      "dtypes: float64(5000), object(1)\n",
      "memory usage: 1.2+ GB\n"
     ]
    }
   ],
   "source": [
    "df.info()"
   ]
  },
  {
   "cell_type": "code",
   "execution_count": 8,
   "metadata": {},
   "outputs": [
    {
     "name": "stdout",
     "output_type": "stream",
     "text": [
      "genes:60483\trealizations:5000\n"
     ]
    }
   ],
   "source": [
    "ngenes = len(df['gene'])\n",
    "nfiles = len(df.loc[0,:])-1\n",
    "print(\"genes:%d\\trealizations:%d\"%(ngenes,nfiles))"
   ]
  },
  {
   "cell_type": "code",
   "execution_count": null,
   "metadata": {},
   "outputs": [],
   "source": []
  },
  {
   "cell_type": "markdown",
   "metadata": {},
   "source": [
    "## Means sigmas"
   ]
  },
  {
   "cell_type": "code",
   "execution_count": 9,
   "metadata": {
    "scrolled": true
   },
   "outputs": [
    {
     "data": {
      "text/html": [
       "<div>\n",
       "<style scoped>\n",
       "    .dataframe tbody tr th:only-of-type {\n",
       "        vertical-align: middle;\n",
       "    }\n",
       "\n",
       "    .dataframe tbody tr th {\n",
       "        vertical-align: top;\n",
       "    }\n",
       "\n",
       "    .dataframe thead th {\n",
       "        text-align: right;\n",
       "    }\n",
       "</style>\n",
       "<table border=\"1\" class=\"dataframe\">\n",
       "  <thead>\n",
       "    <tr style=\"text-align: right;\">\n",
       "      <th></th>\n",
       "      <th>mean</th>\n",
       "      <th>type_of_gene</th>\n",
       "      <th>variance</th>\n",
       "    </tr>\n",
       "    <tr>\n",
       "      <th>gene</th>\n",
       "      <th></th>\n",
       "      <th></th>\n",
       "      <th></th>\n",
       "    </tr>\n",
       "  </thead>\n",
       "  <tbody>\n",
       "    <tr>\n",
       "      <th>ENSG00000242268.2</th>\n",
       "      <td>0.614475</td>\n",
       "      <td>ncRNA</td>\n",
       "      <td>0.894804</td>\n",
       "    </tr>\n",
       "    <tr>\n",
       "      <th>ENSG00000270112.3</th>\n",
       "      <td>0.345251</td>\n",
       "      <td>unknown</td>\n",
       "      <td>0.160901</td>\n",
       "    </tr>\n",
       "    <tr>\n",
       "      <th>ENSG00000167578.15</th>\n",
       "      <td>3.861120</td>\n",
       "      <td>protein-coding</td>\n",
       "      <td>6.344060</td>\n",
       "    </tr>\n",
       "    <tr>\n",
       "      <th>ENSG00000273842.1</th>\n",
       "      <td>0.436278</td>\n",
       "      <td>unknown</td>\n",
       "      <td>0.193080</td>\n",
       "    </tr>\n",
       "    <tr>\n",
       "      <th>ENSG00000078237.5</th>\n",
       "      <td>4.459130</td>\n",
       "      <td>protein-coding</td>\n",
       "      <td>17.956900</td>\n",
       "    </tr>\n",
       "  </tbody>\n",
       "</table>\n",
       "</div>"
      ],
      "text/plain": [
       "                        mean    type_of_gene   variance\n",
       "gene                                                   \n",
       "ENSG00000242268.2   0.614475           ncRNA   0.894804\n",
       "ENSG00000270112.3   0.345251         unknown   0.160901\n",
       "ENSG00000167578.15  3.861120  protein-coding   6.344060\n",
       "ENSG00000273842.1   0.436278         unknown   0.193080\n",
       "ENSG00000078237.5   4.459130  protein-coding  17.956900"
      ]
     },
     "execution_count": 9,
     "metadata": {},
     "output_type": "execute_result"
    }
   ],
   "source": [
    "df_mv = pd.read_csv(\"meanVariances.csv\", index_col = [0])\n",
    "df_mv.head()"
   ]
  },
  {
   "cell_type": "code",
   "execution_count": 10,
   "metadata": {},
   "outputs": [
    {
     "data": {
      "text/plain": [
       "57792"
      ]
     },
     "execution_count": 10,
     "metadata": {},
     "output_type": "execute_result"
    }
   ],
   "source": [
    "means = df_mv['mean'].values\n",
    "variances = df_mv['variance'].values\n",
    "len(means)"
   ]
  },
  {
   "cell_type": "markdown",
   "metadata": {},
   "source": [
    "### plot"
   ]
  },
  {
   "cell_type": "code",
   "execution_count": null,
   "metadata": {},
   "outputs": [],
   "source": [
    "fig=plt.figure(figsize=(15,4))\n",
    "plt.subplot(121)\n",
    "plt.scatter(means, variances)\n",
    "plt.xlabel(\"$<FPKM>$\", fontsize=16)\n",
    "plt.ylabel(\"$\\sigma^2_{FPKM}$\", fontsize=16)\n",
    "plt.subplot(122)\n",
    "plt.scatter(means, variances)\n",
    "plt.xlabel(\"$<FPKM>$\", fontsize=16)\n",
    "plt.ylabel(\"$\\sigma^2_{FPKM}$\", fontsize=16)\n",
    "plt.yscale('log')\n",
    "#plt.xlim(1e-2,200)\n",
    "plt.ylim((1e-2,1e12))\n",
    "plt.show()"
   ]
  },
  {
   "cell_type": "code",
   "execution_count": null,
   "metadata": {},
   "outputs": [],
   "source": [
    "fig.savefig(\"varmean.png\")"
   ]
  },
  {
   "cell_type": "markdown",
   "metadata": {},
   "source": [
    "### Distributions"
   ]
  },
  {
   "cell_type": "code",
   "execution_count": null,
   "metadata": {},
   "outputs": [],
   "source": [
    "len(means)"
   ]
  },
  {
   "cell_type": "code",
   "execution_count": null,
   "metadata": {},
   "outputs": [],
   "source": [
    "len(variances)"
   ]
  },
  {
   "cell_type": "code",
   "execution_count": null,
   "metadata": {},
   "outputs": [],
   "source": [
    "fig = plt.figure()\n",
    "n, c, _ = plt.hist(means, density = False, histtype='step')\n",
    "plt.title(\"means\")\n",
    "plt.xlabel(\"$<FPKM>$\")\n",
    "plt.ylabel(\"#\")\n",
    "plt.yscale('log')\n",
    "plt.show()\n",
    "fig.savefig(\"mean_distr.pdf\")"
   ]
  },
  {
   "cell_type": "code",
   "execution_count": null,
   "metadata": {},
   "outputs": [],
   "source": [
    "fig = plt.figure()\n",
    "n, c, _ = plt.hist(variances, density = False, histtype='step')\n",
    "plt.title(\"vars\")\n",
    "plt.xlabel(\"$<\\sigma_{FPKM}^2>$\")\n",
    "plt.ylabel(\"#\")\n",
    "plt.yscale('log')\n",
    "plt.show()\n",
    "fig.savefig(\"var_distr.pdf\")"
   ]
  },
  {
   "cell_type": "markdown",
   "metadata": {},
   "source": []
  },
  {
   "cell_type": "markdown",
   "metadata": {},
   "source": [
    "# protein coding genes"
   ]
  },
  {
   "cell_type": "code",
   "execution_count": 11,
   "metadata": {},
   "outputs": [
    {
     "data": {
      "text/plain": [
       "array(['ENSG00000167578', 'ENSG00000078237', 'ENSG00000146083', ...,\n",
       "       'ENSG00000105063', 'ENSG00000123685', 'ENSG00000181518'],\n",
       "      dtype=object)"
      ]
     },
     "execution_count": 11,
     "metadata": {},
     "output_type": "execute_result"
    }
   ],
   "source": [
    "protein_coding = pd.read_csv(\"genes.txt\", header=[0], index_col=[0])\n",
    "protein_coding.loc[protein_coding['type_of_gene']=='protein-coding'].index.values"
   ]
  },
  {
   "cell_type": "markdown",
   "metadata": {},
   "source": [
    "# expression plot"
   ]
  },
  {
   "cell_type": "code",
   "execution_count": null,
   "metadata": {},
   "outputs": [],
   "source": [
    "sample = 10\n",
    "fig = plt.figure()\n",
    "x = np.linspace(0, 60000)\n",
    "key = df.keys()[sample]\n",
    "plt.plot(df[key].to_dense(), 'o', label=key[:-2])\n",
    "plt.plot(x, [100 for _ in x], 'r--', lw=4, label='threshold (100)')\n",
    "plt.xlabel(\"gene\", fontsize=16)\n",
    "plt.ylabel(\"FPKM\", fontsize=16)\n",
    "plt.legend()\n",
    "plt.show()"
   ]
  },
  {
   "cell_type": "code",
   "execution_count": null,
   "metadata": {},
   "outputs": [],
   "source": [
    "fig.savefig(\"singleFile.pdf\")"
   ]
  },
  {
   "cell_type": "code",
   "execution_count": null,
   "metadata": {},
   "outputs": [],
   "source": []
  },
  {
   "cell_type": "markdown",
   "metadata": {},
   "source": [
    "# single gene"
   ]
  },
  {
   "cell_type": "code",
   "execution_count": 20,
   "metadata": {},
   "outputs": [
    {
     "name": "stdout",
     "output_type": "stream",
     "text": [
      "[[0.13750555]\n",
      " [0.84195   ]\n",
      " [0.52268332]\n",
      " ...\n",
      " [0.75448271]\n",
      " [0.13762304]\n",
      " [0.97561196]]\n",
      "name: ENSG00000242268\n",
      "FPKM mean:       0.61\n",
      "FPKM var:       0.89\n"
     ]
    },
    {
     "data": {
      "image/png": "[encoded data removed]",
      "text/plain": [
       "<Figure size 1080x360 with 1 Axes>"
      ]
     },
     "metadata": {
      "needs_background": "light"
     },
     "output_type": "display_data"
    },
    {
     "data": {
      "image/png": "[encoded data removed]",
      "text/plain": [
       "<Figure size 1080x360 with 1 Axes>"
      ]
     },
     "metadata": {
      "needs_background": "light"
     },
     "output_type": "display_data"
    },
    {
     "data": {
      "image/png": "[encoded data removed]",
      "text/plain": [
       "<Figure size 1296x576 with 1 Axes>"
      ]
     },
     "metadata": {
      "needs_background": "light"
     },
     "output_type": "display_data"
    }
   ],
   "source": [
    "gene = geneinfo('ENSG00000242268', df, nfiles)\n",
    "genedistr(gene, 50);\n",
    "geneplot(gene);\n",
    "genecoord(gene, means, variances);"
   ]
  },
  {
   "cell_type": "code",
   "execution_count": null,
   "metadata": {},
   "outputs": [],
   "source": []
  },
  {
   "cell_type": "code",
   "execution_count": null,
   "metadata": {},
   "outputs": [],
   "source": []
  },
  {
   "cell_type": "markdown",
   "metadata": {},
   "source": [
    "# subset analysis"
   ]
  },
  {
   "cell_type": "markdown",
   "metadata": {},
   "source": [
    "#### query genes"
   ]
  },
  {
   "cell_type": "code",
   "execution_count": 21,
   "metadata": {
    "scrolled": true
   },
   "outputs": [
    {
     "data": {
      "text/html": [
       "<div>\n",
       "<style scoped>\n",
       "    .dataframe tbody tr th:only-of-type {\n",
       "        vertical-align: middle;\n",
       "    }\n",
       "\n",
       "    .dataframe tbody tr th {\n",
       "        vertical-align: top;\n",
       "    }\n",
       "\n",
       "    .dataframe thead th {\n",
       "        text-align: right;\n",
       "    }\n",
       "</style>\n",
       "<table border=\"1\" class=\"dataframe\">\n",
       "  <thead>\n",
       "    <tr style=\"text-align: right;\">\n",
       "      <th></th>\n",
       "      <th>mean</th>\n",
       "      <th>type_of_gene</th>\n",
       "      <th>variance</th>\n",
       "    </tr>\n",
       "    <tr>\n",
       "      <th>gene</th>\n",
       "      <th></th>\n",
       "      <th></th>\n",
       "      <th></th>\n",
       "    </tr>\n",
       "  </thead>\n",
       "  <tbody>\n",
       "    <tr>\n",
       "      <th>ENSG00000163736.3</th>\n",
       "      <td>17.2067</td>\n",
       "      <td>protein-coding</td>\n",
       "      <td>138549.0</td>\n",
       "    </tr>\n",
       "    <tr>\n",
       "      <th>ENSG00000170890.12</th>\n",
       "      <td>24.1080</td>\n",
       "      <td>protein-coding</td>\n",
       "      <td>120560.0</td>\n",
       "    </tr>\n",
       "    <tr>\n",
       "      <th>ENSG00000143632.13</th>\n",
       "      <td>25.9814</td>\n",
       "      <td>protein-coding</td>\n",
       "      <td>235937.0</td>\n",
       "    </tr>\n",
       "    <tr>\n",
       "      <th>ENSG00000104371.4</th>\n",
       "      <td>29.5110</td>\n",
       "      <td>protein-coding</td>\n",
       "      <td>112918.0</td>\n",
       "    </tr>\n",
       "    <tr>\n",
       "      <th>ENSG00000197561.5</th>\n",
       "      <td>30.9270</td>\n",
       "      <td>protein-coding</td>\n",
       "      <td>111908.0</td>\n",
       "    </tr>\n",
       "    <tr>\n",
       "      <th>ENSG00000158516.10</th>\n",
       "      <td>32.2731</td>\n",
       "      <td>protein-coding</td>\n",
       "      <td>122088.0</td>\n",
       "    </tr>\n",
       "    <tr>\n",
       "      <th>ENSG00000081051.6</th>\n",
       "      <td>33.4354</td>\n",
       "      <td>protein-coding</td>\n",
       "      <td>102169.0</td>\n",
       "    </tr>\n",
       "    <tr>\n",
       "      <th>ENSG00000170323.7</th>\n",
       "      <td>37.8025</td>\n",
       "      <td>protein-coding</td>\n",
       "      <td>221219.0</td>\n",
       "    </tr>\n",
       "    <tr>\n",
       "      <th>ENSG00000110680.11</th>\n",
       "      <td>39.7933</td>\n",
       "      <td>protein-coding</td>\n",
       "      <td>166850.0</td>\n",
       "    </tr>\n",
       "    <tr>\n",
       "      <th>ENSG00000188536.11</th>\n",
       "      <td>42.0240</td>\n",
       "      <td>protein-coding</td>\n",
       "      <td>214491.0</td>\n",
       "    </tr>\n",
       "    <tr>\n",
       "      <th>ENSG00000100985.7</th>\n",
       "      <td>42.6316</td>\n",
       "      <td>protein-coding</td>\n",
       "      <td>128168.0</td>\n",
       "    </tr>\n",
       "    <tr>\n",
       "      <th>ENSG00000126545.12</th>\n",
       "      <td>43.3310</td>\n",
       "      <td>protein-coding</td>\n",
       "      <td>401678.0</td>\n",
       "    </tr>\n",
       "    <tr>\n",
       "      <th>ENSG00000148795.5</th>\n",
       "      <td>44.0176</td>\n",
       "      <td>protein-coding</td>\n",
       "      <td>172376.0</td>\n",
       "    </tr>\n",
       "    <tr>\n",
       "      <th>ENSG00000160349.8</th>\n",
       "      <td>47.3927</td>\n",
       "      <td>protein-coding</td>\n",
       "      <td>2229460.0</td>\n",
       "    </tr>\n",
       "    <tr>\n",
       "      <th>ENSG00000181195.9</th>\n",
       "      <td>51.4900</td>\n",
       "      <td>protein-coding</td>\n",
       "      <td>140190.0</td>\n",
       "    </tr>\n",
       "    <tr>\n",
       "      <th>ENSG00000133636.9</th>\n",
       "      <td>52.5440</td>\n",
       "      <td>protein-coding</td>\n",
       "      <td>128377.0</td>\n",
       "    </tr>\n",
       "    <tr>\n",
       "      <th>ENSG00000131142.12</th>\n",
       "      <td>54.1134</td>\n",
       "      <td>protein-coding</td>\n",
       "      <td>204959.0</td>\n",
       "    </tr>\n",
       "    <tr>\n",
       "      <th>ENSG00000122711.7</th>\n",
       "      <td>56.0523</td>\n",
       "      <td>protein-coding</td>\n",
       "      <td>181660.0</td>\n",
       "    </tr>\n",
       "    <tr>\n",
       "      <th>ENSG00000005381.7</th>\n",
       "      <td>57.2711</td>\n",
       "      <td>protein-coding</td>\n",
       "      <td>130455.0</td>\n",
       "    </tr>\n",
       "    <tr>\n",
       "      <th>ENSG00000167768.4</th>\n",
       "      <td>59.9838</td>\n",
       "      <td>protein-coding</td>\n",
       "      <td>106436.0</td>\n",
       "    </tr>\n",
       "    <tr>\n",
       "      <th>ENSG00000161055.3</th>\n",
       "      <td>61.1305</td>\n",
       "      <td>protein-coding</td>\n",
       "      <td>869637.0</td>\n",
       "    </tr>\n",
       "    <tr>\n",
       "      <th>ENSG00000133048.11</th>\n",
       "      <td>62.3297</td>\n",
       "      <td>protein-coding</td>\n",
       "      <td>130032.0</td>\n",
       "    </tr>\n",
       "    <tr>\n",
       "      <th>ENSG00000243480.6</th>\n",
       "      <td>62.6083</td>\n",
       "      <td>protein-coding</td>\n",
       "      <td>151840.0</td>\n",
       "    </tr>\n",
       "    <tr>\n",
       "      <th>ENSG00000163810.10</th>\n",
       "      <td>65.6242</td>\n",
       "      <td>protein-coding</td>\n",
       "      <td>193774.0</td>\n",
       "    </tr>\n",
       "    <tr>\n",
       "      <th>ENSG00000167653.4</th>\n",
       "      <td>68.5425</td>\n",
       "      <td>protein-coding</td>\n",
       "      <td>129089.0</td>\n",
       "    </tr>\n",
       "    <tr>\n",
       "      <th>ENSG00000164822.4</th>\n",
       "      <td>69.4560</td>\n",
       "      <td>protein-coding</td>\n",
       "      <td>251435.0</td>\n",
       "    </tr>\n",
       "    <tr>\n",
       "      <th>ENSG00000188508.9</th>\n",
       "      <td>70.4768</td>\n",
       "      <td>protein-coding</td>\n",
       "      <td>119193.0</td>\n",
       "    </tr>\n",
       "    <tr>\n",
       "      <th>ENSG00000123454.9</th>\n",
       "      <td>70.6795</td>\n",
       "      <td>protein-coding</td>\n",
       "      <td>219621.0</td>\n",
       "    </tr>\n",
       "    <tr>\n",
       "      <th>ENSG00000219073.6</th>\n",
       "      <td>73.0087</td>\n",
       "      <td>protein-coding</td>\n",
       "      <td>209108.0</td>\n",
       "    </tr>\n",
       "    <tr>\n",
       "      <th>ENSG00000115263.13</th>\n",
       "      <td>74.4716</td>\n",
       "      <td>protein-coding</td>\n",
       "      <td>111341.0</td>\n",
       "    </tr>\n",
       "    <tr>\n",
       "      <th>...</th>\n",
       "      <td>...</td>\n",
       "      <td>...</td>\n",
       "      <td>...</td>\n",
       "    </tr>\n",
       "    <tr>\n",
       "      <th>ENSG00000157005.3</th>\n",
       "      <td>105.7610</td>\n",
       "      <td>protein-coding</td>\n",
       "      <td>1750780.0</td>\n",
       "    </tr>\n",
       "    <tr>\n",
       "      <th>ENSG00000161634.10</th>\n",
       "      <td>106.8930</td>\n",
       "      <td>protein-coding</td>\n",
       "      <td>832870.0</td>\n",
       "    </tr>\n",
       "    <tr>\n",
       "      <th>ENSG00000188257.9</th>\n",
       "      <td>111.1400</td>\n",
       "      <td>protein-coding</td>\n",
       "      <td>289275.0</td>\n",
       "    </tr>\n",
       "    <tr>\n",
       "      <th>ENSG00000179914.4</th>\n",
       "      <td>111.5340</td>\n",
       "      <td>protein-coding</td>\n",
       "      <td>1712490.0</td>\n",
       "    </tr>\n",
       "    <tr>\n",
       "      <th>ENSG00000204983.11</th>\n",
       "      <td>111.9640</td>\n",
       "      <td>protein-coding</td>\n",
       "      <td>1615050.0</td>\n",
       "    </tr>\n",
       "    <tr>\n",
       "      <th>ENSG00000108849.6</th>\n",
       "      <td>113.4830</td>\n",
       "      <td>protein-coding</td>\n",
       "      <td>2952870.0</td>\n",
       "    </tr>\n",
       "    <tr>\n",
       "      <th>ENSG00000145824.11</th>\n",
       "      <td>115.1050</td>\n",
       "      <td>protein-coding</td>\n",
       "      <td>120829.0</td>\n",
       "    </tr>\n",
       "    <tr>\n",
       "      <th>ENSG00000109846.6</th>\n",
       "      <td>115.2930</td>\n",
       "      <td>protein-coding</td>\n",
       "      <td>111428.0</td>\n",
       "    </tr>\n",
       "    <tr>\n",
       "      <th>ENSG00000181617.5</th>\n",
       "      <td>115.6130</td>\n",
       "      <td>protein-coding</td>\n",
       "      <td>1302570.0</td>\n",
       "    </tr>\n",
       "    <tr>\n",
       "      <th>ENSG00000124935.3</th>\n",
       "      <td>116.2860</td>\n",
       "      <td>protein-coding</td>\n",
       "      <td>376318.0</td>\n",
       "    </tr>\n",
       "    <tr>\n",
       "      <th>ENSG00000171209.3</th>\n",
       "      <td>119.6110</td>\n",
       "      <td>protein-coding</td>\n",
       "      <td>983567.0</td>\n",
       "    </tr>\n",
       "    <tr>\n",
       "      <th>ENSG00000175084.10</th>\n",
       "      <td>121.8810</td>\n",
       "      <td>protein-coding</td>\n",
       "      <td>261179.0</td>\n",
       "    </tr>\n",
       "    <tr>\n",
       "      <th>ENSG00000132465.9</th>\n",
       "      <td>122.6430</td>\n",
       "      <td>protein-coding</td>\n",
       "      <td>129867.0</td>\n",
       "    </tr>\n",
       "    <tr>\n",
       "      <th>ENSG00000109072.12</th>\n",
       "      <td>124.1120</td>\n",
       "      <td>protein-coding</td>\n",
       "      <td>308252.0</td>\n",
       "    </tr>\n",
       "    <tr>\n",
       "      <th>ENSG00000137392.8</th>\n",
       "      <td>126.7870</td>\n",
       "      <td>protein-coding</td>\n",
       "      <td>2594310.0</td>\n",
       "    </tr>\n",
       "    <tr>\n",
       "      <th>ENSG00000173432.9</th>\n",
       "      <td>129.7450</td>\n",
       "      <td>protein-coding</td>\n",
       "      <td>1182010.0</td>\n",
       "    </tr>\n",
       "    <tr>\n",
       "      <th>ENSG00000275896.3</th>\n",
       "      <td>129.8960</td>\n",
       "      <td>protein-coding</td>\n",
       "      <td>1968170.0</td>\n",
       "    </tr>\n",
       "    <tr>\n",
       "      <th>ENSG00000187569.2</th>\n",
       "      <td>132.6860</td>\n",
       "      <td>protein-coding</td>\n",
       "      <td>104457.0</td>\n",
       "    </tr>\n",
       "    <tr>\n",
       "      <th>ENSG00000185664.13</th>\n",
       "      <td>132.9200</td>\n",
       "      <td>protein-coding</td>\n",
       "      <td>617061.0</td>\n",
       "    </tr>\n",
       "    <tr>\n",
       "      <th>ENSG00000170477.11</th>\n",
       "      <td>134.0060</td>\n",
       "      <td>protein-coding</td>\n",
       "      <td>932534.0</td>\n",
       "    </tr>\n",
       "    <tr>\n",
       "      <th>ENSG00000229859.7</th>\n",
       "      <td>137.1420</td>\n",
       "      <td>protein-coding</td>\n",
       "      <td>235890.0</td>\n",
       "    </tr>\n",
       "    <tr>\n",
       "      <th>ENSG00000143536.7</th>\n",
       "      <td>137.2910</td>\n",
       "      <td>protein-coding</td>\n",
       "      <td>326391.0</td>\n",
       "    </tr>\n",
       "    <tr>\n",
       "      <th>ENSG00000149021.5</th>\n",
       "      <td>137.9350</td>\n",
       "      <td>protein-coding</td>\n",
       "      <td>839320.0</td>\n",
       "    </tr>\n",
       "    <tr>\n",
       "      <th>ENSG00000125730.15</th>\n",
       "      <td>138.4590</td>\n",
       "      <td>protein-coding</td>\n",
       "      <td>100808.0</td>\n",
       "    </tr>\n",
       "    <tr>\n",
       "      <th>ENSG00000091704.8</th>\n",
       "      <td>140.5090</td>\n",
       "      <td>protein-coding</td>\n",
       "      <td>1564730.0</td>\n",
       "    </tr>\n",
       "    <tr>\n",
       "      <th>ENSG00000110244.6</th>\n",
       "      <td>142.6770</td>\n",
       "      <td>protein-coding</td>\n",
       "      <td>992469.0</td>\n",
       "    </tr>\n",
       "    <tr>\n",
       "      <th>ENSG00000167244.16</th>\n",
       "      <td>144.9750</td>\n",
       "      <td>protein-coding</td>\n",
       "      <td>396386.0</td>\n",
       "    </tr>\n",
       "    <tr>\n",
       "      <th>ENSG00000196754.9</th>\n",
       "      <td>146.3270</td>\n",
       "      <td>protein-coding</td>\n",
       "      <td>220490.0</td>\n",
       "    </tr>\n",
       "    <tr>\n",
       "      <th>ENSG00000170465.9</th>\n",
       "      <td>146.3350</td>\n",
       "      <td>protein-coding</td>\n",
       "      <td>217086.0</td>\n",
       "    </tr>\n",
       "    <tr>\n",
       "      <th>ENSG00000160180.15</th>\n",
       "      <td>149.1580</td>\n",
       "      <td>protein-coding</td>\n",
       "      <td>241973.0</td>\n",
       "    </tr>\n",
       "  </tbody>\n",
       "</table>\n",
       "<p>76 rows × 3 columns</p>\n",
       "</div>"
      ],
      "text/plain": [
       "                        mean    type_of_gene   variance\n",
       "gene                                                   \n",
       "ENSG00000163736.3    17.2067  protein-coding   138549.0\n",
       "ENSG00000170890.12   24.1080  protein-coding   120560.0\n",
       "ENSG00000143632.13   25.9814  protein-coding   235937.0\n",
       "ENSG00000104371.4    29.5110  protein-coding   112918.0\n",
       "ENSG00000197561.5    30.9270  protein-coding   111908.0\n",
       "ENSG00000158516.10   32.2731  protein-coding   122088.0\n",
       "ENSG00000081051.6    33.4354  protein-coding   102169.0\n",
       "ENSG00000170323.7    37.8025  protein-coding   221219.0\n",
       "ENSG00000110680.11   39.7933  protein-coding   166850.0\n",
       "ENSG00000188536.11   42.0240  protein-coding   214491.0\n",
       "ENSG00000100985.7    42.6316  protein-coding   128168.0\n",
       "ENSG00000126545.12   43.3310  protein-coding   401678.0\n",
       "ENSG00000148795.5    44.0176  protein-coding   172376.0\n",
       "ENSG00000160349.8    47.3927  protein-coding  2229460.0\n",
       "ENSG00000181195.9    51.4900  protein-coding   140190.0\n",
       "ENSG00000133636.9    52.5440  protein-coding   128377.0\n",
       "ENSG00000131142.12   54.1134  protein-coding   204959.0\n",
       "ENSG00000122711.7    56.0523  protein-coding   181660.0\n",
       "ENSG00000005381.7    57.2711  protein-coding   130455.0\n",
       "ENSG00000167768.4    59.9838  protein-coding   106436.0\n",
       "ENSG00000161055.3    61.1305  protein-coding   869637.0\n",
       "ENSG00000133048.11   62.3297  protein-coding   130032.0\n",
       "ENSG00000243480.6    62.6083  protein-coding   151840.0\n",
       "ENSG00000163810.10   65.6242  protein-coding   193774.0\n",
       "ENSG00000167653.4    68.5425  protein-coding   129089.0\n",
       "ENSG00000164822.4    69.4560  protein-coding   251435.0\n",
       "ENSG00000188508.9    70.4768  protein-coding   119193.0\n",
       "ENSG00000123454.9    70.6795  protein-coding   219621.0\n",
       "ENSG00000219073.6    73.0087  protein-coding   209108.0\n",
       "ENSG00000115263.13   74.4716  protein-coding   111341.0\n",
       "...                      ...             ...        ...\n",
       "ENSG00000157005.3   105.7610  protein-coding  1750780.0\n",
       "ENSG00000161634.10  106.8930  protein-coding   832870.0\n",
       "ENSG00000188257.9   111.1400  protein-coding   289275.0\n",
       "ENSG00000179914.4   111.5340  protein-coding  1712490.0\n",
       "ENSG00000204983.11  111.9640  protein-coding  1615050.0\n",
       "ENSG00000108849.6   113.4830  protein-coding  2952870.0\n",
       "ENSG00000145824.11  115.1050  protein-coding   120829.0\n",
       "ENSG00000109846.6   115.2930  protein-coding   111428.0\n",
       "ENSG00000181617.5   115.6130  protein-coding  1302570.0\n",
       "ENSG00000124935.3   116.2860  protein-coding   376318.0\n",
       "ENSG00000171209.3   119.6110  protein-coding   983567.0\n",
       "ENSG00000175084.10  121.8810  protein-coding   261179.0\n",
       "ENSG00000132465.9   122.6430  protein-coding   129867.0\n",
       "ENSG00000109072.12  124.1120  protein-coding   308252.0\n",
       "ENSG00000137392.8   126.7870  protein-coding  2594310.0\n",
       "ENSG00000173432.9   129.7450  protein-coding  1182010.0\n",
       "ENSG00000275896.3   129.8960  protein-coding  1968170.0\n",
       "ENSG00000187569.2   132.6860  protein-coding   104457.0\n",
       "ENSG00000185664.13  132.9200  protein-coding   617061.0\n",
       "ENSG00000170477.11  134.0060  protein-coding   932534.0\n",
       "ENSG00000229859.7   137.1420  protein-coding   235890.0\n",
       "ENSG00000143536.7   137.2910  protein-coding   326391.0\n",
       "ENSG00000149021.5   137.9350  protein-coding   839320.0\n",
       "ENSG00000125730.15  138.4590  protein-coding   100808.0\n",
       "ENSG00000091704.8   140.5090  protein-coding  1564730.0\n",
       "ENSG00000110244.6   142.6770  protein-coding   992469.0\n",
       "ENSG00000167244.16  144.9750  protein-coding   396386.0\n",
       "ENSG00000196754.9   146.3270  protein-coding   220490.0\n",
       "ENSG00000170465.9   146.3350  protein-coding   217086.0\n",
       "ENSG00000160180.15  149.1580  protein-coding   241973.0\n",
       "\n",
       "[76 rows x 3 columns]"
      ]
     },
     "execution_count": 21,
     "metadata": {},
     "output_type": "execute_result"
    }
   ],
   "source": [
    "search_mean_max = 150\n",
    "search_mean_min = 10\n",
    "search_var_max = 1e12\n",
    "search_var_min = 1e5\n",
    "pc = True\n",
    "if (pc):\n",
    "    query_result = df_mv.loc[(df_mv['type_of_gene']=='protein-coding')&((df_mv['mean']>(search_mean_min)) & (df_mv['mean']<(search_mean_max))) & ((df_mv['variance']>(search_var_min)) & (df_mv['variance']<(search_var_max)))].sort_values(by='mean')\n",
    "else:\n",
    "    query_result = df_mv.loc[((df_mv['mean']>(search_mean_min)) & (df_mv['mean']<(search_mean_max))) & ((df_mv['variance']>(search_var_min)) & (df_mv['variance']<(search_var_max)))].sort_values(by='mean')\n",
    "query_result"
   ]
  },
  {
   "cell_type": "code",
   "execution_count": 22,
   "metadata": {
    "scrolled": true
   },
   "outputs": [
    {
     "name": "stdout",
     "output_type": "stream",
     "text": [
      "[[0.86558625]\n",
      " [0.15605025]\n",
      " [2.22784048]\n",
      " ...\n",
      " [1.98114753]\n",
      " [6.06254343]\n",
      " [3.17011883]]\n",
      "name: ENSG00000163736\n",
      "FPKM mean:      17.21\n",
      "FPKM var:  138493.83\n",
      "[[1.0841775 ]\n",
      " [1.31162927]\n",
      " [0.10410737]\n",
      " ...\n",
      " [0.15266271]\n",
      " [0.26385358]\n",
      " [0.32728772]]\n",
      "name: ENSG00000170890\n",
      "FPKM mean:      24.11\n",
      "FPKM var:  120518.34\n"
     ]
    },
    {
     "ename": "KeyboardInterrupt",
     "evalue": "",
     "output_type": "error",
     "traceback": [
      "\u001b[0;31m---------------------------------------------------------------------------\u001b[0m",
      "\u001b[0;31mKeyboardInterrupt\u001b[0m                         Traceback (most recent call last)",
      "\u001b[0;32m<ipython-input-22-9c1963db5936>\u001b[0m in \u001b[0;36m<module>\u001b[0;34m()\u001b[0m\n\u001b[1;32m      1\u001b[0m \u001b[0mgenesnames\u001b[0m \u001b[0;34m=\u001b[0m \u001b[0;34m[\u001b[0m\u001b[0;34m]\u001b[0m\u001b[0;34m\u001b[0m\u001b[0m\n\u001b[1;32m      2\u001b[0m \u001b[0;32mfor\u001b[0m \u001b[0mg\u001b[0m \u001b[0;32min\u001b[0m \u001b[0mquery_result\u001b[0m\u001b[0;34m.\u001b[0m\u001b[0mindex\u001b[0m\u001b[0;34m.\u001b[0m\u001b[0mvalues\u001b[0m\u001b[0;34m[\u001b[0m\u001b[0;34m:\u001b[0m\u001b[0;36m5\u001b[0m\u001b[0;34m]\u001b[0m\u001b[0;34m:\u001b[0m\u001b[0;34m\u001b[0m\u001b[0m\n\u001b[0;32m----> 3\u001b[0;31m     \u001b[0mgene\u001b[0m \u001b[0;34m=\u001b[0m \u001b[0mgeneinfo\u001b[0m\u001b[0;34m(\u001b[0m\u001b[0mg\u001b[0m\u001b[0;34m[\u001b[0m\u001b[0;34m:\u001b[0m\u001b[0;36m15\u001b[0m\u001b[0;34m]\u001b[0m\u001b[0;34m,\u001b[0m \u001b[0mdf\u001b[0m\u001b[0;34m,\u001b[0m \u001b[0mnfiles\u001b[0m\u001b[0;34m)\u001b[0m\u001b[0;34m\u001b[0m\u001b[0m\n\u001b[0m\u001b[1;32m      4\u001b[0m     \u001b[0mgenesnames\u001b[0m\u001b[0;34m.\u001b[0m\u001b[0mappend\u001b[0m\u001b[0;34m(\u001b[0m\u001b[0mgene\u001b[0m\u001b[0;34m)\u001b[0m\u001b[0;34m\u001b[0m\u001b[0m\n",
      "\u001b[0;32m/Users/filippo/Developer/tesi/tableanalyzer.py\u001b[0m in \u001b[0;36mgeneinfo\u001b[0;34m(genename, df, nfiles)\u001b[0m\n\u001b[1;32m     15\u001b[0m     \u001b[0;31m#gene = 123\u001b[0m\u001b[0;34m\u001b[0m\u001b[0;34m\u001b[0m\u001b[0m\n\u001b[1;32m     16\u001b[0m     \u001b[0;31m#genename = df['gene'][gene]\u001b[0m\u001b[0;34m\u001b[0m\u001b[0;34m\u001b[0m\u001b[0m\n\u001b[0;32m---> 17\u001b[0;31m     \u001b[0;32mprint\u001b[0m\u001b[0;34m(\u001b[0m\u001b[0;34m\"name: %s\"\u001b[0m\u001b[0;34m%\u001b[0m\u001b[0mgenename\u001b[0m\u001b[0;34m)\u001b[0m\u001b[0;34m\u001b[0m\u001b[0m\n\u001b[0m\u001b[1;32m     18\u001b[0m     \u001b[0mgenedata\u001b[0m \u001b[0;34m=\u001b[0m \u001b[0mnp\u001b[0m\u001b[0;34m.\u001b[0m\u001b[0marray\u001b[0m\u001b[0;34m(\u001b[0m\u001b[0;34m[\u001b[0m\u001b[0mfpkm\u001b[0m \u001b[0;32mfor\u001b[0m \u001b[0mfpkm\u001b[0m \u001b[0;32min\u001b[0m \u001b[0mdf\u001b[0m\u001b[0;34m.\u001b[0m\u001b[0mloc\u001b[0m\u001b[0;34m[\u001b[0m\u001b[0mdf\u001b[0m\u001b[0;34m[\u001b[0m\u001b[0;34m'gene'\u001b[0m\u001b[0;34m]\u001b[0m\u001b[0;34m==\u001b[0m\u001b[0mgenename\u001b[0m\u001b[0;34m]\u001b[0m\u001b[0;34m.\u001b[0m\u001b[0mloc\u001b[0m\u001b[0;34m[\u001b[0m\u001b[0;34m:\u001b[0m\u001b[0;34m,\u001b[0m\u001b[0mdf\u001b[0m\u001b[0;34m.\u001b[0m\u001b[0mkeys\u001b[0m\u001b[0;34m(\u001b[0m\u001b[0;34m)\u001b[0m\u001b[0;34m[\u001b[0m\u001b[0;36m1\u001b[0m\u001b[0;34m:\u001b[0m\u001b[0;34m]\u001b[0m\u001b[0;34m]\u001b[0m\u001b[0;34m.\u001b[0m\u001b[0mvalues\u001b[0m\u001b[0;34m.\u001b[0m\u001b[0mreshape\u001b[0m\u001b[0;34m(\u001b[0m\u001b[0mnfiles\u001b[0m\u001b[0;34m,\u001b[0m\u001b[0;36m1\u001b[0m\u001b[0;34m)\u001b[0m \u001b[0;32mif\u001b[0m \u001b[0;34m(\u001b[0m\u001b[0mfpkm\u001b[0m\u001b[0;34m>\u001b[0m\u001b[0;36m1e-1\u001b[0m\u001b[0;34m)\u001b[0m\u001b[0;34m&\u001b[0m\u001b[0;34m(\u001b[0m\u001b[0mfpkm\u001b[0m\u001b[0;34m<\u001b[0m\u001b[0;36m1e5\u001b[0m\u001b[0;34m)\u001b[0m\u001b[0;34m]\u001b[0m\u001b[0;34m)\u001b[0m\u001b[0;34m\u001b[0m\u001b[0m\n\u001b[1;32m     19\u001b[0m     \u001b[0;32mtry\u001b[0m\u001b[0;34m:\u001b[0m\u001b[0;34m\u001b[0m\u001b[0m\n",
      "\u001b[0;32m/Users/filippo/anaconda3/envs/thesis/lib/python2.7/site-packages/pandas/core/indexing.pyc\u001b[0m in \u001b[0;36m__getitem__\u001b[0;34m(self, key)\u001b[0m\n\u001b[1;32m   1476\u001b[0m \u001b[0;34m\u001b[0m\u001b[0m\n\u001b[1;32m   1477\u001b[0m             \u001b[0mmaybe_callable\u001b[0m \u001b[0;34m=\u001b[0m \u001b[0mcom\u001b[0m\u001b[0;34m.\u001b[0m\u001b[0m_apply_if_callable\u001b[0m\u001b[0;34m(\u001b[0m\u001b[0mkey\u001b[0m\u001b[0;34m,\u001b[0m \u001b[0mself\u001b[0m\u001b[0;34m.\u001b[0m\u001b[0mobj\u001b[0m\u001b[0;34m)\u001b[0m\u001b[0;34m\u001b[0m\u001b[0m\n\u001b[0;32m-> 1478\u001b[0;31m             \u001b[0;32mreturn\u001b[0m \u001b[0mself\u001b[0m\u001b[0;34m.\u001b[0m\u001b[0m_getitem_axis\u001b[0m\u001b[0;34m(\u001b[0m\u001b[0mmaybe_callable\u001b[0m\u001b[0;34m,\u001b[0m \u001b[0maxis\u001b[0m\u001b[0;34m=\u001b[0m\u001b[0maxis\u001b[0m\u001b[0;34m)\u001b[0m\u001b[0;34m\u001b[0m\u001b[0m\n\u001b[0m\u001b[1;32m   1479\u001b[0m \u001b[0;34m\u001b[0m\u001b[0m\n\u001b[1;32m   1480\u001b[0m     \u001b[0;32mdef\u001b[0m \u001b[0m_is_scalar_access\u001b[0m\u001b[0;34m(\u001b[0m\u001b[0mself\u001b[0m\u001b[0;34m,\u001b[0m \u001b[0mkey\u001b[0m\u001b[0;34m)\u001b[0m\u001b[0;34m:\u001b[0m\u001b[0;34m\u001b[0m\u001b[0m\n",
      "\u001b[0;32m/Users/filippo/anaconda3/envs/thesis/lib/python2.7/site-packages/pandas/core/indexing.pyc\u001b[0m in \u001b[0;36m_getitem_axis\u001b[0;34m(self, key, axis)\u001b[0m\n\u001b[1;32m   1866\u001b[0m             \u001b[0;32mreturn\u001b[0m \u001b[0mself\u001b[0m\u001b[0;34m.\u001b[0m\u001b[0m_get_slice_axis\u001b[0m\u001b[0;34m(\u001b[0m\u001b[0mkey\u001b[0m\u001b[0;34m,\u001b[0m \u001b[0maxis\u001b[0m\u001b[0;34m=\u001b[0m\u001b[0maxis\u001b[0m\u001b[0;34m)\u001b[0m\u001b[0;34m\u001b[0m\u001b[0m\n\u001b[1;32m   1867\u001b[0m         \u001b[0;32melif\u001b[0m \u001b[0mcom\u001b[0m\u001b[0;34m.\u001b[0m\u001b[0mis_bool_indexer\u001b[0m\u001b[0;34m(\u001b[0m\u001b[0mkey\u001b[0m\u001b[0;34m)\u001b[0m\u001b[0;34m:\u001b[0m\u001b[0;34m\u001b[0m\u001b[0m\n\u001b[0;32m-> 1868\u001b[0;31m             \u001b[0;32mreturn\u001b[0m \u001b[0mself\u001b[0m\u001b[0;34m.\u001b[0m\u001b[0m_getbool_axis\u001b[0m\u001b[0;34m(\u001b[0m\u001b[0mkey\u001b[0m\u001b[0;34m,\u001b[0m \u001b[0maxis\u001b[0m\u001b[0;34m=\u001b[0m\u001b[0maxis\u001b[0m\u001b[0;34m)\u001b[0m\u001b[0;34m\u001b[0m\u001b[0m\n\u001b[0m\u001b[1;32m   1869\u001b[0m         \u001b[0;32melif\u001b[0m \u001b[0mis_list_like_indexer\u001b[0m\u001b[0;34m(\u001b[0m\u001b[0mkey\u001b[0m\u001b[0;34m)\u001b[0m\u001b[0;34m:\u001b[0m\u001b[0;34m\u001b[0m\u001b[0m\n\u001b[1;32m   1870\u001b[0m \u001b[0;34m\u001b[0m\u001b[0m\n",
      "\u001b[0;32m/Users/filippo/anaconda3/envs/thesis/lib/python2.7/site-packages/pandas/core/indexing.pyc\u001b[0m in \u001b[0;36m_getbool_axis\u001b[0;34m(self, key, axis)\u001b[0m\n\u001b[1;32m   1494\u001b[0m         \u001b[0minds\u001b[0m\u001b[0;34m,\u001b[0m \u001b[0;34m=\u001b[0m \u001b[0mkey\u001b[0m\u001b[0;34m.\u001b[0m\u001b[0mnonzero\u001b[0m\u001b[0;34m(\u001b[0m\u001b[0;34m)\u001b[0m\u001b[0;34m\u001b[0m\u001b[0m\n\u001b[1;32m   1495\u001b[0m         \u001b[0;32mtry\u001b[0m\u001b[0;34m:\u001b[0m\u001b[0;34m\u001b[0m\u001b[0m\n\u001b[0;32m-> 1496\u001b[0;31m             \u001b[0;32mreturn\u001b[0m \u001b[0mself\u001b[0m\u001b[0;34m.\u001b[0m\u001b[0mobj\u001b[0m\u001b[0;34m.\u001b[0m\u001b[0m_take\u001b[0m\u001b[0;34m(\u001b[0m\u001b[0minds\u001b[0m\u001b[0;34m,\u001b[0m \u001b[0maxis\u001b[0m\u001b[0;34m=\u001b[0m\u001b[0maxis\u001b[0m\u001b[0;34m)\u001b[0m\u001b[0;34m\u001b[0m\u001b[0m\n\u001b[0m\u001b[1;32m   1497\u001b[0m         \u001b[0;32mexcept\u001b[0m \u001b[0mException\u001b[0m \u001b[0;32mas\u001b[0m \u001b[0mdetail\u001b[0m\u001b[0;34m:\u001b[0m\u001b[0;34m\u001b[0m\u001b[0m\n\u001b[1;32m   1498\u001b[0m             \u001b[0;32mraise\u001b[0m \u001b[0mself\u001b[0m\u001b[0;34m.\u001b[0m\u001b[0m_exception\u001b[0m\u001b[0;34m(\u001b[0m\u001b[0mdetail\u001b[0m\u001b[0;34m)\u001b[0m\u001b[0;34m\u001b[0m\u001b[0m\n",
      "\u001b[0;32m/Users/filippo/anaconda3/envs/thesis/lib/python2.7/site-packages/pandas/core/generic.pyc\u001b[0m in \u001b[0;36m_take\u001b[0;34m(self, indices, axis, is_copy)\u001b[0m\n\u001b[1;32m   2787\u001b[0m         new_data = self._data.take(indices,\n\u001b[1;32m   2788\u001b[0m                                    \u001b[0maxis\u001b[0m\u001b[0;34m=\u001b[0m\u001b[0mself\u001b[0m\u001b[0;34m.\u001b[0m\u001b[0m_get_block_manager_axis\u001b[0m\u001b[0;34m(\u001b[0m\u001b[0maxis\u001b[0m\u001b[0;34m)\u001b[0m\u001b[0;34m,\u001b[0m\u001b[0;34m\u001b[0m\u001b[0m\n\u001b[0;32m-> 2789\u001b[0;31m                                    verify=True)\n\u001b[0m\u001b[1;32m   2790\u001b[0m         \u001b[0mresult\u001b[0m \u001b[0;34m=\u001b[0m \u001b[0mself\u001b[0m\u001b[0;34m.\u001b[0m\u001b[0m_constructor\u001b[0m\u001b[0;34m(\u001b[0m\u001b[0mnew_data\u001b[0m\u001b[0;34m)\u001b[0m\u001b[0;34m.\u001b[0m\u001b[0m__finalize__\u001b[0m\u001b[0;34m(\u001b[0m\u001b[0mself\u001b[0m\u001b[0;34m)\u001b[0m\u001b[0;34m\u001b[0m\u001b[0m\n\u001b[1;32m   2791\u001b[0m \u001b[0;34m\u001b[0m\u001b[0m\n",
      "\u001b[0;32m/Users/filippo/anaconda3/envs/thesis/lib/python2.7/site-packages/pandas/core/internals.pyc\u001b[0m in \u001b[0;36mtake\u001b[0;34m(self, indexer, axis, verify, convert)\u001b[0m\n\u001b[1;32m   4537\u001b[0m         \u001b[0mnew_labels\u001b[0m \u001b[0;34m=\u001b[0m \u001b[0mself\u001b[0m\u001b[0;34m.\u001b[0m\u001b[0maxes\u001b[0m\u001b[0;34m[\u001b[0m\u001b[0maxis\u001b[0m\u001b[0;34m]\u001b[0m\u001b[0;34m.\u001b[0m\u001b[0mtake\u001b[0m\u001b[0;34m(\u001b[0m\u001b[0mindexer\u001b[0m\u001b[0;34m)\u001b[0m\u001b[0;34m\u001b[0m\u001b[0m\n\u001b[1;32m   4538\u001b[0m         return self.reindex_indexer(new_axis=new_labels, indexer=indexer,\n\u001b[0;32m-> 4539\u001b[0;31m                                     axis=axis, allow_dups=True)\n\u001b[0m\u001b[1;32m   4540\u001b[0m \u001b[0;34m\u001b[0m\u001b[0m\n\u001b[1;32m   4541\u001b[0m     \u001b[0;32mdef\u001b[0m \u001b[0mmerge\u001b[0m\u001b[0;34m(\u001b[0m\u001b[0mself\u001b[0m\u001b[0;34m,\u001b[0m \u001b[0mother\u001b[0m\u001b[0;34m,\u001b[0m \u001b[0mlsuffix\u001b[0m\u001b[0;34m=\u001b[0m\u001b[0;34m''\u001b[0m\u001b[0;34m,\u001b[0m \u001b[0mrsuffix\u001b[0m\u001b[0;34m=\u001b[0m\u001b[0;34m''\u001b[0m\u001b[0;34m)\u001b[0m\u001b[0;34m:\u001b[0m\u001b[0;34m\u001b[0m\u001b[0m\n",
      "\u001b[0;32m/Users/filippo/anaconda3/envs/thesis/lib/python2.7/site-packages/pandas/core/internals.pyc\u001b[0m in \u001b[0;36mreindex_indexer\u001b[0;34m(self, new_axis, indexer, axis, fill_value, allow_dups, copy)\u001b[0m\n\u001b[1;32m   4423\u001b[0m             new_blocks = [blk.take_nd(indexer, axis=axis, fill_tuple=(\n\u001b[1;32m   4424\u001b[0m                 fill_value if fill_value is not None else blk.fill_value,))\n\u001b[0;32m-> 4425\u001b[0;31m                 for blk in self.blocks]\n\u001b[0m\u001b[1;32m   4426\u001b[0m \u001b[0;34m\u001b[0m\u001b[0m\n\u001b[1;32m   4427\u001b[0m         \u001b[0mnew_axes\u001b[0m \u001b[0;34m=\u001b[0m \u001b[0mlist\u001b[0m\u001b[0;34m(\u001b[0m\u001b[0mself\u001b[0m\u001b[0;34m.\u001b[0m\u001b[0maxes\u001b[0m\u001b[0;34m)\u001b[0m\u001b[0;34m\u001b[0m\u001b[0m\n",
      "\u001b[0;32m/Users/filippo/anaconda3/envs/thesis/lib/python2.7/site-packages/pandas/core/internals.pyc\u001b[0m in \u001b[0;36mtake_nd\u001b[0;34m(self, indexer, axis, new_mgr_locs, fill_tuple)\u001b[0m\n\u001b[1;32m   1247\u001b[0m         \u001b[0mvalues\u001b[0m \u001b[0;34m=\u001b[0m \u001b[0mself\u001b[0m\u001b[0;34m.\u001b[0m\u001b[0mvalues\u001b[0m\u001b[0;34m\u001b[0m\u001b[0m\n\u001b[1;32m   1248\u001b[0m         \u001b[0;32mif\u001b[0m \u001b[0mself\u001b[0m\u001b[0;34m.\u001b[0m\u001b[0mis_sparse\u001b[0m\u001b[0;34m:\u001b[0m\u001b[0;34m\u001b[0m\u001b[0m\n\u001b[0;32m-> 1249\u001b[0;31m             \u001b[0mvalues\u001b[0m \u001b[0;34m=\u001b[0m \u001b[0mself\u001b[0m\u001b[0;34m.\u001b[0m\u001b[0mget_values\u001b[0m\u001b[0;34m(\u001b[0m\u001b[0;34m)\u001b[0m\u001b[0;34m\u001b[0m\u001b[0m\n\u001b[0m\u001b[1;32m   1250\u001b[0m \u001b[0;34m\u001b[0m\u001b[0m\n\u001b[1;32m   1251\u001b[0m         \u001b[0;32mif\u001b[0m \u001b[0mfill_tuple\u001b[0m \u001b[0;32mis\u001b[0m \u001b[0mNone\u001b[0m\u001b[0;34m:\u001b[0m\u001b[0;34m\u001b[0m\u001b[0m\n",
      "\u001b[0;32m/Users/filippo/anaconda3/envs/thesis/lib/python2.7/site-packages/pandas/core/internals.pyc\u001b[0m in \u001b[0;36mget_values\u001b[0;34m(self, dtype)\u001b[0m\n\u001b[1;32m   1751\u001b[0m     \u001b[0;32mdef\u001b[0m \u001b[0mget_values\u001b[0m\u001b[0;34m(\u001b[0m\u001b[0mself\u001b[0m\u001b[0;34m,\u001b[0m \u001b[0mdtype\u001b[0m\u001b[0;34m=\u001b[0m\u001b[0mNone\u001b[0m\u001b[0;34m)\u001b[0m\u001b[0;34m:\u001b[0m\u001b[0;34m\u001b[0m\u001b[0m\n\u001b[1;32m   1752\u001b[0m         \u001b[0;34m\"\"\" need to to_dense myself (and always return a ndim sized object) \"\"\"\u001b[0m\u001b[0;34m\u001b[0m\u001b[0m\n\u001b[0;32m-> 1753\u001b[0;31m         \u001b[0mvalues\u001b[0m \u001b[0;34m=\u001b[0m \u001b[0mself\u001b[0m\u001b[0;34m.\u001b[0m\u001b[0mvalues\u001b[0m\u001b[0;34m.\u001b[0m\u001b[0mto_dense\u001b[0m\u001b[0;34m(\u001b[0m\u001b[0;34m)\u001b[0m\u001b[0;34m\u001b[0m\u001b[0m\n\u001b[0m\u001b[1;32m   1754\u001b[0m         \u001b[0;32mif\u001b[0m \u001b[0mvalues\u001b[0m\u001b[0;34m.\u001b[0m\u001b[0mndim\u001b[0m \u001b[0;34m==\u001b[0m \u001b[0mself\u001b[0m\u001b[0;34m.\u001b[0m\u001b[0mndim\u001b[0m \u001b[0;34m-\u001b[0m \u001b[0;36m1\u001b[0m\u001b[0;34m:\u001b[0m\u001b[0;34m\u001b[0m\u001b[0m\n\u001b[1;32m   1755\u001b[0m             \u001b[0mvalues\u001b[0m \u001b[0;34m=\u001b[0m \u001b[0mvalues\u001b[0m\u001b[0;34m.\u001b[0m\u001b[0mreshape\u001b[0m\u001b[0;34m(\u001b[0m\u001b[0;34m(\u001b[0m\u001b[0;36m1\u001b[0m\u001b[0;34m,\u001b[0m\u001b[0;34m)\u001b[0m \u001b[0;34m+\u001b[0m \u001b[0mvalues\u001b[0m\u001b[0;34m.\u001b[0m\u001b[0mshape\u001b[0m\u001b[0;34m)\u001b[0m\u001b[0;34m\u001b[0m\u001b[0m\n",
      "\u001b[0;32m/Users/filippo/anaconda3/envs/thesis/lib/python2.7/site-packages/pandas/core/sparse/array.pyc\u001b[0m in \u001b[0;36mto_dense\u001b[0;34m(self, fill)\u001b[0m\n\u001b[1;32m    388\u001b[0m                            \"will be removed in a future version.\"),\n\u001b[1;32m    389\u001b[0m                           FutureWarning, stacklevel=2)\n\u001b[0;32m--> 390\u001b[0;31m         \u001b[0;32mreturn\u001b[0m \u001b[0mself\u001b[0m\u001b[0;34m.\u001b[0m\u001b[0mvalues\u001b[0m\u001b[0;34m\u001b[0m\u001b[0m\n\u001b[0m\u001b[1;32m    391\u001b[0m \u001b[0;34m\u001b[0m\u001b[0m\n\u001b[1;32m    392\u001b[0m     \u001b[0;32mdef\u001b[0m \u001b[0m__iter__\u001b[0m\u001b[0;34m(\u001b[0m\u001b[0mself\u001b[0m\u001b[0;34m)\u001b[0m\u001b[0;34m:\u001b[0m\u001b[0;34m\u001b[0m\u001b[0m\n",
      "\u001b[0;32m/Users/filippo/anaconda3/envs/thesis/lib/python2.7/site-packages/pandas/core/sparse/array.pyc\u001b[0m in \u001b[0;36mvalues\u001b[0;34m(self)\u001b[0m\n\u001b[1;32m    336\u001b[0m         \"\"\"\n\u001b[1;32m    337\u001b[0m         \u001b[0moutput\u001b[0m \u001b[0;34m=\u001b[0m \u001b[0mnp\u001b[0m\u001b[0;34m.\u001b[0m\u001b[0mempty\u001b[0m\u001b[0;34m(\u001b[0m\u001b[0mlen\u001b[0m\u001b[0;34m(\u001b[0m\u001b[0mself\u001b[0m\u001b[0;34m)\u001b[0m\u001b[0;34m,\u001b[0m \u001b[0mdtype\u001b[0m\u001b[0;34m=\u001b[0m\u001b[0mself\u001b[0m\u001b[0;34m.\u001b[0m\u001b[0mdtype\u001b[0m\u001b[0;34m)\u001b[0m\u001b[0;34m\u001b[0m\u001b[0m\n\u001b[0;32m--> 338\u001b[0;31m         \u001b[0mint_index\u001b[0m \u001b[0;34m=\u001b[0m \u001b[0mself\u001b[0m\u001b[0;34m.\u001b[0m\u001b[0msp_index\u001b[0m\u001b[0;34m.\u001b[0m\u001b[0mto_int_index\u001b[0m\u001b[0;34m(\u001b[0m\u001b[0;34m)\u001b[0m\u001b[0;34m\u001b[0m\u001b[0m\n\u001b[0m\u001b[1;32m    339\u001b[0m         \u001b[0moutput\u001b[0m\u001b[0;34m.\u001b[0m\u001b[0mfill\u001b[0m\u001b[0;34m(\u001b[0m\u001b[0mself\u001b[0m\u001b[0;34m.\u001b[0m\u001b[0mfill_value\u001b[0m\u001b[0;34m)\u001b[0m\u001b[0;34m\u001b[0m\u001b[0m\n\u001b[1;32m    340\u001b[0m         \u001b[0moutput\u001b[0m\u001b[0;34m.\u001b[0m\u001b[0mput\u001b[0m\u001b[0;34m(\u001b[0m\u001b[0mint_index\u001b[0m\u001b[0;34m.\u001b[0m\u001b[0mindices\u001b[0m\u001b[0;34m,\u001b[0m \u001b[0mself\u001b[0m\u001b[0;34m)\u001b[0m\u001b[0;34m\u001b[0m\u001b[0m\n",
      "\u001b[0;31mKeyboardInterrupt\u001b[0m: "
     ]
    }
   ],
   "source": [
    "genesnames = []\n",
    "for g in query_result.index.values[:5]:\n",
    "    gene = geneinfo(g[:15], df, nfiles)\n",
    "    genesnames.append(gene)"
   ]
  },
  {
   "cell_type": "code",
   "execution_count": 23,
   "metadata": {},
   "outputs": [
    {
     "data": {
      "text/plain": [
       "[{'avg': 17.20668007055664, 'data': array([[0.86558625],\n",
       "         [0.15605025],\n",
       "         [2.22784048],\n",
       "         ...,\n",
       "         [1.98114753],\n",
       "         [6.06254343],\n",
       "         [3.17011883]]), 'name': 'ENSG00000163736', 'type': 'unknown', 'var': 138493.83183372018},\n",
       " {'avg': 24.108028563321078, 'data': array([[1.0841775 ],\n",
       "         [1.31162927],\n",
       "         [0.10410737],\n",
       "         ...,\n",
       "         [0.15266271],\n",
       "         [0.26385358],\n",
       "         [0.32728772]]), 'name': 'ENSG00000170890', 'type': 'unknown', 'var': 120518.33784666425}]"
      ]
     },
     "execution_count": 23,
     "metadata": {},
     "output_type": "execute_result"
    }
   ],
   "source": [
    "genesnames"
   ]
  },
  {
   "cell_type": "code",
   "execution_count": null,
   "metadata": {},
   "outputs": [],
   "source": []
  },
  {
   "cell_type": "code",
   "execution_count": null,
   "metadata": {},
   "outputs": [],
   "source": []
  },
  {
   "cell_type": "markdown",
   "metadata": {},
   "source": [
    "### plot coordinates"
   ]
  },
  {
   "cell_type": "code",
   "execution_count": null,
   "metadata": {},
   "outputs": [],
   "source": [
    "fig = plt.figure(figsize=(18,8))\n",
    "plt.subplot(121)\n",
    "plt.scatter(means, variances)\n",
    "for g in genesnames:\n",
    "    plt.scatter([g['avg']],[g['var']], marker='x', s=90, label=g['name'])\n",
    "plt.xlabel(\"$<FPKM>$\", fontsize=16)\n",
    "plt.ylabel(\"$\\sigma^2_{FPKM}$\", fontsize=16)\n",
    "#plt.xlim(1e-2,200)\n",
    "plt.ylim((1e-2,1e12))\n",
    "#plt.ylim((1e-2,1e12))\n",
    "plt.legend()\n",
    "plt.subplot(122)\n",
    "plt.scatter(means, variances)\n",
    "for g in genesnames:\n",
    "    plt.scatter([g['avg']],[g['var']], marker='x', s=90, label=g['name'])\n",
    "plt.xlabel(\"$<FPKM>$\", fontsize=16)\n",
    "plt.ylabel(\"$\\sigma^2_{FPKM}$\", fontsize=16)\n",
    "plt.yscale('log')\n",
    "#plt.xlim(1e-2,200)\n",
    "#plt.ylim((1e-5,1e8))\n",
    "plt.ylim((1e-5,1e12))\n",
    "plt.legend()\n",
    "plt.show()\n",
    "fig.savefig(\"plot/genes/subset.png\")"
   ]
  },
  {
   "cell_type": "markdown",
   "metadata": {},
   "source": [
    "### plot all"
   ]
  },
  {
   "cell_type": "code",
   "execution_count": 24,
   "metadata": {
    "scrolled": true
   },
   "outputs": [
    {
     "name": "stdout",
     "output_type": "stream",
     "text": [
      "ENSG00000163736\n"
     ]
    },
    {
     "data": {
      "image/png": "[encoded data removed]",
      "text/plain": [
       "<Figure size 1080x360 with 1 Axes>"
      ]
     },
     "metadata": {
      "needs_background": "light"
     },
     "output_type": "display_data"
    },
    {
     "data": {
      "image/png": "[encoded data removed]",
      "text/plain": [
       "<Figure size 1080x360 with 1 Axes>"
      ]
     },
     "metadata": {
      "needs_background": "light"
     },
     "output_type": "display_data"
    },
    {
     "name": "stdout",
     "output_type": "stream",
     "text": [
      "ENSG00000170890\n"
     ]
    },
    {
     "data": {
      "image/png": "[encoded data removed]",
      "text/plain": [
       "<Figure size 1080x360 with 1 Axes>"
      ]
     },
     "metadata": {
      "needs_background": "light"
     },
     "output_type": "display_data"
    },
    {
     "data": {
      "image/png": "[encoded data removed]",
      "text/plain": [
       "<Figure size 1080x360 with 1 Axes>"
      ]
     },
     "metadata": {
      "needs_background": "light"
     },
     "output_type": "display_data"
    }
   ],
   "source": [
    "for gene in genesnames:\n",
    "    print(gene['name'])\n",
    "    genedistr(gene);\n",
    "    geneplot(gene);\n",
    "    #genecoord(gene);"
   ]
  },
  {
   "cell_type": "code",
   "execution_count": null,
   "metadata": {},
   "outputs": [],
   "source": []
  },
  {
   "cell_type": "markdown",
   "metadata": {},
   "source": [
    "## Plot by class"
   ]
  },
  {
   "cell_type": "code",
   "execution_count": null,
   "metadata": {},
   "outputs": [],
   "source": [
    "types_of_gene = np.unique(df_mv['type_of_gene'].values)\n",
    "types_of_gene"
   ]
  },
  {
   "cell_type": "code",
   "execution_count": null,
   "metadata": {},
   "outputs": [],
   "source": [
    "xscale='log'\n",
    "yscale='log'\n",
    "fig = plt.figure(figsize=(10,10))\n",
    "#['ncRNA', 'rRNA', 'scRNA', 'snRNA', 'snoRNA']\n",
    "for type_of_gene in types_of_gene[:-1]:\n",
    "    subdf = df_mv[df_mv['type_of_gene']==type_of_gene]\n",
    "    plt.scatter(subdf['mean'], subdf['variance'], label = type_of_gene, marker='o', alpha=0.7, linewidths=0.1)\n",
    "plt.xlabel(\"$<FPKM>$\", fontsize=16)\n",
    "plt.ylabel(\"$\\sigma^2_{FPKM}$\", fontsize=16)\n",
    "plt.yscale(yscale)\n",
    "plt.xscale(xscale)\n",
    "plt.ylim(1e-7, 1e8)\n",
    "plt.xlim(5e-2, 1.5e4)\n",
    "plt.legend()\n",
    "plt.show()\n",
    "fig.savefig('allgenes_classes_known_'+yscale+xscale+'.png')"
   ]
  },
  {
   "cell_type": "code",
   "execution_count": null,
   "metadata": {},
   "outputs": [],
   "source": [
    "xscale='log'\n",
    "yscale='log'\n",
    "fig = plt.figure(figsize=(30,15))\n",
    "pindex = 1\n",
    "for type_of_gene in types_of_gene:\n",
    "    ax = plt.subplot(2,4,pindex)\n",
    "    subdf = df_mv[df_mv['type_of_gene']==type_of_gene]\n",
    "    ax.scatter(subdf['mean'], subdf['variance'], label = type_of_gene, marker='o', alpha=0.7, linewidths=0.1, c='C'+str(pindex))\n",
    "    ax.set_title(type_of_gene)\n",
    "    plt.xlabel(\"$<FPKM>$\", fontsize=14)\n",
    "    plt.ylabel(\"$\\sigma^2_{FPKM}$\", fontsize=14)\n",
    "    plt.yscale(yscale)\n",
    "    plt.xscale(xscale)\n",
    "    plt.ylim(1e-7, 1e9)\n",
    "    plt.xlim(5e-2, 2e4)\n",
    "    pindex+=1\n",
    "plt.show()\n",
    "fig.savefig('allgenes_perclasses_'+yscale+xscale+'.png')"
   ]
  },
  {
   "cell_type": "code",
   "execution_count": null,
   "metadata": {},
   "outputs": [],
   "source": []
  },
  {
   "cell_type": "code",
   "execution_count": null,
   "metadata": {},
   "outputs": [],
   "source": []
  },
  {
   "cell_type": "code",
   "execution_count": null,
   "metadata": {},
   "outputs": [],
   "source": []
  },
  {
   "cell_type": "code",
   "execution_count": null,
   "metadata": {},
   "outputs": [],
   "source": []
  },
  {
   "cell_type": "code",
   "execution_count": null,
   "metadata": {},
   "outputs": [],
   "source": []
  },
  {
   "cell_type": "code",
   "execution_count": null,
   "metadata": {},
   "outputs": [],
   "source": []
  },
  {
   "cell_type": "code",
   "execution_count": null,
   "metadata": {},
   "outputs": [],
   "source": []
  },
  {
   "cell_type": "code",
   "execution_count": null,
   "metadata": {},
   "outputs": [],
   "source": []
  },
  {
   "cell_type": "code",
   "execution_count": null,
   "metadata": {},
   "outputs": [],
   "source": []
  },
  {
   "cell_type": "code",
   "execution_count": null,
   "metadata": {},
   "outputs": [],
   "source": []
  },
  {
   "cell_type": "markdown",
   "metadata": {},
   "source": [
    "# null"
   ]
  },
  {
   "cell_type": "code",
   "execution_count": null,
   "metadata": {},
   "outputs": [],
   "source": [
    "df_null = pd.read_csv((\"%s/nullTable.csv\"%working_dir))"
   ]
  },
  {
   "cell_type": "code",
   "execution_count": null,
   "metadata": {},
   "outputs": [],
   "source": [
    "df_null.head()"
   ]
  },
  {
   "cell_type": "code",
   "execution_count": null,
   "metadata": {},
   "outputs": [],
   "source": [
    "#gene = 456\n",
    "genename = 'ENSG00000078237'\n",
    "#genename = df['gene'][gene]\n",
    "generow = df_null.loc[df_null['gene']==genename].loc[:,df_null.keys()[1:]].values.reshape(nfiles,1)\n",
    "maxfpkm = np.max(generow)\n",
    "bins = 15\n",
    "width = maxfpkm / bins\n",
    "_range = (0 - 0.5 * width, maxfpkm + 0.5 * width)\n",
    "genedata = df_null.loc[df_null['gene']==genename].loc[:,df_null.keys()[1:]].values.reshape(nfiles,1)\n",
    "print(\"name: %s\"%genename)\n",
    "try:\n",
    "    q = mg.getgenes(genename[:15], 'name,symbol,refseq.rna,type_of_gene')[0]\n",
    "    print(\"Descr: %s\"%q['name'])\n",
    "    print(\"Symbol: %s\"%q['symbol'])\n",
    "except:\n",
    "    pass\n",
    "print(\"FPKM mean: %10.2f\"%np.average(genedata))\n",
    "print(\"FPKM sigma: %10.2f\"%np.std(genedata))\n",
    "print(\"FPKM var: %10.2f\"%np.var(genedata))"
   ]
  },
  {
   "cell_type": "code",
   "execution_count": null,
   "metadata": {},
   "outputs": [],
   "source": [
    "means_null = [np.average(df_null.loc[i,df_null.keys()[1:]].values) for i,g in enumerate(df_null.loc[:,df_null.keys()[0]].values)]\n",
    "variances_null = [np.var(df_null.loc[i,df_null.keys()[1:]].values) for i,g in enumerate(df_null.loc[:,df_null.keys()[0]].values)]"
   ]
  },
  {
   "cell_type": "code",
   "execution_count": null,
   "metadata": {},
   "outputs": [],
   "source": [
    "fig=plt.figure()\n",
    "plt.scatter(means, variances, label='data')\n",
    "plt.scatter(means_null, sigmas_null, label='null')\n",
    "plt.xlabel(\"$<FPKM>$\", fontsize=16)\n",
    "plt.ylabel(\"$\\sigma^2_{FPKM}$\", fontsize=16)\n",
    "plt.legend(fontsize=18)\n",
    "plt.show()"
   ]
  },
  {
   "cell_type": "code",
   "execution_count": null,
   "metadata": {},
   "outputs": [],
   "source": [
    "fig.savefig(\"varmean_null.pdf\")"
   ]
  },
  {
   "cell_type": "markdown",
   "metadata": {},
   "source": [
    "## data size Heaps check"
   ]
  },
  {
   "cell_type": "code",
   "execution_count": null,
   "metadata": {},
   "outputs": [],
   "source": [
    "col = df.loc[:,df.keys()[1]].values\n",
    "np.sum(col)"
   ]
  },
  {
   "cell_type": "code",
   "execution_count": null,
   "metadata": {},
   "outputs": [],
   "source": [
    "len(col[col.nonzero()])"
   ]
  },
  {
   "cell_type": "code",
   "execution_count": null,
   "metadata": {},
   "outputs": [],
   "source": [
    "x = []\n",
    "y = []\n",
    "for i in range(1, 1000):\n",
    "    col = df.loc[:,df.keys()[i]].values\n",
    "    x.append(np.sum(col))\n",
    "    y.append(len(col[col.nonzero()]))\n",
    "plt.scatter(x,y)"
   ]
  },
  {
   "cell_type": "code",
   "execution_count": null,
   "metadata": {},
   "outputs": [],
   "source": []
  },
  {
   "cell_type": "code",
   "execution_count": null,
   "metadata": {},
   "outputs": [],
   "source": []
  }
 ],
 "metadata": {
  "kernelspec": {
   "display_name": "Python 2",
   "language": "python",
   "name": "python2"
  },
  "language_info": {
   "codemirror_mode": {
    "name": "ipython",
    "version": 2
   },
   "file_extension": ".py",
   "mimetype": "text/x-python",
   "name": "python",
   "nbconvert_exporter": "python",
   "pygments_lexer": "ipython2",
   "version": "2.7.15"
  }
 },
 "nbformat": 4,
 "nbformat_minor": 2
}
