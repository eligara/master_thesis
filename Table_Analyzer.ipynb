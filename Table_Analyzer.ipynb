{
 "cells": [
  {
   "cell_type": "code",
   "execution_count": 1,
   "metadata": {},
   "outputs": [],
   "source": [
    "import os\n",
    "import sys\n",
    "import pandas as pd\n",
    "import numpy as np\n",
    "from matplotlib import pyplot as plt\n",
    "from scipy.optimize import curve_fit, fminbound\n",
    "from scipy import stats\n",
    "from scipy import stats as st\n",
    "from tableanalyser import discretize_df_columns"
   ]
  },
  {
   "cell_type": "code",
   "execution_count": 2,
   "metadata": {},
   "outputs": [],
   "source": [
    "working_dir = \"/Users/filippo/Developer/tesi\"\n",
    "os.chdir(working_dir)"
   ]
  },
  {
   "cell_type": "code",
   "execution_count": 3,
   "metadata": {},
   "outputs": [],
   "source": [
    "normalisation_str = \"counts\""
   ]
  },
  {
   "cell_type": "code",
   "execution_count": 4,
   "metadata": {},
   "outputs": [
    {
     "data": {
      "text/html": [
       "<div>\n",
       "<style scoped>\n",
       "    .dataframe tbody tr th:only-of-type {\n",
       "        vertical-align: middle;\n",
       "    }\n",
       "\n",
       "    .dataframe tbody tr th {\n",
       "        vertical-align: top;\n",
       "    }\n",
       "\n",
       "    .dataframe thead th {\n",
       "        text-align: right;\n",
       "    }\n",
       "</style>\n",
       "<table border=\"1\" class=\"dataframe\">\n",
       "  <thead>\n",
       "    <tr style=\"text-align: right;\">\n",
       "      <th></th>\n",
       "      <th>TCGA-3X-AAVE-01A-11R-A41I-07</th>\n",
       "      <th>TCGA-ZD-A8I3-01A-11R-A41I-07</th>\n",
       "      <th>TCGA-ZU-A8S4-01A-11R-A41I-07</th>\n",
       "      <th>TCGA-W6-AA0S-01A-11R-A41I-07</th>\n",
       "      <th>TCGA-3X-AAVB-01A-31R-A41I-07</th>\n",
       "      <th>TCGA-W5-AA38-01A-11R-A41I-07</th>\n",
       "      <th>TCGA-W5-AA31-01A-11R-A41I-07</th>\n",
       "      <th>TCGA-3X-AAV9-01A-72R-A41I-07</th>\n",
       "      <th>TCGA-W5-AA2Z-01A-11R-A41I-07</th>\n",
       "      <th>TCGA-W5-AA2Q-01A-11R-A41I-07</th>\n",
       "      <th>...</th>\n",
       "      <th>GTEX-S32W-1126-SM-4AD5V</th>\n",
       "      <th>GTEX-U4B1-1226-SM-4DXT7</th>\n",
       "      <th>GTEX-S4UY-0926-SM-4AD6O</th>\n",
       "      <th>GTEX-TMMY-1526-SM-4DXST</th>\n",
       "      <th>GTEX-S4Q7-0926-SM-4AD5D</th>\n",
       "      <th>GTEX-U3ZN-1226-SM-4DXUD</th>\n",
       "      <th>GTEX-SNOS-0526-SM-4DM54</th>\n",
       "      <th>GTEX-U3ZM-0826-SM-4DXU6</th>\n",
       "      <th>GTEX-SNMC-0826-SM-4DM66</th>\n",
       "      <th>GTEX-SE5C-1026-SM-4BRUG</th>\n",
       "    </tr>\n",
       "    <tr>\n",
       "      <th>Hugo_Symbol</th>\n",
       "      <th></th>\n",
       "      <th></th>\n",
       "      <th></th>\n",
       "      <th></th>\n",
       "      <th></th>\n",
       "      <th></th>\n",
       "      <th></th>\n",
       "      <th></th>\n",
       "      <th></th>\n",
       "      <th></th>\n",
       "      <th></th>\n",
       "      <th></th>\n",
       "      <th></th>\n",
       "      <th></th>\n",
       "      <th></th>\n",
       "      <th></th>\n",
       "      <th></th>\n",
       "      <th></th>\n",
       "      <th></th>\n",
       "      <th></th>\n",
       "      <th></th>\n",
       "    </tr>\n",
       "  </thead>\n",
       "  <tbody>\n",
       "    <tr>\n",
       "      <th>ENSG00000114771</th>\n",
       "      <td>78.89</td>\n",
       "      <td>265.87</td>\n",
       "      <td>420.68</td>\n",
       "      <td>3.56</td>\n",
       "      <td>186.40</td>\n",
       "      <td>2.27</td>\n",
       "      <td>587.13</td>\n",
       "      <td>71.50</td>\n",
       "      <td>2935.74</td>\n",
       "      <td>450.94</td>\n",
       "      <td>...</td>\n",
       "      <td>15.45</td>\n",
       "      <td>98.73</td>\n",
       "      <td>50.27</td>\n",
       "      <td>0.88</td>\n",
       "      <td>48.52</td>\n",
       "      <td>5.82</td>\n",
       "      <td>112.77</td>\n",
       "      <td>5.45</td>\n",
       "      <td>1015.93</td>\n",
       "      <td>0.59</td>\n",
       "    </tr>\n",
       "    <tr>\n",
       "      <th>ENSG00000198691</th>\n",
       "      <td>18.97</td>\n",
       "      <td>111.99</td>\n",
       "      <td>7.57</td>\n",
       "      <td>1.36</td>\n",
       "      <td>5.45</td>\n",
       "      <td>10.63</td>\n",
       "      <td>38.67</td>\n",
       "      <td>85.82</td>\n",
       "      <td>6.41</td>\n",
       "      <td>20.11</td>\n",
       "      <td>...</td>\n",
       "      <td>8.71</td>\n",
       "      <td>20.56</td>\n",
       "      <td>0.13</td>\n",
       "      <td>47.17</td>\n",
       "      <td>14.24</td>\n",
       "      <td>89.51</td>\n",
       "      <td>7.94</td>\n",
       "      <td>43.32</td>\n",
       "      <td>0.06</td>\n",
       "      <td>4.62</td>\n",
       "    </tr>\n",
       "    <tr>\n",
       "      <th>ENSG00000073734</th>\n",
       "      <td>1.31</td>\n",
       "      <td>0.87</td>\n",
       "      <td>2.68</td>\n",
       "      <td>2.14</td>\n",
       "      <td>3.29</td>\n",
       "      <td>0.00</td>\n",
       "      <td>51.71</td>\n",
       "      <td>2.78</td>\n",
       "      <td>2.56</td>\n",
       "      <td>4.58</td>\n",
       "      <td>...</td>\n",
       "      <td>4.78</td>\n",
       "      <td>0.00</td>\n",
       "      <td>1.45</td>\n",
       "      <td>1.14</td>\n",
       "      <td>1.10</td>\n",
       "      <td>0.31</td>\n",
       "      <td>2.94</td>\n",
       "      <td>0.03</td>\n",
       "      <td>5.15</td>\n",
       "      <td>0.00</td>\n",
       "    </tr>\n",
       "    <tr>\n",
       "      <th>ENSG00000023839</th>\n",
       "      <td>376.41</td>\n",
       "      <td>567.10</td>\n",
       "      <td>17.00</td>\n",
       "      <td>11.55</td>\n",
       "      <td>2.05</td>\n",
       "      <td>693.58</td>\n",
       "      <td>199.85</td>\n",
       "      <td>15.91</td>\n",
       "      <td>64.80</td>\n",
       "      <td>14.78</td>\n",
       "      <td>...</td>\n",
       "      <td>25.54</td>\n",
       "      <td>9.13</td>\n",
       "      <td>21.32</td>\n",
       "      <td>32.82</td>\n",
       "      <td>8.25</td>\n",
       "      <td>7.82</td>\n",
       "      <td>10.16</td>\n",
       "      <td>0.35</td>\n",
       "      <td>6.52</td>\n",
       "      <td>7.94</td>\n",
       "    </tr>\n",
       "    <tr>\n",
       "      <th>ENSG00000118777</th>\n",
       "      <td>16.15</td>\n",
       "      <td>15.45</td>\n",
       "      <td>15.11</td>\n",
       "      <td>7.94</td>\n",
       "      <td>20.86</td>\n",
       "      <td>6.78</td>\n",
       "      <td>61.68</td>\n",
       "      <td>51.71</td>\n",
       "      <td>27.25</td>\n",
       "      <td>9.20</td>\n",
       "      <td>...</td>\n",
       "      <td>31.45</td>\n",
       "      <td>18.97</td>\n",
       "      <td>84.63</td>\n",
       "      <td>30.34</td>\n",
       "      <td>37.59</td>\n",
       "      <td>221.86</td>\n",
       "      <td>149.12</td>\n",
       "      <td>43.02</td>\n",
       "      <td>299.25</td>\n",
       "      <td>8.06</td>\n",
       "    </tr>\n",
       "  </tbody>\n",
       "</table>\n",
       "<p>5 rows × 5398 columns</p>\n",
       "</div>"
      ],
      "text/plain": [
       "                 TCGA-3X-AAVE-01A-11R-A41I-07  TCGA-ZD-A8I3-01A-11R-A41I-07  \\\n",
       "Hugo_Symbol                                                                   \n",
       "ENSG00000114771                         78.89                        265.87   \n",
       "ENSG00000198691                         18.97                        111.99   \n",
       "ENSG00000073734                          1.31                          0.87   \n",
       "ENSG00000023839                        376.41                        567.10   \n",
       "ENSG00000118777                         16.15                         15.45   \n",
       "\n",
       "                 TCGA-ZU-A8S4-01A-11R-A41I-07  TCGA-W6-AA0S-01A-11R-A41I-07  \\\n",
       "Hugo_Symbol                                                                   \n",
       "ENSG00000114771                        420.68                          3.56   \n",
       "ENSG00000198691                          7.57                          1.36   \n",
       "ENSG00000073734                          2.68                          2.14   \n",
       "ENSG00000023839                         17.00                         11.55   \n",
       "ENSG00000118777                         15.11                          7.94   \n",
       "\n",
       "                 TCGA-3X-AAVB-01A-31R-A41I-07  TCGA-W5-AA38-01A-11R-A41I-07  \\\n",
       "Hugo_Symbol                                                                   \n",
       "ENSG00000114771                        186.40                          2.27   \n",
       "ENSG00000198691                          5.45                         10.63   \n",
       "ENSG00000073734                          3.29                          0.00   \n",
       "ENSG00000023839                          2.05                        693.58   \n",
       "ENSG00000118777                         20.86                          6.78   \n",
       "\n",
       "                 TCGA-W5-AA31-01A-11R-A41I-07  TCGA-3X-AAV9-01A-72R-A41I-07  \\\n",
       "Hugo_Symbol                                                                   \n",
       "ENSG00000114771                        587.13                         71.50   \n",
       "ENSG00000198691                         38.67                         85.82   \n",
       "ENSG00000073734                         51.71                          2.78   \n",
       "ENSG00000023839                        199.85                         15.91   \n",
       "ENSG00000118777                         61.68                         51.71   \n",
       "\n",
       "                 TCGA-W5-AA2Z-01A-11R-A41I-07  TCGA-W5-AA2Q-01A-11R-A41I-07  \\\n",
       "Hugo_Symbol                                                                   \n",
       "ENSG00000114771                       2935.74                        450.94   \n",
       "ENSG00000198691                          6.41                         20.11   \n",
       "ENSG00000073734                          2.56                          4.58   \n",
       "ENSG00000023839                         64.80                         14.78   \n",
       "ENSG00000118777                         27.25                          9.20   \n",
       "\n",
       "                 ...  GTEX-S32W-1126-SM-4AD5V  GTEX-U4B1-1226-SM-4DXT7  \\\n",
       "Hugo_Symbol      ...                                                     \n",
       "ENSG00000114771  ...                    15.45                    98.73   \n",
       "ENSG00000198691  ...                     8.71                    20.56   \n",
       "ENSG00000073734  ...                     4.78                     0.00   \n",
       "ENSG00000023839  ...                    25.54                     9.13   \n",
       "ENSG00000118777  ...                    31.45                    18.97   \n",
       "\n",
       "                 GTEX-S4UY-0926-SM-4AD6O  GTEX-TMMY-1526-SM-4DXST  \\\n",
       "Hugo_Symbol                                                         \n",
       "ENSG00000114771                    50.27                     0.88   \n",
       "ENSG00000198691                     0.13                    47.17   \n",
       "ENSG00000073734                     1.45                     1.14   \n",
       "ENSG00000023839                    21.32                    32.82   \n",
       "ENSG00000118777                    84.63                    30.34   \n",
       "\n",
       "                 GTEX-S4Q7-0926-SM-4AD5D  GTEX-U3ZN-1226-SM-4DXUD  \\\n",
       "Hugo_Symbol                                                         \n",
       "ENSG00000114771                    48.52                     5.82   \n",
       "ENSG00000198691                    14.24                    89.51   \n",
       "ENSG00000073734                     1.10                     0.31   \n",
       "ENSG00000023839                     8.25                     7.82   \n",
       "ENSG00000118777                    37.59                   221.86   \n",
       "\n",
       "                 GTEX-SNOS-0526-SM-4DM54  GTEX-U3ZM-0826-SM-4DXU6  \\\n",
       "Hugo_Symbol                                                         \n",
       "ENSG00000114771                   112.77                     5.45   \n",
       "ENSG00000198691                     7.94                    43.32   \n",
       "ENSG00000073734                     2.94                     0.03   \n",
       "ENSG00000023839                    10.16                     0.35   \n",
       "ENSG00000118777                   149.12                    43.02   \n",
       "\n",
       "                 GTEX-SNMC-0826-SM-4DM66  GTEX-SE5C-1026-SM-4BRUG  \n",
       "Hugo_Symbol                                                        \n",
       "ENSG00000114771                  1015.93                     0.59  \n",
       "ENSG00000198691                     0.06                     4.62  \n",
       "ENSG00000073734                     5.15                     0.00  \n",
       "ENSG00000023839                     6.52                     7.94  \n",
       "ENSG00000118777                   299.25                     8.06  \n",
       "\n",
       "[5 rows x 5398 columns]"
      ]
     },
     "execution_count": 4,
     "metadata": {},
     "output_type": "execute_result"
    }
   ],
   "source": [
    "df = pd.read_csv((\"%s/mainTable.csv\"%working_dir), index_col=[0])\n",
    "#df = df.to_sparse(fill_value=0.)\n",
    "df.head()"
   ]
  },
  {
   "cell_type": "code",
   "execution_count": 7,
   "metadata": {},
   "outputs": [],
   "source": [
    "df.loc[:,df.columns[np.random.randint(0,5398,size=1000)]].to_csv(\"mainTable.csv\", index=True, header=True)"
   ]
  },
  {
   "cell_type": "code",
   "execution_count": 21,
   "metadata": {},
   "outputs": [
    {
     "name": "stdout",
     "output_type": "stream",
     "text": [
      "<class 'pandas.core.frame.DataFrame'>\n",
      "Index: 16678 entries, ENSG00000121410 to ENSG00000257950\n",
      "Columns: 5398 entries, TCGA-3X-AAVE-01A-11R-A41I-07 to GTEX-SE5C-1026-SM-4BRUG\n",
      "dtypes: float64(5398)\n",
      "memory usage: 687.0+ MB\n"
     ]
    }
   ],
   "source": [
    "df.info()"
   ]
  },
  {
   "cell_type": "code",
   "execution_count": 22,
   "metadata": {},
   "outputs": [
    {
     "name": "stdout",
     "output_type": "stream",
     "text": [
      "genes:16678\trealizations:5398\n"
     ]
    }
   ],
   "source": [
    "ngenes = len(df.index)\n",
    "nfiles = len(df.columns)\n",
    "print(\"genes:%d\\trealizations:%d\"%(ngenes,nfiles))"
   ]
  },
  {
   "cell_type": "markdown",
   "metadata": {},
   "source": [
    "## Means sigmas"
   ]
  },
  {
   "cell_type": "code",
   "execution_count": 9,
   "metadata": {},
   "outputs": [
    {
     "data": {
      "text/html": [
       "<div>\n",
       "<style scoped>\n",
       "    .dataframe tbody tr th:only-of-type {\n",
       "        vertical-align: middle;\n",
       "    }\n",
       "\n",
       "    .dataframe tbody tr th {\n",
       "        vertical-align: top;\n",
       "    }\n",
       "\n",
       "    .dataframe thead th {\n",
       "        text-align: right;\n",
       "    }\n",
       "</style>\n",
       "<table border=\"1\" class=\"dataframe\">\n",
       "  <thead>\n",
       "    <tr style=\"text-align: right;\">\n",
       "      <th></th>\n",
       "      <th>mean</th>\n",
       "      <th>variance</th>\n",
       "      <th>type_of_gene</th>\n",
       "      <th>occurrence</th>\n",
       "    </tr>\n",
       "  </thead>\n",
       "  <tbody>\n",
       "    <tr>\n",
       "      <th>ENSG00000121410</th>\n",
       "      <td>428.5660</td>\n",
       "      <td>393606.0</td>\n",
       "      <td></td>\n",
       "      <td>0.999815</td>\n",
       "    </tr>\n",
       "    <tr>\n",
       "      <th>ENSG00000175899</th>\n",
       "      <td>10183.9000</td>\n",
       "      <td>367382000.0</td>\n",
       "      <td></td>\n",
       "      <td>1.000000</td>\n",
       "    </tr>\n",
       "    <tr>\n",
       "      <th>ENSG00000196136</th>\n",
       "      <td>6302.8200</td>\n",
       "      <td>289781000.0</td>\n",
       "      <td></td>\n",
       "      <td>0.996295</td>\n",
       "    </tr>\n",
       "    <tr>\n",
       "      <th>ENSG00000114771</th>\n",
       "      <td>92.5224</td>\n",
       "      <td>127121.0</td>\n",
       "      <td></td>\n",
       "      <td>0.812523</td>\n",
       "    </tr>\n",
       "    <tr>\n",
       "      <th>ENSG00000127837</th>\n",
       "      <td>2357.0700</td>\n",
       "      <td>404279.0</td>\n",
       "      <td></td>\n",
       "      <td>1.000000</td>\n",
       "    </tr>\n",
       "  </tbody>\n",
       "</table>\n",
       "</div>"
      ],
      "text/plain": [
       "                       mean     variance type_of_gene  occurrence\n",
       "ENSG00000121410    428.5660     393606.0                 0.999815\n",
       "ENSG00000175899  10183.9000  367382000.0                 1.000000\n",
       "ENSG00000196136   6302.8200  289781000.0                 0.996295\n",
       "ENSG00000114771     92.5224     127121.0                 0.812523\n",
       "ENSG00000127837   2357.0700     404279.0                 1.000000"
      ]
     },
     "execution_count": 9,
     "metadata": {},
     "output_type": "execute_result"
    }
   ],
   "source": [
    "df_mv = pd.read_csv(\"meanVariances.csv\", index_col = [0])\n",
    "#type_of_gene='protein-coding'\n",
    "#df_mv = df_mv.loc[df_mv['type_of_gene']==type_of_gene]\n",
    "#df_mv_occ=pd.read_csv(\"O.dat\", header=None)\n",
    "#df_mv.drop(\"type_of_gene\", axis=1, inplace=True)\n",
    "#df_mv.insert(3, 'occurrence', df_mv_occ.values)\n",
    "#df_mv.insert(2,'type_of_gene','protein-coding')\n",
    "df_mv.head()"
   ]
  },
  {
   "cell_type": "code",
   "execution_count": 10,
   "metadata": {},
   "outputs": [],
   "source": [
    "#df_mv.round(2).to_csv(\"meanVariances.csv\",index=True,header=True)\n",
    "#df_mv.fillna(value=0.,inplace=True)"
   ]
  },
  {
   "cell_type": "code",
   "execution_count": 11,
   "metadata": {},
   "outputs": [
    {
     "data": {
      "text/plain": [
       "16678"
      ]
     },
     "execution_count": 11,
     "metadata": {},
     "output_type": "execute_result"
    }
   ],
   "source": [
    "means = df_mv['mean'].values\n",
    "variances = df_mv['variance'].values\n",
    "occurrences = np.array(df_mv['occurrence'].values, dtype=float)\n",
    "len(df_mv)"
   ]
  },
  {
   "cell_type": "markdown",
   "metadata": {},
   "source": [
    "### plot"
   ]
  },
  {
   "cell_type": "markdown",
   "metadata": {},
   "source": [
    "#### **var** versus **mean**"
   ]
  },
  {
   "cell_type": "code",
   "execution_count": 12,
   "metadata": {},
   "outputs": [
    {
     "data": {
      "image/png": "[encoded data removed]",
      "text/plain": [
       "<Figure size 1080x576 with 1 Axes>"
      ]
     },
     "metadata": {
      "needs_background": "light"
     },
     "output_type": "display_data"
    }
   ],
   "source": [
    "x_lin = np.logspace(np.log10(means[means.nonzero()].min()),np.log10(means[means.nonzero()].max()), dtype=float,num=50)\n",
    "fig=plt.figure(figsize=(15,8))\n",
    "plt.scatter(means, variances, c='b', label='genes')\n",
    "plt.plot(x_lin[:20],x_lin[:20], 'r-', lw=3.5, label='$<%s>$ (Poisson)'%normalisation_str)\n",
    "plt.plot(x_lin[-40:],np.power(x_lin[-40:],2), 'g-', lw=3.5, label='$<%s>^2$ (Taylor)'%normalisation_str)\n",
    "\n",
    "plt.xlabel(\"$<%s>$\"%normalisation_str, fontsize=16)\n",
    "plt.ylabel(\"$\\sigma^2_{%s}$\"%normalisation_str, fontsize=16)\n",
    "plt.xscale('log')\n",
    "plt.yscale('log')\n",
    "plt.xlim(means[means.nonzero()].min()/5,np.power(10,np.log10(means.max())+1))\n",
    "plt.ylim((variances[variances.nonzero()].min()/10,np.power(10,np.log10(variances.max())+1)))\n",
    "plt.legend(fontsize=18)\n",
    "plt.show()\n",
    "fig.savefig(\"varmean_loglog.png\")"
   ]
  },
  {
   "cell_type": "code",
   "execution_count": 13,
   "metadata": {},
   "outputs": [
    {
     "data": {
      "image/png": "[encoded data removed]",
      "text/plain": [
       "<Figure size 1080x576 with 1 Axes>"
      ]
     },
     "metadata": {
      "needs_background": "light"
     },
     "output_type": "display_data"
    }
   ],
   "source": [
    "cv2 = np.array([variances[i]/(np.power(mean,2)) for i,mean in enumerate(means) if mean>0])\n",
    "fig=plt.figure(figsize=(15,8))\n",
    "plt.scatter(means[means.nonzero()], cv2, c='b')\n",
    "plt.plot(x_lin[-30:],[1e-1 for _ in x_lin[-30:]], 'g-', lw=3.5, label='$1$ (Taylor)')\n",
    "plt.plot(x_lin[:30],1./x_lin[:30], 'r-', lw=3.5, label='$<%s>^{-1}$ (Poisson)'%normalisation_str)\n",
    "\n",
    "#plt.plot(x_lin, [nfiles-1 for _ in x_lin], color='cyan', ls='--', lw=3.5, label='bound')\n",
    "\n",
    "plt.xlabel(\"$<%s>$\"%normalisation_str, fontsize=16)\n",
    "plt.ylabel(\"$cv^2$\", fontsize=16)\n",
    "plt.xscale('log')\n",
    "plt.yscale('log')\n",
    "plt.xlim(means[means.nonzero()].min()/5,np.power(10,np.log10(means.max())+1))\n",
    "plt.ylim((cv2[cv2.nonzero()].min()/10,np.power(10,np.log10(cv2.max())+1)))\n",
    "plt.legend(fontsize=18)\n",
    "plt.show()\n",
    "fig.savefig(\"cvmean_loglog.png\")"
   ]
  },
  {
   "cell_type": "markdown",
   "metadata": {},
   "source": [
    "# overexpressed"
   ]
  },
  {
   "cell_type": "code",
   "execution_count": 14,
   "metadata": {},
   "outputs": [],
   "source": [
    "how_many_sigmas = 2\n",
    "distance = 10"
   ]
  },
  {
   "cell_type": "code",
   "execution_count": 15,
   "metadata": {},
   "outputs": [
    {
     "data": {
      "image/png": "[encoded data removed]",
      "text/plain": [
       "<Figure size 1080x576 with 1 Axes>"
      ]
     },
     "metadata": {
      "needs_background": "light"
     },
     "output_type": "display_data"
    }
   ],
   "source": [
    "cv2 = np.array([variances[i]/(np.power(mean,2)) for i,mean in enumerate(means) if mean>0])\n",
    "fig=plt.figure(figsize=(15,8))\n",
    "plt.scatter(means[means.nonzero()], cv2, c='b')\n",
    "\n",
    "plt.plot(x_lin[-30:],[1e-1 for _ in x_lin[-30:]], 'g-', lw=3.5, label='$1$ (Taylor)')\n",
    "plt.plot(x_lin[:30],1./x_lin[:30], 'r-', lw=3.5, label='$<%s>^{-1}$ (Poisson)'%normalisation_str)\n",
    "\n",
    "#plt.plot(x_lin, [nfiles-1 for _ in x_lin], color='cyan', ls='--', lw=3.5, label='bound')\n",
    "\n",
    "log_bins_for_x = np.logspace(np.log10(means[means.nonzero()].min()),6,25)\n",
    "\n",
    "bin_means, bin_edges, _ = st.binned_statistic(means[means.nonzero()], cv2, statistic='median', bins=log_bins_for_x)\n",
    "plt.scatter((bin_edges[:-1]+bin_edges[1:])/2.,bin_means, marker='x', color='orange', label='binned median')\n",
    "\n",
    "bin_sigmas,  _, _ = stats.binned_statistic(means[means.nonzero()], cv2, statistic=np.std, bins=log_bins_for_x)\n",
    "plt.plot((bin_edges[:-1] + bin_edges[1:])/2, bin_means+bin_sigmas*how_many_sigmas, lw=3, color='yellow', label='binned average + $%d\\sigma$'%how_many_sigmas)\n",
    "\n",
    "\n",
    "plt.xlabel(\"$<%s>$\"%normalisation_str, fontsize=16)\n",
    "plt.ylabel(\"$cv^2$\", fontsize=16)\n",
    "plt.xscale('log')\n",
    "plt.yscale('log')\n",
    "plt.xlim(means[means.nonzero()].min()/5,np.power(10,np.log10(means.max())+1))\n",
    "plt.ylim((cv2[cv2.nonzero()].min()/10,np.power(10,np.log10(cv2.max())+1)))\n",
    "plt.legend(fontsize=18)\n",
    "plt.show()\n",
    "fig.savefig(\"cvmean_loglog_%dsigma.png\"%how_many_sigmas)"
   ]
  },
  {
   "cell_type": "code",
   "execution_count": 16,
   "metadata": {},
   "outputs": [],
   "source": [
    "def get_mean_cv2(mean, cv2, knee=1., distance=distance):\n",
    "    if mean < knee:\n",
    "        return(mean, cv2, -1, -1, cv2 > distance+1./mean)\n",
    "    else:\n",
    "        return(mean, cv2, -1, -1, cv2 > 1e-1+distance)"
   ]
  },
  {
   "cell_type": "code",
   "execution_count": 32,
   "metadata": {},
   "outputs": [],
   "source": [
    "def get_mean_cv2(mean, cv2, how_many_sigmas=3):\n",
    "    bin_i = 0\n",
    "    for i in range(len(bin_edges[:-1])):\n",
    "        if mean<=bin_edges[i+1] and mean > bin_edges[i]:\n",
    "            bin_i = i\n",
    "            break\n",
    "    return(mean, cv2, bin_means[bin_i], bin_sigmas[bin_i], cv2>(bin_means[bin_i]+how_many_sigmas*bin_sigmas[bin_i]))"
   ]
  },
  {
   "cell_type": "code",
   "execution_count": 22,
   "metadata": {},
   "outputs": [],
   "source": [
    "over = []\n",
    "for g in df_mv.index:\n",
    "    subdf = df_mv.loc[g,:]\n",
    "    mean = float(subdf['mean'])\n",
    "    var = subdf['variance']\n",
    "    if mean> 1e5 or mean< 1e-3:\n",
    "        continue\n",
    "    r = get_mean_cv2(mean,float(var)/mean/mean, knee=100)\n",
    "    if r[4]:\n",
    "        over.append(g)"
   ]
  },
  {
   "cell_type": "code",
   "execution_count": 23,
   "metadata": {},
   "outputs": [
    {
     "data": {
      "text/plain": [
       "2477"
      ]
     },
     "execution_count": 23,
     "metadata": {},
     "output_type": "execute_result"
    }
   ],
   "source": [
    "len(over)"
   ]
  },
  {
   "cell_type": "code",
   "execution_count": 24,
   "metadata": {},
   "outputs": [],
   "source": [
    "over_plot = []\n",
    "for g in over:\n",
    "    subdf = df_mv.loc[g,]\n",
    "    mean = subdf['mean']\n",
    "    var = subdf['variance']\n",
    "    occ = subdf['occurrence']\n",
    "    cv2 = float(var)/mean/mean\n",
    "    over_plot.append([mean,cv2,occ])\n",
    "over_plot=np.array(over_plot)"
   ]
  },
  {
   "cell_type": "code",
   "execution_count": 25,
   "metadata": {},
   "outputs": [
    {
     "data": {
      "image/png": "[encoded data removed]",
      "text/plain": [
       "<Figure size 1080x576 with 1 Axes>"
      ]
     },
     "metadata": {
      "needs_background": "light"
     },
     "output_type": "display_data"
    }
   ],
   "source": [
    "cv2 = np.array([variances[i]/(np.power(mean,2)) for i,mean in enumerate(means) if mean>0])\n",
    "fig=plt.figure(figsize=(15,8))\n",
    "plt.scatter(means[means.nonzero()], cv2, c='b')\n",
    "plt.scatter(over_plot.T[0],over_plot.T[1], color='cyan')\n",
    "\n",
    "plt.plot(x_lin[-30:],[1e-1 for _ in x_lin[-30:]], 'g-', lw=3.5, label='(Taylor)')\n",
    "plt.plot(x_lin[:30],1./x_lin[:30], 'r-', lw=3.5, label='$<%s>^{-1}$ (Poisson)'%normalisation_str)\n",
    "#plt.plot(x_lin, [nfiles-1 for _ in x_lin], color='cyan', ls='--', lw=3.5, label='bound')\n",
    "\n",
    "log_bins_for_x = np.logspace(np.log10(means[means.nonzero()].min()),5,25)\n",
    "\n",
    "#bin_means, bin_edges, _ = st.binned_statistic(means[means.nonzero()], cv2, statistic='median', bins=log_bins_for_x)\n",
    "#plt.scatter((bin_edges[:-1]+bin_edges[1:])/2.,bin_means, marker='x', color='orange', label='binned median')\n",
    "\n",
    "#bin_sigmas,  _, _ = stats.binned_statistic(means[means.nonzero()], cv2, statistic=np.std, bins=log_bins_for_x)\n",
    "#plt.hlines(bin_means+bin_sigmas*how_many_sigmas,bin_edges[1:], bin_edges[:-1], lw=3, color='yellow', label='binned average + $%d\\sigma$'%how_many_sigmas)\n",
    "\n",
    "\n",
    "plt.xlabel(\"$<%s>$\"%normalisation_str, fontsize=16)\n",
    "plt.ylabel(\"$cv^2$\", fontsize=16)\n",
    "plt.xscale('log')\n",
    "plt.yscale('log')\n",
    "plt.xlim(means[means.nonzero()].min()/5,np.power(10,np.log10(means.max())+1))\n",
    "plt.ylim((cv2[cv2.nonzero()].min()/10,np.power(10,np.log10(cv2.max())+1)))\n",
    "plt.legend(fontsize=18)\n",
    "plt.show()\n",
    "fig.savefig(\"cvmean_loglog_over%d.png\"%how_many_sigmas)"
   ]
  },
  {
   "cell_type": "code",
   "execution_count": 26,
   "metadata": {},
   "outputs": [],
   "source": [
    "#discretize_df_columns(df.loc[over, df.columns[np.unique(np.random.randint(len(df.columns), size=2000))]]).to_csv(\"main_Table_Altmann.csv\",index=True, header=True)"
   ]
  },
  {
   "cell_type": "code",
   "execution_count": 28,
   "metadata": {},
   "outputs": [],
   "source": [
    "df.loc[over,:].dropna().to_csv(\"mainTable_over.csv\",index=True, header=True)"
   ]
  },
  {
   "cell_type": "markdown",
   "metadata": {},
   "source": [
    "### mean versus occurrence"
   ]
  },
  {
   "cell_type": "code",
   "execution_count": null,
   "metadata": {},
   "outputs": [],
   "source": [
    "fig=plt.figure(figsize=(8,5))\n",
    "plt.scatter(occurrences*nfiles, means, c='b', alpha=0.8, label='genes')\n",
    "if 'counts' in normalisation_str:\n",
    "    plt.plot(np.linspace(1,nfiles), np.linspace(1,nfiles)/(nfiles), lw=4, label='bound', c='cyan', ls='--')\n",
    "bin_means, bin_edges, _ = stats.binned_statistic(occurrences*nfiles, means, statistic='mean', bins=np.logspace(-3,6))\n",
    "x = (bin_edges[1:]+bin_edges[:-1])/2\n",
    "plt.scatter(x,bin_means, marker='x', c='r', label='binned average')\n",
    "plt.ylabel(\"$<%s>$\"%normalisation_str, fontsize=16)\n",
    "#plt.xlabel(\"$\\Sigma_j\\Theta(FPKM-0.1)\\Theta(1e5-FPKM)$\", fontsize=16)\n",
    "plt.xlabel(\"$\\Sigma_j\\Theta(%s)$\"%normalisation_str, fontsize=16)\n",
    "plt.xscale('log')\n",
    "plt.yscale('log')\n",
    "plt.ylim(means[means.nonzero()].min()/5,np.power(10,np.log10(means.max())+1))\n",
    "plt.xlim(5e-1,nfiles+800)\n",
    "plt.legend(fontsize=16)\n",
    "plt.show()\n",
    "fig.savefig(\"meanDiff_loglog.png\")"
   ]
  },
  {
   "cell_type": "code",
   "execution_count": null,
   "metadata": {},
   "outputs": [],
   "source": [
    "fig=plt.figure(figsize=(8,5))\n",
    "plt.scatter(means, occurrences*nfiles, c='b', alpha=0.6, label='data')\n",
    "bin_means, bin_edges, _ = stats.binned_statistic(means, occurrences*nfiles, statistic='mean', bins=np.logspace(-3,6))\n",
    "x = (bin_edges[1:]+bin_edges[:-1])/2\n",
    "plt.scatter(x,bin_means, marker='x', c='r', label='binned average')\n",
    "plt.xlabel(\"$<%s>$\"%normalisation_str, fontsize=16)\n",
    "#plt.xlabel(\"$\\Sigma_j\\Theta(FPKM-0.1)\\Theta(1e5-FPKM)$\", fontsize=16)\n",
    "plt.ylabel(\"$\\Sigma_j\\Theta(%s)$\"%normalisation_str, fontsize=16)\n",
    "plt.xscale('log')\n",
    "plt.yscale('log')\n",
    "plt.xlim(means[means.nonzero()].min()/5,np.power(10,np.log10(means.max())+1))\n",
    "plt.ylim(5e-1,nfiles+800)\n",
    "plt.legend(fontsize=16)\n",
    "plt.show()\n",
    "fig.savefig(\"diffMean_loglog.png\")"
   ]
  },
  {
   "cell_type": "markdown",
   "metadata": {},
   "source": [
    "### Distributions"
   ]
  },
  {
   "cell_type": "code",
   "execution_count": null,
   "metadata": {},
   "outputs": [],
   "source": [
    "fig = plt.figure()\n",
    "data = means\n",
    "mu = np.median(data)\n",
    "s = np.std(data)\n",
    "log_bins = np.logspace(-5,7)\n",
    "plt.hist(data, density = False, histtype='step', bins=log_bins)\n",
    "plt.title(\"means\", fontsize=16)\n",
    "plt.xlabel(\"$<%s>$\"%normalisation_str, fontsize=16)\n",
    "plt.ylabel(\"#\", fontsize=16)\n",
    "plt.yscale('log')\n",
    "plt.xscale('log')\n",
    "plt.xlim(5e-5,5e5)\n",
    "plt.show()\n",
    "fig.savefig(\"mean_distr.pdf\")"
   ]
  },
  {
   "cell_type": "code",
   "execution_count": null,
   "metadata": {},
   "outputs": [],
   "source": [
    "fig = plt.figure(figsize=(7,7))\n",
    "data = -np.log10(means[means.nonzero()])\n",
    "minimum = data.min()\n",
    "data -= minimum\n",
    "mu = np.median(data)\n",
    "s = np.std(data)\n",
    "fit_params = st.lognorm.fit(data)\n",
    "n, c, _ = plt.hist(data, density = True, histtype='step')\n",
    "plt.plot(np.linspace(-1,10),st.lognorm.pdf(np.linspace(-1,10),*fit_params), label='lognormal (s:%.2f,loc:%.2f,scale:%.2f)'%(fit_params))\n",
    "plt.title(\"means\", fontsize=16)\n",
    "plt.xlabel(\"$-log10(<%s>)+%.2f$\"%(normalisation_str,-minimum), fontsize=16)\n",
    "plt.ylabel(\"pdf\", fontsize=16)\n",
    "plt.yscale('log')\n",
    "plt.ylim(1e-4,1)\n",
    "plt.xlim(-1,10)\n",
    "plt.legend(fontsize=16)\n",
    "plt.show()\n",
    "fig.savefig(\"mean_distr_scaled.pdf\")"
   ]
  },
  {
   "cell_type": "code",
   "execution_count": null,
   "metadata": {},
   "outputs": [],
   "source": [
    "bins = 80\n",
    "bins=np.logspace(np.log10(5e-1),np.log10(variances.max()))\n",
    "fig = plt.figure()\n",
    "n, c, _ = plt.hist(variances, density = False, histtype='step', bins=bins)\n",
    "\n",
    "plt.title(\"vars\", fontsize=16)\n",
    "plt.xlabel(\"$<\\sigma_{%s}^2>$\"%normalisation_str, fontsize=16)\n",
    "plt.ylabel(\"#\", fontsize=16)\n",
    "plt.yscale('log')\n",
    "plt.xscale('log')\n",
    "plt.show()\n",
    "fig.savefig(\"var_distr.pdf\")"
   ]
  },
  {
   "cell_type": "code",
   "execution_count": null,
   "metadata": {},
   "outputs": [],
   "source": [
    "fig = plt.figure(figsize=(7,7))\n",
    "data = -np.log10(variances[variances.nonzero()])\n",
    "minimum = data.min()\n",
    "data -= minimum\n",
    "mu = np.median(data)\n",
    "s = np.std(data)\n",
    "fit_params = st.lognorm.fit(data)\n",
    "n, c, _ = plt.hist(data, density = True, histtype='step')\n",
    "plt.plot(np.linspace(-1,data.max()),st.lognorm.pdf(np.linspace(-1,data.max()),*fit_params), label='lognormal (s:%.2f,loc:%.2f,scale:%.2f)'%(fit_params))\n",
    "plt.title(\"means\", fontsize=16)\n",
    "plt.xlabel(\"$-log10(<%s>)+%.2f$\"%(normalisation_str,-minimum), fontsize=16)\n",
    "plt.ylabel(\"pdf\", fontsize=16)\n",
    "plt.yscale('log')\n",
    "plt.ylim(1e-4,1)\n",
    "plt.xlim(data.min()-1,data.max()+1)\n",
    "plt.legend(fontsize=16)\n",
    "plt.show()\n",
    "fig.savefig(\"var_distr_scaled.pdf\")"
   ]
  },
  {
   "cell_type": "markdown",
   "metadata": {},
   "source": [
    "# null"
   ]
  },
  {
   "cell_type": "code",
   "execution_count": null,
   "metadata": {},
   "outputs": [],
   "source": [
    "df_null = pd.read_csv((\"%s/nullTable.csv\"%working_dir), header=None, index_col=[0])\n",
    "df_null.head()"
   ]
  },
  {
   "cell_type": "markdown",
   "metadata": {},
   "source": [
    "## meanVariances"
   ]
  },
  {
   "cell_type": "code",
   "execution_count": null,
   "metadata": {},
   "outputs": [],
   "source": [
    "df_mv_null = pd.read_csv(\"meanVariances_null.csv\", usecols=[1,2])\n",
    "df_mv_null.head()"
   ]
  },
  {
   "cell_type": "code",
   "execution_count": null,
   "metadata": {},
   "outputs": [],
   "source": [
    "df_occ_null = pd.read_csv(\"O_null.dat\", header=None)\n",
    "df_mv_null.insert(2,'occurrence', np.array(df_occ_null.values,dtype=float))\n",
    "#df_mv_null.to_csv(\"meanVariances_null.csv\", index=False, header=True)\n",
    "df_mv_null.head()"
   ]
  },
  {
   "cell_type": "code",
   "execution_count": null,
   "metadata": {},
   "outputs": [],
   "source": [
    "means_null = np.round(df_mv_null['mean'].values,1)\n",
    "variances_null = np.round(df_mv_null['variance'].values,1)\n",
    "occurrences_null = np.round(np.array(df_mv_null['occurrence'].values, dtype=float)*nfiles,1)\n",
    "len(df_mv_null)"
   ]
  },
  {
   "cell_type": "code",
   "execution_count": null,
   "metadata": {},
   "outputs": [],
   "source": [
    "x = means\n",
    "y = variances\n",
    "x_lin = np.logspace(np.log10(x[x.nonzero()].min()),np.log10(x[x.nonzero()].max()), dtype=float,num=50)"
   ]
  },
  {
   "cell_type": "code",
   "execution_count": null,
   "metadata": {},
   "outputs": [],
   "source": [
    "high_means = df_mv[df_mv['occurrence']==1]['mean'].values\n",
    "high_var = df_mv[df_mv['occurrence']==1]['variance'].values"
   ]
  },
  {
   "cell_type": "code",
   "execution_count": null,
   "metadata": {},
   "outputs": [],
   "source": [
    "fig=plt.figure(figsize=(12,7))\n",
    "\n",
    "plt.scatter(x, y, label = 'genes', marker='o', alpha=0.8, linewidths=0.1)\n",
    "\n",
    "#plt.scatter(high_means, high_var, label = '$O_i=1$', marker='o',c='cyan', alpha=0.4, lw=0.1)\n",
    "\n",
    "log_bins_for_x = np.logspace(-5, np.log10(np.max(x)), num=50)\n",
    "bin_means, bin_edges, binnumber = stats.binned_statistic(x, y, statistic='mean', bins=log_bins_for_x)\n",
    "bin_centres = (bin_edges[:-1]+bin_edges[1:])/2\n",
    "plt.scatter((bin_edges[:-1]+bin_edges[1:])/2., bin_means, color='r', marker='x', lw=2, label='binned average')\n",
    "\n",
    "plt.plot(x_lin[-40:],np.power(x_lin[-40:],2), 'g-', lw=3.5, label='$<%s>^2$ (Taylor)'%normalisation_str)\n",
    "plt.plot(x_lin[:20],x_lin[:20], 'r-', lw=3.5, label='$<%s>$ (Poisson)'%normalisation_str)\n",
    "\n",
    "\n",
    "#popt, pcov = curve_fit(lambda x,a,b : a*np.power(x,b), bin_centres, bin_means, bounds=([1,1],[35,5]))\n",
    "#plt.plot(bin_centres, popt[0]*np.power(bin_centres, popt[1]), color='y', lw=3, label='fit')\n",
    "#print(popt[0],popt[1])\n",
    "\n",
    "bin_sigmas,  bin_sigmas_edges, binsigmanumber = stats.binned_statistic(x, y, statistic=np.std, bins=log_bins_for_x)\n",
    "plt.plot((bin_edges[:-1] + bin_edges[1:])/2, bin_means+bin_sigmas*3, lw=3, color='yellow', label='binned average + $3\\sigma$')\n",
    "\n",
    "plt.scatter(means_null, variances_null, label='sampling')\n",
    "\n",
    "plt.xlabel(\"$<%s>$\"%normalisation_str, fontsize=16)\n",
    "plt.ylabel(\"$\\sigma^2_{%s}$\"%normalisation_str, fontsize=16)\n",
    "plt.legend(fontsize=18)\n",
    "plt.xscale('log')\n",
    "plt.yscale('log')\n",
    "plt.xlim(x[x.nonzero()].min()/100,np.power(10,np.log10(x.max())+1))\n",
    "plt.ylim((y[y.nonzero()].min()/100,np.power(10,np.log10(y.max())+1)))\n",
    "plt.show()\n",
    "fig.savefig(\"varmean_3sigma.png\")"
   ]
  },
  {
   "cell_type": "code",
   "execution_count": null,
   "metadata": {},
   "outputs": [],
   "source": [
    "cv2 = np.array([variances[i]/(np.power(mean,2)) for i,mean in enumerate(means) if mean>0])\n",
    "cv2_null = [variances_null[i]/(np.power(mean,2)) for i,mean in enumerate(means_null) if mean>0]\n",
    "fig=plt.figure(figsize=(15,8))\n",
    "plt.scatter(means[means.nonzero()], cv2, c='b', label ='genes')\n",
    "plt.scatter(means_null[means_null.nonzero()], cv2_null, c='orange', label='sampling')\n",
    "plt.plot(x_lin[:30],1./x_lin[:30], 'r-', lw=3.5, label='Poisson')\n",
    "plt.plot(x_lin[20:],[1e-1 for _ in x_lin[20:]], 'g-', lw=3.5, label='Taylor')\n",
    "plt.plot(x_lin,[nfiles-1 for _ in x_lin], color='cyan', lw=3, ls='--', label='bound')\n",
    "\n",
    "bin_means, bin_edges, binnumber = stats.binned_statistic(means[means.nonzero()], cv2, statistic='mean', bins=log_bins_for_x)\n",
    "bin_centres = (bin_edges[:-1]+bin_edges[1:])/2\n",
    "plt.scatter((bin_edges[:-1]+bin_edges[1:])/2., bin_means, color='r', marker='x', lw=2, label='binned average')\n",
    "\n",
    "plt.xlabel(\"$<%s>$\"%normalisation_str, fontsize=16)\n",
    "plt.ylabel(\"$cv^2$\", fontsize=16)\n",
    "plt.xscale('log')\n",
    "plt.yscale('log')\n",
    "plt.xlim(means[means.nonzero()].min()/5,np.power(10,np.log10(means.max())+1))\n",
    "plt.ylim((cv2[cv2.nonzero()].min()/10,np.power(10,np.log10(cv2.max())+1)))\n",
    "plt.legend(fontsize=16)\n",
    "plt.show()\n",
    "fig.savefig(\"cvmean_loglog_sampling.png\")"
   ]
  },
  {
   "cell_type": "code",
   "execution_count": null,
   "metadata": {},
   "outputs": [],
   "source": [
    "x = means\n",
    "y = variances\n",
    "\n",
    "# INIT FIGURE #################################################################\n",
    "\n",
    "fig = plt.figure(figsize=(12, 6))\n",
    "ax = fig.subplots()\n",
    "\n",
    "\n",
    "# AX #########################################################################\n",
    "\n",
    "xmin = np.log10(1e-3)\n",
    "xmax = np.log10(x.max())\n",
    "ymin = np.log10(1e-6)\n",
    "ymax = np.log10(y.max())\n",
    "\n",
    "nbins=80\n",
    "\n",
    "xbins = np.logspace(xmin, xmax, nbins) # <- make a range from 10**xmin to 10**xmax\n",
    "ybins = np.logspace(ymin, ymax, nbins) # <- make a range from 10**ymin to 10**ymax\n",
    "counts, _, _, _ = ax.hist2d(x, y, bins=(xbins, ybins));\n",
    "\n",
    "pcm = ax.pcolormesh(xbins, ybins, counts.T)\n",
    "plt.colorbar(pcm)\n",
    "#fig.colorbar(pcm, ax=ax)  # this works too\n",
    "\n",
    "\n",
    "ax.set_xscale(\"log\")               # <- Activate log scale on X axis\n",
    "ax.set_yscale(\"log\")               # <- Activate log scale on Y axis\n",
    "\n",
    "ax.set_xlim(xmin=xbins[0])\n",
    "ax.set_xlim(xmax=xbins[-1])\n",
    "ax.set_ylim(ymin=ybins[0])\n",
    "ax.set_ylim(ymax=ybins[-1])\n",
    "\n",
    "ax.set_title(\"\")\n",
    "ax.set_xlabel(\"$<%s>$\"%normalisation_str, fontsize=16)\n",
    "ax.set_ylabel(\"$\\sigma^2_{%s}$\"%normalisation_str, fontsize=16)\n",
    "\n",
    "# SHOW AND SAVE FILE ##########################################################\n",
    "\n",
    "plt.tight_layout()\n",
    "plt.show()\n",
    "fig.savefig(\"varmean_density.png\")"
   ]
  },
  {
   "cell_type": "code",
   "execution_count": null,
   "metadata": {},
   "outputs": [],
   "source": [
    "fig=plt.figure(figsize=(8,5))\n",
    "plt.scatter(occurrences*nfiles, means, c='b', alpha=0.6, label='genes')\n",
    "\n",
    "log_bins_for_x = np.logspace(-5, np.log10(np.max(x)), num=50)\n",
    "bin_means, bin_edges, binnumber = stats.binned_statistic(occurrences*nfiles, means, statistic='mean', bins=log_bins_for_x)\n",
    "bin_centres = (bin_edges[:-1]+bin_edges[1:])/2\n",
    "plt.hlines(bin_means, bin_edges[:-1], bin_edges[1:], colors='r', lw=5, label='binned average')\n",
    "\n",
    "plt.scatter(occurrences_null, means_null, c='orange', alpha=0.6, label='sampling')\n",
    "\n",
    "plt.plot(np.linspace(1,nfiles), np.linspace(1,nfiles)/(nfiles), lw=3, label='$\\\\frac{O_i}{Nsamples}$', c='cyan', ls='--')\n",
    "plt.ylabel(\"$<%s>$\"%normalisation_str, fontsize=16)\n",
    "#plt.xlabel(\"$\\Sigma_j\\Theta(FPKM-0.1)\\Theta(1e5-FPKM)$\", fontsize=16)\n",
    "plt.xlabel(\"$\\Sigma_j\\Theta(%s)$\"%normalisation_str, fontsize=16)\n",
    "plt.xscale('log')\n",
    "plt.yscale('log')\n",
    "plt.ylim(5e-5,np.power(10,np.log10(means.max())+1))\n",
    "plt.xlim(5e-1,nfiles+800)\n",
    "plt.legend(fontsize=16, loc='upper left')\n",
    "plt.show()\n",
    "fig.savefig(\"meanDiff_binned_sampling.png\")"
   ]
  },
  {
   "cell_type": "code",
   "execution_count": null,
   "metadata": {},
   "outputs": [],
   "source": [
    "x = occurrences\n",
    "y = means\n",
    "\n",
    "# INIT FIGURE #################################################################\n",
    "\n",
    "fig = plt.figure(figsize=(12, 6))\n",
    "ax = fig.subplots()\n",
    "\n",
    "\n",
    "# AX #########################################################################\n",
    "\n",
    "xmin = np.log10(9e-1)\n",
    "xmax = np.log10(x.max())\n",
    "ymin = np.log10(5e-4)\n",
    "ymax = np.log10(y.max())\n",
    "\n",
    "nbins=80\n",
    "\n",
    "xbins = np.logspace(xmin, xmax, nbins) # <- make a range from 10**xmin to 10**xmax\n",
    "ybins = np.logspace(ymin, ymax, nbins) # <- make a range from 10**ymin to 10**ymax\n",
    "counts, _, _, _ = ax.hist2d(x, y, bins=(xbins, ybins));\n",
    "\n",
    "pcm = ax.pcolormesh(xbins, ybins, counts.T)\n",
    "plt.colorbar(pcm)\n",
    "#fig.colorbar(pcm, ax=ax)  # this works too\n",
    "\n",
    "\n",
    "ax.set_xscale(\"log\")               # <- Activate log scale on X axis\n",
    "ax.set_yscale(\"log\")               # <- Activate log scale on Y axis\n",
    "\n",
    "ax.set_xlim(xmin=xbins[0])\n",
    "ax.set_xlim(xmax=xbins[-1])\n",
    "ax.set_ylim(ymin=ybins[0])\n",
    "ax.set_ylim(ymax=ybins[-1])\n",
    "\n",
    "ax.set_title(\"\")\n",
    "ax.set_ylabel(\"$<%s>$\"%normalisation_str, fontsize=16)\n",
    "ax.set_xlabel(\"$\\Sigma_j\\Theta(%s)$\"%normalisation_str, fontsize=16)\n",
    "\n",
    "# SHOW AND SAVE FILE ##########################################################\n",
    "\n",
    "plt.tight_layout()\n",
    "plt.show()\n",
    "fig.savefig(\"meanDiff_density.png\")"
   ]
  },
  {
   "cell_type": "markdown",
   "metadata": {},
   "source": [
    "## Lenght"
   ]
  },
  {
   "cell_type": "code",
   "execution_count": null,
   "metadata": {},
   "outputs": [],
   "source": [
    "q_many = pd.read_csv(\"genes.txt\", index_col=[0], header=[0])\n",
    "q_many = q_many[q_many['type_of_gene']=='protein-coding']\n",
    "lenghts = q_many['lenght']\n",
    "df_mv.insert(3,'lenght',lenghts)\n",
    "df_mv.head()"
   ]
  },
  {
   "cell_type": "code",
   "execution_count": null,
   "metadata": {},
   "outputs": [],
   "source": [
    "from scipy.stats import binned_statistic\n",
    "fig=plt.figure(figsize=(15,7))\n",
    "lenghts = df_mv['lenght'].values\n",
    "means = df_mv['mean'].values\n",
    "bin_means, bin_edges, _ = binned_statistic(lenghts, means, statistic='mean', bins=np.logspace(1,7))\n",
    "plt.scatter(lenghts,means)\n",
    "plt.scatter((bin_edges[1:]+bin_edges[:-1])/2., bin_means, marker='x')\n",
    "plt.yscale('log')\n",
    "plt.xscale('log')\n",
    "plt.xlabel('lenght (bp)', fontsize=16)\n",
    "plt.ylabel('mean (counts)', fontsize=16)\n",
    "plt.xlim((lenghts.min()/10,lenghts.max()*10))\n",
    "plt.ylim((means[means.nonzero()].min()/10,means.max()*10))\n",
    "plt.show()\n",
    "fig.savefig(\"meanLenght.pdf\")"
   ]
  },
  {
   "cell_type": "code",
   "execution_count": null,
   "metadata": {},
   "outputs": [],
   "source": [
    "df_mv=pd.read_csv(\"results/counts/meanVariances.csv\", index_col=[0])\n",
    "df_mv.head()"
   ]
  },
  {
   "cell_type": "code",
   "execution_count": null,
   "metadata": {},
   "outputs": [],
   "source": [
    "df_mv_fpkm=pd.read_csv(\"results/proteincoding/meanVariances.csv\", index_col=[0])\n",
    "df_mv_fpkm.head()"
   ]
  },
  {
   "cell_type": "code",
   "execution_count": null,
   "metadata": {},
   "outputs": [],
   "source": [
    "df_mv_rpk=pd.read_csv(\"results/rpk/meanVariances.csv\", index_col=[0])\n",
    "df_mv_rpk.head()"
   ]
  },
  {
   "cell_type": "code",
   "execution_count": null,
   "metadata": {},
   "outputs": [],
   "source": [
    "diffnormmeans = []\n",
    "for g in df_mv.index:\n",
    "    try:\n",
    "        diffnormmeans.append([g,df_mv.at[g,'lenght'],df_mv.at[g,'mean'],df_mv_fpkm.at[g,'mean'], df_mv_rpk.at[g,'mean']])\n",
    "    except:\n",
    "        print(\"skipping %s\"%g)"
   ]
  },
  {
   "cell_type": "code",
   "execution_count": null,
   "metadata": {},
   "outputs": [],
   "source": [
    "fig=plt.figure(figsize=(24,8))\n",
    "ax=fig.subplots(1,3)\n",
    "dataset = np.array(diffnormmeans).T\n",
    "lenghts = np.array(dataset[1],dtype=float)\n",
    "means = np.array(dataset[2],dtype=float)\n",
    "bin_means, bin_edges, _ = binned_statistic(lenghts, means, statistic='mean', bins=np.logspace(1,7))\n",
    "ax[0].scatter(lenghts,means, label='genes')\n",
    "ax[0].scatter((bin_edges[1:]+bin_edges[:-1])/2., bin_means, marker='x', label='binned average')\n",
    "ax[0].set_yscale('log')\n",
    "ax[0].set_xscale('log')\n",
    "ax[0].set_xlabel('lenght (bp)', fontsize=16)\n",
    "ax[0].set_ylabel('mean (counts)', fontsize=16)\n",
    "ax[0].set_xlim((lenghts.min()/5,lenghts.max()*5))\n",
    "ax[0].set_ylim((means[means.nonzero()].min()/10,means.max()*10))\n",
    "means = np.array(dataset[3],dtype=float)\n",
    "bin_means, bin_edges, _ = binned_statistic(lenghts, means, statistic='mean', bins=np.logspace(1,7))\n",
    "ax[1].scatter(lenghts,means, label='genes')\n",
    "ax[1].scatter((bin_edges[1:]+bin_edges[:-1])/2., bin_means, marker='x',label='binned average')\n",
    "ax[1].plot(lenghts,np.power(lenghts,-0.5)*1e3, label='$L[kilobp]^{-0.5}$', lw=2, color='red')\n",
    "ax[1].set_yscale('log')\n",
    "ax[1].set_xscale('log')\n",
    "ax[1].set_xlabel('lenght (bp)', fontsize=16)\n",
    "ax[1].set_ylabel('mean (FPKM)', fontsize=16)\n",
    "ax[1].set_xlim((lenghts.min()/5,lenghts.max()*5))\n",
    "ax[1].set_ylim((means[means.nonzero()].min()/10,means.max()*10))\n",
    "ax[1].legend(fontsize=16)\n",
    "means = np.array(dataset[4],dtype=float)\n",
    "bin_means, bin_edges, _ = binned_statistic(lenghts, means, statistic='mean', bins=np.logspace(1,7))\n",
    "ax[2].scatter(lenghts,means, label='genes')\n",
    "ax[2].plot(lenghts,np.power(lenghts,-1)*1e6, label='$L[kilobp]^{-1}$', lw=2, color='red')\n",
    "ax[2].scatter((bin_edges[1:]+bin_edges[:-1])/2., bin_means, marker='x',label='binned average')\n",
    "ax[2].set_yscale('log')\n",
    "ax[2].set_xscale('log')\n",
    "ax[2].set_xlabel('lenght (bp)', fontsize=16)\n",
    "ax[2].set_ylabel('mean (RPK)', fontsize=16)\n",
    "ax[2].set_xlim((lenghts.min()/5,lenghts.max()*5))\n",
    "ax[2].set_ylim((means[means.nonzero()].min()/10,means.max()*10))\n",
    "ax[2].legend(fontsize=16)\n",
    "plt.show()\n",
    "fig.savefig(\"meanLenght_fpkm_rpk.pdf\")"
   ]
  },
  {
   "cell_type": "code",
   "execution_count": null,
   "metadata": {},
   "outputs": [],
   "source": []
  },
  {
   "cell_type": "markdown",
   "metadata": {},
   "source": [
    "# P_i"
   ]
  },
  {
   "cell_type": "code",
   "execution_count": null,
   "metadata": {},
   "outputs": [],
   "source": [
    "#query_g = df_mv[df_mv['mean']>1e-4].index.values\n",
    "query_g = df_mv.index.values"
   ]
  },
  {
   "cell_type": "code",
   "execution_count": null,
   "metadata": {},
   "outputs": [],
   "source": [
    "len(query_g)"
   ]
  },
  {
   "cell_type": "code",
   "execution_count": null,
   "metadata": {},
   "outputs": [],
   "source": [
    "N = df.loc[query_g,:].sum(axis=0)"
   ]
  },
  {
   "cell_type": "code",
   "execution_count": null,
   "metadata": {},
   "outputs": [],
   "source": [
    "df_null.index=df.index\n",
    "N_null = df_null.loc[query_g,:].sum(axis=0)"
   ]
  },
  {
   "cell_type": "code",
   "execution_count": null,
   "metadata": {},
   "outputs": [],
   "source": [
    "df_p = df.loc[query_g,:].div(N.values, axis=1)"
   ]
  },
  {
   "cell_type": "code",
   "execution_count": null,
   "metadata": {},
   "outputs": [],
   "source": [
    "df_p_null = df_null.loc[query_g,:].div(N_null.values, axis=1)"
   ]
  },
  {
   "cell_type": "code",
   "execution_count": null,
   "metadata": {},
   "outputs": [],
   "source": [
    "means = df_p.apply(np.average, axis=1).values\n",
    "variances = df_p.apply(np.var, axis=1).values\n",
    "o = df_p.apply(lambda x: float(len(np.nonzero(x)[0]))/len(x),axis=1).values"
   ]
  },
  {
   "cell_type": "code",
   "execution_count": null,
   "metadata": {},
   "outputs": [],
   "source": [
    "means_null = df_p_null.apply(np.average, axis=1).values\n",
    "variances_null = df_p_null.apply(np.var, axis=1).values\n",
    "o_null = df_p_null.apply(lambda x: float(len(np.nonzero(x)[0]))/len(x),axis=1).values"
   ]
  },
  {
   "cell_type": "code",
   "execution_count": null,
   "metadata": {},
   "outputs": [],
   "source": [
    "x = means\n",
    "y = variances\n",
    "log_bins_for_x = np.logspace(np.log10(x[x.nonzero()].min()),np.log10(x[x.nonzero()].max()), dtype=float,num=30)"
   ]
  },
  {
   "cell_type": "code",
   "execution_count": null,
   "metadata": {},
   "outputs": [],
   "source": [
    "x_null = means_null\n",
    "y_null = variances_null\n",
    "log_bins_for_x_null = np.logspace(np.log10(x_null[x_null.nonzero()].min()),np.log10(x_null[x_null.nonzero()].max()), dtype=float,num=30)"
   ]
  },
  {
   "cell_type": "code",
   "execution_count": null,
   "metadata": {},
   "outputs": [],
   "source": [
    "x_high = df_p.loc[df_mv[df_mv['occurrence']==1].index,:].mean(axis=1).values\n",
    "y_high = df_p.loc[df_mv[df_mv['occurrence']==1].index,:].var(axis=1).values"
   ]
  },
  {
   "cell_type": "code",
   "execution_count": null,
   "metadata": {},
   "outputs": [],
   "source": [
    "fig=plt.figure(figsize=(12,7))\n",
    "\n",
    "plt.scatter(x, y, label = 'genes', marker='o', alpha=0.8, linewidths=0.1)\n",
    "plt.scatter(x_high, y_high, label = '$O_i=1$', marker='o', alpha=0.4, color='cyan', linewidths=0.1)\n",
    "#plt.scatter(x_null, y_null, label = 'sampling', marker='o', alpha=0.8, linewidths=0.1)\n",
    "\n",
    "bin_means, bin_edges, binnumber = stats.binned_statistic(x, y, statistic='mean', bins=log_bins_for_x)\n",
    "bin_centres = (bin_edges[:-1]+bin_edges[1:])/2\n",
    "plt.hlines(bin_means, bin_edges[:-1], bin_edges[1:], colors='r', lw=5, label='binned average')\n",
    "\n",
    "plt.plot(log_bins_for_x[-40:],np.power(log_bins_for_x[-40:],2), 'g-', lw=3.5, label='$<p_i>^2$ (Taylor)')\n",
    "plt.plot(log_bins_for_x[:],log_bins_for_x[:], 'r-', lw=3.5, label='$<p_i>$ (Poisson)')\n",
    "plt.plot(log_bins_for_x[:],log_bins_for_x[:]*1e-8, ls='-', color='darkred', lw=3.5, label='$10^{-8}*<p_i>$ (Poisson)')\n",
    "\n",
    "\n",
    "\n",
    "plt.xlabel(\"$<p_i>$\", fontsize=16)\n",
    "plt.ylabel(\"$\\sigma^2_{p_i}$\", fontsize=16)\n",
    "plt.legend(fontsize=18)\n",
    "plt.xscale('log')\n",
    "plt.yscale('log')\n",
    "plt.xlim(x[x.nonzero()].min()/100,np.power(10,np.log10(x.max())+1))\n",
    "plt.ylim((y[y.nonzero()].min()/100,np.power(10,np.log10(y.max())+1)))\n",
    "plt.show()\n",
    "fig.savefig(\"pi_varmean_3sigma.png\")"
   ]
  },
  {
   "cell_type": "code",
   "execution_count": null,
   "metadata": {},
   "outputs": [],
   "source": [
    "fig = plt.figure()\n",
    "data = means\n",
    "mu = np.median(data)\n",
    "s = np.std(data)\n",
    "log_bins = np.logspace(-12,-2)\n",
    "plt.hist(data, density = False, histtype='step', bins=log_bins)\n",
    "plt.title(\"means\", fontsize=16)\n",
    "plt.xlabel(\"$<pi>$\", fontsize=16)\n",
    "plt.ylabel(\"#\", fontsize=16)\n",
    "plt.yscale('log')\n",
    "plt.xscale('log')\n",
    "plt.xlim(data[data.nonzero()].min(),data.max())\n",
    "plt.show()\n",
    "fig.savefig(\"pi_mean_distr.pdf\")"
   ]
  },
  {
   "cell_type": "code",
   "execution_count": null,
   "metadata": {},
   "outputs": [],
   "source": []
  },
  {
   "cell_type": "markdown",
   "metadata": {},
   "source": [
    "## over mean"
   ]
  },
  {
   "cell_type": "code",
   "execution_count": null,
   "metadata": {},
   "outputs": [],
   "source": [
    "from matplotlib.patches import Rectangle"
   ]
  },
  {
   "cell_type": "code",
   "execution_count": null,
   "metadata": {},
   "outputs": [],
   "source": [
    "o_min = 3e1\n",
    "o_max = nfiles\n",
    "m_min = 5e4\n",
    "m_max = 1e6"
   ]
  },
  {
   "cell_type": "code",
   "execution_count": null,
   "metadata": {},
   "outputs": [],
   "source": [
    "fig=plt.figure(figsize=(8,5))\n",
    "plt.scatter(occurrences, means, c='b', alpha=0.6, label='data')\n",
    "plt.plot(np.linspace(1,nfiles), np.linspace(1,nfiles)/(nfiles*10), lw=2, label='', c='r')\n",
    "\n",
    "width = o_max - o_min\n",
    "height = m_max-m_min\n",
    "plt.gca().add_patch(Rectangle((o_min,m_min), width=width, height=height, fill=False))\n",
    "\n",
    "plt.ylabel(\"$<%s>$\"%normalisation_str, fontsize=16)\n",
    "#plt.xlabel(\"$\\Sigma_j\\Theta(FPKM-0.1)\\Theta(1e5-FPKM)$\", fontsize=16)\n",
    "plt.xlabel(\"$\\Sigma_j\\Theta(%s)$\"%normalisation_str, fontsize=16)\n",
    "plt.xscale('log')\n",
    "plt.yscale('log')\n",
    "plt.ylim(5e-5,np.power(10,np.log10(means.max())+1))\n",
    "plt.xlim(5e-1,nfiles+800)\n",
    "plt.show()\n",
    "plt.savefig(\"highmean.png\")"
   ]
  },
  {
   "cell_type": "code",
   "execution_count": null,
   "metadata": {},
   "outputs": [],
   "source": [
    "up = []\n",
    "for g in df_mv.index:\n",
    "    subdf = df_mv.loc[g,:]\n",
    "    mean = subdf['mean']\n",
    "    occ = subdf['occurrence']\n",
    "    if mean>m_min and mean < m_max and occ*nfiles > o_min and occ*nfiles< o_max:\n",
    "        up.append(g)"
   ]
  },
  {
   "cell_type": "code",
   "execution_count": null,
   "metadata": {},
   "outputs": [],
   "source": [
    "len(up)"
   ]
  },
  {
   "cell_type": "code",
   "execution_count": null,
   "metadata": {},
   "outputs": [],
   "source": [
    "for g in up:\n",
    "    print(g)"
   ]
  },
  {
   "cell_type": "code",
   "execution_count": null,
   "metadata": {},
   "outputs": [],
   "source": []
  },
  {
   "cell_type": "code",
   "execution_count": null,
   "metadata": {},
   "outputs": [],
   "source": [
    "dat = df.loc['ENSG00000042832'].values\n",
    "np.var(dat)/(np.average(dat)**2)"
   ]
  },
  {
   "cell_type": "code",
   "execution_count": null,
   "metadata": {},
   "outputs": [],
   "source": [
    "df_mv[df_mv['mean']>0].sort_values(by='variance', axis=0, ascending=False)"
   ]
  },
  {
   "cell_type": "code",
   "execution_count": null,
   "metadata": {},
   "outputs": [],
   "source": []
  },
  {
   "cell_type": "markdown",
   "metadata": {},
   "source": [
    "## set by occurrence"
   ]
  },
  {
   "cell_type": "code",
   "execution_count": null,
   "metadata": {},
   "outputs": [],
   "source": [
    "with open(\"o1.txt\",'a') as f:\n",
    "    for g in df_mv[df_mv['occurrence']>4990].index:\n",
    "        f.write(\"%s\\n\"%g)"
   ]
  },
  {
   "cell_type": "markdown",
   "metadata": {},
   "source": [
    "## data size Heaps check"
   ]
  },
  {
   "cell_type": "code",
   "execution_count": null,
   "metadata": {},
   "outputs": [],
   "source": [
    "col = df.loc[:,df.keys()[1]].values\n",
    "np.sum(col)"
   ]
  },
  {
   "cell_type": "code",
   "execution_count": null,
   "metadata": {},
   "outputs": [],
   "source": [
    "len(col[col.nonzero()])"
   ]
  },
  {
   "cell_type": "code",
   "execution_count": null,
   "metadata": {},
   "outputs": [],
   "source": [
    "x = []\n",
    "y = []\n",
    "for i in range(1, nfiles):\n",
    "    col = df.loc[:,df.keys()[i]].values\n",
    "    x.append(np.sum(col))\n",
    "    y.append(len(col.nonzero()[0]))\n",
    "plt.scatter(x,y)"
   ]
  },
  {
   "cell_type": "code",
   "execution_count": null,
   "metadata": {},
   "outputs": [],
   "source": [
    "i=794\n",
    "x=[]\n",
    "y=[]\n",
    "col = df.loc[:,df.keys()[i]].values\n",
    "x.append(np.sum(col))\n",
    "y.append(len(col.nonzero()[0]))"
   ]
  },
  {
   "cell_type": "code",
   "execution_count": null,
   "metadata": {},
   "outputs": [],
   "source": [
    "x"
   ]
  },
  {
   "cell_type": "code",
   "execution_count": null,
   "metadata": {},
   "outputs": [],
   "source": [
    "y"
   ]
  },
  {
   "cell_type": "code",
   "execution_count": null,
   "metadata": {},
   "outputs": [],
   "source": [
    "col[8142:8150]"
   ]
  },
  {
   "cell_type": "code",
   "execution_count": null,
   "metadata": {},
   "outputs": [],
   "source": []
  },
  {
   "cell_type": "code",
   "execution_count": null,
   "metadata": {},
   "outputs": [],
   "source": []
  },
  {
   "cell_type": "markdown",
   "metadata": {},
   "source": [
    "## Imagesave"
   ]
  },
  {
   "cell_type": "code",
   "execution_count": null,
   "metadata": {},
   "outputs": [],
   "source": [
    "bits = np.array([df.loc[g,:].values for g in df.index])"
   ]
  },
  {
   "cell_type": "code",
   "execution_count": null,
   "metadata": {},
   "outputs": [],
   "source": [
    "from PIL import Image\n",
    "img = Image.fromarray(bits, mode='1')\n",
    "img.save(\"mat.bmp\")"
   ]
  },
  {
   "cell_type": "code",
   "execution_count": null,
   "metadata": {},
   "outputs": [],
   "source": []
  }
 ],
 "metadata": {
  "kernelspec": {
   "display_name": "Python 3",
   "language": "python",
   "name": "python3"
  },
  "language_info": {
   "codemirror_mode": {
    "name": "ipython",
    "version": 3
   },
   "file_extension": ".py",
   "mimetype": "text/x-python",
   "name": "python",
   "nbconvert_exporter": "python",
   "pygments_lexer": "ipython3",
   "version": "3.6.8"
  }
 },
 "nbformat": 4,
 "nbformat_minor": 2
}
