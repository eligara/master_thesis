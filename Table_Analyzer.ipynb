{
 "cells": [
  {
   "cell_type": "code",
   "execution_count": null,
   "metadata": {},
   "outputs": [],
   "source": [
    "import os\n",
    "import sys\n",
    "import pandas as pd\n",
    "import numpy as np\n",
    "import regex as re\n",
    "import mygene\n",
    "from matplotlib import pyplot as plt\n",
    "from scipy.optimize import curve_fit, fminbound\n",
    "from scipy import stats\n",
    "from tableanalyser import *"
   ]
  },
  {
   "cell_type": "code",
   "execution_count": null,
   "metadata": {},
   "outputs": [],
   "source": [
    "mg = mygene.MyGeneInfo()"
   ]
  },
  {
   "cell_type": "code",
   "execution_count": null,
   "metadata": {},
   "outputs": [],
   "source": [
    "#mg.getgene(\"ENSG00000221782\", 'name,symbol,refseq.rna,type_of_gene,exac.bp')"
   ]
  },
  {
   "cell_type": "code",
   "execution_count": null,
   "metadata": {},
   "outputs": [],
   "source": [
    "working_dir = \"/Users/filippo/Developer/tesi\"\n",
    "os.chdir(working_dir)\n",
    "dirs = os.listdir(\"data\")"
   ]
  },
  {
   "cell_type": "code",
   "execution_count": null,
   "metadata": {},
   "outputs": [],
   "source": [
    "len(dirs)"
   ]
  },
  {
   "cell_type": "code",
   "execution_count": null,
   "metadata": {},
   "outputs": [],
   "source": [
    "normalisation_str = \"counts\""
   ]
  },
  {
   "cell_type": "code",
   "execution_count": null,
   "metadata": {},
   "outputs": [],
   "source": [
    "df = pd.read_csv((\"%s/mainTable.csv\"%working_dir), index_col=[0])\n",
    "#df = df.to_sparse(fill_value=0.)\n",
    "df.head()"
   ]
  },
  {
   "cell_type": "code",
   "execution_count": null,
   "metadata": {},
   "outputs": [],
   "source": [
    "df.info()"
   ]
  },
  {
   "cell_type": "code",
   "execution_count": null,
   "metadata": {},
   "outputs": [],
   "source": [
    "ngenes = len(df.index)\n",
    "nfiles = len(df.columns)\n",
    "print(\"genes:%d\\trealizations:%d\"%(ngenes,nfiles))"
   ]
  },
  {
   "cell_type": "code",
   "execution_count": null,
   "metadata": {},
   "outputs": [],
   "source": []
  },
  {
   "cell_type": "markdown",
   "metadata": {},
   "source": [
    "## Means sigmas"
   ]
  },
  {
   "cell_type": "code",
   "execution_count": null,
   "metadata": {},
   "outputs": [],
   "source": [
    "df_mv = pd.read_csv(\"meanVariances.csv\", index_col = [0])\n",
    "#type_of_gene='protein-coding'\n",
    "#df_mv = df_mv.loc[df_mv['type_of_gene']==type_of_gene]\n",
    "df_mv_occ=pd.read_csv(\"O.dat\", header=None)\n",
    "#df_mv.drop(\"type_of_gene\", axis=1, inplace=True)\n",
    "df_mv.insert(3, 'occurrence', df_mv_occ.values)\n",
    "#df_mv.insert(2,'type_of_gene','protein-coding')\n",
    "df_mv.head()"
   ]
  },
  {
   "cell_type": "code",
   "execution_count": null,
   "metadata": {},
   "outputs": [],
   "source": [
    "#df_mv.round(2).to_csv(\"meanVariances.csv\",index=True,header=True)"
   ]
  },
  {
   "cell_type": "code",
   "execution_count": null,
   "metadata": {},
   "outputs": [],
   "source": [
    "df_mv.fillna(value=0.,inplace=True)"
   ]
  },
  {
   "cell_type": "code",
   "execution_count": null,
   "metadata": {},
   "outputs": [],
   "source": [
    "means = df_mv['mean'].values\n",
    "variances = df_mv['variance'].values\n",
    "occurrences = np.array(df_mv['occurrence'].values*nfiles, dtype=int)\n",
    "len(df_mv)"
   ]
  },
  {
   "cell_type": "markdown",
   "metadata": {},
   "source": [
    "### plot"
   ]
  },
  {
   "cell_type": "markdown",
   "metadata": {},
   "source": [
    "#### **var** versus **mean**"
   ]
  },
  {
   "cell_type": "code",
   "execution_count": null,
   "metadata": {},
   "outputs": [],
   "source": [
    "x_lin = np.logspace(np.log10(means[means.nonzero()].min()),np.log10(means[means.nonzero()].max()), dtype=float,num=50)\n",
    "fig=plt.figure(figsize=(15,4))\n",
    "plt.scatter(means, variances, c='b')\n",
    "plt.plot(x_lin[:20],x_lin[:20], 'r-', lw=3.5, label='$<%s>$'%normalisation_str)\n",
    "plt.plot(x_lin[-40:],np.power(x_lin[-40:],2), 'g-', lw=3.5, label='$<%s>^2$'%normalisation_str)\n",
    "\n",
    "plt.xlabel(\"$<%s>$\"%normalisation_str, fontsize=16)\n",
    "plt.ylabel(\"$\\sigma^2_{%s}$\"%normalisation_str, fontsize=16)\n",
    "plt.xscale('log')\n",
    "plt.yscale('log')\n",
    "plt.xlim(means[means.nonzero()].min()/5,np.power(10,np.log10(means.max())+1))\n",
    "plt.ylim((variances[variances.nonzero()].min()/10,np.power(10,np.log10(variances.max())+1)))\n",
    "plt.show()\n",
    "fig.savefig(\"varmean_loglog.png\")"
   ]
  },
  {
   "cell_type": "code",
   "execution_count": null,
   "metadata": {},
   "outputs": [],
   "source": [
    "cv2 = [variances[i]/(np.power(mean,2)) for i,mean in enumerate(means) if mean>0]\n",
    "fig=plt.figure(figsize=(15,4))\n",
    "plt.scatter(means[means.nonzero()], cv2, c='b')\n",
    "plt.plot(x_lin[-30:],[1 for _ in x_lin[-30:]], 'g-', lw=3.5, label='$<%s>$'%normalisation_str)\n",
    "plt.plot(x_lin[:30],1./x_lin[:30], 'r-', lw=3.5, label='$<%s>^2$'%normalisation_str)\n",
    "\n",
    "plt.xlabel(\"$<%s>$\"%normalisation_str, fontsize=16)\n",
    "plt.ylabel(\"$cv^2$\", fontsize=16)\n",
    "plt.xscale('log')\n",
    "plt.yscale('log')\n",
    "plt.xlim(means[means.nonzero()].min()/5,np.power(10,np.log10(means.max())+1))\n",
    "plt.ylim((variances[variances.nonzero()].min()/10,np.power(10,np.log10(variances.max())+1)))\n",
    "plt.show()\n",
    "fig.savefig(\"cvmean_loglog.png\")"
   ]
  },
  {
   "cell_type": "markdown",
   "metadata": {},
   "source": [
    "### mean versus occurrence"
   ]
  },
  {
   "cell_type": "code",
   "execution_count": null,
   "metadata": {},
   "outputs": [],
   "source": [
    "fig=plt.figure(figsize=(8,5))\n",
    "plt.scatter(occurrences, means, c='b', alpha=0.6, label='data')\n",
    "if 'counts' in normalisation_str:\n",
    "    plt.plot(np.linspace(1,nfiles), np.linspace(1,nfiles)/(nfiles), lw=4, label='', c='cyan', ls='--')\n",
    "plt.ylabel(\"$<%s>$\"%normalisation_str, fontsize=16)\n",
    "#plt.xlabel(\"$\\Sigma_j\\Theta(FPKM-0.1)\\Theta(1e5-FPKM)$\", fontsize=16)\n",
    "plt.xlabel(\"$\\Sigma_j\\Theta(%s)$\"%normalisation_str, fontsize=16)\n",
    "plt.xscale('log')\n",
    "plt.yscale('log')\n",
    "plt.ylim(means[means.nonzero()].min()/5,np.power(10,np.log10(means.max())+1))\n",
    "plt.xlim(5e-1,nfiles+800)\n",
    "plt.show()\n",
    "fig.savefig(\"meanDiff_loglog.png\")"
   ]
  },
  {
   "cell_type": "code",
   "execution_count": null,
   "metadata": {},
   "outputs": [],
   "source": [
    "fig=plt.figure(figsize=(8,5))\n",
    "plt.scatter(means, occurrences, c='b', alpha=0.6, label='data')\n",
    "bin_means, bin_edges, _ = stats.binned_statistic(means, occurrences, statistic='mean', bins=np.logspace(-3,6))\n",
    "x = (bin_edges[1:]+bin_edges[:-1])/2\n",
    "plt.scatter(x,bin_means, marker='x', c='r')\n",
    "plt.xlabel(\"$<%s>$\"%normalisation_str, fontsize=16)\n",
    "#plt.xlabel(\"$\\Sigma_j\\Theta(FPKM-0.1)\\Theta(1e5-FPKM)$\", fontsize=16)\n",
    "plt.ylabel(\"$\\Sigma_j\\Theta(%s)$\"%normalisation_str, fontsize=16)\n",
    "plt.xscale('log')\n",
    "plt.yscale('log')\n",
    "plt.xlim(means[means.nonzero()].min()/5,np.power(10,np.log10(means.max())+1))\n",
    "plt.ylim(5e-1,nfiles+800)\n",
    "plt.show()\n",
    "fig.savefig(\"diffMean_loglog.png\")"
   ]
  },
  {
   "cell_type": "markdown",
   "metadata": {},
   "source": [
    "### Distributions"
   ]
  },
  {
   "cell_type": "code",
   "execution_count": null,
   "metadata": {},
   "outputs": [],
   "source": [
    "from scipy import stats as st"
   ]
  },
  {
   "cell_type": "code",
   "execution_count": null,
   "metadata": {},
   "outputs": [],
   "source": [
    "fig = plt.figure()\n",
    "data = -np.log10(means[means.nonzero()])\n",
    "data -= data.min()\n",
    "mu = np.median(data)\n",
    "s = np.std(data)\n",
    "fit_params = st.lognorm.fit(data)\n",
    "n, c, _ = plt.hist(data, density = True, histtype='step')\n",
    "plt.plot(np.linspace(0,10),st.lognorm.pdf(np.linspace(0,10),*fit_params), label='lognormal')\n",
    "plt.title(\"means\", fontsize=16)\n",
    "plt.xlabel(\"$-log10(<%s>)+loc$\"%normalisation_str, fontsize=16)\n",
    "plt.ylabel(\"#\", fontsize=16)\n",
    "plt.yscale('log')\n",
    "plt.ylim(1e-4,1)\n",
    "plt.legend(fontsize=16)\n",
    "plt.show()\n",
    "fig.savefig(\"mean_distr.pdf\")"
   ]
  },
  {
   "cell_type": "code",
   "execution_count": null,
   "metadata": {},
   "outputs": [],
   "source": [
    "bins = 80\n",
    "_range = (0-1e4*0.5/bins, 1e4+1e4*0.5/bins)\n",
    "fig = plt.figure()\n",
    "n, c, _ = plt.hist(variances, density = False, histtype='step', bins=bins, range=_range)\n",
    "plt.title(\"vars\", fontsize=16)\n",
    "plt.xlabel(\"$<\\sigma_{%s}^2>$\"%normalisation_str, fontsize=16)\n",
    "plt.ylabel(\"#\", fontsize=16)\n",
    "plt.yscale('log')\n",
    "plt.show()\n",
    "fig.savefig(\"var_distr.pdf\")"
   ]
  },
  {
   "cell_type": "code",
   "execution_count": null,
   "metadata": {},
   "outputs": [],
   "source": []
  },
  {
   "cell_type": "markdown",
   "metadata": {},
   "source": [
    "# null"
   ]
  },
  {
   "cell_type": "code",
   "execution_count": null,
   "metadata": {},
   "outputs": [],
   "source": [
    "df_null = pd.read_csv((\"%s/nullTable.csv\"%working_dir), header=None, index_col=[0])\n",
    "df_null.head()"
   ]
  },
  {
   "cell_type": "code",
   "execution_count": null,
   "metadata": {},
   "outputs": [],
   "source": [
    "import scipy.stats as st\n",
    "fig = plt.figure()\n",
    "data = df_null.values[37,:]\n",
    "#data = data/np.average(data)\n",
    "#data = 2 * np.sqrt(data - 3/8.)\n",
    "mu = np.average(data)\n",
    "var = np.var(data)\n",
    "p = (var - mu) / var\n",
    "r = mu ** 2 / (var - mu)\n",
    "n = r / p\n",
    "c, bin_centers, _ = plt.hist(data, histtype='step', density=True, lw=2, label='sampling', bins=10, color='blue')\n",
    "#plt.errorbar((bin_centers[1:]+bin_centers[:-1])/2, c, yerr = np.sqrt(c), fmt='none', c='b')\n",
    "#random = np.random.normal(loc=mu, scale=var, size=5000000)\n",
    "#random = st.nbinom.rvs(n,p, size=100)\n",
    "random = np.random.poisson(lam=mu, size=np.sum(data))\n",
    "plt.hist(random, density=True, histtype='step', lw=1.5, label='Poisson', bins=5, color='red')\n",
    "plt.xlabel(\"%s\"%normalisation_str, fontsize=18)\n",
    "plt.ylabel(\"#\")\n",
    "plt.legend(fontsize=16)\n",
    "plt.show()\n",
    "fig.savefig(\"samplingCrossTissue.png\")\n",
    "print(mu, var)\n",
    "print(np.average(random),np.var(random))"
   ]
  },
  {
   "cell_type": "code",
   "execution_count": null,
   "metadata": {},
   "outputs": [],
   "source": []
  },
  {
   "cell_type": "markdown",
   "metadata": {},
   "source": [
    "## meanVariances"
   ]
  },
  {
   "cell_type": "code",
   "execution_count": null,
   "metadata": {},
   "outputs": [],
   "source": [
    "df_mv_null = pd.read_csv(\"meanVariances_null.csv\", usecols=[1,2])\n",
    "df_mv_null.head()"
   ]
  },
  {
   "cell_type": "code",
   "execution_count": null,
   "metadata": {},
   "outputs": [],
   "source": [
    "df_occ_null = pd.read_csv(\"O_null.dat\", header=None)\n",
    "df_mv_null.insert(2,'occurrence', np.array(df_occ_null.values,dtype=float))\n",
    "#df_mv_null.to_csv(\"meanVariances_null.csv\", index=False, header=True)\n",
    "df_mv_null.head()"
   ]
  },
  {
   "cell_type": "code",
   "execution_count": null,
   "metadata": {},
   "outputs": [],
   "source": [
    "means_null = np.round(df_mv_null['mean'].values,1)\n",
    "variances_null = np.round(df_mv_null['variance'].values,1)\n",
    "occurrences_null = np.round(np.array(df_mv_null['occurrence'].values, dtype=float)*nfiles,1)\n",
    "len(df_mv_null)"
   ]
  },
  {
   "cell_type": "code",
   "execution_count": null,
   "metadata": {},
   "outputs": [],
   "source": [
    "x = means\n",
    "y = variances\n",
    "x_lin = np.logspace(np.log10(x[x.nonzero()].min()),np.log10(x[x.nonzero()].max()), dtype=float,num=50)"
   ]
  },
  {
   "cell_type": "code",
   "execution_count": null,
   "metadata": {},
   "outputs": [],
   "source": [
    "fig=plt.figure(figsize=(12,7))\n",
    "\n",
    "plt.scatter(x, y, label = 'genes', marker='o', alpha=0.5, linewidths=0.1)\n",
    "\n",
    "log_bins_for_x = np.logspace(-5, np.log10(np.max(x)), num=50)\n",
    "bin_means, bin_edges, binnumber = stats.binned_statistic(x, y, statistic='mean', bins=log_bins_for_x)\n",
    "bin_centres = (bin_edges[:-1]+bin_edges[1:])/2\n",
    "plt.hlines(bin_means, bin_edges[:-1], bin_edges[1:], colors='r', lw=5, label='binned average')\n",
    "\n",
    "plt.plot(x_lin[-40:],np.power(x_lin[-40:],2), 'g-', lw=3.5, label='$<%s>^2$'%normalisation_str)\n",
    "plt.plot(x_lin[:20],x_lin[:20], 'r-', lw=3.5, label='$<%s>$'%normalisation_str)\n",
    "\n",
    "\n",
    "\n",
    "#popt, pcov = curve_fit(lambda x,a,b : a*np.power(x,b), bin_centres, bin_means, bounds=([1,1],[35,5]))\n",
    "#plt.plot(bin_centres, popt[0]*np.power(bin_centres, popt[1]), color='y', lw=3, label='fit')\n",
    "#print(popt[0],popt[1])\n",
    "\n",
    "bin_sigmas,  bin_sigmas_edges, binsigmanumber = stats.binned_statistic(x, y, statistic=np.std, bins=log_bins_for_x)\n",
    "plt.plot((bin_edges[:-1] + bin_edges[1:])/2, bin_means+bin_sigmas*3, lw=3, color='yellow', label='binned average + $3\\sigma$')\n",
    "\n",
    "\n",
    "plt.scatter(means_null, variances_null, label='sampling')\n",
    "\n",
    "plt.xlabel(\"$<%s>$\"%normalisation_str, fontsize=16)\n",
    "plt.ylabel(\"$\\sigma^2_{%s}$\"%normalisation_str, fontsize=16)\n",
    "plt.legend(fontsize=18)\n",
    "plt.xscale('log')\n",
    "plt.yscale('log')\n",
    "plt.xlim(x[x.nonzero()].min()/100,np.power(10,np.log10(x.max())+1))\n",
    "plt.ylim((y[y.nonzero()].min()/100,np.power(10,np.log10(y.max())+1)))\n",
    "plt.show()\n",
    "fig.savefig(\"varmean_3sigma.png\")"
   ]
  },
  {
   "cell_type": "code",
   "execution_count": null,
   "metadata": {},
   "outputs": [],
   "source": [
    "cv2 = [variances[i]/(np.power(mean,2)) for i,mean in enumerate(means) if mean>0]\n",
    "cv2_null = [variances_null[i]/(np.power(mean,2)) for i,mean in enumerate(means_null) if mean>0]\n",
    "fig=plt.figure(figsize=(15,4))\n",
    "plt.scatter(means[means.nonzero()], cv2, c='b', label ='genes')\n",
    "plt.scatter(means_null[means_null.nonzero()], cv2_null, c='orange', label='sampling')\n",
    "plt.plot(x_lin[:30],1./x_lin[:30], 'r-', lw=3.5, label='Poisson')\n",
    "\n",
    "plt.xlabel(\"$<%s>$\"%normalisation_str, fontsize=16)\n",
    "plt.ylabel(\"$cv^2$\", fontsize=16)\n",
    "plt.xscale('log')\n",
    "plt.yscale('log')\n",
    "plt.xlim(means[means.nonzero()].min()/5,np.power(10,np.log10(means.max())+1))\n",
    "plt.ylim((variances[variances.nonzero()].min()/10,np.power(10,np.log10(variances.max())+1)))\n",
    "plt.legend(fontsize=16)\n",
    "plt.show()\n",
    "fig.savefig(\"cvmean_loglog.png\")"
   ]
  },
  {
   "cell_type": "code",
   "execution_count": null,
   "metadata": {},
   "outputs": [],
   "source": [
    "x = means\n",
    "y = variances\n",
    "\n",
    "# INIT FIGURE #################################################################\n",
    "\n",
    "fig = plt.figure(figsize=(12, 6))\n",
    "ax = fig.subplots()\n",
    "\n",
    "\n",
    "# AX #########################################################################\n",
    "\n",
    "xmin = np.log10(1e-3)\n",
    "xmax = np.log10(x.max())\n",
    "ymin = np.log10(1e-6)\n",
    "ymax = np.log10(y.max())\n",
    "\n",
    "nbins=80\n",
    "\n",
    "xbins = np.logspace(xmin, xmax, nbins) # <- make a range from 10**xmin to 10**xmax\n",
    "ybins = np.logspace(ymin, ymax, nbins) # <- make a range from 10**ymin to 10**ymax\n",
    "counts, _, _, _ = ax.hist2d(x, y, bins=(xbins, ybins));\n",
    "\n",
    "pcm = ax.pcolormesh(xbins, ybins, counts.T)\n",
    "plt.colorbar(pcm)\n",
    "#fig.colorbar(pcm, ax=ax)  # this works too\n",
    "\n",
    "\n",
    "ax.set_xscale(\"log\")               # <- Activate log scale on X axis\n",
    "ax.set_yscale(\"log\")               # <- Activate log scale on Y axis\n",
    "\n",
    "ax.set_xlim(xmin=xbins[0])\n",
    "ax.set_xlim(xmax=xbins[-1])\n",
    "ax.set_ylim(ymin=ybins[0])\n",
    "ax.set_ylim(ymax=ybins[-1])\n",
    "\n",
    "ax.set_title(\"\")\n",
    "ax.set_xlabel(\"$<%s>$\"%normalisation_str, fontsize=16)\n",
    "ax.set_ylabel(\"$\\sigma^2_{%s}$\"%normalisation_str, fontsize=16)\n",
    "\n",
    "# SHOW AND SAVE FILE ##########################################################\n",
    "\n",
    "plt.tight_layout()\n",
    "plt.show()\n",
    "fig.savefig(\"varmean_density.png\")"
   ]
  },
  {
   "cell_type": "code",
   "execution_count": null,
   "metadata": {},
   "outputs": [],
   "source": [
    "fig=plt.figure(figsize=(8,5))\n",
    "plt.scatter(occurrences, means, c='b', alpha=0.6, label='genes')\n",
    "\n",
    "log_bins_for_x = np.logspace(-5, np.log10(np.max(x)), num=50)\n",
    "bin_means, bin_edges, binnumber = stats.binned_statistic(occurrences, means, statistic='mean', bins=log_bins_for_x)\n",
    "bin_centres = (bin_edges[:-1]+bin_edges[1:])/2\n",
    "plt.hlines(bin_means, bin_edges[:-1], bin_edges[1:], colors='r', lw=5, label='binned average')\n",
    "\n",
    "plt.scatter(occurrences_null, means_null, c='orange', alpha=0.6, label='sampling')\n",
    "\n",
    "plt.plot(np.linspace(1,nfiles), np.linspace(1,nfiles)/(nfiles), lw=3, label='$\\\\frac{O_i}{Nsamples}$', c='cyan', ls='--')\n",
    "plt.ylabel(\"$<%s>$\"%normalisation_str, fontsize=16)\n",
    "#plt.xlabel(\"$\\Sigma_j\\Theta(FPKM-0.1)\\Theta(1e5-FPKM)$\", fontsize=16)\n",
    "plt.xlabel(\"$\\Sigma_j\\Theta(%s)$\"%normalisation_str, fontsize=16)\n",
    "plt.xscale('log')\n",
    "plt.yscale('log')\n",
    "plt.ylim(5e-5,np.power(10,np.log10(means.max())+1))\n",
    "plt.xlim(5e-1,nfiles+800)\n",
    "plt.legend(fontsize=16, loc='upper left')\n",
    "plt.show()\n",
    "fig.savefig(\"meanDiff_binned_sampling.png\")"
   ]
  },
  {
   "cell_type": "code",
   "execution_count": null,
   "metadata": {},
   "outputs": [],
   "source": []
  },
  {
   "cell_type": "markdown",
   "metadata": {},
   "source": [
    "# P_i"
   ]
  },
  {
   "cell_type": "code",
   "execution_count": null,
   "metadata": {},
   "outputs": [],
   "source": [
    "query_g = df_mv[df_mv['mean']>1e4].index.values"
   ]
  },
  {
   "cell_type": "code",
   "execution_count": null,
   "metadata": {},
   "outputs": [],
   "source": [
    "len(query_g)"
   ]
  },
  {
   "cell_type": "code",
   "execution_count": null,
   "metadata": {},
   "outputs": [],
   "source": [
    "N = df.loc[query_g,:].sum(axis=0)"
   ]
  },
  {
   "cell_type": "code",
   "execution_count": null,
   "metadata": {},
   "outputs": [],
   "source": [
    "df_p = df.loc[query_g,:].div(N.values, axis=1)"
   ]
  },
  {
   "cell_type": "code",
   "execution_count": null,
   "metadata": {},
   "outputs": [],
   "source": [
    "means = df_p.apply(np.average, axis=1).values\n",
    "variances = df_p.apply(np.var, axis=1).values\n",
    "o = df_p.apply(lambda x: float(len(np.nonzero(x)[0]))/len(x),axis=1).values"
   ]
  },
  {
   "cell_type": "code",
   "execution_count": null,
   "metadata": {},
   "outputs": [],
   "source": [
    "x = means\n",
    "y = variances\n",
    "log_bins_for_x = np.logspace(np.log10(x[x.nonzero()].min()),np.log10(x[x.nonzero()].max()), dtype=float,num=30)"
   ]
  },
  {
   "cell_type": "code",
   "execution_count": null,
   "metadata": {},
   "outputs": [],
   "source": [
    "fig=plt.figure(figsize=(12,7))\n",
    "\n",
    "plt.scatter(x, y, label = 'genes', marker='o', alpha=0.5, linewidths=0.1)\n",
    "\n",
    "bin_means, bin_edges, binnumber = stats.binned_statistic(x, y, statistic='mean', bins=log_bins_for_x)\n",
    "bin_centres = (bin_edges[:-1]+bin_edges[1:])/2\n",
    "plt.hlines(bin_means, bin_edges[:-1], bin_edges[1:], colors='r', lw=5, label='binned average')\n",
    "\n",
    "plt.plot(log_bins_for_x[-40:],np.power(log_bins_for_x[-40:],2), 'g-', lw=3.5, label='$<p_i>^2$')\n",
    "plt.plot(log_bins_for_x[:20],log_bins_for_x[:20], 'r-', lw=3.5, label='$<p_i>$')\n",
    "\n",
    "plt.xlabel(\"$<p_i>$\", fontsize=16)\n",
    "plt.ylabel(\"$\\sigma^2_{p_i}$\", fontsize=16)\n",
    "plt.legend(fontsize=18)\n",
    "plt.xscale('log')\n",
    "plt.yscale('log')\n",
    "plt.xlim(x[x.nonzero()].min()/100,np.power(10,np.log10(x.max())+1))\n",
    "plt.ylim((y[y.nonzero()].min()/100,np.power(10,np.log10(y.max())+1)))\n",
    "plt.show()\n",
    "fig.savefig(\"varmean_pi_3sigma.png\")"
   ]
  },
  {
   "cell_type": "code",
   "execution_count": null,
   "metadata": {},
   "outputs": [],
   "source": [
    "b = variances/means\n",
    "pred_o = 1 - 1./nfiles*np.nansum(np.power((1+N.values.reshape(3634,1)*b.reshape(1,len(query_g))),-means*means/variances),axis=0)"
   ]
  },
  {
   "cell_type": "code",
   "execution_count": null,
   "metadata": {},
   "outputs": [],
   "source": [
    "fig = plt.figure()\n",
    "plt.scatter(o, pred_o)\n",
    "x = np.linspace(0,1)\n",
    "bin_avg, bin_edges, _ = stats.binned_statistic(o, pred_o, statistic='mean', bins=x)\n",
    "plt.scatter((bin_edges[1:]+bin_edges[:-1])/2,bin_avg, marker='x', lw=2, label='binned average')\n",
    "plt.plot(x,x,label='x', lw=3,c='red')\n",
    "plt.xlabel('$O_i$',fontsize=18)\n",
    "plt.ylabel('predicted $O_i$',fontsize=18)\n",
    "plt.xlim(0,1)\n",
    "plt.ylim(0,1)\n",
    "plt.legend(fontsize=16)\n",
    "plt.show()\n",
    "fig.savefig(\"o_predictedO.png\")"
   ]
  },
  {
   "cell_type": "code",
   "execution_count": null,
   "metadata": {},
   "outputs": [],
   "source": [
    "frak_k = []\n",
    "for sample in df.columns[:100]:\n",
    "    A = df.loc[:,sample].values\n",
    "    frak_k.append(np.array([[k,float(len(A[A>=k]))/len(A)] for k in np.logspace(0,np.log10(A.max()),60)]))"
   ]
  },
  {
   "cell_type": "code",
   "execution_count": null,
   "metadata": {},
   "outputs": [],
   "source": [
    "for dataset in frak_k:\n",
    "    plt.scatter(dataset.T[0],dataset.T[1], linewidths=1)\n",
    "plt.yscale('log')\n",
    "plt.xscale('log')\n",
    "plt.xlabel('counts k', fontsize=16)\n",
    "plt.ylabel('fraction of genes\\n with more than k counts', fontsize=12)\n",
    "plt.xlim(1,1e10)\n",
    "plt.ylim(1e-5,1e0)\n",
    "plt.show()"
   ]
  },
  {
   "cell_type": "markdown",
   "metadata": {},
   "source": [
    "# overexpressed"
   ]
  },
  {
   "cell_type": "code",
   "execution_count": null,
   "metadata": {},
   "outputs": [],
   "source": [
    "bin_means, bin_edges, binnumber = stats.binned_statistic(x, y, statistic='mean', bins=log_bins_for_x)\n",
    "bin_sigmas,  bin_sigmas_edges, binsigmanumber = stats.binned_statistic(x, y, statistic=np.std, bins=log_bins_for_x)\n",
    "\n",
    "def get_mean_sigma(mean, sigma):\n",
    "    bin_i = 0\n",
    "    for i,_ in enumerate(bin_edges[:-1]):\n",
    "        if mean<bin_edges[i+1] and mean > bin_edges[i]:\n",
    "            bin_i = i\n",
    "            break\n",
    "    #print(bin_edges[bin_i],bin_edges[bin_i+1])\n",
    "    return(mean, sigma, bin_means[bin_i], bin_sigmas[bin_i], sigma>(bin_means[bin_i]+3*bin_sigmas[bin_i]))"
   ]
  },
  {
   "cell_type": "code",
   "execution_count": null,
   "metadata": {},
   "outputs": [],
   "source": [
    "over = []\n",
    "for g in df_mv.index:\n",
    "    subdf = df_mv.loc[g,:]\n",
    "    mean = subdf['mean']\n",
    "    sigma = subdf['variance']\n",
    "    r = get_mean_sigma(mean,sigma)\n",
    "    if r[4]:\n",
    "        over.append(g)"
   ]
  },
  {
   "cell_type": "code",
   "execution_count": null,
   "metadata": {},
   "outputs": [],
   "source": [
    "len(over)"
   ]
  },
  {
   "cell_type": "code",
   "execution_count": null,
   "metadata": {},
   "outputs": [],
   "source": [
    "for g in over:\n",
    "    print(g)"
   ]
  },
  {
   "cell_type": "code",
   "execution_count": null,
   "metadata": {},
   "outputs": [],
   "source": []
  },
  {
   "cell_type": "code",
   "execution_count": null,
   "metadata": {},
   "outputs": [],
   "source": []
  },
  {
   "cell_type": "markdown",
   "metadata": {},
   "source": [
    "## over mean"
   ]
  },
  {
   "cell_type": "code",
   "execution_count": null,
   "metadata": {},
   "outputs": [],
   "source": [
    "from matplotlib.patches import Rectangle"
   ]
  },
  {
   "cell_type": "code",
   "execution_count": null,
   "metadata": {},
   "outputs": [],
   "source": [
    "o_min = 3e1\n",
    "o_max = nfiles\n",
    "m_min = 5e4\n",
    "m_max = 1e6"
   ]
  },
  {
   "cell_type": "code",
   "execution_count": null,
   "metadata": {},
   "outputs": [],
   "source": [
    "fig=plt.figure(figsize=(8,5))\n",
    "plt.scatter(occurrences, means, c='b', alpha=0.6, label='data')\n",
    "plt.plot(np.linspace(1,nfiles), np.linspace(1,nfiles)/(nfiles*10), lw=2, label='', c='r')\n",
    "\n",
    "width = o_max - o_min\n",
    "height = m_max-m_min\n",
    "plt.gca().add_patch(Rectangle((o_min,m_min), width=width, height=height, fill=False))\n",
    "\n",
    "plt.ylabel(\"$<%s>$\"%normalisation_str, fontsize=16)\n",
    "#plt.xlabel(\"$\\Sigma_j\\Theta(FPKM-0.1)\\Theta(1e5-FPKM)$\", fontsize=16)\n",
    "plt.xlabel(\"$\\Sigma_j\\Theta(%s)$\"%normalisation_str, fontsize=16)\n",
    "plt.xscale('log')\n",
    "plt.yscale('log')\n",
    "plt.ylim(5e-5,np.power(10,np.log10(means.max())+1))\n",
    "plt.xlim(5e-1,nfiles+800)\n",
    "plt.show()\n",
    "plt.savefig(\"highmean.png\")"
   ]
  },
  {
   "cell_type": "code",
   "execution_count": null,
   "metadata": {},
   "outputs": [],
   "source": [
    "up = []\n",
    "for g in df_mv.index:\n",
    "    subdf = df_mv.loc[g,:]\n",
    "    mean = subdf['mean']\n",
    "    occ = subdf['occurrence']\n",
    "    if mean>m_min and mean < m_max and occ*nfiles > o_min and occ*nfiles< o_max:\n",
    "        up.append(g)"
   ]
  },
  {
   "cell_type": "code",
   "execution_count": null,
   "metadata": {},
   "outputs": [],
   "source": [
    "len(up)"
   ]
  },
  {
   "cell_type": "code",
   "execution_count": null,
   "metadata": {},
   "outputs": [],
   "source": [
    "for g in up:\n",
    "    print(g)"
   ]
  },
  {
   "cell_type": "code",
   "execution_count": null,
   "metadata": {},
   "outputs": [],
   "source": []
  },
  {
   "cell_type": "code",
   "execution_count": null,
   "metadata": {},
   "outputs": [],
   "source": [
    "dat = df.loc['ENSG00000042832'].values\n",
    "np.var(dat)/(np.average(dat)**2)"
   ]
  },
  {
   "cell_type": "code",
   "execution_count": null,
   "metadata": {},
   "outputs": [],
   "source": [
    "df_mv[df_mv['mean']>0].sort_values(by='variance', axis=0, ascending=False)"
   ]
  },
  {
   "cell_type": "code",
   "execution_count": null,
   "metadata": {},
   "outputs": [],
   "source": []
  },
  {
   "cell_type": "markdown",
   "metadata": {},
   "source": [
    "## set by occurrence"
   ]
  },
  {
   "cell_type": "code",
   "execution_count": null,
   "metadata": {},
   "outputs": [],
   "source": [
    "with open(\"o1.txt\",'a') as f:\n",
    "    for g in df_mv[df_mv['occurrence']>4990].index:\n",
    "        f.write(\"%s\\n\"%g)"
   ]
  },
  {
   "cell_type": "markdown",
   "metadata": {},
   "source": [
    "## data size Heaps check"
   ]
  },
  {
   "cell_type": "code",
   "execution_count": null,
   "metadata": {},
   "outputs": [],
   "source": [
    "col = df.loc[:,df.keys()[1]].values\n",
    "np.sum(col)"
   ]
  },
  {
   "cell_type": "code",
   "execution_count": null,
   "metadata": {},
   "outputs": [],
   "source": [
    "len(col[col.nonzero()])"
   ]
  },
  {
   "cell_type": "code",
   "execution_count": null,
   "metadata": {},
   "outputs": [],
   "source": [
    "x = []\n",
    "y = []\n",
    "for i in range(1, nfiles):\n",
    "    col = df.loc[:,df.keys()[i]].values\n",
    "    x.append(np.sum(col))\n",
    "    y.append(len(col.nonzero()[0]))\n",
    "plt.scatter(x,y)"
   ]
  },
  {
   "cell_type": "code",
   "execution_count": null,
   "metadata": {},
   "outputs": [],
   "source": [
    "i=794\n",
    "x=[]\n",
    "y=[]\n",
    "col = df.loc[:,df.keys()[i]].values\n",
    "x.append(np.sum(col))\n",
    "y.append(len(col.nonzero()[0]))"
   ]
  },
  {
   "cell_type": "code",
   "execution_count": null,
   "metadata": {},
   "outputs": [],
   "source": [
    "x"
   ]
  },
  {
   "cell_type": "code",
   "execution_count": null,
   "metadata": {},
   "outputs": [],
   "source": [
    "y"
   ]
  },
  {
   "cell_type": "code",
   "execution_count": null,
   "metadata": {},
   "outputs": [],
   "source": [
    "col[8142:8150]"
   ]
  },
  {
   "cell_type": "code",
   "execution_count": null,
   "metadata": {},
   "outputs": [],
   "source": []
  }
 ],
 "metadata": {
  "kernelspec": {
   "display_name": "Python 2",
   "language": "python",
   "name": "python2"
  },
  "language_info": {
   "codemirror_mode": {
    "name": "ipython",
    "version": 2
   },
   "file_extension": ".py",
   "mimetype": "text/x-python",
   "name": "python",
   "nbconvert_exporter": "python",
   "pygments_lexer": "ipython2",
   "version": "2.7.15"
  }
 },
 "nbformat": 4,
 "nbformat_minor": 2
}
