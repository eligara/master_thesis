{
 "cells": [
  {
   "cell_type": "code",
   "execution_count": null,
   "metadata": {},
   "outputs": [],
   "source": [
    "import os\n",
    "import sys\n",
    "import pandas as pd\n",
    "import numpy as np\n",
    "import regex as re\n",
    "import mygene\n",
    "from matplotlib import pyplot as plt\n",
    "from scipy.optimize import curve_fit, fminbound\n",
    "from scipy import stats\n",
    "from tableanalyser import *"
   ]
  },
  {
   "cell_type": "code",
   "execution_count": null,
   "metadata": {},
   "outputs": [],
   "source": [
    "mg = mygene.MyGeneInfo()"
   ]
  },
  {
   "cell_type": "code",
   "execution_count": null,
   "metadata": {},
   "outputs": [],
   "source": [
    "#mg.getgene(\"ENSG00000221782\", 'name,symbol,refseq.rna,type_of_gene,exac.bp')"
   ]
  },
  {
   "cell_type": "code",
   "execution_count": null,
   "metadata": {},
   "outputs": [],
   "source": [
    "working_dir = \"/Users/filippo/Developer/tesi\"\n",
    "os.chdir(working_dir)\n",
    "dirs = os.listdir(\"data\")"
   ]
  },
  {
   "cell_type": "code",
   "execution_count": null,
   "metadata": {},
   "outputs": [],
   "source": [
    "len(dirs)"
   ]
  },
  {
   "cell_type": "code",
   "execution_count": null,
   "metadata": {},
   "outputs": [],
   "source": [
    "normalisation_str = \"counts\""
   ]
  },
  {
   "cell_type": "code",
   "execution_count": null,
   "metadata": {},
   "outputs": [],
   "source": [
    "df = pd.read_csv((\"%s/mainTable.csv\"%working_dir))\n",
    "df.columns.values[0] = 'gene'\n",
    "#df = df.to_sparse(fill_value=0.)\n",
    "df.head()"
   ]
  },
  {
   "cell_type": "code",
   "execution_count": null,
   "metadata": {},
   "outputs": [],
   "source": [
    "df.info()"
   ]
  },
  {
   "cell_type": "code",
   "execution_count": null,
   "metadata": {},
   "outputs": [],
   "source": [
    "ngenes = len(df['gene'])\n",
    "nfiles = len(df.loc[0,:])-1\n",
    "print(\"genes:%d\\trealizations:%d\"%(ngenes,nfiles))"
   ]
  },
  {
   "cell_type": "code",
   "execution_count": null,
   "metadata": {},
   "outputs": [],
   "source": []
  },
  {
   "cell_type": "markdown",
   "metadata": {},
   "source": [
    "## Means sigmas"
   ]
  },
  {
   "cell_type": "code",
   "execution_count": null,
   "metadata": {},
   "outputs": [],
   "source": [
    "df_mv = pd.read_csv(\"meanVariances.csv\", index_col = [0])\n",
    "#type_of_gene='protein-coding'\n",
    "#df_mv = df_mv.loc[df_mv['type_of_gene']==type_of_gene]\n",
    "df_mv_occ=pd.read_csv(\"O.dat\", header=None)\n",
    "#df_mv.drop(\"type_of_gene\", axis=1, inplace=True)\n",
    "df_mv.insert(3, 'occurrence', df_mv_occ.values)\n",
    "#df_mv.insert(2,'type_of_gene','protein-coding')\n",
    "df_mv.head()"
   ]
  },
  {
   "cell_type": "code",
   "execution_count": null,
   "metadata": {},
   "outputs": [],
   "source": [
    "#df_mv.to_csv(\"meanVariances.csv\",index=True,header=True)"
   ]
  },
  {
   "cell_type": "code",
   "execution_count": null,
   "metadata": {},
   "outputs": [],
   "source": [
    "df_mv.fillna(value=0.,inplace=True)"
   ]
  },
  {
   "cell_type": "code",
   "execution_count": null,
   "metadata": {},
   "outputs": [],
   "source": [
    "means = df_mv['mean'].values\n",
    "variances = df_mv['variance'].values\n",
    "occurrences = np.array(df_mv['occurrence'].values*nfiles, dtype=int)\n",
    "len(df_mv)"
   ]
  },
  {
   "cell_type": "markdown",
   "metadata": {},
   "source": [
    "### plot"
   ]
  },
  {
   "cell_type": "markdown",
   "metadata": {},
   "source": [
    "#### **var** versus **mean**"
   ]
  },
  {
   "cell_type": "code",
   "execution_count": null,
   "metadata": {},
   "outputs": [],
   "source": [
    "fig=plt.figure(figsize=(15,4))\n",
    "plt.subplot(121)\n",
    "plt.scatter(means, variances, c='b')\n",
    "plt.xlabel(\"$<%s>$\"%normalisation_str, fontsize=16)\n",
    "plt.ylabel(\"$\\sigma^2_{%s}$\"%normalisation_str, fontsize=16)\n",
    "plt.subplot(122)\n",
    "plt.scatter(means, variances, c='b')\n",
    "plt.xlabel(\"$<%s>$%normalisation_str\", fontsize=16)\n",
    "plt.ylabel(\"$\\sigma^2_{%s}$\"%normalisation_str, fontsize=16)\n",
    "plt.yscale('log')\n",
    "#plt.xlim(1e-2,200)\n",
    "plt.ylim((variances[variances.nonzero()].min()/10,np.power(10,np.log10(variances.max())+1)))\n",
    "plt.show()"
   ]
  },
  {
   "cell_type": "code",
   "execution_count": null,
   "metadata": {},
   "outputs": [],
   "source": [
    "fig.savefig(\"varmean.png\")"
   ]
  },
  {
   "cell_type": "code",
   "execution_count": null,
   "metadata": {},
   "outputs": [],
   "source": [
    "fig=plt.figure(figsize=(15,4))\n",
    "plt.scatter(means, variances, c='b')\n",
    "plt.xlabel(\"$<%s>$\"%normalisation_str, fontsize=16)\n",
    "plt.ylabel(\"$\\sigma^2_{%s}$\"%normalisation_str, fontsize=16)\n",
    "plt.xscale('log')\n",
    "plt.yscale('log')\n",
    "plt.xlim(5e-5,np.power(10,np.log10(means.max())+1))\n",
    "plt.ylim((variances[variances.nonzero()].min()/10,np.power(10,np.log10(variances.max())+1)))\n",
    "plt.show()\n",
    "fig.savefig(\"varmean_loglog.png\")"
   ]
  },
  {
   "cell_type": "markdown",
   "metadata": {},
   "source": [
    "### mean versus occurrence"
   ]
  },
  {
   "cell_type": "code",
   "execution_count": null,
   "metadata": {},
   "outputs": [],
   "source": [
    "fig=plt.figure(figsize=(8,5))\n",
    "plt.scatter(occurrences, means, c='b', alpha=0.6, label='data')\n",
    "plt.plot(np.linspace(1,nfiles), np.linspace(1,nfiles)/(nfiles), lw=2, label='', c='r')\n",
    "plt.ylabel(\"$<%s>$\"%normalisation_str, fontsize=16)\n",
    "#plt.xlabel(\"$\\Sigma_j\\Theta(FPKM-0.1)\\Theta(1e5-FPKM)$\", fontsize=16)\n",
    "plt.xlabel(\"$\\Sigma_j\\Theta(%s)$\"%normalisation_str, fontsize=16)\n",
    "plt.xscale('log')\n",
    "plt.yscale('log')\n",
    "plt.ylim(5e-5,np.power(10,np.log10(means.max())+1))\n",
    "plt.xlim(5e-1,nfiles+800)\n",
    "plt.show()"
   ]
  },
  {
   "cell_type": "code",
   "execution_count": null,
   "metadata": {},
   "outputs": [],
   "source": [
    "fig.savefig(\"meanDiff_loglog.png\")"
   ]
  },
  {
   "cell_type": "markdown",
   "metadata": {},
   "source": [
    "### Distributions"
   ]
  },
  {
   "cell_type": "code",
   "execution_count": null,
   "metadata": {},
   "outputs": [],
   "source": [
    "len(means)"
   ]
  },
  {
   "cell_type": "code",
   "execution_count": null,
   "metadata": {},
   "outputs": [],
   "source": [
    "len(variances)"
   ]
  },
  {
   "cell_type": "code",
   "execution_count": null,
   "metadata": {},
   "outputs": [],
   "source": [
    "bins = 80\n",
    "_range = (0-1e4*0.5/bins, 1e4+1e4*0.5/bins)\n",
    "fig = plt.figure()\n",
    "n, c, _ = plt.hist(means, density = False, range=_range, bins=bins, histtype='step')\n",
    "plt.title(\"means\", fontsize=16)\n",
    "plt.xlabel(\"$<%s>$\"%normalisation_str, fontsize=16)\n",
    "plt.ylabel(\"#\", fontsize=16)\n",
    "plt.yscale('log')\n",
    "plt.show()\n",
    "fig.savefig(\"mean_distr.pdf\")"
   ]
  },
  {
   "cell_type": "code",
   "execution_count": null,
   "metadata": {},
   "outputs": [],
   "source": [
    "bins = 80\n",
    "_range = (0-1e4*0.5/bins, 1e4+1e4*0.5/bins)\n",
    "fig = plt.figure()\n",
    "n, c, _ = plt.hist(variances, density = False, histtype='step', bins=bins, range=_range)\n",
    "plt.title(\"vars\", fontsize=16)\n",
    "plt.xlabel(\"$<\\sigma_{%s}^2>$\"%normalisation_str, fontsize=16)\n",
    "plt.ylabel(\"#\", fontsize=16)\n",
    "plt.yscale('log')\n",
    "plt.show()\n",
    "fig.savefig(\"var_distr.pdf\")"
   ]
  },
  {
   "cell_type": "markdown",
   "metadata": {},
   "source": []
  },
  {
   "cell_type": "markdown",
   "metadata": {},
   "source": [
    "# protein coding genes"
   ]
  },
  {
   "cell_type": "code",
   "execution_count": null,
   "metadata": {},
   "outputs": [],
   "source": [
    "protein_coding = pd.read_csv(\"genes.txt\", header=[0], index_col=[0])\n",
    "pc = protein_coding.loc[protein_coding['type_of_gene']=='protein-coding'].index.values\n",
    "pc"
   ]
  },
  {
   "cell_type": "code",
   "execution_count": null,
   "metadata": {},
   "outputs": [],
   "source": [
    "df_mv = df_mv.loc[pc,:]"
   ]
  },
  {
   "cell_type": "markdown",
   "metadata": {},
   "source": [
    "# expression plot"
   ]
  },
  {
   "cell_type": "code",
   "execution_count": null,
   "metadata": {},
   "outputs": [],
   "source": [
    "sample = 10\n",
    "fig = plt.figure()\n",
    "x = np.linspace(0, 20000)\n",
    "key = df.keys()[sample]\n",
    "plt.plot(df[key].to_dense(), 'o', label=key[:-2])\n",
    "plt.plot(x, [100 for _ in x], 'r--', lw=4, label='threshold (100)')\n",
    "plt.xlabel(\"gene\", fontsize=16)\n",
    "plt.ylabel(\"%s\"%normalisation_str, fontsize=16)\n",
    "plt.legend()\n",
    "plt.show()"
   ]
  },
  {
   "cell_type": "code",
   "execution_count": null,
   "metadata": {},
   "outputs": [],
   "source": [
    "fig.savefig(\"singleFile.pdf\")"
   ]
  },
  {
   "cell_type": "code",
   "execution_count": null,
   "metadata": {},
   "outputs": [],
   "source": []
  },
  {
   "cell_type": "markdown",
   "metadata": {},
   "source": [
    "# single gene"
   ]
  },
  {
   "cell_type": "code",
   "execution_count": null,
   "metadata": {},
   "outputs": [],
   "source": [
    "gene = geneinfo('ENSG00000078237', df, nfiles)\n",
    "genedistr(gene, 50);\n",
    "#geneplot(gene);\n",
    "#genecoord(gene, means, variances);"
   ]
  },
  {
   "cell_type": "code",
   "execution_count": null,
   "metadata": {},
   "outputs": [],
   "source": []
  },
  {
   "cell_type": "markdown",
   "metadata": {},
   "source": [
    "# subset analysis"
   ]
  },
  {
   "cell_type": "markdown",
   "metadata": {},
   "source": [
    "### query genes"
   ]
  },
  {
   "cell_type": "markdown",
   "metadata": {},
   "source": [
    "#### by mean and variance"
   ]
  },
  {
   "cell_type": "code",
   "execution_count": null,
   "metadata": {},
   "outputs": [],
   "source": [
    "search_mean_max = 200\n",
    "search_mean_min = 50\n",
    "search_var_max = 1e12\n",
    "search_var_min = 1e6\n",
    "pc = True\n",
    "if (pc):\n",
    "    query_result = df_mv.loc[(df_mv['type_of_gene']=='protein-coding')&((df_mv['mean']>(search_mean_min)) & (df_mv['mean']<(search_mean_max))) & ((df_mv['variance']>(search_var_min)) & (df_mv['variance']<(search_var_max)))].sort_values(by='mean')\n",
    "else:\n",
    "    query_result = df_mv.loc[((df_mv['mean']>(search_mean_min)) & (df_mv['mean']<(search_mean_max))) & ((df_mv['variance']>(search_var_min)) & (df_mv['variance']<(search_var_max)))].sort_values(by='mean')\n",
    "query_result"
   ]
  },
  {
   "cell_type": "markdown",
   "metadata": {},
   "source": [
    "#### by occurrence"
   ]
  },
  {
   "cell_type": "code",
   "execution_count": null,
   "metadata": {},
   "outputs": [],
   "source": [
    "search_mean_min = 1e5\n",
    "search_occ_min = 0.995\n",
    "query_result = df_mv.loc[(df_mv['mean']>(search_mean_min)) & (df_mv['occurrence']>(search_occ_min))].sort_values(by='mean')"
   ]
  },
  {
   "cell_type": "code",
   "execution_count": null,
   "metadata": {},
   "outputs": [],
   "source": [
    "genesnames = []\n",
    "for g in query_result.index.values[:5]:\n",
    "    gene = geneinfo(g, df, nfiles, metric=normalisation_str)\n",
    "    genesnames.append(gene)"
   ]
  },
  {
   "cell_type": "markdown",
   "metadata": {},
   "source": [
    "### plot coordinates"
   ]
  },
  {
   "cell_type": "code",
   "execution_count": null,
   "metadata": {},
   "outputs": [],
   "source": [
    "fig = plt.figure(figsize=(18,8))\n",
    "plt.scatter(means, variances)\n",
    "for g in genesnames:\n",
    "    plt.scatter([g['avg']],[g['var']], marker='x', s=90, label=g['name'])\n",
    "plt.xlabel(\"$<%s>$\"%normalisation_str, fontsize=16)\n",
    "plt.ylabel(\"$\\sigma^2_{%s}$\"%normalisation_str, fontsize=16)\n",
    "plt.yscale('log')\n",
    "plt.xlim(5e-5,np.power(10,np.log10(means.max())+1))\n",
    "plt.ylim((variances[variances.nonzero()].min()/10,np.power(10,np.log10(variances.max())+1)))\n",
    "plt.xscale('log')\n",
    "plt.yscale('log')\n",
    "plt.legend()\n",
    "plt.show()\n",
    "fig.savefig(\"plot/genes/subset.png\")"
   ]
  },
  {
   "cell_type": "markdown",
   "metadata": {},
   "source": [
    "### plot all"
   ]
  },
  {
   "cell_type": "code",
   "execution_count": null,
   "metadata": {},
   "outputs": [],
   "source": [
    "for gene in genesnames:\n",
    "    print(gene['name'])\n",
    "    print(\"mean: %f\"%gene['avg'])\n",
    "    print(\"var: %f\"%gene['var'])\n",
    "    genedistr(gene, 80, metric=normalisation_str);\n",
    "    #geneplot(gene);\n",
    "    #genecoord(gene);"
   ]
  },
  {
   "cell_type": "code",
   "execution_count": null,
   "metadata": {},
   "outputs": [],
   "source": [
    "fig = plt.figure(figsize=(15,7))\n",
    "ax = plt.subplot()\n",
    "ax.set_title(\"highmean_highO\")\n",
    "for gene in genesnames:\n",
    "    genedistr(gene, 80, metric=normalisation_str,ax=ax);\n",
    "ax.set_xlim(0.5,5e7)\n",
    "plt.show()\n",
    "fig.savefig(\"highmean_highO.pdf\")"
   ]
  },
  {
   "cell_type": "code",
   "execution_count": null,
   "metadata": {},
   "outputs": [],
   "source": []
  },
  {
   "cell_type": "code",
   "execution_count": null,
   "metadata": {},
   "outputs": [],
   "source": [
    "def powgaus(x, a, b, c, d, e):\n",
    "    return np.exp(a*np.power(x,-b)) - 1 + e*(np.exp(np.exp(-(x-c)*(x-c)/d)) - 1)"
   ]
  },
  {
   "cell_type": "code",
   "execution_count": null,
   "metadata": {},
   "outputs": [],
   "source": [
    "fitfunc = powgaus"
   ]
  },
  {
   "cell_type": "code",
   "execution_count": null,
   "metadata": {},
   "outputs": [],
   "source": [
    "xscale = 'log'\n",
    "yscale='log'\n",
    "bins = 30\n",
    "fig = plt.figure(figsize=(10,4))\n",
    "ax = fig.subplots()\n",
    "counts, bin_edges, _ = ax.hist(gene['data'], histtype='step', bins=bins, range=(0,1e4))\n",
    "bin_centres = (bin_edges[1:]+bin_edges[:-1])/2.\n",
    "ax.errorbar(bin_centres, counts, np.sqrt(counts), None, 'bo', label='data')\n",
    "bounds = ([2, 0.3, 3000, 1000, 0.01],[1000, 0.7, 5000, 500000, 3])\n",
    "popt, pcov = curve_fit(fitfunc, bin_centres, counts, bounds=bounds)\n",
    "print(popt)\n",
    "x = np.linspace(bin_centres[0],1e4)\n",
    "ax.set_title(gene['name'], fontsize=18)\n",
    "ax.set_xlabel(\"$%s$\"%normalisation_str)\n",
    "ax.set_ylabel(\"#\")\n",
    "ax.set_yscale(yscale)\n",
    "ax.set_xscale(xscale)\n",
    "minimum = fminbound(fitfunc, 100, 1500, args=(popt[0],popt[1],popt[2],popt[3],popt[4]))\n",
    "plt.plot(x, fitfunc(x, *popt), 'r', label='fit')\n",
    "plt.plot(x, np.exp(popt[0]*np.power(x,-popt[1])) - 1, label='$e^{a*x^{-b}}$')\n",
    "plt.plot(x, popt[4]*np.exp(np.exp(-(x-popt[2])*(x-popt[2])/popt[3])) - popt[4], label=\"$C(e^{e^{- (x-\\mu)^2\\sigma^{-2}}}-1)$\")\n",
    "plt.text(0.5, 0.45, 'min: %6.1f'%minimum, horizontalalignment='left',verticalalignment='top', fontsize=16, transform=ax.transAxes)\n",
    "plt.text(0.5, 0.4, '(a, b, $\\mu$, $\\sigma$, C):\\n(%d, %4.2f, %d, %d, %3.1f)'%(popt[0],popt[1],popt[2],popt[3],popt[4]), horizontalalignment='left',verticalalignment='top', fontsize=16, transform=ax.transAxes)\n",
    "plt.ylim(1,2e4)\n",
    "plt.legend(fontsize=14)\n",
    "plt.show()"
   ]
  },
  {
   "cell_type": "code",
   "execution_count": null,
   "metadata": {},
   "outputs": [],
   "source": []
  },
  {
   "cell_type": "code",
   "execution_count": null,
   "metadata": {},
   "outputs": [],
   "source": []
  },
  {
   "cell_type": "code",
   "execution_count": null,
   "metadata": {},
   "outputs": [],
   "source": []
  },
  {
   "cell_type": "markdown",
   "metadata": {},
   "source": [
    "# null"
   ]
  },
  {
   "cell_type": "code",
   "execution_count": null,
   "metadata": {},
   "outputs": [],
   "source": [
    "#df_null = pd.read_csv((\"%s/nullTable.csv\"%working_dir), header=None, index_col=None)"
   ]
  },
  {
   "cell_type": "code",
   "execution_count": null,
   "metadata": {},
   "outputs": [],
   "source": [
    "#df_null.head()"
   ]
  },
  {
   "cell_type": "code",
   "execution_count": null,
   "metadata": {},
   "outputs": [],
   "source": [
    "#means_null = [np.average(df_null.loc[i,df_null.keys()[1:]].values) for i,g in enumerate(df_null.loc[:,df_null.keys()[0]].values)]\n",
    "#variances_null = [np.var(df_null.loc[i,df_null.keys()[1:]].values) for i,g in enumerate(df_null.loc[:,df_null.keys()[0]].values)]"
   ]
  },
  {
   "cell_type": "markdown",
   "metadata": {},
   "source": [
    "## meanVariances"
   ]
  },
  {
   "cell_type": "code",
   "execution_count": null,
   "metadata": {},
   "outputs": [],
   "source": [
    "df_mv_null = pd.read_csv(\"meanVariances_null.csv\", usecols=[1,2])\n",
    "df_mv_null.head()"
   ]
  },
  {
   "cell_type": "code",
   "execution_count": null,
   "metadata": {},
   "outputs": [],
   "source": [
    "df_occ_null = pd.read_csv(\"O_null.dat\", header=None)\n",
    "df_mv_null.insert(2,'occurrence', np.array(df_occ_null.values,dtype=float))\n",
    "df_mv_null.head()"
   ]
  },
  {
   "cell_type": "code",
   "execution_count": null,
   "metadata": {},
   "outputs": [],
   "source": []
  },
  {
   "cell_type": "code",
   "execution_count": null,
   "metadata": {},
   "outputs": [],
   "source": [
    "means_null = df_mv_null['mean'].values\n",
    "variances_null = df_mv_null['variance'].values\n",
    "occurrences_null = np.array(df_mv_null['occurrence'].values, dtype=float)*nfiles\n",
    "len(df_mv_null)"
   ]
  },
  {
   "cell_type": "code",
   "execution_count": null,
   "metadata": {},
   "outputs": [],
   "source": [
    "x_lin = np.logspace(np.log10(x[x.nonzero()].min()),np.log10(x[x.nonzero()].max()), dtype=float,num=50)\n",
    "x = means\n",
    "y = variances"
   ]
  },
  {
   "cell_type": "code",
   "execution_count": null,
   "metadata": {},
   "outputs": [],
   "source": [
    "fig=plt.figure(figsize=(12,7))\n",
    "\n",
    "plt.scatter(x, y, label = 'genes', marker='o', alpha=0.5, linewidths=0.1)\n",
    "\n",
    "log_bins_for_x = np.logspace(-5, np.log10(np.max(x)), num=50)\n",
    "bin_means, bin_edges, binnumber = stats.binned_statistic(x, y, statistic='mean', bins=log_bins_for_x)\n",
    "bin_centres = (bin_edges[:-1]+bin_edges[1:])/2\n",
    "plt.hlines(bin_means, bin_edges[:-1], bin_edges[1:], colors='r', lw=5, label='binned average')\n",
    "\n",
    "plt.plot(x_lin[-40:],np.power(x_lin[-40:],2), 'g-', lw=5, label='$<%s>^2$'%normalisation_str)\n",
    "plt.plot(x_lin[:20],x_lin[:20], 'r-', lw=5, label='$<%s>$'%normalisation_str)\n",
    "\n",
    "\n",
    "\n",
    "#popt, pcov = curve_fit(lambda x,a,b : a*np.power(x,b), bin_centres, bin_means, bounds=([1,1],[35,5]))\n",
    "#plt.plot(bin_centres, popt[0]*np.power(bin_centres, popt[1]), color='y', lw=3, label='fit')\n",
    "#print(popt[0],popt[1])\n",
    "\n",
    "bin_sigmas,  bin_sigmas_edges, binsigmanumber = stats.binned_statistic(x, y, statistic=np.std, bins=log_bins_for_x)\n",
    "plt.plot((bin_edges[:-1] + bin_edges[1:])/2, bin_means+bin_sigmas*3, lw=3, color='yellow', label='binned average + $3\\sigma$')\n",
    "\n",
    "\n",
    "#plt.scatter(means_null, variances_null, label='sampling')\n",
    "\n",
    "plt.xlabel(\"$<%s>$\"%normalisation_str, fontsize=16)\n",
    "plt.ylabel(\"$\\sigma^2_{%s}$\"%normalisation_str, fontsize=16)\n",
    "plt.legend(fontsize=18)\n",
    "plt.xscale('log')\n",
    "plt.yscale('log')\n",
    "plt.xlim(x[x.nonzero()].min()/10,np.power(10,np.log10(x.max())+1))\n",
    "plt.ylim((y[y.nonzero()].min()/10,np.power(10,np.log10(y.max())+1)))\n",
    "plt.show()"
   ]
  },
  {
   "cell_type": "code",
   "execution_count": null,
   "metadata": {},
   "outputs": [],
   "source": [
    "fig.savefig(\"varmean_3sigma.png\")"
   ]
  },
  {
   "cell_type": "code",
   "execution_count": null,
   "metadata": {},
   "outputs": [],
   "source": [
    "x = means\n",
    "y = variances\n",
    "\n",
    "# INIT FIGURE #################################################################\n",
    "\n",
    "fig = plt.figure(figsize=(12, 6))\n",
    "ax = fig.subplots()\n",
    "\n",
    "\n",
    "# AX #########################################################################\n",
    "\n",
    "xmin = np.log10(1e-3)\n",
    "xmax = np.log10(x.max())\n",
    "ymin = np.log10(1e-6)\n",
    "ymax = np.log10(y.max())\n",
    "\n",
    "nbins=80\n",
    "\n",
    "xbins = np.logspace(xmin, xmax, nbins) # <- make a range from 10**xmin to 10**xmax\n",
    "ybins = np.logspace(ymin, ymax, nbins) # <- make a range from 10**ymin to 10**ymax\n",
    "counts, _, _, _ = ax.hist2d(x, y, bins=(xbins, ybins));\n",
    "\n",
    "pcm = ax.pcolormesh(xbins, ybins, counts.T)\n",
    "plt.colorbar(pcm)\n",
    "#fig.colorbar(pcm, ax=ax)  # this works too\n",
    "\n",
    "\n",
    "ax.set_xscale(\"log\")               # <- Activate log scale on X axis\n",
    "ax.set_yscale(\"log\")               # <- Activate log scale on Y axis\n",
    "\n",
    "ax.set_xlim(xmin=xbins[0])\n",
    "ax.set_xlim(xmax=xbins[-1])\n",
    "ax.set_ylim(ymin=ybins[0])\n",
    "ax.set_ylim(ymax=ybins[-1])\n",
    "\n",
    "ax.set_title(\"\")\n",
    "ax.set_xlabel(\"$<%s>$\"%normalisation_str, fontsize=16)\n",
    "ax.set_ylabel(\"$\\sigma^2_{%s}$\"%normalisation_str, fontsize=16)\n",
    "\n",
    "# SHOW AND SAVE FILE ##########################################################\n",
    "\n",
    "plt.tight_layout()\n",
    "plt.show()\n",
    "fig.savefig(\"varmean_density.png\")"
   ]
  },
  {
   "cell_type": "code",
   "execution_count": null,
   "metadata": {},
   "outputs": [],
   "source": [
    "fig=plt.figure(figsize=(8,5))\n",
    "plt.scatter(occurrences, means, c='b', alpha=0.6, label='data')\n",
    "\n",
    "log_bins_for_x = np.logspace(-5, np.log10(np.max(x)), num=50)\n",
    "bin_means, bin_edges, binnumber = stats.binned_statistic(occurrences, means, statistic='mean', bins=log_bins_for_x)\n",
    "bin_centres = (bin_edges[:-1]+bin_edges[1:])/2\n",
    "plt.hlines(bin_means, bin_edges[:-1], bin_edges[1:], colors='r', lw=5, label='binned average')\n",
    "\n",
    "plt.plot(np.linspace(1,nfiles), np.linspace(1,nfiles)/(nfiles), lw=2, label='', c='r')\n",
    "plt.ylabel(\"$<%s>$\"%normalisation_str, fontsize=16)\n",
    "#plt.xlabel(\"$\\Sigma_j\\Theta(FPKM-0.1)\\Theta(1e5-FPKM)$\", fontsize=16)\n",
    "plt.xlabel(\"$\\Sigma_j\\Theta(%s)$\"%normalisation_str, fontsize=16)\n",
    "plt.xscale('log')\n",
    "plt.yscale('log')\n",
    "plt.ylim(5e-5,np.power(10,np.log10(means.max())+1))\n",
    "plt.xlim(5e-1,nfiles+800)\n",
    "plt.show()\n",
    "fig.savefig(\"meanDiff_binned.png\")"
   ]
  },
  {
   "cell_type": "markdown",
   "metadata": {},
   "source": [
    "# overexpressed"
   ]
  },
  {
   "cell_type": "code",
   "execution_count": null,
   "metadata": {},
   "outputs": [],
   "source": [
    "bin_means, bin_edges, binnumber = stats.binned_statistic(x, y, statistic='mean', bins=log_bins_for_x)\n",
    "bin_sigmas,  bin_sigmas_edges, binsigmanumber = stats.binned_statistic(x, y, statistic=np.std, bins=log_bins_for_x)\n",
    "\n",
    "def get_mean_sigma(mean, sigma):\n",
    "    bin_i = 0\n",
    "    for i,_ in enumerate(bin_edges[:-1]):\n",
    "        if mean<bin_edges[i+1] and mean > bin_edges[i]:\n",
    "            bin_i = i\n",
    "            break\n",
    "    #print(bin_edges[bin_i],bin_edges[bin_i+1])\n",
    "    return(mean, sigma, bin_means[bin_i], bin_sigmas[bin_i], sigma>(bin_means[bin_i]+3*bin_sigmas[bin_i]))"
   ]
  },
  {
   "cell_type": "code",
   "execution_count": null,
   "metadata": {},
   "outputs": [],
   "source": [
    "over = []\n",
    "for g in df_mv.index:\n",
    "    subdf = df_mv.loc[g,:]\n",
    "    mean = subdf['mean']\n",
    "    sigma = subdf['variance']\n",
    "    r = get_mean_sigma(mean,sigma)\n",
    "    if r[4]:\n",
    "        over.append(g)"
   ]
  },
  {
   "cell_type": "code",
   "execution_count": null,
   "metadata": {},
   "outputs": [],
   "source": [
    "len(over)"
   ]
  },
  {
   "cell_type": "code",
   "execution_count": null,
   "metadata": {},
   "outputs": [],
   "source": [
    "for g in over:\n",
    "    print(g)"
   ]
  },
  {
   "cell_type": "code",
   "execution_count": null,
   "metadata": {},
   "outputs": [],
   "source": []
  },
  {
   "cell_type": "code",
   "execution_count": null,
   "metadata": {},
   "outputs": [],
   "source": []
  },
  {
   "cell_type": "markdown",
   "metadata": {},
   "source": [
    "## over mean"
   ]
  },
  {
   "cell_type": "code",
   "execution_count": null,
   "metadata": {},
   "outputs": [],
   "source": [
    "from matplotlib.patches import Rectangle"
   ]
  },
  {
   "cell_type": "code",
   "execution_count": null,
   "metadata": {},
   "outputs": [],
   "source": [
    "o_min = 3e1\n",
    "o_max = nfiles\n",
    "m_min = 5e4\n",
    "m_max = 1e6"
   ]
  },
  {
   "cell_type": "code",
   "execution_count": null,
   "metadata": {},
   "outputs": [],
   "source": [
    "fig=plt.figure(figsize=(8,5))\n",
    "plt.scatter(occurrences, means, c='b', alpha=0.6, label='data')\n",
    "plt.plot(np.linspace(1,nfiles), np.linspace(1,nfiles)/(nfiles*10), lw=2, label='', c='r')\n",
    "\n",
    "width = o_max - o_min\n",
    "height = m_max-m_min\n",
    "plt.gca().add_patch(Rectangle((o_min,m_min), width=width, height=height, fill=False))\n",
    "\n",
    "plt.ylabel(\"$<%s>$\"%normalisation_str, fontsize=16)\n",
    "#plt.xlabel(\"$\\Sigma_j\\Theta(FPKM-0.1)\\Theta(1e5-FPKM)$\", fontsize=16)\n",
    "plt.xlabel(\"$\\Sigma_j\\Theta(%s)$\"%normalisation_str, fontsize=16)\n",
    "plt.xscale('log')\n",
    "plt.yscale('log')\n",
    "plt.ylim(5e-5,np.power(10,np.log10(means.max())+1))\n",
    "plt.xlim(5e-1,nfiles+800)\n",
    "plt.show()\n",
    "plt.savefig(\"highmean.png\")"
   ]
  },
  {
   "cell_type": "code",
   "execution_count": null,
   "metadata": {},
   "outputs": [],
   "source": [
    "up = []\n",
    "for g in df_mv.index:\n",
    "    subdf = df_mv.loc[g,:]\n",
    "    mean = subdf['mean']\n",
    "    occ = subdf['occurrence']\n",
    "    if mean>m_min and mean < m_max and occ*nfiles > o_min and occ*nfiles< o_max:\n",
    "        up.append(g)"
   ]
  },
  {
   "cell_type": "code",
   "execution_count": null,
   "metadata": {},
   "outputs": [],
   "source": [
    "len(up)"
   ]
  },
  {
   "cell_type": "code",
   "execution_count": null,
   "metadata": {},
   "outputs": [],
   "source": [
    "for g in up:\n",
    "    print(g)"
   ]
  },
  {
   "cell_type": "markdown",
   "metadata": {},
   "source": [
    "## with null model"
   ]
  },
  {
   "cell_type": "code",
   "execution_count": null,
   "metadata": {},
   "outputs": [],
   "source": [
    "fig=plt.figure(figsize=(9,5))\n",
    "plt.scatter(occurrences, means, c='b', label='data', alpha=0.6)\n",
    "plt.scatter(occurrences_null, means_null, c='r', label='sampling')\n",
    "#plt.plot(np.logspace(-1,4),1e-1/5000.*np.logspace(-1,4))\n",
    "plt.ylabel(\"$<%s>$\"%normalisation_str, fontsize=16)\n",
    "#plt.xlabel(\"$\\Sigma_j\\Theta(FPKM-0.1)\\Theta(1e5-FPKM)$\", fontsize=16)\n",
    "plt.xlabel(\"$\\Sigma_j\\Theta(%s)$\"%normalisation_str, fontsize=16)\n",
    "plt.xscale('log')\n",
    "plt.yscale('log')\n",
    "plt.ylim(5e-5,np.power(10,np.log10(means.max())+1))\n",
    "plt.xlim(5e-1,nfiles+800)\n",
    "plt.legend(fontsize=16)\n",
    "plt.show()"
   ]
  },
  {
   "cell_type": "code",
   "execution_count": null,
   "metadata": {},
   "outputs": [],
   "source": [
    "fig.savefig(\"meanDiff_null.png\")"
   ]
  },
  {
   "cell_type": "markdown",
   "metadata": {},
   "source": []
  },
  {
   "cell_type": "markdown",
   "metadata": {},
   "source": [
    "## set by occurrence"
   ]
  },
  {
   "cell_type": "code",
   "execution_count": null,
   "metadata": {},
   "outputs": [],
   "source": [
    "with open(\"o1.txt\",'a') as f:\n",
    "    for g in df_mv[df_mv['occurrence']>4990].index:\n",
    "        f.write(\"%s\\n\"%g)"
   ]
  },
  {
   "cell_type": "markdown",
   "metadata": {},
   "source": [
    "## data size Heaps check"
   ]
  },
  {
   "cell_type": "code",
   "execution_count": null,
   "metadata": {},
   "outputs": [],
   "source": [
    "col = df.loc[:,df.keys()[1]].values\n",
    "np.sum(col)"
   ]
  },
  {
   "cell_type": "code",
   "execution_count": null,
   "metadata": {},
   "outputs": [],
   "source": [
    "len(col[col.nonzero()])"
   ]
  },
  {
   "cell_type": "code",
   "execution_count": null,
   "metadata": {},
   "outputs": [],
   "source": [
    "x = []\n",
    "y = []\n",
    "for i in range(1, nfiles):\n",
    "    col = df.loc[:,df.keys()[i]].values\n",
    "    x.append(np.sum(col))\n",
    "    y.append(len(col.nonzero()[0]))\n",
    "plt.scatter(x,y)"
   ]
  },
  {
   "cell_type": "code",
   "execution_count": null,
   "metadata": {},
   "outputs": [],
   "source": [
    "i=794\n",
    "x=[]\n",
    "y=[]\n",
    "col = df.loc[:,df.keys()[i]].values\n",
    "x.append(np.sum(col))\n",
    "y.append(len(col.nonzero()[0]))"
   ]
  },
  {
   "cell_type": "code",
   "execution_count": null,
   "metadata": {},
   "outputs": [],
   "source": [
    "x"
   ]
  },
  {
   "cell_type": "code",
   "execution_count": null,
   "metadata": {},
   "outputs": [],
   "source": [
    "y"
   ]
  },
  {
   "cell_type": "code",
   "execution_count": null,
   "metadata": {},
   "outputs": [],
   "source": [
    "col[8142:8150]"
   ]
  },
  {
   "cell_type": "code",
   "execution_count": null,
   "metadata": {},
   "outputs": [],
   "source": []
  },
  {
   "cell_type": "code",
   "execution_count": null,
   "metadata": {},
   "outputs": [],
   "source": []
  }
 ],
 "metadata": {
  "kernelspec": {
   "display_name": "Python 2",
   "language": "python",
   "name": "python2"
  },
  "language_info": {
   "codemirror_mode": {
    "name": "ipython",
    "version": 2
   },
   "file_extension": ".py",
   "mimetype": "text/x-python",
   "name": "python",
   "nbconvert_exporter": "python",
   "pygments_lexer": "ipython2",
   "version": "2.7.15"
  }
 },
 "nbformat": 4,
 "nbformat_minor": 2
}
