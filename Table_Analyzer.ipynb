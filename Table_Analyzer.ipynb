{
 "cells": [
  {
   "cell_type": "code",
   "execution_count": 1,
   "metadata": {},
   "outputs": [],
   "source": [
    "import os\n",
    "import sys\n",
    "import pandas as pd\n",
    "import numpy as np\n",
    "import regex as re\n",
    "import mygene\n",
    "from matplotlib import pyplot as plt\n",
    "from scipy.optimize import curve_fit, fminbound\n",
    "from tableanalyzer import *"
   ]
  },
  {
   "cell_type": "code",
   "execution_count": 5,
   "metadata": {},
   "outputs": [],
   "source": [
    "mg = mygene.MyGeneInfo()"
   ]
  },
  {
   "cell_type": "code",
   "execution_count": 3,
   "metadata": {},
   "outputs": [],
   "source": [
    "#mg.getgene(\"ENSG00000221782\", 'name,symbol,refseq.rna,type_of_gene,exac.bp')"
   ]
  },
  {
   "cell_type": "code",
   "execution_count": 2,
   "metadata": {},
   "outputs": [],
   "source": [
    "working_dir = \"/Users/filippo/Developer/tesi\"\n",
    "os.chdir(working_dir)\n",
    "dirs = os.listdir(\"data\")"
   ]
  },
  {
   "cell_type": "code",
   "execution_count": 3,
   "metadata": {},
   "outputs": [
    {
     "data": {
      "text/plain": [
       "8935"
      ]
     },
     "execution_count": 3,
     "metadata": {},
     "output_type": "execute_result"
    }
   ],
   "source": [
    "len(dirs)"
   ]
  },
  {
   "cell_type": "code",
   "execution_count": 7,
   "metadata": {},
   "outputs": [
    {
     "data": {
      "text/html": [
       "<div>\n",
       "<style scoped>\n",
       "    .dataframe tbody tr th:only-of-type {\n",
       "        vertical-align: middle;\n",
       "    }\n",
       "\n",
       "    .dataframe tbody tr th {\n",
       "        vertical-align: top;\n",
       "    }\n",
       "\n",
       "    .dataframe thead th {\n",
       "        text-align: right;\n",
       "    }\n",
       "</style>\n",
       "<table border=\"1\" class=\"dataframe\">\n",
       "  <thead>\n",
       "    <tr style=\"text-align: right;\">\n",
       "      <th></th>\n",
       "      <th>gene</th>\n",
       "      <th>85593c7d-7441-4d41-81d3-aaa17c7e398b.F</th>\n",
       "      <th>bfeaa9f7-e413-40b8-86ba-c9d26a96c240.F</th>\n",
       "      <th>426b94fe-fcff-49f2-9d0b-c7cb49bb5559.F</th>\n",
       "      <th>38083e21-7761-47c7-9112-769c7f85e283.F</th>\n",
       "      <th>6e2570b0-fc95-4ba9-a8a5-b79f6dea0246.F</th>\n",
       "      <th>21800024-cf76-4185-b57b-526539ccdba2.F</th>\n",
       "      <th>1f0f7598-d8c0-41ba-8b07-c958fecbb5f7.F</th>\n",
       "      <th>ea50d2da-4f84-46dc-8036-c34392793aed.F</th>\n",
       "      <th>7b2c7499-15c0-4926-a12c-4561df34954b.F</th>\n",
       "      <th>...</th>\n",
       "      <th>bd556315-a050-465f-9a41-bdebe7e3eb61.F</th>\n",
       "      <th>fde7c419-b8c0-4e04-8512-0e3b8eadebda.F</th>\n",
       "      <th>46551ef6-d1de-43c3-8ea5-5ade8a5bffd7.F</th>\n",
       "      <th>1a587b92-0a11-47f0-83c2-77a2b6de1088.F</th>\n",
       "      <th>171f664b-3226-4944-9219-91d2a7fdfb5f.F</th>\n",
       "      <th>9c77be54-d58e-4dec-8894-acb71a12cac5.F</th>\n",
       "      <th>2556ce90-db5f-4beb-897a-db3cf556e054.F</th>\n",
       "      <th>234724ab-6f82-4ac9-9948-37ffd9c3e418.F</th>\n",
       "      <th>cd550979-69b5-43d0-9724-cc25eb502cb8.F</th>\n",
       "      <th>03872f69-93f5-4d6c-aeb3-dadbc2762682.F</th>\n",
       "    </tr>\n",
       "  </thead>\n",
       "  <tbody>\n",
       "    <tr>\n",
       "      <th>0</th>\n",
       "      <td>ENSG00000242268</td>\n",
       "      <td>0.076913</td>\n",
       "      <td>0.000000</td>\n",
       "      <td>0.137506</td>\n",
       "      <td>0.841950</td>\n",
       "      <td>0.522683</td>\n",
       "      <td>0.436242</td>\n",
       "      <td>0.062384</td>\n",
       "      <td>0.902013</td>\n",
       "      <td>0.000000</td>\n",
       "      <td>...</td>\n",
       "      <td>0.000000</td>\n",
       "      <td>0.046059</td>\n",
       "      <td>0.027827</td>\n",
       "      <td>0.000000</td>\n",
       "      <td>0.975612</td>\n",
       "      <td>0.000000</td>\n",
       "      <td>0.000000</td>\n",
       "      <td>0.000000</td>\n",
       "      <td>0.000000</td>\n",
       "      <td>0.000000</td>\n",
       "    </tr>\n",
       "    <tr>\n",
       "      <th>1</th>\n",
       "      <td>ENSG00000270112</td>\n",
       "      <td>0.007115</td>\n",
       "      <td>0.000000</td>\n",
       "      <td>0.010902</td>\n",
       "      <td>0.025961</td>\n",
       "      <td>0.616454</td>\n",
       "      <td>0.207531</td>\n",
       "      <td>0.025968</td>\n",
       "      <td>0.060075</td>\n",
       "      <td>1.020406</td>\n",
       "      <td>...</td>\n",
       "      <td>0.000000</td>\n",
       "      <td>0.019172</td>\n",
       "      <td>0.003861</td>\n",
       "      <td>0.031637</td>\n",
       "      <td>0.118014</td>\n",
       "      <td>0.000000</td>\n",
       "      <td>0.016449</td>\n",
       "      <td>0.000000</td>\n",
       "      <td>0.003548</td>\n",
       "      <td>0.000000</td>\n",
       "    </tr>\n",
       "    <tr>\n",
       "      <th>2</th>\n",
       "      <td>ENSG00000167578</td>\n",
       "      <td>6.736458</td>\n",
       "      <td>3.268259</td>\n",
       "      <td>0.804157</td>\n",
       "      <td>4.580433</td>\n",
       "      <td>3.330552</td>\n",
       "      <td>3.467188</td>\n",
       "      <td>1.923817</td>\n",
       "      <td>4.086256</td>\n",
       "      <td>2.477979</td>\n",
       "      <td>...</td>\n",
       "      <td>1.933432</td>\n",
       "      <td>4.589182</td>\n",
       "      <td>2.509192</td>\n",
       "      <td>1.182190</td>\n",
       "      <td>4.894803</td>\n",
       "      <td>3.463509</td>\n",
       "      <td>3.816159</td>\n",
       "      <td>2.281180</td>\n",
       "      <td>2.112157</td>\n",
       "      <td>11.051738</td>\n",
       "    </tr>\n",
       "    <tr>\n",
       "      <th>3</th>\n",
       "      <td>ENSG00000273842</td>\n",
       "      <td>0.000000</td>\n",
       "      <td>0.000000</td>\n",
       "      <td>0.000000</td>\n",
       "      <td>0.000000</td>\n",
       "      <td>0.000000</td>\n",
       "      <td>0.000000</td>\n",
       "      <td>0.000000</td>\n",
       "      <td>0.000000</td>\n",
       "      <td>0.000000</td>\n",
       "      <td>...</td>\n",
       "      <td>0.000000</td>\n",
       "      <td>0.000000</td>\n",
       "      <td>0.000000</td>\n",
       "      <td>0.000000</td>\n",
       "      <td>0.000000</td>\n",
       "      <td>0.000000</td>\n",
       "      <td>0.000000</td>\n",
       "      <td>0.000000</td>\n",
       "      <td>0.000000</td>\n",
       "      <td>0.000000</td>\n",
       "    </tr>\n",
       "    <tr>\n",
       "      <th>4</th>\n",
       "      <td>ENSG00000078237</td>\n",
       "      <td>4.449834</td>\n",
       "      <td>3.115587</td>\n",
       "      <td>1.536337</td>\n",
       "      <td>3.729699</td>\n",
       "      <td>3.989718</td>\n",
       "      <td>6.747617</td>\n",
       "      <td>3.787525</td>\n",
       "      <td>4.364158</td>\n",
       "      <td>4.201916</td>\n",
       "      <td>...</td>\n",
       "      <td>4.181816</td>\n",
       "      <td>15.874804</td>\n",
       "      <td>2.699238</td>\n",
       "      <td>6.278986</td>\n",
       "      <td>3.378318</td>\n",
       "      <td>6.234426</td>\n",
       "      <td>5.366732</td>\n",
       "      <td>2.985039</td>\n",
       "      <td>4.456480</td>\n",
       "      <td>3.583194</td>\n",
       "    </tr>\n",
       "  </tbody>\n",
       "</table>\n",
       "<p>5 rows × 5001 columns</p>\n",
       "</div>"
      ],
      "text/plain": [
       "              gene  85593c7d-7441-4d41-81d3-aaa17c7e398b.F  \\\n",
       "0  ENSG00000242268                                0.076913   \n",
       "1  ENSG00000270112                                0.007115   \n",
       "2  ENSG00000167578                                6.736458   \n",
       "3  ENSG00000273842                                0.000000   \n",
       "4  ENSG00000078237                                4.449834   \n",
       "\n",
       "   bfeaa9f7-e413-40b8-86ba-c9d26a96c240.F  \\\n",
       "0                                0.000000   \n",
       "1                                0.000000   \n",
       "2                                3.268259   \n",
       "3                                0.000000   \n",
       "4                                3.115587   \n",
       "\n",
       "   426b94fe-fcff-49f2-9d0b-c7cb49bb5559.F  \\\n",
       "0                                0.137506   \n",
       "1                                0.010902   \n",
       "2                                0.804157   \n",
       "3                                0.000000   \n",
       "4                                1.536337   \n",
       "\n",
       "   38083e21-7761-47c7-9112-769c7f85e283.F  \\\n",
       "0                                0.841950   \n",
       "1                                0.025961   \n",
       "2                                4.580433   \n",
       "3                                0.000000   \n",
       "4                                3.729699   \n",
       "\n",
       "   6e2570b0-fc95-4ba9-a8a5-b79f6dea0246.F  \\\n",
       "0                                0.522683   \n",
       "1                                0.616454   \n",
       "2                                3.330552   \n",
       "3                                0.000000   \n",
       "4                                3.989718   \n",
       "\n",
       "   21800024-cf76-4185-b57b-526539ccdba2.F  \\\n",
       "0                                0.436242   \n",
       "1                                0.207531   \n",
       "2                                3.467188   \n",
       "3                                0.000000   \n",
       "4                                6.747617   \n",
       "\n",
       "   1f0f7598-d8c0-41ba-8b07-c958fecbb5f7.F  \\\n",
       "0                                0.062384   \n",
       "1                                0.025968   \n",
       "2                                1.923817   \n",
       "3                                0.000000   \n",
       "4                                3.787525   \n",
       "\n",
       "   ea50d2da-4f84-46dc-8036-c34392793aed.F  \\\n",
       "0                                0.902013   \n",
       "1                                0.060075   \n",
       "2                                4.086256   \n",
       "3                                0.000000   \n",
       "4                                4.364158   \n",
       "\n",
       "   7b2c7499-15c0-4926-a12c-4561df34954b.F  \\\n",
       "0                                0.000000   \n",
       "1                                1.020406   \n",
       "2                                2.477979   \n",
       "3                                0.000000   \n",
       "4                                4.201916   \n",
       "\n",
       "                    ...                    \\\n",
       "0                   ...                     \n",
       "1                   ...                     \n",
       "2                   ...                     \n",
       "3                   ...                     \n",
       "4                   ...                     \n",
       "\n",
       "   bd556315-a050-465f-9a41-bdebe7e3eb61.F  \\\n",
       "0                                0.000000   \n",
       "1                                0.000000   \n",
       "2                                1.933432   \n",
       "3                                0.000000   \n",
       "4                                4.181816   \n",
       "\n",
       "   fde7c419-b8c0-4e04-8512-0e3b8eadebda.F  \\\n",
       "0                                0.046059   \n",
       "1                                0.019172   \n",
       "2                                4.589182   \n",
       "3                                0.000000   \n",
       "4                               15.874804   \n",
       "\n",
       "   46551ef6-d1de-43c3-8ea5-5ade8a5bffd7.F  \\\n",
       "0                                0.027827   \n",
       "1                                0.003861   \n",
       "2                                2.509192   \n",
       "3                                0.000000   \n",
       "4                                2.699238   \n",
       "\n",
       "   1a587b92-0a11-47f0-83c2-77a2b6de1088.F  \\\n",
       "0                                0.000000   \n",
       "1                                0.031637   \n",
       "2                                1.182190   \n",
       "3                                0.000000   \n",
       "4                                6.278986   \n",
       "\n",
       "   171f664b-3226-4944-9219-91d2a7fdfb5f.F  \\\n",
       "0                                0.975612   \n",
       "1                                0.118014   \n",
       "2                                4.894803   \n",
       "3                                0.000000   \n",
       "4                                3.378318   \n",
       "\n",
       "   9c77be54-d58e-4dec-8894-acb71a12cac5.F  \\\n",
       "0                                0.000000   \n",
       "1                                0.000000   \n",
       "2                                3.463509   \n",
       "3                                0.000000   \n",
       "4                                6.234426   \n",
       "\n",
       "   2556ce90-db5f-4beb-897a-db3cf556e054.F  \\\n",
       "0                                0.000000   \n",
       "1                                0.016449   \n",
       "2                                3.816159   \n",
       "3                                0.000000   \n",
       "4                                5.366732   \n",
       "\n",
       "   234724ab-6f82-4ac9-9948-37ffd9c3e418.F  \\\n",
       "0                                0.000000   \n",
       "1                                0.000000   \n",
       "2                                2.281180   \n",
       "3                                0.000000   \n",
       "4                                2.985039   \n",
       "\n",
       "   cd550979-69b5-43d0-9724-cc25eb502cb8.F  \\\n",
       "0                                0.000000   \n",
       "1                                0.003548   \n",
       "2                                2.112157   \n",
       "3                                0.000000   \n",
       "4                                4.456480   \n",
       "\n",
       "   03872f69-93f5-4d6c-aeb3-dadbc2762682.F  \n",
       "0                                0.000000  \n",
       "1                                0.000000  \n",
       "2                               11.051738  \n",
       "3                                0.000000  \n",
       "4                                3.583194  \n",
       "\n",
       "[5 rows x 5001 columns]"
      ]
     },
     "execution_count": 7,
     "metadata": {},
     "output_type": "execute_result"
    }
   ],
   "source": [
    "df = pd.read_csv((\"%s/mainTable.csv\"%working_dir))\n",
    "genes = np.array([gene[:15] for gene in df.loc[:,'gene'].values])\n",
    "df['gene'] = genes\n",
    "#df = df.to_sparse(fill_value=0.)\n",
    "df.head()"
   ]
  },
  {
   "cell_type": "code",
   "execution_count": 7,
   "metadata": {},
   "outputs": [
    {
     "name": "stdout",
     "output_type": "stream",
     "text": [
      "<class 'pandas.core.frame.DataFrame'>\n",
      "RangeIndex: 1424 entries, 0 to 1423\n",
      "Columns: 5001 entries, gene to 03872f69-93f5-4d6c-aeb3-dadbc2762682.F\n",
      "dtypes: float64(5000), object(1)\n",
      "memory usage: 54.3+ MB\n"
     ]
    }
   ],
   "source": [
    "df.info()"
   ]
  },
  {
   "cell_type": "code",
   "execution_count": 8,
   "metadata": {},
   "outputs": [
    {
     "name": "stdout",
     "output_type": "stream",
     "text": [
      "genes:60483\trealizations:5000\n"
     ]
    }
   ],
   "source": [
    "ngenes = len(df['gene'])\n",
    "nfiles = len(df.loc[0,:])-1\n",
    "print(\"genes:%d\\trealizations:%d\"%(ngenes,nfiles))"
   ]
  },
  {
   "cell_type": "code",
   "execution_count": null,
   "metadata": {},
   "outputs": [],
   "source": [
    "np.sum(df[:,df.keys()[4]])"
   ]
  },
  {
   "cell_type": "code",
   "execution_count": null,
   "metadata": {},
   "outputs": [],
   "source": []
  },
  {
   "cell_type": "markdown",
   "metadata": {},
   "source": [
    "## Means sigmas"
   ]
  },
  {
   "cell_type": "code",
   "execution_count": 10,
   "metadata": {
    "scrolled": true
   },
   "outputs": [
    {
     "data": {
      "text/html": [
       "<div>\n",
       "<style scoped>\n",
       "    .dataframe tbody tr th:only-of-type {\n",
       "        vertical-align: middle;\n",
       "    }\n",
       "\n",
       "    .dataframe tbody tr th {\n",
       "        vertical-align: top;\n",
       "    }\n",
       "\n",
       "    .dataframe thead th {\n",
       "        text-align: right;\n",
       "    }\n",
       "</style>\n",
       "<table border=\"1\" class=\"dataframe\">\n",
       "  <thead>\n",
       "    <tr style=\"text-align: right;\">\n",
       "      <th></th>\n",
       "      <th>mean</th>\n",
       "      <th>type_of_gene</th>\n",
       "      <th>variance</th>\n",
       "      <th>occurrence</th>\n",
       "    </tr>\n",
       "  </thead>\n",
       "  <tbody>\n",
       "    <tr>\n",
       "      <th>ENSG00000277889</th>\n",
       "      <td>0.012846</td>\n",
       "      <td>microRNA</td>\n",
       "      <td>0.008601</td>\n",
       "      <td>203.0</td>\n",
       "    </tr>\n",
       "    <tr>\n",
       "      <th>ENSG00000263834</th>\n",
       "      <td>1.192730</td>\n",
       "      <td>microRNA</td>\n",
       "      <td>4.501360</td>\n",
       "      <td>3712.0</td>\n",
       "    </tr>\n",
       "    <tr>\n",
       "      <th>ENSG00000263631</th>\n",
       "      <td>0.004190</td>\n",
       "      <td>microRNA</td>\n",
       "      <td>0.002808</td>\n",
       "      <td>47.0</td>\n",
       "    </tr>\n",
       "    <tr>\n",
       "      <th>ENSG00000277073</th>\n",
       "      <td>0.013996</td>\n",
       "      <td>microRNA</td>\n",
       "      <td>0.007812</td>\n",
       "      <td>230.0</td>\n",
       "    </tr>\n",
       "    <tr>\n",
       "      <th>ENSG00000266392</th>\n",
       "      <td>1.741025</td>\n",
       "      <td>microRNA</td>\n",
       "      <td>7.022659</td>\n",
       "      <td>4226.0</td>\n",
       "    </tr>\n",
       "  </tbody>\n",
       "</table>\n",
       "</div>"
      ],
      "text/plain": [
       "                     mean type_of_gene  variance  occurrence\n",
       "ENSG00000277889  0.012846     microRNA  0.008601       203.0\n",
       "ENSG00000263834  1.192730     microRNA  4.501360      3712.0\n",
       "ENSG00000263631  0.004190     microRNA  0.002808        47.0\n",
       "ENSG00000277073  0.013996     microRNA  0.007812       230.0\n",
       "ENSG00000266392  1.741025     microRNA  7.022659      4226.0"
      ]
     },
     "execution_count": 10,
     "metadata": {},
     "output_type": "execute_result"
    }
   ],
   "source": [
    "df_mv = pd.read_csv(\"meanVariances.csv\", index_col = [0])\n",
    "#df_mv = df_mv.loc[df_mv['type_of_gene']=='protein-coding']\n",
    "df_mv = df_mv.loc[df_mv['type_of_gene']=='microRNA']\n",
    "df_mv.head()"
   ]
  },
  {
   "cell_type": "code",
   "execution_count": 12,
   "metadata": {},
   "outputs": [
    {
     "data": {
      "text/plain": [
       "1424"
      ]
     },
     "execution_count": 12,
     "metadata": {},
     "output_type": "execute_result"
    }
   ],
   "source": [
    "means = df_mv['mean'].values\n",
    "variances = df_mv['variance'].values\n",
    "occurrences = np.array(df_mv['occurrence'].values, dtype=long)\n",
    "len(means)"
   ]
  },
  {
   "cell_type": "markdown",
   "metadata": {},
   "source": [
    "### plot"
   ]
  },
  {
   "cell_type": "markdown",
   "metadata": {},
   "source": [
    "#### **var** versus **mean**"
   ]
  },
  {
   "cell_type": "code",
   "execution_count": 13,
   "metadata": {},
   "outputs": [
    {
     "data": {
      "image/png": "[encoded data removed]",
      "text/plain": [
       "<Figure size 1080x288 with 2 Axes>"
      ]
     },
     "metadata": {
      "needs_background": "light"
     },
     "output_type": "display_data"
    }
   ],
   "source": [
    "fig=plt.figure(figsize=(15,4))\n",
    "plt.subplot(121)\n",
    "plt.scatter(means, variances, c='b')\n",
    "plt.xlabel(\"$<FPKM>$\", fontsize=16)\n",
    "plt.ylabel(\"$\\sigma^2_{FPKM}$\", fontsize=16)\n",
    "plt.subplot(122)\n",
    "plt.scatter(means, variances, c='b')\n",
    "plt.xlabel(\"$<FPKM>$\", fontsize=16)\n",
    "plt.ylabel(\"$\\sigma^2_{FPKM}$\", fontsize=16)\n",
    "plt.yscale('log')\n",
    "#plt.xlim(1e-2,200)\n",
    "plt.ylim((1e-2,1e9))\n",
    "plt.show()"
   ]
  },
  {
   "cell_type": "code",
   "execution_count": 14,
   "metadata": {},
   "outputs": [],
   "source": [
    "fig.savefig(\"varmean.png\")"
   ]
  },
  {
   "cell_type": "code",
   "execution_count": 15,
   "metadata": {},
   "outputs": [
    {
     "data": {
      "image/png": "[encoded data removed]",
      "text/plain": [
       "<Figure size 1080x288 with 1 Axes>"
      ]
     },
     "metadata": {
      "needs_background": "light"
     },
     "output_type": "display_data"
    }
   ],
   "source": [
    "fig=plt.figure(figsize=(15,4))\n",
    "plt.scatter(means, variances, c='b')\n",
    "plt.xlabel(\"$<FPKM>$\", fontsize=16)\n",
    "plt.ylabel(\"$\\sigma^2_{FPKM}$\", fontsize=16)\n",
    "plt.xscale('log')\n",
    "plt.yscale('log')\n",
    "plt.xlim(1e-2,200)\n",
    "plt.ylim((1e-2,1e9))\n",
    "plt.show()\n",
    "fig.savefig(\"varmean_loglog.png\")"
   ]
  },
  {
   "cell_type": "markdown",
   "metadata": {},
   "source": [
    "### mean versus occurrence"
   ]
  },
  {
   "cell_type": "code",
   "execution_count": 22,
   "metadata": {},
   "outputs": [
    {
     "data": {
      "image/png": "[encoded data removed]",
      "text/plain": [
       "<Figure size 576x360 with 1 Axes>"
      ]
     },
     "metadata": {
      "needs_background": "light"
     },
     "output_type": "display_data"
    }
   ],
   "source": [
    "fig=plt.figure(figsize=(8,5))\n",
    "plt.scatter(occurrences, means, c='b', alpha=0.6)\n",
    "plt.ylabel(\"$<FPKM>$\", fontsize=16)\n",
    "plt.xlabel(\"$\\Sigma_j\\Theta(FPKM-0.1)\\Theta(1e5-FPKM)$\", fontsize=16)\n",
    "plt.xscale('log')\n",
    "plt.yscale('log')\n",
    "plt.ylim(1e-2,1e2)\n",
    "plt.xlim(1e1,6e3)\n",
    "plt.show()"
   ]
  },
  {
   "cell_type": "code",
   "execution_count": 23,
   "metadata": {},
   "outputs": [],
   "source": [
    "fig.savefig(\"meanDiff_loglog.png\")"
   ]
  },
  {
   "cell_type": "code",
   "execution_count": null,
   "metadata": {},
   "outputs": [],
   "source": []
  },
  {
   "cell_type": "code",
   "execution_count": null,
   "metadata": {},
   "outputs": [],
   "source": []
  },
  {
   "cell_type": "markdown",
   "metadata": {},
   "source": [
    "### Distributions"
   ]
  },
  {
   "cell_type": "code",
   "execution_count": 24,
   "metadata": {},
   "outputs": [
    {
     "data": {
      "text/plain": [
       "1424"
      ]
     },
     "execution_count": 24,
     "metadata": {},
     "output_type": "execute_result"
    }
   ],
   "source": [
    "len(means)"
   ]
  },
  {
   "cell_type": "code",
   "execution_count": 25,
   "metadata": {},
   "outputs": [
    {
     "data": {
      "text/plain": [
       "1424"
      ]
     },
     "execution_count": 25,
     "metadata": {},
     "output_type": "execute_result"
    }
   ],
   "source": [
    "len(variances)"
   ]
  },
  {
   "cell_type": "code",
   "execution_count": 26,
   "metadata": {},
   "outputs": [
    {
     "data": {
      "image/png": "[encoded data removed]",
      "text/plain": [
       "<Figure size 432x288 with 1 Axes>"
      ]
     },
     "metadata": {
      "needs_background": "light"
     },
     "output_type": "display_data"
    }
   ],
   "source": [
    "bins = 80\n",
    "_range = (0-1e4*0.5/bins, 1e4+1e4*0.5/bins)\n",
    "fig = plt.figure()\n",
    "n, c, _ = plt.hist(means, density = False, range=_range, bins=bins, histtype='step')\n",
    "plt.title(\"means\")\n",
    "plt.xlabel(\"$<FPKM>$\")\n",
    "plt.ylabel(\"#\")\n",
    "plt.yscale('log')\n",
    "plt.show()\n",
    "fig.savefig(\"mean_distr.pdf\")"
   ]
  },
  {
   "cell_type": "code",
   "execution_count": 27,
   "metadata": {},
   "outputs": [
    {
     "data": {
      "image/png": "[encoded data removed]",
      "text/plain": [
       "<Figure size 432x288 with 1 Axes>"
      ]
     },
     "metadata": {
      "needs_background": "light"
     },
     "output_type": "display_data"
    }
   ],
   "source": [
    "bins = 80\n",
    "_range = (0-1e4*0.5/bins, 1e4+1e4*0.5/bins)\n",
    "fig = plt.figure()\n",
    "n, c, _ = plt.hist(variances, density = False, histtype='step', bins=bins, range=_range)\n",
    "plt.title(\"vars\")\n",
    "plt.xlabel(\"$<\\sigma_{FPKM}^2>$\")\n",
    "plt.ylabel(\"#\")\n",
    "plt.yscale('log')\n",
    "plt.show()\n",
    "fig.savefig(\"var_distr.pdf\")"
   ]
  },
  {
   "cell_type": "markdown",
   "metadata": {},
   "source": []
  },
  {
   "cell_type": "markdown",
   "metadata": {},
   "source": [
    "# protein coding genes"
   ]
  },
  {
   "cell_type": "code",
   "execution_count": null,
   "metadata": {},
   "outputs": [],
   "source": [
    "protein_coding = pd.read_csv(\"genes.txt\", header=[0], index_col=[0])\n",
    "protein_coding.loc[protein_coding['type_of_gene']=='protein-coding'].index.values"
   ]
  },
  {
   "cell_type": "markdown",
   "metadata": {},
   "source": [
    "# expression plot"
   ]
  },
  {
   "cell_type": "code",
   "execution_count": null,
   "metadata": {},
   "outputs": [],
   "source": [
    "sample = 10\n",
    "fig = plt.figure()\n",
    "x = np.linspace(0, 20000)\n",
    "key = df.keys()[sample]\n",
    "plt.plot(df[key].to_dense(), 'o', label=key[:-2])\n",
    "plt.plot(x, [100 for _ in x], 'r--', lw=4, label='threshold (100)')\n",
    "plt.xlabel(\"gene\", fontsize=16)\n",
    "plt.ylabel(\"FPKM\", fontsize=16)\n",
    "plt.legend()\n",
    "plt.show()"
   ]
  },
  {
   "cell_type": "code",
   "execution_count": null,
   "metadata": {},
   "outputs": [],
   "source": [
    "fig.savefig(\"singleFile.pdf\")"
   ]
  },
  {
   "cell_type": "code",
   "execution_count": null,
   "metadata": {},
   "outputs": [],
   "source": []
  },
  {
   "cell_type": "markdown",
   "metadata": {},
   "source": [
    "# single gene"
   ]
  },
  {
   "cell_type": "code",
   "execution_count": 29,
   "metadata": {
    "scrolled": true
   },
   "outputs": [
    {
     "name": "stdout",
     "output_type": "stream",
     "text": [
      "name: ENSG00000221782\n",
      "FPKM mean:       4.84\n",
      "FPKM var:     318.49\n"
     ]
    },
    {
     "data": {
      "image/png": "[encoded data removed]",
      "text/plain": [
       "<Figure size 1080x360 with 1 Axes>"
      ]
     },
     "metadata": {
      "needs_background": "light"
     },
     "output_type": "display_data"
    },
    {
     "data": {
      "image/png": "[encoded data removed]",
      "text/plain": [
       "<Figure size 1080x360 with 1 Axes>"
      ]
     },
     "metadata": {
      "needs_background": "light"
     },
     "output_type": "display_data"
    },
    {
     "data": {
      "image/png": "[encoded data removed]",
      "text/plain": [
       "<Figure size 1296x576 with 1 Axes>"
      ]
     },
     "metadata": {
      "needs_background": "light"
     },
     "output_type": "display_data"
    }
   ],
   "source": [
    "gene = geneinfo('ENSG00000221782', df, nfiles)\n",
    "genedistr(gene, 50);\n",
    "geneplot(gene);\n",
    "genecoord(gene, means, variances);"
   ]
  },
  {
   "cell_type": "code",
   "execution_count": null,
   "metadata": {},
   "outputs": [],
   "source": []
  },
  {
   "cell_type": "code",
   "execution_count": null,
   "metadata": {},
   "outputs": [],
   "source": []
  },
  {
   "cell_type": "markdown",
   "metadata": {},
   "source": [
    "# subset analysis"
   ]
  },
  {
   "cell_type": "markdown",
   "metadata": {},
   "source": [
    "#### query genes"
   ]
  },
  {
   "cell_type": "code",
   "execution_count": null,
   "metadata": {
    "scrolled": true
   },
   "outputs": [],
   "source": [
    "search_mean_max = 200\n",
    "search_mean_min = 50\n",
    "search_var_max = 1e12\n",
    "search_var_min = 1e6\n",
    "pc = True\n",
    "if (pc):\n",
    "    query_result = df_mv.loc[(df_mv['type_of_gene']=='protein-coding')&((df_mv['mean']>(search_mean_min)) & (df_mv['mean']<(search_mean_max))) & ((df_mv['variance']>(search_var_min)) & (df_mv['variance']<(search_var_max)))].sort_values(by='mean')\n",
    "else:\n",
    "    query_result = df_mv.loc[((df_mv['mean']>(search_mean_min)) & (df_mv['mean']<(search_mean_max))) & ((df_mv['variance']>(search_var_min)) & (df_mv['variance']<(search_var_max)))].sort_values(by='mean')\n",
    "query_result"
   ]
  },
  {
   "cell_type": "code",
   "execution_count": null,
   "metadata": {
    "scrolled": true
   },
   "outputs": [],
   "source": [
    "genesnames = []\n",
    "for g in query_result.index.values[:15]:\n",
    "    gene = geneinfo(g[:15], df, nfiles)\n",
    "    genesnames.append(gene)"
   ]
  },
  {
   "cell_type": "code",
   "execution_count": null,
   "metadata": {},
   "outputs": [],
   "source": []
  },
  {
   "cell_type": "code",
   "execution_count": null,
   "metadata": {},
   "outputs": [],
   "source": []
  },
  {
   "cell_type": "code",
   "execution_count": null,
   "metadata": {},
   "outputs": [],
   "source": []
  },
  {
   "cell_type": "markdown",
   "metadata": {},
   "source": [
    "### plot coordinates"
   ]
  },
  {
   "cell_type": "code",
   "execution_count": null,
   "metadata": {},
   "outputs": [],
   "source": [
    "fig = plt.figure(figsize=(18,8))\n",
    "plt.scatter(means, variances)\n",
    "for g in genesnames:\n",
    "    plt.scatter([g['avg']],[g['var']], marker='x', s=90, label=g['name'])\n",
    "plt.xlabel(\"$<FPKM>$\", fontsize=16)\n",
    "plt.ylabel(\"$\\sigma^2_{FPKM}$\", fontsize=16)\n",
    "plt.yscale('log')\n",
    "#plt.xlim(1e-2,200)\n",
    "#plt.ylim((1e-5,1e8))\n",
    "plt.ylim((1e-5,1e10))\n",
    "plt.legend()\n",
    "plt.show()\n",
    "fig.savefig(\"plot/genes/subset.png\")"
   ]
  },
  {
   "cell_type": "markdown",
   "metadata": {},
   "source": [
    "### plot all"
   ]
  },
  {
   "cell_type": "code",
   "execution_count": null,
   "metadata": {
    "scrolled": true
   },
   "outputs": [],
   "source": [
    "for gene in genesnames:\n",
    "    print(gene['name'])\n",
    "    print(\"mean: %f\"%gene['avg'])\n",
    "    print(\"var: %f\"%gene['var'])\n",
    "    genedistr(gene, 80);\n",
    "    #geneplot(gene);\n",
    "    #genecoord(gene);"
   ]
  },
  {
   "cell_type": "code",
   "execution_count": null,
   "metadata": {},
   "outputs": [],
   "source": []
  },
  {
   "cell_type": "code",
   "execution_count": null,
   "metadata": {},
   "outputs": [],
   "source": [
    "genename='ENSG00000159763'\n",
    "gene = geneinfo(genename, df, nfiles)"
   ]
  },
  {
   "cell_type": "code",
   "execution_count": null,
   "metadata": {},
   "outputs": [],
   "source": [
    "def powgaus(x, a, b, c, d, e):\n",
    "    return np.exp(a*np.power(x,-b)) - 1 + e*(np.exp(np.exp(-(x-c)*(x-c)/d)) - 1)"
   ]
  },
  {
   "cell_type": "code",
   "execution_count": null,
   "metadata": {},
   "outputs": [],
   "source": [
    "fitfunc = powgaus"
   ]
  },
  {
   "cell_type": "code",
   "execution_count": null,
   "metadata": {},
   "outputs": [],
   "source": [
    "xscale = 'linear'\n",
    "yscale='log'\n",
    "bins = 30\n",
    "fig = plt.figure(figsize=(10,4))\n",
    "ax = fig.subplots()\n",
    "counts, bin_edges, _ = ax.hist(gene['data'], histtype='step', bins=bins, range=(0,1e4))\n",
    "bin_centres = (bin_edges[1:]+bin_edges[:-1])/2.\n",
    "ax.errorbar(bin_centres, counts, np.sqrt(counts), None, 'bo', label='data')\n",
    "bounds = ([2, 0.3, 3000, 1000, 0.01],[1000, 0.7, 5000, 500000, 3])\n",
    "popt, pcov = curve_fit(fitfunc, bin_centres, counts, bounds=bounds)\n",
    "print(popt)\n",
    "x = np.linspace(bin_centres[0],1e4)\n",
    "ax.set_title(gene['name'], fontsize=18)\n",
    "ax.set_xlabel(\"$FPKM$\")\n",
    "ax.set_ylabel(\"#\")\n",
    "ax.set_yscale(yscale)\n",
    "ax.set_xscale(xscale)\n",
    "minimum = fminbound(fitfunc, 100, 1500, args=(popt[0],popt[1],popt[2],popt[3],popt[4]))\n",
    "plt.plot(x, fitfunc(x, *popt), 'r', label='fit')\n",
    "plt.plot(x, np.exp(popt[0]*np.power(x,-popt[1])) - 1, label='$e^{a*x^{-b}}$')\n",
    "plt.plot(x, popt[4]*np.exp(np.exp(-(x-popt[2])*(x-popt[2])/popt[3])) - popt[4], label=\"$C(e^{e^{- (x-\\mu)^2\\sigma^{-2}}}-1)$\")\n",
    "plt.text(0.5, 0.45, 'min: %6.1f'%minimum, horizontalalignment='left',verticalalignment='top', fontsize=16, transform=ax.transAxes)\n",
    "plt.text(0.5, 0.4, '(a, b, $\\mu$, $\\sigma$, C):\\n(%d, %4.2f, %d, %d, %3.1f)'%(popt[0],popt[1],popt[2],popt[3],popt[4]), horizontalalignment='left',verticalalignment='top', fontsize=16, transform=ax.transAxes)\n",
    "plt.ylim(1,2e4)\n",
    "plt.legend(fontsize=14)\n",
    "plt.show()"
   ]
  },
  {
   "cell_type": "code",
   "execution_count": null,
   "metadata": {},
   "outputs": [],
   "source": []
  },
  {
   "cell_type": "code",
   "execution_count": null,
   "metadata": {},
   "outputs": [],
   "source": [
    "fig.savefig(\"%s_fit_%s%s.pdf\"%(genename, xscale, yscale))"
   ]
  },
  {
   "cell_type": "code",
   "execution_count": null,
   "metadata": {},
   "outputs": [],
   "source": []
  },
  {
   "cell_type": "code",
   "execution_count": null,
   "metadata": {},
   "outputs": [],
   "source": []
  },
  {
   "cell_type": "code",
   "execution_count": null,
   "metadata": {},
   "outputs": [],
   "source": []
  },
  {
   "cell_type": "code",
   "execution_count": null,
   "metadata": {},
   "outputs": [],
   "source": []
  },
  {
   "cell_type": "markdown",
   "metadata": {},
   "source": [
    "# null"
   ]
  },
  {
   "cell_type": "code",
   "execution_count": null,
   "metadata": {},
   "outputs": [],
   "source": [
    "df_null = pd.read_csv((\"%s/nullTable.csv\"%working_dir), header=None, index_col=None)"
   ]
  },
  {
   "cell_type": "code",
   "execution_count": null,
   "metadata": {},
   "outputs": [],
   "source": [
    "df_null.head()"
   ]
  },
  {
   "cell_type": "code",
   "execution_count": null,
   "metadata": {},
   "outputs": [],
   "source": [
    "means_null = [np.average(df_null.loc[i,df_null.keys()[1:]].values) for i,g in enumerate(df_null.loc[:,df_null.keys()[0]].values)]\n",
    "variances_null = [np.var(df_null.loc[i,df_null.keys()[1:]].values) for i,g in enumerate(df_null.loc[:,df_null.keys()[0]].values)]"
   ]
  },
  {
   "cell_type": "code",
   "execution_count": null,
   "metadata": {},
   "outputs": [],
   "source": [
    "fig=plt.figure()\n",
    "plt.scatter(means, variances, label='data')\n",
    "plt.scatter(means_null, variances_null, label='null')\n",
    "plt.xlabel(\"$<FPKM>$\", fontsize=16)\n",
    "plt.ylabel(\"$\\sigma^2_{FPKM}$\", fontsize=16)\n",
    "plt.legend(fontsize=18)\n",
    "plt.xscale('log')\n",
    "plt.yscale('log')\n",
    "plt.ylim(1, 1e8)\n",
    "plt.xlim(1e-1,1e4)\n",
    "plt.show()"
   ]
  },
  {
   "cell_type": "code",
   "execution_count": null,
   "metadata": {},
   "outputs": [],
   "source": [
    "fig.savefig(\"varmean_null.pdf\")"
   ]
  },
  {
   "cell_type": "markdown",
   "metadata": {},
   "source": [
    "## data size Heaps check"
   ]
  },
  {
   "cell_type": "code",
   "execution_count": null,
   "metadata": {},
   "outputs": [],
   "source": [
    "col = df.loc[:,df.keys()[1]].values\n",
    "np.sum(col)"
   ]
  },
  {
   "cell_type": "code",
   "execution_count": null,
   "metadata": {},
   "outputs": [],
   "source": [
    "len(col[col.nonzero()])"
   ]
  },
  {
   "cell_type": "code",
   "execution_count": null,
   "metadata": {},
   "outputs": [],
   "source": [
    "x = []\n",
    "y = []\n",
    "for i in range(1, 1000):\n",
    "    col = df.loc[:,df.keys()[i]].values\n",
    "    x.append(np.sum(col))\n",
    "    y.append(len(col[col.nonzero()]))\n",
    "plt.scatter(x,y)"
   ]
  },
  {
   "cell_type": "code",
   "execution_count": null,
   "metadata": {},
   "outputs": [],
   "source": []
  },
  {
   "cell_type": "code",
   "execution_count": null,
   "metadata": {},
   "outputs": [],
   "source": []
  }
 ],
 "metadata": {
  "kernelspec": {
   "display_name": "Python 2",
   "language": "python",
   "name": "python2"
  },
  "language_info": {
   "codemirror_mode": {
    "name": "ipython",
    "version": 2
   },
   "file_extension": ".py",
   "mimetype": "text/x-python",
   "name": "python",
   "nbconvert_exporter": "python",
   "pygments_lexer": "ipython2",
   "version": "2.7.15"
  }
 },
 "nbformat": 4,
 "nbformat_minor": 2
}
