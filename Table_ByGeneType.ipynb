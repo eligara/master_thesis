{
 "cells": [
  {
   "cell_type": "code",
   "execution_count": null,
   "metadata": {},
   "outputs": [],
   "source": [
    "import numpy as np\n",
    "import pandas as pd\n",
    "from matplotlib import pyplot as plt\n",
    "from scipy import stats\n",
    "from scipy.optimize import curve_fit\n",
    "import os"
   ]
  },
  {
   "cell_type": "code",
   "execution_count": null,
   "metadata": {},
   "outputs": [],
   "source": [
    "df_mv = pd.read_csv(\"meanVariances.csv\", index_col = [0])\n",
    "df_genes=pd.read_csv(\"genes.txt\",index_col=[0])\n",
    "df_mv.index=df_genes.index\n",
    "df_mv['type_of_gene']=df_genes['type_of_gene']\n",
    "#df_mv = df_mv.loc[df_mv['type_of_gene']=='protein-coding']\n",
    "df_mv.head()"
   ]
  },
  {
   "cell_type": "code",
   "execution_count": null,
   "metadata": {},
   "outputs": [],
   "source": [
    "means = df_mv['mean'].values\n",
    "variances = df_mv['variance'].values\n",
    "#occurrences = np.array(df_mv['occurrence'].values, dtype=float)\n",
    "len(means)"
   ]
  },
  {
   "cell_type": "code",
   "execution_count": null,
   "metadata": {},
   "outputs": [],
   "source": [
    "## Plot by class\n",
    "\n",
    "types_of_gene = np.unique(df_mv['type_of_gene'].values)\n",
    "types_of_gene\n",
    "\n",
    "xscale='log'\n",
    "yscale='log'\n",
    "fig = plt.figure(figsize=(10,10))\n",
    "#['ncRNA', 'rRNA', 'scRNA', 'snRNA', 'snoRNA']\n",
    "for type_of_gene in types_of_gene[:-1]:\n",
    "    subdf = df_mv[df_mv['type_of_gene']==type_of_gene]\n",
    "    plt.scatter(subdf['mean'], subdf['variance'], label = type_of_gene, marker='o', alpha=0.7, linewidths=0.1)\n",
    "x=np.logspace(-7,5)\n",
    "plt.plot(x,x)\n",
    "plt.plot(x,x*x)\n",
    "plt.xlabel(\"$<FPKM>$\", fontsize=16)\n",
    "plt.ylabel(\"$\\sigma^2_{FPKM}$\", fontsize=16)\n",
    "plt.yscale(yscale)\n",
    "plt.xscale(xscale)\n",
    "plt.ylim(5e-7, 1e8)\n",
    "plt.xlim(5e-6, 1.5e4)\n",
    "plt.legend()\n",
    "plt.show()\n",
    "fig.savefig('allgenes_classes_known_'+yscale+xscale+'.png')"
   ]
  },
  {
   "cell_type": "code",
   "execution_count": null,
   "metadata": {},
   "outputs": [],
   "source": [
    "xscale='log'\n",
    "yscale='log'\n",
    "fig = plt.figure(figsize=(40,30))\n",
    "pindex = 1\n",
    "for type_of_gene in types_of_gene:\n",
    "    ax = plt.subplot(3,4,pindex)\n",
    "    subdf = df_mv[df_mv['type_of_gene']==type_of_gene]\n",
    "    ax.scatter(subdf['mean'], subdf['variance'], label = type_of_gene, marker='o', alpha=0.7, linewidths=0.1)\n",
    "    ax.set_title(type_of_gene, fontsize=20)\n",
    "    plt.xlabel(\"$<FPKM>$\", fontsize=14)\n",
    "    plt.ylabel(\"$\\sigma^2_{FPKM}$\", fontsize=14)\n",
    "    x=np.logspace(-7,5)\n",
    "    ax.plot(x,x)\n",
    "    ax.plot(x,x*x)\n",
    "    ax.set_yscale(yscale)\n",
    "    ax.set_xscale(xscale)\n",
    "    ax.set_ylim(5e-7, 1e8)\n",
    "    ax.set_xlim(5e-6, 1.5e4)\n",
    "    pindex+=1\n",
    "plt.show()\n",
    "fig.savefig('allgenes_perclasses_'+yscale+xscale+'.png')"
   ]
  },
  {
   "cell_type": "markdown",
   "metadata": {},
   "source": [
    "## specific class"
   ]
  },
  {
   "cell_type": "code",
   "execution_count": null,
   "metadata": {},
   "outputs": [],
   "source": [
    "type_of_gene = 'microRNA'\n",
    "xscale='log'\n",
    "yscale='log'\n",
    "n_bins=30\n",
    "subdf = df_mv[df_mv['type_of_gene']==type_of_gene]\n",
    "subdf = subdf.fillna(value=0.)"
   ]
  },
  {
   "cell_type": "code",
   "execution_count": null,
   "metadata": {},
   "outputs": [],
   "source": [
    "fig = plt.figure(figsize=(10,10))\n",
    "x = subdf['mean'].values\n",
    "y = subdf['variance'].values\n",
    "plt.scatter(x, y, label = type_of_gene, marker='o', alpha=0.5, linewidths=0.1)\n",
    "\n",
    "log_bins_for_x = np.logspace(np.log10(x[x.nonzero()].min()), np.log10(np.max(x)), num=n_bins)\n",
    "bin_means, bin_edges, binnumber = stats.binned_statistic(x, y, statistic='mean', bins=log_bins_for_x)\n",
    "bin_centres = (bin_edges[:-1]+bin_edges[1:])/2\n",
    "plt.hlines(bin_means, bin_edges[:-1], bin_edges[1:], colors='r', lw=5, label='binned average')\n",
    "\n",
    "plt.plot(log_bins_for_x,np.power(log_bins_for_x,2), 'g-', lw=5, label='$<FPKM>^2$')\n",
    "plt.plot(log_bins_for_x,log_bins_for_x, 'r-', lw=5, label='$<FPKM>$')\n",
    "\n",
    "\n",
    "\n",
    "popt, pcov = curve_fit(lambda x,a,b : a+np.power(x,b), bin_centres, bin_means)\n",
    "plt.plot(log_bins_for_x, popt[0]*np.power(log_bins_for_x, popt[1]), color='y', lw=3, label='fit')\n",
    "print(popt)\n",
    "\n",
    "\n",
    "plt.xlabel(\"$<FPKM>$\", fontsize=16)\n",
    "plt.ylabel(\"$\\sigma^2_{FPKM}$\", fontsize=16)\n",
    "plt.yscale(yscale)\n",
    "plt.xscale(xscale)\n",
    "plt.ylim(1e-5, 1e8)\n",
    "plt.xlim(5e-5, 1.5e5)\n",
    "plt.title(type_of_gene, fontsize=20)\n",
    "plt.legend(fontsize=16)\n",
    "plt.show()\n",
    "fig.savefig('%s_'%type_of_gene+yscale+xscale+'.png')"
   ]
  },
  {
   "cell_type": "code",
   "execution_count": null,
   "metadata": {},
   "outputs": [],
   "source": [
    "bins = 50\n",
    "rang = (0-0.5/bins, 1+0.5/bins)\n",
    "fig = plt.figure(figsize=(10,5))\n",
    "subdf = df_mv[df_mv['type_of_gene']==type_of_gene]\n",
    "plt.hist(subdf['occurrence']/5000, label=type_of_gene, histtype='step', density=True, bins=bins, range=rang, lw=3)\n",
    "plt.legend(fontsize=16, loc='upper center')\n",
    "plt.xlabel(\"$o_i$\", fontsize=18)\n",
    "plt.ylabel(\"#\")\n",
    "plt.yscale('log')\n",
    "plt.xscale('log')\n",
    "plt.show()\n",
    "fig.savefig(\"U_%s.pdf\"%type_of_gene)"
   ]
  },
  {
   "cell_type": "code",
   "execution_count": null,
   "metadata": {},
   "outputs": [],
   "source": [
    "with open(\"ontology.txt\", 'w') as g_file:\n",
    "    g_file.writelines([\"%s\\n\" % item  for item in df_mv[df_mv['occurrence']>0.9*5000].index.values])"
   ]
  },
  {
   "cell_type": "code",
   "execution_count": null,
   "metadata": {},
   "outputs": [],
   "source": []
  },
  {
   "cell_type": "code",
   "execution_count": null,
   "metadata": {},
   "outputs": [],
   "source": []
  },
  {
   "cell_type": "markdown",
   "metadata": {},
   "source": [
    "## U"
   ]
  },
  {
   "cell_type": "code",
   "execution_count": null,
   "metadata": {},
   "outputs": [],
   "source": [
    "bins = 11\n",
    "rang = (0-0.5/bins, 1+0.5/bins)\n",
    "fig = plt.figure(figsize=(10,5))\n",
    "for t in ['protein-coding', 'ncRNA']:\n",
    "    subdf = df_mv[df_mv['type_of_gene']==t]\n",
    "    plt.hist(subdf['occurrence']/5000, label=t, histtype='step', density=True, bins=bins, range=rang, lw=3)\n",
    "plt.legend(fontsize=16, loc='upper center')\n",
    "plt.xlabel(\"$o_i$\", fontsize=18)\n",
    "plt.ylabel(\"#\")\n",
    "plt.show()\n",
    "fig.savefig(\"multiplecnc.pdf\")"
   ]
  },
  {
   "cell_type": "code",
   "execution_count": null,
   "metadata": {},
   "outputs": [],
   "source": []
  },
  {
   "cell_type": "code",
   "execution_count": null,
   "metadata": {},
   "outputs": [],
   "source": []
  }
 ],
 "metadata": {
  "kernelspec": {
   "display_name": "Python 3",
   "language": "python",
   "name": "python3"
  },
  "language_info": {
   "codemirror_mode": {
    "name": "ipython",
    "version": 3
   },
   "file_extension": ".py",
   "mimetype": "text/x-python",
   "name": "python",
   "nbconvert_exporter": "python",
   "pygments_lexer": "ipython3",
   "version": "3.6.8"
  }
 },
 "nbformat": 4,
 "nbformat_minor": 2
}
