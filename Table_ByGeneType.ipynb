{
 "cells": [
  {
   "cell_type": "code",
   "execution_count": null,
   "metadata": {},
   "outputs": [],
   "source": [
    "import numpy as np\n",
    "import pandas as pd\n",
    "from matplotlib import pyplot as plt"
   ]
  },
  {
   "cell_type": "code",
   "execution_count": null,
   "metadata": {},
   "outputs": [],
   "source": [
    "df_mv = pd.read_csv(\"meanVariances.csv\", index_col = [0])\n",
    "#df_mv = df_mv.loc[df_mv['type_of_gene']=='protein-coding']\n",
    "df_mv.head()"
   ]
  },
  {
   "cell_type": "code",
   "execution_count": null,
   "metadata": {},
   "outputs": [],
   "source": [
    "means = df_mv['mean'].values\n",
    "variances = df_mv['variance'].values\n",
    "#occurrences = np.array(df_mv['occurrence'].values, dtype=long)\n",
    "len(means)"
   ]
  },
  {
   "cell_type": "code",
   "execution_count": null,
   "metadata": {},
   "outputs": [],
   "source": [
    "## Plot by class\n",
    "\n",
    "types_of_gene = np.unique(df_mv['type_of_gene'].values)\n",
    "types_of_gene\n",
    "\n",
    "xscale='log'\n",
    "yscale='log'\n",
    "fig = plt.figure(figsize=(10,10))\n",
    "#['ncRNA', 'rRNA', 'scRNA', 'snRNA', 'snoRNA']\n",
    "for type_of_gene in types_of_gene[:-1]:\n",
    "    subdf = df_mv[df_mv['type_of_gene']==type_of_gene]\n",
    "    plt.scatter(subdf['mean'], subdf['variance'], label = type_of_gene, marker='o', alpha=0.7, linewidths=0.1)\n",
    "plt.xlabel(\"$<FPKM>$\", fontsize=16)\n",
    "plt.ylabel(\"$\\sigma^2_{FPKM}$\", fontsize=16)\n",
    "plt.yscale(yscale)\n",
    "plt.xscale(xscale)\n",
    "plt.ylim(1e-3, 1e8)\n",
    "plt.xlim(5e-2, 1.5e4)\n",
    "plt.legend()\n",
    "plt.show()\n",
    "fig.savefig('allgenes_classes_known_'+yscale+xscale+'.png')"
   ]
  },
  {
   "cell_type": "code",
   "execution_count": null,
   "metadata": {},
   "outputs": [],
   "source": [
    "xscale='log'\n",
    "yscale='log'\n",
    "fig = plt.figure(figsize=(40,30))\n",
    "pindex = 1\n",
    "for type_of_gene in types_of_gene:\n",
    "    ax = plt.subplot(3,4,pindex)\n",
    "    subdf = df_mv[df_mv['type_of_gene']==type_of_gene]\n",
    "    ax.scatter(subdf['mean'], subdf['variance'], label = type_of_gene, marker='o', alpha=0.7, linewidths=0.1, c='C'+str(pindex))\n",
    "    ax.set_title(type_of_gene, fontsize=20)\n",
    "    plt.xlabel(\"$<FPKM>$\", fontsize=14)\n",
    "    plt.ylabel(\"$\\sigma^2_{FPKM}$\", fontsize=14)\n",
    "    plt.yscale(yscale)\n",
    "    plt.xscale(xscale)\n",
    "    plt.ylim(1e-7, 1e9)\n",
    "    plt.xlim(5e-2, 2e4)\n",
    "    pindex+=1\n",
    "plt.show()\n",
    "fig.savefig('allgenes_perclasses_'+yscale+xscale+'.png')"
   ]
  },
  {
   "cell_type": "code",
   "execution_count": null,
   "metadata": {},
   "outputs": [],
   "source": []
  },
  {
   "cell_type": "code",
   "execution_count": null,
   "metadata": {},
   "outputs": [],
   "source": []
  }
 ],
 "metadata": {
  "kernelspec": {
   "display_name": "Python 2",
   "language": "python",
   "name": "python2"
  },
  "language_info": {
   "codemirror_mode": {
    "name": "ipython",
    "version": 2
   },
   "file_extension": ".py",
   "mimetype": "text/x-python",
   "name": "python",
   "nbconvert_exporter": "python",
   "pygments_lexer": "ipython2",
   "version": "2.7.15"
  }
 },
 "nbformat": 4,
 "nbformat_minor": 2
}
