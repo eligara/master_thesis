{
 "cells": [
  {
   "cell_type": "code",
   "execution_count": null,
   "metadata": {},
   "outputs": [],
   "source": [
    "import pandas as pd\n",
    "import numpy as np\n",
    "import os\n",
    "from matplotlib import pyplot as plt"
   ]
  },
  {
   "cell_type": "code",
   "execution_count": null,
   "metadata": {},
   "outputs": [],
   "source": [
    "working_dir = \"/Users/filippo/Developer/tesi\"\n",
    "os.chdir(working_dir)\n",
    "dirs = os.listdir(\"data\")"
   ]
  },
  {
   "cell_type": "code",
   "execution_count": null,
   "metadata": {},
   "outputs": [],
   "source": [
    "common_tissues = ['Bronchus and lung', 'Brain', 'Breast', 'Ovary', 'Kidney', 'Colon', 'Corpus uteri','Adrenal gland','Skin']"
   ]
  },
  {
   "cell_type": "code",
   "execution_count": null,
   "metadata": {},
   "outputs": [],
   "source": [
    "samples = pd.read_csv(\"files.txt\", index_col=[0])\n",
    "samples.head()"
   ]
  },
  {
   "cell_type": "code",
   "execution_count": null,
   "metadata": {},
   "outputs": [],
   "source": [
    "primaries = samples['primary_site'].unique()\n",
    "diseases = samples['disease_type'].unique()"
   ]
  },
  {
   "cell_type": "code",
   "execution_count": null,
   "metadata": {},
   "outputs": [],
   "source": [
    "df = pd.read_csv((\"%s/mainTable.csv\"%working_dir))\n",
    "genes = np.array([gene[:15] for gene in df.loc[:,'gene'].values])\n",
    "df['gene'] = genes\n",
    "df.columns=[c[:36] for c in df.columns]\n",
    "#df = df.to_sparse(fill_value=0.)\n",
    "df.head()"
   ]
  },
  {
   "cell_type": "code",
   "execution_count": null,
   "metadata": {},
   "outputs": [],
   "source": []
  },
  {
   "cell_type": "code",
   "execution_count": null,
   "metadata": {},
   "outputs": [],
   "source": []
  },
  {
   "cell_type": "code",
   "execution_count": null,
   "metadata": {},
   "outputs": [],
   "source": []
  },
  {
   "cell_type": "markdown",
   "metadata": {},
   "source": [
    "## Tissue U"
   ]
  },
  {
   "cell_type": "code",
   "execution_count": null,
   "metadata": {},
   "outputs": [],
   "source": [
    "tissue = 'Colon'"
   ]
  },
  {
   "cell_type": "code",
   "execution_count": null,
   "metadata": {},
   "outputs": [],
   "source": [
    "sample_list = np.concatenate((['gene'],samples[samples['primary_site']==tissue].index.values))\n",
    "subdf = df.loc[:,sample_list]\n",
    "subdf.set_index('gene', inplace=True)"
   ]
  },
  {
   "cell_type": "code",
   "execution_count": null,
   "metadata": {},
   "outputs": [],
   "source": [
    "O = []\n",
    "for g in subdf.index.values:\n",
    "    o = len([fpkm for fpkm in subdf.loc[g].values if fpkm > 1e-1])\n",
    "    if o>1:\n",
    "        O.append(o)"
   ]
  },
  {
   "cell_type": "code",
   "execution_count": null,
   "metadata": {},
   "outputs": [],
   "source": [
    "bins = 20\n",
    "rang = (0-0.5/20,1+0.5/20)\n",
    "fig = plt.figure()\n",
    "plt.hist(np.array(O,dtype=float)/len(sample_list), histtype='step', lw=4, density=True, bins=bins, range=rang)\n",
    "plt.title(tissue, fontsize=18)\n",
    "plt.xlabel('$O_i$', fontsize=16)\n",
    "plt.ylabel('#')\n",
    "plt.show()\n",
    "fig.savefig(\"U_%s.png\"%tissue)"
   ]
  },
  {
   "cell_type": "code",
   "execution_count": null,
   "metadata": {},
   "outputs": [],
   "source": []
  },
  {
   "cell_type": "code",
   "execution_count": null,
   "metadata": {},
   "outputs": [],
   "source": []
  },
  {
   "cell_type": "markdown",
   "metadata": {},
   "source": [
    "## average tissues"
   ]
  },
  {
   "cell_type": "code",
   "execution_count": null,
   "metadata": {},
   "outputs": [],
   "source": [
    "#df_tissue = pd.DataFrame(index=df.gene, columns=np.unique(samples['primary_site'].values), dtype=float)\n",
    "#df_tissue.fillna(value=0.,inplace=True)\n",
    "df_tissue = pd.read_csv(\"results/proteincoding/mainTable_tissues.csv\")\n",
    "df_tissue.head()"
   ]
  },
  {
   "cell_type": "code",
   "execution_count": null,
   "metadata": {},
   "outputs": [],
   "source": [
    "#for i,g in enumerate(df_tissue.index.values):\n",
    "#    gdf = df[df['gene']==g]\n",
    "#    print(g,i)\n",
    "#    for tissue in df_tissue.columns.values:\n",
    "#        sample_list = np.concatenate((['gene'],samples[samples['primary_site']==tissue].index.values))\n",
    "#        subdf = gdf.loc[:,sample_list]\n",
    "#        df_tissue.at[g,tissue]=np.average(np.array(subdf.values[0][1:], dtype=float))"
   ]
  },
  {
   "cell_type": "code",
   "execution_count": null,
   "metadata": {},
   "outputs": [],
   "source": [
    "#df_tissue.to_csv(\"mainTable_tissues.csv\")"
   ]
  },
  {
   "cell_type": "code",
   "execution_count": null,
   "metadata": {},
   "outputs": [],
   "source": [
    "df_tissue.fillna(value=0.,inplace=True)"
   ]
  },
  {
   "cell_type": "code",
   "execution_count": null,
   "metadata": {},
   "outputs": [],
   "source": []
  },
  {
   "cell_type": "code",
   "execution_count": null,
   "metadata": {},
   "outputs": [],
   "source": []
  },
  {
   "cell_type": "code",
   "execution_count": null,
   "metadata": {},
   "outputs": [],
   "source": [
    "gene='ENSG00000108849'"
   ]
  },
  {
   "cell_type": "code",
   "execution_count": null,
   "metadata": {},
   "outputs": [],
   "source": [
    "fig=plt.figure()\n",
    "ax=fig.subplots()\n",
    "ax.set_title('FPKM across all tissues: %s'%gene, fontsize=18)\n",
    "plt.hist(np.array(df[df['gene']==gene].values[0][1:],dtype=float), histtype='step', lw=2,bins=10, label='gene')\n",
    "ax.set_xlabel('FPKM',fontsize=16)\n",
    "ax.set_ylabel('#')\n",
    "ax.set_xscale('log')\n",
    "ax.set_yscale('log')\n",
    "ax.set_xlim(5e-2,1e5)\n",
    "plt.show()\n",
    "fig.savefig(\"plot/proteincoding/tissue/fpkm_%s_alltissues.png\"%gene)"
   ]
  },
  {
   "cell_type": "code",
   "execution_count": null,
   "metadata": {},
   "outputs": [],
   "source": [
    "fig=plt.figure(figsize=(15,10))\n",
    "ax=fig.subplots()\n",
    "ax.set_title('FPKM per tissue: %s'%gene, fontsize=18)\n",
    "for tissue in common_tissues:\n",
    "    #print(tissue)\n",
    "    try:\n",
    "        sample_list = np.concatenate((['gene'],samples[samples['primary_site']==tissue].index.values))\n",
    "        subdf = df[df['gene']==gene].loc[:,sample_list]\n",
    "        ax.hist(np.array(subdf.values[0][1:],dtype=float),density=False,label=tissue,histtype='step',lw=1.5)\n",
    "    except:\n",
    "        pass\n",
    "#ax.set_ylim(ymax=0.2)\n",
    "ax.set_xlim(xmax=100)\n",
    "ax.set_xlabel('FPKM',fontsize=16)\n",
    "ax.set_ylabel('#')\n",
    "ax.set_xscale('log')\n",
    "ax.set_yscale('log')\n",
    "ax.set_xlim(5e-2,1e5)\n",
    "plt.legend()\n",
    "plt.show()\n",
    "fig.savefig(\"plot/proteincoding/tissue/fpkm_%s_per_tissue.png\"%gene)"
   ]
  },
  {
   "cell_type": "code",
   "execution_count": null,
   "metadata": {},
   "outputs": [],
   "source": [
    "fig=plt.figure()\n",
    "ax=fig.subplots()\n",
    "ax.set_title('FPKM across per tissue: %s'%gene, fontsize=18)\n",
    "plt.hist(np.array(df_tissue[df_tissue['gene']==gene].values[0][1:],dtype=float), histtype='step', lw=2,bins=10, label='gene')\n",
    "ax.set_xlabel('FPKM',fontsize=16)\n",
    "ax.set_ylabel('#')\n",
    "plt.show()\n",
    "ax.set_xscale('log')\n",
    "ax.set_yscale('log')\n",
    "fig.savefig(\"plot/proteincoding/tissue/fpkm_%s_across_tissue.png\"%gene)"
   ]
  },
  {
   "cell_type": "code",
   "execution_count": null,
   "metadata": {},
   "outputs": [],
   "source": []
  },
  {
   "cell_type": "markdown",
   "metadata": {},
   "source": [
    "## integral"
   ]
  },
  {
   "cell_type": "code",
   "execution_count": null,
   "metadata": {},
   "outputs": [],
   "source": [
    "fig=plt.figure(figsize=(15,10))\n",
    "ax=fig.subplots()\n",
    "ax.set_title('FPKM sorted integral', fontsize=18)\n",
    "for tissue in ['Blood','Heart, mediastinum, and pleura','Brain','Skin','Testis','Nervous System','Thyroid gland']:\n",
    "#for tissue in np.concatenate((common_tissues,['Blood','Heart, mediastinum, and pleura','Brain','Skin','Testis','Nervous System','Thyroid gland'])):\n",
    "    subdf = df_tissue.sort_values(by=tissue, axis=0, ascending=False).loc[:,tissue]\n",
    "    norm = np.sum(subdf.values[:])\n",
    "    if norm!=0:\n",
    "        ax.plot(np.cumsum(subdf.values[:])/norm,label=tissue, lw=3)\n",
    "ax.set_xscale('log')\n",
    "ax.set_xlabel('Number of genes', fontsize=18)\n",
    "ax.set_ylabel('Fraction of total tissue expression', fontsize=18)\n",
    "ax.set_xlim((1,2e4))\n",
    "plt.legend()\n",
    "plt.show()\n",
    "fig.savefig(\"fraction_of_trascriptome.png\")"
   ]
  },
  {
   "cell_type": "code",
   "execution_count": null,
   "metadata": {},
   "outputs": [],
   "source": []
  },
  {
   "cell_type": "code",
   "execution_count": null,
   "metadata": {},
   "outputs": [],
   "source": []
  },
  {
   "cell_type": "code",
   "execution_count": null,
   "metadata": {},
   "outputs": [],
   "source": []
  }
 ],
 "metadata": {
  "kernelspec": {
   "display_name": "Python 3",
   "language": "python",
   "name": "python3"
  },
  "language_info": {
   "codemirror_mode": {
    "name": "ipython",
    "version": 3
   },
   "file_extension": ".py",
   "mimetype": "text/x-python",
   "name": "python",
   "nbconvert_exporter": "python",
   "pygments_lexer": "ipython3",
   "version": "3.6.8"
  }
 },
 "nbformat": 4,
 "nbformat_minor": 2
}
