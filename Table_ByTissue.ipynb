{
 "cells": [
  {
   "cell_type": "code",
   "execution_count": null,
   "metadata": {},
   "outputs": [],
   "source": [
    "import pandas as pd\n",
    "import numpy as np\n",
    "import os\n",
    "from matplotlib import pyplot as plt\n",
    "import scipy.stats as st"
   ]
  },
  {
   "cell_type": "code",
   "execution_count": null,
   "metadata": {},
   "outputs": [],
   "source": [
    "working_dir = \"/Users/filippo/Developer/tesi\"\n",
    "os.chdir(working_dir)\n",
    "dirs = os.listdir(\"data\")"
   ]
  },
  {
   "cell_type": "code",
   "execution_count": null,
   "metadata": {},
   "outputs": [],
   "source": [
    "normalisation_str='counts'"
   ]
  },
  {
   "cell_type": "code",
   "execution_count": null,
   "metadata": {},
   "outputs": [],
   "source": [
    "common_tissues = ['Bronchus and lung', 'Brain', 'Breast', 'Ovary', 'Kidney', 'Colon', 'Corpus uteri','Adrenal gland','Skin']\n",
    "more_common_tissues = np.concatenate((common_tissues,['Blood','Heart, mediastinum, and pleura','Brain','Skin','Testis','Thyroid gland']))"
   ]
  },
  {
   "cell_type": "code",
   "execution_count": null,
   "metadata": {},
   "outputs": [],
   "source": [
    "samples = pd.read_csv(\"files.dat\", index_col=[0])\n",
    "samples.head()"
   ]
  },
  {
   "cell_type": "code",
   "execution_count": null,
   "metadata": {},
   "outputs": [],
   "source": [
    "primaries = samples['primary_site'].unique()\n",
    "diseases = samples['disease_type'].unique()"
   ]
  },
  {
   "cell_type": "code",
   "execution_count": null,
   "metadata": {},
   "outputs": [],
   "source": [
    "df = pd.read_csv((\"%s/mainTable.csv\"%working_dir), index_col=[0])\n",
    "#df = df.to_sparse(fill_value=0.)\n",
    "df.fillna(value=0., inplace=True)\n",
    "df.head()"
   ]
  },
  {
   "cell_type": "code",
   "execution_count": null,
   "metadata": {},
   "outputs": [],
   "source": []
  },
  {
   "cell_type": "markdown",
   "metadata": {},
   "source": [
    "## Tissue U"
   ]
  },
  {
   "cell_type": "code",
   "execution_count": null,
   "metadata": {},
   "outputs": [],
   "source": [
    "tissue = 'Colon'"
   ]
  },
  {
   "cell_type": "code",
   "execution_count": null,
   "metadata": {},
   "outputs": [],
   "source": [
    "sample_list = samples[samples['primary_site']==tissue].index.values\n",
    "subdf = df.loc[:,sample_list]"
   ]
  },
  {
   "cell_type": "code",
   "execution_count": null,
   "metadata": {},
   "outputs": [],
   "source": [
    "O = []\n",
    "for g in subdf.index.values:\n",
    "    o = len([fpkm for fpkm in subdf.loc[g].values if fpkm > 1e-1])\n",
    "    if o>1:\n",
    "        O.append(o)"
   ]
  },
  {
   "cell_type": "code",
   "execution_count": null,
   "metadata": {},
   "outputs": [],
   "source": [
    "bins = 20\n",
    "rang = (0-0.5/20,1+0.5/20)\n",
    "fig = plt.figure()\n",
    "plt.hist(np.array(O,dtype=float)/len(sample_list), histtype='step', lw=4, density=True, bins=bins, range=rang)\n",
    "plt.title(tissue, fontsize=18)\n",
    "plt.xlabel('$O_i$', fontsize=16)\n",
    "plt.ylabel('#')\n",
    "plt.show()\n",
    "fig.savefig(\"U_%s.png\"%tissue)"
   ]
  },
  {
   "cell_type": "code",
   "execution_count": null,
   "metadata": {},
   "outputs": [],
   "source": []
  },
  {
   "cell_type": "code",
   "execution_count": null,
   "metadata": {},
   "outputs": [],
   "source": []
  },
  {
   "cell_type": "markdown",
   "metadata": {},
   "source": [
    "## average tissues"
   ]
  },
  {
   "cell_type": "code",
   "execution_count": null,
   "metadata": {},
   "outputs": [],
   "source": [
    "df_tissue = pd.read_csv(\"mainTable_tissues.csv\", index_col=[0])\n",
    "df_tissue.fillna(value=0.,inplace=True)\n",
    "df_tissue.head()"
   ]
  },
  {
   "cell_type": "code",
   "execution_count": null,
   "metadata": {},
   "outputs": [],
   "source": [
    "df_tissue_var = pd.read_csv(\"mainTable_tissues_var.csv\", index_col=[0])\n",
    "df_tissue_var.fillna(value=0.,inplace=True)\n",
    "df_tissue_var.head()"
   ]
  },
  {
   "cell_type": "code",
   "execution_count": null,
   "metadata": {},
   "outputs": [],
   "source": [
    "#df_tissue_new = pd.DataFrame(index=df.index, columns=np.unique(samples['primary_site'].values), dtype=float)\n",
    "#for i,g in enumerate(df_tissue_new.index.values):\n",
    "#    gdf = df.loc[g,:]\n",
    "#    print(g,i)\n",
    "#    for tissue in df_tissue_new.columns.values:\n",
    "#        sample_list = samples[samples['primary_site']==tissue].index.values\n",
    "#        subdf = gdf.loc[sample_list]\n",
    "#        df_tissue_new.at[g,tissue]=np.nanvar(np.array(subdf.values, dtype=float))"
   ]
  },
  {
   "cell_type": "code",
   "execution_count": null,
   "metadata": {},
   "outputs": [],
   "source": [
    "#df_tissue_new.to_csv(\"mainTable_tissues_var.csv\")"
   ]
  },
  {
   "cell_type": "code",
   "execution_count": null,
   "metadata": {},
   "outputs": [],
   "source": [
    "gene='ENSG00000198888'"
   ]
  },
  {
   "cell_type": "code",
   "execution_count": null,
   "metadata": {},
   "outputs": [],
   "source": [
    "data = np.array(df.loc[gene,:].values,dtype=float)\n",
    "x = np.linspace(0,data.max()+10)\n",
    "mu = np.average(data)\n",
    "var = np.var(data)\n",
    "a = mu*mu/var\n",
    "b = var/mu\n",
    "fig=plt.figure()\n",
    "ax=fig.subplots()\n",
    "ax.set_title('Expression across all tissues: %s'%gene, fontsize=18)\n",
    "plt.hist(data, histtype='step', lw=2,bins=x, label='gene', density=True)\n",
    "plt.plot(x, st.gamma.pdf(x/b, a,0,1)/b)\n",
    "ax.set_xlabel('%s'%normalisation_str,fontsize=16)\n",
    "ax.set_ylabel('#')\n",
    "#ax.set_xscale('log')\n",
    "#ax.set_yscale('log')\n",
    "ax.set_xlim(5e-2,data.max())\n",
    "plt.show()\n",
    "fig.savefig(\"plot/%s_%s_alltissues.png\"%(normalisation_str,gene))"
   ]
  },
  {
   "cell_type": "code",
   "execution_count": null,
   "metadata": {},
   "outputs": [],
   "source": [
    "fig=plt.figure(figsize=(25,20))\n",
    "N=len(common_tissues)\n",
    "axs=fig.subplots(3,N/3)\n",
    "for i,tissue in enumerate(common_tissues):\n",
    "    ax=axs[i/3][i%(N/3)]\n",
    "    ax.set_title('%s: %s'%(tissue,gene), fontsize=13)\n",
    "    sample_list = samples[samples['primary_site']==tissue].index.values\n",
    "    subdf = df.loc[gene,sample_list]\n",
    "    data = subdf.fillna(value=0.).values\n",
    "    #data = data * np.average(data) / np.var(data)\n",
    "    x = np.linspace(0,data.max()+10)\n",
    "    mu = np.average(data)\n",
    "    var = np.var(data)\n",
    "    a = mu*mu/var\n",
    "    b = var/mu\n",
    "    ax.hist(data,density=True,label=\"%s [%d]\"%(tissue, len(data)),histtype='step',lw=1.5)\n",
    "    ax.plot(x,st.gamma.pdf(x,a,0,b))\n",
    "    ax.set_xlim(xmax=data.max())\n",
    "    ax.set_xlabel('%s'%normalisation_str,fontsize=13)\n",
    "    ax.set_ylabel('#')\n",
    "    ax.set_xlim(5e-2,data.max())\n",
    "    ax.legend(fontsize=16)\n",
    "plt.show()\n",
    "fig.savefig(\"plot/%s_%s_per_tissue.png\"%(normalisation_str,gene))"
   ]
  },
  {
   "cell_type": "code",
   "execution_count": null,
   "metadata": {},
   "outputs": [],
   "source": [
    "fig=plt.figure()\n",
    "ax=fig.subplots()\n",
    "ax.set_title('Expression per tissue: %s'%gene, fontsize=18)\n",
    "data = np.array(df_tissue.loc[gene,:].values,dtype=float)\n",
    "x = np.linspace(0,data.max())\n",
    "mu = np.average(data)\n",
    "var = np.var(data)\n",
    "a = mu*mu/var\n",
    "b = var/mu\n",
    "plt.hist(data, histtype='step', lw=2, label='gene', density=True, bins=10)\n",
    "plt.plot(x, st.gamma.pdf(x/b,a)/b)\n",
    "ax.set_xlabel('%s'%normalisation_str,fontsize=16)\n",
    "ax.set_ylabel('#')\n",
    "#ax.set_xscale('log')\n",
    "#ax.set_yscale('log')\n",
    "plt.show()\n",
    "fig.savefig(\"plot/%s_%s_across_tissue.png\"%(normalisation_str,gene))"
   ]
  },
  {
   "cell_type": "code",
   "execution_count": null,
   "metadata": {},
   "outputs": [],
   "source": []
  },
  {
   "cell_type": "markdown",
   "metadata": {},
   "source": [
    "## integral"
   ]
  },
  {
   "cell_type": "code",
   "execution_count": null,
   "metadata": {},
   "outputs": [],
   "source": [
    "fig=plt.figure(figsize=(15,10))\n",
    "ax=fig.subplots()\n",
    "ax.set_title('%s sorted integral'%normalisation_str, fontsize=18)\n",
    "#for tissue in ['Blood','Heart, mediastinum, and pleura','Brain','Skin','Testis','Thyroid gland']:\n",
    "for tissue in more_common_tissues:\n",
    "    subdf = df_tissue.sort_values(by=tissue, axis=0, ascending=False).loc[:,tissue]\n",
    "    norm = np.sum(subdf.values[:])\n",
    "    if norm!=0:\n",
    "        ax.plot(np.cumsum(subdf.values[:])/norm,label=tissue, lw=3)\n",
    "ax.set_xscale('log')\n",
    "ax.set_xlabel('Number of genes', fontsize=18)\n",
    "ax.set_ylabel('Fraction of total tissue expression', fontsize=18)\n",
    "ax.set_xlim((1,2e4))\n",
    "plt.legend()\n",
    "plt.show()\n",
    "fig.savefig(\"fraction_of_trascriptome.pdf\")"
   ]
  },
  {
   "cell_type": "code",
   "execution_count": null,
   "metadata": {},
   "outputs": [],
   "source": []
  },
  {
   "cell_type": "markdown",
   "metadata": {},
   "source": [
    "## Mean Variance"
   ]
  },
  {
   "cell_type": "code",
   "execution_count": null,
   "metadata": {},
   "outputs": [],
   "source": [
    "tissue = 'Breast'\n",
    "subdf = df.loc[:,samples[samples['primary_site']==tissue].index.values]\n",
    "means = subdf.apply(np.nanmean, axis=1).values\n",
    "variances = subdf.apply(np.nanvar, axis=1).values\n",
    "distrs = subdf.sum(axis=0)"
   ]
  },
  {
   "cell_type": "code",
   "execution_count": null,
   "metadata": {},
   "outputs": [],
   "source": [
    "plt.hist(distrs)\n",
    "print(np.mean(distrs),np.var(distrs))"
   ]
  },
  {
   "cell_type": "code",
   "execution_count": null,
   "metadata": {},
   "outputs": [],
   "source": [
    "x_lin = np.logspace(np.log10(means[means.nonzero()].min()),np.log10(means[means.nonzero()].max()), dtype=float,num=50)\n",
    "fig=plt.figure(figsize=(15,4))\n",
    "plt.scatter(means, variances, c='b')\n",
    "plt.plot(x_lin[-40:],np.power(x_lin[-40:],2), 'g-', lw=3.5, label='$<%s>^2$'%normalisation_str)\n",
    "plt.plot(x_lin[:20],x_lin[:20], 'r-', lw=3.5, label='$<%s>$'%normalisation_str)\n",
    "\n",
    "plt.xlabel(\"$<%s>$\"%normalisation_str, fontsize=16)\n",
    "plt.ylabel(\"$\\sigma^2_{%s}$\"%normalisation_str, fontsize=16)\n",
    "plt.xscale('log')\n",
    "plt.yscale('log')\n",
    "plt.title(tissue,fontsize=18)\n",
    "plt.xlim(means[means.nonzero()].min()/5,np.power(10,np.log10(means.max())+1))\n",
    "plt.ylim((variances[variances.nonzero()].min()/10,np.power(10,np.log10(variances.max())+1)))\n",
    "plt.legend(fontsize=16)\n",
    "plt.show()\n",
    "fig.savefig(\"varmean_loglog_%s.png\"%tissue)"
   ]
  },
  {
   "cell_type": "code",
   "execution_count": null,
   "metadata": {},
   "outputs": [],
   "source": [
    "cv2 = [variances[i]/(np.power(mean,2)) for i,mean in enumerate(means) if mean>0]\n",
    "fig=plt.figure(figsize=(15,4))\n",
    "plt.scatter(means[means.nonzero()], cv2, c='b')\n",
    "plt.plot(x_lin[:30],1./x_lin[:30], 'g-', lw=3.5, label='Poisson')\n",
    "plt.plot(x_lin[-30:],[1 for _ in x_lin[-30:]], 'r-', lw=3.5, label='Taylor')\n",
    "plt.plot(x_lin,[len(subdf.columns)-1 for _ in x_lin], '--', lw=3.5, label='bound')\n",
    "\n",
    "\n",
    "plt.title(tissue,fontsize=18)\n",
    "plt.xlabel(\"$<%s>$\"%normalisation_str, fontsize=16)\n",
    "plt.ylabel(\"$cv^2$\", fontsize=16)\n",
    "plt.xscale('log')\n",
    "plt.yscale('log')\n",
    "plt.xlim(means[means.nonzero()].min()/5,np.power(10,np.log10(means.max())+1))\n",
    "plt.ylim(variances[variances.nonzero()].min()/10,len(subdf.columns)*10)\n",
    "plt.legend(fontsize=16)\n",
    "plt.show()\n",
    "fig.savefig(\"cvmean_loglog_%s.png\"%tissue)"
   ]
  },
  {
   "cell_type": "code",
   "execution_count": null,
   "metadata": {},
   "outputs": [],
   "source": []
  },
  {
   "cell_type": "markdown",
   "metadata": {},
   "source": [
    "## Lenght"
   ]
  },
  {
   "cell_type": "code",
   "execution_count": null,
   "metadata": {},
   "outputs": [],
   "source": [
    "q_many = pd.read_csv(\"genes.txt\", index_col=[0], header=[0])\n",
    "q_many = q_many[q_many['type_of_gene']=='protein-coding']\n",
    "lenghts = q_many['lenght']"
   ]
  },
  {
   "cell_type": "code",
   "execution_count": null,
   "metadata": {},
   "outputs": [],
   "source": [
    "from scipy.stats import binned_statistic\n",
    "fig=plt.figure(figsize=(15,7))\n",
    "means = subdf.mean(axis=1).values\n",
    "bin_means, bin_edges, _ = binned_statistic(lenghts, means, statistic='mean', bins=np.logspace(1,7))\n",
    "plt.scatter(lenghts,means)\n",
    "plt.scatter((bin_edges[1:]+bin_edges[:-1])/2., bin_means, marker='x')\n",
    "plt.title(tissue, fontsize=18)\n",
    "plt.yscale('log')\n",
    "plt.xscale('log')\n",
    "plt.xlabel('lenght (bp)', fontsize=16)\n",
    "plt.ylabel('mean (counts)', fontsize=16)\n",
    "plt.xlim((lenghts.min()/10,lenghts.max()*10))\n",
    "plt.ylim((means[means.nonzero()].min()/10,means.max()*10))\n",
    "plt.show()\n",
    "fig.savefig(\"meanLenght_tissue.pdf\")"
   ]
  },
  {
   "cell_type": "code",
   "execution_count": null,
   "metadata": {},
   "outputs": [],
   "source": []
  },
  {
   "cell_type": "code",
   "execution_count": null,
   "metadata": {},
   "outputs": [],
   "source": []
  },
  {
   "cell_type": "code",
   "execution_count": null,
   "metadata": {},
   "outputs": [],
   "source": []
  },
  {
   "cell_type": "markdown",
   "metadata": {},
   "source": [
    "## frac K"
   ]
  },
  {
   "cell_type": "code",
   "execution_count": null,
   "metadata": {},
   "outputs": [],
   "source": [
    "frak_k = []\n",
    "for tissue in more_common_tissues:\n",
    "    A = df_tissue.loc[:,tissue].values\n",
    "    frak_k.append(np.array([[k,float(len(A[A>=k]))/len(A)] for k in np.logspace(0,np.log10(A.max()),60)]))"
   ]
  },
  {
   "cell_type": "code",
   "execution_count": null,
   "metadata": {},
   "outputs": [],
   "source": [
    "fig = plt.figure(figsize=(15,7))\n",
    "for i,dataset in enumerate(frak_k):\n",
    "    plt.plot(dataset.T[0],dataset.T[1], lw=1, marker='o', label=more_common_tissues[i])\n",
    "plt.yscale('log')\n",
    "plt.xscale('log')\n",
    "plt.xlabel('counts k', fontsize=16)\n",
    "plt.ylabel('fraction of genes\\n with more than k counts', fontsize=12)\n",
    "plt.xlim(9e-1,5e4)\n",
    "plt.ylim(2e-5,1e0)\n",
    "plt.legend()\n",
    "plt.show()\n",
    "fig.savefig(\"frak_k_tissue.pdf\")"
   ]
  },
  {
   "cell_type": "code",
   "execution_count": null,
   "metadata": {},
   "outputs": [],
   "source": []
  },
  {
   "cell_type": "markdown",
   "metadata": {},
   "source": [
    "## lenght"
   ]
  },
  {
   "cell_type": "code",
   "execution_count": null,
   "metadata": {},
   "outputs": [],
   "source": [
    "q_many = pd.read_csv(\"genes.txt\", index_col=[0], header=[0])\n",
    "q_many = q_many[q_many['type_of_gene']=='protein-coding']\n",
    "lenghts = q_many['lenght']"
   ]
  },
  {
   "cell_type": "code",
   "execution_count": null,
   "metadata": {},
   "outputs": [],
   "source": [
    "#from scipy.stats import binned_statistic\n",
    "fig=plt.figure(figsize=(15,7))\n",
    "for tissue in common_tissues:\n",
    "    bin_means, bin_edges, _ = binned_statistic(lenghts, df_tissue.loc[:,tissue], statistic='mean', bins=np.logspace(1,7))\n",
    "    #plt.scatter(lenghts,df_tissue.loc[:,tissue])\n",
    "    plt.scatter((bin_edges[1:]+bin_edges[:-1])/2,bin_means, marker='x',label=tissue)\n",
    "    plt.yscale('log')\n",
    "    plt.xscale('log')\n",
    "plt.xlabel('lenght (bp)', fontsize=16)\n",
    "plt.ylabel('mean (counts)', fontsize=16)\n",
    "plt.xlim((lenghts.min(),lenghts.max()))\n",
    "plt.ylim((1e-3,1e5))\n",
    "plt.legend()\n",
    "plt.show()\n",
    "fig.savefig(\"meanLenght_tissue.pdf\")"
   ]
  },
  {
   "cell_type": "code",
   "execution_count": null,
   "metadata": {},
   "outputs": [],
   "source": []
  },
  {
   "cell_type": "markdown",
   "metadata": {},
   "source": [
    "## inter intra"
   ]
  },
  {
   "cell_type": "code",
   "execution_count": null,
   "metadata": {},
   "outputs": [],
   "source": [
    "inter_var = df_tissue.apply(np.var, axis=1)"
   ]
  },
  {
   "cell_type": "code",
   "execution_count": null,
   "metadata": {},
   "outputs": [],
   "source": [
    "x = np.logspace(np.log10(5e-1),20)\n",
    "fig = plt.figure()\n",
    "for tissue in common_tissues:\n",
    "    intra_var = df_tissue_var[tissue]\n",
    "    plt.scatter(inter_var, intra_var, label=tissue)\n",
    "plt.plot(x,x)\n",
    "plt.plot(x,np.sqrt(x))\n",
    "plt.xlabel('inter_(tissue+individual)')\n",
    "plt.ylabel('intra_tissue')\n",
    "plt.yscale('log')\n",
    "plt.xscale('log')\n",
    "plt.ylim(5e-1,5e12)\n",
    "plt.xlim(5e-1,5e21)\n",
    "plt.show()\n",
    "fig.savefig(\"inter_intra.png\")"
   ]
  },
  {
   "cell_type": "code",
   "execution_count": null,
   "metadata": {},
   "outputs": [],
   "source": [
    "tissue = 'Kidney'\n",
    "intra_var = df_tissue_var[tissue]\n",
    "for g in intra_var.index:\n",
    "    if (intra_var[g] < np.sqrt(inter_var[g])) & (inter_var[g]>1e10):\n",
    "        print(g)"
   ]
  },
  {
   "cell_type": "code",
   "execution_count": null,
   "metadata": {},
   "outputs": [],
   "source": [
    "inter_var[g]>1e8"
   ]
  },
  {
   "cell_type": "code",
   "execution_count": null,
   "metadata": {},
   "outputs": [],
   "source": []
  }
 ],
 "metadata": {
  "kernelspec": {
   "display_name": "Python 2",
   "language": "python",
   "name": "python2"
  },
  "language_info": {
   "codemirror_mode": {
    "name": "ipython",
    "version": 2
   },
   "file_extension": ".py",
   "mimetype": "text/x-python",
   "name": "python",
   "nbconvert_exporter": "python",
   "pygments_lexer": "ipython2",
   "version": "2.7.15"
  }
 },
 "nbformat": 4,
 "nbformat_minor": 2
}
