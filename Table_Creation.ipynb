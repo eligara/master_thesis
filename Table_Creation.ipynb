{
 "cells": [
  {
   "cell_type": "code",
   "execution_count": null,
   "metadata": {},
   "outputs": [],
   "source": [
    "import os\n",
    "import sys\n",
    "import pandas as pd\n",
    "import numpy as np\n",
    "import regex as re\n",
    "from matplotlib import pyplot as plt\n",
    "import torch"
   ]
  },
  {
   "cell_type": "code",
   "execution_count": null,
   "metadata": {},
   "outputs": [],
   "source": [
    "working_dir = \"/Users/filippo/Developer/tesi\"\n",
    "os.chdir(working_dir)\n",
    "dirs = os.listdir(\"data\")"
   ]
  },
  {
   "cell_type": "code",
   "execution_count": null,
   "metadata": {},
   "outputs": [],
   "source": [
    "len(dirs)"
   ]
  },
  {
   "cell_type": "code",
   "execution_count": null,
   "metadata": {},
   "outputs": [],
   "source": [
    "protein_coding = pd.read_csv(\"genes.txt\", index_col=[0])\n",
    "protein_coding = protein_coding[protein_coding['type_of_gene']=='protein-coding']\n",
    "select_genes = protein_coding.index.values"
   ]
  },
  {
   "cell_type": "code",
   "execution_count": null,
   "metadata": {},
   "outputs": [],
   "source": [
    "df = pd.read_csv((\"%s/genes.txt\"%working_dir), header=[0], index_col=[0])\n",
    "#print(len(df['gene']))\n",
    "df = df.loc[select_genes,:]\n",
    "df.head()"
   ]
  },
  {
   "cell_type": "code",
   "execution_count": null,
   "metadata": {},
   "outputs": [],
   "source": [
    "#fpkm\n",
    "def getFilenameFromDir(directory):\n",
    "    for element in os.listdir(directory):\n",
    "        if re.match(\"[a-zA-Z0-9]{8}-[a-zA-Z0-9]{4}-[a-zA-Z0-9]{4}-[a-zA-Z0-9\\-]{4}-[a-zA-Z0-9\\-]{12}[\\.FPKM]{5}.txt[\\.gz]{0,3}\",element):\n",
    "            cfile = element\n",
    "            print(element)\n",
    "            return cfile"
   ]
  },
  {
   "cell_type": "code",
   "execution_count": null,
   "metadata": {},
   "outputs": [],
   "source": [
    "#counts\n",
    "def getFilenameFromDir(directory):\n",
    "    for element in os.listdir(directory):\n",
    "        if re.match(\"[a-zA-Z0-9]{8}-[a-zA-Z0-9]{4}-[a-zA-Z0-9]{4}-[a-zA-Z0-9\\-]{4}-[a-zA-Z0-9\\-]{12}[\\.htseq]{6}[\\.\\_counts]{7}[\\.txt]{0,4}[\\.gz]{0,3}\",element):\n",
    "            cfile = element\n",
    "            print(element)\n",
    "            return cfile"
   ]
  },
  {
   "cell_type": "code",
   "execution_count": null,
   "metadata": {},
   "outputs": [],
   "source": [
    "#fpkm-uq\n",
    "def getFilenameFromDir(directory):\n",
    "    for element in os.listdir(directory):\n",
    "        if re.match(\"[a-zA-Z0-9]{8}-[a-zA-Z0-9]{4}-[a-zA-Z0-9]{4}-[a-zA-Z0-9\\-]{4}-[a-zA-Z0-9\\-]{12}[\\.FPKM-UQ]{0,8}[\\.txt]{0,4}[\\.gz]{0,3}\",element):\n",
    "            cfile = element\n",
    "            print(element)\n",
    "            return cfile"
   ]
  },
  {
   "cell_type": "code",
   "execution_count": null,
   "metadata": {},
   "outputs": [],
   "source": [
    "maxacceptables = 5000\n",
    "added = 0\n",
    "for i,cdirectory in enumerate(dirs):\n",
    "    if re.match(\"[manifest\\.txt]\",cdirectory):\n",
    "        continue\n",
    "    cfile = getFilenameFromDir(\"/Users/filippo/Developer/tesi/data/%s\"%cdirectory)\n",
    "    cdf = pd.read_csv((\"%s/data/%s/%s\"%(working_dir,cdirectory,cfile)), sep='\\t', header=None)\n",
    "    cdf.columns = [\"gene\", cfile[:]]\n",
    "    cdf['gene'] = [gene[:15] for gene in cdf['gene']]\n",
    "    cdf.set_index('gene',inplace=True)\n",
    "    try:\n",
    "        df.insert(1,cdf.keys()[0][:],cdf.loc[select_genes,cdf.keys()[0]].values[:60483])\n",
    "        added=added+1\n",
    "    except:\n",
    "        print \"Unexpected error:\", sys.exc_info()[0]\n",
    "    if added >= maxacceptables:\n",
    "        break\n",
    "print(added, i)"
   ]
  },
  {
   "cell_type": "code",
   "execution_count": null,
   "metadata": {},
   "outputs": [],
   "source": [
    "# df = pd.read_csv((\"%s/mainTable.csv\"%working_dir))"
   ]
  },
  {
   "cell_type": "code",
   "execution_count": null,
   "metadata": {},
   "outputs": [],
   "source": [
    "#df.columns=['gene', 'breast', 'kidney', 'bronchus', 'brain']"
   ]
  },
  {
   "cell_type": "code",
   "execution_count": null,
   "metadata": {},
   "outputs": [],
   "source": [
    "df.drop('type_of_gene', inplace=True, axis=1)"
   ]
  },
  {
   "cell_type": "code",
   "execution_count": null,
   "metadata": {},
   "outputs": [],
   "source": [
    "df.head()"
   ]
  },
  {
   "cell_type": "code",
   "execution_count": null,
   "metadata": {},
   "outputs": [],
   "source": [
    "print((\"genes:%d\\trealizations:%d\"%(len(df.index),len(df.keys())-1)))"
   ]
  },
  {
   "cell_type": "code",
   "execution_count": null,
   "metadata": {},
   "outputs": [],
   "source": [
    "df.to_csv((\"%s/mainTable.csv\"%working_dir), index=True)"
   ]
  },
  {
   "cell_type": "markdown",
   "metadata": {},
   "source": [
    "expression per gene"
   ]
  },
  {
   "cell_type": "code",
   "execution_count": null,
   "metadata": {},
   "outputs": [],
   "source": [
    "np.sum(df.loc[0,:].values[1:])"
   ]
  },
  {
   "cell_type": "markdown",
   "metadata": {},
   "source": [
    "expression per case"
   ]
  },
  {
   "cell_type": "code",
   "execution_count": null,
   "metadata": {},
   "outputs": [],
   "source": [
    "np.sum(df.loc[:,df.keys()[1]].values)"
   ]
  },
  {
   "cell_type": "code",
   "execution_count": null,
   "metadata": {},
   "outputs": [],
   "source": []
  },
  {
   "cell_type": "markdown",
   "metadata": {},
   "source": [
    "## Zipf"
   ]
  },
  {
   "cell_type": "code",
   "execution_count": null,
   "metadata": {},
   "outputs": [],
   "source": [
    "A = [df.loc[:,df.keys()[9]].values, df.loc[:,df.keys()[45]].values, df.loc[:,df.keys()[42]].values]\n",
    "colors = ['red', 'blue', 'yellow']\n",
    "fig = plt.figure()\n",
    "x = np.arange(1, len(A[0]))\n",
    "plt.ylabel(\"frequencyi\")\n",
    "plt.xlabel(\"RANKi\")\n",
    "plt.yscale('log')\n",
    "plt.xscale('log')\n",
    "plt.plot(x, 1./x, 'g--', label='$r^{-\\\\alpha}$')\n",
    "for i,a in enumerate(A):\n",
    "    plt.plot(np.sort(a/np.sum(a, dtype=float))[::-1], c=colors[i], label = 'file') \n",
    "plt.legend(fontsize=16)\n",
    "plt.show()"
   ]
  },
  {
   "cell_type": "markdown",
   "metadata": {},
   "source": [
    "## Zipf per cancer"
   ]
  },
  {
   "cell_type": "code",
   "execution_count": null,
   "metadata": {},
   "outputs": [],
   "source": [
    "colors = ['red', 'blue', 'yellow', 'green']\n",
    "fig = plt.figure(figsize=(8,6))\n",
    "x = np.logspace(0, 5)\n",
    "plt.ylabel(\"$frequency_i$\", fontsize=16)\n",
    "plt.xlabel(\"$RANK_i$\", fontsize=16)\n",
    "plt.yscale('log')\n",
    "plt.xscale('log')\n",
    "plt.plot(x, 1./x, 'g--', label='$r^{-1}$')\n",
    "for i,k in enumerate(df.keys()[1:]):\n",
    "    a=df[k]\n",
    "    plt.plot(np.sort(a/np.sum(a))[::-1], c=colors[i], label = k) \n",
    "plt.legend(fontsize=16)\n",
    "plt.show()"
   ]
  },
  {
   "cell_type": "code",
   "execution_count": null,
   "metadata": {},
   "outputs": [],
   "source": [
    "fig.savefig(\"zipfPerCancer.pdf\")"
   ]
  },
  {
   "cell_type": "code",
   "execution_count": null,
   "metadata": {},
   "outputs": [],
   "source": []
  },
  {
   "cell_type": "markdown",
   "metadata": {},
   "source": [
    "# gene table"
   ]
  },
  {
   "cell_type": "code",
   "execution_count": null,
   "metadata": {},
   "outputs": [],
   "source": [
    "genes = open(\"%s/genes.txt\"%working_dir, \"w\")\n",
    "for gene in cdf['gene'].values:\n",
    "    genes.write(\"%s\\n\"%gene)\n",
    "genes.close()"
   ]
  },
  {
   "cell_type": "code",
   "execution_count": null,
   "metadata": {},
   "outputs": [],
   "source": []
  },
  {
   "cell_type": "markdown",
   "metadata": {},
   "source": [
    "# table as image"
   ]
  },
  {
   "cell_type": "code",
   "execution_count": null,
   "metadata": {},
   "outputs": [],
   "source": [
    "from PIL import Image"
   ]
  },
  {
   "cell_type": "code",
   "execution_count": null,
   "metadata": {},
   "outputs": [],
   "source": [
    "bits = np.array([df.loc[i,:].values[1:] for i in np.arange(len(df['gene']))])"
   ]
  },
  {
   "cell_type": "code",
   "execution_count": null,
   "metadata": {},
   "outputs": [],
   "source": [
    "bits.shape"
   ]
  },
  {
   "cell_type": "code",
   "execution_count": null,
   "metadata": {},
   "outputs": [],
   "source": [
    "img = Image.fromarray(bits, mode='1')"
   ]
  },
  {
   "cell_type": "code",
   "execution_count": null,
   "metadata": {},
   "outputs": [],
   "source": [
    "img.save(\"mat.bmp\")"
   ]
  },
  {
   "cell_type": "code",
   "execution_count": null,
   "metadata": {},
   "outputs": [],
   "source": []
  }
 ],
 "metadata": {
  "kernelspec": {
   "display_name": "Python 2",
   "language": "python",
   "name": "python2"
  },
  "language_info": {
   "codemirror_mode": {
    "name": "ipython",
    "version": 2
   },
   "file_extension": ".py",
   "mimetype": "text/x-python",
   "name": "python",
   "nbconvert_exporter": "python",
   "pygments_lexer": "ipython2",
   "version": "2.7.15"
  }
 },
 "nbformat": 4,
 "nbformat_minor": 2
}
