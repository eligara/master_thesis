{
 "cells": [
  {
   "cell_type": "code",
   "execution_count": null,
   "metadata": {},
   "outputs": [],
   "source": [
    "import pandas as pd\n",
    "import numpy as np\n",
    "from tableanalyser import *\n",
    "import os\n",
    "import scipy.stats as st"
   ]
  },
  {
   "cell_type": "code",
   "execution_count": null,
   "metadata": {},
   "outputs": [],
   "source": [
    "working_dir = \"/Users/filippo/Developer/tesi\"\n",
    "os.chdir(working_dir)"
   ]
  },
  {
   "cell_type": "code",
   "execution_count": null,
   "metadata": {},
   "outputs": [],
   "source": [
    "normalisation_str='counts'"
   ]
  },
  {
   "cell_type": "code",
   "execution_count": null,
   "metadata": {},
   "outputs": [],
   "source": [
    "df = pd.read_csv((\"%s/mainTable.csv\"%working_dir))\n",
    "df.columns.values[0] = 'gene'\n",
    "#df = df.to_sparse(fill_value=0.)"
   ]
  },
  {
   "cell_type": "code",
   "execution_count": null,
   "metadata": {},
   "outputs": [],
   "source": [
    "df_mv = pd.read_csv(\"meanVariances.csv\", index_col = [0])\n",
    "#type_of_gene='protein-coding'\n",
    "#df_mv = df_mv.loc[df_mv['type_of_gene']==type_of_gene]\n",
    "df_mv_occ=pd.read_csv(\"O.dat\", header=None)\n",
    "#df_mv.drop(\"type_of_gene\", axis=1, inplace=True)\n",
    "df_mv.insert(3, 'occurrence', df_mv_occ.values)\n",
    "#df_mv.insert(2,'type_of_gene','protein-coding')\n",
    "df_mv.head()"
   ]
  },
  {
   "cell_type": "code",
   "execution_count": null,
   "metadata": {},
   "outputs": [],
   "source": [
    "nfiles=len(df.columns)-1\n",
    "means = df_mv['mean'].values\n",
    "variances = df_mv['variance'].values\n",
    "occurrences = np.array(df_mv['occurrence'].values*nfiles, dtype=int)"
   ]
  },
  {
   "cell_type": "markdown",
   "metadata": {},
   "source": [
    "## Single gene"
   ]
  },
  {
   "cell_type": "code",
   "execution_count": null,
   "metadata": {},
   "outputs": [],
   "source": [
    "gene = geneinfo('ENSG00000078237', df, nfiles)\n",
    "genedistr(gene, 50);\n",
    "#geneplot(gene);\n",
    "#genecoord(gene, means, variances);"
   ]
  },
  {
   "cell_type": "markdown",
   "metadata": {},
   "source": [
    "## Search\n",
    "### by mean variance"
   ]
  },
  {
   "cell_type": "code",
   "execution_count": null,
   "metadata": {},
   "outputs": [],
   "source": [
    "search_mean_max = 200\n",
    "search_mean_min = 50\n",
    "search_var_max = 1e12\n",
    "search_var_min = 1e6\n",
    "pc = True\n",
    "if (pc):\n",
    "    query_result = df_mv.loc[(df_mv['type_of_gene']=='protein-coding')&((df_mv['mean']>(search_mean_min)) & (df_mv['mean']<(search_mean_max))) & ((df_mv['variance']>(search_var_min)) & (df_mv['variance']<(search_var_max)))].sort_values(by='mean')\n",
    "else:\n",
    "    query_result = df_mv.loc[((df_mv['mean']>(search_mean_min)) & (df_mv['mean']<(search_mean_max))) & ((df_mv['variance']>(search_var_min)) & (df_mv['variance']<(search_var_max)))].sort_values(by='mean')\n",
    "query_result"
   ]
  },
  {
   "cell_type": "markdown",
   "metadata": {},
   "source": [
    "### by mean occurrence"
   ]
  },
  {
   "cell_type": "code",
   "execution_count": null,
   "metadata": {},
   "outputs": [],
   "source": [
    "search_mean_min = 2e5\n",
    "search_occ_min = 0.995\n",
    "query_result = df_mv.loc[(df_mv['mean']>(search_mean_min)) & (df_mv['occurrence']>(search_occ_min))].sort_values(by='mean')"
   ]
  },
  {
   "cell_type": "code",
   "execution_count": null,
   "metadata": {},
   "outputs": [],
   "source": [
    "genesnames = []\n",
    "for g in query_result.index.values[:9]:\n",
    "    gene = geneinfo(g, df, nfiles, metric=normalisation_str)\n",
    "    genesnames.append(gene)"
   ]
  },
  {
   "cell_type": "markdown",
   "metadata": {},
   "source": [
    "### coordinates"
   ]
  },
  {
   "cell_type": "code",
   "execution_count": null,
   "metadata": {},
   "outputs": [],
   "source": [
    "fig = plt.figure(figsize=(18,8))\n",
    "plt.scatter(means, variances)\n",
    "for g in genesnames:\n",
    "    plt.scatter([g['avg']],[g['var']], marker='x', s=90, label=g['name'])\n",
    "plt.xlabel(\"$<%s>$\"%normalisation_str, fontsize=16)\n",
    "plt.ylabel(\"$\\sigma^2_{%s}$\"%normalisation_str, fontsize=16)\n",
    "plt.yscale('log')\n",
    "plt.xlim(5e-5,np.power(10,np.log10(means.max())+1))\n",
    "plt.ylim((variances[variances.nonzero()].min()/10,np.power(10,np.log10(variances.max())+1)))\n",
    "plt.xscale('log')\n",
    "plt.yscale('log')\n",
    "plt.legend()\n",
    "plt.show()\n",
    "fig.savefig(\"plot/genes/subset.png\")"
   ]
  },
  {
   "cell_type": "markdown",
   "metadata": {},
   "source": [
    "## Plot all"
   ]
  },
  {
   "cell_type": "code",
   "execution_count": null,
   "metadata": {},
   "outputs": [],
   "source": [
    "for gene in genesnames:\n",
    "    print(gene['name'])\n",
    "    print(\"mean: %f\"%gene['avg'])\n",
    "    print(\"var: %f\"%gene['var'])\n",
    "    genedistr(gene, metric=normalisation_str,bins=np.logspace(0,8));\n",
    "    #geneplot(gene);\n",
    "    #genecoord(gene);"
   ]
  },
  {
   "cell_type": "code",
   "execution_count": null,
   "metadata": {},
   "outputs": [],
   "source": []
  },
  {
   "cell_type": "code",
   "execution_count": null,
   "metadata": {},
   "outputs": [],
   "source": [
    "use_log_bins = False\n",
    "use_log_scale = False\n",
    "fig = plt.figure(figsize=(25,15))\n",
    "axs = fig.subplots(len(genesnames)/3,3)\n",
    "log_bin_x = np.logspace(0,np.log10(1e7))\n",
    "if use_log_bins:\n",
    "    log_bin_x = np.linspace(0,1e6)\n",
    "print(\"ENSG\", \"a\", \"b\", \"loc\", \"var\", \"<>\")\n",
    "for i,gene in enumerate(genesnames):\n",
    "    ax = axs[i/(len(genesnames)/3)][i%3]\n",
    "    ax.set_title(\"%s [$<>$:%.0f $o_i$:%.1f]\"%(gene['name'], gene['avg'],gene['occ']))\n",
    "    data = gene['data']\n",
    "    mu = np.average(data)\n",
    "    var = np.var(data)\n",
    "    a = mu*mu/var\n",
    "    b = var/mu\n",
    "    print(gene['name'],\"%.3f  %.3f  %.3f  %.3f\"%(a, b, var, mu))\n",
    "\n",
    "    \n",
    "    data = data / b\n",
    "    mu = np.average(data)\n",
    "    var = np.var(data)\n",
    "    a = mu*mu/var\n",
    "    b = var/mu\n",
    "    func = st.gamma\n",
    "    fit_alpha, fit_loc, fit_beta=func.fit(data)\n",
    "    print(gene['name'],\"%.3f (%.2f)  %.3f (%.2f) %.3f  %.3f  %.3f\"%(fit_alpha, a, fit_beta, b, fit_loc, var, mu))\n",
    "    count, bin_edges, _ = ax.hist(data, histtype='step',lw=2, density=True, label=gene['name'])\n",
    "    ax.plot(np.linspace(0,10), func.pdf(np.linspace(0,10),fit_alpha, fit_loc, fit_beta), label='gamma')\n",
    "    ax.plot(np.linspace(0,10), func.pdf(np.linspace(0,10),a, 0, 1), label='gamma')\n",
    "    plt.text(0.5, 0.8, '($alpha$, $beta$, loc):\\n(%4.2f, %4.2f, %4.2f)'%(fit_alpha, fit_beta, fit_loc), horizontalalignment='left',verticalalignment='top', fontsize=16, transform=ax.transAxes)\n",
    "\n",
    "\n",
    "\n",
    "    ax.set_xlabel(normalisation_str, fontsize=16)\n",
    "    if use_log_scale:\n",
    "        ax.set_xscale('log')\n",
    "        ax.set_yscale('log')\n",
    "        ax.set_xlim(5e-1,1e1)\n",
    "        ax.set_ylim(count[count.nonzero()].min()/np.sum(gene['data'])*1e8,1e2)\n",
    "    else:\n",
    "        ax.set_ylim(0,1)\n",
    "    #ax.set_xlim(1,1e7)\n",
    "    #ax.legend(fontsize=16, loc='upper right')\n",
    "plt.show()\n",
    "bins_str = ''\n",
    "log_str = ''\n",
    "if use_log_bins:\n",
    "    bins_str = '_logbins'\n",
    "if use_log_bins:\n",
    "    log_str = '_log'\n",
    "fig.savefig(\"highmean_highO%s%s_rescaled.pdf\"%(bins_str,log_str))"
   ]
  },
  {
   "cell_type": "code",
   "execution_count": null,
   "metadata": {},
   "outputs": [],
   "source": [
    "use_log_bins = False\n",
    "use_log_scale = False\n",
    "fig = plt.figure(figsize=(25,18))\n",
    "axs = fig.subplots(len(genesnames)/3,3)\n",
    "log_bin_x = np.logspace(0,np.log10(1e7))\n",
    "if use_log_bins:\n",
    "    log_bin_x = np.linspace(0,1e6)\n",
    "print(\"ENSG\", \"a\", \"b\", \"var\", \"<>\")\n",
    "for i,gene in enumerate(genesnames):\n",
    "    ax = axs[i/(len(genesnames)/3)][i%3]\n",
    "    ax.set_title(\"%s [$<>$:%.0f $o_i$:%.1f]\"%(gene['name'], gene['avg'],gene['occ']))\n",
    "    data = gene['data']\n",
    "    mu = np.average(data)\n",
    "    var = np.var(data)\n",
    "    a = mu*mu/var\n",
    "    b = var/mu\n",
    "    print(gene['name'],\"%.3f  %.3f  %.3f  %.3f\"%(a, b, var, mu))\n",
    "\n",
    "    func = st.gamma\n",
    "    count, bin_edges, _ = ax.hist(data, histtype='step',lw=2, density=True, label=gene['name'])\n",
    "    #ax.plot(np.linspace(0,data.max()), func.pdf(np.linspace(0,data.max()),a, 0, b), label='gamma')\n",
    "    ax.plot(np.linspace(0,data.max()), func.pdf(np.linspace(0,data.max())/b,a, 0, 1)/b, label='gamma')\n",
    "    plt.text(0.3, 0.8, '($alpha$, $beta$, loc):\\n(%4.2f, %4.2f, %4.2f)'%(a, b, 0), horizontalalignment='left',verticalalignment='top', fontsize=16, transform=ax.transAxes)\n",
    "\n",
    "\n",
    "\n",
    "    ax.set_xlabel(normalisation_str, fontsize=16)\n",
    "    if use_log_scale:\n",
    "        ax.set_xscale('log')\n",
    "        ax.set_yscale('log')\n",
    "        ax.set_xlim(5e-1,1e1)\n",
    "        ax.set_ylim(count[count.nonzero()].min()/np.sum(gene['data'])*1e8,1e2)\n",
    "    #else:\n",
    "        #ax.set_ylim(0,1)\n",
    "    #ax.set_xlim(1,1e7)\n",
    "    #ax.legend(fontsize=16, loc='upper right')\n",
    "plt.show()\n",
    "bins_str = ''\n",
    "log_str = ''\n",
    "if use_log_bins:\n",
    "    bins_str = '_logbins'\n",
    "if use_log_bins:\n",
    "    log_str = '_log'\n",
    "fig.savefig(\"highmean_highO%s%s.pdf\"%(bins_str,log_str))"
   ]
  },
  {
   "cell_type": "code",
   "execution_count": null,
   "metadata": {},
   "outputs": [],
   "source": [
    "def powgaus(x, a, b, c, d, e):\n",
    "    return np.exp(a*np.power(x,-b)) - 1 + e*(np.exp(np.exp(-(x-c)*(x-c)/d)) - 1)"
   ]
  },
  {
   "cell_type": "code",
   "execution_count": null,
   "metadata": {},
   "outputs": [],
   "source": [
    "fitfunc = powgaus"
   ]
  },
  {
   "cell_type": "code",
   "execution_count": null,
   "metadata": {},
   "outputs": [],
   "source": [
    "xscale = 'log'\n",
    "yscale='log'\n",
    "bins = 30\n",
    "fig = plt.figure(figsize=(10,4))\n",
    "ax = fig.subplots()\n",
    "counts, bin_edges, _ = ax.hist(gene['data'], histtype='step', bins=bins, range=(0,1e4))\n",
    "bin_centres = (bin_edges[1:]+bin_edges[:-1])/2.\n",
    "ax.errorbar(bin_centres, counts, np.sqrt(counts), None, 'bo', label='data')\n",
    "bounds = ([2, 0.3, 3000, 1000, 0.01],[1000, 0.7, 5000, 500000, 3])\n",
    "popt, pcov = curve_fit(fitfunc, bin_centres, counts, bounds=bounds)\n",
    "print(popt)\n",
    "x = np.linspace(bin_centres[0],1e4)\n",
    "ax.set_title(gene['name'], fontsize=18)\n",
    "ax.set_xlabel(\"$%s$\"%normalisation_str)\n",
    "ax.set_ylabel(\"#\")\n",
    "ax.set_yscale(yscale)\n",
    "ax.set_xscale(xscale)\n",
    "minimum = fminbound(fitfunc, 100, 1500, args=(popt[0],popt[1],popt[2],popt[3],popt[4]))\n",
    "plt.plot(x, fitfunc(x, *popt), 'r', label='fit')\n",
    "plt.plot(x, np.exp(popt[0]*np.power(x,-popt[1])) - 1, label='$e^{a*x^{-b}}$')\n",
    "plt.plot(x, popt[4]*np.exp(np.exp(-(x-popt[2])*(x-popt[2])/popt[3])) - popt[4], label=\"$C(e^{e^{- (x-\\mu)^2\\sigma^{-2}}}-1)$\")\n",
    "plt.text(0.5, 0.45, 'min: %6.1f'%minimum, horizontalalignment='left',verticalalignment='top', fontsize=16, transform=ax.transAxes)\n",
    "plt.text(0.5, 0.4, '(a, b, $\\mu$, $\\sigma$, C):\\n(%d, %4.2f, %d, %d, %3.1f)'%(popt[0],popt[1],popt[2],popt[3],popt[4]), horizontalalignment='left',verticalalignment='top', fontsize=16, transform=ax.transAxes)\n",
    "plt.ylim(1,2e4)\n",
    "plt.legend(fontsize=14)\n",
    "plt.show()"
   ]
  },
  {
   "cell_type": "code",
   "execution_count": null,
   "metadata": {},
   "outputs": [],
   "source": []
  },
  {
   "cell_type": "code",
   "execution_count": null,
   "metadata": {},
   "outputs": [],
   "source": []
  },
  {
   "cell_type": "code",
   "execution_count": null,
   "metadata": {},
   "outputs": [],
   "source": []
  }
 ],
 "metadata": {
  "kernelspec": {
   "display_name": "Python 2",
   "language": "python",
   "name": "python2"
  },
  "language_info": {
   "codemirror_mode": {
    "name": "ipython",
    "version": 2
   },
   "file_extension": ".py",
   "mimetype": "text/x-python",
   "name": "python",
   "nbconvert_exporter": "python",
   "pygments_lexer": "ipython2",
   "version": "2.7.15"
  }
 },
 "nbformat": 4,
 "nbformat_minor": 2
}
