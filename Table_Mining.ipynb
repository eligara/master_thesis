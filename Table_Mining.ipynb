{
 "cells": [
  {
   "cell_type": "code",
   "execution_count": null,
   "metadata": {},
   "outputs": [],
   "source": [
    "import os\n",
    "import sys\n",
    "import pandas as pd\n",
    "import numpy as np\n",
    "import regex as re\n",
    "import mygene\n",
    "from  TCGA_files import queryFile\n",
    "from matplotlib import pyplot as plt"
   ]
  },
  {
   "cell_type": "code",
   "execution_count": null,
   "metadata": {},
   "outputs": [],
   "source": [
    "mg = mygene.MyGeneInfo()"
   ]
  },
  {
   "cell_type": "code",
   "execution_count": null,
   "metadata": {},
   "outputs": [],
   "source": [
    "#mg.getgene(\"ENSG00000135094\", 'name,symbol,refseq.rna,type_of_gene,exac.bp,genomic_pos')"
   ]
  },
  {
   "cell_type": "code",
   "execution_count": null,
   "metadata": {},
   "outputs": [],
   "source": [
    "working_dir = \"/Users/filippo/Developer/tesi\"\n",
    "os.chdir(working_dir)\n",
    "dirs = os.listdir(\"data\")"
   ]
  },
  {
   "cell_type": "code",
   "execution_count": null,
   "metadata": {},
   "outputs": [],
   "source": [
    "len(dirs)"
   ]
  },
  {
   "cell_type": "code",
   "execution_count": null,
   "metadata": {},
   "outputs": [],
   "source": [
    "df = pd.read_csv((\"%s/genes.txt\"%working_dir), header=[0], index_col=[0])\n",
    "df.columns=[\"type_of_gene\"]\n",
    "print(len(df))\n",
    "df.head()"
   ]
  },
  {
   "cell_type": "code",
   "execution_count": null,
   "metadata": {},
   "outputs": [],
   "source": [
    "uniq = [g[:15] for g in df.index.values]"
   ]
  },
  {
   "cell_type": "code",
   "execution_count": null,
   "metadata": {},
   "outputs": [],
   "source": [
    "len(np.unique(uniq))"
   ]
  },
  {
   "cell_type": "code",
   "execution_count": null,
   "metadata": {},
   "outputs": [],
   "source": [
    "#q_many = mg.getgenes(df[df['type_of_gene']=='protein-coding'].index.values,'symbol,genomic_pos,genomic_pos_hg19')"
   ]
  },
  {
   "cell_type": "code",
   "execution_count": null,
   "metadata": {},
   "outputs": [],
   "source": [
    "q_many = pd.read_csv(\"genes_l.txt\", index_col=[0], header=[0])\n",
    "#df_lenghts = df[df['type_of_gene']=='protein-coding']\n",
    "lenghts = q_many['lenght']\n",
    "df_lenghts = df\n",
    "df_lenghts.insert(0,'lenght',lenghts)\n",
    "df_lenghts.to_csv(\"genes_l.txt\",header=True,index=True)"
   ]
  },
  {
   "cell_type": "code",
   "execution_count": null,
   "metadata": {},
   "outputs": [],
   "source": [
    "df = pd.read_csv((\"%s/mainTable.csv\"%working_dir), index_col=[0])"
   ]
  },
  {
   "cell_type": "code",
   "execution_count": null,
   "metadata": {},
   "outputs": [],
   "source": [
    "df.head()"
   ]
  },
  {
   "cell_type": "code",
   "execution_count": null,
   "metadata": {},
   "outputs": [],
   "source": [
    "ngenes = len(df.index)\n",
    "nfiles = len(df.columns)\n",
    "print(\"genes:%d\\trealizations:%d\"%(ngenes,nfiles))"
   ]
  },
  {
   "cell_type": "code",
   "execution_count": null,
   "metadata": {},
   "outputs": [],
   "source": []
  },
  {
   "cell_type": "code",
   "execution_count": null,
   "metadata": {},
   "outputs": [],
   "source": []
  },
  {
   "cell_type": "markdown",
   "metadata": {},
   "source": [
    "## Counts to RPK\n",
    "RPK=$\\frac{counts}{lenght}$"
   ]
  },
  {
   "cell_type": "code",
   "execution_count": null,
   "metadata": {},
   "outputs": [],
   "source": [
    "df = pd.concat((df,q_many), ignore_index=False, sort=False, axis=1)\n",
    "df.drop('type_of_gene',axis=1,inplace=True)\n",
    "df.head()"
   ]
  },
  {
   "cell_type": "code",
   "execution_count": null,
   "metadata": {},
   "outputs": [],
   "source": [
    "df = df.div(df['lenght'],axis=0)\n",
    "df = df.mul(1000,axis=0) #kilobase\n",
    "df.drop('lenght', axis=1, inplace=True)"
   ]
  },
  {
   "cell_type": "code",
   "execution_count": null,
   "metadata": {},
   "outputs": [],
   "source": [
    "df.head()"
   ]
  },
  {
   "cell_type": "code",
   "execution_count": null,
   "metadata": {},
   "outputs": [],
   "source": [
    "df.to_csv(\"mainTable_RPK.csv\",index=True, header=True)"
   ]
  },
  {
   "cell_type": "markdown",
   "metadata": {},
   "source": [
    "### null"
   ]
  },
  {
   "cell_type": "code",
   "execution_count": null,
   "metadata": {},
   "outputs": [],
   "source": [
    "df_null=pd.read_csv(\"nullTable.csv\",header=None, index_col=None)\n",
    "df_null.insert(0,'lenght',q_many['lenght'].values)\n",
    "df_null.head()"
   ]
  },
  {
   "cell_type": "code",
   "execution_count": null,
   "metadata": {},
   "outputs": [],
   "source": [
    "df_null = df_null.div(df_null['lenght'],axis=0).mul(1000,axis=0) #kilobase\n",
    "df_null.drop('lenght',axis=1, inplace=True)"
   ]
  },
  {
   "cell_type": "code",
   "execution_count": null,
   "metadata": {},
   "outputs": [],
   "source": [
    "df_null.head()"
   ]
  },
  {
   "cell_type": "code",
   "execution_count": null,
   "metadata": {},
   "outputs": [],
   "source": [
    "df_null.to_csv(\"nullTable.csv\", header=False, index=False)"
   ]
  },
  {
   "cell_type": "markdown",
   "metadata": {},
   "source": [
    "## Means sigmas\n",
    "thresholds are applied for FPKM between 0.1 and 1e5"
   ]
  },
  {
   "cell_type": "code",
   "execution_count": null,
   "metadata": {},
   "outputs": [],
   "source": [
    "%timeit\n",
    "means = []\n",
    "for i,g in enumerate(df.loc[:,df.keys()[0]].values):\n",
    "    means.append(np.average(df.loc[i,df.keys()[1:]].values))\n",
    "    if(i%100==0):\n",
    "        print(\"elapsed %d\"%i)"
   ]
  },
  {
   "cell_type": "code",
   "execution_count": null,
   "metadata": {},
   "outputs": [],
   "source": [
    "%timeit\n",
    "variances = []\n",
    "for i,g in enumerate(df.loc[:,df.keys()[0]].values):\n",
    "    variances.append(np.var(df.loc[i,df.keys()[1:]].values))\n",
    "    if(i%100==0):\n",
    "        print(\"elapsed %d\"%i)"
   ]
  },
  {
   "cell_type": "code",
   "execution_count": null,
   "metadata": {},
   "outputs": [],
   "source": [
    "df_mv = pd.DataFrame(data=np.array(means), columns=['mean'], index=df.loc[:,df.keys()[0]].values)\n",
    "df_mv.insert(1, 'variance', np.array(variances))\n",
    "df_mv.head()\n",
    "df_mv.to_csv(\"meanVariances.csv\")"
   ]
  },
  {
   "cell_type": "markdown",
   "metadata": {},
   "source": [
    "## manipulate meansigmas.csv"
   ]
  },
  {
   "cell_type": "code",
   "execution_count": null,
   "metadata": {},
   "outputs": [],
   "source": [
    "df_mv = pd.read_csv(\"meanVariances.csv\", index_col = [0])\n",
    "df_mv.head()"
   ]
  },
  {
   "cell_type": "markdown",
   "metadata": {},
   "source": [
    "### Add type of gene"
   ]
  },
  {
   "cell_type": "code",
   "execution_count": null,
   "metadata": {},
   "outputs": [],
   "source": [
    "gdf = pd.read_csv(\"genes.txt\", index_col=[0])\n",
    "gdf.head()"
   ]
  },
  {
   "cell_type": "code",
   "execution_count": null,
   "metadata": {},
   "outputs": [],
   "source": [
    "len(gdf)"
   ]
  },
  {
   "cell_type": "code",
   "execution_count": null,
   "metadata": {},
   "outputs": [],
   "source": [
    "df_mv = df_mv.drop(labels='type_of_gene', axis=1)\n",
    "df_mv.insert(1,'type_of_gene', '')\n",
    "#for g in df_mv[[df_mv['type_of_gene']==type_of_gene]].index.values\n",
    "for g in df_mv.index.values:\n",
    "    df_mv.at[g, 'type_of_gene'] = gdf.loc[g[:15]]['type_of_gene']"
   ]
  },
  {
   "cell_type": "code",
   "execution_count": null,
   "metadata": {},
   "outputs": [],
   "source": [
    "#df_mv = df_mv[df_mv['type_of_gene']==type_of_gene]\n",
    "df_mv.to_csv(\"meanVariances.csv\", index=True, header=True)"
   ]
  },
  {
   "cell_type": "markdown",
   "metadata": {},
   "source": [
    "### Add occurence"
   ]
  },
  {
   "cell_type": "code",
   "execution_count": null,
   "metadata": {},
   "outputs": [],
   "source": [
    "odf = pd.read_csv(\"O.dat\", header=None)\n",
    "#print(len(df_mv[df_mv['type_of_gene']=='protein-coding']))\n",
    "odf.head()"
   ]
  },
  {
   "cell_type": "code",
   "execution_count": null,
   "metadata": {},
   "outputs": [],
   "source": [
    "len(np.array(odf.loc[:,0].values*5000))"
   ]
  },
  {
   "cell_type": "code",
   "execution_count": null,
   "metadata": {},
   "outputs": [],
   "source": [
    "type_of_gene = 'protein-coding'"
   ]
  },
  {
   "cell_type": "code",
   "execution_count": null,
   "metadata": {},
   "outputs": [],
   "source": []
  },
  {
   "cell_type": "code",
   "execution_count": null,
   "metadata": {},
   "outputs": [],
   "source": [
    "len(gdf[gdf['type_of_gene']==type_of_gene].index)"
   ]
  },
  {
   "cell_type": "code",
   "execution_count": null,
   "metadata": {},
   "outputs": [],
   "source": [
    "len(df_mv.index)"
   ]
  },
  {
   "cell_type": "code",
   "execution_count": null,
   "metadata": {},
   "outputs": [],
   "source": [
    "gdfpc = gdf.loc[gdf['type_of_gene']==type_of_gene]\n",
    "gdfpc.insert(1, 'occurrence', np.array(odf.loc[:,0].values*5000))\n",
    "#df_mv.insert(3,'occurrence', 0)\n",
    "for g in df_mv.index.values:\n",
    "    df_mv.at[g, 'occurrence'] = gdfpc.loc[g[:15]]['occurrence']"
   ]
  },
  {
   "cell_type": "code",
   "execution_count": null,
   "metadata": {},
   "outputs": [],
   "source": [
    "df_mv.head()"
   ]
  },
  {
   "cell_type": "code",
   "execution_count": null,
   "metadata": {},
   "outputs": [],
   "source": [
    "df_mv.to_csv(\"meanVariances.csv\", header=True, index=True)"
   ]
  },
  {
   "cell_type": "code",
   "execution_count": null,
   "metadata": {},
   "outputs": [],
   "source": []
  },
  {
   "cell_type": "markdown",
   "metadata": {},
   "source": [
    "## clean floating points"
   ]
  },
  {
   "cell_type": "code",
   "execution_count": null,
   "metadata": {},
   "outputs": [],
   "source": [
    "df.to_csv(\"mainTable.csv\", index=False, header=True, float_format=\"%.1f\")"
   ]
  },
  {
   "cell_type": "code",
   "execution_count": null,
   "metadata": {},
   "outputs": [],
   "source": []
  },
  {
   "cell_type": "code",
   "execution_count": null,
   "metadata": {},
   "outputs": [],
   "source": []
  },
  {
   "cell_type": "code",
   "execution_count": null,
   "metadata": {},
   "outputs": [],
   "source": []
  },
  {
   "cell_type": "code",
   "execution_count": null,
   "metadata": {},
   "outputs": [],
   "source": []
  },
  {
   "cell_type": "code",
   "execution_count": null,
   "metadata": {},
   "outputs": [],
   "source": []
  },
  {
   "cell_type": "markdown",
   "metadata": {},
   "source": [
    "# File list and properties"
   ]
  },
  {
   "cell_type": "code",
   "execution_count": null,
   "metadata": {},
   "outputs": [],
   "source": [
    "#df_files = pd.read_csv(\"files.txt\")\n",
    "#df_files = pd.DataFrame(index=[sample[:36] for sample in df_files.columns.values[1:]])"
   ]
  },
  {
   "cell_type": "code",
   "execution_count": null,
   "metadata": {},
   "outputs": [],
   "source": [
    "#df_files = pd.read_csv(\"files.txt\", index_col=[0], header=None)\n",
    "df_files.insert(0,'primary_site','')\n",
    "df_files.insert(1,'disease_type', '')\n",
    "df_files.head()"
   ]
  },
  {
   "cell_type": "code",
   "execution_count": null,
   "metadata": {},
   "outputs": [],
   "source": [
    "#for sample in df_files.index:\n",
    "for sample in df_files[df_files['primary_site']==''].index:\n",
    "    try:\n",
    "        sdf=queryFile(sample+'.FPKM.txt.gz')\n",
    "        df_files.at[sample,'primary_site'] = sdf['primary_site'][0]\n",
    "        df_files.at[sample, 'disease_type'] = sdf['disease_type'][0]\n",
    "    except:\n",
    "        for i in range(10):\n",
    "            try:\n",
    "                sdf=queryFile(sample+'%1.0f.FPKM.txt'%i)\n",
    "                df_files.drop(labels=sample, axis=0, inplace=True)\n",
    "                sample = sample+'%d'%i\n",
    "                df_files.at[sample,'primary_site'] = sdf['primary_site'][0]\n",
    "                df_files.at[sample, 'disease_type'] = sdf['disease_type'][0]\n",
    "                break\n",
    "            except:\n",
    "                continue"
   ]
  },
  {
   "cell_type": "code",
   "execution_count": null,
   "metadata": {},
   "outputs": [],
   "source": [
    "df_files.to_csv(\"files.txt\", index=True, header=True)"
   ]
  },
  {
   "cell_type": "code",
   "execution_count": null,
   "metadata": {},
   "outputs": [],
   "source": []
  },
  {
   "cell_type": "code",
   "execution_count": null,
   "metadata": {},
   "outputs": [],
   "source": []
  }
 ],
 "metadata": {
  "kernelspec": {
   "display_name": "Python 2",
   "language": "python",
   "name": "python2"
  },
  "language_info": {
   "codemirror_mode": {
    "name": "ipython",
    "version": 2
   },
   "file_extension": ".py",
   "mimetype": "text/x-python",
   "name": "python",
   "nbconvert_exporter": "python",
   "pygments_lexer": "ipython2",
   "version": "2.7.15"
  }
 },
 "nbformat": 4,
 "nbformat_minor": 2
}
