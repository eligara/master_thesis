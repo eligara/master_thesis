{
 "cells": [
  {
   "cell_type": "code",
   "execution_count": 1,
   "metadata": {},
   "outputs": [],
   "source": [
    "import os\n",
    "import sys\n",
    "import pandas as pd\n",
    "import numpy as np\n",
    "import regex as re\n",
    "import mygene\n",
    "from matplotlib import pyplot as plt"
   ]
  },
  {
   "cell_type": "code",
   "execution_count": 2,
   "metadata": {},
   "outputs": [],
   "source": [
    "mg = mygene.MyGeneInfo()"
   ]
  },
  {
   "cell_type": "code",
   "execution_count": 3,
   "metadata": {},
   "outputs": [],
   "source": [
    "#mg.getgene(\"ENSG00000198938\", 'name,symbol,refseq.rna,type_of_gene,exac.bp')"
   ]
  },
  {
   "cell_type": "code",
   "execution_count": 4,
   "metadata": {},
   "outputs": [],
   "source": [
    "working_dir = \"/Users/filippo/Developer/tesi\"\n",
    "os.chdir(working_dir)\n",
    "dirs = os.listdir(\"data\")"
   ]
  },
  {
   "cell_type": "code",
   "execution_count": 5,
   "metadata": {},
   "outputs": [
    {
     "data": {
      "text/plain": [
       "8935"
      ]
     },
     "execution_count": 5,
     "metadata": {},
     "output_type": "execute_result"
    }
   ],
   "source": [
    "len(dirs)"
   ]
  },
  {
   "cell_type": "code",
   "execution_count": 6,
   "metadata": {},
   "outputs": [
    {
     "name": "stdout",
     "output_type": "stream",
     "text": [
      "60483\n"
     ]
    },
    {
     "data": {
      "text/html": [
       "<div>\n",
       "<style scoped>\n",
       "    .dataframe tbody tr th:only-of-type {\n",
       "        vertical-align: middle;\n",
       "    }\n",
       "\n",
       "    .dataframe tbody tr th {\n",
       "        vertical-align: top;\n",
       "    }\n",
       "\n",
       "    .dataframe thead th {\n",
       "        text-align: right;\n",
       "    }\n",
       "</style>\n",
       "<table border=\"1\" class=\"dataframe\">\n",
       "  <thead>\n",
       "    <tr style=\"text-align: right;\">\n",
       "      <th></th>\n",
       "      <th>type_of_gene</th>\n",
       "    </tr>\n",
       "  </thead>\n",
       "  <tbody>\n",
       "    <tr>\n",
       "      <th>ENSG00000242268</th>\n",
       "      <td>intergenic</td>\n",
       "    </tr>\n",
       "    <tr>\n",
       "      <th>ENSG00000270112</th>\n",
       "      <td>unknown</td>\n",
       "    </tr>\n",
       "    <tr>\n",
       "      <th>ENSG00000167578</th>\n",
       "      <td>protein-coding</td>\n",
       "    </tr>\n",
       "    <tr>\n",
       "      <th>ENSG00000273842</th>\n",
       "      <td>unknown</td>\n",
       "    </tr>\n",
       "    <tr>\n",
       "      <th>ENSG00000078237</th>\n",
       "      <td>protein-coding</td>\n",
       "    </tr>\n",
       "  </tbody>\n",
       "</table>\n",
       "</div>"
      ],
      "text/plain": [
       "                   type_of_gene\n",
       "ENSG00000242268      intergenic\n",
       "ENSG00000270112         unknown\n",
       "ENSG00000167578  protein-coding\n",
       "ENSG00000273842         unknown\n",
       "ENSG00000078237  protein-coding"
      ]
     },
     "execution_count": 6,
     "metadata": {},
     "output_type": "execute_result"
    }
   ],
   "source": [
    "df = pd.read_csv((\"%s/genes.txt\"%working_dir), header=[0], index_col=[0])\n",
    "df.columns=[\"type_of_gene\"]\n",
    "print(len(df))\n",
    "df.head()"
   ]
  },
  {
   "cell_type": "code",
   "execution_count": 7,
   "metadata": {},
   "outputs": [],
   "source": [
    "uniq = [g[:15] for g in df.index.values]"
   ]
  },
  {
   "cell_type": "code",
   "execution_count": 8,
   "metadata": {},
   "outputs": [
    {
     "data": {
      "text/plain": [
       "60483"
      ]
     },
     "execution_count": 8,
     "metadata": {},
     "output_type": "execute_result"
    }
   ],
   "source": [
    "len(np.unique(uniq))"
   ]
  },
  {
   "cell_type": "code",
   "execution_count": 11,
   "metadata": {},
   "outputs": [],
   "source": [
    "df = pd.read_csv((\"%s/mainTable.csv\"%working_dir))\n",
    "genes = np.array([gene[:15] for gene in df.loc[:,'gene'].values])\n",
    "df['gene'] = genes\n",
    "#df = df.to_sparse(fill_value=0.)"
   ]
  },
  {
   "cell_type": "code",
   "execution_count": 12,
   "metadata": {},
   "outputs": [
    {
     "data": {
      "text/html": [
       "<div>\n",
       "<style scoped>\n",
       "    .dataframe tbody tr th:only-of-type {\n",
       "        vertical-align: middle;\n",
       "    }\n",
       "\n",
       "    .dataframe tbody tr th {\n",
       "        vertical-align: top;\n",
       "    }\n",
       "\n",
       "    .dataframe thead th {\n",
       "        text-align: right;\n",
       "    }\n",
       "</style>\n",
       "<table border=\"1\" class=\"dataframe\">\n",
       "  <thead>\n",
       "    <tr style=\"text-align: right;\">\n",
       "      <th></th>\n",
       "      <th>gene</th>\n",
       "      <th>85593c7d-7441-4d41-81d3-aaa17c7e398b.F</th>\n",
       "      <th>bfeaa9f7-e413-40b8-86ba-c9d26a96c240.F</th>\n",
       "      <th>426b94fe-fcff-49f2-9d0b-c7cb49bb5559.F</th>\n",
       "      <th>38083e21-7761-47c7-9112-769c7f85e283.F</th>\n",
       "      <th>6e2570b0-fc95-4ba9-a8a5-b79f6dea0246.F</th>\n",
       "      <th>21800024-cf76-4185-b57b-526539ccdba2.F</th>\n",
       "      <th>1f0f7598-d8c0-41ba-8b07-c958fecbb5f7.F</th>\n",
       "      <th>ea50d2da-4f84-46dc-8036-c34392793aed.F</th>\n",
       "      <th>7b2c7499-15c0-4926-a12c-4561df34954b.F</th>\n",
       "      <th>...</th>\n",
       "      <th>bd556315-a050-465f-9a41-bdebe7e3eb61.F</th>\n",
       "      <th>fde7c419-b8c0-4e04-8512-0e3b8eadebda.F</th>\n",
       "      <th>46551ef6-d1de-43c3-8ea5-5ade8a5bffd7.F</th>\n",
       "      <th>1a587b92-0a11-47f0-83c2-77a2b6de1088.F</th>\n",
       "      <th>171f664b-3226-4944-9219-91d2a7fdfb5f.F</th>\n",
       "      <th>9c77be54-d58e-4dec-8894-acb71a12cac5.F</th>\n",
       "      <th>2556ce90-db5f-4beb-897a-db3cf556e054.F</th>\n",
       "      <th>234724ab-6f82-4ac9-9948-37ffd9c3e418.F</th>\n",
       "      <th>cd550979-69b5-43d0-9724-cc25eb502cb8.F</th>\n",
       "      <th>03872f69-93f5-4d6c-aeb3-dadbc2762682.F</th>\n",
       "    </tr>\n",
       "  </thead>\n",
       "  <tbody>\n",
       "    <tr>\n",
       "      <th>0</th>\n",
       "      <td>ENSG00000277889</td>\n",
       "      <td>0.0</td>\n",
       "      <td>0.000000</td>\n",
       "      <td>0.000000</td>\n",
       "      <td>0.000000</td>\n",
       "      <td>3.255308</td>\n",
       "      <td>0.000000</td>\n",
       "      <td>0.000000</td>\n",
       "      <td>0.000000</td>\n",
       "      <td>0.000000</td>\n",
       "      <td>...</td>\n",
       "      <td>0.000000</td>\n",
       "      <td>0.000000</td>\n",
       "      <td>0.000000</td>\n",
       "      <td>0.000000</td>\n",
       "      <td>0.000000</td>\n",
       "      <td>0.000000</td>\n",
       "      <td>0.000000</td>\n",
       "      <td>0.000000</td>\n",
       "      <td>0.00000</td>\n",
       "      <td>0.000000</td>\n",
       "    </tr>\n",
       "    <tr>\n",
       "      <th>1</th>\n",
       "      <td>ENSG00000263834</td>\n",
       "      <td>0.0</td>\n",
       "      <td>0.765871</td>\n",
       "      <td>10.416107</td>\n",
       "      <td>0.420383</td>\n",
       "      <td>23.487668</td>\n",
       "      <td>0.000000</td>\n",
       "      <td>1.121337</td>\n",
       "      <td>0.000000</td>\n",
       "      <td>3.671882</td>\n",
       "      <td>...</td>\n",
       "      <td>0.852685</td>\n",
       "      <td>0.620916</td>\n",
       "      <td>0.250093</td>\n",
       "      <td>4.610736</td>\n",
       "      <td>0.000000</td>\n",
       "      <td>0.205483</td>\n",
       "      <td>1.598151</td>\n",
       "      <td>2.165402</td>\n",
       "      <td>2.29826</td>\n",
       "      <td>0.000000</td>\n",
       "    </tr>\n",
       "    <tr>\n",
       "      <th>2</th>\n",
       "      <td>ENSG00000263631</td>\n",
       "      <td>0.0</td>\n",
       "      <td>0.000000</td>\n",
       "      <td>0.000000</td>\n",
       "      <td>0.000000</td>\n",
       "      <td>0.000000</td>\n",
       "      <td>0.000000</td>\n",
       "      <td>0.000000</td>\n",
       "      <td>0.000000</td>\n",
       "      <td>0.000000</td>\n",
       "      <td>...</td>\n",
       "      <td>0.000000</td>\n",
       "      <td>0.000000</td>\n",
       "      <td>0.000000</td>\n",
       "      <td>0.000000</td>\n",
       "      <td>0.000000</td>\n",
       "      <td>0.000000</td>\n",
       "      <td>0.000000</td>\n",
       "      <td>0.000000</td>\n",
       "      <td>0.00000</td>\n",
       "      <td>0.000000</td>\n",
       "    </tr>\n",
       "    <tr>\n",
       "      <th>3</th>\n",
       "      <td>ENSG00000277073</td>\n",
       "      <td>0.0</td>\n",
       "      <td>0.000000</td>\n",
       "      <td>0.000000</td>\n",
       "      <td>0.000000</td>\n",
       "      <td>0.000000</td>\n",
       "      <td>0.000000</td>\n",
       "      <td>0.000000</td>\n",
       "      <td>0.000000</td>\n",
       "      <td>0.000000</td>\n",
       "      <td>...</td>\n",
       "      <td>0.000000</td>\n",
       "      <td>0.000000</td>\n",
       "      <td>0.000000</td>\n",
       "      <td>0.000000</td>\n",
       "      <td>0.000000</td>\n",
       "      <td>0.000000</td>\n",
       "      <td>0.000000</td>\n",
       "      <td>0.000000</td>\n",
       "      <td>0.00000</td>\n",
       "      <td>0.000000</td>\n",
       "    </tr>\n",
       "    <tr>\n",
       "      <th>4</th>\n",
       "      <td>ENSG00000266392</td>\n",
       "      <td>0.0</td>\n",
       "      <td>0.320126</td>\n",
       "      <td>0.000000</td>\n",
       "      <td>2.372161</td>\n",
       "      <td>0.000000</td>\n",
       "      <td>1.053509</td>\n",
       "      <td>2.460711</td>\n",
       "      <td>2.439732</td>\n",
       "      <td>0.727014</td>\n",
       "      <td>...</td>\n",
       "      <td>2.138481</td>\n",
       "      <td>0.259536</td>\n",
       "      <td>0.940828</td>\n",
       "      <td>1.284826</td>\n",
       "      <td>0.563846</td>\n",
       "      <td>4.122701</td>\n",
       "      <td>0.000000</td>\n",
       "      <td>3.394182</td>\n",
       "      <td>2.59375</td>\n",
       "      <td>1.242914</td>\n",
       "    </tr>\n",
       "  </tbody>\n",
       "</table>\n",
       "<p>5 rows × 5001 columns</p>\n",
       "</div>"
      ],
      "text/plain": [
       "              gene  85593c7d-7441-4d41-81d3-aaa17c7e398b.F  \\\n",
       "0  ENSG00000277889                                     0.0   \n",
       "1  ENSG00000263834                                     0.0   \n",
       "2  ENSG00000263631                                     0.0   \n",
       "3  ENSG00000277073                                     0.0   \n",
       "4  ENSG00000266392                                     0.0   \n",
       "\n",
       "   bfeaa9f7-e413-40b8-86ba-c9d26a96c240.F  \\\n",
       "0                                0.000000   \n",
       "1                                0.765871   \n",
       "2                                0.000000   \n",
       "3                                0.000000   \n",
       "4                                0.320126   \n",
       "\n",
       "   426b94fe-fcff-49f2-9d0b-c7cb49bb5559.F  \\\n",
       "0                                0.000000   \n",
       "1                               10.416107   \n",
       "2                                0.000000   \n",
       "3                                0.000000   \n",
       "4                                0.000000   \n",
       "\n",
       "   38083e21-7761-47c7-9112-769c7f85e283.F  \\\n",
       "0                                0.000000   \n",
       "1                                0.420383   \n",
       "2                                0.000000   \n",
       "3                                0.000000   \n",
       "4                                2.372161   \n",
       "\n",
       "   6e2570b0-fc95-4ba9-a8a5-b79f6dea0246.F  \\\n",
       "0                                3.255308   \n",
       "1                               23.487668   \n",
       "2                                0.000000   \n",
       "3                                0.000000   \n",
       "4                                0.000000   \n",
       "\n",
       "   21800024-cf76-4185-b57b-526539ccdba2.F  \\\n",
       "0                                0.000000   \n",
       "1                                0.000000   \n",
       "2                                0.000000   \n",
       "3                                0.000000   \n",
       "4                                1.053509   \n",
       "\n",
       "   1f0f7598-d8c0-41ba-8b07-c958fecbb5f7.F  \\\n",
       "0                                0.000000   \n",
       "1                                1.121337   \n",
       "2                                0.000000   \n",
       "3                                0.000000   \n",
       "4                                2.460711   \n",
       "\n",
       "   ea50d2da-4f84-46dc-8036-c34392793aed.F  \\\n",
       "0                                0.000000   \n",
       "1                                0.000000   \n",
       "2                                0.000000   \n",
       "3                                0.000000   \n",
       "4                                2.439732   \n",
       "\n",
       "   7b2c7499-15c0-4926-a12c-4561df34954b.F  \\\n",
       "0                                0.000000   \n",
       "1                                3.671882   \n",
       "2                                0.000000   \n",
       "3                                0.000000   \n",
       "4                                0.727014   \n",
       "\n",
       "                    ...                    \\\n",
       "0                   ...                     \n",
       "1                   ...                     \n",
       "2                   ...                     \n",
       "3                   ...                     \n",
       "4                   ...                     \n",
       "\n",
       "   bd556315-a050-465f-9a41-bdebe7e3eb61.F  \\\n",
       "0                                0.000000   \n",
       "1                                0.852685   \n",
       "2                                0.000000   \n",
       "3                                0.000000   \n",
       "4                                2.138481   \n",
       "\n",
       "   fde7c419-b8c0-4e04-8512-0e3b8eadebda.F  \\\n",
       "0                                0.000000   \n",
       "1                                0.620916   \n",
       "2                                0.000000   \n",
       "3                                0.000000   \n",
       "4                                0.259536   \n",
       "\n",
       "   46551ef6-d1de-43c3-8ea5-5ade8a5bffd7.F  \\\n",
       "0                                0.000000   \n",
       "1                                0.250093   \n",
       "2                                0.000000   \n",
       "3                                0.000000   \n",
       "4                                0.940828   \n",
       "\n",
       "   1a587b92-0a11-47f0-83c2-77a2b6de1088.F  \\\n",
       "0                                0.000000   \n",
       "1                                4.610736   \n",
       "2                                0.000000   \n",
       "3                                0.000000   \n",
       "4                                1.284826   \n",
       "\n",
       "   171f664b-3226-4944-9219-91d2a7fdfb5f.F  \\\n",
       "0                                0.000000   \n",
       "1                                0.000000   \n",
       "2                                0.000000   \n",
       "3                                0.000000   \n",
       "4                                0.563846   \n",
       "\n",
       "   9c77be54-d58e-4dec-8894-acb71a12cac5.F  \\\n",
       "0                                0.000000   \n",
       "1                                0.205483   \n",
       "2                                0.000000   \n",
       "3                                0.000000   \n",
       "4                                4.122701   \n",
       "\n",
       "   2556ce90-db5f-4beb-897a-db3cf556e054.F  \\\n",
       "0                                0.000000   \n",
       "1                                1.598151   \n",
       "2                                0.000000   \n",
       "3                                0.000000   \n",
       "4                                0.000000   \n",
       "\n",
       "   234724ab-6f82-4ac9-9948-37ffd9c3e418.F  \\\n",
       "0                                0.000000   \n",
       "1                                2.165402   \n",
       "2                                0.000000   \n",
       "3                                0.000000   \n",
       "4                                3.394182   \n",
       "\n",
       "   cd550979-69b5-43d0-9724-cc25eb502cb8.F  \\\n",
       "0                                 0.00000   \n",
       "1                                 2.29826   \n",
       "2                                 0.00000   \n",
       "3                                 0.00000   \n",
       "4                                 2.59375   \n",
       "\n",
       "   03872f69-93f5-4d6c-aeb3-dadbc2762682.F  \n",
       "0                                0.000000  \n",
       "1                                0.000000  \n",
       "2                                0.000000  \n",
       "3                                0.000000  \n",
       "4                                1.242914  \n",
       "\n",
       "[5 rows x 5001 columns]"
      ]
     },
     "execution_count": 12,
     "metadata": {},
     "output_type": "execute_result"
    }
   ],
   "source": [
    "df.head()"
   ]
  },
  {
   "cell_type": "code",
   "execution_count": 13,
   "metadata": {},
   "outputs": [
    {
     "name": "stdout",
     "output_type": "stream",
     "text": [
      "genes:1424\trealizations:5000\n"
     ]
    }
   ],
   "source": [
    "ngenes = len(df['gene'])\n",
    "nfiles = len(df.loc[0,:])-1\n",
    "print(\"genes:%d\\trealizations:%d\"%(ngenes,nfiles))"
   ]
  },
  {
   "cell_type": "code",
   "execution_count": null,
   "metadata": {},
   "outputs": [],
   "source": []
  },
  {
   "cell_type": "markdown",
   "metadata": {},
   "source": [
    "## Means sigmas\n",
    "thresholds are applied for FPKM between 0.1 and 1e5"
   ]
  },
  {
   "cell_type": "code",
   "execution_count": null,
   "metadata": {},
   "outputs": [],
   "source": [
    "%timeit\n",
    "means = []\n",
    "for i,g in enumerate(df.loc[:,df.keys()[0]].values):\n",
    "    means.append(np.average(df.loc[i,df.keys()[1:]].values))\n",
    "    if(i%100==0):\n",
    "        print(\"elapsed %d\"%i)"
   ]
  },
  {
   "cell_type": "code",
   "execution_count": null,
   "metadata": {},
   "outputs": [],
   "source": [
    "%timeit\n",
    "variances = []\n",
    "for i,g in enumerate(df.loc[:,df.keys()[0]].values):\n",
    "    variances.append(np.var(df.loc[i,df.keys()[1:]].values))\n",
    "    if(i%100==0):\n",
    "        print(\"elapsed %d\"%i)"
   ]
  },
  {
   "cell_type": "code",
   "execution_count": null,
   "metadata": {},
   "outputs": [],
   "source": [
    "df_mv = pd.DataFrame(data=np.array(means), columns=['mean'], index=df.loc[:,df.keys()[0]].values)\n",
    "df_mv.insert(1, 'variance', np.array(variances))\n",
    "df_mv.head()\n",
    "df_mv.to_csv(\"meanVariances.csv\")"
   ]
  },
  {
   "cell_type": "markdown",
   "metadata": {},
   "source": [
    "## manipulate meansigmas.csv"
   ]
  },
  {
   "cell_type": "code",
   "execution_count": 40,
   "metadata": {},
   "outputs": [
    {
     "data": {
      "text/html": [
       "<div>\n",
       "<style scoped>\n",
       "    .dataframe tbody tr th:only-of-type {\n",
       "        vertical-align: middle;\n",
       "    }\n",
       "\n",
       "    .dataframe tbody tr th {\n",
       "        vertical-align: top;\n",
       "    }\n",
       "\n",
       "    .dataframe thead th {\n",
       "        text-align: right;\n",
       "    }\n",
       "</style>\n",
       "<table border=\"1\" class=\"dataframe\">\n",
       "  <thead>\n",
       "    <tr style=\"text-align: right;\">\n",
       "      <th></th>\n",
       "      <th>mean</th>\n",
       "      <th>type_of_gene</th>\n",
       "      <th>variance</th>\n",
       "    </tr>\n",
       "  </thead>\n",
       "  <tbody>\n",
       "    <tr>\n",
       "      <th>ENSG00000242268</th>\n",
       "      <td>0.165158</td>\n",
       "      <td>intergenic</td>\n",
       "      <td>0.292284</td>\n",
       "    </tr>\n",
       "    <tr>\n",
       "      <th>ENSG00000270112</th>\n",
       "      <td>0.028165</td>\n",
       "      <td>unknown</td>\n",
       "      <td>0.016174</td>\n",
       "    </tr>\n",
       "    <tr>\n",
       "      <th>ENSG00000167578</th>\n",
       "      <td>3.861123</td>\n",
       "      <td>protein-coding</td>\n",
       "      <td>6.342788</td>\n",
       "    </tr>\n",
       "    <tr>\n",
       "      <th>ENSG00000273842</th>\n",
       "      <td>0.006980</td>\n",
       "      <td>unknown</td>\n",
       "      <td>0.006047</td>\n",
       "    </tr>\n",
       "    <tr>\n",
       "      <th>ENSG00000078237</th>\n",
       "      <td>4.457380</td>\n",
       "      <td>protein-coding</td>\n",
       "      <td>17.953745</td>\n",
       "    </tr>\n",
       "  </tbody>\n",
       "</table>\n",
       "</div>"
      ],
      "text/plain": [
       "                     mean    type_of_gene   variance\n",
       "ENSG00000242268  0.165158      intergenic   0.292284\n",
       "ENSG00000270112  0.028165         unknown   0.016174\n",
       "ENSG00000167578  3.861123  protein-coding   6.342788\n",
       "ENSG00000273842  0.006980         unknown   0.006047\n",
       "ENSG00000078237  4.457380  protein-coding  17.953745"
      ]
     },
     "execution_count": 40,
     "metadata": {},
     "output_type": "execute_result"
    }
   ],
   "source": [
    "df_mv = pd.read_csv(\"meanVariances.csv\", index_col = [0])\n",
    "df_mv.head()"
   ]
  },
  {
   "cell_type": "markdown",
   "metadata": {},
   "source": [
    "### Add type of gene"
   ]
  },
  {
   "cell_type": "code",
   "execution_count": 41,
   "metadata": {},
   "outputs": [
    {
     "data": {
      "text/html": [
       "<div>\n",
       "<style scoped>\n",
       "    .dataframe tbody tr th:only-of-type {\n",
       "        vertical-align: middle;\n",
       "    }\n",
       "\n",
       "    .dataframe tbody tr th {\n",
       "        vertical-align: top;\n",
       "    }\n",
       "\n",
       "    .dataframe thead th {\n",
       "        text-align: right;\n",
       "    }\n",
       "</style>\n",
       "<table border=\"1\" class=\"dataframe\">\n",
       "  <thead>\n",
       "    <tr style=\"text-align: right;\">\n",
       "      <th></th>\n",
       "      <th>type_of_gene</th>\n",
       "    </tr>\n",
       "  </thead>\n",
       "  <tbody>\n",
       "    <tr>\n",
       "      <th>ENSG00000242268</th>\n",
       "      <td>intergenic</td>\n",
       "    </tr>\n",
       "    <tr>\n",
       "      <th>ENSG00000270112</th>\n",
       "      <td>unknown</td>\n",
       "    </tr>\n",
       "    <tr>\n",
       "      <th>ENSG00000167578</th>\n",
       "      <td>protein-coding</td>\n",
       "    </tr>\n",
       "    <tr>\n",
       "      <th>ENSG00000273842</th>\n",
       "      <td>unknown</td>\n",
       "    </tr>\n",
       "    <tr>\n",
       "      <th>ENSG00000078237</th>\n",
       "      <td>protein-coding</td>\n",
       "    </tr>\n",
       "  </tbody>\n",
       "</table>\n",
       "</div>"
      ],
      "text/plain": [
       "                   type_of_gene\n",
       "ENSG00000242268      intergenic\n",
       "ENSG00000270112         unknown\n",
       "ENSG00000167578  protein-coding\n",
       "ENSG00000273842         unknown\n",
       "ENSG00000078237  protein-coding"
      ]
     },
     "execution_count": 41,
     "metadata": {},
     "output_type": "execute_result"
    }
   ],
   "source": [
    "gdf = pd.read_csv(\"genes.txt\", index_col=[0])\n",
    "gdf.head()"
   ]
  },
  {
   "cell_type": "code",
   "execution_count": 42,
   "metadata": {},
   "outputs": [
    {
     "data": {
      "text/plain": [
       "60483"
      ]
     },
     "execution_count": 42,
     "metadata": {},
     "output_type": "execute_result"
    }
   ],
   "source": [
    "len(gdf)"
   ]
  },
  {
   "cell_type": "code",
   "execution_count": 33,
   "metadata": {},
   "outputs": [],
   "source": [
    "df_mv = df_mv.drop(labels='type_of_gene', axis=1)\n",
    "df_mv.insert(1,'type_of_gene', '')\n",
    "for g in df_mv[df_mv['type_of_gene']==type_of_gene].index.values:\n",
    "    df_mv.at[g, 'type_of_gene'] = gdf.loc[g[:15]]['type_of_gene']"
   ]
  },
  {
   "cell_type": "code",
   "execution_count": 43,
   "metadata": {},
   "outputs": [],
   "source": [
    "df_mv = df_mv[df_mv['type_of_gene']==type_of_gene]\n",
    "df_mv.to_csv(\"meanVariances.csv\", index=True, header=True)"
   ]
  },
  {
   "cell_type": "markdown",
   "metadata": {},
   "source": [
    "### Add occurence"
   ]
  },
  {
   "cell_type": "code",
   "execution_count": 44,
   "metadata": {},
   "outputs": [
    {
     "data": {
      "text/html": [
       "<div>\n",
       "<style scoped>\n",
       "    .dataframe tbody tr th:only-of-type {\n",
       "        vertical-align: middle;\n",
       "    }\n",
       "\n",
       "    .dataframe tbody tr th {\n",
       "        vertical-align: top;\n",
       "    }\n",
       "\n",
       "    .dataframe thead th {\n",
       "        text-align: right;\n",
       "    }\n",
       "</style>\n",
       "<table border=\"1\" class=\"dataframe\">\n",
       "  <thead>\n",
       "    <tr style=\"text-align: right;\">\n",
       "      <th></th>\n",
       "      <th>0</th>\n",
       "    </tr>\n",
       "  </thead>\n",
       "  <tbody>\n",
       "    <tr>\n",
       "      <th>0</th>\n",
       "      <td>0.0406</td>\n",
       "    </tr>\n",
       "    <tr>\n",
       "      <th>1</th>\n",
       "      <td>0.7424</td>\n",
       "    </tr>\n",
       "    <tr>\n",
       "      <th>2</th>\n",
       "      <td>0.0094</td>\n",
       "    </tr>\n",
       "    <tr>\n",
       "      <th>3</th>\n",
       "      <td>0.0460</td>\n",
       "    </tr>\n",
       "    <tr>\n",
       "      <th>4</th>\n",
       "      <td>0.8452</td>\n",
       "    </tr>\n",
       "  </tbody>\n",
       "</table>\n",
       "</div>"
      ],
      "text/plain": [
       "        0\n",
       "0  0.0406\n",
       "1  0.7424\n",
       "2  0.0094\n",
       "3  0.0460\n",
       "4  0.8452"
      ]
     },
     "execution_count": 44,
     "metadata": {},
     "output_type": "execute_result"
    }
   ],
   "source": [
    "odf = pd.read_csv(\"O.dat\", header=None)\n",
    "#print(len(df_mv[df_mv['type_of_gene']=='protein-coding']))\n",
    "odf.head()"
   ]
  },
  {
   "cell_type": "code",
   "execution_count": 45,
   "metadata": {},
   "outputs": [
    {
     "data": {
      "text/plain": [
       "1424"
      ]
     },
     "execution_count": 45,
     "metadata": {},
     "output_type": "execute_result"
    }
   ],
   "source": [
    "len(np.array(odf.loc[:,0].values*5000))"
   ]
  },
  {
   "cell_type": "code",
   "execution_count": 46,
   "metadata": {},
   "outputs": [],
   "source": [
    "type_of_gene = 'microRNA'"
   ]
  },
  {
   "cell_type": "code",
   "execution_count": null,
   "metadata": {},
   "outputs": [],
   "source": []
  },
  {
   "cell_type": "code",
   "execution_count": 47,
   "metadata": {},
   "outputs": [
    {
     "data": {
      "text/plain": [
       "1424"
      ]
     },
     "execution_count": 47,
     "metadata": {},
     "output_type": "execute_result"
    }
   ],
   "source": [
    "len(gdf[gdf['type_of_gene']==type_of_gene].index)"
   ]
  },
  {
   "cell_type": "code",
   "execution_count": 48,
   "metadata": {},
   "outputs": [
    {
     "data": {
      "text/plain": [
       "1424"
      ]
     },
     "execution_count": 48,
     "metadata": {},
     "output_type": "execute_result"
    }
   ],
   "source": [
    "len(df_mv.index)"
   ]
  },
  {
   "cell_type": "code",
   "execution_count": 49,
   "metadata": {},
   "outputs": [],
   "source": [
    "gdfpc = gdf.loc[gdf['type_of_gene']==type_of_gene]\n",
    "gdfpc.insert(1, 'occurrence', np.array(odf.loc[:,0].values*5000))\n",
    "#df_mv.insert(3,'occurrence', 0)\n",
    "for g in df_mv.index.values:\n",
    "    df_mv.at[g, 'occurrence'] = gdfpc.loc[g[:15]]['occurrence']"
   ]
  },
  {
   "cell_type": "code",
   "execution_count": 50,
   "metadata": {},
   "outputs": [
    {
     "data": {
      "text/html": [
       "<div>\n",
       "<style scoped>\n",
       "    .dataframe tbody tr th:only-of-type {\n",
       "        vertical-align: middle;\n",
       "    }\n",
       "\n",
       "    .dataframe tbody tr th {\n",
       "        vertical-align: top;\n",
       "    }\n",
       "\n",
       "    .dataframe thead th {\n",
       "        text-align: right;\n",
       "    }\n",
       "</style>\n",
       "<table border=\"1\" class=\"dataframe\">\n",
       "  <thead>\n",
       "    <tr style=\"text-align: right;\">\n",
       "      <th></th>\n",
       "      <th>mean</th>\n",
       "      <th>type_of_gene</th>\n",
       "      <th>variance</th>\n",
       "      <th>occurrence</th>\n",
       "    </tr>\n",
       "  </thead>\n",
       "  <tbody>\n",
       "    <tr>\n",
       "      <th>ENSG00000277889</th>\n",
       "      <td>0.012846</td>\n",
       "      <td>microRNA</td>\n",
       "      <td>0.008601</td>\n",
       "      <td>203.0</td>\n",
       "    </tr>\n",
       "    <tr>\n",
       "      <th>ENSG00000263834</th>\n",
       "      <td>1.192730</td>\n",
       "      <td>microRNA</td>\n",
       "      <td>4.501360</td>\n",
       "      <td>3712.0</td>\n",
       "    </tr>\n",
       "    <tr>\n",
       "      <th>ENSG00000263631</th>\n",
       "      <td>0.004190</td>\n",
       "      <td>microRNA</td>\n",
       "      <td>0.002808</td>\n",
       "      <td>47.0</td>\n",
       "    </tr>\n",
       "    <tr>\n",
       "      <th>ENSG00000277073</th>\n",
       "      <td>0.013996</td>\n",
       "      <td>microRNA</td>\n",
       "      <td>0.007812</td>\n",
       "      <td>230.0</td>\n",
       "    </tr>\n",
       "    <tr>\n",
       "      <th>ENSG00000266392</th>\n",
       "      <td>1.741025</td>\n",
       "      <td>microRNA</td>\n",
       "      <td>7.022659</td>\n",
       "      <td>4226.0</td>\n",
       "    </tr>\n",
       "  </tbody>\n",
       "</table>\n",
       "</div>"
      ],
      "text/plain": [
       "                     mean type_of_gene  variance  occurrence\n",
       "ENSG00000277889  0.012846     microRNA  0.008601       203.0\n",
       "ENSG00000263834  1.192730     microRNA  4.501360      3712.0\n",
       "ENSG00000263631  0.004190     microRNA  0.002808        47.0\n",
       "ENSG00000277073  0.013996     microRNA  0.007812       230.0\n",
       "ENSG00000266392  1.741025     microRNA  7.022659      4226.0"
      ]
     },
     "execution_count": 50,
     "metadata": {},
     "output_type": "execute_result"
    }
   ],
   "source": [
    "df_mv.head()"
   ]
  },
  {
   "cell_type": "code",
   "execution_count": 51,
   "metadata": {},
   "outputs": [],
   "source": [
    "df_mv.to_csv(\"meanVariances.csv\", header=True, index=True)"
   ]
  },
  {
   "cell_type": "code",
   "execution_count": null,
   "metadata": {},
   "outputs": [],
   "source": []
  },
  {
   "cell_type": "markdown",
   "metadata": {},
   "source": [
    "## clean floating points"
   ]
  },
  {
   "cell_type": "code",
   "execution_count": 52,
   "metadata": {},
   "outputs": [],
   "source": [
    "df.to_csv(\"mainTable.csv\", index=False, header=True, float_format=\"%.1f\")"
   ]
  },
  {
   "cell_type": "code",
   "execution_count": null,
   "metadata": {},
   "outputs": [],
   "source": []
  },
  {
   "cell_type": "code",
   "execution_count": null,
   "metadata": {},
   "outputs": [],
   "source": []
  }
 ],
 "metadata": {
  "kernelspec": {
   "display_name": "Python 2",
   "language": "python",
   "name": "python2"
  },
  "language_info": {
   "codemirror_mode": {
    "name": "ipython",
    "version": 2
   },
   "file_extension": ".py",
   "mimetype": "text/x-python",
   "name": "python",
   "nbconvert_exporter": "python",
   "pygments_lexer": "ipython2",
   "version": "2.7.15"
  }
 },
 "nbformat": 4,
 "nbformat_minor": 2
}
