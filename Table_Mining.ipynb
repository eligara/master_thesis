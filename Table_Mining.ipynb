{
 "cells": [
  {
   "cell_type": "code",
   "execution_count": 11,
   "metadata": {},
   "outputs": [],
   "source": [
    "import os\n",
    "import sys\n",
    "import pandas as pd\n",
    "import numpy as np\n",
    "import regex as re\n",
    "from  TCGA_files import queryFile\n",
    "from matplotlib import pyplot as plt"
   ]
  },
  {
   "cell_type": "code",
   "execution_count": 12,
   "metadata": {},
   "outputs": [],
   "source": [
    "working_dir = \"/Users/filippo/Developer/tesi\"\n",
    "os.chdir(working_dir)"
   ]
  },
  {
   "cell_type": "code",
   "execution_count": 13,
   "metadata": {},
   "outputs": [
    {
     "name": "stdout",
     "output_type": "stream",
     "text": [
      "60483\n"
     ]
    },
    {
     "data": {
      "text/html": [
       "<div>\n",
       "<style scoped>\n",
       "    .dataframe tbody tr th:only-of-type {\n",
       "        vertical-align: middle;\n",
       "    }\n",
       "\n",
       "    .dataframe tbody tr th {\n",
       "        vertical-align: top;\n",
       "    }\n",
       "\n",
       "    .dataframe thead th {\n",
       "        text-align: right;\n",
       "    }\n",
       "</style>\n",
       "<table border=\"1\" class=\"dataframe\">\n",
       "  <thead>\n",
       "    <tr style=\"text-align: right;\">\n",
       "      <th></th>\n",
       "      <th>lenght</th>\n",
       "      <th>type_of_gene</th>\n",
       "    </tr>\n",
       "  </thead>\n",
       "  <tbody>\n",
       "    <tr>\n",
       "      <th>ENSG00000242268</th>\n",
       "      <td>NaN</td>\n",
       "      <td>intergenic</td>\n",
       "    </tr>\n",
       "    <tr>\n",
       "      <th>ENSG00000270112</th>\n",
       "      <td>NaN</td>\n",
       "      <td>unknown</td>\n",
       "    </tr>\n",
       "    <tr>\n",
       "      <th>ENSG00000167578</th>\n",
       "      <td>18722.0</td>\n",
       "      <td>protein-coding</td>\n",
       "    </tr>\n",
       "    <tr>\n",
       "      <th>ENSG00000273842</th>\n",
       "      <td>NaN</td>\n",
       "      <td>unknown</td>\n",
       "    </tr>\n",
       "    <tr>\n",
       "      <th>ENSG00000078237</th>\n",
       "      <td>46830.0</td>\n",
       "      <td>protein-coding</td>\n",
       "    </tr>\n",
       "  </tbody>\n",
       "</table>\n",
       "</div>"
      ],
      "text/plain": [
       "                  lenght    type_of_gene\n",
       "ENSG00000242268      NaN      intergenic\n",
       "ENSG00000270112      NaN         unknown\n",
       "ENSG00000167578  18722.0  protein-coding\n",
       "ENSG00000273842      NaN         unknown\n",
       "ENSG00000078237  46830.0  protein-coding"
      ]
     },
     "execution_count": 13,
     "metadata": {},
     "output_type": "execute_result"
    }
   ],
   "source": [
    "df = pd.read_csv((\"%s/genes.txt\"%working_dir), header=[0], index_col=[0])\n",
    "print(len(df))\n",
    "df.head()"
   ]
  },
  {
   "cell_type": "code",
   "execution_count": 14,
   "metadata": {},
   "outputs": [],
   "source": [
    "uniq = [g[:15] for g in df.index.values]"
   ]
  },
  {
   "cell_type": "code",
   "execution_count": 15,
   "metadata": {},
   "outputs": [
    {
     "data": {
      "text/plain": [
       "60483"
      ]
     },
     "execution_count": 15,
     "metadata": {},
     "output_type": "execute_result"
    }
   ],
   "source": [
    "len(np.unique(uniq))"
   ]
  },
  {
   "cell_type": "code",
   "execution_count": 16,
   "metadata": {},
   "outputs": [],
   "source": [
    "#q_many = mg.getgenes(df[df['type_of_gene']=='protein-coding'].index.values,'symbol,genomic_pos,genomic_pos_hg19')\n",
    "#df_lenghts = df[df['type_of_gene']=='protein-coding']\n",
    "#df_lenghts = df\n",
    "#df_lenghts.insert(0,'lenght',lenghts)\n",
    "#df_lenghts.to_csv(\"genes_l.txt\",header=True,index=True)"
   ]
  },
  {
   "cell_type": "code",
   "execution_count": 17,
   "metadata": {},
   "outputs": [],
   "source": [
    "q_many = pd.read_csv(\"genes.txt\", index_col=[0], header=[0])\n",
    "q_many = q_many[q_many['type_of_gene']=='protein-coding']\n",
    "lenghts = q_many['lenght']"
   ]
  },
  {
   "cell_type": "code",
   "execution_count": 18,
   "metadata": {},
   "outputs": [],
   "source": [
    "df = pd.read_csv((\"%s/mainTable.csv\"%working_dir), index_col=[0])"
   ]
  },
  {
   "cell_type": "code",
   "execution_count": 19,
   "metadata": {},
   "outputs": [
    {
     "data": {
      "text/html": [
       "<div>\n",
       "<style scoped>\n",
       "    .dataframe tbody tr th:only-of-type {\n",
       "        vertical-align: middle;\n",
       "    }\n",
       "\n",
       "    .dataframe tbody tr th {\n",
       "        vertical-align: top;\n",
       "    }\n",
       "\n",
       "    .dataframe thead th {\n",
       "        text-align: right;\n",
       "    }\n",
       "</style>\n",
       "<table border=\"1\" class=\"dataframe\">\n",
       "  <thead>\n",
       "    <tr style=\"text-align: right;\">\n",
       "      <th></th>\n",
       "      <th>d2587070-cb7d-440d-ae49-52f5077248e6.htseq.counts.gz</th>\n",
       "      <th>97675f21-ce94-4e7c-bc46-179cc2903bf3.htseq.counts.gz</th>\n",
       "      <th>646d58e7-b7e2-4b2b-bb37-3ca20b601213.htseq.counts.gz</th>\n",
       "      <th>0f2b58b4-7d91-48f3-8901-b624e3d6aa51.htseq.counts.gz</th>\n",
       "      <th>3eb03db7-efc1-4f20-bbc9-61551905eb9b.htseq.counts.gz</th>\n",
       "      <th>73ce143e-44f1-49c6-963f-45246d8551de.htseq.counts.gz</th>\n",
       "      <th>09f2bb20-909e-4929-8a79-c64c7fb2af31.htseq.counts.gz</th>\n",
       "      <th>6ae2dd6c-2a39-411f-a1fc-11e0e6e82165.htseq.counts.gz</th>\n",
       "      <th>5f5c42f3-3631-43a3-9774-164eca819389.htseq.counts.gz</th>\n",
       "      <th>b520edf2-42ce-4b64-8575-19e34b30f042.htseq.counts.gz</th>\n",
       "      <th>...</th>\n",
       "      <th>37e498a7-b147-4c38-a3f5-ed283d57f97a.htseq.counts.gz</th>\n",
       "      <th>c264fe3b-482b-44ec-83a4-73df565663ff.htseq.counts.gz</th>\n",
       "      <th>9e97f017-6855-4d68-bd2a-c4da3ccb1d57.htseq.counts.gz</th>\n",
       "      <th>15864159-be88-41c8-bdef-c2c5927cb1a1.htseq.counts.gz</th>\n",
       "      <th>e2bdca76-7bc5-4143-a6f6-3c6642425c65.htseq.counts.gz</th>\n",
       "      <th>b1868d9d-ef06-4353-883b-230dae23f8b6.htseq.counts.gz</th>\n",
       "      <th>2b5f6764-5a5b-47dc-b0f8-7a548bab2e26.htseq.counts.gz</th>\n",
       "      <th>7324b2d6-dd30-4f99-a101-7c3d497bbcb8.htseq.counts.gz</th>\n",
       "      <th>95e726db-5ccc-4836-a2ae-7feaddaf9f1b.htseq.counts.gz</th>\n",
       "      <th>00cc9b4d-a847-464e-979a-7751e1a87ae3.htseq.counts.gz</th>\n",
       "    </tr>\n",
       "  </thead>\n",
       "  <tbody>\n",
       "    <tr>\n",
       "      <th>ENSG00000276289</th>\n",
       "      <td>0</td>\n",
       "      <td>0</td>\n",
       "      <td>0</td>\n",
       "      <td>0</td>\n",
       "      <td>4</td>\n",
       "      <td>0</td>\n",
       "      <td>1</td>\n",
       "      <td>0</td>\n",
       "      <td>0</td>\n",
       "      <td>0</td>\n",
       "      <td>...</td>\n",
       "      <td>0</td>\n",
       "      <td>0</td>\n",
       "      <td>0</td>\n",
       "      <td>25</td>\n",
       "      <td>2</td>\n",
       "      <td>0</td>\n",
       "      <td>1</td>\n",
       "      <td>1</td>\n",
       "      <td>5</td>\n",
       "      <td>1</td>\n",
       "    </tr>\n",
       "    <tr>\n",
       "      <th>ENSG00000137948</th>\n",
       "      <td>1</td>\n",
       "      <td>0</td>\n",
       "      <td>0</td>\n",
       "      <td>0</td>\n",
       "      <td>1</td>\n",
       "      <td>0</td>\n",
       "      <td>0</td>\n",
       "      <td>1</td>\n",
       "      <td>2</td>\n",
       "      <td>3</td>\n",
       "      <td>...</td>\n",
       "      <td>2</td>\n",
       "      <td>0</td>\n",
       "      <td>0</td>\n",
       "      <td>0</td>\n",
       "      <td>0</td>\n",
       "      <td>0</td>\n",
       "      <td>1</td>\n",
       "      <td>2</td>\n",
       "      <td>0</td>\n",
       "      <td>0</td>\n",
       "    </tr>\n",
       "    <tr>\n",
       "      <th>ENSG00000057149</th>\n",
       "      <td>0</td>\n",
       "      <td>0</td>\n",
       "      <td>0</td>\n",
       "      <td>115</td>\n",
       "      <td>6</td>\n",
       "      <td>0</td>\n",
       "      <td>0</td>\n",
       "      <td>0</td>\n",
       "      <td>0</td>\n",
       "      <td>0</td>\n",
       "      <td>...</td>\n",
       "      <td>0</td>\n",
       "      <td>0</td>\n",
       "      <td>4</td>\n",
       "      <td>0</td>\n",
       "      <td>0</td>\n",
       "      <td>0</td>\n",
       "      <td>0</td>\n",
       "      <td>0</td>\n",
       "      <td>0</td>\n",
       "      <td>1</td>\n",
       "    </tr>\n",
       "    <tr>\n",
       "      <th>ENSG00000130287</th>\n",
       "      <td>7</td>\n",
       "      <td>2</td>\n",
       "      <td>0</td>\n",
       "      <td>6</td>\n",
       "      <td>1</td>\n",
       "      <td>2</td>\n",
       "      <td>4</td>\n",
       "      <td>1</td>\n",
       "      <td>2</td>\n",
       "      <td>24</td>\n",
       "      <td>...</td>\n",
       "      <td>4</td>\n",
       "      <td>2</td>\n",
       "      <td>1</td>\n",
       "      <td>0</td>\n",
       "      <td>0</td>\n",
       "      <td>1</td>\n",
       "      <td>0</td>\n",
       "      <td>1</td>\n",
       "      <td>7</td>\n",
       "      <td>0</td>\n",
       "    </tr>\n",
       "    <tr>\n",
       "      <th>ENSG00000113492</th>\n",
       "      <td>0</td>\n",
       "      <td>1</td>\n",
       "      <td>0</td>\n",
       "      <td>5</td>\n",
       "      <td>0</td>\n",
       "      <td>0</td>\n",
       "      <td>1</td>\n",
       "      <td>1</td>\n",
       "      <td>0</td>\n",
       "      <td>1</td>\n",
       "      <td>...</td>\n",
       "      <td>0</td>\n",
       "      <td>2</td>\n",
       "      <td>0</td>\n",
       "      <td>0</td>\n",
       "      <td>0</td>\n",
       "      <td>3</td>\n",
       "      <td>1</td>\n",
       "      <td>1</td>\n",
       "      <td>3</td>\n",
       "      <td>0</td>\n",
       "    </tr>\n",
       "  </tbody>\n",
       "</table>\n",
       "<p>5 rows × 407 columns</p>\n",
       "</div>"
      ],
      "text/plain": [
       "                 d2587070-cb7d-440d-ae49-52f5077248e6.htseq.counts.gz  \\\n",
       "ENSG00000276289                                                  0      \n",
       "ENSG00000137948                                                  1      \n",
       "ENSG00000057149                                                  0      \n",
       "ENSG00000130287                                                  7      \n",
       "ENSG00000113492                                                  0      \n",
       "\n",
       "                 97675f21-ce94-4e7c-bc46-179cc2903bf3.htseq.counts.gz  \\\n",
       "ENSG00000276289                                                  0      \n",
       "ENSG00000137948                                                  0      \n",
       "ENSG00000057149                                                  0      \n",
       "ENSG00000130287                                                  2      \n",
       "ENSG00000113492                                                  1      \n",
       "\n",
       "                 646d58e7-b7e2-4b2b-bb37-3ca20b601213.htseq.counts.gz  \\\n",
       "ENSG00000276289                                                  0      \n",
       "ENSG00000137948                                                  0      \n",
       "ENSG00000057149                                                  0      \n",
       "ENSG00000130287                                                  0      \n",
       "ENSG00000113492                                                  0      \n",
       "\n",
       "                 0f2b58b4-7d91-48f3-8901-b624e3d6aa51.htseq.counts.gz  \\\n",
       "ENSG00000276289                                                  0      \n",
       "ENSG00000137948                                                  0      \n",
       "ENSG00000057149                                                115      \n",
       "ENSG00000130287                                                  6      \n",
       "ENSG00000113492                                                  5      \n",
       "\n",
       "                 3eb03db7-efc1-4f20-bbc9-61551905eb9b.htseq.counts.gz  \\\n",
       "ENSG00000276289                                                  4      \n",
       "ENSG00000137948                                                  1      \n",
       "ENSG00000057149                                                  6      \n",
       "ENSG00000130287                                                  1      \n",
       "ENSG00000113492                                                  0      \n",
       "\n",
       "                 73ce143e-44f1-49c6-963f-45246d8551de.htseq.counts.gz  \\\n",
       "ENSG00000276289                                                  0      \n",
       "ENSG00000137948                                                  0      \n",
       "ENSG00000057149                                                  0      \n",
       "ENSG00000130287                                                  2      \n",
       "ENSG00000113492                                                  0      \n",
       "\n",
       "                 09f2bb20-909e-4929-8a79-c64c7fb2af31.htseq.counts.gz  \\\n",
       "ENSG00000276289                                                  1      \n",
       "ENSG00000137948                                                  0      \n",
       "ENSG00000057149                                                  0      \n",
       "ENSG00000130287                                                  4      \n",
       "ENSG00000113492                                                  1      \n",
       "\n",
       "                 6ae2dd6c-2a39-411f-a1fc-11e0e6e82165.htseq.counts.gz  \\\n",
       "ENSG00000276289                                                  0      \n",
       "ENSG00000137948                                                  1      \n",
       "ENSG00000057149                                                  0      \n",
       "ENSG00000130287                                                  1      \n",
       "ENSG00000113492                                                  1      \n",
       "\n",
       "                 5f5c42f3-3631-43a3-9774-164eca819389.htseq.counts.gz  \\\n",
       "ENSG00000276289                                                  0      \n",
       "ENSG00000137948                                                  2      \n",
       "ENSG00000057149                                                  0      \n",
       "ENSG00000130287                                                  2      \n",
       "ENSG00000113492                                                  0      \n",
       "\n",
       "                 b520edf2-42ce-4b64-8575-19e34b30f042.htseq.counts.gz  ...  \\\n",
       "ENSG00000276289                                                  0     ...   \n",
       "ENSG00000137948                                                  3     ...   \n",
       "ENSG00000057149                                                  0     ...   \n",
       "ENSG00000130287                                                 24     ...   \n",
       "ENSG00000113492                                                  1     ...   \n",
       "\n",
       "                 37e498a7-b147-4c38-a3f5-ed283d57f97a.htseq.counts.gz  \\\n",
       "ENSG00000276289                                                  0      \n",
       "ENSG00000137948                                                  2      \n",
       "ENSG00000057149                                                  0      \n",
       "ENSG00000130287                                                  4      \n",
       "ENSG00000113492                                                  0      \n",
       "\n",
       "                 c264fe3b-482b-44ec-83a4-73df565663ff.htseq.counts.gz  \\\n",
       "ENSG00000276289                                                  0      \n",
       "ENSG00000137948                                                  0      \n",
       "ENSG00000057149                                                  0      \n",
       "ENSG00000130287                                                  2      \n",
       "ENSG00000113492                                                  2      \n",
       "\n",
       "                 9e97f017-6855-4d68-bd2a-c4da3ccb1d57.htseq.counts.gz  \\\n",
       "ENSG00000276289                                                  0      \n",
       "ENSG00000137948                                                  0      \n",
       "ENSG00000057149                                                  4      \n",
       "ENSG00000130287                                                  1      \n",
       "ENSG00000113492                                                  0      \n",
       "\n",
       "                 15864159-be88-41c8-bdef-c2c5927cb1a1.htseq.counts.gz  \\\n",
       "ENSG00000276289                                                 25      \n",
       "ENSG00000137948                                                  0      \n",
       "ENSG00000057149                                                  0      \n",
       "ENSG00000130287                                                  0      \n",
       "ENSG00000113492                                                  0      \n",
       "\n",
       "                 e2bdca76-7bc5-4143-a6f6-3c6642425c65.htseq.counts.gz  \\\n",
       "ENSG00000276289                                                  2      \n",
       "ENSG00000137948                                                  0      \n",
       "ENSG00000057149                                                  0      \n",
       "ENSG00000130287                                                  0      \n",
       "ENSG00000113492                                                  0      \n",
       "\n",
       "                 b1868d9d-ef06-4353-883b-230dae23f8b6.htseq.counts.gz  \\\n",
       "ENSG00000276289                                                  0      \n",
       "ENSG00000137948                                                  0      \n",
       "ENSG00000057149                                                  0      \n",
       "ENSG00000130287                                                  1      \n",
       "ENSG00000113492                                                  3      \n",
       "\n",
       "                 2b5f6764-5a5b-47dc-b0f8-7a548bab2e26.htseq.counts.gz  \\\n",
       "ENSG00000276289                                                  1      \n",
       "ENSG00000137948                                                  1      \n",
       "ENSG00000057149                                                  0      \n",
       "ENSG00000130287                                                  0      \n",
       "ENSG00000113492                                                  1      \n",
       "\n",
       "                 7324b2d6-dd30-4f99-a101-7c3d497bbcb8.htseq.counts.gz  \\\n",
       "ENSG00000276289                                                  1      \n",
       "ENSG00000137948                                                  2      \n",
       "ENSG00000057149                                                  0      \n",
       "ENSG00000130287                                                  1      \n",
       "ENSG00000113492                                                  1      \n",
       "\n",
       "                 95e726db-5ccc-4836-a2ae-7feaddaf9f1b.htseq.counts.gz  \\\n",
       "ENSG00000276289                                                  5      \n",
       "ENSG00000137948                                                  0      \n",
       "ENSG00000057149                                                  0      \n",
       "ENSG00000130287                                                  7      \n",
       "ENSG00000113492                                                  3      \n",
       "\n",
       "                 00cc9b4d-a847-464e-979a-7751e1a87ae3.htseq.counts.gz  \n",
       "ENSG00000276289                                                  1     \n",
       "ENSG00000137948                                                  0     \n",
       "ENSG00000057149                                                  1     \n",
       "ENSG00000130287                                                  0     \n",
       "ENSG00000113492                                                  0     \n",
       "\n",
       "[5 rows x 407 columns]"
      ]
     },
     "execution_count": 19,
     "metadata": {},
     "output_type": "execute_result"
    }
   ],
   "source": [
    "df.head()"
   ]
  },
  {
   "cell_type": "code",
   "execution_count": 20,
   "metadata": {},
   "outputs": [
    {
     "name": "stdout",
     "output_type": "stream",
     "text": [
      "genes:223\trealizations:407\n"
     ]
    }
   ],
   "source": [
    "ngenes = len(df.index)\n",
    "nfiles = len(df.columns)\n",
    "print(\"genes:%d\\trealizations:%d\"%(ngenes,nfiles))"
   ]
  },
  {
   "cell_type": "markdown",
   "metadata": {},
   "source": [
    "## files"
   ]
  },
  {
   "cell_type": "code",
   "execution_count": 23,
   "metadata": {},
   "outputs": [],
   "source": [
    "df_files = pd.DataFrame(index=df.columns)\n",
    "#df_files.to_csv(\"files.dat\", index=None, header=None)"
   ]
  },
  {
   "cell_type": "markdown",
   "metadata": {},
   "source": [
    "## Counts to RPK\n",
    "RPK=$\\frac{counts}{lenght}$"
   ]
  },
  {
   "cell_type": "code",
   "execution_count": null,
   "metadata": {},
   "outputs": [],
   "source": [
    "df = pd.concat((df,q_many), ignore_index=False, sort=False, axis=1)\n",
    "df.head()"
   ]
  },
  {
   "cell_type": "code",
   "execution_count": null,
   "metadata": {},
   "outputs": [],
   "source": [
    "df.drop('type_of_gene',axis=1,inplace=True)"
   ]
  },
  {
   "cell_type": "code",
   "execution_count": null,
   "metadata": {},
   "outputs": [],
   "source": [
    "df = df.div(df['lenght'],axis=0)\n",
    "df = df.mul(1000,axis=0) #kilobase\n",
    "df.drop('lenght', axis=1, inplace=True)\n",
    "df = df.round(2)"
   ]
  },
  {
   "cell_type": "code",
   "execution_count": null,
   "metadata": {},
   "outputs": [],
   "source": [
    "df.head()"
   ]
  },
  {
   "cell_type": "code",
   "execution_count": null,
   "metadata": {},
   "outputs": [],
   "source": [
    "df.to_csv(\"mainTable_RPK.csv\",index=True, header=True)"
   ]
  },
  {
   "cell_type": "code",
   "execution_count": null,
   "metadata": {},
   "outputs": [],
   "source": [
    "lenghts.max()"
   ]
  },
  {
   "cell_type": "markdown",
   "metadata": {},
   "source": [
    "### null"
   ]
  },
  {
   "cell_type": "code",
   "execution_count": null,
   "metadata": {},
   "outputs": [],
   "source": [
    "df_null=pd.read_csv(\"nullTable.csv\",header=None, index_col=None)\n",
    "df_null.insert(0,'lenght',q_many['lenght'].values)\n",
    "df_null.head()"
   ]
  },
  {
   "cell_type": "code",
   "execution_count": null,
   "metadata": {},
   "outputs": [],
   "source": [
    "df_null = df_null.div(df_null['lenght'],axis=0).mul(1000,axis=0) #kilobase\n",
    "df_null.drop('lenght',axis=1, inplace=True)"
   ]
  },
  {
   "cell_type": "code",
   "execution_count": null,
   "metadata": {},
   "outputs": [],
   "source": [
    "df_null.head()"
   ]
  },
  {
   "cell_type": "code",
   "execution_count": null,
   "metadata": {},
   "outputs": [],
   "source": [
    "df_null.to_csv(\"nullTable_RPK.csv\", header=False, index=False)"
   ]
  },
  {
   "cell_type": "markdown",
   "metadata": {},
   "source": [
    "## Means sigmas\n",
    "thresholds are applied for FPKM between 0.1 and 1e5"
   ]
  },
  {
   "cell_type": "code",
   "execution_count": null,
   "metadata": {},
   "outputs": [],
   "source": [
    "%timeit\n",
    "means = []\n",
    "for i,g in enumerate(df.loc[:,df.keys()[0]].values):\n",
    "    means.append(np.average(df.loc[i,df.keys()[1:]].values))\n",
    "    if(i%100==0):\n",
    "        print(\"elapsed %d\"%i)"
   ]
  },
  {
   "cell_type": "code",
   "execution_count": null,
   "metadata": {},
   "outputs": [],
   "source": [
    "%timeit\n",
    "variances = []\n",
    "for i,g in enumerate(df.loc[:,df.keys()[0]].values):\n",
    "    variances.append(np.var(df.loc[i,df.keys()[1:]].values))\n",
    "    if(i%100==0):\n",
    "        print(\"elapsed %d\"%i)"
   ]
  },
  {
   "cell_type": "code",
   "execution_count": null,
   "metadata": {},
   "outputs": [],
   "source": [
    "df_mv = pd.DataFrame(data=np.array(means), columns=['mean'], index=df.loc[:,df.keys()[0]].values)\n",
    "df_mv.insert(1, 'variance', np.array(variances))\n",
    "df_mv.head()\n",
    "df_mv.to_csv(\"meanVariances.csv\")"
   ]
  },
  {
   "cell_type": "markdown",
   "metadata": {},
   "source": [
    "## manipulate meansigmas.csv"
   ]
  },
  {
   "cell_type": "code",
   "execution_count": null,
   "metadata": {},
   "outputs": [],
   "source": [
    "df_mv = pd.read_csv(\"meanVariances.csv\", index_col = [0])\n",
    "df_mv.head()"
   ]
  },
  {
   "cell_type": "markdown",
   "metadata": {},
   "source": [
    "### Add type of gene"
   ]
  },
  {
   "cell_type": "code",
   "execution_count": null,
   "metadata": {},
   "outputs": [],
   "source": [
    "gdf = pd.read_csv(\"genes.txt\", index_col=[0])\n",
    "gdf.head()"
   ]
  },
  {
   "cell_type": "code",
   "execution_count": null,
   "metadata": {},
   "outputs": [],
   "source": [
    "len(gdf)"
   ]
  },
  {
   "cell_type": "code",
   "execution_count": null,
   "metadata": {},
   "outputs": [],
   "source": [
    "df_mv = df_mv.drop(labels='type_of_gene', axis=1)\n",
    "df_mv.insert(1,'type_of_gene', '')\n",
    "#for g in df_mv[[df_mv['type_of_gene']==type_of_gene]].index.values\n",
    "for g in df_mv.index.values:\n",
    "    df_mv.at[g, 'type_of_gene'] = gdf.loc[g[:15]]['type_of_gene']"
   ]
  },
  {
   "cell_type": "code",
   "execution_count": null,
   "metadata": {},
   "outputs": [],
   "source": [
    "#df_mv = df_mv[df_mv['type_of_gene']==type_of_gene]\n",
    "df_mv.to_csv(\"meanVariances.csv\", index=True, header=True)"
   ]
  },
  {
   "cell_type": "markdown",
   "metadata": {},
   "source": [
    "### Add occurence"
   ]
  },
  {
   "cell_type": "code",
   "execution_count": null,
   "metadata": {},
   "outputs": [],
   "source": [
    "odf = pd.read_csv(\"O.dat\", header=None)\n",
    "#print(len(df_mv[df_mv['type_of_gene']=='protein-coding']))\n",
    "odf.head()"
   ]
  },
  {
   "cell_type": "code",
   "execution_count": null,
   "metadata": {},
   "outputs": [],
   "source": [
    "len(np.array(odf.loc[:,0].values*5000))"
   ]
  },
  {
   "cell_type": "code",
   "execution_count": null,
   "metadata": {},
   "outputs": [],
   "source": [
    "type_of_gene = 'protein-coding'"
   ]
  },
  {
   "cell_type": "code",
   "execution_count": null,
   "metadata": {},
   "outputs": [],
   "source": [
    "len(gdf[gdf['type_of_gene']==type_of_gene].index)"
   ]
  },
  {
   "cell_type": "code",
   "execution_count": null,
   "metadata": {},
   "outputs": [],
   "source": [
    "len(df_mv.index)"
   ]
  },
  {
   "cell_type": "code",
   "execution_count": null,
   "metadata": {},
   "outputs": [],
   "source": [
    "gdfpc = gdf.loc[gdf['type_of_gene']==type_of_gene]\n",
    "gdfpc.insert(1, 'occurrence', np.array(odf.loc[:,0].values*5000))\n",
    "#df_mv.insert(3,'occurrence', 0)\n",
    "for g in df_mv.index.values:\n",
    "    df_mv.at[g, 'occurrence'] = gdfpc.loc[g[:15]]['occurrence']"
   ]
  },
  {
   "cell_type": "code",
   "execution_count": null,
   "metadata": {},
   "outputs": [],
   "source": [
    "df_mv.to_csv(\"meanVariances.csv\", header=True, index=True)"
   ]
  },
  {
   "cell_type": "markdown",
   "metadata": {},
   "source": [
    "## clean floating points"
   ]
  },
  {
   "cell_type": "code",
   "execution_count": null,
   "metadata": {},
   "outputs": [],
   "source": [
    "df.to_csv(\"mainTable.csv\", index=False, header=True, float_format=\"%.1f\")"
   ]
  },
  {
   "cell_type": "markdown",
   "metadata": {},
   "source": [
    "# File list and properties"
   ]
  },
  {
   "cell_type": "code",
   "execution_count": null,
   "metadata": {},
   "outputs": [],
   "source": [
    "#df_files = pd.read_csv(\"files.dat\", header=[0], index_col=[0])\n",
    "#df_files.set_index(0,inplace=True)"
   ]
  },
  {
   "cell_type": "code",
   "execution_count": 25,
   "metadata": {},
   "outputs": [
    {
     "data": {
      "text/html": [
       "<div>\n",
       "<style scoped>\n",
       "    .dataframe tbody tr th:only-of-type {\n",
       "        vertical-align: middle;\n",
       "    }\n",
       "\n",
       "    .dataframe tbody tr th {\n",
       "        vertical-align: top;\n",
       "    }\n",
       "\n",
       "    .dataframe thead th {\n",
       "        text-align: right;\n",
       "    }\n",
       "</style>\n",
       "<table border=\"1\" class=\"dataframe\">\n",
       "  <thead>\n",
       "    <tr style=\"text-align: right;\">\n",
       "      <th></th>\n",
       "      <th>primary_site</th>\n",
       "      <th>disease_type</th>\n",
       "    </tr>\n",
       "  </thead>\n",
       "  <tbody>\n",
       "    <tr>\n",
       "      <th>d2587070-cb7d-440d-ae49-52f5077248e6.htseq.counts.gz</th>\n",
       "      <td></td>\n",
       "      <td></td>\n",
       "    </tr>\n",
       "    <tr>\n",
       "      <th>97675f21-ce94-4e7c-bc46-179cc2903bf3.htseq.counts.gz</th>\n",
       "      <td></td>\n",
       "      <td></td>\n",
       "    </tr>\n",
       "    <tr>\n",
       "      <th>646d58e7-b7e2-4b2b-bb37-3ca20b601213.htseq.counts.gz</th>\n",
       "      <td></td>\n",
       "      <td></td>\n",
       "    </tr>\n",
       "    <tr>\n",
       "      <th>0f2b58b4-7d91-48f3-8901-b624e3d6aa51.htseq.counts.gz</th>\n",
       "      <td></td>\n",
       "      <td></td>\n",
       "    </tr>\n",
       "    <tr>\n",
       "      <th>3eb03db7-efc1-4f20-bbc9-61551905eb9b.htseq.counts.gz</th>\n",
       "      <td></td>\n",
       "      <td></td>\n",
       "    </tr>\n",
       "  </tbody>\n",
       "</table>\n",
       "</div>"
      ],
      "text/plain": [
       "                                                   primary_site disease_type\n",
       "d2587070-cb7d-440d-ae49-52f5077248e6.htseq.coun...                          \n",
       "97675f21-ce94-4e7c-bc46-179cc2903bf3.htseq.coun...                          \n",
       "646d58e7-b7e2-4b2b-bb37-3ca20b601213.htseq.coun...                          \n",
       "0f2b58b4-7d91-48f3-8901-b624e3d6aa51.htseq.coun...                          \n",
       "3eb03db7-efc1-4f20-bbc9-61551905eb9b.htseq.coun...                          "
      ]
     },
     "execution_count": 25,
     "metadata": {},
     "output_type": "execute_result"
    }
   ],
   "source": [
    "#df_files = pd.read_csv(\"files.txt\", index_col=[0], header=None)\n",
    "df_files.insert(0,'primary_site','')\n",
    "df_files.insert(1,'disease_type', '')\n",
    "df_files.head()"
   ]
  },
  {
   "cell_type": "code",
   "execution_count": 26,
   "metadata": {},
   "outputs": [],
   "source": [
    "df_files.insert(2,'case_id','')\n",
    "df_files.insert(3,'RPPA Clusters','')"
   ]
  },
  {
   "cell_type": "code",
   "execution_count": 27,
   "metadata": {},
   "outputs": [],
   "source": [
    "df_colon = pd.read_csv(\"files_crc.dat\", index_col=0)\n",
    "df_colon.insert(0,'CMS',df_colon.apply(lambda x:np.array(['CMS1','CMS2','CMS3','CMS4'])[x.to_numpy().nonzero()[0]][0] if len(x.to_numpy().nonzero()[0])>0 else 'unknown', axis=1))\n",
    "df_colon.index=df_colon.index.reindex(np.array([id[:12] for id in df_colon.index.values]))[0]"
   ]
  },
  {
   "cell_type": "code",
   "execution_count": 28,
   "metadata": {},
   "outputs": [],
   "source": [
    "#df_breast=pd.read_csv(\"breast.csv\")\n",
    "#df_breast = df_breast.set_index('Complete TCGA ID').loc[:,['PAM50 mRNA','RPPA Clusters']]"
   ]
  },
  {
   "cell_type": "code",
   "execution_count": 29,
   "metadata": {
    "scrolled": true
   },
   "outputs": [
    {
     "name": "stdout",
     "output_type": "stream",
     "text": [
      "quering...d2587070-cb7d-440d-ae49-52f5077248e6.htseq.counts.gz\n",
      "quering...97675f21-ce94-4e7c-bc46-179cc2903bf3.htseq.counts.gz\n",
      "quering...646d58e7-b7e2-4b2b-bb37-3ca20b601213.htseq.counts.gz\n",
      "quering...0f2b58b4-7d91-48f3-8901-b624e3d6aa51.htseq.counts.gz\n",
      "quering...3eb03db7-efc1-4f20-bbc9-61551905eb9b.htseq.counts.gz\n",
      "quering...73ce143e-44f1-49c6-963f-45246d8551de.htseq.counts.gz\n",
      "quering...09f2bb20-909e-4929-8a79-c64c7fb2af31.htseq.counts.gz\n",
      "quering...6ae2dd6c-2a39-411f-a1fc-11e0e6e82165.htseq.counts.gz\n",
      "quering...5f5c42f3-3631-43a3-9774-164eca819389.htseq.counts.gz\n",
      "quering...b520edf2-42ce-4b64-8575-19e34b30f042.htseq.counts.gz\n",
      "quering...9daee176-d523-4450-8ac8-0f69d028399e.htseq.counts.gz\n",
      "quering...59608767-595f-402a-9f7f-356dd6e99a51.htseq.counts.gz\n",
      "quering...dd9a3ab6-6c93-4b47-9b4e-62e56767054b.htseq.counts.gz\n",
      "quering...bb8a0f58-11e6-49dd-bdeb-0b7eb2fb05fc.htseq.counts.gz\n",
      "quering...5ff1be40-73fe-4cd2-9b58-4be53fdf8292.htseq.counts.gz\n",
      "quering...a42c7fc3-4f41-4b15-b1ec-2108fa916f6a.htseq.counts.gz\n",
      "quering...08dd2c8c-537f-4d02-a4b8-9c123156f0d4.htseq.counts.gz\n",
      "quering...d67325ce-cd01-45b8-b816-74fc73acd54a.htseq.counts.gz\n",
      "quering...c789f723-e543-4b62-98b4-444e5079fa71.htseq.counts.gz\n",
      "quering...966ad64a-5a6d-4219-ac8e-adbfb9a79cad.htseq.counts.gz\n",
      "quering...678d7cdd-0a63-41b2-9203-fa1385494399.htseq.counts.gz\n",
      "quering...0c3d283b-1ef5-459e-b312-c97ea0b6d793.htseq.counts.gz\n",
      "quering...dd8003eb-e16a-424a-9092-520676779c53.htseq.counts.gz\n",
      "quering...4ea4ed16-8597-426c-9485-0fc8a8d81973.htseq.counts.gz\n",
      "quering...692efd81-4aba-45fb-a7fd-35c10c79ebf2.htseq.counts.gz\n",
      "quering...7a0818ac-0f38-4e44-87da-55d812e447cd.htseq.counts.gz\n",
      "quering...b57f69a6-91ca-4131-a654-5495f6dd1131.htseq.counts.gz\n",
      "quering...2f906887-7836-4f24-8f97-91b10811a7c3.htseq.counts.gz\n",
      "quering...44e21ed0-bcc8-4978-ad68-81c35852b12b.htseq.counts.gz\n",
      "quering...c0085daf-b7dd-4c12-b347-6949c2421934.htseq.counts.gz\n",
      "quering...569ff63b-ea1c-4189-a5e5-8c44ee670cbe.htseq.counts.gz\n",
      "quering...d7b9a594-2898-446b-a234-60f8ca8064a0.htseq.counts.gz\n",
      "quering...81bd146a-4ba1-4c7f-8cda-f4b11b0f390c.htseq.counts.gz\n",
      "quering...80592959-da54-41d0-9b82-ed279be3ecea.htseq.counts.gz\n",
      "quering...1cbb39ca-efbf-4080-bd32-1b76006394a8.htseq.counts.gz\n",
      "quering...70f99dbf-42bc-439c-b562-c51b8e54234e.htseq.counts.gz\n",
      "quering...c71d0557-242c-46d7-8551-ca0eba56fdd9.htseq.counts.gz\n",
      "quering...ef4fdb47-ab17-4055-b8a5-ec3c2a4b7041.htseq.counts.gz\n",
      "quering...075a759b-21e0-4cab-a6b2-c5d65f7ccdbc.htseq.counts.gz\n",
      "quering...4f89b1c6-b0a3-4739-a77c-2458e6d45351.htseq.counts.gz\n",
      "quering...07d449a4-27ec-4f3f-a922-25fb777d37a7.htseq.counts.gz\n",
      "quering...799199d9-0ff7-4d58-97bd-08009f64947d.htseq.counts.gz\n",
      "quering...03109baa-936f-49ae-acb3-2d00ac03c7ab.htseq.counts.gz\n",
      "quering...740870ab-fb90-43be-b226-7cf1efcf547c.htseq.counts.gz\n",
      "quering...fd40f0e5-0825-409b-8a4c-86da09f0a84c.htseq.counts.gz\n",
      "quering...2328d034-7b9b-442a-ad5d-ad56d9c83d1d.htseq.counts.gz\n",
      "quering...a3f88a5d-7169-465b-bb80-e5999590681c.htseq.counts.gz\n",
      "quering...9c52ed00-325f-4664-8873-327bcaa5ea74.htseq.counts.gz\n",
      "quering...3f59c9f4-10e4-4410-9515-9488181f54fc.htseq.counts.gz\n",
      "quering...de19faaa-60f9-4b3d-be28-00505d5a82e5.htseq.counts.gz\n",
      "quering...6b00248a-8ec4-451f-91f7-626bb223b14a.htseq.counts.gz\n",
      "quering...33188748-30a2-41f2-bf42-69da0f011e71.htseq.counts.gz\n",
      "quering...c419c0fe-74c5-44b1-89ed-887c2c3cfded.htseq.counts.gz\n",
      "quering...ced37a67-bf80-468d-8299-940bb9b88107.htseq.counts.gz\n",
      "quering...bb5ddfe6-cd9a-4702-873c-9607e6522161.htseq.counts.gz\n",
      "quering...f38b2f21-c5a5-4699-9727-eae9c96aac55.htseq.counts.gz\n",
      "quering...6dcbab48-76ea-485d-a2f4-764c61f3b503.htseq.counts.gz\n",
      "quering...d547863f-18eb-4c29-8265-953055c129d3.htseq.counts.gz\n",
      "quering...32a115cf-570f-4ad9-a123-8e1970062f51.htseq.counts.gz\n",
      "quering...a202e636-8c19-4ce8-9902-bdd7be7a3447.htseq.counts.gz\n",
      "quering...934f9dc6-1260-4268-b022-870f1e37dd6f.htseq.counts.gz\n",
      "quering...e5b468e1-f932-497d-8045-e75588701aac.htseq.counts.gz\n",
      "quering...65ec87f8-ca6b-4b47-9700-ef1b67589dec.htseq.counts.gz\n",
      "quering...056fe861-9f3b-4693-999a-44d1d7c43ab0.htseq.counts.gz\n",
      "quering...dac5d05e-c693-4dd3-b06f-faba625b5f18.htseq.counts.gz\n",
      "quering...fa73bdce-67fb-42aa-883f-635f0e7bcdc6.htseq.counts.gz\n",
      "quering...92107b4f-bd77-4401-9065-4b9704110d44.htseq.counts.gz\n",
      "quering...51529d00-9bc5-45e7-9706-7519c64eef36.htseq.counts.gz\n",
      "quering...40bc5339-8a6d-40dd-a5f8-d5eaebb91909.htseq.counts.gz\n",
      "quering...7e5fbe6a-4463-424b-b024-b207d4a89962.htseq.counts.gz\n",
      "quering...5140a52e-42c4-4374-ae49-b208aff98396.htseq.counts.gz\n",
      "quering...b5af6c19-ecab-408b-bae2-53909b7135b4.htseq.counts.gz\n",
      "quering...f749b616-111f-42d6-b71c-8a3a604f2f3d.htseq.counts.gz\n",
      "quering...7c12c6da-5e8a-4cd1-972f-e76178e09b7d.htseq.counts.gz\n",
      "quering...92bd3edc-d6f3-4cfc-be03-4662199a06c2.htseq.counts.gz\n",
      "quering...b3766385-e86d-45fc-8baa-61162749feff.htseq.counts.gz\n",
      "quering...902732ab-8a29-46ae-a06d-556ab3cb6825.htseq.counts.gz\n",
      "quering...d23905fa-4722-4c97-8b75-ea8ae67faf40.htseq.counts.gz\n",
      "quering...c094c9e4-260c-4b2a-bbf2-2fdcad927677.htseq.counts.gz\n",
      "quering...1106a73f-5abd-4a2e-9e07-86ac7a737b77.htseq.counts.gz\n",
      "quering...ff8de5e6-76c5-491a-8fac-41492723b780.htseq.counts.gz\n",
      "quering...8989435b-4c14-4d4b-8cec-c9db8511b4d0.htseq.counts.gz\n",
      "quering...1b054b39-aa38-4356-8447-71f211365a01.htseq.counts.gz\n",
      "quering...fcb5f382-f06f-4885-8ea1-c0699b408838.htseq.counts.gz\n",
      "quering...e02d06a3-99f9-49ae-b3b0-c4427951789d.htseq.counts.gz\n",
      "quering...1c1a1ce6-b06e-421b-9f0b-a9215d553666.htseq.counts.gz\n",
      "quering...f7add57c-753b-49c0-8d79-29fa86ddd615.htseq.counts.gz\n",
      "quering...5b9b9a3d-51bf-4f62-bf19-7c7ea0267030.htseq.counts.gz\n",
      "quering...0ee30795-d8ef-4ce1-b3f0-084b7a39bf35.htseq.counts.gz\n",
      "quering...0134d0cc-e66b-4fda-804b-c4434ec00bd2.htseq.counts.gz\n",
      "quering...955e7043-03a9-4a8e-8e7d-cfc52546da82.htseq.counts.gz\n",
      "quering...0e7094cf-4c79-43f4-8b72-9de259e5e18f.htseq.counts.gz\n",
      "quering...8bc10161-4cca-46c5-985e-e07349484ec2.htseq.counts.gz\n",
      "quering...c6e85461-d986-46c3-b6b8-ab56d97320a3.htseq.counts.gz\n",
      "quering...762034f5-879b-4e74-a75d-064aee08c500.htseq.counts.gz\n",
      "quering...c55df672-3e6a-4625-bee3-4736808f96d7.htseq.counts.gz\n",
      "quering...13abc91e-fbfc-4c55-bf54-fbd134979ccc.htseq.counts.gz\n",
      "quering...708a16a3-7a5e-4e27-b06b-4c3c308b11fe.htseq.counts.gz\n",
      "quering...e4a20e3d-51ce-41a1-b200-0dcbfd01e674.htseq.counts.gz\n",
      "quering...fdd24a0e-f3ef-4a5a-87cf-f99884b90fb9.htseq.counts.gz\n",
      "quering...17510ea6-0c97-4bd0-94a4-63dd76e5b7c7.htseq.counts.gz\n",
      "quering...eb2347cc-da91-4f84-a56f-ebc759d22915.htseq.counts.gz\n",
      "quering...087666cd-47ae-4f56-b947-d6aa1c25e8a7.htseq.counts.gz\n",
      "quering...5697212f-b3fd-479f-84b0-ec0aae54534a.htseq.counts.gz\n",
      "quering...b9134508-ab9b-41ef-b6e3-745b85353a55.htseq.counts.gz\n",
      "quering...e6bb29b7-b632-4e61-bc17-ef2e9173289b.htseq.counts.gz\n",
      "quering...f3e7201c-725e-4dd1-8938-24f7637785db.htseq.counts.gz\n",
      "quering...a77fad02-ff7d-4f73-8a19-caa329589dea.htseq.counts.gz\n",
      "quering...464cbc87-fa59-4fc9-8617-b697f3f29b02.htseq.counts.gz\n",
      "quering...b04b6183-ac95-4bf2-93ca-2890212ef3c6.htseq.counts.gz\n",
      "quering...171f6436-748a-4072-9ef6-e90d8cd9b465.htseq.counts.gz\n",
      "quering...f50722f7-d55b-49b0-8c11-4502b9cf42d5.htseq.counts.gz\n",
      "quering...1ec0cdf1-3bc2-4f86-bc5c-8d9cd30982d2.htseq.counts.gz\n",
      "quering...caaf2201-e0d8-46af-9d53-ae776306761f.htseq.counts.gz\n",
      "quering...67d1e5e4-91de-43df-b127-ffeef6070603.htseq.counts.gz\n",
      "quering...e158f016-7605-45b7-8e4f-bbe313fc461c.htseq.counts.gz\n",
      "quering...665cc2e6-600b-4557-911a-ad94340333aa.htseq.counts.gz\n",
      "quering...3a93e1ff-bcdc-4dea-9541-54b074e4f967.htseq.counts.gz\n",
      "quering...36263f87-1956-499c-ac90-dee060c5bdd4.htseq.counts.gz\n",
      "quering...b539ee0c-6887-4566-b16d-0990c8e1a3c1.htseq.counts.gz\n",
      "quering...d753b828-373f-4ebc-a300-598e0c6e79ba.htseq.counts.gz\n",
      "quering...b1a7e378-a07b-4434-8a5d-d4756b7d523c.htseq.counts.gz\n",
      "quering...020aa019-a3a4-4055-92ee-be824a597501.htseq.counts.gz\n",
      "quering...c637fd04-9c6d-43fa-84e5-b90ded003dc5.htseq.counts.gz\n",
      "quering...9a62fe1f-36ec-4e8e-b3d9-bdfc62f71905.htseq.counts.gz\n",
      "quering...1df73dda-ad92-47ea-a4f3-3713a416459f.htseq.counts.gz\n",
      "quering...d334512c-d092-459a-aab7-a3a0e281d9d4.htseq.counts.gz\n",
      "quering...eb799eef-5506-4935-9649-c543a1d1bbd5.htseq.counts.gz\n",
      "quering...1f5ff5c6-64a8-4214-b304-634aae40202a.htseq.counts.gz\n",
      "quering...988eba37-1b57-4740-b0ba-9491b57421ab.htseq.counts.gz\n",
      "quering...25a62766-c783-415a-96bf-dafc8f109510.htseq.counts.gz\n"
     ]
    },
    {
     "name": "stdout",
     "output_type": "stream",
     "text": [
      "quering...81903241-4091-45eb-baf1-90b10b727208.htseq.counts.gz\n",
      "quering...9c64a139-1417-4465-8472-b44182874b0a.htseq.counts.gz\n",
      "quering...70c7147b-b316-4409-8073-968dfd14abec.htseq.counts.gz\n",
      "quering...e2916399-9c6c-4d75-a22d-b180ea174644.htseq.counts.gz\n",
      "quering...a86552ef-96e7-4cb8-9c94-157f57fc6694.htseq.counts.gz\n",
      "quering...9e8b528b-1172-4c07-a09b-ebb23cf2310c.htseq.counts.gz\n",
      "quering...b5bcd3d2-9063-43c1-949e-e3001862855f.htseq.counts.gz\n",
      "quering...a4de3403-a3ca-4c5c-baf4-99e7068fa0d5.htseq.counts.gz\n",
      "quering...e86b6f79-cd01-4530-b315-c56e2fb0293f.htseq.counts.gz\n",
      "quering...59e2ab4e-9529-490d-b12c-9b7f24c8166c.htseq.counts.gz\n",
      "quering...dd2f8e69-327d-453c-bbea-81b0bea7f977.htseq.counts.gz\n",
      "quering...a8d7571b-7539-40ac-8be9-209aa54769d2.htseq.counts.gz\n",
      "quering...ce03135f-f554-4ef7-9af8-c006486516be.htseq.counts.gz\n",
      "quering...11586a7f-5148-4b6b-b431-686b907f8df9.htseq.counts.gz\n",
      "quering...7261b656-c79c-4581-a503-15b653e2b5d2.htseq.counts.gz\n",
      "quering...f0b34dc3-72b8-48d0-a755-354c74405264.htseq.counts.gz\n",
      "quering...d0fbe329-d4d8-4082-99a8-da1a1283963d.htseq.counts.gz\n",
      "quering...2de834f0-d5dc-46d3-9411-3db9635e9b99.htseq.counts.gz\n",
      "quering...ee926a57-93f9-4eb8-86da-224f5daac92a.htseq.counts.gz\n",
      "quering...9ab691dc-cbc9-4bc5-8bd9-865783762473.htseq.counts.gz\n",
      "quering...a0d07984-a6a9-4571-82f5-45fade1f1b2a.htseq.counts.gz\n",
      "quering...b4569515-17c7-4029-9c84-52aa7e1a7d2a.htseq.counts.gz\n",
      "quering...8894d65e-71ff-4d4f-9abf-b0d3c6917a0c.htseq.counts.gz\n",
      "quering...a58a7a42-4dda-46cc-a9ec-4a3ca597d972.htseq.counts.gz\n",
      "quering...d469975e-a3a1-487a-a549-142720e1973a.htseq.counts.gz\n",
      "quering...1880aacf-cd87-4a9c-8d53-16507475f3a8.htseq.counts.gz\n",
      "quering...9df0a5b7-5bf9-4795-9910-bbf7cccf6fda.htseq.counts.gz\n",
      "quering...81d8c120-144f-4ffc-9ca4-eb76ca1fc821.htseq.counts.gz\n",
      "quering...514976b1-4fb9-4924-8bbf-ffbf5d7eaad5.htseq.counts.gz\n",
      "quering...5faf3586-b033-45fd-8dd9-fef111b0f752.htseq.counts.gz\n",
      "quering...564daa81-cfef-45b6-94a0-3249b2724d9b.htseq.counts.gz\n",
      "quering...bd2dfab3-88a8-4673-ba36-3daf252d0b4d.htseq.counts.gz\n",
      "quering...079e4d43-d129-4ad1-b5b6-7a798f440792.htseq.counts.gz\n",
      "quering...7f5a924a-ddf3-45ff-be1f-5b5909305f46.htseq.counts.gz\n",
      "quering...3254c984-f9ec-4db5-9add-94489e000a62.htseq.counts.gz\n",
      "quering...54bd3165-df22-4d55-9de7-b628133f4fb2.htseq.counts.gz\n",
      "quering...9bf28651-4429-4fe5-9e9e-dda3a2aaa221.htseq.counts.gz\n",
      "quering...d5607680-758b-4ee5-ae0f-a61f7c3133c1.htseq.counts.gz\n",
      "quering...82e00e45-734c-471f-ba97-79ec3b7e0baa.htseq.counts.gz\n",
      "quering...bf9c448b-bdc9-4f74-b13a-374e6add7939.htseq.counts.gz\n",
      "quering...09977485-e1d1-41b1-b2b8-7ab0ad6df0a0.htseq.counts.gz\n",
      "quering...09dba56f-3033-41b6-9235-7c78f88e14ed.htseq.counts.gz\n",
      "quering...08239d16-937c-4758-9e3d-38217e4c9f35.htseq.counts.gz\n",
      "quering...1e36b1ce-5849-48d5-8b9a-8102d833efc5.htseq.counts.gz\n",
      "quering...f96e90ca-9211-420e-a75f-5f30b67d2d95.htseq.counts.gz\n",
      "quering...83ffbba1-e36b-4ff4-ba58-2d92c4b53654.htseq.counts.gz\n",
      "quering...8f77f4f4-b184-40c7-8ab8-2f95b13620b5.htseq.counts.gz\n",
      "quering...547c5238-9d5e-4391-ab5f-b62f576af519.htseq.counts.gz\n",
      "quering...74fd04b7-c554-4bae-a1ca-6b792b0521a1.htseq.counts.gz\n",
      "quering...6d2ad70f-fc8f-4881-a08e-bfd2128d7652.htseq.counts.gz\n",
      "quering...0319a4cc-ee3f-4c6f-83e1-7cdd5f865dc0.htseq.counts.gz\n",
      "quering...f3ca8406-7724-4096-8f4c-31f39ae25901.htseq.counts.gz\n",
      "quering...6314b0c4-f403-4c6b-91ba-02bacf1c6de7.htseq.counts.gz\n",
      "quering...b0556a60-d6c1-417a-96c0-a861eb45f95d.htseq.counts.gz\n",
      "quering...7f9cdd9b-cba2-4847-82e9-4e1df1cd9857.htseq.counts.gz\n",
      "quering...a6cd69d5-ea54-4183-aac5-2b6efb311db3.htseq.counts.gz\n",
      "quering...2f220acd-b59a-4b9a-8a03-6bb8444ef025.htseq.counts.gz\n",
      "quering...f1fcd165-ddbc-44b8-b062-ae5199c53cba.htseq.counts.gz\n",
      "quering...6e2db920-dc3e-4a74-8cdb-470cb61e2fac.htseq.counts.gz\n",
      "quering...f346f2d2-285c-455c-ba34-ea8eec3fa881.htseq.counts.gz\n",
      "quering...ecdb94bb-54ab-4d89-a13f-be2e65fc89bb.htseq.counts.gz\n",
      "quering...d5dca54e-d7e9-4328-b2ca-1d191a2b8b4c.htseq.counts.gz\n",
      "quering...bef7dd4d-624a-4b35-aab8-bf1c99d3bf01.htseq.counts.gz\n",
      "quering...d0ff575f-1259-4a78-b74c-16e48a7d4e38.htseq.counts.gz\n",
      "quering...a9560d7c-294e-4dfd-aa10-4ab456d8b124.htseq.counts.gz\n",
      "quering...9deb4935-7e2f-43bf-b115-2e5a0021c5dc.htseq.counts.gz\n",
      "quering...27cc2167-5838-41d3-9d57-4c6a13f7ebf7.htseq.counts.gz\n",
      "quering...2c09404f-c5e8-4e8a-a51b-c8bdbc923efe.htseq.counts.gz\n",
      "quering...e7b00f7c-3aed-46f9-9126-0da4f4e74320.htseq.counts.gz\n",
      "quering...2d5fbcf8-4347-4787-b04d-e84c88316776.htseq.counts.gz\n",
      "quering...31ce5f7c-5f1d-4e54-9343-5e9b57f5ed10.htseq.counts.gz\n",
      "quering...0cb305a5-d4a7-4eb8-8e8e-d11a5ebc3e0f.htseq.counts.gz\n",
      "quering...00f768f9-9e6c-4e84-bdba-c19368f7e522.htseq.counts.gz\n",
      "quering...d62ce057-d970-4bb0-b929-923c7bfb9e11.htseq.counts.gz\n",
      "quering...3793cde5-8027-46ad-9003-6a9a43076764.htseq.counts.gz\n",
      "quering...1a587b92-0a11-47f0-83c2-77a2b6de1088.htseq.counts.gz\n",
      "quering...60bfd325-330c-4f93-8d08-bb2ab04ee292.htseq.counts.gz\n",
      "quering...339bf596-e9a9-4d65-b61f-294f410dd1c8.htseq.counts.gz\n",
      "quering...d65a7cb6-4b1f-4976-990e-c4f47ae11986.htseq.counts.gz\n",
      "quering...f36f74a9-97b4-4913-86e2-56ebaf55f006.htseq.counts.gz\n",
      "quering...562e2cb3-078f-4796-b8a2-a0196713ebac.htseq.counts.gz\n",
      "quering...c4e074f2-e21d-4a1a-acf3-b7916f11fb43.htseq.counts.gz\n",
      "quering...0ee26933-679d-4e84-ab56-6b9581e5dbfd.htseq.counts.gz\n",
      "quering...2358eba8-2134-4fa7-8177-b8919197f014.htseq.counts.gz\n",
      "quering...05eef9f8-a246-403a-b0be-07d274b6f93a.htseq.counts.gz\n",
      "quering...586cc5be-d91f-47ea-9d1e-c3b65b2af33f.htseq.counts.gz\n",
      "quering...0ed65bdf-cb92-47c1-8aeb-42518ce639b8.htseq.counts.gz\n",
      "quering...911f6378-8a25-4570-9d3b-80f5b5bfc085.htseq.counts.gz\n",
      "quering...192fb5a0-8ee2-4c96-a3ed-e89904a3d086.htseq.counts.gz\n",
      "quering...f6d0eda9-920f-4986-82fe-1a327e3bd209.htseq.counts.gz\n",
      "quering...02a81bc3-4672-4d2f-808d-d27f4b63bf85.htseq.counts.gz\n",
      "quering...0422da40-5671-48c5-bbe0-e32a476c5cda.htseq.counts.gz\n",
      "quering...1c48525e-6f1c-4ca0-9bb4-a9350cbca89f.htseq.counts.gz\n",
      "quering...22bc2908-b3ef-40fd-a652-b3384a79bc43.htseq.counts.gz\n",
      "quering...6b047efa-258a-430a-909b-356c7c928864.htseq.counts.gz\n",
      "quering...5468841b-023c-484d-8c94-c6ae239bb28c.htseq.counts.gz\n",
      "quering...6b5f99b2-d1e2-4133-8e61-a6b337e6e70c.htseq.counts.gz\n",
      "quering...99b406a3-0ef1-4486-99a5-22a751aa5e1d.htseq.counts.gz\n",
      "quering...4e21fbbb-d38a-4af7-87df-055624c780e2.htseq.counts.gz\n",
      "quering...938e4a22-7ed8-4b09-aa65-0cd737beee31.htseq.counts.gz\n",
      "quering...c02d8110-3041-4a36-ac63-531216141051.htseq.counts.gz\n",
      "quering...8f9232c6-4ae9-4e3f-af06-335f107b09bc.htseq.counts.gz\n",
      "quering...737a6ce7-5446-4610-bf9f-5c46b769b842.htseq.counts.gz\n",
      "quering...77c07069-2887-470f-a1ba-66e5d038912c.htseq.counts.gz\n",
      "quering...15ba704d-dbce-4532-8d07-f6f93ed4c12a.htseq.counts.gz\n",
      "quering...d47d93d3-64e9-40a3-a941-33432fb31a1a.htseq.counts.gz\n",
      "quering...df2df36d-6652-4eec-b62a-ea99af075cb6.htseq.counts.gz\n",
      "quering...ee4dcccc-514b-4cc6-ae63-6ed3e7519a40.htseq.counts.gz\n",
      "quering...6947d9d0-2d4f-444e-889f-7dafccb67251.htseq.counts.gz\n",
      "quering...e5a78b77-957f-44d5-b69b-12abbfbea50c.htseq.counts.gz\n",
      "quering...54597194-db70-4e06-846a-1650b7562c51.htseq.counts.gz\n",
      "quering...a046b793-0eda-4c57-adfe-b8800ece1dab.htseq.counts.gz\n",
      "quering...30cb2eed-e635-466d-85cb-6e3d00828688.htseq.counts.gz\n",
      "quering...27af8811-03a1-43e5-8a42-8acf158e3e13.htseq.counts.gz\n",
      "quering...3c6178fe-0add-4c72-96b2-a3aeda20f36d.htseq.counts.gz\n",
      "quering...4d45166b-ea6e-4e27-8d91-bda8135b87c8.htseq.counts.gz\n",
      "quering...f8b2b799-dd9d-467e-9525-a01f3f62847a.htseq.counts.gz\n",
      "quering...649b19e1-96e2-4b55-951d-3b6ee9f4b91f.htseq.counts.gz\n",
      "quering...ed228bb8-2573-4860-94db-7fea3cb44438.htseq.counts.gz\n",
      "quering...d4702ec9-068f-415a-832e-ed72eaa38699.htseq.counts.gz\n",
      "quering...17c88994-9e8e-4f16-8c41-34e98a0d8c52.htseq.counts.gz\n",
      "quering...7f9a629b-12ed-48cc-8d5c-1c2f5db9cf1f.htseq.counts.gz\n",
      "quering...b1684b0e-0c14-434a-94b0-78c42adf4ea9.htseq.counts.gz\n",
      "quering...18ded814-596a-46ed-8f58-ba4141e5abb6.htseq.counts.gz\n",
      "quering...6fc8652c-24a6-49d4-8739-12cd70d947b6.htseq.counts.gz\n",
      "quering...e52b5fe4-cdde-4176-a495-bff7c0f130bf.htseq.counts.gz\n",
      "quering...77dbc29d-e3dd-45cc-b1d8-3bdd1711c704.htseq.counts.gz\n",
      "quering...7bb97da8-8db8-4f9b-a9ff-54b644019412.htseq.counts.gz\n",
      "quering...058ac81a-3b90-4e7d-8f7b-9c34fbc77997.htseq.counts.gz\n",
      "quering...066a17b9-c724-4390-9a5f-d46cde556de3.htseq.counts.gz\n",
      "quering...28004569-048d-4f8c-99aa-7a8c69a98dcc.htseq.counts.gz\n"
     ]
    },
    {
     "name": "stdout",
     "output_type": "stream",
     "text": [
      "quering...20a523cd-58e9-467d-bed5-1bce2a8574f8.htseq.counts.gz\n",
      "quering...5ccb8845-93d4-4ce2-b97a-e230f1da4611.htseq.counts.gz\n",
      "quering...c3f9ba64-6946-45d4-984d-b33ef2589603.htseq.counts.gz\n",
      "quering...c2b0ac40-50ff-47e1-8089-c920a932ed9b.htseq.counts.gz\n",
      "quering...bd8839a3-4dcb-4688-b051-6f09c18d7fc7.htseq.counts.gz\n",
      "quering...de808f1a-676c-4bda-afcb-bf61577324f7.htseq.counts.gz\n",
      "quering...6fcab48b-754f-4058-9cbf-b6d766eeda35.htseq.counts.gz\n",
      "quering...bf4c7278-d90c-497e-97af-cc9c68ca1525.htseq.counts.gz\n",
      "quering...c04b9aba-55bc-4ba9-b761-3fea9f0d4c90.htseq.counts.gz\n",
      "quering...04404d33-da5c-4477-ae6a-b968332c48c0.htseq.counts.gz\n",
      "quering...72575c62-b2a8-4fde-8b05-ef6d76df0462.htseq.counts.gz\n",
      "quering...06c8dfda-b057-47cb-b435-9c2739694f6a.htseq.counts.gz\n",
      "quering...d6224860-0b09-4d96-8a50-4acb3f72e904.htseq.counts.gz\n",
      "quering...4e7c6811-88e4-4bb7-a88f-7491dfa6d072.htseq.counts.gz\n",
      "quering...11320586-6000-4f23-8e68-926175cfadf2.htseq.counts.gz\n",
      "quering...df959336-a712-47a9-9042-b2b6bc01e813.htseq.counts.gz\n",
      "quering...f1038bc1-954d-4476-8abe-85093c206a5d.htseq.counts.gz\n",
      "quering...ace439dd-127d-4f64-8028-506fd5ea03de.htseq.counts.gz\n",
      "quering...adcc8dd9-0bb9-45eb-b44e-013c7167dd83.htseq.counts.gz\n",
      "quering...6525a459-76eb-4c64-b061-f674797f9b81.htseq.counts.gz\n",
      "quering...b39f2bfa-5d4b-4bbe-9870-a93efff7bc5c.htseq.counts.gz\n",
      "quering...d314696b-bbb9-425a-8a3a-5d32ec57af17.htseq.counts.gz\n",
      "quering...d3085a8c-2850-4e9a-a0d0-7443b14d207b.htseq.counts.gz\n",
      "quering...2e81bac9-aafa-4aba-ba62-327e3bc8dc51.htseq.counts.gz\n",
      "quering...e4b288d5-b877-42fb-a525-8ed6424338db.htseq.counts.gz\n",
      "quering...c182c07a-224c-44b5-bf0e-9bcfaa33ecc1.htseq.counts.gz\n",
      "quering...05261012-4f7a-4c5e-a1e8-ffb440ec80cf.htseq.counts.gz\n",
      "quering...b49d2b1e-310f-4278-a7c2-5ea95c2c7c43.htseq.counts.gz\n",
      "quering...63691c59-d630-4b06-82bb-3d0587638a33.htseq.counts.gz\n",
      "quering...c2357737-ad60-4603-9ce3-4b30cc45d30b.htseq.counts.gz\n",
      "quering...3be1b9f1-f61a-426c-ae3c-a94517d0f9d7.htseq.counts.gz\n",
      "quering...eb013d15-9a9d-4645-a009-a0d83a7a4590.htseq.counts.gz\n",
      "quering...a6511301-e89e-46a4-8d57-c9803b0ac174.htseq.counts.gz\n",
      "quering...f6893b7f-2472-416b-b137-33dae673d150.htseq.counts.gz\n",
      "quering...4410295f-d9fc-43b6-8064-17ec17d5fb17.htseq.counts.gz\n",
      "quering...5e2b0dc5-c09b-4334-9f2f-c8e75380d45c.htseq.counts.gz\n",
      "quering...34a01f97-6758-45ea-930c-0b829a064944.htseq.counts.gz\n",
      "quering...9e189255-33ba-4802-934b-dd8a7898ef0a.htseq.counts.gz\n",
      "quering...088506d0-2717-4a75-b353-88bc1a225212.htseq.counts.gz\n",
      "quering...e0d6a42a-2efb-4b3f-9b59-da07dadc01a4.htseq.counts.gz\n",
      "quering...e53e1a83-1979-4e12-bbb7-79b37d0cfe03.htseq.counts.gz\n",
      "quering...e7675043-6679-4179-af84-dc401102aa8c.htseq.counts.gz\n",
      "quering...058cd2dd-6bea-4188-8bb2-3314723c0762.htseq.counts.gz\n",
      "quering...96f97dd0-3c7a-4a8c-a165-9ab14c9fcef6.htseq.counts.gz\n",
      "quering...5d362da1-aee5-403a-a16c-97d7d7b9d219.htseq.counts.gz\n",
      "quering...e19da22a-2a4e-43ff-acff-12aeafa3a2c1.htseq.counts.gz\n",
      "quering...fda5b844-1fa4-462e-bd3b-482025f6ee30.htseq.counts.gz\n",
      "quering...123db725-bd0a-4b20-ba1d-9cc3a8948f70.htseq.counts.gz\n",
      "quering...8e0528dd-5f85-4f48-937c-9e1455fbda78.htseq.counts.gz\n",
      "quering...a865bc94-a60d-4927-a842-8c0d6fced029.htseq.counts.gz\n",
      "quering...e8f1fe81-08ce-4db4-bd74-5f9d4b4143f3.htseq.counts.gz\n",
      "quering...97503aa9-93a5-4ff6-bb19-203ea235c2bf.htseq.counts.gz\n",
      "quering...fc5dea3c-dfa2-4d52-ac5a-49335d6d5eaf.htseq.counts.gz\n",
      "quering...f596eabc-e39a-4e35-9fc6-edade04eb785.htseq.counts.gz\n",
      "quering...2f69766d-36f5-446d-ac2f-edf68ce4eaa9.htseq.counts.gz\n",
      "quering...1d975006-4e14-4f2c-be5f-e09f58790d62.htseq.counts.gz\n",
      "quering...9dc13355-5e6a-4d51-a58f-816699c1f466.htseq.counts.gz\n",
      "quering...2abfe58f-f168-413f-a56f-4c3c2aedbe3d.htseq.counts.gz\n",
      "quering...c092a289-d058-4a3f-85b6-da3fde34568d.htseq.counts.gz\n",
      "quering...b53f9a9d-b24d-410d-b3e9-f2a8bf22ca27.htseq.counts.gz\n",
      "quering...6e0407fb-7b98-4cc8-a6f0-f6e7f5935eca.htseq.counts.gz\n",
      "quering...751f84dc-7c2d-417a-bc1f-6d5771f6f09f.htseq.counts.gz\n",
      "quering...2c1aca0d-6c50-4f1e-9edf-fec9ec32da69.htseq.counts.gz\n",
      "quering...bbf586b3-2d8d-4a50-b5b1-7d0c75b6570d.htseq.counts.gz\n",
      "quering...b65c7ed9-f7ef-41ea-8d92-793a6630f424.htseq.counts.gz\n",
      "quering...e39de159-abd7-4185-8c20-ca6f27827f31.htseq.counts.gz\n",
      "quering...ca75e00b-f5e2-4904-a53b-36a1314e8e86.htseq.counts.gz\n",
      "quering...36f45f98-2390-4c73-aa64-079e175034c6.htseq.counts.gz\n",
      "quering...eda58f69-4a60-4072-aa1c-541a90d2d80b.htseq.counts.gz\n",
      "quering...52e5f11b-9a73-4535-9e4d-720fe8feca0a.htseq.counts.gz\n",
      "quering...6e933523-30a6-46a8-833d-7379b88c1c14.htseq.counts.gz\n",
      "quering...424d8e5f-9fc6-470b-ad2c-b4447b0eb07e.htseq.counts.gz\n",
      "quering...23fb4808-3b58-41b9-9c15-0ef53cafb713.htseq.counts.gz\n",
      "quering...7e5759aa-8b94-4c50-8d62-779c69e29b79.htseq.counts.gz\n",
      "quering...c8544a8a-4352-438d-94d4-3495af2e9a78.htseq.counts.gz\n",
      "quering...f006e10f-a564-425c-8d92-0b8c3d5c038f.htseq.counts.gz\n",
      "quering...bf8d10e1-1241-48fa-95a2-9e97fc58c17a.htseq.counts.gz\n",
      "quering...dade0b16-ecc3-43b3-b328-3819a8fc18c6.htseq.counts.gz\n",
      "quering...9f43c5bf-0fc1-4339-81a2-1d315d6940e7.htseq.counts.gz\n",
      "quering...978145ba-cca3-4244-8a98-9cedb455bd9b.htseq.counts.gz\n",
      "quering...86679663-dfc5-46ad-8cf9-c7954c4b339b.htseq.counts.gz\n",
      "quering...371cce1a-08bb-49a1-9e85-645d4174decd.htseq.counts.gz\n",
      "quering...77489a8a-5b35-4350-87c9-a588fcc0794c.htseq.counts.gz\n",
      "quering...99b6e196-2624-48bd-8922-d7c3af7e0d36.htseq.counts.gz\n",
      "quering...791be1d7-104d-452d-9d2c-25276bc5f31a.htseq.counts.gz\n",
      "quering...1b563146-6ead-41ba-9117-c9b1c5d4127f.htseq.counts.gz\n",
      "quering...de796614-444b-4e3e-b4e6-fb3a78ef6f65.htseq.counts.gz\n",
      "quering...25b8756b-61b5-40f8-bbdf-7b2de810c92f.htseq.counts.gz\n",
      "quering...a8e396d2-9528-4d8d-8e22-f56be5397cc1.htseq.counts.gz\n",
      "quering...5ada9c2e-2b69-441d-94e0-71ef126a886f.htseq.counts.gz\n",
      "quering...f5c9ea63-ff66-441a-9a6b-055fdcd7cae9.htseq.counts.gz\n",
      "quering...146b8525-8ea4-4976-aac3-080e14a80fc0.htseq.counts.gz\n",
      "quering...771bbbfd-e1fd-4dfd-b822-3e091ef656d2.htseq.counts.gz\n",
      "quering...55aa6d16-3598-42ca-8844-0fe84739ef66.htseq.counts.gz\n",
      "quering...9c22b778-e2dc-4fa7-a135-2b78926bb82b.htseq.counts.gz\n",
      "quering...bc26fe03-e143-4cdf-a1a0-c604f22d78e2.htseq.counts.gz\n",
      "quering...de592955-56f1-498c-adf6-99e382102476.htseq.counts.gz\n",
      "quering...2f6070c7-99d0-49bb-83ca-33c032650cde.htseq.counts.gz\n",
      "quering...3381f3a8-9040-4ea7-bb84-76a043f5d6b0.htseq.counts.gz\n",
      "quering...b26f9ac5-9100-4530-8582-11ab9dbfd669.htseq.counts.gz\n",
      "quering...b7b21fe3-2e21-4282-a707-da3c69a4453b.htseq.counts.gz\n",
      "quering...a902f09a-115f-4374-ad8a-4aace335fbbb.htseq.counts.gz\n",
      "quering...49072d20-b1fd-485c-b9c7-6169ce301481.htseq.counts.gz\n",
      "quering...43b292be-5d63-4523-a43f-666d20039208.htseq.counts.gz\n",
      "quering...ec78640c-f4de-4d18-bf7c-9e5391feb915.htseq.counts.gz\n",
      "quering...ef8d5ef0-1834-4a2d-a916-4862ce9dc136.htseq.counts.gz\n",
      "quering...d9a7bb79-e262-4976-aa25-26cb9baa2c99.htseq.counts.gz\n",
      "quering...fabefb10-5546-4017-8ea1-29982a10fb3c.htseq.counts.gz\n",
      "quering...2a2b0e0f-d54a-4902-8778-500364fcc0c5.htseq.counts.gz\n",
      "quering...789db3c8-c5cd-428d-aaef-e3f60c40bc9a.htseq.counts.gz\n",
      "quering...f3895ae4-1228-49b3-9342-3c3b86cb5243.htseq.counts.gz\n",
      "quering...db9a7c76-8e42-4f1a-81a3-a9d4eb5365aa.htseq.counts.gz\n",
      "quering...baf57a44-5eb7-4fdb-bbf6-ee006a122360.htseq.counts.gz\n",
      "quering...ae9b8c3d-6bf6-4b5c-b2f0-c9ddc334634e.htseq.counts.gz\n",
      "quering...42c56861-1c90-41e0-a5d5-324e5fd80ea8.htseq.counts.gz\n",
      "quering...dfeb2d54-28da-4521-b488-bdac246bb59b.htseq.counts.gz\n",
      "quering...81a64df9-c073-4097-ba73-896396da3135.htseq.counts.gz\n",
      "quering...c41b924e-d405-4501-a981-1c04d70a841e.htseq.counts.gz\n",
      "quering...6f699ea3-1d77-493e-9e9b-a3e2abbd2873.htseq.counts.gz\n",
      "quering...af65de12-4ba6-472d-ba11-22ee07004ba5.htseq.counts.gz\n",
      "quering...f590941d-19dc-427a-95b6-942c97ea8333.htseq.counts.gz\n",
      "quering...1e50d68e-ac09-42ad-9678-bc0598328037.htseq.counts.gz\n",
      "quering...51e55e7a-5fef-4451-af1b-49ed4ced9ac7.htseq.counts.gz\n",
      "quering...90a46dce-5762-47ec-925c-deff853069aa.htseq.counts.gz\n",
      "quering...6f4f4e5d-d81e-402e-859f-3ee580a8bbde.htseq.counts.gz\n",
      "quering...42e6517c-02ff-491b-8315-9ef163e6cfdc.htseq.counts.gz\n",
      "quering...bbb89e05-7c84-4905-9a05-8315c16d26b8.htseq.counts.gz\n",
      "quering...a26d49db-2309-46a0-a3ed-275378d484e7.htseq.counts.gz\n",
      "quering...02ddfa3d-13b3-4624-994d-62e740fa4a3d.htseq.counts.gz\n",
      "quering...6f90946a-0a30-49e8-8699-7a8890c01aed.htseq.counts.gz\n",
      "quering...e875ae4e-4645-4e84-b0ff-9c9a694717a9.htseq.counts.gz\n"
     ]
    },
    {
     "name": "stdout",
     "output_type": "stream",
     "text": [
      "quering...228845f8-1ad7-4193-a570-e17871798c67.htseq.counts.gz\n",
      "quering...d265829a-9e49-4e21-ba72-67f5ba406204.htseq.counts.gz\n",
      "quering...72a79a28-907d-42b8-9722-93448b87c3d2.htseq.counts.gz\n",
      "quering...e82223ad-33c0-47fd-b0f2-982da64d0cb2.htseq.counts.gz\n",
      "quering...37e498a7-b147-4c38-a3f5-ed283d57f97a.htseq.counts.gz\n",
      "quering...c264fe3b-482b-44ec-83a4-73df565663ff.htseq.counts.gz\n",
      "quering...9e97f017-6855-4d68-bd2a-c4da3ccb1d57.htseq.counts.gz\n",
      "quering...15864159-be88-41c8-bdef-c2c5927cb1a1.htseq.counts.gz\n",
      "quering...e2bdca76-7bc5-4143-a6f6-3c6642425c65.htseq.counts.gz\n",
      "quering...b1868d9d-ef06-4353-883b-230dae23f8b6.htseq.counts.gz\n",
      "quering...2b5f6764-5a5b-47dc-b0f8-7a548bab2e26.htseq.counts.gz\n",
      "quering...7324b2d6-dd30-4f99-a101-7c3d497bbcb8.htseq.counts.gz\n",
      "quering...95e726db-5ccc-4836-a2ae-7feaddaf9f1b.htseq.counts.gz\n",
      "quering...00cc9b4d-a847-464e-979a-7751e1a87ae3.htseq.counts.gz\n"
     ]
    }
   ],
   "source": [
    "#for sample in df_files.index:\n",
    "for sample in df_files[df_files['RPPA Clusters']==''].index:\n",
    "    try:\n",
    "        #sdf=queryFile(sample+'.FPKM.txt.gz')\n",
    "        sdf=queryFile(sample)\n",
    "        \n",
    "        df_files.at[sample,'primary_site'] = sdf['primary_site'][0]\n",
    "        df_files.at[sample, 'disease_type'] = sdf['disease_type'][0]\n",
    "        try:\n",
    "            #df_files.at[sample, 'RPPA Clusters'] = df_breast.loc[sdf['submitter_id'][0],:]['RPPA Clusters']\n",
    "            df_files.at[sample, 'RPPA Clusters'] = df_colon.loc[sdf['submitter_id'][0],'CMS']\n",
    "        except:\n",
    "            df_files.at[sample, 'RPPA Clusters'] = 'Other'\n",
    "    except:\n",
    "        for i in range(10):\n",
    "            try:\n",
    "                #sdf=queryFile(sample+'%1.0f.FPKM.txt'%i)\n",
    "                sdf=queryFile(sample)\n",
    "                df_files.drop(labels=sample, axis=0, inplace=True)\n",
    "                sample = sample+'%d'%i\n",
    "                df_files.at[sample,'primary_site'] = sdf['primary_site'][0]\n",
    "                df_files.at[sample, 'disease_type'] = sdf['disease_type'][0]\n",
    "                break\n",
    "            except:\n",
    "                print(\"error\")"
   ]
  },
  {
   "cell_type": "code",
   "execution_count": 32,
   "metadata": {},
   "outputs": [
    {
     "data": {
      "text/html": [
       "<div>\n",
       "<style scoped>\n",
       "    .dataframe tbody tr th:only-of-type {\n",
       "        vertical-align: middle;\n",
       "    }\n",
       "\n",
       "    .dataframe tbody tr th {\n",
       "        vertical-align: top;\n",
       "    }\n",
       "\n",
       "    .dataframe thead th {\n",
       "        text-align: right;\n",
       "    }\n",
       "</style>\n",
       "<table border=\"1\" class=\"dataframe\">\n",
       "  <thead>\n",
       "    <tr style=\"text-align: right;\">\n",
       "      <th></th>\n",
       "      <th>primary_site</th>\n",
       "      <th>disease_type</th>\n",
       "      <th>case_id</th>\n",
       "      <th>RPPA Clusters</th>\n",
       "    </tr>\n",
       "  </thead>\n",
       "  <tbody>\n",
       "    <tr>\n",
       "      <th>d2587070-cb7d-440d-ae49-52f5077248e6.htseq.counts.gz</th>\n",
       "      <td>Colon</td>\n",
       "      <td>Cystic, Mucinous and Serous Neoplasms</td>\n",
       "      <td></td>\n",
       "      <td>Other</td>\n",
       "    </tr>\n",
       "    <tr>\n",
       "      <th>97675f21-ce94-4e7c-bc46-179cc2903bf3.htseq.counts.gz</th>\n",
       "      <td>Colon</td>\n",
       "      <td>Adenomas and Adenocarcinomas</td>\n",
       "      <td></td>\n",
       "      <td>CMS3</td>\n",
       "    </tr>\n",
       "    <tr>\n",
       "      <th>646d58e7-b7e2-4b2b-bb37-3ca20b601213.htseq.counts.gz</th>\n",
       "      <td>Colon</td>\n",
       "      <td>Adenomas and Adenocarcinomas</td>\n",
       "      <td></td>\n",
       "      <td>Other</td>\n",
       "    </tr>\n",
       "    <tr>\n",
       "      <th>0f2b58b4-7d91-48f3-8901-b624e3d6aa51.htseq.counts.gz</th>\n",
       "      <td>Colon</td>\n",
       "      <td>Adenomas and Adenocarcinomas</td>\n",
       "      <td></td>\n",
       "      <td>unknown</td>\n",
       "    </tr>\n",
       "    <tr>\n",
       "      <th>3eb03db7-efc1-4f20-bbc9-61551905eb9b.htseq.counts.gz</th>\n",
       "      <td>Colon</td>\n",
       "      <td>Adenomas and Adenocarcinomas</td>\n",
       "      <td></td>\n",
       "      <td>Other</td>\n",
       "    </tr>\n",
       "  </tbody>\n",
       "</table>\n",
       "</div>"
      ],
      "text/plain": [
       "                                                   primary_site  \\\n",
       "d2587070-cb7d-440d-ae49-52f5077248e6.htseq.coun...        Colon   \n",
       "97675f21-ce94-4e7c-bc46-179cc2903bf3.htseq.coun...        Colon   \n",
       "646d58e7-b7e2-4b2b-bb37-3ca20b601213.htseq.coun...        Colon   \n",
       "0f2b58b4-7d91-48f3-8901-b624e3d6aa51.htseq.coun...        Colon   \n",
       "3eb03db7-efc1-4f20-bbc9-61551905eb9b.htseq.coun...        Colon   \n",
       "\n",
       "                                                                             disease_type  \\\n",
       "d2587070-cb7d-440d-ae49-52f5077248e6.htseq.coun...  Cystic, Mucinous and Serous Neoplasms   \n",
       "97675f21-ce94-4e7c-bc46-179cc2903bf3.htseq.coun...           Adenomas and Adenocarcinomas   \n",
       "646d58e7-b7e2-4b2b-bb37-3ca20b601213.htseq.coun...           Adenomas and Adenocarcinomas   \n",
       "0f2b58b4-7d91-48f3-8901-b624e3d6aa51.htseq.coun...           Adenomas and Adenocarcinomas   \n",
       "3eb03db7-efc1-4f20-bbc9-61551905eb9b.htseq.coun...           Adenomas and Adenocarcinomas   \n",
       "\n",
       "                                                   case_id RPPA Clusters  \n",
       "d2587070-cb7d-440d-ae49-52f5077248e6.htseq.coun...                 Other  \n",
       "97675f21-ce94-4e7c-bc46-179cc2903bf3.htseq.coun...                  CMS3  \n",
       "646d58e7-b7e2-4b2b-bb37-3ca20b601213.htseq.coun...                 Other  \n",
       "0f2b58b4-7d91-48f3-8901-b624e3d6aa51.htseq.coun...               unknown  \n",
       "3eb03db7-efc1-4f20-bbc9-61551905eb9b.htseq.coun...                 Other  "
      ]
     },
     "execution_count": 32,
     "metadata": {},
     "output_type": "execute_result"
    }
   ],
   "source": [
    "df_files.head()"
   ]
  },
  {
   "cell_type": "code",
   "execution_count": 36,
   "metadata": {},
   "outputs": [],
   "source": [
    "df_files.to_csv(\"files.dat\", index=True, header=True)"
   ]
  },
  {
   "cell_type": "markdown",
   "metadata": {},
   "source": [
    "## lenght correlations"
   ]
  },
  {
   "cell_type": "code",
   "execution_count": null,
   "metadata": {},
   "outputs": [],
   "source": [
    "df_mv=pd.read_csv(\"meanVariances.csv\", index_col=[0])"
   ]
  },
  {
   "cell_type": "code",
   "execution_count": null,
   "metadata": {},
   "outputs": [],
   "source": [
    "df_mv.insert(3,'lenght',q_many['lenght'])\n",
    "df_mv.head()"
   ]
  },
  {
   "cell_type": "code",
   "execution_count": null,
   "metadata": {},
   "outputs": [],
   "source": [
    "df_mv = df_mv.sort_values(by='lenght',axis=0, ascending=False)"
   ]
  },
  {
   "cell_type": "code",
   "execution_count": null,
   "metadata": {},
   "outputs": [],
   "source": []
  },
  {
   "cell_type": "markdown",
   "metadata": {},
   "source": [
    "# Quantilize"
   ]
  },
  {
   "cell_type": "code",
   "execution_count": null,
   "metadata": {},
   "outputs": [],
   "source": [
    "from tableanalyser import discretize_df_columns"
   ]
  },
  {
   "cell_type": "code",
   "execution_count": null,
   "metadata": {},
   "outputs": [],
   "source": [
    "%timeit\n",
    "qdf = discretize_df_columns(df)"
   ]
  },
  {
   "cell_type": "code",
   "execution_count": null,
   "metadata": {},
   "outputs": [],
   "source": [
    "qdf.to_csv(\"mainTable_quartiles.csv\", index=True, header=True)"
   ]
  },
  {
   "cell_type": "code",
   "execution_count": null,
   "metadata": {},
   "outputs": [],
   "source": []
  },
  {
   "cell_type": "code",
   "execution_count": null,
   "metadata": {},
   "outputs": [],
   "source": []
  },
  {
   "cell_type": "markdown",
   "metadata": {},
   "source": [
    "# Filter tissues"
   ]
  },
  {
   "cell_type": "code",
   "execution_count": null,
   "metadata": {},
   "outputs": [],
   "source": [
    "df_files = pd.read_csv(\"files.dat\", index_col=[0])"
   ]
  },
  {
   "cell_type": "code",
   "execution_count": null,
   "metadata": {},
   "outputs": [],
   "source": [
    "np.sort(df_files['primary_site'].unique())"
   ]
  },
  {
   "cell_type": "code",
   "execution_count": null,
   "metadata": {},
   "outputs": [],
   "source": [
    "samples = df_files[df_files['primary_site'].isin(['Blood', 'Brain', 'Colon', 'Uterus, NOS', 'Skin', 'Breast', 'Pancreas', 'Kidney'])].index.values"
   ]
  },
  {
   "cell_type": "code",
   "execution_count": null,
   "metadata": {},
   "outputs": [],
   "source": [
    "df.loc[:,samples].to_csv(\"main_Table_subtissues.csv\",index=True, header=True)"
   ]
  },
  {
   "cell_type": "code",
   "execution_count": null,
   "metadata": {},
   "outputs": [],
   "source": []
  }
 ],
 "metadata": {
  "kernelspec": {
   "display_name": "Python 3",
   "language": "python",
   "name": "python3"
  },
  "language_info": {
   "codemirror_mode": {
    "name": "ipython",
    "version": 3
   },
   "file_extension": ".py",
   "mimetype": "text/x-python",
   "name": "python",
   "nbconvert_exporter": "python",
   "pygments_lexer": "ipython3",
   "version": "3.6.8"
  }
 },
 "nbformat": 4,
 "nbformat_minor": 2
}
