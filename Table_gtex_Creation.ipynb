{
 "cells": [
  {
   "cell_type": "code",
   "execution_count": 26,
   "metadata": {},
   "outputs": [],
   "source": [
    "import os\n",
    "import sys\n",
    "import pandas as pd\n",
    "import numpy as np\n",
    "import regex as re\n",
    "from matplotlib import pyplot as plt\n",
    "import requests as rq"
   ]
  },
  {
   "cell_type": "code",
   "execution_count": 43,
   "metadata": {},
   "outputs": [
    {
     "name": "stdout",
     "output_type": "stream",
     "text": [
      "Symbol: SYNJ1\n",
      "ENSG: ENSG00000159082\n"
     ]
    }
   ],
   "source": [
    "headers = {\n",
    "'Accept': 'application/json',\n",
    "}\n",
    "\n",
    "uri = 'http://rest.genenames.org'\n",
    "path = '/fetch/symbol/SYNJ1'\n",
    "\n",
    "response = rq.get(uri+path, headers=headers)\n",
    "\n",
    "data = response.json()\n",
    "print 'Symbol: ' + data['response']['docs'][0]['symbol']\n",
    "print 'ENSG: ' + data['response']['docs'][0]['ensembl_gene_id']"
   ]
  },
  {
   "cell_type": "code",
   "execution_count": null,
   "metadata": {},
   "outputs": [],
   "source": []
  },
  {
   "cell_type": "code",
   "execution_count": 2,
   "metadata": {},
   "outputs": [],
   "source": [
    "working_dir = \"/Users/filippo/Developer/tesi\"\n",
    "os.chdir(working_dir)\n",
    "files = os.listdir(\"data_gtex\")"
   ]
  },
  {
   "cell_type": "code",
   "execution_count": 4,
   "metadata": {},
   "outputs": [
    {
     "data": {
      "text/plain": [
       "53"
      ]
     },
     "execution_count": 4,
     "metadata": {},
     "output_type": "execute_result"
    }
   ],
   "source": [
    "len(files)"
   ]
  },
  {
   "cell_type": "code",
   "execution_count": 5,
   "metadata": {
    "scrolled": true
   },
   "outputs": [
    {
     "name": "stdout",
     "output_type": "stream",
     "text": [
      "60483\n"
     ]
    },
    {
     "data": {
      "text/html": [
       "<div>\n",
       "<style scoped>\n",
       "    .dataframe tbody tr th:only-of-type {\n",
       "        vertical-align: middle;\n",
       "    }\n",
       "\n",
       "    .dataframe tbody tr th {\n",
       "        vertical-align: top;\n",
       "    }\n",
       "\n",
       "    .dataframe thead th {\n",
       "        text-align: right;\n",
       "    }\n",
       "</style>\n",
       "<table border=\"1\" class=\"dataframe\">\n",
       "  <thead>\n",
       "    <tr style=\"text-align: right;\">\n",
       "      <th></th>\n",
       "      <th>type_of_gene</th>\n",
       "    </tr>\n",
       "  </thead>\n",
       "  <tbody>\n",
       "    <tr>\n",
       "      <th>ENSG00000242268</th>\n",
       "      <td>intergenic</td>\n",
       "    </tr>\n",
       "    <tr>\n",
       "      <th>ENSG00000270112</th>\n",
       "      <td>unknown</td>\n",
       "    </tr>\n",
       "    <tr>\n",
       "      <th>ENSG00000167578</th>\n",
       "      <td>protein-coding</td>\n",
       "    </tr>\n",
       "    <tr>\n",
       "      <th>ENSG00000273842</th>\n",
       "      <td>unknown</td>\n",
       "    </tr>\n",
       "    <tr>\n",
       "      <th>ENSG00000078237</th>\n",
       "      <td>protein-coding</td>\n",
       "    </tr>\n",
       "  </tbody>\n",
       "</table>\n",
       "</div>"
      ],
      "text/plain": [
       "                   type_of_gene\n",
       "ENSG00000242268      intergenic\n",
       "ENSG00000270112         unknown\n",
       "ENSG00000167578  protein-coding\n",
       "ENSG00000273842         unknown\n",
       "ENSG00000078237  protein-coding"
      ]
     },
     "execution_count": 5,
     "metadata": {},
     "output_type": "execute_result"
    }
   ],
   "source": [
    "df = pd.read_csv((\"%s/genes.txt\"%working_dir), header=[0], index_col=[0])\n",
    "print(len(df))\n",
    "df.head()"
   ]
  },
  {
   "cell_type": "code",
   "execution_count": null,
   "metadata": {},
   "outputs": [],
   "source": []
  },
  {
   "cell_type": "code",
   "execution_count": 7,
   "metadata": {
    "scrolled": true
   },
   "outputs": [
    {
     "name": "stdout",
     "output_type": "stream",
     "text": [
      "coad-rsem-fpkm-tcga.txt.gz\n",
      "prostate-rsem-fpkm-gtex.txt.gz\n",
      "esophagus_mus-rsem-fpkm-gtex.txt.gz\n",
      "hnsc-rsem-fpkm-tcga-t.txt.gz\n",
      "thca-rsem-fpkm-tcga-t.txt.gz\n",
      "hnsc-rsem-fpkm-tcga.txt.gz\n",
      "esophagus_gas-rsem-fpkm-gtex.txt.gz\n",
      "prad-rsem-fpkm-tcga-t.txt.gz\n",
      "kirp-rsem-fpkm-tcga-t.txt.gz\n",
      "luad-rsem-fpkm-tcga-t.txt.gz\n",
      "10\n"
     ]
    }
   ],
   "source": [
    "df=pd.read_csv(\"genes_hugo_symbol.txt\", index_col=[0])\n",
    "df.set_index('Hugo_Symbol', inplace=True)\n",
    "maxacceptables = 10\n",
    "added = 0\n",
    "for i,cfile in enumerate(files):\n",
    "    if(re.match(\"[a-zA-Z0-9\\-\\.]{1,35}[.gz]\",cfile)):\n",
    "        print(cfile)\n",
    "        cdf = pd.read_csv((\"%s/data_gtex/%s\"%(working_dir,cfile)), sep='\\t', header=[0], index_col=[0], compression='gzip')\n",
    "        try:\n",
    "            df = pd.concat([df,cdf.loc[:,cdf.keys()[1:]]], ignore_index=False, sort=False)\n",
    "            added=added+1\n",
    "        except:\n",
    "            print \"Unexpected error:\", sys.exc_info()[0]\n",
    "    if added >= maxacceptables:\n",
    "        break\n",
    "\n",
    "print(added)"
   ]
  },
  {
   "cell_type": "code",
   "execution_count": 23,
   "metadata": {},
   "outputs": [],
   "source": [
    "df.fillna(value=0., inplace=True)"
   ]
  },
  {
   "cell_type": "code",
   "execution_count": null,
   "metadata": {},
   "outputs": [],
   "source": []
  },
  {
   "cell_type": "code",
   "execution_count": 48,
   "metadata": {},
   "outputs": [
    {
     "data": {
      "text/plain": [
       "211945"
      ]
     },
     "execution_count": 48,
     "metadata": {},
     "output_type": "execute_result"
    }
   ],
   "source": []
  },
  {
   "cell_type": "code",
   "execution_count": null,
   "metadata": {},
   "outputs": [],
   "source": [
    "# df = pd.read_csv((\"%s/mainTable.csv\"%working_dir))"
   ]
  },
  {
   "cell_type": "code",
   "execution_count": 7,
   "metadata": {},
   "outputs": [],
   "source": [
    "#df.columns=['gene', 'breast', 'kidney', 'bronchus', 'brain']"
   ]
  },
  {
   "cell_type": "code",
   "execution_count": 8,
   "metadata": {},
   "outputs": [
    {
     "data": {
      "text/html": [
       "<div>\n",
       "<style scoped>\n",
       "    .dataframe tbody tr th:only-of-type {\n",
       "        vertical-align: middle;\n",
       "    }\n",
       "\n",
       "    .dataframe tbody tr th {\n",
       "        vertical-align: top;\n",
       "    }\n",
       "\n",
       "    .dataframe thead th {\n",
       "        text-align: right;\n",
       "    }\n",
       "</style>\n",
       "<table border=\"1\" class=\"dataframe\">\n",
       "  <thead>\n",
       "    <tr style=\"text-align: right;\">\n",
       "      <th></th>\n",
       "      <th>TCGA-A6-2675-11A-01R-1723-07</th>\n",
       "      <th>TCGA-A6-2685-11A-01R-A32Z-07</th>\n",
       "      <th>TCGA-AZ-6600-11A-01R-1774-07</th>\n",
       "      <th>TCGA-AZ-6598-11A-01R-1774-07</th>\n",
       "      <th>TCGA-AA-3525-11A-01R-A32Z-07</th>\n",
       "      <th>TCGA-AA-3520-11A-01R-A32Z-07</th>\n",
       "      <th>TCGA-A6-5667-11A-01R-1723-07</th>\n",
       "      <th>TCGA-AA-3713-11A-01R-1723-07</th>\n",
       "      <th>TCGA-AA-3514-11A-01R-A32Z-07</th>\n",
       "      <th>TCGA-A6-2686-11A-01R-A32Z-07</th>\n",
       "      <th>...</th>\n",
       "      <th>TCGA-78-7163-01A-12R-2066-07</th>\n",
       "      <th>TCGA-44-5645-01A-01R-A278-07</th>\n",
       "      <th>TCGA-86-7713-01A-11R-2066-07</th>\n",
       "      <th>TCGA-69-7764-01A-11R-2170-07</th>\n",
       "      <th>TCGA-86-7954-01A-11R-2187-07</th>\n",
       "      <th>TCGA-86-8056-01A-11R-2241-07</th>\n",
       "      <th>TCGA-64-5815-01A-01R-1628-07</th>\n",
       "      <th>TCGA-44-3398-01A-01R-1107-07</th>\n",
       "      <th>TCGA-55-6970-01A-11R-1949-07</th>\n",
       "      <th>TCGA-64-1680-01A-02R-0946-07</th>\n",
       "    </tr>\n",
       "    <tr>\n",
       "      <th>Hugo_Symbol</th>\n",
       "      <th></th>\n",
       "      <th></th>\n",
       "      <th></th>\n",
       "      <th></th>\n",
       "      <th></th>\n",
       "      <th></th>\n",
       "      <th></th>\n",
       "      <th></th>\n",
       "      <th></th>\n",
       "      <th></th>\n",
       "      <th></th>\n",
       "      <th></th>\n",
       "      <th></th>\n",
       "      <th></th>\n",
       "      <th></th>\n",
       "      <th></th>\n",
       "      <th></th>\n",
       "      <th></th>\n",
       "      <th></th>\n",
       "      <th></th>\n",
       "      <th></th>\n",
       "    </tr>\n",
       "  </thead>\n",
       "  <tbody>\n",
       "    <tr>\n",
       "      <th>DSCC1</th>\n",
       "      <td>NaN</td>\n",
       "      <td>NaN</td>\n",
       "      <td>NaN</td>\n",
       "      <td>NaN</td>\n",
       "      <td>NaN</td>\n",
       "      <td>NaN</td>\n",
       "      <td>NaN</td>\n",
       "      <td>NaN</td>\n",
       "      <td>NaN</td>\n",
       "      <td>NaN</td>\n",
       "      <td>...</td>\n",
       "      <td>NaN</td>\n",
       "      <td>NaN</td>\n",
       "      <td>NaN</td>\n",
       "      <td>NaN</td>\n",
       "      <td>NaN</td>\n",
       "      <td>NaN</td>\n",
       "      <td>NaN</td>\n",
       "      <td>NaN</td>\n",
       "      <td>NaN</td>\n",
       "      <td>NaN</td>\n",
       "    </tr>\n",
       "    <tr>\n",
       "      <th>SYNJ1</th>\n",
       "      <td>NaN</td>\n",
       "      <td>NaN</td>\n",
       "      <td>NaN</td>\n",
       "      <td>NaN</td>\n",
       "      <td>NaN</td>\n",
       "      <td>NaN</td>\n",
       "      <td>NaN</td>\n",
       "      <td>NaN</td>\n",
       "      <td>NaN</td>\n",
       "      <td>NaN</td>\n",
       "      <td>...</td>\n",
       "      <td>NaN</td>\n",
       "      <td>NaN</td>\n",
       "      <td>NaN</td>\n",
       "      <td>NaN</td>\n",
       "      <td>NaN</td>\n",
       "      <td>NaN</td>\n",
       "      <td>NaN</td>\n",
       "      <td>NaN</td>\n",
       "      <td>NaN</td>\n",
       "      <td>NaN</td>\n",
       "    </tr>\n",
       "    <tr>\n",
       "      <th>SSR4</th>\n",
       "      <td>NaN</td>\n",
       "      <td>NaN</td>\n",
       "      <td>NaN</td>\n",
       "      <td>NaN</td>\n",
       "      <td>NaN</td>\n",
       "      <td>NaN</td>\n",
       "      <td>NaN</td>\n",
       "      <td>NaN</td>\n",
       "      <td>NaN</td>\n",
       "      <td>NaN</td>\n",
       "      <td>...</td>\n",
       "      <td>NaN</td>\n",
       "      <td>NaN</td>\n",
       "      <td>NaN</td>\n",
       "      <td>NaN</td>\n",
       "      <td>NaN</td>\n",
       "      <td>NaN</td>\n",
       "      <td>NaN</td>\n",
       "      <td>NaN</td>\n",
       "      <td>NaN</td>\n",
       "      <td>NaN</td>\n",
       "    </tr>\n",
       "    <tr>\n",
       "      <th>PTPN6</th>\n",
       "      <td>NaN</td>\n",
       "      <td>NaN</td>\n",
       "      <td>NaN</td>\n",
       "      <td>NaN</td>\n",
       "      <td>NaN</td>\n",
       "      <td>NaN</td>\n",
       "      <td>NaN</td>\n",
       "      <td>NaN</td>\n",
       "      <td>NaN</td>\n",
       "      <td>NaN</td>\n",
       "      <td>...</td>\n",
       "      <td>NaN</td>\n",
       "      <td>NaN</td>\n",
       "      <td>NaN</td>\n",
       "      <td>NaN</td>\n",
       "      <td>NaN</td>\n",
       "      <td>NaN</td>\n",
       "      <td>NaN</td>\n",
       "      <td>NaN</td>\n",
       "      <td>NaN</td>\n",
       "      <td>NaN</td>\n",
       "    </tr>\n",
       "    <tr>\n",
       "      <th>FEM1B</th>\n",
       "      <td>NaN</td>\n",
       "      <td>NaN</td>\n",
       "      <td>NaN</td>\n",
       "      <td>NaN</td>\n",
       "      <td>NaN</td>\n",
       "      <td>NaN</td>\n",
       "      <td>NaN</td>\n",
       "      <td>NaN</td>\n",
       "      <td>NaN</td>\n",
       "      <td>NaN</td>\n",
       "      <td>...</td>\n",
       "      <td>NaN</td>\n",
       "      <td>NaN</td>\n",
       "      <td>NaN</td>\n",
       "      <td>NaN</td>\n",
       "      <td>NaN</td>\n",
       "      <td>NaN</td>\n",
       "      <td>NaN</td>\n",
       "      <td>NaN</td>\n",
       "      <td>NaN</td>\n",
       "      <td>NaN</td>\n",
       "    </tr>\n",
       "  </tbody>\n",
       "</table>\n",
       "<p>5 rows × 2647 columns</p>\n",
       "</div>"
      ],
      "text/plain": [
       "             TCGA-A6-2675-11A-01R-1723-07  TCGA-A6-2685-11A-01R-A32Z-07  \\\n",
       "Hugo_Symbol                                                               \n",
       "DSCC1                                 NaN                           NaN   \n",
       "SYNJ1                                 NaN                           NaN   \n",
       "SSR4                                  NaN                           NaN   \n",
       "PTPN6                                 NaN                           NaN   \n",
       "FEM1B                                 NaN                           NaN   \n",
       "\n",
       "             TCGA-AZ-6600-11A-01R-1774-07  TCGA-AZ-6598-11A-01R-1774-07  \\\n",
       "Hugo_Symbol                                                               \n",
       "DSCC1                                 NaN                           NaN   \n",
       "SYNJ1                                 NaN                           NaN   \n",
       "SSR4                                  NaN                           NaN   \n",
       "PTPN6                                 NaN                           NaN   \n",
       "FEM1B                                 NaN                           NaN   \n",
       "\n",
       "             TCGA-AA-3525-11A-01R-A32Z-07  TCGA-AA-3520-11A-01R-A32Z-07  \\\n",
       "Hugo_Symbol                                                               \n",
       "DSCC1                                 NaN                           NaN   \n",
       "SYNJ1                                 NaN                           NaN   \n",
       "SSR4                                  NaN                           NaN   \n",
       "PTPN6                                 NaN                           NaN   \n",
       "FEM1B                                 NaN                           NaN   \n",
       "\n",
       "             TCGA-A6-5667-11A-01R-1723-07  TCGA-AA-3713-11A-01R-1723-07  \\\n",
       "Hugo_Symbol                                                               \n",
       "DSCC1                                 NaN                           NaN   \n",
       "SYNJ1                                 NaN                           NaN   \n",
       "SSR4                                  NaN                           NaN   \n",
       "PTPN6                                 NaN                           NaN   \n",
       "FEM1B                                 NaN                           NaN   \n",
       "\n",
       "             TCGA-AA-3514-11A-01R-A32Z-07  TCGA-A6-2686-11A-01R-A32Z-07  \\\n",
       "Hugo_Symbol                                                               \n",
       "DSCC1                                 NaN                           NaN   \n",
       "SYNJ1                                 NaN                           NaN   \n",
       "SSR4                                  NaN                           NaN   \n",
       "PTPN6                                 NaN                           NaN   \n",
       "FEM1B                                 NaN                           NaN   \n",
       "\n",
       "                         ...               TCGA-78-7163-01A-12R-2066-07  \\\n",
       "Hugo_Symbol              ...                                              \n",
       "DSCC1                    ...                                        NaN   \n",
       "SYNJ1                    ...                                        NaN   \n",
       "SSR4                     ...                                        NaN   \n",
       "PTPN6                    ...                                        NaN   \n",
       "FEM1B                    ...                                        NaN   \n",
       "\n",
       "             TCGA-44-5645-01A-01R-A278-07  TCGA-86-7713-01A-11R-2066-07  \\\n",
       "Hugo_Symbol                                                               \n",
       "DSCC1                                 NaN                           NaN   \n",
       "SYNJ1                                 NaN                           NaN   \n",
       "SSR4                                  NaN                           NaN   \n",
       "PTPN6                                 NaN                           NaN   \n",
       "FEM1B                                 NaN                           NaN   \n",
       "\n",
       "             TCGA-69-7764-01A-11R-2170-07  TCGA-86-7954-01A-11R-2187-07  \\\n",
       "Hugo_Symbol                                                               \n",
       "DSCC1                                 NaN                           NaN   \n",
       "SYNJ1                                 NaN                           NaN   \n",
       "SSR4                                  NaN                           NaN   \n",
       "PTPN6                                 NaN                           NaN   \n",
       "FEM1B                                 NaN                           NaN   \n",
       "\n",
       "             TCGA-86-8056-01A-11R-2241-07  TCGA-64-5815-01A-01R-1628-07  \\\n",
       "Hugo_Symbol                                                               \n",
       "DSCC1                                 NaN                           NaN   \n",
       "SYNJ1                                 NaN                           NaN   \n",
       "SSR4                                  NaN                           NaN   \n",
       "PTPN6                                 NaN                           NaN   \n",
       "FEM1B                                 NaN                           NaN   \n",
       "\n",
       "             TCGA-44-3398-01A-01R-1107-07  TCGA-55-6970-01A-11R-1949-07  \\\n",
       "Hugo_Symbol                                                               \n",
       "DSCC1                                 NaN                           NaN   \n",
       "SYNJ1                                 NaN                           NaN   \n",
       "SSR4                                  NaN                           NaN   \n",
       "PTPN6                                 NaN                           NaN   \n",
       "FEM1B                                 NaN                           NaN   \n",
       "\n",
       "             TCGA-64-1680-01A-02R-0946-07  \n",
       "Hugo_Symbol                                \n",
       "DSCC1                                 NaN  \n",
       "SYNJ1                                 NaN  \n",
       "SSR4                                  NaN  \n",
       "PTPN6                                 NaN  \n",
       "FEM1B                                 NaN  \n",
       "\n",
       "[5 rows x 2647 columns]"
      ]
     },
     "execution_count": 8,
     "metadata": {},
     "output_type": "execute_result"
    }
   ],
   "source": [
    "df.head()"
   ]
  },
  {
   "cell_type": "code",
   "execution_count": 50,
   "metadata": {},
   "outputs": [
    {
     "name": "stdout",
     "output_type": "stream",
     "text": [
      "genes:211945\trealizations:2646\n"
     ]
    }
   ],
   "source": [
    "print((\"genes:%d\\trealizations:%d\"%(len(df.index),len(df.keys())-1)))"
   ]
  },
  {
   "cell_type": "code",
   "execution_count": 51,
   "metadata": {},
   "outputs": [],
   "source": [
    "df.to_csv((\"%s/tcgagtextable.csv\"%working_dir))"
   ]
  },
  {
   "cell_type": "code",
   "execution_count": null,
   "metadata": {},
   "outputs": [],
   "source": []
  },
  {
   "cell_type": "markdown",
   "metadata": {},
   "source": [
    "## Zipf"
   ]
  },
  {
   "cell_type": "code",
   "execution_count": 52,
   "metadata": {},
   "outputs": [
    {
     "data": {
      "image/png": "[encoded data removed]",
      "text/plain": [
       "<Figure size 432x288 with 1 Axes>"
      ]
     },
     "metadata": {
      "needs_background": "light"
     },
     "output_type": "display_data"
    }
   ],
   "source": [
    "A = [df.loc[:,df.keys()[9]].values, df.loc[:,df.keys()[45]].values, df.loc[:,df.keys()[42]].values]\n",
    "colors = ['red', 'blue', 'yellow']\n",
    "fig = plt.figure()\n",
    "x = np.arange(1, len(A[0]))\n",
    "plt.ylabel(\"frequencyi\")\n",
    "plt.xlabel(\"RANKi\")\n",
    "plt.yscale('log')\n",
    "plt.xscale('log')\n",
    "plt.plot(x, 1./x, 'g--', label='$r^{-\\\\alpha}$')\n",
    "for i,a in enumerate(A):\n",
    "    plt.plot(np.sort(a/np.sum(a))[::-1], c=colors[i], label = 'file') \n",
    "plt.legend(fontsize=16)\n",
    "plt.show()"
   ]
  },
  {
   "cell_type": "code",
   "execution_count": null,
   "metadata": {},
   "outputs": [],
   "source": []
  }
 ],
 "metadata": {
  "kernelspec": {
   "display_name": "Python 2",
   "language": "python",
   "name": "python2"
  },
  "language_info": {
   "codemirror_mode": {
    "name": "ipython",
    "version": 2
   },
   "file_extension": ".py",
   "mimetype": "text/x-python",
   "name": "python",
   "nbconvert_exporter": "python",
   "pygments_lexer": "ipython2",
   "version": "2.7.15"
  }
 },
 "nbformat": 4,
 "nbformat_minor": 2
}
