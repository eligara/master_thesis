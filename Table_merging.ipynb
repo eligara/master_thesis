{
 "cells": [
  {
   "cell_type": "code",
   "execution_count": null,
   "metadata": {},
   "outputs": [],
   "source": [
    "import os\n",
    "import pandas as pd\n",
    "import tensorflow as tf\n",
    "import matplotlib.pyplot as plt\n",
    "import numpy as np"
   ]
  },
  {
   "cell_type": "code",
   "execution_count": null,
   "metadata": {},
   "outputs": [],
   "source": [
    "os.chdir(\"/Users/filippo/Developer/tesi\")"
   ]
  },
  {
   "cell_type": "code",
   "execution_count": null,
   "metadata": {},
   "outputs": [],
   "source": [
    "try:\n",
    "    del df\n",
    "except:\n",
    "    pass\n",
    "df = None\n",
    "df_files = pd.DataFrame(columns=['files','tissue', 'status'])\n",
    "for tissuetype in os.listdir(\"merged/data\"):\n",
    "    if \".gz\" not in tissuetype:\n",
    "        continue\n",
    "    print(tissuetype)\n",
    "    newdf = pd.read_csv(\"merged/data/%s\"%tissuetype, index_col=[0], header=0, sep='\\t').drop('Entrez_Gene_Id', axis=1)\n",
    "    if df is None:\n",
    "        df=newdf\n",
    "    else:\n",
    "        df = df.join(newdf, )\n",
    "    newfiles = {\n",
    "        'files': newdf.columns.values,\n",
    "        'tissue':[tissuetype for _ in newdf.columns],\n",
    "        'status': ['healthy' if 'gtex' in tissuetype else 'tumour' for _ in newdf.columns]\n",
    "    }\n",
    "    df_files = df_files.append(pd.DataFrame(data=newfiles))\n",
    "    del newdf\n",
    "df_files.set_index('files',inplace=True)"
   ]
  },
  {
   "cell_type": "code",
   "execution_count": null,
   "metadata": {},
   "outputs": [],
   "source": [
    "symb_to_ensg = pd.read_csv(\"https://www.genenames.org/cgi-bin/download/custom?col=gd_app_sym&col=md_ensembl_id&status=Approved&status=Entry%20Withdrawn&hgnc_dbtag=on&order_by=gd_hgnc_id&format=text&submit=submit\", sep='\\t', index_col=0).dropna()"
   ]
  },
  {
   "cell_type": "code",
   "execution_count": null,
   "metadata": {},
   "outputs": [],
   "source": [
    "df_files.to_csv(\"merged/files.dat\", index=True, header=True)"
   ]
  },
  {
   "cell_type": "code",
   "execution_count": null,
   "metadata": {},
   "outputs": [],
   "source": [
    "remapper = symb_to_ensg[symb_to_ensg.index.isin(df.index.values)].to_dict()['Ensembl ID(supplied by Ensembl)']"
   ]
  },
  {
   "cell_type": "code",
   "execution_count": null,
   "metadata": {},
   "outputs": [],
   "source": [
    "df = df.loc[remapper.keys(),:]\n",
    "df = df.rename(index=remapper)\n",
    "df.reset_index(inplace=True)\n",
    "df.drop_duplicates(subset='Hugo_Symbol', keep='last', inplace=True)\n",
    "df.set_index('Hugo_Symbol',inplace=True)"
   ]
  },
  {
   "cell_type": "code",
   "execution_count": null,
   "metadata": {},
   "outputs": [],
   "source": [
    "df.dropna().to_csv(\"merged/mainTable.csv\", index=True, header=True)"
   ]
  },
  {
   "cell_type": "code",
   "execution_count": null,
   "metadata": {},
   "outputs": [],
   "source": [
    "#tf.reset_default_graph()"
   ]
  },
  {
   "cell_type": "code",
   "execution_count": null,
   "metadata": {},
   "outputs": [],
   "source": [
    "tfdf = tf.convert_to_tensor(pd.read_csv(\"merged/mainTable.csv\", header=0, index_col=0))"
   ]
  },
  {
   "cell_type": "code",
   "execution_count": null,
   "metadata": {},
   "outputs": [],
   "source": [
    "def make_zipf(df):\n",
    "    return tf.sort(tf.math.divide(tf.math.reduce_sum(df, 1),tf.math.reduce_sum(df)), direction='DESCENDING')"
   ]
  },
  {
   "cell_type": "code",
   "execution_count": null,
   "metadata": {},
   "outputs": [],
   "source": [
    "with tf.name_scope('tacos') as scope:\n",
    "    m = tf.math.reduce_mean(tfdf,1, name='means')\n",
    "    v = tf.math.reduce_variance(tfdf, 1)\n",
    "    two = tf.dtypes.cast(tf.constant(2),tf.float64)\n",
    "    cv2 = tf.math.divide(v, tf.math.pow(m,two))\n",
    "    occ = tf.map_fn(lambda x: tf.count_nonzero(x, dtype=tf.float64),tfdf)\n",
    "    M = tf.reduce_sum(tfdf, 0)\n",
    "    zipf = make_zipf(tfdf)"
   ]
  },
  {
   "cell_type": "code",
   "execution_count": null,
   "metadata": {},
   "outputs": [],
   "source": [
    "with tf.Session() as sess:\n",
    "    writer = tf.summary.FileWriter(\"output\", sess.graph)\n",
    "    runned = sess.run([m,v,cv2, occ, zipf,M])\n",
    "    nulltab = []\n",
    "    for Mi in runned[5]:\n",
    "        nulltab.append(np.random.multinomial(Mi,runned[4]))\n",
    "    tfdf_null=tf.transpose(tf.stack(nulltab))\n",
    "    zipf_null = tf.sort(tf.math.divide(tf.math.reduce_sum(tfdf_null, 1),tf.math.reduce_sum(tfdf_null)), direction='DESCENDING')\n",
    "    runned_null = sess.run([zipf_null, tf.math.reduce_mean(tfdf_null,1), tf.math.reduce_variance(tfdf_null, 1)])\n",
    "    writer.close()\n",
    "    sess.close()"
   ]
  },
  {
   "cell_type": "code",
   "execution_count": null,
   "metadata": {},
   "outputs": [],
   "source": [
    "plt.plot(runned[4])\n",
    "plt.plot(runned_null[0], c='r', ls='--')\n",
    "#plt.scatter(runned[3],runned[0])\n",
    "plt.xscale('log')\n",
    "plt.yscale('log')\n",
    "plt.show()"
   ]
  },
  {
   "cell_type": "code",
   "execution_count": null,
   "metadata": {},
   "outputs": [],
   "source": [
    "plt.scatter(runned[0], runned[1])\n",
    "plt.scatter(runned_null[1], runned_null[2])\n",
    "plt.plot(np.logspace(-1,5),np.power(np.logspace(-1,5),1))\n",
    "plt.plot(np.logspace(-1,5),np.power(np.logspace(-1,5),2))\n",
    "plt.xscale('log')\n",
    "plt.yscale('log')\n",
    "plt.show()"
   ]
  },
  {
   "cell_type": "code",
   "execution_count": null,
   "metadata": {},
   "outputs": [],
   "source": []
  },
  {
   "cell_type": "code",
   "execution_count": null,
   "metadata": {},
   "outputs": [],
   "source": []
  },
  {
   "cell_type": "code",
   "execution_count": null,
   "metadata": {},
   "outputs": [],
   "source": []
  }
 ],
 "metadata": {
  "kernelspec": {
   "display_name": "Python 3",
   "language": "python",
   "name": "python3"
  },
  "language_info": {
   "codemirror_mode": {
    "name": "ipython",
    "version": 3
   },
   "file_extension": ".py",
   "mimetype": "text/x-python",
   "name": "python",
   "nbconvert_exporter": "python",
   "pygments_lexer": "ipython3",
   "version": "3.6.8"
  }
 },
 "nbformat": 4,
 "nbformat_minor": 2
}
