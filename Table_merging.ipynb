{
 "cells": [
  {
   "cell_type": "code",
   "execution_count": 1,
   "metadata": {},
   "outputs": [],
   "source": [
    "import os\n",
    "import pandas as pd\n",
    "#import tensorflow as tf"
   ]
  },
  {
   "cell_type": "code",
   "execution_count": 2,
   "metadata": {},
   "outputs": [],
   "source": [
    "os.chdir(\"/Users/filippo/Developer/tesi\")"
   ]
  },
  {
   "cell_type": "code",
   "execution_count": 10,
   "metadata": {},
   "outputs": [
    {
     "name": "stdout",
     "output_type": "stream",
     "text": [
      "colon-tcga.txt.gz\n",
      "colon_sigmoid-tcga.gz\n",
      "breast-tcga.txt.gz\n",
      "stomach-gtex.txt.gz\n",
      "colon-gtex.txt.gz\n",
      "uterus-tcga.gz\n",
      "esophagus-tcga.txt.gz\n",
      "uterus-gtex.gz\n",
      "breast-gtex.txt.gz\n",
      "colon_trasverse-tcga.txt.gz\n",
      "thyroid-gtex.txt.gz\n",
      "esophagus_gas-gtex.txt.gz\n",
      "esophagus_mus-gtex.txt.gz\n",
      "stomach-tcga.gz\n",
      "bladder-tcga.txt.gz\n",
      "thyroid-tcga.gz\n",
      "lung-gtex.gz\n",
      "lung-tcga.gz\n",
      "esophagus_muc-gtex.txt.gz\n",
      "bladder-gtex.txt.gz\n"
     ]
    }
   ],
   "source": [
    "try:\n",
    "    del df\n",
    "except:\n",
    "    pass\n",
    "df = None\n",
    "df_files = pd.DataFrame(columns=['files','tissue', 'status'])\n",
    "for tissuetype in os.listdir(\"merged/data\"):\n",
    "    if \".gz\" not in tissuetype:\n",
    "        continue\n",
    "    print(tissuetype)\n",
    "    newdf = pd.read_csv(\"merged/data/%s\"%tissuetype, index_col=[0], header=0, sep='\\t').drop('Entrez_Gene_Id', axis=1)\n",
    "    if df is None:\n",
    "        df=newdf\n",
    "    else:\n",
    "        df = df.join(newdf, )\n",
    "    newfiles = {\n",
    "        'files': newdf.columns.values,\n",
    "        'tissue':[tissuetype for _ in newdf.columns],\n",
    "        'status': ['healthy' if 'gtex' in tissuetype else 'tumour' for _ in newdf.columns]\n",
    "    }\n",
    "    df_files = df_files.append(pd.DataFrame(data=newfiles))\n",
    "    del newdf\n",
    "df_files.set_index('files',inplace=True)"
   ]
  },
  {
   "cell_type": "code",
   "execution_count": 11,
   "metadata": {},
   "outputs": [],
   "source": [
    "symb_to_ensg = pd.read_csv(\"https://www.genenames.org/cgi-bin/download/custom?col=gd_app_sym&col=md_ensembl_id&status=Approved&status=Entry%20Withdrawn&hgnc_dbtag=on&order_by=gd_hgnc_id&format=text&submit=submit\", sep='\\t', index_col=0).dropna()"
   ]
  },
  {
   "cell_type": "code",
   "execution_count": 12,
   "metadata": {},
   "outputs": [],
   "source": [
    "df_files.to_csv(\"merged/files.dat\", index=True, header=True)"
   ]
  },
  {
   "cell_type": "code",
   "execution_count": 13,
   "metadata": {},
   "outputs": [],
   "source": [
    "remapper = symb_to_ensg[symb_to_ensg.index.isin(df.index.values)].to_dict()['Ensembl ID(supplied by Ensembl)']"
   ]
  },
  {
   "cell_type": "code",
   "execution_count": null,
   "metadata": {},
   "outputs": [],
   "source": [
    "df = df.loc[remapper.keys(),:]\n",
    "df = df.rename(index=remapper)\n",
    "df.reset_index(inplace=True)\n",
    "df.drop_duplicates(subset='Hugo_Symbol', keep='last', inplace=True)\n",
    "df.set_index('Hugo_Symbol',inplace=True)"
   ]
  },
  {
   "cell_type": "code",
   "execution_count": 21,
   "metadata": {},
   "outputs": [],
   "source": [
    "df.dropna().to_csv(\"merged/mainTable.csv\", index=True, header=True)"
   ]
  },
  {
   "cell_type": "code",
   "execution_count": null,
   "metadata": {},
   "outputs": [],
   "source": []
  },
  {
   "cell_type": "code",
   "execution_count": null,
   "metadata": {},
   "outputs": [],
   "source": [
    "tfdf = tf.convert_to_tensor(df)"
   ]
  },
  {
   "cell_type": "code",
   "execution_count": null,
   "metadata": {},
   "outputs": [],
   "source": [
    "tfmeans = tf.math.reduce_mean(tfdf,1)\n",
    "tfvariances = tf.math.reduce_variance(tfdf, 1)"
   ]
  },
  {
   "cell_type": "code",
   "execution_count": null,
   "metadata": {},
   "outputs": [],
   "source": [
    "with tf.Session() as sess:\n",
    "    means = sess.run(tfmeans).to_array()\n",
    "    variances = sess.run(tfvariances).to_array()\n",
    "    sess.close()"
   ]
  },
  {
   "cell_type": "code",
   "execution_count": null,
   "metadata": {},
   "outputs": [],
   "source": [
    "meansarr"
   ]
  },
  {
   "cell_type": "code",
   "execution_count": null,
   "metadata": {},
   "outputs": [],
   "source": [
    "pd.DataFrame.append()"
   ]
  }
 ],
 "metadata": {
  "kernelspec": {
   "display_name": "Python 3",
   "language": "python",
   "name": "python3"
  },
  "language_info": {
   "codemirror_mode": {
    "name": "ipython",
    "version": 3
   },
   "file_extension": ".py",
   "mimetype": "text/x-python",
   "name": "python",
   "nbconvert_exporter": "python",
   "pygments_lexer": "ipython3",
   "version": "3.6.8"
  }
 },
 "nbformat": 4,
 "nbformat_minor": 2
}
