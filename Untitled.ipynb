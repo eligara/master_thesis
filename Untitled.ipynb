{
 "cells": [
  {
   "cell_type": "code",
   "execution_count": null,
   "metadata": {},
   "outputs": [],
   "source": [
    "import os, sys\n",
    "import pandas as pd\n",
    "import numpy as np\n",
    "from sklearn.decomposition import PCA\n",
    "import findspark\n",
    "findspark.init()\n",
    "import pyspark as spark\n",
    "from pyspark.sql.functions import udf, col\n",
    "from pyspark.sql.types import StringType\n",
    "sc=spark.SparkContext()\n",
    "sql=spark.SQLContext(sc)"
   ]
  },
  {
   "cell_type": "code",
   "execution_count": null,
   "metadata": {},
   "outputs": [],
   "source": [
    "os.chdir(\"/Users/filippo/Developer/tesi/gtex/\")"
   ]
  },
  {
   "cell_type": "code",
   "execution_count": null,
   "metadata": {},
   "outputs": [],
   "source": [
    "genes = sql.read.option(\"header\",'true').csv('/Users/filippo/Developer/tesi/genes.txt')\n",
    "genes.registerTempTable(\"genes\")\n",
    "genes.select(\"type_of_gene\").distinct().show()\n",
    "pc = sql.sql(\"SELECT * FROM genes WHERE type_of_gene='protein-coding'\")\n",
    "pc_list = list(pc.select('_c0').toPandas().values.T[0])"
   ]
  },
  {
   "cell_type": "code",
   "execution_count": null,
   "metadata": {},
   "outputs": [],
   "source": [
    "df = sql.read.option(\"header\",True).option(\"delimiter\",'\\t').csv(\"/Users/filippo/Developer/tesi/gtex/GTEx_Analysis_2016-01-15_v7_RNASeQCv1.1.8_gene_reads.gct\")\n",
    "df = df.withColumn('ensg',udf(lambda x: x[:15], StringType())(col('Name')))\n",
    "df = df.filter(col(\"ensg\").isin(pc_list))"
   ]
  },
  {
   "cell_type": "code",
   "execution_count": null,
   "metadata": {},
   "outputs": [],
   "source": [
    "df_files = pd.read_csv(\"/Users/filippo/Developer/tesi/gtex/files.dat.ok\", index_col=0)"
   ]
  },
  {
   "cell_type": "code",
   "execution_count": null,
   "metadata": {},
   "outputs": [],
   "source": [
    "tissues = df_files['primary_site'].unique()"
   ]
  },
  {
   "cell_type": "code",
   "execution_count": null,
   "metadata": {},
   "outputs": [],
   "source": [
    "model=PCA()"
   ]
  },
  {
   "cell_type": "code",
   "execution_count": null,
   "metadata": {},
   "outputs": [],
   "source": [
    "expl_var = {}"
   ]
  },
  {
   "cell_type": "code",
   "execution_count": null,
   "metadata": {},
   "outputs": [],
   "source": [
    "for i in np.arange(2,len(tissues)-1,1,dtype=int):\n",
    "    print(i)\n",
    "    selected=df_files[df_files['primary_site'].isin(tissues[:i])].index.values\n",
    "    np.random.shuffle(selected)\n",
    "    data=df.select(list(selected[:100])).toPandas().transpose()\n",
    "    model.fit(data)\n",
    "    expl_var[i]=model.explained_variance_"
   ]
  },
  {
   "cell_type": "code",
   "execution_count": null,
   "metadata": {},
   "outputs": [],
   "source": [
    "import matplotlib.pyplot as plt"
   ]
  },
  {
   "cell_type": "code",
   "execution_count": null,
   "metadata": {},
   "outputs": [],
   "source": [
    "x=expl_var.keys()\n",
    "fig=plt.figure()\n",
    "for thr in [1e10,2.5e10,6e10]:\n",
    "    plot_data=[]\n",
    "    for k in expl_var.keys():\n",
    "        var=expl_var[k]\n",
    "        plot_data.append(len(var[var>thr]))\n",
    "    plt.plot(x,plot_data, marker='o', label=\"thr %.1e\"%thr)\n",
    "plt.xlabel('# tissues', fontsize=20)\n",
    "plt.ylabel('intrinsic\\ndimension', fontsize=20)\n",
    "plt.plot(x,x)\n",
    "plt.xticks(fontsize=20)\n",
    "plt.yticks(fontsize=20)\n",
    "plt.legend()\n",
    "plt.show()\n",
    "fig.savefig(\"intrinsic_dimension.pdf\")"
   ]
  },
  {
   "cell_type": "code",
   "execution_count": null,
   "metadata": {},
   "outputs": [],
   "source": [
    "pd.DataFrame(data=expl_var).to_csv(\"intrdim.csv\",index=False, header=True)"
   ]
  },
  {
   "cell_type": "code",
   "execution_count": null,
   "metadata": {},
   "outputs": [],
   "source": []
  }
 ],
 "metadata": {
  "kernelspec": {
   "display_name": "Python 3",
   "language": "python",
   "name": "python3"
  },
  "language_info": {
   "codemirror_mode": {
    "name": "ipython",
    "version": 3
   },
   "file_extension": ".py",
   "mimetype": "text/x-python",
   "name": "python",
   "nbconvert_exporter": "python",
   "pygments_lexer": "ipython3",
   "version": "3.6.9"
  }
 },
 "nbformat": 4,
 "nbformat_minor": 2
}
