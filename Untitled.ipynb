{
 "cells": [
  {
   "cell_type": "code",
   "execution_count": 81,
   "metadata": {},
   "outputs": [],
   "source": [
    "import numpy as np\n",
    "from scipy.special import factorial\n",
    "from scipy.stats import binned_statistic"
   ]
  },
  {
   "cell_type": "code",
   "execution_count": 115,
   "metadata": {},
   "outputs": [],
   "source": [
    "def S(e):\n",
    "    e=np.array(e)\n",
    "    s_ret=0\n",
    "    if len(e)!=len(e[0]):\n",
    "        raise ValueError(\"must be squared\")\n",
    "    er = np.sum(e, axis=0)\n",
    "    for r,_ in enumerate(er):\n",
    "        for s,_ in enumerate(er):\n",
    "            ers=e[r][s]\n",
    "            if ers!=0:\n",
    "                s_ret-=ers*np.log2(ers/er[r]/er[s])  \n",
    "    s_ret=s_ret/2\n",
    "    s_ret-=np.sum(e)/2\n",
    "    N_k,k,_ = binned_statistic(er,_, statistic='count', bins=len(er))\n",
    "    k=(k[1:]+k[:-1])/2\n",
    "    s_ret-=np.sum(N_k*np.log(factorial(k)))\n",
    "    return (s_ret, np.sum(e)/2, np.sum(N_k*np.log(factorial(k))), N_k)"
   ]
  },
  {
   "cell_type": "code",
   "execution_count": 116,
   "metadata": {},
   "outputs": [
    {
     "data": {
      "text/plain": [
       "(-0.6243596627864818, 12.0, 31.643909671440355, array([1., 0., 2., 1.]))"
      ]
     },
     "execution_count": 116,
     "metadata": {},
     "output_type": "execute_result"
    }
   ],
   "source": [
    "e=[\n",
    "    [0,0,5,5],\n",
    "    [0,0,1,1],\n",
    "    [5,1,0,0],\n",
    "    [5,1,0,0]\n",
    "]\n",
    "S(e)"
   ]
  },
  {
   "cell_type": "code",
   "execution_count": 117,
   "metadata": {},
   "outputs": [
    {
     "data": {
      "text/plain": [
       "(1.0180971681461308, 8.0, 13.472127827526933, array([0., 0., 4., 0.]))"
      ]
     },
     "execution_count": 117,
     "metadata": {},
     "output_type": "execute_result"
    }
   ],
   "source": [
    "e=[\n",
    "    [0,0,3,1],\n",
    "    [0,0,1,3],\n",
    "    [3,1,0,0],\n",
    "    [1,3,0,0]\n",
    "]\n",
    "S(e)"
   ]
  },
  {
   "cell_type": "code",
   "execution_count": 80,
   "metadata": {},
   "outputs": [
    {
     "data": {
      "text/plain": [
       "array([4.78749174, 0.        , 1.79175947, 1.79175947])"
      ]
     },
     "execution_count": 80,
     "metadata": {},
     "output_type": "execute_result"
    }
   ],
   "source": [
    "np.log(factorial(np.sum(e, axis=0)))"
   ]
  },
  {
   "cell_type": "code",
   "execution_count": 91,
   "metadata": {},
   "outputs": [
    {
     "data": {
      "text/plain": [
       "10.16277015046621"
      ]
     },
     "execution_count": 91,
     "metadata": {},
     "output_type": "execute_result"
    }
   ],
   "source": [
    "np.sum(N_k*np.log(factorial(np.sum(e, axis=0))))"
   ]
  },
  {
   "cell_type": "code",
   "execution_count": 110,
   "metadata": {},
   "outputs": [
    {
     "data": {
      "text/plain": [
       "array([4, 4, 4, 4])"
      ]
     },
     "execution_count": 110,
     "metadata": {},
     "output_type": "execute_result"
    }
   ],
   "source": [
    "np.sum(e, axis=0)"
   ]
  },
  {
   "cell_type": "code",
   "execution_count": 106,
   "metadata": {},
   "outputs": [],
   "source": [
    "N_k,k,_ = binned_statistic(np.sum(e, axis=0),_, statistic='count', bins=len(np.sum(e, axis=0)))"
   ]
  },
  {
   "cell_type": "code",
   "execution_count": 107,
   "metadata": {},
   "outputs": [
    {
     "data": {
      "text/plain": [
       "array([0., 0., 4., 0.])"
      ]
     },
     "execution_count": 107,
     "metadata": {},
     "output_type": "execute_result"
    }
   ],
   "source": [
    "N_k"
   ]
  },
  {
   "cell_type": "code",
   "execution_count": 111,
   "metadata": {},
   "outputs": [
    {
     "data": {
      "text/plain": [
       "array([3.625, 3.875, 4.125, 4.375])"
      ]
     },
     "execution_count": 111,
     "metadata": {},
     "output_type": "execute_result"
    }
   ],
   "source": [
    "(k[1:]+k[:-1])/2"
   ]
  },
  {
   "cell_type": "code",
   "execution_count": null,
   "metadata": {},
   "outputs": [],
   "source": []
  }
 ],
 "metadata": {
  "kernelspec": {
   "display_name": "Python 3",
   "language": "python",
   "name": "python3"
  },
  "language_info": {
   "codemirror_mode": {
    "name": "ipython",
    "version": 3
   },
   "file_extension": ".py",
   "mimetype": "text/x-python",
   "name": "python",
   "nbconvert_exporter": "python",
   "pygments_lexer": "ipython3",
   "version": "3.6.9"
  }
 },
 "nbformat": 4,
 "nbformat_minor": 2
}
