{
 "cells": [
  {
   "cell_type": "code",
   "execution_count": 1,
   "metadata": {},
   "outputs": [],
   "source": [
    "import pandas as pd\n",
    "import numpy as np\n",
    "import os\n",
    "from matplotlib import pyplot as plt"
   ]
  },
  {
   "cell_type": "code",
   "execution_count": 30,
   "metadata": {},
   "outputs": [],
   "source": [
    "#directory=\"/Volumes/GoogleDrive/My Drive/tesi_magistrale/tesi/results/counts/\"\n",
    "directory=\"/Volumes/GoogleDrive/My Drive/tesi_magistrale/tesi/gtex/results/protein-coding\"\n",
    "#directory=\"/Users/filippo/Developer/tesi/gtex\"\n",
    "os.chdir(directory)"
   ]
  },
  {
   "cell_type": "code",
   "execution_count": 31,
   "metadata": {},
   "outputs": [],
   "source": [
    "A=[]\n",
    "for a in open(\"A.dat\",'r'):\n",
    "    A.append(a)"
   ]
  },
  {
   "cell_type": "code",
   "execution_count": 32,
   "metadata": {},
   "outputs": [
    {
     "data": {
      "text/plain": [
       "array([0.00000e+00, 0.00000e+00, 0.00000e+00, ..., 9.33798e+09,\n",
       "       1.55589e+10, 1.71290e+10])"
      ]
     },
     "execution_count": 32,
     "metadata": {},
     "output_type": "execute_result"
    }
   ],
   "source": [
    "A = np.sort(np.array(A, dtype=float))\n",
    "A"
   ]
  },
  {
   "cell_type": "code",
   "execution_count": 33,
   "metadata": {},
   "outputs": [
    {
     "data": {
      "text/plain": [
       "18913"
      ]
     },
     "execution_count": 33,
     "metadata": {},
     "output_type": "execute_result"
    }
   ],
   "source": [
    "len(A)"
   ]
  },
  {
   "cell_type": "code",
   "execution_count": 34,
   "metadata": {},
   "outputs": [
    {
     "data": {
      "text/plain": [
       "671524902154.0"
      ]
     },
     "execution_count": 34,
     "metadata": {},
     "output_type": "execute_result"
    }
   ],
   "source": [
    "norm = np.sum(A,dtype=float)\n",
    "norm"
   ]
  },
  {
   "cell_type": "code",
   "execution_count": 35,
   "metadata": {},
   "outputs": [
    {
     "data": {
      "image/png": "[encoded data removed]",
      "text/plain": [
       "<matplotlib.figure.Figure at 0x11d9bca58>"
      ]
     },
     "metadata": {
      "needs_background": "light"
     },
     "output_type": "display_data"
    }
   ],
   "source": [
    "fig = plt.figure(figsize=(7,5))\n",
    "x = np.arange(1, len(A))\n",
    "plt.ylabel(\"$Frequency, f_i$\", fontsize=20)\n",
    "plt.xlabel(\"$RANK, i$\", fontsize=20)\n",
    "plt.yscale('log')\n",
    "plt.xscale('log')\n",
    "#plt.ylim(1e-7,1)\n",
    "plt.plot(x, 1./x, 'g--', label='$i^{-1}$')\n",
    "plt.plot(np.sort(A/norm)[::-1], c='blue', label='Genes')\n",
    "plt.legend(fontsize=20)\n",
    "plt.show()"
   ]
  },
  {
   "cell_type": "code",
   "execution_count": 36,
   "metadata": {},
   "outputs": [],
   "source": [
    "fig.savefig(\"globalzipf.pdf\")"
   ]
  },
  {
   "cell_type": "markdown",
   "metadata": {},
   "source": [
    "# Occurrences distribution"
   ]
  },
  {
   "cell_type": "code",
   "execution_count": 9,
   "metadata": {},
   "outputs": [],
   "source": [
    "O=[]\n",
    "for o in open(\"O.dat\",'r'):\n",
    "    O.append(o)"
   ]
  },
  {
   "cell_type": "code",
   "execution_count": 10,
   "metadata": {},
   "outputs": [
    {
     "data": {
      "image/png": "[encoded data removed]",
      "text/plain": [
       "<matplotlib.figure.Figure at 0x1175ac390>"
      ]
     },
     "metadata": {
      "needs_background": "light"
     },
     "output_type": "display_data"
    }
   ],
   "source": [
    "bins = 11\n",
    "rang = (0-0.5/bins, 1+0.5/bins)\n",
    "fig=plt.figure()\n",
    "plt.hist(np.array(O, dtype=float), histtype='step', lw=2, range = rang, color='blue', density=True)\n",
    "plt.xlabel(\"$o_i$\", fontsize=16)\n",
    "plt.ylabel(\"pdf\")\n",
    "plt.show()"
   ]
  },
  {
   "cell_type": "code",
   "execution_count": 11,
   "metadata": {},
   "outputs": [],
   "source": [
    "fig.savefig(\"globalU.pdf\")"
   ]
  },
  {
   "cell_type": "markdown",
   "metadata": {},
   "source": [
    "# null model"
   ]
  },
  {
   "cell_type": "markdown",
   "metadata": {},
   "source": [
    "## zipf"
   ]
  },
  {
   "cell_type": "code",
   "execution_count": 12,
   "metadata": {},
   "outputs": [],
   "source": [
    "A_null=[]\n",
    "for a in open(\"A_null.dat\",'r'):\n",
    "    A_null.append(a)"
   ]
  },
  {
   "cell_type": "code",
   "execution_count": 13,
   "metadata": {},
   "outputs": [],
   "source": [
    "A_null=A"
   ]
  },
  {
   "cell_type": "code",
   "execution_count": 14,
   "metadata": {},
   "outputs": [
    {
     "data": {
      "text/plain": [
       "18913"
      ]
     },
     "execution_count": 14,
     "metadata": {},
     "output_type": "execute_result"
    }
   ],
   "source": [
    "A_null = np.array(A_null, dtype=float)\n",
    "len(A_null)"
   ]
  },
  {
   "cell_type": "code",
   "execution_count": 15,
   "metadata": {},
   "outputs": [
    {
     "data": {
      "text/plain": [
       "671524902154.0"
      ]
     },
     "execution_count": 15,
     "metadata": {},
     "output_type": "execute_result"
    }
   ],
   "source": [
    "norm_null = np.sum(A_null)\n",
    "norm_null"
   ]
  },
  {
   "cell_type": "code",
   "execution_count": 16,
   "metadata": {},
   "outputs": [
    {
     "data": {
      "image/png": "[encoded data removed]",
      "text/plain": [
       "<matplotlib.figure.Figure at 0x1177149b0>"
      ]
     },
     "metadata": {
      "needs_background": "light"
     },
     "output_type": "display_data"
    }
   ],
   "source": [
    "fig = plt.figure(figsize=(7,5))\n",
    "x = np.arange(1, len(A))\n",
    "plt.ylabel(\"$frequency_i$\", fontsize=18)\n",
    "plt.xlabel(\"$RANK_i$\", fontsize=18)\n",
    "plt.yscale('log')\n",
    "plt.xscale('log')\n",
    "plt.ylim(1e-7,1)\n",
    "plt.plot(x, 1./x, 'g--', label='$r^{-1}$')\n",
    "plt.plot(np.sort(A/norm)[::-1], lw=2, c='blue', label='data')\n",
    "plt.plot(np.sort(A_null/norm_null)[::-1], c='darkorange', lw=2, ls='dashed', label='sampling')\n",
    "plt.legend(fontsize=18)\n",
    "plt.show()"
   ]
  },
  {
   "cell_type": "code",
   "execution_count": 17,
   "metadata": {},
   "outputs": [],
   "source": [
    "fig.savefig(\"globalzipf_null.pdf\")"
   ]
  },
  {
   "cell_type": "markdown",
   "metadata": {},
   "source": [
    "## occurrences"
   ]
  },
  {
   "cell_type": "code",
   "execution_count": 18,
   "metadata": {},
   "outputs": [],
   "source": [
    "O_null=[]\n",
    "for o in open(\"O_null.dat\",'r'):\n",
    "    O_null.append(o)"
   ]
  },
  {
   "cell_type": "code",
   "execution_count": 19,
   "metadata": {},
   "outputs": [
    {
     "data": {
      "image/png": "[encoded data removed]",
      "text/plain": [
       "<matplotlib.figure.Figure at 0x105aa36a0>"
      ]
     },
     "metadata": {
      "needs_background": "light"
     },
     "output_type": "display_data"
    }
   ],
   "source": [
    "bins = 10\n",
    "rang = (0-0.5/bins, 1+0.5/bins)\n",
    "fig=plt.figure()\n",
    "plt.hist(np.array(O, dtype=float), histtype='step', color='blue', lw=2, range=rang, density=True, label='genes', bins=bins)\n",
    "plt.hist(np.array(O_null, dtype=float), histtype='step', color='darkorange', lw=2, ls='dashed', range=rang, density=True, label='sampling', bins=bins)\n",
    "plt.xlabel(\"$o_i$\", fontsize=16)\n",
    "plt.ylabel(\"pdf\")\n",
    "plt.legend(fontsize=18, loc='upper left')\n",
    "plt.show()"
   ]
  },
  {
   "cell_type": "code",
   "execution_count": 20,
   "metadata": {},
   "outputs": [],
   "source": [
    "fig.savefig(\"globalU_null.pdf\")"
   ]
  },
  {
   "cell_type": "code",
   "execution_count": 21,
   "metadata": {},
   "outputs": [
    {
     "data": {
      "image/png": "[encoded data removed]",
      "text/plain": [
       "<matplotlib.figure.Figure at 0x117145c88>"
      ]
     },
     "metadata": {
      "needs_background": "light"
     },
     "output_type": "display_data"
    }
   ],
   "source": [
    "log_bins = np.logspace(np.log10(9e-3),0,20)\n",
    "fig=plt.figure()\n",
    "plt.hist(np.array(O, dtype=float), histtype='step', color='blue', lw=2, density=True, label='genes', bins=log_bins)\n",
    "plt.hist(np.array(O_null, dtype=float), histtype='step', color='red', lw=2, ls='dashed', density=True, label='sampling', bins=log_bins)\n",
    "plt.xlabel(\"$o_i$\", fontsize=16)\n",
    "plt.ylabel(\"#\")\n",
    "plt.xscale('log')\n",
    "plt.yscale('log')\n",
    "plt.legend(fontsize=18, loc='upper left')\n",
    "plt.show()\n",
    "fig.savefig(\"globalU_null_sampling.pdf\")"
   ]
  },
  {
   "cell_type": "code",
   "execution_count": null,
   "metadata": {},
   "outputs": [],
   "source": [
    "np.random.multinomial(200,A/norm)"
   ]
  },
  {
   "cell_type": "code",
   "execution_count": null,
   "metadata": {},
   "outputs": [],
   "source": [
    "heaps = pd.read_csv(\"heaps.dat\", sep=',', header=None)\n",
    "heaps.head()"
   ]
  },
  {
   "cell_type": "code",
   "execution_count": null,
   "metadata": {},
   "outputs": [],
   "source": [
    "diff =[]\n",
    "for size in heaps[0]:\n",
    "    diff.append(len(np.nonzero(np.random.multinomial(size,A/norm))[0]))\n",
    "diff"
   ]
  },
  {
   "cell_type": "code",
   "execution_count": null,
   "metadata": {},
   "outputs": [],
   "source": [
    "plt.scatter(heaps[0],heaps[1])\n",
    "plt.scatter(heaps[0],diff)"
   ]
  },
  {
   "cell_type": "code",
   "execution_count": null,
   "metadata": {},
   "outputs": [],
   "source": [
    "pd.DataFrame(data=np.array([heaps[0],diff]).T).to_csv(\"heaps_null.dat\", index=False, header=False)"
   ]
  },
  {
   "cell_type": "code",
   "execution_count": null,
   "metadata": {},
   "outputs": [],
   "source": [
    "pd.DataFrame(data=np.array().T)"
   ]
  },
  {
   "cell_type": "code",
   "execution_count": null,
   "metadata": {},
   "outputs": [],
   "source": []
  }
 ],
 "metadata": {
  "kernelspec": {
   "display_name": "Python 3",
   "language": "python",
   "name": "python3"
  },
  "language_info": {
   "codemirror_mode": {
    "name": "ipython",
    "version": 3
   },
   "file_extension": ".py",
   "mimetype": "text/x-python",
   "name": "python",
   "nbconvert_exporter": "python",
   "pygments_lexer": "ipython3",
   "version": "3.6.9"
  }
 },
 "nbformat": 4,
 "nbformat_minor": 2
}
