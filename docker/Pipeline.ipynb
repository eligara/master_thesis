{
 "cells": [
  {
   "cell_type": "code",
   "execution_count": null,
   "metadata": {},
   "outputs": [],
   "source": [
    "import pandas as pd\n",
    "import numpy as np\n",
    "from pandarallel import pandarallel\n",
    "pandarallel.initialize(progress_bar=True)\n",
    "import matplotlib.pyplot as plt\n",
    "import os, sys, subprocess\n",
    "%load_ext watermark"
   ]
  },
  {
   "cell_type": "code",
   "execution_count": null,
   "metadata": {},
   "outputs": [],
   "source": [
    "%watermark"
   ]
  },
  {
   "cell_type": "code",
   "execution_count": null,
   "metadata": {
    "tags": [
     "parameters"
    ]
   },
   "outputs": [],
   "source": [
    "#parameters\n",
    "workingdir=r\"/home/fvalle/phd/master_thesis/docker\"\n",
    "execdir = r\"/home/fvalle/phd/master_thesis/docker\"\n",
    "distance=0\n",
    "sigma=1\n",
    "#dockerurl = \"cloudadm@193.144.35.220:/home/cloudadm/drive\"\n",
    "#dockerurl = \"filippo.valle@c3s.unito.it:\""
   ]
  },
  {
   "cell_type": "code",
   "execution_count": null,
   "metadata": {},
   "outputs": [],
   "source": [
    "os.chdir(workingdir)"
   ]
  },
  {
   "cell_type": "markdown",
   "metadata": {},
   "source": [
    "# Get the data\n",
    "[Table_creation](Table_creation.ipynb) does this for you"
   ]
  },
  {
   "cell_type": "markdown",
   "metadata": {},
   "source": [
    "# Get annotations"
   ]
  },
  {
   "cell_type": "code",
   "execution_count": null,
   "metadata": {},
   "outputs": [],
   "source": [
    "df_file=pd.read_csv(\"files.dat\", index_col=[0])\n",
    "df_file.head()"
   ]
  },
  {
   "cell_type": "code",
   "execution_count": null,
   "metadata": {},
   "outputs": [],
   "source": [
    "df_file.groupby(by='primary_site').count()"
   ]
  },
  {
   "cell_type": "code",
   "execution_count": null,
   "metadata": {},
   "outputs": [],
   "source": [
    "pc=pd.read_csv(\"%s/genes.txt\"%execdir, index_col=[0])\n",
    "pc=pc[pc['type_of_gene']=='protein-coding']\n",
    "pc.head()"
   ]
  },
  {
   "cell_type": "markdown",
   "metadata": {},
   "source": [
    "# Run statistics\n",
    "```python\n",
    "import tacos\n",
    "tacos.statistics()\n",
    "tacos.shuffleLabels()\n",
    "```\n",
    "\n",
    "CHECK **BioParameters.h** before compiling"
   ]
  },
  {
   "cell_type": "code",
   "execution_count": null,
   "metadata": {},
   "outputs": [],
   "source": [
    "df=pd.read_csv(\"mainTable.csv\", index_col=0,header=0)"
   ]
  },
  {
   "cell_type": "code",
   "execution_count": null,
   "metadata": {},
   "outputs": [],
   "source": [
    "os.system(\"./data_mining 0\")\n",
    "os.system(\"./data_mining 2\")\n",
    "os.system(\"python addo.py\")"
   ]
  },
  {
   "cell_type": "code",
   "execution_count": null,
   "metadata": {},
   "outputs": [],
   "source": [
    "A=np.genfromtxt(\"A.dat\")\n",
    "fig=plt.figure(figsize=(10,8))\n",
    "plt.plot(np.sort(A)[::-1])\n",
    "plt.xscale('log')\n",
    "plt.yscale('log')\n",
    "plt.xlabel(\"rank, i\", fontsize=20)\n",
    "plt.ylabel(\"frequency $f_i$\", fontsize=20)\n",
    "plt.tick_params(labelsize=20)\n",
    "plt.show()\n",
    "fig.savefig(\"zipf.pdf\")"
   ]
  },
  {
   "cell_type": "code",
   "execution_count": null,
   "metadata": {},
   "outputs": [],
   "source": [
    "heaps=pd.read_csv(\"heaps.dat\", header=None)\n",
    "fig=plt.figure(figsize=(10,8))\n",
    "plt.scatter(heaps[0],heaps[1])\n",
    "plt.xlabel(\"vocabulary size\", fontsize=20)\n",
    "plt.ylabel(\"# different words\", fontsize=20)\n",
    "plt.xlim(heaps[0].min()*0.99,heaps[0].max()*1.01)\n",
    "plt.tick_params(labelsize=20)\n",
    "plt.show()\n",
    "fig.savefig(\"heaps.pdf\")"
   ]
  },
  {
   "cell_type": "markdown",
   "metadata": {},
   "source": [
    "# Analyse table and select genes\n",
    "\n",
    "[Table_Analyser.ipynb](Table_Analyzer.ipynb)"
   ]
  },
  {
   "cell_type": "code",
   "execution_count": null,
   "metadata": {},
   "outputs": [],
   "source": [
    "os.chdir(execdir)\n",
    "from tableanalyser import scalinglawsandoverexpressed"
   ]
  },
  {
   "cell_type": "code",
   "execution_count": null,
   "metadata": {},
   "outputs": [],
   "source": [
    "scalinglawsandoverexpressed(workingdir, distance=distance, how_many_sigmas=sigma)"
   ]
  },
  {
   "cell_type": "markdown",
   "metadata": {},
   "source": [
    "# Make bipartite network\n",
    "```bash\n",
    "python addo.py\n",
    "```\n",
    "```python\n",
    "import tacos\n",
    "tacos.makegraph()\n",
    "```"
   ]
  },
  {
   "cell_type": "code",
   "execution_count": null,
   "metadata": {},
   "outputs": [],
   "source": [
    "os.chdir(workingdir)\n",
    "os.system(\"./data_mining 0\")\n",
    "os.system(\"./data_mining 2\")\n",
    "os.system(\"python addo.py\")\n",
    "os.system(\"./data_mining 7\")"
   ]
  },
  {
   "cell_type": "code",
   "execution_count": null,
   "metadata": {},
   "outputs": [],
   "source": [
    "#os.system(\"scp graph.xml.gz %s/.\"%dockerurl)"
   ]
  },
  {
   "cell_type": "markdown",
   "metadata": {},
   "source": [
    "[hSBM.ipynb]()"
   ]
  },
  {
   "cell_type": "markdown",
   "metadata": {},
   "source": [
    "# Run stochastic block model\n",
    "```\n",
    "docker run -it -p8888:8888 -u user -v $(PWD)/drive/:/home/user/ fvalle01/hsbm bash\n",
    "jupyter notebook --ip0.0.0.0 --allow-root\n",
    "```\n",
    "\n",
    "download the data"
   ]
  },
  {
   "cell_type": "code",
   "execution_count": null,
   "metadata": {},
   "outputs": [],
   "source": [
    "os.chdir(workingdir)\n",
    "os.system(\"mkdir -p topsbm\")\n",
    "#os.system(\"scp %s/* topsbm/.\"%dockerurl)"
   ]
  },
  {
   "cell_type": "markdown",
   "metadata": {},
   "source": [
    "# Run cluster analysis"
   ]
  },
  {
   "cell_type": "code",
   "execution_count": null,
   "metadata": {},
   "outputs": [],
   "source": [
    "os.chdir(execdir)\n",
    "from hsbmpy import clusteranalysis, get_scores, add_score_lines, getclustersizesarray, g\n",
    "#geneontology"
   ]
  },
  {
   "cell_type": "code",
   "execution_count": null,
   "metadata": {},
   "outputs": [],
   "source": [
    "hsbm_output_is_present =len(os.listdir(\"topsbm\"))>0"
   ]
  },
  {
   "cell_type": "code",
   "execution_count": null,
   "metadata": {},
   "outputs": [],
   "source": [
    "labels = df_file.columns\n",
    "if hsbm_output_is_present:\n",
    "    L=get_max_available_L(workingdir)\n",
    "    clusteranalysis(workingdir, labels, l=5)\n",
    "    #scores = get_scores(workingdir,labels, L=5, verbose=False)\n",
    "    fig=plt.figure(figsize=(12,8))\n",
    "    ax = fig.subplots(1)\n",
    "    add_score_lines(ax,scores,labels=[k for k in scores.keys()],xl=getclustersizesarray(workingdir,l=5))\n",
    "    plt.show()\n",
    "    fig.savefig(\"%s/metric.pdf\"%(workingdir))\n",
    "    geneontology.topicanalysis()"
   ]
  },
  {
   "cell_type": "markdown",
   "metadata": {},
   "source": [
    "# Clean"
   ]
  },
  {
   "cell_type": "code",
   "execution_count": null,
   "metadata": {},
   "outputs": [],
   "source": [
    "os.chdir(workingdir)\n",
    "os.system(\"rm -rf data_mining addo.py\")"
   ]
  }
 ],
 "metadata": {
  "celltoolbar": "Tags",
  "kernelspec": {
   "display_name": "Python 3",
   "language": "python",
   "name": "python3"
  },
  "language_info": {
   "codemirror_mode": {
    "name": "ipython",
    "version": 3
   },
   "file_extension": ".py",
   "mimetype": "text/x-python",
   "name": "python",
   "nbconvert_exporter": "python",
   "pygments_lexer": "ipython3",
   "version": "3.6.9"
  }
 },
 "nbformat": 4,
 "nbformat_minor": 2
}
