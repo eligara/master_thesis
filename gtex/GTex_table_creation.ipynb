{
 "cells": [
  {
   "cell_type": "code",
   "execution_count": 1,
   "metadata": {},
   "outputs": [],
   "source": [
    "import pandas as pd\n",
    "import numpy as np\n",
    "from matplotlib import pyplot as plt\n",
    "import findspark\n",
    "findspark.init(\"/usr/local/spark/spark-2.4.4-bin-hadoop2.7\")\n",
    "import pyspark as spark\n",
    "from pyspark.sql.functions import udf,col, rand\n",
    "from pyspark.sql.types import StringType"
   ]
  },
  {
   "cell_type": "code",
   "execution_count": 2,
   "metadata": {},
   "outputs": [
    {
     "data": {
      "text/plain": [
       "<pyspark.conf.SparkConf at 0x7f52c8bfb6d8>"
      ]
     },
     "execution_count": 2,
     "metadata": {},
     "output_type": "execute_result"
    }
   ],
   "source": [
    "spark.SparkConf()"
   ]
  },
  {
   "cell_type": "code",
   "execution_count": 3,
   "metadata": {},
   "outputs": [],
   "source": [
    "sc = spark.SparkContext()\n",
    "sql = spark.SQLContext(sc)"
   ]
  },
  {
   "cell_type": "code",
   "execution_count": 4,
   "metadata": {},
   "outputs": [],
   "source": [
    "df = sql.read.option(\"delimiter\",'\\t').option(\"header\",'true').csv('GTEx_Analysis_2016-01-15_v7_RNASeQCv1.1.8_gene_reads.gct')\n",
    "df = df.withColumn('ensg',udf(lambda x: x[:15], StringType())(col('Name')))\n",
    "df.registerTempTable('gtex')"
   ]
  },
  {
   "cell_type": "code",
   "execution_count": 5,
   "metadata": {},
   "outputs": [
    {
     "name": "stdout",
     "output_type": "stream",
     "text": [
      "+--------------+\n",
      "|  type_of_gene|\n",
      "+--------------+\n",
      "|          rRNA|\n",
      "|         ncRNA|\n",
      "|       unknown|\n",
      "|         scRNA|\n",
      "|      microRNA|\n",
      "|         snRNA|\n",
      "|     antisense|\n",
      "|        snoRNA|\n",
      "|        pseudo|\n",
      "|protein-coding|\n",
      "|    intergenic|\n",
      "+--------------+\n",
      "\n"
     ]
    }
   ],
   "source": [
    "genes = sql.read.option(\"header\",'true').csv('../genes.txt')\n",
    "genes.registerTempTable(\"genes\")\n",
    "genes.select(\"type_of_gene\").distinct().show()"
   ]
  },
  {
   "cell_type": "code",
   "execution_count": 6,
   "metadata": {},
   "outputs": [],
   "source": [
    "pc = sql.sql(\"SELECT * FROM genes WHERE type_of_gene='protein-coding'\")\n",
    "pc_list = list(pc.select('_c0').orderBy(rand()).toPandas().values.T[0])"
   ]
  },
  {
   "cell_type": "code",
   "execution_count": 7,
   "metadata": {},
   "outputs": [],
   "source": [
    "df = df.filter(col(\"ensg\").isin(pc_list))"
   ]
  },
  {
   "cell_type": "code",
   "execution_count": null,
   "metadata": {},
   "outputs": [],
   "source": [
    "df.repartition(1).write.format(\"com.databricks.spark.csv\").option(\"header\", \"true\").save(\"mainTable.csv\")"
   ]
  },
  {
   "cell_type": "code",
   "execution_count": null,
   "metadata": {},
   "outputs": [],
   "source": [
    "#df.toPandas().to_csv(\"mainTable.csv\", index=True, header=True)"
   ]
  },
  {
   "cell_type": "markdown",
   "metadata": {},
   "source": [
    "## GTEx Biospecimen\n",
    "[GTEX_biospecimen](https://gtexportal.org/home/samplesPage)"
   ]
  },
  {
   "cell_type": "code",
   "execution_count": 8,
   "metadata": {},
   "outputs": [
    {
     "data": {
      "text/plain": [
       "DataFrame[summary: string, sample: string, primary_site: string, secondary_site: string]"
      ]
     },
     "execution_count": 8,
     "metadata": {},
     "output_type": "execute_result"
    }
   ],
   "source": [
    "#df_file = sql.createDataFrame(pd.read_csv(\"https://storage.googleapis.com/gtex_analysis_v7/annotations/GTEx_v7_Annotations_SampleAttributesDS.txt\", sep='\\t').loc[:,['SAMPID','SMTS', 'SMTSD']])\n",
    "df_file=sql.read.option('delimiter',',').option(\"header\",'true').csv(\"files.dat\")\n",
    "df_file.registerTempTable(\"files\")\n",
    "df_file.describe()"
   ]
  },
  {
   "cell_type": "code",
   "execution_count": 9,
   "metadata": {},
   "outputs": [],
   "source": [
    "#df_sites=pd.DataFrame()\n",
    "#df_sites.insert(0,'sample',df_file.select('SAMPID').toPandas().values.T[0])\n",
    "#df_sites.insert(1,'primary_site',df_file.select('SMTS').toPandas().values.T[0])\n",
    "#df_sites.insert(2,'secondary_site', df_file.select('SMTSD').toPandas().values.T[0])\n",
    "#df_sites.set_index('sample', inplace=True)\n",
    "#df_sites.head()\n",
    "#df_sites.to_csv(\"files.dat\", index=True, header=True)"
   ]
  },
  {
   "cell_type": "code",
   "execution_count": 10,
   "metadata": {},
   "outputs": [
    {
     "name": "stdout",
     "output_type": "stream",
     "text": [
      "+---------------+\n",
      "|   primary_site|\n",
      "+---------------+\n",
      "|           Skin|\n",
      "|  Adrenal Gland|\n",
      "| Adipose Tissue|\n",
      "|      Pituitary|\n",
      "| Salivary Gland|\n",
      "|         Spleen|\n",
      "|          Colon|\n",
      "|          Nerve|\n",
      "|          Blood|\n",
      "|         Kidney|\n",
      "|   Blood Vessel|\n",
      "|         Muscle|\n",
      "|       Prostate|\n",
      "|Small Intestine|\n",
      "|      Esophagus|\n",
      "|        Bladder|\n",
      "|          Liver|\n",
      "|        Stomach|\n",
      "|        Thyroid|\n",
      "|          Heart|\n",
      "+---------------+\n",
      "only showing top 20 rows\n",
      "\n"
     ]
    }
   ],
   "source": [
    "df_file.select('primary_site').distinct().show()"
   ]
  },
  {
   "cell_type": "code",
   "execution_count": 11,
   "metadata": {},
   "outputs": [
    {
     "data": {
      "text/html": [
       "<div>\n",
       "<style scoped>\n",
       "    .dataframe tbody tr th:only-of-type {\n",
       "        vertical-align: middle;\n",
       "    }\n",
       "\n",
       "    .dataframe tbody tr th {\n",
       "        vertical-align: top;\n",
       "    }\n",
       "\n",
       "    .dataframe thead th {\n",
       "        text-align: right;\n",
       "    }\n",
       "</style>\n",
       "<table border=\"1\" class=\"dataframe\">\n",
       "  <thead>\n",
       "    <tr style=\"text-align: right;\">\n",
       "      <th></th>\n",
       "      <th>primary_site</th>\n",
       "      <th>count</th>\n",
       "    </tr>\n",
       "  </thead>\n",
       "  <tbody>\n",
       "    <tr>\n",
       "      <td>0</td>\n",
       "      <td>Blood</td>\n",
       "      <td>2561</td>\n",
       "    </tr>\n",
       "    <tr>\n",
       "      <td>1</td>\n",
       "      <td>Brain</td>\n",
       "      <td>2076</td>\n",
       "    </tr>\n",
       "    <tr>\n",
       "      <td>2</td>\n",
       "      <td>Skin</td>\n",
       "      <td>1362</td>\n",
       "    </tr>\n",
       "    <tr>\n",
       "      <td>3</td>\n",
       "      <td>Esophagus</td>\n",
       "      <td>1111</td>\n",
       "    </tr>\n",
       "    <tr>\n",
       "      <td>4</td>\n",
       "      <td>Blood Vessel</td>\n",
       "      <td>1041</td>\n",
       "    </tr>\n",
       "    <tr>\n",
       "      <td>5</td>\n",
       "      <td>Adipose Tissue</td>\n",
       "      <td>886</td>\n",
       "    </tr>\n",
       "    <tr>\n",
       "      <td>6</td>\n",
       "      <td>Heart</td>\n",
       "      <td>727</td>\n",
       "    </tr>\n",
       "    <tr>\n",
       "      <td>7</td>\n",
       "      <td>Muscle</td>\n",
       "      <td>718</td>\n",
       "    </tr>\n",
       "    <tr>\n",
       "      <td>8</td>\n",
       "      <td>Lung</td>\n",
       "      <td>607</td>\n",
       "    </tr>\n",
       "    <tr>\n",
       "      <td>9</td>\n",
       "      <td>Thyroid</td>\n",
       "      <td>564</td>\n",
       "    </tr>\n",
       "    <tr>\n",
       "      <td>10</td>\n",
       "      <td>Colon</td>\n",
       "      <td>539</td>\n",
       "    </tr>\n",
       "    <tr>\n",
       "      <td>11</td>\n",
       "      <td>Nerve</td>\n",
       "      <td>498</td>\n",
       "    </tr>\n",
       "    <tr>\n",
       "      <td>12</td>\n",
       "      <td>Breast</td>\n",
       "      <td>306</td>\n",
       "    </tr>\n",
       "    <tr>\n",
       "      <td>13</td>\n",
       "      <td>Testis</td>\n",
       "      <td>284</td>\n",
       "    </tr>\n",
       "    <tr>\n",
       "      <td>14</td>\n",
       "      <td>Stomach</td>\n",
       "      <td>272</td>\n",
       "    </tr>\n",
       "    <tr>\n",
       "      <td>15</td>\n",
       "      <td>Pancreas</td>\n",
       "      <td>268</td>\n",
       "    </tr>\n",
       "    <tr>\n",
       "      <td>16</td>\n",
       "      <td>Adrenal Gland</td>\n",
       "      <td>205</td>\n",
       "    </tr>\n",
       "    <tr>\n",
       "      <td>17</td>\n",
       "      <td>Pituitary</td>\n",
       "      <td>192</td>\n",
       "    </tr>\n",
       "    <tr>\n",
       "      <td>18</td>\n",
       "      <td>Liver</td>\n",
       "      <td>188</td>\n",
       "    </tr>\n",
       "    <tr>\n",
       "      <td>19</td>\n",
       "      <td>Spleen</td>\n",
       "      <td>169</td>\n",
       "    </tr>\n",
       "    <tr>\n",
       "      <td>20</td>\n",
       "      <td>Bone Marrow</td>\n",
       "      <td>160</td>\n",
       "    </tr>\n",
       "    <tr>\n",
       "      <td>21</td>\n",
       "      <td>Prostate</td>\n",
       "      <td>159</td>\n",
       "    </tr>\n",
       "    <tr>\n",
       "      <td>22</td>\n",
       "      <td>Small Intestine</td>\n",
       "      <td>143</td>\n",
       "    </tr>\n",
       "    <tr>\n",
       "      <td>23</td>\n",
       "      <td>Ovary</td>\n",
       "      <td>138</td>\n",
       "    </tr>\n",
       "    <tr>\n",
       "      <td>24</td>\n",
       "      <td>Vagina</td>\n",
       "      <td>124</td>\n",
       "    </tr>\n",
       "    <tr>\n",
       "      <td>25</td>\n",
       "      <td>Uterus</td>\n",
       "      <td>117</td>\n",
       "    </tr>\n",
       "    <tr>\n",
       "      <td>26</td>\n",
       "      <td>Salivary Gland</td>\n",
       "      <td>104</td>\n",
       "    </tr>\n",
       "    <tr>\n",
       "      <td>27</td>\n",
       "      <td>Kidney</td>\n",
       "      <td>50</td>\n",
       "    </tr>\n",
       "    <tr>\n",
       "      <td>28</td>\n",
       "      <td>Bladder</td>\n",
       "      <td>11</td>\n",
       "    </tr>\n",
       "    <tr>\n",
       "      <td>29</td>\n",
       "      <td>Cervix Uteri</td>\n",
       "      <td>11</td>\n",
       "    </tr>\n",
       "    <tr>\n",
       "      <td>30</td>\n",
       "      <td>Fallopian Tube</td>\n",
       "      <td>7</td>\n",
       "    </tr>\n",
       "  </tbody>\n",
       "</table>\n",
       "</div>"
      ],
      "text/plain": [
       "       primary_site  count\n",
       "0             Blood   2561\n",
       "1             Brain   2076\n",
       "2              Skin   1362\n",
       "3         Esophagus   1111\n",
       "4      Blood Vessel   1041\n",
       "5    Adipose Tissue    886\n",
       "6             Heart    727\n",
       "7            Muscle    718\n",
       "8              Lung    607\n",
       "9           Thyroid    564\n",
       "10            Colon    539\n",
       "11            Nerve    498\n",
       "12           Breast    306\n",
       "13           Testis    284\n",
       "14          Stomach    272\n",
       "15         Pancreas    268\n",
       "16    Adrenal Gland    205\n",
       "17        Pituitary    192\n",
       "18            Liver    188\n",
       "19           Spleen    169\n",
       "20      Bone Marrow    160\n",
       "21         Prostate    159\n",
       "22  Small Intestine    143\n",
       "23            Ovary    138\n",
       "24           Vagina    124\n",
       "25           Uterus    117\n",
       "26   Salivary Gland    104\n",
       "27           Kidney     50\n",
       "28          Bladder     11\n",
       "29     Cervix Uteri     11\n",
       "30   Fallopian Tube      7"
      ]
     },
     "execution_count": 11,
     "metadata": {},
     "output_type": "execute_result"
    }
   ],
   "source": [
    "available_tissues=df_file.groupby('primary_site').count().sort(\"count\", ascending=False).toPandas()\n",
    "available_tissues"
   ]
  },
  {
   "cell_type": "code",
   "execution_count": 14,
   "metadata": {},
   "outputs": [
    {
     "data": {
      "text/plain": [
       "array(['Blood', 'Brain', 'Skin', 'Esophagus', 'Blood Vessel',\n",
       "       'Adipose Tissue', 'Heart', 'Muscle', 'Lung', 'Thyroid', 'Colon',\n",
       "       'Nerve', 'Breast', 'Testis', 'Stomach', 'Pancreas',\n",
       "       'Adrenal Gland', 'Pituitary', 'Liver', 'Spleen', 'Bone Marrow',\n",
       "       'Prostate', 'Small Intestine', 'Ovary', 'Vagina', 'Uterus',\n",
       "       'Salivary Gland', 'Kidney', 'Bladder', 'Cervix Uteri',\n",
       "       'Fallopian Tube'], dtype=object)"
      ]
     },
     "execution_count": 14,
     "metadata": {},
     "output_type": "execute_result"
    }
   ],
   "source": [
    "#selectedTissues = ['Blood', 'Brain', 'Lung', 'Thyroid', 'Breast', 'Skin', 'Pancreas', 'Testis', 'Adipose Tissue', 'Colon', 'Nerve', 'Heart', 'Kidney', 'Uterus', 'Adrenal Gland']\n",
    "selectedTissues = available_tissues['primary_site'][:].values\n",
    "selectedTissues"
   ]
  },
  {
   "cell_type": "code",
   "execution_count": 63,
   "metadata": {},
   "outputs": [],
   "source": [
    "limit=int(1000/len(selectedTissues))\n",
    "needed_columns = []\n",
    "for tissue in selectedTissues:\n",
    "    needed_columns = np.concatenate((needed_columns,\n",
    "                                 list(set(sql.sql(\"SELECT * FROM files WHERE primary_site='%s'\"%(tissue))\n",
    "                                .orderBy(rand())\n",
    "                                .limit(limit)\n",
    "                                .select(\"sample\")\n",
    "                                .toPandas().values.T[0])-{'Name'}-{'Description'})))\n",
    "needed_columns=needed_columns[np.isin(needed_columns,df.columns)]\n",
    "np.random.shuffle(needed_columns)\n",
    "needed_columns = np.concatenate([['ensg'],needed_columns])"
   ]
  },
  {
   "cell_type": "code",
   "execution_count": 24,
   "metadata": {},
   "outputs": [
    {
     "data": {
      "text/plain": [
       "array(['ensg', 'GTEX-1117F-0226-SM-5GZZ7', 'GTEX-111CU-1826-SM-5GZYN',\n",
       "       ..., 'GTEX-ZVZQ-0006-SM-51MR8', 'GTEX-ZXES-0005-SM-57WCB',\n",
       "       'GTEX-ZXG5-0005-SM-57WCN'], dtype='<U30')"
      ]
     },
     "execution_count": 24,
     "metadata": {},
     "output_type": "execute_result"
    }
   ],
   "source": [
    "needed_columns = np.concatenate([['ensg'],df.columns[2:-1]])\n",
    "needed_columns"
   ]
  },
  {
   "cell_type": "code",
   "execution_count": 27,
   "metadata": {},
   "outputs": [],
   "source": [
    "df.select(list(needed_columns)).repartition(1).write.format(\"com.databricks.spark.csv\").mode('overwrite').option(\"header\", \"true\").save(\"mainTable_all.csv\", header=True, index=False)"
   ]
  },
  {
   "cell_type": "code",
   "execution_count": 29,
   "metadata": {},
   "outputs": [],
   "source": [
    "df_file.filter(col('sample').isin(list(needed_columns))).toPandas().to_csv(\"files_tissues.dat\", header=True, index=False)"
   ]
  },
  {
   "cell_type": "markdown",
   "metadata": {},
   "source": [
    "# U"
   ]
  },
  {
   "cell_type": "code",
   "execution_count": null,
   "metadata": {},
   "outputs": [],
   "source": [
    "tissue = 'Breast'"
   ]
  },
  {
   "cell_type": "code",
   "execution_count": null,
   "metadata": {},
   "outputs": [],
   "source": [
    "sample_list = df_sites[df_sites['primary_site']==tissue].index.values\n",
    "subdf = df.loc[:,sample_list]"
   ]
  },
  {
   "cell_type": "code",
   "execution_count": null,
   "metadata": {},
   "outputs": [],
   "source": [
    "odf = pd.read_csv(\"meanVariances.csv\", header=0, index_col=0)\n",
    "odf.insert(3,\"A\",pd.read_csv(\"A.dat\", header=None).values)\n",
    "odf.head()"
   ]
  },
  {
   "cell_type": "code",
   "execution_count": null,
   "metadata": {},
   "outputs": [],
   "source": [
    "O = odf[odf.index.isin(pc.index)]['occurrence']\n",
    "O_nc = odf[~odf.index.isin(pc.index)]['occurrence']"
   ]
  },
  {
   "cell_type": "code",
   "execution_count": null,
   "metadata": {},
   "outputs": [],
   "source": [
    "bins = 20\n",
    "rang = (0-0.5/20,1+0.5/20)\n",
    "fig = plt.figure()\n",
    "plt.hist(O[O<=1], histtype='step', lw=4, density=True, bins=bins, range=rang, label='coding')\n",
    "plt.hist(O_nc[O_nc<=1], histtype='step', lw=4, density=True, bins=bins, range=rang, label='non-coding')\n",
    "#plt.title(tissue, fontsize=18)\n",
    "plt.xlabel('$O_i$', fontsize=16)\n",
    "plt.ylabel('pdf', fontsize=16)\n",
    "plt.legend(loc='upper left', fontsize=16)\n",
    "plt.show()\n",
    "fig.savefig(\"U_gtex_cnc.pdf\")"
   ]
  },
  {
   "cell_type": "code",
   "execution_count": null,
   "metadata": {},
   "outputs": [],
   "source": [
    "A = odf['A'].values\n",
    "A_c = odf[odf.index.isin(pc.index)]['A'].values\n",
    "A_nc = odf[~odf.index.isin(pc.index)]['A'].values\n",
    "fig=plt.figure()\n",
    "plt.plot(np.arange(0,len(A)), 1./np.arange(0,len(A)), ls='--', c='g', label='$r^-1$')\n",
    "#plt.plot(np.arange(0,len(A)), np.sort(A)[::-1]/np.sum(A))\n",
    "#plt.plot(np.arange(0,len(A_c)), np.sort(A_c)[::-1]/np.sum(A), label='coding genes')\n",
    "plt.plot(np.arange(0,len(A_nc)), np.sort(A_nc)[::-1]/np.sum(A), label='non coding genes')\n",
    "plt.xscale('log')\n",
    "plt.yscale('log')\n",
    "plt.ylabel('$f_i$', fontsize=18)\n",
    "plt.xlabel(\"Rank_i\", fontsize=18)\n",
    "plt.legend(fontsize=18)\n",
    "fig.savefig(\"globalZipf_nc.pdf\")"
   ]
  },
  {
   "cell_type": "code",
   "execution_count": null,
   "metadata": {},
   "outputs": [],
   "source": []
  }
 ],
 "metadata": {
  "kernelspec": {
   "display_name": "Python 3",
   "language": "python",
   "name": "python3"
  },
  "language_info": {
   "codemirror_mode": {
    "name": "ipython",
    "version": 3
   },
   "file_extension": ".py",
   "mimetype": "text/x-python",
   "name": "python",
   "nbconvert_exporter": "python",
   "pygments_lexer": "ipython3",
   "version": "3.6.9"
  }
 },
 "nbformat": 4,
 "nbformat_minor": 2
}
