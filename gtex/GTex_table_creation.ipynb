{
 "cells": [
  {
   "cell_type": "code",
   "execution_count": 1,
   "metadata": {},
   "outputs": [],
   "source": [
    "import pandas as pd\n",
    "import numpy as np\n",
    "from matplotlib import pyplot as plt\n",
    "import findspark\n",
    "findspark.init(\"/usr/local/spark/spark-2.4.4-bin-hadoop2.7\")\n",
    "import pyspark as spark\n",
    "from pyspark.sql.functions import udf,col, rand\n",
    "from pyspark.sql.types import StringType"
   ]
  },
  {
   "cell_type": "code",
   "execution_count": 2,
   "metadata": {},
   "outputs": [
    {
     "data": {
      "text/plain": [
       "<pyspark.conf.SparkConf at 0x7fddb8cde860>"
      ]
     },
     "execution_count": 2,
     "metadata": {},
     "output_type": "execute_result"
    }
   ],
   "source": [
    "spark.SparkConf()"
   ]
  },
  {
   "cell_type": "code",
   "execution_count": 3,
   "metadata": {},
   "outputs": [],
   "source": [
    "sc = spark.SparkContext()\n",
    "sql = spark.SQLContext(sc)"
   ]
  },
  {
   "cell_type": "code",
   "execution_count": 4,
   "metadata": {},
   "outputs": [],
   "source": [
    "df = sql.read.option(\"delimiter\",'\\t').option(\"header\",'true').csv('GTEx_Analysis_2016-01-15_v7_RNASeQCv1.1.8_gene_reads.gct')\n",
    "df = df.withColumn('ensg',udf(lambda x: x[:15], StringType())(col('Name')))\n",
    "df.registerTempTable('gtex')"
   ]
  },
  {
   "cell_type": "code",
   "execution_count": 5,
   "metadata": {},
   "outputs": [
    {
     "name": "stdout",
     "output_type": "stream",
     "text": [
      "+--------------+\n",
      "|  type_of_gene|\n",
      "+--------------+\n",
      "|          rRNA|\n",
      "|         ncRNA|\n",
      "|       unknown|\n",
      "|         scRNA|\n",
      "|      microRNA|\n",
      "|         snRNA|\n",
      "|     antisense|\n",
      "|        snoRNA|\n",
      "|        pseudo|\n",
      "|protein-coding|\n",
      "|    intergenic|\n",
      "+--------------+\n",
      "\n"
     ]
    }
   ],
   "source": [
    "genes = sql.read.option(\"header\",'true').csv('../genes.txt')\n",
    "genes.registerTempTable(\"genes\")\n",
    "genes.select(\"type_of_gene\").distinct().show()"
   ]
  },
  {
   "cell_type": "code",
   "execution_count": 6,
   "metadata": {},
   "outputs": [],
   "source": [
    "pc = sql.sql(\"SELECT * FROM genes WHERE type_of_gene='protein-coding'\")\n",
    "pc_list = list(pc.select('_c0').orderBy(rand()).toPandas().values.T[0])"
   ]
  },
  {
   "cell_type": "code",
   "execution_count": 7,
   "metadata": {},
   "outputs": [],
   "source": [
    "df = df.filter(col(\"ensg\").isin(pc_list))"
   ]
  },
  {
   "cell_type": "code",
   "execution_count": null,
   "metadata": {},
   "outputs": [],
   "source": [
    "#df.repartition(1).write.format(\"com.databricks.spark.csv\").option(\"header\", \"true\").save(\"mainTable.csv\")"
   ]
  },
  {
   "cell_type": "code",
   "execution_count": null,
   "metadata": {},
   "outputs": [],
   "source": [
    "#df.toPandas().to_csv(\"mainTable.csv\", index=True, header=True)"
   ]
  },
  {
   "cell_type": "markdown",
   "metadata": {},
   "source": [
    "## GTEx Biospecimen\n",
    "[GTEX_biospecimen](https://gtexportal.org/home/samplesPage)"
   ]
  },
  {
   "cell_type": "code",
   "execution_count": 12,
   "metadata": {},
   "outputs": [
    {
     "data": {
      "text/plain": [
       "DataFrame[summary: string, _c0: string, primary_site: string, secondary_site: string]"
      ]
     },
     "execution_count": 12,
     "metadata": {},
     "output_type": "execute_result"
    }
   ],
   "source": [
    "#df_file = sql.createDataFrame(pd.read_csv(\"https://storage.googleapis.com/gtex_analysis_v7/annotations/GTEx_v7_Annotations_SampleAttributesDS.txt\", sep='\\t').loc[:,['SAMPID','SMTS', 'SMTSD']])\n",
    "df_file=sql.read.option('delimiter',',').option(\"header\",'true').csv(\"files.dat\")\n",
    "df_file.registerTempTable(\"files\")\n",
    "df_file.describe()"
   ]
  },
  {
   "cell_type": "code",
   "execution_count": null,
   "metadata": {},
   "outputs": [],
   "source": [
    "#df_sites=pd.DataFrame()\n",
    "#df_sites.insert(0,'sample',df_file.select('SAMPID').toPandas().values.T[0])\n",
    "#df_sites.insert(1,'primary_site',df_file.select('SMTS').toPandas().values.T[0])\n",
    "#df_sites.insert(2,'secondary_site', df_file.select('SMTSD').toPandas().values.T[0])\n",
    "#df_sites.set_index('sample', inplace=True)\n",
    "#df_sites.head()\n",
    "#df_sites.to_csv(\"files.dat\", index=True, header=True)"
   ]
  },
  {
   "cell_type": "code",
   "execution_count": null,
   "metadata": {},
   "outputs": [],
   "source": [
    "df_file.select('primary_site').distinct().show()"
   ]
  },
  {
   "cell_type": "code",
   "execution_count": null,
   "metadata": {},
   "outputs": [],
   "source": [
    "available_tissues=df_file.groupby('primary_site').count().sort(\"count\", ascending=False).toPandas()\n",
    "available_tissues"
   ]
  },
  {
   "cell_type": "code",
   "execution_count": null,
   "metadata": {},
   "outputs": [],
   "source": [
    "#selectedTissues = ['Blood', 'Brain', 'Lung', 'Thyroid', 'Breast', 'Skin', 'Pancreas', 'Testis', 'Adipose Tissue', 'Colon', 'Nerve', 'Heart', 'Kidney', 'Uterus', 'Adrenal Gland']\n",
    "selectedTissues = available_tissues['primary_site'][:].values\n",
    "selectedTissues"
   ]
  },
  {
   "cell_type": "code",
   "execution_count": 63,
   "metadata": {},
   "outputs": [],
   "source": [
    "limit=int(1000/len(selectedTissues))\n",
    "needed_columns = []\n",
    "for tissue in selectedTissues:\n",
    "    needed_columns = np.concatenate((needed_columns,\n",
    "                                 list(set(sql.sql(\"SELECT * FROM files WHERE primary_site='%s'\"%(tissue))\n",
    "                                .orderBy(rand())\n",
    "                                .limit(limit)\n",
    "                                .select(\"sample\")\n",
    "                                .toPandas().values.T[0])-{'Name'}-{'Description'})))\n",
    "needed_columns=needed_columns[np.isin(needed_columns,df.columns)]\n",
    "np.random.shuffle(needed_columns)\n",
    "needed_columns = np.concatenate([['ensg'],needed_columns])"
   ]
  },
  {
   "cell_type": "code",
   "execution_count": 9,
   "metadata": {},
   "outputs": [
    {
     "data": {
      "text/plain": [
       "array(['ensg', 'GTEX-1117F-0226-SM-5GZZ7', 'GTEX-111CU-1826-SM-5GZYN',\n",
       "       ..., 'GTEX-ZVZQ-0006-SM-51MR8', 'GTEX-ZXES-0005-SM-57WCB',\n",
       "       'GTEX-ZXG5-0005-SM-57WCN'], dtype='<U30')"
      ]
     },
     "execution_count": 9,
     "metadata": {},
     "output_type": "execute_result"
    }
   ],
   "source": [
    "#to select all\n",
    "needed_columns = np.concatenate([['ensg'],df.columns[2:-1]])\n",
    "needed_columns"
   ]
  },
  {
   "cell_type": "code",
   "execution_count": 10,
   "metadata": {},
   "outputs": [],
   "source": [
    "df.select(list(needed_columns)).repartition(1).write.format(\"com.databricks.spark.csv\").mode('overwrite').option(\"header\", \"true\").save(\"mainTable_all.csv\", header=True, index=False)"
   ]
  },
  {
   "cell_type": "code",
   "execution_count": 14,
   "metadata": {},
   "outputs": [],
   "source": [
    "df_file.filter(col('_c0').isin(list(needed_columns))).toPandas().to_csv(\"files_tissues.dat\", header=True, index=False)"
   ]
  },
  {
   "cell_type": "markdown",
   "metadata": {},
   "source": [
    "# U"
   ]
  },
  {
   "cell_type": "code",
   "execution_count": null,
   "metadata": {},
   "outputs": [],
   "source": [
    "tissue = 'Breast'"
   ]
  },
  {
   "cell_type": "code",
   "execution_count": null,
   "metadata": {},
   "outputs": [],
   "source": [
    "sample_list = df_sites[df_sites['primary_site']==tissue].index.values\n",
    "subdf = df.loc[:,sample_list]"
   ]
  },
  {
   "cell_type": "code",
   "execution_count": null,
   "metadata": {},
   "outputs": [],
   "source": [
    "odf = pd.read_csv(\"meanVariances.csv\", header=0, index_col=0)\n",
    "odf.insert(3,\"A\",pd.read_csv(\"A.dat\", header=None).values)\n",
    "odf.head()"
   ]
  },
  {
   "cell_type": "code",
   "execution_count": null,
   "metadata": {},
   "outputs": [],
   "source": [
    "O = odf[odf.index.isin(pc.index)]['occurrence']\n",
    "O_nc = odf[~odf.index.isin(pc.index)]['occurrence']"
   ]
  },
  {
   "cell_type": "code",
   "execution_count": null,
   "metadata": {},
   "outputs": [],
   "source": [
    "bins = 20\n",
    "rang = (0-0.5/20,1+0.5/20)\n",
    "fig = plt.figure()\n",
    "plt.hist(O[O<=1], histtype='step', lw=4, density=True, bins=bins, range=rang, label='coding')\n",
    "plt.hist(O_nc[O_nc<=1], histtype='step', lw=4, density=True, bins=bins, range=rang, label='non-coding')\n",
    "#plt.title(tissue, fontsize=18)\n",
    "plt.xlabel('$O_i$', fontsize=16)\n",
    "plt.ylabel('pdf', fontsize=16)\n",
    "plt.legend(loc='upper left', fontsize=16)\n",
    "plt.show()\n",
    "fig.savefig(\"U_gtex_cnc.pdf\")"
   ]
  },
  {
   "cell_type": "code",
   "execution_count": null,
   "metadata": {},
   "outputs": [],
   "source": [
    "A = odf['A'].values\n",
    "A_c = odf[odf.index.isin(pc.index)]['A'].values\n",
    "A_nc = odf[~odf.index.isin(pc.index)]['A'].values\n",
    "fig=plt.figure()\n",
    "plt.plot(np.arange(0,len(A)), 1./np.arange(0,len(A)), ls='--', c='g', label='$r^-1$')\n",
    "#plt.plot(np.arange(0,len(A)), np.sort(A)[::-1]/np.sum(A))\n",
    "#plt.plot(np.arange(0,len(A_c)), np.sort(A_c)[::-1]/np.sum(A), label='coding genes')\n",
    "plt.plot(np.arange(0,len(A_nc)), np.sort(A_nc)[::-1]/np.sum(A), label='non coding genes')\n",
    "plt.xscale('log')\n",
    "plt.yscale('log')\n",
    "plt.ylabel('$f_i$', fontsize=18)\n",
    "plt.xlabel(\"Rank_i\", fontsize=18)\n",
    "plt.legend(fontsize=18)\n",
    "fig.savefig(\"globalZipf_nc.pdf\")"
   ]
  },
  {
   "cell_type": "code",
   "execution_count": null,
   "metadata": {},
   "outputs": [],
   "source": []
  }
 ],
 "metadata": {
  "kernelspec": {
   "display_name": "Python 3",
   "language": "python",
   "name": "python3"
  },
  "language_info": {
   "codemirror_mode": {
    "name": "ipython",
    "version": 3
   },
   "file_extension": ".py",
   "mimetype": "text/x-python",
   "name": "python",
   "nbconvert_exporter": "python",
   "pygments_lexer": "ipython3",
   "version": "3.6.9"
  }
 },
 "nbformat": 4,
 "nbformat_minor": 2
}
