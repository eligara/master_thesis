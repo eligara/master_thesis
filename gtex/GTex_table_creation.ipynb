{
 "cells": [
  {
   "cell_type": "code",
   "execution_count": null,
   "metadata": {},
   "outputs": [],
   "source": [
    "import pandas as pd\n",
    "import numpy as np\n",
    "from matplotlib import pyplot as plt\n",
    "import findspark\n",
    "findspark.init()\n",
    "import pyspark as spark\n",
    "sc = spark.SparkContext()\n",
    "sql = spark.SQLContext(sc)"
   ]
  },
  {
   "cell_type": "code",
   "execution_count": null,
   "metadata": {},
   "outputs": [],
   "source": [
    "df = pd.read_csv(\"GTEx_Analysis_2016-01-15_v7_RNASeQCv1.1.8_gene_reads.gct\", index_col=[0], sep='\\t')\n",
    "df.drop(labels='Description', axis=1,inplace=True)\n",
    "df.index=[g[:15] for g in df.index]\n",
    "df.head()"
   ]
  },
  {
   "cell_type": "code",
   "execution_count": null,
   "metadata": {},
   "outputs": [],
   "source": [
    "genes = sql.read.option(\"header\",'true').csv('/Users/filippo/Developer/tesi/genes.txt')\n",
    "genes.registerTempTable(\"genes\")"
   ]
  },
  {
   "cell_type": "code",
   "execution_count": null,
   "metadata": {},
   "outputs": [],
   "source": [
    "pc = sql.sql(\"SELECT * FROM genes WHERE type_of_gene='protein-coding'\").toPandas()\n",
    "pc.set_index('_c0', inplace=True)"
   ]
  },
  {
   "cell_type": "code",
   "execution_count": null,
   "metadata": {},
   "outputs": [],
   "source": [
    "df.to_csv(\"mainTable.csv\", header=True, index=True)"
   ]
  },
  {
   "cell_type": "markdown",
   "metadata": {},
   "source": [
    "## GTEx Biospecimen\n",
    "[GTEX_biospecimen](https://gtexportal.org/home/samplesPage)"
   ]
  },
  {
   "cell_type": "code",
   "execution_count": null,
   "metadata": {},
   "outputs": [],
   "source": [
    "#df_file = pd.read_csv(\"https://storage.googleapis.com/gtex_analysis_v7/annotations/GTEx_v7_Annotations_SampleAttributesDS.txt\", sep='\\t', index_col=[0])\n",
    "#df_file=df_file.loc[:,['SMTS', 'SMTSD']]\n",
    "df_file=pd.read_csv(\"files.dat\", index_col=[0])\n",
    "df_file.head()"
   ]
  },
  {
   "cell_type": "code",
   "execution_count": null,
   "metadata": {},
   "outputs": [],
   "source": [
    "#df_sites=pd.DataFrame()\n",
    "#df_sites.insert(0,'sample',df_file.index.values)\n",
    "#df_sites.insert(1,'primary_site',df_file.loc[:,'SMTS'].values)\n",
    "#df_sites.insert(2,'secondary_site', df_file.loc[:,'SMTSD'].values)\n",
    "#df_sites.set_index('sample', inplace=True)\n",
    "df_sites.head()"
   ]
  },
  {
   "cell_type": "code",
   "execution_count": null,
   "metadata": {},
   "outputs": [],
   "source": [
    "np.unique(df_file['primary_site'])"
   ]
  },
  {
   "cell_type": "code",
   "execution_count": null,
   "metadata": {},
   "outputs": [],
   "source": [
    "pc=pd.read_csv(\"../genes.txt\", index_col=[0])\n",
    "pc=pc[pc['type_of_gene']=='protein-coding']\n",
    "pc.head()"
   ]
  },
  {
   "cell_type": "code",
   "execution_count": null,
   "metadata": {},
   "outputs": [],
   "source": [
    "subdf = df.loc[pc.index.values,df_file[df_file['primary_site'].isin(['Blood', 'Brain', 'Lung', 'Thyroid', 'Breast', 'Skin', 'Pancreas', 'Testis', 'Adipose Tissue', 'Colon', 'Nerve', 'Heart', 'Kidney', 'Uterus', 'Adrenal Gland'])].index.values].fillna(0).astype(int)\n",
    "subdf.to_csv(\"mainTable_tissue.csv\",index=True, header=True)"
   ]
  },
  {
   "cell_type": "markdown",
   "metadata": {},
   "source": [
    "# U"
   ]
  },
  {
   "cell_type": "code",
   "execution_count": null,
   "metadata": {},
   "outputs": [],
   "source": [
    "tissue = 'Breast'"
   ]
  },
  {
   "cell_type": "code",
   "execution_count": null,
   "metadata": {},
   "outputs": [],
   "source": [
    "sample_list = df_sites[df_sites['primary_site']==tissue].index.values\n",
    "subdf = df.loc[:,sample_list]"
   ]
  },
  {
   "cell_type": "code",
   "execution_count": null,
   "metadata": {},
   "outputs": [],
   "source": [
    "odf = pd.read_csv(\"meanVariances.csv\", header=0, index_col=0)\n",
    "odf.insert(3,\"A\",pd.read_csv(\"A.dat\", header=None).values)\n",
    "odf.head()"
   ]
  },
  {
   "cell_type": "code",
   "execution_count": null,
   "metadata": {},
   "outputs": [],
   "source": [
    "O = odf[odf.index.isin(pc.index)]['occurrence']\n",
    "O_nc = odf[~odf.index.isin(pc.index)]['occurrence']"
   ]
  },
  {
   "cell_type": "code",
   "execution_count": null,
   "metadata": {},
   "outputs": [],
   "source": [
    "bins = 20\n",
    "rang = (0-0.5/20,1+0.5/20)\n",
    "fig = plt.figure()\n",
    "plt.hist(O[O<=1], histtype='step', lw=4, density=True, bins=bins, range=rang, label='coding')\n",
    "plt.hist(O_nc[O_nc<=1], histtype='step', lw=4, density=True, bins=bins, range=rang, label='non-coding')\n",
    "#plt.title(tissue, fontsize=18)\n",
    "plt.xlabel('$O_i$', fontsize=16)\n",
    "plt.ylabel('pdf', fontsize=16)\n",
    "plt.legend(loc='upper left', fontsize=16)\n",
    "plt.show()\n",
    "fig.savefig(\"U_gtex_cnc.pdf\")"
   ]
  },
  {
   "cell_type": "code",
   "execution_count": null,
   "metadata": {},
   "outputs": [],
   "source": [
    "A = odf['A'].values\n",
    "A_c = odf[odf.index.isin(pc.index)]['A'].values\n",
    "A_nc = odf[~odf.index.isin(pc.index)]['A'].values\n",
    "fig=plt.figure()\n",
    "plt.plot(np.arange(0,len(A)), 1./np.arange(0,len(A)), ls='--', c='g', label='$r^-1$')\n",
    "#plt.plot(np.arange(0,len(A)), np.sort(A)[::-1]/np.sum(A))\n",
    "#plt.plot(np.arange(0,len(A_c)), np.sort(A_c)[::-1]/np.sum(A), label='coding genes')\n",
    "plt.plot(np.arange(0,len(A_nc)), np.sort(A_nc)[::-1]/np.sum(A), label='non coding genes')\n",
    "plt.xscale('log')\n",
    "plt.yscale('log')\n",
    "plt.ylabel('$f_i$', fontsize=18)\n",
    "plt.xlabel(\"Rank_i\", fontsize=18)\n",
    "plt.legend(fontsize=18)\n",
    "fig.savefig(\"globalZipf_nc.pdf\")"
   ]
  },
  {
   "cell_type": "code",
   "execution_count": null,
   "metadata": {},
   "outputs": [],
   "source": []
  }
 ],
 "metadata": {
  "kernelspec": {
   "display_name": "Python 3",
   "language": "python",
   "name": "python3"
  },
  "language_info": {
   "codemirror_mode": {
    "name": "ipython",
    "version": 3
   },
   "file_extension": ".py",
   "mimetype": "text/x-python",
   "name": "python",
   "nbconvert_exporter": "python",
   "pygments_lexer": "ipython3",
   "version": "3.6.8"
  }
 },
 "nbformat": 4,
 "nbformat_minor": 2
}
