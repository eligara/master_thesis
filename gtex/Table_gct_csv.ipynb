{
 "cells": [
  {
   "cell_type": "code",
   "execution_count": 1,
   "metadata": {},
   "outputs": [],
   "source": [
    "import pandas as pd\n",
    "import numpy as np"
   ]
  },
  {
   "cell_type": "code",
   "execution_count": null,
   "metadata": {},
   "outputs": [],
   "source": [
    "df = pd.read_csv(\"GTEx_Analysis_2016-01-15_v7_RNASeQCv1.1.8_gene_reads.gct\", index_col=[0], sep='\\t')\n",
    "df.drop(labels='Description', axis=1,inplace=True)\n",
    "df.index=[g[:15] for g in df.index]\n",
    "df.head()"
   ]
  },
  {
   "cell_type": "code",
   "execution_count": 26,
   "metadata": {},
   "outputs": [],
   "source": [
    "df.to_csv(\"mainTable.csv\", header=True, index=True)"
   ]
  },
  {
   "cell_type": "markdown",
   "metadata": {},
   "source": [
    "## GTEx Biospecimen\n",
    "[GTEX_biospecimen](https://gtexportal.org/home/samplesPage)"
   ]
  },
  {
   "cell_type": "code",
   "execution_count": 37,
   "metadata": {},
   "outputs": [
    {
     "data": {
      "text/plain": [
       "tissueSampleId\n",
       "GTEX-N7MS-0011-R1a                          Brain - Hippocampus\n",
       "GTEX-N7MS-0011-R2a                     Brain - Substantia nigra\n",
       "GTEX-N7MS-0011-R4a                             Brain - Amygdala\n",
       "GTEX-N7MS-0011-R5a              Brain - Caudate (basal ganglia)\n",
       "GTEX-N7MS-0011-R6a    Brain - Nucleus accumbens (basal ganglia)\n",
       "GTEX-N7MS-0011-R7a              Brain - Putamen (basal ganglia)\n",
       "GTEX-N7MS-0011-R8a                         Brain - Hypothalamus\n",
       "GTEX-N7MT-0011-R1a                          Brain - Hippocampus\n",
       "GTEX-N7MT-0011-R2a                     Brain - Substantia nigra\n",
       "GTEX-N7MT-0011-R3a     Brain - Anterior cingulate cortex (BA24)\n",
       "GTEX-N7MT-0011-R4a                             Brain - Amygdala\n",
       "GTEX-N7MT-0011-R5a              Brain - Caudate (basal ganglia)\n",
       "GTEX-N7MT-0011-R6a    Brain - Nucleus accumbens (basal ganglia)\n",
       "GTEX-N7MT-0011-R7a              Brain - Putamen (basal ganglia)\n",
       "GTEX-N7MT-0011-R8a                         Brain - Hypothalamus\n",
       "GTEX-NPJ7-0011-R1a                          Brain - Hippocampus\n",
       "GTEX-NPJ7-0011-R2a                     Brain - Substantia nigra\n",
       "GTEX-NPJ7-0011-R3a     Brain - Anterior cingulate cortex (BA24)\n",
       "GTEX-NPJ7-0011-R4b                             Brain - Amygdala\n",
       "GTEX-NPJ7-0011-R5a              Brain - Caudate (basal ganglia)\n",
       "GTEX-NPJ7-0011-R7b              Brain - Putamen (basal ganglia)\n",
       "GTEX-NPJ7-0011-R8a                         Brain - Hypothalamus\n",
       "GTEX-NPJ7-0011-R9a           Brain - Spinal cord (cervical c-1)\n",
       "GTEX-NPJ8-0011-R1a                          Brain - Hippocampus\n",
       "GTEX-NPJ8-0011-R2a                     Brain - Substantia nigra\n",
       "GTEX-NPJ8-0011-R3a     Brain - Anterior cingulate cortex (BA24)\n",
       "GTEX-NPJ8-0011-R4a                             Brain - Amygdala\n",
       "GTEX-NPJ8-0011-R5a              Brain - Caudate (basal ganglia)\n",
       "GTEX-NPJ8-0011-R6a    Brain - Nucleus accumbens (basal ganglia)\n",
       "GTEX-NPJ8-0011-R7b              Brain - Putamen (basal ganglia)\n",
       "                                        ...                    \n",
       "GTEX-T8EM-1026                   Skin - Sun Exposed (Lower leg)\n",
       "GTEX-139UW-2826                  Skin - Sun Exposed (Lower leg)\n",
       "GTEX-13CF2-2526                  Skin - Sun Exposed (Lower leg)\n",
       "GTEX-1LKK1-0126                          Adipose - Subcutaneous\n",
       "GTEX-1RQED-0326                          Adipose - Subcutaneous\n",
       "GTEX-1S3DN-2426                               Muscle - Skeletal\n",
       "GTEX-1S3DN-2526                                  Nerve - Tibial\n",
       "GTEX-13W3W-2526                          Adipose - Subcutaneous\n",
       "GTEX-ZQUD-1526                           Heart - Left Ventricle\n",
       "GTEX-ZYT6-1026                                   Artery - Aorta\n",
       "GTEX-17HHY-1026                    Adipose - Visceral (Omentum)\n",
       "GTEX-145ME-1926                          Adipose - Subcutaneous\n",
       "GTEX-15RIG-0226                  Skin - Sun Exposed (Lower leg)\n",
       "GTEX-15RIG-0526                                  Nerve - Tibial\n",
       "GTEX-17HII-0226                  Skin - Sun Exposed (Lower leg)\n",
       "GTEX-17HII-0326                          Adipose - Subcutaneous\n",
       "GTEX-17MF6-0126                  Skin - Sun Exposed (Lower leg)\n",
       "GTEX-14JFF-2526                Small Intestine - Terminal Ileum\n",
       "GTEX-1OZHM-1726                                 Kidney - Cortex\n",
       "GTEX-NL3H-2126                                          Bladder\n",
       "GTEX-O5YV-1726                               Colon - Transverse\n",
       "GTEX-NL3H-2126                                          Bladder\n",
       "GTEX-1192W-1426                                          Spleen\n",
       "GTEX-139UC-2126                Small Intestine - Terminal Ileum\n",
       "GTEX-13NZ8-2226                                 Kidney - Cortex\n",
       "GTEX-NL3G-1926                                          Bladder\n",
       "GTEX-NL3G-2626                                          Stomach\n",
       "GTEX-O5YV-1726                               Colon - Transverse\n",
       "GTEX-QESD-0926                                          Bladder\n",
       "GTEX-ZVT3-2226                                    Adrenal Gland\n",
       "Name: tissueSiteDetail, Length: 72518, dtype: object"
      ]
     },
     "execution_count": 37,
     "metadata": {},
     "output_type": "execute_result"
    }
   ],
   "source": [
    "df_file = pd.read_csv(\"https://storage.googleapis.com/gtex_biobank/downloads/biobank_collection_20190430_070519.txt\", sep='\\t', index_col=[10])\n",
    "df_file=df_file.loc[:,'tissueSiteDetail']\n",
    "df_file"
   ]
  },
  {
   "cell_type": "code",
   "execution_count": 46,
   "metadata": {},
   "outputs": [],
   "source": [
    "df_file.to_csv(\"files.dat\", header=False, index=True)"
   ]
  },
  {
   "cell_type": "code",
   "execution_count": 44,
   "metadata": {},
   "outputs": [
    {
     "data": {
      "text/html": [
       "<div>\n",
       "<style scoped>\n",
       "    .dataframe tbody tr th:only-of-type {\n",
       "        vertical-align: middle;\n",
       "    }\n",
       "\n",
       "    .dataframe tbody tr th {\n",
       "        vertical-align: top;\n",
       "    }\n",
       "\n",
       "    .dataframe thead th {\n",
       "        text-align: right;\n",
       "    }\n",
       "</style>\n",
       "<table border=\"1\" class=\"dataframe\">\n",
       "  <thead>\n",
       "    <tr style=\"text-align: right;\">\n",
       "      <th></th>\n",
       "      <th>lenght</th>\n",
       "      <th>type_of_gene</th>\n",
       "    </tr>\n",
       "  </thead>\n",
       "  <tbody>\n",
       "    <tr>\n",
       "      <th>ENSG00000167578</th>\n",
       "      <td>18722.0</td>\n",
       "      <td>protein-coding</td>\n",
       "    </tr>\n",
       "    <tr>\n",
       "      <th>ENSG00000078237</th>\n",
       "      <td>46830.0</td>\n",
       "      <td>protein-coding</td>\n",
       "    </tr>\n",
       "    <tr>\n",
       "      <th>ENSG00000146083</th>\n",
       "      <td>11328.0</td>\n",
       "      <td>protein-coding</td>\n",
       "    </tr>\n",
       "    <tr>\n",
       "      <th>ENSG00000158486</th>\n",
       "      <td>226330.0</td>\n",
       "      <td>protein-coding</td>\n",
       "    </tr>\n",
       "    <tr>\n",
       "      <th>ENSG00000198242</th>\n",
       "      <td>4966.0</td>\n",
       "      <td>protein-coding</td>\n",
       "    </tr>\n",
       "  </tbody>\n",
       "</table>\n",
       "</div>"
      ],
      "text/plain": [
       "                   lenght    type_of_gene\n",
       "ENSG00000167578   18722.0  protein-coding\n",
       "ENSG00000078237   46830.0  protein-coding\n",
       "ENSG00000146083   11328.0  protein-coding\n",
       "ENSG00000158486  226330.0  protein-coding\n",
       "ENSG00000198242    4966.0  protein-coding"
      ]
     },
     "execution_count": 44,
     "metadata": {},
     "output_type": "execute_result"
    }
   ],
   "source": [
    "pc=pd.read_csv(\"../genes.txt\", index_col=[0])\n",
    "pc=pc[pc['type_of_gene']=='protein-coding']\n",
    "pc.head()"
   ]
  },
  {
   "cell_type": "code",
   "execution_count": 48,
   "metadata": {},
   "outputs": [
    {
     "name": "stderr",
     "output_type": "stream",
     "text": [
      "/Users/filippo/anaconda3/envs/thesis/lib/python2.7/site-packages/ipykernel_launcher.py:1: FutureWarning: \n",
      "Passing list-likes to .loc or [] with any missing label will raise\n",
      "KeyError in the future, you can use .reindex() as an alternative.\n",
      "\n",
      "See the documentation here:\n",
      "https://pandas.pydata.org/pandas-docs/stable/indexing.html#deprecate-loc-reindex-listlike\n",
      "  \"\"\"Entry point for launching an IPython kernel.\n"
     ]
    }
   ],
   "source": [
    "df.loc[pc.index.values,df.columns[:5000]].fillna(0).to_csv(\"mainTable.csv\",index=True, header=True)"
   ]
  }
 ],
 "metadata": {
  "kernelspec": {
   "display_name": "Python 2",
   "language": "python",
   "name": "python2"
  },
  "language_info": {
   "codemirror_mode": {
    "name": "ipython",
    "version": 2
   },
   "file_extension": ".py",
   "mimetype": "text/x-python",
   "name": "python",
   "nbconvert_exporter": "python",
   "pygments_lexer": "ipython2",
   "version": "2.7.15"
  }
 },
 "nbformat": 4,
 "nbformat_minor": 2
}
