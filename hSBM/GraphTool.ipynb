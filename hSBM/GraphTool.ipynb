{
 "cells": [
  {
   "cell_type": "code",
   "execution_count": null,
   "metadata": {},
   "outputs": [],
   "source": [
    "import graph_tool.all as gt"
   ]
  },
  {
   "cell_type": "code",
   "execution_count": null,
   "metadata": {},
   "outputs": [],
   "source": [
    "g = gt.collection.data['football']\n",
    "g"
   ]
  },
  {
   "cell_type": "code",
   "execution_count": null,
   "metadata": {},
   "outputs": [],
   "source": [
    "state = gt.minimize_blockmodel_dl(g, overlap=True)"
   ]
  },
  {
   "cell_type": "code",
   "execution_count": null,
   "metadata": {},
   "outputs": [],
   "source": [
    "state.draw()"
   ]
  },
  {
   "cell_type": "code",
   "execution_count": null,
   "metadata": {},
   "outputs": [],
   "source": [
    "gt.mcmc_equilibrate(state, wait=1000, mcmc_args=dict(niter=10))"
   ]
  },
  {
   "cell_type": "code",
   "execution_count": null,
   "metadata": {},
   "outputs": [],
   "source": [
    "pv = None\n",
    "\n",
    "def collect_marginals(s):\n",
    "   global pv\n",
    "   pv = s.collect_vertex_marginals(pv)\n",
    "\n",
    "# Now we collect the marginals for exactly 100,000 sweeps, at\n",
    "# intervals of 10 sweeps:\n",
    "gt.mcmc_equilibrate(state, force_niter=10000, mcmc_args=dict(niter=10),\n",
    "                    callback=collect_marginals)\n",
    "\n",
    "# Now the node marginals are stored in property map pv. We can\n",
    "# visualize them as pie charts on the nodes:\n",
    "state.draw(pos=g.vp.pos, vertex_shape=\"pie\", vertex_pie_fractions=pv,\n",
    "           edge_gradient=None, output=\"lesmis-sbm-marginals.svg\")"
   ]
  },
  {
   "cell_type": "code",
   "execution_count": null,
   "metadata": {},
   "outputs": [],
   "source": [
    "pv"
   ]
  },
  {
   "cell_type": "code",
   "execution_count": null,
   "metadata": {},
   "outputs": [],
   "source": []
  }
 ],
 "metadata": {
  "kernelspec": {
   "display_name": "Python 3",
   "language": "python",
   "name": "python3"
  },
  "language_info": {
   "codemirror_mode": {
    "name": "ipython",
    "version": 3
   },
   "file_extension": ".py",
   "mimetype": "text/x-python",
   "name": "python",
   "nbconvert_exporter": "python",
   "pygments_lexer": "ipython3",
   "version": "3.6.5"
  }
 },
 "nbformat": 4,
 "nbformat_minor": 2
}
