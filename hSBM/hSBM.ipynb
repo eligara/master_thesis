{
 "cells": [
  {
   "cell_type": "markdown",
   "metadata": {},
   "source": [
    "# TopSBM: Topic Modeling with Stochastic Block Models"
   ]
  },
  {
   "cell_type": "code",
   "execution_count": null,
   "metadata": {},
   "outputs": [],
   "source": [
    "%load_ext autoreload\n",
    "%autoreload 2\n",
    "\n",
    "import os\n",
    "import pylab as plt\n",
    "%matplotlib inline  \n",
    "\n",
    "from sbmtm import sbmtm\n",
    "import graph_tool.all as gt\n",
    "\n",
    "import numpy as np\n",
    "from matplotlib import pyplot as plt\n",
    "\n",
    "gt.seed_rng(42) ## seed for graph-tool's random number generator --> same results"
   ]
  },
  {
   "cell_type": "code",
   "execution_count": null,
   "metadata": {},
   "outputs": [],
   "source": [
    "print(gt.openmp_get_num_threads())"
   ]
  },
  {
   "cell_type": "code",
   "execution_count": null,
   "metadata": {},
   "outputs": [],
   "source": []
  },
  {
   "cell_type": "markdown",
   "metadata": {},
   "source": [
    "# Fitting the model"
   ]
  },
  {
   "cell_type": "code",
   "execution_count": null,
   "metadata": {},
   "outputs": [],
   "source": [
    "## we create an instance of the sbmtm-class\n",
    "model = sbmtm()"
   ]
  },
  {
   "cell_type": "code",
   "execution_count": null,
   "metadata": {},
   "outputs": [],
   "source": [
    "## we can also skip the previous step by saving/loading a graph\n",
    "#model.save_graph(filename = 'graph.xml.gz')\n",
    "model.load_graph(filename = 'graph.xml.gz')"
   ]
  },
  {
   "cell_type": "code",
   "execution_count": null,
   "metadata": {},
   "outputs": [],
   "source": [
    "model.g"
   ]
  },
  {
   "cell_type": "code",
   "execution_count": null,
   "metadata": {},
   "outputs": [],
   "source": [
    "model.fit()\n",
    "#model.fit_overlap()"
   ]
  },
  {
   "cell_type": "code",
   "execution_count": null,
   "metadata": {},
   "outputs": [],
   "source": [
    "state = model.state"
   ]
  },
  {
   "cell_type": "markdown",
   "metadata": {},
   "source": [
    "# Plotting the result\n",
    "\n",
    "The output shows the (hierarchical) community structure in the word-document network as inferred by the stochastic block model:\n",
    "\n",
    "- document-nodes are on the left\n",
    "- word-nodes are on the right\n",
    "- different colors correspond to the different groups\n",
    "\n",
    "The result is a grouping of nodes into groups on multiple levels in the hierarchy:\n",
    "\n",
    "- on the uppermost level, each node belongs to the same group (square in the middle)\n",
    "- on the next-lower level, we split the network into two groups: the word-nodes and the document-nodes (blue sqaures to the left and right, respectively). This is a trivial structure due to the bipartite character of the network.\n",
    "- only next lower levels constitute a non-trivial structure: We now further divide nodes into smaller groups (document-nodes into document-groups on the left and word-nodes into word-groups on the right)"
   ]
  },
  {
   "cell_type": "code",
   "execution_count": null,
   "metadata": {},
   "outputs": [],
   "source": [
    "model.plot(nedges=1000)"
   ]
  },
  {
   "cell_type": "code",
   "execution_count": null,
   "metadata": {},
   "outputs": [],
   "source": [
    "state.draw(layout='bipartite', output='bipartite_overlap.png')\n",
    "#state.draw(output='circular_overlap.png')"
   ]
  },
  {
   "cell_type": "markdown",
   "metadata": {},
   "source": [
    "# The basics"
   ]
  },
  {
   "cell_type": "markdown",
   "metadata": {},
   "source": [
    "## Topics\n",
    "For each word-group on a given level in the hierarchy, we retrieve the $n$ most common words in each group -- these are the topics!\n"
   ]
  },
  {
   "cell_type": "code",
   "execution_count": null,
   "metadata": {},
   "outputs": [],
   "source": [
    "l=1"
   ]
  },
  {
   "cell_type": "code",
   "execution_count": null,
   "metadata": {},
   "outputs": [],
   "source": [
    "model.topics(l=l,n=200)"
   ]
  },
  {
   "cell_type": "code",
   "execution_count": null,
   "metadata": {},
   "outputs": [],
   "source": [
    "topic_lenghts = []\n",
    "for topic in model.topics(l=l,n=2000):\n",
    "    topic_lenghts.append(len(model.topics(l=l,n=2000)[topic]))\n",
    "    \n",
    "fig=plt.figure()\n",
    "plt.hist(topic_lenghts, histtype='step', bins=11, lw=2)\n",
    "plt.xlabel(\"topic size (# genes)\", fontsize=16)\n",
    "plt.ylabel(\"# topic of that size\", fontsize=16)\n",
    "plt.show()\n",
    "fig.savefig(\"topic_size_%d.png\"%l)"
   ]
  },
  {
   "cell_type": "code",
   "execution_count": null,
   "metadata": {},
   "outputs": [],
   "source": [
    "for ensg in model.topics(l=l,n=200)[7]:\n",
    "    print(ensg[0])"
   ]
  },
  {
   "cell_type": "markdown",
   "metadata": {},
   "source": [
    "### DAVID compatible format"
   ]
  },
  {
   "cell_type": "code",
   "execution_count": null,
   "metadata": {},
   "outputs": [],
   "source": [
    "model.print_topics(l=l, format='tsv')"
   ]
  },
  {
   "cell_type": "markdown",
   "metadata": {},
   "source": [
    "## Topic-distribution in each document\n",
    "Which topics contribute to each document?"
   ]
  },
  {
   "cell_type": "code",
   "execution_count": null,
   "metadata": {},
   "outputs": [],
   "source": [
    "## select a document (by its index)\n",
    "i_doc = 814\n",
    "print(model.documents[i_doc])\n",
    "## get a list of tuples (topic-index, probability)\n",
    "#model.topicdist(i_doc,l=0)"
   ]
  },
  {
   "cell_type": "code",
   "execution_count": null,
   "metadata": {},
   "outputs": [],
   "source": [
    "data = [el[1] for el in model.topicdist(i_doc,l=l)]\n",
    "labels = [el[0]+1 for el in model.topicdist(i_doc,l=l)]\n",
    "fig=plt.figure()\n",
    "plt.pie(data, labels=labels)\n",
    "plt.title(\"Topic distribution: %s\"%model.documents[i_doc])\n",
    "plt.show()\n",
    "fig.savefig(\"topic_distr_%s.png\"%model.documents[i_doc])"
   ]
  },
  {
   "cell_type": "markdown",
   "metadata": {},
   "source": [
    "# Extra: Clustering of documents - for free.\n",
    "The stochastic block models clusters the documents into groups.\n",
    "We do not need to run an additional clustering to obtain this grouping.\n"
   ]
  },
  {
   "cell_type": "code",
   "execution_count": null,
   "metadata": {},
   "outputs": [],
   "source": [
    "model.clusters(l=l,n=500)"
   ]
  },
  {
   "cell_type": "markdown",
   "metadata": {},
   "source": [
    "Application -- Finding similar articles:\n",
    "\n",
    "For a query-article, we return all articles from the same group"
   ]
  },
  {
   "cell_type": "code",
   "execution_count": null,
   "metadata": {
    "scrolled": true
   },
   "outputs": [],
   "source": [
    "## select a document (index)\n",
    "i_doc = 2\n",
    "print(i_doc,model.documents[i_doc])\n",
    "## find all articles from the same group\n",
    "## print: (doc-index, doc-title)\n",
    "model.clusters_query(i_doc,l=0)"
   ]
  },
  {
   "cell_type": "markdown",
   "metadata": {},
   "source": [
    "# More technical: Group membership\n",
    "In the stochastic block model, word (-nodes) and document (-nodes) are clustered into different groups.\n",
    "\n",
    "The group membership can be represented by the conditional probability $P(\\text{group}\\, |\\, \\text{node})$. Since words and documents belong to different groups (the word-document network is bipartite) we can show separately:\n",
    "\n",
    "- P(bd | d), the probability of document $d$ to belong to document group $bd$\n",
    "- P(bw | w), the probability of word $w$ to belong to word group $bw$."
   ]
  },
  {
   "cell_type": "code",
   "execution_count": null,
   "metadata": {},
   "outputs": [],
   "source": [
    "l=l\n",
    "p_td_d,p_tw_w = model.group_membership(l=l)\n",
    "fig = plt.figure(figsize=(15,4))\n",
    "plt.subplot(121)\n",
    "plt.imshow(p_td_d,origin='lower',aspect='auto',interpolation='none')\n",
    "plt.title(r'Document group membership $P(bd | d)$')\n",
    "plt.xlabel('Document d (index)')\n",
    "plt.ylabel('Document group, bd')\n",
    "plt.colorbar()\n",
    "\n",
    "plt.subplot(122)\n",
    "plt.imshow(p_tw_w,origin='lower',aspect='auto',interpolation='none')\n",
    "plt.title(r'Word group membership $P(bw | w)$')\n",
    "plt.xlabel('Word w (index)')\n",
    "plt.ylabel('Word group, bw')\n",
    "plt.colorbar()\n",
    "plt.show()"
   ]
  },
  {
   "cell_type": "code",
   "execution_count": null,
   "metadata": {},
   "outputs": [],
   "source": [
    "fig.savefig(\"group_membership_%d.pdf\"%l)\n",
    "fig.savefig(\"group_membership_%d.png\"%l)"
   ]
  },
  {
   "cell_type": "code",
   "execution_count": null,
   "metadata": {},
   "outputs": [],
   "source": [
    "overlaplenghts=[]\n",
    "overlap_index = []\n",
    "for i,el in enumerate(p_tw_w.T):\n",
    "    mixture_size = len(np.nonzero(el)[0])\n",
    "    overlaplenghts.append(mixture_size)\n",
    "    if mixture_size>1:\n",
    "        overlap_index.append(i)"
   ]
  },
  {
   "cell_type": "code",
   "execution_count": null,
   "metadata": {},
   "outputs": [],
   "source": [
    "fig=plt.figure()\n",
    "plt.title(\"How many topics in a single gene\")\n",
    "plt.xlabel(\"# topic\")\n",
    "plt.ylabel(\"genes with that number of topics\")\n",
    "plt.hist(overlaplenghts, histtype='step', lw=2, range=(-0.5,5.5), bins=6)\n",
    "plt.show()\n",
    "fig.savefig(\"overlap_size_%d.png\"%l)"
   ]
  },
  {
   "cell_type": "code",
   "execution_count": null,
   "metadata": {},
   "outputs": [],
   "source": [
    "gene=300\n",
    "for gene in overlap_index[:10]:\n",
    "    fig=plt.figure()\n",
    "    plt.title(\"Topic distribution of a single gene: %s\"%model.words[gene])\n",
    "    plt.xlabel(\"topic tw\")\n",
    "    plt.ylabel(\"probability\")\n",
    "    plt.ylim((0,1.1))\n",
    "    plt.plot(p_tw_w.T[gene])\n",
    "    plt.show()\n",
    "    fig.savefig(\"distribution_single_gene_%s.png\"%model.words[gene])"
   ]
  },
  {
   "cell_type": "code",
   "execution_count": null,
   "metadata": {},
   "outputs": [],
   "source": []
  },
  {
   "cell_type": "markdown",
   "metadata": {},
   "source": [
    "## overlapping genes"
   ]
  },
  {
   "cell_type": "code",
   "execution_count": null,
   "metadata": {},
   "outputs": [],
   "source": [
    "#get genes overlapping\n",
    "overlappinggenes = []\n",
    "for i,el in enumerate(p_tw_w.T):\n",
    "    if(len(np.nonzero(el)[0])>1):\n",
    "        overlappinggenes.append(model.words[i])"
   ]
  },
  {
   "cell_type": "code",
   "execution_count": null,
   "metadata": {},
   "outputs": [],
   "source": [
    "for g in overlappinggenes:\n",
    "    print(g)"
   ]
  },
  {
   "cell_type": "markdown",
   "metadata": {},
   "source": [
    "# state analysis"
   ]
  },
  {
   "cell_type": "code",
   "execution_count": null,
   "metadata": {},
   "outputs": [],
   "source": [
    "state = model.state"
   ]
  },
  {
   "cell_type": "code",
   "execution_count": null,
   "metadata": {},
   "outputs": [],
   "source": [
    "for level in state.get_levels():\n",
    "    e=level.get_matrix()\n",
    "    plt.matshow(e.todense())\n",
    "    plt.savefig(\"mat_%d.png\"%l)"
   ]
  },
  {
   "cell_type": "code",
   "execution_count": null,
   "metadata": {},
   "outputs": [],
   "source": [
    "for i in range(len(state.get_levels())-2)[::-1]:\n",
    "    print(\"doing %d\"%i)\n",
    "    model.print_topics(l=i)"
   ]
  },
  {
   "cell_type": "code",
   "execution_count": null,
   "metadata": {},
   "outputs": [],
   "source": [
    "model.print_summary()"
   ]
  },
  {
   "cell_type": "code",
   "execution_count": null,
   "metadata": {},
   "outputs": [],
   "source": [
    "print(len(model.words))\n",
    "print(len(model.documents))"
   ]
  },
  {
   "cell_type": "markdown",
   "metadata": {},
   "source": [
    "### topicdist"
   ]
  },
  {
   "cell_type": "code",
   "execution_count": null,
   "metadata": {},
   "outputs": [],
   "source": [
    "groups = model.groups[l]"
   ]
  },
  {
   "cell_type": "code",
   "execution_count": null,
   "metadata": {},
   "outputs": [],
   "source": [
    "p_w_tw = groups['p_w_tw']\n",
    "fig=plt.figure(figsize=(12,10))\n",
    "plt.imshow(p_w_tw,origin='lower',aspect='auto',interpolation='none')\n",
    "plt.title(r'Word group membership $P(w | tw)$')\n",
    "plt.xlabel('Topic, tw')\n",
    "plt.ylabel('Word w (index)')\n",
    "plt.colorbar()\n",
    "fig.savefig(\"p_w_tw_%d.png\"%l)"
   ]
  },
  {
   "cell_type": "code",
   "execution_count": null,
   "metadata": {},
   "outputs": [],
   "source": [
    "p_tw_d = groups['p_tw_d']\n",
    "fig=plt.figure(figsize=(12,10))\n",
    "plt.imshow(p_tw_d,origin='lower',aspect='auto',interpolation='none')\n",
    "plt.title(r'Word group membership $P(tw | d)$')\n",
    "plt.xlabel('Document (index)')\n",
    "plt.ylabel('Topic, tw')\n",
    "plt.colorbar()\n",
    "fig.savefig(\"p_tw_d_%d.png\"%l)"
   ]
  },
  {
   "cell_type": "code",
   "execution_count": null,
   "metadata": {},
   "outputs": [],
   "source": [
    "topic=2\n",
    "fig=plt.figure()\n",
    "plt.title(\"Topic%d composition\"%topic)\n",
    "plt.xlabel(\"word w\")\n",
    "plt.ylabel(\"probability\")\n",
    "plt.plot(p_w_tw.T[topic])\n",
    "plt.show()\n",
    "fig.savefig(\"Topic%d_composition.png\"%topic)"
   ]
  },
  {
   "cell_type": "code",
   "execution_count": null,
   "metadata": {},
   "outputs": [],
   "source": [
    "doc=12\n",
    "title = model.documents[doc]\n",
    "fig=plt.figure()\n",
    "plt.title(\"Topic distribution of sample: %s\"%title)\n",
    "plt.xlabel(\"topic tw\")\n",
    "plt.ylabel(\"probability\")\n",
    "plt.plot(p_tw_d.T[doc])\n",
    "plt.show()\n",
    "fig.savefig(\"distribution_single_sample_%d.png\"%doc)"
   ]
  },
  {
   "cell_type": "code",
   "execution_count": null,
   "metadata": {},
   "outputs": [],
   "source": []
  }
 ],
 "metadata": {
  "kernelspec": {
   "display_name": "Python 3",
   "language": "python",
   "name": "python3"
  },
  "language_info": {
   "codemirror_mode": {
    "name": "ipython",
    "version": 3
   },
   "file_extension": ".py",
   "mimetype": "text/x-python",
   "name": "python",
   "nbconvert_exporter": "python",
   "pygments_lexer": "ipython3",
   "version": "3.6.5"
  }
 },
 "nbformat": 4,
 "nbformat_minor": 2
}
