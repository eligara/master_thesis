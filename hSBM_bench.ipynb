{
 "cells": [
  {
   "cell_type": "code",
   "execution_count": 1,
   "metadata": {},
   "outputs": [],
   "source": [
    "import requests as rq\n",
    "import json\n",
    "import pandas as pd\n",
    "import numpy as np\n",
    "from matplotlib import pyplot as plt\n",
    "from IPython.display import HTML"
   ]
  },
  {
   "cell_type": "code",
   "execution_count": 2,
   "metadata": {},
   "outputs": [],
   "source": [
    "cases_endpt = 'https://api.gdc.cancer.gov/cases'"
   ]
  },
  {
   "cell_type": "code",
   "execution_count": null,
   "metadata": {},
   "outputs": [],
   "source": []
  },
  {
   "cell_type": "markdown",
   "metadata": {},
   "source": [
    "# query file\n",
    "\n",
    "See https://docs.gdc.cancer.gov/API/Users_Guide/Appendix_A_Available_Fields/#file-fields for possible *fields*"
   ]
  },
  {
   "cell_type": "code",
   "execution_count": null,
   "metadata": {},
   "outputs": [],
   "source": [
    "fields = [\n",
    "    \"submitter_id\",\n",
    "    \"case_id\",\n",
    "    \"primary_site\",\n",
    "    \"disease_type\",\n",
    "    \"diagnoses.tumor_stage\",\n",
    "    \"diagnoses.tumor_grade\",\n",
    "    \"diagnoses.primary_diagnosis\",\n",
    "    \"diagnoses.classification_of_tumor\",\n",
    "    \"annotations.classification\",\n",
    "    \"samples.tumor_code\"\n",
    "    ]\n",
    "\n",
    "fields = ','.join(fields)"
   ]
  },
  {
   "cell_type": "code",
   "execution_count": null,
   "metadata": {},
   "outputs": [],
   "source": []
  },
  {
   "cell_type": "code",
   "execution_count": null,
   "metadata": {},
   "outputs": [],
   "source": [
    "def queryFile(idFile):\n",
    "    filters = {\n",
    "    \"op\": \"in\",\n",
    "    \"content\":{\n",
    "        \"field\": \"files.file_name\",\n",
    "        \"value\": [idFile]\n",
    "        }\n",
    "    }\n",
    "    params = {\n",
    "    \"fields\": fields,\n",
    "    \"filters\": json.dumps(filters),\n",
    "    \"format\": \"TSV\",\n",
    "    \"size\": \"1\"\n",
    "    }\n",
    "    print(\"quering...%s\"%idFile)\n",
    "    response = rq.get(cases_endpt, params = params)\n",
    "    #print(response.content.decode('utf-8'))\n",
    "    r = response.content.decode(\"utf-8\").split('\\r')\n",
    "    data = np.array(r[1].replace('\\n','').split('\\t'))\n",
    "    data = data.reshape(1,len(data))\n",
    "    return pd.DataFrame(data=data, columns=r[0].split('\\t'), index=[0])"
   ]
  },
  {
   "cell_type": "code",
   "execution_count": null,
   "metadata": {},
   "outputs": [],
   "source": []
  },
  {
   "cell_type": "code",
   "execution_count": null,
   "metadata": {},
   "outputs": [],
   "source": [
    "queryFile('418eab89-5e78-4be3-ba93-c9dc2a7d1c68.FPKM.txt.gz')"
   ]
  },
  {
   "cell_type": "markdown",
   "metadata": {},
   "source": [
    "## query many"
   ]
  },
  {
   "cell_type": "code",
   "execution_count": null,
   "metadata": {},
   "outputs": [],
   "source": [
    "files = []"
   ]
  },
  {
   "cell_type": "code",
   "execution_count": 5,
   "metadata": {},
   "outputs": [],
   "source": [
    "cluster = []"
   ]
  },
  {
   "cell_type": "code",
   "execution_count": null,
   "metadata": {},
   "outputs": [],
   "source": [
    "def queryFiles(files):\n",
    "    df = pd.DataFrame(columns=fields.split(','))\n",
    "    for i,f  in enumerate(files):\n",
    "        df = df.append(queryFile(f), ignore_index=True)\n",
    "    print(df.head())\n",
    "    return df"
   ]
  },
  {
   "cell_type": "code",
   "execution_count": null,
   "metadata": {},
   "outputs": [],
   "source": [
    "def makePie(df, l, c, col = 'disease_type'):\n",
    "    col_counts = df.loc[:,col].value_counts()\n",
    "    fig = plt.figure(figsize=(15,8))\n",
    "    col_counts.plot(kind='pie', fontsize=16, title = col)\n",
    "    fig.savefig(\"cluster_pie_%s_l_%d_c%d.pdf\"%(col,l, c))"
   ]
  },
  {
   "cell_type": "code",
   "execution_count": null,
   "metadata": {},
   "outputs": [],
   "source": [
    "for c in cluster:\n",
    "    makePie(queryFiles([f[0][:-2]+\".FPKM.txt.gz\" for f in cluster[c]]), 0, c, 'primary_site')"
   ]
  },
  {
   "cell_type": "code",
   "execution_count": null,
   "metadata": {},
   "outputs": [],
   "source": []
  },
  {
   "cell_type": "code",
   "execution_count": null,
   "metadata": {},
   "outputs": [],
   "source": []
  },
  {
   "cell_type": "markdown",
   "metadata": {},
   "source": [
    "# Words\n",
    "## query words"
   ]
  },
  {
   "cell_type": "code",
   "execution_count": 1,
   "metadata": {},
   "outputs": [],
   "source": [
    "cluster = [('3', 1.0), ('65', 1.0), ('89', 1.0), ('9', 1.0), ('34', 1.0)]"
   ]
  },
  {
   "cell_type": "code",
   "execution_count": null,
   "metadata": {},
   "outputs": [],
   "source": [
    "for c,_ in cluster:\n",
    "    print(df.keys()[int(c)][:-2])"
   ]
  }
 ],
 "metadata": {
  "kernelspec": {
   "display_name": "Python 2",
   "language": "python",
   "name": "python2"
  },
  "language_info": {
   "codemirror_mode": {
    "name": "ipython",
    "version": 2
   },
   "file_extension": ".py",
   "mimetype": "text/x-python",
   "name": "python",
   "nbconvert_exporter": "python",
   "pygments_lexer": "ipython2",
   "version": "2.7.15"
  }
 },
 "nbformat": 4,
 "nbformat_minor": 2
}
