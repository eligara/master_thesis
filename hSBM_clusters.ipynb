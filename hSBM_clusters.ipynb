{
 "cells": [
  {
   "cell_type": "code",
   "execution_count": null,
   "metadata": {},
   "outputs": [],
   "source": [
    "import requests as rq\n",
    "import json\n",
    "import pandas as pd\n",
    "import numpy as np\n",
    "from textwrap import wrap\n",
    "from matplotlib import pyplot as plt\n",
    "from TCGA_files import *\n",
    "from ensembleAPI import geneinfo, genesinfo\n",
    "from IPython.display import HTML\n",
    "from sklearn import metrics"
   ]
  },
  {
   "cell_type": "code",
   "execution_count": null,
   "metadata": {},
   "outputs": [],
   "source": [
    "cases_endpt = 'https://api.gdc.cancer.gov/cases'\n",
    "fields = [\n",
    "    \"submitter_id\",\n",
    "    \"case_id\",\n",
    "    \"primary_site\",\n",
    "    \"disease_type\",\n",
    "    \"project.project_id\",\n",
    "    \"diagnoses.tumor_stage\",\n",
    "    \"diagnoses.tumor_grade\",\n",
    "    \"diagnoses.primary_diagnosis\",\n",
    "    \"diagnoses.classification_of_tumor\",\n",
    "    \"annotations.classification\",\n",
    "    \"samples.tumor_code\"\n",
    "    ]\n",
    "fields = ','.join(fields)"
   ]
  },
  {
   "cell_type": "markdown",
   "metadata": {},
   "source": [
    "# query file\n",
    "\n",
    "See https://docs.gdc.cancer.gov/API/Users_Guide/Appendix_A_Available_Fields/#file-fields for possible *fields*"
   ]
  },
  {
   "cell_type": "code",
   "execution_count": null,
   "metadata": {},
   "outputs": [],
   "source": [
    "queryFile('007f49fe-d251-4ae4-9313-86d765b13499.FPKM.txt.gz')"
   ]
  },
  {
   "cell_type": "code",
   "execution_count": null,
   "metadata": {},
   "outputs": [],
   "source": [
    "df_files = pd.read_csv(\"files.txt\", index_col=[0], header=[0])"
   ]
  },
  {
   "cell_type": "markdown",
   "metadata": {},
   "source": [
    "## query many"
   ]
  },
  {
   "cell_type": "code",
   "execution_count": null,
   "metadata": {},
   "outputs": [],
   "source": [
    "level = 0\n",
    "setup = 'overlap_1000doc_0.5occ_thr'\n",
    "#setup='5000doc_0.5occ_fpkmweight_thr'\n",
    "#setup = 'overlap_1000doc_0.5occ_thr_tfidf'\n",
    "label = 'disease_type'\n",
    "#label='primary_site'\n",
    "df_clusters = pd.read_csv(\"results/hSBM/%s/topsbm/topsbm_level_%d_clusters.csv\"%(setup, level), header=[0])"
   ]
  },
  {
   "cell_type": "code",
   "execution_count": null,
   "metadata": {},
   "outputs": [],
   "source": [
    "cluster={}\n",
    "for i,c in enumerate(df_clusters.columns):\n",
    "    cluster[i]=df_clusters[c].dropna().values"
   ]
  },
  {
   "cell_type": "code",
   "execution_count": null,
   "metadata": {},
   "outputs": [],
   "source": []
  },
  {
   "cell_type": "code",
   "execution_count": null,
   "metadata": {},
   "outputs": [],
   "source": [
    "for i,c in enumerate(cluster):\n",
    "    print(c)\n",
    "    #datatotest = queryFiles([f+\".FPKM.txt.gz\" for f in cluster[c]])\n",
    "    datatotest = pd.DataFrame(data=df_files.loc[[f for f in cluster[c]]], columns=df_files.columns)\n",
    "    makePie(datatotest, level, c, ['primary_site','disease_type'])\n",
    "    if i > 5:\n",
    "        break"
   ]
  },
  {
   "cell_type": "code",
   "execution_count": null,
   "metadata": {},
   "outputs": [],
   "source": []
  },
  {
   "cell_type": "markdown",
   "metadata": {},
   "source": [
    "# Benchmark\n",
    "https://scikit-learn.org/stable/modules/clustering.html"
   ]
  },
  {
   "cell_type": "code",
   "execution_count": null,
   "metadata": {},
   "outputs": [],
   "source": [
    "true_labels = []\n",
    "predicted_labels = []\n",
    "for c in cluster:\n",
    "    print(c)\n",
    "    for sample in cluster[c]:\n",
    "        #true_labels.append(getFile(sample)['primary_site'].values[0])\n",
    "        try:\n",
    "            true_labels.append(df_files.loc[sample][label])\n",
    "            predicted_labels.append(c)\n",
    "        except:\n",
    "            print(\"error in %s\"%sample)"
   ]
  },
  {
   "cell_type": "code",
   "execution_count": null,
   "metadata": {},
   "outputs": [],
   "source": [
    "_, labels_true = np.unique(true_labels,return_inverse=True)"
   ]
  },
  {
   "cell_type": "code",
   "execution_count": null,
   "metadata": {},
   "outputs": [],
   "source": []
  },
  {
   "cell_type": "code",
   "execution_count": null,
   "metadata": {},
   "outputs": [],
   "source": [
    "series_metrics=pd.Series(name=setup+'__level_%d_%s'%(level,label))\n",
    "series_metrics['MI']=metrics.cluster.normalized_mutual_info_score(labels_true, predicted_labels, average_method='arithmetic')\n",
    "series_metrics['Homogeneity']=metrics.cluster.homogeneity_score(labels_true, predicted_labels) \n",
    "series_metrics['Completness']=metrics.cluster.completeness_score(labels_true, predicted_labels) \n",
    "series_metrics['Vmeasure']=metrics.cluster.v_measure_score(labels_true, predicted_labels)\n",
    "series_metrics['Fowlkes-Mallows']=metrics.cluster.fowlkes_mallows_score(labels_true,predicted_labels)\n",
    "series_metrics['AdjustedRandIndex']=metrics.cluster.adjusted_rand_score(labels_true,predicted_labels)"
   ]
  },
  {
   "cell_type": "code",
   "execution_count": null,
   "metadata": {},
   "outputs": [],
   "source": [
    "series_metrics"
   ]
  },
  {
   "cell_type": "code",
   "execution_count": null,
   "metadata": {},
   "outputs": [],
   "source": [
    "#df_metrics = pd.DataFrame(columns=['AdjustedRandIndex','MI','Homogeneity','Completness','Vmeasure','Fowlkes-Mallows'])"
   ]
  },
  {
   "cell_type": "code",
   "execution_count": null,
   "metadata": {},
   "outputs": [],
   "source": [
    "try:\n",
    "    df_metrics.append(series_metrics, ignore_index=False, verify_integrity=True).to_csv(\"results/hSBM/metrics.csv\", index=True,header=True)\n",
    "except:\n",
    "    raise"
   ]
  },
  {
   "cell_type": "code",
   "execution_count": null,
   "metadata": {},
   "outputs": [],
   "source": [
    "df_metrics = pd.read_csv(\"results/hSBM/metrics.csv\", index_col=[0],header=[0])\n",
    "df_metrics.sort_values(by=['MI','Homogeneity'], ascending=False, axis=0, inplace=True)\n",
    "df_metrics.round(decimals=2)"
   ]
  },
  {
   "cell_type": "code",
   "execution_count": null,
   "metadata": {},
   "outputs": [],
   "source": [
    "from matplotlib import pyplot as plt\n",
    "\n",
    "fig, ax = plt.subplots(figsize=(24, 20)) # set size frame\n",
    "ax.xaxis.set_visible(False)  # hide the x axis\n",
    "ax.yaxis.set_visible(False)  # hide the y axis\n",
    "ax.set_frame_on(False)  # no visible frame, uncomment if size is ok\n",
    "tabla = pd.plotting.table(ax, df_metrics.round(decimals=2), loc='upper right', colWidths=[0.12]*len(df_metrics.columns))  # where df is your data frame\n",
    "tabla.auto_set_font_size(False) # Activate set fontsize manually\n",
    "tabla.set_fontsize(12) # if ++fontsize is necessary ++colWidths\n",
    "tabla.scale(1, 2) # change size table\n",
    "plt.savefig('results/hSBM/metrics.pdf', transparent=True)"
   ]
  },
  {
   "cell_type": "code",
   "execution_count": null,
   "metadata": {},
   "outputs": [],
   "source": []
  },
  {
   "cell_type": "code",
   "execution_count": null,
   "metadata": {},
   "outputs": [],
   "source": []
  },
  {
   "cell_type": "code",
   "execution_count": null,
   "metadata": {},
   "outputs": [],
   "source": [
    "metrics.cluster.contingency_matrix(true_labels, predicted_labels)"
   ]
  },
  {
   "cell_type": "code",
   "execution_count": null,
   "metadata": {},
   "outputs": [],
   "source": []
  },
  {
   "cell_type": "code",
   "execution_count": null,
   "metadata": {},
   "outputs": [],
   "source": []
  },
  {
   "cell_type": "code",
   "execution_count": null,
   "metadata": {},
   "outputs": [],
   "source": [
    "df_files[df_files['primary_site']=='Brain']"
   ]
  },
  {
   "cell_type": "code",
   "execution_count": null,
   "metadata": {},
   "outputs": [],
   "source": []
  }
 ],
 "metadata": {
  "kernelspec": {
   "display_name": "Python 2",
   "language": "python",
   "name": "python2"
  },
  "language_info": {
   "codemirror_mode": {
    "name": "ipython",
    "version": 2
   },
   "file_extension": ".py",
   "mimetype": "text/x-python",
   "name": "python",
   "nbconvert_exporter": "python",
   "pygments_lexer": "ipython2",
   "version": "2.7.15"
  }
 },
 "nbformat": 4,
 "nbformat_minor": 2
}
