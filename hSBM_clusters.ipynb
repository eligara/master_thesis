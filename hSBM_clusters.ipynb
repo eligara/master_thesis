{
 "cells": [
  {
   "cell_type": "code",
   "execution_count": 2,
   "metadata": {},
   "outputs": [],
   "source": [
    "import requests as rq\n",
    "import json\n",
    "import pandas as pd\n",
    "import numpy as np\n",
    "from textwrap import wrap\n",
    "from matplotlib import pyplot as plt\n",
    "from TCGA_files import *\n",
    "from ensembleAPI import geneinfo, genesinfo\n",
    "from IPython.display import HTML\n",
    "from sklearn import metrics"
   ]
  },
  {
   "cell_type": "code",
   "execution_count": 9,
   "metadata": {},
   "outputs": [
    {
     "data": {
      "text/plain": [
       "<module 'TCGA_files' from 'TCGA_files.py'>"
      ]
     },
     "execution_count": 9,
     "metadata": {},
     "output_type": "execute_result"
    }
   ],
   "source": [
    "import TCGA_files\n",
    "reload(TCGA_files)"
   ]
  },
  {
   "cell_type": "code",
   "execution_count": 8,
   "metadata": {},
   "outputs": [],
   "source": [
    "cases_endpt = 'https://api.gdc.cancer.gov/cases'\n",
    "fields = [\n",
    "    \"submitter_id\",\n",
    "    \"case_id\",\n",
    "    \"primary_site\",\n",
    "    \"disease_type\",\n",
    "    \"project.project_id\",\n",
    "    \"diagnoses.tumor_stage\",\n",
    "    \"diagnoses.tumor_grade\",\n",
    "    \"diagnoses.primary_diagnosis\",\n",
    "    \"diagnoses.classification_of_tumor\",\n",
    "    \"annotations.classification\",\n",
    "    \"samples.tumor_code\"\n",
    "    ]\n",
    "fields = ','.join(fields)"
   ]
  },
  {
   "cell_type": "markdown",
   "metadata": {},
   "source": [
    "# query file\n",
    "\n",
    "See https://docs.gdc.cancer.gov/API/Users_Guide/Appendix_A_Available_Fields/#file-fields for possible *fields*"
   ]
  },
  {
   "cell_type": "code",
   "execution_count": 11,
   "metadata": {},
   "outputs": [
    {
     "name": "stdout",
     "output_type": "stream",
     "text": [
      "quering...007f49fe-d251-4ae4-9313-86d765b13499.FPKM.txt.gz\n"
     ]
    },
    {
     "data": {
      "text/html": [
       "<div>\n",
       "<style scoped>\n",
       "    .dataframe tbody tr th:only-of-type {\n",
       "        vertical-align: middle;\n",
       "    }\n",
       "\n",
       "    .dataframe tbody tr th {\n",
       "        vertical-align: top;\n",
       "    }\n",
       "\n",
       "    .dataframe thead th {\n",
       "        text-align: right;\n",
       "    }\n",
       "</style>\n",
       "<table border=\"1\" class=\"dataframe\">\n",
       "  <thead>\n",
       "    <tr style=\"text-align: right;\">\n",
       "      <th></th>\n",
       "      <th>samples.0.tumor_code</th>\n",
       "      <th>project.project_id</th>\n",
       "      <th>disease_type</th>\n",
       "      <th>samples.1.tumor_code</th>\n",
       "      <th>submitter_id</th>\n",
       "      <th>diagnoses.0.classification_of_tumor</th>\n",
       "      <th>case_id</th>\n",
       "      <th>primary_site</th>\n",
       "      <th>diagnoses.0.tumor_grade</th>\n",
       "      <th>diagnoses.0.primary_diagnosis</th>\n",
       "      <th>diagnoses.0.tumor_stage</th>\n",
       "      <th>id</th>\n",
       "    </tr>\n",
       "  </thead>\n",
       "  <tbody>\n",
       "    <tr>\n",
       "      <th>0</th>\n",
       "      <td></td>\n",
       "      <td>TCGA-UCS</td>\n",
       "      <td>Complex Mixed and Stromal Neoplasms</td>\n",
       "      <td></td>\n",
       "      <td>TCGA-NA-A4QV</td>\n",
       "      <td>not reported</td>\n",
       "      <td>cdde118f-4673-4e7e-b965-1f9fe007050d</td>\n",
       "      <td>Uterus, NOS</td>\n",
       "      <td>not reported</td>\n",
       "      <td>Carcinosarcoma, NOS</td>\n",
       "      <td>not reported</td>\n",
       "      <td>cdde118f-4673-4e7e-b965-1f9fe007050d</td>\n",
       "    </tr>\n",
       "  </tbody>\n",
       "</table>\n",
       "</div>"
      ],
      "text/plain": [
       "  samples.0.tumor_code project.project_id  \\\n",
       "0                                TCGA-UCS   \n",
       "\n",
       "                          disease_type samples.1.tumor_code  submitter_id  \\\n",
       "0  Complex Mixed and Stromal Neoplasms                       TCGA-NA-A4QV   \n",
       "\n",
       "  diagnoses.0.classification_of_tumor                               case_id  \\\n",
       "0                        not reported  cdde118f-4673-4e7e-b965-1f9fe007050d   \n",
       "\n",
       "  primary_site diagnoses.0.tumor_grade diagnoses.0.primary_diagnosis  \\\n",
       "0  Uterus, NOS            not reported           Carcinosarcoma, NOS   \n",
       "\n",
       "  diagnoses.0.tumor_stage                                    id  \n",
       "0            not reported  cdde118f-4673-4e7e-b965-1f9fe007050d  "
      ]
     },
     "execution_count": 11,
     "metadata": {},
     "output_type": "execute_result"
    }
   ],
   "source": [
    "queryFile('007f49fe-d251-4ae4-9313-86d765b13499.FPKM.txt.gz')"
   ]
  },
  {
   "cell_type": "code",
   "execution_count": 12,
   "metadata": {},
   "outputs": [],
   "source": [
    "df_files = pd.read_csv(\"files.txt\", index_col=[0], header=[0])"
   ]
  },
  {
   "cell_type": "markdown",
   "metadata": {},
   "source": [
    "## query many"
   ]
  },
  {
   "cell_type": "code",
   "execution_count": 15,
   "metadata": {},
   "outputs": [],
   "source": [
    "level = 0\n",
    "setup = 'overlap_1000doc_0.5occ_thr'\n",
    "#setup='1000dococc2000fpkmthr'\n",
    "label = 'disease_type'\n",
    "#label='primary_site'\n",
    "df_clusters = pd.read_csv(\"results/hSBM/%s/topsbm/topsbm_level_%d_clusters.csv\"%(setup, level), header=[0])"
   ]
  },
  {
   "cell_type": "code",
   "execution_count": 16,
   "metadata": {},
   "outputs": [],
   "source": [
    "cluster={}\n",
    "for i,c in enumerate(df_clusters.columns):\n",
    "    cluster[i]=df_clusters[c].dropna().values"
   ]
  },
  {
   "cell_type": "code",
   "execution_count": null,
   "metadata": {},
   "outputs": [],
   "source": []
  },
  {
   "cell_type": "code",
   "execution_count": null,
   "metadata": {},
   "outputs": [],
   "source": [
    "for c in cluster:\n",
    "    print(c)\n",
    "    datatotest = queryFiles([f+\".FPKM.txt.gz\" for f in cluster[c]])\n",
    "    #datatotest = pd.DataFrame(data=df_files.loc[[f for f in cluster[c]]], columns=df_files.columns)\n",
    "    makePie(datatotest, level, c, ['primary_site','disease_type', 'project.project_id'])"
   ]
  },
  {
   "cell_type": "code",
   "execution_count": null,
   "metadata": {},
   "outputs": [],
   "source": []
  },
  {
   "cell_type": "markdown",
   "metadata": {},
   "source": [
    "# Benchmark\n",
    "https://scikit-learn.org/stable/modules/clustering.html"
   ]
  },
  {
   "cell_type": "code",
   "execution_count": 132,
   "metadata": {
    "scrolled": true
   },
   "outputs": [
    {
     "name": "stdout",
     "output_type": "stream",
     "text": [
      "0\n",
      "1\n",
      "2\n",
      "3\n",
      "4\n",
      "5\n"
     ]
    }
   ],
   "source": [
    "true_labels = []\n",
    "predicted_labels = []\n",
    "for c in cluster:\n",
    "    print(c)\n",
    "    for sample in cluster[c]:\n",
    "        #true_labels.append(getFile(sample)['primary_site'].values[0])\n",
    "        true_labels.append(df_files.loc[sample][label])\n",
    "        predicted_labels.append(c)"
   ]
  },
  {
   "cell_type": "code",
   "execution_count": 133,
   "metadata": {},
   "outputs": [],
   "source": [
    "_, labels_true = np.unique(true_labels,return_inverse=True)"
   ]
  },
  {
   "cell_type": "code",
   "execution_count": null,
   "metadata": {},
   "outputs": [],
   "source": []
  },
  {
   "cell_type": "code",
   "execution_count": 134,
   "metadata": {},
   "outputs": [],
   "source": [
    "series_metrics=pd.Series(name=setup+'__level_%d_%s'%(level,label))\n",
    "series_metrics['MI']=metrics.cluster.normalized_mutual_info_score(labels_true, predicted_labels, average_method='arithmetic')\n",
    "series_metrics['Homogeneity']=metrics.cluster.homogeneity_score(labels_true, predicted_labels) \n",
    "series_metrics['Completness']=metrics.cluster.completeness_score(labels_true, predicted_labels) \n",
    "series_metrics['Vmeasure']=metrics.cluster.v_measure_score(labels_true, predicted_labels)\n",
    "series_metrics['Fowlkes-Mallows']=metrics.cluster.fowlkes_mallows_score(labels_true,predicted_labels)\n",
    "series_metrics['AdjustedRandIndex']=metrics.cluster.adjusted_rand_score(labels_true,predicted_labels)"
   ]
  },
  {
   "cell_type": "code",
   "execution_count": 135,
   "metadata": {},
   "outputs": [
    {
     "data": {
      "text/plain": [
       "AdjustedRandIndex    0.122197\n",
       "MI                   0.364322\n",
       "Homogeneity          0.339044\n",
       "Completness          0.393673\n",
       "Vmeasure             0.364322\n",
       "Fowlkes-Mallows      0.302553\n",
       "Name: overlap_1000dococc2000thrlevel_1_disease_type, dtype: float64"
      ]
     },
     "execution_count": 135,
     "metadata": {},
     "output_type": "execute_result"
    }
   ],
   "source": [
    "series_metrics"
   ]
  },
  {
   "cell_type": "code",
   "execution_count": 136,
   "metadata": {},
   "outputs": [],
   "source": [
    "#df_metrics = pd.DataFrame(columns=['AdjustedRandIndex','MI','Homogeneity','Completness','Vmeasure','Fowlkes-Mallows'])"
   ]
  },
  {
   "cell_type": "code",
   "execution_count": 137,
   "metadata": {},
   "outputs": [],
   "source": [
    "try:\n",
    "    df_metrics.append(series_metrics, ignore_index=False, verify_integrity=True).to_csv(\"results/hSBM/metrics.csv\", index=True,header=True)\n",
    "except:\n",
    "    pass"
   ]
  },
  {
   "cell_type": "code",
   "execution_count": 3,
   "metadata": {},
   "outputs": [
    {
     "data": {
      "text/html": [
       "<div>\n",
       "<style scoped>\n",
       "    .dataframe tbody tr th:only-of-type {\n",
       "        vertical-align: middle;\n",
       "    }\n",
       "\n",
       "    .dataframe tbody tr th {\n",
       "        vertical-align: top;\n",
       "    }\n",
       "\n",
       "    .dataframe thead th {\n",
       "        text-align: right;\n",
       "    }\n",
       "</style>\n",
       "<table border=\"1\" class=\"dataframe\">\n",
       "  <thead>\n",
       "    <tr style=\"text-align: right;\">\n",
       "      <th></th>\n",
       "      <th>AdjustedRandIndex</th>\n",
       "      <th>MI</th>\n",
       "      <th>Homogeneity</th>\n",
       "      <th>Completness</th>\n",
       "      <th>Vmeasure</th>\n",
       "      <th>Fowlkes-Mallows</th>\n",
       "    </tr>\n",
       "  </thead>\n",
       "  <tbody>\n",
       "    <tr>\n",
       "      <th>1000doc_0.5occ_fpkmweight_thr__level_2_primary_site</th>\n",
       "      <td>0.56</td>\n",
       "      <td>0.74</td>\n",
       "      <td>0.79</td>\n",
       "      <td>0.70</td>\n",
       "      <td>0.74</td>\n",
       "      <td>0.59</td>\n",
       "    </tr>\n",
       "    <tr>\n",
       "      <th>1000doc_0.5occ_fpkmweight_thr__level_3_primary_site</th>\n",
       "      <td>0.59</td>\n",
       "      <td>0.70</td>\n",
       "      <td>0.64</td>\n",
       "      <td>0.77</td>\n",
       "      <td>0.70</td>\n",
       "      <td>0.62</td>\n",
       "    </tr>\n",
       "    <tr>\n",
       "      <th>1000doc_0.5occ_fpkmweight_thr__level_1_primary_site</th>\n",
       "      <td>0.22</td>\n",
       "      <td>0.69</td>\n",
       "      <td>0.89</td>\n",
       "      <td>0.57</td>\n",
       "      <td>0.69</td>\n",
       "      <td>0.34</td>\n",
       "    </tr>\n",
       "    <tr>\n",
       "      <th>overlap_1000doc_0.5occ_thr__level_0_primary_site</th>\n",
       "      <td>0.52</td>\n",
       "      <td>0.69</td>\n",
       "      <td>0.68</td>\n",
       "      <td>0.70</td>\n",
       "      <td>0.69</td>\n",
       "      <td>0.54</td>\n",
       "    </tr>\n",
       "    <tr>\n",
       "      <th>1000doc_0.5occ_fpkmweight_thr__level_3_disease_type</th>\n",
       "      <td>0.28</td>\n",
       "      <td>0.57</td>\n",
       "      <td>0.65</td>\n",
       "      <td>0.50</td>\n",
       "      <td>0.57</td>\n",
       "      <td>0.42</td>\n",
       "    </tr>\n",
       "    <tr>\n",
       "      <th>1000doc_0.5occ_fpkmweight_thr__level_2_disease_type</th>\n",
       "      <td>0.17</td>\n",
       "      <td>0.56</td>\n",
       "      <td>0.78</td>\n",
       "      <td>0.44</td>\n",
       "      <td>0.56</td>\n",
       "      <td>0.32</td>\n",
       "    </tr>\n",
       "    <tr>\n",
       "      <th>overlap_1000doc_0.5occ_thr__level_0_disease_type</th>\n",
       "      <td>0.19</td>\n",
       "      <td>0.53</td>\n",
       "      <td>0.67</td>\n",
       "      <td>0.44</td>\n",
       "      <td>0.53</td>\n",
       "      <td>0.33</td>\n",
       "    </tr>\n",
       "    <tr>\n",
       "      <th>overlap_1000doc_0.5occ_thr__level_1_primary_site</th>\n",
       "      <td>0.26</td>\n",
       "      <td>0.52</td>\n",
       "      <td>0.40</td>\n",
       "      <td>0.73</td>\n",
       "      <td>0.52</td>\n",
       "      <td>0.39</td>\n",
       "    </tr>\n",
       "    <tr>\n",
       "      <th>1000doc_0.5occ_fpkmweight_thr__level_1_disease_type</th>\n",
       "      <td>0.05</td>\n",
       "      <td>0.52</td>\n",
       "      <td>0.89</td>\n",
       "      <td>0.36</td>\n",
       "      <td>0.52</td>\n",
       "      <td>0.18</td>\n",
       "    </tr>\n",
       "    <tr>\n",
       "      <th>overlap_1000doc_0.5occ_thr__level_1_disease_type</th>\n",
       "      <td>0.12</td>\n",
       "      <td>0.36</td>\n",
       "      <td>0.34</td>\n",
       "      <td>0.39</td>\n",
       "      <td>0.36</td>\n",
       "      <td>0.30</td>\n",
       "    </tr>\n",
       "  </tbody>\n",
       "</table>\n",
       "</div>"
      ],
      "text/plain": [
       "                                                    AdjustedRandIndex    MI  \\\n",
       "1000doc_0.5occ_fpkmweight_thr__level_2_primary_...               0.56  0.74   \n",
       "1000doc_0.5occ_fpkmweight_thr__level_3_primary_...               0.59  0.70   \n",
       "1000doc_0.5occ_fpkmweight_thr__level_1_primary_...               0.22  0.69   \n",
       "overlap_1000doc_0.5occ_thr__level_0_primary_site                 0.52  0.69   \n",
       "1000doc_0.5occ_fpkmweight_thr__level_3_disease_...               0.28  0.57   \n",
       "1000doc_0.5occ_fpkmweight_thr__level_2_disease_...               0.17  0.56   \n",
       "overlap_1000doc_0.5occ_thr__level_0_disease_type                 0.19  0.53   \n",
       "overlap_1000doc_0.5occ_thr__level_1_primary_site                 0.26  0.52   \n",
       "1000doc_0.5occ_fpkmweight_thr__level_1_disease_...               0.05  0.52   \n",
       "overlap_1000doc_0.5occ_thr__level_1_disease_type                 0.12  0.36   \n",
       "\n",
       "                                                    Homogeneity  Completness  \\\n",
       "1000doc_0.5occ_fpkmweight_thr__level_2_primary_...         0.79         0.70   \n",
       "1000doc_0.5occ_fpkmweight_thr__level_3_primary_...         0.64         0.77   \n",
       "1000doc_0.5occ_fpkmweight_thr__level_1_primary_...         0.89         0.57   \n",
       "overlap_1000doc_0.5occ_thr__level_0_primary_site           0.68         0.70   \n",
       "1000doc_0.5occ_fpkmweight_thr__level_3_disease_...         0.65         0.50   \n",
       "1000doc_0.5occ_fpkmweight_thr__level_2_disease_...         0.78         0.44   \n",
       "overlap_1000doc_0.5occ_thr__level_0_disease_type           0.67         0.44   \n",
       "overlap_1000doc_0.5occ_thr__level_1_primary_site           0.40         0.73   \n",
       "1000doc_0.5occ_fpkmweight_thr__level_1_disease_...         0.89         0.36   \n",
       "overlap_1000doc_0.5occ_thr__level_1_disease_type           0.34         0.39   \n",
       "\n",
       "                                                    Vmeasure  Fowlkes-Mallows  \n",
       "1000doc_0.5occ_fpkmweight_thr__level_2_primary_...      0.74             0.59  \n",
       "1000doc_0.5occ_fpkmweight_thr__level_3_primary_...      0.70             0.62  \n",
       "1000doc_0.5occ_fpkmweight_thr__level_1_primary_...      0.69             0.34  \n",
       "overlap_1000doc_0.5occ_thr__level_0_primary_site        0.69             0.54  \n",
       "1000doc_0.5occ_fpkmweight_thr__level_3_disease_...      0.57             0.42  \n",
       "1000doc_0.5occ_fpkmweight_thr__level_2_disease_...      0.56             0.32  \n",
       "overlap_1000doc_0.5occ_thr__level_0_disease_type        0.53             0.33  \n",
       "overlap_1000doc_0.5occ_thr__level_1_primary_site        0.52             0.39  \n",
       "1000doc_0.5occ_fpkmweight_thr__level_1_disease_...      0.52             0.18  \n",
       "overlap_1000doc_0.5occ_thr__level_1_disease_type        0.36             0.30  "
      ]
     },
     "execution_count": 3,
     "metadata": {},
     "output_type": "execute_result"
    }
   ],
   "source": [
    "df_metrics = pd.read_csv(\"results/hSBM/metrics.csv\", index_col=[0],header=[0])\n",
    "df_metrics.sort_values(by=['MI'], ascending=False, axis=0, inplace=True)\n",
    "df_metrics.round(decimals=2)"
   ]
  },
  {
   "cell_type": "code",
   "execution_count": 8,
   "metadata": {},
   "outputs": [
    {
     "data": {
      "image/png": "[encoded data removed]",
      "text/plain": [
       "<Figure size 1728x1440 with 1 Axes>"
      ]
     },
     "metadata": {
      "needs_background": "light"
     },
     "output_type": "display_data"
    }
   ],
   "source": [
    "from matplotlib import pyplot as plt\n",
    "\n",
    "fig, ax = plt.subplots(figsize=(24, 20)) # set size frame\n",
    "ax.xaxis.set_visible(False)  # hide the x axis\n",
    "ax.yaxis.set_visible(False)  # hide the y axis\n",
    "ax.set_frame_on(False)  # no visible frame, uncomment if size is ok\n",
    "tabla = pd.plotting.table(ax, df_metrics.round(decimals=2), loc='upper right', colWidths=[0.12]*len(df_metrics.columns))  # where df is your data frame\n",
    "tabla.auto_set_font_size(False) # Activate set fontsize manually\n",
    "tabla.set_fontsize(12) # if ++fontsize is necessary ++colWidths\n",
    "tabla.scale(1, 2) # change size table\n",
    "plt.savefig('results/hSBM/metrics.pdf', transparent=True)"
   ]
  },
  {
   "cell_type": "code",
   "execution_count": 121,
   "metadata": {},
   "outputs": [],
   "source": []
  },
  {
   "cell_type": "code",
   "execution_count": null,
   "metadata": {},
   "outputs": [],
   "source": []
  },
  {
   "cell_type": "code",
   "execution_count": 119,
   "metadata": {},
   "outputs": [
    {
     "data": {
      "text/plain": [
       "array([[ 4,  0,  0, ...,  0,  0,  0],\n",
       "       [ 0,  1,  0, ...,  0,  1,  0],\n",
       "       [ 0,  0,  1, ...,  0, 17,  0],\n",
       "       ...,\n",
       "       [ 0,  0,  0, ...,  0,  0,  0],\n",
       "       [ 0,  0,  0, ...,  0,  0,  0],\n",
       "       [ 4,  1,  0, ...,  0,  0,  0]])"
      ]
     },
     "execution_count": 119,
     "metadata": {},
     "output_type": "execute_result"
    }
   ],
   "source": [
    "metrics.cluster.contingency_matrix(true_labels, predicted_labels)"
   ]
  },
  {
   "cell_type": "code",
   "execution_count": null,
   "metadata": {},
   "outputs": [],
   "source": []
  }
 ],
 "metadata": {
  "kernelspec": {
   "display_name": "Python 2",
   "language": "python",
   "name": "python2"
  },
  "language_info": {
   "codemirror_mode": {
    "name": "ipython",
    "version": 2
   },
   "file_extension": ".py",
   "mimetype": "text/x-python",
   "name": "python",
   "nbconvert_exporter": "python",
   "pygments_lexer": "ipython2",
   "version": "2.7.15"
  }
 },
 "nbformat": 4,
 "nbformat_minor": 2
}
