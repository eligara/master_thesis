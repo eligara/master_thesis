{
 "cells": [
  {
   "cell_type": "code",
   "execution_count": 1,
   "metadata": {},
   "outputs": [],
   "source": [
    "import requests as rq\n",
    "import json\n",
    "import pandas as pd\n",
    "import numpy as np\n",
    "from matplotlib import pyplot as plt\n",
    "import matplotlib.cm as cm\n",
    "from TCGA_files import *\n",
    "#from ensembleAPI import geneinfo, genesinfo\n",
    "from sklearn import metrics\n",
    "from hsbmpy import *\n",
    "import os"
   ]
  },
  {
   "cell_type": "code",
   "execution_count": null,
   "metadata": {},
   "outputs": [],
   "source": [
    "import importlib, hsbmpy\n",
    "importlib.reload(hsbmpy)\n",
    "from hsbmpy import *"
   ]
  },
  {
   "cell_type": "markdown",
   "metadata": {},
   "source": [
    "## query many"
   ]
  },
  {
   "cell_type": "code",
   "execution_count": 2,
   "metadata": {},
   "outputs": [
    {
     "data": {
      "text/html": [
       "<div>\n",
       "<style scoped>\n",
       "    .dataframe tbody tr th:only-of-type {\n",
       "        vertical-align: middle;\n",
       "    }\n",
       "\n",
       "    .dataframe tbody tr th {\n",
       "        vertical-align: top;\n",
       "    }\n",
       "\n",
       "    .dataframe thead th {\n",
       "        text-align: right;\n",
       "    }\n",
       "</style>\n",
       "<table border=\"1\" class=\"dataframe\">\n",
       "  <thead>\n",
       "    <tr style=\"text-align: right;\">\n",
       "      <th></th>\n",
       "      <th>Cluster 1</th>\n",
       "      <th>Cluster 2</th>\n",
       "      <th>Cluster 3</th>\n",
       "    </tr>\n",
       "  </thead>\n",
       "  <tbody>\n",
       "    <tr>\n",
       "      <th>0</th>\n",
       "      <td>GTEX-16NPV-0011-R8a-SM-7EPH8</td>\n",
       "      <td>GTEX-T6MN-1226-SM-3NMA5</td>\n",
       "      <td>GTEX-147JS-0126-SM-5S2TW</td>\n",
       "    </tr>\n",
       "    <tr>\n",
       "      <th>1</th>\n",
       "      <td>GTEX-U8T8-0126-SM-3DB94</td>\n",
       "      <td>GTEX-Y5LM-0426-SM-4VBRO</td>\n",
       "      <td>GTEX-1C64N-2826-SM-7IGP5</td>\n",
       "    </tr>\n",
       "    <tr>\n",
       "      <th>2</th>\n",
       "      <td>GTEX-12ZZW-0011-R5a-SM-5DUVN</td>\n",
       "      <td>GTEX-X4EO-1126-SM-4QARQ</td>\n",
       "      <td>GTEX-ZAB4-0126-SM-5CVMG</td>\n",
       "    </tr>\n",
       "    <tr>\n",
       "      <th>3</th>\n",
       "      <td>GTEX-11TT1-1926-SM-5PNYN</td>\n",
       "      <td>GTEX-RWSA-1426-SM-47JXA</td>\n",
       "      <td>GTEX-WZTO-0326-SM-4PQYZ</td>\n",
       "    </tr>\n",
       "    <tr>\n",
       "      <th>4</th>\n",
       "      <td>GTEX-Q2AG-0626-SM-2S1PV</td>\n",
       "      <td>GTEX-18465-1626-SM-7LG6N</td>\n",
       "      <td>GTEX-S7SE-0326-SM-4AT5Q</td>\n",
       "    </tr>\n",
       "  </tbody>\n",
       "</table>\n",
       "</div>"
      ],
      "text/plain": [
       "                      Cluster 1                 Cluster 2  \\\n",
       "0  GTEX-16NPV-0011-R8a-SM-7EPH8   GTEX-T6MN-1226-SM-3NMA5   \n",
       "1       GTEX-U8T8-0126-SM-3DB94   GTEX-Y5LM-0426-SM-4VBRO   \n",
       "2  GTEX-12ZZW-0011-R5a-SM-5DUVN   GTEX-X4EO-1126-SM-4QARQ   \n",
       "3      GTEX-11TT1-1926-SM-5PNYN   GTEX-RWSA-1426-SM-47JXA   \n",
       "4       GTEX-Q2AG-0626-SM-2S1PV  GTEX-18465-1626-SM-7LG6N   \n",
       "\n",
       "                  Cluster 3  \n",
       "0  GTEX-147JS-0126-SM-5S2TW  \n",
       "1  GTEX-1C64N-2826-SM-7IGP5  \n",
       "2   GTEX-ZAB4-0126-SM-5CVMG  \n",
       "3   GTEX-WZTO-0326-SM-4PQYZ  \n",
       "4   GTEX-S7SE-0326-SM-4AT5Q  "
      ]
     },
     "execution_count": 2,
     "metadata": {},
     "output_type": "execute_result"
    }
   ],
   "source": [
    "level = 1\n",
    "#setup='highlyvariable_colonrectal'\n",
    "#setup = 'oversigma_10tissue'\n",
    "#label = 'disease_type'\n",
    "label='primary_site'\n",
    "#labels = ['primary_site', 'disease_type', 'disease_tissue']\n",
    "#labels=['RPPA','PAM50', 'disease_type','primary_diagnosis']\n",
    "#labels = ['primary_site', 'secondary_site']\n",
    "algorithm = 'wgcna'\n",
    "#labels = ['primary_site', 'secondary_site', 'status']\n",
    "#labels=['RPPA Clusters']\n",
    "directory = \"/home/fvalle/phd/datasets/gtex/log/3000_random-5000hvg/\"\n",
    "L=get_max_available_L(directory, algorithm)\n",
    "df_clusters = pd.read_csv(\"%s/%s/%s_level_%d_clusters.csv\"%(directory,algorithm,algorithm,L), header=[0])\n",
    "df_clusters.head()"
   ]
  },
  {
   "cell_type": "code",
   "execution_count": 5,
   "metadata": {},
   "outputs": [],
   "source": [
    "df_file = pd.read_csv(\"https://storage.googleapis.com/gtex_analysis_v8/annotations/GTEx_Analysis_v8_Annotations_SampleAttributesDS.txt\", sep='\\t')\n",
    "df_file.set_index('SAMPID', inplace=True)\n",
    "df_file.dropna(how='all', axis=0).to_csv(\"%s/files.dat\"%directory, index=True, header=True)"
   ]
  },
  {
   "cell_type": "code",
   "execution_count": 6,
   "metadata": {},
   "outputs": [
    {
     "data": {
      "text/plain": [
       "Index(['SMATSSCR', 'SMCENTER', 'SMPTHNTS', 'SMRIN', 'SMTS', 'SMTSD', 'SMUBRID',\n",
       "       'SMTSISCH', 'SMTSPAX', 'SMNABTCH', 'SMNABTCHT', 'SMNABTCHD', 'SMGEBTCH',\n",
       "       'SMGEBTCHD', 'SMGEBTCHT', 'SMAFRZE', 'SMGTC', 'SME2MPRT', 'SMCHMPRS',\n",
       "       'SMNTRART', 'SMMAPRT', 'SMEXNCRT', 'SMGNSDTC', 'SMUNMPRT', 'SMRDLGTH',\n",
       "       'SME1MMRT', 'SMSFLGTH', 'SMESTLBS', 'SMMPPD', 'SMNTERRT', 'SMRRNANM',\n",
       "       'SMRDTTL', 'SMVQCFL', 'SMTRSCPT', 'SMMPPDPR', 'SMUNPDRD', 'SMNTRNRT',\n",
       "       'SMMPUNRT', 'SMEXPEFF', 'SMMPPDUN', 'SME2MMRT', 'SME2ANTI', 'SMALTALG',\n",
       "       'SME2SNSE', 'SMMFLGTH', 'SME1ANTI', 'SMSPLTRD', 'SMBSMMRT', 'SME1SNSE',\n",
       "       'SME1PCTS', 'SMRRNART', 'SME1MPRT', 'SMDPMPRT', 'SME2PCTS'],\n",
       "      dtype='object')"
      ]
     },
     "execution_count": 6,
     "metadata": {},
     "output_type": "execute_result"
    }
   ],
   "source": [
    "df_files = pd.read_csv(\"%s/files.dat\"%directory, index_col=[0], header=[0]).dropna(axis=1, how='all').dropna(axis=0, how='all')\n",
    "#df_files.insert(2,'disease_tissue',[\"%s[%s]\"%(df_files.at[s,'primary_site'],df_files.at[s,'disease_type']) for s in df_files.index])\n",
    "labels=df_files.columns\n",
    "#df_files.groupby(['primary_site','disease_type']).count()\n",
    "labels"
   ]
  },
  {
   "cell_type": "code",
   "execution_count": 7,
   "metadata": {},
   "outputs": [],
   "source": [
    "labels = ['cases.0.diagnoses.0.prior_malignancy',\n",
    "       'cases.0.diagnoses.0.tumor_grade', 'cases.0.project.primary_site',\n",
    "       'cases.0.project.disease_type', 'cases.0.diagnoses.0.tumor_stage',\n",
    "       'cases.0.diagnoses.0.progression_or_recurrence']\n",
    "labels=['primary_site', 'disease_type']\n",
    "labels=['SMTS']"
   ]
  },
  {
   "cell_type": "code",
   "execution_count": null,
   "metadata": {},
   "outputs": [],
   "source": [
    "for normalise in [True, False]:\n",
    "    for label in labels:\n",
    "        for level in np.arange(L+1)[::-1]:\n",
    "            if level==0:\n",
    "                pass\n",
    "                #continue\n",
    "            print(normalise, label, level)\n",
    "            try:\n",
    "                cluster = get_cluster_given_l(level, directory,algorithm=algorithm)\n",
    "                fraction_sites = get_fraction_sites(cluster,df_files=df_files,label=label, normalise=normalise)\n",
    "\n",
    "                #fsdf = pd.DataFrame(data=fraction_sites)\n",
    "                #fsdf = fsdf.drop('Other', axis=1)\n",
    "                #fsdf = fsdf.divide(fsdf.sum(axis=1), axis=0).fillna(0)\n",
    "                #fraction_sites = fsdf.sort_values(by=fsdf.columns.to_list(), ascending=True).to_dict(orient='list')\n",
    "\n",
    "                clustersinfo = get_clustersinfo(cluster,fraction_sites)\n",
    "                plot_cluster_composition(fraction_sites,directory,level,label=label, normalise=normalise,algorithm=algorithm)\n",
    "                make_heatmap(fraction_sites, directory, label, level, normalise=normalise,algorithm=algorithm)\n",
    "\n",
    "                clustersinfo = get_clustersinfo(cluster,fraction_sites)            \n",
    "                if not normalise:\n",
    "                    plot_maximum(clustersinfo,cluster,label,level, directory,algorithm=algorithm)\n",
    "                    plot_maximum_size(clustersinfo,label,level, directory,algorithm=algorithm)\n",
    "                    plot_maximum_label(clustersinfo,label,level, directory,algorithm=algorithm)\n",
    "                    plot_sizes(level,directory, algorithm=algorithm)\n",
    "            except:\n",
    "                print(*sys.exc_info())\n",
    "            try:\n",
    "                fraction_sites_shuffle = get_fraction_sites(cluster, pd.read_csv(\"%s/files_shuffles.dat\"%directory, index_col=[0]),label=label, normalise=normalise)\n",
    "                clustersinfo_shuffle = get_clustersinfo(cluster, fraction_sites_shuffle)\n",
    "                plot_cluster_composition(fraction_sites_shuffle,directory,level, label=label, shuffled=True, normalise=normalise)\n",
    "                if not normalise:\n",
    "                    plot_maximum(clustersinfo,cluster,label,level,directory,clustersinfo_shuffle,algorithm=algorithm)\n",
    "                    plot_maximum_size(clustersinfo,label,level, directory,clustersinfo_shuffle,algorithm=algorithm)\n",
    "                    plot_maximum_label(clustersinfo,label,level, directory,clustersinfo_shuffle,algorithm=algorithm)\n",
    "                    plot_labels_size(clustersinfo,label,level, directory,clustersinfo_shuffle,algorithm=algorithm)\n",
    "            except:\n",
    "                print(\"must shuffle files\")"
   ]
  },
  {
   "cell_type": "code",
   "execution_count": null,
   "metadata": {},
   "outputs": [],
   "source": [
    "##useful for R clustree plot\n",
    "def reindex(x):\n",
    "    i=1\n",
    "    last=x[0]\n",
    "    new = []\n",
    "    for xi in x:\n",
    "        if xi == last:\n",
    "            pass\n",
    "        else:\n",
    "            i+=1\n",
    "            last=xi\n",
    "        new.append(i)\n",
    "    return new\n",
    "\n",
    "df_clusters = pd.read_csv(\"%s/%s/%s_level_%d_clusters.csv\"%(directory,algorithm,algorithm,L), header=[0])\n",
    "df_labels = pd.DataFrame()\n",
    "shape = df_clusters.dropna().shape\n",
    "files = df_clusters.dropna().values.reshape(shape[0]*shape[1],)\n",
    "for level in np.arange(L+1)[:0:-1]:\n",
    "    print(level)\n",
    "    df_clusters = pd.read_csv(\"%s/%s/%s_level_%d_clusters.csv\"%(directory,algorithm,algorithm,level), header=[0])\n",
    "    currentlevellabels = []\n",
    "    for file in files:\n",
    "        s = df_clusters[df_clusters.isin([file])].any(0)\n",
    "        a = s.index[s]\n",
    "        currentlevellabels.append(int(a[0][8:])-1)\n",
    "    df_labels.insert(0,'l%d'%level,currentlevellabels)\n",
    "    del currentlevellabels\n",
    "filelabels = []\n",
    "filesublabels = []\n",
    "for file in files:\n",
    "    try:\n",
    "        filelabels.append(get_file(file, df_files)[labels[0]])\n",
    "        filesublabels.append(get_file(file, df_files)[labels[1]])\n",
    "    except:\n",
    "        filelabels.append('unknown')\n",
    "        filesublabels.append('unknown')\n",
    "        print(*sys.exc_info())\n",
    "df_labels.insert(0,'tissue', filelabels)\n",
    "df_labels.insert(0,'subtissue', filesublabels)\n",
    "df_labels.sort_values(by=['tissue','subtissue'], inplace=True)\n",
    "df_labels.sort_values(by=[\"l%d\"%l for l in np.arange(L+1)[:0:-1]], axis=0, inplace=True)\n",
    "filelabels = df_labels['tissue']\n",
    "filesublabels = df_labels['subtissue']\n",
    "df_labels = df_labels.apply(reindex, axis=0)\n",
    "df_labels['tissue']=filelabels\n",
    "df_labels['subtissue']=filesublabels\n",
    "df_labels.to_csv(\"%s/%s/topsbm_labels.csv\"%(directory,algorithm), index=False, header=True)"
   ]
  },
  {
   "cell_type": "code",
   "execution_count": 8,
   "metadata": {},
   "outputs": [],
   "source": [
    "if \"clustersizes.txt\" in os.listdir(directory):\n",
    "    with open(\"%s/clustersizes.txt\"%directory, 'r') as f:\n",
    "        xl=np.array(f.read().split()).astype(int)\n",
    "else:\n",
    "    try:\n",
    "        xl = getclustersizesarray(directory, L)\n",
    "        with open(\"%s/clustersizes.txt\" % directory, 'w') as f:\n",
    "            for x in xl:\n",
    "                f.write(\"%d\\n\" % x)\n",
    "    except:\n",
    "        print(*sys.exc_info())\n",
    "        print(\"cannot save clustersizes.txt\")\n",
    "\n",
    "if \"topicsizes.txt\" in os.listdir(directory):\n",
    "    with open(\"%s/topicsizes.txt\"%directory) as f:\n",
    "        tl=np.array(f.read().split()).astype(int)\n",
    "else:\n",
    "    try:\n",
    "        tl = gettopicsizesarray(directory, L)\n",
    "        with open(\"%s/topicsizes.txt\" % directory, 'w') as f:\n",
    "            for x in tl:\n",
    "                f.write(\"%d\\n\" % x)\n",
    "    except:\n",
    "        print(\"cannot save topicsizes.txt\")"
   ]
  },
  {
   "cell_type": "code",
   "execution_count": null,
   "metadata": {},
   "outputs": [],
   "source": [
    "scores = get_scores(directory, labels, verbose=False)\n",
    "scores['hsbm'] = scores['SMTS']"
   ]
  },
  {
   "cell_type": "code",
   "execution_count": null,
   "metadata": {},
   "outputs": [],
   "source": [
    "fig=plt.figure(figsize=(12,8))\n",
    "ax = fig.subplots(1)\n",
    "#add_score_lines(ax,scores,[labels[0]],xl, h=True, c=True, alpha=1)\n",
    "h = np.array(scores['hsbm']['h'])\n",
    "c = np.array(scores['hsbm']['c'])\n",
    "ax.plot(scores['hsbm']['xl'],h, marker='x', ls='--', lw=2, label='homogeneity')\n",
    "ax.plot(scores['hsbm']['xl'],c, marker='x', ls='-.', lw=2,label='completeness')\n",
    "ax.plot(scores['hsbm']['xl'],scores['hsbm']['V'], marker='x', ls='-', lw=2, label='score')\n",
    "ax.set_xscale('log')\n",
    "ax.set_ylim(0,1)\n",
    "#ax.plot(xl, 2*h*c/(h+c), ls='-',c='g')\n",
    "plt.xticks(fontsize=16)\n",
    "plt.yticks(fontsize=16)\n",
    "plt.legend(fontsize=25)\n",
    "plt.xlabel('number of clusters', fontsize=20)\n",
    "plt.ylabel('measure', fontsize=20)\n",
    "plt.show()\n",
    "fig.savefig(\"%s/metric_scores_primarysite.pdf\"%(directory))"
   ]
  },
  {
   "cell_type": "code",
   "execution_count": null,
   "metadata": {},
   "outputs": [],
   "source": [
    "fig=plt.figure(figsize=(12,8))\n",
    "ax = fig.subplots(1)\n",
    "add_score_lines(ax,scores,['SMTS'])\n",
    "#h = np.array(scores['primary_site']['h'])\n",
    "#c = np.array(scores['secondary_site']['c'])\n",
    "#ax.plot(xl, 2*h*c/(h+c), ls='-',c='g')\n",
    "plt.xticks(fontsize=16)\n",
    "plt.yticks(fontsize=16)\n",
    "plt.xlim(1,1000)\n",
    "plt.show()\n",
    "fig.savefig(\"%s/metric_scores.pdf\"%(directory))"
   ]
  },
  {
   "cell_type": "code",
   "execution_count": 10,
   "metadata": {},
   "outputs": [],
   "source": [
    "scores = {}\n",
    "scores['hsbm'] = get_scores(directory, labels, df_files=df_files, verbose=False)['SMTS']\n",
    "scores['hierarchical'] = get_scores(directory, labels, algorithm='hierarchical', verbose=False)['SMTS']\n",
    "scores['lda'] = get_scores(directory, labels, algorithm='lda', verbose=False)['SMTS']\n",
    "#scores['kmeans'] = get_scores(directory, labels, algorithm='kmeans', verbose=False)['SMTS']\n",
    "#scores['tm']=get_scores(directory, labels, algorithm='tm', verbose=False)['primary_site']\n",
    "#scores['cc']=get_scores(directory, labels, algorithm='cc', verbose=False)['primary_site']\n",
    "#scores['shuffle'] = get_scores_shuffled(directory, df_files,label='primary_site', algorithm='lda')\n",
    "scores['wgcna']=get_scores(directory, labels, algorithm='wgcna', verbose=False)['SMTS']"
   ]
  },
  {
   "cell_type": "code",
   "execution_count": null,
   "metadata": {},
   "outputs": [],
   "source": [
    "scores['hierarchical'] = get_scores(directory, labels, algorithm='hierarchical', verbose=False)['primary_site']\n",
    "scores['hierarchicaleuclidean'] = get_scores(directory, labels, algorithm='hierarchicaleuclidean', verbose=False)['primary_site']\n",
    "scores['lda'] = get_scores(directory, labels, algorithm='lda', verbose=False)['primary_site']\n",
    "#scores['hsbm->hierachical'] = pd.read_csv(\"%s/hierhsbm.scores\"%directory).to_dict(orient='list')\n",
    "scores['hsbm'] =  get_scores(directory, labels, algorithm='topsbm', verbose=False)['primary_site']\n",
    "scores['tm']=get_scores(directory, labels, algorithm='tm', verbose=False)['primary_site']\n",
    "scores['wgcna']=get_scores(directory, labels, algorithm='wgcna', verbose=False)['primary_site']\n",
    "scores['cc']=get_scores(directory, labels, algorithm='cc', verbose=False)['primary_site']\n",
    "scores['shuffle'] = get_scores_shuffled(directory, df_files,label='primary_site', algorithm='topsbm')"
   ]
  },
  {
   "cell_type": "code",
   "execution_count": 11,
   "metadata": {},
   "outputs": [
    {
     "name": "stdout",
     "output_type": "stream",
     "text": [
      "No score for tm\n",
      "No score for shuffle\n"
     ]
    },
    {
     "data": {
      "image/png": "[encoded data removed]",
      "text/plain": [
       "<Figure size 1080x576 with 1 Axes>"
      ]
     },
     "metadata": {},
     "output_type": "display_data"
    }
   ],
   "source": [
    "fig=plt.figure(figsize=(15,8))\n",
    "ax = fig.subplots(1)\n",
    "add_score_lines(ax,scores,labels=['hsbm', 'tm', 'hierarchical', 'lda', 'wgcna', 'shuffle'])\n",
    "plt.tick_params(labelsize=18)\n",
    "#ax.set_xscale('linear')\n",
    "plt.xlim(1,2000)\n",
    "plt.legend(ncol=1, fontsize=18,loc='upper left' )\n",
    "plt.show()\n",
    "fig.savefig(\"%s/metric_scores_all.pdf\"%(directory))"
   ]
  },
  {
   "cell_type": "code",
   "execution_count": null,
   "metadata": {},
   "outputs": [],
   "source": []
  },
  {
   "cell_type": "code",
   "execution_count": null,
   "metadata": {},
   "outputs": [],
   "source": []
  },
  {
   "cell_type": "code",
   "execution_count": null,
   "metadata": {},
   "outputs": [],
   "source": []
  },
  {
   "cell_type": "code",
   "execution_count": null,
   "metadata": {},
   "outputs": [],
   "source": []
  },
  {
   "cell_type": "markdown",
   "metadata": {},
   "source": [
    "# Benchmark\n",
    "https://scikit-learn.org/stable/modules/clustering.html"
   ]
  },
  {
   "cell_type": "code",
   "execution_count": null,
   "metadata": {},
   "outputs": [],
   "source": [
    "true_labels = []\n",
    "predicted_labels = []\n",
    "for c in cluster:\n",
    "    print(c)\n",
    "    for sample in cluster[c]:\n",
    "        #true_labels.append(getFile(sample)['primary_site'].values[0])\n",
    "        try:\n",
    "            true_labels.append(df_files.loc[sample][label])\n",
    "            predicted_labels.append(c)\n",
    "        except:\n",
    "            print(\"error in %s\"%sample)"
   ]
  },
  {
   "cell_type": "code",
   "execution_count": null,
   "metadata": {},
   "outputs": [],
   "source": [
    "_, labels_true = np.unique(true_labels,return_inverse=True)"
   ]
  },
  {
   "cell_type": "code",
   "execution_count": null,
   "metadata": {},
   "outputs": [],
   "source": []
  },
  {
   "cell_type": "code",
   "execution_count": null,
   "metadata": {},
   "outputs": [],
   "source": [
    "series_metrics=pd.Series(name=setup+'__level_%d_%s'%(level,label))\n",
    "series_metrics['MI']=metrics.cluster.normalized_mutual_info_score(labels_true, predicted_labels, average_method='arithmetic')\n",
    "series_metrics['Homogeneity']=metrics.cluster.homogeneity_score(labels_true, predicted_labels) \n",
    "series_metrics['Completness']=metrics.cluster.completeness_score(labels_true, predicted_labels) \n",
    "series_metrics['Vmeasure']=metrics.cluster.v_measure_score(labels_true, predicted_labels)\n",
    "series_metrics['Fowlkes-Mallows']=metrics.cluster.fowlkes_mallows_score(labels_true,predicted_labels)\n",
    "series_metrics['AdjustedRandIndex']=metrics.cluster.adjusted_rand_score(labels_true,predicted_labels)"
   ]
  },
  {
   "cell_type": "code",
   "execution_count": null,
   "metadata": {},
   "outputs": [],
   "source": [
    "series_metrics"
   ]
  },
  {
   "cell_type": "code",
   "execution_count": null,
   "metadata": {},
   "outputs": [],
   "source": [
    "#df_metrics = pd.DataFrame(columns=['AdjustedRandIndex','MI','Homogeneity','Completness','Vmeasure','Fowlkes-Mallows'])"
   ]
  },
  {
   "cell_type": "code",
   "execution_count": null,
   "metadata": {},
   "outputs": [],
   "source": [
    "try:\n",
    "    df_metrics.append(series_metrics, ignore_index=False, verify_integrity=True).to_csv(\"results/hSBM/metrics.csv\", index=True,header=True)\n",
    "except:\n",
    "    raise"
   ]
  },
  {
   "cell_type": "code",
   "execution_count": null,
   "metadata": {},
   "outputs": [],
   "source": [
    "df_metrics = pd.read_csv(\"results/hSBM/metrics.csv\", index_col=[0],header=[0])\n",
    "df_metrics.sort_values(by=['MI','Homogeneity'], ascending=False, axis=0, inplace=True)\n",
    "df_metrics.round(decimals=2)"
   ]
  },
  {
   "cell_type": "code",
   "execution_count": null,
   "metadata": {},
   "outputs": [],
   "source": [
    "from matplotlib import pyplot as plt\n",
    "\n",
    "fig, ax = plt.subplots(figsize=(24, 20)) # set size frame\n",
    "ax.xaxis.set_visible(False)  # hide the x axis\n",
    "ax.yaxis.set_visible(False)  # hide the y axis\n",
    "ax.set_frame_on(False)  # no visible frame, uncomment if size is ok\n",
    "tabla = pd.plotting.table(ax, df_metrics.round(decimals=2), loc='upper right', colWidths=[0.12]*len(df_metrics.columns))  # where df is your data frame\n",
    "tabla.auto_set_font_size(False) # Activate set fontsize manually\n",
    "tabla.set_fontsize(12) # if ++fontsize is necessary ++colWidths\n",
    "tabla.scale(1, 2) # change size table\n",
    "plt.savefig('results/hSBM/metrics.pdf', transparent=True)"
   ]
  },
  {
   "cell_type": "code",
   "execution_count": null,
   "metadata": {},
   "outputs": [],
   "source": []
  },
  {
   "cell_type": "code",
   "execution_count": null,
   "metadata": {},
   "outputs": [],
   "source": [
    "metrics.cluster.contingency_matrix(true_labels, predicted_labels)"
   ]
  },
  {
   "cell_type": "code",
   "execution_count": null,
   "metadata": {},
   "outputs": [],
   "source": []
  },
  {
   "cell_type": "code",
   "execution_count": null,
   "metadata": {},
   "outputs": [],
   "source": []
  },
  {
   "cell_type": "code",
   "execution_count": null,
   "metadata": {},
   "outputs": [],
   "source": [
    "df_files[df_files['primary_site']=='Brain']"
   ]
  },
  {
   "cell_type": "code",
   "execution_count": null,
   "metadata": {},
   "outputs": [],
   "source": []
  }
 ],
 "metadata": {
  "kernelspec": {
   "display_name": "Python 3",
   "language": "python",
   "name": "python3"
  },
  "language_info": {
   "codemirror_mode": {
    "name": "ipython",
    "version": 3
   },
   "file_extension": ".py",
   "mimetype": "text/x-python",
   "name": "python",
   "nbconvert_exporter": "python",
   "pygments_lexer": "ipython3",
   "version": "3.6.9"
  }
 },
 "nbformat": 4,
 "nbformat_minor": 4
}
