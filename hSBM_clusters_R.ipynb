{
 "cells": [
  {
   "cell_type": "code",
   "execution_count": null,
   "metadata": {},
   "outputs": [],
   "source": [
    "library(clustree, quietly = TRUE, warn.conflicts = FALSE)"
   ]
  },
  {
   "cell_type": "code",
   "execution_count": null,
   "metadata": {},
   "outputs": [],
   "source": [
    "directory = \"/Volumes/GoogleDrive/My Drive/tesi_magistrale/tesi/gtex/123experiments/experiment2\"\n",
    "directory = \"/Volumes/GoogleDrive/My Drive/tesi_magistrale/tesi/gtex/hsbm/oversigma_10tissue\""
   ]
  },
  {
   "cell_type": "code",
   "execution_count": null,
   "metadata": {},
   "outputs": [],
   "source": [
    "dfr <-read.csv(file=paste(directory,\"/topsbm/topsbm_labels.csv\", sep=''), header=TRUE)"
   ]
  },
  {
   "cell_type": "code",
   "execution_count": null,
   "metadata": {},
   "outputs": [],
   "source": [
    "a0<-dfr['l0']\n",
    "a1<-dfr['l1']\n",
    "a2<-dfr['l2']\n",
    "a3<-dfr['l3']\n",
    "tissues<-dfr['tissue']\n",
    "subtissues<-dfr['subtissue']"
   ]
  },
  {
   "cell_type": "code",
   "execution_count": null,
   "metadata": {},
   "outputs": [],
   "source": [
    "df.fil<-data.frame(\"l1\"=a1, \"l2\"=a2, \"l3\"=a3, \"tissue\"=tissues, \"subtissue\"=subtissues)"
   ]
  },
  {
   "cell_type": "code",
   "execution_count": null,
   "metadata": {},
   "outputs": [],
   "source": [
    "label_tissue <- function(tissues) {\n",
    "    if (length(unique(tissues)) == 1) {\n",
    "        tissues <- as.character(unique(tissues))\n",
    "    } else {\n",
    "        tissues <- names(sort(table(tissues),decreasing=TRUE)[1])[1]\n",
    "    }\n",
    "    return(tissues)\n",
    "}\n",
    "\n",
    "label_subtissue <- function(subtissues) {\n",
    "    if (length(unique(subtissues)) == 1) {\n",
    "        tissues <- as.character(unique(subtissues))\n",
    "    } else {\n",
    "        tissues <- names(sort(table(subtissues),decreasing=TRUE)[1])[1]\n",
    "    }\n",
    "    return(subtissues)\n",
    "}"
   ]
  },
  {
   "cell_type": "code",
   "execution_count": null,
   "metadata": {},
   "outputs": [],
   "source": [
    "p = clustree(df.fil, \n",
    "             node_colour = \"tissue\", \n",
    "             node_colour_aggr = \"label_tissue\",\n",
    "             prefix = \"l\", \n",
    "             layout = \"sugiyama\", \n",
    "             use_core_edges=TRUE, \n",
    "             return='plot')+\n",
    "    guides(edge_alpha = FALSE, node_colour=FALSE, node_label=FALSE) +\n",
    "    theme(legend.position = \"right\")"
   ]
  },
  {
   "cell_type": "code",
   "execution_count": null,
   "metadata": {},
   "outputs": [],
   "source": [
    "p"
   ]
  },
  {
   "cell_type": "code",
   "execution_count": null,
   "metadata": {},
   "outputs": [],
   "source": [
    "ggsave(paste(directory,\"/bipartite_rebuild.pdf\", sep=''), p)"
   ]
  },
  {
   "cell_type": "code",
   "execution_count": null,
   "metadata": {},
   "outputs": [],
   "source": [
    "help(clustree)"
   ]
  },
  {
   "cell_type": "code",
   "execution_count": null,
   "metadata": {},
   "outputs": [],
   "source": []
  }
 ],
 "metadata": {
  "kernelspec": {
   "display_name": "R",
   "language": "R",
   "name": "ir"
  },
  "language_info": {
   "codemirror_mode": "r",
   "file_extension": ".r",
   "mimetype": "text/x-r-source",
   "name": "R",
   "pygments_lexer": "r",
   "version": "3.6.1"
  }
 },
 "nbformat": 4,
 "nbformat_minor": 2
}
