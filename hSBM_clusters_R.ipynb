{
 "cells": [
  {
   "cell_type": "code",
   "execution_count": null,
   "metadata": {},
   "outputs": [],
   "source": [
    "library(clustree, quietly = TRUE, warn.conflicts = FALSE)"
   ]
  },
  {
   "cell_type": "code",
   "execution_count": null,
   "metadata": {},
   "outputs": [],
   "source": [
    "directory = \"/Volumes/GoogleDrive/My Drive/tesi_magistrale/tesi/gtex/123experiments/experiment2\""
   ]
  },
  {
   "cell_type": "code",
   "execution_count": null,
   "metadata": {},
   "outputs": [],
   "source": [
    "a0<-read.csv(file=paste(directory,\"/topsbm/topsbm_level_0_labels.csv\", sep=''), header=TRUE)\n",
    "a1<-read.csv(file=paste(directory,\"/topsbm/topsbm_level_1_labels.csv\", sep=''), header=TRUE)\n",
    "a2<-read.csv(file=paste(directory,\"/topsbm/topsbm_level_2_labels.csv\", sep=''), header=TRUE)\n",
    "a3<-read.csv(file=paste(directory,\"/topsbm/topsbm_level_3_labels.csv\", sep=''), header=TRUE)"
   ]
  },
  {
   "cell_type": "code",
   "execution_count": null,
   "metadata": {},
   "outputs": [],
   "source": [
    "df.fil<-data.frame(\"l3\"=a3,\"l2\"=a2,\"l1\"=a1)"
   ]
  },
  {
   "cell_type": "code",
   "execution_count": null,
   "metadata": {},
   "outputs": [],
   "source": [
    "p = clustree(df.fil, prefix = \"l\", layout = \"sugiyama\", return='plot')"
   ]
  },
  {
   "cell_type": "code",
   "execution_count": null,
   "metadata": {},
   "outputs": [],
   "source": [
    "ggsave(paste(directory,\"bipartite_rebuild.pdf\", sep=''), p)"
   ]
  },
  {
   "cell_type": "code",
   "execution_count": null,
   "metadata": {},
   "outputs": [],
   "source": [
    "p"
   ]
  },
  {
   "cell_type": "code",
   "execution_count": null,
   "metadata": {},
   "outputs": [],
   "source": []
  }
 ],
 "metadata": {
  "kernelspec": {
   "display_name": "R",
   "language": "R",
   "name": "ir"
  },
  "language_info": {
   "codemirror_mode": "r",
   "file_extension": ".r",
   "mimetype": "text/x-r-source",
   "name": "R",
   "pygments_lexer": "r",
   "version": "3.5.2"
  }
 },
 "nbformat": 4,
 "nbformat_minor": 2
}
