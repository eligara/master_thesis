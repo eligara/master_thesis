{
 "cells": [
  {
   "cell_type": "code",
   "execution_count": null,
   "metadata": {},
   "outputs": [],
   "source": [
    "import pandas as pd\n",
    "from matplotlib import pyplot as plt\n",
    "from TCGA_files import *\n",
    "from gtex import get_gtex_tissue"
   ]
  },
  {
   "cell_type": "code",
   "execution_count": null,
   "metadata": {},
   "outputs": [],
   "source": [
    "l = 3\n",
    "#setup = '3000doc_countsweight_quartiles'\n",
    "#setup='overlap_5000doc_0.25occ_fpkmweight_thr'\n",
    "setup = 'oversigma_5tissue'\n",
    "#label = 'disease_type'\n",
    "label='primary_site'\n",
    "#directory = '/Users/filippo/Developer/tesi/results/hSBM/%s/topsbm/'%(setup)\n",
    "directory = '/Users/filippo/Developer/tesi/gtex/hsbm/%s/topsbm/'%setup"
   ]
  },
  {
   "cell_type": "code",
   "execution_count": null,
   "metadata": {},
   "outputs": [],
   "source": [
    "df = pd.read_csv(\"%s/topsbm_level_%d_topic-dist.csv\"%(directory,l))\n",
    "df.head()"
   ]
  },
  {
   "cell_type": "code",
   "execution_count": null,
   "metadata": {},
   "outputs": [],
   "source": [
    "topic = 6"
   ]
  },
  {
   "cell_type": "code",
   "execution_count": null,
   "metadata": {},
   "outputs": [],
   "source": [
    "searchdf = df.sort_values(by=\"Topic %d\"%topic, ascending=False).loc[:,['doc','Topic %d'%topic]]\n",
    "searchdf.head()"
   ]
  },
  {
   "cell_type": "code",
   "execution_count": null,
   "metadata": {},
   "outputs": [],
   "source": [
    "#datatotest = queryFiles([f[0]+'.FPKM.txt.gz' for f in searchdf.values[:30] if f[1]>0.1])\n",
    "#datatotest = queryFiles([f[0] for f in searchdf.values[:10]])\n",
    "for file in [f[0] for f in searchdf.values[:10]]:\n",
    "    print(get_gtex_tissue(file))"
   ]
  },
  {
   "cell_type": "code",
   "execution_count": null,
   "metadata": {},
   "outputs": [],
   "source": [
    "#makeTopicPie(datatotest, l, ['primary_site','disease_type'])"
   ]
  },
  {
   "cell_type": "markdown",
   "metadata": {},
   "source": [
    "## topic distr"
   ]
  },
  {
   "cell_type": "code",
   "execution_count": null,
   "metadata": {},
   "outputs": [],
   "source": [
    "def topic_distr_sample(doc, ax=None):\n",
    "    if ax == None:\n",
    "        fig = plt.figure()\n",
    "        ax = fig.subplots()\n",
    "    ax.set_title(\"Topic distribution: %s\"%doc)\n",
    "    labels=[l if df[df['doc']==doc].loc[:,l].values[0]>=0.05 else '' for l in df.columns[2:]]\n",
    "    patches, texts, autotexts = ax.pie(df[df['doc']==doc].values[0][2:], labels=labels, autopct=lambda p: '%.1f%s'%(p,'%') if p >= 5 else '', textprops={'fontsize':20, 'color':'white', 'wrap':True})\n",
    "    for t in texts:\n",
    "                t.set_fontsize(18)\n",
    "                t.set_wrap(True)\n",
    "                t.set_color('black')\n",
    "    plt.show()\n",
    "    \n",
    "def topic_distr_isample(idoc, ax=None):\n",
    "    topic_distr_sample(df[df['i_doc']==idoc]['doc'].values[0],ax)"
   ]
  },
  {
   "cell_type": "code",
   "execution_count": null,
   "metadata": {},
   "outputs": [],
   "source": [
    "for idoc in searchdf.index.values[:5]:\n",
    "    fig=plt.figure()\n",
    "    ax=fig.subplots()\n",
    "    topic_distr_isample(idoc,ax)\n",
    "    plt.show()\n",
    "    fig.savefig(\"topic_distr_%d.png\"%idoc)"
   ]
  },
  {
   "cell_type": "code",
   "execution_count": null,
   "metadata": {},
   "outputs": [],
   "source": [
    "topic_distr_isample(153)"
   ]
  },
  {
   "cell_type": "code",
   "execution_count": null,
   "metadata": {},
   "outputs": [],
   "source": []
  },
  {
   "cell_type": "code",
   "execution_count": null,
   "metadata": {},
   "outputs": [],
   "source": [
    "df[df['doc']=='53cd4bb4-5c52-46b6-a37c-c442b536c5e4']"
   ]
  },
  {
   "cell_type": "code",
   "execution_count": null,
   "metadata": {},
   "outputs": [],
   "source": []
  },
  {
   "cell_type": "code",
   "execution_count": null,
   "metadata": {},
   "outputs": [],
   "source": []
  },
  {
   "cell_type": "markdown",
   "metadata": {},
   "source": [
    "# Clusters"
   ]
  },
  {
   "cell_type": "code",
   "execution_count": null,
   "metadata": {},
   "outputs": [],
   "source": [
    "df_clusters = pd.read_csv(\"%s/topsbm_level_%d_clusters.csv\"%(directory, l), header=[0])\n",
    "for cluster in df_clusters.columns.values:\n",
    "    idoc=df[df['doc']==df_clusters.at[0,cluster]]['i_doc'].values[0]\n",
    "    topic_distr_isample(idoc)"
   ]
  },
  {
   "cell_type": "code",
   "execution_count": null,
   "metadata": {},
   "outputs": [],
   "source": []
  }
 ],
 "metadata": {
  "kernelspec": {
   "display_name": "Python 3",
   "language": "python",
   "name": "python3"
  },
  "language_info": {
   "codemirror_mode": {
    "name": "ipython",
    "version": 3
   },
   "file_extension": ".py",
   "mimetype": "text/x-python",
   "name": "python",
   "nbconvert_exporter": "python",
   "pygments_lexer": "ipython3",
   "version": "3.6.8"
  }
 },
 "nbformat": 4,
 "nbformat_minor": 2
}
