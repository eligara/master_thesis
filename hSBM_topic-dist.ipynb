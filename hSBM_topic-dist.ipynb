{
 "cells": [
  {
   "cell_type": "code",
   "execution_count": null,
   "metadata": {},
   "outputs": [],
   "source": [
    "import pandas as pd\n",
    "from matplotlib import pyplot as plt\n",
    "from TCGA_files import *\n",
    "from gtex import get_gtex_tissue\n",
    "import seaborn as sns"
   ]
  },
  {
   "cell_type": "code",
   "execution_count": null,
   "metadata": {},
   "outputs": [],
   "source": [
    "l = 3\n",
    "#setup = '5000doc_0.25occ_fpkmweight_thr'\n",
    "#setup='overlap_5000doc_0.25occ_fpkmweight_thr'\n",
    "#setup = 'oversigma_10tissue'\n",
    "#label = 'disease_type'\n",
    "label='primary_site'\n",
    "#directory = '/Users/filippo/Developer/tesi/results/hSBM/%s/topsbm'%(setup)\n",
    "#directory = '/Users/filippo/Developer/tesi/gtex/hsbm/%s'%setup\n",
    "directory='/Users/filippo/Developer/tesi/merged/hsbm'"
   ]
  },
  {
   "cell_type": "code",
   "execution_count": null,
   "metadata": {},
   "outputs": [],
   "source": [
    "df = pd.read_csv(\"%s/topsbm/topsbm_level_%d_topic-dist.csv\"%(directory,l))\n",
    "df.head()"
   ]
  },
  {
   "cell_type": "code",
   "execution_count": null,
   "metadata": {},
   "outputs": [],
   "source": [
    "topic = 15"
   ]
  },
  {
   "cell_type": "code",
   "execution_count": null,
   "metadata": {},
   "outputs": [],
   "source": [
    "searchdf = df.sort_values(by=\"Topic %d\"%topic, ascending=False).loc[:,['doc','Topic %d'%topic]]\n",
    "searchdf.head()"
   ]
  },
  {
   "cell_type": "code",
   "execution_count": null,
   "metadata": {},
   "outputs": [],
   "source": [
    "#datatotest = queryFiles([f[0]+'.FPKM.txt.gz' for f in searchdf.values[:30] if f[1]>0.1])\n",
    "#datatotest = queryFiles([f[0] for f in searchdf.values[:10]])\n",
    "datatotest = pd.DataFrame(columns=['primary_site','secondary_site'])\n",
    "for file in [f[0] for f in searchdf.values[:10]]:\n",
    "    datatotest=datatotest.append(get_gtex_tissue(file))\n",
    "datatotest"
   ]
  },
  {
   "cell_type": "code",
   "execution_count": null,
   "metadata": {},
   "outputs": [],
   "source": [
    "makeTopicPie(datatotest, l, ['primary_site','secondary_site'])"
   ]
  },
  {
   "cell_type": "code",
   "execution_count": null,
   "metadata": {},
   "outputs": [],
   "source": [
    "df_file=pd.read_csv(\"files.dat\", index_col=[0])\n",
    "samples = []\n",
    "for sample in df['doc']:\n",
    "    if 'Lung' in get_gtex_tissue(sample)['primary_site']:\n",
    "        samples.append(sample)"
   ]
  },
  {
   "cell_type": "code",
   "execution_count": null,
   "metadata": {},
   "outputs": [],
   "source": [
    "tissuedf = df[df['doc'].isin(samples)].drop('i_doc', axis=1)\n",
    "tissuedf.mean(axis=0).sort_values(ascending=False)"
   ]
  },
  {
   "cell_type": "code",
   "execution_count": null,
   "metadata": {},
   "outputs": [],
   "source": []
  },
  {
   "cell_type": "markdown",
   "metadata": {},
   "source": [
    "## topic distr"
   ]
  },
  {
   "cell_type": "code",
   "execution_count": null,
   "metadata": {},
   "outputs": [],
   "source": [
    "def topic_distr_sample(doc, ax=None):\n",
    "    if ax == None:\n",
    "        fig = plt.figure()\n",
    "        ax = fig.subplots()\n",
    "    ax.set_title(\"Topic distribution: %s\"%doc)\n",
    "    labels=[l if df[df['doc']==doc].loc[:,l].values[0]>=0.05 else '' for l in df.columns[2:]]\n",
    "    patches, texts, autotexts = ax.pie(df[df['doc']==doc].values[0][2:], labels=labels, autopct=lambda p: '%.1f%s'%(p,'%') if p >= 5 else '', textprops={'fontsize':20, 'color':'white', 'wrap':True})\n",
    "    for t in texts:\n",
    "                t.set_fontsize(18)\n",
    "                t.set_wrap(True)\n",
    "                t.set_color('black')\n",
    "    plt.show()\n",
    "    \n",
    "def topic_distr_isample(idoc, ax=None):\n",
    "    topic_distr_sample(df[df['i_doc']==idoc]['doc'].values[0],ax)"
   ]
  },
  {
   "cell_type": "code",
   "execution_count": null,
   "metadata": {},
   "outputs": [],
   "source": [
    "for idoc in searchdf.index.values[:5]:\n",
    "    fig=plt.figure()\n",
    "    ax=fig.subplots()\n",
    "    topic_distr_isample(idoc,ax)\n",
    "    plt.show()\n",
    "    fig.savefig(\"topic_distr_%d.png\"%idoc)"
   ]
  },
  {
   "cell_type": "code",
   "execution_count": null,
   "metadata": {},
   "outputs": [],
   "source": [
    "for idoc in np.random.randint(len(df.index), size=10):\n",
    "    topic_distr_isample(idoc)"
   ]
  },
  {
   "cell_type": "markdown",
   "metadata": {},
   "source": [
    "## Topic distr"
   ]
  },
  {
   "cell_type": "markdown",
   "metadata": {},
   "source": [
    "### kl"
   ]
  },
  {
   "cell_type": "code",
   "execution_count": null,
   "metadata": {},
   "outputs": [],
   "source": [
    "l=3"
   ]
  },
  {
   "cell_type": "code",
   "execution_count": null,
   "metadata": {},
   "outputs": [],
   "source": [
    "df_kl = pd.read_csv(\"%s/topsbm/topic-kl_%d.csv\"%(directory,l), header=None)\n",
    "df_kl.columns = ['first', 'second', 'kl']\n",
    "df_kl.head()"
   ]
  },
  {
   "cell_type": "code",
   "execution_count": null,
   "metadata": {},
   "outputs": [],
   "source": [
    "df_cluster = pd.read_csv(\"%s/topsbm/topsbm_level_%d_clusters.csv\"%(directory,l))\n",
    "df_topics = pd.read_csv(\"%s/topsbm/topsbm_level_%d_topic-dist.csv\"%(directory,l)).loc[:,df.columns[2:]]\n",
    "df_files = pd.read_csv(\"%s/files.dat\"%(directory), index_col=[0], header=0)"
   ]
  },
  {
   "cell_type": "code",
   "execution_count": null,
   "metadata": {},
   "outputs": [],
   "source": [
    "bins = np.linspace(-0.025,1.025,40)"
   ]
  },
  {
   "cell_type": "code",
   "execution_count": null,
   "metadata": {},
   "outputs": [],
   "source": [
    "sites = df_files['primary_site'].unique()\n",
    "df_tissue_kl = pd.DataFrame(index=sites, columns=sites, dtype=float)"
   ]
  },
  {
   "cell_type": "code",
   "execution_count": null,
   "metadata": {},
   "outputs": [],
   "source": [
    "for tissue_row in sites:\n",
    "    cluster_row = df_files[df_files['primary_site']==tissue_row].index.values\n",
    "    for tissue_column in sites:\n",
    "        print(tissue_row, tissue_column)\n",
    "        cluster_column = df_files[df_files['primary_site']==tissue_column].index.values\n",
    "        datarc = df_kl[(df_kl['first'].isin(cluster_row) & df_kl['second'].isin(cluster_column))]['kl'].values\n",
    "        datacr = df_kl[(df_kl['first'].isin(cluster_column) & df_kl['second'].isin(cluster_row))]['kl'].values\n",
    "        df_tissue_kl.at[tissue_row,tissue_column]=(np.average(np.concatenate((datarc,datacr))))"
   ]
  },
  {
   "cell_type": "code",
   "execution_count": null,
   "metadata": {},
   "outputs": [],
   "source": [
    "h = sns.clustermap(df_tissue_kl.dropna(axis=0,how='all').dropna(axis=1, how='any'), cmap=sns.diverging_palette(15,250, n=15), metric='euclidean')\n",
    "dn = h.dendrogram_col.dendrogram\n",
    "h.fig.savefig(\"%s/topic_distr_kl_map.pdf\"%directory)"
   ]
  },
  {
   "cell_type": "code",
   "execution_count": null,
   "metadata": {},
   "outputs": [],
   "source": [
    "import scipy.cluster.hierarchy as shc\n",
    "fig = plt.figure(figsize=(12,8))\n",
    "ax = fig.subplots()\n",
    "ax.set_xlabel(\"kl correlation\", fontsize=16)\n",
    "dend = shc.dendrogram(h.dendrogram_col.linkage, labels=df_tissue_kl.columns, orientation='right', distance_sort='discending', ax=ax)\n",
    "fig.savefig(\"%s/topic_dist_dendogram_level(%d).pdf\"%(directory,l))"
   ]
  },
  {
   "cell_type": "code",
   "execution_count": null,
   "metadata": {},
   "outputs": [],
   "source": []
  },
  {
   "cell_type": "markdown",
   "metadata": {},
   "source": [
    "### Topic maps"
   ]
  },
  {
   "cell_type": "code",
   "execution_count": null,
   "metadata": {},
   "outputs": [],
   "source": [
    "import seaborn as sns\n",
    "from gtex import get_gtex_tissue\n",
    "from TCGA_files import get_tcga_tissue\n",
    "from hsbmpy import get_file, get_tissue_style"
   ]
  },
  {
   "cell_type": "code",
   "execution_count": null,
   "metadata": {},
   "outputs": [],
   "source": [
    "df_topics = pd.read_csv(\"%s/topsbm/topsbm_level_%d_topic-dist.csv\"%(directory,l))\n",
    "df_files = pd.read_csv(\"%s/files.dat\"%directory, index_col=0)\n",
    "df_topics.set_index('doc', inplace=True)\n",
    "df_topics.insert(0,'tissue','')\n",
    "df_topics.drop('i_doc', axis=1, inplace=True)\n",
    "for sample in df_topics.index.values:\n",
    "    df_topics.at[sample,'tissue']=(\"%s\"%(get_file(sample,df_files)['primary_site']))"
   ]
  },
  {
   "cell_type": "code",
   "execution_count": null,
   "metadata": {},
   "outputs": [],
   "source": [
    "df_cmap = df_topics.sort_values(by='tissue').set_index('tissue').transpose()\n",
    "#create a color palette with the same number of colors as unique values in the Source column\n",
    "network_pal = sns.color_palette('husl',n_colors=len(df_cmap.columns))\n",
    "\n",
    "#Create a dictionary where the key is the category and the values are the\n",
    "#colors from the palette we just created\n",
    "network_lut = dict(zip(df_cmap.columns, network_pal))\n",
    "network_col = df_cmap.columns.map(network_lut)\n",
    "\n",
    "fig = plt.figure()\n",
    "cm = sns.clustermap(df_cmap, row_cluster=False, col_cluster=False, metric='euclidean', vmin=0, cmap='RdYlBu_r', col_colors=network_col)\n",
    "cm.fig.savefig(\"%s/MAP_level%d.png\"%(directory,l))"
   ]
  },
  {
   "cell_type": "code",
   "execution_count": null,
   "metadata": {},
   "outputs": [],
   "source": [
    "df_topics = pd.read_csv(\"%s/topsbm/topsbm_level_%d_topic-dist.csv\"%(directory,l))\n",
    "df_topics.drop('i_doc', axis=1, inplace=True)\n",
    "df_topics.set_index('doc', inplace=True)\n",
    "for sample in df_topics.index.values:\n",
    "    df_topics.at[sample,'tissue']=\"%s\"%(get_file(sample,df_files)['primary_site'])"
   ]
  },
  {
   "cell_type": "code",
   "execution_count": null,
   "metadata": {},
   "outputs": [],
   "source": [
    "fig = plt.figure(figsize=(25,10))\n",
    "for tissue in df_topics['tissue'].unique():\n",
    "    print(tissue)\n",
    "    marker, c, ls = get_tissue_style(tissue)\n",
    "    try:\n",
    "        plt.plot(df_topics[df_topics['tissue']==tissue].loc[:,df_topics.columns[30:65]].mean(axis=0), ls=ls,marker=marker, lw=2, ms=10, label=tissue, c=network_lut[df_files[df_files['primary_site']==tissue]['primary_site'][0]])\n",
    "    except:\n",
    "        pass\n",
    "plt.xticks(rotation=90)\n",
    "plt.ylabel(\"$P(topic | tissue)$\", fontsize=18)\n",
    "plt.legend(fontsize=18)\n",
    "plt.show()\n",
    "fig.savefig(\"%s/lifeplot.pdf\"%directory)"
   ]
  },
  {
   "cell_type": "code",
   "execution_count": null,
   "metadata": {},
   "outputs": [],
   "source": [
    "expressedtopics = df_topics.drop('tissue', axis=1).mean(axis=0).sort_values(ascending=False).index"
   ]
  },
  {
   "cell_type": "code",
   "execution_count": null,
   "metadata": {},
   "outputs": [],
   "source": [
    "fig=plt.figure()\n",
    "for thr in [0, 0.005, 0.01]:\n",
    "    plt.hist(df_topics.drop('tissue', axis=1).transpose().apply(lambda x: len(x[x>thr])/float(len(x)), axis=1), histtype='step', density=True, range=(-0.05,1.05), bins=10, lw=2, label=\"threshold: %.3f\"%thr)\n",
    "plt.legend()\n",
    "fig.savefig(\"%s/distr_topicU.pdf\"%directory)"
   ]
  },
  {
   "cell_type": "code",
   "execution_count": null,
   "metadata": {},
   "outputs": [],
   "source": [
    "topic_table = df_topics.drop('tissue', axis=1).transpose()\n",
    "topic_table.insert(0,'occ', df_topics.drop('tissue', axis=1).transpose().apply(lambda x: len(x[x>0.002])/float(len(x)), axis=1).values)"
   ]
  },
  {
   "cell_type": "code",
   "execution_count": null,
   "metadata": {},
   "outputs": [],
   "source": [
    "low_occ_topics = topic_table[topic_table['occ']>0.5].index.values"
   ]
  },
  {
   "cell_type": "code",
   "execution_count": null,
   "metadata": {},
   "outputs": [],
   "source": []
  },
  {
   "cell_type": "code",
   "execution_count": null,
   "metadata": {},
   "outputs": [],
   "source": [
    "import findspark\n",
    "findspark.init()\n",
    "import pyspark as spark\n",
    "import tensorflow as tf\n",
    "from pyspark.sql.functions import udf,col\n",
    "from pyspark.sql.types import StringType\n",
    "sc = spark.SparkContext()\n",
    "sql = spark.SQLContext(sc)"
   ]
  },
  {
   "cell_type": "code",
   "execution_count": null,
   "metadata": {},
   "outputs": [],
   "source": [
    "df_files_pd = pd.read_csv(\"%s/files.dat\"%directory, index_col=0)\n",
    "df_topics = sql.read.option(\"header\",\"true\").csv(\"%s/topsbm/topsbm_level_%d_topic-dist.csv\"%(directory,l))\n",
    "df_files = sql.read.option(\"header\",\"true\").csv(\"%s/files.dat\"%(directory))\n",
    "df_files.registerTempTable(\"file\")\n",
    "df_topics = df_topics.withColumn('status', udf(lambda x: 'healthy' if 'GTEX' in x else 'tumour', StringType())(col('doc')))\n",
    "df_topics = df_topics.withColumn('tissue', udf(lambda x: get_file(x, df_files_pd)['primary_site'], StringType())(col('doc')))\n",
    "df_topics = df_topics.withColumn('second_tissue', udf(lambda x: get_file(x, df_files_pd)['secondary_site'], StringType())(col('doc')))\n",
    "df_topics.registerTempTable(\"topic\")"
   ]
  },
  {
   "cell_type": "code",
   "execution_count": null,
   "metadata": {},
   "outputs": [],
   "source": [
    "dftf_h = tf.convert_to_tensor(sql.sql(\"SELECT * FROM topic WHERE status='healthy'\").toPandas().drop(['doc','i_doc', 'status', 'tissue','statustissue'], axis=1).astype(float).values)\n",
    "dftf_d = tf.convert_to_tensor(sql.sql(\"SELECT * FROM topic WHERE status='tumour'\").toPandas().drop(['doc','i_doc', 'status', 'tissue','statustissue'], axis=1).astype(float).values)"
   ]
  },
  {
   "cell_type": "code",
   "execution_count": null,
   "metadata": {},
   "outputs": [],
   "source": [
    "with tf.Session() as sess:\n",
    "    results = sess.run([tf.math.reduce_mean(dftf_h,0),tf.math.reduce_mean(dftf_d,0)])"
   ]
  },
  {
   "cell_type": "code",
   "execution_count": null,
   "metadata": {},
   "outputs": [],
   "source": [
    "fig = plt.figure(figsize=(20,10))\n",
    "plt.plot(results[0], marker='o', lw=0.1)\n",
    "plt.plot(results[1],marker='x', lw=0.1)\n",
    "plt.show()"
   ]
  },
  {
   "cell_type": "code",
   "execution_count": null,
   "metadata": {},
   "outputs": [],
   "source": [
    "df_all = tf.convert_to_tensor(sql.sql(\"SELECT * FROM topic\").toPandas().drop(['i_doc', 'doc', 'status', 'tissue','statustissue'], axis=1).astype(float))"
   ]
  },
  {
   "cell_type": "code",
   "execution_count": null,
   "metadata": {},
   "outputs": [],
   "source": [
    "#normed_df = tf.divide(tf.subtract(df_all,tf.reduce_mean(df_all,0)),tf.math.reduce_mean(df_all, 0))\n",
    "normed_df = tf.divide(tf.abs(tf.subtract(df_all,tf.reduce_mean(df_all,0))),tf.sqrt(tf.math.reduce_variance(df_all, 0)))\n",
    "#normed_df = tf.divide(tf.math.divide(df_all,tf.reduce_mean(df_all,0)), tf.cast(tf.shape(df_all)[0], tf.float64))\n",
    "#normed_df = tf.math.multiply(df_all,tf.reduce_mean(df_all,0))"
   ]
  },
  {
   "cell_type": "code",
   "execution_count": null,
   "metadata": {},
   "outputs": [],
   "source": [
    "with tf.Session() as sess:\n",
    "    result = sess.run([normed_df])"
   ]
  },
  {
   "cell_type": "code",
   "execution_count": null,
   "metadata": {},
   "outputs": [],
   "source": [
    "l_topics_i = [int(t[6:])-1 for t in low_occ_topics]\n",
    "#l_topics_i = np.random.randint(0,100,10)\n",
    "fig=plt.figure(figsize=(30,15))\n",
    "label='second_tissue'\n",
    "for tissue in df_topics.select(label).distinct().toPandas().values.T[0][:]:\n",
    "#for tissue in ['breast-gtex', 'breast-tcga', 'colon-gtex', 'colon-tcga','thyroid-gtex','thyroid-tcga']:\n",
    "    print(tissue)\n",
    "    marker, c, ls = get_tissue_style(tissue)\n",
    "    i_docs = sql.sql(\"SELECT i_doc, %s FROM topic WHERE %s='%s'\"%(label, label,tissue)).select('i_doc').toPandas().astype(int).values.T[0]\n",
    "    plt.plot(np.mean(result[0][i_docs],axis=0)[l_topics_i], marker=marker, lw=0.1, ls=ls, label=tissue, ms=18, c=c)\n",
    "plt.legend(fontsize=16, ncol=4)\n",
    "tf.divide(tf.abs(tf.subtract(df_all,tf.reduce_mean(df_all,0))),tf.sqrt(tf.math.reduce_variance(df_all, 0)))\n",
    "plt.ylabel(\"$\\\\frac{\\\\left|P(topic | sample) - mean\\\\right|}{\\sigma}$\", fontsize=18)\n",
    "plt.xticks(ticks=np.linspace(0,len(l_topics_i)-1,num=len(l_topics_i)), labels=low_occ_topics, rotation=90)\n",
    "plt.show()\n",
    "fig.savefig(\"%s/lifeplot_normalised_%s.pdf\"%(directory,label))"
   ]
  },
  {
   "cell_type": "code",
   "execution_count": null,
   "metadata": {},
   "outputs": [],
   "source": [
    "tf.reset_default_graph()\n",
    "sc.stop()"
   ]
  },
  {
   "cell_type": "code",
   "execution_count": null,
   "metadata": {},
   "outputs": [],
   "source": [
    "import importlib, hsbmpy\n",
    "importlib.reload(hsbmpy)\n",
    "from hsbmpy import get_tissue_style"
   ]
  },
  {
   "cell_type": "code",
   "execution_count": null,
   "metadata": {},
   "outputs": [],
   "source": []
  }
 ],
 "metadata": {
  "kernelspec": {
   "display_name": "Python 3",
   "language": "python",
   "name": "python3"
  },
  "language_info": {
   "codemirror_mode": {
    "name": "ipython",
    "version": 3
   },
   "file_extension": ".py",
   "mimetype": "text/x-python",
   "name": "python",
   "nbconvert_exporter": "python",
   "pygments_lexer": "ipython3",
   "version": "3.6.8"
  }
 },
 "nbformat": 4,
 "nbformat_minor": 2
}
