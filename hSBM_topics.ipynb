{
 "cells": [
  {
   "cell_type": "code",
   "execution_count": null,
   "metadata": {},
   "outputs": [],
   "source": [
    "import numpy as np\n",
    "import pandas as pd\n",
    "from matplotlib import pyplot as plt\n",
    "from sklearn import metrics"
   ]
  },
  {
   "cell_type": "code",
   "execution_count": null,
   "metadata": {},
   "outputs": [],
   "source": [
    "directory = '/Users/filippo/Developer/tesi/results/hSBM/1000doc_0.5occ_fpkmweight_thr/topsbm'"
   ]
  },
  {
   "cell_type": "code",
   "execution_count": null,
   "metadata": {},
   "outputs": [],
   "source": [
    "l = 1"
   ]
  },
  {
   "cell_type": "code",
   "execution_count": null,
   "metadata": {},
   "outputs": [],
   "source": [
    "df_topics = pd.read_csv(\"%s/topsbm_level_%d_topics.csv\"%(directory,l), index_col=None)\n",
    "df_topics.head()"
   ]
  },
  {
   "cell_type": "code",
   "execution_count": null,
   "metadata": {},
   "outputs": [],
   "source": [
    "cluster={}\n",
    "for i,c in enumerate(df_topics.columns):\n",
    "    cluster[i]=df_topics[c].dropna().values"
   ]
  },
  {
   "cell_type": "code",
   "execution_count": null,
   "metadata": {},
   "outputs": [],
   "source": []
  },
  {
   "cell_type": "markdown",
   "metadata": {},
   "source": [
    "# topic size"
   ]
  },
  {
   "cell_type": "code",
   "execution_count": null,
   "metadata": {},
   "outputs": [],
   "source": [
    "sizes = []\n",
    "for t in df_topics.columns:\n",
    "    sizes.append(len(df_topics.loc[:,t].dropna()))"
   ]
  },
  {
   "cell_type": "code",
   "execution_count": null,
   "metadata": {},
   "outputs": [],
   "source": [
    "fig=plt.figure()\n",
    "plt.hist(sizes, histtype='step', lw=2)\n",
    "plt.xlabel(\"topic size (# genes)\", fontsize=16)\n",
    "plt.ylabel(\"# topic of that size\", fontsize=16)\n",
    "plt.show()\n",
    "fig.savefig(\"topic_size_%d.png\"%l)"
   ]
  },
  {
   "cell_type": "code",
   "execution_count": null,
   "metadata": {},
   "outputs": [],
   "source": []
  },
  {
   "cell_type": "markdown",
   "metadata": {},
   "source": [
    "## Topic O"
   ]
  },
  {
   "cell_type": "code",
   "execution_count": null,
   "metadata": {},
   "outputs": [],
   "source": [
    "df_mv=pd.read_csv(\"meanVariances.csv\", index_col=[0])\n",
    "#df_o = pd.read_csv(\"O.dat\", header=None)\n",
    "#df_mv.insert(3, 'occurrence', df_o.values)\n",
    "df_mv['occurrence'] = df_mv['occurrence']/5000.\n",
    "df_mv.head()"
   ]
  },
  {
   "cell_type": "code",
   "execution_count": null,
   "metadata": {},
   "outputs": [],
   "source": [
    "avgs = []\n",
    "semidisps = []\n",
    "for topic in df_topics.columns:\n",
    "    subarr = df_mv.loc[df_topics[topic].dropna(),:]['occurrence'].values\n",
    "    avg = np.average(subarr)\n",
    "    std = np.std(subarr)\n",
    "    avgs.append(avg)\n",
    "    semidisps.append([avg-np.min(subarr),np.max(subarr)-avg])"
   ]
  },
  {
   "cell_type": "code",
   "execution_count": null,
   "metadata": {},
   "outputs": [],
   "source": [
    "N = len(df_topics.columns)\n",
    "fig = plt.figure(figsize=(25,10))\n",
    "plt.errorbar(avgs, np.arange(N), xerr=np.array(semidisps).T, yerr=None, fmt='x', marker='x', lw=5, ms=50)\n",
    "plt.xlabel('$O_i$', fontsize=18)\n",
    "plt.yticks(np.arange(len(df_topics.columns)),df_topics.columns.values, fontsize=18)\n",
    "plt.xticks(fontsize=18)\n",
    "plt.xlim(0,1)\n",
    "plt.show()\n",
    "fig.savefig(\"%s/../O_ditrs_l_%d.pdf\"%(directory,l))"
   ]
  },
  {
   "cell_type": "code",
   "execution_count": null,
   "metadata": {},
   "outputs": [],
   "source": []
  },
  {
   "cell_type": "code",
   "execution_count": null,
   "metadata": {},
   "outputs": [],
   "source": []
  }
 ],
 "metadata": {
  "kernelspec": {
   "display_name": "Python 2",
   "language": "python",
   "name": "python2"
  },
  "language_info": {
   "codemirror_mode": {
    "name": "ipython",
    "version": 2
   },
   "file_extension": ".py",
   "mimetype": "text/x-python",
   "name": "python",
   "nbconvert_exporter": "python",
   "pygments_lexer": "ipython2",
   "version": "2.7.15"
  }
 },
 "nbformat": 4,
 "nbformat_minor": 2
}
