{
 "cells": [
  {
   "cell_type": "code",
   "execution_count": 1,
   "metadata": {},
   "outputs": [],
   "source": [
    "import numpy as np\n",
    "import pandas as pd\n",
    "from textwrap import wrap\n",
    "from matplotlib import pyplot as plt\n",
    "from sklearn import metrics\n",
    "import matplotlib.ticker as mticker\n",
    "import sys, os\n",
    "from hsbmpy import plot_topic_size, get_max_available_L"
   ]
  },
  {
   "cell_type": "code",
   "execution_count": 2,
   "metadata": {},
   "outputs": [],
   "source": [
    "directory=\"/home/fvalle/phd/datasets/gtex/log/3000_random-5000hvg/\"\n",
    "os.chdir(directory)\n",
    "sys.path.append('/home/fvalle/phd/master_thesis/')"
   ]
  },
  {
   "cell_type": "code",
   "execution_count": 3,
   "metadata": {},
   "outputs": [],
   "source": [
    "L = get_max_available_L(directory)"
   ]
  },
  {
   "cell_type": "markdown",
   "metadata": {},
   "source": [
    "# topic size"
   ]
  },
  {
   "cell_type": "code",
   "execution_count": null,
   "metadata": {},
   "outputs": [],
   "source": [
    "for l in range(0,L+1):\n",
    "    plot_topic_size(directory,l)"
   ]
  },
  {
   "cell_type": "markdown",
   "metadata": {},
   "source": [
    "## Topic O"
   ]
  },
  {
   "cell_type": "code",
   "execution_count": null,
   "metadata": {},
   "outputs": [],
   "source": [
    "df = pd.read_csv(\"mainTable.csv\", index_col=0,header=0)"
   ]
  },
  {
   "cell_type": "code",
   "execution_count": null,
   "metadata": {},
   "outputs": [],
   "source": [
    "df_mv=pd.DataFrame(data=[df.mean(1), df.var(1),df.apply(lambda x: len([x[x>0]])/float(len(x)), 1)], index=['average', 'var', 'O']).transpose()\n",
    "df_mv.head()"
   ]
  },
  {
   "cell_type": "code",
   "execution_count": null,
   "metadata": {},
   "outputs": [],
   "source": [
    "for l in range(0,L+1):\n",
    "    fig = plt.figure(figsize=(15,8))\n",
    "    ax = fig.subplots(1,2)\n",
    "    candles = get_candles(directory,l,df_mv,ax[0])\n",
    "    candlestick2_ohlc(ax[0], candles['open'],candles['high'],candles['low'],candles['close'],width=0.6,colordown='b')\n",
    "    ax[1].hist((np.array(candles['open'])+np.array(candles['close']))/2, weights=candles['size'], range=(-0.05,1.05), bins=10, histtype='step')\n",
    "    ax[1].set_xlabel(\"$O_i\", fontsize=18)\n",
    "    plt.show()\n",
    "    fig.savefig(\"%s/topic_Ocandles_level_%d.pdf\"%(directory,l))"
   ]
  },
  {
   "cell_type": "markdown",
   "metadata": {},
   "source": [
    "# Geneontology"
   ]
  },
  {
   "cell_type": "code",
   "execution_count": 4,
   "metadata": {},
   "outputs": [],
   "source": [
    "from geneontology import get_ontology_df, ensg_to_symbol\n",
    "from tableanalyser import get_symbol\n",
    "import gseapy as gs"
   ]
  },
  {
   "cell_type": "code",
   "execution_count": null,
   "metadata": {},
   "outputs": [],
   "source": [
    "import importlib, geneontology,tableanalyser\n",
    "importlib.reload(geneontology)\n",
    "importlib.reload(tableanalyser)\n",
    "from geneontology import get_ontology_df, ensg_to_symbol\n",
    "from tableanalyser import get_symbol"
   ]
  },
  {
   "cell_type": "code",
   "execution_count": 22,
   "metadata": {},
   "outputs": [
    {
     "name": "stderr",
     "output_type": "stream",
     "text": [
      "/home/fvalle/anaconda3/envs/phd/lib/python3.6/site-packages/IPython/core/interactiveshell.py:3051: DtypeWarning: Columns (0,1,2,3,4,5,7,8,9,10,11,12,13,14,15,16,17,18,19,20,21,22,23,24,25,26,27,28,29,30,31,32,33,34,35,36,37,38,39,40,41,42,43,44,45,46,47,48,49,50,51,52,53,54,55,56,57,58,59,60,61,62,63,64,65,66,67,68,69,70,71,72,73,74,75,76,77,78,79,80,81,82,83,84,85,86,87,88,89,90,91,92,93,94,95,96,97,98,99,100,101,102,103,104,105,106,107,108,109,110,111,112,113,114,115,116,117,118,119,120,121,122,123,124,125,126,127,128,129,130,131,132,133,134,135,136,137,138,139,140,141,142,143,144,145,146,147,148,149,150,151,152,153,154,155,156,157,158,159,160,161,162,163,164,165,166,167,168,169,170,171,172,173,174,175,176,177,178,179,180,181,182,183,184,185,186,187,188,189,190,191,192,193,194,195,196,197,198,199,200,201,202,203,204,205,206,207,208,209,210,211,212,213,214,215,216,217,218,219,220,221,222,223,224,225,226,227,228,229,230,231,232,233,234,235,236,237,238,239,240,241,242,243,244,245,246,247,248,249,250,251,252,253,254,255,256,257,258,259,260,261,262,263,264,265,266,267,268,269,270,271,272,273,274,275,276,277,278,279,280,281,282,283,284,285,286,287,288,289,290,291,292,293,294,295,296,297,298,299,300,301,302,303,304,305,306,307,308,309,310,311,312,313,314,315,316,317,318,319,320,321,322,323,324,325,326,327,328,329,330,331,332,333,334,335,336,337,338,339,340,341,342,343,344,345,346,347,348,349,350,351,352,353,354,355,356,357,358,359,360,361,362,363,364,365,366,367,368,369,370,371,372,373,374,375,376,377,378,379,380,381,382,383,384,385,386,387,388,389,390,391,392,393,394,395,396,397,398,399,400,401,402,403,404,405,406,407,408,409,410,411,412,413,414,415,416,417,418,419,420,421,422,423,424,425,426,427,428,429,430,431,432,433,434,435,436,437,438,439,440,441,442,443,444,445,446,447,448,449,450,451,452,453,454,455,456,457,458,459,460,461,462,463,464,465,466,467,468,469,470,471,472,473,474,475,476,477,478,479,480,481,482,483,484,485,486,487,488,489,490,491,492,493,494,495,496,497,498,499,500,501,502,503,504,505,506,507,508,509,510,511,512,513,514,515,516,517,518,519,520,521,522,523,524,525,526,527,528,529,530,531,532,533,534,535,536,537,538,539,540,541,542,543,544,545,546,547,548,549,550,551,552,553,554,555,556,557,558,559,560,561) have mixed types. Specify dtype option on import or set low_memory=False.\n",
      "  interactivity=interactivity, compiler=compiler, result=result)\n"
     ]
    }
   ],
   "source": [
    "l=L-2\n",
    "df_topics = pd.read_csv(\"%s/topsbm/topsbm_level_%d_topics.csv\"%(directory,l))"
   ]
  },
  {
   "cell_type": "code",
   "execution_count": 23,
   "metadata": {},
   "outputs": [],
   "source": [
    "df_symbols= pd.read_csv(\"https://www.genenames.org/cgi-bin/download/custom?col=gd_hgnc_id&col=gd_app_sym&col=gd_pub_ensembl_id&col=md_ensembl_id&col=md_eg_id&status=Approved&status=Entry%20Withdrawn&hgnc_dbtag=on&order_by=gd_app_sym_sort&format=text&submit=submit\", index_col=[0], sep='\\t')"
   ]
  },
  {
   "cell_type": "code",
   "execution_count": 24,
   "metadata": {},
   "outputs": [],
   "source": [
    "def get_sea():\n",
    "    for g in df_topics.values.ravel()[[str(s)!='nan' for s in df_topics.values.ravel()]]:\n",
    "        yield get_symbol(g)"
   ]
  },
  {
   "cell_type": "code",
   "execution_count": 25,
   "metadata": {},
   "outputs": [],
   "source": [
    "with open(\"gback.txt\",'w') as f:\n",
    "    list(map(lambda x: f.writelines(x+'\\n')if len(x)>1 else None, get_sea()))\n",
    "    \n",
    "with open(\"gback_ensg.txt\",'w') as f:\n",
    "    list(map(lambda x: f.writelines(x[:15]+'\\n')if len(x)>1 else None, df_topics.values.ravel()[[str(s)!='nan' for s in df_topics.values.ravel()]]))"
   ]
  },
  {
   "cell_type": "code",
   "execution_count": 26,
   "metadata": {
    "scrolled": true
   },
   "outputs": [
    {
     "data": {
      "text/plain": [
       "['ARCHS4_Cell-lines',\n",
       " 'ARCHS4_IDG_Coexp',\n",
       " 'ARCHS4_Kinases_Coexp',\n",
       " 'ARCHS4_TFs_Coexp',\n",
       " 'ARCHS4_Tissues',\n",
       " 'Achilles_fitness_decrease',\n",
       " 'Achilles_fitness_increase',\n",
       " 'Aging_Perturbations_from_GEO_down',\n",
       " 'Aging_Perturbations_from_GEO_up',\n",
       " 'Allen_Brain_Atlas_down',\n",
       " 'Allen_Brain_Atlas_up',\n",
       " 'BioCarta_2013',\n",
       " 'BioCarta_2015',\n",
       " 'BioCarta_2016',\n",
       " 'BioPlanet_2019',\n",
       " 'BioPlex_2017',\n",
       " 'CORUM',\n",
       " 'Cancer_Cell_Line_Encyclopedia',\n",
       " 'ChEA_2013',\n",
       " 'ChEA_2015',\n",
       " 'ChEA_2016',\n",
       " 'Chromosome_Location',\n",
       " 'Chromosome_Location_hg19',\n",
       " 'ClinVar_2019',\n",
       " 'DSigDB',\n",
       " 'Data_Acquisition_Method_Most_Popular_Genes',\n",
       " 'DepMap_WG_CRISPR_Screens_Broad_CellLines_2019',\n",
       " 'DepMap_WG_CRISPR_Screens_Sanger_CellLines_2019',\n",
       " 'DisGeNET',\n",
       " 'Disease_Perturbations_from_GEO_down',\n",
       " 'Disease_Perturbations_from_GEO_up',\n",
       " 'Disease_Signatures_from_GEO_down_2014',\n",
       " 'Disease_Signatures_from_GEO_up_2014',\n",
       " 'DrugMatrix',\n",
       " 'Drug_Perturbations_from_GEO_2014',\n",
       " 'Drug_Perturbations_from_GEO_down',\n",
       " 'Drug_Perturbations_from_GEO_up',\n",
       " 'ENCODE_Histone_Modifications_2013',\n",
       " 'ENCODE_Histone_Modifications_2015',\n",
       " 'ENCODE_TF_ChIP-seq_2014',\n",
       " 'ENCODE_TF_ChIP-seq_2015',\n",
       " 'ENCODE_and_ChEA_Consensus_TFs_from_ChIP-X',\n",
       " 'ESCAPE',\n",
       " 'Enrichr_Libraries_Most_Popular_Genes',\n",
       " 'Enrichr_Submissions_TF-Gene_Coocurrence',\n",
       " 'Epigenomics_Roadmap_HM_ChIP-seq',\n",
       " 'GO_Biological_Process_2013',\n",
       " 'GO_Biological_Process_2015',\n",
       " 'GO_Biological_Process_2017',\n",
       " 'GO_Biological_Process_2017b',\n",
       " 'GO_Biological_Process_2018',\n",
       " 'GO_Cellular_Component_2013',\n",
       " 'GO_Cellular_Component_2015',\n",
       " 'GO_Cellular_Component_2017',\n",
       " 'GO_Cellular_Component_2017b',\n",
       " 'GO_Cellular_Component_2018',\n",
       " 'GO_Molecular_Function_2013',\n",
       " 'GO_Molecular_Function_2015',\n",
       " 'GO_Molecular_Function_2017',\n",
       " 'GO_Molecular_Function_2017b',\n",
       " 'GO_Molecular_Function_2018',\n",
       " 'GTEx_Tissue_Sample_Gene_Expression_Profiles_down',\n",
       " 'GTEx_Tissue_Sample_Gene_Expression_Profiles_up',\n",
       " 'GWAS_Catalog_2019',\n",
       " 'GeneSigDB',\n",
       " 'Gene_Perturbations_from_GEO_down',\n",
       " 'Gene_Perturbations_from_GEO_up',\n",
       " 'Genes_Associated_with_NIH_Grants',\n",
       " 'Genome_Browser_PWMs',\n",
       " 'HMDB_Metabolites',\n",
       " 'HMS_LINCS_KinomeScan',\n",
       " 'HomoloGene',\n",
       " 'HumanCyc_2015',\n",
       " 'HumanCyc_2016',\n",
       " 'Human_Gene_Atlas',\n",
       " 'Human_Phenotype_Ontology',\n",
       " 'InterPro_Domains_2019',\n",
       " 'Jensen_COMPARTMENTS',\n",
       " 'Jensen_DISEASES',\n",
       " 'Jensen_TISSUES',\n",
       " 'KEA_2013',\n",
       " 'KEA_2015',\n",
       " 'KEGG_2013',\n",
       " 'KEGG_2015',\n",
       " 'KEGG_2016',\n",
       " 'KEGG_2019_Human',\n",
       " 'KEGG_2019_Mouse',\n",
       " 'Kinase_Perturbations_from_GEO_down',\n",
       " 'Kinase_Perturbations_from_GEO_up',\n",
       " 'LINCS_L1000_Chem_Pert_down',\n",
       " 'LINCS_L1000_Chem_Pert_up',\n",
       " 'LINCS_L1000_Kinase_Perturbations_down',\n",
       " 'LINCS_L1000_Kinase_Perturbations_up',\n",
       " 'LINCS_L1000_Ligand_Perturbations_down',\n",
       " 'LINCS_L1000_Ligand_Perturbations_up',\n",
       " 'Ligand_Perturbations_from_GEO_down',\n",
       " 'Ligand_Perturbations_from_GEO_up',\n",
       " 'MCF7_Perturbations_from_GEO_down',\n",
       " 'MCF7_Perturbations_from_GEO_up',\n",
       " 'MGI_Mammalian_Phenotype_2013',\n",
       " 'MGI_Mammalian_Phenotype_2017',\n",
       " 'MGI_Mammalian_Phenotype_Level_3',\n",
       " 'MGI_Mammalian_Phenotype_Level_4',\n",
       " 'MGI_Mammalian_Phenotype_Level_4_2019',\n",
       " 'MSigDB_Computational',\n",
       " 'MSigDB_Oncogenic_Signatures',\n",
       " 'Microbe_Perturbations_from_GEO_down',\n",
       " 'Microbe_Perturbations_from_GEO_up',\n",
       " 'Mouse_Gene_Atlas',\n",
       " 'NCI-60_Cancer_Cell_Lines',\n",
       " 'NCI-Nature_2015',\n",
       " 'NCI-Nature_2016',\n",
       " 'NIH_Funded_PIs_2017_AutoRIF_ARCHS4_Predictions',\n",
       " 'NIH_Funded_PIs_2017_GeneRIF_ARCHS4_Predictions',\n",
       " 'NIH_Funded_PIs_2017_Human_AutoRIF',\n",
       " 'NIH_Funded_PIs_2017_Human_GeneRIF',\n",
       " 'NURSA_Human_Endogenous_Complexome',\n",
       " 'OMIM_Disease',\n",
       " 'OMIM_Expanded',\n",
       " 'Old_CMAP_down',\n",
       " 'Old_CMAP_up',\n",
       " 'PPI_Hub_Proteins',\n",
       " 'Panther_2015',\n",
       " 'Panther_2016',\n",
       " 'Pfam_Domains_2019',\n",
       " 'Pfam_InterPro_Domains',\n",
       " 'PheWeb_2019',\n",
       " 'Phosphatase_Substrates_from_DEPOD',\n",
       " 'RNA-Seq_Disease_Gene_and_Drug_Signatures_from_GEO',\n",
       " 'Rare_Diseases_AutoRIF_ARCHS4_Predictions',\n",
       " 'Rare_Diseases_AutoRIF_Gene_Lists',\n",
       " 'Rare_Diseases_GeneRIF_ARCHS4_Predictions',\n",
       " 'Rare_Diseases_GeneRIF_Gene_Lists',\n",
       " 'Reactome_2013',\n",
       " 'Reactome_2015',\n",
       " 'Reactome_2016',\n",
       " 'SILAC_Phosphoproteomics',\n",
       " 'SubCell_BarCode',\n",
       " 'SysMyo_Muscle_Gene_Sets',\n",
       " 'TF-LOF_Expression_from_GEO',\n",
       " 'TF_Perturbations_Followed_by_Expression',\n",
       " 'TRANSFAC_and_JASPAR_PWMs',\n",
       " 'TRRUST_Transcription_Factors_2019',\n",
       " 'TargetScan_microRNA',\n",
       " 'TargetScan_microRNA_2017',\n",
       " 'Tissue_Protein_Expression_from_Human_Proteome_Map',\n",
       " 'Tissue_Protein_Expression_from_ProteomicsDB',\n",
       " 'Transcription_Factor_PPIs',\n",
       " 'UK_Biobank_GWAS_v1',\n",
       " 'VirusMINT',\n",
       " 'Virus_Perturbations_from_GEO_down',\n",
       " 'Virus_Perturbations_from_GEO_up',\n",
       " 'WikiPathways_2013',\n",
       " 'WikiPathways_2015',\n",
       " 'WikiPathways_2016',\n",
       " 'WikiPathways_2019_Human',\n",
       " 'WikiPathways_2019_Mouse',\n",
       " 'dbGaP',\n",
       " 'huMAP',\n",
       " 'miRTarBase_2017']"
      ]
     },
     "execution_count": 26,
     "metadata": {},
     "output_type": "execute_result"
    }
   ],
   "source": [
    "gs.get_library_name()"
   ]
  },
  {
   "cell_type": "code",
   "execution_count": 27,
   "metadata": {},
   "outputs": [],
   "source": [
    "gene_sets = ['GO_Molecular_Function_2018',\n",
    "             'GO_Biological_Process_2018',\n",
    "             'GO_Cellular_Component_2018',\n",
    "             'Human_Phenotype_Ontology',\n",
    "             'WikiPathways_2019_Human',\n",
    "             '/home/fvalle/MSigDB/h.all.v7.0.symbols.gmt',\n",
    "             '/home/fvalle/MSigDB/c2.cp.v7.0.symbols.gmt'\n",
    "            ]"
   ]
  },
  {
   "cell_type": "code",
   "execution_count": 28,
   "metadata": {
    "scrolled": true
   },
   "outputs": [
    {
     "name": "stdout",
     "output_type": "stream",
     "text": [
      "Topic 1\n",
      "                                                  Term  Adjusted P-value  \\\n",
      "0         immunoglobulin receptor binding (GO:0034987)      2.846874e-11   \n",
      "1      serine-type endopeptidase activity (GO:0004252)      4.648547e-05   \n",
      "2          serine-type peptidase activity (GO:0008236)      7.528231e-05   \n",
      "3                  endopeptidase activity (GO:0004175)      1.886553e-04   \n",
      "4                          GTPase binding (GO:0051020)      1.502701e-02   \n",
      "5    non-membrane spanning protein tyrosine kinase ...      4.791901e-02   \n",
      "98      B cell receptor signaling pathway (GO:0050853)      6.039433e-13   \n",
      "99           plasma membrane invagination (GO:0099024)      1.509934e-11   \n",
      "100              phagocytosis, engulfment (GO:0006911)      1.123308e-11   \n",
      "101  antigen receptor-mediated signaling pathway (G...      1.408345e-11   \n",
      "102              neutrophil degranulation (GO:0043312)      1.249485e-11   \n",
      "103  neutrophil activation involved in immune respo...      1.193007e-11   \n",
      "104          neutrophil mediated immunity (GO:0002446)      1.170214e-11   \n",
      "105  positive regulation of B cell activation (GO:0...      1.928931e-11   \n",
      "106  Fc-gamma receptor signaling pathway involved i...      5.957051e-11   \n",
      "107   Fc-gamma receptor signaling pathway (GO:0038094)      5.828462e-11   \n",
      "108  Fc receptor mediated stimulatory signaling pat...      5.756437e-11   \n",
      "109                          phagocytosis (GO:0006909)      5.276734e-11   \n",
      "110  complement activation, classical pathway (GO:0...      7.086894e-10   \n",
      "111  humoral immune response mediated by circulatin...      7.747074e-10   \n",
      "\n",
      "                       Gene_set  \n",
      "0    GO_Molecular_Function_2018  \n",
      "1    GO_Molecular_Function_2018  \n",
      "2    GO_Molecular_Function_2018  \n",
      "3    GO_Molecular_Function_2018  \n",
      "4    GO_Molecular_Function_2018  \n",
      "5    GO_Molecular_Function_2018  \n",
      "98   GO_Biological_Process_2018  \n",
      "99   GO_Biological_Process_2018  \n",
      "100  GO_Biological_Process_2018  \n",
      "101  GO_Biological_Process_2018  \n",
      "102  GO_Biological_Process_2018  \n",
      "103  GO_Biological_Process_2018  \n",
      "104  GO_Biological_Process_2018  \n",
      "105  GO_Biological_Process_2018  \n",
      "106  GO_Biological_Process_2018  \n",
      "107  GO_Biological_Process_2018  \n",
      "108  GO_Biological_Process_2018  \n",
      "109  GO_Biological_Process_2018  \n",
      "110  GO_Biological_Process_2018  \n",
      "111  GO_Biological_Process_2018  \n",
      "Topic 2\n"
     ]
    },
    {
     "name": "stderr",
     "output_type": "stream",
     "text": [
      "2020-01-16 17:35:14,554 Warning: No enrich terms using library GO_Molecular_Function_2018 when cutoff = 0.05\n",
      "2020-01-16 17:35:17,143 Warning: No enrich terms using library GO_Biological_Process_2018 when cutoff = 0.05\n",
      "2020-01-16 17:35:19,618 Warning: No enrich terms using library GO_Cellular_Component_2018 when cutoff = 0.05\n",
      "2020-01-16 17:35:22,103 Warning: No enrich terms using library Human_Phenotype_Ontology when cutoff = 0.05\n",
      "2020-01-16 17:35:24,581 Warning: No enrich terms using library WikiPathways_2019_Human when cutoff = 0.05\n",
      "2020-01-16 17:35:24,595 Warning: No enrich terms using library CUSTOM140472021802008 when cutoff = 0.05\n",
      "2020-01-16 17:35:24,631 Warning: No enrich terms using library CUSTOM140472021800784 when cutoff = 0.05\n"
     ]
    },
    {
     "name": "stdout",
     "output_type": "stream",
     "text": [
      "Empty DataFrame\n",
      "Columns: [Term, Adjusted P-value, Gene_set]\n",
      "Index: []\n",
      "Topic 3\n"
     ]
    },
    {
     "name": "stderr",
     "output_type": "stream",
     "text": [
      "2020-01-16 17:35:27,432 Warning: No enrich terms using library GO_Molecular_Function_2018 when cutoff = 0.05\n",
      "2020-01-16 17:35:29,898 Warning: No enrich terms using library GO_Biological_Process_2018 when cutoff = 0.05\n",
      "2020-01-16 17:35:32,355 Warning: No enrich terms using library GO_Cellular_Component_2018 when cutoff = 0.05\n",
      "2020-01-16 17:35:34,813 Warning: No enrich terms using library Human_Phenotype_Ontology when cutoff = 0.05\n",
      "2020-01-16 17:35:37,274 Warning: No enrich terms using library WikiPathways_2019_Human when cutoff = 0.05\n"
     ]
    },
    {
     "name": "stdout",
     "output_type": "stream",
     "text": [
      "                                                Term  Adjusted P-value  \\\n",
      "4                  REACTOME_MITOCHONDRIAL_BIOGENESIS            0.0282   \n",
      "6  REACTOME_TRANSCRIPTIONAL_ACTIVATION_OF_MITOCHO...            0.0282   \n",
      "\n",
      "                Gene_set  \n",
      "4  CUSTOM140472022829096  \n",
      "6  CUSTOM140472022829096  \n",
      "Topic 4\n"
     ]
    },
    {
     "name": "stderr",
     "output_type": "stream",
     "text": [
      "2020-01-16 17:35:40,264 Warning: No enrich terms using library GO_Molecular_Function_2018 when cutoff = 0.05\n",
      "2020-01-16 17:35:42,735 Warning: No enrich terms using library GO_Biological_Process_2018 when cutoff = 0.05\n",
      "2020-01-16 17:35:45,191 Warning: No enrich terms using library GO_Cellular_Component_2018 when cutoff = 0.05\n",
      "2020-01-16 17:35:47,663 Warning: No enrich terms using library Human_Phenotype_Ontology when cutoff = 0.05\n",
      "2020-01-16 17:35:50,119 Warning: No enrich terms using library WikiPathways_2019_Human when cutoff = 0.05\n",
      "2020-01-16 17:35:50,131 Warning: No enrich terms using library CUSTOM140471908253912 when cutoff = 0.05\n",
      "2020-01-16 17:35:50,152 Warning: No enrich terms using library CUSTOM140471953554384 when cutoff = 0.05\n"
     ]
    },
    {
     "name": "stdout",
     "output_type": "stream",
     "text": [
      "Empty DataFrame\n",
      "Columns: [Term, Adjusted P-value, Gene_set]\n",
      "Index: []\n",
      "Topic 5\n"
     ]
    },
    {
     "name": "stderr",
     "output_type": "stream",
     "text": [
      "2020-01-16 17:35:53,015 Warning: No enrich terms using library GO_Molecular_Function_2018 when cutoff = 0.05\n",
      "2020-01-16 17:35:55,482 Warning: No enrich terms using library GO_Biological_Process_2018 when cutoff = 0.05\n",
      "2020-01-16 17:35:57,949 Warning: No enrich terms using library GO_Cellular_Component_2018 when cutoff = 0.05\n",
      "2020-01-16 17:36:00,422 Warning: No enrich terms using library Human_Phenotype_Ontology when cutoff = 0.05\n",
      "2020-01-16 17:36:02,893 Warning: No enrich terms using library WikiPathways_2019_Human when cutoff = 0.05\n",
      "2020-01-16 17:36:02,904 Warning: No enrich terms using library CUSTOM140472023221736 when cutoff = 0.05\n",
      "2020-01-16 17:36:02,948 Warning: No enrich terms using library CUSTOM140472023222456 when cutoff = 0.05\n"
     ]
    },
    {
     "name": "stdout",
     "output_type": "stream",
     "text": [
      "Empty DataFrame\n",
      "Columns: [Term, Adjusted P-value, Gene_set]\n",
      "Index: []\n",
      "Topic 6\n"
     ]
    },
    {
     "name": "stderr",
     "output_type": "stream",
     "text": [
      "2020-01-16 17:36:05,759 Warning: No enrich terms using library GO_Molecular_Function_2018 when cutoff = 0.05\n",
      "2020-01-16 17:36:08,224 Warning: No enrich terms using library GO_Biological_Process_2018 when cutoff = 0.05\n",
      "2020-01-16 17:36:10,679 Warning: No enrich terms using library GO_Cellular_Component_2018 when cutoff = 0.05\n",
      "2020-01-16 17:36:13,137 Warning: No enrich terms using library Human_Phenotype_Ontology when cutoff = 0.05\n",
      "2020-01-16 17:36:15,587 Warning: No enrich terms using library WikiPathways_2019_Human when cutoff = 0.05\n",
      "2020-01-16 17:36:15,607 Warning: No enrich terms using library CUSTOM140472022776856 when cutoff = 0.05\n"
     ]
    },
    {
     "name": "stdout",
     "output_type": "stream",
     "text": [
      "Empty DataFrame\n",
      "Columns: [Term, Adjusted P-value, Gene_set]\n",
      "Index: []\n",
      "Topic 7\n"
     ]
    },
    {
     "name": "stderr",
     "output_type": "stream",
     "text": [
      "2020-01-16 17:36:24,705 Warning: No enrich terms using library GO_Molecular_Function_2018 when cutoff = 0.05\n",
      "2020-01-16 17:36:28,549 Warning: No enrich terms using library GO_Biological_Process_2018 when cutoff = 0.05\n",
      "2020-01-16 17:36:32,186 Warning: No enrich terms using library GO_Cellular_Component_2018 when cutoff = 0.05\n",
      "2020-01-16 17:36:35,774 Warning: No enrich terms using library Human_Phenotype_Ontology when cutoff = 0.05\n",
      "2020-01-16 17:36:39,419 Warning: No enrich terms using library WikiPathways_2019_Human when cutoff = 0.05\n",
      "2020-01-16 17:36:39,440 Warning: No enrich terms using library CUSTOM140471930907096 when cutoff = 0.05\n",
      "2020-01-16 17:36:39,572 Warning: No enrich terms using library CUSTOM140471930905080 when cutoff = 0.05\n"
     ]
    },
    {
     "name": "stdout",
     "output_type": "stream",
     "text": [
      "Empty DataFrame\n",
      "Columns: [Term, Adjusted P-value, Gene_set]\n",
      "Index: []\n",
      "Topic 8\n"
     ]
    },
    {
     "name": "stderr",
     "output_type": "stream",
     "text": [
      "2020-01-16 17:36:42,371 Warning: No enrich terms using library GO_Molecular_Function_2018 when cutoff = 0.05\n",
      "2020-01-16 17:36:44,829 Warning: No enrich terms using library GO_Biological_Process_2018 when cutoff = 0.05\n",
      "2020-01-16 17:36:47,294 Warning: No enrich terms using library GO_Cellular_Component_2018 when cutoff = 0.05\n",
      "2020-01-16 17:36:49,759 Warning: No enrich terms using library Human_Phenotype_Ontology when cutoff = 0.05\n",
      "2020-01-16 17:36:52,213 Warning: No enrich terms using library WikiPathways_2019_Human when cutoff = 0.05\n"
     ]
    },
    {
     "name": "stdout",
     "output_type": "stream",
     "text": [
      "Empty DataFrame\n",
      "Columns: [Term, Adjusted P-value, Gene_set]\n",
      "Index: []\n",
      "Topic 9\n"
     ]
    },
    {
     "name": "stderr",
     "output_type": "stream",
     "text": [
      "2020-01-16 17:36:55,286 Warning: No enrich terms using library GO_Molecular_Function_2018 when cutoff = 0.05\n",
      "2020-01-16 17:36:57,767 Warning: No enrich terms using library GO_Biological_Process_2018 when cutoff = 0.05\n",
      "2020-01-16 17:37:00,234 Warning: No enrich terms using library GO_Cellular_Component_2018 when cutoff = 0.05\n",
      "2020-01-16 17:37:02,713 Warning: No enrich terms using library Human_Phenotype_Ontology when cutoff = 0.05\n",
      "2020-01-16 17:37:05,177 Warning: No enrich terms using library WikiPathways_2019_Human when cutoff = 0.05\n"
     ]
    },
    {
     "name": "stdout",
     "output_type": "stream",
     "text": [
      "                        Term  Adjusted P-value               Gene_set\n",
      "83  REACTOME_ALPHA_DEFENSINS          0.010279  CUSTOM140471929916296\n",
      "Topic 10\n"
     ]
    },
    {
     "name": "stderr",
     "output_type": "stream",
     "text": [
      "2020-01-16 17:37:08,112 Warning: No enrich terms using library GO_Molecular_Function_2018 when cutoff = 0.05\n",
      "2020-01-16 17:37:10,580 Warning: No enrich terms using library GO_Biological_Process_2018 when cutoff = 0.05\n",
      "2020-01-16 17:37:13,045 Warning: No enrich terms using library GO_Cellular_Component_2018 when cutoff = 0.05\n",
      "2020-01-16 17:37:15,524 Warning: No enrich terms using library Human_Phenotype_Ontology when cutoff = 0.05\n",
      "2020-01-16 17:37:18,180 Warning: No enrich terms using library WikiPathways_2019_Human when cutoff = 0.05\n",
      "2020-01-16 17:37:18,190 Warning: No enrich terms using library CUSTOM140471953038144 when cutoff = 0.05\n",
      "2020-01-16 17:37:18,217 Warning: No enrich terms using library CUSTOM140471908288552 when cutoff = 0.05\n"
     ]
    },
    {
     "name": "stdout",
     "output_type": "stream",
     "text": [
      "Empty DataFrame\n",
      "Columns: [Term, Adjusted P-value, Gene_set]\n",
      "Index: []\n",
      "Topic 11\n"
     ]
    },
    {
     "name": "stderr",
     "output_type": "stream",
     "text": [
      "2020-01-16 17:37:21,095 Warning: No enrich terms using library GO_Molecular_Function_2018 when cutoff = 0.05\n",
      "2020-01-16 17:37:23,682 Warning: No enrich terms using library GO_Biological_Process_2018 when cutoff = 0.05\n",
      "2020-01-16 17:37:26,162 Warning: No enrich terms using library GO_Cellular_Component_2018 when cutoff = 0.05\n",
      "2020-01-16 17:37:28,638 Warning: No enrich terms using library Human_Phenotype_Ontology when cutoff = 0.05\n",
      "2020-01-16 17:37:31,107 Warning: No enrich terms using library WikiPathways_2019_Human when cutoff = 0.05\n",
      "2020-01-16 17:37:31,117 Warning: No enrich terms using library CUSTOM140471930976080 when cutoff = 0.05\n",
      "2020-01-16 17:37:31,148 Warning: No enrich terms using library CUSTOM140471930974496 when cutoff = 0.05\n"
     ]
    },
    {
     "name": "stdout",
     "output_type": "stream",
     "text": [
      "Empty DataFrame\n",
      "Columns: [Term, Adjusted P-value, Gene_set]\n",
      "Index: []\n",
      "Topic 12\n",
      "                                                  Term  Adjusted P-value  \\\n",
      "0                   alpha-actinin binding (GO:0051393)      1.418598e-03   \n",
      "1            muscle alpha-actinin binding (GO:0051371)      3.603735e-02   \n",
      "10                     muscle contraction (GO:0006936)      6.270934e-13   \n",
      "11          actin-myosin filament sliding (GO:0033275)      3.799484e-05   \n",
      "12                muscle filament sliding (GO:0030049)      2.532990e-05   \n",
      "13                     myofibril assembly (GO:0030239)      4.572398e-05   \n",
      "14      actomyosin structure organization (GO:0031032)      1.971718e-04   \n",
      "15                 sarcomere organization (GO:0045214)      1.288337e-03   \n",
      "16            striated muscle contraction (GO:0006941)      8.723239e-03   \n",
      "17               myosin filament assembly (GO:0031034)      1.834689e-02   \n",
      "18   striated muscle myosin thick filament assembly...      2.310824e-02   \n",
      "70                     actin cytoskeleton (GO:0015629)      7.875090e-04   \n",
      "71          striated muscle thin filament (GO:0005865)      1.987302e-02   \n",
      "72                      contractile fiber (GO:0043292)      2.510412e-02   \n",
      "73                              myofibril (GO:0030016)      2.032554e-02   \n",
      "74                           cytoskeleton (GO:0005856)      4.377835e-02   \n",
      "84          Muscle fiber inclusion bodies (HP:0100299)      9.981040e-05   \n",
      "85   Muscle fiber cytoplasmatic inclusion bodies (H...      2.094160e-02   \n",
      "133          Striated Muscle Contraction Pathway WP383      1.337638e-03   \n",
      "143                                HALLMARK_MYOGENESIS      1.114814e-07   \n",
      "\n",
      "                       Gene_set  \n",
      "0    GO_Molecular_Function_2018  \n",
      "1    GO_Molecular_Function_2018  \n",
      "10   GO_Biological_Process_2018  \n",
      "11   GO_Biological_Process_2018  \n",
      "12   GO_Biological_Process_2018  \n",
      "13   GO_Biological_Process_2018  \n",
      "14   GO_Biological_Process_2018  \n",
      "15   GO_Biological_Process_2018  \n",
      "16   GO_Biological_Process_2018  \n",
      "17   GO_Biological_Process_2018  \n",
      "18   GO_Biological_Process_2018  \n",
      "70   GO_Cellular_Component_2018  \n",
      "71   GO_Cellular_Component_2018  \n",
      "72   GO_Cellular_Component_2018  \n",
      "73   GO_Cellular_Component_2018  \n",
      "74   GO_Cellular_Component_2018  \n",
      "84     Human_Phenotype_Ontology  \n",
      "85     Human_Phenotype_Ontology  \n",
      "133     WikiPathways_2019_Human  \n",
      "143       CUSTOM140471920178232  \n",
      "Topic 13\n"
     ]
    },
    {
     "name": "stderr",
     "output_type": "stream",
     "text": [
      "2020-01-16 17:37:47,461 Warning: No enrich terms using library GO_Molecular_Function_2018 when cutoff = 0.05\n",
      "2020-01-16 17:37:49,915 Warning: No enrich terms using library GO_Biological_Process_2018 when cutoff = 0.05\n",
      "2020-01-16 17:37:52,461 Warning: No enrich terms using library GO_Cellular_Component_2018 when cutoff = 0.05\n",
      "2020-01-16 17:37:54,968 Warning: No enrich terms using library Human_Phenotype_Ontology when cutoff = 0.05\n",
      "2020-01-16 17:37:57,419 Warning: No enrich terms using library WikiPathways_2019_Human when cutoff = 0.05\n"
     ]
    },
    {
     "name": "stdout",
     "output_type": "stream",
     "text": [
      "Empty DataFrame\n",
      "Columns: [Term, Adjusted P-value, Gene_set]\n",
      "Index: []\n",
      "Topic 14\n"
     ]
    },
    {
     "name": "stderr",
     "output_type": "stream",
     "text": [
      "2020-01-16 17:38:00,212 Warning: No enrich terms using library GO_Molecular_Function_2018 when cutoff = 0.05\n",
      "2020-01-16 17:38:02,667 Warning: No enrich terms using library GO_Biological_Process_2018 when cutoff = 0.05\n",
      "2020-01-16 17:38:05,121 Warning: No enrich terms using library GO_Cellular_Component_2018 when cutoff = 0.05\n",
      "2020-01-16 17:38:07,576 Warning: No enrich terms using library Human_Phenotype_Ontology when cutoff = 0.05\n",
      "2020-01-16 17:38:10,024 Warning: No enrich terms using library WikiPathways_2019_Human when cutoff = 0.05\n",
      "2020-01-16 17:38:10,040 Warning: No enrich terms using library CUSTOM140471946545696 when cutoff = 0.05\n"
     ]
    },
    {
     "name": "stdout",
     "output_type": "stream",
     "text": [
      "Empty DataFrame\n",
      "Columns: [Term, Adjusted P-value, Gene_set]\n",
      "Index: []\n",
      "Topic 15\n"
     ]
    },
    {
     "name": "stderr",
     "output_type": "stream",
     "text": [
      "2020-01-16 17:38:12,862 Warning: No enrich terms using library GO_Molecular_Function_2018 when cutoff = 0.05\n",
      "2020-01-16 17:38:15,322 Warning: No enrich terms using library GO_Biological_Process_2018 when cutoff = 0.05\n",
      "2020-01-16 17:38:17,785 Warning: No enrich terms using library GO_Cellular_Component_2018 when cutoff = 0.05\n",
      "2020-01-16 17:38:20,254 Warning: No enrich terms using library Human_Phenotype_Ontology when cutoff = 0.05\n",
      "2020-01-16 17:38:22,721 Warning: No enrich terms using library WikiPathways_2019_Human when cutoff = 0.05\n",
      "2020-01-16 17:38:22,730 Warning: No enrich terms using library CUSTOM140471946829544 when cutoff = 0.05\n",
      "2020-01-16 17:38:22,753 Warning: No enrich terms using library CUSTOM140471946829616 when cutoff = 0.05\n"
     ]
    },
    {
     "name": "stdout",
     "output_type": "stream",
     "text": [
      "Empty DataFrame\n",
      "Columns: [Term, Adjusted P-value, Gene_set]\n",
      "Index: []\n",
      "Topic 16\n"
     ]
    },
    {
     "name": "stderr",
     "output_type": "stream",
     "text": [
      "2020-01-16 17:38:25,558 Warning: No enrich terms using library GO_Molecular_Function_2018 when cutoff = 0.05\n",
      "2020-01-16 17:38:28,018 Warning: No enrich terms using library GO_Biological_Process_2018 when cutoff = 0.05\n",
      "2020-01-16 17:38:30,471 Warning: No enrich terms using library GO_Cellular_Component_2018 when cutoff = 0.05\n",
      "2020-01-16 17:38:33,036 Warning: No enrich terms using library Human_Phenotype_Ontology when cutoff = 0.05\n",
      "2020-01-16 17:38:35,499 Warning: No enrich terms using library WikiPathways_2019_Human when cutoff = 0.05\n",
      "2020-01-16 17:38:35,517 Warning: No enrich terms using library CUSTOM140471928154224 when cutoff = 0.05\n"
     ]
    },
    {
     "name": "stdout",
     "output_type": "stream",
     "text": [
      "Empty DataFrame\n",
      "Columns: [Term, Adjusted P-value, Gene_set]\n",
      "Index: []\n",
      "Topic 17\n"
     ]
    },
    {
     "name": "stderr",
     "output_type": "stream",
     "text": [
      "2020-01-16 17:38:38,310 Warning: No enrich terms using library GO_Molecular_Function_2018 when cutoff = 0.05\n",
      "2020-01-16 17:38:40,781 Warning: No enrich terms using library GO_Biological_Process_2018 when cutoff = 0.05\n"
     ]
    },
    {
     "name": "stdout",
     "output_type": "stream",
     "text": [
      "<class 'requests.exceptions.ConnectionError'> ('Connection aborted.', ConnectionResetError(104, 'Connection reset by peer')) <traceback object at 0x7fc22b615588>\n",
      "Empty DataFrame\n",
      "Columns: [Term, Adjusted P-value, Gene_set]\n",
      "Index: []\n",
      "Topic 18\n"
     ]
    },
    {
     "name": "stderr",
     "output_type": "stream",
     "text": [
      "2020-01-16 17:38:43,888 Warning: No enrich terms using library GO_Molecular_Function_2018 when cutoff = 0.05\n",
      "2020-01-16 17:38:49,053 Warning: No enrich terms using library GO_Cellular_Component_2018 when cutoff = 0.05\n",
      "2020-01-16 17:38:51,531 Warning: No enrich terms using library Human_Phenotype_Ontology when cutoff = 0.05\n",
      "2020-01-16 17:38:54,005 Warning: No enrich terms using library WikiPathways_2019_Human when cutoff = 0.05\n",
      "2020-01-16 17:38:54,012 Warning: No enrich terms using library CUSTOM140471946936824 when cutoff = 0.05\n"
     ]
    },
    {
     "name": "stdout",
     "output_type": "stream",
     "text": [
      "                                                 Term  Adjusted P-value  \\\n",
      "4                       skin development (GO:0043588)      1.777794e-19   \n",
      "5           keratinocyte differentiation (GO:0030216)      9.597292e-20   \n",
      "6         epidermal cell differentiation (GO:0009913)      2.926159e-19   \n",
      "7                  peptide cross-linking (GO:0018149)      1.485185e-18   \n",
      "8   cellular protein modification process (GO:0006...      3.589580e-05   \n",
      "51                     REACTOME_DEVELOPMENTAL_BIOLOGY      1.094561e-02   \n",
      "52       REACTOME_FORMATION_OF_THE_CORNIFIED_ENVELOPE      1.664838e-12   \n",
      "54                            REACTOME_KERATINIZATION      4.451053e-10   \n",
      "\n",
      "                      Gene_set  \n",
      "4   GO_Biological_Process_2018  \n",
      "5   GO_Biological_Process_2018  \n",
      "6   GO_Biological_Process_2018  \n",
      "7   GO_Biological_Process_2018  \n",
      "8   GO_Biological_Process_2018  \n",
      "51       CUSTOM140471946937256  \n",
      "52       CUSTOM140471946937256  \n",
      "54       CUSTOM140471946937256  \n",
      "Topic 19\n"
     ]
    },
    {
     "name": "stderr",
     "output_type": "stream",
     "text": [
      "2020-01-16 17:38:57,229 Warning: No enrich terms using library GO_Molecular_Function_2018 when cutoff = 0.05\n",
      "2020-01-16 17:39:00,446 Warning: No enrich terms using library GO_Biological_Process_2018 when cutoff = 0.05\n",
      "2020-01-16 17:39:02,985 Warning: No enrich terms using library GO_Cellular_Component_2018 when cutoff = 0.05\n",
      "2020-01-16 17:39:05,496 Warning: No enrich terms using library Human_Phenotype_Ontology when cutoff = 0.05\n",
      "2020-01-16 17:39:08,300 Warning: No enrich terms using library CUSTOM140471927696912 when cutoff = 0.05\n",
      "2020-01-16 17:39:08,349 Warning: No enrich terms using library CUSTOM140471927696696 when cutoff = 0.05\n"
     ]
    },
    {
     "name": "stdout",
     "output_type": "stream",
     "text": [
      "                                                  Term  Adjusted P-value  \\\n",
      "516                     Human Complement System WP2806          0.000377   \n",
      "517  Bile Acids synthesis and enterohepatic circula...          0.001745   \n",
      "518         Drug Induction of Bile Acid Pathway WP2289          0.003553   \n",
      "519          Complement and Coagulation Cascades WP558          0.004735   \n",
      "520                       Blood Clotting Cascade WP272          0.005473   \n",
      "521              Nuclear Receptors Meta-Pathway WP2882          0.006727   \n",
      "522    Constitutive Androstane Receptor Pathway WP2875          0.010720   \n",
      "523  Nuclear Receptors in Lipid Metabolism and Toxi...          0.010293   \n",
      "524                 Pregnane X Receptor pathway WP2876          0.009150   \n",
      "525                    Liver X Receptor Pathway WP2874          0.022395   \n",
      "526             Codeine and Morphine Metabolism WP1604          0.047001   \n",
      "\n",
      "                    Gene_set  \n",
      "516  WikiPathways_2019_Human  \n",
      "517  WikiPathways_2019_Human  \n",
      "518  WikiPathways_2019_Human  \n",
      "519  WikiPathways_2019_Human  \n",
      "520  WikiPathways_2019_Human  \n",
      "521  WikiPathways_2019_Human  \n",
      "522  WikiPathways_2019_Human  \n",
      "523  WikiPathways_2019_Human  \n",
      "524  WikiPathways_2019_Human  \n",
      "525  WikiPathways_2019_Human  \n",
      "526  WikiPathways_2019_Human  \n",
      "Topic 20\n"
     ]
    },
    {
     "name": "stderr",
     "output_type": "stream",
     "text": [
      "2020-01-16 17:39:11,322 Warning: No enrich terms using library GO_Molecular_Function_2018 when cutoff = 0.05\n",
      "2020-01-16 17:39:13,887 Warning: No enrich terms using library GO_Biological_Process_2018 when cutoff = 0.05\n",
      "2020-01-16 17:39:16,349 Warning: No enrich terms using library GO_Cellular_Component_2018 when cutoff = 0.05\n",
      "2020-01-16 17:39:18,802 Warning: No enrich terms using library Human_Phenotype_Ontology when cutoff = 0.05\n",
      "2020-01-16 17:39:21,258 Warning: No enrich terms using library WikiPathways_2019_Human when cutoff = 0.05\n",
      "2020-01-16 17:39:21,389 Warning: No enrich terms using library CUSTOM140471927858952 when cutoff = 0.05\n"
     ]
    },
    {
     "name": "stdout",
     "output_type": "stream",
     "text": [
      "                             Term  Adjusted P-value               Gene_set\n",
      "246  HALLMARK_PANCREAS_BETA_CELLS          0.031627  CUSTOM140471927857800\n",
      "Topic 21\n"
     ]
    },
    {
     "name": "stderr",
     "output_type": "stream",
     "text": [
      "2020-01-16 17:39:24,196 Warning: No enrich terms using library GO_Molecular_Function_2018 when cutoff = 0.05\n",
      "2020-01-16 17:39:26,658 Warning: No enrich terms using library GO_Biological_Process_2018 when cutoff = 0.05\n",
      "2020-01-16 17:39:29,129 Warning: No enrich terms using library GO_Cellular_Component_2018 when cutoff = 0.05\n",
      "2020-01-16 17:39:31,589 Warning: No enrich terms using library Human_Phenotype_Ontology when cutoff = 0.05\n",
      "2020-01-16 17:39:34,044 Warning: No enrich terms using library WikiPathways_2019_Human when cutoff = 0.05\n",
      "2020-01-16 17:39:34,051 Warning: No enrich terms using library CUSTOM140471947150248 when cutoff = 0.05\n"
     ]
    },
    {
     "name": "stdout",
     "output_type": "stream",
     "text": [
      "                     Term  Adjusted P-value               Gene_set\n",
      "90  BIOCARTA_PEPI_PATHWAY          0.000671  CUSTOM140471947188696\n",
      "Topic 22\n"
     ]
    },
    {
     "name": "stderr",
     "output_type": "stream",
     "text": [
      "2020-01-16 17:39:36,977 Warning: No enrich terms using library GO_Molecular_Function_2018 when cutoff = 0.05\n",
      "2020-01-16 17:39:39,641 Warning: No enrich terms using library GO_Biological_Process_2018 when cutoff = 0.05\n",
      "2020-01-16 17:39:42,106 Warning: No enrich terms using library GO_Cellular_Component_2018 when cutoff = 0.05\n",
      "2020-01-16 17:39:44,558 Warning: No enrich terms using library Human_Phenotype_Ontology when cutoff = 0.05\n",
      "2020-01-16 17:39:47,011 Warning: No enrich terms using library WikiPathways_2019_Human when cutoff = 0.05\n",
      "2020-01-16 17:39:47,030 Warning: No enrich terms using library CUSTOM140471947171808 when cutoff = 0.05\n"
     ]
    },
    {
     "name": "stdout",
     "output_type": "stream",
     "text": [
      "Empty DataFrame\n",
      "Columns: [Term, Adjusted P-value, Gene_set]\n",
      "Index: []\n",
      "Topic 23\n"
     ]
    },
    {
     "name": "stderr",
     "output_type": "stream",
     "text": [
      "2020-01-16 17:39:49,820 Warning: No enrich terms using library GO_Molecular_Function_2018 when cutoff = 0.05\n",
      "2020-01-16 17:39:52,276 Warning: No enrich terms using library GO_Biological_Process_2018 when cutoff = 0.05\n",
      "2020-01-16 17:39:54,741 Warning: No enrich terms using library GO_Cellular_Component_2018 when cutoff = 0.05\n",
      "2020-01-16 17:39:57,209 Warning: No enrich terms using library Human_Phenotype_Ontology when cutoff = 0.05\n",
      "2020-01-16 17:39:59,664 Warning: No enrich terms using library WikiPathways_2019_Human when cutoff = 0.05\n",
      "2020-01-16 17:39:59,681 Warning: No enrich terms using library CUSTOM140471906299768 when cutoff = 0.05\n"
     ]
    },
    {
     "name": "stdout",
     "output_type": "stream",
     "text": [
      "Empty DataFrame\n",
      "Columns: [Term, Adjusted P-value, Gene_set]\n",
      "Index: []\n",
      "Topic 24\n"
     ]
    },
    {
     "name": "stderr",
     "output_type": "stream",
     "text": [
      "2020-01-16 17:40:07,624 Warning: No enrich terms using library GO_Cellular_Component_2018 when cutoff = 0.05\n",
      "2020-01-16 17:40:10,093 Warning: No enrich terms using library Human_Phenotype_Ontology when cutoff = 0.05\n",
      "2020-01-16 17:40:12,552 Warning: No enrich terms using library WikiPathways_2019_Human when cutoff = 0.05\n",
      "2020-01-16 17:40:12,571 Warning: No enrich terms using library CUSTOM140471913894392 when cutoff = 0.05\n"
     ]
    },
    {
     "name": "stdout",
     "output_type": "stream",
     "text": [
      "                                                 Term  Adjusted P-value  \\\n",
      "0   serine-type endopeptidase inhibitor activity (...          0.008522   \n",
      "1       endopeptidase inhibitor activity (GO:0004866)          0.033333   \n",
      "2                       protease binding (GO:0002020)          0.026663   \n",
      "11             regulation of proteolysis (GO:0030162)          0.026987   \n",
      "12  regulation of endopeptidase activity (GO:0052548)          0.022658   \n",
      "13  negative regulation of endopeptidase activity ...          0.030964   \n",
      "\n",
      "                      Gene_set  \n",
      "0   GO_Molecular_Function_2018  \n",
      "1   GO_Molecular_Function_2018  \n",
      "2   GO_Molecular_Function_2018  \n",
      "11  GO_Biological_Process_2018  \n",
      "12  GO_Biological_Process_2018  \n",
      "13  GO_Biological_Process_2018  \n",
      "Topic 25\n"
     ]
    },
    {
     "name": "stderr",
     "output_type": "stream",
     "text": [
      "2020-01-16 17:40:15,408 Warning: No enrich terms using library GO_Molecular_Function_2018 when cutoff = 0.05\n",
      "2020-01-16 17:40:23,169 Warning: No enrich terms using library Human_Phenotype_Ontology when cutoff = 0.05\n",
      "2020-01-16 17:40:25,639 Warning: No enrich terms using library WikiPathways_2019_Human when cutoff = 0.05\n",
      "2020-01-16 17:40:25,648 Warning: No enrich terms using library CUSTOM140471959284472 when cutoff = 0.05\n"
     ]
    },
    {
     "name": "stdout",
     "output_type": "stream",
     "text": [
      "                                                  Term  Adjusted P-value  \\\n",
      "12   chemical homeostasis within a tissue (GO:0048875)          0.017204   \n",
      "13                 surfactant homeostasis (GO:0043129)          0.008602   \n",
      "154                         lamellar body (GO:0042599)          0.010500   \n",
      "155           rough endoplasmic reticulum (GO:0005791)          0.018835   \n",
      "156                   multivesicular body (GO:0005771)          0.013483   \n",
      "157     clathrin-coated endocytic vesicle (GO:0045334)          0.030342   \n",
      "158       ficolin-1-rich granule membrane (GO:0101003)          0.036155   \n",
      "159             tertiary granule membrane (GO:0070821)          0.043130   \n",
      "222                                NABA_ECM_AFFILIATED          0.024419   \n",
      "226                                  PID_HNF3A_PATHWAY          0.023884   \n",
      "237  REACTOME_DEFECTIVE_CSF2RB_CAUSES_PULMONARY_SUR...          0.003534   \n",
      "240  REACTOME_DISEASES_ASSOCIATED_WITH_SURFACTANT_M...          0.003534   \n",
      "252    REACTOME_REGULATION_OF_TLR_BY_ENDOGENOUS_LIGAND          0.006651   \n",
      "256  REACTOME_SIGNAL_REGULATORY_PROTEIN_FAMILY_INTE...          0.006243   \n",
      "257                     REACTOME_SURFACTANT_METABOLISM          0.013378   \n",
      "\n",
      "                       Gene_set  \n",
      "12   GO_Biological_Process_2018  \n",
      "13   GO_Biological_Process_2018  \n",
      "154  GO_Cellular_Component_2018  \n",
      "155  GO_Cellular_Component_2018  \n",
      "156  GO_Cellular_Component_2018  \n",
      "157  GO_Cellular_Component_2018  \n",
      "158  GO_Cellular_Component_2018  \n",
      "159  GO_Cellular_Component_2018  \n",
      "222       CUSTOM140471959285336  \n",
      "226       CUSTOM140471959285336  \n",
      "237       CUSTOM140471959285336  \n",
      "240       CUSTOM140471959285336  \n",
      "252       CUSTOM140471959285336  \n",
      "256       CUSTOM140471959285336  \n",
      "257       CUSTOM140471959285336  \n",
      "Topic 26\n"
     ]
    },
    {
     "name": "stderr",
     "output_type": "stream",
     "text": [
      "2020-01-16 17:40:28,617 Warning: No enrich terms using library GO_Molecular_Function_2018 when cutoff = 0.05\n"
     ]
    },
    {
     "name": "stdout",
     "output_type": "stream",
     "text": [
      "<class 'requests.exceptions.ConnectionError'> ('Connection aborted.', ConnectionResetError(104, 'Connection reset by peer')) <traceback object at 0x7fc229e71708>\n",
      "                                                  Term  Adjusted P-value  \\\n",
      "12   chemical homeostasis within a tissue (GO:0048875)          0.017204   \n",
      "13                 surfactant homeostasis (GO:0043129)          0.008602   \n",
      "154                         lamellar body (GO:0042599)          0.010500   \n",
      "155           rough endoplasmic reticulum (GO:0005791)          0.018835   \n",
      "156                   multivesicular body (GO:0005771)          0.013483   \n",
      "157     clathrin-coated endocytic vesicle (GO:0045334)          0.030342   \n",
      "158       ficolin-1-rich granule membrane (GO:0101003)          0.036155   \n",
      "159             tertiary granule membrane (GO:0070821)          0.043130   \n",
      "222                                NABA_ECM_AFFILIATED          0.024419   \n",
      "226                                  PID_HNF3A_PATHWAY          0.023884   \n",
      "237  REACTOME_DEFECTIVE_CSF2RB_CAUSES_PULMONARY_SUR...          0.003534   \n",
      "240  REACTOME_DISEASES_ASSOCIATED_WITH_SURFACTANT_M...          0.003534   \n",
      "252    REACTOME_REGULATION_OF_TLR_BY_ENDOGENOUS_LIGAND          0.006651   \n",
      "256  REACTOME_SIGNAL_REGULATORY_PROTEIN_FAMILY_INTE...          0.006243   \n",
      "257                     REACTOME_SURFACTANT_METABOLISM          0.013378   \n",
      "\n",
      "                       Gene_set  \n",
      "12   GO_Biological_Process_2018  \n",
      "13   GO_Biological_Process_2018  \n",
      "154  GO_Cellular_Component_2018  \n",
      "155  GO_Cellular_Component_2018  \n",
      "156  GO_Cellular_Component_2018  \n",
      "157  GO_Cellular_Component_2018  \n",
      "158  GO_Cellular_Component_2018  \n",
      "159  GO_Cellular_Component_2018  \n",
      "222       CUSTOM140471959285336  \n",
      "226       CUSTOM140471959285336  \n",
      "237       CUSTOM140471959285336  \n",
      "240       CUSTOM140471959285336  \n",
      "252       CUSTOM140471959285336  \n",
      "256       CUSTOM140471959285336  \n",
      "257       CUSTOM140471959285336  \n",
      "Topic 27\n"
     ]
    },
    {
     "name": "stderr",
     "output_type": "stream",
     "text": [
      "2020-01-16 17:40:31,625 Warning: No enrich terms using library GO_Molecular_Function_2018 when cutoff = 0.05\n",
      "2020-01-16 17:40:34,090 Warning: No enrich terms using library GO_Biological_Process_2018 when cutoff = 0.05\n"
     ]
    },
    {
     "name": "stdout",
     "output_type": "stream",
     "text": [
      "<class 'requests.exceptions.ConnectionError'> ('Connection aborted.', ConnectionResetError(104, 'Connection reset by peer')) <traceback object at 0x7fc229e5e0c8>\n",
      "                                                  Term  Adjusted P-value  \\\n",
      "12   chemical homeostasis within a tissue (GO:0048875)          0.017204   \n",
      "13                 surfactant homeostasis (GO:0043129)          0.008602   \n",
      "154                         lamellar body (GO:0042599)          0.010500   \n",
      "155           rough endoplasmic reticulum (GO:0005791)          0.018835   \n",
      "156                   multivesicular body (GO:0005771)          0.013483   \n",
      "157     clathrin-coated endocytic vesicle (GO:0045334)          0.030342   \n",
      "158       ficolin-1-rich granule membrane (GO:0101003)          0.036155   \n",
      "159             tertiary granule membrane (GO:0070821)          0.043130   \n",
      "222                                NABA_ECM_AFFILIATED          0.024419   \n",
      "226                                  PID_HNF3A_PATHWAY          0.023884   \n",
      "237  REACTOME_DEFECTIVE_CSF2RB_CAUSES_PULMONARY_SUR...          0.003534   \n",
      "240  REACTOME_DISEASES_ASSOCIATED_WITH_SURFACTANT_M...          0.003534   \n",
      "252    REACTOME_REGULATION_OF_TLR_BY_ENDOGENOUS_LIGAND          0.006651   \n",
      "256  REACTOME_SIGNAL_REGULATORY_PROTEIN_FAMILY_INTE...          0.006243   \n",
      "257                     REACTOME_SURFACTANT_METABOLISM          0.013378   \n",
      "\n",
      "                       Gene_set  \n",
      "12   GO_Biological_Process_2018  \n",
      "13   GO_Biological_Process_2018  \n",
      "154  GO_Cellular_Component_2018  \n",
      "155  GO_Cellular_Component_2018  \n",
      "156  GO_Cellular_Component_2018  \n",
      "157  GO_Cellular_Component_2018  \n",
      "158  GO_Cellular_Component_2018  \n",
      "159  GO_Cellular_Component_2018  \n",
      "222       CUSTOM140471959285336  \n",
      "226       CUSTOM140471959285336  \n",
      "237       CUSTOM140471959285336  \n",
      "240       CUSTOM140471959285336  \n",
      "252       CUSTOM140471959285336  \n",
      "256       CUSTOM140471959285336  \n",
      "257       CUSTOM140471959285336  \n",
      "Topic 28\n",
      "<class 'requests.exceptions.ConnectionError'> ('Connection aborted.', ConnectionResetError(104, 'Connection reset by peer')) <traceback object at 0x7fc22b1e8e48>\n",
      "                                                  Term  Adjusted P-value  \\\n",
      "12   chemical homeostasis within a tissue (GO:0048875)          0.017204   \n",
      "13                 surfactant homeostasis (GO:0043129)          0.008602   \n",
      "154                         lamellar body (GO:0042599)          0.010500   \n",
      "155           rough endoplasmic reticulum (GO:0005791)          0.018835   \n",
      "156                   multivesicular body (GO:0005771)          0.013483   \n",
      "157     clathrin-coated endocytic vesicle (GO:0045334)          0.030342   \n",
      "158       ficolin-1-rich granule membrane (GO:0101003)          0.036155   \n",
      "159             tertiary granule membrane (GO:0070821)          0.043130   \n",
      "222                                NABA_ECM_AFFILIATED          0.024419   \n",
      "226                                  PID_HNF3A_PATHWAY          0.023884   \n",
      "237  REACTOME_DEFECTIVE_CSF2RB_CAUSES_PULMONARY_SUR...          0.003534   \n",
      "240  REACTOME_DISEASES_ASSOCIATED_WITH_SURFACTANT_M...          0.003534   \n",
      "252    REACTOME_REGULATION_OF_TLR_BY_ENDOGENOUS_LIGAND          0.006651   \n",
      "256  REACTOME_SIGNAL_REGULATORY_PROTEIN_FAMILY_INTE...          0.006243   \n",
      "257                     REACTOME_SURFACTANT_METABOLISM          0.013378   \n",
      "\n",
      "                       Gene_set  \n",
      "12   GO_Biological_Process_2018  \n",
      "13   GO_Biological_Process_2018  \n",
      "154  GO_Cellular_Component_2018  \n",
      "155  GO_Cellular_Component_2018  \n",
      "156  GO_Cellular_Component_2018  \n",
      "157  GO_Cellular_Component_2018  \n",
      "158  GO_Cellular_Component_2018  \n",
      "159  GO_Cellular_Component_2018  \n",
      "222       CUSTOM140471959285336  \n",
      "226       CUSTOM140471959285336  \n",
      "237       CUSTOM140471959285336  \n",
      "240       CUSTOM140471959285336  \n",
      "252       CUSTOM140471959285336  \n",
      "256       CUSTOM140471959285336  \n",
      "257       CUSTOM140471959285336  \n",
      "Topic 29\n"
     ]
    },
    {
     "name": "stderr",
     "output_type": "stream",
     "text": [
      "2020-01-16 17:40:37,692 Warning: No enrich terms using library GO_Molecular_Function_2018 when cutoff = 0.05\n",
      "2020-01-16 17:40:40,224 Warning: No enrich terms using library GO_Biological_Process_2018 when cutoff = 0.05\n",
      "2020-01-16 17:40:45,378 Warning: No enrich terms using library Human_Phenotype_Ontology when cutoff = 0.05\n"
     ]
    },
    {
     "name": "stdout",
     "output_type": "stream",
     "text": [
      "                                             Term  Adjusted P-value  \\\n",
      "39                  keratin filament (GO:0045095)      1.253849e-02   \n",
      "78              Vitamin D Receptor Pathway WP2877      1.540933e-06   \n",
      "101                REACTOME_DEVELOPMENTAL_BIOLOGY      1.553598e-33   \n",
      "102  REACTOME_FORMATION_OF_THE_CORNIFIED_ENVELOPE      5.813698e-05   \n",
      "104                       REACTOME_KERATINIZATION      2.752822e-86   \n",
      "\n",
      "                       Gene_set  \n",
      "39   GO_Cellular_Component_2018  \n",
      "78      WikiPathways_2019_Human  \n",
      "101       CUSTOM140472027109128  \n",
      "102       CUSTOM140472027109128  \n",
      "104       CUSTOM140472027109128  \n",
      "Topic 30\n"
     ]
    },
    {
     "name": "stderr",
     "output_type": "stream",
     "text": [
      "2020-01-16 17:40:50,984 Warning: No enrich terms using library GO_Molecular_Function_2018 when cutoff = 0.05\n",
      "2020-01-16 17:40:53,454 Warning: No enrich terms using library GO_Biological_Process_2018 when cutoff = 0.05\n",
      "2020-01-16 17:40:55,918 Warning: No enrich terms using library GO_Cellular_Component_2018 when cutoff = 0.05\n",
      "2020-01-16 17:40:58,388 Warning: No enrich terms using library Human_Phenotype_Ontology when cutoff = 0.05\n",
      "2020-01-16 17:41:01,055 Warning: No enrich terms using library WikiPathways_2019_Human when cutoff = 0.05\n",
      "2020-01-16 17:41:01,064 Warning: No enrich terms using library CUSTOM140471922602776 when cutoff = 0.05\n",
      "2020-01-16 17:41:01,085 Warning: No enrich terms using library CUSTOM140471922605008 when cutoff = 0.05\n"
     ]
    },
    {
     "name": "stdout",
     "output_type": "stream",
     "text": [
      "Empty DataFrame\n",
      "Columns: [Term, Adjusted P-value, Gene_set]\n",
      "Index: []\n",
      "Topic 31\n"
     ]
    },
    {
     "name": "stderr",
     "output_type": "stream",
     "text": [
      "2020-01-16 17:41:04,143 Warning: No enrich terms using library GO_Molecular_Function_2018 when cutoff = 0.05\n",
      "2020-01-16 17:41:06,672 Warning: No enrich terms using library GO_Biological_Process_2018 when cutoff = 0.05\n",
      "2020-01-16 17:41:09,190 Warning: No enrich terms using library GO_Cellular_Component_2018 when cutoff = 0.05\n",
      "2020-01-16 17:41:11,689 Warning: No enrich terms using library Human_Phenotype_Ontology when cutoff = 0.05\n",
      "2020-01-16 17:41:14,204 Warning: No enrich terms using library WikiPathways_2019_Human when cutoff = 0.05\n",
      "2020-01-16 17:41:14,227 Warning: No enrich terms using library CUSTOM140471944064744 when cutoff = 0.05\n",
      "2020-01-16 17:41:14,251 Warning: No enrich terms using library CUSTOM140471874024576 when cutoff = 0.05\n"
     ]
    },
    {
     "name": "stdout",
     "output_type": "stream",
     "text": [
      "Empty DataFrame\n",
      "Columns: [Term, Adjusted P-value, Gene_set]\n",
      "Index: []\n",
      "Topic 32\n"
     ]
    },
    {
     "name": "stderr",
     "output_type": "stream",
     "text": [
      "2020-01-16 17:41:25,073 Warning: No enrich terms using library Human_Phenotype_Ontology when cutoff = 0.05\n"
     ]
    },
    {
     "name": "stdout",
     "output_type": "stream",
     "text": [
      "                                                 Term  Adjusted P-value  \\\n",
      "0        CXCR chemokine receptor binding (GO:0045236)          0.000096   \n",
      "1                     chemokine activity (GO:0008009)          0.001067   \n",
      "2             chemokine receptor binding (GO:0042379)          0.000863   \n",
      "3   oxidoreductase activity, acting on single dono...          0.016523   \n",
      "4                      cytokine activity (GO:0005125)          0.016567   \n",
      "19  positive regulation of neutrophil chemotaxis (...          0.001270   \n",
      "20  positive regulation of neutrophil migration (G...          0.000721   \n",
      "21  positive regulation of granulocyte chemotaxis ...          0.000544   \n",
      "22   regulation of neutrophil chemotaxis (GO:0090022)          0.000572   \n",
      "23    regulation of leukocyte chemotaxis (GO:0002688)          0.000509   \n",
      "24  positive regulation of leukocyte migration (GO...          0.000624   \n",
      "25     positive regulation of chemotaxis (GO:0050921)          0.001540   \n",
      "26  chemokine-mediated signaling pathway (GO:0070098)          0.001719   \n",
      "27  positive regulation of leukocyte chemotaxis (G...          0.002482   \n",
      "28                 inflammatory response (GO:0006954)          0.003866   \n",
      "29                granulocyte activation (GO:0036230)          0.004583   \n",
      "30   cytokine-mediated signaling pathway (GO:0019221)          0.005242   \n",
      "31  response to molecule of bacterial origin (GO:0...          0.007181   \n",
      "32                 neutrophil activation (GO:0042119)          0.009089   \n",
      "33                  lipoxygenase pathway (GO:0019372)          0.009785   \n",
      "\n",
      "                      Gene_set  \n",
      "0   GO_Molecular_Function_2018  \n",
      "1   GO_Molecular_Function_2018  \n",
      "2   GO_Molecular_Function_2018  \n",
      "3   GO_Molecular_Function_2018  \n",
      "4   GO_Molecular_Function_2018  \n",
      "19  GO_Biological_Process_2018  \n",
      "20  GO_Biological_Process_2018  \n",
      "21  GO_Biological_Process_2018  \n",
      "22  GO_Biological_Process_2018  \n",
      "23  GO_Biological_Process_2018  \n",
      "24  GO_Biological_Process_2018  \n",
      "25  GO_Biological_Process_2018  \n",
      "26  GO_Biological_Process_2018  \n",
      "27  GO_Biological_Process_2018  \n",
      "28  GO_Biological_Process_2018  \n",
      "29  GO_Biological_Process_2018  \n",
      "30  GO_Biological_Process_2018  \n",
      "31  GO_Biological_Process_2018  \n",
      "32  GO_Biological_Process_2018  \n",
      "33  GO_Biological_Process_2018  \n",
      "Topic 33\n"
     ]
    },
    {
     "name": "stderr",
     "output_type": "stream",
     "text": [
      "2020-01-16 17:41:30,929 Warning: No enrich terms using library GO_Molecular_Function_2018 when cutoff = 0.05\n",
      "2020-01-16 17:41:33,451 Warning: No enrich terms using library GO_Biological_Process_2018 when cutoff = 0.05\n",
      "2020-01-16 17:41:35,957 Warning: No enrich terms using library GO_Cellular_Component_2018 when cutoff = 0.05\n",
      "2020-01-16 17:41:38,463 Warning: No enrich terms using library Human_Phenotype_Ontology when cutoff = 0.05\n",
      "2020-01-16 17:41:40,981 Warning: No enrich terms using library WikiPathways_2019_Human when cutoff = 0.05\n",
      "2020-01-16 17:41:40,993 Warning: No enrich terms using library CUSTOM140472021760688 when cutoff = 0.05\n",
      "2020-01-16 17:41:41,014 Warning: No enrich terms using library CUSTOM140472021759176 when cutoff = 0.05\n"
     ]
    },
    {
     "name": "stdout",
     "output_type": "stream",
     "text": [
      "Empty DataFrame\n",
      "Columns: [Term, Adjusted P-value, Gene_set]\n",
      "Index: []\n",
      "Topic 34\n"
     ]
    },
    {
     "name": "stderr",
     "output_type": "stream",
     "text": [
      "2020-01-16 17:41:43,954 Warning: No enrich terms using library GO_Molecular_Function_2018 when cutoff = 0.05\n",
      "2020-01-16 17:41:46,473 Warning: No enrich terms using library GO_Biological_Process_2018 when cutoff = 0.05\n",
      "2020-01-16 17:41:49,187 Warning: No enrich terms using library GO_Cellular_Component_2018 when cutoff = 0.05\n",
      "2020-01-16 17:41:51,684 Warning: No enrich terms using library Human_Phenotype_Ontology when cutoff = 0.05\n",
      "2020-01-16 17:41:54,300 Warning: No enrich terms using library CUSTOM140472021798984 when cutoff = 0.05\n"
     ]
    },
    {
     "name": "stdout",
     "output_type": "stream",
     "text": [
      "                                          Term  Adjusted P-value  \\\n",
      "77     PTF1A related regulatory pathway WP4147          0.029805   \n",
      "82          KEGG_STARCH_AND_SUCROSE_METABOLISM          0.020978   \n",
      "91                          REACTOME_DIGESTION          0.003748   \n",
      "92           REACTOME_DIGESTION_AND_ABSORPTION          0.004536   \n",
      "93  REACTOME_DIGESTION_OF_DIETARY_CARBOHYDRATE          0.000731   \n",
      "\n",
      "                   Gene_set  \n",
      "77  WikiPathways_2019_Human  \n",
      "82    CUSTOM140472021800208  \n",
      "91    CUSTOM140472021800208  \n",
      "92    CUSTOM140472021800208  \n",
      "93    CUSTOM140472021800208  \n",
      "Topic 35\n",
      "<class 'requests.exceptions.ConnectionError'> ('Connection aborted.', ConnectionResetError(104, 'Connection reset by peer')) <traceback object at 0x7fc22d750988>\n",
      "                                          Term  Adjusted P-value  \\\n",
      "77     PTF1A related regulatory pathway WP4147          0.029805   \n",
      "82          KEGG_STARCH_AND_SUCROSE_METABOLISM          0.020978   \n",
      "91                          REACTOME_DIGESTION          0.003748   \n",
      "92           REACTOME_DIGESTION_AND_ABSORPTION          0.004536   \n",
      "93  REACTOME_DIGESTION_OF_DIETARY_CARBOHYDRATE          0.000731   \n",
      "\n",
      "                   Gene_set  \n",
      "77  WikiPathways_2019_Human  \n",
      "82    CUSTOM140472021800208  \n",
      "91    CUSTOM140472021800208  \n",
      "92    CUSTOM140472021800208  \n",
      "93    CUSTOM140472021800208  \n",
      "Topic 36\n",
      "<class 'requests.exceptions.ConnectionError'> ('Connection aborted.', ConnectionResetError(104, 'Connection reset by peer')) <traceback object at 0x7fc22b7e8b08>\n",
      "                                          Term  Adjusted P-value  \\\n",
      "77     PTF1A related regulatory pathway WP4147          0.029805   \n",
      "82          KEGG_STARCH_AND_SUCROSE_METABOLISM          0.020978   \n",
      "91                          REACTOME_DIGESTION          0.003748   \n",
      "92           REACTOME_DIGESTION_AND_ABSORPTION          0.004536   \n",
      "93  REACTOME_DIGESTION_OF_DIETARY_CARBOHYDRATE          0.000731   \n",
      "\n",
      "                   Gene_set  \n",
      "77  WikiPathways_2019_Human  \n",
      "82    CUSTOM140472021800208  \n",
      "91    CUSTOM140472021800208  \n",
      "92    CUSTOM140472021800208  \n",
      "93    CUSTOM140472021800208  \n",
      "Topic 37\n"
     ]
    },
    {
     "name": "stderr",
     "output_type": "stream",
     "text": [
      "2020-01-16 17:42:00,792 Warning: No enrich terms using library GO_Molecular_Function_2018 when cutoff = 0.05\n"
     ]
    },
    {
     "name": "stdout",
     "output_type": "stream",
     "text": [
      "<class 'requests.exceptions.ConnectionError'> ('Connection aborted.', ConnectionResetError(104, 'Connection reset by peer')) <traceback object at 0x7fc22929af48>\n",
      "                                          Term  Adjusted P-value  \\\n",
      "77     PTF1A related regulatory pathway WP4147          0.029805   \n",
      "82          KEGG_STARCH_AND_SUCROSE_METABOLISM          0.020978   \n",
      "91                          REACTOME_DIGESTION          0.003748   \n",
      "92           REACTOME_DIGESTION_AND_ABSORPTION          0.004536   \n",
      "93  REACTOME_DIGESTION_OF_DIETARY_CARBOHYDRATE          0.000731   \n",
      "\n",
      "                   Gene_set  \n",
      "77  WikiPathways_2019_Human  \n",
      "82    CUSTOM140472021800208  \n",
      "91    CUSTOM140472021800208  \n",
      "92    CUSTOM140472021800208  \n",
      "93    CUSTOM140472021800208  \n",
      "Topic 38\n",
      "<class 'requests.exceptions.ConnectionError'> ('Connection aborted.', ConnectionResetError(104, 'Connection reset by peer')) <traceback object at 0x7fc2292b2988>\n",
      "                                          Term  Adjusted P-value  \\\n",
      "77     PTF1A related regulatory pathway WP4147          0.029805   \n",
      "82          KEGG_STARCH_AND_SUCROSE_METABOLISM          0.020978   \n",
      "91                          REACTOME_DIGESTION          0.003748   \n",
      "92           REACTOME_DIGESTION_AND_ABSORPTION          0.004536   \n",
      "93  REACTOME_DIGESTION_OF_DIETARY_CARBOHYDRATE          0.000731   \n",
      "\n",
      "                   Gene_set  \n",
      "77  WikiPathways_2019_Human  \n",
      "82    CUSTOM140472021800208  \n",
      "91    CUSTOM140472021800208  \n",
      "92    CUSTOM140472021800208  \n",
      "93    CUSTOM140472021800208  \n",
      "Topic 39\n"
     ]
    },
    {
     "name": "stderr",
     "output_type": "stream",
     "text": [
      "2020-01-16 17:42:06,730 Warning: No enrich terms using library GO_Molecular_Function_2018 when cutoff = 0.05\n",
      "2020-01-16 17:42:09,218 Warning: No enrich terms using library GO_Biological_Process_2018 when cutoff = 0.05\n"
     ]
    },
    {
     "name": "stdout",
     "output_type": "stream",
     "text": [
      "<class 'requests.exceptions.ConnectionError'> ('Connection aborted.', ConnectionResetError(104, 'Connection reset by peer')) <traceback object at 0x7fc22a2aab48>\n",
      "                                          Term  Adjusted P-value  \\\n",
      "77     PTF1A related regulatory pathway WP4147          0.029805   \n",
      "82          KEGG_STARCH_AND_SUCROSE_METABOLISM          0.020978   \n",
      "91                          REACTOME_DIGESTION          0.003748   \n",
      "92           REACTOME_DIGESTION_AND_ABSORPTION          0.004536   \n",
      "93  REACTOME_DIGESTION_OF_DIETARY_CARBOHYDRATE          0.000731   \n",
      "\n",
      "                   Gene_set  \n",
      "77  WikiPathways_2019_Human  \n",
      "82    CUSTOM140472021800208  \n",
      "91    CUSTOM140472021800208  \n",
      "92    CUSTOM140472021800208  \n",
      "93    CUSTOM140472021800208  \n",
      "Topic 40\n"
     ]
    },
    {
     "name": "stderr",
     "output_type": "stream",
     "text": [
      "2020-01-16 17:42:12,309 Warning: No enrich terms using library GO_Molecular_Function_2018 when cutoff = 0.05\n",
      "2020-01-16 17:42:14,783 Warning: No enrich terms using library GO_Biological_Process_2018 when cutoff = 0.05\n",
      "2020-01-16 17:42:17,272 Warning: No enrich terms using library GO_Cellular_Component_2018 when cutoff = 0.05\n"
     ]
    },
    {
     "name": "stdout",
     "output_type": "stream",
     "text": [
      "<class 'requests.exceptions.ConnectionError'> ('Connection aborted.', ConnectionResetError(104, 'Connection reset by peer')) <traceback object at 0x7fc22cd88388>\n",
      "                                          Term  Adjusted P-value  \\\n",
      "77     PTF1A related regulatory pathway WP4147          0.029805   \n",
      "82          KEGG_STARCH_AND_SUCROSE_METABOLISM          0.020978   \n",
      "91                          REACTOME_DIGESTION          0.003748   \n",
      "92           REACTOME_DIGESTION_AND_ABSORPTION          0.004536   \n",
      "93  REACTOME_DIGESTION_OF_DIETARY_CARBOHYDRATE          0.000731   \n",
      "\n",
      "                   Gene_set  \n",
      "77  WikiPathways_2019_Human  \n",
      "82    CUSTOM140472021800208  \n",
      "91    CUSTOM140472021800208  \n",
      "92    CUSTOM140472021800208  \n",
      "93    CUSTOM140472021800208  \n",
      "Topic 41\n"
     ]
    },
    {
     "name": "stderr",
     "output_type": "stream",
     "text": [
      "2020-01-16 17:42:20,309 Warning: No enrich terms using library GO_Molecular_Function_2018 when cutoff = 0.05\n",
      "2020-01-16 17:42:22,778 Warning: No enrich terms using library GO_Biological_Process_2018 when cutoff = 0.05\n",
      "2020-01-16 17:42:25,250 Warning: No enrich terms using library GO_Cellular_Component_2018 when cutoff = 0.05\n",
      "2020-01-16 17:42:27,715 Warning: No enrich terms using library Human_Phenotype_Ontology when cutoff = 0.05\n",
      "2020-01-16 17:42:30,201 Warning: No enrich terms using library WikiPathways_2019_Human when cutoff = 0.05\n"
     ]
    },
    {
     "name": "stdout",
     "output_type": "stream",
     "text": [
      "Empty DataFrame\n",
      "Columns: [Term, Adjusted P-value, Gene_set]\n",
      "Index: []\n",
      "Topic 42\n"
     ]
    },
    {
     "name": "stderr",
     "output_type": "stream",
     "text": [
      "2020-01-16 17:42:33,078 Warning: No enrich terms using library GO_Molecular_Function_2018 when cutoff = 0.05\n",
      "2020-01-16 17:42:35,556 Warning: No enrich terms using library GO_Biological_Process_2018 when cutoff = 0.05\n",
      "2020-01-16 17:42:38,029 Warning: No enrich terms using library GO_Cellular_Component_2018 when cutoff = 0.05\n"
     ]
    },
    {
     "name": "stdout",
     "output_type": "stream",
     "text": [
      "<class 'requests.exceptions.ConnectionError'> ('Connection aborted.', ConnectionResetError(104, 'Connection reset by peer')) <traceback object at 0x7fc2292ab208>\n",
      "Empty DataFrame\n",
      "Columns: [Term, Adjusted P-value, Gene_set]\n",
      "Index: []\n",
      "Topic 43\n"
     ]
    },
    {
     "name": "stderr",
     "output_type": "stream",
     "text": [
      "2020-01-16 17:42:41,273 Warning: No enrich terms using library GO_Molecular_Function_2018 when cutoff = 0.05\n",
      "2020-01-16 17:42:43,862 Warning: No enrich terms using library GO_Biological_Process_2018 when cutoff = 0.05\n",
      "2020-01-16 17:42:46,372 Warning: No enrich terms using library GO_Cellular_Component_2018 when cutoff = 0.05\n",
      "2020-01-16 17:42:48,870 Warning: No enrich terms using library Human_Phenotype_Ontology when cutoff = 0.05\n",
      "2020-01-16 17:42:51,360 Warning: No enrich terms using library WikiPathways_2019_Human when cutoff = 0.05\n",
      "2020-01-16 17:42:51,369 Warning: No enrich terms using library CUSTOM140471919716392 when cutoff = 0.05\n",
      "2020-01-16 17:42:51,392 Warning: No enrich terms using library CUSTOM140471919715672 when cutoff = 0.05\n"
     ]
    },
    {
     "name": "stdout",
     "output_type": "stream",
     "text": [
      "Empty DataFrame\n",
      "Columns: [Term, Adjusted P-value, Gene_set]\n",
      "Index: []\n",
      "Topic 44\n"
     ]
    },
    {
     "name": "stderr",
     "output_type": "stream",
     "text": [
      "2020-01-16 17:42:54,248 Warning: No enrich terms using library GO_Molecular_Function_2018 when cutoff = 0.05\n",
      "2020-01-16 17:42:56,729 Warning: No enrich terms using library GO_Biological_Process_2018 when cutoff = 0.05\n",
      "2020-01-16 17:42:59,260 Warning: No enrich terms using library GO_Cellular_Component_2018 when cutoff = 0.05\n",
      "2020-01-16 17:43:01,734 Warning: No enrich terms using library Human_Phenotype_Ontology when cutoff = 0.05\n",
      "2020-01-16 17:43:04,206 Warning: No enrich terms using library WikiPathways_2019_Human when cutoff = 0.05\n",
      "2020-01-16 17:43:04,224 Warning: No enrich terms using library CUSTOM140472021451400 when cutoff = 0.05\n"
     ]
    },
    {
     "name": "stdout",
     "output_type": "stream",
     "text": [
      "Empty DataFrame\n",
      "Columns: [Term, Adjusted P-value, Gene_set]\n",
      "Index: []\n",
      "Topic 45\n"
     ]
    },
    {
     "name": "stderr",
     "output_type": "stream",
     "text": [
      "2020-01-16 17:43:07,327 Warning: No enrich terms using library GO_Molecular_Function_2018 when cutoff = 0.05\n",
      "2020-01-16 17:43:09,942 Warning: No enrich terms using library GO_Biological_Process_2018 when cutoff = 0.05\n",
      "2020-01-16 17:43:12,482 Warning: No enrich terms using library GO_Cellular_Component_2018 when cutoff = 0.05\n",
      "2020-01-16 17:43:14,997 Warning: No enrich terms using library Human_Phenotype_Ontology when cutoff = 0.05\n",
      "2020-01-16 17:43:17,536 Warning: No enrich terms using library WikiPathways_2019_Human when cutoff = 0.05\n",
      "2020-01-16 17:43:17,557 Warning: No enrich terms using library CUSTOM140471908239256 when cutoff = 0.05\n",
      "2020-01-16 17:43:17,585 Warning: No enrich terms using library CUSTOM140471908237960 when cutoff = 0.05\n"
     ]
    },
    {
     "name": "stdout",
     "output_type": "stream",
     "text": [
      "Empty DataFrame\n",
      "Columns: [Term, Adjusted P-value, Gene_set]\n",
      "Index: []\n",
      "Topic 46\n",
      "<class 'requests.exceptions.ConnectionError'> ('Connection aborted.', ConnectionResetError(104, 'Connection reset by peer')) <traceback object at 0x7fc2292a5ac8>\n",
      "Empty DataFrame\n",
      "Columns: [Term, Adjusted P-value, Gene_set]\n",
      "Index: []\n",
      "Topic 47\n"
     ]
    },
    {
     "name": "stderr",
     "output_type": "stream",
     "text": [
      "2020-01-16 17:43:20,658 Warning: No enrich terms using library GO_Molecular_Function_2018 when cutoff = 0.05\n",
      "2020-01-16 17:43:23,158 Warning: No enrich terms using library GO_Biological_Process_2018 when cutoff = 0.05\n",
      "2020-01-16 17:43:25,636 Warning: No enrich terms using library GO_Cellular_Component_2018 when cutoff = 0.05\n",
      "2020-01-16 17:43:28,106 Warning: No enrich terms using library Human_Phenotype_Ontology when cutoff = 0.05\n",
      "2020-01-16 17:43:30,582 Warning: No enrich terms using library WikiPathways_2019_Human when cutoff = 0.05\n"
     ]
    },
    {
     "name": "stdout",
     "output_type": "stream",
     "text": [
      "Empty DataFrame\n",
      "Columns: [Term, Adjusted P-value, Gene_set]\n",
      "Index: []\n",
      "Topic 48\n"
     ]
    },
    {
     "name": "stderr",
     "output_type": "stream",
     "text": [
      "2020-01-16 17:43:33,454 Warning: No enrich terms using library GO_Molecular_Function_2018 when cutoff = 0.05\n",
      "2020-01-16 17:43:41,329 Warning: No enrich terms using library Human_Phenotype_Ontology when cutoff = 0.05\n"
     ]
    },
    {
     "name": "stdout",
     "output_type": "stream",
     "text": [
      "                                                  Term  Adjusted P-value  \\\n",
      "17               neutrophil degranulation (GO:0043312)          0.000074   \n",
      "18   neutrophil activation involved in immune respo...          0.000039   \n",
      "19           neutrophil mediated immunity (GO:0002446)          0.000027   \n",
      "20   negative regulation of synapse organization (G...          0.004817   \n",
      "230  integral component of plasma membrane (GO:0005...          0.004686   \n",
      "253                     Human Complement System WP2806          0.004293   \n",
      "278                     HALLMARK_INFLAMMATORY_RESPONSE          0.004316   \n",
      "323                  REACTOME_NEUTROPHIL_DEGRANULATION          0.006451   \n",
      "\n",
      "                       Gene_set  \n",
      "17   GO_Biological_Process_2018  \n",
      "18   GO_Biological_Process_2018  \n",
      "19   GO_Biological_Process_2018  \n",
      "20   GO_Biological_Process_2018  \n",
      "230  GO_Cellular_Component_2018  \n",
      "253     WikiPathways_2019_Human  \n",
      "278       CUSTOM140471919738528  \n",
      "323       CUSTOM140471919735144  \n",
      "Topic 49\n"
     ]
    },
    {
     "name": "stderr",
     "output_type": "stream",
     "text": [
      "2020-01-16 17:43:47,217 Warning: No enrich terms using library GO_Molecular_Function_2018 when cutoff = 0.05\n",
      "2020-01-16 17:43:49,843 Warning: No enrich terms using library GO_Biological_Process_2018 when cutoff = 0.05\n",
      "2020-01-16 17:43:52,350 Warning: No enrich terms using library GO_Cellular_Component_2018 when cutoff = 0.05\n",
      "2020-01-16 17:43:54,860 Warning: No enrich terms using library Human_Phenotype_Ontology when cutoff = 0.05\n",
      "2020-01-16 17:43:57,362 Warning: No enrich terms using library WikiPathways_2019_Human when cutoff = 0.05\n",
      "2020-01-16 17:43:57,374 Warning: No enrich terms using library CUSTOM140471898467568 when cutoff = 0.05\n",
      "2020-01-16 17:43:57,411 Warning: No enrich terms using library CUSTOM140471898465408 when cutoff = 0.05\n"
     ]
    },
    {
     "name": "stdout",
     "output_type": "stream",
     "text": [
      "Empty DataFrame\n",
      "Columns: [Term, Adjusted P-value, Gene_set]\n",
      "Index: []\n",
      "Topic 50\n"
     ]
    },
    {
     "name": "stderr",
     "output_type": "stream",
     "text": [
      "2020-01-16 17:44:00,255 Warning: No enrich terms using library GO_Molecular_Function_2018 when cutoff = 0.05\n",
      "2020-01-16 17:44:02,741 Warning: No enrich terms using library GO_Biological_Process_2018 when cutoff = 0.05\n",
      "2020-01-16 17:44:05,228 Warning: No enrich terms using library GO_Cellular_Component_2018 when cutoff = 0.05\n",
      "2020-01-16 17:44:07,692 Warning: No enrich terms using library Human_Phenotype_Ontology when cutoff = 0.05\n",
      "2020-01-16 17:44:10,167 Warning: No enrich terms using library WikiPathways_2019_Human when cutoff = 0.05\n"
     ]
    },
    {
     "name": "stdout",
     "output_type": "stream",
     "text": [
      "                  Term  Adjusted P-value               Gene_set\n",
      "2  HALLMARK_COMPLEMENT              0.04  CUSTOM140471900642256\n",
      "Topic 51\n"
     ]
    },
    {
     "name": "stderr",
     "output_type": "stream",
     "text": [
      "2020-01-16 17:44:13,137 Warning: No enrich terms using library GO_Molecular_Function_2018 when cutoff = 0.05\n",
      "2020-01-16 17:44:15,611 Warning: No enrich terms using library GO_Biological_Process_2018 when cutoff = 0.05\n",
      "2020-01-16 17:44:18,079 Warning: No enrich terms using library GO_Cellular_Component_2018 when cutoff = 0.05\n",
      "2020-01-16 17:44:20,571 Warning: No enrich terms using library Human_Phenotype_Ontology when cutoff = 0.05\n",
      "2020-01-16 17:44:23,042 Warning: No enrich terms using library WikiPathways_2019_Human when cutoff = 0.05\n",
      "2020-01-16 17:44:23,068 Warning: No enrich terms using library CUSTOM140471954022264 when cutoff = 0.05\n"
     ]
    },
    {
     "name": "stdout",
     "output_type": "stream",
     "text": [
      "Empty DataFrame\n",
      "Columns: [Term, Adjusted P-value, Gene_set]\n",
      "Index: []\n",
      "Topic 52\n"
     ]
    },
    {
     "name": "stderr",
     "output_type": "stream",
     "text": [
      "2020-01-16 17:44:25,957 Warning: No enrich terms using library GO_Molecular_Function_2018 when cutoff = 0.05\n",
      "2020-01-16 17:44:33,839 Warning: No enrich terms using library Human_Phenotype_Ontology when cutoff = 0.05\n",
      "2020-01-16 17:44:36,328 Warning: No enrich terms using library WikiPathways_2019_Human when cutoff = 0.05\n"
     ]
    },
    {
     "name": "stdout",
     "output_type": "stream",
     "text": [
      "                                                 Term  Adjusted P-value  \\\n",
      "12  membrane disruption in other organism (GO:0051...          0.041257   \n",
      "48                           Golgi lumen (GO:0005796)          0.005955   \n",
      "63                           REACTOME_ALPHA_DEFENSINS          0.003213   \n",
      "68                                 REACTOME_DEFENSINS          0.045263   \n",
      "\n",
      "                      Gene_set  \n",
      "12  GO_Biological_Process_2018  \n",
      "48  GO_Cellular_Component_2018  \n",
      "63       CUSTOM140471922536664  \n",
      "68       CUSTOM140471922536664  \n",
      "Topic 53\n"
     ]
    },
    {
     "name": "stderr",
     "output_type": "stream",
     "text": [
      "2020-01-16 17:44:39,299 Warning: No enrich terms using library GO_Molecular_Function_2018 when cutoff = 0.05\n",
      "2020-01-16 17:44:41,772 Warning: No enrich terms using library GO_Biological_Process_2018 when cutoff = 0.05\n",
      "2020-01-16 17:44:44,243 Warning: No enrich terms using library GO_Cellular_Component_2018 when cutoff = 0.05\n",
      "2020-01-16 17:44:46,722 Warning: No enrich terms using library Human_Phenotype_Ontology when cutoff = 0.05\n",
      "2020-01-16 17:44:49,191 Warning: No enrich terms using library WikiPathways_2019_Human when cutoff = 0.05\n",
      "2020-01-16 17:44:49,200 Warning: No enrich terms using library CUSTOM140471884720312 when cutoff = 0.05\n",
      "2020-01-16 17:44:49,229 Warning: No enrich terms using library CUSTOM140471884719160 when cutoff = 0.05\n"
     ]
    },
    {
     "name": "stdout",
     "output_type": "stream",
     "text": [
      "Empty DataFrame\n",
      "Columns: [Term, Adjusted P-value, Gene_set]\n",
      "Index: []\n",
      "Topic 54\n",
      "<class 'requests.exceptions.ConnectionError'> ('Connection aborted.', ConnectionResetError(104, 'Connection reset by peer')) <traceback object at 0x7fc22b9b7708>\n",
      "Empty DataFrame\n",
      "Columns: [Term, Adjusted P-value, Gene_set]\n",
      "Index: []\n",
      "Topic 55\n"
     ]
    },
    {
     "name": "stderr",
     "output_type": "stream",
     "text": [
      "2020-01-16 17:45:00,725 Warning: No enrich terms using library GO_Molecular_Function_2018 when cutoff = 0.05\n",
      "2020-01-16 17:45:03,206 Warning: No enrich terms using library GO_Biological_Process_2018 when cutoff = 0.05\n",
      "2020-01-16 17:45:05,688 Warning: No enrich terms using library GO_Cellular_Component_2018 when cutoff = 0.05\n",
      "2020-01-16 17:45:08,184 Warning: No enrich terms using library Human_Phenotype_Ontology when cutoff = 0.05\n",
      "2020-01-16 17:45:10,700 Warning: No enrich terms using library WikiPathways_2019_Human when cutoff = 0.05\n",
      "2020-01-16 17:45:10,726 Warning: No enrich terms using library CUSTOM140472023854752 when cutoff = 0.05\n",
      "2020-01-16 17:45:10,752 Warning: No enrich terms using library CUSTOM140472023855040 when cutoff = 0.05\n"
     ]
    },
    {
     "name": "stdout",
     "output_type": "stream",
     "text": [
      "Empty DataFrame\n",
      "Columns: [Term, Adjusted P-value, Gene_set]\n",
      "Index: []\n",
      "Topic 56\n"
     ]
    },
    {
     "name": "stderr",
     "output_type": "stream",
     "text": [
      "2020-01-16 17:45:16,540 Warning: No enrich terms using library GO_Biological_Process_2018 when cutoff = 0.05\n",
      "2020-01-16 17:45:19,024 Warning: No enrich terms using library GO_Cellular_Component_2018 when cutoff = 0.05\n",
      "2020-01-16 17:45:21,838 Warning: No enrich terms using library Human_Phenotype_Ontology when cutoff = 0.05\n",
      "2020-01-16 17:45:24,319 Warning: No enrich terms using library WikiPathways_2019_Human when cutoff = 0.05\n",
      "2020-01-16 17:45:24,443 Warning: No enrich terms using library CUSTOM140472022228352 when cutoff = 0.05\n"
     ]
    },
    {
     "name": "stdout",
     "output_type": "stream",
     "text": [
      "                                                  Term  Adjusted P-value  \\\n",
      "0    oxidoreductase activity, acting on paired dono...          0.000066   \n",
      "1      ketosteroid monooxygenase activity (GO:0047086)          0.007364   \n",
      "2    alditol:NADP+ 1-oxidoreductase activity (GO:00...          0.021528   \n",
      "3        endopeptidase inhibitor activity (GO:0004866)          0.043480   \n",
      "4    alcohol dehydrogenase (NADP+) activity (GO:000...          0.037017   \n",
      "5     aldo-keto reductase (NADP) activity (GO:0004033)          0.030847   \n",
      "291                               HALLMARK_COAGULATION          0.023048   \n",
      "\n",
      "                       Gene_set  \n",
      "0    GO_Molecular_Function_2018  \n",
      "1    GO_Molecular_Function_2018  \n",
      "2    GO_Molecular_Function_2018  \n",
      "3    GO_Molecular_Function_2018  \n",
      "4    GO_Molecular_Function_2018  \n",
      "5    GO_Molecular_Function_2018  \n",
      "291       CUSTOM140472022227992  \n",
      "Topic 57\n"
     ]
    },
    {
     "name": "stderr",
     "output_type": "stream",
     "text": [
      "2020-01-16 17:45:27,365 Warning: No enrich terms using library GO_Molecular_Function_2018 when cutoff = 0.05\n",
      "2020-01-16 17:45:29,927 Warning: No enrich terms using library GO_Biological_Process_2018 when cutoff = 0.05\n",
      "2020-01-16 17:45:32,584 Warning: No enrich terms using library GO_Cellular_Component_2018 when cutoff = 0.05\n",
      "2020-01-16 17:45:35,079 Warning: No enrich terms using library Human_Phenotype_Ontology when cutoff = 0.05\n",
      "2020-01-16 17:45:37,560 Warning: No enrich terms using library WikiPathways_2019_Human when cutoff = 0.05\n",
      "2020-01-16 17:45:37,576 Warning: No enrich terms using library CUSTOM140471954581976 when cutoff = 0.05\n"
     ]
    },
    {
     "name": "stdout",
     "output_type": "stream",
     "text": [
      "Empty DataFrame\n",
      "Columns: [Term, Adjusted P-value, Gene_set]\n",
      "Index: []\n",
      "Topic 58\n"
     ]
    },
    {
     "name": "stderr",
     "output_type": "stream",
     "text": [
      "2020-01-16 17:45:40,426 Warning: No enrich terms using library GO_Molecular_Function_2018 when cutoff = 0.05\n",
      "2020-01-16 17:45:42,900 Warning: No enrich terms using library GO_Biological_Process_2018 when cutoff = 0.05\n",
      "2020-01-16 17:45:45,394 Warning: No enrich terms using library GO_Cellular_Component_2018 when cutoff = 0.05\n",
      "2020-01-16 17:45:47,879 Warning: No enrich terms using library Human_Phenotype_Ontology when cutoff = 0.05\n",
      "2020-01-16 17:45:50,375 Warning: No enrich terms using library WikiPathways_2019_Human when cutoff = 0.05\n"
     ]
    },
    {
     "name": "stdout",
     "output_type": "stream",
     "text": [
      "                                            Term  Adjusted P-value  \\\n",
      "4                  HALLMARK_BILE_ACID_METABOLISM          0.044303   \n",
      "5                            HALLMARK_PEROXISOME          0.044303   \n",
      "6  REACTOME_METABOLISM_OF_AMINE_DERIVED_HORMONES          0.010782   \n",
      "8                REACTOME_THYROXINE_BIOSYNTHESIS          0.010782   \n",
      "\n",
      "                Gene_set  \n",
      "4  CUSTOM140472022588872  \n",
      "5  CUSTOM140472022588872  \n",
      "6  CUSTOM140472022586712  \n",
      "8  CUSTOM140472022586712  \n",
      "Topic 59\n",
      "<class 'requests.exceptions.ConnectionError'> ('Connection aborted.', ConnectionResetError(104, 'Connection reset by peer')) <traceback object at 0x7fc22cc6e248>\n",
      "                                            Term  Adjusted P-value  \\\n",
      "4                  HALLMARK_BILE_ACID_METABOLISM          0.044303   \n",
      "5                            HALLMARK_PEROXISOME          0.044303   \n",
      "6  REACTOME_METABOLISM_OF_AMINE_DERIVED_HORMONES          0.010782   \n",
      "8                REACTOME_THYROXINE_BIOSYNTHESIS          0.010782   \n",
      "\n",
      "                Gene_set  \n",
      "4  CUSTOM140472022588872  \n",
      "5  CUSTOM140472022588872  \n",
      "6  CUSTOM140472022586712  \n",
      "8  CUSTOM140472022586712  \n",
      "Topic 60\n"
     ]
    },
    {
     "name": "stderr",
     "output_type": "stream",
     "text": [
      "2020-01-16 17:45:53,743 Warning: No enrich terms using library GO_Molecular_Function_2018 when cutoff = 0.05\n",
      "2020-01-16 17:45:56,236 Warning: No enrich terms using library GO_Biological_Process_2018 when cutoff = 0.05\n",
      "2020-01-16 17:45:58,720 Warning: No enrich terms using library GO_Cellular_Component_2018 when cutoff = 0.05\n",
      "2020-01-16 17:46:01,198 Warning: No enrich terms using library Human_Phenotype_Ontology when cutoff = 0.05\n",
      "2020-01-16 17:46:03,711 Warning: No enrich terms using library WikiPathways_2019_Human when cutoff = 0.05\n",
      "2020-01-16 17:46:03,719 Warning: No enrich terms using library CUSTOM140471929748000 when cutoff = 0.05\n"
     ]
    },
    {
     "name": "stdout",
     "output_type": "stream",
     "text": [
      "                                            Term  Adjusted P-value  \\\n",
      "85                            REACTOME_DIGESTION          0.032382   \n",
      "86             REACTOME_DIGESTION_AND_ABSORPTION          0.032382   \n",
      "87    REACTOME_DIGESTION_OF_DIETARY_CARBOHYDRATE          0.014558   \n",
      "89  REACTOME_DISEASES_OF_CARBOHYDRATE_METABOLISM          0.035672   \n",
      "\n",
      "                 Gene_set  \n",
      "85  CUSTOM140471929746488  \n",
      "86  CUSTOM140471929746488  \n",
      "87  CUSTOM140471929746488  \n",
      "89  CUSTOM140471929746488  \n",
      "Topic 61\n"
     ]
    },
    {
     "name": "stderr",
     "output_type": "stream",
     "text": [
      "2020-01-16 17:46:06,686 Warning: No enrich terms using library GO_Molecular_Function_2018 when cutoff = 0.05\n",
      "2020-01-16 17:46:09,170 Warning: No enrich terms using library GO_Biological_Process_2018 when cutoff = 0.05\n",
      "2020-01-16 17:46:11,644 Warning: No enrich terms using library GO_Cellular_Component_2018 when cutoff = 0.05\n",
      "2020-01-16 17:46:14,111 Warning: No enrich terms using library Human_Phenotype_Ontology when cutoff = 0.05\n",
      "2020-01-16 17:46:16,577 Warning: No enrich terms using library WikiPathways_2019_Human when cutoff = 0.05\n",
      "2020-01-16 17:46:16,593 Warning: No enrich terms using library CUSTOM140471919717544 when cutoff = 0.05\n"
     ]
    },
    {
     "name": "stdout",
     "output_type": "stream",
     "text": [
      "Empty DataFrame\n",
      "Columns: [Term, Adjusted P-value, Gene_set]\n",
      "Index: []\n",
      "Topic 62\n"
     ]
    },
    {
     "name": "stderr",
     "output_type": "stream",
     "text": [
      "2020-01-16 17:46:19,482 Warning: No enrich terms using library GO_Molecular_Function_2018 when cutoff = 0.05\n",
      "2020-01-16 17:46:22,000 Warning: No enrich terms using library GO_Biological_Process_2018 when cutoff = 0.05\n",
      "2020-01-16 17:46:24,490 Warning: No enrich terms using library GO_Cellular_Component_2018 when cutoff = 0.05\n",
      "2020-01-16 17:46:29,538 Warning: No enrich terms using library WikiPathways_2019_Human when cutoff = 0.05\n",
      "2020-01-16 17:46:29,548 Warning: No enrich terms using library CUSTOM140472034781368 when cutoff = 0.05\n"
     ]
    },
    {
     "name": "stdout",
     "output_type": "stream",
     "text": [
      "                                                  Term  Adjusted P-value  \\\n",
      "124                Deep venous thrombosis (HP:0002625)          0.008953   \n",
      "186           KEGG_COMPLEMENT_AND_COAGULATION_CASCADES          0.015533   \n",
      "201                                  PID_HNF3B_PATHWAY          0.035612   \n",
      "209   REACTOME_COMMON_PATHWAY_OF_FIBRIN_CLOT_FORMATION          0.016980   \n",
      "212  REACTOME_FORMATION_OF_FIBRIN_CLOT_CLOTTING_CAS...          0.032166   \n",
      "225  REACTOME_INTRINSIC_PATHWAY_OF_FIBRIN_CLOT_FORM...          0.016980   \n",
      "239  REACTOME_REGULATION_OF_INSULIN_LIKE_GROWTH_FAC...          0.021864   \n",
      "\n",
      "                     Gene_set  \n",
      "124  Human_Phenotype_Ontology  \n",
      "186     CUSTOM140472034781080  \n",
      "201     CUSTOM140472034781080  \n",
      "209     CUSTOM140472034781080  \n",
      "212     CUSTOM140472034781080  \n",
      "225     CUSTOM140472034781080  \n",
      "239     CUSTOM140472034781080  \n",
      "Topic 63\n"
     ]
    },
    {
     "name": "stderr",
     "output_type": "stream",
     "text": [
      "2020-01-16 17:46:32,540 Warning: No enrich terms using library GO_Molecular_Function_2018 when cutoff = 0.05\n",
      "2020-01-16 17:46:35,022 Warning: No enrich terms using library GO_Biological_Process_2018 when cutoff = 0.05\n",
      "2020-01-16 17:46:37,705 Warning: No enrich terms using library GO_Cellular_Component_2018 when cutoff = 0.05\n",
      "2020-01-16 17:46:40,177 Warning: No enrich terms using library Human_Phenotype_Ontology when cutoff = 0.05\n",
      "2020-01-16 17:46:42,759 Warning: No enrich terms using library WikiPathways_2019_Human when cutoff = 0.05\n"
     ]
    },
    {
     "name": "stdout",
     "output_type": "stream",
     "text": [
      "                                                  Term  Adjusted P-value  \\\n",
      "119                               HALLMARK_COAGULATION          0.014321   \n",
      "120                     HALLMARK_XENOBIOTIC_METABOLISM          0.014698   \n",
      "123                         BIOCARTA_INTRINSIC_PATHWAY          0.003011   \n",
      "125           KEGG_COMPLEMENT_AND_COAGULATION_CASCADES          0.013705   \n",
      "138  REACTOME_FORMATION_OF_FIBRIN_CLOT_CLOTTING_CAS...          0.005842   \n",
      "142  REACTOME_INTRINSIC_PATHWAY_OF_FIBRIN_CLOT_FORM...          0.003011   \n",
      "\n",
      "                  Gene_set  \n",
      "119  CUSTOM140471915262096  \n",
      "120  CUSTOM140471915262096  \n",
      "123  CUSTOM140471915262168  \n",
      "125  CUSTOM140471915262168  \n",
      "138  CUSTOM140471915262168  \n",
      "142  CUSTOM140471915262168  \n",
      "Topic 64\n"
     ]
    },
    {
     "name": "stderr",
     "output_type": "stream",
     "text": [
      "2020-01-16 17:46:46,037 Warning: No enrich terms using library GO_Molecular_Function_2018 when cutoff = 0.05\n",
      "2020-01-16 17:46:48,535 Warning: No enrich terms using library GO_Biological_Process_2018 when cutoff = 0.05\n",
      "2020-01-16 17:46:51,018 Warning: No enrich terms using library GO_Cellular_Component_2018 when cutoff = 0.05\n",
      "2020-01-16 17:46:53,615 Warning: No enrich terms using library Human_Phenotype_Ontology when cutoff = 0.05\n",
      "2020-01-16 17:46:56,086 Warning: No enrich terms using library WikiPathways_2019_Human when cutoff = 0.05\n"
     ]
    },
    {
     "name": "stdout",
     "output_type": "stream",
     "text": [
      "Empty DataFrame\n",
      "Columns: [Term, Adjusted P-value, Gene_set]\n",
      "Index: []\n",
      "Topic 65\n"
     ]
    },
    {
     "name": "stderr",
     "output_type": "stream",
     "text": [
      "2020-01-16 17:46:58,956 Warning: No enrich terms using library GO_Molecular_Function_2018 when cutoff = 0.05\n",
      "2020-01-16 17:47:01,438 Warning: No enrich terms using library GO_Biological_Process_2018 when cutoff = 0.05\n",
      "2020-01-16 17:47:03,926 Warning: No enrich terms using library GO_Cellular_Component_2018 when cutoff = 0.05\n",
      "2020-01-16 17:47:06,432 Warning: No enrich terms using library Human_Phenotype_Ontology when cutoff = 0.05\n",
      "2020-01-16 17:47:08,901 Warning: No enrich terms using library WikiPathways_2019_Human when cutoff = 0.05\n",
      "2020-01-16 17:47:08,909 Warning: No enrich terms using library CUSTOM140471918854080 when cutoff = 0.05\n",
      "2020-01-16 17:47:08,932 Warning: No enrich terms using library CUSTOM140471918853936 when cutoff = 0.05\n"
     ]
    },
    {
     "name": "stdout",
     "output_type": "stream",
     "text": [
      "Empty DataFrame\n",
      "Columns: [Term, Adjusted P-value, Gene_set]\n",
      "Index: []\n",
      "Topic 66\n"
     ]
    },
    {
     "name": "stderr",
     "output_type": "stream",
     "text": [
      "2020-01-16 17:47:11,745 Warning: No enrich terms using library GO_Molecular_Function_2018 when cutoff = 0.05\n",
      "2020-01-16 17:47:14,223 Warning: No enrich terms using library GO_Biological_Process_2018 when cutoff = 0.05\n"
     ]
    },
    {
     "name": "stdout",
     "output_type": "stream",
     "text": [
      "<class 'requests.exceptions.ConnectionError'> ('Connection aborted.', ConnectionResetError(104, 'Connection reset by peer')) <traceback object at 0x7fc228588888>\n",
      "Empty DataFrame\n",
      "Columns: [Term, Adjusted P-value, Gene_set]\n",
      "Index: []\n",
      "Topic 67\n"
     ]
    },
    {
     "name": "stderr",
     "output_type": "stream",
     "text": [
      "2020-01-16 17:47:17,346 Warning: No enrich terms using library GO_Molecular_Function_2018 when cutoff = 0.05\n",
      "2020-01-16 17:47:19,844 Warning: No enrich terms using library GO_Biological_Process_2018 when cutoff = 0.05\n",
      "2020-01-16 17:47:22,351 Warning: No enrich terms using library GO_Cellular_Component_2018 when cutoff = 0.05\n",
      "2020-01-16 17:47:24,984 Warning: No enrich terms using library Human_Phenotype_Ontology when cutoff = 0.05\n",
      "2020-01-16 17:47:27,488 Warning: No enrich terms using library WikiPathways_2019_Human when cutoff = 0.05\n",
      "2020-01-16 17:47:27,501 Warning: No enrich terms using library CUSTOM140471891376240 when cutoff = 0.05\n"
     ]
    },
    {
     "name": "stdout",
     "output_type": "stream",
     "text": [
      "                               Term  Adjusted P-value               Gene_set\n",
      "86  REACTOME_ANTIMICROBIAL_PEPTIDES          0.024866  CUSTOM140471891375808\n",
      "Topic 68\n"
     ]
    },
    {
     "name": "stderr",
     "output_type": "stream",
     "text": [
      "2020-01-16 17:47:30,547 Warning: No enrich terms using library GO_Molecular_Function_2018 when cutoff = 0.05\n",
      "2020-01-16 17:47:33,132 Warning: No enrich terms using library GO_Biological_Process_2018 when cutoff = 0.05\n",
      "2020-01-16 17:47:35,634 Warning: No enrich terms using library GO_Cellular_Component_2018 when cutoff = 0.05\n",
      "2020-01-16 17:47:38,098 Warning: No enrich terms using library Human_Phenotype_Ontology when cutoff = 0.05\n",
      "2020-01-16 17:47:40,608 Warning: No enrich terms using library WikiPathways_2019_Human when cutoff = 0.05\n",
      "2020-01-16 17:47:40,616 Warning: No enrich terms using library CUSTOM140471897759960 when cutoff = 0.05\n",
      "2020-01-16 17:47:40,636 Warning: No enrich terms using library CUSTOM140471920173776 when cutoff = 0.05\n"
     ]
    },
    {
     "name": "stdout",
     "output_type": "stream",
     "text": [
      "Empty DataFrame\n",
      "Columns: [Term, Adjusted P-value, Gene_set]\n",
      "Index: []\n",
      "Topic 69\n"
     ]
    },
    {
     "name": "stderr",
     "output_type": "stream",
     "text": [
      "2020-01-16 17:47:43,584 Warning: No enrich terms using library GO_Molecular_Function_2018 when cutoff = 0.05\n",
      "2020-01-16 17:47:46,262 Warning: No enrich terms using library GO_Biological_Process_2018 when cutoff = 0.05\n",
      "2020-01-16 17:47:48,738 Warning: No enrich terms using library GO_Cellular_Component_2018 when cutoff = 0.05\n",
      "2020-01-16 17:47:53,817 Warning: No enrich terms using library WikiPathways_2019_Human when cutoff = 0.05\n",
      "2020-01-16 17:47:53,829 Warning: No enrich terms using library CUSTOM140471926345160 when cutoff = 0.05\n",
      "2020-01-16 17:47:53,852 Warning: No enrich terms using library CUSTOM140471926343216 when cutoff = 0.05\n"
     ]
    },
    {
     "name": "stdout",
     "output_type": "stream",
     "text": [
      "                                                 Term  Adjusted P-value  \\\n",
      "41         Gastrointestinal stroma tumor (HP:0100723)          0.000021   \n",
      "42                             Emphysema (HP:0002097)          0.000094   \n",
      "43                           Lymphopenia (HP:0001888)          0.000093   \n",
      "44  Abnormality of cells of the lymphoid lineage (...          0.000106   \n",
      "45              Restrictive lung disease (HP:0002091)          0.000092   \n",
      "46                            Vasculitis (HP:0002633)          0.000117   \n",
      "47                            Leukopenia (HP:0001882)          0.000164   \n",
      "48                              Lymphoma (HP:0002665)          0.000316   \n",
      "49                            Arthralgia (HP:0002829)          0.001043   \n",
      "50        Elevated hepatic transaminases (HP:0002910)          0.001047   \n",
      "51                        IgA deficiency (HP:0002720)          0.002033   \n",
      "52                   Recurrent sinusitis (HP:0011108)          0.002654   \n",
      "53                          Splenomegaly (HP:0001744)          0.007790   \n",
      "54                Recurrent otitis media (HP:0000403)          0.011966   \n",
      "\n",
      "                    Gene_set  \n",
      "41  Human_Phenotype_Ontology  \n",
      "42  Human_Phenotype_Ontology  \n",
      "43  Human_Phenotype_Ontology  \n",
      "44  Human_Phenotype_Ontology  \n",
      "45  Human_Phenotype_Ontology  \n",
      "46  Human_Phenotype_Ontology  \n",
      "47  Human_Phenotype_Ontology  \n",
      "48  Human_Phenotype_Ontology  \n",
      "49  Human_Phenotype_Ontology  \n",
      "50  Human_Phenotype_Ontology  \n",
      "51  Human_Phenotype_Ontology  \n",
      "52  Human_Phenotype_Ontology  \n",
      "53  Human_Phenotype_Ontology  \n",
      "54  Human_Phenotype_Ontology  \n",
      "Topic 70\n"
     ]
    },
    {
     "name": "stderr",
     "output_type": "stream",
     "text": [
      "2020-01-16 17:47:56,711 Warning: No enrich terms using library GO_Molecular_Function_2018 when cutoff = 0.05\n",
      "2020-01-16 17:47:59,204 Warning: No enrich terms using library GO_Biological_Process_2018 when cutoff = 0.05\n",
      "2020-01-16 17:48:01,692 Warning: No enrich terms using library GO_Cellular_Component_2018 when cutoff = 0.05\n",
      "2020-01-16 17:48:04,181 Warning: No enrich terms using library Human_Phenotype_Ontology when cutoff = 0.05\n",
      "2020-01-16 17:48:06,660 Warning: No enrich terms using library WikiPathways_2019_Human when cutoff = 0.05\n",
      "2020-01-16 17:48:06,667 Warning: No enrich terms using library CUSTOM140471919971136 when cutoff = 0.05\n",
      "2020-01-16 17:48:06,686 Warning: No enrich terms using library CUSTOM140471919969552 when cutoff = 0.05\n"
     ]
    },
    {
     "name": "stdout",
     "output_type": "stream",
     "text": [
      "Empty DataFrame\n",
      "Columns: [Term, Adjusted P-value, Gene_set]\n",
      "Index: []\n",
      "Topic 71\n"
     ]
    },
    {
     "name": "stderr",
     "output_type": "stream",
     "text": [
      "2020-01-16 17:48:09,556 Warning: No enrich terms using library GO_Molecular_Function_2018 when cutoff = 0.05\n",
      "2020-01-16 17:48:12,033 Warning: No enrich terms using library GO_Biological_Process_2018 when cutoff = 0.05\n",
      "2020-01-16 17:48:14,505 Warning: No enrich terms using library GO_Cellular_Component_2018 when cutoff = 0.05\n",
      "2020-01-16 17:48:16,996 Warning: No enrich terms using library Human_Phenotype_Ontology when cutoff = 0.05\n",
      "2020-01-16 17:48:19,517 Warning: No enrich terms using library WikiPathways_2019_Human when cutoff = 0.05\n",
      "2020-01-16 17:48:19,545 Warning: No enrich terms using library CUSTOM140472023599144 when cutoff = 0.05\n"
     ]
    },
    {
     "name": "stdout",
     "output_type": "stream",
     "text": [
      "Empty DataFrame\n",
      "Columns: [Term, Adjusted P-value, Gene_set]\n",
      "Index: []\n",
      "Topic 72\n"
     ]
    },
    {
     "name": "stderr",
     "output_type": "stream",
     "text": [
      "2020-01-16 17:48:22,437 Warning: No enrich terms using library GO_Molecular_Function_2018 when cutoff = 0.05\n",
      "2020-01-16 17:48:24,942 Warning: No enrich terms using library GO_Biological_Process_2018 when cutoff = 0.05\n",
      "2020-01-16 17:48:27,429 Warning: No enrich terms using library GO_Cellular_Component_2018 when cutoff = 0.05\n",
      "2020-01-16 17:48:29,933 Warning: No enrich terms using library Human_Phenotype_Ontology when cutoff = 0.05\n",
      "2020-01-16 17:48:32,426 Warning: No enrich terms using library WikiPathways_2019_Human when cutoff = 0.05\n",
      "2020-01-16 17:48:32,445 Warning: No enrich terms using library CUSTOM140472023145496 when cutoff = 0.05\n",
      "2020-01-16 17:48:32,474 Warning: No enrich terms using library CUSTOM140472023144200 when cutoff = 0.05\n"
     ]
    },
    {
     "name": "stdout",
     "output_type": "stream",
     "text": [
      "Empty DataFrame\n",
      "Columns: [Term, Adjusted P-value, Gene_set]\n",
      "Index: []\n",
      "Topic 73\n"
     ]
    },
    {
     "name": "stderr",
     "output_type": "stream",
     "text": [
      "2020-01-16 17:48:43,234 Warning: No enrich terms using library Human_Phenotype_Ontology when cutoff = 0.05\n"
     ]
    },
    {
     "name": "stdout",
     "output_type": "stream",
     "text": [
      "                                                  Term  Adjusted P-value  \\\n",
      "0    acetylcholine-gated cation-selective channel a...          0.046909   \n",
      "2           neuropeptide hormone activity (GO:0005184)          0.048204   \n",
      "3    excitatory extracellular ligand-gated ion chan...          0.045114   \n",
      "4           ligand-gated channel activity (GO:0022834)          0.041306   \n",
      "5    transmitter-gated ion channel activity involve...          0.046550   \n",
      "33   anterograde trans-synaptic signaling (GO:0098916)          0.001449   \n",
      "34                   response to alkaloid (GO:0043279)          0.000962   \n",
      "35         chemical synaptic transmission (GO:0007268)          0.001212   \n",
      "36    response to organic cyclic compound (GO:0014070)          0.013988   \n",
      "216   acetylcholine-gated channel complex (GO:0005892)          0.023526   \n",
      "279   Nicotine Activity on Dopaminergic Neurons WP1602          0.038389   \n",
      "294  REACTOME_ACETYLCHOLINE_BINDING_AND_DOWNSTREAM_...          0.005741   \n",
      "305  REACTOME_HIGHLY_CALCIUM_PERMEABLE_NICOTINIC_AC...          0.005232   \n",
      "306  REACTOME_HIGHLY_CALCIUM_PERMEABLE_POSTSYNAPTIC...          0.005232   \n",
      "\n",
      "                       Gene_set  \n",
      "0    GO_Molecular_Function_2018  \n",
      "2    GO_Molecular_Function_2018  \n",
      "3    GO_Molecular_Function_2018  \n",
      "4    GO_Molecular_Function_2018  \n",
      "5    GO_Molecular_Function_2018  \n",
      "33   GO_Biological_Process_2018  \n",
      "34   GO_Biological_Process_2018  \n",
      "35   GO_Biological_Process_2018  \n",
      "36   GO_Biological_Process_2018  \n",
      "216  GO_Cellular_Component_2018  \n",
      "279     WikiPathways_2019_Human  \n",
      "294       CUSTOM140471917099408  \n",
      "305       CUSTOM140471917099408  \n",
      "306       CUSTOM140471917099408  \n",
      "Topic 74\n"
     ]
    },
    {
     "name": "stderr",
     "output_type": "stream",
     "text": [
      "2020-01-16 17:48:48,768 Warning: No enrich terms using library GO_Molecular_Function_2018 when cutoff = 0.05\n",
      "2020-01-16 17:48:51,267 Warning: No enrich terms using library GO_Biological_Process_2018 when cutoff = 0.05\n",
      "2020-01-16 17:48:53,738 Warning: No enrich terms using library GO_Cellular_Component_2018 when cutoff = 0.05\n",
      "2020-01-16 17:48:56,307 Warning: No enrich terms using library Human_Phenotype_Ontology when cutoff = 0.05\n",
      "2020-01-16 17:48:58,801 Warning: No enrich terms using library WikiPathways_2019_Human when cutoff = 0.05\n",
      "2020-01-16 17:48:58,917 Warning: No enrich terms using library CUSTOM140471960585704 when cutoff = 0.05\n"
     ]
    },
    {
     "name": "stdout",
     "output_type": "stream",
     "text": [
      "                        Term  Adjusted P-value               Gene_set\n",
      "161  HALLMARK_UV_RESPONSE_DN          0.001648  CUSTOM140471960587792\n",
      "Topic 75\n"
     ]
    },
    {
     "name": "stderr",
     "output_type": "stream",
     "text": [
      "2020-01-16 17:49:01,760 Warning: No enrich terms using library GO_Molecular_Function_2018 when cutoff = 0.05\n",
      "2020-01-16 17:49:04,238 Warning: No enrich terms using library GO_Biological_Process_2018 when cutoff = 0.05\n",
      "2020-01-16 17:49:06,741 Warning: No enrich terms using library GO_Cellular_Component_2018 when cutoff = 0.05\n",
      "2020-01-16 17:49:09,213 Warning: No enrich terms using library Human_Phenotype_Ontology when cutoff = 0.05\n",
      "2020-01-16 17:49:11,679 Warning: No enrich terms using library WikiPathways_2019_Human when cutoff = 0.05\n"
     ]
    },
    {
     "name": "stdout",
     "output_type": "stream",
     "text": [
      "Empty DataFrame\n",
      "Columns: [Term, Adjusted P-value, Gene_set]\n",
      "Index: []\n",
      "Topic 76\n"
     ]
    },
    {
     "name": "stderr",
     "output_type": "stream",
     "text": [
      "2020-01-16 17:49:14,565 Warning: No enrich terms using library GO_Molecular_Function_2018 when cutoff = 0.05\n",
      "2020-01-16 17:49:17,038 Warning: No enrich terms using library GO_Biological_Process_2018 when cutoff = 0.05\n",
      "2020-01-16 17:49:19,504 Warning: No enrich terms using library GO_Cellular_Component_2018 when cutoff = 0.05\n",
      "2020-01-16 17:49:21,992 Warning: No enrich terms using library Human_Phenotype_Ontology when cutoff = 0.05\n",
      "2020-01-16 17:49:24,674 Warning: No enrich terms using library WikiPathways_2019_Human when cutoff = 0.05\n",
      "2020-01-16 17:49:24,707 Warning: No enrich terms using library CUSTOM140471933481968 when cutoff = 0.05\n"
     ]
    },
    {
     "name": "stdout",
     "output_type": "stream",
     "text": [
      "Empty DataFrame\n",
      "Columns: [Term, Adjusted P-value, Gene_set]\n",
      "Index: []\n",
      "Topic 77\n"
     ]
    },
    {
     "name": "stderr",
     "output_type": "stream",
     "text": [
      "2020-01-16 17:49:27,561 Warning: No enrich terms using library GO_Molecular_Function_2018 when cutoff = 0.05\n",
      "2020-01-16 17:49:30,031 Warning: No enrich terms using library GO_Biological_Process_2018 when cutoff = 0.05\n",
      "2020-01-16 17:49:32,493 Warning: No enrich terms using library GO_Cellular_Component_2018 when cutoff = 0.05\n",
      "2020-01-16 17:49:34,986 Warning: No enrich terms using library Human_Phenotype_Ontology when cutoff = 0.05\n",
      "2020-01-16 17:49:37,475 Warning: No enrich terms using library WikiPathways_2019_Human when cutoff = 0.05\n",
      "2020-01-16 17:49:37,488 Warning: No enrich terms using library CUSTOM140472022176248 when cutoff = 0.05\n",
      "2020-01-16 17:49:37,508 Warning: No enrich terms using library CUSTOM140472022177544 when cutoff = 0.05\n"
     ]
    },
    {
     "name": "stdout",
     "output_type": "stream",
     "text": [
      "Empty DataFrame\n",
      "Columns: [Term, Adjusted P-value, Gene_set]\n",
      "Index: []\n",
      "Topic 78\n",
      "<class 'requests.exceptions.ConnectionError'> ('Connection aborted.', ConnectionResetError(104, 'Connection reset by peer')) <traceback object at 0x7fc229456b88>\n",
      "Empty DataFrame\n",
      "Columns: [Term, Adjusted P-value, Gene_set]\n",
      "Index: []\n",
      "Topic 79\n"
     ]
    },
    {
     "name": "stderr",
     "output_type": "stream",
     "text": [
      "2020-01-16 17:49:49,015 Warning: No enrich terms using library GO_Molecular_Function_2018 when cutoff = 0.05\n",
      "2020-01-16 17:49:51,535 Warning: No enrich terms using library GO_Biological_Process_2018 when cutoff = 0.05\n",
      "2020-01-16 17:49:54,016 Warning: No enrich terms using library GO_Cellular_Component_2018 when cutoff = 0.05\n",
      "2020-01-16 17:49:56,512 Warning: No enrich terms using library Human_Phenotype_Ontology when cutoff = 0.05\n",
      "2020-01-16 17:49:59,001 Warning: No enrich terms using library WikiPathways_2019_Human when cutoff = 0.05\n",
      "2020-01-16 17:49:59,009 Warning: No enrich terms using library CUSTOM140471888633432 when cutoff = 0.05\n",
      "2020-01-16 17:49:59,037 Warning: No enrich terms using library CUSTOM140471888632208 when cutoff = 0.05\n"
     ]
    },
    {
     "name": "stdout",
     "output_type": "stream",
     "text": [
      "Empty DataFrame\n",
      "Columns: [Term, Adjusted P-value, Gene_set]\n",
      "Index: []\n",
      "Topic 80\n"
     ]
    },
    {
     "name": "stderr",
     "output_type": "stream",
     "text": [
      "2020-01-16 17:50:01,881 Warning: No enrich terms using library GO_Molecular_Function_2018 when cutoff = 0.05\n",
      "2020-01-16 17:50:04,366 Warning: No enrich terms using library GO_Biological_Process_2018 when cutoff = 0.05\n",
      "2020-01-16 17:50:06,855 Warning: No enrich terms using library GO_Cellular_Component_2018 when cutoff = 0.05\n",
      "2020-01-16 17:50:09,345 Warning: No enrich terms using library Human_Phenotype_Ontology when cutoff = 0.05\n",
      "2020-01-16 17:50:11,840 Warning: No enrich terms using library WikiPathways_2019_Human when cutoff = 0.05\n",
      "2020-01-16 17:50:11,857 Warning: No enrich terms using library CUSTOM140471920435064 when cutoff = 0.05\n",
      "2020-01-16 17:50:11,877 Warning: No enrich terms using library CUSTOM140471920433840 when cutoff = 0.05\n"
     ]
    },
    {
     "name": "stdout",
     "output_type": "stream",
     "text": [
      "Empty DataFrame\n",
      "Columns: [Term, Adjusted P-value, Gene_set]\n",
      "Index: []\n",
      "Topic 81\n"
     ]
    },
    {
     "name": "stderr",
     "output_type": "stream",
     "text": [
      "2020-01-16 17:50:17,351 Warning: No enrich terms using library GO_Biological_Process_2018 when cutoff = 0.05\n",
      "2020-01-16 17:50:22,413 Warning: No enrich terms using library Human_Phenotype_Ontology when cutoff = 0.05\n",
      "2020-01-16 17:50:25,202 Warning: No enrich terms using library WikiPathways_2019_Human when cutoff = 0.05\n",
      "2020-01-16 17:50:25,242 Warning: No enrich terms using library CUSTOM140471889356120 when cutoff = 0.05\n"
     ]
    },
    {
     "name": "stdout",
     "output_type": "stream",
     "text": [
      "                                                 Term  Adjusted P-value  \\\n",
      "0       aspartic-type peptidase activity (GO:0070001)          0.021849   \n",
      "1   aspartic-type endopeptidase activity (GO:0004190)          0.016855   \n",
      "32             multivesicular body lumen (GO:0097486)          0.001310   \n",
      "33                   late endosome lumen (GO:0031906)          0.001122   \n",
      "34                   multivesicular body (GO:0005771)          0.008405   \n",
      "\n",
      "                      Gene_set  \n",
      "0   GO_Molecular_Function_2018  \n",
      "1   GO_Molecular_Function_2018  \n",
      "32  GO_Cellular_Component_2018  \n",
      "33  GO_Cellular_Component_2018  \n",
      "34  GO_Cellular_Component_2018  \n",
      "Topic 82\n"
     ]
    },
    {
     "name": "stderr",
     "output_type": "stream",
     "text": [
      "2020-01-16 17:50:28,176 Warning: No enrich terms using library GO_Molecular_Function_2018 when cutoff = 0.05\n",
      "2020-01-16 17:50:30,658 Warning: No enrich terms using library GO_Biological_Process_2018 when cutoff = 0.05\n",
      "2020-01-16 17:50:33,136 Warning: No enrich terms using library GO_Cellular_Component_2018 when cutoff = 0.05\n",
      "2020-01-16 17:50:35,612 Warning: No enrich terms using library Human_Phenotype_Ontology when cutoff = 0.05\n",
      "2020-01-16 17:50:38,093 Warning: No enrich terms using library WikiPathways_2019_Human when cutoff = 0.05\n",
      "2020-01-16 17:50:38,114 Warning: No enrich terms using library CUSTOM140471918777112 when cutoff = 0.05\n"
     ]
    },
    {
     "name": "stdout",
     "output_type": "stream",
     "text": [
      "Empty DataFrame\n",
      "Columns: [Term, Adjusted P-value, Gene_set]\n",
      "Index: []\n",
      "Topic 83\n"
     ]
    },
    {
     "name": "stderr",
     "output_type": "stream",
     "text": [
      "2020-01-16 17:50:40,960 Warning: No enrich terms using library GO_Molecular_Function_2018 when cutoff = 0.05\n",
      "2020-01-16 17:50:43,557 Warning: No enrich terms using library GO_Biological_Process_2018 when cutoff = 0.05\n",
      "2020-01-16 17:50:46,031 Warning: No enrich terms using library GO_Cellular_Component_2018 when cutoff = 0.05\n",
      "2020-01-16 17:50:48,509 Warning: No enrich terms using library Human_Phenotype_Ontology when cutoff = 0.05\n",
      "2020-01-16 17:50:50,985 Warning: No enrich terms using library WikiPathways_2019_Human when cutoff = 0.05\n",
      "2020-01-16 17:50:50,999 Warning: No enrich terms using library CUSTOM140471918911776 when cutoff = 0.05\n",
      "2020-01-16 17:50:51,023 Warning: No enrich terms using library CUSTOM140471918911848 when cutoff = 0.05\n"
     ]
    },
    {
     "name": "stdout",
     "output_type": "stream",
     "text": [
      "Empty DataFrame\n",
      "Columns: [Term, Adjusted P-value, Gene_set]\n",
      "Index: []\n",
      "Topic 84\n"
     ]
    },
    {
     "name": "stderr",
     "output_type": "stream",
     "text": [
      "2020-01-16 17:50:53,878 Warning: No enrich terms using library GO_Molecular_Function_2018 when cutoff = 0.05\n",
      "2020-01-16 17:50:56,352 Warning: No enrich terms using library GO_Biological_Process_2018 when cutoff = 0.05\n",
      "2020-01-16 17:50:58,805 Error fetching enrichment results: GO_Cellular_Component_2018\n"
     ]
    },
    {
     "name": "stdout",
     "output_type": "stream",
     "text": [
      "<class 'pandas.errors.ParserError'> Error tokenizing data. C error: Expected 1 fields in line 4, saw 2\n",
      " <traceback object at 0x7fc22b9c4988>\n",
      "Empty DataFrame\n",
      "Columns: [Term, Adjusted P-value, Gene_set]\n",
      "Index: []\n",
      "Topic 85\n"
     ]
    },
    {
     "name": "stderr",
     "output_type": "stream",
     "text": [
      "2020-01-16 17:51:01,645 Warning: No enrich terms using library GO_Molecular_Function_2018 when cutoff = 0.05\n",
      "2020-01-16 17:51:04,263 Warning: No enrich terms using library GO_Biological_Process_2018 when cutoff = 0.05\n",
      "2020-01-16 17:51:06,736 Warning: No enrich terms using library GO_Cellular_Component_2018 when cutoff = 0.05\n",
      "2020-01-16 17:51:09,206 Warning: No enrich terms using library Human_Phenotype_Ontology when cutoff = 0.05\n",
      "2020-01-16 17:51:11,669 Warning: No enrich terms using library WikiPathways_2019_Human when cutoff = 0.05\n"
     ]
    },
    {
     "name": "stdout",
     "output_type": "stream",
     "text": [
      "                                            Term  Adjusted P-value  \\\n",
      "10                HALLMARK_FATTY_ACID_METABOLISM            0.0316   \n",
      "11                           HALLMARK_PEROXISOME            0.0316   \n",
      "12  KEGG_GLYOXYLATE_AND_DICARBOXYLATE_METABOLISM            0.0203   \n",
      "13                               KEGG_PEROXISOME            0.0273   \n",
      "14                REACTOME_FATTY_ACID_METABOLISM            0.0413   \n",
      "16         REACTOME_PEROXISOMAL_LIPID_METABOLISM            0.0203   \n",
      "17           REACTOME_PEROXISOMAL_PROTEIN_IMPORT            0.0273   \n",
      "18                 REACTOME_PROTEIN_LOCALIZATION            0.0413   \n",
      "\n",
      "                 Gene_set  \n",
      "10  CUSTOM140471918914512  \n",
      "11  CUSTOM140471918914512  \n",
      "12  CUSTOM140471918914224  \n",
      "13  CUSTOM140471918914224  \n",
      "14  CUSTOM140471918914224  \n",
      "16  CUSTOM140471918914224  \n",
      "17  CUSTOM140471918914224  \n",
      "18  CUSTOM140471918914224  \n",
      "Topic 86\n"
     ]
    },
    {
     "name": "stderr",
     "output_type": "stream",
     "text": [
      "2020-01-16 17:51:20,091 Warning: No enrich terms using library GO_Cellular_Component_2018 when cutoff = 0.05\n",
      "2020-01-16 17:51:22,585 Warning: No enrich terms using library Human_Phenotype_Ontology when cutoff = 0.05\n",
      "2020-01-16 17:51:25,158 Warning: No enrich terms using library CUSTOM140471919832448 when cutoff = 0.05\n"
     ]
    },
    {
     "name": "stdout",
     "output_type": "stream",
     "text": [
      "                                                  Term  Adjusted P-value  \\\n",
      "0    oxidoreductase activity, acting on paired dono...          0.010976   \n",
      "12   mineralocorticoid biosynthetic process (GO:000...          0.000028   \n",
      "13       glucocorticoid metabolic process (GO:0008211)          0.000083   \n",
      "14    glucocorticoid biosynthetic process (GO:0006704)          0.000056   \n",
      "15          aldehyde biosynthetic process (GO:0046184)          0.016214   \n",
      "16            ketone biosynthetic process (GO:0042181)          0.012971   \n",
      "17           steroid biosynthetic process (GO:0006694)          0.017796   \n",
      "18              steroid metabolic process (GO:0008202)          0.030006   \n",
      "19   C21-steroid hormone biosynthetic process (GO:0...          0.034634   \n",
      "121  Classical pathway of steroidogenesis, includin...          0.000058   \n",
      "122  Glucocorticoid and Mineralcorticoid Metabolism...          0.002999   \n",
      "136                  KEGG_STEROID_HORMONE_BIOSYNTHESIS          0.003442   \n",
      "142                    REACTOME_DISEASES_OF_METABOLISM          0.015506   \n",
      "143                        REACTOME_ENDOGENOUS_STEROLS          0.014475   \n",
      "144               REACTOME_GLUCOCORTICOID_BIOSYNTHESIS          0.000060   \n",
      "148  REACTOME_METABOLIC_DISORDERS_OF_BIOLOGICAL_OXI...          0.001215   \n",
      "150                    REACTOME_METABOLISM_OF_STEROIDS          0.037536   \n",
      "151            REACTOME_METABOLISM_OF_STEROID_HORMONES          0.001215   \n",
      "152            REACTOME_MINERALOCORTICOID_BIOSYNTHESIS          0.001215   \n",
      "\n",
      "                       Gene_set  \n",
      "0    GO_Molecular_Function_2018  \n",
      "12   GO_Biological_Process_2018  \n",
      "13   GO_Biological_Process_2018  \n",
      "14   GO_Biological_Process_2018  \n",
      "15   GO_Biological_Process_2018  \n",
      "16   GO_Biological_Process_2018  \n",
      "17   GO_Biological_Process_2018  \n",
      "18   GO_Biological_Process_2018  \n",
      "19   GO_Biological_Process_2018  \n",
      "121     WikiPathways_2019_Human  \n",
      "122     WikiPathways_2019_Human  \n",
      "136       CUSTOM140471925651064  \n",
      "142       CUSTOM140471925651064  \n",
      "143       CUSTOM140471925651064  \n",
      "144       CUSTOM140471925651064  \n",
      "148       CUSTOM140471925651064  \n",
      "150       CUSTOM140471925651064  \n",
      "151       CUSTOM140471925651064  \n",
      "152       CUSTOM140471925651064  \n",
      "Topic 87\n"
     ]
    },
    {
     "name": "stderr",
     "output_type": "stream",
     "text": [
      "2020-01-16 17:51:28,205 Warning: No enrich terms using library GO_Molecular_Function_2018 when cutoff = 0.05\n",
      "2020-01-16 17:51:30,692 Warning: No enrich terms using library GO_Biological_Process_2018 when cutoff = 0.05\n",
      "2020-01-16 17:51:33,227 Warning: No enrich terms using library GO_Cellular_Component_2018 when cutoff = 0.05\n",
      "2020-01-16 17:51:35,719 Warning: No enrich terms using library Human_Phenotype_Ontology when cutoff = 0.05\n",
      "2020-01-16 17:51:38,193 Warning: No enrich terms using library WikiPathways_2019_Human when cutoff = 0.05\n"
     ]
    },
    {
     "name": "stdout",
     "output_type": "stream",
     "text": [
      "                                       Term  Adjusted P-value  \\\n",
      "19            HALLMARK_BILE_ACID_METABOLISM          0.022400   \n",
      "20        KEGG_STEROID_HORMONE_BIOSYNTHESIS          0.015400   \n",
      "21           REACTOME_ANDROGEN_BIOSYNTHESIS          0.005133   \n",
      "22     REACTOME_GLUCOCORTICOID_BIOSYNTHESIS          0.005133   \n",
      "24          REACTOME_METABOLISM_OF_STEROIDS          0.035000   \n",
      "25  REACTOME_METABOLISM_OF_STEROID_HORMONES          0.011900   \n",
      "26  REACTOME_MINERALOCORTICOID_BIOSYNTHESIS          0.005133   \n",
      "\n",
      "                 Gene_set  \n",
      "19  CUSTOM140471904310976  \n",
      "20  CUSTOM140472027335632  \n",
      "21  CUSTOM140472027335632  \n",
      "22  CUSTOM140472027335632  \n",
      "24  CUSTOM140472027335632  \n",
      "25  CUSTOM140472027335632  \n",
      "26  CUSTOM140472027335632  \n",
      "Topic 88\n"
     ]
    },
    {
     "name": "stderr",
     "output_type": "stream",
     "text": [
      "2020-01-16 17:51:41,234 Warning: No enrich terms using library GO_Molecular_Function_2018 when cutoff = 0.05\n",
      "2020-01-16 17:51:43,732 Warning: No enrich terms using library GO_Biological_Process_2018 when cutoff = 0.05\n",
      "2020-01-16 17:51:46,211 Warning: No enrich terms using library GO_Cellular_Component_2018 when cutoff = 0.05\n",
      "2020-01-16 17:51:48,685 Warning: No enrich terms using library Human_Phenotype_Ontology when cutoff = 0.05\n",
      "2020-01-16 17:51:51,159 Warning: No enrich terms using library WikiPathways_2019_Human when cutoff = 0.05\n"
     ]
    },
    {
     "name": "stdout",
     "output_type": "stream",
     "text": [
      "                                                 Term  Adjusted P-value  \\\n",
      "12                               HALLMARK_COAGULATION          0.040000   \n",
      "13                    HALLMARK_ESTROGEN_RESPONSE_LATE          0.040000   \n",
      "14                     HALLMARK_FATTY_ACID_METABOLISM          0.040000   \n",
      "15                          KEGG_BUTANOATE_METABOLISM          0.015300   \n",
      "16                        KEGG_PPAR_SIGNALING_PATHWAY          0.017743   \n",
      "17               KEGG_TERPENOID_BACKBONE_BIOSYNTHESIS          0.009000   \n",
      "18     KEGG_VALINE_LEUCINE_AND_ISOLEUCINE_DEGRADATION          0.015840   \n",
      "19                            PID_MYC_REPRESS_PATHWAY          0.017743   \n",
      "20                    REACTOME_KETONE_BODY_METABOLISM          0.009000   \n",
      "22  REACTOME_REGULATION_OF_LIPID_METABOLISM_BY_PER...          0.026775   \n",
      "23                REACTOME_SYNTHESIS_OF_KETONE_BODIES          0.009000   \n",
      "\n",
      "                 Gene_set  \n",
      "12  CUSTOM140472022865744  \n",
      "13  CUSTOM140472022865744  \n",
      "14  CUSTOM140472022865744  \n",
      "15  CUSTOM140471954777432  \n",
      "16  CUSTOM140471954777432  \n",
      "17  CUSTOM140471954777432  \n",
      "18  CUSTOM140471954777432  \n",
      "19  CUSTOM140471954777432  \n",
      "20  CUSTOM140471954777432  \n",
      "22  CUSTOM140471954777432  \n",
      "23  CUSTOM140471954777432  \n",
      "Topic 89\n"
     ]
    },
    {
     "name": "stderr",
     "output_type": "stream",
     "text": [
      "2020-01-16 17:51:54,253 Warning: No enrich terms using library GO_Molecular_Function_2018 when cutoff = 0.05\n",
      "2020-01-16 17:51:56,726 Warning: No enrich terms using library GO_Biological_Process_2018 when cutoff = 0.05\n",
      "2020-01-16 17:51:59,192 Warning: No enrich terms using library GO_Cellular_Component_2018 when cutoff = 0.05\n",
      "2020-01-16 17:52:01,677 Warning: No enrich terms using library Human_Phenotype_Ontology when cutoff = 0.05\n",
      "2020-01-16 17:52:04,178 Warning: No enrich terms using library WikiPathways_2019_Human when cutoff = 0.05\n",
      "2020-01-16 17:52:04,192 Warning: No enrich terms using library CUSTOM140471946828752 when cutoff = 0.05\n",
      "2020-01-16 17:52:04,219 Warning: No enrich terms using library CUSTOM140471965209944 when cutoff = 0.05\n"
     ]
    },
    {
     "name": "stdout",
     "output_type": "stream",
     "text": [
      "Empty DataFrame\n",
      "Columns: [Term, Adjusted P-value, Gene_set]\n",
      "Index: []\n",
      "Topic 90\n"
     ]
    },
    {
     "name": "stderr",
     "output_type": "stream",
     "text": [
      "2020-01-16 17:52:07,093 Warning: No enrich terms using library GO_Molecular_Function_2018 when cutoff = 0.05\n",
      "2020-01-16 17:52:09,566 Warning: No enrich terms using library GO_Biological_Process_2018 when cutoff = 0.05\n",
      "2020-01-16 17:52:12,027 Warning: No enrich terms using library GO_Cellular_Component_2018 when cutoff = 0.05\n",
      "2020-01-16 17:52:14,494 Warning: No enrich terms using library Human_Phenotype_Ontology when cutoff = 0.05\n",
      "2020-01-16 17:52:16,959 Warning: No enrich terms using library WikiPathways_2019_Human when cutoff = 0.05\n",
      "2020-01-16 17:52:16,987 Warning: No enrich terms using library CUSTOM140471876921168 when cutoff = 0.05\n"
     ]
    },
    {
     "name": "stdout",
     "output_type": "stream",
     "text": [
      "Empty DataFrame\n",
      "Columns: [Term, Adjusted P-value, Gene_set]\n",
      "Index: []\n",
      "Topic 91\n"
     ]
    },
    {
     "name": "stderr",
     "output_type": "stream",
     "text": [
      "2020-01-16 17:52:19,923 Warning: No enrich terms using library GO_Molecular_Function_2018 when cutoff = 0.05\n",
      "2020-01-16 17:52:24,994 Warning: No enrich terms using library GO_Cellular_Component_2018 when cutoff = 0.05\n",
      "2020-01-16 17:52:27,466 Warning: No enrich terms using library Human_Phenotype_Ontology when cutoff = 0.05\n",
      "2020-01-16 17:52:29,940 Warning: No enrich terms using library WikiPathways_2019_Human when cutoff = 0.05\n",
      "2020-01-16 17:52:29,951 Warning: No enrich terms using library CUSTOM140472022777000 when cutoff = 0.05\n",
      "2020-01-16 17:52:29,979 Warning: No enrich terms using library CUSTOM140472022776928 when cutoff = 0.05\n"
     ]
    },
    {
     "name": "stdout",
     "output_type": "stream",
     "text": [
      "                                    Term  Adjusted P-value  \\\n",
      "37  response to cadmium ion (GO:0046686)          0.047184   \n",
      "38     response to zinc ion (GO:0010043)          0.044029   \n",
      "\n",
      "                      Gene_set  \n",
      "37  GO_Biological_Process_2018  \n",
      "38  GO_Biological_Process_2018  \n",
      "Topic 92\n"
     ]
    },
    {
     "name": "stderr",
     "output_type": "stream",
     "text": [
      "2020-01-16 17:52:32,826 Warning: No enrich terms using library GO_Molecular_Function_2018 when cutoff = 0.05\n"
     ]
    },
    {
     "name": "stdout",
     "output_type": "stream",
     "text": [
      "<class 'requests.exceptions.ConnectionError'> ('Connection aborted.', ConnectionResetError(104, 'Connection reset by peer')) <traceback object at 0x7fc2295b1388>\n",
      "                                    Term  Adjusted P-value  \\\n",
      "37  response to cadmium ion (GO:0046686)          0.047184   \n",
      "38     response to zinc ion (GO:0010043)          0.044029   \n",
      "\n",
      "                      Gene_set  \n",
      "37  GO_Biological_Process_2018  \n",
      "38  GO_Biological_Process_2018  \n",
      "Topic 93\n"
     ]
    },
    {
     "name": "stderr",
     "output_type": "stream",
     "text": [
      "2020-01-16 17:52:35,840 Warning: No enrich terms using library GO_Molecular_Function_2018 when cutoff = 0.05\n",
      "2020-01-16 17:52:38,315 Warning: No enrich terms using library GO_Biological_Process_2018 when cutoff = 0.05\n",
      "2020-01-16 17:52:40,784 Warning: No enrich terms using library GO_Cellular_Component_2018 when cutoff = 0.05\n",
      "2020-01-16 17:52:43,295 Warning: No enrich terms using library Human_Phenotype_Ontology when cutoff = 0.05\n",
      "2020-01-16 17:52:45,769 Warning: No enrich terms using library WikiPathways_2019_Human when cutoff = 0.05\n"
     ]
    },
    {
     "name": "stdout",
     "output_type": "stream",
     "text": [
      "Empty DataFrame\n",
      "Columns: [Term, Adjusted P-value, Gene_set]\n",
      "Index: []\n",
      "Topic 94\n"
     ]
    },
    {
     "name": "stderr",
     "output_type": "stream",
     "text": [
      "2020-01-16 17:52:48,686 Warning: No enrich terms using library GO_Molecular_Function_2018 when cutoff = 0.05\n",
      "2020-01-16 17:52:51,140 Error fetching enrichment results: GO_Biological_Process_2018\n"
     ]
    },
    {
     "name": "stdout",
     "output_type": "stream",
     "text": [
      "<class 'pandas.errors.ParserError'> Error tokenizing data. C error: Expected 1 fields in line 4, saw 2\n",
      " <traceback object at 0x7fc229a8d888>\n",
      "Empty DataFrame\n",
      "Columns: [Term, Adjusted P-value, Gene_set]\n",
      "Index: []\n",
      "Topic 95\n"
     ]
    },
    {
     "name": "stderr",
     "output_type": "stream",
     "text": [
      "2020-01-16 17:52:54,049 Warning: No enrich terms using library GO_Molecular_Function_2018 when cutoff = 0.05\n",
      "2020-01-16 17:52:56,565 Warning: No enrich terms using library GO_Biological_Process_2018 when cutoff = 0.05\n",
      "2020-01-16 17:52:59,037 Warning: No enrich terms using library GO_Cellular_Component_2018 when cutoff = 0.05\n",
      "2020-01-16 17:53:01,516 Warning: No enrich terms using library Human_Phenotype_Ontology when cutoff = 0.05\n",
      "2020-01-16 17:53:04,009 Warning: No enrich terms using library WikiPathways_2019_Human when cutoff = 0.05\n",
      "2020-01-16 17:53:04,032 Warning: No enrich terms using library CUSTOM140471888633576 when cutoff = 0.05\n"
     ]
    },
    {
     "name": "stdout",
     "output_type": "stream",
     "text": [
      "Empty DataFrame\n",
      "Columns: [Term, Adjusted P-value, Gene_set]\n",
      "Index: []\n",
      "Topic 96\n"
     ]
    },
    {
     "name": "stderr",
     "output_type": "stream",
     "text": [
      "2020-01-16 17:53:06,827 Warning: No enrich terms using library GO_Molecular_Function_2018 when cutoff = 0.05\n",
      "2020-01-16 17:53:09,298 Warning: No enrich terms using library GO_Biological_Process_2018 when cutoff = 0.05\n",
      "2020-01-16 17:53:11,757 Warning: No enrich terms using library GO_Cellular_Component_2018 when cutoff = 0.05\n",
      "2020-01-16 17:53:14,224 Warning: No enrich terms using library Human_Phenotype_Ontology when cutoff = 0.05\n",
      "2020-01-16 17:53:16,685 Warning: No enrich terms using library WikiPathways_2019_Human when cutoff = 0.05\n",
      "2020-01-16 17:53:16,706 Warning: No enrich terms using library CUSTOM140471877404712 when cutoff = 0.05\n"
     ]
    },
    {
     "name": "stdout",
     "output_type": "stream",
     "text": [
      "Empty DataFrame\n",
      "Columns: [Term, Adjusted P-value, Gene_set]\n",
      "Index: []\n",
      "Topic 97\n"
     ]
    },
    {
     "name": "stderr",
     "output_type": "stream",
     "text": [
      "2020-01-16 17:53:19,540 Warning: No enrich terms using library GO_Molecular_Function_2018 when cutoff = 0.05\n",
      "2020-01-16 17:53:22,004 Warning: No enrich terms using library GO_Biological_Process_2018 when cutoff = 0.05\n",
      "2020-01-16 17:53:24,464 Warning: No enrich terms using library GO_Cellular_Component_2018 when cutoff = 0.05\n",
      "2020-01-16 17:53:26,933 Warning: No enrich terms using library Human_Phenotype_Ontology when cutoff = 0.05\n",
      "2020-01-16 17:53:29,388 Warning: No enrich terms using library WikiPathways_2019_Human when cutoff = 0.05\n"
     ]
    },
    {
     "name": "stdout",
     "output_type": "stream",
     "text": [
      "Empty DataFrame\n",
      "Columns: [Term, Adjusted P-value, Gene_set]\n",
      "Index: []\n",
      "Topic 98\n"
     ]
    },
    {
     "name": "stderr",
     "output_type": "stream",
     "text": [
      "2020-01-16 17:53:32,242 Warning: No enrich terms using library GO_Molecular_Function_2018 when cutoff = 0.05\n",
      "2020-01-16 17:53:34,736 Warning: No enrich terms using library GO_Biological_Process_2018 when cutoff = 0.05\n",
      "2020-01-16 17:53:37,208 Warning: No enrich terms using library GO_Cellular_Component_2018 when cutoff = 0.05\n",
      "2020-01-16 17:53:39,674 Warning: No enrich terms using library Human_Phenotype_Ontology when cutoff = 0.05\n",
      "2020-01-16 17:53:42,146 Warning: No enrich terms using library WikiPathways_2019_Human when cutoff = 0.05\n",
      "2020-01-16 17:53:42,172 Warning: No enrich terms using library CUSTOM140471930870880 when cutoff = 0.05\n"
     ]
    },
    {
     "name": "stdout",
     "output_type": "stream",
     "text": [
      "Empty DataFrame\n",
      "Columns: [Term, Adjusted P-value, Gene_set]\n",
      "Index: []\n",
      "Topic 99\n"
     ]
    },
    {
     "name": "stderr",
     "output_type": "stream",
     "text": [
      "2020-01-16 17:53:45,015 Warning: No enrich terms using library GO_Molecular_Function_2018 when cutoff = 0.05\n",
      "2020-01-16 17:53:47,480 Warning: No enrich terms using library GO_Biological_Process_2018 when cutoff = 0.05\n",
      "2020-01-16 17:53:49,948 Warning: No enrich terms using library GO_Cellular_Component_2018 when cutoff = 0.05\n",
      "2020-01-16 17:53:52,416 Warning: No enrich terms using library Human_Phenotype_Ontology when cutoff = 0.05\n",
      "2020-01-16 17:53:54,881 Warning: No enrich terms using library WikiPathways_2019_Human when cutoff = 0.05\n",
      "2020-01-16 17:53:54,899 Warning: No enrich terms using library CUSTOM140471915232280 when cutoff = 0.05\n"
     ]
    },
    {
     "name": "stdout",
     "output_type": "stream",
     "text": [
      "Empty DataFrame\n",
      "Columns: [Term, Adjusted P-value, Gene_set]\n",
      "Index: []\n",
      "Topic 100\n"
     ]
    },
    {
     "name": "stderr",
     "output_type": "stream",
     "text": [
      "2020-01-16 17:53:57,722 Warning: No enrich terms using library GO_Molecular_Function_2018 when cutoff = 0.05\n",
      "2020-01-16 17:54:00,221 Warning: No enrich terms using library GO_Biological_Process_2018 when cutoff = 0.05\n",
      "2020-01-16 17:54:02,692 Warning: No enrich terms using library GO_Cellular_Component_2018 when cutoff = 0.05\n",
      "2020-01-16 17:54:05,161 Warning: No enrich terms using library Human_Phenotype_Ontology when cutoff = 0.05\n",
      "2020-01-16 17:54:07,623 Warning: No enrich terms using library WikiPathways_2019_Human when cutoff = 0.05\n",
      "2020-01-16 17:54:07,631 Warning: No enrich terms using library CUSTOM140471888697456 when cutoff = 0.05\n"
     ]
    },
    {
     "name": "stdout",
     "output_type": "stream",
     "text": [
      "                                                 Term  Adjusted P-value  \\\n",
      "25                     REACTOME_DEVELOPMENTAL_BIOLOGY          0.026811   \n",
      "26       REACTOME_FORMATION_OF_THE_CORNIFIED_ENVELOPE          0.000868   \n",
      "28                            REACTOME_KERATINIZATION          0.000180   \n",
      "31  REACTOME_THE_RETINOID_CYCLE_IN_CONES_DAYLIGHT_...          0.025605   \n",
      "\n",
      "                 Gene_set  \n",
      "25  CUSTOM140471888695368  \n",
      "26  CUSTOM140471888695368  \n",
      "28  CUSTOM140471888695368  \n",
      "31  CUSTOM140471888695368  \n",
      "Topic 101\n"
     ]
    },
    {
     "name": "stderr",
     "output_type": "stream",
     "text": [
      "2020-01-16 17:54:10,603 Warning: No enrich terms using library GO_Molecular_Function_2018 when cutoff = 0.05\n",
      "2020-01-16 17:54:15,696 Warning: No enrich terms using library GO_Cellular_Component_2018 when cutoff = 0.05\n",
      "2020-01-16 17:54:18,196 Warning: No enrich terms using library Human_Phenotype_Ontology when cutoff = 0.05\n",
      "2020-01-16 17:54:20,668 Warning: No enrich terms using library WikiPathways_2019_Human when cutoff = 0.05\n"
     ]
    },
    {
     "name": "stdout",
     "output_type": "stream",
     "text": [
      "                                                 Term  Adjusted P-value  \\\n",
      "5           keratinocyte differentiation (GO:0030216)          0.000005   \n",
      "6         epidermal cell differentiation (GO:0009913)          0.000004   \n",
      "7                  epidermis development (GO:0008544)          0.000006   \n",
      "8                       skin development (GO:0043588)          0.000009   \n",
      "9                  peptide cross-linking (GO:0018149)          0.000247   \n",
      "68       REACTOME_FORMATION_OF_THE_CORNIFIED_ENVELOPE          0.000065   \n",
      "70                            REACTOME_KERATINIZATION          0.000261   \n",
      "71  REACTOME_METAL_SEQUESTRATION_BY_ANTIMICROBIAL_...          0.026334   \n",
      "\n",
      "                      Gene_set  \n",
      "5   GO_Biological_Process_2018  \n",
      "6   GO_Biological_Process_2018  \n",
      "7   GO_Biological_Process_2018  \n",
      "8   GO_Biological_Process_2018  \n",
      "9   GO_Biological_Process_2018  \n",
      "68       CUSTOM140471905123136  \n",
      "70       CUSTOM140471905123136  \n",
      "71       CUSTOM140471905123136  \n",
      "Topic 102\n"
     ]
    },
    {
     "name": "stderr",
     "output_type": "stream",
     "text": [
      "2020-01-16 17:54:23,713 Warning: No enrich terms using library GO_Molecular_Function_2018 when cutoff = 0.05\n",
      "2020-01-16 17:54:26,321 Warning: No enrich terms using library GO_Biological_Process_2018 when cutoff = 0.05\n",
      "2020-01-16 17:54:28,793 Warning: No enrich terms using library GO_Cellular_Component_2018 when cutoff = 0.05\n",
      "2020-01-16 17:54:31,270 Warning: No enrich terms using library Human_Phenotype_Ontology when cutoff = 0.05\n",
      "2020-01-16 17:54:33,741 Warning: No enrich terms using library WikiPathways_2019_Human when cutoff = 0.05\n"
     ]
    },
    {
     "name": "stdout",
     "output_type": "stream",
     "text": [
      "                                             Term  Adjusted P-value  \\\n",
      "39  REACTOME_ACYL_CHAIN_REMODELING_OF_DAG_AND_TAG          0.042547   \n",
      "42   REACTOME_FORMATION_OF_THE_CORNIFIED_ENVELOPE          0.042547   \n",
      "44              REACTOME_INTERLEUKIN_18_SIGNALING          0.042547   \n",
      "\n",
      "                 Gene_set  \n",
      "39  CUSTOM140471922733992  \n",
      "42  CUSTOM140471922733992  \n",
      "44  CUSTOM140471922733992  \n",
      "Topic 103\n"
     ]
    },
    {
     "name": "stderr",
     "output_type": "stream",
     "text": [
      "2020-01-16 17:54:36,688 Warning: No enrich terms using library GO_Molecular_Function_2018 when cutoff = 0.05\n",
      "2020-01-16 17:54:39,161 Warning: No enrich terms using library GO_Biological_Process_2018 when cutoff = 0.05\n",
      "2020-01-16 17:54:41,630 Warning: No enrich terms using library GO_Cellular_Component_2018 when cutoff = 0.05\n",
      "2020-01-16 17:54:44,098 Warning: No enrich terms using library Human_Phenotype_Ontology when cutoff = 0.05\n",
      "2020-01-16 17:54:46,567 Warning: No enrich terms using library WikiPathways_2019_Human when cutoff = 0.05\n",
      "2020-01-16 17:54:46,587 Warning: No enrich terms using library CUSTOM140471877067976 when cutoff = 0.05\n"
     ]
    },
    {
     "name": "stdout",
     "output_type": "stream",
     "text": [
      "Empty DataFrame\n",
      "Columns: [Term, Adjusted P-value, Gene_set]\n",
      "Index: []\n",
      "Topic 104\n"
     ]
    },
    {
     "name": "stderr",
     "output_type": "stream",
     "text": [
      "2020-01-16 17:54:49,451 Warning: No enrich terms using library GO_Molecular_Function_2018 when cutoff = 0.05\n",
      "2020-01-16 17:54:54,514 Warning: No enrich terms using library GO_Cellular_Component_2018 when cutoff = 0.05\n",
      "2020-01-16 17:54:57,001 Warning: No enrich terms using library Human_Phenotype_Ontology when cutoff = 0.05\n",
      "2020-01-16 17:54:59,485 Warning: No enrich terms using library WikiPathways_2019_Human when cutoff = 0.05\n",
      "2020-01-16 17:54:59,494 Warning: No enrich terms using library CUSTOM140471877424400 when cutoff = 0.05\n"
     ]
    },
    {
     "name": "stdout",
     "output_type": "stream",
     "text": [
      "                                            Term  Adjusted P-value  \\\n",
      "4             peptide cross-linking (GO:0018149)      7.334138e-08   \n",
      "5      keratinocyte differentiation (GO:0030216)      1.193876e-07   \n",
      "6    epidermal cell differentiation (GO:0009913)      1.532836e-07   \n",
      "7                  skin development (GO:0043588)      6.497589e-07   \n",
      "42                REACTOME_DEVELOPMENTAL_BIOLOGY      2.453229e-02   \n",
      "43  REACTOME_FORMATION_OF_THE_CORNIFIED_ENVELOPE      3.385908e-07   \n",
      "44                       REACTOME_KERATINIZATION      3.858017e-06   \n",
      "\n",
      "                      Gene_set  \n",
      "4   GO_Biological_Process_2018  \n",
      "5   GO_Biological_Process_2018  \n",
      "6   GO_Biological_Process_2018  \n",
      "7   GO_Biological_Process_2018  \n",
      "42       CUSTOM140471877424616  \n",
      "43       CUSTOM140471877424616  \n",
      "44       CUSTOM140471877424616  \n",
      "Topic 105\n"
     ]
    },
    {
     "name": "stderr",
     "output_type": "stream",
     "text": [
      "2020-01-16 17:55:02,519 Warning: No enrich terms using library GO_Molecular_Function_2018 when cutoff = 0.05\n",
      "2020-01-16 17:55:05,018 Warning: No enrich terms using library GO_Biological_Process_2018 when cutoff = 0.05\n",
      "2020-01-16 17:55:07,495 Warning: No enrich terms using library GO_Cellular_Component_2018 when cutoff = 0.05\n",
      "2020-01-16 17:55:09,975 Warning: No enrich terms using library Human_Phenotype_Ontology when cutoff = 0.05\n",
      "2020-01-16 17:55:12,450 Warning: No enrich terms using library WikiPathways_2019_Human when cutoff = 0.05\n",
      "2020-01-16 17:55:12,471 Warning: No enrich terms using library CUSTOM140471877748632 when cutoff = 0.05\n"
     ]
    },
    {
     "name": "stdout",
     "output_type": "stream",
     "text": [
      "Empty DataFrame\n",
      "Columns: [Term, Adjusted P-value, Gene_set]\n",
      "Index: []\n",
      "Topic 106\n"
     ]
    },
    {
     "name": "stderr",
     "output_type": "stream",
     "text": [
      "2020-01-16 17:55:15,308 Warning: No enrich terms using library GO_Molecular_Function_2018 when cutoff = 0.05\n",
      "2020-01-16 17:55:17,778 Warning: No enrich terms using library GO_Biological_Process_2018 when cutoff = 0.05\n"
     ]
    },
    {
     "name": "stdout",
     "output_type": "stream",
     "text": [
      "<class 'requests.exceptions.ConnectionError'> ('Connection aborted.', ConnectionResetError(104, 'Connection reset by peer')) <traceback object at 0x7fc23153f348>\n",
      "Empty DataFrame\n",
      "Columns: [Term, Adjusted P-value, Gene_set]\n",
      "Index: []\n",
      "Topic 107\n"
     ]
    },
    {
     "name": "stderr",
     "output_type": "stream",
     "text": [
      "2020-01-16 17:55:20,834 Warning: No enrich terms using library GO_Molecular_Function_2018 when cutoff = 0.05\n",
      "2020-01-16 17:55:23,303 Warning: No enrich terms using library GO_Biological_Process_2018 when cutoff = 0.05\n",
      "2020-01-16 17:55:25,770 Warning: No enrich terms using library GO_Cellular_Component_2018 when cutoff = 0.05\n",
      "2020-01-16 17:55:28,244 Warning: No enrich terms using library Human_Phenotype_Ontology when cutoff = 0.05\n",
      "2020-01-16 17:55:30,730 Warning: No enrich terms using library WikiPathways_2019_Human when cutoff = 0.05\n",
      "2020-01-16 17:55:30,757 Warning: No enrich terms using library CUSTOM140471954270896 when cutoff = 0.05\n"
     ]
    },
    {
     "name": "stdout",
     "output_type": "stream",
     "text": [
      "Empty DataFrame\n",
      "Columns: [Term, Adjusted P-value, Gene_set]\n",
      "Index: []\n",
      "Topic 108\n"
     ]
    },
    {
     "name": "stderr",
     "output_type": "stream",
     "text": [
      "2020-01-16 17:55:33,610 Warning: No enrich terms using library GO_Molecular_Function_2018 when cutoff = 0.05\n",
      "2020-01-16 17:55:36,076 Warning: No enrich terms using library GO_Biological_Process_2018 when cutoff = 0.05\n",
      "2020-01-16 17:55:38,541 Warning: No enrich terms using library GO_Cellular_Component_2018 when cutoff = 0.05\n",
      "2020-01-16 17:55:41,015 Warning: No enrich terms using library Human_Phenotype_Ontology when cutoff = 0.05\n",
      "2020-01-16 17:55:43,484 Warning: No enrich terms using library WikiPathways_2019_Human when cutoff = 0.05\n"
     ]
    },
    {
     "name": "stdout",
     "output_type": "stream",
     "text": [
      "                                            Term  Adjusted P-value  \\\n",
      "19                REACTOME_DEVELOPMENTAL_BIOLOGY          0.024141   \n",
      "20  REACTOME_FORMATION_OF_THE_CORNIFIED_ENVELOPE          0.000465   \n",
      "21                       REACTOME_KERATINIZATION          0.000142   \n",
      "\n",
      "                 Gene_set  \n",
      "19  CUSTOM140472023275560  \n",
      "20  CUSTOM140472023275560  \n",
      "21  CUSTOM140472023275560  \n",
      "Topic 109\n"
     ]
    },
    {
     "name": "stderr",
     "output_type": "stream",
     "text": [
      "2020-01-16 17:55:46,462 Warning: No enrich terms using library GO_Molecular_Function_2018 when cutoff = 0.05\n",
      "2020-01-16 17:55:48,948 Warning: No enrich terms using library GO_Biological_Process_2018 when cutoff = 0.05\n",
      "2020-01-16 17:55:51,425 Warning: No enrich terms using library GO_Cellular_Component_2018 when cutoff = 0.05\n",
      "2020-01-16 17:55:53,922 Warning: No enrich terms using library Human_Phenotype_Ontology when cutoff = 0.05\n",
      "2020-01-16 17:55:56,392 Warning: No enrich terms using library WikiPathways_2019_Human when cutoff = 0.05\n",
      "2020-01-16 17:55:56,411 Warning: No enrich terms using library CUSTOM140472023600368 when cutoff = 0.05\n"
     ]
    },
    {
     "name": "stdout",
     "output_type": "stream",
     "text": [
      "Empty DataFrame\n",
      "Columns: [Term, Adjusted P-value, Gene_set]\n",
      "Index: []\n",
      "Topic 110\n"
     ]
    },
    {
     "name": "stderr",
     "output_type": "stream",
     "text": [
      "2020-01-16 17:55:59,248 Warning: No enrich terms using library GO_Molecular_Function_2018 when cutoff = 0.05\n",
      "2020-01-16 17:56:01,714 Warning: No enrich terms using library GO_Biological_Process_2018 when cutoff = 0.05\n",
      "2020-01-16 17:56:04,183 Warning: No enrich terms using library GO_Cellular_Component_2018 when cutoff = 0.05\n",
      "2020-01-16 17:56:06,645 Warning: No enrich terms using library Human_Phenotype_Ontology when cutoff = 0.05\n",
      "2020-01-16 17:56:09,106 Warning: No enrich terms using library WikiPathways_2019_Human when cutoff = 0.05\n"
     ]
    },
    {
     "name": "stdout",
     "output_type": "stream",
     "text": [
      "Empty DataFrame\n",
      "Columns: [Term, Adjusted P-value, Gene_set]\n",
      "Index: []\n",
      "Topic 111\n"
     ]
    },
    {
     "name": "stderr",
     "output_type": "stream",
     "text": [
      "2020-01-16 17:56:11,964 Warning: No enrich terms using library GO_Molecular_Function_2018 when cutoff = 0.05\n",
      "2020-01-16 17:56:14,429 Warning: No enrich terms using library GO_Biological_Process_2018 when cutoff = 0.05\n",
      "2020-01-16 17:56:16,904 Warning: No enrich terms using library GO_Cellular_Component_2018 when cutoff = 0.05\n",
      "2020-01-16 17:56:19,567 Warning: No enrich terms using library Human_Phenotype_Ontology when cutoff = 0.05\n",
      "2020-01-16 17:56:22,035 Warning: No enrich terms using library WikiPathways_2019_Human when cutoff = 0.05\n",
      "2020-01-16 17:56:22,054 Warning: No enrich terms using library CUSTOM140471933389560 when cutoff = 0.05\n"
     ]
    },
    {
     "name": "stdout",
     "output_type": "stream",
     "text": [
      "Empty DataFrame\n",
      "Columns: [Term, Adjusted P-value, Gene_set]\n",
      "Index: []\n",
      "Topic 112\n"
     ]
    },
    {
     "name": "stderr",
     "output_type": "stream",
     "text": [
      "2020-01-16 17:56:24,878 Warning: No enrich terms using library GO_Molecular_Function_2018 when cutoff = 0.05\n",
      "2020-01-16 17:56:27,350 Warning: No enrich terms using library GO_Biological_Process_2018 when cutoff = 0.05\n",
      "2020-01-16 17:56:29,839 Warning: No enrich terms using library GO_Cellular_Component_2018 when cutoff = 0.05\n",
      "2020-01-16 17:56:32,303 Warning: No enrich terms using library Human_Phenotype_Ontology when cutoff = 0.05\n",
      "2020-01-16 17:56:34,857 Warning: No enrich terms using library CUSTOM140471877298936 when cutoff = 0.05\n"
     ]
    },
    {
     "name": "stdout",
     "output_type": "stream",
     "text": [
      "                                 Term  Adjusted P-value  \\\n",
      "10  Vitamin D Receptor Pathway WP2877          0.038872   \n",
      "\n",
      "                   Gene_set  \n",
      "10  WikiPathways_2019_Human  \n",
      "Topic 113\n"
     ]
    },
    {
     "name": "stderr",
     "output_type": "stream",
     "text": [
      "2020-01-16 17:56:37,706 Warning: No enrich terms using library GO_Molecular_Function_2018 when cutoff = 0.05\n",
      "2020-01-16 17:56:40,171 Warning: No enrich terms using library GO_Biological_Process_2018 when cutoff = 0.05\n",
      "2020-01-16 17:56:42,637 Warning: No enrich terms using library GO_Cellular_Component_2018 when cutoff = 0.05\n",
      "2020-01-16 17:56:45,109 Warning: No enrich terms using library Human_Phenotype_Ontology when cutoff = 0.05\n",
      "2020-01-16 17:56:47,574 Warning: No enrich terms using library WikiPathways_2019_Human when cutoff = 0.05\n"
     ]
    },
    {
     "name": "stdout",
     "output_type": "stream",
     "text": [
      "                                                 Term  Adjusted P-value  \\\n",
      "29                                   HALLMARK_HYPOXIA          0.040000   \n",
      "30                       HALLMARK_PANCREAS_BETA_CELLS          0.016000   \n",
      "31                    KEGG_GLYCOLYSIS_GLUCONEOGENESIS          0.023250   \n",
      "32                     KEGG_INSULIN_SIGNALING_PATHWAY          0.034250   \n",
      "33          KEGG_MATURITY_ONSET_DIABETES_OF_THE_YOUNG          0.020143   \n",
      "34                             KEGG_PURINE_METABOLISM          0.036692   \n",
      "35                           KEGG_PYRUVATE_METABOLISM          0.020143   \n",
      "36                     KEGG_TYPE_II_DIABETES_MELLITUS          0.020143   \n",
      "37                                  PID_HNF3B_PATHWAY          0.020143   \n",
      "38  REACTOME_CHREBP_ACTIVATES_METABOLIC_GENE_EXPRE...          0.020143   \n",
      "40                        REACTOME_GLUCOSE_METABOLISM          0.027600   \n",
      "41                                REACTOME_GLYCOLYSIS          0.024000   \n",
      "42          REACTOME_INTEGRATION_OF_ENERGY_METABOLISM          0.029455   \n",
      "44       REACTOME_REGULATION_OF_BETA_CELL_DEVELOPMENT          0.020143   \n",
      "45  REACTOME_REGULATION_OF_GENE_EXPRESSION_IN_BETA...          0.020143   \n",
      "\n",
      "                 Gene_set  \n",
      "29  CUSTOM140471930949496  \n",
      "30  CUSTOM140471930949496  \n",
      "31  CUSTOM140471930946400  \n",
      "32  CUSTOM140471930946400  \n",
      "33  CUSTOM140471930946400  \n",
      "34  CUSTOM140471930946400  \n",
      "35  CUSTOM140471930946400  \n",
      "36  CUSTOM140471930946400  \n",
      "37  CUSTOM140471930946400  \n",
      "38  CUSTOM140471930946400  \n",
      "40  CUSTOM140471930946400  \n",
      "41  CUSTOM140471930946400  \n",
      "42  CUSTOM140471930946400  \n",
      "44  CUSTOM140471930946400  \n",
      "45  CUSTOM140471930946400  \n",
      "Topic 114\n"
     ]
    },
    {
     "name": "stderr",
     "output_type": "stream",
     "text": [
      "2020-01-16 17:56:50,740 Warning: No enrich terms using library GO_Molecular_Function_2018 when cutoff = 0.05\n",
      "2020-01-16 17:56:53,333 Warning: No enrich terms using library GO_Biological_Process_2018 when cutoff = 0.05\n",
      "2020-01-16 17:56:55,817 Warning: No enrich terms using library GO_Cellular_Component_2018 when cutoff = 0.05\n"
     ]
    },
    {
     "name": "stdout",
     "output_type": "stream",
     "text": [
      "<class 'requests.exceptions.ConnectionError'> ('Connection aborted.', ConnectionResetError(104, 'Connection reset by peer')) <traceback object at 0x7fc22d8d0048>\n",
      "                                                 Term  Adjusted P-value  \\\n",
      "29                                   HALLMARK_HYPOXIA          0.040000   \n",
      "30                       HALLMARK_PANCREAS_BETA_CELLS          0.016000   \n",
      "31                    KEGG_GLYCOLYSIS_GLUCONEOGENESIS          0.023250   \n",
      "32                     KEGG_INSULIN_SIGNALING_PATHWAY          0.034250   \n",
      "33          KEGG_MATURITY_ONSET_DIABETES_OF_THE_YOUNG          0.020143   \n",
      "34                             KEGG_PURINE_METABOLISM          0.036692   \n",
      "35                           KEGG_PYRUVATE_METABOLISM          0.020143   \n",
      "36                     KEGG_TYPE_II_DIABETES_MELLITUS          0.020143   \n",
      "37                                  PID_HNF3B_PATHWAY          0.020143   \n",
      "38  REACTOME_CHREBP_ACTIVATES_METABOLIC_GENE_EXPRE...          0.020143   \n",
      "40                        REACTOME_GLUCOSE_METABOLISM          0.027600   \n",
      "41                                REACTOME_GLYCOLYSIS          0.024000   \n",
      "42          REACTOME_INTEGRATION_OF_ENERGY_METABOLISM          0.029455   \n",
      "44       REACTOME_REGULATION_OF_BETA_CELL_DEVELOPMENT          0.020143   \n",
      "45  REACTOME_REGULATION_OF_GENE_EXPRESSION_IN_BETA...          0.020143   \n",
      "\n",
      "                 Gene_set  \n",
      "29  CUSTOM140471930949496  \n",
      "30  CUSTOM140471930949496  \n",
      "31  CUSTOM140471930946400  \n",
      "32  CUSTOM140471930946400  \n",
      "33  CUSTOM140471930946400  \n",
      "34  CUSTOM140471930946400  \n",
      "35  CUSTOM140471930946400  \n",
      "36  CUSTOM140471930946400  \n",
      "37  CUSTOM140471930946400  \n",
      "38  CUSTOM140471930946400  \n",
      "40  CUSTOM140471930946400  \n",
      "41  CUSTOM140471930946400  \n",
      "42  CUSTOM140471930946400  \n",
      "44  CUSTOM140471930946400  \n",
      "45  CUSTOM140471930946400  \n",
      "Topic 115\n"
     ]
    },
    {
     "name": "stderr",
     "output_type": "stream",
     "text": [
      "2020-01-16 17:56:58,849 Warning: No enrich terms using library GO_Molecular_Function_2018 when cutoff = 0.05\n",
      "2020-01-16 17:57:01,327 Warning: No enrich terms using library GO_Biological_Process_2018 when cutoff = 0.05\n",
      "2020-01-16 17:57:03,788 Warning: No enrich terms using library GO_Cellular_Component_2018 when cutoff = 0.05\n",
      "2020-01-16 17:57:06,277 Warning: No enrich terms using library Human_Phenotype_Ontology when cutoff = 0.05\n",
      "2020-01-16 17:57:08,749 Warning: No enrich terms using library WikiPathways_2019_Human when cutoff = 0.05\n",
      "2020-01-16 17:57:08,769 Warning: No enrich terms using library CUSTOM140472022660368 when cutoff = 0.05\n"
     ]
    },
    {
     "name": "stdout",
     "output_type": "stream",
     "text": [
      "Empty DataFrame\n",
      "Columns: [Term, Adjusted P-value, Gene_set]\n",
      "Index: []\n",
      "Topic 116\n"
     ]
    },
    {
     "name": "stderr",
     "output_type": "stream",
     "text": [
      "2020-01-16 17:57:11,572 Warning: No enrich terms using library GO_Molecular_Function_2018 when cutoff = 0.05\n",
      "2020-01-16 17:57:14,038 Warning: No enrich terms using library GO_Biological_Process_2018 when cutoff = 0.05\n",
      "2020-01-16 17:57:16,509 Warning: No enrich terms using library GO_Cellular_Component_2018 when cutoff = 0.05\n",
      "2020-01-16 17:57:18,976 Warning: No enrich terms using library Human_Phenotype_Ontology when cutoff = 0.05\n",
      "2020-01-16 17:57:21,443 Warning: No enrich terms using library WikiPathways_2019_Human when cutoff = 0.05\n"
     ]
    },
    {
     "name": "stdout",
     "output_type": "stream",
     "text": [
      "                              Term  Adjusted P-value               Gene_set\n",
      "20  REACTOME_SURFACTANT_METABOLISM          0.035792  CUSTOM140471954780096\n",
      "Topic 117\n"
     ]
    },
    {
     "name": "stderr",
     "output_type": "stream",
     "text": [
      "2020-01-16 17:57:24,393 Warning: No enrich terms using library GO_Molecular_Function_2018 when cutoff = 0.05\n",
      "2020-01-16 17:57:26,872 Warning: No enrich terms using library GO_Biological_Process_2018 when cutoff = 0.05\n",
      "2020-01-16 17:57:29,340 Warning: No enrich terms using library GO_Cellular_Component_2018 when cutoff = 0.05\n",
      "2020-01-16 17:57:31,809 Warning: No enrich terms using library Human_Phenotype_Ontology when cutoff = 0.05\n",
      "2020-01-16 17:57:34,277 Warning: No enrich terms using library WikiPathways_2019_Human when cutoff = 0.05\n",
      "2020-01-16 17:57:34,285 Warning: No enrich terms using library CUSTOM140471930800024 when cutoff = 0.05\n",
      "2020-01-16 17:57:34,305 Warning: No enrich terms using library CUSTOM140471930801248 when cutoff = 0.05\n"
     ]
    },
    {
     "name": "stdout",
     "output_type": "stream",
     "text": [
      "Empty DataFrame\n",
      "Columns: [Term, Adjusted P-value, Gene_set]\n",
      "Index: []\n",
      "Topic 118\n"
     ]
    },
    {
     "name": "stderr",
     "output_type": "stream",
     "text": [
      "2020-01-16 17:57:37,122 Warning: No enrich terms using library GO_Molecular_Function_2018 when cutoff = 0.05\n",
      "2020-01-16 17:57:39,598 Warning: No enrich terms using library GO_Biological_Process_2018 when cutoff = 0.05\n",
      "2020-01-16 17:57:42,068 Warning: No enrich terms using library GO_Cellular_Component_2018 when cutoff = 0.05\n",
      "2020-01-16 17:57:44,541 Warning: No enrich terms using library Human_Phenotype_Ontology when cutoff = 0.05\n",
      "2020-01-16 17:57:47,013 Warning: No enrich terms using library WikiPathways_2019_Human when cutoff = 0.05\n",
      "2020-01-16 17:57:47,034 Warning: No enrich terms using library CUSTOM140471920405096 when cutoff = 0.05\n"
     ]
    },
    {
     "name": "stdout",
     "output_type": "stream",
     "text": [
      "Empty DataFrame\n",
      "Columns: [Term, Adjusted P-value, Gene_set]\n",
      "Index: []\n",
      "Topic 119\n"
     ]
    },
    {
     "name": "stderr",
     "output_type": "stream",
     "text": [
      "2020-01-16 17:57:49,921 Warning: No enrich terms using library GO_Molecular_Function_2018 when cutoff = 0.05\n",
      "2020-01-16 17:57:52,391 Warning: No enrich terms using library GO_Biological_Process_2018 when cutoff = 0.05\n",
      "2020-01-16 17:57:54,853 Warning: No enrich terms using library GO_Cellular_Component_2018 when cutoff = 0.05\n",
      "2020-01-16 17:57:57,352 Warning: No enrich terms using library Human_Phenotype_Ontology when cutoff = 0.05\n",
      "2020-01-16 17:57:59,837 Warning: No enrich terms using library WikiPathways_2019_Human when cutoff = 0.05\n"
     ]
    },
    {
     "name": "stdout",
     "output_type": "stream",
     "text": [
      "Empty DataFrame\n",
      "Columns: [Term, Adjusted P-value, Gene_set]\n",
      "Index: []\n",
      "Topic 120\n"
     ]
    },
    {
     "name": "stderr",
     "output_type": "stream",
     "text": [
      "2020-01-16 17:58:02,683 Warning: No enrich terms using library GO_Molecular_Function_2018 when cutoff = 0.05\n",
      "2020-01-16 17:58:05,153 Warning: No enrich terms using library GO_Biological_Process_2018 when cutoff = 0.05\n",
      "2020-01-16 17:58:07,619 Warning: No enrich terms using library GO_Cellular_Component_2018 when cutoff = 0.05\n",
      "2020-01-16 17:58:10,100 Warning: No enrich terms using library Human_Phenotype_Ontology when cutoff = 0.05\n",
      "2020-01-16 17:58:12,570 Warning: No enrich terms using library WikiPathways_2019_Human when cutoff = 0.05\n",
      "2020-01-16 17:58:12,590 Warning: No enrich terms using library CUSTOM140471894128752 when cutoff = 0.05\n"
     ]
    },
    {
     "name": "stdout",
     "output_type": "stream",
     "text": [
      "Empty DataFrame\n",
      "Columns: [Term, Adjusted P-value, Gene_set]\n",
      "Index: []\n",
      "Topic 121\n"
     ]
    },
    {
     "name": "stderr",
     "output_type": "stream",
     "text": [
      "2020-01-16 17:58:15,438 Warning: No enrich terms using library GO_Molecular_Function_2018 when cutoff = 0.05\n",
      "2020-01-16 17:58:17,911 Warning: No enrich terms using library GO_Biological_Process_2018 when cutoff = 0.05\n",
      "2020-01-16 17:58:20,381 Warning: No enrich terms using library GO_Cellular_Component_2018 when cutoff = 0.05\n",
      "2020-01-16 17:58:22,847 Warning: No enrich terms using library Human_Phenotype_Ontology when cutoff = 0.05\n",
      "2020-01-16 17:58:25,317 Warning: No enrich terms using library WikiPathways_2019_Human when cutoff = 0.05\n",
      "2020-01-16 17:58:25,325 Warning: No enrich terms using library CUSTOM140471960571408 when cutoff = 0.05\n",
      "2020-01-16 17:58:25,347 Warning: No enrich terms using library CUSTOM140471960568096 when cutoff = 0.05\n"
     ]
    },
    {
     "name": "stdout",
     "output_type": "stream",
     "text": [
      "Empty DataFrame\n",
      "Columns: [Term, Adjusted P-value, Gene_set]\n",
      "Index: []\n",
      "Topic 122\n"
     ]
    },
    {
     "name": "stderr",
     "output_type": "stream",
     "text": [
      "2020-01-16 17:58:30,758 Warning: No enrich terms using library GO_Biological_Process_2018 when cutoff = 0.05\n",
      "2020-01-16 17:58:33,347 Warning: No enrich terms using library GO_Cellular_Component_2018 when cutoff = 0.05\n"
     ]
    },
    {
     "name": "stdout",
     "output_type": "stream",
     "text": [
      "<class 'requests.exceptions.ConnectionError'> ('Connection aborted.', ConnectionResetError(104, 'Connection reset by peer')) <traceback object at 0x7fc22b62c088>\n",
      "Empty DataFrame\n",
      "Columns: [Term, Adjusted P-value, Gene_set]\n",
      "Index: []\n",
      "Topic 123\n"
     ]
    },
    {
     "name": "stderr",
     "output_type": "stream",
     "text": [
      "2020-01-16 17:58:36,418 Warning: No enrich terms using library GO_Molecular_Function_2018 when cutoff = 0.05\n",
      "2020-01-16 17:58:38,903 Warning: No enrich terms using library GO_Biological_Process_2018 when cutoff = 0.05\n",
      "2020-01-16 17:58:41,384 Warning: No enrich terms using library GO_Cellular_Component_2018 when cutoff = 0.05\n",
      "2020-01-16 17:58:43,855 Warning: No enrich terms using library Human_Phenotype_Ontology when cutoff = 0.05\n",
      "2020-01-16 17:58:46,324 Warning: No enrich terms using library WikiPathways_2019_Human when cutoff = 0.05\n",
      "2020-01-16 17:58:46,430 Warning: No enrich terms using library CUSTOM140471926503392 when cutoff = 0.05\n"
     ]
    },
    {
     "name": "stdout",
     "output_type": "stream",
     "text": [
      "                          Term  Adjusted P-value               Gene_set\n",
      "67  HALLMARK_KRAS_SIGNALING_DN          0.029276  CUSTOM140471926503464\n",
      "Topic 124\n"
     ]
    },
    {
     "name": "stderr",
     "output_type": "stream",
     "text": [
      "2020-01-16 17:58:49,269 Warning: No enrich terms using library GO_Molecular_Function_2018 when cutoff = 0.05\n",
      "2020-01-16 17:58:54,367 Warning: No enrich terms using library GO_Cellular_Component_2018 when cutoff = 0.05\n",
      "2020-01-16 17:58:57,056 Warning: No enrich terms using library Human_Phenotype_Ontology when cutoff = 0.05\n"
     ]
    },
    {
     "name": "stdout",
     "output_type": "stream",
     "text": [
      "                                                  Term  Adjusted P-value  \\\n",
      "14                 sarcomere organization (GO:0045214)      1.202961e-07   \n",
      "15                     myofibril assembly (GO:0030239)      3.407547e-07   \n",
      "16      actomyosin structure organization (GO:0031032)      1.236350e-06   \n",
      "17                     muscle contraction (GO:0006936)      3.971228e-03   \n",
      "18   positive regulation of cation channel activity...      2.213584e-02   \n",
      "19          actin-myosin filament sliding (GO:0033275)      2.978757e-02   \n",
      "20                muscle filament sliding (GO:0030049)      2.553221e-02   \n",
      "133          Striated Muscle Contraction Pathway WP383      1.653114e-02   \n",
      "141                                HALLMARK_MYOGENESIS      4.878198e-07   \n",
      "166                        REACTOME_MUSCLE_CONTRACTION      1.446708e-02   \n",
      "182               REACTOME_STRIATED_MUSCLE_CONTRACTION      1.446708e-02   \n",
      "\n",
      "                       Gene_set  \n",
      "14   GO_Biological_Process_2018  \n",
      "15   GO_Biological_Process_2018  \n",
      "16   GO_Biological_Process_2018  \n",
      "17   GO_Biological_Process_2018  \n",
      "18   GO_Biological_Process_2018  \n",
      "19   GO_Biological_Process_2018  \n",
      "20   GO_Biological_Process_2018  \n",
      "133     WikiPathways_2019_Human  \n",
      "141       CUSTOM140471891154696  \n",
      "166       CUSTOM140471891155416  \n",
      "182       CUSTOM140471891155416  \n",
      "Topic 125\n"
     ]
    },
    {
     "name": "stderr",
     "output_type": "stream",
     "text": [
      "2020-01-16 17:59:02,769 Warning: No enrich terms using library GO_Molecular_Function_2018 when cutoff = 0.05\n",
      "2020-01-16 17:59:05,236 Warning: No enrich terms using library GO_Biological_Process_2018 when cutoff = 0.05\n",
      "2020-01-16 17:59:07,747 Warning: No enrich terms using library GO_Cellular_Component_2018 when cutoff = 0.05\n",
      "2020-01-16 17:59:10,231 Warning: No enrich terms using library Human_Phenotype_Ontology when cutoff = 0.05\n",
      "2020-01-16 17:59:12,725 Warning: No enrich terms using library WikiPathways_2019_Human when cutoff = 0.05\n",
      "2020-01-16 17:59:12,736 Warning: No enrich terms using library CUSTOM140472027335560 when cutoff = 0.05\n",
      "2020-01-16 17:59:12,757 Warning: No enrich terms using library CUSTOM140472027333688 when cutoff = 0.05\n"
     ]
    },
    {
     "name": "stdout",
     "output_type": "stream",
     "text": [
      "Empty DataFrame\n",
      "Columns: [Term, Adjusted P-value, Gene_set]\n",
      "Index: []\n",
      "Topic 126\n"
     ]
    },
    {
     "name": "stderr",
     "output_type": "stream",
     "text": [
      "2020-01-16 17:59:15,653 Warning: No enrich terms using library GO_Molecular_Function_2018 when cutoff = 0.05\n",
      "2020-01-16 17:59:18,143 Warning: No enrich terms using library GO_Biological_Process_2018 when cutoff = 0.05\n",
      "2020-01-16 17:59:20,614 Warning: No enrich terms using library GO_Cellular_Component_2018 when cutoff = 0.05\n",
      "2020-01-16 17:59:23,092 Warning: No enrich terms using library Human_Phenotype_Ontology when cutoff = 0.05\n",
      "2020-01-16 17:59:25,575 Warning: No enrich terms using library WikiPathways_2019_Human when cutoff = 0.05\n",
      "2020-01-16 17:59:25,592 Warning: No enrich terms using library CUSTOM140471922479680 when cutoff = 0.05\n"
     ]
    },
    {
     "name": "stdout",
     "output_type": "stream",
     "text": [
      "Empty DataFrame\n",
      "Columns: [Term, Adjusted P-value, Gene_set]\n",
      "Index: []\n",
      "Topic 127\n"
     ]
    },
    {
     "name": "stderr",
     "output_type": "stream",
     "text": [
      "2020-01-16 17:59:28,408 Warning: No enrich terms using library GO_Molecular_Function_2018 when cutoff = 0.05\n",
      "2020-01-16 17:59:30,889 Warning: No enrich terms using library GO_Biological_Process_2018 when cutoff = 0.05\n",
      "2020-01-16 17:59:33,360 Warning: No enrich terms using library GO_Cellular_Component_2018 when cutoff = 0.05\n",
      "2020-01-16 17:59:35,932 Warning: No enrich terms using library Human_Phenotype_Ontology when cutoff = 0.05\n",
      "2020-01-16 17:59:38,465 Warning: No enrich terms using library WikiPathways_2019_Human when cutoff = 0.05\n",
      "2020-01-16 17:59:38,571 Warning: No enrich terms using library CUSTOM140471948865328 when cutoff = 0.05\n"
     ]
    },
    {
     "name": "stdout",
     "output_type": "stream",
     "text": [
      "                               Term  Adjusted P-value               Gene_set\n",
      "103  HALLMARK_INFLAMMATORY_RESPONSE           0.02717  CUSTOM140471948863528\n",
      "Topic 128\n"
     ]
    },
    {
     "name": "stderr",
     "output_type": "stream",
     "text": [
      "2020-01-16 17:59:41,403 Warning: No enrich terms using library GO_Molecular_Function_2018 when cutoff = 0.05\n",
      "2020-01-16 17:59:43,865 Warning: No enrich terms using library GO_Biological_Process_2018 when cutoff = 0.05\n",
      "2020-01-16 17:59:46,327 Warning: No enrich terms using library GO_Cellular_Component_2018 when cutoff = 0.05\n",
      "2020-01-16 17:59:48,800 Warning: No enrich terms using library Human_Phenotype_Ontology when cutoff = 0.05\n",
      "2020-01-16 17:59:51,269 Warning: No enrich terms using library WikiPathways_2019_Human when cutoff = 0.05\n",
      "2020-01-16 17:59:51,277 Warning: No enrich terms using library CUSTOM140471919736584 when cutoff = 0.05\n",
      "2020-01-16 17:59:51,294 Warning: No enrich terms using library CUSTOM140472023222456 when cutoff = 0.05\n"
     ]
    },
    {
     "name": "stdout",
     "output_type": "stream",
     "text": [
      "Empty DataFrame\n",
      "Columns: [Term, Adjusted P-value, Gene_set]\n",
      "Index: []\n",
      "Topic 129\n"
     ]
    },
    {
     "name": "stderr",
     "output_type": "stream",
     "text": [
      "2020-01-16 17:59:54,129 Warning: No enrich terms using library GO_Molecular_Function_2018 when cutoff = 0.05\n",
      "2020-01-16 17:59:56,600 Warning: No enrich terms using library GO_Biological_Process_2018 when cutoff = 0.05\n",
      "2020-01-16 17:59:59,074 Warning: No enrich terms using library GO_Cellular_Component_2018 when cutoff = 0.05\n",
      "2020-01-16 18:00:01,545 Warning: No enrich terms using library Human_Phenotype_Ontology when cutoff = 0.05\n",
      "2020-01-16 18:00:04,025 Warning: No enrich terms using library WikiPathways_2019_Human when cutoff = 0.05\n",
      "2020-01-16 18:00:04,045 Warning: No enrich terms using library CUSTOM140471920491184 when cutoff = 0.05\n"
     ]
    },
    {
     "name": "stdout",
     "output_type": "stream",
     "text": [
      "Empty DataFrame\n",
      "Columns: [Term, Adjusted P-value, Gene_set]\n",
      "Index: []\n",
      "Topic 130\n"
     ]
    },
    {
     "name": "stderr",
     "output_type": "stream",
     "text": [
      "2020-01-16 18:00:06,900 Warning: No enrich terms using library GO_Molecular_Function_2018 when cutoff = 0.05\n",
      "2020-01-16 18:00:09,390 Warning: No enrich terms using library GO_Biological_Process_2018 when cutoff = 0.05\n",
      "2020-01-16 18:00:11,850 Warning: No enrich terms using library GO_Cellular_Component_2018 when cutoff = 0.05\n",
      "2020-01-16 18:00:14,318 Warning: No enrich terms using library Human_Phenotype_Ontology when cutoff = 0.05\n",
      "2020-01-16 18:00:16,828 Warning: No enrich terms using library WikiPathways_2019_Human when cutoff = 0.05\n",
      "2020-01-16 18:00:16,847 Warning: No enrich terms using library CUSTOM140471954283688 when cutoff = 0.05\n"
     ]
    },
    {
     "name": "stdout",
     "output_type": "stream",
     "text": [
      "Empty DataFrame\n",
      "Columns: [Term, Adjusted P-value, Gene_set]\n",
      "Index: []\n",
      "Topic 131\n"
     ]
    },
    {
     "name": "stderr",
     "output_type": "stream",
     "text": [
      "2020-01-16 18:00:19,666 Warning: No enrich terms using library GO_Molecular_Function_2018 when cutoff = 0.05\n",
      "2020-01-16 18:00:22,166 Warning: No enrich terms using library GO_Biological_Process_2018 when cutoff = 0.05\n",
      "2020-01-16 18:00:24,661 Warning: No enrich terms using library GO_Cellular_Component_2018 when cutoff = 0.05\n",
      "2020-01-16 18:00:27,150 Warning: No enrich terms using library Human_Phenotype_Ontology when cutoff = 0.05\n",
      "2020-01-16 18:00:29,647 Warning: No enrich terms using library WikiPathways_2019_Human when cutoff = 0.05\n",
      "2020-01-16 18:00:29,665 Warning: No enrich terms using library CUSTOM140471964728920 when cutoff = 0.05\n",
      "2020-01-16 18:00:29,685 Warning: No enrich terms using library CUSTOM140471964725608 when cutoff = 0.05\n"
     ]
    },
    {
     "name": "stdout",
     "output_type": "stream",
     "text": [
      "Empty DataFrame\n",
      "Columns: [Term, Adjusted P-value, Gene_set]\n",
      "Index: []\n",
      "Topic 132\n"
     ]
    },
    {
     "name": "stderr",
     "output_type": "stream",
     "text": [
      "2020-01-16 18:00:32,513 Warning: No enrich terms using library GO_Molecular_Function_2018 when cutoff = 0.05\n",
      "2020-01-16 18:00:34,993 Warning: No enrich terms using library GO_Biological_Process_2018 when cutoff = 0.05\n",
      "2020-01-16 18:00:37,471 Warning: No enrich terms using library GO_Cellular_Component_2018 when cutoff = 0.05\n",
      "2020-01-16 18:00:39,960 Warning: No enrich terms using library Human_Phenotype_Ontology when cutoff = 0.05\n",
      "2020-01-16 18:00:42,464 Warning: No enrich terms using library WikiPathways_2019_Human when cutoff = 0.05\n"
     ]
    },
    {
     "name": "stdout",
     "output_type": "stream",
     "text": [
      "                                               Term  Adjusted P-value  \\\n",
      "38                   BIOCARTA_ACETAMINOPHEN_PATHWAY          0.011995   \n",
      "39                       BIOCARTA_NUCLEARRS_PATHWAY          0.040665   \n",
      "40                               PID_REG_GR_PATHWAY          0.048801   \n",
      "43  REACTOME_NUCLEAR_RECEPTOR_TRANSCRIPTION_PATHWAY          0.042179   \n",
      "\n",
      "                 Gene_set  \n",
      "38  CUSTOM140471954281600  \n",
      "39  CUSTOM140471954281600  \n",
      "40  CUSTOM140471954281600  \n",
      "43  CUSTOM140471954281600  \n",
      "Topic 133\n"
     ]
    },
    {
     "name": "stderr",
     "output_type": "stream",
     "text": [
      "2020-01-16 18:00:45,435 Warning: No enrich terms using library GO_Molecular_Function_2018 when cutoff = 0.05\n",
      "2020-01-16 18:00:47,902 Warning: No enrich terms using library GO_Biological_Process_2018 when cutoff = 0.05\n",
      "2020-01-16 18:00:50,387 Warning: No enrich terms using library GO_Cellular_Component_2018 when cutoff = 0.05\n",
      "2020-01-16 18:00:52,871 Warning: No enrich terms using library Human_Phenotype_Ontology when cutoff = 0.05\n",
      "2020-01-16 18:00:55,364 Warning: No enrich terms using library WikiPathways_2019_Human when cutoff = 0.05\n",
      "2020-01-16 18:00:55,379 Warning: No enrich terms using library CUSTOM140472022501416 when cutoff = 0.05\n",
      "2020-01-16 18:00:55,401 Warning: No enrich terms using library CUSTOM140472022502784 when cutoff = 0.05\n"
     ]
    },
    {
     "name": "stdout",
     "output_type": "stream",
     "text": [
      "Empty DataFrame\n",
      "Columns: [Term, Adjusted P-value, Gene_set]\n",
      "Index: []\n",
      "Topic 134\n"
     ]
    },
    {
     "name": "stderr",
     "output_type": "stream",
     "text": [
      "2020-01-16 18:00:58,297 Warning: No enrich terms using library GO_Molecular_Function_2018 when cutoff = 0.05\n",
      "2020-01-16 18:01:00,812 Warning: No enrich terms using library GO_Biological_Process_2018 when cutoff = 0.05\n",
      "2020-01-16 18:01:03,293 Warning: No enrich terms using library GO_Cellular_Component_2018 when cutoff = 0.05\n"
     ]
    },
    {
     "name": "stdout",
     "output_type": "stream",
     "text": [
      "<class 'requests.exceptions.ConnectionError'> ('Connection aborted.', ConnectionResetError(104, 'Connection reset by peer')) <traceback object at 0x7fc22af68e88>\n",
      "Empty DataFrame\n",
      "Columns: [Term, Adjusted P-value, Gene_set]\n",
      "Index: []\n",
      "Topic 135\n"
     ]
    },
    {
     "name": "stderr",
     "output_type": "stream",
     "text": [
      "2020-01-16 18:01:06,329 Warning: No enrich terms using library GO_Molecular_Function_2018 when cutoff = 0.05\n",
      "2020-01-16 18:01:08,808 Warning: No enrich terms using library GO_Biological_Process_2018 when cutoff = 0.05\n",
      "2020-01-16 18:01:11,266 Warning: No enrich terms using library GO_Cellular_Component_2018 when cutoff = 0.05\n",
      "2020-01-16 18:01:16,288 Warning: No enrich terms using library WikiPathways_2019_Human when cutoff = 0.05\n",
      "2020-01-16 18:01:16,297 Warning: No enrich terms using library CUSTOM140472022457008 when cutoff = 0.05\n",
      "2020-01-16 18:01:16,326 Warning: No enrich terms using library CUSTOM140472022454992 when cutoff = 0.05\n"
     ]
    },
    {
     "name": "stdout",
     "output_type": "stream",
     "text": [
      "                    Term  Adjusted P-value                  Gene_set\n",
      "109  Sepsis (HP:0100806)          0.032637  Human_Phenotype_Ontology\n",
      "Topic 136\n"
     ]
    },
    {
     "name": "stderr",
     "output_type": "stream",
     "text": [
      "2020-01-16 18:01:19,136 Warning: No enrich terms using library GO_Molecular_Function_2018 when cutoff = 0.05\n",
      "2020-01-16 18:01:21,610 Warning: No enrich terms using library GO_Biological_Process_2018 when cutoff = 0.05\n",
      "2020-01-16 18:01:24,077 Warning: No enrich terms using library GO_Cellular_Component_2018 when cutoff = 0.05\n",
      "2020-01-16 18:01:26,541 Warning: No enrich terms using library Human_Phenotype_Ontology when cutoff = 0.05\n",
      "2020-01-16 18:01:29,011 Warning: No enrich terms using library WikiPathways_2019_Human when cutoff = 0.05\n",
      "2020-01-16 18:01:29,028 Warning: No enrich terms using library CUSTOM140472023578232 when cutoff = 0.05\n"
     ]
    },
    {
     "name": "stdout",
     "output_type": "stream",
     "text": [
      "Empty DataFrame\n",
      "Columns: [Term, Adjusted P-value, Gene_set]\n",
      "Index: []\n",
      "Topic 137\n"
     ]
    },
    {
     "name": "stderr",
     "output_type": "stream",
     "text": [
      "2020-01-16 18:01:31,879 Warning: No enrich terms using library GO_Molecular_Function_2018 when cutoff = 0.05\n",
      "2020-01-16 18:01:34,356 Warning: No enrich terms using library GO_Biological_Process_2018 when cutoff = 0.05\n",
      "2020-01-16 18:01:36,829 Warning: No enrich terms using library GO_Cellular_Component_2018 when cutoff = 0.05\n",
      "2020-01-16 18:01:39,306 Warning: No enrich terms using library Human_Phenotype_Ontology when cutoff = 0.05\n",
      "2020-01-16 18:01:41,776 Warning: No enrich terms using library WikiPathways_2019_Human when cutoff = 0.05\n",
      "2020-01-16 18:01:41,795 Warning: No enrich terms using library CUSTOM140471922363416 when cutoff = 0.05\n"
     ]
    },
    {
     "name": "stdout",
     "output_type": "stream",
     "text": [
      "Empty DataFrame\n",
      "Columns: [Term, Adjusted P-value, Gene_set]\n",
      "Index: []\n",
      "Topic 138\n"
     ]
    },
    {
     "name": "stderr",
     "output_type": "stream",
     "text": [
      "2020-01-16 18:01:44,610 Warning: No enrich terms using library GO_Molecular_Function_2018 when cutoff = 0.05\n",
      "2020-01-16 18:01:47,076 Warning: No enrich terms using library GO_Biological_Process_2018 when cutoff = 0.05\n",
      "2020-01-16 18:01:49,550 Warning: No enrich terms using library GO_Cellular_Component_2018 when cutoff = 0.05\n",
      "2020-01-16 18:01:52,022 Warning: No enrich terms using library Human_Phenotype_Ontology when cutoff = 0.05\n",
      "2020-01-16 18:01:54,493 Warning: No enrich terms using library WikiPathways_2019_Human when cutoff = 0.05\n"
     ]
    },
    {
     "name": "stdout",
     "output_type": "stream",
     "text": [
      "                                       Term  Adjusted P-value  \\\n",
      "6  REACTOME_SCAVENGING_BY_CLASS_A_RECEPTORS          0.034077   \n",
      "\n",
      "                Gene_set  \n",
      "6  CUSTOM140472022267872  \n",
      "Topic 139\n"
     ]
    },
    {
     "name": "stderr",
     "output_type": "stream",
     "text": [
      "2020-01-16 18:01:57,435 Warning: No enrich terms using library GO_Molecular_Function_2018 when cutoff = 0.05\n",
      "2020-01-16 18:01:59,902 Warning: No enrich terms using library GO_Biological_Process_2018 when cutoff = 0.05\n",
      "2020-01-16 18:02:02,369 Warning: No enrich terms using library GO_Cellular_Component_2018 when cutoff = 0.05\n",
      "2020-01-16 18:02:04,839 Warning: No enrich terms using library Human_Phenotype_Ontology when cutoff = 0.05\n",
      "2020-01-16 18:02:07,303 Warning: No enrich terms using library WikiPathways_2019_Human when cutoff = 0.05\n"
     ]
    },
    {
     "name": "stdout",
     "output_type": "stream",
     "text": [
      "                                          Term  Adjusted P-value  \\\n",
      "8   HALLMARK_EPITHELIAL_MESENCHYMAL_TRANSITION            0.0400   \n",
      "9                      HALLMARK_UV_RESPONSE_DN            0.0400   \n",
      "12        REACTOME_G_ALPHA_Z_SIGNALLING_EVENTS            0.0384   \n",
      "\n",
      "                 Gene_set  \n",
      "8   CUSTOM140471877299584  \n",
      "9   CUSTOM140471877299584  \n",
      "12  CUSTOM140471877298000  \n",
      "Topic 140\n"
     ]
    },
    {
     "name": "stderr",
     "output_type": "stream",
     "text": [
      "2020-01-16 18:02:10,347 Warning: No enrich terms using library GO_Molecular_Function_2018 when cutoff = 0.05\n",
      "2020-01-16 18:02:12,881 Warning: No enrich terms using library GO_Biological_Process_2018 when cutoff = 0.05\n",
      "2020-01-16 18:02:15,353 Warning: No enrich terms using library GO_Cellular_Component_2018 when cutoff = 0.05\n",
      "2020-01-16 18:02:17,825 Warning: No enrich terms using library Human_Phenotype_Ontology when cutoff = 0.05\n",
      "2020-01-16 18:02:20,292 Warning: No enrich terms using library WikiPathways_2019_Human when cutoff = 0.05\n",
      "2020-01-16 18:02:20,309 Warning: No enrich terms using library CUSTOM140471918850624 when cutoff = 0.05\n"
     ]
    },
    {
     "name": "stdout",
     "output_type": "stream",
     "text": [
      "Empty DataFrame\n",
      "Columns: [Term, Adjusted P-value, Gene_set]\n",
      "Index: []\n",
      "Topic 141\n"
     ]
    },
    {
     "name": "stderr",
     "output_type": "stream",
     "text": [
      "2020-01-16 18:02:23,146 Warning: No enrich terms using library GO_Molecular_Function_2018 when cutoff = 0.05\n",
      "2020-01-16 18:02:25,628 Warning: No enrich terms using library GO_Biological_Process_2018 when cutoff = 0.05\n",
      "2020-01-16 18:02:28,091 Warning: No enrich terms using library GO_Cellular_Component_2018 when cutoff = 0.05\n",
      "2020-01-16 18:02:30,553 Warning: No enrich terms using library Human_Phenotype_Ontology when cutoff = 0.05\n",
      "2020-01-16 18:02:33,017 Warning: No enrich terms using library WikiPathways_2019_Human when cutoff = 0.05\n"
     ]
    },
    {
     "name": "stdout",
     "output_type": "stream",
     "text": [
      "Empty DataFrame\n",
      "Columns: [Term, Adjusted P-value, Gene_set]\n",
      "Index: []\n",
      "Topic 142\n"
     ]
    },
    {
     "name": "stderr",
     "output_type": "stream",
     "text": [
      "2020-01-16 18:02:35,837 Warning: No enrich terms using library GO_Molecular_Function_2018 when cutoff = 0.05\n",
      "2020-01-16 18:02:38,310 Warning: No enrich terms using library GO_Biological_Process_2018 when cutoff = 0.05\n",
      "2020-01-16 18:02:40,774 Warning: No enrich terms using library GO_Cellular_Component_2018 when cutoff = 0.05\n",
      "2020-01-16 18:02:43,240 Warning: No enrich terms using library Human_Phenotype_Ontology when cutoff = 0.05\n",
      "2020-01-16 18:02:45,704 Warning: No enrich terms using library WikiPathways_2019_Human when cutoff = 0.05\n"
     ]
    },
    {
     "name": "stdout",
     "output_type": "stream",
     "text": [
      "Empty DataFrame\n",
      "Columns: [Term, Adjusted P-value, Gene_set]\n",
      "Index: []\n",
      "Topic 143\n"
     ]
    },
    {
     "name": "stderr",
     "output_type": "stream",
     "text": [
      "2020-01-16 18:02:48,568 Warning: No enrich terms using library GO_Molecular_Function_2018 when cutoff = 0.05\n",
      "2020-01-16 18:02:51,050 Warning: No enrich terms using library GO_Biological_Process_2018 when cutoff = 0.05\n",
      "2020-01-16 18:02:53,509 Warning: No enrich terms using library GO_Cellular_Component_2018 when cutoff = 0.05\n",
      "2020-01-16 18:02:55,996 Warning: No enrich terms using library Human_Phenotype_Ontology when cutoff = 0.05\n",
      "2020-01-16 18:02:58,469 Warning: No enrich terms using library WikiPathways_2019_Human when cutoff = 0.05\n",
      "2020-01-16 18:02:58,477 Warning: No enrich terms using library CUSTOM140472023553728 when cutoff = 0.05\n"
     ]
    },
    {
     "name": "stdout",
     "output_type": "stream",
     "text": [
      "                                           Term  Adjusted P-value  \\\n",
      "97  REACTOME_HYALURONAN_BIOSYNTHESIS_AND_EXPORT          0.044964   \n",
      "\n",
      "                 Gene_set  \n",
      "97  CUSTOM140472023552504  \n",
      "Topic 144\n"
     ]
    },
    {
     "name": "stderr",
     "output_type": "stream",
     "text": [
      "2020-01-16 18:03:06,834 Warning: No enrich terms using library GO_Cellular_Component_2018 when cutoff = 0.05\n",
      "2020-01-16 18:03:11,933 Warning: No enrich terms using library WikiPathways_2019_Human when cutoff = 0.05\n",
      "2020-01-16 18:03:11,945 Warning: No enrich terms using library CUSTOM140471922736728 when cutoff = 0.05\n"
     ]
    },
    {
     "name": "stdout",
     "output_type": "stream",
     "text": [
      "                                                 Term  Adjusted P-value  \\\n",
      "0   anion transmembrane transporter activity (GO:0...          0.000011   \n",
      "1     inorganic anion exchanger activity (GO:0005452)          0.000018   \n",
      "2   sodium-independent organic anion transmembrane...          0.000024   \n",
      "3   inorganic anion transmembrane transporter acti...          0.000086   \n",
      "4   secondary active transmembrane transporter act...          0.000252   \n",
      "5   organic anion transmembrane transporter activi...          0.000266   \n",
      "6   sodium ion transmembrane transporter activity ...          0.000241   \n",
      "7     cation:chloride symporter activity (GO:0015377)          0.007111   \n",
      "8       potassium ion symporter activity (GO:0022820)          0.006321   \n",
      "9   salt transmembrane transporter activity (GO:19...          0.005689   \n",
      "10  potassium:chloride symporter activity (GO:0015...          0.005172   \n",
      "11  urate transmembrane transporter activity (GO:0...          0.004741   \n",
      "12                    symporter activity (GO:0015293)          0.008005   \n",
      "13  organic acid transmembrane transporter activit...          0.015261   \n",
      "14  monovalent inorganic cation transmembrane tran...          0.014244   \n",
      "15  metal ion transmembrane transporter activity (...          0.029285   \n",
      "36  sodium-independent organic anion transport (GO...          0.000523   \n",
      "37               organic anion transport (GO:0015711)          0.000834   \n",
      "38                       anion transport (GO:0006820)          0.000955   \n",
      "39  monovalent inorganic anion homeostasis (GO:005...          0.000873   \n",
      "\n",
      "                      Gene_set  \n",
      "0   GO_Molecular_Function_2018  \n",
      "1   GO_Molecular_Function_2018  \n",
      "2   GO_Molecular_Function_2018  \n",
      "3   GO_Molecular_Function_2018  \n",
      "4   GO_Molecular_Function_2018  \n",
      "5   GO_Molecular_Function_2018  \n",
      "6   GO_Molecular_Function_2018  \n",
      "7   GO_Molecular_Function_2018  \n",
      "8   GO_Molecular_Function_2018  \n",
      "9   GO_Molecular_Function_2018  \n",
      "10  GO_Molecular_Function_2018  \n",
      "11  GO_Molecular_Function_2018  \n",
      "12  GO_Molecular_Function_2018  \n",
      "13  GO_Molecular_Function_2018  \n",
      "14  GO_Molecular_Function_2018  \n",
      "15  GO_Molecular_Function_2018  \n",
      "36  GO_Biological_Process_2018  \n",
      "37  GO_Biological_Process_2018  \n",
      "38  GO_Biological_Process_2018  \n",
      "39  GO_Biological_Process_2018  \n",
      "Topic 145\n"
     ]
    },
    {
     "name": "stderr",
     "output_type": "stream",
     "text": [
      "2020-01-16 18:03:15,024 Warning: No enrich terms using library GO_Molecular_Function_2018 when cutoff = 0.05\n",
      "2020-01-16 18:03:17,525 Warning: No enrich terms using library GO_Biological_Process_2018 when cutoff = 0.05\n",
      "2020-01-16 18:03:20,024 Warning: No enrich terms using library GO_Cellular_Component_2018 when cutoff = 0.05\n",
      "2020-01-16 18:03:22,567 Warning: No enrich terms using library Human_Phenotype_Ontology when cutoff = 0.05\n",
      "2020-01-16 18:03:25,051 Warning: No enrich terms using library WikiPathways_2019_Human when cutoff = 0.05\n",
      "2020-01-16 18:03:25,082 Warning: No enrich terms using library CUSTOM140472023854176 when cutoff = 0.05\n"
     ]
    },
    {
     "name": "stdout",
     "output_type": "stream",
     "text": [
      "Empty DataFrame\n",
      "Columns: [Term, Adjusted P-value, Gene_set]\n",
      "Index: []\n",
      "Topic 146\n",
      "<class 'requests.exceptions.ConnectionError'> ('Connection aborted.', ConnectionResetError(104, 'Connection reset by peer')) <traceback object at 0x7fc22b63da48>\n",
      "Empty DataFrame\n",
      "Columns: [Term, Adjusted P-value, Gene_set]\n",
      "Index: []\n",
      "Topic 147\n"
     ]
    },
    {
     "name": "stderr",
     "output_type": "stream",
     "text": [
      "2020-01-16 18:03:28,502 Warning: No enrich terms using library GO_Molecular_Function_2018 when cutoff = 0.05\n",
      "2020-01-16 18:03:30,998 Warning: No enrich terms using library GO_Biological_Process_2018 when cutoff = 0.05\n",
      "2020-01-16 18:03:33,469 Warning: No enrich terms using library GO_Cellular_Component_2018 when cutoff = 0.05\n",
      "2020-01-16 18:03:35,943 Warning: No enrich terms using library Human_Phenotype_Ontology when cutoff = 0.05\n",
      "2020-01-16 18:03:38,428 Warning: No enrich terms using library WikiPathways_2019_Human when cutoff = 0.05\n",
      "2020-01-16 18:03:38,453 Warning: No enrich terms using library CUSTOM140472022556320 when cutoff = 0.05\n"
     ]
    },
    {
     "name": "stdout",
     "output_type": "stream",
     "text": [
      "Empty DataFrame\n",
      "Columns: [Term, Adjusted P-value, Gene_set]\n",
      "Index: []\n",
      "Topic 148\n"
     ]
    },
    {
     "name": "stderr",
     "output_type": "stream",
     "text": [
      "2020-01-16 18:03:41,287 Warning: No enrich terms using library GO_Molecular_Function_2018 when cutoff = 0.05\n",
      "2020-01-16 18:03:43,756 Warning: No enrich terms using library GO_Biological_Process_2018 when cutoff = 0.05\n",
      "2020-01-16 18:03:46,220 Warning: No enrich terms using library GO_Cellular_Component_2018 when cutoff = 0.05\n",
      "2020-01-16 18:03:48,683 Warning: No enrich terms using library Human_Phenotype_Ontology when cutoff = 0.05\n",
      "2020-01-16 18:03:51,145 Warning: No enrich terms using library WikiPathways_2019_Human when cutoff = 0.05\n"
     ]
    },
    {
     "name": "stdout",
     "output_type": "stream",
     "text": [
      "Empty DataFrame\n",
      "Columns: [Term, Adjusted P-value, Gene_set]\n",
      "Index: []\n",
      "Topic 149\n"
     ]
    },
    {
     "name": "stderr",
     "output_type": "stream",
     "text": [
      "2020-01-16 18:03:53,961 Warning: No enrich terms using library GO_Molecular_Function_2018 when cutoff = 0.05\n",
      "2020-01-16 18:03:56,431 Warning: No enrich terms using library GO_Biological_Process_2018 when cutoff = 0.05\n",
      "2020-01-16 18:03:58,896 Warning: No enrich terms using library GO_Cellular_Component_2018 when cutoff = 0.05\n",
      "2020-01-16 18:04:01,371 Warning: No enrich terms using library Human_Phenotype_Ontology when cutoff = 0.05\n",
      "2020-01-16 18:04:03,837 Warning: No enrich terms using library WikiPathways_2019_Human when cutoff = 0.05\n"
     ]
    },
    {
     "name": "stdout",
     "output_type": "stream",
     "text": [
      "                                    Term  Adjusted P-value  \\\n",
      "66                   HALLMARK_MYOGENESIS          0.003185   \n",
      "67       KEGG_CARDIAC_MUSCLE_CONTRACTION          0.044599   \n",
      "68           KEGG_DILATED_CARDIOMYOPATHY          0.044599   \n",
      "69  KEGG_HYPERTROPHIC_CARDIOMYOPATHY_HCM          0.044599   \n",
      "71  REACTOME_STRIATED_MUSCLE_CONTRACTION          0.044599   \n",
      "\n",
      "                 Gene_set  \n",
      "66  CUSTOM140471954021616  \n",
      "67  CUSTOM140471968246520  \n",
      "68  CUSTOM140471968246520  \n",
      "69  CUSTOM140471968246520  \n",
      "71  CUSTOM140471968246520  \n",
      "Topic 150\n"
     ]
    },
    {
     "name": "stderr",
     "output_type": "stream",
     "text": [
      "2020-01-16 18:04:06,888 Warning: No enrich terms using library GO_Molecular_Function_2018 when cutoff = 0.05\n",
      "2020-01-16 18:04:09,365 Warning: No enrich terms using library GO_Biological_Process_2018 when cutoff = 0.05\n",
      "2020-01-16 18:04:11,826 Warning: No enrich terms using library GO_Cellular_Component_2018 when cutoff = 0.05\n",
      "2020-01-16 18:04:14,290 Warning: No enrich terms using library Human_Phenotype_Ontology when cutoff = 0.05\n",
      "2020-01-16 18:04:16,878 Warning: No enrich terms using library WikiPathways_2019_Human when cutoff = 0.05\n"
     ]
    },
    {
     "name": "stdout",
     "output_type": "stream",
     "text": [
      "                               Term  Adjusted P-value               Gene_set\n",
      "3  HALLMARK_ESTROGEN_RESPONSE_EARLY              0.04  CUSTOM140471954579320\n",
      "Topic 151\n"
     ]
    },
    {
     "name": "stderr",
     "output_type": "stream",
     "text": [
      "2020-01-16 18:04:19,816 Warning: No enrich terms using library GO_Molecular_Function_2018 when cutoff = 0.05\n",
      "2020-01-16 18:04:22,284 Warning: No enrich terms using library GO_Biological_Process_2018 when cutoff = 0.05\n",
      "2020-01-16 18:04:24,749 Warning: No enrich terms using library GO_Cellular_Component_2018 when cutoff = 0.05\n",
      "2020-01-16 18:04:27,211 Warning: No enrich terms using library Human_Phenotype_Ontology when cutoff = 0.05\n",
      "2020-01-16 18:04:29,684 Warning: No enrich terms using library WikiPathways_2019_Human when cutoff = 0.05\n",
      "2020-01-16 18:04:29,694 Warning: No enrich terms using library CUSTOM140471953434520 when cutoff = 0.05\n"
     ]
    },
    {
     "name": "stdout",
     "output_type": "stream",
     "text": [
      "                                             Term  Adjusted P-value  \\\n",
      "53  REACTOME_METABOLISM_OF_AMINE_DERIVED_HORMONES          0.026908   \n",
      "57                REACTOME_THYROXINE_BIOSYNTHESIS          0.026908   \n",
      "\n",
      "                 Gene_set  \n",
      "53  CUSTOM140471953435096  \n",
      "57  CUSTOM140471953435096  \n",
      "Topic 152\n"
     ]
    },
    {
     "name": "stderr",
     "output_type": "stream",
     "text": [
      "2020-01-16 18:04:32,684 Warning: No enrich terms using library GO_Molecular_Function_2018 when cutoff = 0.05\n",
      "2020-01-16 18:04:40,425 Warning: No enrich terms using library Human_Phenotype_Ontology when cutoff = 0.05\n",
      "2020-01-16 18:04:42,905 Warning: No enrich terms using library WikiPathways_2019_Human when cutoff = 0.05\n",
      "2020-01-16 18:04:42,915 Warning: No enrich terms using library CUSTOM140472023579312 when cutoff = 0.05\n",
      "2020-01-16 18:04:42,948 Warning: No enrich terms using library CUSTOM140472023579960 when cutoff = 0.05\n"
     ]
    },
    {
     "name": "stdout",
     "output_type": "stream",
     "text": [
      "                                                  Term  Adjusted P-value  \\\n",
      "28               neutrophil degranulation (GO:0043312)          0.008986   \n",
      "29   neutrophil activation involved in immune respo...          0.004681   \n",
      "30           neutrophil mediated immunity (GO:0002446)          0.003250   \n",
      "31   negative regulation of intrinsic apoptotic sig...          0.004276   \n",
      "205                      specific granule (GO:0042581)          0.025805   \n",
      "206                      tertiary granule (GO:0070820)          0.013887   \n",
      "207                tertiary granule lumen (GO:1904724)          0.048977   \n",
      "\n",
      "                       Gene_set  \n",
      "28   GO_Biological_Process_2018  \n",
      "29   GO_Biological_Process_2018  \n",
      "30   GO_Biological_Process_2018  \n",
      "31   GO_Biological_Process_2018  \n",
      "205  GO_Cellular_Component_2018  \n",
      "206  GO_Cellular_Component_2018  \n",
      "207  GO_Cellular_Component_2018  \n",
      "Topic 153\n"
     ]
    },
    {
     "name": "stderr",
     "output_type": "stream",
     "text": [
      "2020-01-16 18:04:45,779 Warning: No enrich terms using library GO_Molecular_Function_2018 when cutoff = 0.05\n",
      "2020-01-16 18:04:48,246 Warning: No enrich terms using library GO_Biological_Process_2018 when cutoff = 0.05\n",
      "2020-01-16 18:04:50,711 Warning: No enrich terms using library GO_Cellular_Component_2018 when cutoff = 0.05\n",
      "2020-01-16 18:04:53,199 Warning: No enrich terms using library Human_Phenotype_Ontology when cutoff = 0.05\n",
      "2020-01-16 18:04:55,679 Warning: No enrich terms using library WikiPathways_2019_Human when cutoff = 0.05\n"
     ]
    },
    {
     "name": "stdout",
     "output_type": "stream",
     "text": [
      "                                                 Term  Adjusted P-value  \\\n",
      "22                              BIOCARTA_ACE2_PATHWAY          0.014351   \n",
      "23                      KEGG_RENIN_ANGIOTENSIN_SYSTEM          0.014351   \n",
      "24  REACTOME_METABOLISM_OF_ANGIOTENSINOGEN_TO_ANGI...          0.014351   \n",
      "\n",
      "                 Gene_set  \n",
      "22  CUSTOM140471909607824  \n",
      "23  CUSTOM140471909607824  \n",
      "24  CUSTOM140471909607824  \n",
      "Topic 154\n"
     ]
    },
    {
     "name": "stderr",
     "output_type": "stream",
     "text": [
      "2020-01-16 18:04:58,610 Warning: No enrich terms using library GO_Molecular_Function_2018 when cutoff = 0.05\n",
      "2020-01-16 18:05:01,090 Warning: No enrich terms using library GO_Biological_Process_2018 when cutoff = 0.05\n",
      "2020-01-16 18:05:03,557 Warning: No enrich terms using library GO_Cellular_Component_2018 when cutoff = 0.05\n",
      "2020-01-16 18:05:06,025 Warning: No enrich terms using library Human_Phenotype_Ontology when cutoff = 0.05\n",
      "2020-01-16 18:05:08,512 Warning: No enrich terms using library WikiPathways_2019_Human when cutoff = 0.05\n",
      "2020-01-16 18:05:08,555 Warning: No enrich terms using library CUSTOM140471921209488 when cutoff = 0.05\n"
     ]
    },
    {
     "name": "stdout",
     "output_type": "stream",
     "text": [
      "Empty DataFrame\n",
      "Columns: [Term, Adjusted P-value, Gene_set]\n",
      "Index: []\n",
      "Topic 155\n"
     ]
    },
    {
     "name": "stderr",
     "output_type": "stream",
     "text": [
      "2020-01-16 18:05:11,582 Warning: No enrich terms using library GO_Molecular_Function_2018 when cutoff = 0.05\n",
      "2020-01-16 18:05:14,056 Warning: No enrich terms using library GO_Biological_Process_2018 when cutoff = 0.05\n",
      "2020-01-16 18:05:16,536 Warning: No enrich terms using library GO_Cellular_Component_2018 when cutoff = 0.05\n",
      "2020-01-16 18:05:19,004 Warning: No enrich terms using library Human_Phenotype_Ontology when cutoff = 0.05\n",
      "2020-01-16 18:05:21,466 Warning: No enrich terms using library WikiPathways_2019_Human when cutoff = 0.05\n",
      "2020-01-16 18:05:21,474 Warning: No enrich terms using library CUSTOM140471928755472 when cutoff = 0.05\n"
     ]
    },
    {
     "name": "stdout",
     "output_type": "stream",
     "text": [
      "Empty DataFrame\n",
      "Columns: [Term, Adjusted P-value, Gene_set]\n",
      "Index: []\n",
      "Topic 156\n"
     ]
    },
    {
     "name": "stderr",
     "output_type": "stream",
     "text": [
      "2020-01-16 18:05:24,332 Warning: No enrich terms using library GO_Molecular_Function_2018 when cutoff = 0.05\n",
      "2020-01-16 18:05:26,815 Warning: No enrich terms using library GO_Biological_Process_2018 when cutoff = 0.05\n",
      "2020-01-16 18:05:29,301 Warning: No enrich terms using library GO_Cellular_Component_2018 when cutoff = 0.05\n",
      "2020-01-16 18:05:31,781 Warning: No enrich terms using library Human_Phenotype_Ontology when cutoff = 0.05\n",
      "2020-01-16 18:05:34,242 Warning: No enrich terms using library WikiPathways_2019_Human when cutoff = 0.05\n",
      "2020-01-16 18:05:34,250 Warning: No enrich terms using library CUSTOM140471916374848 when cutoff = 0.05\n",
      "2020-01-16 18:05:34,268 Warning: No enrich terms using library CUSTOM140471916375784 when cutoff = 0.05\n"
     ]
    },
    {
     "name": "stdout",
     "output_type": "stream",
     "text": [
      "Empty DataFrame\n",
      "Columns: [Term, Adjusted P-value, Gene_set]\n",
      "Index: []\n",
      "Topic 157\n"
     ]
    },
    {
     "name": "stderr",
     "output_type": "stream",
     "text": [
      "2020-01-16 18:05:37,109 Warning: No enrich terms using library GO_Molecular_Function_2018 when cutoff = 0.05\n",
      "2020-01-16 18:05:39,574 Warning: No enrich terms using library GO_Biological_Process_2018 when cutoff = 0.05\n",
      "2020-01-16 18:05:42,036 Warning: No enrich terms using library GO_Cellular_Component_2018 when cutoff = 0.05\n",
      "2020-01-16 18:05:44,496 Warning: No enrich terms using library Human_Phenotype_Ontology when cutoff = 0.05\n",
      "2020-01-16 18:05:46,957 Warning: No enrich terms using library WikiPathways_2019_Human when cutoff = 0.05\n"
     ]
    },
    {
     "name": "stdout",
     "output_type": "stream",
     "text": [
      "Empty DataFrame\n",
      "Columns: [Term, Adjusted P-value, Gene_set]\n",
      "Index: []\n",
      "Topic 158\n"
     ]
    },
    {
     "name": "stderr",
     "output_type": "stream",
     "text": [
      "2020-01-16 18:05:49,773 Warning: No enrich terms using library GO_Molecular_Function_2018 when cutoff = 0.05\n",
      "2020-01-16 18:05:52,240 Warning: No enrich terms using library GO_Biological_Process_2018 when cutoff = 0.05\n",
      "2020-01-16 18:05:54,706 Warning: No enrich terms using library GO_Cellular_Component_2018 when cutoff = 0.05\n",
      "2020-01-16 18:05:57,177 Warning: No enrich terms using library Human_Phenotype_Ontology when cutoff = 0.05\n",
      "2020-01-16 18:05:59,647 Warning: No enrich terms using library WikiPathways_2019_Human when cutoff = 0.05\n",
      "2020-01-16 18:05:59,757 Warning: No enrich terms using library CUSTOM140472022176032 when cutoff = 0.05\n"
     ]
    },
    {
     "name": "stdout",
     "output_type": "stream",
     "text": [
      "                        Term  Adjusted P-value               Gene_set\n",
      "10      HALLMARK_COAGULATION              0.04  CUSTOM140472022177472\n",
      "11  HALLMARK_HEME_METABOLISM              0.04  CUSTOM140472022177472\n",
      "Topic 159\n"
     ]
    },
    {
     "name": "stderr",
     "output_type": "stream",
     "text": [
      "2020-01-16 18:06:07,932 Warning: No enrich terms using library GO_Cellular_Component_2018 when cutoff = 0.05\n",
      "2020-01-16 18:06:10,425 Warning: No enrich terms using library Human_Phenotype_Ontology when cutoff = 0.05\n",
      "2020-01-16 18:06:12,904 Warning: No enrich terms using library WikiPathways_2019_Human when cutoff = 0.05\n",
      "2020-01-16 18:06:12,912 Warning: No enrich terms using library CUSTOM140471959913168 when cutoff = 0.05\n",
      "2020-01-16 18:06:12,936 Warning: No enrich terms using library CUSTOM140471959914032 when cutoff = 0.05\n"
     ]
    },
    {
     "name": "stdout",
     "output_type": "stream",
     "text": [
      "                                                 Term  Adjusted P-value  \\\n",
      "0        growth hormone receptor binding (GO:0005131)          0.027824   \n",
      "30  growth hormone receptor signaling pathway (GO:...          0.006639   \n",
      "\n",
      "                      Gene_set  \n",
      "0   GO_Molecular_Function_2018  \n",
      "30  GO_Biological_Process_2018  \n",
      "Topic 160\n"
     ]
    },
    {
     "name": "stderr",
     "output_type": "stream",
     "text": [
      "2020-01-16 18:06:15,782 Warning: No enrich terms using library GO_Molecular_Function_2018 when cutoff = 0.05\n",
      "2020-01-16 18:06:18,281 Warning: No enrich terms using library GO_Biological_Process_2018 when cutoff = 0.05\n",
      "2020-01-16 18:06:20,741 Warning: No enrich terms using library GO_Cellular_Component_2018 when cutoff = 0.05\n",
      "2020-01-16 18:06:23,276 Warning: No enrich terms using library Human_Phenotype_Ontology when cutoff = 0.05\n",
      "2020-01-16 18:06:25,747 Warning: No enrich terms using library WikiPathways_2019_Human when cutoff = 0.05\n",
      "2020-01-16 18:06:25,756 Warning: No enrich terms using library CUSTOM140472022885000 when cutoff = 0.05\n"
     ]
    },
    {
     "name": "stdout",
     "output_type": "stream",
     "text": [
      "                                    Term  Adjusted P-value  \\\n",
      "59  REACTOME_LIPID_PARTICLE_ORGANIZATION          0.035964   \n",
      "\n",
      "                 Gene_set  \n",
      "59  CUSTOM140472022885432  \n",
      "Topic 161\n"
     ]
    },
    {
     "name": "stderr",
     "output_type": "stream",
     "text": [
      "2020-01-16 18:06:28,684 Warning: No enrich terms using library GO_Molecular_Function_2018 when cutoff = 0.05\n",
      "2020-01-16 18:06:31,163 Warning: No enrich terms using library GO_Biological_Process_2018 when cutoff = 0.05\n",
      "2020-01-16 18:06:33,829 Warning: No enrich terms using library GO_Cellular_Component_2018 when cutoff = 0.05\n",
      "2020-01-16 18:06:36,294 Warning: No enrich terms using library Human_Phenotype_Ontology when cutoff = 0.05\n",
      "2020-01-16 18:06:38,753 Warning: No enrich terms using library WikiPathways_2019_Human when cutoff = 0.05\n",
      "2020-01-16 18:06:38,766 Warning: No enrich terms using library CUSTOM140471920109032 when cutoff = 0.05\n",
      "2020-01-16 18:06:38,788 Warning: No enrich terms using library CUSTOM140471920107952 when cutoff = 0.05\n"
     ]
    },
    {
     "name": "stdout",
     "output_type": "stream",
     "text": [
      "Empty DataFrame\n",
      "Columns: [Term, Adjusted P-value, Gene_set]\n",
      "Index: []\n",
      "Topic 162\n"
     ]
    },
    {
     "name": "stderr",
     "output_type": "stream",
     "text": [
      "2020-01-16 18:06:41,646 Warning: No enrich terms using library GO_Molecular_Function_2018 when cutoff = 0.05\n",
      "2020-01-16 18:06:44,128 Warning: No enrich terms using library GO_Biological_Process_2018 when cutoff = 0.05\n",
      "2020-01-16 18:06:46,592 Warning: No enrich terms using library GO_Cellular_Component_2018 when cutoff = 0.05\n",
      "2020-01-16 18:06:49,090 Warning: No enrich terms using library Human_Phenotype_Ontology when cutoff = 0.05\n",
      "2020-01-16 18:06:51,553 Warning: No enrich terms using library WikiPathways_2019_Human when cutoff = 0.05\n",
      "2020-01-16 18:06:51,562 Warning: No enrich terms using library CUSTOM140472021329024 when cutoff = 0.05\n",
      "2020-01-16 18:06:51,583 Warning: No enrich terms using library CUSTOM140472021328232 when cutoff = 0.05\n"
     ]
    },
    {
     "name": "stdout",
     "output_type": "stream",
     "text": [
      "Empty DataFrame\n",
      "Columns: [Term, Adjusted P-value, Gene_set]\n",
      "Index: []\n",
      "Topic 163\n"
     ]
    },
    {
     "name": "stderr",
     "output_type": "stream",
     "text": [
      "2020-01-16 18:06:54,480 Warning: No enrich terms using library GO_Molecular_Function_2018 when cutoff = 0.05\n",
      "2020-01-16 18:06:56,965 Warning: No enrich terms using library GO_Biological_Process_2018 when cutoff = 0.05\n",
      "2020-01-16 18:06:59,437 Warning: No enrich terms using library GO_Cellular_Component_2018 when cutoff = 0.05\n",
      "2020-01-16 18:07:01,918 Warning: No enrich terms using library Human_Phenotype_Ontology when cutoff = 0.05\n",
      "2020-01-16 18:07:04,516 Warning: No enrich terms using library CUSTOM140471895416552 when cutoff = 0.05\n"
     ]
    },
    {
     "name": "stdout",
     "output_type": "stream",
     "text": [
      "                                                  Term  Adjusted P-value  \\\n",
      "207             Codeine and Morphine Metabolism WP1604          0.029556   \n",
      "208                          Estrogen metabolism WP697          0.021504   \n",
      "209              Nuclear Receptors Meta-Pathway WP2882          0.015629   \n",
      "210                              Glucuronidation WP698          0.022754   \n",
      "211                                NRF2 pathway WP2884          0.018789   \n",
      "212  Metapathway biotransformation Phase I and II W...          0.030408   \n",
      "213               Glycolysis and Gluconeogenesis WP534          0.039258   \n",
      "255                 KEGG_STARCH_AND_SUCROSE_METABOLISM          0.036836   \n",
      "264                                  PID_HNF3B_PATHWAY          0.036836   \n",
      "\n",
      "                    Gene_set  \n",
      "207  WikiPathways_2019_Human  \n",
      "208  WikiPathways_2019_Human  \n",
      "209  WikiPathways_2019_Human  \n",
      "210  WikiPathways_2019_Human  \n",
      "211  WikiPathways_2019_Human  \n",
      "212  WikiPathways_2019_Human  \n",
      "213  WikiPathways_2019_Human  \n",
      "255    CUSTOM140471895416120  \n",
      "264    CUSTOM140471895416120  \n",
      "Topic 164\n"
     ]
    },
    {
     "name": "stderr",
     "output_type": "stream",
     "text": [
      "2020-01-16 18:07:07,435 Warning: No enrich terms using library GO_Molecular_Function_2018 when cutoff = 0.05\n",
      "2020-01-16 18:07:09,895 Warning: No enrich terms using library GO_Biological_Process_2018 when cutoff = 0.05\n",
      "2020-01-16 18:07:12,435 Warning: No enrich terms using library GO_Cellular_Component_2018 when cutoff = 0.05\n",
      "2020-01-16 18:07:14,908 Warning: No enrich terms using library Human_Phenotype_Ontology when cutoff = 0.05\n",
      "2020-01-16 18:07:17,379 Warning: No enrich terms using library WikiPathways_2019_Human when cutoff = 0.05\n",
      "2020-01-16 18:07:17,387 Warning: No enrich terms using library CUSTOM140472024133352 when cutoff = 0.05\n",
      "2020-01-16 18:07:17,407 Warning: No enrich terms using library CUSTOM140472027110064 when cutoff = 0.05\n"
     ]
    },
    {
     "name": "stdout",
     "output_type": "stream",
     "text": [
      "Empty DataFrame\n",
      "Columns: [Term, Adjusted P-value, Gene_set]\n",
      "Index: []\n",
      "Topic 165\n"
     ]
    },
    {
     "name": "stderr",
     "output_type": "stream",
     "text": [
      "2020-01-16 18:07:20,296 Warning: No enrich terms using library GO_Molecular_Function_2018 when cutoff = 0.05\n",
      "2020-01-16 18:07:27,955 Warning: No enrich terms using library Human_Phenotype_Ontology when cutoff = 0.05\n",
      "2020-01-16 18:07:30,511 Warning: No enrich terms using library CUSTOM140471885369064 when cutoff = 0.05\n"
     ]
    },
    {
     "name": "stdout",
     "output_type": "stream",
     "text": [
      "                                                  Term  Adjusted P-value  \\\n",
      "4                            fibrinolysis (GO:0042730)          0.018353   \n",
      "5    negative regulation of blood coagulation (GO:0...          0.048114   \n",
      "78           platelet alpha granule lumen (GO:0031093)          0.029455   \n",
      "79                 platelet alpha granule (GO:0031091)          0.026637   \n",
      "94           Complement and Coagulation Cascades WP558          0.023319   \n",
      "95                      Human Complement System WP2806          0.032756   \n",
      "102                      BIOCARTA_FIBRINOLYSIS_PATHWAY          0.000679   \n",
      "104           KEGG_COMPLEMENT_AND_COAGULATION_CASCADES          0.000429   \n",
      "115                        REACTOME_COMPLEMENT_CASCADE          0.032257   \n",
      "123                      REACTOME_INNATE_IMMUNE_SYSTEM          0.032257   \n",
      "137  REACTOME_RESPONSE_TO_ELEVATED_PLATELET_CYTOSOL...          0.034472   \n",
      "\n",
      "                       Gene_set  \n",
      "4    GO_Biological_Process_2018  \n",
      "5    GO_Biological_Process_2018  \n",
      "78   GO_Cellular_Component_2018  \n",
      "79   GO_Cellular_Component_2018  \n",
      "94      WikiPathways_2019_Human  \n",
      "95      WikiPathways_2019_Human  \n",
      "102       CUSTOM140471888580112  \n",
      "104       CUSTOM140471888580112  \n",
      "115       CUSTOM140471888580112  \n",
      "123       CUSTOM140471888580112  \n",
      "137       CUSTOM140471888580112  \n",
      "Topic 166\n"
     ]
    },
    {
     "name": "stderr",
     "output_type": "stream",
     "text": [
      "2020-01-16 18:07:33,481 Warning: No enrich terms using library GO_Molecular_Function_2018 when cutoff = 0.05\n",
      "2020-01-16 18:07:35,968 Warning: No enrich terms using library GO_Biological_Process_2018 when cutoff = 0.05\n",
      "2020-01-16 18:07:38,443 Warning: No enrich terms using library GO_Cellular_Component_2018 when cutoff = 0.05\n",
      "2020-01-16 18:07:40,908 Warning: No enrich terms using library Human_Phenotype_Ontology when cutoff = 0.05\n",
      "2020-01-16 18:07:43,379 Warning: No enrich terms using library WikiPathways_2019_Human when cutoff = 0.05\n",
      "2020-01-16 18:07:43,397 Warning: No enrich terms using library CUSTOM140471933516104 when cutoff = 0.05\n"
     ]
    },
    {
     "name": "stdout",
     "output_type": "stream",
     "text": [
      "Empty DataFrame\n",
      "Columns: [Term, Adjusted P-value, Gene_set]\n",
      "Index: []\n",
      "Topic 167\n"
     ]
    },
    {
     "name": "stderr",
     "output_type": "stream",
     "text": [
      "2020-01-16 18:07:46,249 Warning: No enrich terms using library GO_Molecular_Function_2018 when cutoff = 0.05\n",
      "2020-01-16 18:07:48,731 Warning: No enrich terms using library GO_Biological_Process_2018 when cutoff = 0.05\n",
      "2020-01-16 18:07:51,199 Warning: No enrich terms using library GO_Cellular_Component_2018 when cutoff = 0.05\n",
      "2020-01-16 18:07:53,673 Warning: No enrich terms using library Human_Phenotype_Ontology when cutoff = 0.05\n",
      "2020-01-16 18:07:56,142 Warning: No enrich terms using library WikiPathways_2019_Human when cutoff = 0.05\n",
      "2020-01-16 18:07:56,160 Warning: No enrich terms using library CUSTOM140471877744752 when cutoff = 0.05\n"
     ]
    },
    {
     "name": "stdout",
     "output_type": "stream",
     "text": [
      "Empty DataFrame\n",
      "Columns: [Term, Adjusted P-value, Gene_set]\n",
      "Index: []\n",
      "Topic 168\n"
     ]
    },
    {
     "name": "stderr",
     "output_type": "stream",
     "text": [
      "2020-01-16 18:07:58,998 Warning: No enrich terms using library GO_Molecular_Function_2018 when cutoff = 0.05\n",
      "2020-01-16 18:08:01,475 Warning: No enrich terms using library GO_Biological_Process_2018 when cutoff = 0.05\n",
      "2020-01-16 18:08:03,939 Warning: No enrich terms using library GO_Cellular_Component_2018 when cutoff = 0.05\n",
      "2020-01-16 18:08:06,410 Warning: No enrich terms using library Human_Phenotype_Ontology when cutoff = 0.05\n",
      "2020-01-16 18:08:08,889 Warning: No enrich terms using library WikiPathways_2019_Human when cutoff = 0.05\n",
      "2020-01-16 18:08:08,898 Warning: No enrich terms using library CUSTOM140471919971640 when cutoff = 0.05\n",
      "2020-01-16 18:08:08,921 Warning: No enrich terms using library CUSTOM140471919971208 when cutoff = 0.05\n"
     ]
    },
    {
     "name": "stdout",
     "output_type": "stream",
     "text": [
      "Empty DataFrame\n",
      "Columns: [Term, Adjusted P-value, Gene_set]\n",
      "Index: []\n",
      "Topic 169\n"
     ]
    },
    {
     "name": "stderr",
     "output_type": "stream",
     "text": [
      "2020-01-16 18:08:11,758 Warning: No enrich terms using library GO_Molecular_Function_2018 when cutoff = 0.05\n",
      "2020-01-16 18:08:14,224 Warning: No enrich terms using library GO_Biological_Process_2018 when cutoff = 0.05\n",
      "2020-01-16 18:08:16,685 Warning: No enrich terms using library GO_Cellular_Component_2018 when cutoff = 0.05\n",
      "2020-01-16 18:08:19,170 Warning: No enrich terms using library Human_Phenotype_Ontology when cutoff = 0.05\n",
      "2020-01-16 18:08:21,661 Warning: No enrich terms using library WikiPathways_2019_Human when cutoff = 0.05\n"
     ]
    },
    {
     "name": "stdout",
     "output_type": "stream",
     "text": [
      "Empty DataFrame\n",
      "Columns: [Term, Adjusted P-value, Gene_set]\n",
      "Index: []\n",
      "Topic 170\n"
     ]
    },
    {
     "name": "stderr",
     "output_type": "stream",
     "text": [
      "2020-01-16 18:08:24,498 Warning: No enrich terms using library GO_Molecular_Function_2018 when cutoff = 0.05\n",
      "2020-01-16 18:08:26,972 Warning: No enrich terms using library GO_Biological_Process_2018 when cutoff = 0.05\n",
      "2020-01-16 18:08:29,453 Warning: No enrich terms using library GO_Cellular_Component_2018 when cutoff = 0.05\n",
      "2020-01-16 18:08:31,923 Warning: No enrich terms using library Human_Phenotype_Ontology when cutoff = 0.05\n",
      "2020-01-16 18:08:34,389 Warning: No enrich terms using library WikiPathways_2019_Human when cutoff = 0.05\n",
      "2020-01-16 18:08:34,409 Warning: No enrich terms using library CUSTOM140472021645856 when cutoff = 0.05\n"
     ]
    },
    {
     "name": "stdout",
     "output_type": "stream",
     "text": [
      "Empty DataFrame\n",
      "Columns: [Term, Adjusted P-value, Gene_set]\n",
      "Index: []\n",
      "Topic 171\n"
     ]
    },
    {
     "name": "stderr",
     "output_type": "stream",
     "text": [
      "2020-01-16 18:08:37,262 Warning: No enrich terms using library GO_Molecular_Function_2018 when cutoff = 0.05\n",
      "2020-01-16 18:08:39,731 Warning: No enrich terms using library GO_Biological_Process_2018 when cutoff = 0.05\n",
      "2020-01-16 18:08:44,770 Warning: No enrich terms using library Human_Phenotype_Ontology when cutoff = 0.05\n",
      "2020-01-16 18:08:47,261 Warning: No enrich terms using library WikiPathways_2019_Human when cutoff = 0.05\n",
      "2020-01-16 18:08:47,279 Warning: No enrich terms using library CUSTOM140471880778808 when cutoff = 0.05\n"
     ]
    },
    {
     "name": "stdout",
     "output_type": "stream",
     "text": [
      "                        Term  Adjusted P-value                    Gene_set\n",
      "25  microvillus (GO:0005902)          0.019124  GO_Cellular_Component_2018\n",
      "Topic 172\n"
     ]
    },
    {
     "name": "stderr",
     "output_type": "stream",
     "text": [
      "2020-01-16 18:08:50,116 Warning: No enrich terms using library GO_Molecular_Function_2018 when cutoff = 0.05\n",
      "2020-01-16 18:08:52,588 Warning: No enrich terms using library GO_Biological_Process_2018 when cutoff = 0.05\n",
      "2020-01-16 18:08:55,052 Warning: No enrich terms using library GO_Cellular_Component_2018 when cutoff = 0.05\n",
      "2020-01-16 18:08:57,524 Warning: No enrich terms using library Human_Phenotype_Ontology when cutoff = 0.05\n",
      "2020-01-16 18:08:59,996 Warning: No enrich terms using library WikiPathways_2019_Human when cutoff = 0.05\n",
      "2020-01-16 18:09:00,008 Warning: No enrich terms using library CUSTOM140472023401384 when cutoff = 0.05\n",
      "2020-01-16 18:09:00,034 Warning: No enrich terms using library CUSTOM140472023401960 when cutoff = 0.05\n"
     ]
    },
    {
     "name": "stdout",
     "output_type": "stream",
     "text": [
      "Empty DataFrame\n",
      "Columns: [Term, Adjusted P-value, Gene_set]\n",
      "Index: []\n",
      "Topic 173\n"
     ]
    },
    {
     "name": "stderr",
     "output_type": "stream",
     "text": [
      "2020-01-16 18:09:02,958 Warning: No enrich terms using library GO_Molecular_Function_2018 when cutoff = 0.05\n",
      "2020-01-16 18:09:05,457 Warning: No enrich terms using library GO_Biological_Process_2018 when cutoff = 0.05\n",
      "2020-01-16 18:09:07,921 Warning: No enrich terms using library GO_Cellular_Component_2018 when cutoff = 0.05\n",
      "2020-01-16 18:09:10,402 Warning: No enrich terms using library Human_Phenotype_Ontology when cutoff = 0.05\n",
      "2020-01-16 18:09:12,874 Warning: No enrich terms using library WikiPathways_2019_Human when cutoff = 0.05\n",
      "2020-01-16 18:09:12,882 Warning: No enrich terms using library CUSTOM140471960411520 when cutoff = 0.05\n",
      "2020-01-16 18:09:12,910 Warning: No enrich terms using library CUSTOM140471954367832 when cutoff = 0.05\n"
     ]
    },
    {
     "name": "stdout",
     "output_type": "stream",
     "text": [
      "Empty DataFrame\n",
      "Columns: [Term, Adjusted P-value, Gene_set]\n",
      "Index: []\n",
      "Topic 174\n"
     ]
    },
    {
     "name": "stderr",
     "output_type": "stream",
     "text": [
      "2020-01-16 18:09:15,723 Warning: No enrich terms using library GO_Molecular_Function_2018 when cutoff = 0.05\n",
      "2020-01-16 18:09:18,221 Warning: No enrich terms using library GO_Biological_Process_2018 when cutoff = 0.05\n",
      "2020-01-16 18:09:20,682 Warning: No enrich terms using library GO_Cellular_Component_2018 when cutoff = 0.05\n",
      "2020-01-16 18:09:23,146 Warning: No enrich terms using library Human_Phenotype_Ontology when cutoff = 0.05\n",
      "2020-01-16 18:09:25,613 Warning: No enrich terms using library WikiPathways_2019_Human when cutoff = 0.05\n"
     ]
    },
    {
     "name": "stdout",
     "output_type": "stream",
     "text": [
      "                                Term  Adjusted P-value               Gene_set\n",
      "57     KEGG_PRIMARY_IMMUNODEFICIENCY          0.041857  CUSTOM140472027267936\n",
      "59  REACTOME_INTERLEUKIN_7_SIGNALING          0.041857  CUSTOM140472027267936\n",
      "Topic 175\n"
     ]
    },
    {
     "name": "stderr",
     "output_type": "stream",
     "text": [
      "2020-01-16 18:09:28,565 Warning: No enrich terms using library GO_Molecular_Function_2018 when cutoff = 0.05\n",
      "2020-01-16 18:09:31,049 Warning: No enrich terms using library GO_Biological_Process_2018 when cutoff = 0.05\n",
      "2020-01-16 18:09:33,536 Warning: No enrich terms using library GO_Cellular_Component_2018 when cutoff = 0.05\n",
      "2020-01-16 18:09:35,991 Warning: No enrich terms using library Human_Phenotype_Ontology when cutoff = 0.05\n",
      "2020-01-16 18:09:38,466 Warning: No enrich terms using library WikiPathways_2019_Human when cutoff = 0.05\n"
     ]
    },
    {
     "name": "stdout",
     "output_type": "stream",
     "text": [
      "Empty DataFrame\n",
      "Columns: [Term, Adjusted P-value, Gene_set]\n",
      "Index: []\n",
      "Topic 176\n"
     ]
    },
    {
     "name": "stderr",
     "output_type": "stream",
     "text": [
      "2020-01-16 18:09:41,399 Warning: No enrich terms using library GO_Molecular_Function_2018 when cutoff = 0.05\n"
     ]
    },
    {
     "name": "stdout",
     "output_type": "stream",
     "text": [
      "<class 'requests.exceptions.ConnectionError'> ('Connection aborted.', ConnectionResetError(104, 'Connection reset by peer')) <traceback object at 0x7fc22b775808>\n",
      "Empty DataFrame\n",
      "Columns: [Term, Adjusted P-value, Gene_set]\n",
      "Index: []\n",
      "Topic 177\n"
     ]
    },
    {
     "name": "stderr",
     "output_type": "stream",
     "text": [
      "2020-01-16 18:09:44,474 Warning: No enrich terms using library GO_Molecular_Function_2018 when cutoff = 0.05\n",
      "2020-01-16 18:09:46,949 Warning: No enrich terms using library GO_Biological_Process_2018 when cutoff = 0.05\n",
      "2020-01-16 18:09:49,426 Warning: No enrich terms using library GO_Cellular_Component_2018 when cutoff = 0.05\n",
      "2020-01-16 18:09:51,889 Warning: No enrich terms using library Human_Phenotype_Ontology when cutoff = 0.05\n",
      "2020-01-16 18:09:54,356 Warning: No enrich terms using library WikiPathways_2019_Human when cutoff = 0.05\n"
     ]
    },
    {
     "name": "stdout",
     "output_type": "stream",
     "text": [
      "                                          Term  Adjusted P-value  \\\n",
      "1             HALLMARK_ESTROGEN_RESPONSE_EARLY          0.040000   \n",
      "2                        BIOCARTA_MTA3_PATHWAY          0.017000   \n",
      "3                      PID_ERA_GENOMIC_PATHWAY          0.032000   \n",
      "5  REACTOME_ESTROGEN_DEPENDENT_GENE_EXPRESSION          0.049333   \n",
      "\n",
      "                Gene_set  \n",
      "1  CUSTOM140472022522400  \n",
      "2  CUSTOM140472022520168  \n",
      "3  CUSTOM140472022520168  \n",
      "5  CUSTOM140472022520168  \n",
      "Topic 178\n"
     ]
    },
    {
     "name": "stderr",
     "output_type": "stream",
     "text": [
      "2020-01-16 18:09:57,403 Warning: No enrich terms using library GO_Molecular_Function_2018 when cutoff = 0.05\n",
      "2020-01-16 18:09:59,879 Warning: No enrich terms using library GO_Biological_Process_2018 when cutoff = 0.05\n",
      "2020-01-16 18:10:02,338 Warning: No enrich terms using library GO_Cellular_Component_2018 when cutoff = 0.05\n",
      "2020-01-16 18:10:04,803 Warning: No enrich terms using library Human_Phenotype_Ontology when cutoff = 0.05\n",
      "2020-01-16 18:10:07,269 Warning: No enrich terms using library WikiPathways_2019_Human when cutoff = 0.05\n"
     ]
    },
    {
     "name": "stdout",
     "output_type": "stream",
     "text": [
      "Empty DataFrame\n",
      "Columns: [Term, Adjusted P-value, Gene_set]\n",
      "Index: []\n",
      "Topic 179\n"
     ]
    },
    {
     "name": "stderr",
     "output_type": "stream",
     "text": [
      "2020-01-16 18:10:10,116 Warning: No enrich terms using library GO_Molecular_Function_2018 when cutoff = 0.05\n",
      "2020-01-16 18:10:12,576 Warning: No enrich terms using library GO_Biological_Process_2018 when cutoff = 0.05\n",
      "2020-01-16 18:10:15,040 Warning: No enrich terms using library GO_Cellular_Component_2018 when cutoff = 0.05\n",
      "2020-01-16 18:10:17,505 Warning: No enrich terms using library Human_Phenotype_Ontology when cutoff = 0.05\n",
      "2020-01-16 18:10:19,970 Warning: No enrich terms using library WikiPathways_2019_Human when cutoff = 0.05\n",
      "2020-01-16 18:10:19,978 Warning: No enrich terms using library CUSTOM140471877345928 when cutoff = 0.05\n",
      "2020-01-16 18:10:19,998 Warning: No enrich terms using library CUSTOM140471877349024 when cutoff = 0.05\n"
     ]
    },
    {
     "name": "stdout",
     "output_type": "stream",
     "text": [
      "Empty DataFrame\n",
      "Columns: [Term, Adjusted P-value, Gene_set]\n",
      "Index: []\n",
      "Topic 180\n"
     ]
    },
    {
     "name": "stderr",
     "output_type": "stream",
     "text": [
      "2020-01-16 18:10:22,828 Warning: No enrich terms using library GO_Molecular_Function_2018 when cutoff = 0.05\n",
      "2020-01-16 18:10:25,303 Warning: No enrich terms using library GO_Biological_Process_2018 when cutoff = 0.05\n",
      "2020-01-16 18:10:27,774 Warning: No enrich terms using library GO_Cellular_Component_2018 when cutoff = 0.05\n",
      "2020-01-16 18:10:30,237 Warning: No enrich terms using library Human_Phenotype_Ontology when cutoff = 0.05\n",
      "2020-01-16 18:10:32,708 Warning: No enrich terms using library WikiPathways_2019_Human when cutoff = 0.05\n"
     ]
    },
    {
     "name": "stdout",
     "output_type": "stream",
     "text": [
      "                                                 Term  Adjusted P-value  \\\n",
      "69                       PID_AMB2_NEUTROPHILS_PATHWAY          0.018587   \n",
      "70                                  PID_HNF3A_PATHWAY          0.018700   \n",
      "71  REACTOME_BINDING_AND_UPTAKE_OF_LIGANDS_BY_SCAV...          0.032381   \n",
      "72  REACTOME_CARGO_RECOGNITION_FOR_CLATHRIN_MEDIAT...          0.032455   \n",
      "73  REACTOME_CELL_SURFACE_INTERACTIONS_AT_THE_VASC...          0.048859   \n",
      "74                      REACTOME_CHYLOMICRON_ASSEMBLY          0.009714   \n",
      "75                     REACTOME_CHYLOMICRON_CLEARANCE          0.008160   \n",
      "76                    REACTOME_CHYLOMICRON_REMODELING          0.009714   \n",
      "77             REACTOME_CLATHRIN_MEDIATED_ENDOCYTOSIS          0.041083   \n",
      "81                             REACTOME_LDL_CLEARANCE          0.010767   \n",
      "82        REACTOME_METABOLISM_OF_FAT_SOLUBLE_VITAMINS          0.019200   \n",
      "83      REACTOME_METABOLISM_OF_VITAMINS_AND_COFACTORS          0.048859   \n",
      "84               REACTOME_PLASMA_LIPOPROTEIN_ASSEMBLY          0.010767   \n",
      "85  REACTOME_PLASMA_LIPOPROTEIN_ASSEMBLY_REMODELIN...          0.026822   \n",
      "86              REACTOME_PLASMA_LIPOPROTEIN_CLEARANCE          0.016029   \n",
      "87             REACTOME_PLASMA_LIPOPROTEIN_REMODELING          0.016029   \n",
      "88                      REACTOME_PLATELET_HOMEOSTASIS          0.030779   \n",
      "89             REACTOME_PLATELET_SENSITIZATION_BY_LDL          0.010767   \n",
      "91  REACTOME_REGULATION_OF_INSULIN_LIKE_GROWTH_FAC...          0.036661   \n",
      "92    REACTOME_REGULATION_OF_TLR_BY_ENDOGENOUS_LIGAND          0.010767   \n",
      "\n",
      "                 Gene_set  \n",
      "69  CUSTOM140471923813328  \n",
      "70  CUSTOM140471923813328  \n",
      "71  CUSTOM140471923813328  \n",
      "72  CUSTOM140471923813328  \n",
      "73  CUSTOM140471923813328  \n",
      "74  CUSTOM140471923813328  \n",
      "75  CUSTOM140471923813328  \n",
      "76  CUSTOM140471923813328  \n",
      "77  CUSTOM140471923813328  \n",
      "81  CUSTOM140471923813328  \n",
      "82  CUSTOM140471923813328  \n",
      "83  CUSTOM140471923813328  \n",
      "84  CUSTOM140471923813328  \n",
      "85  CUSTOM140471923813328  \n",
      "86  CUSTOM140471923813328  \n",
      "87  CUSTOM140471923813328  \n",
      "88  CUSTOM140471923813328  \n",
      "89  CUSTOM140471923813328  \n",
      "91  CUSTOM140471923813328  \n",
      "92  CUSTOM140471923813328  \n",
      "Topic 181\n"
     ]
    },
    {
     "name": "stderr",
     "output_type": "stream",
     "text": [
      "2020-01-16 18:10:35,706 Warning: No enrich terms using library GO_Molecular_Function_2018 when cutoff = 0.05\n",
      "2020-01-16 18:10:38,179 Warning: No enrich terms using library GO_Biological_Process_2018 when cutoff = 0.05\n",
      "2020-01-16 18:10:40,642 Warning: No enrich terms using library GO_Cellular_Component_2018 when cutoff = 0.05\n",
      "2020-01-16 18:10:43,142 Warning: No enrich terms using library Human_Phenotype_Ontology when cutoff = 0.05\n",
      "2020-01-16 18:10:45,635 Warning: No enrich terms using library WikiPathways_2019_Human when cutoff = 0.05\n",
      "2020-01-16 18:10:45,647 Warning: No enrich terms using library CUSTOM140471930069424 when cutoff = 0.05\n",
      "2020-01-16 18:10:45,664 Warning: No enrich terms using library CUSTOM140471930069352 when cutoff = 0.05\n"
     ]
    },
    {
     "name": "stdout",
     "output_type": "stream",
     "text": [
      "Empty DataFrame\n",
      "Columns: [Term, Adjusted P-value, Gene_set]\n",
      "Index: []\n",
      "Topic 182\n"
     ]
    },
    {
     "name": "stderr",
     "output_type": "stream",
     "text": [
      "2020-01-16 18:10:48,479 Warning: No enrich terms using library GO_Molecular_Function_2018 when cutoff = 0.05\n",
      "2020-01-16 18:10:50,945 Warning: No enrich terms using library GO_Biological_Process_2018 when cutoff = 0.05\n",
      "2020-01-16 18:10:53,409 Warning: No enrich terms using library GO_Cellular_Component_2018 when cutoff = 0.05\n",
      "2020-01-16 18:10:55,871 Warning: No enrich terms using library Human_Phenotype_Ontology when cutoff = 0.05\n",
      "2020-01-16 18:10:58,338 Warning: No enrich terms using library WikiPathways_2019_Human when cutoff = 0.05\n",
      "2020-01-16 18:10:58,356 Warning: No enrich terms using library CUSTOM140471905069888 when cutoff = 0.05\n"
     ]
    },
    {
     "name": "stdout",
     "output_type": "stream",
     "text": [
      "Empty DataFrame\n",
      "Columns: [Term, Adjusted P-value, Gene_set]\n",
      "Index: []\n",
      "Topic 183\n"
     ]
    },
    {
     "name": "stderr",
     "output_type": "stream",
     "text": [
      "2020-01-16 18:11:01,201 Warning: No enrich terms using library GO_Molecular_Function_2018 when cutoff = 0.05\n",
      "2020-01-16 18:11:03,668 Warning: No enrich terms using library GO_Biological_Process_2018 when cutoff = 0.05\n",
      "2020-01-16 18:11:06,133 Warning: No enrich terms using library GO_Cellular_Component_2018 when cutoff = 0.05\n",
      "2020-01-16 18:11:08,600 Warning: No enrich terms using library Human_Phenotype_Ontology when cutoff = 0.05\n",
      "2020-01-16 18:11:11,072 Warning: No enrich terms using library WikiPathways_2019_Human when cutoff = 0.05\n"
     ]
    },
    {
     "name": "stdout",
     "output_type": "stream",
     "text": [
      "Empty DataFrame\n",
      "Columns: [Term, Adjusted P-value, Gene_set]\n",
      "Index: []\n",
      "Topic 184\n",
      "<class 'requests.exceptions.ConnectionError'> ('Connection aborted.', ConnectionResetError(104, 'Connection reset by peer')) <traceback object at 0x7fc228605b08>\n",
      "Empty DataFrame\n",
      "Columns: [Term, Adjusted P-value, Gene_set]\n",
      "Index: []\n",
      "Topic 185\n"
     ]
    },
    {
     "name": "stderr",
     "output_type": "stream",
     "text": [
      "2020-01-16 18:11:14,495 Warning: No enrich terms using library GO_Molecular_Function_2018 when cutoff = 0.05\n",
      "2020-01-16 18:11:16,984 Warning: No enrich terms using library GO_Biological_Process_2018 when cutoff = 0.05\n",
      "2020-01-16 18:11:19,455 Warning: No enrich terms using library GO_Cellular_Component_2018 when cutoff = 0.05\n",
      "2020-01-16 18:11:21,934 Warning: No enrich terms using library Human_Phenotype_Ontology when cutoff = 0.05\n",
      "2020-01-16 18:11:24,416 Warning: No enrich terms using library WikiPathways_2019_Human when cutoff = 0.05\n",
      "2020-01-16 18:11:24,435 Warning: No enrich terms using library CUSTOM140471921122616 when cutoff = 0.05\n"
     ]
    },
    {
     "name": "stdout",
     "output_type": "stream",
     "text": [
      "Empty DataFrame\n",
      "Columns: [Term, Adjusted P-value, Gene_set]\n",
      "Index: []\n",
      "Topic 186\n"
     ]
    },
    {
     "name": "stderr",
     "output_type": "stream",
     "text": [
      "2020-01-16 18:11:27,227 Warning: No enrich terms using library GO_Molecular_Function_2018 when cutoff = 0.05\n",
      "2020-01-16 18:11:29,693 Warning: No enrich terms using library GO_Biological_Process_2018 when cutoff = 0.05\n",
      "2020-01-16 18:11:32,153 Warning: No enrich terms using library GO_Cellular_Component_2018 when cutoff = 0.05\n",
      "2020-01-16 18:11:34,624 Warning: No enrich terms using library Human_Phenotype_Ontology when cutoff = 0.05\n",
      "2020-01-16 18:11:37,096 Warning: No enrich terms using library WikiPathways_2019_Human when cutoff = 0.05\n"
     ]
    },
    {
     "name": "stdout",
     "output_type": "stream",
     "text": [
      "                                             Term  Adjusted P-value  \\\n",
      "42  REACTOME_ACYL_CHAIN_REMODELING_OF_DAG_AND_TAG          0.041891   \n",
      "48             REACTOME_TRIGLYCERIDE_BIOSYNTHESIS          0.041891   \n",
      "\n",
      "                 Gene_set  \n",
      "42  CUSTOM140471920354504  \n",
      "48  CUSTOM140471920354504  \n",
      "Topic 187\n"
     ]
    },
    {
     "name": "stderr",
     "output_type": "stream",
     "text": [
      "2020-01-16 18:11:40,031 Warning: No enrich terms using library GO_Molecular_Function_2018 when cutoff = 0.05\n",
      "2020-01-16 18:11:42,514 Warning: No enrich terms using library GO_Biological_Process_2018 when cutoff = 0.05\n",
      "2020-01-16 18:11:44,981 Warning: No enrich terms using library GO_Cellular_Component_2018 when cutoff = 0.05\n",
      "2020-01-16 18:11:47,457 Warning: No enrich terms using library Human_Phenotype_Ontology when cutoff = 0.05\n",
      "2020-01-16 18:11:49,933 Warning: No enrich terms using library WikiPathways_2019_Human when cutoff = 0.05\n",
      "2020-01-16 18:11:49,952 Warning: No enrich terms using library CUSTOM140472021100008 when cutoff = 0.05\n"
     ]
    },
    {
     "name": "stdout",
     "output_type": "stream",
     "text": [
      "Empty DataFrame\n",
      "Columns: [Term, Adjusted P-value, Gene_set]\n",
      "Index: []\n",
      "Topic 188\n"
     ]
    },
    {
     "name": "stderr",
     "output_type": "stream",
     "text": [
      "2020-01-16 18:11:52,779 Warning: No enrich terms using library GO_Molecular_Function_2018 when cutoff = 0.05\n",
      "2020-01-16 18:11:55,245 Warning: No enrich terms using library GO_Biological_Process_2018 when cutoff = 0.05\n",
      "2020-01-16 18:11:57,712 Warning: No enrich terms using library GO_Cellular_Component_2018 when cutoff = 0.05\n",
      "2020-01-16 18:12:00,192 Warning: No enrich terms using library Human_Phenotype_Ontology when cutoff = 0.05\n",
      "2020-01-16 18:12:02,676 Warning: No enrich terms using library WikiPathways_2019_Human when cutoff = 0.05\n"
     ]
    },
    {
     "name": "stdout",
     "output_type": "stream",
     "text": [
      "Empty DataFrame\n",
      "Columns: [Term, Adjusted P-value, Gene_set]\n",
      "Index: []\n",
      "Topic 189\n"
     ]
    },
    {
     "name": "stderr",
     "output_type": "stream",
     "text": [
      "2020-01-16 18:12:05,538 Warning: No enrich terms using library GO_Molecular_Function_2018 when cutoff = 0.05\n",
      "2020-01-16 18:12:08,002 Warning: No enrich terms using library GO_Biological_Process_2018 when cutoff = 0.05\n",
      "2020-01-16 18:12:10,461 Warning: No enrich terms using library GO_Cellular_Component_2018 when cutoff = 0.05\n",
      "2020-01-16 18:12:12,918 Warning: No enrich terms using library Human_Phenotype_Ontology when cutoff = 0.05\n",
      "2020-01-16 18:12:15,402 Warning: No enrich terms using library WikiPathways_2019_Human when cutoff = 0.05\n",
      "2020-01-16 18:12:15,507 Warning: No enrich terms using library CUSTOM140471877423680 when cutoff = 0.05\n"
     ]
    },
    {
     "name": "stdout",
     "output_type": "stream",
     "text": [
      "                       Term  Adjusted P-value               Gene_set\n",
      "36  HALLMARK_UV_RESPONSE_UP            0.0316  CUSTOM140471877426128\n",
      "Topic 190\n"
     ]
    },
    {
     "name": "stderr",
     "output_type": "stream",
     "text": [
      "2020-01-16 18:12:18,363 Warning: No enrich terms using library GO_Molecular_Function_2018 when cutoff = 0.05\n",
      "2020-01-16 18:12:20,842 Warning: No enrich terms using library GO_Biological_Process_2018 when cutoff = 0.05\n",
      "2020-01-16 18:12:23,312 Warning: No enrich terms using library GO_Cellular_Component_2018 when cutoff = 0.05\n",
      "2020-01-16 18:12:25,807 Warning: No enrich terms using library Human_Phenotype_Ontology when cutoff = 0.05\n",
      "2020-01-16 18:12:28,284 Warning: No enrich terms using library WikiPathways_2019_Human when cutoff = 0.05\n",
      "2020-01-16 18:12:28,389 Warning: No enrich terms using library CUSTOM140471968531512 when cutoff = 0.05\n"
     ]
    },
    {
     "name": "stdout",
     "output_type": "stream",
     "text": [
      "                    Term  Adjusted P-value               Gene_set\n",
      "107  HALLMARK_MYOGENESIS          0.047618  CUSTOM140471968534248\n",
      "Topic 191\n"
     ]
    },
    {
     "name": "stderr",
     "output_type": "stream",
     "text": [
      "2020-01-16 18:12:31,202 Warning: No enrich terms using library GO_Molecular_Function_2018 when cutoff = 0.05\n",
      "2020-01-16 18:12:33,668 Warning: No enrich terms using library GO_Biological_Process_2018 when cutoff = 0.05\n",
      "2020-01-16 18:12:36,142 Warning: No enrich terms using library GO_Cellular_Component_2018 when cutoff = 0.05\n",
      "2020-01-16 18:12:38,610 Warning: No enrich terms using library Human_Phenotype_Ontology when cutoff = 0.05\n",
      "2020-01-16 18:12:41,077 Warning: No enrich terms using library WikiPathways_2019_Human when cutoff = 0.05\n"
     ]
    },
    {
     "name": "stdout",
     "output_type": "stream",
     "text": [
      "Empty DataFrame\n",
      "Columns: [Term, Adjusted P-value, Gene_set]\n",
      "Index: []\n",
      "Topic 192\n",
      "<class 'requests.exceptions.ConnectionError'> ('Connection aborted.', ConnectionResetError(104, 'Connection reset by peer')) <traceback object at 0x7fc22a713f88>\n",
      "Empty DataFrame\n",
      "Columns: [Term, Adjusted P-value, Gene_set]\n",
      "Index: []\n",
      "Topic 193\n"
     ]
    },
    {
     "name": "stderr",
     "output_type": "stream",
     "text": [
      "2020-01-16 18:12:49,697 Warning: No enrich terms using library GO_Cellular_Component_2018 when cutoff = 0.05\n",
      "2020-01-16 18:12:52,182 Warning: No enrich terms using library Human_Phenotype_Ontology when cutoff = 0.05\n",
      "2020-01-16 18:12:54,653 Warning: No enrich terms using library WikiPathways_2019_Human when cutoff = 0.05\n"
     ]
    },
    {
     "name": "stdout",
     "output_type": "stream",
     "text": [
      "                                                 Term  Adjusted P-value  \\\n",
      "0                  peptidoglycan binding (GO:0042834)          0.002071   \n",
      "8   negative regulation of keratinocyte differenti...          0.001148   \n",
      "9   negative regulation of epidermal cell differen...          0.000804   \n",
      "10  positive regulation of keratinocyte proliferat...          0.000536   \n",
      "11  positive regulation of response to wounding (G...          0.002008   \n",
      "12  regulation of keratinocyte proliferation (GO:0...          0.002341   \n",
      "13  positive regulation of wound healing (GO:0090303)          0.004143   \n",
      "14  regulation of keratinocyte differentiation (GO...          0.004436   \n",
      "15                   response to peptide (GO:1901652)          0.005362   \n",
      "16           regulation of wound healing (GO:0061041)          0.004766   \n",
      "17           response to peptide hormone (GO:0043434)          0.005963   \n",
      "18  antimicrobial humoral immune response mediated...          0.008170   \n",
      "19  positive regulation of epithelial cell prolife...          0.036048   \n",
      "20  negative regulation of multicellular organisma...          0.045446   \n",
      "36                       KEGG_GLYCEROLIPID_METABOLISM          0.043678   \n",
      "37                                NABA_ECM_AFFILIATED          0.012585   \n",
      "40                    REACTOME_ANTIMICROBIAL_PEPTIDES          0.009932   \n",
      "41                                 REACTOME_DIGESTION          0.030077   \n",
      "42                  REACTOME_DIGESTION_AND_ABSORPTION          0.030077   \n",
      "43                REACTOME_DIGESTION_OF_DIETARY_LIPID          0.012585   \n",
      "\n",
      "                      Gene_set  \n",
      "0   GO_Molecular_Function_2018  \n",
      "8   GO_Biological_Process_2018  \n",
      "9   GO_Biological_Process_2018  \n",
      "10  GO_Biological_Process_2018  \n",
      "11  GO_Biological_Process_2018  \n",
      "12  GO_Biological_Process_2018  \n",
      "13  GO_Biological_Process_2018  \n",
      "14  GO_Biological_Process_2018  \n",
      "15  GO_Biological_Process_2018  \n",
      "16  GO_Biological_Process_2018  \n",
      "17  GO_Biological_Process_2018  \n",
      "18  GO_Biological_Process_2018  \n",
      "19  GO_Biological_Process_2018  \n",
      "20  GO_Biological_Process_2018  \n",
      "36       CUSTOM140471948435528  \n",
      "37       CUSTOM140471948435528  \n",
      "40       CUSTOM140471948435528  \n",
      "41       CUSTOM140471948435528  \n",
      "42       CUSTOM140471948435528  \n",
      "43       CUSTOM140471948435528  \n",
      "Topic 194\n"
     ]
    },
    {
     "name": "stderr",
     "output_type": "stream",
     "text": [
      "2020-01-16 18:12:57,639 Warning: No enrich terms using library GO_Molecular_Function_2018 when cutoff = 0.05\n",
      "2020-01-16 18:13:00,106 Warning: No enrich terms using library GO_Biological_Process_2018 when cutoff = 0.05\n",
      "2020-01-16 18:13:07,882 Warning: No enrich terms using library WikiPathways_2019_Human when cutoff = 0.05\n"
     ]
    },
    {
     "name": "stdout",
     "output_type": "stream",
     "text": [
      "                                                 Term  Adjusted P-value  \\\n",
      "2              multivesicular body lumen (GO:0097486)          0.000047   \n",
      "3                    late endosome lumen (GO:0031906)          0.000040   \n",
      "4                          lamellar body (GO:0042599)          0.000078   \n",
      "5                    multivesicular body (GO:0005771)          0.000226   \n",
      "6      clathrin-coated endocytic vesicle (GO:0045334)          0.000546   \n",
      "7                clathrin-coated vesicle (GO:0030136)          0.001840   \n",
      "8                      endocytic vesicle (GO:0030139)          0.001841   \n",
      "10        Interstitial pulmonary disease (HP:0006530)          0.000489   \n",
      "11                             Tachypnea (HP:0002789)          0.000845   \n",
      "12                  Respiratory distress (HP:0002098)          0.001204   \n",
      "13                         Heterogeneous (HP:0001425)          0.024519   \n",
      "24                                NABA_ECM_AFFILIATED          0.001839   \n",
      "25                                     NABA_MATRISOME          0.046191   \n",
      "26                          NABA_MATRISOME_ASSOCIATED          0.030046   \n",
      "27  REACTOME_DEFECTIVE_CSF2RB_CAUSES_PULMONARY_SUR...          0.000014   \n",
      "28                                   REACTOME_DISEASE          0.046191   \n",
      "29  REACTOME_DISEASES_ASSOCIATED_WITH_SURFACTANT_M...          0.000014   \n",
      "30                    REACTOME_DISEASES_OF_METABOLISM          0.000857   \n",
      "31                     REACTOME_SURFACTANT_METABOLISM          0.000093   \n",
      "\n",
      "                      Gene_set  \n",
      "2   GO_Cellular_Component_2018  \n",
      "3   GO_Cellular_Component_2018  \n",
      "4   GO_Cellular_Component_2018  \n",
      "5   GO_Cellular_Component_2018  \n",
      "6   GO_Cellular_Component_2018  \n",
      "7   GO_Cellular_Component_2018  \n",
      "8   GO_Cellular_Component_2018  \n",
      "10    Human_Phenotype_Ontology  \n",
      "11    Human_Phenotype_Ontology  \n",
      "12    Human_Phenotype_Ontology  \n",
      "13    Human_Phenotype_Ontology  \n",
      "24       CUSTOM140471912278920  \n",
      "25       CUSTOM140471912278920  \n",
      "26       CUSTOM140471912278920  \n",
      "27       CUSTOM140471912278920  \n",
      "28       CUSTOM140471912278920  \n",
      "29       CUSTOM140471912278920  \n",
      "30       CUSTOM140471912278920  \n",
      "31       CUSTOM140471912278920  \n",
      "Topic 195\n"
     ]
    },
    {
     "name": "stderr",
     "output_type": "stream",
     "text": [
      "2020-01-16 18:13:10,908 Warning: No enrich terms using library GO_Molecular_Function_2018 when cutoff = 0.05\n",
      "2020-01-16 18:13:13,415 Warning: No enrich terms using library GO_Biological_Process_2018 when cutoff = 0.05\n",
      "2020-01-16 18:13:15,903 Warning: No enrich terms using library GO_Cellular_Component_2018 when cutoff = 0.05\n",
      "2020-01-16 18:13:18,386 Warning: No enrich terms using library Human_Phenotype_Ontology when cutoff = 0.05\n",
      "2020-01-16 18:13:20,861 Warning: No enrich terms using library WikiPathways_2019_Human when cutoff = 0.05\n",
      "2020-01-16 18:13:20,877 Warning: No enrich terms using library CUSTOM140471949041808 when cutoff = 0.05\n"
     ]
    },
    {
     "name": "stdout",
     "output_type": "stream",
     "text": [
      "Empty DataFrame\n",
      "Columns: [Term, Adjusted P-value, Gene_set]\n",
      "Index: []\n",
      "Topic 196\n"
     ]
    },
    {
     "name": "stderr",
     "output_type": "stream",
     "text": [
      "2020-01-16 18:13:23,988 Warning: No enrich terms using library GO_Molecular_Function_2018 when cutoff = 0.05\n",
      "2020-01-16 18:13:29,117 Warning: No enrich terms using library GO_Cellular_Component_2018 when cutoff = 0.05\n",
      "2020-01-16 18:13:31,650 Warning: No enrich terms using library Human_Phenotype_Ontology when cutoff = 0.05\n",
      "2020-01-16 18:13:34,176 Warning: No enrich terms using library WikiPathways_2019_Human when cutoff = 0.05\n",
      "2020-01-16 18:13:34,184 Warning: No enrich terms using library CUSTOM140472022109568 when cutoff = 0.05\n",
      "2020-01-16 18:13:34,208 Warning: No enrich terms using library CUSTOM140472022107048 when cutoff = 0.05\n"
     ]
    },
    {
     "name": "stdout",
     "output_type": "stream",
     "text": [
      "                                                Term  Adjusted P-value  \\\n",
      "7  complement activation, classical pathway (GO:0...          0.017937   \n",
      "8  humoral immune response mediated by circulatin...          0.009848   \n",
      "9     B cell receptor signaling pathway (GO:0050853)          0.043888   \n",
      "\n",
      "                     Gene_set  \n",
      "7  GO_Biological_Process_2018  \n",
      "8  GO_Biological_Process_2018  \n",
      "9  GO_Biological_Process_2018  \n",
      "Topic 197\n"
     ]
    },
    {
     "name": "stderr",
     "output_type": "stream",
     "text": [
      "2020-01-16 18:13:37,019 Warning: No enrich terms using library GO_Molecular_Function_2018 when cutoff = 0.05\n",
      "2020-01-16 18:13:39,504 Warning: No enrich terms using library GO_Biological_Process_2018 when cutoff = 0.05\n",
      "2020-01-16 18:13:41,974 Warning: No enrich terms using library GO_Cellular_Component_2018 when cutoff = 0.05\n",
      "2020-01-16 18:13:44,449 Warning: No enrich terms using library Human_Phenotype_Ontology when cutoff = 0.05\n",
      "2020-01-16 18:13:46,953 Warning: No enrich terms using library WikiPathways_2019_Human when cutoff = 0.05\n",
      "2020-01-16 18:13:46,961 Warning: No enrich terms using library CUSTOM140471930433752 when cutoff = 0.05\n",
      "2020-01-16 18:13:46,977 Warning: No enrich terms using library CUSTOM140471930433680 when cutoff = 0.05\n"
     ]
    },
    {
     "name": "stdout",
     "output_type": "stream",
     "text": [
      "Empty DataFrame\n",
      "Columns: [Term, Adjusted P-value, Gene_set]\n",
      "Index: []\n",
      "Topic 198\n"
     ]
    },
    {
     "name": "stderr",
     "output_type": "stream",
     "text": [
      "2020-01-16 18:13:49,851 Warning: No enrich terms using library GO_Molecular_Function_2018 when cutoff = 0.05\n",
      "2020-01-16 18:13:52,331 Warning: No enrich terms using library GO_Biological_Process_2018 when cutoff = 0.05\n",
      "2020-01-16 18:13:54,808 Warning: No enrich terms using library GO_Cellular_Component_2018 when cutoff = 0.05\n",
      "2020-01-16 18:13:57,283 Warning: No enrich terms using library Human_Phenotype_Ontology when cutoff = 0.05\n",
      "2020-01-16 18:13:59,750 Warning: No enrich terms using library WikiPathways_2019_Human when cutoff = 0.05\n",
      "2020-01-16 18:13:59,758 Warning: No enrich terms using library CUSTOM140471909683064 when cutoff = 0.05\n",
      "2020-01-16 18:13:59,779 Warning: No enrich terms using library CUSTOM140471909679824 when cutoff = 0.05\n"
     ]
    },
    {
     "name": "stdout",
     "output_type": "stream",
     "text": [
      "Empty DataFrame\n",
      "Columns: [Term, Adjusted P-value, Gene_set]\n",
      "Index: []\n",
      "Topic 199\n"
     ]
    },
    {
     "name": "stderr",
     "output_type": "stream",
     "text": [
      "2020-01-16 18:14:08,117 Warning: No enrich terms using library GO_Cellular_Component_2018 when cutoff = 0.05\n",
      "2020-01-16 18:14:10,628 Warning: No enrich terms using library Human_Phenotype_Ontology when cutoff = 0.05\n",
      "2020-01-16 18:14:13,135 Warning: No enrich terms using library WikiPathways_2019_Human when cutoff = 0.05\n"
     ]
    },
    {
     "name": "stdout",
     "output_type": "stream",
     "text": [
      "                                                 Term  Adjusted P-value  \\\n",
      "0     serine-type endopeptidase activity (GO:0004252)      2.013722e-52   \n",
      "1         serine-type peptidase activity (GO:0008236)      7.085344e-51   \n",
      "2                 endopeptidase activity (GO:0004175)      1.247161e-43   \n",
      "3        immunoglobulin receptor binding (GO:0034987)      1.438760e-32   \n",
      "4   complement activation, classical pathway (GO:0...      3.435720e-81   \n",
      "5   humoral immune response mediated by circulatin...      3.907855e-81   \n",
      "6   regulation of protein activation cascade (GO:2...      3.148337e-62   \n",
      "7    regulation of complement activation (GO:0030449)      3.428350e-62   \n",
      "8   regulation of humoral immune response (GO:0002...      1.170760e-61   \n",
      "9   regulation of immune effector process (GO:0002...      1.388920e-61   \n",
      "10  regulation of acute inflammatory response (GO:...      1.277609e-60   \n",
      "11      regulation of protein processing (GO:0070613)      1.025279e-59   \n",
      "12  Fc-gamma receptor signaling pathway involved i...      4.075202e-59   \n",
      "13   Fc-gamma receptor signaling pathway (GO:0038094)      4.909840e-59   \n",
      "14  Fc receptor mediated stimulatory signaling pat...      5.960158e-59   \n",
      "15  Fc-epsilon receptor signaling pathway (GO:0038...      4.728391e-54   \n",
      "16         Fc receptor signaling pathway (GO:0038093)      5.355251e-54   \n",
      "17         receptor-mediated endocytosis (GO:0006898)      1.357658e-53   \n",
      "18         regulation of immune response (GO:0050776)      5.085222e-49   \n",
      "19                           endocytosis (GO:0006897)      2.577076e-48   \n",
      "\n",
      "                      Gene_set  \n",
      "0   GO_Molecular_Function_2018  \n",
      "1   GO_Molecular_Function_2018  \n",
      "2   GO_Molecular_Function_2018  \n",
      "3   GO_Molecular_Function_2018  \n",
      "4   GO_Biological_Process_2018  \n",
      "5   GO_Biological_Process_2018  \n",
      "6   GO_Biological_Process_2018  \n",
      "7   GO_Biological_Process_2018  \n",
      "8   GO_Biological_Process_2018  \n",
      "9   GO_Biological_Process_2018  \n",
      "10  GO_Biological_Process_2018  \n",
      "11  GO_Biological_Process_2018  \n",
      "12  GO_Biological_Process_2018  \n",
      "13  GO_Biological_Process_2018  \n",
      "14  GO_Biological_Process_2018  \n",
      "15  GO_Biological_Process_2018  \n",
      "16  GO_Biological_Process_2018  \n",
      "17  GO_Biological_Process_2018  \n",
      "18  GO_Biological_Process_2018  \n",
      "19  GO_Biological_Process_2018  \n",
      "Topic 200\n"
     ]
    },
    {
     "name": "stderr",
     "output_type": "stream",
     "text": [
      "2020-01-16 18:14:21,587 Warning: No enrich terms using library GO_Cellular_Component_2018 when cutoff = 0.05\n",
      "2020-01-16 18:14:24,089 Warning: No enrich terms using library Human_Phenotype_Ontology when cutoff = 0.05\n",
      "2020-01-16 18:14:26,611 Warning: No enrich terms using library WikiPathways_2019_Human when cutoff = 0.05\n"
     ]
    },
    {
     "name": "stdout",
     "output_type": "stream",
     "text": [
      "                                                 Term  Adjusted P-value  \\\n",
      "0        immunoglobulin receptor binding (GO:0034987)      5.680303e-28   \n",
      "1     serine-type endopeptidase activity (GO:0004252)      1.980862e-12   \n",
      "2         serine-type peptidase activity (GO:0008236)      5.312224e-12   \n",
      "3                 endopeptidase activity (GO:0004175)      1.125414e-09   \n",
      "4   complement activation, classical pathway (GO:0...      5.584030e-40   \n",
      "5   humoral immune response mediated by circulatin...      4.277916e-40   \n",
      "6        regulation of B cell activation (GO:0050864)      1.649892e-26   \n",
      "7           plasma membrane invagination (GO:0099024)      5.495061e-26   \n",
      "8   positive regulation of lymphocyte activation (...      5.249121e-26   \n",
      "9      B cell receptor signaling pathway (GO:0050853)      4.374268e-26   \n",
      "10              phagocytosis, engulfment (GO:0006911)      3.749372e-26   \n",
      "11  positive regulation of B cell activation (GO:0...      3.827539e-25   \n",
      "12                          phagocytosis (GO:0006909)      3.309605e-24   \n",
      "13         defense response to bacterium (GO:0042742)      8.051300e-20   \n",
      "14  antigen receptor-mediated signaling pathway (G...      2.223670e-19   \n",
      "15  regulation of protein activation cascade (GO:2...      9.653376e-16   \n",
      "16   regulation of complement activation (GO:0030449)      9.999762e-16   \n",
      "17  regulation of humoral immune response (GO:0002...      1.456482e-15   \n",
      "18  regulation of immune effector process (GO:0002...      1.517274e-15   \n",
      "19  regulation of acute inflammatory response (GO:...      2.986030e-15   \n",
      "\n",
      "                      Gene_set  \n",
      "0   GO_Molecular_Function_2018  \n",
      "1   GO_Molecular_Function_2018  \n",
      "2   GO_Molecular_Function_2018  \n",
      "3   GO_Molecular_Function_2018  \n",
      "4   GO_Biological_Process_2018  \n",
      "5   GO_Biological_Process_2018  \n",
      "6   GO_Biological_Process_2018  \n",
      "7   GO_Biological_Process_2018  \n",
      "8   GO_Biological_Process_2018  \n",
      "9   GO_Biological_Process_2018  \n",
      "10  GO_Biological_Process_2018  \n",
      "11  GO_Biological_Process_2018  \n",
      "12  GO_Biological_Process_2018  \n",
      "13  GO_Biological_Process_2018  \n",
      "14  GO_Biological_Process_2018  \n",
      "15  GO_Biological_Process_2018  \n",
      "16  GO_Biological_Process_2018  \n",
      "17  GO_Biological_Process_2018  \n",
      "18  GO_Biological_Process_2018  \n",
      "19  GO_Biological_Process_2018  \n",
      "Topic 201\n"
     ]
    },
    {
     "name": "stderr",
     "output_type": "stream",
     "text": [
      "2020-01-16 18:14:29,681 Warning: No enrich terms using library GO_Molecular_Function_2018 when cutoff = 0.05\n",
      "2020-01-16 18:14:32,278 Warning: No enrich terms using library GO_Biological_Process_2018 when cutoff = 0.05\n",
      "2020-01-16 18:14:34,750 Warning: No enrich terms using library GO_Cellular_Component_2018 when cutoff = 0.05\n",
      "2020-01-16 18:14:37,216 Warning: No enrich terms using library Human_Phenotype_Ontology when cutoff = 0.05\n",
      "2020-01-16 18:14:39,685 Warning: No enrich terms using library WikiPathways_2019_Human when cutoff = 0.05\n",
      "2020-01-16 18:14:39,799 Warning: No enrich terms using library CUSTOM140471888922304 when cutoff = 0.05\n"
     ]
    },
    {
     "name": "stdout",
     "output_type": "stream",
     "text": [
      "                        Term  Adjusted P-value               Gene_set\n",
      "125  HALLMARK_APICAL_SURFACE          0.043249  CUSTOM140471888922880\n",
      "Topic 202\n",
      "<class 'Exception'> Error analyzing gene list <traceback object at 0x7fc22a1dabc8>\n",
      "                        Term  Adjusted P-value               Gene_set\n",
      "125  HALLMARK_APICAL_SURFACE          0.043249  CUSTOM140471888922880\n",
      "Topic 203\n"
     ]
    },
    {
     "name": "stderr",
     "output_type": "stream",
     "text": [
      "2020-01-16 18:14:43,183 Warning: No enrich terms using library GO_Molecular_Function_2018 when cutoff = 0.05\n",
      "2020-01-16 18:14:45,647 Warning: No enrich terms using library GO_Biological_Process_2018 when cutoff = 0.05\n",
      "2020-01-16 18:14:48,113 Warning: No enrich terms using library GO_Cellular_Component_2018 when cutoff = 0.05\n",
      "2020-01-16 18:14:50,573 Warning: No enrich terms using library Human_Phenotype_Ontology when cutoff = 0.05\n",
      "2020-01-16 18:14:53,064 Warning: No enrich terms using library WikiPathways_2019_Human when cutoff = 0.05\n",
      "2020-01-16 18:14:53,079 Warning: No enrich terms using library CUSTOM140471954580752 when cutoff = 0.05\n",
      "2020-01-16 18:14:53,099 Warning: No enrich terms using library CUSTOM140471954581040 when cutoff = 0.05\n"
     ]
    },
    {
     "name": "stdout",
     "output_type": "stream",
     "text": [
      "Empty DataFrame\n",
      "Columns: [Term, Adjusted P-value, Gene_set]\n",
      "Index: []\n",
      "Topic 204\n"
     ]
    },
    {
     "name": "stderr",
     "output_type": "stream",
     "text": [
      "2020-01-16 18:14:55,911 Warning: No enrich terms using library GO_Molecular_Function_2018 when cutoff = 0.05\n"
     ]
    },
    {
     "name": "stdout",
     "output_type": "stream",
     "text": [
      "<class 'requests.exceptions.ConnectionError'> ('Connection aborted.', ConnectionResetError(104, 'Connection reset by peer')) <traceback object at 0x7fc22d8da288>\n",
      "Empty DataFrame\n",
      "Columns: [Term, Adjusted P-value, Gene_set]\n",
      "Index: []\n",
      "Topic 205\n"
     ]
    },
    {
     "name": "stderr",
     "output_type": "stream",
     "text": [
      "2020-01-16 18:14:58,949 Warning: No enrich terms using library GO_Molecular_Function_2018 when cutoff = 0.05\n",
      "2020-01-16 18:15:01,435 Warning: No enrich terms using library GO_Biological_Process_2018 when cutoff = 0.05\n",
      "2020-01-16 18:15:03,905 Warning: No enrich terms using library GO_Cellular_Component_2018 when cutoff = 0.05\n",
      "2020-01-16 18:15:06,372 Warning: No enrich terms using library Human_Phenotype_Ontology when cutoff = 0.05\n",
      "2020-01-16 18:15:08,833 Warning: No enrich terms using library WikiPathways_2019_Human when cutoff = 0.05\n"
     ]
    },
    {
     "name": "stdout",
     "output_type": "stream",
     "text": [
      "                                 Term  Adjusted P-value               Gene_set\n",
      "30              BIOCARTA_IL1R_PATHWAY          0.030667  CUSTOM140471928113984\n",
      "34                    PID_IL1_PATHWAY          0.030667  CUSTOM140471928113984\n",
      "36  REACTOME_INTERLEUKIN_10_SIGNALING          0.030667  CUSTOM140471928113984\n",
      "Topic 206\n"
     ]
    },
    {
     "name": "stderr",
     "output_type": "stream",
     "text": [
      "2020-01-16 18:15:11,768 Warning: No enrich terms using library GO_Molecular_Function_2018 when cutoff = 0.05\n",
      "2020-01-16 18:15:16,805 Warning: No enrich terms using library GO_Cellular_Component_2018 when cutoff = 0.05\n",
      "2020-01-16 18:15:21,857 Warning: No enrich terms using library WikiPathways_2019_Human when cutoff = 0.05\n",
      "2020-01-16 18:15:21,872 Warning: No enrich terms using library CUSTOM140471928755976 when cutoff = 0.05\n"
     ]
    },
    {
     "name": "stdout",
     "output_type": "stream",
     "text": [
      "                                                 Term  Adjusted P-value  \\\n",
      "7              thyroid gland development (GO:0030878)          0.001148   \n",
      "8           endocrine system development (GO:0035270)          0.004146   \n",
      "9                      gland development (GO:0048732)          0.023601   \n",
      "58                                Goiter (HP:0000853)          0.007658   \n",
      "59  Aplasia/Hypoplasia of the abdominal wall muscu...          0.006604   \n",
      "60                        Hypothyroidism (HP:0000821)          0.021170   \n",
      "61                Coarse facial features (HP:0000280)          0.018359   \n",
      "62                      Umbilical hernia (HP:0001537)          0.020147   \n",
      "63                          Constipation (HP:0002019)          0.021296   \n",
      "82                    KEGG_AUTOIMMUNE_THYROID_DISEASE          0.031041   \n",
      "84                                KEGG_THYROID_CANCER          0.031041   \n",
      "\n",
      "                      Gene_set  \n",
      "7   GO_Biological_Process_2018  \n",
      "8   GO_Biological_Process_2018  \n",
      "9   GO_Biological_Process_2018  \n",
      "58    Human_Phenotype_Ontology  \n",
      "59    Human_Phenotype_Ontology  \n",
      "60    Human_Phenotype_Ontology  \n",
      "61    Human_Phenotype_Ontology  \n",
      "62    Human_Phenotype_Ontology  \n",
      "63    Human_Phenotype_Ontology  \n",
      "82       CUSTOM140471926555560  \n",
      "84       CUSTOM140471926555560  \n",
      "Topic 207\n"
     ]
    },
    {
     "name": "stderr",
     "output_type": "stream",
     "text": [
      "2020-01-16 18:15:24,814 Warning: No enrich terms using library GO_Molecular_Function_2018 when cutoff = 0.05\n",
      "2020-01-16 18:15:27,297 Warning: No enrich terms using library GO_Biological_Process_2018 when cutoff = 0.05\n",
      "2020-01-16 18:15:29,773 Warning: No enrich terms using library GO_Cellular_Component_2018 when cutoff = 0.05\n",
      "2020-01-16 18:15:32,242 Warning: No enrich terms using library Human_Phenotype_Ontology when cutoff = 0.05\n",
      "2020-01-16 18:15:34,769 Warning: No enrich terms using library WikiPathways_2019_Human when cutoff = 0.05\n",
      "2020-01-16 18:15:34,778 Warning: No enrich terms using library CUSTOM140471906299696 when cutoff = 0.05\n",
      "2020-01-16 18:15:34,800 Warning: No enrich terms using library CUSTOM140472023708584 when cutoff = 0.05\n"
     ]
    },
    {
     "name": "stdout",
     "output_type": "stream",
     "text": [
      "Empty DataFrame\n",
      "Columns: [Term, Adjusted P-value, Gene_set]\n",
      "Index: []\n",
      "Topic 208\n"
     ]
    },
    {
     "name": "stderr",
     "output_type": "stream",
     "text": [
      "2020-01-16 18:15:37,614 Warning: No enrich terms using library GO_Molecular_Function_2018 when cutoff = 0.05\n",
      "2020-01-16 18:15:40,084 Warning: No enrich terms using library GO_Biological_Process_2018 when cutoff = 0.05\n",
      "2020-01-16 18:15:42,548 Warning: No enrich terms using library GO_Cellular_Component_2018 when cutoff = 0.05\n",
      "2020-01-16 18:15:45,135 Warning: No enrich terms using library Human_Phenotype_Ontology when cutoff = 0.05\n",
      "2020-01-16 18:15:47,610 Warning: No enrich terms using library WikiPathways_2019_Human when cutoff = 0.05\n",
      "2020-01-16 18:15:47,618 Warning: No enrich terms using library CUSTOM140472023170072 when cutoff = 0.05\n"
     ]
    },
    {
     "name": "stdout",
     "output_type": "stream",
     "text": [
      "                       Term  Adjusted P-value               Gene_set\n",
      "28  REACTOME_BETA_DEFENSINS          0.041388  CUSTOM140472023169568\n",
      "29       REACTOME_DEFENSINS          0.041388  CUSTOM140472023169568\n",
      "Topic 209\n"
     ]
    },
    {
     "name": "stderr",
     "output_type": "stream",
     "text": [
      "2020-01-16 18:15:50,565 Warning: No enrich terms using library GO_Molecular_Function_2018 when cutoff = 0.05\n",
      "2020-01-16 18:15:53,138 Warning: No enrich terms using library GO_Biological_Process_2018 when cutoff = 0.05\n",
      "2020-01-16 18:15:55,620 Warning: No enrich terms using library GO_Cellular_Component_2018 when cutoff = 0.05\n",
      "2020-01-16 18:15:58,237 Warning: No enrich terms using library Human_Phenotype_Ontology when cutoff = 0.05\n"
     ]
    },
    {
     "name": "stdout",
     "output_type": "stream",
     "text": [
      "                                                 Term  Adjusted P-value  \\\n",
      "8        Pathogenic Escherichia coli infection WP2272          0.003505   \n",
      "9   Parkin-Ubiquitin Proteasomal System pathway WP...          0.002850   \n",
      "10                                  KEGG_GAP_JUNCTION          0.001014   \n",
      "11         KEGG_PATHOGENIC_ESCHERICHIA_COLI_INFECTION          0.000511   \n",
      "12   REACTOME_ACTIVATION_OF_AMPK_DOWNSTREAM_OF_NMDARS          0.000408   \n",
      "13  REACTOME_ACTIVATION_OF_NMDA_RECEPTORS_AND_POST...          0.001014   \n",
      "14                    REACTOME_ADAPTIVE_IMMUNE_SYSTEM          0.028228   \n",
      "15         REACTOME_ASPARAGINE_N_LINKED_GLYCOSYLATION          0.005344   \n",
      "16  REACTOME_ASSEMBLY_AND_CELL_SURFACE_PRESENTATIO...          0.000444   \n",
      "17                             REACTOME_AXON_GUIDANCE          0.014508   \n",
      "18  REACTOME_CARBOXYTERMINAL_POST_TRANSLATIONAL_MO...          0.000444   \n",
      "19    REACTOME_CELLULAR_RESPONSES_TO_EXTERNAL_STIMULI          0.013863   \n",
      "20              REACTOME_CELLULAR_RESPONSES_TO_STRESS          0.010187   \n",
      "21                                REACTOME_CELL_CYCLE          0.019098   \n",
      "22                        REACTOME_CELL_CYCLE_MITOTIC          0.013863   \n",
      "23                           REACTOME_CILIUM_ASSEMBLY          0.002597   \n",
      "24  REACTOME_COOPERATION_OF_PREFOLDIN_AND_TRIC_CCT...          0.000408   \n",
      "25  REACTOME_COPI_DEPENDENT_GOLGI_TO_ER_RETROGRADE...          0.001039   \n",
      "26  REACTOME_COPI_INDEPENDENT_GOLGI_TO_ER_RETROGRA...          0.000511   \n",
      "27       REACTOME_COPI_MEDIATED_ANTEROGRADE_TRANSPORT          0.001039   \n",
      "\n",
      "                   Gene_set  \n",
      "8   WikiPathways_2019_Human  \n",
      "9   WikiPathways_2019_Human  \n",
      "10    CUSTOM140471904310760  \n",
      "11    CUSTOM140471904310760  \n",
      "12    CUSTOM140471904310760  \n",
      "13    CUSTOM140471904310760  \n",
      "14    CUSTOM140471904310760  \n",
      "15    CUSTOM140471904310760  \n",
      "16    CUSTOM140471904310760  \n",
      "17    CUSTOM140471904310760  \n",
      "18    CUSTOM140471904310760  \n",
      "19    CUSTOM140471904310760  \n",
      "20    CUSTOM140471904310760  \n",
      "21    CUSTOM140471904310760  \n",
      "22    CUSTOM140471904310760  \n",
      "23    CUSTOM140471904310760  \n",
      "24    CUSTOM140471904310760  \n",
      "25    CUSTOM140471904310760  \n",
      "26    CUSTOM140471904310760  \n",
      "27    CUSTOM140471904310760  \n",
      "Topic 210\n"
     ]
    },
    {
     "name": "stderr",
     "output_type": "stream",
     "text": [
      "2020-01-16 18:16:03,814 Warning: No enrich terms using library GO_Molecular_Function_2018 when cutoff = 0.05\n",
      "2020-01-16 18:16:06,295 Warning: No enrich terms using library GO_Biological_Process_2018 when cutoff = 0.05\n",
      "2020-01-16 18:16:08,772 Warning: No enrich terms using library GO_Cellular_Component_2018 when cutoff = 0.05\n",
      "2020-01-16 18:16:11,244 Warning: No enrich terms using library Human_Phenotype_Ontology when cutoff = 0.05\n",
      "2020-01-16 18:16:13,723 Warning: No enrich terms using library WikiPathways_2019_Human when cutoff = 0.05\n",
      "2020-01-16 18:16:13,741 Warning: No enrich terms using library CUSTOM140471923840344 when cutoff = 0.05\n"
     ]
    },
    {
     "name": "stdout",
     "output_type": "stream",
     "text": [
      "Empty DataFrame\n",
      "Columns: [Term, Adjusted P-value, Gene_set]\n",
      "Index: []\n",
      "Topic 211\n"
     ]
    },
    {
     "name": "stderr",
     "output_type": "stream",
     "text": [
      "2020-01-16 18:16:16,580 Warning: No enrich terms using library GO_Molecular_Function_2018 when cutoff = 0.05\n",
      "2020-01-16 18:16:19,061 Warning: No enrich terms using library GO_Biological_Process_2018 when cutoff = 0.05\n",
      "2020-01-16 18:16:21,533 Warning: No enrich terms using library GO_Cellular_Component_2018 when cutoff = 0.05\n",
      "2020-01-16 18:16:24,016 Warning: No enrich terms using library Human_Phenotype_Ontology when cutoff = 0.05\n",
      "2020-01-16 18:16:26,488 Warning: No enrich terms using library WikiPathways_2019_Human when cutoff = 0.05\n"
     ]
    },
    {
     "name": "stdout",
     "output_type": "stream",
     "text": [
      "Empty DataFrame\n",
      "Columns: [Term, Adjusted P-value, Gene_set]\n",
      "Index: []\n",
      "Topic 212\n"
     ]
    },
    {
     "name": "stderr",
     "output_type": "stream",
     "text": [
      "2020-01-16 18:16:29,353 Warning: No enrich terms using library GO_Molecular_Function_2018 when cutoff = 0.05\n",
      "2020-01-16 18:16:31,833 Warning: No enrich terms using library GO_Biological_Process_2018 when cutoff = 0.05\n",
      "2020-01-16 18:16:34,310 Warning: No enrich terms using library GO_Cellular_Component_2018 when cutoff = 0.05\n",
      "2020-01-16 18:16:36,779 Warning: No enrich terms using library Human_Phenotype_Ontology when cutoff = 0.05\n",
      "2020-01-16 18:16:39,240 Warning: No enrich terms using library WikiPathways_2019_Human when cutoff = 0.05\n",
      "2020-01-16 18:16:39,262 Warning: No enrich terms using library CUSTOM140471877642712 when cutoff = 0.05\n"
     ]
    },
    {
     "name": "stdout",
     "output_type": "stream",
     "text": [
      "Empty DataFrame\n",
      "Columns: [Term, Adjusted P-value, Gene_set]\n",
      "Index: []\n",
      "Topic 213\n"
     ]
    },
    {
     "name": "stderr",
     "output_type": "stream",
     "text": [
      "2020-01-16 18:16:42,102 Warning: No enrich terms using library GO_Molecular_Function_2018 when cutoff = 0.05\n",
      "2020-01-16 18:16:44,604 Warning: No enrich terms using library GO_Biological_Process_2018 when cutoff = 0.05\n",
      "2020-01-16 18:16:47,180 Warning: No enrich terms using library GO_Cellular_Component_2018 when cutoff = 0.05\n",
      "2020-01-16 18:16:49,650 Warning: No enrich terms using library Human_Phenotype_Ontology when cutoff = 0.05\n",
      "2020-01-16 18:16:52,178 Warning: No enrich terms using library WikiPathways_2019_Human when cutoff = 0.05\n"
     ]
    },
    {
     "name": "stdout",
     "output_type": "stream",
     "text": [
      "Empty DataFrame\n",
      "Columns: [Term, Adjusted P-value, Gene_set]\n",
      "Index: []\n",
      "Topic 214\n"
     ]
    },
    {
     "name": "stderr",
     "output_type": "stream",
     "text": [
      "2020-01-16 18:16:55,034 Warning: No enrich terms using library GO_Molecular_Function_2018 when cutoff = 0.05\n",
      "2020-01-16 18:16:57,757 Warning: No enrich terms using library GO_Biological_Process_2018 when cutoff = 0.05\n",
      "2020-01-16 18:17:00,230 Warning: No enrich terms using library GO_Cellular_Component_2018 when cutoff = 0.05\n",
      "2020-01-16 18:17:02,730 Warning: No enrich terms using library Human_Phenotype_Ontology when cutoff = 0.05\n",
      "2020-01-16 18:17:05,200 Warning: No enrich terms using library WikiPathways_2019_Human when cutoff = 0.05\n",
      "2020-01-16 18:17:05,210 Warning: No enrich terms using library CUSTOM140471953567320 when cutoff = 0.05\n"
     ]
    },
    {
     "name": "stdout",
     "output_type": "stream",
     "text": [
      "                                            Term  Adjusted P-value  \\\n",
      "196                    BIOCARTA_CYTOKINE_PATHWAY          0.049691   \n",
      "197                       BIOCARTA_ERYTH_PATHWAY          0.049691   \n",
      "198                        BIOCARTA_HER2_PATHWAY          0.049691   \n",
      "199                        BIOCARTA_IL10_PATHWAY          0.049691   \n",
      "200                        BIOCARTA_IL17_PATHWAY          0.049691   \n",
      "202                         BIOCARTA_IL5_PATHWAY          0.049691   \n",
      "203                         BIOCARTA_IL6_PATHWAY          0.049691   \n",
      "205                        BIOCARTA_LAIR_PATHWAY          0.049691   \n",
      "206                         BIOCARTA_LDL_PATHWAY          0.049691   \n",
      "207                        BIOCARTA_STEM_PATHWAY          0.049691   \n",
      "238      REACTOME_INTERLEUKIN_6_FAMILY_SIGNALING          0.049691   \n",
      "239             REACTOME_INTERLEUKIN_6_SIGNALING          0.049691   \n",
      "240               REACTOME_MAPK1_ERK2_ACTIVATION          0.049691   \n",
      "241               REACTOME_MAPK3_ERK1_ACTIVATION          0.049691   \n",
      "244  REACTOME_RAF_INDEPENDENT_MAPK1_3_ACTIVATION          0.049691   \n",
      "\n",
      "                  Gene_set  \n",
      "196  CUSTOM140471953565664  \n",
      "197  CUSTOM140471953565664  \n",
      "198  CUSTOM140471953565664  \n",
      "199  CUSTOM140471953565664  \n",
      "200  CUSTOM140471953565664  \n",
      "202  CUSTOM140471953565664  \n",
      "203  CUSTOM140471953565664  \n",
      "205  CUSTOM140471953565664  \n",
      "206  CUSTOM140471953565664  \n",
      "207  CUSTOM140471953565664  \n",
      "238  CUSTOM140471953565664  \n",
      "239  CUSTOM140471953565664  \n",
      "240  CUSTOM140471953565664  \n",
      "241  CUSTOM140471953565664  \n",
      "244  CUSTOM140471953565664  \n",
      "Topic 215\n"
     ]
    },
    {
     "name": "stderr",
     "output_type": "stream",
     "text": [
      "2020-01-16 18:17:08,200 Warning: No enrich terms using library GO_Molecular_Function_2018 when cutoff = 0.05\n",
      "2020-01-16 18:17:10,671 Warning: No enrich terms using library GO_Biological_Process_2018 when cutoff = 0.05\n",
      "2020-01-16 18:17:13,220 Warning: No enrich terms using library GO_Cellular_Component_2018 when cutoff = 0.05\n",
      "2020-01-16 18:17:15,692 Warning: No enrich terms using library Human_Phenotype_Ontology when cutoff = 0.05\n",
      "2020-01-16 18:17:18,156 Warning: No enrich terms using library WikiPathways_2019_Human when cutoff = 0.05\n",
      "2020-01-16 18:17:18,164 Warning: No enrich terms using library CUSTOM140471916375064 when cutoff = 0.05\n",
      "2020-01-16 18:17:18,180 Warning: No enrich terms using library CUSTOM140471916374056 when cutoff = 0.05\n"
     ]
    },
    {
     "name": "stdout",
     "output_type": "stream",
     "text": [
      "Empty DataFrame\n",
      "Columns: [Term, Adjusted P-value, Gene_set]\n",
      "Index: []\n",
      "Topic 216\n"
     ]
    },
    {
     "name": "stderr",
     "output_type": "stream",
     "text": [
      "2020-01-16 18:17:21,029 Warning: No enrich terms using library GO_Molecular_Function_2018 when cutoff = 0.05\n",
      "2020-01-16 18:17:23,690 Warning: No enrich terms using library GO_Biological_Process_2018 when cutoff = 0.05\n",
      "2020-01-16 18:17:26,154 Warning: No enrich terms using library GO_Cellular_Component_2018 when cutoff = 0.05\n",
      "2020-01-16 18:17:28,671 Warning: No enrich terms using library Human_Phenotype_Ontology when cutoff = 0.05\n",
      "2020-01-16 18:17:31,137 Warning: No enrich terms using library WikiPathways_2019_Human when cutoff = 0.05\n"
     ]
    },
    {
     "name": "stdout",
     "output_type": "stream",
     "text": [
      "Empty DataFrame\n",
      "Columns: [Term, Adjusted P-value, Gene_set]\n",
      "Index: []\n",
      "Topic 217\n"
     ]
    },
    {
     "name": "stderr",
     "output_type": "stream",
     "text": [
      "2020-01-16 18:17:33,976 Warning: No enrich terms using library GO_Molecular_Function_2018 when cutoff = 0.05\n",
      "2020-01-16 18:17:36,454 Warning: No enrich terms using library GO_Biological_Process_2018 when cutoff = 0.05\n",
      "2020-01-16 18:17:38,925 Warning: No enrich terms using library GO_Cellular_Component_2018 when cutoff = 0.05\n",
      "2020-01-16 18:17:41,391 Warning: No enrich terms using library Human_Phenotype_Ontology when cutoff = 0.05\n"
     ]
    },
    {
     "name": "stdout",
     "output_type": "stream",
     "text": [
      "<class 'requests.exceptions.ConnectionError'> ('Connection aborted.', ConnectionResetError(104, 'Connection reset by peer')) <traceback object at 0x7fc22a5f5608>\n",
      "Empty DataFrame\n",
      "Columns: [Term, Adjusted P-value, Gene_set]\n",
      "Index: []\n",
      "Topic 218\n"
     ]
    },
    {
     "name": "stderr",
     "output_type": "stream",
     "text": [
      "2020-01-16 18:17:44,442 Warning: No enrich terms using library GO_Molecular_Function_2018 when cutoff = 0.05\n",
      "2020-01-16 18:17:46,923 Warning: No enrich terms using library GO_Biological_Process_2018 when cutoff = 0.05\n",
      "2020-01-16 18:17:49,392 Warning: No enrich terms using library GO_Cellular_Component_2018 when cutoff = 0.05\n",
      "2020-01-16 18:17:51,867 Warning: No enrich terms using library Human_Phenotype_Ontology when cutoff = 0.05\n",
      "2020-01-16 18:17:54,337 Warning: No enrich terms using library WikiPathways_2019_Human when cutoff = 0.05\n",
      "2020-01-16 18:17:54,359 Warning: No enrich terms using library CUSTOM140471954575792 when cutoff = 0.05\n"
     ]
    },
    {
     "name": "stdout",
     "output_type": "stream",
     "text": [
      "Empty DataFrame\n",
      "Columns: [Term, Adjusted P-value, Gene_set]\n",
      "Index: []\n",
      "Topic 219\n"
     ]
    },
    {
     "name": "stderr",
     "output_type": "stream",
     "text": [
      "2020-01-16 18:17:57,198 Warning: No enrich terms using library GO_Molecular_Function_2018 when cutoff = 0.05\n",
      "2020-01-16 18:17:59,666 Warning: No enrich terms using library GO_Biological_Process_2018 when cutoff = 0.05\n",
      "2020-01-16 18:18:02,240 Warning: No enrich terms using library GO_Cellular_Component_2018 when cutoff = 0.05\n",
      "2020-01-16 18:18:04,711 Warning: No enrich terms using library Human_Phenotype_Ontology when cutoff = 0.05\n",
      "2020-01-16 18:18:07,218 Warning: No enrich terms using library WikiPathways_2019_Human when cutoff = 0.05\n",
      "2020-01-16 18:18:07,238 Warning: No enrich terms using library CUSTOM140471901781736 when cutoff = 0.05\n"
     ]
    },
    {
     "name": "stdout",
     "output_type": "stream",
     "text": [
      "Empty DataFrame\n",
      "Columns: [Term, Adjusted P-value, Gene_set]\n",
      "Index: []\n",
      "Topic 220\n"
     ]
    },
    {
     "name": "stderr",
     "output_type": "stream",
     "text": [
      "2020-01-16 18:18:10,103 Warning: No enrich terms using library GO_Molecular_Function_2018 when cutoff = 0.05\n",
      "2020-01-16 18:18:12,776 Warning: No enrich terms using library GO_Biological_Process_2018 when cutoff = 0.05\n",
      "2020-01-16 18:18:15,255 Warning: No enrich terms using library GO_Cellular_Component_2018 when cutoff = 0.05\n",
      "2020-01-16 18:18:17,736 Warning: No enrich terms using library Human_Phenotype_Ontology when cutoff = 0.05\n",
      "2020-01-16 18:18:20,219 Warning: No enrich terms using library WikiPathways_2019_Human when cutoff = 0.05\n",
      "2020-01-16 18:18:20,240 Warning: No enrich terms using library CUSTOM140471919870240 when cutoff = 0.05\n"
     ]
    },
    {
     "name": "stdout",
     "output_type": "stream",
     "text": [
      "Empty DataFrame\n",
      "Columns: [Term, Adjusted P-value, Gene_set]\n",
      "Index: []\n",
      "Topic 221\n"
     ]
    },
    {
     "name": "stderr",
     "output_type": "stream",
     "text": [
      "2020-01-16 18:18:33,475 Warning: No enrich terms using library WikiPathways_2019_Human when cutoff = 0.05\n",
      "2020-01-16 18:18:33,483 Warning: No enrich terms using library CUSTOM140471918913072 when cutoff = 0.05\n"
     ]
    },
    {
     "name": "stdout",
     "output_type": "stream",
     "text": [
      "                                              Term  Adjusted P-value  \\\n",
      "0                       actin binding (GO:0003779)          0.003505   \n",
      "1                  telethonin binding (GO:0031433)          0.002173   \n",
      "2        muscle alpha-actinin binding (GO:0051371)          0.008260   \n",
      "3                     actinin binding (GO:0042805)          0.011909   \n",
      "4               alpha-actinin binding (GO:0051393)          0.016717   \n",
      "26                 myofibril assembly (GO:0030239)          0.000017   \n",
      "27    cardiac muscle cell development (GO:0055013)          0.000468   \n",
      "28             sarcomere organization (GO:0045214)          0.000479   \n",
      "29         cardiac muscle contraction (GO:0060048)          0.000570   \n",
      "30                  heart contraction (GO:0060047)          0.000844   \n",
      "31        striated muscle contraction (GO:0006941)          0.001904   \n",
      "32        striated muscle hypertrophy (GO:0014897)          0.001966   \n",
      "33  actomyosin structure organization (GO:0031032)          0.002262   \n",
      "34         cardiac muscle hypertrophy (GO:0003300)          0.002854   \n",
      "35         response to muscle stretch (GO:0035994)          0.003301   \n",
      "36   cardiac muscle fiber development (GO:0048739)          0.005498   \n",
      "37         cardiac myofibril assembly (GO:0055003)          0.010374   \n",
      "38   detection of mechanical stimulus (GO:0050982)          0.009576   \n",
      "39                 muscle contraction (GO:0006936)          0.009341   \n",
      "40   striated muscle cell development (GO:0055002)          0.011586   \n",
      "\n",
      "                      Gene_set  \n",
      "0   GO_Molecular_Function_2018  \n",
      "1   GO_Molecular_Function_2018  \n",
      "2   GO_Molecular_Function_2018  \n",
      "3   GO_Molecular_Function_2018  \n",
      "4   GO_Molecular_Function_2018  \n",
      "26  GO_Biological_Process_2018  \n",
      "27  GO_Biological_Process_2018  \n",
      "28  GO_Biological_Process_2018  \n",
      "29  GO_Biological_Process_2018  \n",
      "30  GO_Biological_Process_2018  \n",
      "31  GO_Biological_Process_2018  \n",
      "32  GO_Biological_Process_2018  \n",
      "33  GO_Biological_Process_2018  \n",
      "34  GO_Biological_Process_2018  \n",
      "35  GO_Biological_Process_2018  \n",
      "36  GO_Biological_Process_2018  \n",
      "37  GO_Biological_Process_2018  \n",
      "38  GO_Biological_Process_2018  \n",
      "39  GO_Biological_Process_2018  \n",
      "40  GO_Biological_Process_2018  \n",
      "Topic 222\n"
     ]
    },
    {
     "name": "stderr",
     "output_type": "stream",
     "text": [
      "2020-01-16 18:18:36,456 Warning: No enrich terms using library GO_Molecular_Function_2018 when cutoff = 0.05\n",
      "2020-01-16 18:18:38,941 Warning: No enrich terms using library GO_Biological_Process_2018 when cutoff = 0.05\n",
      "2020-01-16 18:18:41,403 Warning: No enrich terms using library GO_Cellular_Component_2018 when cutoff = 0.05\n",
      "2020-01-16 18:18:43,874 Warning: No enrich terms using library Human_Phenotype_Ontology when cutoff = 0.05\n"
     ]
    },
    {
     "name": "stdout",
     "output_type": "stream",
     "text": [
      "                                                 Term  Adjusted P-value  \\\n",
      "87                   Dopaminergic Neurogenesis WP2855          0.006148   \n",
      "90                       HALLMARK_PANCREAS_BETA_CELLS          0.031627   \n",
      "91          KEGG_MATURITY_ONSET_DIABETES_OF_THE_YOUNG          0.043684   \n",
      "94                   REACTOME_ORGANIC_ANION_TRANSPORT          0.021974   \n",
      "95  REACTOME_ORGANIC_CATION_ANION_ZWITTERION_TRANS...          0.043684   \n",
      "97  REACTOME_REGULATION_OF_GENE_EXPRESSION_IN_BETA...          0.043684   \n",
      "98  REACTOME_REGULATION_OF_GENE_EXPRESSION_IN_ENDO...          0.021974   \n",
      "\n",
      "                   Gene_set  \n",
      "87  WikiPathways_2019_Human  \n",
      "90    CUSTOM140472022727776  \n",
      "91    CUSTOM140472022724896  \n",
      "94    CUSTOM140472022724896  \n",
      "95    CUSTOM140472022724896  \n",
      "97    CUSTOM140472022724896  \n",
      "98    CUSTOM140472022724896  \n",
      "Topic 223\n"
     ]
    },
    {
     "name": "stderr",
     "output_type": "stream",
     "text": [
      "2020-01-16 18:18:49,448 Warning: No enrich terms using library GO_Molecular_Function_2018 when cutoff = 0.05\n",
      "2020-01-16 18:18:51,908 Warning: No enrich terms using library GO_Biological_Process_2018 when cutoff = 0.05\n",
      "2020-01-16 18:18:54,367 Warning: No enrich terms using library GO_Cellular_Component_2018 when cutoff = 0.05\n",
      "2020-01-16 18:18:56,838 Warning: No enrich terms using library Human_Phenotype_Ontology when cutoff = 0.05\n",
      "2020-01-16 18:18:59,298 Warning: No enrich terms using library WikiPathways_2019_Human when cutoff = 0.05\n"
     ]
    },
    {
     "name": "stdout",
     "output_type": "stream",
     "text": [
      "Empty DataFrame\n",
      "Columns: [Term, Adjusted P-value, Gene_set]\n",
      "Index: []\n",
      "Topic 224\n"
     ]
    },
    {
     "name": "stderr",
     "output_type": "stream",
     "text": [
      "2020-01-16 18:19:02,139 Warning: No enrich terms using library GO_Molecular_Function_2018 when cutoff = 0.05\n",
      "2020-01-16 18:19:04,670 Warning: No enrich terms using library GO_Biological_Process_2018 when cutoff = 0.05\n",
      "2020-01-16 18:19:07,135 Warning: No enrich terms using library GO_Cellular_Component_2018 when cutoff = 0.05\n",
      "2020-01-16 18:19:09,605 Warning: No enrich terms using library Human_Phenotype_Ontology when cutoff = 0.05\n",
      "2020-01-16 18:19:12,271 Warning: No enrich terms using library WikiPathways_2019_Human when cutoff = 0.05\n",
      "2020-01-16 18:19:12,279 Warning: No enrich terms using library CUSTOM140471922537096 when cutoff = 0.05\n"
     ]
    },
    {
     "name": "stdout",
     "output_type": "stream",
     "text": [
      "                                         Term  Adjusted P-value  \\\n",
      "30       REACTOME_G_ALPHA_Q_SIGNALLING_EVENTS          0.037158   \n",
      "31  REACTOME_PEPTIDE_LIGAND_BINDING_RECEPTORS          0.037158   \n",
      "\n",
      "                 Gene_set  \n",
      "30  CUSTOM140471922540264  \n",
      "31  CUSTOM140471922540264  \n",
      "Topic 225\n"
     ]
    },
    {
     "name": "stderr",
     "output_type": "stream",
     "text": [
      "2020-01-16 18:19:15,225 Warning: No enrich terms using library GO_Molecular_Function_2018 when cutoff = 0.05\n",
      "2020-01-16 18:19:17,702 Warning: No enrich terms using library GO_Biological_Process_2018 when cutoff = 0.05\n",
      "2020-01-16 18:19:20,172 Warning: No enrich terms using library GO_Cellular_Component_2018 when cutoff = 0.05\n",
      "2020-01-16 18:19:22,633 Warning: No enrich terms using library Human_Phenotype_Ontology when cutoff = 0.05\n",
      "2020-01-16 18:19:25,102 Warning: No enrich terms using library WikiPathways_2019_Human when cutoff = 0.05\n"
     ]
    },
    {
     "name": "stdout",
     "output_type": "stream",
     "text": [
      "                                               Term  Adjusted P-value  \\\n",
      "38  KEGG_ALANINE_ASPARTATE_AND_GLUTAMATE_METABOLISM          0.010667   \n",
      "39             KEGG_ARGININE_AND_PROLINE_METABOLISM          0.013500   \n",
      "40                         KEGG_NITROGEN_METABOLISM          0.010667   \n",
      "42                              REACTOME_UREA_CYCLE          0.010000   \n",
      "\n",
      "                 Gene_set  \n",
      "38  CUSTOM140471895461392  \n",
      "39  CUSTOM140471895461392  \n",
      "40  CUSTOM140471895461392  \n",
      "42  CUSTOM140471895461392  \n",
      "Topic 226\n"
     ]
    },
    {
     "name": "stderr",
     "output_type": "stream",
     "text": [
      "2020-01-16 18:19:28,043 Warning: No enrich terms using library GO_Molecular_Function_2018 when cutoff = 0.05\n",
      "2020-01-16 18:19:35,583 Warning: No enrich terms using library Human_Phenotype_Ontology when cutoff = 0.05\n",
      "2020-01-16 18:19:38,057 Warning: No enrich terms using library WikiPathways_2019_Human when cutoff = 0.05\n"
     ]
    },
    {
     "name": "stdout",
     "output_type": "stream",
     "text": [
      "                                                 Term  Adjusted P-value  \\\n",
      "2   neutrophil activation involved in immune respo...          0.035718   \n",
      "3           neutrophil mediated immunity (GO:0002446)          0.024410   \n",
      "22                tertiary granule lumen (GO:1904724)          0.009917   \n",
      "23                specific granule lumen (GO:0035580)          0.006313   \n",
      "24                      specific granule (GO:0042581)          0.028217   \n",
      "25                      tertiary granule (GO:0070820)          0.022234   \n",
      "48                  REACTOME_NEUTROPHIL_DEGRANULATION          0.013900   \n",
      "\n",
      "                      Gene_set  \n",
      "2   GO_Biological_Process_2018  \n",
      "3   GO_Biological_Process_2018  \n",
      "22  GO_Cellular_Component_2018  \n",
      "23  GO_Cellular_Component_2018  \n",
      "24  GO_Cellular_Component_2018  \n",
      "25  GO_Cellular_Component_2018  \n",
      "48       CUSTOM140471954776640  \n",
      "Topic 227\n"
     ]
    },
    {
     "name": "stderr",
     "output_type": "stream",
     "text": [
      "2020-01-16 18:19:41,002 Warning: No enrich terms using library GO_Molecular_Function_2018 when cutoff = 0.05\n",
      "2020-01-16 18:19:43,465 Warning: No enrich terms using library GO_Biological_Process_2018 when cutoff = 0.05\n",
      "2020-01-16 18:19:45,933 Warning: No enrich terms using library GO_Cellular_Component_2018 when cutoff = 0.05\n",
      "2020-01-16 18:19:48,401 Warning: No enrich terms using library Human_Phenotype_Ontology when cutoff = 0.05\n",
      "2020-01-16 18:19:50,868 Warning: No enrich terms using library WikiPathways_2019_Human when cutoff = 0.05\n",
      "2020-01-16 18:19:50,880 Warning: No enrich terms using library CUSTOM140472027217992 when cutoff = 0.05\n"
     ]
    },
    {
     "name": "stdout",
     "output_type": "stream",
     "text": [
      "                                                 Term  Adjusted P-value  \\\n",
      "82          REACTOME_BIOSYNTHESIS_OF_EPA_DERIVED_SPMS          0.029365   \n",
      "83   REACTOME_BIOSYNTHESIS_OF_E_SERIES_18_S_RESOLVINS          0.029365   \n",
      "98  REACTOME_SYNTHESIS_OF_12_EICOSATETRAENOIC_ACID...          0.029365   \n",
      "99  REACTOME_SYNTHESIS_OF_15_EICOSATETRAENOIC_ACID...          0.029365   \n",
      "\n",
      "                 Gene_set  \n",
      "82  CUSTOM140472021102240  \n",
      "83  CUSTOM140472021102240  \n",
      "98  CUSTOM140472021102240  \n",
      "99  CUSTOM140472021102240  \n",
      "Topic 228\n"
     ]
    },
    {
     "name": "stderr",
     "output_type": "stream",
     "text": [
      "2020-01-16 18:19:53,870 Warning: No enrich terms using library GO_Molecular_Function_2018 when cutoff = 0.05\n",
      "2020-01-16 18:19:56,356 Warning: No enrich terms using library GO_Biological_Process_2018 when cutoff = 0.05\n",
      "2020-01-16 18:19:58,822 Warning: No enrich terms using library GO_Cellular_Component_2018 when cutoff = 0.05\n",
      "2020-01-16 18:20:01,288 Warning: No enrich terms using library Human_Phenotype_Ontology when cutoff = 0.05\n",
      "2020-01-16 18:20:03,748 Warning: No enrich terms using library WikiPathways_2019_Human when cutoff = 0.05\n",
      "2020-01-16 18:20:03,766 Warning: No enrich terms using library CUSTOM140471879895728 when cutoff = 0.05\n"
     ]
    },
    {
     "name": "stdout",
     "output_type": "stream",
     "text": [
      "Empty DataFrame\n",
      "Columns: [Term, Adjusted P-value, Gene_set]\n",
      "Index: []\n",
      "Topic 229\n"
     ]
    },
    {
     "name": "stderr",
     "output_type": "stream",
     "text": [
      "2020-01-16 18:20:06,736 Warning: No enrich terms using library GO_Molecular_Function_2018 when cutoff = 0.05\n",
      "2020-01-16 18:20:09,212 Warning: No enrich terms using library GO_Biological_Process_2018 when cutoff = 0.05\n",
      "2020-01-16 18:20:11,975 Warning: No enrich terms using library GO_Cellular_Component_2018 when cutoff = 0.05\n",
      "2020-01-16 18:20:14,445 Warning: No enrich terms using library Human_Phenotype_Ontology when cutoff = 0.05\n",
      "2020-01-16 18:20:16,933 Warning: No enrich terms using library WikiPathways_2019_Human when cutoff = 0.05\n"
     ]
    },
    {
     "name": "stdout",
     "output_type": "stream",
     "text": [
      "                                              Term  Adjusted P-value  \\\n",
      "21  REACTOME_TACHYKININ_RECEPTORS_BIND_TACHYKININS          0.031962   \n",
      "\n",
      "                 Gene_set  \n",
      "21  CUSTOM140471879915344  \n",
      "Topic 230\n"
     ]
    },
    {
     "name": "stderr",
     "output_type": "stream",
     "text": [
      "2020-01-16 18:20:19,918 Warning: No enrich terms using library GO_Molecular_Function_2018 when cutoff = 0.05\n",
      "2020-01-16 18:20:22,386 Warning: No enrich terms using library GO_Biological_Process_2018 when cutoff = 0.05\n",
      "2020-01-16 18:20:24,850 Warning: No enrich terms using library GO_Cellular_Component_2018 when cutoff = 0.05\n",
      "2020-01-16 18:20:27,315 Warning: No enrich terms using library Human_Phenotype_Ontology when cutoff = 0.05\n",
      "2020-01-16 18:20:29,788 Warning: No enrich terms using library WikiPathways_2019_Human when cutoff = 0.05\n",
      "2020-01-16 18:20:29,796 Warning: No enrich terms using library CUSTOM140471869626048 when cutoff = 0.05\n"
     ]
    },
    {
     "name": "stdout",
     "output_type": "stream",
     "text": [
      "                                     Term  Adjusted P-value  \\\n",
      "43  REACTOME_PEPTIDE_HORMONE_BIOSYNTHESIS          0.027964   \n",
      "\n",
      "                 Gene_set  \n",
      "43  CUSTOM140471869626192  \n",
      "Topic 231\n"
     ]
    },
    {
     "name": "stderr",
     "output_type": "stream",
     "text": [
      "2020-01-16 18:20:32,804 Warning: No enrich terms using library GO_Molecular_Function_2018 when cutoff = 0.05\n",
      "2020-01-16 18:20:35,279 Warning: No enrich terms using library GO_Biological_Process_2018 when cutoff = 0.05\n",
      "2020-01-16 18:20:37,753 Warning: No enrich terms using library GO_Cellular_Component_2018 when cutoff = 0.05\n",
      "2020-01-16 18:20:40,225 Warning: No enrich terms using library Human_Phenotype_Ontology when cutoff = 0.05\n",
      "2020-01-16 18:20:42,687 Warning: No enrich terms using library WikiPathways_2019_Human when cutoff = 0.05\n",
      "2020-01-16 18:20:42,696 Warning: No enrich terms using library CUSTOM140472022885720 when cutoff = 0.05\n",
      "2020-01-16 18:20:42,714 Warning: No enrich terms using library CUSTOM140472022886440 when cutoff = 0.05\n"
     ]
    },
    {
     "name": "stdout",
     "output_type": "stream",
     "text": [
      "Empty DataFrame\n",
      "Columns: [Term, Adjusted P-value, Gene_set]\n",
      "Index: []\n",
      "Topic 232\n"
     ]
    },
    {
     "name": "stderr",
     "output_type": "stream",
     "text": [
      "2020-01-16 18:20:45,561 Warning: No enrich terms using library GO_Molecular_Function_2018 when cutoff = 0.05\n",
      "2020-01-16 18:20:48,044 Warning: No enrich terms using library GO_Biological_Process_2018 when cutoff = 0.05\n"
     ]
    },
    {
     "name": "stdout",
     "output_type": "stream",
     "text": [
      "<class 'requests.exceptions.ConnectionError'> ('Connection aborted.', ConnectionResetError(104, 'Connection reset by peer')) <traceback object at 0x7fc22de07708>\n",
      "Empty DataFrame\n",
      "Columns: [Term, Adjusted P-value, Gene_set]\n",
      "Index: []\n",
      "Topic 233\n"
     ]
    },
    {
     "name": "stderr",
     "output_type": "stream",
     "text": [
      "2020-01-16 18:20:51,179 Warning: No enrich terms using library GO_Molecular_Function_2018 when cutoff = 0.05\n",
      "2020-01-16 18:20:53,669 Warning: No enrich terms using library GO_Biological_Process_2018 when cutoff = 0.05\n",
      "2020-01-16 18:20:56,153 Warning: No enrich terms using library GO_Cellular_Component_2018 when cutoff = 0.05\n",
      "2020-01-16 18:20:58,644 Warning: No enrich terms using library Human_Phenotype_Ontology when cutoff = 0.05\n",
      "2020-01-16 18:21:01,117 Warning: No enrich terms using library WikiPathways_2019_Human when cutoff = 0.05\n",
      "2020-01-16 18:21:01,126 Warning: No enrich terms using library CUSTOM140472027218280 when cutoff = 0.05\n",
      "2020-01-16 18:21:01,159 Warning: No enrich terms using library CUSTOM140472027220656 when cutoff = 0.05\n"
     ]
    },
    {
     "name": "stdout",
     "output_type": "stream",
     "text": [
      "Empty DataFrame\n",
      "Columns: [Term, Adjusted P-value, Gene_set]\n",
      "Index: []\n",
      "Topic 234\n"
     ]
    },
    {
     "name": "stderr",
     "output_type": "stream",
     "text": [
      "2020-01-16 18:21:04,004 Warning: No enrich terms using library GO_Molecular_Function_2018 when cutoff = 0.05\n",
      "2020-01-16 18:21:06,480 Warning: No enrich terms using library GO_Biological_Process_2018 when cutoff = 0.05\n",
      "2020-01-16 18:21:08,952 Warning: No enrich terms using library GO_Cellular_Component_2018 when cutoff = 0.05\n",
      "2020-01-16 18:21:11,418 Warning: No enrich terms using library Human_Phenotype_Ontology when cutoff = 0.05\n",
      "2020-01-16 18:21:13,882 Warning: No enrich terms using library WikiPathways_2019_Human when cutoff = 0.05\n"
     ]
    },
    {
     "name": "stdout",
     "output_type": "stream",
     "text": [
      "Empty DataFrame\n",
      "Columns: [Term, Adjusted P-value, Gene_set]\n",
      "Index: []\n",
      "Topic 235\n"
     ]
    },
    {
     "name": "stderr",
     "output_type": "stream",
     "text": [
      "2020-01-16 18:21:16,722 Warning: No enrich terms using library GO_Molecular_Function_2018 when cutoff = 0.05\n",
      "2020-01-16 18:21:19,196 Warning: No enrich terms using library GO_Biological_Process_2018 when cutoff = 0.05\n",
      "2020-01-16 18:21:21,663 Warning: No enrich terms using library GO_Cellular_Component_2018 when cutoff = 0.05\n",
      "2020-01-16 18:21:24,131 Warning: No enrich terms using library Human_Phenotype_Ontology when cutoff = 0.05\n",
      "2020-01-16 18:21:26,599 Warning: No enrich terms using library WikiPathways_2019_Human when cutoff = 0.05\n",
      "2020-01-16 18:21:26,620 Warning: No enrich terms using library CUSTOM140472021066016 when cutoff = 0.05\n"
     ]
    },
    {
     "name": "stdout",
     "output_type": "stream",
     "text": [
      "Empty DataFrame\n",
      "Columns: [Term, Adjusted P-value, Gene_set]\n",
      "Index: []\n",
      "Topic 236\n"
     ]
    },
    {
     "name": "stderr",
     "output_type": "stream",
     "text": [
      "2020-01-16 18:21:29,504 Warning: No enrich terms using library GO_Molecular_Function_2018 when cutoff = 0.05\n",
      "2020-01-16 18:21:31,981 Warning: No enrich terms using library GO_Biological_Process_2018 when cutoff = 0.05\n",
      "2020-01-16 18:21:34,456 Warning: No enrich terms using library GO_Cellular_Component_2018 when cutoff = 0.05\n",
      "2020-01-16 18:21:36,940 Warning: No enrich terms using library Human_Phenotype_Ontology when cutoff = 0.05\n",
      "2020-01-16 18:21:39,414 Warning: No enrich terms using library WikiPathways_2019_Human when cutoff = 0.05\n"
     ]
    },
    {
     "name": "stdout",
     "output_type": "stream",
     "text": [
      "                                                 Term  Adjusted P-value  \\\n",
      "35             KEGG_ASCORBATE_AND_ALDARATE_METABOLISM          0.019636   \n",
      "36               KEGG_DRUG_METABOLISM_CYTOCHROME_P450          0.019636   \n",
      "37                 KEGG_DRUG_METABOLISM_OTHER_ENZYMES          0.019636   \n",
      "38  KEGG_METABOLISM_OF_XENOBIOTICS_BY_CYTOCHROME_P450          0.019636   \n",
      "39      KEGG_PENTOSE_AND_GLUCURONATE_INTERCONVERSIONS          0.019636   \n",
      "40          KEGG_PORPHYRIN_AND_CHLOROPHYLL_METABOLISM          0.019636   \n",
      "41                            KEGG_RETINOL_METABOLISM          0.019636   \n",
      "42                 KEGG_STARCH_AND_SUCROSE_METABOLISM          0.019636   \n",
      "43                  KEGG_STEROID_HORMONE_BIOSYNTHESIS          0.019636   \n",
      "44                     REACTOME_BIOLOGICAL_OXIDATIONS          0.047357   \n",
      "46                    REACTOME_DISEASES_OF_METABOLISM          0.025154   \n",
      "47                           REACTOME_GLUCURONIDATION          0.019636   \n",
      "48  REACTOME_METABOLIC_DISORDERS_OF_BIOLOGICAL_OXI...          0.019636   \n",
      "49         REACTOME_PHASE_II_CONJUGATION_OF_COMPOUNDS          0.025154   \n",
      "\n",
      "                 Gene_set  \n",
      "35  CUSTOM140471871009848  \n",
      "36  CUSTOM140471871009848  \n",
      "37  CUSTOM140471871009848  \n",
      "38  CUSTOM140471871009848  \n",
      "39  CUSTOM140471871009848  \n",
      "40  CUSTOM140471871009848  \n",
      "41  CUSTOM140471871009848  \n",
      "42  CUSTOM140471871009848  \n",
      "43  CUSTOM140471871009848  \n",
      "44  CUSTOM140471871009848  \n",
      "46  CUSTOM140471871009848  \n",
      "47  CUSTOM140471871009848  \n",
      "48  CUSTOM140471871009848  \n",
      "49  CUSTOM140471871009848  \n",
      "Topic 237\n"
     ]
    },
    {
     "name": "stderr",
     "output_type": "stream",
     "text": [
      "2020-01-16 18:21:42,415 Warning: No enrich terms using library GO_Molecular_Function_2018 when cutoff = 0.05\n",
      "2020-01-16 18:21:44,886 Warning: No enrich terms using library GO_Biological_Process_2018 when cutoff = 0.05\n",
      "2020-01-16 18:21:47,357 Warning: No enrich terms using library GO_Cellular_Component_2018 when cutoff = 0.05\n",
      "2020-01-16 18:21:49,825 Warning: No enrich terms using library Human_Phenotype_Ontology when cutoff = 0.05\n",
      "2020-01-16 18:21:52,286 Warning: No enrich terms using library WikiPathways_2019_Human when cutoff = 0.05\n"
     ]
    },
    {
     "name": "stdout",
     "output_type": "stream",
     "text": [
      "                    Term  Adjusted P-value               Gene_set\n",
      "9  REACTOME_TRP_CHANNELS          0.044679  CUSTOM140471927906808\n",
      "Topic 238\n"
     ]
    },
    {
     "name": "stderr",
     "output_type": "stream",
     "text": [
      "2020-01-16 18:21:55,210 Warning: No enrich terms using library GO_Molecular_Function_2018 when cutoff = 0.05\n",
      "2020-01-16 18:21:57,682 Warning: No enrich terms using library GO_Biological_Process_2018 when cutoff = 0.05\n",
      "2020-01-16 18:22:00,156 Warning: No enrich terms using library GO_Cellular_Component_2018 when cutoff = 0.05\n",
      "2020-01-16 18:22:02,633 Warning: No enrich terms using library Human_Phenotype_Ontology when cutoff = 0.05\n",
      "2020-01-16 18:22:05,097 Warning: No enrich terms using library WikiPathways_2019_Human when cutoff = 0.05\n"
     ]
    },
    {
     "name": "stdout",
     "output_type": "stream",
     "text": [
      "Empty DataFrame\n",
      "Columns: [Term, Adjusted P-value, Gene_set]\n",
      "Index: []\n",
      "Topic 239\n"
     ]
    },
    {
     "name": "stderr",
     "output_type": "stream",
     "text": [
      "2020-01-16 18:22:07,939 Warning: No enrich terms using library GO_Molecular_Function_2018 when cutoff = 0.05\n",
      "2020-01-16 18:22:10,404 Warning: No enrich terms using library GO_Biological_Process_2018 when cutoff = 0.05\n",
      "2020-01-16 18:22:12,873 Warning: No enrich terms using library GO_Cellular_Component_2018 when cutoff = 0.05\n",
      "2020-01-16 18:22:15,334 Warning: No enrich terms using library Human_Phenotype_Ontology when cutoff = 0.05\n",
      "2020-01-16 18:22:17,793 Warning: No enrich terms using library WikiPathways_2019_Human when cutoff = 0.05\n"
     ]
    },
    {
     "name": "stdout",
     "output_type": "stream",
     "text": [
      "Empty DataFrame\n",
      "Columns: [Term, Adjusted P-value, Gene_set]\n",
      "Index: []\n",
      "Topic 240\n"
     ]
    },
    {
     "name": "stderr",
     "output_type": "stream",
     "text": [
      "2020-01-16 18:22:20,626 Warning: No enrich terms using library GO_Molecular_Function_2018 when cutoff = 0.05\n",
      "2020-01-16 18:22:23,091 Warning: No enrich terms using library GO_Biological_Process_2018 when cutoff = 0.05\n",
      "2020-01-16 18:22:25,552 Warning: No enrich terms using library GO_Cellular_Component_2018 when cutoff = 0.05\n",
      "2020-01-16 18:22:28,015 Warning: No enrich terms using library Human_Phenotype_Ontology when cutoff = 0.05\n",
      "2020-01-16 18:22:30,480 Warning: No enrich terms using library WikiPathways_2019_Human when cutoff = 0.05\n"
     ]
    },
    {
     "name": "stdout",
     "output_type": "stream",
     "text": [
      "Empty DataFrame\n",
      "Columns: [Term, Adjusted P-value, Gene_set]\n",
      "Index: []\n",
      "Topic 241\n"
     ]
    },
    {
     "name": "stderr",
     "output_type": "stream",
     "text": [
      "2020-01-16 18:22:33,320 Warning: No enrich terms using library GO_Molecular_Function_2018 when cutoff = 0.05\n"
     ]
    },
    {
     "name": "stdout",
     "output_type": "stream",
     "text": [
      "<class 'requests.exceptions.ConnectionError'> ('Connection aborted.', ConnectionResetError(104, 'Connection reset by peer')) <traceback object at 0x7fc22a359288>\n",
      "Empty DataFrame\n",
      "Columns: [Term, Adjusted P-value, Gene_set]\n",
      "Index: []\n",
      "Topic 242\n"
     ]
    },
    {
     "name": "stderr",
     "output_type": "stream",
     "text": [
      "2020-01-16 18:22:36,429 Warning: No enrich terms using library GO_Molecular_Function_2018 when cutoff = 0.05\n",
      "2020-01-16 18:22:38,921 Warning: No enrich terms using library GO_Biological_Process_2018 when cutoff = 0.05\n",
      "2020-01-16 18:22:41,422 Warning: No enrich terms using library GO_Cellular_Component_2018 when cutoff = 0.05\n",
      "2020-01-16 18:22:43,913 Warning: No enrich terms using library Human_Phenotype_Ontology when cutoff = 0.05\n",
      "2020-01-16 18:22:46,411 Warning: No enrich terms using library WikiPathways_2019_Human when cutoff = 0.05\n",
      "2020-01-16 18:22:46,425 Warning: No enrich terms using library CUSTOM140471959205352 when cutoff = 0.05\n",
      "2020-01-16 18:22:46,442 Warning: No enrich terms using library CUSTOM140471959206144 when cutoff = 0.05\n"
     ]
    },
    {
     "name": "stdout",
     "output_type": "stream",
     "text": [
      "Empty DataFrame\n",
      "Columns: [Term, Adjusted P-value, Gene_set]\n",
      "Index: []\n",
      "Topic 243\n"
     ]
    },
    {
     "name": "stderr",
     "output_type": "stream",
     "text": [
      "2020-01-16 18:22:49,340 Warning: No enrich terms using library GO_Molecular_Function_2018 when cutoff = 0.05\n",
      "2020-01-16 18:22:51,909 Warning: No enrich terms using library GO_Biological_Process_2018 when cutoff = 0.05\n",
      "2020-01-16 18:22:54,367 Warning: No enrich terms using library GO_Cellular_Component_2018 when cutoff = 0.05\n",
      "2020-01-16 18:22:57,036 Warning: No enrich terms using library Human_Phenotype_Ontology when cutoff = 0.05\n",
      "2020-01-16 18:22:59,509 Warning: No enrich terms using library WikiPathways_2019_Human when cutoff = 0.05\n",
      "2020-01-16 18:22:59,517 Warning: No enrich terms using library CUSTOM140471922481984 when cutoff = 0.05\n"
     ]
    },
    {
     "name": "stdout",
     "output_type": "stream",
     "text": [
      "                                                  Term  Adjusted P-value  \\\n",
      "167                          BIOCARTA_VOBESITY_PATHWAY          0.018121   \n",
      "174  REACTOME_AMPK_INHIBITS_CHREBP_TRANSCRIPTIONAL_...          0.018121   \n",
      "175  REACTOME_ASSEMBLY_OF_ACTIVE_LPL_AND_LIPC_LIPAS...          0.032242   \n",
      "178               REACTOME_LIPID_PARTICLE_ORGANIZATION          0.018121   \n",
      "181             REACTOME_PLASMA_LIPOPROTEIN_REMODELING          0.043385   \n",
      "\n",
      "                  Gene_set  \n",
      "167  CUSTOM140471922483064  \n",
      "174  CUSTOM140471922483064  \n",
      "175  CUSTOM140471922483064  \n",
      "178  CUSTOM140471922483064  \n",
      "181  CUSTOM140471922483064  \n",
      "Topic 244\n"
     ]
    },
    {
     "name": "stderr",
     "output_type": "stream",
     "text": [
      "2020-01-16 18:23:02,502 Warning: No enrich terms using library GO_Molecular_Function_2018 when cutoff = 0.05\n",
      "2020-01-16 18:23:04,992 Warning: No enrich terms using library GO_Biological_Process_2018 when cutoff = 0.05\n",
      "2020-01-16 18:23:07,457 Warning: No enrich terms using library GO_Cellular_Component_2018 when cutoff = 0.05\n",
      "2020-01-16 18:23:09,940 Warning: No enrich terms using library Human_Phenotype_Ontology when cutoff = 0.05\n",
      "2020-01-16 18:23:12,419 Warning: No enrich terms using library WikiPathways_2019_Human when cutoff = 0.05\n",
      "2020-01-16 18:23:12,427 Warning: No enrich terms using library CUSTOM140471946543824 when cutoff = 0.05\n",
      "2020-01-16 18:23:12,449 Warning: No enrich terms using library CUSTOM140471946543392 when cutoff = 0.05\n"
     ]
    },
    {
     "name": "stdout",
     "output_type": "stream",
     "text": [
      "Empty DataFrame\n",
      "Columns: [Term, Adjusted P-value, Gene_set]\n",
      "Index: []\n",
      "Topic 245\n"
     ]
    },
    {
     "name": "stderr",
     "output_type": "stream",
     "text": [
      "2020-01-16 18:23:15,336 Warning: No enrich terms using library GO_Molecular_Function_2018 when cutoff = 0.05\n",
      "2020-01-16 18:23:17,814 Warning: No enrich terms using library GO_Biological_Process_2018 when cutoff = 0.05\n",
      "2020-01-16 18:23:20,306 Warning: No enrich terms using library GO_Cellular_Component_2018 when cutoff = 0.05\n",
      "2020-01-16 18:23:22,773 Warning: No enrich terms using library Human_Phenotype_Ontology when cutoff = 0.05\n",
      "2020-01-16 18:23:25,261 Warning: No enrich terms using library WikiPathways_2019_Human when cutoff = 0.05\n",
      "2020-01-16 18:23:25,278 Warning: No enrich terms using library CUSTOM140472021802584 when cutoff = 0.05\n",
      "2020-01-16 18:23:25,307 Warning: No enrich terms using library CUSTOM140472021801504 when cutoff = 0.05\n"
     ]
    },
    {
     "name": "stdout",
     "output_type": "stream",
     "text": [
      "Empty DataFrame\n",
      "Columns: [Term, Adjusted P-value, Gene_set]\n",
      "Index: []\n",
      "Topic 246\n"
     ]
    },
    {
     "name": "stderr",
     "output_type": "stream",
     "text": [
      "2020-01-16 18:23:28,143 Warning: No enrich terms using library GO_Molecular_Function_2018 when cutoff = 0.05\n",
      "2020-01-16 18:23:30,641 Warning: No enrich terms using library GO_Biological_Process_2018 when cutoff = 0.05\n",
      "2020-01-16 18:23:33,123 Warning: No enrich terms using library GO_Cellular_Component_2018 when cutoff = 0.05\n",
      "2020-01-16 18:23:35,596 Warning: No enrich terms using library Human_Phenotype_Ontology when cutoff = 0.05\n",
      "2020-01-16 18:23:38,063 Warning: No enrich terms using library WikiPathways_2019_Human when cutoff = 0.05\n",
      "2020-01-16 18:23:38,071 Warning: No enrich terms using library CUSTOM140472027110784 when cutoff = 0.05\n"
     ]
    },
    {
     "name": "stdout",
     "output_type": "stream",
     "text": [
      "Empty DataFrame\n",
      "Columns: [Term, Adjusted P-value, Gene_set]\n",
      "Index: []\n",
      "Topic 247\n"
     ]
    },
    {
     "name": "stderr",
     "output_type": "stream",
     "text": [
      "2020-01-16 18:23:40,933 Warning: No enrich terms using library GO_Molecular_Function_2018 when cutoff = 0.05\n",
      "2020-01-16 18:23:43,404 Warning: No enrich terms using library GO_Biological_Process_2018 when cutoff = 0.05\n",
      "2020-01-16 18:23:45,879 Warning: No enrich terms using library GO_Cellular_Component_2018 when cutoff = 0.05\n",
      "2020-01-16 18:23:48,387 Warning: No enrich terms using library Human_Phenotype_Ontology when cutoff = 0.05\n",
      "2020-01-16 18:23:50,858 Warning: No enrich terms using library WikiPathways_2019_Human when cutoff = 0.05\n",
      "2020-01-16 18:23:50,866 Warning: No enrich terms using library CUSTOM140471930989088 when cutoff = 0.05\n",
      "2020-01-16 18:23:50,882 Warning: No enrich terms using library CUSTOM140471930987864 when cutoff = 0.05\n"
     ]
    },
    {
     "name": "stdout",
     "output_type": "stream",
     "text": [
      "Empty DataFrame\n",
      "Columns: [Term, Adjusted P-value, Gene_set]\n",
      "Index: []\n",
      "Topic 248\n"
     ]
    },
    {
     "name": "stderr",
     "output_type": "stream",
     "text": [
      "2020-01-16 18:23:53,711 Warning: No enrich terms using library GO_Molecular_Function_2018 when cutoff = 0.05\n",
      "2020-01-16 18:23:56,188 Warning: No enrich terms using library GO_Biological_Process_2018 when cutoff = 0.05\n",
      "2020-01-16 18:23:58,649 Warning: No enrich terms using library GO_Cellular_Component_2018 when cutoff = 0.05\n",
      "2020-01-16 18:24:01,119 Warning: No enrich terms using library Human_Phenotype_Ontology when cutoff = 0.05\n",
      "2020-01-16 18:24:03,582 Warning: No enrich terms using library WikiPathways_2019_Human when cutoff = 0.05\n"
     ]
    },
    {
     "name": "stdout",
     "output_type": "stream",
     "text": [
      "                                            Term  Adjusted P-value  \\\n",
      "8                            HALLMARK_MYOGENESIS          0.040000   \n",
      "10                            PID_REG_GR_PATHWAY          0.043867   \n",
      "11  REACTOME_CLASS_B_2_SECRETIN_FAMILY_RECEPTORS          0.043867   \n",
      "12       REACTOME_GLUCAGON_TYPE_LIGAND_RECEPTORS          0.043867   \n",
      "\n",
      "                 Gene_set  \n",
      "8   CUSTOM140471929749296  \n",
      "10  CUSTOM140472023296688  \n",
      "11  CUSTOM140472023296688  \n",
      "12  CUSTOM140472023296688  \n",
      "Topic 249\n"
     ]
    },
    {
     "name": "stderr",
     "output_type": "stream",
     "text": [
      "2020-01-16 18:24:09,178 Warning: No enrich terms using library GO_Biological_Process_2018 when cutoff = 0.05\n",
      "2020-01-16 18:24:14,187 Warning: No enrich terms using library Human_Phenotype_Ontology when cutoff = 0.05\n",
      "2020-01-16 18:24:16,673 Warning: No enrich terms using library WikiPathways_2019_Human when cutoff = 0.05\n",
      "2020-01-16 18:24:16,686 Warning: No enrich terms using library CUSTOM140471959768952 when cutoff = 0.05\n",
      "2020-01-16 18:24:16,704 Warning: No enrich terms using library CUSTOM140471959767152 when cutoff = 0.05\n"
     ]
    },
    {
     "name": "stdout",
     "output_type": "stream",
     "text": [
      "                                                 Term  Adjusted P-value  \\\n",
      "0   intracellular ligand-gated ion channel activit...          0.003622   \n",
      "1   ligand-gated calcium channel activity (GO:0099...          0.003276   \n",
      "2       calcium-release channel activity (GO:0015278)          0.002908   \n",
      "73  junctional sarcoplasmic reticulum membrane (GO...          0.000481   \n",
      "74                sarcoplasmic reticulum (GO:0016529)          0.002711   \n",
      "75                            sarcoplasm (GO:0016528)          0.002070   \n",
      "\n",
      "                      Gene_set  \n",
      "0   GO_Molecular_Function_2018  \n",
      "1   GO_Molecular_Function_2018  \n",
      "2   GO_Molecular_Function_2018  \n",
      "73  GO_Cellular_Component_2018  \n",
      "74  GO_Cellular_Component_2018  \n",
      "75  GO_Cellular_Component_2018  \n",
      "Topic 250\n"
     ]
    },
    {
     "name": "stderr",
     "output_type": "stream",
     "text": [
      "2020-01-16 18:24:19,582 Warning: No enrich terms using library GO_Molecular_Function_2018 when cutoff = 0.05\n",
      "2020-01-16 18:24:22,087 Warning: No enrich terms using library GO_Biological_Process_2018 when cutoff = 0.05\n",
      "2020-01-16 18:24:27,126 Warning: No enrich terms using library Human_Phenotype_Ontology when cutoff = 0.05\n",
      "2020-01-16 18:24:29,585 Warning: No enrich terms using library WikiPathways_2019_Human when cutoff = 0.05\n",
      "2020-01-16 18:24:29,603 Warning: No enrich terms using library CUSTOM140471965356104 when cutoff = 0.05\n"
     ]
    },
    {
     "name": "stdout",
     "output_type": "stream",
     "text": [
      "                                   Term  Adjusted P-value  \\\n",
      "15        tertiary granule (GO:0070820)          0.004742   \n",
      "16  tertiary granule lumen (GO:1904724)          0.024662   \n",
      "17  specific granule lumen (GO:0035580)          0.020917   \n",
      "\n",
      "                      Gene_set  \n",
      "15  GO_Cellular_Component_2018  \n",
      "16  GO_Cellular_Component_2018  \n",
      "17  GO_Cellular_Component_2018  \n",
      "Topic 251\n"
     ]
    },
    {
     "name": "stderr",
     "output_type": "stream",
     "text": [
      "2020-01-16 18:24:32,431 Warning: No enrich terms using library GO_Molecular_Function_2018 when cutoff = 0.05\n",
      "2020-01-16 18:24:34,903 Warning: No enrich terms using library GO_Biological_Process_2018 when cutoff = 0.05\n",
      "2020-01-16 18:24:37,364 Warning: No enrich terms using library GO_Cellular_Component_2018 when cutoff = 0.05\n",
      "2020-01-16 18:24:39,830 Warning: No enrich terms using library Human_Phenotype_Ontology when cutoff = 0.05\n",
      "2020-01-16 18:24:42,314 Warning: No enrich terms using library WikiPathways_2019_Human when cutoff = 0.05\n",
      "2020-01-16 18:24:42,327 Warning: No enrich terms using library CUSTOM140471877298864 when cutoff = 0.05\n"
     ]
    },
    {
     "name": "stdout",
     "output_type": "stream",
     "text": [
      "                                                 Term  Adjusted P-value  \\\n",
      "90  REACTOME_METAL_SEQUESTRATION_BY_ANTIMICROBIAL_...          0.016792   \n",
      "\n",
      "                 Gene_set  \n",
      "90  CUSTOM140471877298504  \n",
      "Topic 252\n"
     ]
    },
    {
     "name": "stderr",
     "output_type": "stream",
     "text": [
      "2020-01-16 18:24:45,317 Warning: No enrich terms using library GO_Molecular_Function_2018 when cutoff = 0.05\n",
      "2020-01-16 18:24:50,362 Warning: No enrich terms using library GO_Cellular_Component_2018 when cutoff = 0.05\n",
      "2020-01-16 18:24:52,846 Warning: No enrich terms using library Human_Phenotype_Ontology when cutoff = 0.05\n",
      "2020-01-16 18:24:55,329 Warning: No enrich terms using library WikiPathways_2019_Human when cutoff = 0.05\n",
      "2020-01-16 18:24:55,338 Warning: No enrich terms using library CUSTOM140471877200272 when cutoff = 0.05\n",
      "2020-01-16 18:24:55,367 Warning: No enrich terms using library CUSTOM140471931012080 when cutoff = 0.05\n"
     ]
    },
    {
     "name": "stdout",
     "output_type": "stream",
     "text": [
      "                            Term  Adjusted P-value                    Gene_set\n",
      "33  anion transport (GO:0006820)          0.022928  GO_Biological_Process_2018\n",
      "Topic 253\n"
     ]
    },
    {
     "name": "stderr",
     "output_type": "stream",
     "text": [
      "2020-01-16 18:24:58,266 Warning: No enrich terms using library GO_Molecular_Function_2018 when cutoff = 0.05\n",
      "2020-01-16 18:25:00,750 Warning: No enrich terms using library GO_Biological_Process_2018 when cutoff = 0.05\n",
      "2020-01-16 18:25:03,225 Warning: No enrich terms using library GO_Cellular_Component_2018 when cutoff = 0.05\n",
      "2020-01-16 18:25:05,701 Warning: No enrich terms using library Human_Phenotype_Ontology when cutoff = 0.05\n",
      "2020-01-16 18:25:08,174 Warning: No enrich terms using library WikiPathways_2019_Human when cutoff = 0.05\n",
      "2020-01-16 18:25:08,182 Warning: No enrich terms using library CUSTOM140471959187600 when cutoff = 0.05\n"
     ]
    },
    {
     "name": "stdout",
     "output_type": "stream",
     "text": [
      "                                            Term  Adjusted P-value  \\\n",
      "154  REACTOME_CLASS_A_1_RHODOPSIN_LIKE_RECEPTORS          0.017929   \n",
      "159                 REACTOME_GPCR_LIGAND_BINDING          0.017929   \n",
      "161         REACTOME_G_ALPHA_Q_SIGNALLING_EVENTS          0.023290   \n",
      "164    REACTOME_PEPTIDE_LIGAND_BINDING_RECEPTORS          0.003107   \n",
      "171          REACTOME_VASOPRESSIN_LIKE_RECEPTORS          0.003107   \n",
      "\n",
      "                  Gene_set  \n",
      "154  CUSTOM140471959190696  \n",
      "159  CUSTOM140471959190696  \n",
      "161  CUSTOM140471959190696  \n",
      "164  CUSTOM140471959190696  \n",
      "171  CUSTOM140471959190696  \n",
      "Topic 254\n"
     ]
    },
    {
     "name": "stderr",
     "output_type": "stream",
     "text": [
      "2020-01-16 18:25:11,166 Warning: No enrich terms using library GO_Molecular_Function_2018 when cutoff = 0.05\n",
      "2020-01-16 18:25:13,632 Warning: No enrich terms using library GO_Biological_Process_2018 when cutoff = 0.05\n",
      "2020-01-16 18:25:16,102 Warning: No enrich terms using library GO_Cellular_Component_2018 when cutoff = 0.05\n",
      "2020-01-16 18:25:18,561 Warning: No enrich terms using library Human_Phenotype_Ontology when cutoff = 0.05\n",
      "2020-01-16 18:25:21,036 Warning: No enrich terms using library WikiPathways_2019_Human when cutoff = 0.05\n",
      "2020-01-16 18:25:21,139 Warning: No enrich terms using library CUSTOM140471889410736 when cutoff = 0.05\n"
     ]
    },
    {
     "name": "stdout",
     "output_type": "stream",
     "text": [
      "                         Term  Adjusted P-value               Gene_set\n",
      "8  HALLMARK_KRAS_SIGNALING_DN              0.04  CUSTOM140472022706648\n",
      "Topic 255\n"
     ]
    },
    {
     "name": "stderr",
     "output_type": "stream",
     "text": [
      "2020-01-16 18:25:23,940 Warning: No enrich terms using library GO_Molecular_Function_2018 when cutoff = 0.05\n",
      "2020-01-16 18:25:26,416 Warning: No enrich terms using library GO_Biological_Process_2018 when cutoff = 0.05\n",
      "2020-01-16 18:25:28,901 Warning: No enrich terms using library GO_Cellular_Component_2018 when cutoff = 0.05\n",
      "2020-01-16 18:25:31,430 Warning: No enrich terms using library Human_Phenotype_Ontology when cutoff = 0.05\n",
      "2020-01-16 18:25:33,901 Warning: No enrich terms using library WikiPathways_2019_Human when cutoff = 0.05\n"
     ]
    },
    {
     "name": "stdout",
     "output_type": "stream",
     "text": [
      "                                                 Term  Adjusted P-value  \\\n",
      "32  REACTOME_ACROSOME_REACTION_AND_SPERM:OOCYTE_ME...          0.022313   \n",
      "34                             REACTOME_FERTILIZATION          0.030967   \n",
      "35              REACTOME_METALLOTHIONEINS_BIND_METALS          0.022313   \n",
      "37                    REACTOME_RESPONSE_TO_METAL_IONS          0.022313   \n",
      "\n",
      "                 Gene_set  \n",
      "32  CUSTOM140471889337368  \n",
      "34  CUSTOM140471889337368  \n",
      "35  CUSTOM140471889337368  \n",
      "37  CUSTOM140471889337368  \n",
      "Topic 256\n"
     ]
    },
    {
     "name": "stderr",
     "output_type": "stream",
     "text": [
      "2020-01-16 18:25:36,925 Warning: No enrich terms using library GO_Molecular_Function_2018 when cutoff = 0.05\n",
      "2020-01-16 18:25:39,400 Warning: No enrich terms using library GO_Biological_Process_2018 when cutoff = 0.05\n",
      "2020-01-16 18:25:41,862 Warning: No enrich terms using library GO_Cellular_Component_2018 when cutoff = 0.05\n",
      "2020-01-16 18:25:44,348 Warning: No enrich terms using library Human_Phenotype_Ontology when cutoff = 0.05\n",
      "2020-01-16 18:25:46,835 Warning: No enrich terms using library WikiPathways_2019_Human when cutoff = 0.05\n",
      "2020-01-16 18:25:46,850 Warning: No enrich terms using library CUSTOM140471913895760 when cutoff = 0.05\n"
     ]
    },
    {
     "name": "stdout",
     "output_type": "stream",
     "text": [
      "                 Term  Adjusted P-value               Gene_set\n",
      "17  PID_AR_TF_PATHWAY           0.02109  CUSTOM140471913894608\n",
      "Topic 257\n"
     ]
    },
    {
     "name": "stderr",
     "output_type": "stream",
     "text": [
      "2020-01-16 18:25:49,815 Warning: No enrich terms using library GO_Molecular_Function_2018 when cutoff = 0.05\n",
      "2020-01-16 18:25:52,315 Warning: No enrich terms using library GO_Biological_Process_2018 when cutoff = 0.05\n",
      "2020-01-16 18:25:54,799 Warning: No enrich terms using library GO_Cellular_Component_2018 when cutoff = 0.05\n",
      "2020-01-16 18:25:57,265 Warning: No enrich terms using library Human_Phenotype_Ontology when cutoff = 0.05\n",
      "2020-01-16 18:25:59,738 Warning: No enrich terms using library WikiPathways_2019_Human when cutoff = 0.05\n",
      "2020-01-16 18:25:59,760 Warning: No enrich terms using library CUSTOM140471954040512 when cutoff = 0.05\n"
     ]
    },
    {
     "name": "stdout",
     "output_type": "stream",
     "text": [
      "Empty DataFrame\n",
      "Columns: [Term, Adjusted P-value, Gene_set]\n",
      "Index: []\n",
      "Topic 258\n"
     ]
    },
    {
     "name": "stderr",
     "output_type": "stream",
     "text": [
      "2020-01-16 18:26:02,673 Warning: No enrich terms using library GO_Molecular_Function_2018 when cutoff = 0.05\n",
      "2020-01-16 18:26:12,942 Warning: No enrich terms using library WikiPathways_2019_Human when cutoff = 0.05\n",
      "2020-01-16 18:26:12,951 Warning: No enrich terms using library CUSTOM140471919904880 when cutoff = 0.05\n"
     ]
    },
    {
     "name": "stdout",
     "output_type": "stream",
     "text": [
      "                                                  Term  Adjusted P-value  \\\n",
      "27               neutrophil degranulation (GO:0043312)          0.000066   \n",
      "28   neutrophil activation involved in immune respo...          0.000035   \n",
      "29           neutrophil mediated immunity (GO:0002446)          0.000024   \n",
      "30          defense response to bacterium (GO:0042742)          0.000570   \n",
      "31   antimicrobial humoral immune response mediated...          0.005037   \n",
      "32   defense response to Gram-positive bacterium (G...          0.009886   \n",
      "33   defense response to Gram-negative bacterium (G...          0.011061   \n",
      "34       innate immune response in mucosa (GO:0002227)          0.049294   \n",
      "130                      primary lysosome (GO:0005766)          0.000015   \n",
      "131               secretory granule lumen (GO:0034774)          0.000009   \n",
      "132                     azurophil granule (GO:0042582)          0.000474   \n",
      "133                      specific granule (GO:0042581)          0.000414   \n",
      "134                specific granule lumen (GO:0035580)          0.000899   \n",
      "135               azurophil granule lumen (GO:0035578)          0.002300   \n",
      "136                        vacuolar lumen (GO:0005775)          0.011125   \n",
      "137                tertiary granule lumen (GO:1904724)          0.036880   \n",
      "153                       Reticulocytosis (HP:0001923)          0.045826   \n",
      "212                    REACTOME_ANTIMICROBIAL_PEPTIDES          0.039709   \n",
      "227                  REACTOME_NEUTROPHIL_DEGRANULATION          0.004752   \n",
      "\n",
      "                       Gene_set  \n",
      "27   GO_Biological_Process_2018  \n",
      "28   GO_Biological_Process_2018  \n",
      "29   GO_Biological_Process_2018  \n",
      "30   GO_Biological_Process_2018  \n",
      "31   GO_Biological_Process_2018  \n",
      "32   GO_Biological_Process_2018  \n",
      "33   GO_Biological_Process_2018  \n",
      "34   GO_Biological_Process_2018  \n",
      "130  GO_Cellular_Component_2018  \n",
      "131  GO_Cellular_Component_2018  \n",
      "132  GO_Cellular_Component_2018  \n",
      "133  GO_Cellular_Component_2018  \n",
      "134  GO_Cellular_Component_2018  \n",
      "135  GO_Cellular_Component_2018  \n",
      "136  GO_Cellular_Component_2018  \n",
      "137  GO_Cellular_Component_2018  \n",
      "153    Human_Phenotype_Ontology  \n",
      "212       CUSTOM140471919904520  \n",
      "227       CUSTOM140471919904520  \n",
      "Topic 259\n"
     ]
    },
    {
     "name": "stderr",
     "output_type": "stream",
     "text": [
      "2020-01-16 18:26:16,002 Warning: No enrich terms using library GO_Molecular_Function_2018 when cutoff = 0.05\n",
      "2020-01-16 18:26:18,677 Warning: No enrich terms using library GO_Biological_Process_2018 when cutoff = 0.05\n",
      "2020-01-16 18:26:21,189 Warning: No enrich terms using library GO_Cellular_Component_2018 when cutoff = 0.05\n",
      "2020-01-16 18:26:23,687 Warning: No enrich terms using library Human_Phenotype_Ontology when cutoff = 0.05\n",
      "2020-01-16 18:26:26,180 Warning: No enrich terms using library WikiPathways_2019_Human when cutoff = 0.05\n",
      "2020-01-16 18:26:26,199 Warning: No enrich terms using library CUSTOM140471918870816 when cutoff = 0.05\n"
     ]
    },
    {
     "name": "stdout",
     "output_type": "stream",
     "text": [
      "Empty DataFrame\n",
      "Columns: [Term, Adjusted P-value, Gene_set]\n",
      "Index: []\n",
      "Topic 260\n"
     ]
    },
    {
     "name": "stderr",
     "output_type": "stream",
     "text": [
      "2020-01-16 18:26:29,025 Warning: No enrich terms using library GO_Molecular_Function_2018 when cutoff = 0.05\n",
      "2020-01-16 18:26:31,494 Warning: No enrich terms using library GO_Biological_Process_2018 when cutoff = 0.05\n",
      "2020-01-16 18:26:33,971 Warning: No enrich terms using library GO_Cellular_Component_2018 when cutoff = 0.05\n",
      "2020-01-16 18:26:36,445 Warning: No enrich terms using library Human_Phenotype_Ontology when cutoff = 0.05\n",
      "2020-01-16 18:26:38,912 Warning: No enrich terms using library WikiPathways_2019_Human when cutoff = 0.05\n"
     ]
    },
    {
     "name": "stdout",
     "output_type": "stream",
     "text": [
      "                                                 Term  Adjusted P-value  \\\n",
      "18  KEGG_ARRHYTHMOGENIC_RIGHT_VENTRICULAR_CARDIOMY...          0.048272   \n",
      "19                        KEGG_DILATED_CARDIOMYOPATHY          0.048272   \n",
      "20                      KEGG_ECM_RECEPTOR_INTERACTION          0.048272   \n",
      "22               KEGG_HYPERTROPHIC_CARDIOMYOPATHY_HCM          0.048272   \n",
      "24                                     NABA_COLLAGENS          0.048272   \n",
      "27                       PID_ARF6_TRAFFICKING_PATHWAY          0.048272   \n",
      "28                          PID_AVB3_INTEGRIN_PATHWAY          0.048272   \n",
      "30                              PID_INTEGRIN1_PATHWAY          0.048272   \n",
      "31                            PID_INTEGRIN_CS_PATHWAY          0.048272   \n",
      "32                             PID_SYNDECAN_1_PATHWAY          0.048272   \n",
      "33  REACTOME_ASSEMBLY_OF_COLLAGEN_FIBRILS_AND_OTHE...          0.048272   \n",
      "34  REACTOME_COLLAGEN_BIOSYNTHESIS_AND_MODIFYING_E...          0.048272   \n",
      "35              REACTOME_COLLAGEN_CHAIN_TRIMERIZATION          0.048272   \n",
      "36                      REACTOME_COLLAGEN_DEGRADATION          0.048272   \n",
      "37                        REACTOME_COLLAGEN_FORMATION          0.048272   \n",
      "39         REACTOME_EXTRACELLULAR_MATRIX_ORGANIZATION          0.041546   \n",
      "40        REACTOME_INTEGRIN_CELL_SURFACE_INTERACTIONS          0.006570   \n",
      "\n",
      "                 Gene_set  \n",
      "18  CUSTOM140471922389856  \n",
      "19  CUSTOM140471922389856  \n",
      "20  CUSTOM140471922389856  \n",
      "22  CUSTOM140471922389856  \n",
      "24  CUSTOM140471922389856  \n",
      "27  CUSTOM140471922389856  \n",
      "28  CUSTOM140471922389856  \n",
      "30  CUSTOM140471922389856  \n",
      "31  CUSTOM140471922389856  \n",
      "32  CUSTOM140471922389856  \n",
      "33  CUSTOM140471922389856  \n",
      "34  CUSTOM140471922389856  \n",
      "35  CUSTOM140471922389856  \n",
      "36  CUSTOM140471922389856  \n",
      "37  CUSTOM140471922389856  \n",
      "39  CUSTOM140471922389856  \n",
      "40  CUSTOM140471922389856  \n",
      "Topic 261\n"
     ]
    },
    {
     "name": "stderr",
     "output_type": "stream",
     "text": [
      "2020-01-16 18:26:41,898 Warning: No enrich terms using library GO_Molecular_Function_2018 when cutoff = 0.05\n",
      "2020-01-16 18:26:44,371 Warning: No enrich terms using library GO_Biological_Process_2018 when cutoff = 0.05\n",
      "2020-01-16 18:26:46,843 Warning: No enrich terms using library GO_Cellular_Component_2018 when cutoff = 0.05\n",
      "2020-01-16 18:26:49,309 Warning: No enrich terms using library Human_Phenotype_Ontology when cutoff = 0.05\n",
      "2020-01-16 18:26:51,955 Warning: No enrich terms using library CUSTOM140471879952496 when cutoff = 0.05\n"
     ]
    },
    {
     "name": "stdout",
     "output_type": "stream",
     "text": [
      "                               Term  Adjusted P-value                 Gene_set\n",
      "59  Synaptic Vesicle Pathway WP2267          0.029943  WikiPathways_2019_Human\n",
      "63     HALLMARK_PANCREAS_BETA_CELLS          0.000615    CUSTOM140471879954008\n",
      "Topic 262\n"
     ]
    },
    {
     "name": "stderr",
     "output_type": "stream",
     "text": [
      "2020-01-16 18:26:54,798 Warning: No enrich terms using library GO_Molecular_Function_2018 when cutoff = 0.05\n",
      "2020-01-16 18:26:57,475 Warning: No enrich terms using library GO_Biological_Process_2018 when cutoff = 0.05\n",
      "2020-01-16 18:26:59,945 Warning: No enrich terms using library GO_Cellular_Component_2018 when cutoff = 0.05\n",
      "2020-01-16 18:27:02,417 Warning: No enrich terms using library Human_Phenotype_Ontology when cutoff = 0.05\n",
      "2020-01-16 18:27:04,906 Warning: No enrich terms using library WikiPathways_2019_Human when cutoff = 0.05\n",
      "2020-01-16 18:27:04,920 Warning: No enrich terms using library CUSTOM140471949501064 when cutoff = 0.05\n"
     ]
    },
    {
     "name": "stdout",
     "output_type": "stream",
     "text": [
      "                                   Term  Adjusted P-value  \\\n",
      "88          REACTOME_INSULIN_PROCESSING          0.006117   \n",
      "94  REACTOME_PEPTIDE_HORMONE_METABOLISM          0.034026   \n",
      "\n",
      "                 Gene_set  \n",
      "88  CUSTOM140472027218568  \n",
      "94  CUSTOM140472027218568  \n",
      "Topic 263\n"
     ]
    },
    {
     "name": "stderr",
     "output_type": "stream",
     "text": [
      "2020-01-16 18:27:07,886 Warning: No enrich terms using library GO_Molecular_Function_2018 when cutoff = 0.05\n",
      "2020-01-16 18:27:10,358 Warning: No enrich terms using library GO_Biological_Process_2018 when cutoff = 0.05\n",
      "2020-01-16 18:27:12,825 Warning: No enrich terms using library GO_Cellular_Component_2018 when cutoff = 0.05\n",
      "2020-01-16 18:27:15,301 Warning: No enrich terms using library Human_Phenotype_Ontology when cutoff = 0.05\n",
      "2020-01-16 18:27:17,781 Warning: No enrich terms using library WikiPathways_2019_Human when cutoff = 0.05\n"
     ]
    },
    {
     "name": "stdout",
     "output_type": "stream",
     "text": [
      "                                              Term  Adjusted P-value  \\\n",
      "24                        KEGG_TYROSINE_METABOLISM            0.0112   \n",
      "26  REACTOME_PHENYLALANINE_AND_TYROSINE_METABOLISM            0.0044   \n",
      "27                    REACTOME_TYROSINE_CATABOLISM            0.0040   \n",
      "\n",
      "                 Gene_set  \n",
      "24  CUSTOM140471968789632  \n",
      "26  CUSTOM140471968789632  \n",
      "27  CUSTOM140471968789632  \n",
      "Topic 264\n"
     ]
    },
    {
     "name": "stderr",
     "output_type": "stream",
     "text": [
      "2020-01-16 18:27:20,682 Warning: No enrich terms using library GO_Molecular_Function_2018 when cutoff = 0.05\n",
      "2020-01-16 18:27:23,161 Warning: No enrich terms using library GO_Biological_Process_2018 when cutoff = 0.05\n",
      "2020-01-16 18:27:25,630 Warning: No enrich terms using library GO_Cellular_Component_2018 when cutoff = 0.05\n",
      "2020-01-16 18:27:28,093 Warning: No enrich terms using library Human_Phenotype_Ontology when cutoff = 0.05\n",
      "2020-01-16 18:27:30,561 Warning: No enrich terms using library WikiPathways_2019_Human when cutoff = 0.05\n",
      "2020-01-16 18:27:30,578 Warning: No enrich terms using library CUSTOM140471929469544 when cutoff = 0.05\n"
     ]
    },
    {
     "name": "stdout",
     "output_type": "stream",
     "text": [
      "Empty DataFrame\n",
      "Columns: [Term, Adjusted P-value, Gene_set]\n",
      "Index: []\n",
      "Topic 265\n"
     ]
    },
    {
     "name": "stderr",
     "output_type": "stream",
     "text": [
      "2020-01-16 18:27:33,416 Warning: No enrich terms using library GO_Molecular_Function_2018 when cutoff = 0.05\n",
      "2020-01-16 18:27:35,897 Warning: No enrich terms using library GO_Biological_Process_2018 when cutoff = 0.05\n",
      "2020-01-16 18:27:38,368 Warning: No enrich terms using library GO_Cellular_Component_2018 when cutoff = 0.05\n",
      "2020-01-16 18:27:40,842 Warning: No enrich terms using library Human_Phenotype_Ontology when cutoff = 0.05\n",
      "2020-01-16 18:27:43,309 Warning: No enrich terms using library WikiPathways_2019_Human when cutoff = 0.05\n"
     ]
    },
    {
     "name": "stdout",
     "output_type": "stream",
     "text": [
      "                                                 Term  Adjusted P-value  \\\n",
      "41                         BIOCARTA_RHODOPSIN_PATHWAY          0.049717   \n",
      "43  REACTOME_ACTIVATION_OF_THE_PHOTOTRANSDUCTION_C...          0.049717   \n",
      "49                                    REACTOME_OPSINS          0.049717   \n",
      "\n",
      "                 Gene_set  \n",
      "41  CUSTOM140471869577040  \n",
      "43  CUSTOM140471869577040  \n",
      "49  CUSTOM140471869577040  \n",
      "Topic 266\n"
     ]
    },
    {
     "name": "stderr",
     "output_type": "stream",
     "text": [
      "2020-01-16 18:27:46,239 Warning: No enrich terms using library GO_Molecular_Function_2018 when cutoff = 0.05\n",
      "2020-01-16 18:27:48,703 Warning: No enrich terms using library GO_Biological_Process_2018 when cutoff = 0.05\n",
      "2020-01-16 18:27:51,176 Warning: No enrich terms using library GO_Cellular_Component_2018 when cutoff = 0.05\n",
      "2020-01-16 18:27:53,635 Warning: No enrich terms using library Human_Phenotype_Ontology when cutoff = 0.05\n",
      "2020-01-16 18:27:56,116 Warning: No enrich terms using library WikiPathways_2019_Human when cutoff = 0.05\n"
     ]
    },
    {
     "name": "stdout",
     "output_type": "stream",
     "text": [
      "Empty DataFrame\n",
      "Columns: [Term, Adjusted P-value, Gene_set]\n",
      "Index: []\n",
      "Topic 267\n"
     ]
    },
    {
     "name": "stderr",
     "output_type": "stream",
     "text": [
      "2020-01-16 18:27:58,947 Warning: No enrich terms using library GO_Molecular_Function_2018 when cutoff = 0.05\n",
      "2020-01-16 18:28:01,421 Warning: No enrich terms using library GO_Biological_Process_2018 when cutoff = 0.05\n",
      "2020-01-16 18:28:03,892 Warning: No enrich terms using library GO_Cellular_Component_2018 when cutoff = 0.05\n",
      "2020-01-16 18:28:06,352 Warning: No enrich terms using library Human_Phenotype_Ontology when cutoff = 0.05\n",
      "2020-01-16 18:28:08,824 Warning: No enrich terms using library WikiPathways_2019_Human when cutoff = 0.05\n"
     ]
    },
    {
     "name": "stdout",
     "output_type": "stream",
     "text": [
      "                                     Term  Adjusted P-value  \\\n",
      "15  REACTOME_FIBRONECTIN_MATRIX_FORMATION          0.014393   \n",
      "\n",
      "                 Gene_set  \n",
      "15  CUSTOM140471929470192  \n",
      "Topic 268\n"
     ]
    },
    {
     "name": "stderr",
     "output_type": "stream",
     "text": [
      "2020-01-16 18:28:11,813 Warning: No enrich terms using library GO_Molecular_Function_2018 when cutoff = 0.05\n",
      "2020-01-16 18:28:14,277 Warning: No enrich terms using library GO_Biological_Process_2018 when cutoff = 0.05\n",
      "2020-01-16 18:28:19,294 Warning: No enrich terms using library Human_Phenotype_Ontology when cutoff = 0.05\n",
      "2020-01-16 18:28:21,754 Warning: No enrich terms using library WikiPathways_2019_Human when cutoff = 0.05\n",
      "2020-01-16 18:28:21,762 Warning: No enrich terms using library CUSTOM140471943313736 when cutoff = 0.05\n"
     ]
    },
    {
     "name": "stdout",
     "output_type": "stream",
     "text": [
      "                                             Term  Adjusted P-value  \\\n",
      "39  clathrin-coated vesicle membrane (GO:0030665)          0.007225   \n",
      "62                          BIOCARTA_EEA1_PATHWAY          0.041962   \n",
      "72            REACTOME_ORGANIC_ANION_TRANSPORTERS          0.041962   \n",
      "\n",
      "                      Gene_set  \n",
      "39  GO_Cellular_Component_2018  \n",
      "62       CUSTOM140471943313952  \n",
      "72       CUSTOM140471943313952  \n",
      "Topic 269\n"
     ]
    },
    {
     "name": "stderr",
     "output_type": "stream",
     "text": [
      "2020-01-16 18:28:24,803 Warning: No enrich terms using library GO_Molecular_Function_2018 when cutoff = 0.05\n",
      "2020-01-16 18:28:27,278 Warning: No enrich terms using library GO_Biological_Process_2018 when cutoff = 0.05\n",
      "2020-01-16 18:28:29,842 Warning: No enrich terms using library GO_Cellular_Component_2018 when cutoff = 0.05\n",
      "2020-01-16 18:28:32,310 Warning: No enrich terms using library Human_Phenotype_Ontology when cutoff = 0.05\n",
      "2020-01-16 18:28:34,825 Warning: No enrich terms using library WikiPathways_2019_Human when cutoff = 0.05\n"
     ]
    },
    {
     "name": "stdout",
     "output_type": "stream",
     "text": [
      "                                           Term  Adjusted P-value  \\\n",
      "7                               PID_RB_1PATHWAY             0.039   \n",
      "9   REACTOME_METABOLISM_OF_FAT_SOLUBLE_VITAMINS             0.039   \n",
      "12            REACTOME_VISUAL_PHOTOTRANSDUCTION             0.040   \n",
      "\n",
      "                 Gene_set  \n",
      "7   CUSTOM140471965029504  \n",
      "9   CUSTOM140471965029504  \n",
      "12  CUSTOM140471965029504  \n",
      "Topic 270\n"
     ]
    },
    {
     "name": "stderr",
     "output_type": "stream",
     "text": [
      "2020-01-16 18:28:37,780 Warning: No enrich terms using library GO_Molecular_Function_2018 when cutoff = 0.05\n",
      "2020-01-16 18:28:40,255 Warning: No enrich terms using library GO_Biological_Process_2018 when cutoff = 0.05\n",
      "2020-01-16 18:28:42,926 Warning: No enrich terms using library GO_Cellular_Component_2018 when cutoff = 0.05\n",
      "2020-01-16 18:28:45,405 Warning: No enrich terms using library Human_Phenotype_Ontology when cutoff = 0.05\n",
      "2020-01-16 18:28:47,999 Warning: No enrich terms using library CUSTOM140471880312008 when cutoff = 0.05\n"
     ]
    },
    {
     "name": "stdout",
     "output_type": "stream",
     "text": [
      "                                 Term  Adjusted P-value  \\\n",
      "89    Lipid Metabolism Pathway WP3965          0.014321   \n",
      "188  REACTOME_TRIGLYCERIDE_CATABOLISM          0.020953   \n",
      "189  REACTOME_TRIGLYCERIDE_METABOLISM          0.026486   \n",
      "\n",
      "                    Gene_set  \n",
      "89   WikiPathways_2019_Human  \n",
      "188    CUSTOM140471880311000  \n",
      "189    CUSTOM140471880311000  \n",
      "Topic 271\n"
     ]
    },
    {
     "name": "stderr",
     "output_type": "stream",
     "text": [
      "2020-01-16 18:28:50,963 Warning: No enrich terms using library GO_Molecular_Function_2018 when cutoff = 0.05\n",
      "2020-01-16 18:28:53,438 Warning: No enrich terms using library GO_Biological_Process_2018 when cutoff = 0.05\n",
      "2020-01-16 18:28:55,917 Warning: No enrich terms using library GO_Cellular_Component_2018 when cutoff = 0.05\n",
      "2020-01-16 18:28:58,386 Warning: No enrich terms using library Human_Phenotype_Ontology when cutoff = 0.05\n",
      "2020-01-16 18:29:00,853 Warning: No enrich terms using library WikiPathways_2019_Human when cutoff = 0.05\n",
      "2020-01-16 18:29:00,874 Warning: No enrich terms using library CUSTOM140472022356688 when cutoff = 0.05\n"
     ]
    },
    {
     "name": "stdout",
     "output_type": "stream",
     "text": [
      "Empty DataFrame\n",
      "Columns: [Term, Adjusted P-value, Gene_set]\n",
      "Index: []\n",
      "Topic 272\n"
     ]
    },
    {
     "name": "stderr",
     "output_type": "stream",
     "text": [
      "2020-01-16 18:29:03,694 Warning: No enrich terms using library GO_Molecular_Function_2018 when cutoff = 0.05\n",
      "2020-01-16 18:29:06,171 Warning: No enrich terms using library GO_Biological_Process_2018 when cutoff = 0.05\n",
      "2020-01-16 18:29:08,639 Warning: No enrich terms using library GO_Cellular_Component_2018 when cutoff = 0.05\n",
      "2020-01-16 18:29:11,112 Warning: No enrich terms using library Human_Phenotype_Ontology when cutoff = 0.05\n",
      "2020-01-16 18:29:13,612 Warning: No enrich terms using library WikiPathways_2019_Human when cutoff = 0.05\n",
      "2020-01-16 18:29:13,638 Warning: No enrich terms using library CUSTOM140472022962608 when cutoff = 0.05\n"
     ]
    },
    {
     "name": "stdout",
     "output_type": "stream",
     "text": [
      "Empty DataFrame\n",
      "Columns: [Term, Adjusted P-value, Gene_set]\n",
      "Index: []\n",
      "Topic 273\n"
     ]
    },
    {
     "name": "stderr",
     "output_type": "stream",
     "text": [
      "2020-01-16 18:29:16,634 Warning: No enrich terms using library GO_Molecular_Function_2018 when cutoff = 0.05\n",
      "2020-01-16 18:29:19,105 Warning: No enrich terms using library GO_Biological_Process_2018 when cutoff = 0.05\n",
      "2020-01-16 18:29:21,579 Warning: No enrich terms using library GO_Cellular_Component_2018 when cutoff = 0.05\n",
      "2020-01-16 18:29:24,048 Warning: No enrich terms using library Human_Phenotype_Ontology when cutoff = 0.05\n",
      "2020-01-16 18:29:26,515 Warning: No enrich terms using library WikiPathways_2019_Human when cutoff = 0.05\n",
      "2020-01-16 18:29:26,533 Warning: No enrich terms using library CUSTOM140471919662712 when cutoff = 0.05\n"
     ]
    },
    {
     "name": "stdout",
     "output_type": "stream",
     "text": [
      "Empty DataFrame\n",
      "Columns: [Term, Adjusted P-value, Gene_set]\n",
      "Index: []\n",
      "Topic 274\n"
     ]
    },
    {
     "name": "stderr",
     "output_type": "stream",
     "text": [
      "2020-01-16 18:29:29,375 Warning: No enrich terms using library GO_Molecular_Function_2018 when cutoff = 0.05\n",
      "2020-01-16 18:29:31,857 Warning: No enrich terms using library GO_Biological_Process_2018 when cutoff = 0.05\n",
      "2020-01-16 18:29:34,332 Warning: No enrich terms using library GO_Cellular_Component_2018 when cutoff = 0.05\n",
      "2020-01-16 18:29:36,799 Warning: No enrich terms using library Human_Phenotype_Ontology when cutoff = 0.05\n",
      "2020-01-16 18:29:39,284 Warning: No enrich terms using library WikiPathways_2019_Human when cutoff = 0.05\n",
      "2020-01-16 18:29:39,310 Warning: No enrich terms using library CUSTOM140471919716896 when cutoff = 0.05\n"
     ]
    },
    {
     "name": "stdout",
     "output_type": "stream",
     "text": [
      "Empty DataFrame\n",
      "Columns: [Term, Adjusted P-value, Gene_set]\n",
      "Index: []\n",
      "Topic 275\n"
     ]
    },
    {
     "name": "stderr",
     "output_type": "stream",
     "text": [
      "2020-01-16 18:29:42,164 Warning: No enrich terms using library GO_Molecular_Function_2018 when cutoff = 0.05\n",
      "2020-01-16 18:29:44,642 Warning: No enrich terms using library GO_Biological_Process_2018 when cutoff = 0.05\n",
      "2020-01-16 18:29:47,101 Warning: No enrich terms using library GO_Cellular_Component_2018 when cutoff = 0.05\n",
      "2020-01-16 18:29:49,565 Warning: No enrich terms using library Human_Phenotype_Ontology when cutoff = 0.05\n",
      "2020-01-16 18:29:52,032 Warning: No enrich terms using library WikiPathways_2019_Human when cutoff = 0.05\n",
      "2020-01-16 18:29:52,044 Warning: No enrich terms using library CUSTOM140472021726984 when cutoff = 0.05\n"
     ]
    },
    {
     "name": "stdout",
     "output_type": "stream",
     "text": [
      "                                            Term  Adjusted P-value  \\\n",
      "56                REACTOME_LGI_ADAM_INTERACTIONS          0.039047   \n",
      "57  REACTOME_NEUROTOXICITY_OF_CLOSTRIDIUM_TOXINS          0.039047   \n",
      "\n",
      "                 Gene_set  \n",
      "56  CUSTOM140472021725400  \n",
      "57  CUSTOM140472021725400  \n",
      "Topic 276\n"
     ]
    },
    {
     "name": "stderr",
     "output_type": "stream",
     "text": [
      "2020-01-16 18:29:55,026 Warning: No enrich terms using library GO_Molecular_Function_2018 when cutoff = 0.05\n",
      "2020-01-16 18:29:57,663 Warning: No enrich terms using library GO_Biological_Process_2018 when cutoff = 0.05\n",
      "2020-01-16 18:30:00,135 Warning: No enrich terms using library GO_Cellular_Component_2018 when cutoff = 0.05\n",
      "2020-01-16 18:30:02,605 Warning: No enrich terms using library Human_Phenotype_Ontology when cutoff = 0.05\n",
      "2020-01-16 18:30:05,078 Warning: No enrich terms using library WikiPathways_2019_Human when cutoff = 0.05\n",
      "2020-01-16 18:30:05,212 Warning: No enrich terms using library CUSTOM140471908313416 when cutoff = 0.05\n"
     ]
    },
    {
     "name": "stdout",
     "output_type": "stream",
     "text": [
      "                                           Term  Adjusted P-value  \\\n",
      "193  HALLMARK_EPITHELIAL_MESENCHYMAL_TRANSITION          0.000146   \n",
      "\n",
      "                  Gene_set  \n",
      "193  CUSTOM140471908313632  \n",
      "Topic 277\n"
     ]
    },
    {
     "name": "stderr",
     "output_type": "stream",
     "text": [
      "2020-01-16 18:30:08,060 Warning: No enrich terms using library GO_Molecular_Function_2018 when cutoff = 0.05\n",
      "2020-01-16 18:30:10,552 Warning: No enrich terms using library GO_Biological_Process_2018 when cutoff = 0.05\n",
      "2020-01-16 18:30:13,214 Warning: No enrich terms using library GO_Cellular_Component_2018 when cutoff = 0.05\n",
      "2020-01-16 18:30:15,691 Warning: No enrich terms using library Human_Phenotype_Ontology when cutoff = 0.05\n",
      "2020-01-16 18:30:18,162 Warning: No enrich terms using library WikiPathways_2019_Human when cutoff = 0.05\n",
      "2020-01-16 18:30:18,183 Warning: No enrich terms using library CUSTOM140471923907464 when cutoff = 0.05\n"
     ]
    },
    {
     "name": "stdout",
     "output_type": "stream",
     "text": [
      "Empty DataFrame\n",
      "Columns: [Term, Adjusted P-value, Gene_set]\n",
      "Index: []\n",
      "Topic 278\n"
     ]
    },
    {
     "name": "stderr",
     "output_type": "stream",
     "text": [
      "2020-01-16 18:30:21,013 Warning: No enrich terms using library GO_Molecular_Function_2018 when cutoff = 0.05\n",
      "2020-01-16 18:30:23,587 Warning: No enrich terms using library GO_Biological_Process_2018 when cutoff = 0.05\n",
      "2020-01-16 18:30:26,088 Warning: No enrich terms using library GO_Cellular_Component_2018 when cutoff = 0.05\n",
      "2020-01-16 18:30:28,572 Warning: No enrich terms using library Human_Phenotype_Ontology when cutoff = 0.05\n",
      "2020-01-16 18:30:31,041 Warning: No enrich terms using library WikiPathways_2019_Human when cutoff = 0.05\n"
     ]
    },
    {
     "name": "stdout",
     "output_type": "stream",
     "text": [
      "                                         Term  Adjusted P-value  \\\n",
      "5                    HALLMARK_APICAL_JUNCTION            0.0400   \n",
      "6           KEGG_CELL_ADHESION_MOLECULES_CAMS            0.0266   \n",
      "7   KEGG_LEUKOCYTE_TRANSENDOTHELIAL_MIGRATION            0.0266   \n",
      "8                         KEGG_TIGHT_JUNCTION            0.0266   \n",
      "9            REACTOME_CELL_CELL_COMMUNICATION            0.0266   \n",
      "10   REACTOME_CELL_CELL_JUNCTION_ORGANIZATION            0.0266   \n",
      "11        REACTOME_CELL_JUNCTION_ORGANIZATION            0.0266   \n",
      "12       REACTOME_TIGHT_JUNCTION_INTERACTIONS            0.0266   \n",
      "\n",
      "                 Gene_set  \n",
      "5   CUSTOM140472022308616  \n",
      "6   CUSTOM140472022310200  \n",
      "7   CUSTOM140472022310200  \n",
      "8   CUSTOM140472022310200  \n",
      "9   CUSTOM140472022310200  \n",
      "10  CUSTOM140472022310200  \n",
      "11  CUSTOM140472022310200  \n",
      "12  CUSTOM140472022310200  \n",
      "Topic 279\n"
     ]
    },
    {
     "name": "stderr",
     "output_type": "stream",
     "text": [
      "2020-01-16 18:30:34,111 Warning: No enrich terms using library GO_Molecular_Function_2018 when cutoff = 0.05\n",
      "2020-01-16 18:30:36,590 Warning: No enrich terms using library GO_Biological_Process_2018 when cutoff = 0.05\n",
      "2020-01-16 18:30:39,075 Warning: No enrich terms using library GO_Cellular_Component_2018 when cutoff = 0.05\n",
      "2020-01-16 18:30:41,541 Warning: No enrich terms using library Human_Phenotype_Ontology when cutoff = 0.05\n",
      "2020-01-16 18:30:44,014 Warning: No enrich terms using library WikiPathways_2019_Human when cutoff = 0.05\n",
      "2020-01-16 18:30:44,034 Warning: No enrich terms using library CUSTOM140471960590088 when cutoff = 0.05\n"
     ]
    },
    {
     "name": "stdout",
     "output_type": "stream",
     "text": [
      "Empty DataFrame\n",
      "Columns: [Term, Adjusted P-value, Gene_set]\n",
      "Index: []\n",
      "Topic 280\n"
     ]
    },
    {
     "name": "stderr",
     "output_type": "stream",
     "text": [
      "2020-01-16 18:30:46,864 Warning: No enrich terms using library GO_Molecular_Function_2018 when cutoff = 0.05\n",
      "2020-01-16 18:30:49,331 Warning: No enrich terms using library GO_Biological_Process_2018 when cutoff = 0.05\n",
      "2020-01-16 18:30:51,793 Warning: No enrich terms using library GO_Cellular_Component_2018 when cutoff = 0.05\n",
      "2020-01-16 18:30:54,258 Warning: No enrich terms using library Human_Phenotype_Ontology when cutoff = 0.05\n",
      "2020-01-16 18:30:56,722 Warning: No enrich terms using library WikiPathways_2019_Human when cutoff = 0.05\n",
      "2020-01-16 18:30:56,731 Warning: No enrich terms using library CUSTOM140472023686888 when cutoff = 0.05\n"
     ]
    },
    {
     "name": "stdout",
     "output_type": "stream",
     "text": [
      "                                        Term  Adjusted P-value  \\\n",
      "23  REACTOME_MET_INTERACTS_WITH_TNS_PROTEINS          0.009996   \n",
      "24       REACTOME_MET_PROMOTES_CELL_MOTILITY          0.040836   \n",
      "\n",
      "                 Gene_set  \n",
      "23  CUSTOM140472023684008  \n",
      "24  CUSTOM140472023684008  \n",
      "Topic 281\n"
     ]
    },
    {
     "name": "stderr",
     "output_type": "stream",
     "text": [
      "2020-01-16 18:30:59,691 Warning: No enrich terms using library GO_Molecular_Function_2018 when cutoff = 0.05\n",
      "2020-01-16 18:31:02,157 Warning: No enrich terms using library GO_Biological_Process_2018 when cutoff = 0.05\n",
      "2020-01-16 18:31:04,634 Warning: No enrich terms using library GO_Cellular_Component_2018 when cutoff = 0.05\n",
      "2020-01-16 18:31:07,103 Warning: No enrich terms using library Human_Phenotype_Ontology when cutoff = 0.05\n",
      "2020-01-16 18:31:09,634 Warning: No enrich terms using library WikiPathways_2019_Human when cutoff = 0.05\n",
      "2020-01-16 18:31:09,642 Warning: No enrich terms using library CUSTOM140471922457336 when cutoff = 0.05\n",
      "2020-01-16 18:31:09,660 Warning: No enrich terms using library CUSTOM140471922455968 when cutoff = 0.05\n"
     ]
    },
    {
     "name": "stdout",
     "output_type": "stream",
     "text": [
      "Empty DataFrame\n",
      "Columns: [Term, Adjusted P-value, Gene_set]\n",
      "Index: []\n",
      "Topic 282\n"
     ]
    },
    {
     "name": "stderr",
     "output_type": "stream",
     "text": [
      "2020-01-16 18:31:12,578 Warning: No enrich terms using library GO_Molecular_Function_2018 when cutoff = 0.05\n",
      "2020-01-16 18:31:15,096 Warning: No enrich terms using library GO_Biological_Process_2018 when cutoff = 0.05\n",
      "2020-01-16 18:31:17,595 Warning: No enrich terms using library GO_Cellular_Component_2018 when cutoff = 0.05\n",
      "2020-01-16 18:31:20,077 Warning: No enrich terms using library Human_Phenotype_Ontology when cutoff = 0.05\n",
      "2020-01-16 18:31:22,551 Warning: No enrich terms using library WikiPathways_2019_Human when cutoff = 0.05\n",
      "2020-01-16 18:31:22,560 Warning: No enrich terms using library CUSTOM140471911330008 when cutoff = 0.05\n",
      "2020-01-16 18:31:22,590 Warning: No enrich terms using library CUSTOM140471911330800 when cutoff = 0.05\n"
     ]
    },
    {
     "name": "stdout",
     "output_type": "stream",
     "text": [
      "Empty DataFrame\n",
      "Columns: [Term, Adjusted P-value, Gene_set]\n",
      "Index: []\n",
      "Topic 283\n"
     ]
    },
    {
     "name": "stderr",
     "output_type": "stream",
     "text": [
      "2020-01-16 18:31:25,426 Warning: No enrich terms using library GO_Molecular_Function_2018 when cutoff = 0.05\n",
      "2020-01-16 18:31:27,914 Warning: No enrich terms using library GO_Biological_Process_2018 when cutoff = 0.05\n",
      "2020-01-16 18:31:30,392 Warning: No enrich terms using library GO_Cellular_Component_2018 when cutoff = 0.05\n",
      "2020-01-16 18:31:32,861 Warning: No enrich terms using library Human_Phenotype_Ontology when cutoff = 0.05\n",
      "2020-01-16 18:31:35,321 Warning: No enrich terms using library WikiPathways_2019_Human when cutoff = 0.05\n",
      "2020-01-16 18:31:35,329 Warning: No enrich terms using library CUSTOM140471930459480 when cutoff = 0.05\n"
     ]
    },
    {
     "name": "stdout",
     "output_type": "stream",
     "text": [
      "                                    Term  Adjusted P-value  \\\n",
      "44           KEGG_DILATED_CARDIOMYOPATHY          0.047573   \n",
      "45  KEGG_HYPERTROPHIC_CARDIOMYOPATHY_HCM          0.047573   \n",
      "47  REACTOME_STRIATED_MUSCLE_CONTRACTION          0.047573   \n",
      "\n",
      "                 Gene_set  \n",
      "44  CUSTOM140471930461352  \n",
      "45  CUSTOM140471930461352  \n",
      "47  CUSTOM140471930461352  \n",
      "Topic 284\n"
     ]
    },
    {
     "name": "stderr",
     "output_type": "stream",
     "text": [
      "2020-01-16 18:31:38,229 Warning: No enrich terms using library GO_Molecular_Function_2018 when cutoff = 0.05\n",
      "2020-01-16 18:31:40,695 Warning: No enrich terms using library GO_Biological_Process_2018 when cutoff = 0.05\n",
      "2020-01-16 18:31:43,168 Warning: No enrich terms using library GO_Cellular_Component_2018 when cutoff = 0.05\n",
      "2020-01-16 18:31:45,631 Warning: No enrich terms using library Human_Phenotype_Ontology when cutoff = 0.05\n",
      "2020-01-16 18:31:48,093 Warning: No enrich terms using library WikiPathways_2019_Human when cutoff = 0.05\n"
     ]
    },
    {
     "name": "stdout",
     "output_type": "stream",
     "text": [
      "                                          Term  Adjusted P-value  \\\n",
      "30           KEGG_CELL_ADHESION_MOLECULES_CAMS            0.0266   \n",
      "31   KEGG_LEUKOCYTE_TRANSENDOTHELIAL_MIGRATION            0.0266   \n",
      "32  KEGG_PATHOGENIC_ESCHERICHIA_COLI_INFECTION            0.0266   \n",
      "33                         KEGG_TIGHT_JUNCTION            0.0266   \n",
      "34                          PID_NECTIN_PATHWAY            0.0266   \n",
      "35            REACTOME_CELL_CELL_COMMUNICATION            0.0266   \n",
      "36    REACTOME_CELL_CELL_JUNCTION_ORGANIZATION            0.0266   \n",
      "37         REACTOME_CELL_JUNCTION_ORGANIZATION            0.0266   \n",
      "38        REACTOME_TIGHT_JUNCTION_INTERACTIONS            0.0266   \n",
      "\n",
      "                 Gene_set  \n",
      "30  CUSTOM140471889041304  \n",
      "31  CUSTOM140471889041304  \n",
      "32  CUSTOM140471889041304  \n",
      "33  CUSTOM140471889041304  \n",
      "34  CUSTOM140471889041304  \n",
      "35  CUSTOM140471889041304  \n",
      "36  CUSTOM140471889041304  \n",
      "37  CUSTOM140471889041304  \n",
      "38  CUSTOM140471889041304  \n",
      "Topic 285\n"
     ]
    },
    {
     "name": "stderr",
     "output_type": "stream",
     "text": [
      "2020-01-16 18:31:51,068 Warning: No enrich terms using library GO_Molecular_Function_2018 when cutoff = 0.05\n",
      "2020-01-16 18:31:53,541 Warning: No enrich terms using library GO_Biological_Process_2018 when cutoff = 0.05\n",
      "2020-01-16 18:31:56,008 Warning: No enrich terms using library GO_Cellular_Component_2018 when cutoff = 0.05\n",
      "2020-01-16 18:31:58,483 Warning: No enrich terms using library Human_Phenotype_Ontology when cutoff = 0.05\n",
      "2020-01-16 18:32:00,946 Warning: No enrich terms using library WikiPathways_2019_Human when cutoff = 0.05\n"
     ]
    },
    {
     "name": "stdout",
     "output_type": "stream",
     "text": [
      "Empty DataFrame\n",
      "Columns: [Term, Adjusted P-value, Gene_set]\n",
      "Index: []\n",
      "Topic 286\n"
     ]
    },
    {
     "name": "stderr",
     "output_type": "stream",
     "text": [
      "2020-01-16 18:32:03,803 Warning: No enrich terms using library GO_Molecular_Function_2018 when cutoff = 0.05\n",
      "2020-01-16 18:32:06,272 Warning: No enrich terms using library GO_Biological_Process_2018 when cutoff = 0.05\n",
      "2020-01-16 18:32:08,738 Warning: No enrich terms using library GO_Cellular_Component_2018 when cutoff = 0.05\n",
      "2020-01-16 18:32:11,208 Warning: No enrich terms using library Human_Phenotype_Ontology when cutoff = 0.05\n",
      "2020-01-16 18:32:13,674 Warning: No enrich terms using library WikiPathways_2019_Human when cutoff = 0.05\n"
     ]
    },
    {
     "name": "stdout",
     "output_type": "stream",
     "text": [
      "                                                 Term  Adjusted P-value  \\\n",
      "8                                BIOCARTA_WNT_PATHWAY          0.040956   \n",
      "14                          PID_WNT_SIGNALING_PATHWAY          0.040956   \n",
      "15  REACTOME_NEGATIVE_REGULATION_OF_TCF_DEPENDENT_...          0.040956   \n",
      "\n",
      "                 Gene_set  \n",
      "8   CUSTOM140471870608584  \n",
      "14  CUSTOM140471870608584  \n",
      "15  CUSTOM140471870608584  \n",
      "Topic 287\n"
     ]
    },
    {
     "name": "stderr",
     "output_type": "stream",
     "text": [
      "2020-01-16 18:32:16,705 Warning: No enrich terms using library GO_Molecular_Function_2018 when cutoff = 0.05\n",
      "2020-01-16 18:32:19,184 Warning: No enrich terms using library GO_Biological_Process_2018 when cutoff = 0.05\n",
      "2020-01-16 18:32:21,654 Warning: No enrich terms using library GO_Cellular_Component_2018 when cutoff = 0.05\n",
      "2020-01-16 18:32:24,133 Warning: No enrich terms using library Human_Phenotype_Ontology when cutoff = 0.05\n",
      "2020-01-16 18:32:26,613 Warning: No enrich terms using library WikiPathways_2019_Human when cutoff = 0.05\n",
      "2020-01-16 18:32:26,622 Warning: No enrich terms using library CUSTOM140471889570408 when cutoff = 0.05\n"
     ]
    },
    {
     "name": "stdout",
     "output_type": "stream",
     "text": [
      "                                                 Term  Adjusted P-value  \\\n",
      "54                         BIOCARTA_EXTRINSIC_PATHWAY          0.049163   \n",
      "62  REACTOME_EXTRINSIC_PATHWAY_OF_FIBRIN_CLOT_FORM...          0.049163   \n",
      "65  REACTOME_GAMMA_CARBOXYLATION_TRANSPORT_AND_AMI...          0.049163   \n",
      "67                   REACTOME_MET_RECEPTOR_ACTIVATION          0.049163   \n",
      "69  REACTOME_REMOVAL_OF_AMINOTERMINAL_PROPEPTIDES_...          0.049163   \n",
      "\n",
      "                 Gene_set  \n",
      "54  CUSTOM140471889570984  \n",
      "62  CUSTOM140471889570984  \n",
      "65  CUSTOM140471889570984  \n",
      "67  CUSTOM140471889570984  \n",
      "69  CUSTOM140471889570984  \n",
      "Topic 288\n"
     ]
    },
    {
     "name": "stderr",
     "output_type": "stream",
     "text": [
      "2020-01-16 18:32:29,586 Warning: No enrich terms using library GO_Molecular_Function_2018 when cutoff = 0.05\n",
      "2020-01-16 18:32:32,056 Warning: No enrich terms using library GO_Biological_Process_2018 when cutoff = 0.05\n",
      "2020-01-16 18:32:34,535 Warning: No enrich terms using library GO_Cellular_Component_2018 when cutoff = 0.05\n",
      "2020-01-16 18:32:37,008 Warning: No enrich terms using library Human_Phenotype_Ontology when cutoff = 0.05\n",
      "2020-01-16 18:32:39,476 Warning: No enrich terms using library WikiPathways_2019_Human when cutoff = 0.05\n",
      "2020-01-16 18:32:39,496 Warning: No enrich terms using library CUSTOM140471918852136 when cutoff = 0.05\n"
     ]
    },
    {
     "name": "stdout",
     "output_type": "stream",
     "text": [
      "Empty DataFrame\n",
      "Columns: [Term, Adjusted P-value, Gene_set]\n",
      "Index: []\n",
      "Topic 289\n"
     ]
    },
    {
     "name": "stderr",
     "output_type": "stream",
     "text": [
      "2020-01-16 18:32:42,342 Warning: No enrich terms using library GO_Molecular_Function_2018 when cutoff = 0.05\n",
      "2020-01-16 18:32:44,824 Warning: No enrich terms using library GO_Biological_Process_2018 when cutoff = 0.05\n",
      "2020-01-16 18:32:47,291 Warning: No enrich terms using library GO_Cellular_Component_2018 when cutoff = 0.05\n",
      "2020-01-16 18:32:49,754 Warning: No enrich terms using library Human_Phenotype_Ontology when cutoff = 0.05\n",
      "2020-01-16 18:32:52,227 Warning: No enrich terms using library WikiPathways_2019_Human when cutoff = 0.05\n"
     ]
    },
    {
     "name": "stdout",
     "output_type": "stream",
     "text": [
      "Empty DataFrame\n",
      "Columns: [Term, Adjusted P-value, Gene_set]\n",
      "Index: []\n",
      "Topic 290\n"
     ]
    },
    {
     "name": "stderr",
     "output_type": "stream",
     "text": [
      "2020-01-16 18:32:55,076 Warning: No enrich terms using library GO_Molecular_Function_2018 when cutoff = 0.05\n",
      "2020-01-16 18:32:57,542 Warning: No enrich terms using library GO_Biological_Process_2018 when cutoff = 0.05\n",
      "2020-01-16 18:32:59,999 Warning: No enrich terms using library GO_Cellular_Component_2018 when cutoff = 0.05\n",
      "2020-01-16 18:33:02,464 Warning: No enrich terms using library Human_Phenotype_Ontology when cutoff = 0.05\n",
      "2020-01-16 18:33:04,936 Warning: No enrich terms using library WikiPathways_2019_Human when cutoff = 0.05\n",
      "2020-01-16 18:33:04,962 Warning: No enrich terms using library CUSTOM140472023624152 when cutoff = 0.05\n"
     ]
    },
    {
     "name": "stdout",
     "output_type": "stream",
     "text": [
      "Empty DataFrame\n",
      "Columns: [Term, Adjusted P-value, Gene_set]\n",
      "Index: []\n",
      "Topic 291\n"
     ]
    },
    {
     "name": "stderr",
     "output_type": "stream",
     "text": [
      "2020-01-16 18:33:07,800 Warning: No enrich terms using library GO_Molecular_Function_2018 when cutoff = 0.05\n",
      "2020-01-16 18:33:10,271 Warning: No enrich terms using library GO_Biological_Process_2018 when cutoff = 0.05\n",
      "2020-01-16 18:33:12,749 Warning: No enrich terms using library GO_Cellular_Component_2018 when cutoff = 0.05\n",
      "2020-01-16 18:33:15,221 Warning: No enrich terms using library Human_Phenotype_Ontology when cutoff = 0.05\n",
      "2020-01-16 18:33:17,684 Warning: No enrich terms using library WikiPathways_2019_Human when cutoff = 0.05\n",
      "2020-01-16 18:33:17,693 Warning: No enrich terms using library CUSTOM140472027508456 when cutoff = 0.05\n"
     ]
    },
    {
     "name": "stdout",
     "output_type": "stream",
     "text": [
      "                                             Term  Adjusted P-value  \\\n",
      "4                            BIOCARTA_TFF_PATHWAY          0.044697   \n",
      "12  REACTOME_FGFR2B_LIGAND_BINDING_AND_ACTIVATION          0.044697   \n",
      "13   REACTOME_FGFR2_LIGAND_BINDING_AND_ACTIVATION          0.044697   \n",
      "\n",
      "                 Gene_set  \n",
      "4   CUSTOM140472027505504  \n",
      "12  CUSTOM140472027505504  \n",
      "13  CUSTOM140472027505504  \n",
      "Topic 292\n"
     ]
    },
    {
     "name": "stderr",
     "output_type": "stream",
     "text": [
      "2020-01-16 18:33:20,632 Warning: No enrich terms using library GO_Molecular_Function_2018 when cutoff = 0.05\n",
      "2020-01-16 18:33:23,100 Warning: No enrich terms using library GO_Biological_Process_2018 when cutoff = 0.05\n",
      "2020-01-16 18:33:25,560 Warning: No enrich terms using library GO_Cellular_Component_2018 when cutoff = 0.05\n",
      "2020-01-16 18:33:28,030 Warning: No enrich terms using library Human_Phenotype_Ontology when cutoff = 0.05\n",
      "2020-01-16 18:33:30,500 Warning: No enrich terms using library WikiPathways_2019_Human when cutoff = 0.05\n"
     ]
    },
    {
     "name": "stdout",
     "output_type": "stream",
     "text": [
      "                                                 Term  Adjusted P-value  \\\n",
      "26  REACTOME_DISEASES_ASSOCIATED_WITH_SURFACTANT_M...          0.019982   \n",
      "31   REACTOME_SODIUM_COUPLED_PHOSPHATE_COTRANSPORTERS          0.019982   \n",
      "32                     REACTOME_SURFACTANT_METABOLISM          0.039884   \n",
      "\n",
      "                 Gene_set  \n",
      "26  CUSTOM140471885368056  \n",
      "31  CUSTOM140471885368056  \n",
      "32  CUSTOM140471885368056  \n",
      "Topic 293\n"
     ]
    },
    {
     "name": "stderr",
     "output_type": "stream",
     "text": [
      "2020-01-16 18:33:33,426 Warning: No enrich terms using library GO_Molecular_Function_2018 when cutoff = 0.05\n",
      "2020-01-16 18:33:35,891 Warning: No enrich terms using library GO_Biological_Process_2018 when cutoff = 0.05\n",
      "2020-01-16 18:33:38,372 Warning: No enrich terms using library GO_Cellular_Component_2018 when cutoff = 0.05\n",
      "2020-01-16 18:33:40,861 Warning: No enrich terms using library Human_Phenotype_Ontology when cutoff = 0.05\n",
      "2020-01-16 18:33:43,343 Warning: No enrich terms using library WikiPathways_2019_Human when cutoff = 0.05\n"
     ]
    },
    {
     "name": "stdout",
     "output_type": "stream",
     "text": [
      "Empty DataFrame\n",
      "Columns: [Term, Adjusted P-value, Gene_set]\n",
      "Index: []\n",
      "Topic 294\n"
     ]
    },
    {
     "name": "stderr",
     "output_type": "stream",
     "text": [
      "2020-01-16 18:33:46,180 Warning: No enrich terms using library GO_Molecular_Function_2018 when cutoff = 0.05\n",
      "2020-01-16 18:33:48,652 Warning: No enrich terms using library GO_Biological_Process_2018 when cutoff = 0.05\n",
      "2020-01-16 18:33:51,117 Warning: No enrich terms using library GO_Cellular_Component_2018 when cutoff = 0.05\n",
      "2020-01-16 18:33:53,585 Warning: No enrich terms using library Human_Phenotype_Ontology when cutoff = 0.05\n",
      "2020-01-16 18:33:56,044 Warning: No enrich terms using library WikiPathways_2019_Human when cutoff = 0.05\n"
     ]
    },
    {
     "name": "stdout",
     "output_type": "stream",
     "text": [
      "Empty DataFrame\n",
      "Columns: [Term, Adjusted P-value, Gene_set]\n",
      "Index: []\n",
      "Topic 295\n"
     ]
    },
    {
     "name": "stderr",
     "output_type": "stream",
     "text": [
      "2020-01-16 18:33:58,879 Warning: No enrich terms using library GO_Molecular_Function_2018 when cutoff = 0.05\n",
      "2020-01-16 18:34:01,338 Warning: No enrich terms using library GO_Biological_Process_2018 when cutoff = 0.05\n",
      "2020-01-16 18:34:03,803 Warning: No enrich terms using library GO_Cellular_Component_2018 when cutoff = 0.05\n",
      "2020-01-16 18:34:06,468 Warning: No enrich terms using library Human_Phenotype_Ontology when cutoff = 0.05\n",
      "2020-01-16 18:34:08,944 Warning: No enrich terms using library WikiPathways_2019_Human when cutoff = 0.05\n"
     ]
    },
    {
     "name": "stdout",
     "output_type": "stream",
     "text": [
      "Empty DataFrame\n",
      "Columns: [Term, Adjusted P-value, Gene_set]\n",
      "Index: []\n",
      "Topic 296\n"
     ]
    },
    {
     "name": "stderr",
     "output_type": "stream",
     "text": [
      "2020-01-16 18:34:11,825 Warning: No enrich terms using library GO_Molecular_Function_2018 when cutoff = 0.05\n",
      "2020-01-16 18:34:14,310 Warning: No enrich terms using library GO_Biological_Process_2018 when cutoff = 0.05\n",
      "2020-01-16 18:34:16,798 Warning: No enrich terms using library GO_Cellular_Component_2018 when cutoff = 0.05\n",
      "2020-01-16 18:34:19,291 Warning: No enrich terms using library Human_Phenotype_Ontology when cutoff = 0.05\n",
      "2020-01-16 18:34:21,984 Warning: No enrich terms using library WikiPathways_2019_Human when cutoff = 0.05\n"
     ]
    },
    {
     "name": "stdout",
     "output_type": "stream",
     "text": [
      "                                                Term  Adjusted P-value  \\\n",
      "8  REACTOME_MISCELLANEOUS_TRANSPORT_AND_BINDING_E...            0.0104   \n",
      "\n",
      "                Gene_set  \n",
      "8  CUSTOM140472021996672  \n",
      "Topic 297\n"
     ]
    },
    {
     "name": "stderr",
     "output_type": "stream",
     "text": [
      "2020-01-16 18:34:24,971 Warning: No enrich terms using library GO_Molecular_Function_2018 when cutoff = 0.05\n",
      "2020-01-16 18:34:27,454 Warning: No enrich terms using library GO_Biological_Process_2018 when cutoff = 0.05\n",
      "2020-01-16 18:34:29,930 Warning: No enrich terms using library GO_Cellular_Component_2018 when cutoff = 0.05\n",
      "2020-01-16 18:34:32,411 Warning: No enrich terms using library Human_Phenotype_Ontology when cutoff = 0.05\n",
      "2020-01-16 18:34:34,896 Warning: No enrich terms using library WikiPathways_2019_Human when cutoff = 0.05\n"
     ]
    },
    {
     "name": "stdout",
     "output_type": "stream",
     "text": [
      "                                Term  Adjusted P-value               Gene_set\n",
      "20  REACTOME_AMYLOID_FIBER_FORMATION            0.0214  CUSTOM140471959188896\n",
      "Topic 298\n",
      "<class 'requests.exceptions.ConnectionError'> ('Connection aborted.', ConnectionResetError(104, 'Connection reset by peer')) <traceback object at 0x7fc22a5d4c48>\n",
      "                                Term  Adjusted P-value               Gene_set\n",
      "20  REACTOME_AMYLOID_FIBER_FORMATION            0.0214  CUSTOM140471959188896\n",
      "Topic 299\n"
     ]
    },
    {
     "name": "stderr",
     "output_type": "stream",
     "text": [
      "2020-01-16 18:34:38,442 Warning: No enrich terms using library GO_Molecular_Function_2018 when cutoff = 0.05\n",
      "2020-01-16 18:34:40,912 Warning: No enrich terms using library GO_Biological_Process_2018 when cutoff = 0.05\n",
      "2020-01-16 18:34:43,372 Warning: No enrich terms using library GO_Cellular_Component_2018 when cutoff = 0.05\n",
      "2020-01-16 18:34:45,859 Warning: No enrich terms using library Human_Phenotype_Ontology when cutoff = 0.05\n",
      "2020-01-16 18:34:48,384 Warning: No enrich terms using library WikiPathways_2019_Human when cutoff = 0.05\n"
     ]
    },
    {
     "name": "stdout",
     "output_type": "stream",
     "text": [
      "                                                 Term  Adjusted P-value  \\\n",
      "9               REACTOME_C_TYPE_LECTIN_RECEPTORS_CLRS          0.047667   \n",
      "10                           REACTOME_DECTIN_2_FAMILY          0.019500   \n",
      "11  REACTOME_DEFECTIVE_C1GALT1C1_CAUSES_TN_POLYAGG...          0.019500   \n",
      "12  REACTOME_DEFECTIVE_GALNT3_CAUSES_FAMILIAL_HYPE...          0.019500   \n",
      "14  REACTOME_DISEASES_ASSOCIATED_WITH_O_GLYCOSYLAT...          0.034000   \n",
      "15                 REACTOME_DISEASES_OF_GLYCOSYLATION          0.047667   \n",
      "17                    REACTOME_O_LINKED_GLYCOSYLATION          0.047571   \n",
      "18          REACTOME_O_LINKED_GLYCOSYLATION_OF_MUCINS          0.034000   \n",
      "20      REACTOME_TERMINATION_OF_O_GLYCAN_BIOSYNTHESIS          0.019500   \n",
      "\n",
      "                 Gene_set  \n",
      "9   CUSTOM140471876953072  \n",
      "10  CUSTOM140471876953072  \n",
      "11  CUSTOM140471876953072  \n",
      "12  CUSTOM140471876953072  \n",
      "14  CUSTOM140471876953072  \n",
      "15  CUSTOM140471876953072  \n",
      "17  CUSTOM140471876953072  \n",
      "18  CUSTOM140471876953072  \n",
      "20  CUSTOM140471876953072  \n",
      "Topic 300\n"
     ]
    },
    {
     "name": "stderr",
     "output_type": "stream",
     "text": [
      "2020-01-16 18:34:51,351 Warning: No enrich terms using library GO_Molecular_Function_2018 when cutoff = 0.05\n",
      "2020-01-16 18:34:53,818 Warning: No enrich terms using library GO_Biological_Process_2018 when cutoff = 0.05\n",
      "2020-01-16 18:34:56,279 Warning: No enrich terms using library GO_Cellular_Component_2018 when cutoff = 0.05\n",
      "2020-01-16 18:34:58,809 Warning: No enrich terms using library Human_Phenotype_Ontology when cutoff = 0.05\n",
      "2020-01-16 18:35:01,274 Warning: No enrich terms using library WikiPathways_2019_Human when cutoff = 0.05\n",
      "2020-01-16 18:35:01,287 Warning: No enrich terms using library CUSTOM140471895413024 when cutoff = 0.05\n",
      "2020-01-16 18:35:01,307 Warning: No enrich terms using library CUSTOM140471895414680 when cutoff = 0.05\n"
     ]
    },
    {
     "name": "stdout",
     "output_type": "stream",
     "text": [
      "Empty DataFrame\n",
      "Columns: [Term, Adjusted P-value, Gene_set]\n",
      "Index: []\n",
      "Topic 301\n"
     ]
    },
    {
     "name": "stderr",
     "output_type": "stream",
     "text": [
      "2020-01-16 18:35:11,775 Warning: No enrich terms using library Human_Phenotype_Ontology when cutoff = 0.05\n",
      "2020-01-16 18:35:14,241 Warning: No enrich terms using library WikiPathways_2019_Human when cutoff = 0.05\n",
      "2020-01-16 18:35:14,251 Warning: No enrich terms using library CUSTOM140471929745912 when cutoff = 0.05\n"
     ]
    },
    {
     "name": "stdout",
     "output_type": "stream",
     "text": [
      "                                                 Term  Adjusted P-value  \\\n",
      "0        CXCR chemokine receptor binding (GO:0045236)          0.002347   \n",
      "1                     chemokine activity (GO:0008009)          0.008921   \n",
      "2             chemokine receptor binding (GO:0042379)          0.006757   \n",
      "8   response to molecule of bacterial origin (GO:0...          0.000582   \n",
      "9                      response to lipid (GO:0033993)          0.000857   \n",
      "10        response to lipopolysaccharide (GO:0032496)          0.000777   \n",
      "11                 inflammatory response (GO:0006954)          0.002522   \n",
      "12  positive regulation of neutrophil chemotaxis (...          0.004222   \n",
      "13  positive regulation of neutrophil migration (G...          0.003824   \n",
      "14  positive regulation of granulocyte chemotaxis ...          0.003551   \n",
      "15   regulation of neutrophil chemotaxis (GO:0090022)          0.003881   \n",
      "16    regulation of leukocyte chemotaxis (GO:0002688)          0.003696   \n",
      "17  positive regulation of leukocyte migration (GO...          0.004290   \n",
      "18     positive regulation of chemotaxis (GO:0050921)          0.007837   \n",
      "19  chemokine-mediated signaling pathway (GO:0070098)          0.008444   \n",
      "20  positive regulation of leukocyte chemotaxis (G...          0.010754   \n",
      "21   cytokine-mediated signaling pathway (GO:0019221)          0.011503   \n",
      "22      regulation of cell proliferation (GO:0042127)          0.017164   \n",
      "23                platelet degranulation (GO:0002576)          0.036335   \n",
      "24                  regulated exocytosis (GO:0045055)          0.048742   \n",
      "\n",
      "                      Gene_set  \n",
      "0   GO_Molecular_Function_2018  \n",
      "1   GO_Molecular_Function_2018  \n",
      "2   GO_Molecular_Function_2018  \n",
      "8   GO_Biological_Process_2018  \n",
      "9   GO_Biological_Process_2018  \n",
      "10  GO_Biological_Process_2018  \n",
      "11  GO_Biological_Process_2018  \n",
      "12  GO_Biological_Process_2018  \n",
      "13  GO_Biological_Process_2018  \n",
      "14  GO_Biological_Process_2018  \n",
      "15  GO_Biological_Process_2018  \n",
      "16  GO_Biological_Process_2018  \n",
      "17  GO_Biological_Process_2018  \n",
      "18  GO_Biological_Process_2018  \n",
      "19  GO_Biological_Process_2018  \n",
      "20  GO_Biological_Process_2018  \n",
      "21  GO_Biological_Process_2018  \n",
      "22  GO_Biological_Process_2018  \n",
      "23  GO_Biological_Process_2018  \n",
      "24  GO_Biological_Process_2018  \n",
      "Topic 302\n"
     ]
    },
    {
     "name": "stderr",
     "output_type": "stream",
     "text": [
      "2020-01-16 18:35:17,236 Warning: No enrich terms using library GO_Molecular_Function_2018 when cutoff = 0.05\n",
      "2020-01-16 18:35:19,709 Warning: No enrich terms using library GO_Biological_Process_2018 when cutoff = 0.05\n",
      "2020-01-16 18:35:22,180 Warning: No enrich terms using library GO_Cellular_Component_2018 when cutoff = 0.05\n",
      "2020-01-16 18:35:24,658 Warning: No enrich terms using library Human_Phenotype_Ontology when cutoff = 0.05\n",
      "2020-01-16 18:35:27,122 Warning: No enrich terms using library WikiPathways_2019_Human when cutoff = 0.05\n",
      "2020-01-16 18:35:27,134 Warning: No enrich terms using library CUSTOM140471959241496 when cutoff = 0.05\n",
      "2020-01-16 18:35:27,161 Warning: No enrich terms using library CUSTOM140471960616824 when cutoff = 0.05\n"
     ]
    },
    {
     "name": "stdout",
     "output_type": "stream",
     "text": [
      "Empty DataFrame\n",
      "Columns: [Term, Adjusted P-value, Gene_set]\n",
      "Index: []\n",
      "Topic 303\n"
     ]
    },
    {
     "name": "stderr",
     "output_type": "stream",
     "text": [
      "2020-01-16 18:35:30,000 Warning: No enrich terms using library GO_Molecular_Function_2018 when cutoff = 0.05\n",
      "2020-01-16 18:35:32,464 Warning: No enrich terms using library GO_Biological_Process_2018 when cutoff = 0.05\n",
      "2020-01-16 18:35:34,930 Warning: No enrich terms using library GO_Cellular_Component_2018 when cutoff = 0.05\n",
      "2020-01-16 18:35:37,396 Warning: No enrich terms using library Human_Phenotype_Ontology when cutoff = 0.05\n",
      "2020-01-16 18:35:39,863 Warning: No enrich terms using library WikiPathways_2019_Human when cutoff = 0.05\n"
     ]
    },
    {
     "name": "stdout",
     "output_type": "stream",
     "text": [
      "Empty DataFrame\n",
      "Columns: [Term, Adjusted P-value, Gene_set]\n",
      "Index: []\n",
      "Topic 304\n"
     ]
    },
    {
     "name": "stderr",
     "output_type": "stream",
     "text": [
      "2020-01-16 18:35:42,712 Warning: No enrich terms using library GO_Molecular_Function_2018 when cutoff = 0.05\n",
      "2020-01-16 18:35:45,185 Warning: No enrich terms using library GO_Biological_Process_2018 when cutoff = 0.05\n",
      "2020-01-16 18:35:47,656 Warning: No enrich terms using library GO_Cellular_Component_2018 when cutoff = 0.05\n",
      "2020-01-16 18:35:50,120 Warning: No enrich terms using library Human_Phenotype_Ontology when cutoff = 0.05\n",
      "2020-01-16 18:35:52,599 Warning: No enrich terms using library WikiPathways_2019_Human when cutoff = 0.05\n",
      "2020-01-16 18:35:52,712 Warning: No enrich terms using library CUSTOM140471871046928 when cutoff = 0.05\n"
     ]
    },
    {
     "name": "stdout",
     "output_type": "stream",
     "text": [
      "                            Term  Adjusted P-value               Gene_set\n",
      "32   HALLMARK_HEDGEHOG_SIGNALING          0.031627  CUSTOM140471871048728\n",
      "33  HALLMARK_PANCREAS_BETA_CELLS          0.031627  CUSTOM140471871048728\n",
      "Topic 305\n"
     ]
    },
    {
     "name": "stderr",
     "output_type": "stream",
     "text": [
      "2020-01-16 18:35:55,554 Warning: No enrich terms using library GO_Molecular_Function_2018 when cutoff = 0.05\n"
     ]
    },
    {
     "name": "stdout",
     "output_type": "stream",
     "text": [
      "<class 'requests.exceptions.ConnectionError'> ('Connection aborted.', ConnectionResetError(104, 'Connection reset by peer')) <traceback object at 0x7fc22d8c0a48>\n",
      "                            Term  Adjusted P-value               Gene_set\n",
      "32   HALLMARK_HEDGEHOG_SIGNALING          0.031627  CUSTOM140471871048728\n",
      "33  HALLMARK_PANCREAS_BETA_CELLS          0.031627  CUSTOM140471871048728\n",
      "Topic 306\n"
     ]
    },
    {
     "name": "stderr",
     "output_type": "stream",
     "text": [
      "2020-01-16 18:36:03,792 Warning: No enrich terms using library GO_Biological_Process_2018 when cutoff = 0.05\n",
      "2020-01-16 18:36:06,260 Warning: No enrich terms using library GO_Cellular_Component_2018 when cutoff = 0.05\n",
      "2020-01-16 18:36:08,732 Warning: No enrich terms using library Human_Phenotype_Ontology when cutoff = 0.05\n",
      "2020-01-16 18:36:11,292 Warning: No enrich terms using library CUSTOM140471871048584 when cutoff = 0.05\n"
     ]
    },
    {
     "name": "stdout",
     "output_type": "stream",
     "text": [
      "                                                 Term  Adjusted P-value  \\\n",
      "0   alcohol dehydrogenase activity, zinc-dependent...          0.000518   \n",
      "1   alcohol dehydrogenase (NAD) activity (GO:0004022)          0.000483   \n",
      "2         retinol dehydrogenase activity (GO:0004745)          0.001564   \n",
      "3   oxidoreductase activity, acting on the CH-OH g...          0.032856   \n",
      "38                   Fatty Acid Omega Oxidation WP206          0.001485   \n",
      "39          Vitamin A and Carotenoid Metabolism WP716          0.006376   \n",
      "40                       Amino Acid metabolism WP3925          0.019214   \n",
      "51            KEGG_CYSTEINE_AND_METHIONINE_METABOLISM          0.030972   \n",
      "52               KEGG_DRUG_METABOLISM_CYTOCHROME_P450          0.003078   \n",
      "53                         KEGG_FATTY_ACID_METABOLISM          0.001972   \n",
      "54       KEGG_GLYCINE_SERINE_AND_THREONINE_METABOLISM          0.030702   \n",
      "55                    KEGG_GLYCOLYSIS_GLUCONEOGENESIS          0.003078   \n",
      "56  KEGG_METABOLISM_OF_XENOBIOTICS_BY_CYTOCHROME_P450          0.003078   \n",
      "57                            KEGG_RETINOL_METABOLISM          0.003078   \n",
      "58                           KEGG_TYROSINE_METABOLISM          0.001972   \n",
      "59                       REACTOME_ABACAVIR_METABOLISM          0.008354   \n",
      "60         REACTOME_ABACAVIR_TRANSPORT_AND_METABOLISM          0.014116   \n",
      "61  REACTOME_ASSEMBLY_OF_ACTIVE_LPL_AND_LIPC_LIPAS...          0.021992   \n",
      "62                     REACTOME_BIOLOGICAL_OXIDATIONS          0.018072   \n",
      "63                        REACTOME_CHOLINE_CATABOLISM          0.009186   \n",
      "\n",
      "                      Gene_set  \n",
      "0   GO_Molecular_Function_2018  \n",
      "1   GO_Molecular_Function_2018  \n",
      "2   GO_Molecular_Function_2018  \n",
      "3   GO_Molecular_Function_2018  \n",
      "38     WikiPathways_2019_Human  \n",
      "39     WikiPathways_2019_Human  \n",
      "40     WikiPathways_2019_Human  \n",
      "51       CUSTOM140471871049304  \n",
      "52       CUSTOM140471871049304  \n",
      "53       CUSTOM140471871049304  \n",
      "54       CUSTOM140471871049304  \n",
      "55       CUSTOM140471871049304  \n",
      "56       CUSTOM140471871049304  \n",
      "57       CUSTOM140471871049304  \n",
      "58       CUSTOM140471871049304  \n",
      "59       CUSTOM140471871049304  \n",
      "60       CUSTOM140471871049304  \n",
      "61       CUSTOM140471871049304  \n",
      "62       CUSTOM140471871049304  \n",
      "63       CUSTOM140471871049304  \n",
      "Topic 307\n"
     ]
    },
    {
     "name": "stderr",
     "output_type": "stream",
     "text": [
      "2020-01-16 18:36:14,470 Warning: No enrich terms using library GO_Molecular_Function_2018 when cutoff = 0.05\n",
      "2020-01-16 18:36:16,950 Warning: No enrich terms using library GO_Biological_Process_2018 when cutoff = 0.05\n",
      "2020-01-16 18:36:19,410 Warning: No enrich terms using library GO_Cellular_Component_2018 when cutoff = 0.05\n",
      "2020-01-16 18:36:22,087 Warning: No enrich terms using library Human_Phenotype_Ontology when cutoff = 0.05\n",
      "2020-01-16 18:36:24,549 Warning: No enrich terms using library WikiPathways_2019_Human when cutoff = 0.05\n",
      "2020-01-16 18:36:24,569 Warning: No enrich terms using library CUSTOM140471894128608 when cutoff = 0.05\n"
     ]
    },
    {
     "name": "stdout",
     "output_type": "stream",
     "text": [
      "Empty DataFrame\n",
      "Columns: [Term, Adjusted P-value, Gene_set]\n",
      "Index: []\n",
      "Topic 308\n"
     ]
    },
    {
     "name": "stderr",
     "output_type": "stream",
     "text": [
      "2020-01-16 18:36:27,416 Warning: No enrich terms using library GO_Molecular_Function_2018 when cutoff = 0.05\n",
      "2020-01-16 18:36:29,887 Warning: No enrich terms using library GO_Biological_Process_2018 when cutoff = 0.05\n",
      "2020-01-16 18:36:32,353 Warning: No enrich terms using library GO_Cellular_Component_2018 when cutoff = 0.05\n",
      "2020-01-16 18:36:34,824 Warning: No enrich terms using library Human_Phenotype_Ontology when cutoff = 0.05\n",
      "2020-01-16 18:36:37,311 Warning: No enrich terms using library WikiPathways_2019_Human when cutoff = 0.05\n",
      "2020-01-16 18:36:37,320 Warning: No enrich terms using library CUSTOM140471953552296 when cutoff = 0.05\n",
      "2020-01-16 18:36:37,342 Warning: No enrich terms using library CUSTOM140471953553808 when cutoff = 0.05\n"
     ]
    },
    {
     "name": "stdout",
     "output_type": "stream",
     "text": [
      "Empty DataFrame\n",
      "Columns: [Term, Adjusted P-value, Gene_set]\n",
      "Index: []\n",
      "Topic 309\n"
     ]
    },
    {
     "name": "stderr",
     "output_type": "stream",
     "text": [
      "2020-01-16 18:36:40,181 Warning: No enrich terms using library GO_Molecular_Function_2018 when cutoff = 0.05\n",
      "2020-01-16 18:36:42,657 Warning: No enrich terms using library GO_Biological_Process_2018 when cutoff = 0.05\n",
      "2020-01-16 18:36:45,114 Warning: No enrich terms using library GO_Cellular_Component_2018 when cutoff = 0.05\n",
      "2020-01-16 18:36:47,573 Warning: No enrich terms using library Human_Phenotype_Ontology when cutoff = 0.05\n",
      "2020-01-16 18:36:50,041 Warning: No enrich terms using library WikiPathways_2019_Human when cutoff = 0.05\n"
     ]
    },
    {
     "name": "stdout",
     "output_type": "stream",
     "text": [
      "                                 Term  Adjusted P-value               Gene_set\n",
      "22  REACTOME_INTERLEUKIN_37_SIGNALING          0.037724  CUSTOM140471871048368\n",
      "26           REACTOME_SYNTHESIS_OF_PE          0.037724  CUSTOM140471871048368\n",
      "Topic 310\n"
     ]
    },
    {
     "name": "stderr",
     "output_type": "stream",
     "text": [
      "2020-01-16 18:36:52,964 Warning: No enrich terms using library GO_Molecular_Function_2018 when cutoff = 0.05\n",
      "2020-01-16 18:36:55,435 Warning: No enrich terms using library GO_Biological_Process_2018 when cutoff = 0.05\n",
      "2020-01-16 18:36:57,906 Warning: No enrich terms using library GO_Cellular_Component_2018 when cutoff = 0.05\n",
      "2020-01-16 18:37:00,368 Warning: No enrich terms using library Human_Phenotype_Ontology when cutoff = 0.05\n",
      "2020-01-16 18:37:02,834 Warning: No enrich terms using library WikiPathways_2019_Human when cutoff = 0.05\n",
      "2020-01-16 18:37:02,853 Warning: No enrich terms using library CUSTOM140472021876312 when cutoff = 0.05\n"
     ]
    },
    {
     "name": "stdout",
     "output_type": "stream",
     "text": [
      "Empty DataFrame\n",
      "Columns: [Term, Adjusted P-value, Gene_set]\n",
      "Index: []\n",
      "Topic 311\n"
     ]
    },
    {
     "name": "stderr",
     "output_type": "stream",
     "text": [
      "2020-01-16 18:37:05,707 Warning: No enrich terms using library GO_Molecular_Function_2018 when cutoff = 0.05\n",
      "2020-01-16 18:37:08,179 Warning: No enrich terms using library GO_Biological_Process_2018 when cutoff = 0.05\n",
      "2020-01-16 18:37:10,640 Warning: No enrich terms using library GO_Cellular_Component_2018 when cutoff = 0.05\n",
      "2020-01-16 18:37:13,105 Warning: No enrich terms using library Human_Phenotype_Ontology when cutoff = 0.05\n",
      "2020-01-16 18:37:15,728 Warning: No enrich terms using library WikiPathways_2019_Human when cutoff = 0.05\n"
     ]
    },
    {
     "name": "stdout",
     "output_type": "stream",
     "text": [
      "Empty DataFrame\n",
      "Columns: [Term, Adjusted P-value, Gene_set]\n",
      "Index: []\n",
      "Topic 312\n"
     ]
    },
    {
     "name": "stderr",
     "output_type": "stream",
     "text": [
      "2020-01-16 18:37:18,579 Warning: No enrich terms using library GO_Molecular_Function_2018 when cutoff = 0.05\n",
      "2020-01-16 18:37:21,041 Warning: No enrich terms using library GO_Biological_Process_2018 when cutoff = 0.05\n",
      "2020-01-16 18:37:23,504 Warning: No enrich terms using library GO_Cellular_Component_2018 when cutoff = 0.05\n",
      "2020-01-16 18:37:25,970 Warning: No enrich terms using library Human_Phenotype_Ontology when cutoff = 0.05\n",
      "2020-01-16 18:37:28,450 Warning: No enrich terms using library WikiPathways_2019_Human when cutoff = 0.05\n"
     ]
    },
    {
     "name": "stdout",
     "output_type": "stream",
     "text": [
      "                                                 Term  Adjusted P-value  \\\n",
      "51   REACTOME_DOPAMINE_NEUROTRANSMITTER_RELEASE_CYCLE          0.022949   \n",
      "53            REACTOME_NEUROTRANSMITTER_RELEASE_CYCLE          0.033830   \n",
      "54  REACTOME_SEROTONIN_NEUROTRANSMITTER_RELEASE_CYCLE          0.022949   \n",
      "\n",
      "                 Gene_set  \n",
      "51  CUSTOM140471953502784  \n",
      "53  CUSTOM140471953502784  \n",
      "54  CUSTOM140471953502784  \n",
      "Topic 313\n",
      "<class 'requests.exceptions.ConnectionError'> ('Connection aborted.', ConnectionResetError(104, 'Connection reset by peer')) <traceback object at 0x7fc22aae0508>\n",
      "                                                 Term  Adjusted P-value  \\\n",
      "51   REACTOME_DOPAMINE_NEUROTRANSMITTER_RELEASE_CYCLE          0.022949   \n",
      "53            REACTOME_NEUROTRANSMITTER_RELEASE_CYCLE          0.033830   \n",
      "54  REACTOME_SEROTONIN_NEUROTRANSMITTER_RELEASE_CYCLE          0.022949   \n",
      "\n",
      "                 Gene_set  \n",
      "51  CUSTOM140471953502784  \n",
      "53  CUSTOM140471953502784  \n",
      "54  CUSTOM140471953502784  \n",
      "Topic 314\n"
     ]
    },
    {
     "name": "stderr",
     "output_type": "stream",
     "text": [
      "2020-01-16 18:37:31,593 Warning: No enrich terms using library GO_Molecular_Function_2018 when cutoff = 0.05\n",
      "2020-01-16 18:37:34,070 Warning: No enrich terms using library GO_Biological_Process_2018 when cutoff = 0.05\n",
      "2020-01-16 18:37:36,533 Warning: No enrich terms using library GO_Cellular_Component_2018 when cutoff = 0.05\n",
      "2020-01-16 18:37:38,992 Warning: No enrich terms using library Human_Phenotype_Ontology when cutoff = 0.05\n",
      "2020-01-16 18:37:41,458 Warning: No enrich terms using library WikiPathways_2019_Human when cutoff = 0.05\n",
      "2020-01-16 18:37:41,466 Warning: No enrich terms using library CUSTOM140471964725896 when cutoff = 0.05\n"
     ]
    },
    {
     "name": "stdout",
     "output_type": "stream",
     "text": [
      "Empty DataFrame\n",
      "Columns: [Term, Adjusted P-value, Gene_set]\n",
      "Index: []\n",
      "Topic 315\n"
     ]
    },
    {
     "name": "stderr",
     "output_type": "stream",
     "text": [
      "2020-01-16 18:37:44,308 Warning: No enrich terms using library GO_Molecular_Function_2018 when cutoff = 0.05\n",
      "2020-01-16 18:37:46,769 Warning: No enrich terms using library GO_Biological_Process_2018 when cutoff = 0.05\n",
      "2020-01-16 18:37:49,240 Warning: No enrich terms using library GO_Cellular_Component_2018 when cutoff = 0.05\n",
      "2020-01-16 18:37:51,729 Warning: No enrich terms using library Human_Phenotype_Ontology when cutoff = 0.05\n",
      "2020-01-16 18:37:54,248 Warning: No enrich terms using library WikiPathways_2019_Human when cutoff = 0.05\n",
      "2020-01-16 18:37:54,256 Warning: No enrich terms using library CUSTOM140471908100856 when cutoff = 0.05\n"
     ]
    },
    {
     "name": "stdout",
     "output_type": "stream",
     "text": [
      "                                                  Term  Adjusted P-value  \\\n",
      "76                                BIOCARTA_AMI_PATHWAY          0.043221   \n",
      "77                          BIOCARTA_EXTRINSIC_PATHWAY          0.043221   \n",
      "78                       BIOCARTA_FIBRINOLYSIS_PATHWAY          0.043221   \n",
      "79                          BIOCARTA_INTRINSIC_PATHWAY          0.043221   \n",
      "84                             PID_EPHRINB_REV_PATHWAY          0.043221   \n",
      "86                               PID_INTEGRIN2_PATHWAY          0.043221   \n",
      "87                               PID_INTEGRIN3_PATHWAY          0.043221   \n",
      "88                                PID_UPA_UPAR_PATHWAY          0.043221   \n",
      "90    REACTOME_COMMON_PATHWAY_OF_FIBRIN_CLOT_FORMATION          0.043221   \n",
      "95   REACTOME_FORMATION_OF_FIBRIN_CLOT_CLOTTING_CAS...          0.043221   \n",
      "96   REACTOME_GRB2:SOS_PROVIDES_LINKAGE_TO_MAPK_SIG...          0.043221   \n",
      "100                        REACTOME_INTEGRIN_SIGNALING          0.043221   \n",
      "101                 REACTOME_MAP2K_AND_MAPK_ACTIVATION          0.043221   \n",
      "105  REACTOME_P130CAS_LINKAGE_TO_MAPK_SIGNALING_FOR...          0.043221   \n",
      "107       REACTOME_PLATELET_AGGREGATION_PLUG_FORMATION          0.043221   \n",
      "110    REACTOME_REGULATION_OF_TLR_BY_ENDOGENOUS_LIGAND          0.043221   \n",
      "114  REACTOME_SIGNALING_BY_MODERATE_KINASE_ACTIVITY...          0.043221   \n",
      "\n",
      "                  Gene_set  \n",
      "76   CUSTOM140471908101792  \n",
      "77   CUSTOM140471908101792  \n",
      "78   CUSTOM140471908101792  \n",
      "79   CUSTOM140471908101792  \n",
      "84   CUSTOM140471908101792  \n",
      "86   CUSTOM140471908101792  \n",
      "87   CUSTOM140471908101792  \n",
      "88   CUSTOM140471908101792  \n",
      "90   CUSTOM140471908101792  \n",
      "95   CUSTOM140471908101792  \n",
      "96   CUSTOM140471908101792  \n",
      "100  CUSTOM140471908101792  \n",
      "101  CUSTOM140471908101792  \n",
      "105  CUSTOM140471908101792  \n",
      "107  CUSTOM140471908101792  \n",
      "110  CUSTOM140471908101792  \n",
      "114  CUSTOM140471908101792  \n",
      "Topic 316\n"
     ]
    },
    {
     "name": "stderr",
     "output_type": "stream",
     "text": [
      "2020-01-16 18:37:57,240 Warning: No enrich terms using library GO_Molecular_Function_2018 when cutoff = 0.05\n",
      "2020-01-16 18:37:59,706 Warning: No enrich terms using library GO_Biological_Process_2018 when cutoff = 0.05\n",
      "2020-01-16 18:38:02,173 Warning: No enrich terms using library GO_Cellular_Component_2018 when cutoff = 0.05\n",
      "2020-01-16 18:38:04,700 Warning: No enrich terms using library Human_Phenotype_Ontology when cutoff = 0.05\n",
      "2020-01-16 18:38:07,168 Warning: No enrich terms using library WikiPathways_2019_Human when cutoff = 0.05\n",
      "2020-01-16 18:38:07,176 Warning: No enrich terms using library CUSTOM140471912245936 when cutoff = 0.05\n"
     ]
    },
    {
     "name": "stdout",
     "output_type": "stream",
     "text": [
      "                                                  Term  Adjusted P-value  \\\n",
      "66                                BIOCARTA_AMI_PATHWAY          0.043665   \n",
      "67                          BIOCARTA_EXTRINSIC_PATHWAY          0.043665   \n",
      "68                       BIOCARTA_FIBRINOLYSIS_PATHWAY          0.043665   \n",
      "69                          BIOCARTA_INTRINSIC_PATHWAY          0.043665   \n",
      "74                             PID_EPHRINB_REV_PATHWAY          0.043665   \n",
      "75                                   PID_IL6_7_PATHWAY          0.043665   \n",
      "77                               PID_INTEGRIN2_PATHWAY          0.043665   \n",
      "78                               PID_INTEGRIN3_PATHWAY          0.043665   \n",
      "80                                PID_UPA_UPAR_PATHWAY          0.043665   \n",
      "81    REACTOME_COMMON_PATHWAY_OF_FIBRIN_CLOT_FORMATION          0.043665   \n",
      "86   REACTOME_FORMATION_OF_FIBRIN_CLOT_CLOTTING_CAS...          0.043665   \n",
      "87   REACTOME_GRB2:SOS_PROVIDES_LINKAGE_TO_MAPK_SIG...          0.043665   \n",
      "91                         REACTOME_INTEGRIN_SIGNALING          0.043665   \n",
      "92                  REACTOME_MAP2K_AND_MAPK_ACTIVATION          0.043665   \n",
      "96   REACTOME_P130CAS_LINKAGE_TO_MAPK_SIGNALING_FOR...          0.043665   \n",
      "98        REACTOME_PLATELET_AGGREGATION_PLUG_FORMATION          0.043665   \n",
      "101    REACTOME_REGULATION_OF_TLR_BY_ENDOGENOUS_LIGAND          0.043665   \n",
      "105  REACTOME_SIGNALING_BY_MODERATE_KINASE_ACTIVITY...          0.043665   \n",
      "\n",
      "                  Gene_set  \n",
      "66   CUSTOM140471912243776  \n",
      "67   CUSTOM140471912243776  \n",
      "68   CUSTOM140471912243776  \n",
      "69   CUSTOM140471912243776  \n",
      "74   CUSTOM140471912243776  \n",
      "75   CUSTOM140471912243776  \n",
      "77   CUSTOM140471912243776  \n",
      "78   CUSTOM140471912243776  \n",
      "80   CUSTOM140471912243776  \n",
      "81   CUSTOM140471912243776  \n",
      "86   CUSTOM140471912243776  \n",
      "87   CUSTOM140471912243776  \n",
      "91   CUSTOM140471912243776  \n",
      "92   CUSTOM140471912243776  \n",
      "96   CUSTOM140471912243776  \n",
      "98   CUSTOM140471912243776  \n",
      "101  CUSTOM140471912243776  \n",
      "105  CUSTOM140471912243776  \n",
      "Topic 317\n"
     ]
    },
    {
     "name": "stderr",
     "output_type": "stream",
     "text": [
      "2020-01-16 18:38:10,168 Warning: No enrich terms using library GO_Molecular_Function_2018 when cutoff = 0.05\n",
      "2020-01-16 18:38:12,639 Warning: No enrich terms using library GO_Biological_Process_2018 when cutoff = 0.05\n",
      "2020-01-16 18:38:15,135 Warning: No enrich terms using library GO_Cellular_Component_2018 when cutoff = 0.05\n",
      "2020-01-16 18:38:17,631 Warning: No enrich terms using library Human_Phenotype_Ontology when cutoff = 0.05\n",
      "2020-01-16 18:38:20,115 Warning: No enrich terms using library WikiPathways_2019_Human when cutoff = 0.05\n",
      "2020-01-16 18:38:20,129 Warning: No enrich terms using library CUSTOM140471954191200 when cutoff = 0.05\n"
     ]
    },
    {
     "name": "stdout",
     "output_type": "stream",
     "text": [
      "                                         Term  Adjusted P-value  \\\n",
      "44                 KEGG_TRYPTOPHAN_METABOLISM          0.047813   \n",
      "46  REACTOME_CALCITONIN_LIKE_LIGAND_RECEPTORS          0.025167   \n",
      "52             REACTOME_TRYPTOPHAN_CATABOLISM          0.025167   \n",
      "\n",
      "                 Gene_set  \n",
      "44  CUSTOM140471954193648  \n",
      "46  CUSTOM140471954193648  \n",
      "52  CUSTOM140471954193648  \n",
      "Topic 318\n"
     ]
    },
    {
     "name": "stderr",
     "output_type": "stream",
     "text": [
      "2020-01-16 18:38:23,084 Warning: No enrich terms using library GO_Molecular_Function_2018 when cutoff = 0.05\n",
      "2020-01-16 18:38:25,553 Warning: No enrich terms using library GO_Biological_Process_2018 when cutoff = 0.05\n",
      "2020-01-16 18:38:28,004 Warning: No enrich terms using library GO_Cellular_Component_2018 when cutoff = 0.05\n",
      "2020-01-16 18:38:30,462 Warning: No enrich terms using library Human_Phenotype_Ontology when cutoff = 0.05\n",
      "2020-01-16 18:38:32,926 Warning: No enrich terms using library WikiPathways_2019_Human when cutoff = 0.05\n",
      "2020-01-16 18:38:33,031 Warning: No enrich terms using library CUSTOM140471946553024 when cutoff = 0.05\n"
     ]
    },
    {
     "name": "stdout",
     "output_type": "stream",
     "text": [
      "                         Term  Adjusted P-value               Gene_set\n",
      "0  HALLMARK_KRAS_SIGNALING_UP              0.04  CUSTOM140471946553744\n",
      "Topic 319\n"
     ]
    },
    {
     "name": "stderr",
     "output_type": "stream",
     "text": [
      "2020-01-16 18:38:35,913 Warning: No enrich terms using library GO_Molecular_Function_2018 when cutoff = 0.05\n",
      "2020-01-16 18:38:38,493 Warning: No enrich terms using library GO_Biological_Process_2018 when cutoff = 0.05\n",
      "2020-01-16 18:38:40,972 Warning: No enrich terms using library GO_Cellular_Component_2018 when cutoff = 0.05\n",
      "2020-01-16 18:38:43,439 Warning: No enrich terms using library Human_Phenotype_Ontology when cutoff = 0.05\n",
      "2020-01-16 18:38:45,978 Warning: No enrich terms using library WikiPathways_2019_Human when cutoff = 0.05\n",
      "2020-01-16 18:38:45,986 Warning: No enrich terms using library CUSTOM140471909682560 when cutoff = 0.05\n"
     ]
    },
    {
     "name": "stdout",
     "output_type": "stream",
     "text": [
      "                                                 Term  Adjusted P-value  \\\n",
      "45                        PID_ALPHA_SYNUCLEIN_PATHWAY          0.043479   \n",
      "47   REACTOME_DISORDERS_OF_TRANSMEMBRANE_TRANSPORTERS          0.019148   \n",
      "48  REACTOME_NAPLUS_CL_DEPENDENT_NEUROTRANSMITTER_...          0.000981   \n",
      "50                REACTOME_NEUROTRANSMITTER_CLEARANCE          0.019148   \n",
      "51      REACTOME_SLC_MEDIATED_TRANSMEMBRANE_TRANSPORT          0.027945   \n",
      "52                 REACTOME_SLC_TRANSPORTER_DISORDERS          0.009259   \n",
      "54  REACTOME_TRANSPORT_OF_BILE_SALTS_AND_ORGANIC_A...          0.009259   \n",
      "\n",
      "                 Gene_set  \n",
      "45  CUSTOM140471909682920  \n",
      "47  CUSTOM140471909682920  \n",
      "48  CUSTOM140471909682920  \n",
      "50  CUSTOM140471909682920  \n",
      "51  CUSTOM140471909682920  \n",
      "52  CUSTOM140471909682920  \n",
      "54  CUSTOM140471909682920  \n",
      "Topic 320\n"
     ]
    },
    {
     "name": "stderr",
     "output_type": "stream",
     "text": [
      "2020-01-16 18:38:48,970 Warning: No enrich terms using library GO_Molecular_Function_2018 when cutoff = 0.05\n",
      "2020-01-16 18:38:51,451 Warning: No enrich terms using library GO_Biological_Process_2018 when cutoff = 0.05\n"
     ]
    },
    {
     "name": "stdout",
     "output_type": "stream",
     "text": [
      "<class 'requests.exceptions.ConnectionError'> ('Connection aborted.', ConnectionResetError(104, 'Connection reset by peer')) <traceback object at 0x7fc22818bcc8>\n",
      "                                                 Term  Adjusted P-value  \\\n",
      "45                        PID_ALPHA_SYNUCLEIN_PATHWAY          0.043479   \n",
      "47   REACTOME_DISORDERS_OF_TRANSMEMBRANE_TRANSPORTERS          0.019148   \n",
      "48  REACTOME_NAPLUS_CL_DEPENDENT_NEUROTRANSMITTER_...          0.000981   \n",
      "50                REACTOME_NEUROTRANSMITTER_CLEARANCE          0.019148   \n",
      "51      REACTOME_SLC_MEDIATED_TRANSMEMBRANE_TRANSPORT          0.027945   \n",
      "52                 REACTOME_SLC_TRANSPORTER_DISORDERS          0.009259   \n",
      "54  REACTOME_TRANSPORT_OF_BILE_SALTS_AND_ORGANIC_A...          0.009259   \n",
      "\n",
      "                 Gene_set  \n",
      "45  CUSTOM140471909682920  \n",
      "47  CUSTOM140471909682920  \n",
      "48  CUSTOM140471909682920  \n",
      "50  CUSTOM140471909682920  \n",
      "51  CUSTOM140471909682920  \n",
      "52  CUSTOM140471909682920  \n",
      "54  CUSTOM140471909682920  \n",
      "Topic 321\n"
     ]
    },
    {
     "name": "stderr",
     "output_type": "stream",
     "text": [
      "2020-01-16 18:38:54,552 Warning: No enrich terms using library GO_Molecular_Function_2018 when cutoff = 0.05\n",
      "2020-01-16 18:38:57,070 Warning: No enrich terms using library GO_Biological_Process_2018 when cutoff = 0.05\n",
      "2020-01-16 18:38:59,562 Warning: No enrich terms using library GO_Cellular_Component_2018 when cutoff = 0.05\n",
      "2020-01-16 18:39:02,057 Warning: No enrich terms using library Human_Phenotype_Ontology when cutoff = 0.05\n",
      "2020-01-16 18:39:04,575 Warning: No enrich terms using library WikiPathways_2019_Human when cutoff = 0.05\n",
      "2020-01-16 18:39:04,589 Warning: No enrich terms using library CUSTOM140471908206488 when cutoff = 0.05\n",
      "2020-01-16 18:39:04,608 Warning: No enrich terms using library CUSTOM140471908205696 when cutoff = 0.05\n"
     ]
    },
    {
     "name": "stdout",
     "output_type": "stream",
     "text": [
      "Empty DataFrame\n",
      "Columns: [Term, Adjusted P-value, Gene_set]\n",
      "Index: []\n",
      "Topic 322\n"
     ]
    },
    {
     "name": "stderr",
     "output_type": "stream",
     "text": [
      "2020-01-16 18:39:12,772 Warning: No enrich terms using library GO_Cellular_Component_2018 when cutoff = 0.05\n",
      "2020-01-16 18:39:15,320 Warning: No enrich terms using library Human_Phenotype_Ontology when cutoff = 0.05\n"
     ]
    },
    {
     "name": "stdout",
     "output_type": "stream",
     "text": [
      "                                                 Term  Adjusted P-value  \\\n",
      "0           steroid hydroxylase activity (GO:0008395)          0.000006   \n",
      "1   arachidonic acid monooxygenase activity (GO:00...          0.001173   \n",
      "2   arachidonic acid epoxygenase activity (GO:0008...          0.000782   \n",
      "3   oxidoreductase activity, acting on paired dono...          0.000906   \n",
      "4                           heme binding (GO:0020037)          0.008805   \n",
      "5             coumarin metabolic process (GO:0009804)          0.001148   \n",
      "6               epoxygenase P450 pathway (GO:0019373)          0.008032   \n",
      "7       exogenous drug catabolic process (GO:0042738)          0.006451   \n",
      "8                 drug catabolic process (GO:0042737)          0.005278   \n",
      "9     arachidonic acid metabolic process (GO:0019369)          0.019487   \n",
      "17                  Oxidation by Cytochrome P450 WP43          0.000013   \n",
      "18  Metapathway biotransformation Phase I and II W...          0.000178   \n",
      "19                 Pregnane X Receptor pathway WP2876          0.001245   \n",
      "28               KEGG_DRUG_METABOLISM_CYTOCHROME_P450          0.000027   \n",
      "29                 KEGG_DRUG_METABOLISM_OTHER_ENZYMES          0.000024   \n",
      "30                      KEGG_LINOLEIC_ACID_METABOLISM          0.027607   \n",
      "32                            KEGG_RETINOL_METABOLISM          0.000025   \n",
      "33                  KEGG_STEROID_HORMONE_BIOSYNTHESIS          0.047228   \n",
      "34                     REACTOME_BIOLOGICAL_OXIDATIONS          0.000495   \n",
      "35                          REACTOME_CYP2E1_REACTIONS          0.000053   \n",
      "\n",
      "                      Gene_set  \n",
      "0   GO_Molecular_Function_2018  \n",
      "1   GO_Molecular_Function_2018  \n",
      "2   GO_Molecular_Function_2018  \n",
      "3   GO_Molecular_Function_2018  \n",
      "4   GO_Molecular_Function_2018  \n",
      "5   GO_Biological_Process_2018  \n",
      "6   GO_Biological_Process_2018  \n",
      "7   GO_Biological_Process_2018  \n",
      "8   GO_Biological_Process_2018  \n",
      "9   GO_Biological_Process_2018  \n",
      "17     WikiPathways_2019_Human  \n",
      "18     WikiPathways_2019_Human  \n",
      "19     WikiPathways_2019_Human  \n",
      "28       CUSTOM140471886540088  \n",
      "29       CUSTOM140471886540088  \n",
      "30       CUSTOM140471886540088  \n",
      "32       CUSTOM140471886540088  \n",
      "33       CUSTOM140471886540088  \n",
      "34       CUSTOM140471886540088  \n",
      "35       CUSTOM140471886540088  \n",
      "Topic 323\n"
     ]
    },
    {
     "name": "stderr",
     "output_type": "stream",
     "text": [
      "2020-01-16 18:39:20,923 Warning: No enrich terms using library GO_Molecular_Function_2018 when cutoff = 0.05\n",
      "2020-01-16 18:39:23,425 Warning: No enrich terms using library GO_Biological_Process_2018 when cutoff = 0.05\n",
      "2020-01-16 18:39:25,900 Warning: No enrich terms using library GO_Cellular_Component_2018 when cutoff = 0.05\n",
      "2020-01-16 18:39:28,375 Warning: No enrich terms using library Human_Phenotype_Ontology when cutoff = 0.05\n",
      "2020-01-16 18:39:30,865 Warning: No enrich terms using library WikiPathways_2019_Human when cutoff = 0.05\n",
      "2020-01-16 18:39:30,887 Warning: No enrich terms using library CUSTOM140472023553728 when cutoff = 0.05\n"
     ]
    },
    {
     "name": "stdout",
     "output_type": "stream",
     "text": [
      "                                            Term  Adjusted P-value  \\\n",
      "31                REACTOME_DEVELOPMENTAL_BIOLOGY      4.846667e-04   \n",
      "33  REACTOME_FORMATION_OF_THE_CORNIFIED_ENVELOPE      1.040791e-05   \n",
      "35                       REACTOME_KERATINIZATION      4.018111e-09   \n",
      "38     REACTOME_WAX_AND_PLASMALOGEN_BIOSYNTHESIS      3.133032e-02   \n",
      "\n",
      "                 Gene_set  \n",
      "31  CUSTOM140472023555816  \n",
      "33  CUSTOM140472023555816  \n",
      "35  CUSTOM140472023555816  \n",
      "38  CUSTOM140472023555816  \n",
      "Topic 324\n"
     ]
    },
    {
     "name": "stderr",
     "output_type": "stream",
     "text": [
      "2020-01-16 18:39:33,870 Warning: No enrich terms using library GO_Molecular_Function_2018 when cutoff = 0.05\n",
      "2020-01-16 18:39:36,335 Warning: No enrich terms using library GO_Biological_Process_2018 when cutoff = 0.05\n",
      "2020-01-16 18:39:38,821 Warning: No enrich terms using library GO_Cellular_Component_2018 when cutoff = 0.05\n",
      "2020-01-16 18:39:41,318 Warning: No enrich terms using library Human_Phenotype_Ontology when cutoff = 0.05\n",
      "2020-01-16 18:39:43,804 Warning: No enrich terms using library WikiPathways_2019_Human when cutoff = 0.05\n",
      "2020-01-16 18:39:43,819 Warning: No enrich terms using library CUSTOM140471911330152 when cutoff = 0.05\n",
      "2020-01-16 18:39:43,839 Warning: No enrich terms using library CUSTOM140471929916512 when cutoff = 0.05\n"
     ]
    },
    {
     "name": "stdout",
     "output_type": "stream",
     "text": [
      "Empty DataFrame\n",
      "Columns: [Term, Adjusted P-value, Gene_set]\n",
      "Index: []\n",
      "Topic 325\n"
     ]
    },
    {
     "name": "stderr",
     "output_type": "stream",
     "text": [
      "2020-01-16 18:39:46,647 Warning: No enrich terms using library GO_Molecular_Function_2018 when cutoff = 0.05\n",
      "2020-01-16 18:39:49,120 Warning: No enrich terms using library GO_Biological_Process_2018 when cutoff = 0.05\n",
      "2020-01-16 18:39:51,586 Warning: No enrich terms using library GO_Cellular_Component_2018 when cutoff = 0.05\n",
      "2020-01-16 18:39:54,072 Warning: No enrich terms using library Human_Phenotype_Ontology when cutoff = 0.05\n",
      "2020-01-16 18:39:56,548 Warning: No enrich terms using library WikiPathways_2019_Human when cutoff = 0.05\n",
      "2020-01-16 18:39:56,556 Warning: No enrich terms using library CUSTOM140472026862432 when cutoff = 0.05\n",
      "2020-01-16 18:39:56,576 Warning: No enrich terms using library CUSTOM140472026861712 when cutoff = 0.05\n"
     ]
    },
    {
     "name": "stdout",
     "output_type": "stream",
     "text": [
      "Empty DataFrame\n",
      "Columns: [Term, Adjusted P-value, Gene_set]\n",
      "Index: []\n",
      "Topic 326\n"
     ]
    },
    {
     "name": "stderr",
     "output_type": "stream",
     "text": [
      "2020-01-16 18:39:59,420 Warning: No enrich terms using library GO_Molecular_Function_2018 when cutoff = 0.05\n",
      "2020-01-16 18:40:01,885 Warning: No enrich terms using library GO_Biological_Process_2018 when cutoff = 0.05\n",
      "2020-01-16 18:40:04,352 Warning: No enrich terms using library GO_Cellular_Component_2018 when cutoff = 0.05\n",
      "2020-01-16 18:40:06,817 Warning: No enrich terms using library Human_Phenotype_Ontology when cutoff = 0.05\n",
      "2020-01-16 18:40:09,369 Warning: No enrich terms using library WikiPathways_2019_Human when cutoff = 0.05\n",
      "2020-01-16 18:40:09,393 Warning: No enrich terms using library CUSTOM140471953886232 when cutoff = 0.05\n",
      "2020-01-16 18:40:09,417 Warning: No enrich terms using library CUSTOM140472023624944 when cutoff = 0.05\n"
     ]
    },
    {
     "name": "stdout",
     "output_type": "stream",
     "text": [
      "Empty DataFrame\n",
      "Columns: [Term, Adjusted P-value, Gene_set]\n",
      "Index: []\n",
      "Topic 327\n"
     ]
    },
    {
     "name": "stderr",
     "output_type": "stream",
     "text": [
      "2020-01-16 18:40:12,284 Warning: No enrich terms using library GO_Molecular_Function_2018 when cutoff = 0.05\n",
      "2020-01-16 18:40:14,747 Warning: No enrich terms using library GO_Biological_Process_2018 when cutoff = 0.05\n",
      "2020-01-16 18:40:17,272 Warning: No enrich terms using library GO_Cellular_Component_2018 when cutoff = 0.05\n",
      "2020-01-16 18:40:19,731 Warning: No enrich terms using library Human_Phenotype_Ontology when cutoff = 0.05\n",
      "2020-01-16 18:40:22,193 Warning: No enrich terms using library WikiPathways_2019_Human when cutoff = 0.05\n"
     ]
    },
    {
     "name": "stdout",
     "output_type": "stream",
     "text": [
      "Empty DataFrame\n",
      "Columns: [Term, Adjusted P-value, Gene_set]\n",
      "Index: []\n",
      "Topic 328\n"
     ]
    },
    {
     "name": "stderr",
     "output_type": "stream",
     "text": [
      "2020-01-16 18:40:25,030 Warning: No enrich terms using library GO_Molecular_Function_2018 when cutoff = 0.05\n",
      "2020-01-16 18:40:27,516 Warning: No enrich terms using library GO_Biological_Process_2018 when cutoff = 0.05\n",
      "2020-01-16 18:40:29,989 Warning: No enrich terms using library GO_Cellular_Component_2018 when cutoff = 0.05\n",
      "2020-01-16 18:40:32,455 Warning: No enrich terms using library Human_Phenotype_Ontology when cutoff = 0.05\n",
      "2020-01-16 18:40:34,925 Warning: No enrich terms using library WikiPathways_2019_Human when cutoff = 0.05\n"
     ]
    },
    {
     "name": "stdout",
     "output_type": "stream",
     "text": [
      "Empty DataFrame\n",
      "Columns: [Term, Adjusted P-value, Gene_set]\n",
      "Index: []\n",
      "Topic 329\n"
     ]
    },
    {
     "name": "stderr",
     "output_type": "stream",
     "text": [
      "2020-01-16 18:40:37,785 Warning: No enrich terms using library GO_Molecular_Function_2018 when cutoff = 0.05\n",
      "2020-01-16 18:40:40,242 Warning: No enrich terms using library GO_Biological_Process_2018 when cutoff = 0.05\n",
      "2020-01-16 18:40:42,703 Warning: No enrich terms using library GO_Cellular_Component_2018 when cutoff = 0.05\n",
      "2020-01-16 18:40:45,170 Warning: No enrich terms using library Human_Phenotype_Ontology when cutoff = 0.05\n",
      "2020-01-16 18:40:47,641 Warning: No enrich terms using library WikiPathways_2019_Human when cutoff = 0.05\n"
     ]
    },
    {
     "name": "stdout",
     "output_type": "stream",
     "text": [
      "Empty DataFrame\n",
      "Columns: [Term, Adjusted P-value, Gene_set]\n",
      "Index: []\n",
      "Topic 330\n"
     ]
    },
    {
     "name": "stderr",
     "output_type": "stream",
     "text": [
      "2020-01-16 18:40:50,549 Warning: No enrich terms using library GO_Molecular_Function_2018 when cutoff = 0.05\n",
      "2020-01-16 18:40:53,017 Warning: No enrich terms using library GO_Biological_Process_2018 when cutoff = 0.05\n",
      "2020-01-16 18:40:55,481 Warning: No enrich terms using library GO_Cellular_Component_2018 when cutoff = 0.05\n",
      "2020-01-16 18:40:57,944 Warning: No enrich terms using library Human_Phenotype_Ontology when cutoff = 0.05\n",
      "2020-01-16 18:41:00,479 Warning: No enrich terms using library WikiPathways_2019_Human when cutoff = 0.05\n",
      "2020-01-16 18:41:00,501 Warning: No enrich terms using library CUSTOM140471949044256 when cutoff = 0.05\n"
     ]
    },
    {
     "name": "stdout",
     "output_type": "stream",
     "text": [
      "Empty DataFrame\n",
      "Columns: [Term, Adjusted P-value, Gene_set]\n",
      "Index: []\n",
      "Topic 331\n"
     ]
    },
    {
     "name": "stderr",
     "output_type": "stream",
     "text": [
      "2020-01-16 18:41:03,359 Warning: No enrich terms using library GO_Molecular_Function_2018 when cutoff = 0.05\n",
      "2020-01-16 18:41:05,828 Warning: No enrich terms using library GO_Biological_Process_2018 when cutoff = 0.05\n",
      "2020-01-16 18:41:08,290 Warning: No enrich terms using library GO_Cellular_Component_2018 when cutoff = 0.05\n",
      "2020-01-16 18:41:10,752 Warning: No enrich terms using library Human_Phenotype_Ontology when cutoff = 0.05\n",
      "2020-01-16 18:41:13,222 Warning: No enrich terms using library WikiPathways_2019_Human when cutoff = 0.05\n"
     ]
    },
    {
     "name": "stdout",
     "output_type": "stream",
     "text": [
      "                                         Term  Adjusted P-value  \\\n",
      "71  REACTOME_MULTIFUNCTIONAL_ANION_EXCHANGERS          0.028777   \n",
      "\n",
      "                 Gene_set  \n",
      "71  CUSTOM140471919969048  \n",
      "Topic 332\n"
     ]
    },
    {
     "name": "stderr",
     "output_type": "stream",
     "text": [
      "2020-01-16 18:41:16,133 Warning: No enrich terms using library GO_Molecular_Function_2018 when cutoff = 0.05\n",
      "2020-01-16 18:41:18,595 Warning: No enrich terms using library GO_Biological_Process_2018 when cutoff = 0.05\n",
      "2020-01-16 18:41:21,073 Warning: No enrich terms using library GO_Cellular_Component_2018 when cutoff = 0.05\n",
      "2020-01-16 18:41:23,536 Warning: No enrich terms using library Human_Phenotype_Ontology when cutoff = 0.05\n",
      "2020-01-16 18:41:26,000 Warning: No enrich terms using library WikiPathways_2019_Human when cutoff = 0.05\n"
     ]
    },
    {
     "name": "stdout",
     "output_type": "stream",
     "text": [
      "                                                 Term  Adjusted P-value  \\\n",
      "63                        KEGG_ERBB_SIGNALING_PATHWAY          0.035074   \n",
      "64                                        KEGG_GLIOMA          0.029586   \n",
      "65                        KEGG_GNRH_SIGNALING_PATHWAY          0.035084   \n",
      "66                        KEGG_LONG_TERM_POTENTIATION          0.030800   \n",
      "67                                 KEGG_MELANOGENESIS          0.035084   \n",
      "68                KEGG_NEUROTROPHIN_SIGNALING_PATHWAY          0.041580   \n",
      "70                                KEGG_OOCYTE_MEIOSIS          0.037908   \n",
      "71                         KEGG_WNT_SIGNALING_PATHWAY          0.046047   \n",
      "72                                    PID_FGF_PATHWAY          0.029586   \n",
      "73                                   PID_IFNG_PATHWAY          0.029586   \n",
      "74                                 PID_NETRIN_PATHWAY          0.029586   \n",
      "75                           PID_PI3K_PLC_TRK_PATHWAY          0.029586   \n",
      "76                                  PID_TGFBR_PATHWAY          0.029586   \n",
      "77                       PID_WNT_NONCANONICAL_PATHWAY          0.029586   \n",
      "78  REACTOME_ACTIVATION_OF_NMDA_RECEPTORS_AND_POST...          0.035074   \n",
      "79  REACTOME_ASSEMBLY_AND_CELL_SURFACE_PRESENTATIO...          0.029586   \n",
      "80    REACTOME_BETA_CATENIN_INDEPENDENT_WNT_SIGNALING          0.045571   \n",
      "81                           REACTOME_CA2PLUS_PATHWAY          0.029586   \n",
      "82  REACTOME_CAMK_IV_MEDIATED_PHOSPHORYLATION_OF_CREB          0.029586   \n",
      "83                        REACTOME_CARDIAC_CONDUCTION          0.044751   \n",
      "\n",
      "                 Gene_set  \n",
      "63  CUSTOM140472027505936  \n",
      "64  CUSTOM140472027505936  \n",
      "65  CUSTOM140472027505936  \n",
      "66  CUSTOM140472027505936  \n",
      "67  CUSTOM140472027505936  \n",
      "68  CUSTOM140472027505936  \n",
      "70  CUSTOM140472027505936  \n",
      "71  CUSTOM140472027505936  \n",
      "72  CUSTOM140472027505936  \n",
      "73  CUSTOM140472027505936  \n",
      "74  CUSTOM140472027505936  \n",
      "75  CUSTOM140472027505936  \n",
      "76  CUSTOM140472027505936  \n",
      "77  CUSTOM140472027505936  \n",
      "78  CUSTOM140472027505936  \n",
      "79  CUSTOM140472027505936  \n",
      "80  CUSTOM140472027505936  \n",
      "81  CUSTOM140472027505936  \n",
      "82  CUSTOM140472027505936  \n",
      "83  CUSTOM140472027505936  \n",
      "Topic 333\n"
     ]
    },
    {
     "name": "stderr",
     "output_type": "stream",
     "text": [
      "2020-01-16 18:41:28,989 Warning: No enrich terms using library GO_Molecular_Function_2018 when cutoff = 0.05\n",
      "2020-01-16 18:41:31,456 Warning: No enrich terms using library GO_Biological_Process_2018 when cutoff = 0.05\n",
      "2020-01-16 18:41:33,912 Warning: No enrich terms using library GO_Cellular_Component_2018 when cutoff = 0.05\n",
      "2020-01-16 18:41:36,381 Warning: No enrich terms using library Human_Phenotype_Ontology when cutoff = 0.05\n",
      "2020-01-16 18:41:38,849 Warning: No enrich terms using library WikiPathways_2019_Human when cutoff = 0.05\n"
     ]
    },
    {
     "name": "stdout",
     "output_type": "stream",
     "text": [
      "                     Term  Adjusted P-value               Gene_set\n",
      "46  BIOCARTA_NFAT_PATHWAY          0.030295  CUSTOM140471902588792\n",
      "Topic 334\n"
     ]
    },
    {
     "name": "stderr",
     "output_type": "stream",
     "text": [
      "2020-01-16 18:41:41,788 Warning: No enrich terms using library GO_Molecular_Function_2018 when cutoff = 0.05\n",
      "2020-01-16 18:41:44,256 Warning: No enrich terms using library GO_Biological_Process_2018 when cutoff = 0.05\n",
      "2020-01-16 18:41:46,718 Warning: No enrich terms using library GO_Cellular_Component_2018 when cutoff = 0.05\n",
      "2020-01-16 18:41:49,184 Warning: No enrich terms using library Human_Phenotype_Ontology when cutoff = 0.05\n",
      "2020-01-16 18:41:51,649 Warning: No enrich terms using library WikiPathways_2019_Human when cutoff = 0.05\n"
     ]
    },
    {
     "name": "stdout",
     "output_type": "stream",
     "text": [
      "Empty DataFrame\n",
      "Columns: [Term, Adjusted P-value, Gene_set]\n",
      "Index: []\n",
      "Topic 335\n"
     ]
    },
    {
     "name": "stderr",
     "output_type": "stream",
     "text": [
      "2020-01-16 18:41:54,483 Warning: No enrich terms using library GO_Molecular_Function_2018 when cutoff = 0.05\n",
      "2020-01-16 18:41:56,949 Warning: No enrich terms using library GO_Biological_Process_2018 when cutoff = 0.05\n",
      "2020-01-16 18:41:59,409 Warning: No enrich terms using library GO_Cellular_Component_2018 when cutoff = 0.05\n",
      "2020-01-16 18:42:01,870 Warning: No enrich terms using library Human_Phenotype_Ontology when cutoff = 0.05\n",
      "2020-01-16 18:42:04,364 Warning: No enrich terms using library WikiPathways_2019_Human when cutoff = 0.05\n"
     ]
    },
    {
     "name": "stdout",
     "output_type": "stream",
     "text": [
      "Empty DataFrame\n",
      "Columns: [Term, Adjusted P-value, Gene_set]\n",
      "Index: []\n",
      "Topic 336\n"
     ]
    },
    {
     "name": "stderr",
     "output_type": "stream",
     "text": [
      "2020-01-16 18:42:07,227 Warning: No enrich terms using library GO_Molecular_Function_2018 when cutoff = 0.05\n",
      "2020-01-16 18:42:09,729 Warning: No enrich terms using library GO_Biological_Process_2018 when cutoff = 0.05\n",
      "2020-01-16 18:42:12,194 Warning: No enrich terms using library GO_Cellular_Component_2018 when cutoff = 0.05\n",
      "2020-01-16 18:42:14,660 Warning: No enrich terms using library Human_Phenotype_Ontology when cutoff = 0.05\n",
      "2020-01-16 18:42:17,127 Warning: No enrich terms using library WikiPathways_2019_Human when cutoff = 0.05\n"
     ]
    },
    {
     "name": "stdout",
     "output_type": "stream",
     "text": [
      "                                           Term  Adjusted P-value  \\\n",
      "11                          HALLMARK_PEROXISOME          0.020800   \n",
      "12                         BIOCARTA_FXR_PATHWAY          0.011200   \n",
      "13                  KEGG_PPAR_SIGNALING_PATHWAY          0.018400   \n",
      "14  REACTOME_BILE_ACID_AND_BILE_SALT_METABOLISM          0.013760   \n",
      "16              REACTOME_METABOLISM_OF_STEROIDS          0.034286   \n",
      "17   REACTOME_RECYCLING_OF_BILE_ACIDS_AND_SALTS          0.012800   \n",
      "18             REACTOME_TRIGLYCERIDE_CATABOLISM          0.012800   \n",
      "19             REACTOME_TRIGLYCERIDE_METABOLISM          0.013760   \n",
      "\n",
      "                 Gene_set  \n",
      "11  CUSTOM140471965109200  \n",
      "12  CUSTOM140471965108264  \n",
      "13  CUSTOM140471965108264  \n",
      "14  CUSTOM140471965108264  \n",
      "16  CUSTOM140471965108264  \n",
      "17  CUSTOM140471965108264  \n",
      "18  CUSTOM140471965108264  \n",
      "19  CUSTOM140471965108264  \n",
      "Topic 337\n"
     ]
    },
    {
     "name": "stderr",
     "output_type": "stream",
     "text": [
      "2020-01-16 18:42:20,183 Warning: No enrich terms using library GO_Molecular_Function_2018 when cutoff = 0.05\n",
      "2020-01-16 18:42:22,640 Warning: No enrich terms using library GO_Biological_Process_2018 when cutoff = 0.05\n",
      "2020-01-16 18:42:25,102 Warning: No enrich terms using library GO_Cellular_Component_2018 when cutoff = 0.05\n",
      "2020-01-16 18:42:27,571 Warning: No enrich terms using library Human_Phenotype_Ontology when cutoff = 0.05\n",
      "2020-01-16 18:42:30,035 Warning: No enrich terms using library WikiPathways_2019_Human when cutoff = 0.05\n"
     ]
    },
    {
     "name": "stdout",
     "output_type": "stream",
     "text": [
      "Empty DataFrame\n",
      "Columns: [Term, Adjusted P-value, Gene_set]\n",
      "Index: []\n",
      "Topic 338\n"
     ]
    },
    {
     "name": "stderr",
     "output_type": "stream",
     "text": [
      "2020-01-16 18:42:32,905 Warning: No enrich terms using library GO_Molecular_Function_2018 when cutoff = 0.05\n",
      "2020-01-16 18:42:35,395 Warning: No enrich terms using library GO_Biological_Process_2018 when cutoff = 0.05\n",
      "2020-01-16 18:42:37,867 Warning: No enrich terms using library GO_Cellular_Component_2018 when cutoff = 0.05\n",
      "2020-01-16 18:42:40,332 Warning: No enrich terms using library Human_Phenotype_Ontology when cutoff = 0.05\n",
      "2020-01-16 18:42:42,804 Warning: No enrich terms using library WikiPathways_2019_Human when cutoff = 0.05\n",
      "2020-01-16 18:42:42,815 Warning: No enrich terms using library CUSTOM140471884715064 when cutoff = 0.05\n",
      "2020-01-16 18:42:42,841 Warning: No enrich terms using library CUSTOM140471884714272 when cutoff = 0.05\n"
     ]
    },
    {
     "name": "stdout",
     "output_type": "stream",
     "text": [
      "Empty DataFrame\n",
      "Columns: [Term, Adjusted P-value, Gene_set]\n",
      "Index: []\n",
      "Topic 339\n"
     ]
    },
    {
     "name": "stderr",
     "output_type": "stream",
     "text": [
      "2020-01-16 18:42:50,799 Warning: No enrich terms using library GO_Cellular_Component_2018 when cutoff = 0.05\n",
      "2020-01-16 18:42:53,322 Warning: No enrich terms using library Human_Phenotype_Ontology when cutoff = 0.05\n",
      "2020-01-16 18:42:55,902 Warning: No enrich terms using library CUSTOM140471889571704 when cutoff = 0.05\n"
     ]
    },
    {
     "name": "stdout",
     "output_type": "stream",
     "text": [
      "                                                 Term  Adjusted P-value  \\\n",
      "0           clathrin light chain binding (GO:0032051)          0.001294   \n",
      "5   intermediate filament bundle assembly (GO:0045...          0.005738   \n",
      "6                 clathrin coat assembly (GO:0048268)          0.017386   \n",
      "64         Amyotrophic lateral sclerosis (ALS) WP2447          0.024767   \n",
      "65  Association Between Physico-Chemical Features ...          0.037644   \n",
      "\n",
      "                      Gene_set  \n",
      "0   GO_Molecular_Function_2018  \n",
      "5   GO_Biological_Process_2018  \n",
      "6   GO_Biological_Process_2018  \n",
      "64     WikiPathways_2019_Human  \n",
      "65     WikiPathways_2019_Human  \n",
      "Topic 340\n"
     ]
    },
    {
     "name": "stderr",
     "output_type": "stream",
     "text": [
      "2020-01-16 18:42:58,729 Warning: No enrich terms using library GO_Molecular_Function_2018 when cutoff = 0.05\n",
      "2020-01-16 18:43:01,200 Warning: No enrich terms using library GO_Biological_Process_2018 when cutoff = 0.05\n",
      "2020-01-16 18:43:03,672 Warning: No enrich terms using library GO_Cellular_Component_2018 when cutoff = 0.05\n",
      "2020-01-16 18:43:06,132 Warning: No enrich terms using library Human_Phenotype_Ontology when cutoff = 0.05\n",
      "2020-01-16 18:43:08,600 Warning: No enrich terms using library WikiPathways_2019_Human when cutoff = 0.05\n"
     ]
    },
    {
     "name": "stdout",
     "output_type": "stream",
     "text": [
      "                             Term  Adjusted P-value               Gene_set\n",
      "19  REACTOME_HISTIDINE_CATABOLISM           0.02878  CUSTOM140471922482272\n",
      "Topic 341\n",
      "<class 'Exception'> Error analyzing gene list <traceback object at 0x7fc22a094c08>\n",
      "                             Term  Adjusted P-value               Gene_set\n",
      "19  REACTOME_HISTIDINE_CATABOLISM           0.02878  CUSTOM140471922482272\n",
      "Topic 342\n"
     ]
    },
    {
     "name": "stderr",
     "output_type": "stream",
     "text": [
      "2020-01-16 18:43:12,112 Warning: No enrich terms using library GO_Molecular_Function_2018 when cutoff = 0.05\n",
      "2020-01-16 18:43:14,579 Warning: No enrich terms using library GO_Biological_Process_2018 when cutoff = 0.05\n",
      "2020-01-16 18:43:17,052 Warning: No enrich terms using library GO_Cellular_Component_2018 when cutoff = 0.05\n",
      "2020-01-16 18:43:19,521 Warning: No enrich terms using library Human_Phenotype_Ontology when cutoff = 0.05\n",
      "2020-01-16 18:43:21,976 Warning: No enrich terms using library WikiPathways_2019_Human when cutoff = 0.05\n",
      "2020-01-16 18:43:21,984 Warning: No enrich terms using library CUSTOM140471887559848 when cutoff = 0.05\n"
     ]
    },
    {
     "name": "stdout",
     "output_type": "stream",
     "text": [
      "                                                 Term  Adjusted P-value  \\\n",
      "37                         BIOCARTA_INTRINSIC_PATHWAY          0.036719   \n",
      "42  REACTOME_FORMATION_OF_FIBRIN_CLOT_CLOTTING_CAS...          0.041442   \n",
      "44  REACTOME_INTRINSIC_PATHWAY_OF_FIBRIN_CLOT_FORM...          0.036719   \n",
      "\n",
      "                 Gene_set  \n",
      "37  CUSTOM140471887558336  \n",
      "42  CUSTOM140471887558336  \n",
      "44  CUSTOM140471887558336  \n",
      "Topic 343\n"
     ]
    },
    {
     "name": "stderr",
     "output_type": "stream",
     "text": [
      "2020-01-16 18:43:24,915 Warning: No enrich terms using library GO_Molecular_Function_2018 when cutoff = 0.05\n",
      "2020-01-16 18:43:27,380 Warning: No enrich terms using library GO_Biological_Process_2018 when cutoff = 0.05\n",
      "2020-01-16 18:43:29,861 Warning: No enrich terms using library GO_Cellular_Component_2018 when cutoff = 0.05\n",
      "2020-01-16 18:43:32,371 Warning: No enrich terms using library Human_Phenotype_Ontology when cutoff = 0.05\n",
      "2020-01-16 18:43:34,856 Warning: No enrich terms using library WikiPathways_2019_Human when cutoff = 0.05\n"
     ]
    },
    {
     "name": "stdout",
     "output_type": "stream",
     "text": [
      "Empty DataFrame\n",
      "Columns: [Term, Adjusted P-value, Gene_set]\n",
      "Index: []\n",
      "Topic 344\n"
     ]
    },
    {
     "name": "stderr",
     "output_type": "stream",
     "text": [
      "2020-01-16 18:43:37,674 Warning: No enrich terms using library GO_Molecular_Function_2018 when cutoff = 0.05\n",
      "2020-01-16 18:43:40,139 Warning: No enrich terms using library GO_Biological_Process_2018 when cutoff = 0.05\n",
      "2020-01-16 18:43:42,609 Warning: No enrich terms using library GO_Cellular_Component_2018 when cutoff = 0.05\n",
      "2020-01-16 18:43:45,079 Warning: No enrich terms using library Human_Phenotype_Ontology when cutoff = 0.05\n",
      "2020-01-16 18:43:47,676 Warning: No enrich terms using library WikiPathways_2019_Human when cutoff = 0.05\n",
      "2020-01-16 18:43:47,685 Warning: No enrich terms using library CUSTOM140471907713240 when cutoff = 0.05\n",
      "2020-01-16 18:43:47,711 Warning: No enrich terms using library CUSTOM140472023783176 when cutoff = 0.05\n"
     ]
    },
    {
     "name": "stdout",
     "output_type": "stream",
     "text": [
      "Empty DataFrame\n",
      "Columns: [Term, Adjusted P-value, Gene_set]\n",
      "Index: []\n",
      "Topic 345\n"
     ]
    },
    {
     "name": "stderr",
     "output_type": "stream",
     "text": [
      "2020-01-16 18:43:50,697 Warning: No enrich terms using library GO_Molecular_Function_2018 when cutoff = 0.05\n",
      "2020-01-16 18:43:53,179 Warning: No enrich terms using library GO_Biological_Process_2018 when cutoff = 0.05\n",
      "2020-01-16 18:43:55,652 Warning: No enrich terms using library GO_Cellular_Component_2018 when cutoff = 0.05\n",
      "2020-01-16 18:43:58,127 Warning: No enrich terms using library Human_Phenotype_Ontology when cutoff = 0.05\n",
      "2020-01-16 18:44:00,591 Warning: No enrich terms using library WikiPathways_2019_Human when cutoff = 0.05\n"
     ]
    },
    {
     "name": "stdout",
     "output_type": "stream",
     "text": [
      "Empty DataFrame\n",
      "Columns: [Term, Adjusted P-value, Gene_set]\n",
      "Index: []\n",
      "Topic 346\n"
     ]
    },
    {
     "name": "stderr",
     "output_type": "stream",
     "text": [
      "2020-01-16 18:44:03,495 Warning: No enrich terms using library GO_Molecular_Function_2018 when cutoff = 0.05\n",
      "2020-01-16 18:44:05,967 Warning: No enrich terms using library GO_Biological_Process_2018 when cutoff = 0.05\n",
      "2020-01-16 18:44:08,432 Warning: No enrich terms using library GO_Cellular_Component_2018 when cutoff = 0.05\n",
      "2020-01-16 18:44:10,892 Warning: No enrich terms using library Human_Phenotype_Ontology when cutoff = 0.05\n",
      "2020-01-16 18:44:13,352 Warning: No enrich terms using library WikiPathways_2019_Human when cutoff = 0.05\n",
      "2020-01-16 18:44:13,369 Warning: No enrich terms using library CUSTOM140471908071392 when cutoff = 0.05\n"
     ]
    },
    {
     "name": "stdout",
     "output_type": "stream",
     "text": [
      "Empty DataFrame\n",
      "Columns: [Term, Adjusted P-value, Gene_set]\n",
      "Index: []\n",
      "Topic 347\n"
     ]
    },
    {
     "name": "stderr",
     "output_type": "stream",
     "text": [
      "2020-01-16 18:44:16,219 Warning: No enrich terms using library GO_Molecular_Function_2018 when cutoff = 0.05\n",
      "2020-01-16 18:44:18,696 Warning: No enrich terms using library GO_Biological_Process_2018 when cutoff = 0.05\n",
      "2020-01-16 18:44:21,161 Warning: No enrich terms using library GO_Cellular_Component_2018 when cutoff = 0.05\n",
      "2020-01-16 18:44:23,628 Warning: No enrich terms using library Human_Phenotype_Ontology when cutoff = 0.05\n",
      "2020-01-16 18:44:26,093 Warning: No enrich terms using library WikiPathways_2019_Human when cutoff = 0.05\n",
      "2020-01-16 18:44:26,102 Warning: No enrich terms using library CUSTOM140471906299696 when cutoff = 0.05\n",
      "2020-01-16 18:44:26,125 Warning: No enrich terms using library CUSTOM140471906296312 when cutoff = 0.05\n"
     ]
    },
    {
     "name": "stdout",
     "output_type": "stream",
     "text": [
      "Empty DataFrame\n",
      "Columns: [Term, Adjusted P-value, Gene_set]\n",
      "Index: []\n",
      "Topic 348\n"
     ]
    },
    {
     "name": "stderr",
     "output_type": "stream",
     "text": [
      "2020-01-16 18:44:28,953 Warning: No enrich terms using library GO_Molecular_Function_2018 when cutoff = 0.05\n",
      "2020-01-16 18:44:31,418 Warning: No enrich terms using library GO_Biological_Process_2018 when cutoff = 0.05\n",
      "2020-01-16 18:44:33,883 Warning: No enrich terms using library GO_Cellular_Component_2018 when cutoff = 0.05\n",
      "2020-01-16 18:44:36,336 Warning: No enrich terms using library Human_Phenotype_Ontology when cutoff = 0.05\n",
      "2020-01-16 18:44:38,801 Warning: No enrich terms using library WikiPathways_2019_Human when cutoff = 0.05\n",
      "2020-01-16 18:44:38,820 Warning: No enrich terms using library CUSTOM140471916373120 when cutoff = 0.05\n"
     ]
    },
    {
     "name": "stdout",
     "output_type": "stream",
     "text": [
      "Empty DataFrame\n",
      "Columns: [Term, Adjusted P-value, Gene_set]\n",
      "Index: []\n",
      "Topic 349\n"
     ]
    },
    {
     "name": "stderr",
     "output_type": "stream",
     "text": [
      "2020-01-16 18:44:41,652 Warning: No enrich terms using library GO_Molecular_Function_2018 when cutoff = 0.05\n",
      "2020-01-16 18:44:44,118 Warning: No enrich terms using library GO_Biological_Process_2018 when cutoff = 0.05\n",
      "2020-01-16 18:44:46,594 Warning: No enrich terms using library GO_Cellular_Component_2018 when cutoff = 0.05\n",
      "2020-01-16 18:44:49,064 Warning: No enrich terms using library Human_Phenotype_Ontology when cutoff = 0.05\n",
      "2020-01-16 18:44:51,527 Warning: No enrich terms using library WikiPathways_2019_Human when cutoff = 0.05\n"
     ]
    },
    {
     "name": "stdout",
     "output_type": "stream",
     "text": [
      "Empty DataFrame\n",
      "Columns: [Term, Adjusted P-value, Gene_set]\n",
      "Index: []\n",
      "Topic 350\n"
     ]
    },
    {
     "name": "stderr",
     "output_type": "stream",
     "text": [
      "2020-01-16 18:44:54,373 Warning: No enrich terms using library GO_Molecular_Function_2018 when cutoff = 0.05\n",
      "2020-01-16 18:44:56,841 Warning: No enrich terms using library GO_Biological_Process_2018 when cutoff = 0.05\n",
      "2020-01-16 18:44:59,300 Warning: No enrich terms using library GO_Cellular_Component_2018 when cutoff = 0.05\n",
      "2020-01-16 18:45:01,770 Warning: No enrich terms using library Human_Phenotype_Ontology when cutoff = 0.05\n",
      "2020-01-16 18:45:04,228 Warning: No enrich terms using library WikiPathways_2019_Human when cutoff = 0.05\n"
     ]
    },
    {
     "name": "stdout",
     "output_type": "stream",
     "text": [
      "                                                 Term  Adjusted P-value  \\\n",
      "18                  KEGG_STEROID_HORMONE_BIOSYNTHESIS          0.047409   \n",
      "20  REACTOME_CYTOCHROME_P450_ARRANGED_BY_SUBSTRATE...          0.047977   \n",
      "23                        REACTOME_ENDOGENOUS_STEROLS          0.037309   \n",
      "24               REACTOME_GLUCOCORTICOID_BIOSYNTHESIS          0.023381   \n",
      "25  REACTOME_METABOLIC_DISORDERS_OF_BIOLOGICAL_OXI...          0.037309   \n",
      "28            REACTOME_METABOLISM_OF_STEROID_HORMONES          0.037309   \n",
      "29            REACTOME_MINERALOCORTICOID_BIOSYNTHESIS          0.023381   \n",
      "\n",
      "                 Gene_set  \n",
      "18  CUSTOM140471922390072  \n",
      "20  CUSTOM140471922390072  \n",
      "23  CUSTOM140471922390072  \n",
      "24  CUSTOM140471922390072  \n",
      "25  CUSTOM140471922390072  \n",
      "28  CUSTOM140471922390072  \n",
      "29  CUSTOM140471922390072  \n",
      "Topic 351\n"
     ]
    },
    {
     "name": "stderr",
     "output_type": "stream",
     "text": [
      "2020-01-16 18:45:07,228 Warning: No enrich terms using library GO_Molecular_Function_2018 when cutoff = 0.05\n",
      "2020-01-16 18:45:09,693 Warning: No enrich terms using library GO_Biological_Process_2018 when cutoff = 0.05\n",
      "2020-01-16 18:45:12,151 Warning: No enrich terms using library GO_Cellular_Component_2018 when cutoff = 0.05\n",
      "2020-01-16 18:45:14,612 Warning: No enrich terms using library Human_Phenotype_Ontology when cutoff = 0.05\n",
      "2020-01-16 18:45:17,079 Warning: No enrich terms using library WikiPathways_2019_Human when cutoff = 0.05\n"
     ]
    },
    {
     "name": "stdout",
     "output_type": "stream",
     "text": [
      "                                                 Term  Adjusted P-value  \\\n",
      "15             REACTOME_INOSITOL_PHOSPHATE_METABOLISM            0.0096   \n",
      "16  REACTOME_SYNTHESIS_OF_PYROPHOSPHATES_IN_THE_CY...            0.0040   \n",
      "\n",
      "                 Gene_set  \n",
      "15  CUSTOM140471953505304  \n",
      "16  CUSTOM140471953505304  \n",
      "Topic 352\n"
     ]
    },
    {
     "name": "stderr",
     "output_type": "stream",
     "text": [
      "2020-01-16 18:45:20,026 Warning: No enrich terms using library GO_Molecular_Function_2018 when cutoff = 0.05\n",
      "2020-01-16 18:45:22,509 Warning: No enrich terms using library GO_Biological_Process_2018 when cutoff = 0.05\n",
      "2020-01-16 18:45:24,977 Warning: No enrich terms using library GO_Cellular_Component_2018 when cutoff = 0.05\n",
      "2020-01-16 18:45:27,444 Warning: No enrich terms using library Human_Phenotype_Ontology when cutoff = 0.05\n",
      "2020-01-16 18:45:29,913 Warning: No enrich terms using library WikiPathways_2019_Human when cutoff = 0.05\n",
      "2020-01-16 18:45:29,921 Warning: No enrich terms using library CUSTOM140471907561760 when cutoff = 0.05\n",
      "2020-01-16 18:45:29,938 Warning: No enrich terms using library CUSTOM140471907562408 when cutoff = 0.05\n"
     ]
    },
    {
     "name": "stdout",
     "output_type": "stream",
     "text": [
      "Empty DataFrame\n",
      "Columns: [Term, Adjusted P-value, Gene_set]\n",
      "Index: []\n",
      "Topic 353\n",
      "<class 'Exception'> Error analyzing gene list <traceback object at 0x7fc22b0c2488>\n",
      "Empty DataFrame\n",
      "Columns: [Term, Adjusted P-value, Gene_set]\n",
      "Index: []\n",
      "Topic 354\n"
     ]
    },
    {
     "name": "stderr",
     "output_type": "stream",
     "text": [
      "2020-01-16 18:45:33,324 Warning: No enrich terms using library GO_Molecular_Function_2018 when cutoff = 0.05\n",
      "2020-01-16 18:45:35,794 Warning: No enrich terms using library GO_Biological_Process_2018 when cutoff = 0.05\n",
      "2020-01-16 18:45:38,261 Warning: No enrich terms using library GO_Cellular_Component_2018 when cutoff = 0.05\n",
      "2020-01-16 18:45:40,728 Warning: No enrich terms using library Human_Phenotype_Ontology when cutoff = 0.05\n",
      "2020-01-16 18:45:43,204 Warning: No enrich terms using library WikiPathways_2019_Human when cutoff = 0.05\n",
      "2020-01-16 18:45:43,317 Warning: No enrich terms using library CUSTOM140472021451472 when cutoff = 0.05\n"
     ]
    },
    {
     "name": "stdout",
     "output_type": "stream",
     "text": [
      "                       Term  Adjusted P-value               Gene_set\n",
      "73  HALLMARK_APICAL_SURFACE          0.034748  CUSTOM140472021452984\n",
      "Topic 355\n"
     ]
    },
    {
     "name": "stderr",
     "output_type": "stream",
     "text": [
      "2020-01-16 18:45:46,160 Warning: No enrich terms using library GO_Molecular_Function_2018 when cutoff = 0.05\n",
      "2020-01-16 18:45:48,628 Warning: No enrich terms using library GO_Biological_Process_2018 when cutoff = 0.05\n",
      "2020-01-16 18:45:51,092 Warning: No enrich terms using library GO_Cellular_Component_2018 when cutoff = 0.05\n",
      "2020-01-16 18:45:53,562 Warning: No enrich terms using library Human_Phenotype_Ontology when cutoff = 0.05\n",
      "2020-01-16 18:45:56,039 Warning: No enrich terms using library WikiPathways_2019_Human when cutoff = 0.05\n"
     ]
    },
    {
     "name": "stdout",
     "output_type": "stream",
     "text": [
      "                                   Term  Adjusted P-value  \\\n",
      "14         KEGG_GLYCEROLIPID_METABOLISM          0.019506   \n",
      "15                   REACTOME_DIGESTION          0.014893   \n",
      "16    REACTOME_DIGESTION_AND_ABSORPTION          0.014893   \n",
      "17  REACTOME_DIGESTION_OF_DIETARY_LIPID          0.011193   \n",
      "\n",
      "                 Gene_set  \n",
      "14  CUSTOM140471912246944  \n",
      "15  CUSTOM140471912246944  \n",
      "16  CUSTOM140471912246944  \n",
      "17  CUSTOM140471912246944  \n",
      "Topic 356\n",
      "<class 'Exception'> Error analyzing gene list <traceback object at 0x7fc22c4c5bc8>\n",
      "                                   Term  Adjusted P-value  \\\n",
      "14         KEGG_GLYCEROLIPID_METABOLISM          0.019506   \n",
      "15                   REACTOME_DIGESTION          0.014893   \n",
      "16    REACTOME_DIGESTION_AND_ABSORPTION          0.014893   \n",
      "17  REACTOME_DIGESTION_OF_DIETARY_LIPID          0.011193   \n",
      "\n",
      "                 Gene_set  \n",
      "14  CUSTOM140471912246944  \n",
      "15  CUSTOM140471912246944  \n",
      "16  CUSTOM140471912246944  \n",
      "17  CUSTOM140471912246944  \n",
      "Topic 357\n"
     ]
    },
    {
     "name": "stderr",
     "output_type": "stream",
     "text": [
      "2020-01-16 18:45:59,583 Warning: No enrich terms using library GO_Molecular_Function_2018 when cutoff = 0.05\n",
      "2020-01-16 18:46:02,067 Warning: No enrich terms using library GO_Biological_Process_2018 when cutoff = 0.05\n",
      "2020-01-16 18:46:04,560 Warning: No enrich terms using library GO_Cellular_Component_2018 when cutoff = 0.05\n",
      "2020-01-16 18:46:07,047 Warning: No enrich terms using library Human_Phenotype_Ontology when cutoff = 0.05\n",
      "2020-01-16 18:46:09,617 Warning: No enrich terms using library WikiPathways_2019_Human when cutoff = 0.05\n",
      "2020-01-16 18:46:09,629 Warning: No enrich terms using library CUSTOM140471929747208 when cutoff = 0.05\n"
     ]
    },
    {
     "name": "stdout",
     "output_type": "stream",
     "text": [
      "                                                 Term  Adjusted P-value  \\\n",
      "13  KEGG_METABOLISM_OF_XENOBIOTICS_BY_CYTOCHROME_P450          0.038929   \n",
      "15                          REACTOME_CYP2E1_REACTIONS          0.020971   \n",
      "16  REACTOME_CYTOCHROME_P450_ARRANGED_BY_SUBSTRATE...          0.038929   \n",
      "17                               REACTOME_FATTY_ACIDS          0.020971   \n",
      "18    REACTOME_PHASE_I_FUNCTIONALIZATION_OF_COMPOUNDS          0.048490   \n",
      "19                               REACTOME_XENOBIOTICS          0.022348   \n",
      "\n",
      "                 Gene_set  \n",
      "13  CUSTOM140471929749296  \n",
      "15  CUSTOM140471929749296  \n",
      "16  CUSTOM140471929749296  \n",
      "17  CUSTOM140471929749296  \n",
      "18  CUSTOM140471929749296  \n",
      "19  CUSTOM140471929749296  \n",
      "Topic 358\n"
     ]
    },
    {
     "name": "stderr",
     "output_type": "stream",
     "text": [
      "2020-01-16 18:46:12,585 Warning: No enrich terms using library GO_Molecular_Function_2018 when cutoff = 0.05\n",
      "2020-01-16 18:46:15,155 Warning: No enrich terms using library GO_Biological_Process_2018 when cutoff = 0.05\n",
      "2020-01-16 18:46:17,624 Warning: No enrich terms using library GO_Cellular_Component_2018 when cutoff = 0.05\n",
      "2020-01-16 18:46:20,086 Warning: No enrich terms using library Human_Phenotype_Ontology when cutoff = 0.05\n",
      "2020-01-16 18:46:22,577 Warning: No enrich terms using library WikiPathways_2019_Human when cutoff = 0.05\n",
      "2020-01-16 18:46:22,585 Warning: No enrich terms using library CUSTOM140472022404408 when cutoff = 0.05\n"
     ]
    },
    {
     "name": "stdout",
     "output_type": "stream",
     "text": [
      "                                               Term  Adjusted P-value  \\\n",
      "182  REACTOME_ABC_TRANSPORTERS_IN_LIPID_HOMEOSTASIS          0.035403   \n",
      "187                   REACTOME_CHYLOMICRON_ASSEMBLY          0.027975   \n",
      "188                 REACTOME_CHYLOMICRON_REMODELING          0.027975   \n",
      "193                           REACTOME_HDL_ASSEMBLY          0.027975   \n",
      "194                          REACTOME_HDL_CLEARANCE          0.027975   \n",
      "195                         REACTOME_HDL_REMODELING          0.027975   \n",
      "201            REACTOME_PLASMA_LIPOPROTEIN_ASSEMBLY          0.035403   \n",
      "210        REACTOME_SCAVENGING_BY_CLASS_A_RECEPTORS          0.035403   \n",
      "211        REACTOME_SCAVENGING_BY_CLASS_B_RECEPTORS          0.027975   \n",
      "\n",
      "                  Gene_set  \n",
      "182  CUSTOM140472022401528  \n",
      "187  CUSTOM140472022401528  \n",
      "188  CUSTOM140472022401528  \n",
      "193  CUSTOM140472022401528  \n",
      "194  CUSTOM140472022401528  \n",
      "195  CUSTOM140472022401528  \n",
      "201  CUSTOM140472022401528  \n",
      "210  CUSTOM140472022401528  \n",
      "211  CUSTOM140472022401528  \n",
      "Topic 359\n"
     ]
    },
    {
     "name": "stderr",
     "output_type": "stream",
     "text": [
      "2020-01-16 18:46:25,567 Warning: No enrich terms using library GO_Molecular_Function_2018 when cutoff = 0.05\n",
      "2020-01-16 18:46:28,063 Warning: No enrich terms using library GO_Biological_Process_2018 when cutoff = 0.05\n",
      "2020-01-16 18:46:30,562 Warning: No enrich terms using library GO_Cellular_Component_2018 when cutoff = 0.05\n",
      "2020-01-16 18:46:33,033 Warning: No enrich terms using library Human_Phenotype_Ontology when cutoff = 0.05\n",
      "2020-01-16 18:46:35,502 Warning: No enrich terms using library WikiPathways_2019_Human when cutoff = 0.05\n",
      "2020-01-16 18:46:35,520 Warning: No enrich terms using library CUSTOM140472022206720 when cutoff = 0.05\n"
     ]
    },
    {
     "name": "stdout",
     "output_type": "stream",
     "text": [
      "Empty DataFrame\n",
      "Columns: [Term, Adjusted P-value, Gene_set]\n",
      "Index: []\n",
      "Topic 360\n"
     ]
    },
    {
     "name": "stderr",
     "output_type": "stream",
     "text": [
      "2020-01-16 18:46:38,381 Warning: No enrich terms using library GO_Molecular_Function_2018 when cutoff = 0.05\n",
      "2020-01-16 18:46:40,846 Warning: No enrich terms using library GO_Biological_Process_2018 when cutoff = 0.05\n",
      "2020-01-16 18:46:43,307 Warning: No enrich terms using library GO_Cellular_Component_2018 when cutoff = 0.05\n",
      "2020-01-16 18:46:45,767 Warning: No enrich terms using library Human_Phenotype_Ontology when cutoff = 0.05\n"
     ]
    },
    {
     "name": "stdout",
     "output_type": "stream",
     "text": [
      "<class 'requests.exceptions.ConnectionError'> ('Connection aborted.', ConnectionResetError(104, 'Connection reset by peer')) <traceback object at 0x7fc229c54348>\n",
      "Empty DataFrame\n",
      "Columns: [Term, Adjusted P-value, Gene_set]\n",
      "Index: []\n",
      "Topic 361\n"
     ]
    },
    {
     "name": "stderr",
     "output_type": "stream",
     "text": [
      "2020-01-16 18:46:48,866 Warning: No enrich terms using library GO_Molecular_Function_2018 when cutoff = 0.05\n",
      "2020-01-16 18:46:51,332 Warning: No enrich terms using library GO_Biological_Process_2018 when cutoff = 0.05\n",
      "2020-01-16 18:46:53,856 Warning: No enrich terms using library GO_Cellular_Component_2018 when cutoff = 0.05\n",
      "2020-01-16 18:46:56,325 Warning: No enrich terms using library Human_Phenotype_Ontology when cutoff = 0.05\n",
      "2020-01-16 18:46:58,797 Warning: No enrich terms using library WikiPathways_2019_Human when cutoff = 0.05\n",
      "2020-01-16 18:46:58,806 Warning: No enrich terms using library CUSTOM140471930783928 when cutoff = 0.05\n"
     ]
    },
    {
     "name": "stdout",
     "output_type": "stream",
     "text": [
      "                                       Term  Adjusted P-value  \\\n",
      "10                      KEGG_PRION_DISEASES          0.041857   \n",
      "14  REACTOME_TERMINAL_PATHWAY_OF_COMPLEMENT          0.019187   \n",
      "\n",
      "                 Gene_set  \n",
      "10  CUSTOM140471930782776  \n",
      "14  CUSTOM140471930782776  \n",
      "Topic 362\n"
     ]
    },
    {
     "name": "stderr",
     "output_type": "stream",
     "text": [
      "2020-01-16 18:47:01,748 Warning: No enrich terms using library GO_Molecular_Function_2018 when cutoff = 0.05\n",
      "2020-01-16 18:47:04,211 Warning: No enrich terms using library GO_Biological_Process_2018 when cutoff = 0.05\n",
      "2020-01-16 18:47:06,678 Warning: No enrich terms using library GO_Cellular_Component_2018 when cutoff = 0.05\n",
      "2020-01-16 18:47:09,148 Warning: No enrich terms using library Human_Phenotype_Ontology when cutoff = 0.05\n",
      "2020-01-16 18:47:11,616 Warning: No enrich terms using library WikiPathways_2019_Human when cutoff = 0.05\n"
     ]
    },
    {
     "name": "stdout",
     "output_type": "stream",
     "text": [
      "Empty DataFrame\n",
      "Columns: [Term, Adjusted P-value, Gene_set]\n",
      "Index: []\n",
      "Topic 363\n"
     ]
    },
    {
     "name": "stderr",
     "output_type": "stream",
     "text": [
      "2020-01-16 18:47:14,448 Warning: No enrich terms using library GO_Molecular_Function_2018 when cutoff = 0.05\n",
      "2020-01-16 18:47:16,917 Warning: No enrich terms using library GO_Biological_Process_2018 when cutoff = 0.05\n",
      "2020-01-16 18:47:19,384 Warning: No enrich terms using library GO_Cellular_Component_2018 when cutoff = 0.05\n",
      "2020-01-16 18:47:21,850 Warning: No enrich terms using library Human_Phenotype_Ontology when cutoff = 0.05\n",
      "2020-01-16 18:47:24,314 Warning: No enrich terms using library WikiPathways_2019_Human when cutoff = 0.05\n",
      "2020-01-16 18:47:24,322 Warning: No enrich terms using library CUSTOM140471921209416 when cutoff = 0.05\n",
      "2020-01-16 18:47:24,339 Warning: No enrich terms using library CUSTOM140471921211432 when cutoff = 0.05\n"
     ]
    },
    {
     "name": "stdout",
     "output_type": "stream",
     "text": [
      "Empty DataFrame\n",
      "Columns: [Term, Adjusted P-value, Gene_set]\n",
      "Index: []\n",
      "Topic 364\n"
     ]
    },
    {
     "name": "stderr",
     "output_type": "stream",
     "text": [
      "2020-01-16 18:47:27,168 Warning: No enrich terms using library GO_Molecular_Function_2018 when cutoff = 0.05\n",
      "2020-01-16 18:47:29,638 Warning: No enrich terms using library GO_Biological_Process_2018 when cutoff = 0.05\n",
      "2020-01-16 18:47:32,104 Warning: No enrich terms using library GO_Cellular_Component_2018 when cutoff = 0.05\n",
      "2020-01-16 18:47:34,574 Warning: No enrich terms using library Human_Phenotype_Ontology when cutoff = 0.05\n",
      "2020-01-16 18:47:37,040 Warning: No enrich terms using library WikiPathways_2019_Human when cutoff = 0.05\n",
      "2020-01-16 18:47:37,047 Warning: No enrich terms using library CUSTOM140471919756848 when cutoff = 0.05\n"
     ]
    },
    {
     "name": "stdout",
     "output_type": "stream",
     "text": [
      "Empty DataFrame\n",
      "Columns: [Term, Adjusted P-value, Gene_set]\n",
      "Index: []\n",
      "Topic 365\n"
     ]
    },
    {
     "name": "stderr",
     "output_type": "stream",
     "text": [
      "2020-01-16 18:47:39,891 Warning: No enrich terms using library GO_Molecular_Function_2018 when cutoff = 0.05\n",
      "2020-01-16 18:47:42,367 Warning: No enrich terms using library GO_Biological_Process_2018 when cutoff = 0.05\n",
      "2020-01-16 18:47:44,834 Warning: No enrich terms using library GO_Cellular_Component_2018 when cutoff = 0.05\n",
      "2020-01-16 18:47:47,295 Warning: No enrich terms using library Human_Phenotype_Ontology when cutoff = 0.05\n",
      "2020-01-16 18:47:49,768 Warning: No enrich terms using library WikiPathways_2019_Human when cutoff = 0.05\n",
      "2020-01-16 18:47:49,776 Warning: No enrich terms using library CUSTOM140471919830072 when cutoff = 0.05\n",
      "2020-01-16 18:47:49,795 Warning: No enrich terms using library CUSTOM140471919832304 when cutoff = 0.05\n"
     ]
    },
    {
     "name": "stdout",
     "output_type": "stream",
     "text": [
      "Empty DataFrame\n",
      "Columns: [Term, Adjusted P-value, Gene_set]\n",
      "Index: []\n",
      "Topic 366\n"
     ]
    },
    {
     "name": "stderr",
     "output_type": "stream",
     "text": [
      "2020-01-16 18:47:52,616 Warning: No enrich terms using library GO_Molecular_Function_2018 when cutoff = 0.05\n",
      "2020-01-16 18:47:55,082 Warning: No enrich terms using library GO_Biological_Process_2018 when cutoff = 0.05\n",
      "2020-01-16 18:47:57,561 Warning: No enrich terms using library GO_Cellular_Component_2018 when cutoff = 0.05\n",
      "2020-01-16 18:48:00,038 Warning: No enrich terms using library Human_Phenotype_Ontology when cutoff = 0.05\n",
      "2020-01-16 18:48:02,501 Warning: No enrich terms using library WikiPathways_2019_Human when cutoff = 0.05\n",
      "2020-01-16 18:48:02,510 Warning: No enrich terms using library CUSTOM140472022308760 when cutoff = 0.05\n"
     ]
    },
    {
     "name": "stdout",
     "output_type": "stream",
     "text": [
      "                                                 Term  Adjusted P-value  \\\n",
      "58                   REACTOME_CELL_CELL_COMMUNICATION          0.039569   \n",
      "60                REACTOME_CELL_JUNCTION_ORGANIZATION          0.039569   \n",
      "73  REACTOME_SYNTHESIS_OF_12_EICOSATETRAENOIC_ACID...          0.041950   \n",
      "74  REACTOME_SYNTHESIS_OF_15_EICOSATETRAENOIC_ACID...          0.041950   \n",
      "75     REACTOME_SYNTHESIS_OF_5_EICOSATETRAENOIC_ACIDS          0.043131   \n",
      "79             REACTOME_TYPE_I_HEMIDESMOSOME_ASSEMBLY          0.043912   \n",
      "\n",
      "                 Gene_set  \n",
      "58  CUSTOM140472022310344  \n",
      "60  CUSTOM140472022310344  \n",
      "73  CUSTOM140472022310344  \n",
      "74  CUSTOM140472022310344  \n",
      "75  CUSTOM140472022310344  \n",
      "79  CUSTOM140472022310344  \n",
      "Topic 367\n"
     ]
    },
    {
     "name": "stderr",
     "output_type": "stream",
     "text": [
      "2020-01-16 18:48:05,483 Warning: No enrich terms using library GO_Molecular_Function_2018 when cutoff = 0.05\n",
      "2020-01-16 18:48:10,520 Warning: No enrich terms using library GO_Cellular_Component_2018 when cutoff = 0.05\n",
      "2020-01-16 18:48:12,995 Warning: No enrich terms using library Human_Phenotype_Ontology when cutoff = 0.05\n",
      "2020-01-16 18:48:15,465 Warning: No enrich terms using library WikiPathways_2019_Human when cutoff = 0.05\n",
      "2020-01-16 18:48:15,486 Warning: No enrich terms using library CUSTOM140472023554448 when cutoff = 0.05\n"
     ]
    },
    {
     "name": "stdout",
     "output_type": "stream",
     "text": [
      "                                                 Term  Adjusted P-value  \\\n",
      "11  activation of phospholipase C activity (GO:000...          0.035316   \n",
      "12  positive regulation of phospholipase C activit...          0.033235   \n",
      "\n",
      "                      Gene_set  \n",
      "11  GO_Biological_Process_2018  \n",
      "12  GO_Biological_Process_2018  \n",
      "Topic 368\n"
     ]
    },
    {
     "name": "stderr",
     "output_type": "stream",
     "text": [
      "2020-01-16 18:48:18,552 Warning: No enrich terms using library GO_Molecular_Function_2018 when cutoff = 0.05\n",
      "2020-01-16 18:48:21,028 Warning: No enrich terms using library GO_Biological_Process_2018 when cutoff = 0.05\n",
      "2020-01-16 18:48:23,491 Warning: No enrich terms using library GO_Cellular_Component_2018 when cutoff = 0.05\n",
      "2020-01-16 18:48:25,958 Warning: No enrich terms using library Human_Phenotype_Ontology when cutoff = 0.05\n",
      "2020-01-16 18:48:28,426 Warning: No enrich terms using library WikiPathways_2019_Human when cutoff = 0.05\n"
     ]
    },
    {
     "name": "stdout",
     "output_type": "stream",
     "text": [
      "                                         Term  Adjusted P-value  \\\n",
      "0                        HALLMARK_COAGULATION              0.04   \n",
      "1                         HALLMARK_COMPLEMENT              0.04   \n",
      "2  HALLMARK_EPITHELIAL_MESENCHYMAL_TRANSITION              0.04   \n",
      "3             HALLMARK_ESTROGEN_RESPONSE_LATE              0.04   \n",
      "\n",
      "                Gene_set  \n",
      "0  CUSTOM140471949511776  \n",
      "1  CUSTOM140471949511776  \n",
      "2  CUSTOM140471949511776  \n",
      "3  CUSTOM140471949511776  \n",
      "Topic 369\n"
     ]
    },
    {
     "name": "stderr",
     "output_type": "stream",
     "text": [
      "2020-01-16 18:48:31,394 Warning: No enrich terms using library GO_Molecular_Function_2018 when cutoff = 0.05\n",
      "2020-01-16 18:48:33,868 Warning: No enrich terms using library GO_Biological_Process_2018 when cutoff = 0.05\n",
      "2020-01-16 18:48:36,328 Warning: No enrich terms using library GO_Cellular_Component_2018 when cutoff = 0.05\n",
      "2020-01-16 18:48:38,801 Warning: No enrich terms using library Human_Phenotype_Ontology when cutoff = 0.05\n",
      "2020-01-16 18:48:41,275 Warning: No enrich terms using library WikiPathways_2019_Human when cutoff = 0.05\n",
      "2020-01-16 18:48:41,294 Warning: No enrich terms using library CUSTOM140471921122904 when cutoff = 0.05\n"
     ]
    },
    {
     "name": "stdout",
     "output_type": "stream",
     "text": [
      "Empty DataFrame\n",
      "Columns: [Term, Adjusted P-value, Gene_set]\n",
      "Index: []\n",
      "Topic 370\n"
     ]
    },
    {
     "name": "stderr",
     "output_type": "stream",
     "text": [
      "2020-01-16 18:48:44,129 Warning: No enrich terms using library GO_Molecular_Function_2018 when cutoff = 0.05\n",
      "2020-01-16 18:48:46,601 Warning: No enrich terms using library GO_Biological_Process_2018 when cutoff = 0.05\n",
      "2020-01-16 18:48:49,071 Warning: No enrich terms using library GO_Cellular_Component_2018 when cutoff = 0.05\n",
      "2020-01-16 18:48:51,529 Warning: No enrich terms using library Human_Phenotype_Ontology when cutoff = 0.05\n",
      "2020-01-16 18:48:54,020 Warning: No enrich terms using library WikiPathways_2019_Human when cutoff = 0.05\n"
     ]
    },
    {
     "name": "stdout",
     "output_type": "stream",
     "text": [
      "                                        Term  Adjusted P-value  \\\n",
      "5  KEGG_MATURITY_ONSET_DIABETES_OF_THE_YOUNG             0.005   \n",
      "\n",
      "                Gene_set  \n",
      "5  CUSTOM140471876015160  \n",
      "Topic 371\n"
     ]
    },
    {
     "name": "stderr",
     "output_type": "stream",
     "text": [
      "2020-01-16 18:48:57,019 Warning: No enrich terms using library GO_Molecular_Function_2018 when cutoff = 0.05\n",
      "2020-01-16 18:48:59,493 Warning: No enrich terms using library GO_Biological_Process_2018 when cutoff = 0.05\n",
      "2020-01-16 18:49:01,951 Warning: No enrich terms using library GO_Cellular_Component_2018 when cutoff = 0.05\n",
      "2020-01-16 18:49:04,431 Warning: No enrich terms using library Human_Phenotype_Ontology when cutoff = 0.05\n",
      "2020-01-16 18:49:06,891 Warning: No enrich terms using library WikiPathways_2019_Human when cutoff = 0.05\n",
      "2020-01-16 18:49:06,899 Warning: No enrich terms using library CUSTOM140472021802728 when cutoff = 0.05\n"
     ]
    },
    {
     "name": "stdout",
     "output_type": "stream",
     "text": [
      "Empty DataFrame\n",
      "Columns: [Term, Adjusted P-value, Gene_set]\n",
      "Index: []\n",
      "Topic 372\n"
     ]
    },
    {
     "name": "stderr",
     "output_type": "stream",
     "text": [
      "2020-01-16 18:49:09,743 Warning: No enrich terms using library GO_Molecular_Function_2018 when cutoff = 0.05\n",
      "2020-01-16 18:49:12,213 Warning: No enrich terms using library GO_Biological_Process_2018 when cutoff = 0.05\n",
      "2020-01-16 18:49:14,677 Warning: No enrich terms using library GO_Cellular_Component_2018 when cutoff = 0.05\n",
      "2020-01-16 18:49:17,154 Warning: No enrich terms using library Human_Phenotype_Ontology when cutoff = 0.05\n",
      "2020-01-16 18:49:19,613 Warning: No enrich terms using library WikiPathways_2019_Human when cutoff = 0.05\n",
      "2020-01-16 18:49:19,637 Warning: No enrich terms using library CUSTOM140471949511992 when cutoff = 0.05\n"
     ]
    },
    {
     "name": "stdout",
     "output_type": "stream",
     "text": [
      "Empty DataFrame\n",
      "Columns: [Term, Adjusted P-value, Gene_set]\n",
      "Index: []\n",
      "Topic 373\n"
     ]
    },
    {
     "name": "stderr",
     "output_type": "stream",
     "text": [
      "2020-01-16 18:49:22,477 Warning: No enrich terms using library GO_Molecular_Function_2018 when cutoff = 0.05\n",
      "2020-01-16 18:49:24,948 Warning: No enrich terms using library GO_Biological_Process_2018 when cutoff = 0.05\n",
      "2020-01-16 18:49:27,414 Warning: No enrich terms using library GO_Cellular_Component_2018 when cutoff = 0.05\n",
      "2020-01-16 18:49:29,885 Warning: No enrich terms using library Human_Phenotype_Ontology when cutoff = 0.05\n",
      "2020-01-16 18:49:32,358 Warning: No enrich terms using library WikiPathways_2019_Human when cutoff = 0.05\n"
     ]
    },
    {
     "name": "stdout",
     "output_type": "stream",
     "text": [
      "                                                 Term  Adjusted P-value  \\\n",
      "46                         BIOCARTA_NUCLEARRS_PATHWAY          0.033888   \n",
      "47               KEGG_DRUG_METABOLISM_CYTOCHROME_P450          0.040851   \n",
      "48                 KEGG_DRUG_METABOLISM_OTHER_ENZYMES          0.040851   \n",
      "49                      KEGG_LINOLEIC_ACID_METABOLISM          0.033888   \n",
      "50  KEGG_METABOLISM_OF_XENOBIOTICS_BY_CYTOCHROME_P450          0.040851   \n",
      "51                            KEGG_RETINOL_METABOLISM          0.040851   \n",
      "52                  KEGG_STEROID_HORMONE_BIOSYNTHESIS          0.040851   \n",
      "53   REACTOME_AFLATOXIN_ACTIVATION_AND_DETOXIFICATION          0.033888   \n",
      "54  REACTOME_AMINO_ACID_TRANSPORT_ACROSS_THE_PLASM...          0.033888   \n",
      "56                  REACTOME_BIOSYNTHESIS_OF_MARESINS          0.031978   \n",
      "57         REACTOME_BIOSYNTHESIS_OF_MARESIN_LIKE_SPMS          0.031978   \n",
      "58  REACTOME_BIOSYNTHESIS_OF_SPECIALIZED_PRORESOLV...          0.033888   \n",
      "59  REACTOME_CYTOCHROME_P450_ARRANGED_BY_SUBSTRATE...          0.040851   \n",
      "65                               REACTOME_XENOBIOTICS          0.033888   \n",
      "\n",
      "                 Gene_set  \n",
      "46  CUSTOM140471949503224  \n",
      "47  CUSTOM140471949503224  \n",
      "48  CUSTOM140471949503224  \n",
      "49  CUSTOM140471949503224  \n",
      "50  CUSTOM140471949503224  \n",
      "51  CUSTOM140471949503224  \n",
      "52  CUSTOM140471949503224  \n",
      "53  CUSTOM140471949503224  \n",
      "54  CUSTOM140471949503224  \n",
      "56  CUSTOM140471949503224  \n",
      "57  CUSTOM140471949503224  \n",
      "58  CUSTOM140471949503224  \n",
      "59  CUSTOM140471949503224  \n",
      "65  CUSTOM140471949503224  \n",
      "Topic 374\n"
     ]
    },
    {
     "name": "stderr",
     "output_type": "stream",
     "text": [
      "2020-01-16 18:49:35,292 Warning: No enrich terms using library GO_Molecular_Function_2018 when cutoff = 0.05\n",
      "2020-01-16 18:49:37,761 Warning: No enrich terms using library GO_Biological_Process_2018 when cutoff = 0.05\n",
      "2020-01-16 18:49:40,225 Warning: No enrich terms using library GO_Cellular_Component_2018 when cutoff = 0.05\n"
     ]
    },
    {
     "name": "stdout",
     "output_type": "stream",
     "text": [
      "<class 'requests.exceptions.ConnectionError'> ('Connection aborted.', ConnectionResetError(104, 'Connection reset by peer')) <traceback object at 0x7fc2297765c8>\n",
      "                                                 Term  Adjusted P-value  \\\n",
      "46                         BIOCARTA_NUCLEARRS_PATHWAY          0.033888   \n",
      "47               KEGG_DRUG_METABOLISM_CYTOCHROME_P450          0.040851   \n",
      "48                 KEGG_DRUG_METABOLISM_OTHER_ENZYMES          0.040851   \n",
      "49                      KEGG_LINOLEIC_ACID_METABOLISM          0.033888   \n",
      "50  KEGG_METABOLISM_OF_XENOBIOTICS_BY_CYTOCHROME_P450          0.040851   \n",
      "51                            KEGG_RETINOL_METABOLISM          0.040851   \n",
      "52                  KEGG_STEROID_HORMONE_BIOSYNTHESIS          0.040851   \n",
      "53   REACTOME_AFLATOXIN_ACTIVATION_AND_DETOXIFICATION          0.033888   \n",
      "54  REACTOME_AMINO_ACID_TRANSPORT_ACROSS_THE_PLASM...          0.033888   \n",
      "56                  REACTOME_BIOSYNTHESIS_OF_MARESINS          0.031978   \n",
      "57         REACTOME_BIOSYNTHESIS_OF_MARESIN_LIKE_SPMS          0.031978   \n",
      "58  REACTOME_BIOSYNTHESIS_OF_SPECIALIZED_PRORESOLV...          0.033888   \n",
      "59  REACTOME_CYTOCHROME_P450_ARRANGED_BY_SUBSTRATE...          0.040851   \n",
      "65                               REACTOME_XENOBIOTICS          0.033888   \n",
      "\n",
      "                 Gene_set  \n",
      "46  CUSTOM140471949503224  \n",
      "47  CUSTOM140471949503224  \n",
      "48  CUSTOM140471949503224  \n",
      "49  CUSTOM140471949503224  \n",
      "50  CUSTOM140471949503224  \n",
      "51  CUSTOM140471949503224  \n",
      "52  CUSTOM140471949503224  \n",
      "53  CUSTOM140471949503224  \n",
      "54  CUSTOM140471949503224  \n",
      "56  CUSTOM140471949503224  \n",
      "57  CUSTOM140471949503224  \n",
      "58  CUSTOM140471949503224  \n",
      "59  CUSTOM140471949503224  \n",
      "65  CUSTOM140471949503224  \n",
      "Topic 375\n"
     ]
    },
    {
     "name": "stderr",
     "output_type": "stream",
     "text": [
      "2020-01-16 18:49:43,235 Warning: No enrich terms using library GO_Molecular_Function_2018 when cutoff = 0.05\n",
      "2020-01-16 18:49:45,711 Warning: No enrich terms using library GO_Biological_Process_2018 when cutoff = 0.05\n",
      "2020-01-16 18:49:48,173 Warning: No enrich terms using library GO_Cellular_Component_2018 when cutoff = 0.05\n",
      "2020-01-16 18:49:50,671 Warning: No enrich terms using library Human_Phenotype_Ontology when cutoff = 0.05\n",
      "2020-01-16 18:49:53,130 Warning: No enrich terms using library WikiPathways_2019_Human when cutoff = 0.05\n"
     ]
    },
    {
     "name": "stdout",
     "output_type": "stream",
     "text": [
      "                                              Term  Adjusted P-value  \\\n",
      "61              REACTOME_IRON_UPTAKE_AND_TRANSPORT          0.043056   \n",
      "63                REACTOME_RAB_GERANYLGERANYLATION          0.043056   \n",
      "64  REACTOME_TRANSFERRIN_ENDOCYTOSIS_AND_RECYCLING          0.043056   \n",
      "\n",
      "                 Gene_set  \n",
      "61  CUSTOM140472022680560  \n",
      "63  CUSTOM140472022680560  \n",
      "64  CUSTOM140472022680560  \n",
      "Topic 376\n"
     ]
    },
    {
     "name": "stderr",
     "output_type": "stream",
     "text": [
      "2020-01-16 18:49:56,057 Warning: No enrich terms using library GO_Molecular_Function_2018 when cutoff = 0.05\n",
      "2020-01-16 18:49:58,519 Warning: No enrich terms using library GO_Biological_Process_2018 when cutoff = 0.05\n",
      "2020-01-16 18:50:00,987 Warning: No enrich terms using library GO_Cellular_Component_2018 when cutoff = 0.05\n",
      "2020-01-16 18:50:03,457 Warning: No enrich terms using library Human_Phenotype_Ontology when cutoff = 0.05\n",
      "2020-01-16 18:50:05,923 Warning: No enrich terms using library WikiPathways_2019_Human when cutoff = 0.05\n"
     ]
    },
    {
     "name": "stdout",
     "output_type": "stream",
     "text": [
      "Empty DataFrame\n",
      "Columns: [Term, Adjusted P-value, Gene_set]\n",
      "Index: []\n",
      "Topic 377\n"
     ]
    },
    {
     "name": "stderr",
     "output_type": "stream",
     "text": [
      "2020-01-16 18:50:08,809 Warning: No enrich terms using library GO_Molecular_Function_2018 when cutoff = 0.05\n",
      "2020-01-16 18:50:11,273 Warning: No enrich terms using library GO_Biological_Process_2018 when cutoff = 0.05\n",
      "2020-01-16 18:50:13,764 Warning: No enrich terms using library GO_Cellular_Component_2018 when cutoff = 0.05\n",
      "2020-01-16 18:50:16,235 Warning: No enrich terms using library Human_Phenotype_Ontology when cutoff = 0.05\n",
      "2020-01-16 18:50:18,700 Warning: No enrich terms using library WikiPathways_2019_Human when cutoff = 0.05\n",
      "2020-01-16 18:50:18,709 Warning: No enrich terms using library CUSTOM140471920110328 when cutoff = 0.05\n",
      "2020-01-16 18:50:18,731 Warning: No enrich terms using library CUSTOM140471920111480 when cutoff = 0.05\n"
     ]
    },
    {
     "name": "stdout",
     "output_type": "stream",
     "text": [
      "Empty DataFrame\n",
      "Columns: [Term, Adjusted P-value, Gene_set]\n",
      "Index: []\n",
      "Topic 378\n"
     ]
    },
    {
     "name": "stderr",
     "output_type": "stream",
     "text": [
      "2020-01-16 18:50:21,577 Warning: No enrich terms using library GO_Molecular_Function_2018 when cutoff = 0.05\n",
      "2020-01-16 18:50:24,052 Warning: No enrich terms using library GO_Biological_Process_2018 when cutoff = 0.05\n",
      "2020-01-16 18:50:26,524 Warning: No enrich terms using library GO_Cellular_Component_2018 when cutoff = 0.05\n",
      "2020-01-16 18:50:28,988 Warning: No enrich terms using library Human_Phenotype_Ontology when cutoff = 0.05\n",
      "2020-01-16 18:50:31,444 Warning: No enrich terms using library WikiPathways_2019_Human when cutoff = 0.05\n",
      "2020-01-16 18:50:31,453 Warning: No enrich terms using library CUSTOM140472021053016 when cutoff = 0.05\n"
     ]
    },
    {
     "name": "stdout",
     "output_type": "stream",
     "text": [
      "                                           Term  Adjusted P-value  \\\n",
      "17                    KEGG_BUTANOATE_METABOLISM          0.036147   \n",
      "18         KEGG_FRUCTOSE_AND_MANNOSE_METABOLISM          0.036147   \n",
      "19                KEGG_LINOLEIC_ACID_METABOLISM          0.036147   \n",
      "21  REACTOME_METABOLISM_OF_FAT_SOLUBLE_VITAMINS          0.038219   \n",
      "\n",
      "                 Gene_set  \n",
      "17  CUSTOM140472021050928  \n",
      "18  CUSTOM140472021050928  \n",
      "19  CUSTOM140472021050928  \n",
      "21  CUSTOM140472021050928  \n",
      "Topic 379\n"
     ]
    },
    {
     "name": "stderr",
     "output_type": "stream",
     "text": [
      "2020-01-16 18:50:34,400 Warning: No enrich terms using library GO_Molecular_Function_2018 when cutoff = 0.05\n",
      "2020-01-16 18:50:36,868 Warning: No enrich terms using library GO_Biological_Process_2018 when cutoff = 0.05\n",
      "2020-01-16 18:50:39,333 Warning: No enrich terms using library GO_Cellular_Component_2018 when cutoff = 0.05\n",
      "2020-01-16 18:50:41,798 Warning: No enrich terms using library Human_Phenotype_Ontology when cutoff = 0.05\n",
      "2020-01-16 18:50:44,268 Warning: No enrich terms using library WikiPathways_2019_Human when cutoff = 0.05\n"
     ]
    },
    {
     "name": "stdout",
     "output_type": "stream",
     "text": [
      "                                          Term  Adjusted P-value  \\\n",
      "9                    KEGG_GALACTOSE_METABOLISM           0.00980   \n",
      "10          KEGG_STARCH_AND_SUCROSE_METABOLISM           0.01456   \n",
      "11                          REACTOME_DIGESTION           0.00980   \n",
      "12           REACTOME_DIGESTION_AND_ABSORPTION           0.00980   \n",
      "13  REACTOME_DIGESTION_OF_DIETARY_CARBOHYDRATE           0.00980   \n",
      "\n",
      "                 Gene_set  \n",
      "9   CUSTOM140471922561096  \n",
      "10  CUSTOM140471922561096  \n",
      "11  CUSTOM140471922561096  \n",
      "12  CUSTOM140471922561096  \n",
      "13  CUSTOM140471922561096  \n",
      "Topic 380\n"
     ]
    },
    {
     "name": "stderr",
     "output_type": "stream",
     "text": [
      "2020-01-16 18:50:47,224 Warning: No enrich terms using library GO_Molecular_Function_2018 when cutoff = 0.05\n",
      "2020-01-16 18:50:49,727 Warning: No enrich terms using library GO_Biological_Process_2018 when cutoff = 0.05\n",
      "2020-01-16 18:50:52,189 Warning: No enrich terms using library GO_Cellular_Component_2018 when cutoff = 0.05\n",
      "2020-01-16 18:50:54,681 Warning: No enrich terms using library Human_Phenotype_Ontology when cutoff = 0.05\n",
      "2020-01-16 18:50:57,173 Warning: No enrich terms using library WikiPathways_2019_Human when cutoff = 0.05\n",
      "2020-01-16 18:50:57,186 Warning: No enrich terms using library CUSTOM140471930460992 when cutoff = 0.05\n"
     ]
    },
    {
     "name": "stdout",
     "output_type": "stream",
     "text": [
      "                                                 Term  Adjusted P-value  \\\n",
      "65  REACTOME_MISCELLANEOUS_TRANSPORT_AND_BINDING_E...          0.031044   \n",
      "\n",
      "                 Gene_set  \n",
      "65  CUSTOM140471930459552  \n",
      "Topic 381\n"
     ]
    },
    {
     "name": "stderr",
     "output_type": "stream",
     "text": [
      "2020-01-16 18:51:00,078 Warning: No enrich terms using library GO_Molecular_Function_2018 when cutoff = 0.05\n",
      "2020-01-16 18:51:02,551 Warning: No enrich terms using library GO_Biological_Process_2018 when cutoff = 0.05\n",
      "2020-01-16 18:51:05,010 Warning: No enrich terms using library GO_Cellular_Component_2018 when cutoff = 0.05\n",
      "2020-01-16 18:51:07,470 Warning: No enrich terms using library Human_Phenotype_Ontology when cutoff = 0.05\n",
      "2020-01-16 18:51:09,939 Warning: No enrich terms using library WikiPathways_2019_Human when cutoff = 0.05\n",
      "2020-01-16 18:51:09,963 Warning: No enrich terms using library CUSTOM140471881298352 when cutoff = 0.05\n"
     ]
    },
    {
     "name": "stdout",
     "output_type": "stream",
     "text": [
      "Empty DataFrame\n",
      "Columns: [Term, Adjusted P-value, Gene_set]\n",
      "Index: []\n",
      "Topic 382\n"
     ]
    },
    {
     "name": "stderr",
     "output_type": "stream",
     "text": [
      "2020-01-16 18:51:12,784 Warning: No enrich terms using library GO_Molecular_Function_2018 when cutoff = 0.05\n",
      "2020-01-16 18:51:15,253 Warning: No enrich terms using library GO_Biological_Process_2018 when cutoff = 0.05\n",
      "2020-01-16 18:51:17,952 Warning: No enrich terms using library GO_Cellular_Component_2018 when cutoff = 0.05\n",
      "2020-01-16 18:51:20,423 Warning: No enrich terms using library Human_Phenotype_Ontology when cutoff = 0.05\n",
      "2020-01-16 18:51:22,893 Warning: No enrich terms using library WikiPathways_2019_Human when cutoff = 0.05\n"
     ]
    },
    {
     "name": "stdout",
     "output_type": "stream",
     "text": [
      "                                               Term  Adjusted P-value  \\\n",
      "46             KEGG_ARGININE_AND_PROLINE_METABOLISM           0.02520   \n",
      "47                        KEGG_HISTIDINE_METABOLISM           0.02520   \n",
      "48                       KEGG_TRYPTOPHAN_METABOLISM           0.02520   \n",
      "52  REACTOME_PHASE_I_FUNCTIONALIZATION_OF_COMPOUNDS           0.03675   \n",
      "\n",
      "                 Gene_set  \n",
      "46  CUSTOM140471877200416  \n",
      "47  CUSTOM140471877200416  \n",
      "48  CUSTOM140471877200416  \n",
      "52  CUSTOM140471877200416  \n",
      "Topic 383\n"
     ]
    },
    {
     "name": "stderr",
     "output_type": "stream",
     "text": [
      "2020-01-16 18:51:25,860 Warning: No enrich terms using library GO_Molecular_Function_2018 when cutoff = 0.05\n",
      "2020-01-16 18:51:28,355 Warning: No enrich terms using library GO_Biological_Process_2018 when cutoff = 0.05\n",
      "2020-01-16 18:51:30,826 Warning: No enrich terms using library GO_Cellular_Component_2018 when cutoff = 0.05\n",
      "2020-01-16 18:51:33,301 Warning: No enrich terms using library Human_Phenotype_Ontology when cutoff = 0.05\n",
      "2020-01-16 18:51:35,774 Warning: No enrich terms using library WikiPathways_2019_Human when cutoff = 0.05\n",
      "2020-01-16 18:51:35,783 Warning: No enrich terms using library CUSTOM140471930799808 when cutoff = 0.05\n",
      "2020-01-16 18:51:35,802 Warning: No enrich terms using library CUSTOM140471912245792 when cutoff = 0.05\n"
     ]
    },
    {
     "name": "stdout",
     "output_type": "stream",
     "text": [
      "Empty DataFrame\n",
      "Columns: [Term, Adjusted P-value, Gene_set]\n",
      "Index: []\n",
      "Topic 384\n"
     ]
    },
    {
     "name": "stderr",
     "output_type": "stream",
     "text": [
      "2020-01-16 18:51:38,634 Warning: No enrich terms using library GO_Molecular_Function_2018 when cutoff = 0.05\n",
      "2020-01-16 18:51:41,106 Warning: No enrich terms using library GO_Biological_Process_2018 when cutoff = 0.05\n",
      "2020-01-16 18:51:43,570 Warning: No enrich terms using library GO_Cellular_Component_2018 when cutoff = 0.05\n",
      "2020-01-16 18:51:46,040 Warning: No enrich terms using library Human_Phenotype_Ontology when cutoff = 0.05\n",
      "2020-01-16 18:51:48,528 Warning: No enrich terms using library WikiPathways_2019_Human when cutoff = 0.05\n"
     ]
    },
    {
     "name": "stdout",
     "output_type": "stream",
     "text": [
      "Empty DataFrame\n",
      "Columns: [Term, Adjusted P-value, Gene_set]\n",
      "Index: []\n",
      "Topic 385\n"
     ]
    },
    {
     "name": "stderr",
     "output_type": "stream",
     "text": [
      "2020-01-16 18:51:51,396 Warning: No enrich terms using library GO_Molecular_Function_2018 when cutoff = 0.05\n",
      "2020-01-16 18:51:53,878 Warning: No enrich terms using library GO_Biological_Process_2018 when cutoff = 0.05\n",
      "2020-01-16 18:51:56,342 Warning: No enrich terms using library GO_Cellular_Component_2018 when cutoff = 0.05\n",
      "2020-01-16 18:51:58,815 Warning: No enrich terms using library Human_Phenotype_Ontology when cutoff = 0.05\n",
      "2020-01-16 18:52:01,299 Warning: No enrich terms using library WikiPathways_2019_Human when cutoff = 0.05\n"
     ]
    },
    {
     "name": "stdout",
     "output_type": "stream",
     "text": [
      "                           Term  Adjusted P-value               Gene_set\n",
      "97   HALLMARK_ANDROGEN_RESPONSE          0.020000  CUSTOM140471953264432\n",
      "99         KEGG_PROSTATE_CANCER          0.023733  CUSTOM140472023599864\n",
      "100              PID_AR_PATHWAY          0.023733  CUSTOM140472023599864\n",
      "101           PID_HNF3A_PATHWAY          0.023733  CUSTOM140472023599864\n",
      "Topic 386\n"
     ]
    },
    {
     "name": "stderr",
     "output_type": "stream",
     "text": [
      "2020-01-16 18:52:04,311 Warning: No enrich terms using library GO_Molecular_Function_2018 when cutoff = 0.05\n",
      "2020-01-16 18:52:06,763 Warning: No enrich terms using library GO_Biological_Process_2018 when cutoff = 0.05\n",
      "2020-01-16 18:52:09,247 Warning: No enrich terms using library GO_Cellular_Component_2018 when cutoff = 0.05\n",
      "2020-01-16 18:52:11,717 Warning: No enrich terms using library Human_Phenotype_Ontology when cutoff = 0.05\n",
      "2020-01-16 18:52:14,184 Warning: No enrich terms using library WikiPathways_2019_Human when cutoff = 0.05\n",
      "2020-01-16 18:52:14,192 Warning: No enrich terms using library CUSTOM140471946692216 when cutoff = 0.05\n",
      "2020-01-16 18:52:14,211 Warning: No enrich terms using library CUSTOM140471946691568 when cutoff = 0.05\n"
     ]
    },
    {
     "name": "stdout",
     "output_type": "stream",
     "text": [
      "Empty DataFrame\n",
      "Columns: [Term, Adjusted P-value, Gene_set]\n",
      "Index: []\n",
      "Topic 387\n"
     ]
    },
    {
     "name": "stderr",
     "output_type": "stream",
     "text": [
      "2020-01-16 18:52:17,069 Warning: No enrich terms using library GO_Molecular_Function_2018 when cutoff = 0.05\n",
      "2020-01-16 18:52:19,548 Warning: No enrich terms using library GO_Biological_Process_2018 when cutoff = 0.05\n",
      "2020-01-16 18:52:22,011 Warning: No enrich terms using library GO_Cellular_Component_2018 when cutoff = 0.05\n",
      "2020-01-16 18:52:24,482 Warning: No enrich terms using library Human_Phenotype_Ontology when cutoff = 0.05\n",
      "2020-01-16 18:52:26,953 Warning: No enrich terms using library WikiPathways_2019_Human when cutoff = 0.05\n",
      "2020-01-16 18:52:27,071 Warning: No enrich terms using library CUSTOM140471869428504 when cutoff = 0.05\n"
     ]
    },
    {
     "name": "stdout",
     "output_type": "stream",
     "text": [
      "                            Term  Adjusted P-value               Gene_set\n",
      "97  HALLMARK_PANCREAS_BETA_CELLS          0.047073  CUSTOM140471869428720\n",
      "Topic 388\n"
     ]
    },
    {
     "name": "stderr",
     "output_type": "stream",
     "text": [
      "2020-01-16 18:52:29,894 Warning: No enrich terms using library GO_Molecular_Function_2018 when cutoff = 0.05\n",
      "2020-01-16 18:52:32,368 Warning: No enrich terms using library GO_Biological_Process_2018 when cutoff = 0.05\n",
      "2020-01-16 18:52:34,845 Warning: No enrich terms using library GO_Cellular_Component_2018 when cutoff = 0.05\n",
      "2020-01-16 18:52:37,312 Warning: No enrich terms using library Human_Phenotype_Ontology when cutoff = 0.05\n",
      "2020-01-16 18:52:39,774 Warning: No enrich terms using library WikiPathways_2019_Human when cutoff = 0.05\n",
      "2020-01-16 18:52:39,781 Warning: No enrich terms using library CUSTOM140472023377888 when cutoff = 0.05\n"
     ]
    },
    {
     "name": "stdout",
     "output_type": "stream",
     "text": [
      "                                       Term  Adjusted P-value  \\\n",
      "29   REACTOME_CARGO_CONCENTRATION_IN_THE_ER          0.049702   \n",
      "34  REACTOME_METABOLISM_OF_STEROID_HORMONES          0.049702   \n",
      "36       REACTOME_PREGNENOLONE_BIOSYNTHESIS          0.049702   \n",
      "\n",
      "                 Gene_set  \n",
      "29  CUSTOM140471921088048  \n",
      "34  CUSTOM140471921088048  \n",
      "36  CUSTOM140471921088048  \n",
      "Topic 389\n",
      "<class 'Exception'> Error analyzing gene list <traceback object at 0x7fc227f23bc8>\n",
      "                                       Term  Adjusted P-value  \\\n",
      "29   REACTOME_CARGO_CONCENTRATION_IN_THE_ER          0.049702   \n",
      "34  REACTOME_METABOLISM_OF_STEROID_HORMONES          0.049702   \n",
      "36       REACTOME_PREGNENOLONE_BIOSYNTHESIS          0.049702   \n",
      "\n",
      "                 Gene_set  \n",
      "29  CUSTOM140471921088048  \n",
      "34  CUSTOM140471921088048  \n",
      "36  CUSTOM140471921088048  \n",
      "Topic 390\n"
     ]
    },
    {
     "name": "stderr",
     "output_type": "stream",
     "text": [
      "2020-01-16 18:52:43,259 Warning: No enrich terms using library GO_Molecular_Function_2018 when cutoff = 0.05\n",
      "2020-01-16 18:52:45,729 Warning: No enrich terms using library GO_Biological_Process_2018 when cutoff = 0.05\n",
      "2020-01-16 18:52:48,200 Warning: No enrich terms using library GO_Cellular_Component_2018 when cutoff = 0.05\n",
      "2020-01-16 18:52:50,670 Warning: No enrich terms using library Human_Phenotype_Ontology when cutoff = 0.05\n",
      "2020-01-16 18:52:53,136 Warning: No enrich terms using library WikiPathways_2019_Human when cutoff = 0.05\n"
     ]
    },
    {
     "name": "stdout",
     "output_type": "stream",
     "text": [
      "                                                 Term  Adjusted P-value  \\\n",
      "9                            HALLMARK_HEME_METABOLISM          0.040000   \n",
      "10                           KEGG_NITROGEN_METABOLISM          0.012650   \n",
      "11                                   PID_CMYB_PATHWAY          0.023100   \n",
      "13  REACTOME_ERYTHROCYTES_TAKE_UP_OXYGEN_AND_RELEA...          0.009533   \n",
      "14  REACTOME_GENE_AND_PROTEIN_EXPRESSION_BY_JAK_ST...          0.016720   \n",
      "15           REACTOME_INTERLEUKIN_12_FAMILY_SIGNALING          0.017914   \n",
      "16                  REACTOME_INTERLEUKIN_12_SIGNALING          0.017233   \n",
      "17           REACTOME_O2_CO2_EXCHANGE_IN_ERYTHROCYTES          0.009533   \n",
      "18    REACTOME_REVERSIBLE_HYDRATION_OF_CARBON_DIOXIDE          0.009533   \n",
      "\n",
      "                 Gene_set  \n",
      "9   CUSTOM140471920471712  \n",
      "10  CUSTOM140471920470128  \n",
      "11  CUSTOM140471920470128  \n",
      "13  CUSTOM140471920470128  \n",
      "14  CUSTOM140471920470128  \n",
      "15  CUSTOM140471920470128  \n",
      "16  CUSTOM140471920470128  \n",
      "17  CUSTOM140471920470128  \n",
      "18  CUSTOM140471920470128  \n",
      "Topic 391\n"
     ]
    },
    {
     "name": "stderr",
     "output_type": "stream",
     "text": [
      "2020-01-16 18:52:56,272 Warning: No enrich terms using library GO_Molecular_Function_2018 when cutoff = 0.05\n",
      "2020-01-16 18:53:01,313 Warning: No enrich terms using library GO_Cellular_Component_2018 when cutoff = 0.05\n",
      "2020-01-16 18:53:03,788 Warning: No enrich terms using library Human_Phenotype_Ontology when cutoff = 0.05\n"
     ]
    },
    {
     "name": "stdout",
     "output_type": "stream",
     "text": [
      "                                                Term  Adjusted P-value  \\\n",
      "14                   muscle contraction (GO:0006936)          0.006386   \n",
      "16              muscle filament sliding (GO:0030049)          0.035788   \n",
      "17                    heart contraction (GO:0060047)          0.036104   \n",
      "18                   myofibril assembly (GO:0030239)          0.032999   \n",
      "115        Striated Muscle Contraction Pathway WP383          0.009931   \n",
      "121                              HALLMARK_MYOGENESIS          0.000735   \n",
      "125                         KEGG_NITROGEN_METABOLISM          0.041127   \n",
      "126                      REACTOME_MUSCLE_CONTRACTION          0.029055   \n",
      "129  REACTOME_REVERSIBLE_HYDRATION_OF_CARBON_DIOXIDE          0.029055   \n",
      "130             REACTOME_STRIATED_MUSCLE_CONTRACTION          0.002698   \n",
      "\n",
      "                       Gene_set  \n",
      "14   GO_Biological_Process_2018  \n",
      "16   GO_Biological_Process_2018  \n",
      "17   GO_Biological_Process_2018  \n",
      "18   GO_Biological_Process_2018  \n",
      "115     WikiPathways_2019_Human  \n",
      "121       CUSTOM140471915186000  \n",
      "125       CUSTOM140471915184200  \n",
      "126       CUSTOM140471915184200  \n",
      "129       CUSTOM140471915184200  \n",
      "130       CUSTOM140471915184200  \n",
      "Topic 392\n"
     ]
    },
    {
     "name": "stderr",
     "output_type": "stream",
     "text": [
      "2020-01-16 18:53:09,360 Warning: No enrich terms using library GO_Molecular_Function_2018 when cutoff = 0.05\n",
      "2020-01-16 18:53:11,882 Warning: No enrich terms using library GO_Biological_Process_2018 when cutoff = 0.05\n",
      "2020-01-16 18:53:14,349 Warning: No enrich terms using library GO_Cellular_Component_2018 when cutoff = 0.05\n",
      "2020-01-16 18:53:16,817 Warning: No enrich terms using library Human_Phenotype_Ontology when cutoff = 0.05\n",
      "2020-01-16 18:53:19,284 Warning: No enrich terms using library WikiPathways_2019_Human when cutoff = 0.05\n",
      "2020-01-16 18:53:19,305 Warning: No enrich terms using library CUSTOM140471968543080 when cutoff = 0.05\n"
     ]
    },
    {
     "name": "stdout",
     "output_type": "stream",
     "text": [
      "Empty DataFrame\n",
      "Columns: [Term, Adjusted P-value, Gene_set]\n",
      "Index: []\n",
      "Topic 393\n"
     ]
    },
    {
     "name": "stderr",
     "output_type": "stream",
     "text": [
      "2020-01-16 18:53:22,119 Warning: No enrich terms using library GO_Molecular_Function_2018 when cutoff = 0.05\n",
      "2020-01-16 18:53:24,587 Warning: No enrich terms using library GO_Biological_Process_2018 when cutoff = 0.05\n",
      "2020-01-16 18:53:27,049 Warning: No enrich terms using library GO_Cellular_Component_2018 when cutoff = 0.05\n",
      "2020-01-16 18:53:29,512 Warning: No enrich terms using library Human_Phenotype_Ontology when cutoff = 0.05\n",
      "2020-01-16 18:53:31,988 Warning: No enrich terms using library WikiPathways_2019_Human when cutoff = 0.05\n"
     ]
    },
    {
     "name": "stdout",
     "output_type": "stream",
     "text": [
      "                                                Term  Adjusted P-value  \\\n",
      "41                          HALLMARK_APICAL_JUNCTION            0.0400   \n",
      "42        HALLMARK_EPITHELIAL_MESENCHYMAL_TRANSITION            0.0400   \n",
      "45        REACTOME_TNFR2_NON_CANONICAL_NF_KB_PATHWAY            0.0400   \n",
      "46  REACTOME_TNFS_BIND_THEIR_PHYSIOLOGICAL_RECEPTORS            0.0224   \n",
      "\n",
      "                 Gene_set  \n",
      "41  CUSTOM140472022987256  \n",
      "42  CUSTOM140472022987256  \n",
      "45  CUSTOM140472022990280  \n",
      "46  CUSTOM140472022990280  \n",
      "Topic 394\n"
     ]
    },
    {
     "name": "stderr",
     "output_type": "stream",
     "text": [
      "2020-01-16 18:53:35,037 Warning: No enrich terms using library GO_Molecular_Function_2018 when cutoff = 0.05\n",
      "2020-01-16 18:53:37,503 Warning: No enrich terms using library GO_Biological_Process_2018 when cutoff = 0.05\n",
      "2020-01-16 18:53:39,973 Warning: No enrich terms using library GO_Cellular_Component_2018 when cutoff = 0.05\n",
      "2020-01-16 18:53:42,433 Warning: No enrich terms using library Human_Phenotype_Ontology when cutoff = 0.05\n",
      "2020-01-16 18:53:45,044 Warning: No enrich terms using library WikiPathways_2019_Human when cutoff = 0.05\n"
     ]
    },
    {
     "name": "stdout",
     "output_type": "stream",
     "text": [
      "                                                Term  Adjusted P-value  \\\n",
      "1                                     NABA_COLLAGENS          0.030800   \n",
      "4  REACTOME_COLLAGEN_BIOSYNTHESIS_AND_MODIFYING_E...          0.031267   \n",
      "5              REACTOME_COLLAGEN_CHAIN_TRIMERIZATION          0.030800   \n",
      "6                        REACTOME_COLLAGEN_FORMATION          0.031500   \n",
      "\n",
      "                Gene_set  \n",
      "1  CUSTOM140472021705784  \n",
      "4  CUSTOM140472021705784  \n",
      "5  CUSTOM140472021705784  \n",
      "6  CUSTOM140472021705784  \n",
      "Topic 395\n"
     ]
    },
    {
     "name": "stderr",
     "output_type": "stream",
     "text": [
      "2020-01-16 18:53:47,954 Warning: No enrich terms using library GO_Molecular_Function_2018 when cutoff = 0.05\n",
      "2020-01-16 18:53:50,439 Warning: No enrich terms using library GO_Biological_Process_2018 when cutoff = 0.05\n",
      "2020-01-16 18:53:52,908 Warning: No enrich terms using library GO_Cellular_Component_2018 when cutoff = 0.05\n",
      "2020-01-16 18:53:55,370 Warning: No enrich terms using library Human_Phenotype_Ontology when cutoff = 0.05\n",
      "2020-01-16 18:53:57,838 Warning: No enrich terms using library WikiPathways_2019_Human when cutoff = 0.05\n"
     ]
    },
    {
     "name": "stdout",
     "output_type": "stream",
     "text": [
      "                                                Term  Adjusted P-value  \\\n",
      "8  REACTOME_POST_TRANSLATIONAL_MODIFICATION:_SYNT...            0.0376   \n",
      "\n",
      "                Gene_set  \n",
      "8  CUSTOM140472023622208  \n",
      "Topic 396\n"
     ]
    },
    {
     "name": "stderr",
     "output_type": "stream",
     "text": [
      "2020-01-16 18:54:00,795 Warning: No enrich terms using library GO_Molecular_Function_2018 when cutoff = 0.05\n",
      "2020-01-16 18:54:03,274 Warning: No enrich terms using library GO_Biological_Process_2018 when cutoff = 0.05\n",
      "2020-01-16 18:54:05,741 Warning: No enrich terms using library GO_Cellular_Component_2018 when cutoff = 0.05\n",
      "2020-01-16 18:54:08,226 Warning: No enrich terms using library Human_Phenotype_Ontology when cutoff = 0.05\n",
      "2020-01-16 18:54:10,702 Warning: No enrich terms using library WikiPathways_2019_Human when cutoff = 0.05\n",
      "2020-01-16 18:54:10,722 Warning: No enrich terms using library CUSTOM140471875705664 when cutoff = 0.05\n"
     ]
    },
    {
     "name": "stdout",
     "output_type": "stream",
     "text": [
      "Empty DataFrame\n",
      "Columns: [Term, Adjusted P-value, Gene_set]\n",
      "Index: []\n",
      "Topic 397\n",
      "<class 'requests.exceptions.ConnectionError'> ('Connection aborted.', ConnectionResetError(104, 'Connection reset by peer')) <traceback object at 0x7fc22a5d4e48>\n",
      "Empty DataFrame\n",
      "Columns: [Term, Adjusted P-value, Gene_set]\n",
      "Index: []\n",
      "Topic 398\n"
     ]
    },
    {
     "name": "stderr",
     "output_type": "stream",
     "text": [
      "2020-01-16 18:54:13,808 Warning: No enrich terms using library GO_Molecular_Function_2018 when cutoff = 0.05\n",
      "2020-01-16 18:54:16,278 Warning: No enrich terms using library GO_Biological_Process_2018 when cutoff = 0.05\n",
      "2020-01-16 18:54:18,747 Warning: No enrich terms using library GO_Cellular_Component_2018 when cutoff = 0.05\n",
      "2020-01-16 18:54:21,217 Warning: No enrich terms using library Human_Phenotype_Ontology when cutoff = 0.05\n",
      "2020-01-16 18:54:23,689 Warning: No enrich terms using library WikiPathways_2019_Human when cutoff = 0.05\n"
     ]
    },
    {
     "name": "stdout",
     "output_type": "stream",
     "text": [
      "                                                 Term  Adjusted P-value  \\\n",
      "21                         HALLMARK_PROTEIN_SECRETION          0.019200   \n",
      "22                                   KEGG_ENDOCYTOSIS          0.048267   \n",
      "23                  PID_ERBB1_INTERNALIZATION_PATHWAY          0.027440   \n",
      "24                                    PID_MET_PATHWAY          0.029493   \n",
      "25                                   PID_RHOA_PATHWAY          0.027440   \n",
      "28  REACTOME_CARGO_RECOGNITION_FOR_CLATHRIN_MEDIAT...          0.034588   \n",
      "29             REACTOME_CLATHRIN_MEDIATED_ENDOCYTOSIS          0.040600   \n",
      "32                       REACTOME_EGFR_DOWNREGULATION          0.027440   \n",
      "33       REACTOME_GOLGI_ASSOCIATED_VESICLE_BIOGENESIS          0.028509   \n",
      "35  REACTOME_INLB_MEDIATED_ENTRY_OF_LISTERIA_MONOC...          0.027440   \n",
      "36                        REACTOME_L1CAM_INTERACTIONS          0.036547   \n",
      "37  REACTOME_LISTERIA_MONOCYTOGENES_ENTRY_INTO_HOS...          0.027440   \n",
      "38               REACTOME_LYSOSOME_VESICLE_BIOGENESIS          0.027440   \n",
      "39         REACTOME_MHC_CLASS_II_ANTIGEN_PRESENTATION          0.036547   \n",
      "40       REACTOME_NEGATIVE_REGULATION_OF_MET_ACTIVITY          0.027440   \n",
      "41                   REACTOME_RECYCLING_PATHWAY_OF_L1          0.027440   \n",
      "42        REACTOME_RETROGRADE_NEUROTROPHIN_SIGNALLING          0.027440   \n",
      "43                         REACTOME_SIGNALING_BY_EGFR          0.027440   \n",
      "44                          REACTOME_SIGNALING_BY_MET          0.029493   \n",
      "45                   REACTOME_SIGNALING_BY_NTRK1_TRKA          0.029493   \n",
      "\n",
      "                 Gene_set  \n",
      "21  CUSTOM140472022963328  \n",
      "22  CUSTOM140472022964336  \n",
      "23  CUSTOM140472022964336  \n",
      "24  CUSTOM140472022964336  \n",
      "25  CUSTOM140472022964336  \n",
      "28  CUSTOM140472022964336  \n",
      "29  CUSTOM140472022964336  \n",
      "32  CUSTOM140472022964336  \n",
      "33  CUSTOM140472022964336  \n",
      "35  CUSTOM140472022964336  \n",
      "36  CUSTOM140472022964336  \n",
      "37  CUSTOM140472022964336  \n",
      "38  CUSTOM140472022964336  \n",
      "39  CUSTOM140472022964336  \n",
      "40  CUSTOM140472022964336  \n",
      "41  CUSTOM140472022964336  \n",
      "42  CUSTOM140472022964336  \n",
      "43  CUSTOM140472022964336  \n",
      "44  CUSTOM140472022964336  \n",
      "45  CUSTOM140472022964336  \n",
      "Topic 399\n"
     ]
    },
    {
     "name": "stderr",
     "output_type": "stream",
     "text": [
      "2020-01-16 18:54:26,759 Warning: No enrich terms using library GO_Molecular_Function_2018 when cutoff = 0.05\n",
      "2020-01-16 18:54:29,231 Warning: No enrich terms using library GO_Biological_Process_2018 when cutoff = 0.05\n",
      "2020-01-16 18:54:31,699 Warning: No enrich terms using library GO_Cellular_Component_2018 when cutoff = 0.05\n",
      "2020-01-16 18:54:34,177 Warning: No enrich terms using library Human_Phenotype_Ontology when cutoff = 0.05\n",
      "2020-01-16 18:54:36,642 Warning: No enrich terms using library WikiPathways_2019_Human when cutoff = 0.05\n",
      "2020-01-16 18:54:36,649 Warning: No enrich terms using library CUSTOM140471954777288 when cutoff = 0.05\n"
     ]
    },
    {
     "name": "stdout",
     "output_type": "stream",
     "text": [
      "                                        Term  Adjusted P-value  \\\n",
      "39               KEGG_PPAR_SIGNALING_PATHWAY          0.041118   \n",
      "40     REACTOME_AQUAPORIN_MEDIATED_TRANSPORT          0.041118   \n",
      "41      REACTOME_LIPID_PARTICLE_ORGANIZATION          0.014393   \n",
      "43  REACTOME_PASSIVE_TRANSPORT_BY_AQUAPORINS          0.015581   \n",
      "\n",
      "                 Gene_set  \n",
      "39  CUSTOM140471954776712  \n",
      "40  CUSTOM140471954776712  \n",
      "41  CUSTOM140471954776712  \n",
      "43  CUSTOM140471954776712  \n",
      "Topic 400\n"
     ]
    },
    {
     "name": "stderr",
     "output_type": "stream",
     "text": [
      "2020-01-16 18:54:39,602 Warning: No enrich terms using library GO_Molecular_Function_2018 when cutoff = 0.05\n",
      "2020-01-16 18:54:42,084 Warning: No enrich terms using library GO_Biological_Process_2018 when cutoff = 0.05\n",
      "2020-01-16 18:54:44,557 Warning: No enrich terms using library GO_Cellular_Component_2018 when cutoff = 0.05\n",
      "2020-01-16 18:54:47,019 Warning: No enrich terms using library Human_Phenotype_Ontology when cutoff = 0.05\n",
      "2020-01-16 18:54:49,484 Warning: No enrich terms using library WikiPathways_2019_Human when cutoff = 0.05\n"
     ]
    },
    {
     "name": "stdout",
     "output_type": "stream",
     "text": [
      "                                                 Term  Adjusted P-value  \\\n",
      "19                                HALLMARK_COMPLEMENT            0.0400   \n",
      "24                           REACTOME_ALPHA_DEFENSINS            0.0240   \n",
      "26  REACTOME_COBALAMIN_CBL_VITAMIN_B12_TRANSPORT_A...            0.0252   \n",
      "27                                 REACTOME_DEFENSINS            0.0416   \n",
      "\n",
      "                 Gene_set  \n",
      "19  CUSTOM140471891155920  \n",
      "24  CUSTOM140471891153688  \n",
      "26  CUSTOM140471891153688  \n",
      "27  CUSTOM140471891153688  \n",
      "Topic 401\n"
     ]
    },
    {
     "name": "stderr",
     "output_type": "stream",
     "text": [
      "2020-01-16 18:54:52,593 Warning: No enrich terms using library GO_Molecular_Function_2018 when cutoff = 0.05\n",
      "2020-01-16 18:54:55,072 Warning: No enrich terms using library GO_Biological_Process_2018 when cutoff = 0.05\n",
      "2020-01-16 18:54:57,541 Warning: No enrich terms using library GO_Cellular_Component_2018 when cutoff = 0.05\n",
      "2020-01-16 18:55:02,603 Warning: No enrich terms using library WikiPathways_2019_Human when cutoff = 0.05\n"
     ]
    },
    {
     "name": "stdout",
     "output_type": "stream",
     "text": [
      "                                            Term  Adjusted P-value  \\\n",
      "2                      Brittle hair (HP:0002299)          0.000026   \n",
      "3                     Hypotrichosis (HP:0001006)          0.000018   \n",
      "4                 Slow-growing hair (HP:0002217)          0.000018   \n",
      "5   Abnormality of hair growth rate (HP:0011363)          0.000013   \n",
      "6                    Nail dystrophy (HP:0008404)          0.000075   \n",
      "7                         Fine hair (HP:0002213)          0.000110   \n",
      "8             Variable expressivity (HP:0003828)          0.001829   \n",
      "9                     Heterogeneous (HP:0001425)          0.001773   \n",
      "10                  Infantile onset (HP:0003593)          0.007780   \n",
      "22  REACTOME_FORMATION_OF_THE_CORNIFIED_ENVELOPE          0.004647   \n",
      "25                       REACTOME_KERATINIZATION          0.010827   \n",
      "\n",
      "                    Gene_set  \n",
      "2   Human_Phenotype_Ontology  \n",
      "3   Human_Phenotype_Ontology  \n",
      "4   Human_Phenotype_Ontology  \n",
      "5   Human_Phenotype_Ontology  \n",
      "6   Human_Phenotype_Ontology  \n",
      "7   Human_Phenotype_Ontology  \n",
      "8   Human_Phenotype_Ontology  \n",
      "9   Human_Phenotype_Ontology  \n",
      "10  Human_Phenotype_Ontology  \n",
      "22     CUSTOM140471876162400  \n",
      "25     CUSTOM140471876162400  \n",
      "Topic 402\n",
      "<class 'requests.exceptions.ConnectionError'> ('Connection aborted.', ConnectionResetError(104, 'Connection reset by peer')) <traceback object at 0x7fc22cd88408>\n",
      "                                            Term  Adjusted P-value  \\\n",
      "2                      Brittle hair (HP:0002299)          0.000026   \n",
      "3                     Hypotrichosis (HP:0001006)          0.000018   \n",
      "4                 Slow-growing hair (HP:0002217)          0.000018   \n",
      "5   Abnormality of hair growth rate (HP:0011363)          0.000013   \n",
      "6                    Nail dystrophy (HP:0008404)          0.000075   \n",
      "7                         Fine hair (HP:0002213)          0.000110   \n",
      "8             Variable expressivity (HP:0003828)          0.001829   \n",
      "9                     Heterogeneous (HP:0001425)          0.001773   \n",
      "10                  Infantile onset (HP:0003593)          0.007780   \n",
      "22  REACTOME_FORMATION_OF_THE_CORNIFIED_ENVELOPE          0.004647   \n",
      "25                       REACTOME_KERATINIZATION          0.010827   \n",
      "\n",
      "                    Gene_set  \n",
      "2   Human_Phenotype_Ontology  \n",
      "3   Human_Phenotype_Ontology  \n",
      "4   Human_Phenotype_Ontology  \n",
      "5   Human_Phenotype_Ontology  \n",
      "6   Human_Phenotype_Ontology  \n",
      "7   Human_Phenotype_Ontology  \n",
      "8   Human_Phenotype_Ontology  \n",
      "9   Human_Phenotype_Ontology  \n",
      "10  Human_Phenotype_Ontology  \n",
      "22     CUSTOM140471876162400  \n",
      "25     CUSTOM140471876162400  \n",
      "Topic 403\n"
     ]
    },
    {
     "name": "stderr",
     "output_type": "stream",
     "text": [
      "2020-01-16 18:55:06,097 Warning: No enrich terms using library GO_Molecular_Function_2018 when cutoff = 0.05\n",
      "2020-01-16 18:55:08,564 Warning: No enrich terms using library GO_Biological_Process_2018 when cutoff = 0.05\n",
      "2020-01-16 18:55:11,034 Warning: No enrich terms using library GO_Cellular_Component_2018 when cutoff = 0.05\n",
      "2020-01-16 18:55:13,499 Warning: No enrich terms using library Human_Phenotype_Ontology when cutoff = 0.05\n",
      "2020-01-16 18:55:15,964 Warning: No enrich terms using library WikiPathways_2019_Human when cutoff = 0.05\n",
      "2020-01-16 18:55:15,972 Warning: No enrich terms using library CUSTOM140472027110712 when cutoff = 0.05\n"
     ]
    },
    {
     "name": "stdout",
     "output_type": "stream",
     "text": [
      "                                    Term  Adjusted P-value  \\\n",
      "18  REACTOME_STRIATED_MUSCLE_CONTRACTION          0.028699   \n",
      "\n",
      "                 Gene_set  \n",
      "18  CUSTOM140472027107472  \n",
      "Topic 404\n"
     ]
    },
    {
     "name": "stderr",
     "output_type": "stream",
     "text": [
      "2020-01-16 18:55:18,902 Warning: No enrich terms using library GO_Molecular_Function_2018 when cutoff = 0.05\n",
      "2020-01-16 18:55:21,373 Warning: No enrich terms using library GO_Biological_Process_2018 when cutoff = 0.05\n",
      "2020-01-16 18:55:23,840 Warning: No enrich terms using library GO_Cellular_Component_2018 when cutoff = 0.05\n",
      "2020-01-16 18:55:26,301 Warning: No enrich terms using library Human_Phenotype_Ontology when cutoff = 0.05\n",
      "2020-01-16 18:55:28,778 Warning: No enrich terms using library WikiPathways_2019_Human when cutoff = 0.05\n",
      "2020-01-16 18:55:28,786 Warning: No enrich terms using library CUSTOM140471949041808 when cutoff = 0.05\n"
     ]
    },
    {
     "name": "stdout",
     "output_type": "stream",
     "text": [
      "Empty DataFrame\n",
      "Columns: [Term, Adjusted P-value, Gene_set]\n",
      "Index: []\n",
      "Topic 405\n"
     ]
    },
    {
     "name": "stderr",
     "output_type": "stream",
     "text": [
      "2020-01-16 18:55:31,626 Warning: No enrich terms using library GO_Molecular_Function_2018 when cutoff = 0.05\n",
      "2020-01-16 18:55:34,092 Warning: No enrich terms using library GO_Biological_Process_2018 when cutoff = 0.05\n",
      "2020-01-16 18:55:36,579 Warning: No enrich terms using library GO_Cellular_Component_2018 when cutoff = 0.05\n",
      "2020-01-16 18:55:39,063 Warning: No enrich terms using library Human_Phenotype_Ontology when cutoff = 0.05\n",
      "2020-01-16 18:55:41,534 Warning: No enrich terms using library WikiPathways_2019_Human when cutoff = 0.05\n"
     ]
    },
    {
     "name": "stdout",
     "output_type": "stream",
     "text": [
      "                                            Term  Adjusted P-value  \\\n",
      "54                           HALLMARK_GLYCOLYSIS          0.040000   \n",
      "55                              HALLMARK_HYPOXIA          0.040000   \n",
      "56          KEGG_FRUCTOSE_AND_MANNOSE_METABOLISM          0.014733   \n",
      "57               KEGG_GLYCOLYSIS_GLUCONEOGENESIS          0.020150   \n",
      "58                KEGG_PENTOSE_PHOSPHATE_PATHWAY          0.014733   \n",
      "59                             PID_HNF3B_PATHWAY          0.016714   \n",
      "61  REACTOME_DISEASES_OF_CARBOHYDRATE_METABOLISM          0.014733   \n",
      "62               REACTOME_DISEASES_OF_METABOLISM          0.024582   \n",
      "63                  REACTOME_FRUCTOSE_CATABOLISM          0.009100   \n",
      "64                  REACTOME_FRUCTOSE_METABOLISM          0.009100   \n",
      "65                      REACTOME_GLUCONEOGENESIS          0.014733   \n",
      "66                   REACTOME_GLUCOSE_METABOLISM          0.023920   \n",
      "67                           REACTOME_GLYCOLYSIS          0.020800   \n",
      "\n",
      "                 Gene_set  \n",
      "54  CUSTOM140472034782088  \n",
      "55  CUSTOM140472034782088  \n",
      "56  CUSTOM140472034782664  \n",
      "57  CUSTOM140472034782664  \n",
      "58  CUSTOM140472034782664  \n",
      "59  CUSTOM140472034782664  \n",
      "61  CUSTOM140472034782664  \n",
      "62  CUSTOM140472034782664  \n",
      "63  CUSTOM140472034782664  \n",
      "64  CUSTOM140472034782664  \n",
      "65  CUSTOM140472034782664  \n",
      "66  CUSTOM140472034782664  \n",
      "67  CUSTOM140472034782664  \n",
      "Topic 406\n"
     ]
    },
    {
     "name": "stderr",
     "output_type": "stream",
     "text": [
      "2020-01-16 18:55:44,614 Warning: No enrich terms using library GO_Molecular_Function_2018 when cutoff = 0.05\n",
      "2020-01-16 18:55:47,082 Warning: No enrich terms using library GO_Biological_Process_2018 when cutoff = 0.05\n",
      "2020-01-16 18:55:49,547 Warning: No enrich terms using library GO_Cellular_Component_2018 when cutoff = 0.05\n",
      "2020-01-16 18:55:52,009 Warning: No enrich terms using library Human_Phenotype_Ontology when cutoff = 0.05\n",
      "2020-01-16 18:55:54,474 Warning: No enrich terms using library WikiPathways_2019_Human when cutoff = 0.05\n"
     ]
    },
    {
     "name": "stdout",
     "output_type": "stream",
     "text": [
      "Empty DataFrame\n",
      "Columns: [Term, Adjusted P-value, Gene_set]\n",
      "Index: []\n",
      "Topic 407\n"
     ]
    },
    {
     "name": "stderr",
     "output_type": "stream",
     "text": [
      "2020-01-16 18:55:57,314 Warning: No enrich terms using library GO_Molecular_Function_2018 when cutoff = 0.05\n",
      "2020-01-16 18:55:59,787 Warning: No enrich terms using library GO_Biological_Process_2018 when cutoff = 0.05\n",
      "2020-01-16 18:56:02,252 Warning: No enrich terms using library GO_Cellular_Component_2018 when cutoff = 0.05\n",
      "2020-01-16 18:56:04,709 Warning: No enrich terms using library Human_Phenotype_Ontology when cutoff = 0.05\n",
      "2020-01-16 18:56:07,185 Warning: No enrich terms using library WikiPathways_2019_Human when cutoff = 0.05\n",
      "2020-01-16 18:56:07,193 Warning: No enrich terms using library CUSTOM140471921268056 when cutoff = 0.05\n",
      "2020-01-16 18:56:07,213 Warning: No enrich terms using library CUSTOM140471921267336 when cutoff = 0.05\n"
     ]
    },
    {
     "name": "stdout",
     "output_type": "stream",
     "text": [
      "Empty DataFrame\n",
      "Columns: [Term, Adjusted P-value, Gene_set]\n",
      "Index: []\n",
      "Topic 408\n"
     ]
    },
    {
     "name": "stderr",
     "output_type": "stream",
     "text": [
      "2020-01-16 18:56:10,072 Warning: No enrich terms using library GO_Molecular_Function_2018 when cutoff = 0.05\n",
      "2020-01-16 18:56:12,568 Warning: No enrich terms using library GO_Biological_Process_2018 when cutoff = 0.05\n",
      "2020-01-16 18:56:15,067 Warning: No enrich terms using library GO_Cellular_Component_2018 when cutoff = 0.05\n",
      "2020-01-16 18:56:17,543 Warning: No enrich terms using library Human_Phenotype_Ontology when cutoff = 0.05\n",
      "2020-01-16 18:56:20,037 Warning: No enrich terms using library WikiPathways_2019_Human when cutoff = 0.05\n"
     ]
    },
    {
     "name": "stdout",
     "output_type": "stream",
     "text": [
      "Empty DataFrame\n",
      "Columns: [Term, Adjusted P-value, Gene_set]\n",
      "Index: []\n",
      "Topic 409\n"
     ]
    },
    {
     "name": "stderr",
     "output_type": "stream",
     "text": [
      "2020-01-16 18:56:22,876 Warning: No enrich terms using library GO_Molecular_Function_2018 when cutoff = 0.05\n",
      "2020-01-16 18:56:25,350 Warning: No enrich terms using library GO_Biological_Process_2018 when cutoff = 0.05\n",
      "2020-01-16 18:56:27,813 Warning: No enrich terms using library GO_Cellular_Component_2018 when cutoff = 0.05\n",
      "2020-01-16 18:56:30,271 Warning: No enrich terms using library Human_Phenotype_Ontology when cutoff = 0.05\n",
      "2020-01-16 18:56:32,735 Warning: No enrich terms using library WikiPathways_2019_Human when cutoff = 0.05\n"
     ]
    },
    {
     "name": "stdout",
     "output_type": "stream",
     "text": [
      "                                                 Term  Adjusted P-value  \\\n",
      "52    REACTOME_NUCLEAR_RECEPTOR_TRANSCRIPTION_PATHWAY          0.028267   \n",
      "55    REACTOME_SUMOYLATION_OF_INTRACELLULAR_RECEPTORS          0.024800   \n",
      "56  REACTOME_TRANSCRIPTIONAL_REGULATION_OF_PLURIPO...          0.024800   \n",
      "\n",
      "                 Gene_set  \n",
      "52  CUSTOM140471908286680  \n",
      "55  CUSTOM140471908286680  \n",
      "56  CUSTOM140471908286680  \n",
      "Topic 410\n"
     ]
    },
    {
     "name": "stderr",
     "output_type": "stream",
     "text": [
      "2020-01-16 18:56:35,714 Warning: No enrich terms using library GO_Molecular_Function_2018 when cutoff = 0.05\n",
      "2020-01-16 18:56:38,176 Warning: No enrich terms using library GO_Biological_Process_2018 when cutoff = 0.05\n",
      "2020-01-16 18:56:40,642 Warning: No enrich terms using library GO_Cellular_Component_2018 when cutoff = 0.05\n"
     ]
    },
    {
     "name": "stdout",
     "output_type": "stream",
     "text": [
      "<class 'requests.exceptions.ConnectionError'> ('Connection aborted.', ConnectionResetError(104, 'Connection reset by peer')) <traceback object at 0x7fc22d9b5688>\n",
      "                                                 Term  Adjusted P-value  \\\n",
      "52    REACTOME_NUCLEAR_RECEPTOR_TRANSCRIPTION_PATHWAY          0.028267   \n",
      "55    REACTOME_SUMOYLATION_OF_INTRACELLULAR_RECEPTORS          0.024800   \n",
      "56  REACTOME_TRANSCRIPTIONAL_REGULATION_OF_PLURIPO...          0.024800   \n",
      "\n",
      "                 Gene_set  \n",
      "52  CUSTOM140471908286680  \n",
      "55  CUSTOM140471908286680  \n",
      "56  CUSTOM140471908286680  \n",
      "Topic 411\n"
     ]
    },
    {
     "name": "stderr",
     "output_type": "stream",
     "text": [
      "2020-01-16 18:56:43,652 Warning: No enrich terms using library GO_Molecular_Function_2018 when cutoff = 0.05\n",
      "2020-01-16 18:56:46,140 Warning: No enrich terms using library GO_Biological_Process_2018 when cutoff = 0.05\n",
      "2020-01-16 18:56:48,602 Warning: No enrich terms using library GO_Cellular_Component_2018 when cutoff = 0.05\n",
      "2020-01-16 18:56:51,082 Warning: No enrich terms using library Human_Phenotype_Ontology when cutoff = 0.05\n",
      "2020-01-16 18:56:53,541 Warning: No enrich terms using library WikiPathways_2019_Human when cutoff = 0.05\n"
     ]
    },
    {
     "name": "stdout",
     "output_type": "stream",
     "text": [
      "                                   Term  Adjusted P-value  \\\n",
      "30       HALLMARK_FATTY_ACID_METABOLISM            0.0316   \n",
      "31                  HALLMARK_PEROXISOME            0.0316   \n",
      "32         KEGG_GLYCEROLIPID_METABOLISM            0.0098   \n",
      "33            KEGG_STEROID_BIOSYNTHESIS            0.0070   \n",
      "34                   REACTOME_DIGESTION            0.0070   \n",
      "35    REACTOME_DIGESTION_AND_ABSORPTION            0.0070   \n",
      "36  REACTOME_DIGESTION_OF_DIETARY_LIPID            0.0070   \n",
      "\n",
      "                 Gene_set  \n",
      "30  CUSTOM140471953707296  \n",
      "31  CUSTOM140471953707296  \n",
      "32  CUSTOM140471953709168  \n",
      "33  CUSTOM140471953709168  \n",
      "34  CUSTOM140471953709168  \n",
      "35  CUSTOM140471953709168  \n",
      "36  CUSTOM140471953709168  \n",
      "Topic 412\n"
     ]
    },
    {
     "name": "stderr",
     "output_type": "stream",
     "text": [
      "2020-01-16 18:56:56,595 Warning: No enrich terms using library GO_Molecular_Function_2018 when cutoff = 0.05\n",
      "2020-01-16 18:56:59,061 Warning: No enrich terms using library GO_Biological_Process_2018 when cutoff = 0.05\n",
      "2020-01-16 18:57:01,524 Warning: No enrich terms using library GO_Cellular_Component_2018 when cutoff = 0.05\n",
      "2020-01-16 18:57:03,995 Warning: No enrich terms using library Human_Phenotype_Ontology when cutoff = 0.05\n",
      "2020-01-16 18:57:06,463 Warning: No enrich terms using library WikiPathways_2019_Human when cutoff = 0.05\n",
      "2020-01-16 18:57:06,482 Warning: No enrich terms using library CUSTOM140471946466072 when cutoff = 0.05\n"
     ]
    },
    {
     "name": "stdout",
     "output_type": "stream",
     "text": [
      "Empty DataFrame\n",
      "Columns: [Term, Adjusted P-value, Gene_set]\n",
      "Index: []\n",
      "Topic 413\n"
     ]
    },
    {
     "name": "stderr",
     "output_type": "stream",
     "text": [
      "2020-01-16 18:57:09,358 Warning: No enrich terms using library GO_Molecular_Function_2018 when cutoff = 0.05\n",
      "2020-01-16 18:57:11,821 Warning: No enrich terms using library GO_Biological_Process_2018 when cutoff = 0.05\n",
      "2020-01-16 18:57:14,287 Warning: No enrich terms using library GO_Cellular_Component_2018 when cutoff = 0.05\n",
      "2020-01-16 18:57:16,758 Warning: No enrich terms using library Human_Phenotype_Ontology when cutoff = 0.05\n",
      "2020-01-16 18:57:19,230 Warning: No enrich terms using library WikiPathways_2019_Human when cutoff = 0.05\n"
     ]
    },
    {
     "name": "stdout",
     "output_type": "stream",
     "text": [
      "                                             Term  Adjusted P-value  \\\n",
      "30                       KEGG_TYROSINE_METABOLISM          0.025097   \n",
      "31  REACTOME_METABOLISM_OF_AMINE_DERIVED_HORMONES          0.021563   \n",
      "\n",
      "                 Gene_set  \n",
      "30  CUSTOM140472026862000  \n",
      "31  CUSTOM140472026862000  \n",
      "Topic 414\n"
     ]
    },
    {
     "name": "stderr",
     "output_type": "stream",
     "text": [
      "2020-01-16 18:57:22,170 Warning: No enrich terms using library GO_Molecular_Function_2018 when cutoff = 0.05\n",
      "2020-01-16 18:57:24,646 Warning: No enrich terms using library GO_Biological_Process_2018 when cutoff = 0.05\n",
      "2020-01-16 18:57:27,112 Warning: No enrich terms using library GO_Cellular_Component_2018 when cutoff = 0.05\n",
      "2020-01-16 18:57:29,579 Warning: No enrich terms using library Human_Phenotype_Ontology when cutoff = 0.05\n",
      "2020-01-16 18:57:32,043 Warning: No enrich terms using library WikiPathways_2019_Human when cutoff = 0.05\n",
      "2020-01-16 18:57:32,050 Warning: No enrich terms using library CUSTOM140471926367144 when cutoff = 0.05\n"
     ]
    },
    {
     "name": "stdout",
     "output_type": "stream",
     "text": [
      "                                 Term  Adjusted P-value               Gene_set\n",
      "27  REACTOME_TRANSPORT_OF_FATTY_ACIDS          0.022384  CUSTOM140471926367288\n",
      "Topic 415\n"
     ]
    },
    {
     "name": "stderr",
     "output_type": "stream",
     "text": [
      "2020-01-16 18:57:35,009 Warning: No enrich terms using library GO_Molecular_Function_2018 when cutoff = 0.05\n",
      "2020-01-16 18:57:37,480 Warning: No enrich terms using library GO_Biological_Process_2018 when cutoff = 0.05\n",
      "2020-01-16 18:57:39,933 Warning: No enrich terms using library GO_Cellular_Component_2018 when cutoff = 0.05\n",
      "2020-01-16 18:57:42,609 Warning: No enrich terms using library Human_Phenotype_Ontology when cutoff = 0.05\n",
      "2020-01-16 18:57:45,075 Warning: No enrich terms using library WikiPathways_2019_Human when cutoff = 0.05\n"
     ]
    },
    {
     "name": "stdout",
     "output_type": "stream",
     "text": [
      "                                                Term  Adjusted P-value  \\\n",
      "6                  REACTOME_TRANSPORT_OF_FATTY_ACIDS            0.0064   \n",
      "8  REACTOME_TRANSPORT_OF_VITAMINS_NUCLEOSIDES_AND...            0.0176   \n",
      "\n",
      "                Gene_set  \n",
      "6  CUSTOM140471920101416  \n",
      "8  CUSTOM140471920101416  \n",
      "Topic 416\n"
     ]
    },
    {
     "name": "stderr",
     "output_type": "stream",
     "text": [
      "2020-01-16 18:57:48,000 Warning: No enrich terms using library GO_Molecular_Function_2018 when cutoff = 0.05\n",
      "2020-01-16 18:57:50,460 Warning: No enrich terms using library GO_Biological_Process_2018 when cutoff = 0.05\n",
      "2020-01-16 18:57:52,921 Warning: No enrich terms using library GO_Cellular_Component_2018 when cutoff = 0.05\n",
      "2020-01-16 18:57:55,385 Warning: No enrich terms using library Human_Phenotype_Ontology when cutoff = 0.05\n",
      "2020-01-16 18:57:57,861 Warning: No enrich terms using library WikiPathways_2019_Human when cutoff = 0.05\n"
     ]
    },
    {
     "name": "stdout",
     "output_type": "stream",
     "text": [
      "Empty DataFrame\n",
      "Columns: [Term, Adjusted P-value, Gene_set]\n",
      "Index: []\n",
      "Topic 417\n"
     ]
    },
    {
     "name": "stderr",
     "output_type": "stream",
     "text": [
      "2020-01-16 18:58:00,723 Warning: No enrich terms using library GO_Molecular_Function_2018 when cutoff = 0.05\n",
      "2020-01-16 18:58:03,202 Warning: No enrich terms using library GO_Biological_Process_2018 when cutoff = 0.05\n",
      "2020-01-16 18:58:05,674 Warning: No enrich terms using library GO_Cellular_Component_2018 when cutoff = 0.05\n",
      "2020-01-16 18:58:08,148 Warning: No enrich terms using library Human_Phenotype_Ontology when cutoff = 0.05\n",
      "2020-01-16 18:58:10,636 Warning: No enrich terms using library WikiPathways_2019_Human when cutoff = 0.05\n",
      "2020-01-16 18:58:10,655 Warning: No enrich terms using library CUSTOM140471923694328 when cutoff = 0.05\n"
     ]
    },
    {
     "name": "stdout",
     "output_type": "stream",
     "text": [
      "                                            Term  Adjusted P-value  \\\n",
      "60  REACTOME_FORMATION_OF_THE_CORNIFIED_ENVELOPE          0.010844   \n",
      "61                       REACTOME_KERATINIZATION          0.025263   \n",
      "\n",
      "                 Gene_set  \n",
      "60  CUSTOM140471862681464  \n",
      "61  CUSTOM140471862681464  \n",
      "Topic 418\n"
     ]
    },
    {
     "name": "stderr",
     "output_type": "stream",
     "text": [
      "2020-01-16 18:58:13,662 Warning: No enrich terms using library GO_Molecular_Function_2018 when cutoff = 0.05\n",
      "2020-01-16 18:58:16,136 Warning: No enrich terms using library GO_Biological_Process_2018 when cutoff = 0.05\n",
      "2020-01-16 18:58:18,597 Warning: No enrich terms using library GO_Cellular_Component_2018 when cutoff = 0.05\n",
      "2020-01-16 18:58:21,066 Warning: No enrich terms using library Human_Phenotype_Ontology when cutoff = 0.05\n",
      "2020-01-16 18:58:23,540 Warning: No enrich terms using library WikiPathways_2019_Human when cutoff = 0.05\n",
      "2020-01-16 18:58:23,548 Warning: No enrich terms using library CUSTOM140471906296096 when cutoff = 0.05\n"
     ]
    },
    {
     "name": "stdout",
     "output_type": "stream",
     "text": [
      "                                 Term  Adjusted P-value               Gene_set\n",
      "91  REACTOME_PHENYLALANINE_METABOLISM          0.047928  CUSTOM140471906296528\n",
      "97                  REACTOME_VITAMINS          0.047928  CUSTOM140471906296528\n",
      "Topic 419\n"
     ]
    },
    {
     "name": "stderr",
     "output_type": "stream",
     "text": [
      "2020-01-16 18:58:26,490 Warning: No enrich terms using library GO_Molecular_Function_2018 when cutoff = 0.05\n",
      "2020-01-16 18:58:31,614 Warning: No enrich terms using library GO_Cellular_Component_2018 when cutoff = 0.05\n",
      "2020-01-16 18:58:34,095 Warning: No enrich terms using library Human_Phenotype_Ontology when cutoff = 0.05\n",
      "2020-01-16 18:58:36,558 Warning: No enrich terms using library WikiPathways_2019_Human when cutoff = 0.05\n",
      "2020-01-16 18:58:36,679 Warning: No enrich terms using library CUSTOM140471953398232 when cutoff = 0.05\n"
     ]
    },
    {
     "name": "stdout",
     "output_type": "stream",
     "text": [
      "                                                  Term  Adjusted P-value  \\\n",
      "18   regulation of cytokine biosynthetic process (G...          0.001684   \n",
      "19   regulation of macromolecule biosynthetic proce...          0.000995   \n",
      "20   regulation of cellular biosynthetic process (G...          0.003453   \n",
      "21   regulation of protein metabolic process (GO:00...          0.010914   \n",
      "22      regulation of cytokine production (GO:0001817)          0.029485   \n",
      "174                              HALLMARK_ANGIOGENESIS          0.026286   \n",
      "175                            HALLMARK_APICAL_SURFACE          0.026286   \n",
      "\n",
      "                       Gene_set  \n",
      "18   GO_Biological_Process_2018  \n",
      "19   GO_Biological_Process_2018  \n",
      "20   GO_Biological_Process_2018  \n",
      "21   GO_Biological_Process_2018  \n",
      "22   GO_Biological_Process_2018  \n",
      "174       CUSTOM140471953399168  \n",
      "175       CUSTOM140471953399168  \n",
      "Topic 420\n"
     ]
    },
    {
     "name": "stderr",
     "output_type": "stream",
     "text": [
      "2020-01-16 18:58:39,517 Warning: No enrich terms using library GO_Molecular_Function_2018 when cutoff = 0.05\n",
      "2020-01-16 18:58:41,983 Warning: No enrich terms using library GO_Biological_Process_2018 when cutoff = 0.05\n",
      "2020-01-16 18:58:44,455 Warning: No enrich terms using library GO_Cellular_Component_2018 when cutoff = 0.05\n",
      "2020-01-16 18:58:46,911 Warning: No enrich terms using library Human_Phenotype_Ontology when cutoff = 0.05\n",
      "2020-01-16 18:58:49,375 Warning: No enrich terms using library WikiPathways_2019_Human when cutoff = 0.05\n"
     ]
    },
    {
     "name": "stdout",
     "output_type": "stream",
     "text": [
      "                                   Term  Adjusted P-value  \\\n",
      "2  REACTOME_FATTY_ACYL_COA_BIOSYNTHESIS            0.0222   \n",
      "\n",
      "                Gene_set  \n",
      "2  CUSTOM140471922604936  \n",
      "Topic 421\n"
     ]
    },
    {
     "name": "stderr",
     "output_type": "stream",
     "text": [
      "2020-01-16 18:58:52,307 Warning: No enrich terms using library GO_Molecular_Function_2018 when cutoff = 0.05\n",
      "2020-01-16 18:58:54,778 Warning: No enrich terms using library GO_Biological_Process_2018 when cutoff = 0.05\n",
      "2020-01-16 18:58:57,256 Warning: No enrich terms using library GO_Cellular_Component_2018 when cutoff = 0.05\n",
      "2020-01-16 18:58:59,730 Warning: No enrich terms using library Human_Phenotype_Ontology when cutoff = 0.05\n",
      "2020-01-16 18:59:02,190 Warning: No enrich terms using library WikiPathways_2019_Human when cutoff = 0.05\n"
     ]
    },
    {
     "name": "stdout",
     "output_type": "stream",
     "text": [
      "                                                 Term  Adjusted P-value  \\\n",
      "73                HALLMARK_WNT_BETA_CATENIN_SIGNALING          0.033462   \n",
      "74                          BIOCARTA_WNT_LRP6_PATHWAY          0.023988   \n",
      "79                                    PID_PS1_PATHWAY          0.045793   \n",
      "80                          PID_WNT_SIGNALING_PATHWAY          0.038729   \n",
      "86  REACTOME_MISSPLICED_LRP5_MUTANTS_HAVE_ENHANCED...          0.023988   \n",
      "87  REACTOME_NEGATIVE_REGULATION_OF_TCF_DEPENDENT_...          0.029958   \n",
      "88  REACTOME_POU5F1_OCT4_SOX2_NANOG_REPRESS_GENES_...          0.026643   \n",
      "90                REACTOME_SIGNALING_BY_WNT_IN_CANCER          0.038729   \n",
      "92  REACTOME_TRANSCRIPTIONAL_REGULATION_OF_PLURIPO...          0.038729   \n",
      "\n",
      "                 Gene_set  \n",
      "73  CUSTOM140471888695944  \n",
      "74  CUSTOM140471877744896  \n",
      "79  CUSTOM140471877744896  \n",
      "80  CUSTOM140471877744896  \n",
      "86  CUSTOM140471877744896  \n",
      "87  CUSTOM140471877744896  \n",
      "88  CUSTOM140471877744896  \n",
      "90  CUSTOM140471877744896  \n",
      "92  CUSTOM140471877744896  \n",
      "Topic 422\n"
     ]
    },
    {
     "name": "stderr",
     "output_type": "stream",
     "text": [
      "2020-01-16 18:59:05,280 Warning: No enrich terms using library GO_Molecular_Function_2018 when cutoff = 0.05\n",
      "2020-01-16 18:59:07,754 Warning: No enrich terms using library GO_Biological_Process_2018 when cutoff = 0.05\n",
      "2020-01-16 18:59:10,237 Warning: No enrich terms using library GO_Cellular_Component_2018 when cutoff = 0.05\n",
      "2020-01-16 18:59:12,709 Warning: No enrich terms using library Human_Phenotype_Ontology when cutoff = 0.05\n",
      "2020-01-16 18:59:15,176 Warning: No enrich terms using library WikiPathways_2019_Human when cutoff = 0.05\n"
     ]
    },
    {
     "name": "stdout",
     "output_type": "stream",
     "text": [
      "                                                 Term  Adjusted P-value  \\\n",
      "25            KEGG_CYSTEINE_AND_METHIONINE_METABOLISM          0.014400   \n",
      "26                   KEGG_SELENOAMINO_ACID_METABOLISM          0.014400   \n",
      "29                    REACTOME_DISEASES_OF_METABOLISM          0.031467   \n",
      "30  REACTOME_METABOLIC_DISORDERS_OF_BIOLOGICAL_OXI...          0.014400   \n",
      "32  REACTOME_METABOLISM_OF_INGESTED_SEMET_SEC_MESE...          0.014400   \n",
      "33                               REACTOME_METHYLATION          0.014400   \n",
      "34         REACTOME_PHASE_II_CONJUGATION_OF_COMPOUNDS          0.031467   \n",
      "35               REACTOME_SELENOAMINO_ACID_METABOLISM          0.031467   \n",
      "36              REACTOME_SULFUR_AMINO_ACID_METABOLISM          0.014400   \n",
      "\n",
      "                 Gene_set  \n",
      "25  CUSTOM140472022123216  \n",
      "26  CUSTOM140472022123216  \n",
      "29  CUSTOM140472022123216  \n",
      "30  CUSTOM140472022123216  \n",
      "32  CUSTOM140472022123216  \n",
      "33  CUSTOM140472022123216  \n",
      "34  CUSTOM140472022123216  \n",
      "35  CUSTOM140472022123216  \n",
      "36  CUSTOM140472022123216  \n",
      "Topic 423\n"
     ]
    },
    {
     "name": "stderr",
     "output_type": "stream",
     "text": [
      "2020-01-16 18:59:18,132 Warning: No enrich terms using library GO_Molecular_Function_2018 when cutoff = 0.05\n",
      "2020-01-16 18:59:20,631 Warning: No enrich terms using library GO_Biological_Process_2018 when cutoff = 0.05\n",
      "2020-01-16 18:59:23,091 Warning: No enrich terms using library GO_Cellular_Component_2018 when cutoff = 0.05\n",
      "2020-01-16 18:59:25,551 Warning: No enrich terms using library Human_Phenotype_Ontology when cutoff = 0.05\n",
      "2020-01-16 18:59:28,026 Warning: No enrich terms using library WikiPathways_2019_Human when cutoff = 0.05\n"
     ]
    },
    {
     "name": "stdout",
     "output_type": "stream",
     "text": [
      "                                                Term  Adjusted P-value  \\\n",
      "5  REACTOME_SODIUM_COUPLED_SULPHATE_DI_AND_TRI_CA...          0.007997   \n",
      "\n",
      "                Gene_set  \n",
      "5  CUSTOM140471877450848  \n",
      "Topic 424\n"
     ]
    },
    {
     "name": "stderr",
     "output_type": "stream",
     "text": [
      "2020-01-16 18:59:30,979 Warning: No enrich terms using library GO_Molecular_Function_2018 when cutoff = 0.05\n",
      "2020-01-16 18:59:33,456 Warning: No enrich terms using library GO_Biological_Process_2018 when cutoff = 0.05\n",
      "2020-01-16 18:59:35,916 Warning: No enrich terms using library GO_Cellular_Component_2018 when cutoff = 0.05\n",
      "2020-01-16 18:59:38,387 Warning: No enrich terms using library Human_Phenotype_Ontology when cutoff = 0.05\n",
      "2020-01-16 18:59:40,852 Warning: No enrich terms using library WikiPathways_2019_Human when cutoff = 0.05\n"
     ]
    },
    {
     "name": "stdout",
     "output_type": "stream",
     "text": [
      "                                                 Term  Adjusted P-value  \\\n",
      "33                         BIOCARTA_NUCLEARRS_PATHWAY          0.033135   \n",
      "34                   KEGG_ARACHIDONIC_ACID_METABOLISM          0.041940   \n",
      "35               KEGG_DRUG_METABOLISM_CYTOCHROME_P450          0.041940   \n",
      "36                      KEGG_LINOLEIC_ACID_METABOLISM          0.031811   \n",
      "37  KEGG_METABOLISM_OF_XENOBIOTICS_BY_CYTOCHROME_P450          0.041940   \n",
      "38                            KEGG_RETINOL_METABOLISM          0.041940   \n",
      "39               REACTOME_ARACHIDONIC_ACID_METABOLISM          0.041940   \n",
      "41                  REACTOME_BIOSYNTHESIS_OF_MARESINS          0.019341   \n",
      "42         REACTOME_BIOSYNTHESIS_OF_MARESIN_LIKE_SPMS          0.019341   \n",
      "43  REACTOME_BIOSYNTHESIS_OF_SPECIALIZED_PRORESOLV...          0.027816   \n",
      "44                          REACTOME_CYP2E1_REACTIONS          0.019341   \n",
      "45  REACTOME_CYTOCHROME_P450_ARRANGED_BY_SUBSTRATE...          0.041940   \n",
      "52  REACTOME_SYNTHESIS_OF_16_20_HYDROXYEICOSATETRA...          0.019341   \n",
      "53  REACTOME_SYNTHESIS_OF_EPOXY_EET_AND_DIHYDROXYE...          0.019341   \n",
      "54                               REACTOME_XENOBIOTICS          0.030102   \n",
      "\n",
      "                 Gene_set  \n",
      "33  CUSTOM140471929469616  \n",
      "34  CUSTOM140471929469616  \n",
      "35  CUSTOM140471929469616  \n",
      "36  CUSTOM140471929469616  \n",
      "37  CUSTOM140471929469616  \n",
      "38  CUSTOM140471929469616  \n",
      "39  CUSTOM140471929469616  \n",
      "41  CUSTOM140471929469616  \n",
      "42  CUSTOM140471929469616  \n",
      "43  CUSTOM140471929469616  \n",
      "44  CUSTOM140471929469616  \n",
      "45  CUSTOM140471929469616  \n",
      "52  CUSTOM140471929469616  \n",
      "53  CUSTOM140471929469616  \n",
      "54  CUSTOM140471929469616  \n",
      "Topic 425\n"
     ]
    },
    {
     "name": "stderr",
     "output_type": "stream",
     "text": [
      "2020-01-16 18:59:43,832 Warning: No enrich terms using library GO_Molecular_Function_2018 when cutoff = 0.05\n",
      "2020-01-16 18:59:46,308 Warning: No enrich terms using library GO_Biological_Process_2018 when cutoff = 0.05\n",
      "2020-01-16 18:59:48,769 Warning: No enrich terms using library GO_Cellular_Component_2018 when cutoff = 0.05\n",
      "2020-01-16 18:59:51,235 Warning: No enrich terms using library Human_Phenotype_Ontology when cutoff = 0.05\n",
      "2020-01-16 18:59:53,700 Warning: No enrich terms using library WikiPathways_2019_Human when cutoff = 0.05\n"
     ]
    },
    {
     "name": "stdout",
     "output_type": "stream",
     "text": [
      "Empty DataFrame\n",
      "Columns: [Term, Adjusted P-value, Gene_set]\n",
      "Index: []\n",
      "Topic 426\n"
     ]
    },
    {
     "name": "stderr",
     "output_type": "stream",
     "text": [
      "2020-01-16 18:59:56,556 Warning: No enrich terms using library GO_Molecular_Function_2018 when cutoff = 0.05\n",
      "2020-01-16 18:59:59,226 Warning: No enrich terms using library GO_Biological_Process_2018 when cutoff = 0.05\n",
      "2020-01-16 19:00:01,710 Warning: No enrich terms using library GO_Cellular_Component_2018 when cutoff = 0.05\n",
      "2020-01-16 19:00:04,255 Warning: No enrich terms using library Human_Phenotype_Ontology when cutoff = 0.05\n",
      "2020-01-16 19:00:06,716 Warning: No enrich terms using library WikiPathways_2019_Human when cutoff = 0.05\n"
     ]
    },
    {
     "name": "stdout",
     "output_type": "stream",
     "text": [
      "                                                 Term  Adjusted P-value  \\\n",
      "19                   KEGG_ARACHIDONIC_ACID_METABOLISM          0.018514   \n",
      "20               KEGG_DRUG_METABOLISM_CYTOCHROME_P450          0.018514   \n",
      "21                      KEGG_LINOLEIC_ACID_METABOLISM          0.013050   \n",
      "22  KEGG_METABOLISM_OF_XENOBIOTICS_BY_CYTOCHROME_P450          0.018514   \n",
      "23                            KEGG_RETINOL_METABOLISM          0.018514   \n",
      "24               REACTOME_ARACHIDONIC_ACID_METABOLISM          0.018514   \n",
      "25                     REACTOME_BIOLOGICAL_OXIDATIONS          0.046800   \n",
      "26                  REACTOME_BIOSYNTHESIS_OF_MARESINS          0.007920   \n",
      "27         REACTOME_BIOSYNTHESIS_OF_MARESIN_LIKE_SPMS          0.007920   \n",
      "28  REACTOME_BIOSYNTHESIS_OF_SPECIALIZED_PRORESOLV...          0.011400   \n",
      "29                          REACTOME_CYP2E1_REACTIONS          0.007920   \n",
      "30  REACTOME_CYTOCHROME_P450_ARRANGED_BY_SUBSTRATE...          0.018514   \n",
      "31                     REACTOME_FATTY_ACID_METABOLISM          0.039825   \n",
      "33    REACTOME_PHASE_I_FUNCTIONALIZATION_OF_COMPOUNDS          0.025200   \n",
      "34  REACTOME_SYNTHESIS_OF_16_20_HYDROXYEICOSATETRA...          0.007920   \n",
      "35  REACTOME_SYNTHESIS_OF_EPOXY_EET_AND_DIHYDROXYE...          0.007920   \n",
      "36                               REACTOME_XENOBIOTICS          0.012343   \n",
      "\n",
      "                 Gene_set  \n",
      "19  CUSTOM140471928755976  \n",
      "20  CUSTOM140471928755976  \n",
      "21  CUSTOM140471928755976  \n",
      "22  CUSTOM140471928755976  \n",
      "23  CUSTOM140471928755976  \n",
      "24  CUSTOM140471928755976  \n",
      "25  CUSTOM140471928755976  \n",
      "26  CUSTOM140471928755976  \n",
      "27  CUSTOM140471928755976  \n",
      "28  CUSTOM140471928755976  \n",
      "29  CUSTOM140471928755976  \n",
      "30  CUSTOM140471928755976  \n",
      "31  CUSTOM140471928755976  \n",
      "33  CUSTOM140471928755976  \n",
      "34  CUSTOM140471928755976  \n",
      "35  CUSTOM140471928755976  \n",
      "36  CUSTOM140471928755976  \n",
      "Topic 427\n"
     ]
    },
    {
     "name": "stderr",
     "output_type": "stream",
     "text": [
      "2020-01-16 19:00:09,684 Warning: No enrich terms using library GO_Molecular_Function_2018 when cutoff = 0.05\n",
      "2020-01-16 19:00:12,157 Warning: No enrich terms using library GO_Biological_Process_2018 when cutoff = 0.05\n",
      "2020-01-16 19:00:14,622 Warning: No enrich terms using library GO_Cellular_Component_2018 when cutoff = 0.05\n",
      "2020-01-16 19:00:17,099 Warning: No enrich terms using library Human_Phenotype_Ontology when cutoff = 0.05\n",
      "2020-01-16 19:00:19,565 Warning: No enrich terms using library WikiPathways_2019_Human when cutoff = 0.05\n",
      "2020-01-16 19:00:19,592 Warning: No enrich terms using library CUSTOM140471879561936 when cutoff = 0.05\n"
     ]
    },
    {
     "name": "stdout",
     "output_type": "stream",
     "text": [
      "Empty DataFrame\n",
      "Columns: [Term, Adjusted P-value, Gene_set]\n",
      "Index: []\n",
      "Topic 428\n"
     ]
    },
    {
     "name": "stderr",
     "output_type": "stream",
     "text": [
      "2020-01-16 19:00:22,432 Warning: No enrich terms using library GO_Molecular_Function_2018 when cutoff = 0.05\n",
      "2020-01-16 19:00:24,924 Warning: No enrich terms using library GO_Biological_Process_2018 when cutoff = 0.05\n",
      "2020-01-16 19:00:27,402 Warning: No enrich terms using library GO_Cellular_Component_2018 when cutoff = 0.05\n",
      "2020-01-16 19:00:29,869 Warning: No enrich terms using library Human_Phenotype_Ontology when cutoff = 0.05\n",
      "2020-01-16 19:00:32,335 Warning: No enrich terms using library WikiPathways_2019_Human when cutoff = 0.05\n"
     ]
    },
    {
     "name": "stdout",
     "output_type": "stream",
     "text": [
      "                                                 Term  Adjusted P-value  \\\n",
      "22                           HALLMARK_SPERMATOGENESIS           0.02700   \n",
      "23  REACTOME_ALPHA_LINOLENIC_OMEGA3_AND_LINOLEIC_O...           0.00910   \n",
      "24                           REACTOME_CIRCADIAN_CLOCK           0.01960   \n",
      "25                     REACTOME_FATTY_ACID_METABOLISM           0.04130   \n",
      "26               REACTOME_FATTY_ACYL_COA_BIOSYNTHESIS           0.01295   \n",
      "27               REACTOME_LINOLEIC_ACID_LA_METABOLISM           0.00910   \n",
      "29  REACTOME_SYNTHESIS_OF_VERY_LONG_CHAIN_FATTY_AC...           0.01120   \n",
      "\n",
      "                 Gene_set  \n",
      "22  CUSTOM140471879606136  \n",
      "23  CUSTOM140471879605560  \n",
      "24  CUSTOM140471879605560  \n",
      "25  CUSTOM140471879605560  \n",
      "26  CUSTOM140471879605560  \n",
      "27  CUSTOM140471879605560  \n",
      "29  CUSTOM140471879605560  \n",
      "Topic 429\n"
     ]
    },
    {
     "name": "stderr",
     "output_type": "stream",
     "text": [
      "2020-01-16 19:00:35,472 Warning: No enrich terms using library GO_Molecular_Function_2018 when cutoff = 0.05\n",
      "2020-01-16 19:00:37,946 Warning: No enrich terms using library GO_Biological_Process_2018 when cutoff = 0.05\n",
      "2020-01-16 19:00:40,421 Warning: No enrich terms using library GO_Cellular_Component_2018 when cutoff = 0.05\n",
      "2020-01-16 19:00:42,891 Warning: No enrich terms using library Human_Phenotype_Ontology when cutoff = 0.05\n",
      "2020-01-16 19:00:45,364 Warning: No enrich terms using library WikiPathways_2019_Human when cutoff = 0.05\n"
     ]
    },
    {
     "name": "stdout",
     "output_type": "stream",
     "text": [
      "                                                 Term  Adjusted P-value  \\\n",
      "26                     HALLMARK_XENOBIOTIC_METABOLISM          0.040000   \n",
      "27                  KEGG_STEROID_HORMONE_BIOSYNTHESIS          0.019800   \n",
      "28                     REACTOME_ANDROGEN_BIOSYNTHESIS          0.009900   \n",
      "30                    REACTOME_DISEASES_OF_METABOLISM          0.031200   \n",
      "31               REACTOME_GLUCOCORTICOID_BIOSYNTHESIS          0.009900   \n",
      "32  REACTOME_METABOLIC_DISORDERS_OF_BIOLOGICAL_OXI...          0.016200   \n",
      "34                    REACTOME_METABOLISM_OF_STEROIDS          0.038571   \n",
      "35            REACTOME_METABOLISM_OF_STEROID_HORMONES          0.016200   \n",
      "\n",
      "                 Gene_set  \n",
      "26  CUSTOM140471872851832  \n",
      "27  CUSTOM140471872850320  \n",
      "28  CUSTOM140471872850320  \n",
      "30  CUSTOM140471872850320  \n",
      "31  CUSTOM140471872850320  \n",
      "32  CUSTOM140471872850320  \n",
      "34  CUSTOM140471872850320  \n",
      "35  CUSTOM140471872850320  \n",
      "Topic 430\n"
     ]
    },
    {
     "name": "stderr",
     "output_type": "stream",
     "text": [
      "2020-01-16 19:00:48,416 Warning: No enrich terms using library GO_Molecular_Function_2018 when cutoff = 0.05\n",
      "2020-01-16 19:00:50,881 Warning: No enrich terms using library GO_Biological_Process_2018 when cutoff = 0.05\n",
      "2020-01-16 19:00:53,465 Warning: No enrich terms using library GO_Cellular_Component_2018 when cutoff = 0.05\n",
      "2020-01-16 19:00:55,935 Warning: No enrich terms using library Human_Phenotype_Ontology when cutoff = 0.05\n",
      "2020-01-16 19:00:58,399 Warning: No enrich terms using library WikiPathways_2019_Human when cutoff = 0.05\n",
      "2020-01-16 19:00:58,418 Warning: No enrich terms using library CUSTOM140471968788624 when cutoff = 0.05\n"
     ]
    },
    {
     "name": "stdout",
     "output_type": "stream",
     "text": [
      "Empty DataFrame\n",
      "Columns: [Term, Adjusted P-value, Gene_set]\n",
      "Index: []\n",
      "Topic 431\n"
     ]
    },
    {
     "name": "stderr",
     "output_type": "stream",
     "text": [
      "2020-01-16 19:01:01,231 Warning: No enrich terms using library GO_Molecular_Function_2018 when cutoff = 0.05\n",
      "2020-01-16 19:01:03,705 Warning: No enrich terms using library GO_Biological_Process_2018 when cutoff = 0.05\n",
      "2020-01-16 19:01:06,171 Warning: No enrich terms using library GO_Cellular_Component_2018 when cutoff = 0.05\n",
      "2020-01-16 19:01:08,636 Warning: No enrich terms using library Human_Phenotype_Ontology when cutoff = 0.05\n",
      "2020-01-16 19:01:11,096 Warning: No enrich terms using library WikiPathways_2019_Human when cutoff = 0.05\n"
     ]
    },
    {
     "name": "stdout",
     "output_type": "stream",
     "text": [
      "                              Term  Adjusted P-value               Gene_set\n",
      "15  REACTOME_SURFACTANT_METABOLISM             0.024  CUSTOM140472021376168\n",
      "Topic 432\n"
     ]
    },
    {
     "name": "stderr",
     "output_type": "stream",
     "text": [
      "2020-01-16 19:01:14,024 Warning: No enrich terms using library GO_Molecular_Function_2018 when cutoff = 0.05\n",
      "2020-01-16 19:01:16,484 Warning: No enrich terms using library GO_Biological_Process_2018 when cutoff = 0.05\n",
      "2020-01-16 19:01:18,943 Warning: No enrich terms using library GO_Cellular_Component_2018 when cutoff = 0.05\n",
      "2020-01-16 19:01:21,405 Warning: No enrich terms using library Human_Phenotype_Ontology when cutoff = 0.05\n",
      "2020-01-16 19:01:23,892 Warning: No enrich terms using library WikiPathways_2019_Human when cutoff = 0.05\n"
     ]
    },
    {
     "name": "stdout",
     "output_type": "stream",
     "text": [
      "                     Term  Adjusted P-value               Gene_set\n",
      "2  BIOCARTA_CDMAC_PATHWAY            0.0032  CUSTOM140471917966968\n",
      "Topic 433\n",
      "<class 'Exception'> Error analyzing gene list <traceback object at 0x7fc22a5b4788>\n",
      "                     Term  Adjusted P-value               Gene_set\n",
      "2  BIOCARTA_CDMAC_PATHWAY            0.0032  CUSTOM140471917966968\n",
      "Topic 434\n"
     ]
    },
    {
     "name": "stderr",
     "output_type": "stream",
     "text": [
      "2020-01-16 19:01:27,396 Warning: No enrich terms using library GO_Molecular_Function_2018 when cutoff = 0.05\n",
      "2020-01-16 19:01:29,879 Warning: No enrich terms using library GO_Biological_Process_2018 when cutoff = 0.05\n",
      "2020-01-16 19:01:32,339 Warning: No enrich terms using library GO_Cellular_Component_2018 when cutoff = 0.05\n",
      "2020-01-16 19:01:34,814 Warning: No enrich terms using library Human_Phenotype_Ontology when cutoff = 0.05\n",
      "2020-01-16 19:01:37,350 Warning: No enrich terms using library WikiPathways_2019_Human when cutoff = 0.05\n",
      "2020-01-16 19:01:37,358 Warning: No enrich terms using library CUSTOM140472021998184 when cutoff = 0.05\n"
     ]
    },
    {
     "name": "stdout",
     "output_type": "stream",
     "text": [
      "                                            Term  Adjusted P-value  \\\n",
      "23                             PID_TAP63_PATHWAY          0.028647   \n",
      "24                REACTOME_DEVELOPMENTAL_BIOLOGY          0.048718   \n",
      "25  REACTOME_FORMATION_OF_THE_CORNIFIED_ENVELOPE          0.002601   \n",
      "26                       REACTOME_KERATINIZATION          0.003716   \n",
      "\n",
      "                 Gene_set  \n",
      "23  CUSTOM140472021707728  \n",
      "24  CUSTOM140472021707728  \n",
      "25  CUSTOM140472021707728  \n",
      "26  CUSTOM140472021707728  \n",
      "Topic 435\n"
     ]
    },
    {
     "name": "stderr",
     "output_type": "stream",
     "text": [
      "2020-01-16 19:01:40,384 Warning: No enrich terms using library GO_Molecular_Function_2018 when cutoff = 0.05\n",
      "2020-01-16 19:01:42,856 Warning: No enrich terms using library GO_Biological_Process_2018 when cutoff = 0.05\n"
     ]
    },
    {
     "name": "stdout",
     "output_type": "stream",
     "text": [
      "<class 'requests.exceptions.ConnectionError'> ('Connection aborted.', ConnectionResetError(104, 'Connection reset by peer')) <traceback object at 0x7fc229764e08>\n",
      "                                            Term  Adjusted P-value  \\\n",
      "23                             PID_TAP63_PATHWAY          0.028647   \n",
      "24                REACTOME_DEVELOPMENTAL_BIOLOGY          0.048718   \n",
      "25  REACTOME_FORMATION_OF_THE_CORNIFIED_ENVELOPE          0.002601   \n",
      "26                       REACTOME_KERATINIZATION          0.003716   \n",
      "\n",
      "                 Gene_set  \n",
      "23  CUSTOM140472021707728  \n",
      "24  CUSTOM140472021707728  \n",
      "25  CUSTOM140472021707728  \n",
      "26  CUSTOM140472021707728  \n",
      "Topic 436\n"
     ]
    },
    {
     "name": "stderr",
     "output_type": "stream",
     "text": [
      "2020-01-16 19:01:45,925 Warning: No enrich terms using library GO_Molecular_Function_2018 when cutoff = 0.05\n",
      "2020-01-16 19:01:48,390 Warning: No enrich terms using library GO_Biological_Process_2018 when cutoff = 0.05\n",
      "2020-01-16 19:01:50,856 Warning: No enrich terms using library GO_Cellular_Component_2018 when cutoff = 0.05\n",
      "2020-01-16 19:01:53,324 Warning: No enrich terms using library Human_Phenotype_Ontology when cutoff = 0.05\n",
      "2020-01-16 19:01:55,819 Warning: No enrich terms using library WikiPathways_2019_Human when cutoff = 0.05\n"
     ]
    },
    {
     "name": "stdout",
     "output_type": "stream",
     "text": [
      "                                    Term  Adjusted P-value  \\\n",
      "43                   HALLMARK_MYOGENESIS            0.0400   \n",
      "44           REACTOME_MUSCLE_CONTRACTION            0.0414   \n",
      "45  REACTOME_STRIATED_MUSCLE_CONTRACTION            0.0144   \n",
      "\n",
      "                 Gene_set  \n",
      "43  CUSTOM140472022148152  \n",
      "44  CUSTOM140472022150456  \n",
      "45  CUSTOM140472022150456  \n",
      "Topic 437\n"
     ]
    },
    {
     "name": "stderr",
     "output_type": "stream",
     "text": [
      "2020-01-16 19:01:58,858 Warning: No enrich terms using library GO_Molecular_Function_2018 when cutoff = 0.05\n",
      "2020-01-16 19:02:01,325 Warning: No enrich terms using library GO_Biological_Process_2018 when cutoff = 0.05\n",
      "2020-01-16 19:02:03,793 Warning: No enrich terms using library GO_Cellular_Component_2018 when cutoff = 0.05\n",
      "2020-01-16 19:02:06,266 Warning: No enrich terms using library Human_Phenotype_Ontology when cutoff = 0.05\n",
      "2020-01-16 19:02:08,756 Warning: No enrich terms using library WikiPathways_2019_Human when cutoff = 0.05\n"
     ]
    },
    {
     "name": "stdout",
     "output_type": "stream",
     "text": [
      "                                             Term  Adjusted P-value  \\\n",
      "50                HALLMARK_ESTROGEN_RESPONSE_LATE          0.040000   \n",
      "51                        KEGG_PARKINSONS_DISEASE          0.029257   \n",
      "52                       KEGG_TYROSINE_METABOLISM          0.016800   \n",
      "53                    PID_ALPHA_SYNUCLEIN_PATHWAY          0.016800   \n",
      "54                                PID_AP1_PATHWAY          0.018667   \n",
      "55                               PID_ATF2_PATHWAY          0.018667   \n",
      "56                            PID_P38_MK2_PATHWAY          0.016800   \n",
      "57  REACTOME_METABOLISM_OF_AMINE_DERIVED_HORMONES          0.016800   \n",
      "\n",
      "                 Gene_set  \n",
      "50  CUSTOM140471929895168  \n",
      "51  CUSTOM140471929894376  \n",
      "52  CUSTOM140471929894376  \n",
      "53  CUSTOM140471929894376  \n",
      "54  CUSTOM140471929894376  \n",
      "55  CUSTOM140471929894376  \n",
      "56  CUSTOM140471929894376  \n",
      "57  CUSTOM140471929894376  \n",
      "Topic 438\n"
     ]
    },
    {
     "name": "stderr",
     "output_type": "stream",
     "text": [
      "2020-01-16 19:02:11,814 Warning: No enrich terms using library GO_Molecular_Function_2018 when cutoff = 0.05\n",
      "2020-01-16 19:02:14,283 Warning: No enrich terms using library GO_Biological_Process_2018 when cutoff = 0.05\n",
      "2020-01-16 19:02:16,747 Warning: No enrich terms using library GO_Cellular_Component_2018 when cutoff = 0.05\n",
      "2020-01-16 19:02:19,216 Warning: No enrich terms using library Human_Phenotype_Ontology when cutoff = 0.05\n",
      "2020-01-16 19:02:21,673 Warning: No enrich terms using library WikiPathways_2019_Human when cutoff = 0.05\n",
      "2020-01-16 19:02:21,681 Warning: No enrich terms using library CUSTOM140471869428072 when cutoff = 0.05\n"
     ]
    },
    {
     "name": "stdout",
     "output_type": "stream",
     "text": [
      "                                          Term  Adjusted P-value  \\\n",
      "64                REACTOME_ABACAVIR_METABOLISM          0.049955   \n",
      "65  REACTOME_ABACAVIR_TRANSPORT_AND_METABOLISM          0.049955   \n",
      "\n",
      "                 Gene_set  \n",
      "64  CUSTOM140471953396936  \n",
      "65  CUSTOM140471953396936  \n",
      "Topic 439\n",
      "<class 'Exception'> Error analyzing gene list <traceback object at 0x7fc22c94ca08>\n",
      "                                          Term  Adjusted P-value  \\\n",
      "64                REACTOME_ABACAVIR_METABOLISM          0.049955   \n",
      "65  REACTOME_ABACAVIR_TRANSPORT_AND_METABOLISM          0.049955   \n",
      "\n",
      "                 Gene_set  \n",
      "64  CUSTOM140471953396936  \n",
      "65  CUSTOM140471953396936  \n",
      "Topic 440\n"
     ]
    },
    {
     "name": "stderr",
     "output_type": "stream",
     "text": [
      "2020-01-16 19:02:25,199 Warning: No enrich terms using library GO_Molecular_Function_2018 when cutoff = 0.05\n",
      "2020-01-16 19:02:27,671 Warning: No enrich terms using library GO_Biological_Process_2018 when cutoff = 0.05\n",
      "2020-01-16 19:02:30,135 Warning: No enrich terms using library GO_Cellular_Component_2018 when cutoff = 0.05\n",
      "2020-01-16 19:02:32,612 Warning: No enrich terms using library Human_Phenotype_Ontology when cutoff = 0.05\n",
      "2020-01-16 19:02:35,081 Warning: No enrich terms using library WikiPathways_2019_Human when cutoff = 0.05\n"
     ]
    },
    {
     "name": "stdout",
     "output_type": "stream",
     "text": [
      "                                             Term  Adjusted P-value  \\\n",
      "11                REACTOME_AMINO_ACID_CONJUGATION          0.014365   \n",
      "13  REACTOME_CONJUGATION_OF_BENZOATE_WITH_GLYCINE          0.014365   \n",
      "\n",
      "                 Gene_set  \n",
      "11  CUSTOM140472021824424  \n",
      "13  CUSTOM140472021824424  \n",
      "Topic 441\n"
     ]
    },
    {
     "name": "stderr",
     "output_type": "stream",
     "text": [
      "2020-01-16 19:02:38,012 Warning: No enrich terms using library GO_Molecular_Function_2018 when cutoff = 0.05\n",
      "2020-01-16 19:02:40,481 Warning: No enrich terms using library GO_Biological_Process_2018 when cutoff = 0.05\n",
      "2020-01-16 19:02:42,952 Warning: No enrich terms using library GO_Cellular_Component_2018 when cutoff = 0.05\n",
      "2020-01-16 19:02:45,422 Warning: No enrich terms using library Human_Phenotype_Ontology when cutoff = 0.05\n",
      "2020-01-16 19:02:47,878 Warning: No enrich terms using library WikiPathways_2019_Human when cutoff = 0.05\n"
     ]
    },
    {
     "name": "stdout",
     "output_type": "stream",
     "text": [
      "                                                 Term  Adjusted P-value  \\\n",
      "8           REACTOME_MULTIFUNCTIONAL_ANION_EXCHANGERS            0.0072   \n",
      "10  REACTOME_TRANSPORT_OF_INORGANIC_CATIONS_ANIONS...            0.0424   \n",
      "\n",
      "                 Gene_set  \n",
      "8   CUSTOM140472023239992  \n",
      "10  CUSTOM140472023239992  \n",
      "Topic 442\n"
     ]
    },
    {
     "name": "stderr",
     "output_type": "stream",
     "text": [
      "2020-01-16 19:02:50,823 Warning: No enrich terms using library GO_Molecular_Function_2018 when cutoff = 0.05\n",
      "2020-01-16 19:02:53,297 Warning: No enrich terms using library GO_Biological_Process_2018 when cutoff = 0.05\n",
      "2020-01-16 19:02:55,766 Warning: No enrich terms using library GO_Cellular_Component_2018 when cutoff = 0.05\n",
      "2020-01-16 19:02:58,238 Warning: No enrich terms using library Human_Phenotype_Ontology when cutoff = 0.05\n",
      "2020-01-16 19:03:00,713 Warning: No enrich terms using library WikiPathways_2019_Human when cutoff = 0.05\n",
      "2020-01-16 19:03:00,722 Warning: No enrich terms using library CUSTOM140471863217464 when cutoff = 0.05\n"
     ]
    },
    {
     "name": "stdout",
     "output_type": "stream",
     "text": [
      "                                   Term  Adjusted P-value  \\\n",
      "36  REACTOME_NEUROTRANSMITTER_CLEARANCE          0.023957   \n",
      "\n",
      "                 Gene_set  \n",
      "36  CUSTOM140472022707224  \n",
      "Topic 443\n"
     ]
    },
    {
     "name": "stderr",
     "output_type": "stream",
     "text": [
      "2020-01-16 19:03:03,766 Warning: No enrich terms using library GO_Molecular_Function_2018 when cutoff = 0.05\n",
      "2020-01-16 19:03:06,234 Warning: No enrich terms using library GO_Biological_Process_2018 when cutoff = 0.05\n",
      "2020-01-16 19:03:08,697 Warning: No enrich terms using library GO_Cellular_Component_2018 when cutoff = 0.05\n",
      "2020-01-16 19:03:11,161 Warning: No enrich terms using library Human_Phenotype_Ontology when cutoff = 0.05\n",
      "2020-01-16 19:03:13,659 Warning: No enrich terms using library WikiPathways_2019_Human when cutoff = 0.05\n"
     ]
    },
    {
     "name": "stdout",
     "output_type": "stream",
     "text": [
      "Empty DataFrame\n",
      "Columns: [Term, Adjusted P-value, Gene_set]\n",
      "Index: []\n",
      "Topic 444\n"
     ]
    },
    {
     "name": "stderr",
     "output_type": "stream",
     "text": [
      "2020-01-16 19:03:16,524 Warning: No enrich terms using library GO_Molecular_Function_2018 when cutoff = 0.05\n",
      "2020-01-16 19:03:19,009 Warning: No enrich terms using library GO_Biological_Process_2018 when cutoff = 0.05\n",
      "2020-01-16 19:03:21,477 Warning: No enrich terms using library GO_Cellular_Component_2018 when cutoff = 0.05\n",
      "2020-01-16 19:03:23,943 Warning: No enrich terms using library Human_Phenotype_Ontology when cutoff = 0.05\n",
      "2020-01-16 19:03:26,402 Warning: No enrich terms using library WikiPathways_2019_Human when cutoff = 0.05\n"
     ]
    },
    {
     "name": "stdout",
     "output_type": "stream",
     "text": [
      "                            Term  Adjusted P-value               Gene_set\n",
      "25  PID_BETA_CATENIN_NUC_PATHWAY          0.031747  CUSTOM140471927789392\n",
      "Topic 445\n"
     ]
    },
    {
     "name": "stderr",
     "output_type": "stream",
     "text": [
      "2020-01-16 19:03:29,345 Warning: No enrich terms using library GO_Molecular_Function_2018 when cutoff = 0.05\n",
      "2020-01-16 19:03:31,815 Warning: No enrich terms using library GO_Biological_Process_2018 when cutoff = 0.05\n",
      "2020-01-16 19:03:34,286 Warning: No enrich terms using library GO_Cellular_Component_2018 when cutoff = 0.05\n",
      "2020-01-16 19:03:36,757 Warning: No enrich terms using library Human_Phenotype_Ontology when cutoff = 0.05\n",
      "2020-01-16 19:03:39,219 Warning: No enrich terms using library WikiPathways_2019_Human when cutoff = 0.05\n",
      "2020-01-16 19:03:39,227 Warning: No enrich terms using library CUSTOM140471954581544 when cutoff = 0.05\n",
      "2020-01-16 19:03:39,248 Warning: No enrich terms using library CUSTOM140471954578096 when cutoff = 0.05\n"
     ]
    },
    {
     "name": "stdout",
     "output_type": "stream",
     "text": [
      "Empty DataFrame\n",
      "Columns: [Term, Adjusted P-value, Gene_set]\n",
      "Index: []\n",
      "Topic 446\n"
     ]
    },
    {
     "name": "stderr",
     "output_type": "stream",
     "text": [
      "2020-01-16 19:03:49,865 Warning: No enrich terms using library Human_Phenotype_Ontology when cutoff = 0.05\n",
      "2020-01-16 19:03:52,418 Warning: No enrich terms using library CUSTOM140472022707080 when cutoff = 0.05\n"
     ]
    },
    {
     "name": "stdout",
     "output_type": "stream",
     "text": [
      "                                                 Term  Adjusted P-value  \\\n",
      "0                    cholesterol binding (GO:0015485)          0.015569   \n",
      "1                         sterol binding (GO:0032934)          0.009722   \n",
      "17                chylomicron remodeling (GO:0034371)          0.002755   \n",
      "18                  chylomicron assembly (GO:0034378)          0.001722   \n",
      "19  regulation of triglyceride catabolic process (...          0.001148   \n",
      "20                   phospholipid efflux (GO:0033700)          0.001263   \n",
      "21  triglyceride-rich lipoprotein particle remodel...          0.001194   \n",
      "22         reverse cholesterol transport (GO:0043691)          0.001734   \n",
      "23  high-density lipoprotein particle remodeling (...          0.001486   \n",
      "24  regulation of lipoprotein lipase activity (GO:...          0.001817   \n",
      "25              acylglycerol homeostasis (GO:0055090)          0.001963   \n",
      "26        triglyceride catabolic process (GO:0019433)          0.001767   \n",
      "27                    cholesterol efflux (GO:0033344)          0.001759   \n",
      "28  regulation of fatty acid biosynthetic process ...          0.002409   \n",
      "29              triglyceride homeostasis (GO:0070328)          0.002224   \n",
      "30        acylglycerol catabolic process (GO:0046464)          0.002376   \n",
      "31                 cholesterol transport (GO:0030301)          0.004821   \n",
      "32  negative regulation of cellular biosynthetic p...          0.005164   \n",
      "33        triglyceride metabolic process (GO:0006641)          0.005961   \n",
      "34               cholesterol homeostasis (GO:0042632)          0.007016   \n",
      "\n",
      "                      Gene_set  \n",
      "0   GO_Molecular_Function_2018  \n",
      "1   GO_Molecular_Function_2018  \n",
      "17  GO_Biological_Process_2018  \n",
      "18  GO_Biological_Process_2018  \n",
      "19  GO_Biological_Process_2018  \n",
      "20  GO_Biological_Process_2018  \n",
      "21  GO_Biological_Process_2018  \n",
      "22  GO_Biological_Process_2018  \n",
      "23  GO_Biological_Process_2018  \n",
      "24  GO_Biological_Process_2018  \n",
      "25  GO_Biological_Process_2018  \n",
      "26  GO_Biological_Process_2018  \n",
      "27  GO_Biological_Process_2018  \n",
      "28  GO_Biological_Process_2018  \n",
      "29  GO_Biological_Process_2018  \n",
      "30  GO_Biological_Process_2018  \n",
      "31  GO_Biological_Process_2018  \n",
      "32  GO_Biological_Process_2018  \n",
      "33  GO_Biological_Process_2018  \n",
      "34  GO_Biological_Process_2018  \n",
      "Topic 447\n"
     ]
    },
    {
     "name": "stderr",
     "output_type": "stream",
     "text": [
      "2020-01-16 19:03:55,406 Warning: No enrich terms using library GO_Molecular_Function_2018 when cutoff = 0.05\n",
      "2020-01-16 19:03:57,874 Warning: No enrich terms using library GO_Biological_Process_2018 when cutoff = 0.05\n",
      "2020-01-16 19:04:00,340 Warning: No enrich terms using library GO_Cellular_Component_2018 when cutoff = 0.05\n",
      "2020-01-16 19:04:02,807 Warning: No enrich terms using library Human_Phenotype_Ontology when cutoff = 0.05\n",
      "2020-01-16 19:04:05,271 Warning: No enrich terms using library WikiPathways_2019_Human when cutoff = 0.05\n"
     ]
    },
    {
     "name": "stdout",
     "output_type": "stream",
     "text": [
      "                             Term  Adjusted P-value               Gene_set\n",
      "0  REACTOME_DEVELOPMENTAL_BIOLOGY          0.048718  CUSTOM140471877747768\n",
      "1         REACTOME_KERATINIZATION          0.003716  CUSTOM140471877747768\n",
      "Topic 448\n"
     ]
    },
    {
     "name": "stderr",
     "output_type": "stream",
     "text": [
      "2020-01-16 19:04:08,224 Warning: No enrich terms using library GO_Molecular_Function_2018 when cutoff = 0.05\n",
      "2020-01-16 19:04:10,705 Warning: No enrich terms using library GO_Biological_Process_2018 when cutoff = 0.05\n",
      "2020-01-16 19:04:13,176 Warning: No enrich terms using library GO_Cellular_Component_2018 when cutoff = 0.05\n",
      "2020-01-16 19:04:15,647 Warning: No enrich terms using library Human_Phenotype_Ontology when cutoff = 0.05\n",
      "2020-01-16 19:04:18,119 Warning: No enrich terms using library WikiPathways_2019_Human when cutoff = 0.05\n",
      "2020-01-16 19:04:18,127 Warning: No enrich terms using library CUSTOM140472021373360 when cutoff = 0.05\n",
      "2020-01-16 19:04:18,145 Warning: No enrich terms using library CUSTOM140472021374080 when cutoff = 0.05\n"
     ]
    },
    {
     "name": "stdout",
     "output_type": "stream",
     "text": [
      "Empty DataFrame\n",
      "Columns: [Term, Adjusted P-value, Gene_set]\n",
      "Index: []\n",
      "Topic 449\n",
      "<class 'Exception'> Error analyzing gene list <traceback object at 0x7fc22cac6208>\n",
      "Empty DataFrame\n",
      "Columns: [Term, Adjusted P-value, Gene_set]\n",
      "Index: []\n",
      "Topic 450\n"
     ]
    },
    {
     "name": "stderr",
     "output_type": "stream",
     "text": [
      "2020-01-16 19:04:21,528 Warning: No enrich terms using library GO_Molecular_Function_2018 when cutoff = 0.05\n",
      "2020-01-16 19:04:23,998 Warning: No enrich terms using library GO_Biological_Process_2018 when cutoff = 0.05\n",
      "2020-01-16 19:04:26,462 Warning: No enrich terms using library GO_Cellular_Component_2018 when cutoff = 0.05\n",
      "2020-01-16 19:04:28,932 Warning: No enrich terms using library Human_Phenotype_Ontology when cutoff = 0.05\n",
      "2020-01-16 19:04:31,393 Warning: No enrich terms using library WikiPathways_2019_Human when cutoff = 0.05\n",
      "2020-01-16 19:04:31,400 Warning: No enrich terms using library CUSTOM140471905070392 when cutoff = 0.05\n",
      "2020-01-16 19:04:31,420 Warning: No enrich terms using library CUSTOM140471905067584 when cutoff = 0.05\n"
     ]
    },
    {
     "name": "stdout",
     "output_type": "stream",
     "text": [
      "Empty DataFrame\n",
      "Columns: [Term, Adjusted P-value, Gene_set]\n",
      "Index: []\n",
      "Topic 451\n"
     ]
    },
    {
     "name": "stderr",
     "output_type": "stream",
     "text": [
      "2020-01-16 19:04:34,269 Warning: No enrich terms using library GO_Molecular_Function_2018 when cutoff = 0.05\n",
      "2020-01-16 19:04:36,741 Warning: No enrich terms using library GO_Biological_Process_2018 when cutoff = 0.05\n",
      "2020-01-16 19:04:39,209 Warning: No enrich terms using library GO_Cellular_Component_2018 when cutoff = 0.05\n",
      "2020-01-16 19:04:41,671 Warning: No enrich terms using library Human_Phenotype_Ontology when cutoff = 0.05\n",
      "2020-01-16 19:04:44,128 Warning: No enrich terms using library WikiPathways_2019_Human when cutoff = 0.05\n"
     ]
    },
    {
     "name": "stdout",
     "output_type": "stream",
     "text": [
      "Empty DataFrame\n",
      "Columns: [Term, Adjusted P-value, Gene_set]\n",
      "Index: []\n",
      "Topic 452\n"
     ]
    },
    {
     "name": "stderr",
     "output_type": "stream",
     "text": [
      "2020-01-16 19:04:46,972 Warning: No enrich terms using library GO_Molecular_Function_2018 when cutoff = 0.05\n",
      "2020-01-16 19:04:49,443 Warning: No enrich terms using library GO_Biological_Process_2018 when cutoff = 0.05\n",
      "2020-01-16 19:04:51,909 Warning: No enrich terms using library GO_Cellular_Component_2018 when cutoff = 0.05\n",
      "2020-01-16 19:04:54,376 Warning: No enrich terms using library Human_Phenotype_Ontology when cutoff = 0.05\n",
      "2020-01-16 19:04:56,843 Warning: No enrich terms using library WikiPathways_2019_Human when cutoff = 0.05\n"
     ]
    },
    {
     "name": "stdout",
     "output_type": "stream",
     "text": [
      "                                              Term  Adjusted P-value  \\\n",
      "17                        BIOCARTA_ARENRF2_PATHWAY          0.022000   \n",
      "18  KEGG_ALDOSTERONE_REGULATED_SODIUM_REABSORPTION          0.022000   \n",
      "19                 KEGG_CARDIAC_MUSCLE_CONTRACTION          0.026000   \n",
      "20    KEGG_PROXIMAL_TUBULE_BICARBONATE_RECLAMATION          0.022000   \n",
      "21                     REACTOME_CARDIAC_CONDUCTION          0.039714   \n",
      "22                  REACTOME_ION_CHANNEL_TRANSPORT          0.045750   \n",
      "23                        REACTOME_ION_HOMEOSTASIS          0.022000   \n",
      "24        REACTOME_ION_TRANSPORT_BY_P_TYPE_ATPASES          0.022000   \n",
      "25                     REACTOME_MUSCLE_CONTRACTION          0.046000   \n",
      "\n",
      "                 Gene_set  \n",
      "17  CUSTOM140471968791432  \n",
      "18  CUSTOM140471968791432  \n",
      "19  CUSTOM140471968791432  \n",
      "20  CUSTOM140471968791432  \n",
      "21  CUSTOM140471968791432  \n",
      "22  CUSTOM140471968791432  \n",
      "23  CUSTOM140471968791432  \n",
      "24  CUSTOM140471968791432  \n",
      "25  CUSTOM140471968791432  \n",
      "Topic 453\n",
      "<class 'requests.exceptions.ConnectionError'> ('Connection aborted.', ConnectionResetError(104, 'Connection reset by peer')) <traceback object at 0x7fc22c941e08>\n",
      "                                              Term  Adjusted P-value  \\\n",
      "17                        BIOCARTA_ARENRF2_PATHWAY          0.022000   \n",
      "18  KEGG_ALDOSTERONE_REGULATED_SODIUM_REABSORPTION          0.022000   \n",
      "19                 KEGG_CARDIAC_MUSCLE_CONTRACTION          0.026000   \n",
      "20    KEGG_PROXIMAL_TUBULE_BICARBONATE_RECLAMATION          0.022000   \n",
      "21                     REACTOME_CARDIAC_CONDUCTION          0.039714   \n",
      "22                  REACTOME_ION_CHANNEL_TRANSPORT          0.045750   \n",
      "23                        REACTOME_ION_HOMEOSTASIS          0.022000   \n",
      "24        REACTOME_ION_TRANSPORT_BY_P_TYPE_ATPASES          0.022000   \n",
      "25                     REACTOME_MUSCLE_CONTRACTION          0.046000   \n",
      "\n",
      "                 Gene_set  \n",
      "17  CUSTOM140471968791432  \n",
      "18  CUSTOM140471968791432  \n",
      "19  CUSTOM140471968791432  \n",
      "20  CUSTOM140471968791432  \n",
      "21  CUSTOM140471968791432  \n",
      "22  CUSTOM140471968791432  \n",
      "23  CUSTOM140471968791432  \n",
      "24  CUSTOM140471968791432  \n",
      "25  CUSTOM140471968791432  \n",
      "Topic 454\n"
     ]
    },
    {
     "name": "stderr",
     "output_type": "stream",
     "text": [
      "2020-01-16 19:05:00,384 Warning: No enrich terms using library GO_Molecular_Function_2018 when cutoff = 0.05\n",
      "2020-01-16 19:05:02,853 Warning: No enrich terms using library GO_Biological_Process_2018 when cutoff = 0.05\n",
      "2020-01-16 19:05:05,324 Warning: No enrich terms using library GO_Cellular_Component_2018 when cutoff = 0.05\n",
      "2020-01-16 19:05:07,882 Warning: No enrich terms using library Human_Phenotype_Ontology when cutoff = 0.05\n",
      "2020-01-16 19:05:10,346 Warning: No enrich terms using library WikiPathways_2019_Human when cutoff = 0.05\n",
      "2020-01-16 19:05:10,363 Warning: No enrich terms using library CUSTOM140472023169424 when cutoff = 0.05\n"
     ]
    },
    {
     "name": "stdout",
     "output_type": "stream",
     "text": [
      "Empty DataFrame\n",
      "Columns: [Term, Adjusted P-value, Gene_set]\n",
      "Index: []\n",
      "Topic 455\n"
     ]
    },
    {
     "name": "stderr",
     "output_type": "stream",
     "text": [
      "2020-01-16 19:05:13,250 Warning: No enrich terms using library GO_Molecular_Function_2018 when cutoff = 0.05\n",
      "2020-01-16 19:05:15,733 Warning: No enrich terms using library GO_Biological_Process_2018 when cutoff = 0.05\n",
      "2020-01-16 19:05:18,206 Warning: No enrich terms using library GO_Cellular_Component_2018 when cutoff = 0.05\n",
      "2020-01-16 19:05:20,695 Warning: No enrich terms using library Human_Phenotype_Ontology when cutoff = 0.05\n",
      "2020-01-16 19:05:23,178 Warning: No enrich terms using library WikiPathways_2019_Human when cutoff = 0.05\n"
     ]
    },
    {
     "name": "stdout",
     "output_type": "stream",
     "text": [
      "                       Term  Adjusted P-value               Gene_set\n",
      "0  HALLMARK_SPERMATOGENESIS             0.027  CUSTOM140471918872760\n",
      "Topic 456\n"
     ]
    },
    {
     "name": "stderr",
     "output_type": "stream",
     "text": [
      "2020-01-16 19:05:26,127 Warning: No enrich terms using library GO_Molecular_Function_2018 when cutoff = 0.05\n",
      "2020-01-16 19:05:28,598 Warning: No enrich terms using library GO_Biological_Process_2018 when cutoff = 0.05\n",
      "2020-01-16 19:05:31,068 Warning: No enrich terms using library GO_Cellular_Component_2018 when cutoff = 0.05\n",
      "2020-01-16 19:05:33,531 Warning: No enrich terms using library Human_Phenotype_Ontology when cutoff = 0.05\n",
      "2020-01-16 19:05:35,987 Warning: No enrich terms using library WikiPathways_2019_Human when cutoff = 0.05\n",
      "2020-01-16 19:05:35,996 Warning: No enrich terms using library CUSTOM140471895416408 when cutoff = 0.05\n"
     ]
    },
    {
     "name": "stdout",
     "output_type": "stream",
     "text": [
      "                                                Term  Adjusted P-value  \\\n",
      "10  REACTOME_TNFS_BIND_THEIR_PHYSIOLOGICAL_RECEPTORS          0.044679   \n",
      "\n",
      "                 Gene_set  \n",
      "10  CUSTOM140471895413168  \n",
      "Topic 457\n"
     ]
    },
    {
     "name": "stderr",
     "output_type": "stream",
     "text": [
      "2020-01-16 19:05:38,903 Warning: No enrich terms using library GO_Molecular_Function_2018 when cutoff = 0.05\n",
      "2020-01-16 19:05:41,364 Warning: No enrich terms using library GO_Biological_Process_2018 when cutoff = 0.05\n",
      "2020-01-16 19:05:44,022 Warning: No enrich terms using library GO_Cellular_Component_2018 when cutoff = 0.05\n",
      "2020-01-16 19:05:46,497 Warning: No enrich terms using library Human_Phenotype_Ontology when cutoff = 0.05\n",
      "2020-01-16 19:05:48,971 Warning: No enrich terms using library WikiPathways_2019_Human when cutoff = 0.05\n",
      "2020-01-16 19:05:48,988 Warning: No enrich terms using library CUSTOM140472027108336 when cutoff = 0.05\n"
     ]
    },
    {
     "name": "stdout",
     "output_type": "stream",
     "text": [
      "Empty DataFrame\n",
      "Columns: [Term, Adjusted P-value, Gene_set]\n",
      "Index: []\n",
      "Topic 458\n"
     ]
    },
    {
     "name": "stderr",
     "output_type": "stream",
     "text": [
      "2020-01-16 19:05:51,828 Warning: No enrich terms using library GO_Molecular_Function_2018 when cutoff = 0.05\n",
      "2020-01-16 19:05:54,299 Warning: No enrich terms using library GO_Biological_Process_2018 when cutoff = 0.05\n",
      "2020-01-16 19:05:56,774 Warning: No enrich terms using library GO_Cellular_Component_2018 when cutoff = 0.05\n",
      "2020-01-16 19:05:59,234 Warning: No enrich terms using library Human_Phenotype_Ontology when cutoff = 0.05\n",
      "2020-01-16 19:06:01,700 Warning: No enrich terms using library WikiPathways_2019_Human when cutoff = 0.05\n"
     ]
    },
    {
     "name": "stdout",
     "output_type": "stream",
     "text": [
      "Empty DataFrame\n",
      "Columns: [Term, Adjusted P-value, Gene_set]\n",
      "Index: []\n",
      "Topic 459\n"
     ]
    },
    {
     "name": "stderr",
     "output_type": "stream",
     "text": [
      "2020-01-16 19:06:04,542 Warning: No enrich terms using library GO_Molecular_Function_2018 when cutoff = 0.05\n",
      "2020-01-16 19:06:07,007 Warning: No enrich terms using library GO_Biological_Process_2018 when cutoff = 0.05\n",
      "2020-01-16 19:06:09,473 Warning: No enrich terms using library GO_Cellular_Component_2018 when cutoff = 0.05\n",
      "2020-01-16 19:06:11,943 Warning: No enrich terms using library Human_Phenotype_Ontology when cutoff = 0.05\n",
      "2020-01-16 19:06:14,406 Warning: No enrich terms using library WikiPathways_2019_Human when cutoff = 0.05\n"
     ]
    },
    {
     "name": "stdout",
     "output_type": "stream",
     "text": [
      "Empty DataFrame\n",
      "Columns: [Term, Adjusted P-value, Gene_set]\n",
      "Index: []\n",
      "Topic 460\n"
     ]
    },
    {
     "name": "stderr",
     "output_type": "stream",
     "text": [
      "2020-01-16 19:06:17,240 Warning: No enrich terms using library GO_Molecular_Function_2018 when cutoff = 0.05\n",
      "2020-01-16 19:06:19,707 Warning: No enrich terms using library GO_Biological_Process_2018 when cutoff = 0.05\n",
      "2020-01-16 19:06:22,172 Warning: No enrich terms using library GO_Cellular_Component_2018 when cutoff = 0.05\n",
      "2020-01-16 19:06:24,692 Warning: No enrich terms using library Human_Phenotype_Ontology when cutoff = 0.05\n",
      "2020-01-16 19:06:27,153 Warning: No enrich terms using library WikiPathways_2019_Human when cutoff = 0.05\n",
      "2020-01-16 19:06:27,170 Warning: No enrich terms using library CUSTOM140471922672984 when cutoff = 0.05\n"
     ]
    },
    {
     "name": "stdout",
     "output_type": "stream",
     "text": [
      "Empty DataFrame\n",
      "Columns: [Term, Adjusted P-value, Gene_set]\n",
      "Index: []\n",
      "Topic 461\n"
     ]
    },
    {
     "name": "stderr",
     "output_type": "stream",
     "text": [
      "2020-01-16 19:06:30,025 Warning: No enrich terms using library GO_Molecular_Function_2018 when cutoff = 0.05\n",
      "2020-01-16 19:06:32,515 Warning: No enrich terms using library GO_Biological_Process_2018 when cutoff = 0.05\n",
      "2020-01-16 19:06:34,984 Warning: No enrich terms using library GO_Cellular_Component_2018 when cutoff = 0.05\n",
      "2020-01-16 19:06:37,451 Warning: No enrich terms using library Human_Phenotype_Ontology when cutoff = 0.05\n",
      "2020-01-16 19:06:39,922 Warning: No enrich terms using library WikiPathways_2019_Human when cutoff = 0.05\n",
      "2020-01-16 19:06:39,940 Warning: No enrich terms using library CUSTOM140472021801648 when cutoff = 0.05\n"
     ]
    },
    {
     "name": "stdout",
     "output_type": "stream",
     "text": [
      "Empty DataFrame\n",
      "Columns: [Term, Adjusted P-value, Gene_set]\n",
      "Index: []\n",
      "Topic 462\n"
     ]
    },
    {
     "name": "stderr",
     "output_type": "stream",
     "text": [
      "2020-01-16 19:06:42,766 Warning: No enrich terms using library GO_Molecular_Function_2018 when cutoff = 0.05\n",
      "2020-01-16 19:06:45,233 Warning: No enrich terms using library GO_Biological_Process_2018 when cutoff = 0.05\n",
      "2020-01-16 19:06:47,692 Warning: No enrich terms using library GO_Cellular_Component_2018 when cutoff = 0.05\n",
      "2020-01-16 19:06:50,153 Warning: No enrich terms using library Human_Phenotype_Ontology when cutoff = 0.05\n",
      "2020-01-16 19:06:52,613 Warning: No enrich terms using library WikiPathways_2019_Human when cutoff = 0.05\n",
      "2020-01-16 19:06:52,631 Warning: No enrich terms using library CUSTOM140471958110000 when cutoff = 0.05\n"
     ]
    },
    {
     "name": "stdout",
     "output_type": "stream",
     "text": [
      "Empty DataFrame\n",
      "Columns: [Term, Adjusted P-value, Gene_set]\n",
      "Index: []\n",
      "Topic 463\n"
     ]
    },
    {
     "name": "stderr",
     "output_type": "stream",
     "text": [
      "2020-01-16 19:06:55,444 Warning: No enrich terms using library GO_Molecular_Function_2018 when cutoff = 0.05\n",
      "2020-01-16 19:06:57,911 Warning: No enrich terms using library GO_Biological_Process_2018 when cutoff = 0.05\n",
      "2020-01-16 19:07:00,373 Warning: No enrich terms using library GO_Cellular_Component_2018 when cutoff = 0.05\n",
      "2020-01-16 19:07:02,848 Warning: No enrich terms using library Human_Phenotype_Ontology when cutoff = 0.05\n",
      "2020-01-16 19:07:05,312 Warning: No enrich terms using library WikiPathways_2019_Human when cutoff = 0.05\n"
     ]
    },
    {
     "name": "stdout",
     "output_type": "stream",
     "text": [
      "                                 Term  Adjusted P-value               Gene_set\n",
      "1  HALLMARK_INTERFERON_GAMMA_RESPONSE              0.04  CUSTOM140471930071080\n",
      "Topic 464\n"
     ]
    },
    {
     "name": "stderr",
     "output_type": "stream",
     "text": [
      "2020-01-16 19:07:08,239 Warning: No enrich terms using library GO_Molecular_Function_2018 when cutoff = 0.05\n",
      "2020-01-16 19:07:10,698 Warning: No enrich terms using library GO_Biological_Process_2018 when cutoff = 0.05\n",
      "2020-01-16 19:07:13,166 Warning: No enrich terms using library GO_Cellular_Component_2018 when cutoff = 0.05\n",
      "2020-01-16 19:07:15,636 Warning: No enrich terms using library Human_Phenotype_Ontology when cutoff = 0.05\n",
      "2020-01-16 19:07:18,107 Warning: No enrich terms using library WikiPathways_2019_Human when cutoff = 0.05\n"
     ]
    },
    {
     "name": "stdout",
     "output_type": "stream",
     "text": [
      "Empty DataFrame\n",
      "Columns: [Term, Adjusted P-value, Gene_set]\n",
      "Index: []\n",
      "Topic 465\n",
      "<class 'Exception'> Error analyzing gene list <traceback object at 0x7fc22ac0d508>\n",
      "Empty DataFrame\n",
      "Columns: [Term, Adjusted P-value, Gene_set]\n",
      "Index: []\n",
      "Topic 466\n"
     ]
    },
    {
     "name": "stderr",
     "output_type": "stream",
     "text": [
      "2020-01-16 19:07:21,499 Warning: No enrich terms using library GO_Molecular_Function_2018 when cutoff = 0.05\n",
      "2020-01-16 19:07:23,977 Warning: No enrich terms using library GO_Biological_Process_2018 when cutoff = 0.05\n",
      "2020-01-16 19:07:26,444 Warning: No enrich terms using library GO_Cellular_Component_2018 when cutoff = 0.05\n",
      "2020-01-16 19:07:28,914 Warning: No enrich terms using library Human_Phenotype_Ontology when cutoff = 0.05\n",
      "2020-01-16 19:07:31,378 Warning: No enrich terms using library WikiPathways_2019_Human when cutoff = 0.05\n"
     ]
    },
    {
     "name": "stdout",
     "output_type": "stream",
     "text": [
      "Empty DataFrame\n",
      "Columns: [Term, Adjusted P-value, Gene_set]\n",
      "Index: []\n",
      "Topic 467\n"
     ]
    },
    {
     "name": "stderr",
     "output_type": "stream",
     "text": [
      "2020-01-16 19:07:34,189 Warning: No enrich terms using library GO_Molecular_Function_2018 when cutoff = 0.05\n",
      "2020-01-16 19:07:36,670 Warning: No enrich terms using library GO_Biological_Process_2018 when cutoff = 0.05\n",
      "2020-01-16 19:07:39,141 Warning: No enrich terms using library GO_Cellular_Component_2018 when cutoff = 0.05\n",
      "2020-01-16 19:07:41,628 Warning: No enrich terms using library Human_Phenotype_Ontology when cutoff = 0.05\n",
      "2020-01-16 19:07:44,120 Warning: No enrich terms using library WikiPathways_2019_Human when cutoff = 0.05\n"
     ]
    },
    {
     "name": "stdout",
     "output_type": "stream",
     "text": [
      "                                                 Term  Adjusted P-value  \\\n",
      "55  REACTOME_ACETYLCHOLINE_NEUROTRANSMITTER_RELEAS...          0.026339   \n",
      "59  REACTOME_CYTOSOLIC_SULFONATION_OF_SMALL_MOLECULES          0.026339   \n",
      "61   REACTOME_DOPAMINE_NEUROTRANSMITTER_RELEASE_CYCLE          0.026339   \n",
      "62  REACTOME_GABA_SYNTHESIS_RELEASE_REUPTAKE_AND_D...          0.026339   \n",
      "63  REACTOME_GLUTAMATE_NEUROTRANSMITTER_RELEASE_CYCLE          0.026339   \n",
      "65                 REACTOME_NEUREXINS_AND_NEUROLIGINS          0.041566   \n",
      "67       REACTOME_NEUROTOXICITY_OF_CLOSTRIDIUM_TOXINS          0.026339   \n",
      "68            REACTOME_NEUROTRANSMITTER_RELEASE_CYCLE          0.040596   \n",
      "69  REACTOME_NOREPINEPHRINE_NEUROTRANSMITTER_RELEA...          0.026339   \n",
      "72  REACTOME_SEROTONIN_NEUROTRANSMITTER_RELEASE_CYCLE          0.026339   \n",
      "74    REACTOME_UPTAKE_AND_ACTIONS_OF_BACTERIAL_TOXINS          0.028276   \n",
      "76                                 SIG_CD40PATHWAYMAP          0.029821   \n",
      "\n",
      "                 Gene_set  \n",
      "55  CUSTOM140472027243072  \n",
      "59  CUSTOM140472027243072  \n",
      "61  CUSTOM140472027243072  \n",
      "62  CUSTOM140472027243072  \n",
      "63  CUSTOM140472027243072  \n",
      "65  CUSTOM140472027243072  \n",
      "67  CUSTOM140472027243072  \n",
      "68  CUSTOM140472027243072  \n",
      "69  CUSTOM140472027243072  \n",
      "72  CUSTOM140472027243072  \n",
      "74  CUSTOM140472027243072  \n",
      "76  CUSTOM140472027243072  \n",
      "Topic 468\n"
     ]
    },
    {
     "name": "stderr",
     "output_type": "stream",
     "text": [
      "2020-01-16 19:07:47,186 Warning: No enrich terms using library GO_Molecular_Function_2018 when cutoff = 0.05\n",
      "2020-01-16 19:07:49,652 Warning: No enrich terms using library GO_Biological_Process_2018 when cutoff = 0.05\n",
      "2020-01-16 19:07:52,118 Warning: No enrich terms using library GO_Cellular_Component_2018 when cutoff = 0.05\n",
      "2020-01-16 19:07:54,577 Warning: No enrich terms using library Human_Phenotype_Ontology when cutoff = 0.05\n",
      "2020-01-16 19:07:57,043 Warning: No enrich terms using library WikiPathways_2019_Human when cutoff = 0.05\n"
     ]
    },
    {
     "name": "stdout",
     "output_type": "stream",
     "text": [
      "                                                 Term  Adjusted P-value  \\\n",
      "19                              BIOCARTA_SLRP_PATHWAY          0.011992   \n",
      "22                                 NABA_PROTEOGLYCANS          0.026161   \n",
      "23  REACTOME_DEFECTIVE_B4GALT1_CAUSES_B4GALT1_CDG_...          0.011992   \n",
      "24              REACTOME_DEFECTIVE_CHST6_CAUSES_MCDC1          0.011992   \n",
      "25  REACTOME_DEFECTIVE_ST3GAL3_CAUSES_MCT12_AND_EI...          0.011992   \n",
      "27  REACTOME_DISEASES_ASSOCIATED_WITH_GLYCOSAMINOG...          0.027224   \n",
      "30              REACTOME_KERATAN_SULFATE_BIOSYNTHESIS          0.026161   \n",
      "31               REACTOME_KERATAN_SULFATE_DEGRADATION          0.015581   \n",
      "32        REACTOME_KERATAN_SULFATE_KERATIN_METABOLISM          0.026161   \n",
      "\n",
      "                 Gene_set  \n",
      "19  CUSTOM140472022920504  \n",
      "22  CUSTOM140472022920504  \n",
      "23  CUSTOM140472022920504  \n",
      "24  CUSTOM140472022920504  \n",
      "25  CUSTOM140472022920504  \n",
      "27  CUSTOM140472022920504  \n",
      "30  CUSTOM140472022920504  \n",
      "31  CUSTOM140472022920504  \n",
      "32  CUSTOM140472022920504  \n",
      "Topic 469\n"
     ]
    },
    {
     "name": "stderr",
     "output_type": "stream",
     "text": [
      "2020-01-16 19:08:00,022 Warning: No enrich terms using library GO_Molecular_Function_2018 when cutoff = 0.05\n",
      "2020-01-16 19:08:02,494 Warning: No enrich terms using library GO_Biological_Process_2018 when cutoff = 0.05\n",
      "2020-01-16 19:08:05,052 Warning: No enrich terms using library GO_Cellular_Component_2018 when cutoff = 0.05\n",
      "2020-01-16 19:08:07,523 Warning: No enrich terms using library Human_Phenotype_Ontology when cutoff = 0.05\n",
      "2020-01-16 19:08:10,014 Warning: No enrich terms using library WikiPathways_2019_Human when cutoff = 0.05\n",
      "2020-01-16 19:08:10,030 Warning: No enrich terms using library CUSTOM140472023623648 when cutoff = 0.05\n"
     ]
    },
    {
     "name": "stdout",
     "output_type": "stream",
     "text": [
      "                                                 Term  Adjusted P-value  \\\n",
      "69            KEGG_CYSTEINE_AND_METHIONINE_METABOLISM          0.027110   \n",
      "70       KEGG_GLYCINE_SERINE_AND_THREONINE_METABOLISM          0.027110   \n",
      "71  REACTOME_ASSEMBLY_OF_ACTIVE_LPL_AND_LIPC_LIPAS...          0.024276   \n",
      "72                      REACTOME_CHYLOMICRON_ASSEMBLY          0.021314   \n",
      "73                    REACTOME_CHYLOMICRON_REMODELING          0.021314   \n",
      "75                            REACTOME_HDL_REMODELING          0.021314   \n",
      "77        REACTOME_METABOLISM_OF_FAT_SOLUBLE_VITAMINS          0.033973   \n",
      "79               REACTOME_PLASMA_LIPOPROTEIN_ASSEMBLY          0.024276   \n",
      "80  REACTOME_PLASMA_LIPOPROTEIN_ASSEMBLY_REMODELIN...          0.045122   \n",
      "81             REACTOME_PLASMA_LIPOPROTEIN_REMODELING          0.027110   \n",
      "\n",
      "                 Gene_set  \n",
      "69  CUSTOM140471954014280  \n",
      "70  CUSTOM140471954014280  \n",
      "71  CUSTOM140471954014280  \n",
      "72  CUSTOM140471954014280  \n",
      "73  CUSTOM140471954014280  \n",
      "75  CUSTOM140471954014280  \n",
      "77  CUSTOM140471954014280  \n",
      "79  CUSTOM140471954014280  \n",
      "80  CUSTOM140471954014280  \n",
      "81  CUSTOM140471954014280  \n",
      "Topic 470\n"
     ]
    },
    {
     "name": "stderr",
     "output_type": "stream",
     "text": [
      "2020-01-16 19:08:13,019 Warning: No enrich terms using library GO_Molecular_Function_2018 when cutoff = 0.05\n",
      "2020-01-16 19:08:15,496 Warning: No enrich terms using library GO_Biological_Process_2018 when cutoff = 0.05\n",
      "2020-01-16 19:08:17,957 Warning: No enrich terms using library GO_Cellular_Component_2018 when cutoff = 0.05\n",
      "2020-01-16 19:08:20,414 Warning: No enrich terms using library Human_Phenotype_Ontology when cutoff = 0.05\n",
      "2020-01-16 19:08:22,887 Warning: No enrich terms using library WikiPathways_2019_Human when cutoff = 0.05\n"
     ]
    },
    {
     "name": "stdout",
     "output_type": "stream",
     "text": [
      "                                              Term  Adjusted P-value  \\\n",
      "17                   KEGG_PHENYLALANINE_METABOLISM          0.011980   \n",
      "18                        KEGG_TYROSINE_METABOLISM          0.020914   \n",
      "20  REACTOME_PHENYLALANINE_AND_TYROSINE_METABOLISM          0.010989   \n",
      "21                    REACTOME_TYROSINE_CATABOLISM          0.009996   \n",
      "\n",
      "                 Gene_set  \n",
      "17  CUSTOM140471960431136  \n",
      "18  CUSTOM140471960431136  \n",
      "20  CUSTOM140471960431136  \n",
      "21  CUSTOM140471960431136  \n",
      "Topic 471\n"
     ]
    },
    {
     "name": "stderr",
     "output_type": "stream",
     "text": [
      "2020-01-16 19:08:25,853 Warning: No enrich terms using library GO_Molecular_Function_2018 when cutoff = 0.05\n",
      "2020-01-16 19:08:28,328 Warning: No enrich terms using library GO_Biological_Process_2018 when cutoff = 0.05\n",
      "2020-01-16 19:08:30,800 Warning: No enrich terms using library GO_Cellular_Component_2018 when cutoff = 0.05\n",
      "2020-01-16 19:08:33,268 Warning: No enrich terms using library Human_Phenotype_Ontology when cutoff = 0.05\n",
      "2020-01-16 19:08:35,725 Warning: No enrich terms using library WikiPathways_2019_Human when cutoff = 0.05\n",
      "2020-01-16 19:08:35,734 Warning: No enrich terms using library CUSTOM140472023684800 when cutoff = 0.05\n",
      "2020-01-16 19:08:35,756 Warning: No enrich terms using library CUSTOM140472023686744 when cutoff = 0.05\n"
     ]
    },
    {
     "name": "stdout",
     "output_type": "stream",
     "text": [
      "Empty DataFrame\n",
      "Columns: [Term, Adjusted P-value, Gene_set]\n",
      "Index: []\n",
      "Topic 472\n"
     ]
    },
    {
     "name": "stderr",
     "output_type": "stream",
     "text": [
      "2020-01-16 19:08:38,599 Warning: No enrich terms using library GO_Molecular_Function_2018 when cutoff = 0.05\n",
      "2020-01-16 19:08:41,063 Warning: No enrich terms using library GO_Biological_Process_2018 when cutoff = 0.05\n",
      "2020-01-16 19:08:43,530 Warning: No enrich terms using library GO_Cellular_Component_2018 when cutoff = 0.05\n",
      "2020-01-16 19:08:46,044 Warning: No enrich terms using library Human_Phenotype_Ontology when cutoff = 0.05\n",
      "2020-01-16 19:08:48,511 Warning: No enrich terms using library WikiPathways_2019_Human when cutoff = 0.05\n",
      "2020-01-16 19:08:48,528 Warning: No enrich terms using library CUSTOM140472027432424 when cutoff = 0.05\n"
     ]
    },
    {
     "name": "stdout",
     "output_type": "stream",
     "text": [
      "Empty DataFrame\n",
      "Columns: [Term, Adjusted P-value, Gene_set]\n",
      "Index: []\n",
      "Topic 473\n"
     ]
    },
    {
     "name": "stderr",
     "output_type": "stream",
     "text": [
      "2020-01-16 19:08:51,356 Warning: No enrich terms using library GO_Molecular_Function_2018 when cutoff = 0.05\n"
     ]
    },
    {
     "name": "stdout",
     "output_type": "stream",
     "text": [
      "<class 'requests.exceptions.ConnectionError'> ('Connection aborted.', ConnectionResetError(104, 'Connection reset by peer')) <traceback object at 0x7fc22c6adc88>\n",
      "Empty DataFrame\n",
      "Columns: [Term, Adjusted P-value, Gene_set]\n",
      "Index: []\n",
      "Topic 474\n"
     ]
    },
    {
     "name": "stderr",
     "output_type": "stream",
     "text": [
      "2020-01-16 19:08:54,423 Warning: No enrich terms using library GO_Molecular_Function_2018 when cutoff = 0.05\n",
      "2020-01-16 19:08:56,886 Warning: No enrich terms using library GO_Biological_Process_2018 when cutoff = 0.05\n",
      "2020-01-16 19:08:59,343 Warning: No enrich terms using library GO_Cellular_Component_2018 when cutoff = 0.05\n",
      "2020-01-16 19:09:01,811 Warning: No enrich terms using library Human_Phenotype_Ontology when cutoff = 0.05\n",
      "2020-01-16 19:09:04,281 Warning: No enrich terms using library WikiPathways_2019_Human when cutoff = 0.05\n"
     ]
    },
    {
     "name": "stdout",
     "output_type": "stream",
     "text": [
      "                                                Term  Adjusted P-value  \\\n",
      "43                    REACTOME_GAP_JUNCTION_ASSEMBLY             0.015   \n",
      "44  REACTOME_GAP_JUNCTION_TRAFFICKING_AND_REGULATION             0.015   \n",
      "\n",
      "                 Gene_set  \n",
      "43  CUSTOM140472022636440  \n",
      "44  CUSTOM140472022636440  \n",
      "Topic 475\n"
     ]
    },
    {
     "name": "stderr",
     "output_type": "stream",
     "text": [
      "2020-01-16 19:09:07,230 Warning: No enrich terms using library GO_Molecular_Function_2018 when cutoff = 0.05\n",
      "2020-01-16 19:09:09,704 Warning: No enrich terms using library GO_Biological_Process_2018 when cutoff = 0.05\n",
      "2020-01-16 19:09:12,167 Warning: No enrich terms using library GO_Cellular_Component_2018 when cutoff = 0.05\n",
      "2020-01-16 19:09:14,634 Warning: No enrich terms using library Human_Phenotype_Ontology when cutoff = 0.05\n",
      "2020-01-16 19:09:17,100 Warning: No enrich terms using library WikiPathways_2019_Human when cutoff = 0.05\n",
      "2020-01-16 19:09:17,118 Warning: No enrich terms using library CUSTOM140471953404408 when cutoff = 0.05\n"
     ]
    },
    {
     "name": "stdout",
     "output_type": "stream",
     "text": [
      "Empty DataFrame\n",
      "Columns: [Term, Adjusted P-value, Gene_set]\n",
      "Index: []\n",
      "Topic 476\n"
     ]
    },
    {
     "name": "stderr",
     "output_type": "stream",
     "text": [
      "2020-01-16 19:09:19,968 Warning: No enrich terms using library GO_Molecular_Function_2018 when cutoff = 0.05\n",
      "2020-01-16 19:09:22,507 Warning: No enrich terms using library GO_Biological_Process_2018 when cutoff = 0.05\n",
      "2020-01-16 19:09:24,987 Warning: No enrich terms using library GO_Cellular_Component_2018 when cutoff = 0.05\n",
      "2020-01-16 19:09:27,475 Warning: No enrich terms using library Human_Phenotype_Ontology when cutoff = 0.05\n",
      "2020-01-16 19:09:29,967 Warning: No enrich terms using library WikiPathways_2019_Human when cutoff = 0.05\n",
      "2020-01-16 19:09:29,983 Warning: No enrich terms using library CUSTOM140472023221016 when cutoff = 0.05\n"
     ]
    },
    {
     "name": "stdout",
     "output_type": "stream",
     "text": [
      "                                                 Term  Adjusted P-value  \\\n",
      "27                      BIOCARTA_FIBRINOLYSIS_PATHWAY          0.028566   \n",
      "32                REACTOME_DISSOLUTION_OF_FIBRIN_CLOT          0.028566   \n",
      "33  REACTOME_GENE_AND_PROTEIN_EXPRESSION_BY_JAK_ST...          0.049879   \n",
      "35           REACTOME_INTERLEUKIN_12_FAMILY_SIGNALING          0.049879   \n",
      "36                  REACTOME_INTERLEUKIN_12_SIGNALING          0.049879   \n",
      "\n",
      "                 Gene_set  \n",
      "27  CUSTOM140472023222312  \n",
      "32  CUSTOM140472023222312  \n",
      "33  CUSTOM140472023222312  \n",
      "35  CUSTOM140472023222312  \n",
      "36  CUSTOM140472023222312  \n",
      "Topic 477\n"
     ]
    },
    {
     "name": "stderr",
     "output_type": "stream",
     "text": [
      "2020-01-16 19:09:32,966 Warning: No enrich terms using library GO_Molecular_Function_2018 when cutoff = 0.05\n",
      "2020-01-16 19:09:35,467 Warning: No enrich terms using library GO_Biological_Process_2018 when cutoff = 0.05\n",
      "2020-01-16 19:09:38,151 Warning: No enrich terms using library GO_Cellular_Component_2018 when cutoff = 0.05\n",
      "2020-01-16 19:09:40,745 Warning: No enrich terms using library Human_Phenotype_Ontology when cutoff = 0.05\n",
      "2020-01-16 19:09:43,414 Warning: No enrich terms using library WikiPathways_2019_Human when cutoff = 0.05\n"
     ]
    },
    {
     "name": "stdout",
     "output_type": "stream",
     "text": [
      "                                                 Term  Adjusted P-value  \\\n",
      "19                               HALLMARK_COAGULATION            0.0276   \n",
      "20  REACTOME_GAMMA_CARBOXYLATION_HYPUSINE_FORMATIO...            0.0104   \n",
      "21  REACTOME_GAMMA_CARBOXYLATION_TRANSPORT_AND_AMI...            0.0044   \n",
      "23  REACTOME_REMOVAL_OF_AMINOTERMINAL_PROPEPTIDES_...            0.0044   \n",
      "\n",
      "                 Gene_set  \n",
      "19  CUSTOM140472022635504  \n",
      "20  CUSTOM140472022637232  \n",
      "21  CUSTOM140472022637232  \n",
      "23  CUSTOM140472022637232  \n",
      "Topic 478\n"
     ]
    },
    {
     "name": "stderr",
     "output_type": "stream",
     "text": [
      "2020-01-16 19:09:46,455 Warning: No enrich terms using library GO_Molecular_Function_2018 when cutoff = 0.05\n",
      "2020-01-16 19:09:48,926 Warning: No enrich terms using library GO_Biological_Process_2018 when cutoff = 0.05\n",
      "2020-01-16 19:09:51,389 Warning: No enrich terms using library GO_Cellular_Component_2018 when cutoff = 0.05\n",
      "2020-01-16 19:09:53,849 Warning: No enrich terms using library Human_Phenotype_Ontology when cutoff = 0.05\n",
      "2020-01-16 19:09:56,317 Warning: No enrich terms using library WikiPathways_2019_Human when cutoff = 0.05\n"
     ]
    },
    {
     "name": "stdout",
     "output_type": "stream",
     "text": [
      "Empty DataFrame\n",
      "Columns: [Term, Adjusted P-value, Gene_set]\n",
      "Index: []\n",
      "Topic 479\n"
     ]
    },
    {
     "name": "stderr",
     "output_type": "stream",
     "text": [
      "2020-01-16 19:09:59,134 Warning: No enrich terms using library GO_Molecular_Function_2018 when cutoff = 0.05\n",
      "2020-01-16 19:10:01,605 Warning: No enrich terms using library GO_Biological_Process_2018 when cutoff = 0.05\n",
      "2020-01-16 19:10:04,067 Warning: No enrich terms using library GO_Cellular_Component_2018 when cutoff = 0.05\n",
      "2020-01-16 19:10:06,530 Warning: No enrich terms using library Human_Phenotype_Ontology when cutoff = 0.05\n",
      "2020-01-16 19:10:08,999 Warning: No enrich terms using library WikiPathways_2019_Human when cutoff = 0.05\n"
     ]
    },
    {
     "name": "stdout",
     "output_type": "stream",
     "text": [
      "                                Term  Adjusted P-value               Gene_set\n",
      "15  HALLMARK_ESTROGEN_RESPONSE_EARLY              0.04  CUSTOM140471912278128\n",
      "16   HALLMARK_ESTROGEN_RESPONSE_LATE              0.04  CUSTOM140471912278128\n",
      "Topic 480\n"
     ]
    },
    {
     "name": "stderr",
     "output_type": "stream",
     "text": [
      "2020-01-16 19:10:11,935 Warning: No enrich terms using library GO_Molecular_Function_2018 when cutoff = 0.05\n",
      "2020-01-16 19:10:14,403 Warning: No enrich terms using library GO_Biological_Process_2018 when cutoff = 0.05\n",
      "2020-01-16 19:10:16,868 Warning: No enrich terms using library GO_Cellular_Component_2018 when cutoff = 0.05\n",
      "2020-01-16 19:10:19,334 Warning: No enrich terms using library Human_Phenotype_Ontology when cutoff = 0.05\n",
      "2020-01-16 19:10:21,803 Warning: No enrich terms using library WikiPathways_2019_Human when cutoff = 0.05\n",
      "2020-01-16 19:10:21,823 Warning: No enrich terms using library CUSTOM140472027131408 when cutoff = 0.05\n"
     ]
    },
    {
     "name": "stdout",
     "output_type": "stream",
     "text": [
      "Empty DataFrame\n",
      "Columns: [Term, Adjusted P-value, Gene_set]\n",
      "Index: []\n",
      "Topic 481\n"
     ]
    },
    {
     "name": "stderr",
     "output_type": "stream",
     "text": [
      "2020-01-16 19:10:24,668 Warning: No enrich terms using library GO_Molecular_Function_2018 when cutoff = 0.05\n",
      "2020-01-16 19:10:27,149 Warning: No enrich terms using library GO_Biological_Process_2018 when cutoff = 0.05\n",
      "2020-01-16 19:10:29,619 Warning: No enrich terms using library GO_Cellular_Component_2018 when cutoff = 0.05\n",
      "2020-01-16 19:10:32,120 Warning: No enrich terms using library Human_Phenotype_Ontology when cutoff = 0.05\n",
      "2020-01-16 19:10:34,584 Warning: No enrich terms using library WikiPathways_2019_Human when cutoff = 0.05\n"
     ]
    },
    {
     "name": "stdout",
     "output_type": "stream",
     "text": [
      "                                                 Term  Adjusted P-value  \\\n",
      "6                                   PID_HNF3B_PATHWAY           0.01825   \n",
      "7                                   PID_NOTCH_PATHWAY           0.01825   \n",
      "8   REACTOME_ACTIVATED_NOTCH1_TRANSMITS_SIGNAL_TO_...           0.01825   \n",
      "9                         REACTOME_SIGNALING_BY_NOTCH           0.04880   \n",
      "10                       REACTOME_SIGNALING_BY_NOTCH1           0.01825   \n",
      "\n",
      "                 Gene_set  \n",
      "6   CUSTOM140471920077776  \n",
      "7   CUSTOM140471920077776  \n",
      "8   CUSTOM140471920077776  \n",
      "9   CUSTOM140471920077776  \n",
      "10  CUSTOM140471920077776  \n",
      "Topic 482\n"
     ]
    },
    {
     "name": "stderr",
     "output_type": "stream",
     "text": [
      "2020-01-16 19:10:37,567 Warning: No enrich terms using library GO_Molecular_Function_2018 when cutoff = 0.05\n",
      "2020-01-16 19:10:40,038 Warning: No enrich terms using library GO_Biological_Process_2018 when cutoff = 0.05\n",
      "2020-01-16 19:10:42,510 Warning: No enrich terms using library GO_Cellular_Component_2018 when cutoff = 0.05\n",
      "2020-01-16 19:10:44,974 Warning: No enrich terms using library Human_Phenotype_Ontology when cutoff = 0.05\n",
      "2020-01-16 19:10:47,439 Warning: No enrich terms using library WikiPathways_2019_Human when cutoff = 0.05\n",
      "2020-01-16 19:10:47,447 Warning: No enrich terms using library CUSTOM140472021683512 when cutoff = 0.05\n",
      "2020-01-16 19:10:47,465 Warning: No enrich terms using library CUSTOM140472021683584 when cutoff = 0.05\n"
     ]
    },
    {
     "name": "stdout",
     "output_type": "stream",
     "text": [
      "Empty DataFrame\n",
      "Columns: [Term, Adjusted P-value, Gene_set]\n",
      "Index: []\n",
      "Topic 483\n",
      "<class 'Exception'> Error analyzing gene list <traceback object at 0x7fc22974f908>\n",
      "Empty DataFrame\n",
      "Columns: [Term, Adjusted P-value, Gene_set]\n",
      "Index: []\n",
      "Topic 484\n"
     ]
    },
    {
     "name": "stderr",
     "output_type": "stream",
     "text": [
      "2020-01-16 19:10:50,832 Warning: No enrich terms using library GO_Molecular_Function_2018 when cutoff = 0.05\n",
      "2020-01-16 19:10:53,301 Warning: No enrich terms using library GO_Biological_Process_2018 when cutoff = 0.05\n",
      "2020-01-16 19:10:55,769 Warning: No enrich terms using library GO_Cellular_Component_2018 when cutoff = 0.05\n",
      "2020-01-16 19:10:58,230 Warning: No enrich terms using library Human_Phenotype_Ontology when cutoff = 0.05\n",
      "2020-01-16 19:11:00,697 Warning: No enrich terms using library WikiPathways_2019_Human when cutoff = 0.05\n",
      "2020-01-16 19:11:00,715 Warning: No enrich terms using library CUSTOM140471922605080 when cutoff = 0.05\n"
     ]
    },
    {
     "name": "stdout",
     "output_type": "stream",
     "text": [
      "Empty DataFrame\n",
      "Columns: [Term, Adjusted P-value, Gene_set]\n",
      "Index: []\n",
      "Topic 485\n"
     ]
    },
    {
     "name": "stderr",
     "output_type": "stream",
     "text": [
      "2020-01-16 19:11:03,555 Warning: No enrich terms using library GO_Molecular_Function_2018 when cutoff = 0.05\n",
      "2020-01-16 19:11:06,014 Warning: No enrich terms using library GO_Biological_Process_2018 when cutoff = 0.05\n",
      "2020-01-16 19:11:08,474 Warning: No enrich terms using library GO_Cellular_Component_2018 when cutoff = 0.05\n",
      "2020-01-16 19:11:10,953 Warning: No enrich terms using library Human_Phenotype_Ontology when cutoff = 0.05\n",
      "2020-01-16 19:11:13,439 Warning: No enrich terms using library WikiPathways_2019_Human when cutoff = 0.05\n",
      "2020-01-16 19:11:13,452 Warning: No enrich terms using library CUSTOM140471878526872 when cutoff = 0.05\n"
     ]
    },
    {
     "name": "stdout",
     "output_type": "stream",
     "text": [
      "                                                 Term  Adjusted P-value  \\\n",
      "40                     REACTOME_ANDROGEN_BIOSYNTHESIS          0.048593   \n",
      "45          REACTOME_HORMONE_LIGAND_BINDING_RECEPTORS          0.048593   \n",
      "49            REACTOME_MINERALOCORTICOID_BIOSYNTHESIS          0.048593   \n",
      "51              REACTOME_PEPTIDE_HORMONE_BIOSYNTHESIS          0.048593   \n",
      "54  REACTOME_REACTIONS_SPECIFIC_TO_THE_COMPLEX_N_G...          0.048593   \n",
      "\n",
      "                 Gene_set  \n",
      "40  CUSTOM140471878525432  \n",
      "45  CUSTOM140471878525432  \n",
      "49  CUSTOM140471878525432  \n",
      "51  CUSTOM140471878525432  \n",
      "54  CUSTOM140471878525432  \n",
      "Topic 486\n"
     ]
    },
    {
     "name": "stderr",
     "output_type": "stream",
     "text": [
      "2020-01-16 19:11:16,421 Warning: No enrich terms using library GO_Molecular_Function_2018 when cutoff = 0.05\n",
      "2020-01-16 19:11:18,913 Warning: No enrich terms using library GO_Biological_Process_2018 when cutoff = 0.05\n",
      "2020-01-16 19:11:21,412 Warning: No enrich terms using library GO_Cellular_Component_2018 when cutoff = 0.05\n",
      "2020-01-16 19:11:23,880 Warning: No enrich terms using library Human_Phenotype_Ontology when cutoff = 0.05\n",
      "2020-01-16 19:11:26,345 Warning: No enrich terms using library WikiPathways_2019_Human when cutoff = 0.05\n"
     ]
    },
    {
     "name": "stdout",
     "output_type": "stream",
     "text": [
      "                                                 Term  Adjusted P-value  \\\n",
      "35                  KEGG_STEROID_HORMONE_BIOSYNTHESIS            0.0260   \n",
      "37  REACTOME_CYTOCHROME_P450_ARRANGED_BY_SUBSTRATE...            0.0260   \n",
      "39                    REACTOME_DISEASES_OF_METABOLISM            0.0315   \n",
      "40                        REACTOME_ENDOGENOUS_STEROLS            0.0216   \n",
      "41  REACTOME_METABOLIC_DISORDERS_OF_BIOLOGICAL_OXI...            0.0216   \n",
      "43                    REACTOME_METABOLISM_OF_STEROIDS            0.0400   \n",
      "44            REACTOME_METABOLISM_OF_STEROID_HORMONES            0.0216   \n",
      "45    REACTOME_PHASE_I_FUNCTIONALIZATION_OF_COMPOUNDS            0.0315   \n",
      "46                 REACTOME_PREGNENOLONE_BIOSYNTHESIS            0.0216   \n",
      "\n",
      "                 Gene_set  \n",
      "35  CUSTOM140472022404048  \n",
      "37  CUSTOM140472022404048  \n",
      "39  CUSTOM140472022404048  \n",
      "40  CUSTOM140472022404048  \n",
      "41  CUSTOM140472022404048  \n",
      "43  CUSTOM140472022404048  \n",
      "44  CUSTOM140472022404048  \n",
      "45  CUSTOM140472022404048  \n",
      "46  CUSTOM140472022404048  \n",
      "Topic 487\n"
     ]
    },
    {
     "name": "stderr",
     "output_type": "stream",
     "text": [
      "2020-01-16 19:11:29,336 Warning: No enrich terms using library GO_Molecular_Function_2018 when cutoff = 0.05\n",
      "2020-01-16 19:11:31,801 Warning: No enrich terms using library GO_Biological_Process_2018 when cutoff = 0.05\n",
      "2020-01-16 19:11:34,278 Warning: No enrich terms using library GO_Cellular_Component_2018 when cutoff = 0.05\n",
      "2020-01-16 19:11:36,750 Warning: No enrich terms using library Human_Phenotype_Ontology when cutoff = 0.05\n",
      "2020-01-16 19:11:39,229 Warning: No enrich terms using library WikiPathways_2019_Human when cutoff = 0.05\n"
     ]
    },
    {
     "name": "stdout",
     "output_type": "stream",
     "text": [
      "                                                 Term  Adjusted P-value  \\\n",
      "31                     HALLMARK_XENOBIOTIC_METABOLISM          0.040000   \n",
      "32                     BIOCARTA_ACETAMINOPHEN_PATHWAY          0.007920   \n",
      "33                         BIOCARTA_NUCLEARRS_PATHWAY          0.013600   \n",
      "34               KEGG_DRUG_METABOLISM_CYTOCHROME_P450          0.018635   \n",
      "35                      KEGG_LINOLEIC_ACID_METABOLISM          0.012760   \n",
      "36  KEGG_METABOLISM_OF_XENOBIOTICS_BY_CYTOCHROME_P450          0.018635   \n",
      "37                            KEGG_RETINOL_METABOLISM          0.018635   \n",
      "38                         KEGG_TRYPTOPHAN_METABOLISM          0.014667   \n",
      "39   REACTOME_AFLATOXIN_ACTIVATION_AND_DETOXIFICATION          0.010450   \n",
      "40               REACTOME_ARACHIDONIC_ACID_METABOLISM          0.018635   \n",
      "41                     REACTOME_BIOLOGICAL_OXIDATIONS          0.046305   \n",
      "42                  REACTOME_BIOSYNTHESIS_OF_MARESINS          0.007920   \n",
      "43         REACTOME_BIOSYNTHESIS_OF_MARESIN_LIKE_SPMS          0.007920   \n",
      "44  REACTOME_BIOSYNTHESIS_OF_SPECIALIZED_PRORESOLV...          0.010450   \n",
      "45  REACTOME_CYTOCHROME_P450_ARRANGED_BY_SUBSTRATE...          0.018635   \n",
      "46                     REACTOME_FATTY_ACID_METABOLISM          0.038940   \n",
      "48                               REACTOME_METHYLATION          0.010267   \n",
      "49         REACTOME_PHASE_II_CONJUGATION_OF_COMPOUNDS          0.025242   \n",
      "50    REACTOME_PHASE_I_FUNCTIONALIZATION_OF_COMPOUNDS          0.025242   \n",
      "51  REACTOME_SYNTHESIS_OF_16_20_HYDROXYEICOSATETRA...          0.007920   \n",
      "\n",
      "                 Gene_set  \n",
      "31  CUSTOM140471922362408  \n",
      "32  CUSTOM140471877450632  \n",
      "33  CUSTOM140471877450632  \n",
      "34  CUSTOM140471877450632  \n",
      "35  CUSTOM140471877450632  \n",
      "36  CUSTOM140471877450632  \n",
      "37  CUSTOM140471877450632  \n",
      "38  CUSTOM140471877450632  \n",
      "39  CUSTOM140471877450632  \n",
      "40  CUSTOM140471877450632  \n",
      "41  CUSTOM140471877450632  \n",
      "42  CUSTOM140471877450632  \n",
      "43  CUSTOM140471877450632  \n",
      "44  CUSTOM140471877450632  \n",
      "45  CUSTOM140471877450632  \n",
      "46  CUSTOM140471877450632  \n",
      "48  CUSTOM140471877450632  \n",
      "49  CUSTOM140471877450632  \n",
      "50  CUSTOM140471877450632  \n",
      "51  CUSTOM140471877450632  \n",
      "Topic 488\n"
     ]
    },
    {
     "name": "stderr",
     "output_type": "stream",
     "text": [
      "2020-01-16 19:11:42,343 Warning: No enrich terms using library GO_Molecular_Function_2018 when cutoff = 0.05\n",
      "2020-01-16 19:11:44,828 Warning: No enrich terms using library GO_Biological_Process_2018 when cutoff = 0.05\n",
      "2020-01-16 19:11:47,295 Warning: No enrich terms using library GO_Cellular_Component_2018 when cutoff = 0.05\n",
      "2020-01-16 19:11:49,762 Warning: No enrich terms using library Human_Phenotype_Ontology when cutoff = 0.05\n",
      "2020-01-16 19:11:52,224 Warning: No enrich terms using library WikiPathways_2019_Human when cutoff = 0.05\n",
      "2020-01-16 19:11:52,244 Warning: No enrich terms using library CUSTOM140471960588576 when cutoff = 0.05\n"
     ]
    },
    {
     "name": "stdout",
     "output_type": "stream",
     "text": [
      "Empty DataFrame\n",
      "Columns: [Term, Adjusted P-value, Gene_set]\n",
      "Index: []\n",
      "Topic 489\n"
     ]
    },
    {
     "name": "stderr",
     "output_type": "stream",
     "text": [
      "2020-01-16 19:11:55,080 Warning: No enrich terms using library GO_Molecular_Function_2018 when cutoff = 0.05\n",
      "2020-01-16 19:11:57,552 Warning: No enrich terms using library GO_Biological_Process_2018 when cutoff = 0.05\n",
      "2020-01-16 19:12:00,009 Warning: No enrich terms using library GO_Cellular_Component_2018 when cutoff = 0.05\n",
      "2020-01-16 19:12:02,476 Warning: No enrich terms using library Human_Phenotype_Ontology when cutoff = 0.05\n",
      "2020-01-16 19:12:04,937 Warning: No enrich terms using library WikiPathways_2019_Human when cutoff = 0.05\n",
      "2020-01-16 19:12:05,047 Warning: No enrich terms using library CUSTOM140471929020488 when cutoff = 0.05\n"
     ]
    },
    {
     "name": "stdout",
     "output_type": "stream",
     "text": [
      "                       Term  Adjusted P-value               Gene_set\n",
      "17  HALLMARK_APICAL_SURFACE            0.0088  CUSTOM140471929023872\n",
      "Topic 490\n"
     ]
    },
    {
     "name": "stderr",
     "output_type": "stream",
     "text": [
      "2020-01-16 19:12:07,862 Warning: No enrich terms using library GO_Molecular_Function_2018 when cutoff = 0.05\n",
      "2020-01-16 19:12:10,328 Warning: No enrich terms using library GO_Biological_Process_2018 when cutoff = 0.05\n",
      "2020-01-16 19:12:12,801 Warning: No enrich terms using library GO_Cellular_Component_2018 when cutoff = 0.05\n",
      "2020-01-16 19:12:15,260 Warning: No enrich terms using library Human_Phenotype_Ontology when cutoff = 0.05\n",
      "2020-01-16 19:12:17,743 Warning: No enrich terms using library WikiPathways_2019_Human when cutoff = 0.05\n"
     ]
    },
    {
     "name": "stdout",
     "output_type": "stream",
     "text": [
      "Empty DataFrame\n",
      "Columns: [Term, Adjusted P-value, Gene_set]\n",
      "Index: []\n",
      "Topic 491\n"
     ]
    },
    {
     "name": "stderr",
     "output_type": "stream",
     "text": [
      "2020-01-16 19:12:20,591 Warning: No enrich terms using library GO_Molecular_Function_2018 when cutoff = 0.05\n",
      "2020-01-16 19:12:23,074 Warning: No enrich terms using library GO_Biological_Process_2018 when cutoff = 0.05\n",
      "2020-01-16 19:12:25,543 Warning: No enrich terms using library GO_Cellular_Component_2018 when cutoff = 0.05\n",
      "2020-01-16 19:12:28,023 Warning: No enrich terms using library Human_Phenotype_Ontology when cutoff = 0.05\n",
      "2020-01-16 19:12:30,497 Warning: No enrich terms using library WikiPathways_2019_Human when cutoff = 0.05\n",
      "2020-01-16 19:12:30,505 Warning: No enrich terms using library CUSTOM140471916948576 when cutoff = 0.05\n",
      "2020-01-16 19:12:30,523 Warning: No enrich terms using library CUSTOM140471916949224 when cutoff = 0.05\n"
     ]
    },
    {
     "name": "stdout",
     "output_type": "stream",
     "text": [
      "Empty DataFrame\n",
      "Columns: [Term, Adjusted P-value, Gene_set]\n",
      "Index: []\n",
      "Topic 492\n"
     ]
    },
    {
     "name": "stderr",
     "output_type": "stream",
     "text": [
      "2020-01-16 19:12:33,374 Warning: No enrich terms using library GO_Molecular_Function_2018 when cutoff = 0.05\n",
      "2020-01-16 19:12:35,849 Warning: No enrich terms using library GO_Biological_Process_2018 when cutoff = 0.05\n",
      "2020-01-16 19:12:38,504 Warning: No enrich terms using library GO_Cellular_Component_2018 when cutoff = 0.05\n",
      "2020-01-16 19:12:40,979 Warning: No enrich terms using library Human_Phenotype_Ontology when cutoff = 0.05\n",
      "2020-01-16 19:12:43,448 Warning: No enrich terms using library WikiPathways_2019_Human when cutoff = 0.05\n",
      "2020-01-16 19:12:43,472 Warning: No enrich terms using library CUSTOM140472026862432 when cutoff = 0.05\n"
     ]
    },
    {
     "name": "stdout",
     "output_type": "stream",
     "text": [
      "Empty DataFrame\n",
      "Columns: [Term, Adjusted P-value, Gene_set]\n",
      "Index: []\n",
      "Topic 493\n"
     ]
    },
    {
     "name": "stderr",
     "output_type": "stream",
     "text": [
      "2020-01-16 19:12:46,296 Warning: No enrich terms using library GO_Molecular_Function_2018 when cutoff = 0.05\n",
      "2020-01-16 19:12:48,749 Warning: No enrich terms using library GO_Biological_Process_2018 when cutoff = 0.05\n",
      "2020-01-16 19:12:51,204 Warning: No enrich terms using library GO_Cellular_Component_2018 when cutoff = 0.05\n",
      "2020-01-16 19:12:53,685 Warning: No enrich terms using library Human_Phenotype_Ontology when cutoff = 0.05\n",
      "2020-01-16 19:12:56,149 Warning: No enrich terms using library WikiPathways_2019_Human when cutoff = 0.05\n"
     ]
    },
    {
     "name": "stdout",
     "output_type": "stream",
     "text": [
      "                                                 Term  Adjusted P-value  \\\n",
      "10  REACTOME_POST_TRANSLATIONAL_MODIFICATION:_SYNT...            0.0376   \n",
      "\n",
      "                 Gene_set  \n",
      "10  CUSTOM140471930460128  \n",
      "Topic 494\n"
     ]
    },
    {
     "name": "stderr",
     "output_type": "stream",
     "text": [
      "2020-01-16 19:12:59,076 Warning: No enrich terms using library GO_Molecular_Function_2018 when cutoff = 0.05\n",
      "2020-01-16 19:13:01,542 Warning: No enrich terms using library GO_Biological_Process_2018 when cutoff = 0.05\n",
      "2020-01-16 19:13:04,008 Warning: No enrich terms using library GO_Cellular_Component_2018 when cutoff = 0.05\n",
      "2020-01-16 19:13:06,471 Warning: No enrich terms using library Human_Phenotype_Ontology when cutoff = 0.05\n",
      "2020-01-16 19:13:08,942 Warning: No enrich terms using library WikiPathways_2019_Human when cutoff = 0.05\n"
     ]
    },
    {
     "name": "stdout",
     "output_type": "stream",
     "text": [
      "Empty DataFrame\n",
      "Columns: [Term, Adjusted P-value, Gene_set]\n",
      "Index: []\n",
      "Topic 495\n"
     ]
    },
    {
     "name": "stderr",
     "output_type": "stream",
     "text": [
      "2020-01-16 19:13:11,784 Warning: No enrich terms using library GO_Molecular_Function_2018 when cutoff = 0.05\n",
      "2020-01-16 19:13:14,295 Warning: No enrich terms using library GO_Biological_Process_2018 when cutoff = 0.05\n",
      "2020-01-16 19:13:16,756 Warning: No enrich terms using library GO_Cellular_Component_2018 when cutoff = 0.05\n",
      "2020-01-16 19:13:19,230 Warning: No enrich terms using library Human_Phenotype_Ontology when cutoff = 0.05\n",
      "2020-01-16 19:13:21,697 Warning: No enrich terms using library WikiPathways_2019_Human when cutoff = 0.05\n"
     ]
    },
    {
     "name": "stdout",
     "output_type": "stream",
     "text": [
      "                          Term  Adjusted P-value               Gene_set\n",
      "30  REACTOME_LYSINE_CATABOLISM          0.023974  CUSTOM140471924717248\n",
      "Topic 496\n"
     ]
    },
    {
     "name": "stderr",
     "output_type": "stream",
     "text": [
      "2020-01-16 19:13:24,615 Warning: No enrich terms using library GO_Molecular_Function_2018 when cutoff = 0.05\n",
      "2020-01-16 19:13:27,082 Warning: No enrich terms using library GO_Biological_Process_2018 when cutoff = 0.05\n",
      "2020-01-16 19:13:29,545 Warning: No enrich terms using library GO_Cellular_Component_2018 when cutoff = 0.05\n",
      "2020-01-16 19:13:31,999 Warning: No enrich terms using library Human_Phenotype_Ontology when cutoff = 0.05\n",
      "2020-01-16 19:13:34,462 Warning: No enrich terms using library WikiPathways_2019_Human when cutoff = 0.05\n"
     ]
    },
    {
     "name": "stdout",
     "output_type": "stream",
     "text": [
      "                                     Term  Adjusted P-value  \\\n",
      "19  REACTOME_METALLOTHIONEINS_BIND_METALS            0.0042   \n",
      "20        REACTOME_RESPONSE_TO_METAL_IONS            0.0042   \n",
      "\n",
      "                 Gene_set  \n",
      "19  CUSTOM140471887724264  \n",
      "20  CUSTOM140471887724264  \n",
      "Topic 497\n",
      "<class 'Exception'> Error analyzing gene list <traceback object at 0x7fc228e773c8>\n",
      "                                     Term  Adjusted P-value  \\\n",
      "19  REACTOME_METALLOTHIONEINS_BIND_METALS            0.0042   \n",
      "20        REACTOME_RESPONSE_TO_METAL_IONS            0.0042   \n",
      "\n",
      "                 Gene_set  \n",
      "19  CUSTOM140471887724264  \n",
      "20  CUSTOM140471887724264  \n",
      "Topic 498\n"
     ]
    },
    {
     "name": "stderr",
     "output_type": "stream",
     "text": [
      "2020-01-16 19:13:38,009 Warning: No enrich terms using library GO_Molecular_Function_2018 when cutoff = 0.05\n",
      "2020-01-16 19:13:40,484 Warning: No enrich terms using library GO_Biological_Process_2018 when cutoff = 0.05\n",
      "2020-01-16 19:13:42,956 Warning: No enrich terms using library GO_Cellular_Component_2018 when cutoff = 0.05\n",
      "2020-01-16 19:13:45,427 Warning: No enrich terms using library Human_Phenotype_Ontology when cutoff = 0.05\n",
      "2020-01-16 19:13:47,887 Warning: No enrich terms using library WikiPathways_2019_Human when cutoff = 0.05\n"
     ]
    },
    {
     "name": "stdout",
     "output_type": "stream",
     "text": [
      "                          Term  Adjusted P-value               Gene_set\n",
      "36  REACTOME_RELAXIN_RECEPTORS          0.047933  CUSTOM140472023753928\n",
      "Topic 499\n"
     ]
    },
    {
     "name": "stderr",
     "output_type": "stream",
     "text": [
      "2020-01-16 19:13:50,812 Warning: No enrich terms using library GO_Molecular_Function_2018 when cutoff = 0.05\n",
      "2020-01-16 19:13:53,333 Warning: No enrich terms using library GO_Biological_Process_2018 when cutoff = 0.05\n",
      "2020-01-16 19:13:55,808 Warning: No enrich terms using library GO_Cellular_Component_2018 when cutoff = 0.05\n",
      "2020-01-16 19:13:58,300 Warning: No enrich terms using library Human_Phenotype_Ontology when cutoff = 0.05\n",
      "2020-01-16 19:14:00,774 Warning: No enrich terms using library WikiPathways_2019_Human when cutoff = 0.05\n"
     ]
    },
    {
     "name": "stdout",
     "output_type": "stream",
     "text": [
      "                                              Term  Adjusted P-value  \\\n",
      "17                      HALLMARK_KRAS_SIGNALING_DN            0.0400   \n",
      "18                             HALLMARK_PEROXISOME            0.0400   \n",
      "19  KEGG_ALDOSTERONE_REGULATED_SODIUM_REABSORPTION            0.0165   \n",
      "20               KEGG_STEROID_HORMONE_BIOSYNTHESIS            0.0165   \n",
      "21            REACTOME_GLUCOCORTICOID_BIOSYNTHESIS            0.0108   \n",
      "23                 REACTOME_METABOLISM_OF_STEROIDS            0.0360   \n",
      "24         REACTOME_METABOLISM_OF_STEROID_HORMONES            0.0165   \n",
      "\n",
      "                 Gene_set  \n",
      "17  CUSTOM140472023524048  \n",
      "18  CUSTOM140472023524048  \n",
      "19  CUSTOM140471876214856  \n",
      "20  CUSTOM140471876214856  \n",
      "21  CUSTOM140471876214856  \n",
      "23  CUSTOM140471876214856  \n",
      "24  CUSTOM140471876214856  \n",
      "Topic 500\n"
     ]
    },
    {
     "name": "stderr",
     "output_type": "stream",
     "text": [
      "2020-01-16 19:14:03,804 Warning: No enrich terms using library GO_Molecular_Function_2018 when cutoff = 0.05\n",
      "2020-01-16 19:14:06,272 Warning: No enrich terms using library GO_Biological_Process_2018 when cutoff = 0.05\n",
      "2020-01-16 19:14:08,735 Warning: No enrich terms using library GO_Cellular_Component_2018 when cutoff = 0.05\n",
      "2020-01-16 19:14:11,206 Warning: No enrich terms using library Human_Phenotype_Ontology when cutoff = 0.05\n",
      "2020-01-16 19:14:13,667 Warning: No enrich terms using library WikiPathways_2019_Human when cutoff = 0.05\n",
      "2020-01-16 19:14:13,675 Warning: No enrich terms using library CUSTOM140471926556064 when cutoff = 0.05\n"
     ]
    },
    {
     "name": "stdout",
     "output_type": "stream",
     "text": [
      "                        Term  Adjusted P-value               Gene_set\n",
      "23      BIOCARTA_CK1_PATHWAY          0.017975  CUSTOM140471926558224\n",
      "24     BIOCARTA_FOSB_PATHWAY          0.011995  CUSTOM140471926558224\n",
      "25  REACTOME_DARPP_32_EVENTS          0.019156  CUSTOM140471926558224\n",
      "Topic 501\n"
     ]
    },
    {
     "name": "stderr",
     "output_type": "stream",
     "text": [
      "2020-01-16 19:14:16,647 Warning: No enrich terms using library GO_Molecular_Function_2018 when cutoff = 0.05\n",
      "2020-01-16 19:14:19,114 Warning: No enrich terms using library GO_Biological_Process_2018 when cutoff = 0.05\n",
      "2020-01-16 19:14:21,591 Warning: No enrich terms using library GO_Cellular_Component_2018 when cutoff = 0.05\n",
      "2020-01-16 19:14:24,060 Warning: No enrich terms using library Human_Phenotype_Ontology when cutoff = 0.05\n",
      "2020-01-16 19:14:26,522 Warning: No enrich terms using library WikiPathways_2019_Human when cutoff = 0.05\n"
     ]
    },
    {
     "name": "stdout",
     "output_type": "stream",
     "text": [
      "Empty DataFrame\n",
      "Columns: [Term, Adjusted P-value, Gene_set]\n",
      "Index: []\n",
      "Topic 502\n"
     ]
    },
    {
     "name": "stderr",
     "output_type": "stream",
     "text": [
      "2020-01-16 19:14:29,367 Warning: No enrich terms using library GO_Molecular_Function_2018 when cutoff = 0.05\n",
      "2020-01-16 19:14:31,834 Warning: No enrich terms using library GO_Biological_Process_2018 when cutoff = 0.05\n",
      "2020-01-16 19:14:34,301 Warning: No enrich terms using library GO_Cellular_Component_2018 when cutoff = 0.05\n",
      "2020-01-16 19:14:36,764 Warning: No enrich terms using library Human_Phenotype_Ontology when cutoff = 0.05\n",
      "2020-01-16 19:14:39,238 Warning: No enrich terms using library WikiPathways_2019_Human when cutoff = 0.05\n"
     ]
    },
    {
     "name": "stdout",
     "output_type": "stream",
     "text": [
      "Empty DataFrame\n",
      "Columns: [Term, Adjusted P-value, Gene_set]\n",
      "Index: []\n",
      "Topic 503\n"
     ]
    },
    {
     "name": "stderr",
     "output_type": "stream",
     "text": [
      "2020-01-16 19:14:42,090 Warning: No enrich terms using library GO_Molecular_Function_2018 when cutoff = 0.05\n",
      "2020-01-16 19:14:44,557 Warning: No enrich terms using library GO_Biological_Process_2018 when cutoff = 0.05\n",
      "2020-01-16 19:14:47,014 Warning: No enrich terms using library GO_Cellular_Component_2018 when cutoff = 0.05\n",
      "2020-01-16 19:14:49,481 Warning: No enrich terms using library Human_Phenotype_Ontology when cutoff = 0.05\n",
      "2020-01-16 19:14:51,943 Warning: No enrich terms using library WikiPathways_2019_Human when cutoff = 0.05\n"
     ]
    },
    {
     "name": "stdout",
     "output_type": "stream",
     "text": [
      "                                                 Term  Adjusted P-value  \\\n",
      "39   REACTOME_AFLATOXIN_ACTIVATION_AND_DETOXIFICATION            0.0126   \n",
      "40               REACTOME_ARACHIDONIC_ACID_METABOLISM            0.0236   \n",
      "44  REACTOME_SYNTHESIS_OF_LEUKOTRIENES_LT_AND_EOXI...            0.0126   \n",
      "\n",
      "                 Gene_set  \n",
      "39  CUSTOM140471949500704  \n",
      "40  CUSTOM140471949500704  \n",
      "44  CUSTOM140471949500704  \n",
      "Topic 504\n"
     ]
    },
    {
     "name": "stderr",
     "output_type": "stream",
     "text": [
      "2020-01-16 19:14:54,894 Warning: No enrich terms using library GO_Molecular_Function_2018 when cutoff = 0.05\n",
      "2020-01-16 19:14:57,367 Warning: No enrich terms using library GO_Biological_Process_2018 when cutoff = 0.05\n",
      "2020-01-16 19:14:59,832 Warning: No enrich terms using library GO_Cellular_Component_2018 when cutoff = 0.05\n",
      "2020-01-16 19:15:02,291 Warning: No enrich terms using library Human_Phenotype_Ontology when cutoff = 0.05\n",
      "2020-01-16 19:15:04,774 Warning: No enrich terms using library WikiPathways_2019_Human when cutoff = 0.05\n"
     ]
    },
    {
     "name": "stdout",
     "output_type": "stream",
     "text": [
      "                                                 Term  Adjusted P-value  \\\n",
      "13  REACTOME_SODIUM_COUPLED_SULPHATE_DI_AND_TRI_CA...            0.0040   \n",
      "14  REACTOME_TRANSPORT_OF_BILE_SALTS_AND_ORGANIC_A...            0.0344   \n",
      "\n",
      "                 Gene_set  \n",
      "13  CUSTOM140471922177080  \n",
      "14  CUSTOM140471922177080  \n",
      "Topic 505\n"
     ]
    },
    {
     "name": "stderr",
     "output_type": "stream",
     "text": [
      "2020-01-16 19:15:07,754 Warning: No enrich terms using library GO_Molecular_Function_2018 when cutoff = 0.05\n",
      "2020-01-16 19:15:10,245 Warning: No enrich terms using library GO_Biological_Process_2018 when cutoff = 0.05\n",
      "2020-01-16 19:15:12,728 Warning: No enrich terms using library GO_Cellular_Component_2018 when cutoff = 0.05\n",
      "2020-01-16 19:15:15,213 Warning: No enrich terms using library Human_Phenotype_Ontology when cutoff = 0.05\n",
      "2020-01-16 19:15:17,708 Warning: No enrich terms using library WikiPathways_2019_Human when cutoff = 0.05\n"
     ]
    },
    {
     "name": "stdout",
     "output_type": "stream",
     "text": [
      "                         Term  Adjusted P-value               Gene_set\n",
      "7  HALLMARK_KRAS_SIGNALING_DN              0.04  CUSTOM140471879563664\n",
      "8    HALLMARK_SPERMATOGENESIS              0.04  CUSTOM140471879563664\n",
      "Topic 506\n"
     ]
    },
    {
     "name": "stderr",
     "output_type": "stream",
     "text": [
      "2020-01-16 19:15:20,759 Warning: No enrich terms using library GO_Molecular_Function_2018 when cutoff = 0.05\n",
      "2020-01-16 19:15:23,253 Warning: No enrich terms using library GO_Biological_Process_2018 when cutoff = 0.05\n",
      "2020-01-16 19:15:25,722 Warning: No enrich terms using library GO_Cellular_Component_2018 when cutoff = 0.05\n",
      "2020-01-16 19:15:28,184 Warning: No enrich terms using library Human_Phenotype_Ontology when cutoff = 0.05\n",
      "2020-01-16 19:15:30,759 Warning: No enrich terms using library WikiPathways_2019_Human when cutoff = 0.05\n"
     ]
    },
    {
     "name": "stdout",
     "output_type": "stream",
     "text": [
      "                                                 Term  Adjusted P-value  \\\n",
      "38                           HALLMARK_APICAL_JUNCTION          0.040000   \n",
      "39                               HALLMARK_P53_PATHWAY          0.040000   \n",
      "40                   KEGG_ARACHIDONIC_ACID_METABOLISM          0.019667   \n",
      "41               REACTOME_ARACHIDONIC_ACID_METABOLISM          0.019667   \n",
      "42                     REACTOME_FATTY_ACID_METABOLISM          0.044250   \n",
      "44  REACTOME_SYNTHESIS_OF_15_EICOSATETRAENOIC_ACID...          0.006000   \n",
      "\n",
      "                 Gene_set  \n",
      "38  CUSTOM140471864207400  \n",
      "39  CUSTOM140471864207400  \n",
      "40  CUSTOM140471864207040  \n",
      "41  CUSTOM140471864207040  \n",
      "42  CUSTOM140471864207040  \n",
      "44  CUSTOM140471864207040  \n",
      "Topic 507\n"
     ]
    },
    {
     "name": "stderr",
     "output_type": "stream",
     "text": [
      "2020-01-16 19:15:33,813 Warning: No enrich terms using library GO_Molecular_Function_2018 when cutoff = 0.05\n",
      "2020-01-16 19:15:36,275 Warning: No enrich terms using library GO_Biological_Process_2018 when cutoff = 0.05\n",
      "2020-01-16 19:15:38,809 Warning: No enrich terms using library GO_Cellular_Component_2018 when cutoff = 0.05\n",
      "2020-01-16 19:15:41,280 Warning: No enrich terms using library Human_Phenotype_Ontology when cutoff = 0.05\n",
      "2020-01-16 19:15:43,749 Warning: No enrich terms using library WikiPathways_2019_Human when cutoff = 0.05\n",
      "2020-01-16 19:15:43,757 Warning: No enrich terms using library CUSTOM140471921142088 when cutoff = 0.05\n"
     ]
    },
    {
     "name": "stdout",
     "output_type": "stream",
     "text": [
      "                                            Term  Adjusted P-value  \\\n",
      "46  REACTOME_FORMATION_OF_THE_CORNIFIED_ENVELOPE          0.011317   \n",
      "47                       REACTOME_KERATINIZATION          0.015782   \n",
      "\n",
      "                 Gene_set  \n",
      "46  CUSTOM140471921143672  \n",
      "47  CUSTOM140471921143672  \n",
      "Topic 508\n"
     ]
    },
    {
     "name": "stderr",
     "output_type": "stream",
     "text": [
      "2020-01-16 19:15:46,696 Warning: No enrich terms using library GO_Molecular_Function_2018 when cutoff = 0.05\n",
      "2020-01-16 19:15:49,158 Warning: No enrich terms using library GO_Biological_Process_2018 when cutoff = 0.05\n",
      "2020-01-16 19:15:51,626 Warning: No enrich terms using library GO_Cellular_Component_2018 when cutoff = 0.05\n",
      "2020-01-16 19:15:54,093 Warning: No enrich terms using library Human_Phenotype_Ontology when cutoff = 0.05\n",
      "2020-01-16 19:15:56,560 Warning: No enrich terms using library WikiPathways_2019_Human when cutoff = 0.05\n"
     ]
    },
    {
     "name": "stdout",
     "output_type": "stream",
     "text": [
      "Empty DataFrame\n",
      "Columns: [Term, Adjusted P-value, Gene_set]\n",
      "Index: []\n",
      "Topic 509\n"
     ]
    },
    {
     "name": "stderr",
     "output_type": "stream",
     "text": [
      "2020-01-16 19:15:59,462 Warning: No enrich terms using library GO_Molecular_Function_2018 when cutoff = 0.05\n",
      "2020-01-16 19:16:01,941 Warning: No enrich terms using library GO_Biological_Process_2018 when cutoff = 0.05\n",
      "2020-01-16 19:16:04,407 Warning: No enrich terms using library GO_Cellular_Component_2018 when cutoff = 0.05\n",
      "2020-01-16 19:16:06,872 Warning: No enrich terms using library Human_Phenotype_Ontology when cutoff = 0.05\n",
      "2020-01-16 19:16:09,348 Warning: No enrich terms using library WikiPathways_2019_Human when cutoff = 0.05\n"
     ]
    },
    {
     "name": "stdout",
     "output_type": "stream",
     "text": [
      "                                                 Term  Adjusted P-value  \\\n",
      "9                      HALLMARK_FATTY_ACID_METABOLISM            0.0400   \n",
      "10                     HALLMARK_XENOBIOTIC_METABOLISM            0.0400   \n",
      "11               KEGG_DRUG_METABOLISM_CYTOCHROME_P450            0.0192   \n",
      "12                    KEGG_GLYCOLYSIS_GLUCONEOGENESIS            0.0192   \n",
      "13                          KEGG_HISTIDINE_METABOLISM            0.0192   \n",
      "14  KEGG_METABOLISM_OF_XENOBIOTICS_BY_CYTOCHROME_P450            0.0192   \n",
      "15                      KEGG_PHENYLALANINE_METABOLISM            0.0192   \n",
      "16                           KEGG_TYROSINE_METABOLISM            0.0192   \n",
      "17                     REACTOME_BIOLOGICAL_OXIDATIONS            0.0442   \n",
      "18    REACTOME_PHASE_I_FUNCTIONALIZATION_OF_COMPOUNDS            0.0240   \n",
      "\n",
      "                 Gene_set  \n",
      "9   CUSTOM140471905676384  \n",
      "10  CUSTOM140471905676384  \n",
      "11  CUSTOM140471905675520  \n",
      "12  CUSTOM140471905675520  \n",
      "13  CUSTOM140471905675520  \n",
      "14  CUSTOM140471905675520  \n",
      "15  CUSTOM140471905675520  \n",
      "16  CUSTOM140471905675520  \n",
      "17  CUSTOM140471905675520  \n",
      "18  CUSTOM140471905675520  \n",
      "Topic 510\n"
     ]
    },
    {
     "name": "stderr",
     "output_type": "stream",
     "text": [
      "2020-01-16 19:16:12,469 Warning: No enrich terms using library GO_Molecular_Function_2018 when cutoff = 0.05\n",
      "2020-01-16 19:16:14,943 Warning: No enrich terms using library GO_Biological_Process_2018 when cutoff = 0.05\n",
      "2020-01-16 19:16:17,414 Warning: No enrich terms using library GO_Cellular_Component_2018 when cutoff = 0.05\n",
      "2020-01-16 19:16:19,881 Warning: No enrich terms using library Human_Phenotype_Ontology when cutoff = 0.05\n",
      "2020-01-16 19:16:22,348 Warning: No enrich terms using library WikiPathways_2019_Human when cutoff = 0.05\n"
     ]
    },
    {
     "name": "stdout",
     "output_type": "stream",
     "text": [
      "                                                 Term  Adjusted P-value  \\\n",
      "45                              HALLMARK_ANGIOGENESIS          0.014400   \n",
      "46                     HALLMARK_XENOBIOTIC_METABOLISM          0.040000   \n",
      "47                      KEGG_ECM_RECEPTOR_INTERACTION          0.025500   \n",
      "48                                KEGG_FOCAL_ADHESION          0.049165   \n",
      "50                             NABA_ECM_GLYCOPROTEINS          0.049165   \n",
      "52                          PID_AVB3_INTEGRIN_PATHWAY          0.025500   \n",
      "53                                  PID_HNF3A_PATHWAY          0.025500   \n",
      "54                              PID_INTEGRIN1_PATHWAY          0.025500   \n",
      "55                              PID_INTEGRIN3_PATHWAY          0.025500   \n",
      "56                              PID_INTEGRIN5_PATHWAY          0.025500   \n",
      "57                               PID_UPA_UPAR_PATHWAY          0.025500   \n",
      "58                               PID_VEGFR1_2_PATHWAY          0.025500   \n",
      "59                        REACTOME_COMPLEMENT_CASCADE          0.031920   \n",
      "60                         REACTOME_ECM_PROTEOGLYCANS          0.025500   \n",
      "61                   REACTOME_ELASTIC_FIBRE_FORMATION          0.025500   \n",
      "64        REACTOME_INTEGRIN_CELL_SURFACE_INTERACTIONS          0.025500   \n",
      "65  REACTOME_MOLECULES_ASSOCIATED_WITH_ELASTIC_FIBRES          0.025500   \n",
      "66    REACTOME_NON_INTEGRIN_MEMBRANE_ECM_INTERACTIONS          0.025500   \n",
      "67                     REACTOME_SYNDECAN_INTERACTIONS          0.025500   \n",
      "\n",
      "                 Gene_set  \n",
      "45  CUSTOM140471954271544  \n",
      "46  CUSTOM140471954271544  \n",
      "47  CUSTOM140471954270608  \n",
      "48  CUSTOM140471954270608  \n",
      "50  CUSTOM140471954270608  \n",
      "52  CUSTOM140471954270608  \n",
      "53  CUSTOM140471954270608  \n",
      "54  CUSTOM140471954270608  \n",
      "55  CUSTOM140471954270608  \n",
      "56  CUSTOM140471954270608  \n",
      "57  CUSTOM140471954270608  \n",
      "58  CUSTOM140471954270608  \n",
      "59  CUSTOM140471954270608  \n",
      "60  CUSTOM140471954270608  \n",
      "61  CUSTOM140471954270608  \n",
      "64  CUSTOM140471954270608  \n",
      "65  CUSTOM140471954270608  \n",
      "66  CUSTOM140471954270608  \n",
      "67  CUSTOM140471954270608  \n",
      "Topic 511\n"
     ]
    },
    {
     "name": "stderr",
     "output_type": "stream",
     "text": [
      "2020-01-16 19:16:25,420 Warning: No enrich terms using library GO_Molecular_Function_2018 when cutoff = 0.05\n",
      "2020-01-16 19:16:27,899 Warning: No enrich terms using library GO_Biological_Process_2018 when cutoff = 0.05\n",
      "2020-01-16 19:16:30,365 Warning: No enrich terms using library GO_Cellular_Component_2018 when cutoff = 0.05\n"
     ]
    },
    {
     "name": "stdout",
     "output_type": "stream",
     "text": [
      "<class 'requests.exceptions.ConnectionError'> ('Connection aborted.', ConnectionResetError(104, 'Connection reset by peer')) <traceback object at 0x7fc22a0b2588>\n",
      "                                                 Term  Adjusted P-value  \\\n",
      "45                              HALLMARK_ANGIOGENESIS          0.014400   \n",
      "46                     HALLMARK_XENOBIOTIC_METABOLISM          0.040000   \n",
      "47                      KEGG_ECM_RECEPTOR_INTERACTION          0.025500   \n",
      "48                                KEGG_FOCAL_ADHESION          0.049165   \n",
      "50                             NABA_ECM_GLYCOPROTEINS          0.049165   \n",
      "52                          PID_AVB3_INTEGRIN_PATHWAY          0.025500   \n",
      "53                                  PID_HNF3A_PATHWAY          0.025500   \n",
      "54                              PID_INTEGRIN1_PATHWAY          0.025500   \n",
      "55                              PID_INTEGRIN3_PATHWAY          0.025500   \n",
      "56                              PID_INTEGRIN5_PATHWAY          0.025500   \n",
      "57                               PID_UPA_UPAR_PATHWAY          0.025500   \n",
      "58                               PID_VEGFR1_2_PATHWAY          0.025500   \n",
      "59                        REACTOME_COMPLEMENT_CASCADE          0.031920   \n",
      "60                         REACTOME_ECM_PROTEOGLYCANS          0.025500   \n",
      "61                   REACTOME_ELASTIC_FIBRE_FORMATION          0.025500   \n",
      "64        REACTOME_INTEGRIN_CELL_SURFACE_INTERACTIONS          0.025500   \n",
      "65  REACTOME_MOLECULES_ASSOCIATED_WITH_ELASTIC_FIBRES          0.025500   \n",
      "66    REACTOME_NON_INTEGRIN_MEMBRANE_ECM_INTERACTIONS          0.025500   \n",
      "67                     REACTOME_SYNDECAN_INTERACTIONS          0.025500   \n",
      "\n",
      "                 Gene_set  \n",
      "45  CUSTOM140471954271544  \n",
      "46  CUSTOM140471954271544  \n",
      "47  CUSTOM140471954270608  \n",
      "48  CUSTOM140471954270608  \n",
      "50  CUSTOM140471954270608  \n",
      "52  CUSTOM140471954270608  \n",
      "53  CUSTOM140471954270608  \n",
      "54  CUSTOM140471954270608  \n",
      "55  CUSTOM140471954270608  \n",
      "56  CUSTOM140471954270608  \n",
      "57  CUSTOM140471954270608  \n",
      "58  CUSTOM140471954270608  \n",
      "59  CUSTOM140471954270608  \n",
      "60  CUSTOM140471954270608  \n",
      "61  CUSTOM140471954270608  \n",
      "64  CUSTOM140471954270608  \n",
      "65  CUSTOM140471954270608  \n",
      "66  CUSTOM140471954270608  \n",
      "67  CUSTOM140471954270608  \n",
      "Topic 512\n"
     ]
    },
    {
     "name": "stderr",
     "output_type": "stream",
     "text": [
      "2020-01-16 19:16:33,364 Warning: No enrich terms using library GO_Molecular_Function_2018 when cutoff = 0.05\n",
      "2020-01-16 19:16:35,854 Warning: No enrich terms using library GO_Biological_Process_2018 when cutoff = 0.05\n",
      "2020-01-16 19:16:38,323 Warning: No enrich terms using library GO_Cellular_Component_2018 when cutoff = 0.05\n",
      "2020-01-16 19:16:40,787 Warning: No enrich terms using library Human_Phenotype_Ontology when cutoff = 0.05\n",
      "2020-01-16 19:16:43,251 Warning: No enrich terms using library WikiPathways_2019_Human when cutoff = 0.05\n"
     ]
    },
    {
     "name": "stdout",
     "output_type": "stream",
     "text": [
      "Empty DataFrame\n",
      "Columns: [Term, Adjusted P-value, Gene_set]\n",
      "Index: []\n",
      "Topic 513\n"
     ]
    },
    {
     "name": "stderr",
     "output_type": "stream",
     "text": [
      "2020-01-16 19:16:46,089 Warning: No enrich terms using library GO_Molecular_Function_2018 when cutoff = 0.05\n",
      "2020-01-16 19:16:48,558 Warning: No enrich terms using library GO_Biological_Process_2018 when cutoff = 0.05\n",
      "2020-01-16 19:16:51,013 Warning: No enrich terms using library GO_Cellular_Component_2018 when cutoff = 0.05\n",
      "2020-01-16 19:16:53,485 Warning: No enrich terms using library Human_Phenotype_Ontology when cutoff = 0.05\n",
      "2020-01-16 19:16:55,960 Warning: No enrich terms using library WikiPathways_2019_Human when cutoff = 0.05\n",
      "2020-01-16 19:16:55,977 Warning: No enrich terms using library CUSTOM140471908329008 when cutoff = 0.05\n"
     ]
    },
    {
     "name": "stdout",
     "output_type": "stream",
     "text": [
      "Empty DataFrame\n",
      "Columns: [Term, Adjusted P-value, Gene_set]\n",
      "Index: []\n",
      "Topic 514\n"
     ]
    },
    {
     "name": "stderr",
     "output_type": "stream",
     "text": [
      "2020-01-16 19:16:58,818 Warning: No enrich terms using library GO_Molecular_Function_2018 when cutoff = 0.05\n",
      "2020-01-16 19:17:01,280 Warning: No enrich terms using library GO_Biological_Process_2018 when cutoff = 0.05\n",
      "2020-01-16 19:17:03,818 Warning: No enrich terms using library GO_Cellular_Component_2018 when cutoff = 0.05\n",
      "2020-01-16 19:17:06,299 Warning: No enrich terms using library Human_Phenotype_Ontology when cutoff = 0.05\n",
      "2020-01-16 19:17:08,830 Warning: No enrich terms using library WikiPathways_2019_Human when cutoff = 0.05\n",
      "2020-01-16 19:17:08,848 Warning: No enrich terms using library CUSTOM140471930871528 when cutoff = 0.05\n"
     ]
    },
    {
     "name": "stdout",
     "output_type": "stream",
     "text": [
      "Empty DataFrame\n",
      "Columns: [Term, Adjusted P-value, Gene_set]\n",
      "Index: []\n",
      "Topic 515\n"
     ]
    },
    {
     "name": "stderr",
     "output_type": "stream",
     "text": [
      "2020-01-16 19:17:11,680 Warning: No enrich terms using library GO_Molecular_Function_2018 when cutoff = 0.05\n",
      "2020-01-16 19:17:14,173 Warning: No enrich terms using library GO_Biological_Process_2018 when cutoff = 0.05\n",
      "2020-01-16 19:17:16,637 Warning: No enrich terms using library GO_Cellular_Component_2018 when cutoff = 0.05\n",
      "2020-01-16 19:17:19,103 Warning: No enrich terms using library Human_Phenotype_Ontology when cutoff = 0.05\n",
      "2020-01-16 19:17:21,573 Warning: No enrich terms using library WikiPathways_2019_Human when cutoff = 0.05\n",
      "2020-01-16 19:17:21,672 Warning: No enrich terms using library CUSTOM140472027463472 when cutoff = 0.05\n"
     ]
    },
    {
     "name": "stdout",
     "output_type": "stream",
     "text": [
      "                       Term  Adjusted P-value               Gene_set\n",
      "1  HALLMARK_APICAL_JUNCTION              0.04  CUSTOM140472027462248\n",
      "Topic 516\n"
     ]
    },
    {
     "name": "stderr",
     "output_type": "stream",
     "text": [
      "2020-01-16 19:17:24,518 Warning: No enrich terms using library GO_Molecular_Function_2018 when cutoff = 0.05\n",
      "2020-01-16 19:17:26,975 Warning: No enrich terms using library GO_Biological_Process_2018 when cutoff = 0.05\n",
      "2020-01-16 19:17:29,439 Warning: No enrich terms using library GO_Cellular_Component_2018 when cutoff = 0.05\n",
      "2020-01-16 19:17:31,902 Warning: No enrich terms using library Human_Phenotype_Ontology when cutoff = 0.05\n",
      "2020-01-16 19:17:34,356 Warning: No enrich terms using library WikiPathways_2019_Human when cutoff = 0.05\n",
      "2020-01-16 19:17:34,461 Warning: No enrich terms using library CUSTOM140472026820752 when cutoff = 0.05\n"
     ]
    },
    {
     "name": "stdout",
     "output_type": "stream",
     "text": [
      "                    Term  Adjusted P-value               Gene_set\n",
      "33  HALLMARK_P53_PATHWAY              0.04  CUSTOM140472026823848\n",
      "Topic 517\n"
     ]
    },
    {
     "name": "stderr",
     "output_type": "stream",
     "text": [
      "2020-01-16 19:17:37,275 Warning: No enrich terms using library GO_Molecular_Function_2018 when cutoff = 0.05\n",
      "2020-01-16 19:17:39,745 Warning: No enrich terms using library GO_Biological_Process_2018 when cutoff = 0.05\n",
      "2020-01-16 19:17:42,205 Warning: No enrich terms using library GO_Cellular_Component_2018 when cutoff = 0.05\n",
      "2020-01-16 19:17:44,711 Warning: No enrich terms using library Human_Phenotype_Ontology when cutoff = 0.05\n",
      "2020-01-16 19:17:47,170 Warning: No enrich terms using library WikiPathways_2019_Human when cutoff = 0.05\n"
     ]
    },
    {
     "name": "stdout",
     "output_type": "stream",
     "text": [
      "                                         Term  Adjusted P-value  \\\n",
      "10        KEGG_GLYCEROPHOSPHOLIPID_METABOLISM            0.0308   \n",
      "11  REACTOME_GLYCEROPHOSPHOLIPID_BIOSYNTHESIS            0.0384   \n",
      "14                   REACTOME_SYNTHESIS_OF_PC            0.0168   \n",
      "15                   REACTOME_SYNTHESIS_OF_PE            0.0156   \n",
      "\n",
      "                 Gene_set  \n",
      "10  CUSTOM140471876164560  \n",
      "11  CUSTOM140471876164560  \n",
      "14  CUSTOM140471876164560  \n",
      "15  CUSTOM140471876164560  \n",
      "Topic 518\n"
     ]
    },
    {
     "name": "stderr",
     "output_type": "stream",
     "text": [
      "2020-01-16 19:17:50,125 Warning: No enrich terms using library GO_Molecular_Function_2018 when cutoff = 0.05\n",
      "2020-01-16 19:17:52,596 Warning: No enrich terms using library GO_Biological_Process_2018 when cutoff = 0.05\n",
      "2020-01-16 19:17:55,078 Warning: No enrich terms using library GO_Cellular_Component_2018 when cutoff = 0.05\n",
      "2020-01-16 19:17:57,672 Warning: No enrich terms using library Human_Phenotype_Ontology when cutoff = 0.05\n",
      "2020-01-16 19:18:00,164 Warning: No enrich terms using library WikiPathways_2019_Human when cutoff = 0.05\n",
      "2020-01-16 19:18:00,182 Warning: No enrich terms using library CUSTOM140471877425768 when cutoff = 0.05\n",
      "2020-01-16 19:18:00,198 Warning: No enrich terms using library CUSTOM140471877424472 when cutoff = 0.05\n"
     ]
    },
    {
     "name": "stdout",
     "output_type": "stream",
     "text": [
      "Empty DataFrame\n",
      "Columns: [Term, Adjusted P-value, Gene_set]\n",
      "Index: []\n",
      "Topic 519\n"
     ]
    },
    {
     "name": "stderr",
     "output_type": "stream",
     "text": [
      "2020-01-16 19:18:02,995 Warning: No enrich terms using library GO_Molecular_Function_2018 when cutoff = 0.05\n",
      "2020-01-16 19:18:05,462 Warning: No enrich terms using library GO_Biological_Process_2018 when cutoff = 0.05\n",
      "2020-01-16 19:18:07,926 Warning: No enrich terms using library GO_Cellular_Component_2018 when cutoff = 0.05\n",
      "2020-01-16 19:18:10,398 Warning: No enrich terms using library Human_Phenotype_Ontology when cutoff = 0.05\n",
      "2020-01-16 19:18:12,868 Warning: No enrich terms using library WikiPathways_2019_Human when cutoff = 0.05\n",
      "2020-01-16 19:18:12,896 Warning: No enrich terms using library CUSTOM140471862700648 when cutoff = 0.05\n"
     ]
    },
    {
     "name": "stdout",
     "output_type": "stream",
     "text": [
      "Empty DataFrame\n",
      "Columns: [Term, Adjusted P-value, Gene_set]\n",
      "Index: []\n",
      "Topic 520\n"
     ]
    },
    {
     "name": "stderr",
     "output_type": "stream",
     "text": [
      "2020-01-16 19:18:15,757 Warning: No enrich terms using library GO_Molecular_Function_2018 when cutoff = 0.05\n",
      "2020-01-16 19:18:18,227 Warning: No enrich terms using library GO_Biological_Process_2018 when cutoff = 0.05\n",
      "2020-01-16 19:18:20,692 Warning: No enrich terms using library GO_Cellular_Component_2018 when cutoff = 0.05\n",
      "2020-01-16 19:18:23,147 Warning: No enrich terms using library Human_Phenotype_Ontology when cutoff = 0.05\n",
      "2020-01-16 19:18:25,618 Warning: No enrich terms using library WikiPathways_2019_Human when cutoff = 0.05\n"
     ]
    },
    {
     "name": "stdout",
     "output_type": "stream",
     "text": [
      "                                                 Term  Adjusted P-value  \\\n",
      "49                              BIOCARTA_NOS1_PATHWAY          0.031211   \n",
      "51             KEGG_AMYOTROPHIC_LATERAL_SCLEROSIS_ALS          0.048179   \n",
      "56  REACTOME_ASSEMBLY_AND_CELL_SURFACE_PRESENTATIO...          0.047405   \n",
      "57                    REACTOME_LONG_TERM_POTENTIATION          0.031211   \n",
      "58  REACTOME_NEGATIVE_REGULATION_OF_NMDA_RECEPTOR_...          0.031211   \n",
      "59                 REACTOME_NEUREXINS_AND_NEUROLIGINS          0.048179   \n",
      "63          REACTOME_SYNAPTIC_ADHESION_LIKE_MOLECULES          0.031211   \n",
      "65  REACTOME_UNBLOCKING_OF_NMDA_RECEPTORS_GLUTAMAT...          0.031211   \n",
      "\n",
      "                 Gene_set  \n",
      "49  CUSTOM140472022401456  \n",
      "51  CUSTOM140472022401456  \n",
      "56  CUSTOM140472022401456  \n",
      "57  CUSTOM140472022401456  \n",
      "58  CUSTOM140472022401456  \n",
      "59  CUSTOM140472022401456  \n",
      "63  CUSTOM140472022401456  \n",
      "65  CUSTOM140472022401456  \n",
      "Topic 521\n"
     ]
    },
    {
     "name": "stderr",
     "output_type": "stream",
     "text": [
      "2020-01-16 19:18:28,556 Warning: No enrich terms using library GO_Molecular_Function_2018 when cutoff = 0.05\n",
      "2020-01-16 19:18:31,031 Warning: No enrich terms using library GO_Biological_Process_2018 when cutoff = 0.05\n",
      "2020-01-16 19:18:33,494 Warning: No enrich terms using library GO_Cellular_Component_2018 when cutoff = 0.05\n",
      "2020-01-16 19:18:35,961 Warning: No enrich terms using library Human_Phenotype_Ontology when cutoff = 0.05\n",
      "2020-01-16 19:18:38,418 Warning: No enrich terms using library WikiPathways_2019_Human when cutoff = 0.05\n",
      "2020-01-16 19:18:38,426 Warning: No enrich terms using library CUSTOM140471884715424 when cutoff = 0.05\n"
     ]
    },
    {
     "name": "stdout",
     "output_type": "stream",
     "text": [
      "                              Term  Adjusted P-value               Gene_set\n",
      "28       KEGG_HISTIDINE_METABOLISM          0.015423  CUSTOM140471884715208\n",
      "29  KEGG_ONE_CARBON_POOL_BY_FOLATE          0.013578  CUSTOM140471884715208\n",
      "30   REACTOME_HISTIDINE_CATABOLISM          0.012791  CUSTOM140471884715208\n",
      "Topic 522\n"
     ]
    },
    {
     "name": "stderr",
     "output_type": "stream",
     "text": [
      "2020-01-16 19:18:41,363 Warning: No enrich terms using library GO_Molecular_Function_2018 when cutoff = 0.05\n",
      "2020-01-16 19:18:43,836 Warning: No enrich terms using library GO_Biological_Process_2018 when cutoff = 0.05\n",
      "2020-01-16 19:18:46,307 Warning: No enrich terms using library GO_Cellular_Component_2018 when cutoff = 0.05\n",
      "2020-01-16 19:18:48,770 Warning: No enrich terms using library Human_Phenotype_Ontology when cutoff = 0.05\n",
      "2020-01-16 19:18:51,232 Warning: No enrich terms using library WikiPathways_2019_Human when cutoff = 0.05\n"
     ]
    },
    {
     "name": "stdout",
     "output_type": "stream",
     "text": [
      "                                                 Term  Adjusted P-value  \\\n",
      "34                      HALLMARK_BILE_ACID_METABOLISM          0.022400   \n",
      "35                                HALLMARK_PEROXISOME          0.022400   \n",
      "36                                  PID_HNF3B_PATHWAY          0.035400   \n",
      "37                   REACTOME_AMYLOID_FIBER_FORMATION          0.045857   \n",
      "39  REACTOME_DISEASES_ASSOCIATED_WITH_VISUAL_TRANS...          0.034500   \n",
      "44        REACTOME_METABOLISM_OF_FAT_SOLUBLE_VITAMINS          0.035400   \n",
      "47    REACTOME_NON_INTEGRIN_MEMBRANE_ECM_INTERACTIONS          0.035400   \n",
      "49  REACTOME_THE_CANONICAL_RETINOID_CYCLE_IN_RODS_...          0.034500   \n",
      "50                  REACTOME_VISUAL_PHOTOTRANSDUCTION          0.045857   \n",
      "\n",
      "                 Gene_set  \n",
      "34  CUSTOM140471963379536  \n",
      "35  CUSTOM140471963379536  \n",
      "36  CUSTOM140471963379680  \n",
      "37  CUSTOM140471963379680  \n",
      "39  CUSTOM140471963379680  \n",
      "44  CUSTOM140471963379680  \n",
      "47  CUSTOM140471963379680  \n",
      "49  CUSTOM140471963379680  \n",
      "50  CUSTOM140471963379680  \n",
      "Topic 523\n"
     ]
    },
    {
     "name": "stderr",
     "output_type": "stream",
     "text": [
      "2020-01-16 19:18:54,369 Warning: No enrich terms using library GO_Molecular_Function_2018 when cutoff = 0.05\n",
      "2020-01-16 19:18:56,845 Warning: No enrich terms using library GO_Biological_Process_2018 when cutoff = 0.05\n",
      "2020-01-16 19:18:59,311 Warning: No enrich terms using library GO_Cellular_Component_2018 when cutoff = 0.05\n",
      "2020-01-16 19:19:01,800 Warning: No enrich terms using library Human_Phenotype_Ontology when cutoff = 0.05\n",
      "2020-01-16 19:19:04,289 Warning: No enrich terms using library WikiPathways_2019_Human when cutoff = 0.05\n",
      "2020-01-16 19:19:04,303 Warning: No enrich terms using library CUSTOM140471895403112 when cutoff = 0.05\n"
     ]
    },
    {
     "name": "stdout",
     "output_type": "stream",
     "text": [
      "                                     Term  Adjusted P-value  \\\n",
      "52         REACTOME_PHASE_2_PLATEAU_PHASE          0.021544   \n",
      "53  REACTOME_PHASE_3_RAPID_REPOLARISATION          0.012791   \n",
      "\n",
      "                 Gene_set  \n",
      "52  CUSTOM140471895400736  \n",
      "53  CUSTOM140471895400736  \n",
      "Topic 524\n"
     ]
    },
    {
     "name": "stderr",
     "output_type": "stream",
     "text": [
      "2020-01-16 19:19:07,277 Warning: No enrich terms using library GO_Molecular_Function_2018 when cutoff = 0.05\n",
      "2020-01-16 19:19:09,748 Warning: No enrich terms using library GO_Biological_Process_2018 when cutoff = 0.05\n",
      "2020-01-16 19:19:12,212 Warning: No enrich terms using library GO_Cellular_Component_2018 when cutoff = 0.05\n",
      "2020-01-16 19:19:14,674 Warning: No enrich terms using library Human_Phenotype_Ontology when cutoff = 0.05\n",
      "2020-01-16 19:19:17,137 Warning: No enrich terms using library WikiPathways_2019_Human when cutoff = 0.05\n"
     ]
    },
    {
     "name": "stdout",
     "output_type": "stream",
     "text": [
      "Empty DataFrame\n",
      "Columns: [Term, Adjusted P-value, Gene_set]\n",
      "Index: []\n",
      "Topic 525\n"
     ]
    },
    {
     "name": "stderr",
     "output_type": "stream",
     "text": [
      "2020-01-16 19:19:19,971 Warning: No enrich terms using library GO_Molecular_Function_2018 when cutoff = 0.05\n",
      "2020-01-16 19:19:22,438 Warning: No enrich terms using library GO_Biological_Process_2018 when cutoff = 0.05\n",
      "2020-01-16 19:19:24,907 Warning: No enrich terms using library GO_Cellular_Component_2018 when cutoff = 0.05\n",
      "2020-01-16 19:19:27,378 Warning: No enrich terms using library Human_Phenotype_Ontology when cutoff = 0.05\n",
      "2020-01-16 19:19:29,841 Warning: No enrich terms using library WikiPathways_2019_Human when cutoff = 0.05\n"
     ]
    },
    {
     "name": "stdout",
     "output_type": "stream",
     "text": [
      "                                                 Term  Adjusted P-value  \\\n",
      "23                           KEGG_HUNTINGTONS_DISEASE          0.040000   \n",
      "24                                 KEGG_MELANOGENESIS          0.025250   \n",
      "25                               KEGG_PROSTATE_CANCER          0.025250   \n",
      "26      KEGG_VASOPRESSIN_REGULATED_WATER_REABSORPTION          0.022000   \n",
      "27  REACTOME_ASSEMBLY_OF_ACTIVE_LPL_AND_LIPC_LIPAS...          0.019000   \n",
      "28              REACTOME_CREB3_FACTORS_ACTIVATE_GENES          0.018000   \n",
      "29  REACTOME_PLASMA_LIPOPROTEIN_ASSEMBLY_REMODELIN...          0.025250   \n",
      "30             REACTOME_PLASMA_LIPOPROTEIN_REMODELING          0.021333   \n",
      "32             REACTOME_UNFOLDED_PROTEIN_RESPONSE_UPR          0.025250   \n",
      "\n",
      "                 Gene_set  \n",
      "23  CUSTOM140471888842616  \n",
      "24  CUSTOM140471888842616  \n",
      "25  CUSTOM140471888842616  \n",
      "26  CUSTOM140471888842616  \n",
      "27  CUSTOM140471888842616  \n",
      "28  CUSTOM140471888842616  \n",
      "29  CUSTOM140471888842616  \n",
      "30  CUSTOM140471888842616  \n",
      "32  CUSTOM140471888842616  \n",
      "Topic 526\n"
     ]
    },
    {
     "name": "stderr",
     "output_type": "stream",
     "text": [
      "2020-01-16 19:19:32,831 Warning: No enrich terms using library GO_Molecular_Function_2018 when cutoff = 0.05\n",
      "2020-01-16 19:19:35,306 Warning: No enrich terms using library GO_Biological_Process_2018 when cutoff = 0.05\n",
      "2020-01-16 19:19:40,327 Warning: No enrich terms using library Human_Phenotype_Ontology when cutoff = 0.05\n",
      "2020-01-16 19:19:42,792 Warning: No enrich terms using library WikiPathways_2019_Human when cutoff = 0.05\n"
     ]
    },
    {
     "name": "stdout",
     "output_type": "stream",
     "text": [
      "                                      Term  Adjusted P-value  \\\n",
      "87           specific granule (GO:0042581)          0.028366   \n",
      "88           tertiary granule (GO:0070820)          0.014903   \n",
      "104  REACTOME_FIBRONECTIN_MATRIX_FORMATION          0.021589   \n",
      "107      REACTOME_NEUTROPHIL_DEGRANULATION          0.041049   \n",
      "\n",
      "                       Gene_set  \n",
      "87   GO_Cellular_Component_2018  \n",
      "88   GO_Cellular_Component_2018  \n",
      "104       CUSTOM140471921268128  \n",
      "107       CUSTOM140471921268128  \n",
      "Topic 527\n"
     ]
    },
    {
     "name": "stderr",
     "output_type": "stream",
     "text": [
      "2020-01-16 19:19:45,712 Warning: No enrich terms using library GO_Molecular_Function_2018 when cutoff = 0.05\n",
      "2020-01-16 19:19:48,200 Warning: No enrich terms using library GO_Biological_Process_2018 when cutoff = 0.05\n",
      "2020-01-16 19:19:50,681 Warning: No enrich terms using library GO_Cellular_Component_2018 when cutoff = 0.05\n",
      "2020-01-16 19:19:53,172 Warning: No enrich terms using library Human_Phenotype_Ontology when cutoff = 0.05\n",
      "2020-01-16 19:19:55,689 Warning: No enrich terms using library WikiPathways_2019_Human when cutoff = 0.05\n"
     ]
    },
    {
     "name": "stdout",
     "output_type": "stream",
     "text": [
      "Empty DataFrame\n",
      "Columns: [Term, Adjusted P-value, Gene_set]\n",
      "Index: []\n",
      "Topic 528\n",
      "<class 'Exception'> Error analyzing gene list <traceback object at 0x7fc22b3ea808>\n",
      "Empty DataFrame\n",
      "Columns: [Term, Adjusted P-value, Gene_set]\n",
      "Index: []\n",
      "Topic 529\n"
     ]
    },
    {
     "name": "stderr",
     "output_type": "stream",
     "text": [
      "2020-01-16 19:19:59,107 Warning: No enrich terms using library GO_Molecular_Function_2018 when cutoff = 0.05\n",
      "2020-01-16 19:20:01,573 Warning: No enrich terms using library GO_Biological_Process_2018 when cutoff = 0.05\n",
      "2020-01-16 19:20:04,028 Warning: No enrich terms using library GO_Cellular_Component_2018 when cutoff = 0.05\n",
      "2020-01-16 19:20:06,490 Warning: No enrich terms using library Human_Phenotype_Ontology when cutoff = 0.05\n",
      "2020-01-16 19:20:08,962 Warning: No enrich terms using library WikiPathways_2019_Human when cutoff = 0.05\n"
     ]
    },
    {
     "name": "stdout",
     "output_type": "stream",
     "text": [
      "Empty DataFrame\n",
      "Columns: [Term, Adjusted P-value, Gene_set]\n",
      "Index: []\n",
      "Topic 530\n"
     ]
    },
    {
     "name": "stderr",
     "output_type": "stream",
     "text": [
      "2020-01-16 19:20:11,807 Warning: No enrich terms using library GO_Molecular_Function_2018 when cutoff = 0.05\n",
      "2020-01-16 19:20:14,273 Warning: No enrich terms using library GO_Biological_Process_2018 when cutoff = 0.05\n",
      "2020-01-16 19:20:16,731 Warning: No enrich terms using library GO_Cellular_Component_2018 when cutoff = 0.05\n"
     ]
    },
    {
     "name": "stdout",
     "output_type": "stream",
     "text": [
      "<class 'requests.exceptions.ConnectionError'> ('Connection aborted.', ConnectionResetError(104, 'Connection reset by peer')) <traceback object at 0x7fc22d7b6c48>\n",
      "Empty DataFrame\n",
      "Columns: [Term, Adjusted P-value, Gene_set]\n",
      "Index: []\n",
      "Topic 531\n"
     ]
    },
    {
     "name": "stderr",
     "output_type": "stream",
     "text": [
      "2020-01-16 19:20:19,772 Warning: No enrich terms using library GO_Molecular_Function_2018 when cutoff = 0.05\n",
      "2020-01-16 19:20:22,244 Warning: No enrich terms using library GO_Biological_Process_2018 when cutoff = 0.05\n",
      "2020-01-16 19:20:24,713 Warning: No enrich terms using library GO_Cellular_Component_2018 when cutoff = 0.05\n",
      "2020-01-16 19:20:27,174 Warning: No enrich terms using library Human_Phenotype_Ontology when cutoff = 0.05\n",
      "2020-01-16 19:20:29,681 Warning: No enrich terms using library WikiPathways_2019_Human when cutoff = 0.05\n"
     ]
    },
    {
     "name": "stdout",
     "output_type": "stream",
     "text": [
      "                                                 Term  Adjusted P-value  \\\n",
      "25                         HALLMARK_KRAS_SIGNALING_DN            0.0400   \n",
      "28      REACTOME_METABOLISM_OF_AMINE_DERIVED_HORMONES            0.0120   \n",
      "30                REACTOME_ORGANIC_ANION_TRANSPORTERS            0.0100   \n",
      "32                 REACTOME_SLC_TRANSPORTER_DISORDERS            0.0424   \n",
      "33                    REACTOME_THYROXINE_BIOSYNTHESIS            0.0100   \n",
      "34  REACTOME_TRANSPORT_OF_INORGANIC_CATIONS_ANIONS...            0.0424   \n",
      "\n",
      "                 Gene_set  \n",
      "25  CUSTOM140471953505304  \n",
      "28  CUSTOM140471953502352  \n",
      "30  CUSTOM140471953502352  \n",
      "32  CUSTOM140471953502352  \n",
      "33  CUSTOM140471953502352  \n",
      "34  CUSTOM140471953502352  \n",
      "Topic 532\n"
     ]
    },
    {
     "name": "stderr",
     "output_type": "stream",
     "text": [
      "2020-01-16 19:20:32,743 Warning: No enrich terms using library GO_Molecular_Function_2018 when cutoff = 0.05\n",
      "2020-01-16 19:20:35,215 Warning: No enrich terms using library GO_Biological_Process_2018 when cutoff = 0.05\n",
      "2020-01-16 19:20:37,683 Warning: No enrich terms using library GO_Cellular_Component_2018 when cutoff = 0.05\n",
      "2020-01-16 19:20:40,157 Warning: No enrich terms using library Human_Phenotype_Ontology when cutoff = 0.05\n",
      "2020-01-16 19:20:42,617 Warning: No enrich terms using library WikiPathways_2019_Human when cutoff = 0.05\n"
     ]
    },
    {
     "name": "stdout",
     "output_type": "stream",
     "text": [
      "                                           Term  Adjusted P-value  \\\n",
      "59                         HALLMARK_COAGULATION           0.04000   \n",
      "60   HALLMARK_EPITHELIAL_MESENCHYMAL_TRANSITION           0.04000   \n",
      "61                KEGG_ECM_RECEPTOR_INTERACTION           0.03825   \n",
      "63              KEGG_TGF_BETA_SIGNALING_PATHWAY           0.03825   \n",
      "67                   REACTOME_ECM_PROTEOGLYCANS           0.03825   \n",
      "69  REACTOME_INTEGRIN_CELL_SURFACE_INTERACTIONS           0.03825   \n",
      "\n",
      "                 Gene_set  \n",
      "59  CUSTOM140472021826152  \n",
      "60  CUSTOM140472021826152  \n",
      "61  CUSTOM140471918853000  \n",
      "63  CUSTOM140471918853000  \n",
      "67  CUSTOM140471918853000  \n",
      "69  CUSTOM140471918853000  \n",
      "Topic 533\n"
     ]
    },
    {
     "name": "stderr",
     "output_type": "stream",
     "text": [
      "2020-01-16 19:20:45,690 Warning: No enrich terms using library GO_Molecular_Function_2018 when cutoff = 0.05\n",
      "2020-01-16 19:20:48,170 Warning: No enrich terms using library GO_Biological_Process_2018 when cutoff = 0.05\n",
      "2020-01-16 19:20:50,636 Warning: No enrich terms using library GO_Cellular_Component_2018 when cutoff = 0.05\n",
      "2020-01-16 19:20:53,110 Warning: No enrich terms using library Human_Phenotype_Ontology when cutoff = 0.05\n",
      "2020-01-16 19:20:55,579 Warning: No enrich terms using library WikiPathways_2019_Human when cutoff = 0.05\n"
     ]
    },
    {
     "name": "stdout",
     "output_type": "stream",
     "text": [
      "                                                 Term  Adjusted P-value  \\\n",
      "24  REACTOME_AMINO_ACID_TRANSPORT_ACROSS_THE_PLASM...             0.033   \n",
      "25                      REACTOME_BASIGIN_INTERACTIONS             0.033   \n",
      "\n",
      "                 Gene_set  \n",
      "24  CUSTOM140471881863744  \n",
      "25  CUSTOM140471881863744  \n",
      "Topic 534\n"
     ]
    },
    {
     "name": "stderr",
     "output_type": "stream",
     "text": [
      "2020-01-16 19:20:58,526 Warning: No enrich terms using library GO_Molecular_Function_2018 when cutoff = 0.05\n",
      "2020-01-16 19:21:00,989 Warning: No enrich terms using library GO_Biological_Process_2018 when cutoff = 0.05\n",
      "2020-01-16 19:21:03,452 Warning: No enrich terms using library GO_Cellular_Component_2018 when cutoff = 0.05\n",
      "2020-01-16 19:21:05,912 Warning: No enrich terms using library Human_Phenotype_Ontology when cutoff = 0.05\n",
      "2020-01-16 19:21:08,385 Warning: No enrich terms using library WikiPathways_2019_Human when cutoff = 0.05\n"
     ]
    },
    {
     "name": "stdout",
     "output_type": "stream",
     "text": [
      "                                Term  Adjusted P-value               Gene_set\n",
      "46              HALLMARK_COAGULATION          0.040000  CUSTOM140472027245448\n",
      "47    HALLMARK_INFLAMMATORY_RESPONSE          0.040000  CUSTOM140472027245448\n",
      "48  REACTOME_MET_RECEPTOR_ACTIVATION          0.002400  CUSTOM140472027508096\n",
      "49         REACTOME_SIGNALING_BY_MET          0.021067  CUSTOM140472027508096\n",
      "50        REACTOME_SIGNALING_BY_MST1          0.002400  CUSTOM140472027508096\n",
      "Topic 535\n"
     ]
    },
    {
     "name": "stderr",
     "output_type": "stream",
     "text": [
      "2020-01-16 19:21:11,442 Warning: No enrich terms using library GO_Molecular_Function_2018 when cutoff = 0.05\n",
      "2020-01-16 19:21:13,909 Warning: No enrich terms using library GO_Biological_Process_2018 when cutoff = 0.05\n",
      "2020-01-16 19:21:16,379 Warning: No enrich terms using library GO_Cellular_Component_2018 when cutoff = 0.05\n",
      "2020-01-16 19:21:18,850 Warning: No enrich terms using library Human_Phenotype_Ontology when cutoff = 0.05\n",
      "2020-01-16 19:21:21,320 Warning: No enrich terms using library WikiPathways_2019_Human when cutoff = 0.05\n"
     ]
    },
    {
     "name": "stdout",
     "output_type": "stream",
     "text": [
      "Empty DataFrame\n",
      "Columns: [Term, Adjusted P-value, Gene_set]\n",
      "Index: []\n",
      "Topic 536\n"
     ]
    },
    {
     "name": "stderr",
     "output_type": "stream",
     "text": [
      "2020-01-16 19:21:24,173 Warning: No enrich terms using library GO_Molecular_Function_2018 when cutoff = 0.05\n",
      "2020-01-16 19:21:26,641 Warning: No enrich terms using library GO_Biological_Process_2018 when cutoff = 0.05\n",
      "2020-01-16 19:21:29,103 Warning: No enrich terms using library GO_Cellular_Component_2018 when cutoff = 0.05\n",
      "2020-01-16 19:21:31,559 Warning: No enrich terms using library Human_Phenotype_Ontology when cutoff = 0.05\n",
      "2020-01-16 19:21:34,028 Warning: No enrich terms using library WikiPathways_2019_Human when cutoff = 0.05\n"
     ]
    },
    {
     "name": "stdout",
     "output_type": "stream",
     "text": [
      "                                        Term  Adjusted P-value  \\\n",
      "21                HALLMARK_KRAS_SIGNALING_DN            0.0400   \n",
      "22            KEGG_OXIDATIVE_PHOSPHORYLATION            0.0488   \n",
      "23            REACTOME_ION_CHANNEL_TRANSPORT            0.0488   \n",
      "24  REACTOME_ION_TRANSPORT_BY_P_TYPE_ATPASES            0.0440   \n",
      "\n",
      "                 Gene_set  \n",
      "21  CUSTOM140471918872400  \n",
      "22  CUSTOM140471918873264  \n",
      "23  CUSTOM140471918873264  \n",
      "24  CUSTOM140471918873264  \n",
      "Topic 537\n"
     ]
    },
    {
     "name": "stderr",
     "output_type": "stream",
     "text": [
      "2020-01-16 19:21:37,063 Warning: No enrich terms using library GO_Molecular_Function_2018 when cutoff = 0.05\n",
      "2020-01-16 19:21:39,522 Warning: No enrich terms using library GO_Biological_Process_2018 when cutoff = 0.05\n"
     ]
    },
    {
     "name": "stdout",
     "output_type": "stream",
     "text": [
      "<class 'requests.exceptions.ConnectionError'> ('Connection aborted.', ConnectionResetError(104, 'Connection reset by peer')) <traceback object at 0x7fc229753b48>\n",
      "                                        Term  Adjusted P-value  \\\n",
      "21                HALLMARK_KRAS_SIGNALING_DN            0.0400   \n",
      "22            KEGG_OXIDATIVE_PHOSPHORYLATION            0.0488   \n",
      "23            REACTOME_ION_CHANNEL_TRANSPORT            0.0488   \n",
      "24  REACTOME_ION_TRANSPORT_BY_P_TYPE_ATPASES            0.0440   \n",
      "\n",
      "                 Gene_set  \n",
      "21  CUSTOM140471918872400  \n",
      "22  CUSTOM140471918873264  \n",
      "23  CUSTOM140471918873264  \n",
      "24  CUSTOM140471918873264  \n",
      "Topic 538\n"
     ]
    },
    {
     "name": "stderr",
     "output_type": "stream",
     "text": [
      "2020-01-16 19:21:42,527 Warning: No enrich terms using library GO_Molecular_Function_2018 when cutoff = 0.05\n",
      "2020-01-16 19:21:44,986 Warning: No enrich terms using library GO_Biological_Process_2018 when cutoff = 0.05\n",
      "2020-01-16 19:21:47,454 Warning: No enrich terms using library GO_Cellular_Component_2018 when cutoff = 0.05\n",
      "2020-01-16 19:21:49,918 Warning: No enrich terms using library Human_Phenotype_Ontology when cutoff = 0.05\n",
      "2020-01-16 19:21:52,386 Warning: No enrich terms using library WikiPathways_2019_Human when cutoff = 0.05\n"
     ]
    },
    {
     "name": "stdout",
     "output_type": "stream",
     "text": [
      "Empty DataFrame\n",
      "Columns: [Term, Adjusted P-value, Gene_set]\n",
      "Index: []\n",
      "Topic 539\n"
     ]
    },
    {
     "name": "stderr",
     "output_type": "stream",
     "text": [
      "2020-01-16 19:21:55,241 Warning: No enrich terms using library GO_Molecular_Function_2018 when cutoff = 0.05\n",
      "2020-01-16 19:21:57,711 Warning: No enrich terms using library GO_Biological_Process_2018 when cutoff = 0.05\n",
      "2020-01-16 19:22:00,184 Warning: No enrich terms using library GO_Cellular_Component_2018 when cutoff = 0.05\n",
      "2020-01-16 19:22:02,653 Warning: No enrich terms using library Human_Phenotype_Ontology when cutoff = 0.05\n",
      "2020-01-16 19:22:05,117 Warning: No enrich terms using library WikiPathways_2019_Human when cutoff = 0.05\n",
      "2020-01-16 19:22:05,136 Warning: No enrich terms using library CUSTOM140471927787880 when cutoff = 0.05\n"
     ]
    },
    {
     "name": "stdout",
     "output_type": "stream",
     "text": [
      "Empty DataFrame\n",
      "Columns: [Term, Adjusted P-value, Gene_set]\n",
      "Index: []\n",
      "Topic 540\n"
     ]
    },
    {
     "name": "stderr",
     "output_type": "stream",
     "text": [
      "2020-01-16 19:22:07,975 Warning: No enrich terms using library GO_Molecular_Function_2018 when cutoff = 0.05\n",
      "2020-01-16 19:22:10,441 Warning: No enrich terms using library GO_Biological_Process_2018 when cutoff = 0.05\n",
      "2020-01-16 19:22:12,915 Warning: No enrich terms using library GO_Cellular_Component_2018 when cutoff = 0.05\n",
      "2020-01-16 19:22:15,398 Warning: No enrich terms using library Human_Phenotype_Ontology when cutoff = 0.05\n",
      "2020-01-16 19:22:17,957 Warning: No enrich terms using library WikiPathways_2019_Human when cutoff = 0.05\n"
     ]
    },
    {
     "name": "stdout",
     "output_type": "stream",
     "text": [
      "Empty DataFrame\n",
      "Columns: [Term, Adjusted P-value, Gene_set]\n",
      "Index: []\n",
      "Topic 541\n"
     ]
    },
    {
     "name": "stderr",
     "output_type": "stream",
     "text": [
      "2020-01-16 19:22:20,788 Warning: No enrich terms using library GO_Molecular_Function_2018 when cutoff = 0.05\n",
      "2020-01-16 19:22:23,342 Warning: No enrich terms using library GO_Biological_Process_2018 when cutoff = 0.05\n",
      "2020-01-16 19:22:25,812 Warning: No enrich terms using library GO_Cellular_Component_2018 when cutoff = 0.05\n",
      "2020-01-16 19:22:28,277 Warning: No enrich terms using library Human_Phenotype_Ontology when cutoff = 0.05\n",
      "2020-01-16 19:22:30,738 Warning: No enrich terms using library WikiPathways_2019_Human when cutoff = 0.05\n"
     ]
    },
    {
     "name": "stdout",
     "output_type": "stream",
     "text": [
      "                                                Term  Adjusted P-value  \\\n",
      "7  REACTOME_POST_TRANSLATIONAL_MODIFICATION:_SYNT...            0.0376   \n",
      "\n",
      "                Gene_set  \n",
      "7  CUSTOM140471872592560  \n",
      "Topic 542\n"
     ]
    },
    {
     "name": "stderr",
     "output_type": "stream",
     "text": [
      "2020-01-16 19:22:33,739 Warning: No enrich terms using library GO_Molecular_Function_2018 when cutoff = 0.05\n",
      "2020-01-16 19:22:36,201 Warning: No enrich terms using library GO_Biological_Process_2018 when cutoff = 0.05\n",
      "2020-01-16 19:22:38,660 Warning: No enrich terms using library GO_Cellular_Component_2018 when cutoff = 0.05\n",
      "2020-01-16 19:22:41,110 Warning: No enrich terms using library Human_Phenotype_Ontology when cutoff = 0.05\n",
      "2020-01-16 19:22:43,576 Warning: No enrich terms using library WikiPathways_2019_Human when cutoff = 0.05\n"
     ]
    },
    {
     "name": "stdout",
     "output_type": "stream",
     "text": [
      "Empty DataFrame\n",
      "Columns: [Term, Adjusted P-value, Gene_set]\n",
      "Index: []\n",
      "Topic 543\n"
     ]
    },
    {
     "name": "stderr",
     "output_type": "stream",
     "text": [
      "2020-01-16 19:22:46,463 Warning: No enrich terms using library GO_Molecular_Function_2018 when cutoff = 0.05\n",
      "2020-01-16 19:22:48,925 Warning: No enrich terms using library GO_Biological_Process_2018 when cutoff = 0.05\n",
      "2020-01-16 19:22:51,385 Warning: No enrich terms using library GO_Cellular_Component_2018 when cutoff = 0.05\n",
      "2020-01-16 19:22:53,847 Warning: No enrich terms using library Human_Phenotype_Ontology when cutoff = 0.05\n",
      "2020-01-16 19:22:56,397 Warning: No enrich terms using library WikiPathways_2019_Human when cutoff = 0.05\n"
     ]
    },
    {
     "name": "stdout",
     "output_type": "stream",
     "text": [
      "                                               Term  Adjusted P-value  \\\n",
      "6                    HALLMARK_FATTY_ACID_METABOLISM            0.0316   \n",
      "7   KEGG_ALANINE_ASPARTATE_AND_GLUTAMATE_METABOLISM            0.0099   \n",
      "8           KEGG_CYSTEINE_AND_METHIONINE_METABOLISM            0.0099   \n",
      "9                     KEGG_PHENYLALANINE_METABOLISM            0.0099   \n",
      "10                       KEGG_TRYPTOPHAN_METABOLISM            0.0099   \n",
      "11                         KEGG_TYROSINE_METABOLISM            0.0099   \n",
      "12   KEGG_VALINE_LEUCINE_AND_ISOLEUCINE_DEGRADATION            0.0099   \n",
      "14   REACTOME_PHENYLALANINE_AND_TYROSINE_METABOLISM            0.0099   \n",
      "15                REACTOME_PHENYLALANINE_METABOLISM            0.0099   \n",
      "\n",
      "                 Gene_set  \n",
      "6   CUSTOM140472024133352  \n",
      "7   CUSTOM140472024133424  \n",
      "8   CUSTOM140472024133424  \n",
      "9   CUSTOM140472024133424  \n",
      "10  CUSTOM140472024133424  \n",
      "11  CUSTOM140472024133424  \n",
      "12  CUSTOM140472024133424  \n",
      "14  CUSTOM140472024133424  \n",
      "15  CUSTOM140472024133424  \n",
      "Topic 544\n"
     ]
    },
    {
     "name": "stderr",
     "output_type": "stream",
     "text": [
      "2020-01-16 19:22:59,467 Warning: No enrich terms using library GO_Molecular_Function_2018 when cutoff = 0.05\n",
      "2020-01-16 19:23:01,991 Warning: No enrich terms using library GO_Biological_Process_2018 when cutoff = 0.05\n",
      "2020-01-16 19:23:04,462 Warning: No enrich terms using library GO_Cellular_Component_2018 when cutoff = 0.05\n",
      "2020-01-16 19:23:06,926 Warning: No enrich terms using library Human_Phenotype_Ontology when cutoff = 0.05\n",
      "2020-01-16 19:23:09,390 Warning: No enrich terms using library WikiPathways_2019_Human when cutoff = 0.05\n"
     ]
    },
    {
     "name": "stdout",
     "output_type": "stream",
     "text": [
      "                   Term  Adjusted P-value               Gene_set\n",
      "8  PID_UPA_UPAR_PATHWAY          0.016731  CUSTOM140471882125816\n",
      "Topic 545\n"
     ]
    },
    {
     "name": "stderr",
     "output_type": "stream",
     "text": [
      "2020-01-16 19:23:12,312 Warning: No enrich terms using library GO_Molecular_Function_2018 when cutoff = 0.05\n",
      "2020-01-16 19:23:19,832 Warning: No enrich terms using library Human_Phenotype_Ontology when cutoff = 0.05\n",
      "2020-01-16 19:23:22,386 Warning: No enrich terms using library CUSTOM140472022728352 when cutoff = 0.05\n",
      "2020-01-16 19:23:22,402 Warning: No enrich terms using library CUSTOM140472022724824 when cutoff = 0.05\n"
     ]
    },
    {
     "name": "stdout",
     "output_type": "stream",
     "text": [
      "                                                 Term  Adjusted P-value  \\\n",
      "7                  epidermis development (GO:0008544)          0.041334   \n",
      "12                         lamellar body (GO:0042599)          0.000234   \n",
      "13  Hair Follicle Development: Cytodifferentiation...          0.008829   \n",
      "\n",
      "                      Gene_set  \n",
      "7   GO_Biological_Process_2018  \n",
      "12  GO_Cellular_Component_2018  \n",
      "13     WikiPathways_2019_Human  \n",
      "Topic 546\n"
     ]
    },
    {
     "name": "stderr",
     "output_type": "stream",
     "text": [
      "2020-01-16 19:23:25,265 Warning: No enrich terms using library GO_Molecular_Function_2018 when cutoff = 0.05\n",
      "2020-01-16 19:23:27,730 Warning: No enrich terms using library GO_Biological_Process_2018 when cutoff = 0.05\n",
      "2020-01-16 19:23:30,224 Warning: No enrich terms using library GO_Cellular_Component_2018 when cutoff = 0.05\n",
      "2020-01-16 19:23:32,725 Warning: No enrich terms using library Human_Phenotype_Ontology when cutoff = 0.05\n",
      "2020-01-16 19:23:35,224 Warning: No enrich terms using library WikiPathways_2019_Human when cutoff = 0.05\n"
     ]
    },
    {
     "name": "stdout",
     "output_type": "stream",
     "text": [
      "                           Term  Adjusted P-value               Gene_set\n",
      "17  PID_ALPHA_SYNUCLEIN_PATHWAY            0.0064  CUSTOM140472023146072\n",
      "Topic 547\n"
     ]
    },
    {
     "name": "stderr",
     "output_type": "stream",
     "text": [
      "2020-01-16 19:23:38,177 Warning: No enrich terms using library GO_Molecular_Function_2018 when cutoff = 0.05\n",
      "2020-01-16 19:23:40,657 Warning: No enrich terms using library GO_Biological_Process_2018 when cutoff = 0.05\n",
      "2020-01-16 19:23:43,118 Warning: No enrich terms using library GO_Cellular_Component_2018 when cutoff = 0.05\n",
      "2020-01-16 19:23:45,586 Warning: No enrich terms using library Human_Phenotype_Ontology when cutoff = 0.05\n",
      "2020-01-16 19:23:48,043 Warning: No enrich terms using library WikiPathways_2019_Human when cutoff = 0.05\n"
     ]
    },
    {
     "name": "stdout",
     "output_type": "stream",
     "text": [
      "                                                Term  Adjusted P-value  \\\n",
      "6  REACTOME_REGULATION_OF_INSULIN_LIKE_GROWTH_FAC...            0.0496   \n",
      "\n",
      "                Gene_set  \n",
      "6  CUSTOM140472037272312  \n",
      "Topic 548\n"
     ]
    },
    {
     "name": "stderr",
     "output_type": "stream",
     "text": [
      "2020-01-16 19:23:50,943 Warning: No enrich terms using library GO_Molecular_Function_2018 when cutoff = 0.05\n",
      "2020-01-16 19:23:53,397 Warning: No enrich terms using library GO_Biological_Process_2018 when cutoff = 0.05\n",
      "2020-01-16 19:23:55,869 Warning: No enrich terms using library GO_Cellular_Component_2018 when cutoff = 0.05\n",
      "2020-01-16 19:23:58,331 Warning: No enrich terms using library Human_Phenotype_Ontology when cutoff = 0.05\n",
      "2020-01-16 19:24:00,802 Warning: No enrich terms using library WikiPathways_2019_Human when cutoff = 0.05\n"
     ]
    },
    {
     "name": "stdout",
     "output_type": "stream",
     "text": [
      "                              Term  Adjusted P-value               Gene_set\n",
      "5  REACTOME_ANTIMICROBIAL_PEPTIDES            0.0388  CUSTOM140472021727848\n",
      "Topic 549\n"
     ]
    },
    {
     "name": "stderr",
     "output_type": "stream",
     "text": [
      "2020-01-16 19:24:03,745 Warning: No enrich terms using library GO_Molecular_Function_2018 when cutoff = 0.05\n",
      "2020-01-16 19:24:06,215 Warning: No enrich terms using library GO_Biological_Process_2018 when cutoff = 0.05\n",
      "2020-01-16 19:24:08,691 Warning: No enrich terms using library GO_Cellular_Component_2018 when cutoff = 0.05\n",
      "2020-01-16 19:24:11,158 Warning: No enrich terms using library Human_Phenotype_Ontology when cutoff = 0.05\n",
      "2020-01-16 19:24:13,614 Warning: No enrich terms using library WikiPathways_2019_Human when cutoff = 0.05\n"
     ]
    },
    {
     "name": "stdout",
     "output_type": "stream",
     "text": [
      "Empty DataFrame\n",
      "Columns: [Term, Adjusted P-value, Gene_set]\n",
      "Index: []\n",
      "Topic 550\n"
     ]
    },
    {
     "name": "stderr",
     "output_type": "stream",
     "text": [
      "2020-01-16 19:24:16,461 Warning: No enrich terms using library GO_Molecular_Function_2018 when cutoff = 0.05\n",
      "2020-01-16 19:24:18,926 Warning: No enrich terms using library GO_Biological_Process_2018 when cutoff = 0.05\n",
      "2020-01-16 19:24:21,390 Warning: No enrich terms using library GO_Cellular_Component_2018 when cutoff = 0.05\n",
      "2020-01-16 19:24:23,866 Warning: No enrich terms using library Human_Phenotype_Ontology when cutoff = 0.05\n",
      "2020-01-16 19:24:26,336 Warning: No enrich terms using library WikiPathways_2019_Human when cutoff = 0.05\n"
     ]
    },
    {
     "name": "stdout",
     "output_type": "stream",
     "text": [
      "Empty DataFrame\n",
      "Columns: [Term, Adjusted P-value, Gene_set]\n",
      "Index: []\n",
      "Topic 551\n"
     ]
    },
    {
     "name": "stderr",
     "output_type": "stream",
     "text": [
      "2020-01-16 19:24:29,136 Warning: No enrich terms using library GO_Molecular_Function_2018 when cutoff = 0.05\n",
      "2020-01-16 19:24:31,599 Warning: No enrich terms using library GO_Biological_Process_2018 when cutoff = 0.05\n",
      "2020-01-16 19:24:34,077 Warning: No enrich terms using library GO_Cellular_Component_2018 when cutoff = 0.05\n",
      "2020-01-16 19:24:36,546 Warning: No enrich terms using library Human_Phenotype_Ontology when cutoff = 0.05\n",
      "2020-01-16 19:24:39,008 Warning: No enrich terms using library WikiPathways_2019_Human when cutoff = 0.05\n"
     ]
    },
    {
     "name": "stdout",
     "output_type": "stream",
     "text": [
      "Empty DataFrame\n",
      "Columns: [Term, Adjusted P-value, Gene_set]\n",
      "Index: []\n",
      "Topic 552\n"
     ]
    },
    {
     "name": "stderr",
     "output_type": "stream",
     "text": [
      "2020-01-16 19:24:41,844 Warning: No enrich terms using library GO_Molecular_Function_2018 when cutoff = 0.05\n",
      "2020-01-16 19:24:44,315 Warning: No enrich terms using library GO_Biological_Process_2018 when cutoff = 0.05\n",
      "2020-01-16 19:24:46,779 Warning: No enrich terms using library GO_Cellular_Component_2018 when cutoff = 0.05\n",
      "2020-01-16 19:24:49,245 Warning: No enrich terms using library Human_Phenotype_Ontology when cutoff = 0.05\n",
      "2020-01-16 19:24:51,727 Warning: No enrich terms using library WikiPathways_2019_Human when cutoff = 0.05\n",
      "2020-01-16 19:24:51,750 Warning: No enrich terms using library CUSTOM140472027268008 when cutoff = 0.05\n"
     ]
    },
    {
     "name": "stdout",
     "output_type": "stream",
     "text": [
      "Empty DataFrame\n",
      "Columns: [Term, Adjusted P-value, Gene_set]\n",
      "Index: []\n",
      "Topic 553\n"
     ]
    },
    {
     "name": "stderr",
     "output_type": "stream",
     "text": [
      "2020-01-16 19:24:54,577 Warning: No enrich terms using library GO_Molecular_Function_2018 when cutoff = 0.05\n",
      "2020-01-16 19:24:57,063 Warning: No enrich terms using library GO_Biological_Process_2018 when cutoff = 0.05\n",
      "2020-01-16 19:24:59,536 Warning: No enrich terms using library GO_Cellular_Component_2018 when cutoff = 0.05\n",
      "2020-01-16 19:25:02,006 Warning: No enrich terms using library Human_Phenotype_Ontology when cutoff = 0.05\n",
      "2020-01-16 19:25:04,471 Warning: No enrich terms using library WikiPathways_2019_Human when cutoff = 0.05\n"
     ]
    },
    {
     "name": "stdout",
     "output_type": "stream",
     "text": [
      "                              Term  Adjusted P-value               Gene_set\n",
      "5  HALLMARK_ESTROGEN_RESPONSE_LATE              0.04  CUSTOM140472022359064\n",
      "6       HALLMARK_KRAS_SIGNALING_UP              0.04  CUSTOM140472022359064\n",
      "Topic 554\n"
     ]
    },
    {
     "name": "stderr",
     "output_type": "stream",
     "text": [
      "2020-01-16 19:25:07,377 Warning: No enrich terms using library GO_Molecular_Function_2018 when cutoff = 0.05\n",
      "2020-01-16 19:25:09,848 Warning: No enrich terms using library GO_Biological_Process_2018 when cutoff = 0.05\n",
      "2020-01-16 19:25:12,325 Warning: No enrich terms using library GO_Cellular_Component_2018 when cutoff = 0.05\n",
      "2020-01-16 19:25:14,797 Warning: No enrich terms using library Human_Phenotype_Ontology when cutoff = 0.05\n",
      "2020-01-16 19:25:17,273 Warning: No enrich terms using library WikiPathways_2019_Human when cutoff = 0.05\n"
     ]
    },
    {
     "name": "stdout",
     "output_type": "stream",
     "text": [
      "                                          Term  Adjusted P-value  \\\n",
      "1             HALLMARK_ESTROGEN_RESPONSE_EARLY            0.0400   \n",
      "2              HALLMARK_ESTROGEN_RESPONSE_LATE            0.0400   \n",
      "3                         BIOCARTA_TFF_PATHWAY            0.0256   \n",
      "4                      PID_ERA_GENOMIC_PATHWAY            0.0256   \n",
      "5                            PID_HNF3A_PATHWAY            0.0256   \n",
      "7  REACTOME_ESTROGEN_DEPENDENT_GENE_EXPRESSION            0.0444   \n",
      "\n",
      "                Gene_set  \n",
      "1  CUSTOM140471920357312  \n",
      "2  CUSTOM140471920357312  \n",
      "3  CUSTOM140471920356016  \n",
      "4  CUSTOM140471920356016  \n",
      "5  CUSTOM140471920356016  \n",
      "7  CUSTOM140471920356016  \n",
      "Topic 555\n"
     ]
    },
    {
     "name": "stderr",
     "output_type": "stream",
     "text": [
      "2020-01-16 19:25:20,434 Warning: No enrich terms using library GO_Molecular_Function_2018 when cutoff = 0.05\n",
      "2020-01-16 19:25:22,930 Warning: No enrich terms using library GO_Biological_Process_2018 when cutoff = 0.05\n",
      "2020-01-16 19:25:25,403 Warning: No enrich terms using library GO_Cellular_Component_2018 when cutoff = 0.05\n",
      "2020-01-16 19:25:27,869 Warning: No enrich terms using library Human_Phenotype_Ontology when cutoff = 0.05\n",
      "2020-01-16 19:25:30,336 Warning: No enrich terms using library WikiPathways_2019_Human when cutoff = 0.05\n"
     ]
    },
    {
     "name": "stdout",
     "output_type": "stream",
     "text": [
      "Empty DataFrame\n",
      "Columns: [Term, Adjusted P-value, Gene_set]\n",
      "Index: []\n",
      "Topic 556\n"
     ]
    },
    {
     "name": "stderr",
     "output_type": "stream",
     "text": [
      "2020-01-16 19:25:33,215 Warning: No enrich terms using library GO_Molecular_Function_2018 when cutoff = 0.05\n",
      "2020-01-16 19:25:35,697 Warning: No enrich terms using library GO_Biological_Process_2018 when cutoff = 0.05\n",
      "2020-01-16 19:25:38,160 Warning: No enrich terms using library GO_Cellular_Component_2018 when cutoff = 0.05\n",
      "2020-01-16 19:25:40,632 Warning: No enrich terms using library Human_Phenotype_Ontology when cutoff = 0.05\n",
      "2020-01-16 19:25:43,099 Warning: No enrich terms using library WikiPathways_2019_Human when cutoff = 0.05\n",
      "2020-01-16 19:25:43,117 Warning: No enrich terms using library CUSTOM140471879099088 when cutoff = 0.05\n"
     ]
    },
    {
     "name": "stdout",
     "output_type": "stream",
     "text": [
      "Empty DataFrame\n",
      "Columns: [Term, Adjusted P-value, Gene_set]\n",
      "Index: []\n",
      "Topic 557\n"
     ]
    },
    {
     "name": "stderr",
     "output_type": "stream",
     "text": [
      "2020-01-16 19:25:45,952 Warning: No enrich terms using library GO_Molecular_Function_2018 when cutoff = 0.05\n",
      "2020-01-16 19:25:48,426 Warning: No enrich terms using library GO_Biological_Process_2018 when cutoff = 0.05\n",
      "2020-01-16 19:25:50,891 Warning: No enrich terms using library GO_Cellular_Component_2018 when cutoff = 0.05\n",
      "2020-01-16 19:25:53,360 Warning: No enrich terms using library Human_Phenotype_Ontology when cutoff = 0.05\n",
      "2020-01-16 19:25:55,842 Warning: No enrich terms using library WikiPathways_2019_Human when cutoff = 0.05\n"
     ]
    },
    {
     "name": "stdout",
     "output_type": "stream",
     "text": [
      "                                  Term  Adjusted P-value  \\\n",
      "22  REACTOME_CELLULAR_HEXOSE_TRANSPORT          0.014933   \n",
      "23   REACTOME_DIGESTION_AND_ABSORPTION          0.014933   \n",
      "26      REACTOME_INTESTINAL_ABSORPTION          0.008000   \n",
      "28  REACTOME_SLC_TRANSPORTER_DISORDERS          0.040000   \n",
      "\n",
      "                 Gene_set  \n",
      "22  CUSTOM140472023236824  \n",
      "23  CUSTOM140472023236824  \n",
      "26  CUSTOM140472023236824  \n",
      "28  CUSTOM140472023236824  \n",
      "Topic 558\n"
     ]
    },
    {
     "name": "stderr",
     "output_type": "stream",
     "text": [
      "2020-01-16 19:25:58,992 Warning: No enrich terms using library GO_Molecular_Function_2018 when cutoff = 0.05\n",
      "2020-01-16 19:26:01,464 Warning: No enrich terms using library GO_Biological_Process_2018 when cutoff = 0.05\n",
      "2020-01-16 19:26:03,952 Warning: No enrich terms using library GO_Cellular_Component_2018 when cutoff = 0.05\n",
      "2020-01-16 19:26:06,418 Warning: No enrich terms using library Human_Phenotype_Ontology when cutoff = 0.05\n",
      "2020-01-16 19:26:08,884 Warning: No enrich terms using library WikiPathways_2019_Human when cutoff = 0.05\n"
     ]
    },
    {
     "name": "stdout",
     "output_type": "stream",
     "text": [
      "Empty DataFrame\n",
      "Columns: [Term, Adjusted P-value, Gene_set]\n",
      "Index: []\n",
      "Topic 559\n"
     ]
    },
    {
     "name": "stderr",
     "output_type": "stream",
     "text": [
      "2020-01-16 19:26:11,684 Warning: No enrich terms using library GO_Molecular_Function_2018 when cutoff = 0.05\n",
      "2020-01-16 19:26:14,146 Warning: No enrich terms using library GO_Biological_Process_2018 when cutoff = 0.05\n",
      "2020-01-16 19:26:16,598 Warning: No enrich terms using library GO_Cellular_Component_2018 when cutoff = 0.05\n",
      "2020-01-16 19:26:19,062 Warning: No enrich terms using library Human_Phenotype_Ontology when cutoff = 0.05\n",
      "2020-01-16 19:26:21,523 Warning: No enrich terms using library WikiPathways_2019_Human when cutoff = 0.05\n"
     ]
    },
    {
     "name": "stdout",
     "output_type": "stream",
     "text": [
      "                                  Term  Adjusted P-value  \\\n",
      "0          REACTOME_INSULIN_PROCESSING            0.0108   \n",
      "1  REACTOME_PEPTIDE_HORMONE_METABOLISM            0.0180   \n",
      "\n",
      "                Gene_set  \n",
      "0  CUSTOM140471960044240  \n",
      "1  CUSTOM140471960044240  \n",
      "Topic 560\n"
     ]
    },
    {
     "name": "stderr",
     "output_type": "stream",
     "text": [
      "2020-01-16 19:26:24,493 Warning: No enrich terms using library GO_Molecular_Function_2018 when cutoff = 0.05\n",
      "2020-01-16 19:26:26,968 Warning: No enrich terms using library GO_Biological_Process_2018 when cutoff = 0.05\n",
      "2020-01-16 19:26:29,429 Warning: No enrich terms using library GO_Cellular_Component_2018 when cutoff = 0.05\n",
      "2020-01-16 19:26:31,893 Warning: No enrich terms using library Human_Phenotype_Ontology when cutoff = 0.05\n",
      "2020-01-16 19:26:34,362 Warning: No enrich terms using library WikiPathways_2019_Human when cutoff = 0.05\n"
     ]
    },
    {
     "name": "stdout",
     "output_type": "stream",
     "text": [
      "                                                 Term  Adjusted P-value  \\\n",
      "66                         PID_SMAD2_3NUCLEAR_PATHWAY          0.043733   \n",
      "67  REACTOME_ACTIVATION_OF_THE_TFAP2_AP_2_FAMILY_O...          0.019200   \n",
      "73  REACTOME_TRANSCRIPTIONAL_REGULATION_BY_THE_AP_...          0.030400   \n",
      "\n",
      "                 Gene_set  \n",
      "66  CUSTOM140471963501840  \n",
      "67  CUSTOM140471963501840  \n",
      "73  CUSTOM140471963501840  \n",
      "Topic 561\n"
     ]
    },
    {
     "name": "stderr",
     "output_type": "stream",
     "text": [
      "2020-01-16 19:26:37,322 Warning: No enrich terms using library GO_Molecular_Function_2018 when cutoff = 0.05\n",
      "2020-01-16 19:26:39,797 Warning: No enrich terms using library GO_Biological_Process_2018 when cutoff = 0.05\n",
      "2020-01-16 19:26:42,270 Warning: No enrich terms using library GO_Cellular_Component_2018 when cutoff = 0.05\n",
      "2020-01-16 19:26:44,740 Warning: No enrich terms using library Human_Phenotype_Ontology when cutoff = 0.05\n",
      "2020-01-16 19:26:47,208 Warning: No enrich terms using library WikiPathways_2019_Human when cutoff = 0.05\n"
     ]
    },
    {
     "name": "stdout",
     "output_type": "stream",
     "text": [
      "Empty DataFrame\n",
      "Columns: [Term, Adjusted P-value, Gene_set]\n",
      "Index: []\n",
      "Topic 562\n"
     ]
    },
    {
     "name": "stderr",
     "output_type": "stream",
     "text": [
      "2020-01-16 19:26:50,089 Warning: No enrich terms using library GO_Molecular_Function_2018 when cutoff = 0.05\n",
      "2020-01-16 19:26:52,562 Warning: No enrich terms using library GO_Biological_Process_2018 when cutoff = 0.05\n",
      "2020-01-16 19:26:55,025 Warning: No enrich terms using library GO_Cellular_Component_2018 when cutoff = 0.05\n",
      "2020-01-16 19:26:57,497 Warning: No enrich terms using library Human_Phenotype_Ontology when cutoff = 0.05\n",
      "2020-01-16 19:26:59,977 Warning: No enrich terms using library WikiPathways_2019_Human when cutoff = 0.05\n"
     ]
    },
    {
     "name": "stdout",
     "output_type": "stream",
     "text": [
      "Empty DataFrame\n",
      "Columns: [Term, Adjusted P-value, Gene_set]\n",
      "Index: []\n"
     ]
    }
   ],
   "source": [
    "threshhold = 5e-2\n",
    "cutoff = 5e-2\n",
    "background = len([g for g in get_sea()])\n",
    "os.system(\"mkdir -p gsea\")\n",
    "for itopic,topic in enumerate(df_topics.columns):\n",
    "    try:\n",
    "        enriched_topic = pd.read_csv(\"gsea/gsea_level_%d_topic%d.csv\"%(l,itopic), index_col=[0])\n",
    "        print(topic)\n",
    "    except:\n",
    "        try:\n",
    "            gene_list = ensg_to_symbol(df_topics.loc[:,topic].dropna().values)\n",
    "            print(topic)\n",
    "            enriched_topic = get_ontology_df(gene_list, cutoff=cutoff, threshhold = threshhold, gene_sets = gene_sets, background=background)\n",
    "            enriched_topic = enriched_topic.loc[enriched_topic.index.values[:20],:]\n",
    "            enriched_topic.to_csv(\"gsea/gsea_level_%d_topic%d.csv\"%(l,itopic))\n",
    "        except:\n",
    "            print(*sys.exc_info())\n",
    "    print(enriched_topic)"
   ]
  },
  {
   "cell_type": "code",
   "execution_count": null,
   "metadata": {},
   "outputs": [],
   "source": [
    "topic_pvalues = []\n",
    "topic_gos = []\n",
    "for itopic,topic in enumerate(df_topics.columns):\n",
    "    try:\n",
    "        enriched_topic = pd.read_csv(\"%s/gsea/gsea_level_%d_topic%d.csv\"%(directory,l,itopic))\n",
    "        if len(enriched_topic.index) >0:\n",
    "            p_val = np.sort(enriched_topic['Adjusted P-value'])[0]\n",
    "            topic_pvalues.append(-np.log10(p_val))\n",
    "            for goc in enriched_topic['Gene_set'][:10].unique():\n",
    "                topic_gos.append(goc)\n",
    "        print(topic)\n",
    "    except:\n",
    "        print(\"error\", sys.exc_info()[0])"
   ]
  },
  {
   "cell_type": "code",
   "execution_count": null,
   "metadata": {},
   "outputs": [],
   "source": [
    "fig = plt.figure()\n",
    "x = np.arange(1,1+len(topic_pvalues))\n",
    "c, _, _ = plt.hist(topic_pvalues, histtype='step', lw=2)\n",
    "plt.plot([-np.log10(0.05) for _ in np.linspace(1,10,num=10)],np.arange(0,np.max(c)+5,(np.max(c)+5)/10), ls='--', lw=5, label=\"$\\\\alpha=0.05$\")\n",
    "plt.xlabel('-log(P-value)', fontsize=16)\n",
    "plt.ylabel(\"number of topics\")\n",
    "#plt.ylim(0,0.055)\n",
    "#plt.yscale('log')\n",
    "plt.legend(fontsize=16)\n",
    "fig.savefig(\"%s/pvaluescrosstopic(%d).png\"%(directory,l))"
   ]
  },
  {
   "cell_type": "code",
   "execution_count": null,
   "metadata": {},
   "outputs": [],
   "source": [
    "fig = plt.figure(figsize=(20,10))\n",
    "gos, goscounts = np.unique(topic_gos,return_counts=True)\n",
    "plt.barh([\"\\n\".join(wrap(str(l).replace('_',' '),20)) for l in gos], goscounts)\n",
    "plt.yticks(fontsize=15)\n",
    "plt.show()\n",
    "fig.savefig(\"%s/pvaluecategories(%d).pdf\"%(directory,l))"
   ]
  },
  {
   "cell_type": "code",
   "execution_count": null,
   "metadata": {},
   "outputs": [],
   "source": []
  }
 ],
 "metadata": {
  "kernelspec": {
   "display_name": "Python 3",
   "language": "python",
   "name": "python3"
  },
  "language_info": {
   "codemirror_mode": {
    "name": "ipython",
    "version": 3
   },
   "file_extension": ".py",
   "mimetype": "text/x-python",
   "name": "python",
   "nbconvert_exporter": "python",
   "pygments_lexer": "ipython3",
   "version": "3.6.9"
  }
 },
 "nbformat": 4,
 "nbformat_minor": 2
}
