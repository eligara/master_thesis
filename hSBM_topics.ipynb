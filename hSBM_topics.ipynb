{
 "cells": [
  {
   "cell_type": "code",
   "execution_count": 1,
   "metadata": {},
   "outputs": [],
   "source": [
    "import numpy as np\n",
    "import pandas as pd\n",
    "from textwrap import wrap\n",
    "from matplotlib import pyplot as plt\n",
    "from sklearn import metrics\n",
    "import matplotlib.ticker as mticker\n",
    "import sys, os\n",
    "from hsbmpy import plot_topic_size, get_max_available_L"
   ]
  },
  {
   "cell_type": "code",
   "execution_count": 48,
   "metadata": {},
   "outputs": [],
   "source": [
    "directory=\"/home/fvalle/phd/datasets/gtex/log/3000_random-5000hvg/\"\n",
    "os.chdir(directory)\n",
    "sys.path.append('/home/fvalle/phd/master_thesis/')"
   ]
  },
  {
   "cell_type": "code",
   "execution_count": 49,
   "metadata": {},
   "outputs": [],
   "source": [
    "L = get_max_available_L(directory)"
   ]
  },
  {
   "cell_type": "code",
   "execution_count": 50,
   "metadata": {},
   "outputs": [],
   "source": [
    "df = pd.read_csv(\"mainTable.csv\", index_col=[0])"
   ]
  },
  {
   "cell_type": "markdown",
   "metadata": {},
   "source": [
    "# topic size"
   ]
  },
  {
   "cell_type": "code",
   "execution_count": null,
   "metadata": {},
   "outputs": [],
   "source": [
    "for l in range(0,L+1):\n",
    "    plot_topic_size(directory,l)"
   ]
  },
  {
   "cell_type": "markdown",
   "metadata": {},
   "source": [
    "## Topic O"
   ]
  },
  {
   "cell_type": "code",
   "execution_count": null,
   "metadata": {},
   "outputs": [],
   "source": [
    "df = pd.read_csv(\"mainTable.csv\", index_col=0,header=0)"
   ]
  },
  {
   "cell_type": "code",
   "execution_count": null,
   "metadata": {},
   "outputs": [],
   "source": [
    "df_mv=pd.DataFrame(data=[df.mean(1), df.var(1),df.apply(lambda x: len([x[x>0]])/float(len(x)), 1)], index=['average', 'var', 'O']).transpose()\n",
    "df_mv.head()"
   ]
  },
  {
   "cell_type": "code",
   "execution_count": null,
   "metadata": {},
   "outputs": [],
   "source": [
    "for l in range(0,L+1):\n",
    "    fig = plt.figure(figsize=(15,8))\n",
    "    ax = fig.subplots(1,2)\n",
    "    candles = get_candles(directory,l,df_mv,ax[0])\n",
    "    candlestick2_ohlc(ax[0], candles['open'],candles['high'],candles['low'],candles['close'],width=0.6,colordown='b')\n",
    "    ax[1].hist((np.array(candles['open'])+np.array(candles['close']))/2, weights=candles['size'], range=(-0.05,1.05), bins=10, histtype='step')\n",
    "    ax[1].set_xlabel(\"$O_i\", fontsize=18)\n",
    "    plt.show()\n",
    "    fig.savefig(\"%s/topic_Ocandles_level_%d.pdf\"%(directory,l))"
   ]
  },
  {
   "cell_type": "markdown",
   "metadata": {},
   "source": [
    "# Geneontology"
   ]
  },
  {
   "cell_type": "code",
   "execution_count": 5,
   "metadata": {},
   "outputs": [],
   "source": [
    "from geneontology import get_ontology_df, ensg_to_symbol\n",
    "from tableanalyser import get_symbol\n",
    "import gseapy as gs"
   ]
  },
  {
   "cell_type": "code",
   "execution_count": 23,
   "metadata": {},
   "outputs": [],
   "source": [
    "import importlib, geneontology,tableanalyser\n",
    "importlib.reload(geneontology)\n",
    "importlib.reload(tableanalyser)\n",
    "from geneontology import get_ontology_df, ensg_to_symbol\n",
    "from tableanalyser import get_symbol"
   ]
  },
  {
   "cell_type": "code",
   "execution_count": 51,
   "metadata": {},
   "outputs": [],
   "source": [
    "l=L\n",
    "df_topics = pd.read_csv(\"%s/topsbm/topsbm_level_%d_topics.csv\"%(directory,l))"
   ]
  },
  {
   "cell_type": "code",
   "execution_count": 52,
   "metadata": {},
   "outputs": [],
   "source": [
    "df_symbols= pd.read_csv(\"https://www.genenames.org/cgi-bin/download/custom?col=gd_hgnc_id&col=gd_app_sym&col=gd_pub_ensembl_id&col=md_ensembl_id&col=md_eg_id&status=Approved&status=Entry%20Withdrawn&hgnc_dbtag=on&order_by=gd_app_sym_sort&format=text&submit=submit\", index_col=[0], sep='\\t')"
   ]
  },
  {
   "cell_type": "code",
   "execution_count": 53,
   "metadata": {},
   "outputs": [],
   "source": [
    "def get_sea():\n",
    "    for g in df_topics.values.ravel()[[str(s)!='nan' for s in df_topics.values.ravel()]]:\n",
    "        yield get_symbol(g)"
   ]
  },
  {
   "cell_type": "code",
   "execution_count": 54,
   "metadata": {},
   "outputs": [],
   "source": [
    "with open(\"gback.txt\",'w') as f:\n",
    "    list(map(lambda x: f.writelines(x+'\\n')if len(x)>1 else None, get_sea()))\n",
    "    \n",
    "with open(\"gback_ensg.txt\",'w') as f:\n",
    "    list(map(lambda x: f.writelines(x[:15]+'\\n')if len(x)>1 else None, df_topics.values.ravel()[[str(s)!='nan' for s in df_topics.values.ravel()]]))"
   ]
  },
  {
   "cell_type": "code",
   "execution_count": 55,
   "metadata": {
    "scrolled": true
   },
   "outputs": [
    {
     "data": {
      "text/plain": [
       "['ARCHS4_Cell-lines',\n",
       " 'ARCHS4_IDG_Coexp',\n",
       " 'ARCHS4_Kinases_Coexp',\n",
       " 'ARCHS4_TFs_Coexp',\n",
       " 'ARCHS4_Tissues',\n",
       " 'Achilles_fitness_decrease',\n",
       " 'Achilles_fitness_increase',\n",
       " 'Aging_Perturbations_from_GEO_down',\n",
       " 'Aging_Perturbations_from_GEO_up',\n",
       " 'Allen_Brain_Atlas_down',\n",
       " 'Allen_Brain_Atlas_up',\n",
       " 'BioCarta_2013',\n",
       " 'BioCarta_2015',\n",
       " 'BioCarta_2016',\n",
       " 'BioPlanet_2019',\n",
       " 'BioPlex_2017',\n",
       " 'CORUM',\n",
       " 'Cancer_Cell_Line_Encyclopedia',\n",
       " 'ChEA_2013',\n",
       " 'ChEA_2015',\n",
       " 'ChEA_2016',\n",
       " 'Chromosome_Location',\n",
       " 'Chromosome_Location_hg19',\n",
       " 'ClinVar_2019',\n",
       " 'DSigDB',\n",
       " 'Data_Acquisition_Method_Most_Popular_Genes',\n",
       " 'DepMap_WG_CRISPR_Screens_Broad_CellLines_2019',\n",
       " 'DepMap_WG_CRISPR_Screens_Sanger_CellLines_2019',\n",
       " 'DisGeNET',\n",
       " 'Disease_Perturbations_from_GEO_down',\n",
       " 'Disease_Perturbations_from_GEO_up',\n",
       " 'Disease_Signatures_from_GEO_down_2014',\n",
       " 'Disease_Signatures_from_GEO_up_2014',\n",
       " 'DrugMatrix',\n",
       " 'Drug_Perturbations_from_GEO_2014',\n",
       " 'Drug_Perturbations_from_GEO_down',\n",
       " 'Drug_Perturbations_from_GEO_up',\n",
       " 'ENCODE_Histone_Modifications_2013',\n",
       " 'ENCODE_Histone_Modifications_2015',\n",
       " 'ENCODE_TF_ChIP-seq_2014',\n",
       " 'ENCODE_TF_ChIP-seq_2015',\n",
       " 'ENCODE_and_ChEA_Consensus_TFs_from_ChIP-X',\n",
       " 'ESCAPE',\n",
       " 'Enrichr_Libraries_Most_Popular_Genes',\n",
       " 'Enrichr_Submissions_TF-Gene_Coocurrence',\n",
       " 'Epigenomics_Roadmap_HM_ChIP-seq',\n",
       " 'GO_Biological_Process_2013',\n",
       " 'GO_Biological_Process_2015',\n",
       " 'GO_Biological_Process_2017',\n",
       " 'GO_Biological_Process_2017b',\n",
       " 'GO_Biological_Process_2018',\n",
       " 'GO_Cellular_Component_2013',\n",
       " 'GO_Cellular_Component_2015',\n",
       " 'GO_Cellular_Component_2017',\n",
       " 'GO_Cellular_Component_2017b',\n",
       " 'GO_Cellular_Component_2018',\n",
       " 'GO_Molecular_Function_2013',\n",
       " 'GO_Molecular_Function_2015',\n",
       " 'GO_Molecular_Function_2017',\n",
       " 'GO_Molecular_Function_2017b',\n",
       " 'GO_Molecular_Function_2018',\n",
       " 'GTEx_Tissue_Sample_Gene_Expression_Profiles_down',\n",
       " 'GTEx_Tissue_Sample_Gene_Expression_Profiles_up',\n",
       " 'GWAS_Catalog_2019',\n",
       " 'GeneSigDB',\n",
       " 'Gene_Perturbations_from_GEO_down',\n",
       " 'Gene_Perturbations_from_GEO_up',\n",
       " 'Genes_Associated_with_NIH_Grants',\n",
       " 'Genome_Browser_PWMs',\n",
       " 'HMDB_Metabolites',\n",
       " 'HMS_LINCS_KinomeScan',\n",
       " 'HomoloGene',\n",
       " 'HumanCyc_2015',\n",
       " 'HumanCyc_2016',\n",
       " 'Human_Gene_Atlas',\n",
       " 'Human_Phenotype_Ontology',\n",
       " 'InterPro_Domains_2019',\n",
       " 'Jensen_COMPARTMENTS',\n",
       " 'Jensen_DISEASES',\n",
       " 'Jensen_TISSUES',\n",
       " 'KEA_2013',\n",
       " 'KEA_2015',\n",
       " 'KEGG_2013',\n",
       " 'KEGG_2015',\n",
       " 'KEGG_2016',\n",
       " 'KEGG_2019_Human',\n",
       " 'KEGG_2019_Mouse',\n",
       " 'Kinase_Perturbations_from_GEO_down',\n",
       " 'Kinase_Perturbations_from_GEO_up',\n",
       " 'LINCS_L1000_Chem_Pert_down',\n",
       " 'LINCS_L1000_Chem_Pert_up',\n",
       " 'LINCS_L1000_Kinase_Perturbations_down',\n",
       " 'LINCS_L1000_Kinase_Perturbations_up',\n",
       " 'LINCS_L1000_Ligand_Perturbations_down',\n",
       " 'LINCS_L1000_Ligand_Perturbations_up',\n",
       " 'Ligand_Perturbations_from_GEO_down',\n",
       " 'Ligand_Perturbations_from_GEO_up',\n",
       " 'MCF7_Perturbations_from_GEO_down',\n",
       " 'MCF7_Perturbations_from_GEO_up',\n",
       " 'MGI_Mammalian_Phenotype_2013',\n",
       " 'MGI_Mammalian_Phenotype_2017',\n",
       " 'MGI_Mammalian_Phenotype_Level_3',\n",
       " 'MGI_Mammalian_Phenotype_Level_4',\n",
       " 'MGI_Mammalian_Phenotype_Level_4_2019',\n",
       " 'MSigDB_Computational',\n",
       " 'MSigDB_Oncogenic_Signatures',\n",
       " 'Microbe_Perturbations_from_GEO_down',\n",
       " 'Microbe_Perturbations_from_GEO_up',\n",
       " 'Mouse_Gene_Atlas',\n",
       " 'NCI-60_Cancer_Cell_Lines',\n",
       " 'NCI-Nature_2015',\n",
       " 'NCI-Nature_2016',\n",
       " 'NIH_Funded_PIs_2017_AutoRIF_ARCHS4_Predictions',\n",
       " 'NIH_Funded_PIs_2017_GeneRIF_ARCHS4_Predictions',\n",
       " 'NIH_Funded_PIs_2017_Human_AutoRIF',\n",
       " 'NIH_Funded_PIs_2017_Human_GeneRIF',\n",
       " 'NURSA_Human_Endogenous_Complexome',\n",
       " 'OMIM_Disease',\n",
       " 'OMIM_Expanded',\n",
       " 'Old_CMAP_down',\n",
       " 'Old_CMAP_up',\n",
       " 'PPI_Hub_Proteins',\n",
       " 'Panther_2015',\n",
       " 'Panther_2016',\n",
       " 'Pfam_Domains_2019',\n",
       " 'Pfam_InterPro_Domains',\n",
       " 'PheWeb_2019',\n",
       " 'Phosphatase_Substrates_from_DEPOD',\n",
       " 'RNA-Seq_Disease_Gene_and_Drug_Signatures_from_GEO',\n",
       " 'Rare_Diseases_AutoRIF_ARCHS4_Predictions',\n",
       " 'Rare_Diseases_AutoRIF_Gene_Lists',\n",
       " 'Rare_Diseases_GeneRIF_ARCHS4_Predictions',\n",
       " 'Rare_Diseases_GeneRIF_Gene_Lists',\n",
       " 'Reactome_2013',\n",
       " 'Reactome_2015',\n",
       " 'Reactome_2016',\n",
       " 'SILAC_Phosphoproteomics',\n",
       " 'SubCell_BarCode',\n",
       " 'SysMyo_Muscle_Gene_Sets',\n",
       " 'TF-LOF_Expression_from_GEO',\n",
       " 'TF_Perturbations_Followed_by_Expression',\n",
       " 'TRANSFAC_and_JASPAR_PWMs',\n",
       " 'TRRUST_Transcription_Factors_2019',\n",
       " 'TargetScan_microRNA',\n",
       " 'TargetScan_microRNA_2017',\n",
       " 'Tissue_Protein_Expression_from_Human_Proteome_Map',\n",
       " 'Tissue_Protein_Expression_from_ProteomicsDB',\n",
       " 'Transcription_Factor_PPIs',\n",
       " 'UK_Biobank_GWAS_v1',\n",
       " 'VirusMINT',\n",
       " 'Virus_Perturbations_from_GEO_down',\n",
       " 'Virus_Perturbations_from_GEO_up',\n",
       " 'WikiPathways_2013',\n",
       " 'WikiPathways_2015',\n",
       " 'WikiPathways_2016',\n",
       " 'WikiPathways_2019_Human',\n",
       " 'WikiPathways_2019_Mouse',\n",
       " 'dbGaP',\n",
       " 'huMAP',\n",
       " 'miRTarBase_2017']"
      ]
     },
     "execution_count": 55,
     "metadata": {},
     "output_type": "execute_result"
    }
   ],
   "source": [
    "gs.get_library_name()"
   ]
  },
  {
   "cell_type": "code",
   "execution_count": 56,
   "metadata": {},
   "outputs": [],
   "source": [
    "gene_sets = ['GO_Molecular_Function_2018',\n",
    "             'GO_Biological_Process_2018',\n",
    "             'GO_Cellular_Component_2018',\n",
    "             'Human_Phenotype_Ontology',\n",
    "             'WikiPathways_2019_Human',\n",
    "             '/home/fvalle/MSigDB/h.all.v7.0.symbols.gmt',\n",
    "             '/home/fvalle/MSigDB/c2.cp.v7.0.symbols.gmt'\n",
    "            ]"
   ]
  },
  {
   "cell_type": "code",
   "execution_count": 58,
   "metadata": {
    "scrolled": true
   },
   "outputs": [
    {
     "name": "stdout",
     "output_type": "stream",
     "text": [
      "Topic 1\n",
      "<class 'requests.exceptions.ConnectionError'> ('Connection aborted.', ConnectionResetError(104, 'Connection reset by peer')) <traceback object at 0x7fb2684d3208>\n",
      "                                                  Term  Adjusted P-value  \\\n",
      "140                    muscle contraction (GO:0006936)      1.976447e-13   \n",
      "141                    myofibril assembly (GO:0030239)      9.636725e-09   \n",
      "142           striated muscle contraction (GO:0006941)      7.671234e-08   \n",
      "143    skeletal muscle tissue development (GO:0007519)      2.129623e-06   \n",
      "145  positive regulation of skeletal muscle tissue ...      2.999101e-06   \n",
      "144  skeletal muscle cell differentiation (GO:0035914)      3.598921e-06   \n",
      "146     actomyosin structure organization (GO:0031032)      3.763580e-06   \n",
      "147  positive regulation of skeletal muscle fiber d...      8.216829e-06   \n",
      "148  positive regulation of myotube differentiation...      1.083570e-05   \n",
      "149  regulation of skeletal muscle fiber developmen...      1.527327e-05   \n",
      "803         striated muscle thin filament (GO:0005865)      2.239389e-05   \n",
      "151         actin-myosin filament sliding (GO:0033275)      2.453684e-05   \n",
      "152      striated muscle cell development (GO:0055002)      2.616466e-05   \n",
      "150               muscle filament sliding (GO:0030049)      2.676746e-05   \n",
      "805                             myofibril (GO:0030016)      5.004210e-05   \n",
      "804                     contractile fiber (GO:0043292)      6.143074e-05   \n",
      "153              muscle fiber development (GO:0048747)      1.226929e-04   \n",
      "154                sarcomere organization (GO:0045214)      2.368337e-04   \n",
      "155  positive regulation of myoblast differentiatio...      2.650270e-04   \n",
      "156  positive regulation of cell development (GO:00...      3.377618e-04   \n",
      "\n",
      "                       Gene_set  \n",
      "140  GO_Biological_Process_2018  \n",
      "141  GO_Biological_Process_2018  \n",
      "142  GO_Biological_Process_2018  \n",
      "143  GO_Biological_Process_2018  \n",
      "145  GO_Biological_Process_2018  \n",
      "144  GO_Biological_Process_2018  \n",
      "146  GO_Biological_Process_2018  \n",
      "147  GO_Biological_Process_2018  \n",
      "148  GO_Biological_Process_2018  \n",
      "149  GO_Biological_Process_2018  \n",
      "803  GO_Cellular_Component_2018  \n",
      "151  GO_Biological_Process_2018  \n",
      "152  GO_Biological_Process_2018  \n",
      "150  GO_Biological_Process_2018  \n",
      "805  GO_Cellular_Component_2018  \n",
      "804  GO_Cellular_Component_2018  \n",
      "153  GO_Biological_Process_2018  \n",
      "154  GO_Biological_Process_2018  \n",
      "155  GO_Biological_Process_2018  \n",
      "156  GO_Biological_Process_2018  \n",
      "Topic 2\n"
     ]
    },
    {
     "name": "stderr",
     "output_type": "stream",
     "text": [
      "2020-01-21 10:52:34,483 Warning: No enrich terms using library Human_Phenotype_Ontology when cutoff = 0.5\n",
      "2020-01-21 10:52:37,036 Warning: No enrich terms using library WikiPathways_2019_Human when cutoff = 0.5\n",
      "2020-01-21 10:52:37,047 Warning: No enrich terms using library CUSTOM140404267696064 when cutoff = 0.5\n",
      "2020-01-21 10:52:37,125 Warning: No enrich terms using library CUSTOM140404267695272 when cutoff = 0.5\n"
     ]
    },
    {
     "name": "stdout",
     "output_type": "stream",
     "text": [
      "                                                  Term  Adjusted P-value  \\\n",
      "84        regulation of heart contraction (GO:0008016)          0.206785   \n",
      "0              myosin heavy chain binding (GO:0032036)          0.219002   \n",
      "83    cardiac muscle tissue morphogenesis (GO:0055008)          0.228875   \n",
      "82   ventricular cardiac muscle tissue morphogenesi...          0.256871   \n",
      "85                adult heart development (GO:0007512)          0.276328   \n",
      "465          smooth endoplasmic reticulum (GO:0005790)          0.311505   \n",
      "81   ventricular cardiac muscle cell development (G...          0.347451   \n",
      "86                    heart morphogenesis (GO:0003007)          0.348287   \n",
      "80   regulation of striated muscle contraction (GO:...          0.475693   \n",
      "\n",
      "                       Gene_set  \n",
      "84   GO_Biological_Process_2018  \n",
      "0    GO_Molecular_Function_2018  \n",
      "83   GO_Biological_Process_2018  \n",
      "82   GO_Biological_Process_2018  \n",
      "85   GO_Biological_Process_2018  \n",
      "465  GO_Cellular_Component_2018  \n",
      "81   GO_Biological_Process_2018  \n",
      "86   GO_Biological_Process_2018  \n",
      "80   GO_Biological_Process_2018  \n",
      "Topic 3\n"
     ]
    },
    {
     "name": "stderr",
     "output_type": "stream",
     "text": [
      "2020-01-21 10:52:49,635 Warning: No enrich terms using library Human_Phenotype_Ontology when cutoff = 0.5\n"
     ]
    },
    {
     "name": "stdout",
     "output_type": "stream",
     "text": [
      "                                                   Term  Adjusted P-value  \\\n",
      "134      extracellular matrix organization (GO:0030198)          0.005619   \n",
      "3                        cytokine activity (GO:0005125)          0.023300   \n",
      "135     regulation of leukocyte chemotaxis (GO:0002688)          0.026748   \n",
      "2               chemokine receptor binding (GO:0042379)          0.029089   \n",
      "1          CXCR chemokine receptor binding (GO:0045236)          0.035178   \n",
      "136       extracellular matrix disassembly (GO:0022617)          0.050851   \n",
      "817                 tertiary granule lumen (GO:1904724)          0.053298   \n",
      "1105         HALLMARK_EPITHELIAL_MESENCHYMAL_TRANSITION          0.055578   \n",
      "818            endoplasmic reticulum lumen (GO:0005788)          0.055583   \n",
      "4         metallocarboxypeptidase activity (GO:0004181)          0.065352   \n",
      "0                       chemokine activity (GO:0008009)          0.067923   \n",
      "141                 granulocyte chemotaxis (GO:0071621)          0.081803   \n",
      "142                   neutrophil migration (GO:1990266)          0.083407   \n",
      "140         tetrapyrrole metabolic process (GO:0033013)          0.086003   \n",
      "143   positive regulation of neutrophil chemotaxis (...          0.090705   \n",
      "144   positive regulation of neutrophil migration (G...          0.093392   \n",
      "976                                Lung fibrosis WP3624          0.095788   \n",
      "145   positive regulation of granulocyte chemotaxis ...          0.096454   \n",
      "139            cobalamin metabolic process (GO:0009235)          0.100336   \n",
      "5           serine-type peptidase activity (GO:0008236)          0.103035   \n",
      "\n",
      "                        Gene_set  \n",
      "134   GO_Biological_Process_2018  \n",
      "3     GO_Molecular_Function_2018  \n",
      "135   GO_Biological_Process_2018  \n",
      "2     GO_Molecular_Function_2018  \n",
      "1     GO_Molecular_Function_2018  \n",
      "136   GO_Biological_Process_2018  \n",
      "817   GO_Cellular_Component_2018  \n",
      "1105       CUSTOM140404257844536  \n",
      "818   GO_Cellular_Component_2018  \n",
      "4     GO_Molecular_Function_2018  \n",
      "0     GO_Molecular_Function_2018  \n",
      "141   GO_Biological_Process_2018  \n",
      "142   GO_Biological_Process_2018  \n",
      "140   GO_Biological_Process_2018  \n",
      "143   GO_Biological_Process_2018  \n",
      "144   GO_Biological_Process_2018  \n",
      "976      WikiPathways_2019_Human  \n",
      "145   GO_Biological_Process_2018  \n",
      "139   GO_Biological_Process_2018  \n",
      "5     GO_Molecular_Function_2018  \n",
      "Topic 4\n"
     ]
    },
    {
     "name": "stderr",
     "output_type": "stream",
     "text": [
      "2020-01-21 10:53:06,758 Warning: No enrich terms using library Human_Phenotype_Ontology when cutoff = 0.5\n",
      "2020-01-21 10:53:09,606 Warning: No enrich terms using library WikiPathways_2019_Human when cutoff = 0.5\n",
      "2020-01-21 10:53:09,620 Warning: No enrich terms using library CUSTOM140404268481560 when cutoff = 0.5\n",
      "2020-01-21 10:53:09,718 Warning: No enrich terms using library CUSTOM140404268481056 when cutoff = 0.5\n"
     ]
    },
    {
     "name": "stdout",
     "output_type": "stream",
     "text": [
      "                                                  Term  Adjusted P-value  \\\n",
      "1         anion:anion antiporter activity (GO:0015301)          0.052035   \n",
      "0                 ion antiporter activity (GO:0099516)          0.054684   \n",
      "2    inorganic anion transmembrane transporter acti...          0.088016   \n",
      "3    extracellular ligand-gated ion channel activit...          0.096496   \n",
      "7    transmitter-gated ion channel activity involve...          0.111723   \n",
      "6    anion transmembrane transporter activity (GO:0...          0.124993   \n",
      "5    ligand-gated cation channel activity (GO:0099094)          0.125405   \n",
      "4    acetylcholine-gated cation-selective channel a...          0.145576   \n",
      "8       ligand-gated ion channel activity (GO:0015276)          0.148049   \n",
      "9    organic anion transmembrane transporter activi...          0.151837   \n",
      "10        acetylcholine receptor activity (GO:0015464)          0.240526   \n",
      "15   urate transmembrane transporter activity (GO:0...          0.328836   \n",
      "205                  response to alkaloid (GO:0043279)          0.335168   \n",
      "14   salt transmembrane transporter activity (GO:19...          0.350759   \n",
      "12   dicarboxylic acid transmembrane transporter ac...          0.360774   \n",
      "17                   dipeptidase activity (GO:0016805)          0.362591   \n",
      "16          ligand-gated channel activity (GO:0022834)          0.369011   \n",
      "13   excitatory extracellular ligand-gated ion chan...          0.370494   \n",
      "11     inorganic anion exchanger activity (GO:0005452)          0.390838   \n",
      "18   sodium-independent organic anion transmembrane...          0.394009   \n",
      "\n",
      "                       Gene_set  \n",
      "1    GO_Molecular_Function_2018  \n",
      "0    GO_Molecular_Function_2018  \n",
      "2    GO_Molecular_Function_2018  \n",
      "3    GO_Molecular_Function_2018  \n",
      "7    GO_Molecular_Function_2018  \n",
      "6    GO_Molecular_Function_2018  \n",
      "5    GO_Molecular_Function_2018  \n",
      "4    GO_Molecular_Function_2018  \n",
      "8    GO_Molecular_Function_2018  \n",
      "9    GO_Molecular_Function_2018  \n",
      "10   GO_Molecular_Function_2018  \n",
      "15   GO_Molecular_Function_2018  \n",
      "205  GO_Biological_Process_2018  \n",
      "14   GO_Molecular_Function_2018  \n",
      "12   GO_Molecular_Function_2018  \n",
      "17   GO_Molecular_Function_2018  \n",
      "16   GO_Molecular_Function_2018  \n",
      "13   GO_Molecular_Function_2018  \n",
      "11   GO_Molecular_Function_2018  \n",
      "18   GO_Molecular_Function_2018  \n",
      "Topic 5\n"
     ]
    },
    {
     "name": "stderr",
     "output_type": "stream",
     "text": [
      "2020-01-21 10:53:13,898 Warning: No enrich terms using library GO_Molecular_Function_2018 when cutoff = 0.5\n",
      "2020-01-21 10:53:16,806 Warning: No enrich terms using library GO_Biological_Process_2018 when cutoff = 0.5\n",
      "2020-01-21 10:53:19,636 Warning: No enrich terms using library GO_Cellular_Component_2018 when cutoff = 0.5\n",
      "2020-01-21 10:53:22,517 Warning: No enrich terms using library Human_Phenotype_Ontology when cutoff = 0.5\n",
      "2020-01-21 10:53:25,482 Warning: No enrich terms using library WikiPathways_2019_Human when cutoff = 0.5\n",
      "2020-01-21 10:53:25,495 Warning: No enrich terms using library CUSTOM140404337260224 when cutoff = 0.5\n",
      "2020-01-21 10:53:25,570 Warning: No enrich terms using library CUSTOM140404337260080 when cutoff = 0.5\n"
     ]
    },
    {
     "name": "stdout",
     "output_type": "stream",
     "text": [
      "Empty DataFrame\n",
      "Columns: [Term, Adjusted P-value, Gene_set]\n",
      "Index: []\n",
      "Topic 6\n"
     ]
    },
    {
     "name": "stderr",
     "output_type": "stream",
     "text": [
      "2020-01-21 10:53:35,010 Warning: No enrich terms using library GO_Molecular_Function_2018 when cutoff = 0.5\n",
      "2020-01-21 10:53:46,773 Warning: No enrich terms using library Human_Phenotype_Ontology when cutoff = 0.5\n",
      "2020-01-21 10:53:50,507 Warning: No enrich terms using library WikiPathways_2019_Human when cutoff = 0.5\n",
      "2020-01-21 10:53:50,520 Warning: No enrich terms using library CUSTOM140404337280776 when cutoff = 0.5\n",
      "2020-01-21 10:53:50,660 Warning: No enrich terms using library CUSTOM140404337280920 when cutoff = 0.5\n"
     ]
    },
    {
     "name": "stdout",
     "output_type": "stream",
     "text": [
      "                                                  Term  Adjusted P-value  \\\n",
      "206  cell wall macromolecule catabolic process (GO:...          0.142888   \n",
      "754                    Golgi cis cisterna (GO:0000137)          0.213614   \n",
      "753               Golgi cisterna membrane (GO:0032580)          0.427228   \n",
      "\n",
      "                       Gene_set  \n",
      "206  GO_Biological_Process_2018  \n",
      "754  GO_Cellular_Component_2018  \n",
      "753  GO_Cellular_Component_2018  \n",
      "Topic 7\n",
      "<class 'requests.exceptions.ConnectionError'> ('Connection aborted.', ConnectionResetError(104, 'Connection reset by peer')) <traceback object at 0x7fb26dde0e48>\n",
      "                                                  Term  Adjusted P-value  \\\n",
      "206  cell wall macromolecule catabolic process (GO:...          0.142888   \n",
      "754                    Golgi cis cisterna (GO:0000137)          0.213614   \n",
      "753               Golgi cisterna membrane (GO:0032580)          0.427228   \n",
      "\n",
      "                       Gene_set  \n",
      "206  GO_Biological_Process_2018  \n",
      "754  GO_Cellular_Component_2018  \n",
      "753  GO_Cellular_Component_2018  \n",
      "Topic 8\n"
     ]
    },
    {
     "name": "stderr",
     "output_type": "stream",
     "text": [
      "2020-01-21 10:54:06,137 Warning: No enrich terms using library Human_Phenotype_Ontology when cutoff = 0.5\n",
      "2020-01-21 10:54:09,140 Warning: No enrich terms using library CUSTOM140404272183408 when cutoff = 0.5\n",
      "2020-01-21 10:54:09,246 Warning: No enrich terms using library CUSTOM140404330797384 when cutoff = 0.5\n"
     ]
    },
    {
     "name": "stdout",
     "output_type": "stream",
     "text": [
      "                                                   Term  Adjusted P-value  \\\n",
      "224            striated muscle contraction (GO:0006941)          0.000148   \n",
      "223                     muscle contraction (GO:0006936)          0.000175   \n",
      "225            skeletal muscle contraction (GO:0003009)          0.000644   \n",
      "228           neutrophil mediated immunity (GO:0002446)          0.001188   \n",
      "227   neutrophil activation involved in immune respo...          0.001274   \n",
      "226               neutrophil degranulation (GO:0043312)          0.001422   \n",
      "1487                tertiary granule lumen (GO:1904724)          0.003732   \n",
      "229   positive regulation of hormone metabolic proce...          0.009417   \n",
      "0                         hormone activity (GO:0005179)          0.009510   \n",
      "1488                      specific granule (GO:0042581)          0.018826   \n",
      "230      extracellular matrix organization (GO:0030198)          0.022362   \n",
      "232   positive regulation of neutrophil chemotaxis (...          0.026783   \n",
      "231   cellular response to cytokine stimulus (GO:007...          0.028724   \n",
      "233   positive regulation of neutrophil migration (G...          0.028789   \n",
      "234   positive regulation of granulocyte chemotaxis ...          0.030976   \n",
      "1489                specific granule lumen (GO:0035580)          0.031132   \n",
      "1       serine-type endopeptidase activity (GO:0004252)          0.033928   \n",
      "235            acute inflammatory response (GO:0002526)          0.038629   \n",
      "236    regulation of neutrophil chemotaxis (GO:0090022)          0.041326   \n",
      "1492                      tertiary granule (GO:0070820)          0.045509   \n",
      "\n",
      "                        Gene_set  \n",
      "224   GO_Biological_Process_2018  \n",
      "223   GO_Biological_Process_2018  \n",
      "225   GO_Biological_Process_2018  \n",
      "228   GO_Biological_Process_2018  \n",
      "227   GO_Biological_Process_2018  \n",
      "226   GO_Biological_Process_2018  \n",
      "1487  GO_Cellular_Component_2018  \n",
      "229   GO_Biological_Process_2018  \n",
      "0     GO_Molecular_Function_2018  \n",
      "1488  GO_Cellular_Component_2018  \n",
      "230   GO_Biological_Process_2018  \n",
      "232   GO_Biological_Process_2018  \n",
      "231   GO_Biological_Process_2018  \n",
      "233   GO_Biological_Process_2018  \n",
      "234   GO_Biological_Process_2018  \n",
      "1489  GO_Cellular_Component_2018  \n",
      "1     GO_Molecular_Function_2018  \n",
      "235   GO_Biological_Process_2018  \n",
      "236   GO_Biological_Process_2018  \n",
      "1492  GO_Cellular_Component_2018  \n",
      "Topic 9\n",
      "                                                  Term  Adjusted P-value  \\\n",
      "212  complement activation, classical pathway (GO:0...      4.807572e-87   \n",
      "213  humoral immune response mediated by circulatin...      1.101232e-86   \n",
      "214  regulation of acute inflammatory response (GO:...      2.794756e-56   \n",
      "215  regulation of protein activation cascade (GO:2...      3.684983e-54   \n",
      "216   regulation of complement activation (GO:0030449)      5.118071e-54   \n",
      "217  regulation of humoral immune response (GO:0002...      3.623568e-53   \n",
      "218  regulation of immune effector process (GO:0002...      5.218698e-53   \n",
      "219      regulation of protein processing (GO:0070613)      3.652196e-50   \n",
      "220  Fc-gamma receptor signaling pathway involved i...      2.813228e-49   \n",
      "221   Fc-gamma receptor signaling pathway (GO:0038094)      3.850914e-49   \n",
      "222  Fc receptor mediated stimulatory signaling pat...      5.303378e-49   \n",
      "0      serine-type endopeptidase activity (GO:0004252)      1.539058e-48   \n",
      "1          serine-type peptidase activity (GO:0008236)      2.593522e-47   \n",
      "223         receptor-mediated endocytosis (GO:0006898)      1.240249e-45   \n",
      "224       regulation of B cell activation (GO:0050864)      1.922862e-45   \n",
      "2         immunoglobulin receptor binding (GO:0034987)      2.309008e-45   \n",
      "225  positive regulation of lymphocyte activation (...      7.297908e-42   \n",
      "226                           endocytosis (GO:0006897)      9.788549e-42   \n",
      "227  Fc-epsilon receptor signaling pathway (GO:0038...      9.037694e-41   \n",
      "228         Fc receptor signaling pathway (GO:0038093)      1.121890e-40   \n",
      "\n",
      "                       Gene_set  \n",
      "212  GO_Biological_Process_2018  \n",
      "213  GO_Biological_Process_2018  \n",
      "214  GO_Biological_Process_2018  \n",
      "215  GO_Biological_Process_2018  \n",
      "216  GO_Biological_Process_2018  \n",
      "217  GO_Biological_Process_2018  \n",
      "218  GO_Biological_Process_2018  \n",
      "219  GO_Biological_Process_2018  \n",
      "220  GO_Biological_Process_2018  \n",
      "221  GO_Biological_Process_2018  \n",
      "222  GO_Biological_Process_2018  \n",
      "0    GO_Molecular_Function_2018  \n",
      "1    GO_Molecular_Function_2018  \n",
      "223  GO_Biological_Process_2018  \n",
      "224  GO_Biological_Process_2018  \n",
      "2    GO_Molecular_Function_2018  \n",
      "225  GO_Biological_Process_2018  \n",
      "226  GO_Biological_Process_2018  \n",
      "227  GO_Biological_Process_2018  \n",
      "228  GO_Biological_Process_2018  \n",
      "Topic 10\n"
     ]
    },
    {
     "name": "stderr",
     "output_type": "stream",
     "text": [
      "2020-01-21 10:54:32,122 Warning: No enrich terms using library GO_Molecular_Function_2018 when cutoff = 0.5\n",
      "2020-01-21 10:54:34,830 Warning: No enrich terms using library GO_Biological_Process_2018 when cutoff = 0.5\n",
      "2020-01-21 10:54:38,491 Warning: No enrich terms using library GO_Cellular_Component_2018 when cutoff = 0.5\n",
      "2020-01-21 10:54:41,151 Warning: No enrich terms using library Human_Phenotype_Ontology when cutoff = 0.5\n",
      "2020-01-21 10:54:44,142 Warning: No enrich terms using library CUSTOM140404270087336 when cutoff = 0.5\n",
      "2020-01-21 10:54:44,201 Warning: No enrich terms using library CUSTOM140404270084456 when cutoff = 0.5\n"
     ]
    },
    {
     "name": "stdout",
     "output_type": "stream",
     "text": [
      "                                                  Term  Adjusted P-value  \\\n",
      "507                          Estrogen metabolism WP697          0.288151   \n",
      "506                  Oxidation by Cytochrome P450 WP43          0.329861   \n",
      "505                   Fatty Acid Omega Oxidation WP206          0.332554   \n",
      "504  Metapathway biotransformation Phase I and II W...          0.370610   \n",
      "508                              Glucuronidation WP698          0.498039   \n",
      "\n",
      "                    Gene_set  \n",
      "507  WikiPathways_2019_Human  \n",
      "506  WikiPathways_2019_Human  \n",
      "505  WikiPathways_2019_Human  \n",
      "504  WikiPathways_2019_Human  \n",
      "508  WikiPathways_2019_Human  \n",
      "Topic 11\n"
     ]
    },
    {
     "name": "stderr",
     "output_type": "stream",
     "text": [
      "2020-01-21 10:55:03,964 Warning: No enrich terms using library CUSTOM140404356193808 when cutoff = 0.5\n"
     ]
    },
    {
     "name": "stdout",
     "output_type": "stream",
     "text": [
      "                                                   Term  Adjusted P-value  \\\n",
      "2327                            REACTOME_KERATINIZATION      3.226313e-42   \n",
      "2279       REACTOME_FORMATION_OF_THE_CORNIFIED_ENVELOPE      4.420064e-08   \n",
      "279           keratinocyte differentiation (GO:0030216)      4.072615e-07   \n",
      "278                  peptide cross-linking (GO:0018149)      4.540636e-07   \n",
      "1877                  Vitamin D Receptor Pathway WP2877      5.836076e-07   \n",
      "280         epidermal cell differentiation (GO:0009913)      1.661904e-06   \n",
      "0         endopeptidase inhibitor activity (GO:0004866)      2.923581e-06   \n",
      "1430                           Golgi lumen (GO:0005796)      9.928046e-06   \n",
      "282                       skin development (GO:0043588)      1.267368e-05   \n",
      "284   negative regulation of endopeptidase activity ...      1.332174e-05   \n",
      "281                        anion transport (GO:0006820)      1.464664e-05   \n",
      "283          glucuronate metabolic process (GO:0019585)      1.529362e-05   \n",
      "285   negative regulation of peptidase activity (GO:...      2.470524e-05   \n",
      "1878                              Glucuronidation WP698      3.746485e-05   \n",
      "286               cellular glucuronidation (GO:0052695)      5.410490e-05   \n",
      "287   regulation of endopeptidase activity (GO:0052548)      5.810530e-05   \n",
      "1     serine-type endopeptidase inhibitor activity (...      7.037382e-05   \n",
      "1879              Nuclear Receptors Meta-Pathway WP2882      9.191014e-05   \n",
      "1881             Codeine and Morphine Metabolism WP1604      9.568693e-05   \n",
      "1880  Metapathway biotransformation Phase I and II W...      1.072736e-04   \n",
      "\n",
      "                        Gene_set  \n",
      "2327       CUSTOM140404356194096  \n",
      "2279       CUSTOM140404356194096  \n",
      "279   GO_Biological_Process_2018  \n",
      "278   GO_Biological_Process_2018  \n",
      "1877     WikiPathways_2019_Human  \n",
      "280   GO_Biological_Process_2018  \n",
      "0     GO_Molecular_Function_2018  \n",
      "1430  GO_Cellular_Component_2018  \n",
      "282   GO_Biological_Process_2018  \n",
      "284   GO_Biological_Process_2018  \n",
      "281   GO_Biological_Process_2018  \n",
      "283   GO_Biological_Process_2018  \n",
      "285   GO_Biological_Process_2018  \n",
      "1878     WikiPathways_2019_Human  \n",
      "286   GO_Biological_Process_2018  \n",
      "287   GO_Biological_Process_2018  \n",
      "1     GO_Molecular_Function_2018  \n",
      "1879     WikiPathways_2019_Human  \n",
      "1881     WikiPathways_2019_Human  \n",
      "1880     WikiPathways_2019_Human  \n",
      "Topic 12\n"
     ]
    },
    {
     "name": "stderr",
     "output_type": "stream",
     "text": [
      "2020-01-21 10:55:20,834 Warning: No enrich terms using library CUSTOM140404278187136 when cutoff = 0.5\n"
     ]
    },
    {
     "name": "stdout",
     "output_type": "stream",
     "text": [
      "                                                  Term  Adjusted P-value  \\\n",
      "105                 epidermis development (GO:0008544)      2.812702e-26   \n",
      "106        epidermal cell differentiation (GO:0009913)      5.329921e-23   \n",
      "107          keratinocyte differentiation (GO:0030216)      1.717481e-22   \n",
      "820       REACTOME_FORMATION_OF_THE_CORNIFIED_ENVELOPE      5.894046e-21   \n",
      "108                      skin development (GO:0043588)      3.433348e-20   \n",
      "109                 peptide cross-linking (GO:0018149)      6.247982e-19   \n",
      "838                            REACTOME_KERATINIZATION      8.563206e-14   \n",
      "515              Palmoplantar keratoderma (HP:0000982)      9.871755e-07   \n",
      "516             Abnormality of nail color (HP:0100643)      4.798167e-06   \n",
      "471    intermediate filament cytoskeleton (GO:0045111)      1.032274e-05   \n",
      "0    serine-type endopeptidase inhibitor activity (...      9.983807e-05   \n",
      "472                 intermediate filament (GO:0005882)      1.296384e-04   \n",
      "517                         Hypotrichosis (HP:0001006)      1.335699e-04   \n",
      "473                         lamellar body (GO:0042599)      3.583142e-04   \n",
      "1          serine-type peptidase activity (GO:0008236)      1.263565e-03   \n",
      "2    peptidase activity, acting on L-amino acid pep...      1.590586e-03   \n",
      "519       Abnormal blistering of the skin (HP:0008066)      2.541123e-03   \n",
      "3        endopeptidase inhibitor activity (GO:0004866)      2.699854e-03   \n",
      "522                     Corneal dystrophy (HP:0001131)      2.953164e-03   \n",
      "518                          Brittle hair (HP:0002299)      2.981630e-03   \n",
      "\n",
      "                       Gene_set  \n",
      "105  GO_Biological_Process_2018  \n",
      "106  GO_Biological_Process_2018  \n",
      "107  GO_Biological_Process_2018  \n",
      "820       CUSTOM140404278186776  \n",
      "108  GO_Biological_Process_2018  \n",
      "109  GO_Biological_Process_2018  \n",
      "838       CUSTOM140404278186776  \n",
      "515    Human_Phenotype_Ontology  \n",
      "516    Human_Phenotype_Ontology  \n",
      "471  GO_Cellular_Component_2018  \n",
      "0    GO_Molecular_Function_2018  \n",
      "472  GO_Cellular_Component_2018  \n",
      "517    Human_Phenotype_Ontology  \n",
      "473  GO_Cellular_Component_2018  \n",
      "1    GO_Molecular_Function_2018  \n",
      "2    GO_Molecular_Function_2018  \n",
      "519    Human_Phenotype_Ontology  \n",
      "3    GO_Molecular_Function_2018  \n",
      "522    Human_Phenotype_Ontology  \n",
      "518    Human_Phenotype_Ontology  \n",
      "Topic 13\n"
     ]
    },
    {
     "name": "stderr",
     "output_type": "stream",
     "text": [
      "2020-01-21 10:55:37,728 Warning: No enrich terms using library CUSTOM140404267706336 when cutoff = 0.5\n"
     ]
    },
    {
     "name": "stdout",
     "output_type": "stream",
     "text": [
      "                                                  Term  Adjusted P-value  \\\n",
      "140                    muscle contraction (GO:0006936)      1.976447e-13   \n",
      "141                    myofibril assembly (GO:0030239)      9.636725e-09   \n",
      "142           striated muscle contraction (GO:0006941)      7.671234e-08   \n",
      "143    skeletal muscle tissue development (GO:0007519)      2.129623e-06   \n",
      "145  positive regulation of skeletal muscle tissue ...      2.999101e-06   \n",
      "144  skeletal muscle cell differentiation (GO:0035914)      3.598921e-06   \n",
      "146     actomyosin structure organization (GO:0031032)      3.763580e-06   \n",
      "147  positive regulation of skeletal muscle fiber d...      8.216829e-06   \n",
      "148  positive regulation of myotube differentiation...      1.083570e-05   \n",
      "149  regulation of skeletal muscle fiber developmen...      1.527327e-05   \n",
      "803         striated muscle thin filament (GO:0005865)      2.239389e-05   \n",
      "151         actin-myosin filament sliding (GO:0033275)      2.453684e-05   \n",
      "152      striated muscle cell development (GO:0055002)      2.616466e-05   \n",
      "150               muscle filament sliding (GO:0030049)      2.676746e-05   \n",
      "805                             myofibril (GO:0030016)      5.004210e-05   \n",
      "804                     contractile fiber (GO:0043292)      6.143074e-05   \n",
      "153              muscle fiber development (GO:0048747)      1.226929e-04   \n",
      "154                sarcomere organization (GO:0045214)      2.368337e-04   \n",
      "155  positive regulation of myoblast differentiatio...      2.650270e-04   \n",
      "156  positive regulation of cell development (GO:00...      3.377618e-04   \n",
      "\n",
      "                       Gene_set  \n",
      "140  GO_Biological_Process_2018  \n",
      "141  GO_Biological_Process_2018  \n",
      "142  GO_Biological_Process_2018  \n",
      "143  GO_Biological_Process_2018  \n",
      "145  GO_Biological_Process_2018  \n",
      "144  GO_Biological_Process_2018  \n",
      "146  GO_Biological_Process_2018  \n",
      "147  GO_Biological_Process_2018  \n",
      "148  GO_Biological_Process_2018  \n",
      "149  GO_Biological_Process_2018  \n",
      "803  GO_Cellular_Component_2018  \n",
      "151  GO_Biological_Process_2018  \n",
      "152  GO_Biological_Process_2018  \n",
      "150  GO_Biological_Process_2018  \n",
      "805  GO_Cellular_Component_2018  \n",
      "804  GO_Cellular_Component_2018  \n",
      "153  GO_Biological_Process_2018  \n",
      "154  GO_Biological_Process_2018  \n",
      "155  GO_Biological_Process_2018  \n",
      "156  GO_Biological_Process_2018  \n",
      "Topic 14\n"
     ]
    },
    {
     "name": "stderr",
     "output_type": "stream",
     "text": [
      "2020-01-21 10:55:40,920 Warning: No enrich terms using library GO_Molecular_Function_2018 when cutoff = 0.5\n",
      "2020-01-21 10:55:43,509 Warning: No enrich terms using library GO_Biological_Process_2018 when cutoff = 0.5\n",
      "2020-01-21 10:55:45,970 Warning: No enrich terms using library GO_Cellular_Component_2018 when cutoff = 0.5\n",
      "2020-01-21 10:55:48,459 Warning: No enrich terms using library Human_Phenotype_Ontology when cutoff = 0.5\n",
      "2020-01-21 10:55:51,093 Warning: No enrich terms using library WikiPathways_2019_Human when cutoff = 0.5\n"
     ]
    },
    {
     "name": "stdout",
     "output_type": "stream",
     "text": [
      "                                                 Term  Adjusted P-value  \\\n",
      "19                              BIOCARTA_SLRP_PATHWAY          0.017975   \n",
      "23  REACTOME_DEFECTIVE_B4GALT1_CAUSES_B4GALT1_CDG_...          0.017975   \n",
      "24              REACTOME_DEFECTIVE_CHST6_CAUSES_MCDC1          0.017975   \n",
      "25  REACTOME_DEFECTIVE_ST3GAL3_CAUSES_MCT12_AND_EI...          0.017975   \n",
      "31               REACTOME_KERATAN_SULFATE_DEGRADATION          0.023344   \n",
      "22                                 NABA_PROTEOGLYCANS          0.039108   \n",
      "30              REACTOME_KERATAN_SULFATE_BIOSYNTHESIS          0.039108   \n",
      "32        REACTOME_KERATAN_SULFATE_KERATIN_METABOLISM          0.039108   \n",
      "27  REACTOME_DISEASES_ASSOCIATED_WITH_GLYCOSAMINOG...          0.040673   \n",
      "29              REACTOME_GLYCOSAMINOGLYCAN_METABOLISM          0.108876   \n",
      "28                 REACTOME_DISEASES_OF_GLYCOSYLATION          0.113708   \n",
      "20                                NABA_CORE_MATRISOME          0.191228   \n",
      "33               REACTOME_METABOLISM_OF_CARBOHYDRATES          0.191228   \n",
      "\n",
      "                 Gene_set  \n",
      "19  CUSTOM140404333914152  \n",
      "23  CUSTOM140404333914152  \n",
      "24  CUSTOM140404333914152  \n",
      "25  CUSTOM140404333914152  \n",
      "31  CUSTOM140404333914152  \n",
      "22  CUSTOM140404333914152  \n",
      "30  CUSTOM140404333914152  \n",
      "32  CUSTOM140404333914152  \n",
      "27  CUSTOM140404333914152  \n",
      "29  CUSTOM140404333914152  \n",
      "28  CUSTOM140404333914152  \n",
      "20  CUSTOM140404333914152  \n",
      "33  CUSTOM140404333914152  \n"
     ]
    }
   ],
   "source": [
    "threshhold = 5e-1\n",
    "cutoff = 5e-1\n",
    "background = len([g for g in get_sea()])\n",
    "os.system(\"mkdir -p gsea\")\n",
    "for itopic,topic in enumerate(df_topics.columns):\n",
    "    try:\n",
    "        enriched_topic = pd.read_csv(\"gsea/gsea_level_%d_topic_%d.csv\"%(l,itopic+1), index_col=[0])\n",
    "        print(topic)\n",
    "    except:\n",
    "        try:\n",
    "            gene_list = ensg_to_symbol(df_topics.loc[:,topic].dropna().values)\n",
    "            print(topic)\n",
    "            enriched_topic = get_ontology_df(gene_list, cutoff=cutoff, threshhold = threshhold, gene_sets = gene_sets, background=background)\n",
    "            enriched_topic = enriched_topic.sort_values(by=['Adjusted P-value'], ascending=True)[:20]\n",
    "            enriched_topic.to_csv(\"gsea/gsea_level_%d_topic_%d.csv\"%(l,itopic+1))\n",
    "        except:\n",
    "            print(*sys.exc_info())\n",
    "    print(enriched_topic)"
   ]
  },
  {
   "cell_type": "code",
   "execution_count": null,
   "metadata": {},
   "outputs": [],
   "source": [
    "topic_pvalues = []\n",
    "topic_gos = []\n",
    "for itopic,topic in enumerate(df_topics.columns):\n",
    "    try:\n",
    "        enriched_topic = pd.read_csv(\"%s/gsea/gsea_level_%d_topic_%d.csv\"%(directory,l,itopic+1))\n",
    "        if len(enriched_topic.index) >0:\n",
    "            p_val = np.sort(enriched_topic['Adjusted P-value'])[0]\n",
    "            topic_pvalues.append(-np.log10(p_val))\n",
    "            for goc in enriched_topic['Gene_set'][:10].unique():\n",
    "                topic_gos.append(goc)\n",
    "        print(topic)\n",
    "    except:\n",
    "        print(\"error\", sys.exc_info()[0])"
   ]
  },
  {
   "cell_type": "code",
   "execution_count": null,
   "metadata": {},
   "outputs": [],
   "source": [
    "fig = plt.figure()\n",
    "x = np.arange(1,1+len(topic_pvalues))\n",
    "c, _, _ = plt.hist(topic_pvalues, histtype='step', lw=2)\n",
    "plt.plot([-np.log10(0.05) for _ in np.linspace(1,10,num=10)],np.arange(0,np.max(c)+5,(np.max(c)+5)/10), ls='--', lw=5, label=\"$\\\\alpha=0.05$\")\n",
    "plt.xlabel('-log(P-value)', fontsize=16)\n",
    "plt.ylabel(\"number of topics\")\n",
    "#plt.ylim(0,0.055)\n",
    "#plt.yscale('log')\n",
    "plt.legend(fontsize=16)\n",
    "fig.savefig(\"%s/pvaluescrosstopic(%d).png\"%(directory,l))"
   ]
  },
  {
   "cell_type": "code",
   "execution_count": null,
   "metadata": {},
   "outputs": [],
   "source": [
    "fig = plt.figure(figsize=(20,10))\n",
    "gos, goscounts = np.unique(topic_gos,return_counts=True)\n",
    "plt.barh([\"\\n\".join(wrap(str(l).replace('_',' '),20)) for l in gos], goscounts)\n",
    "plt.yticks(fontsize=15)\n",
    "plt.show()\n",
    "fig.savefig(\"%s/pvaluecategories(%d).pdf\"%(directory,l))"
   ]
  },
  {
   "cell_type": "code",
   "execution_count": null,
   "metadata": {},
   "outputs": [],
   "source": []
  },
  {
   "cell_type": "code",
   "execution_count": null,
   "metadata": {},
   "outputs": [],
   "source": []
  },
  {
   "cell_type": "code",
   "execution_count": null,
   "metadata": {},
   "outputs": [],
   "source": []
  },
  {
   "cell_type": "code",
   "execution_count": null,
   "metadata": {},
   "outputs": [],
   "source": []
  },
  {
   "cell_type": "markdown",
   "metadata": {},
   "source": [
    "# WGCNA vs hSBM"
   ]
  },
  {
   "cell_type": "code",
   "execution_count": 112,
   "metadata": {},
   "outputs": [
    {
     "data": {
      "text/plain": [
       "ENSG00000268903    Topic 1\n",
       "ENSG00000269981    Topic 1\n",
       "ENSG00000225972    Topic 1\n",
       "ENSG00000229344    Topic 1\n",
       "ENSG00000198744    Topic 1\n",
       "                    ...   \n",
       "ENSG00000210176    Topic 1\n",
       "ENSG00000210184    Topic 1\n",
       "ENSG00000210191    Topic 1\n",
       "ENSG00000210195    Topic 1\n",
       "ENSG00000210196    Topic 9\n",
       "Length: 5000, dtype: object"
      ]
     },
     "execution_count": 112,
     "metadata": {},
     "output_type": "execute_result"
    }
   ],
   "source": [
    "hsbm_list = pd.read_csv(\"topsbm/topsbm_level_3_word-dist.csv\", index_col=0).apply(pd.Series.idxmax,axis=1)\n",
    "hsbm_list.index = [g[:15] for g in hsbm_list.index]\n",
    "hsbm_list"
   ]
  },
  {
   "cell_type": "code",
   "execution_count": 113,
   "metadata": {},
   "outputs": [],
   "source": [
    "wgcna_list = pd.read_csv(\"wgcna/wgcna_level_0_word-dist.csv\", index_col=0).apply(pd.Series.idxmax,axis=1)"
   ]
  },
  {
   "cell_type": "code",
   "execution_count": 114,
   "metadata": {},
   "outputs": [],
   "source": [
    "df_cmap=pd.DataFrame(index=hsbm_list.unique(), columns=wgcna_list.unique()).fillna(0)"
   ]
  },
  {
   "cell_type": "code",
   "execution_count": 115,
   "metadata": {},
   "outputs": [],
   "source": [
    "for g in wgcna_list.index:\n",
    "    if g in hsbm_list:\n",
    "        df_cmap.at[hsbm_list[g],wgcna_list[g]]+=1"
   ]
  },
  {
   "cell_type": "code",
   "execution_count": 116,
   "metadata": {},
   "outputs": [],
   "source": [
    "import seaborn as sns"
   ]
  },
  {
   "cell_type": "code",
   "execution_count": 117,
   "metadata": {},
   "outputs": [
    {
     "data": {
      "text/plain": [
       "<Figure size 432x288 with 0 Axes>"
      ]
     },
     "metadata": {},
     "output_type": "display_data"
    },
    {
     "data": {
      "image/png": "[encoded data removed]",
      "text/plain": [
       "<Figure size 720x720 with 5 Axes>"
      ]
     },
     "metadata": {},
     "output_type": "display_data"
    }
   ],
   "source": [
    "df_cmap = df_cmap.sort_values(by=[c for c in df_cmap.columns], axis=0, ascending=False)\n",
    "#create a color palette with the same number of colors as unique values in the Source column\n",
    "network_pal = sns.color_palette('husl',n_colors=len(df_cmap.columns))\n",
    "\n",
    "#Create a dictionary where the key is the category and the values are the\n",
    "#colors from the palette we just created\n",
    "network_lut = dict(zip(df_cmap.columns, network_pal))\n",
    "network_col = df_cmap.columns.map(network_lut)\n",
    "#Create a dictionary where the key is the category and the values are the\n",
    "#colors from the palette we just created\n",
    "network_lut = dict(zip(df_cmap.columns, network_pal))\n",
    "network_col = df_cmap.columns.map(network_lut)\n",
    "\n",
    "fig = plt.figure()\n",
    "cm = sns.clustermap(df_cmap, row_cluster=False, col_cluster=False, metric='euclidean', vmin=0, cmap='RdYlBu_r', col_colors=network_col)\n",
    "cm.fig.savefig(\"%s/topics.pdf\"%(directory))"
   ]
  },
  {
   "cell_type": "code",
   "execution_count": 163,
   "metadata": {},
   "outputs": [
    {
     "data": {
      "image/png": "[encoded data removed]",
      "text/plain": [
       "<Figure size 432x288 with 1 Axes>"
      ]
     },
     "metadata": {},
     "output_type": "display_data"
    }
   ],
   "source": [
    "import matplotlib.pyplot as plt\n",
    "fig, ax = plt.subplots()\n",
    "ax.plot(np.logspace(1,3), 1./np.logspace(1,3))\n",
    "#f_log = df.sum(axis=1).divide(df.sum(axis=1).sum()).sort_values(ascending=False).values\n",
    "#f = df.applymap(lambda y: np.power(2,y)-1).sum(axis=1).divide(df.sum(axis=1).sum()).sort_values(ascending=False).values\n",
    "ax.plot(f, label='tpm')\n",
    "ax.plot(f_log, label='log')\n",
    "ax.set_xscale('log')\n",
    "ax.set_yscale('log')\n",
    "ax.tick_params(labelsize=20)\n",
    "ax.set_xlabel('i', fontsize=24)\n",
    "ax.set_ylabel('$f_i$', fontsize=24)\n",
    "#ax.set_ylim(1e-3,1e-2)\n",
    "ax.legend()\n",
    "plt.show()\n",
    "fig.savefig(\"log_zipf.pdf\")"
   ]
  },
  {
   "cell_type": "code",
   "execution_count": null,
   "metadata": {},
   "outputs": [],
   "source": []
  }
 ],
 "metadata": {
  "kernelspec": {
   "display_name": "Python 3",
   "language": "python",
   "name": "python3"
  },
  "language_info": {
   "codemirror_mode": {
    "name": "ipython",
    "version": 3
   },
   "file_extension": ".py",
   "mimetype": "text/x-python",
   "name": "python",
   "nbconvert_exporter": "python",
   "pygments_lexer": "ipython3",
   "version": "3.6.9"
  }
 },
 "nbformat": 4,
 "nbformat_minor": 2
}
