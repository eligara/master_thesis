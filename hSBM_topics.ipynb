{
 "cells": [
  {
   "cell_type": "code",
   "execution_count": null,
   "metadata": {},
   "outputs": [],
   "source": [
    "import numpy as np\n",
    "import pandas as pd\n",
    "from matplotlib import pyplot as plt\n",
    "from sklearn import metrics\n",
    "import matplotlib.ticker as mticker\n",
    "from mpl_finance import candlestick2_ohlc"
   ]
  },
  {
   "cell_type": "code",
   "execution_count": null,
   "metadata": {},
   "outputs": [],
   "source": [
    "#directory = '/Users/filippo/Developer/tesi/results/hSBM/highlyvariable_7tissues'\n",
    "directory = '/Users/filippo/Developer/tesi/gtex/hsbm/oversigma_5tissue'"
   ]
  },
  {
   "cell_type": "code",
   "execution_count": null,
   "metadata": {},
   "outputs": [],
   "source": [
    "L = 3"
   ]
  },
  {
   "cell_type": "markdown",
   "metadata": {},
   "source": [
    "# topic size"
   ]
  },
  {
   "cell_type": "code",
   "execution_count": null,
   "metadata": {},
   "outputs": [],
   "source": [
    "def plot_topic_size(directory,l):\n",
    "    df_topics = pd.read_csv(\"%s/topsbm/topsbm_level_%d_topics.csv\"%(directory,l))\n",
    "    sizes = []\n",
    "    for t in df_topics.columns:\n",
    "        sizes.append(len(df_topics.loc[:,t].dropna()))\n",
    "    bins = np.linspace(0.5, np.max(sizes)+0.5, int((np.max(sizes)+1)/30))\n",
    "    fig=plt.figure()\n",
    "    plt.title(\"[%d topics, level: %d]\"%(len(df_topics.columns),l))\n",
    "    plt.hist(sizes, histtype='step', lw=2, bins=bins)\n",
    "    plt.xlabel(\"topic size (# genes)\", fontsize=16)\n",
    "    plt.ylabel(\"# topic of that size\", fontsize=16)\n",
    "    plt.show()\n",
    "    fig.savefig(\"%s/topic_size_level%d.png\"%(directory,l))"
   ]
  },
  {
   "cell_type": "code",
   "execution_count": null,
   "metadata": {},
   "outputs": [],
   "source": [
    "for l in range(L+1):\n",
    "    plot_topic_size(directory,l)"
   ]
  },
  {
   "cell_type": "markdown",
   "metadata": {},
   "source": [
    "## Topic O"
   ]
  },
  {
   "cell_type": "code",
   "execution_count": null,
   "metadata": {},
   "outputs": [],
   "source": [
    "df_mv=pd.read_csv(\"meanVariances.csv\", index_col=[0])\n",
    "df_o = pd.read_csv(\"O.dat\", header=None)\n",
    "df_mv.insert(3, 'occurrence', df_o.values)\n",
    "df_mv['occurrence'] = df_mv['occurrence']\n",
    "df_mv.head()"
   ]
  },
  {
   "cell_type": "code",
   "execution_count": null,
   "metadata": {},
   "outputs": [],
   "source": [
    "def get_candles(directory, level, ax):\n",
    "    df_topics = pd.read_csv(\"%s/topsbm/topsbm_level_%d_topics.csv\"%(directory,level))\n",
    "    candles = {\n",
    "        'open': [],\n",
    "        'high': [],\n",
    "        'low': [],\n",
    "        'close':[]\n",
    "    }\n",
    "    for topic in df_topics.columns:\n",
    "        subarr = df_mv.loc[df_topics[topic].dropna(),:]['occurrence'].values\n",
    "        avg = np.average(subarr)\n",
    "        std = np.std(subarr)\n",
    "        q=np.quantile(subarr,[0.25,0.75])\n",
    "        candles['high'].append(np.min([1,avg+std]))\n",
    "        candles['open'].append(np.min([q[1],1]))\n",
    "        candles['close'].append(np.max([q[0],0]))\n",
    "        candles['low'].append(np.max([0,avg-std]))\n",
    "    ax.set_title(\"[level: %d]\"%(l))\n",
    "    ax.set_ylabel('$O_i$', fontsize=18)\n",
    "    ax.set_xlim(-1,len(df_topics.columns))\n",
    "    ax.set_xticks([i+1 for i in range(-1,len(df_topics.columns))])\n",
    "    ax.set_xticklabels([\"Topic %d\"%(i+2) if ((i+2)%5==0 or i==-1) else '' for i in range(-1,len(df_topics.columns))],  rotation=60)\n",
    "    return candles"
   ]
  },
  {
   "cell_type": "code",
   "execution_count": null,
   "metadata": {},
   "outputs": [],
   "source": [
    "for l in range(L+1):\n",
    "    fig = plt.figure(figsize=(10,10))\n",
    "    ax = fig.subplots(1)\n",
    "    candles = get_candles(directory,l,ax)\n",
    "    candlestick2_ohlc(ax, candles['open'],candles['high'],candles['low'],candles['close'],width=0.6,colordown='b')\n",
    "    plt.show()\n",
    "    fig.savefig(\"%s/topic_Ocandles_level_%d.pdf\"%(directory,l))"
   ]
  },
  {
   "cell_type": "markdown",
   "metadata": {},
   "source": [
    "# Geneontology"
   ]
  },
  {
   "cell_type": "code",
   "execution_count": null,
   "metadata": {},
   "outputs": [],
   "source": [
    "from geneontology import get_ontology_df, ensg_to_symbol\n",
    "from tableanalyser import get_symbol"
   ]
  },
  {
   "cell_type": "code",
   "execution_count": null,
   "metadata": {},
   "outputs": [],
   "source": [
    "#import gseapy as gs\n",
    "#gs.get_library_name()"
   ]
  },
  {
   "cell_type": "code",
   "execution_count": null,
   "metadata": {},
   "outputs": [],
   "source": [
    "back_sea=[]\n",
    "df_world = pd.read_csv(\"%s/background.txt\"%directory, header=None)\n",
    "for g in df_world.values:\n",
    "    try:\n",
    "        back_sea.append(get_symbol(g[0]))\n",
    "    except:\n",
    "        print(\"Error %s\"%g)"
   ]
  },
  {
   "cell_type": "code",
   "execution_count": null,
   "metadata": {},
   "outputs": [],
   "source": [
    "ontology = []\n",
    "for g in df_topics[df_topics.columns[2]].dropna():\n",
    "    try:\n",
    "        ontology.append(get_symbol(g))\n",
    "    except:\n",
    "        print(g)"
   ]
  },
  {
   "cell_type": "code",
   "execution_count": null,
   "metadata": {},
   "outputs": [],
   "source": [
    "topic_pvalues = []"
   ]
  },
  {
   "cell_type": "code",
   "execution_count": null,
   "metadata": {},
   "outputs": [],
   "source": [
    "for topic in df_topics.columns:\n",
    "    try:\n",
    "        symbols = ensg_to_symbol(df_topics.loc[:,topic].dropna().values)\n",
    "        print(topic, \" - \" ,len(symbols))\n",
    "        enriched_topic = get_ontology_df(symbols, background=back_sea).sort_values(by=['Adjusted P-value'], ascending=True)\n",
    "        enriched_topic = enriched_topic.loc[enriched_topic.index.values[:20],:]\n",
    "        enriched_topic.to_csv(\"%s/gsea_level_%d_topic%s(%d).csv\"%(directory,l,topic,len(symbols)))\n",
    "        print(enriched_topic)\n",
    "        topic_pvalues.append(enriched_topic.loc[enriched_topic.index.values[0],'Adjusted P-value'])\n",
    "    except:\n",
    "        pass"
   ]
  },
  {
   "cell_type": "code",
   "execution_count": null,
   "metadata": {},
   "outputs": [],
   "source": []
  }
 ],
 "metadata": {
  "kernelspec": {
   "display_name": "Python 3",
   "language": "python",
   "name": "python3"
  },
  "language_info": {
   "codemirror_mode": {
    "name": "ipython",
    "version": 3
   },
   "file_extension": ".py",
   "mimetype": "text/x-python",
   "name": "python",
   "nbconvert_exporter": "python",
   "pygments_lexer": "ipython3",
   "version": "3.6.8"
  }
 },
 "nbformat": 4,
 "nbformat_minor": 2
}
