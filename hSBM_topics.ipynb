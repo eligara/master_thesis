{
 "cells": [
  {
   "cell_type": "code",
   "execution_count": null,
   "metadata": {},
   "outputs": [],
   "source": [
    "import numpy as np\n",
    "import pandas as pd\n",
    "from matplotlib import pyplot as plt\n",
    "from sklearn import metrics"
   ]
  },
  {
   "cell_type": "code",
   "execution_count": null,
   "metadata": {},
   "outputs": [],
   "source": [
    "#directory = '/Users/filippo/Developer/tesi/results/hSBM/overlap_5000doc_0.25occ_fpkmweight_thr/topsbm'\n",
    "#directory = '/Users/filippo/Developer/tesi/gtex/hsbm/nonoverlap05/topsbm'\n",
    "directory = '/Users/filippo/Developer/tesi/gtex/hsbm/oversigma_5tissue'"
   ]
  },
  {
   "cell_type": "code",
   "execution_count": null,
   "metadata": {},
   "outputs": [],
   "source": [
    "l = 3"
   ]
  },
  {
   "cell_type": "code",
   "execution_count": null,
   "metadata": {},
   "outputs": [],
   "source": [
    "df_topics = pd.read_csv(\"%s/topsbm/topsbm_level_%d_topics.csv\"%(directory,l), index_col=None)\n",
    "df_topics.head()"
   ]
  },
  {
   "cell_type": "markdown",
   "metadata": {},
   "source": [
    "# topic size"
   ]
  },
  {
   "cell_type": "code",
   "execution_count": null,
   "metadata": {},
   "outputs": [],
   "source": [
    "sizes = []\n",
    "for t in df_topics.columns:\n",
    "    sizes.append(len(df_topics.loc[:,t].dropna()))"
   ]
  },
  {
   "cell_type": "code",
   "execution_count": null,
   "metadata": {},
   "outputs": [],
   "source": [
    "fig=plt.figure()\n",
    "plt.hist(sizes, histtype='step', lw=2)\n",
    "plt.xlabel(\"topic size (# genes)\", fontsize=16)\n",
    "plt.ylabel(\"# topic of that size\", fontsize=16)\n",
    "plt.show()\n",
    "fig.savefig(\"topic_size_%d.png\"%l)"
   ]
  },
  {
   "cell_type": "markdown",
   "metadata": {},
   "source": [
    "## Topic O"
   ]
  },
  {
   "cell_type": "code",
   "execution_count": null,
   "metadata": {},
   "outputs": [],
   "source": [
    "df_mv=pd.read_csv(\"meanVariances.csv\", index_col=[0])\n",
    "df_o = pd.read_csv(\"O.dat\", header=None)\n",
    "df_mv.insert(3, 'occurrence', df_o.values)\n",
    "df_mv['occurrence'] = df_mv['occurrence']\n",
    "df_mv.head()"
   ]
  },
  {
   "cell_type": "code",
   "execution_count": null,
   "metadata": {},
   "outputs": [],
   "source": [
    "avgs = []\n",
    "semidisps = []\n",
    "for topic in df_topics.columns:\n",
    "    subarr = df_mv.loc[df_topics[topic].dropna(),:]['occurrence'].values\n",
    "    avg = np.average(subarr)\n",
    "    std = np.std(subarr)\n",
    "    avgs.append(avg)\n",
    "    semidisps.append([avg-np.min(subarr),np.max(subarr)-avg])"
   ]
  },
  {
   "cell_type": "code",
   "execution_count": null,
   "metadata": {},
   "outputs": [],
   "source": [
    "N = len(df_topics.columns)\n",
    "fig = plt.figure(figsize=(15,20))\n",
    "plt.errorbar(avgs, np.arange(N), xerr=np.array(semidisps).T, yerr=None, fmt='x', marker='x', lw=5, ms=50)\n",
    "plt.xlabel('$O_i$', fontsize=18)\n",
    "plt.yticks(np.arange(len(df_topics.columns)),df_topics.columns.values, fontsize=16)\n",
    "plt.xticks(fontsize=18)\n",
    "plt.xlim(0,1)\n",
    "plt.show()\n",
    "fig.savefig(\"%s/O_ditrs_l_%d.pdf\"%(directory,l))"
   ]
  },
  {
   "cell_type": "markdown",
   "metadata": {},
   "source": [
    "# Geneontology"
   ]
  },
  {
   "cell_type": "code",
   "execution_count": null,
   "metadata": {},
   "outputs": [],
   "source": [
    "from geneontology import get_ontology_df, ensg_to_symbol\n",
    "from tableanalyser import get_symbol"
   ]
  },
  {
   "cell_type": "code",
   "execution_count": null,
   "metadata": {},
   "outputs": [],
   "source": [
    "import importlib\n",
    "importlib.reload(geneontology)"
   ]
  },
  {
   "cell_type": "code",
   "execution_count": null,
   "metadata": {},
   "outputs": [],
   "source": [
    "#import gseapy as gs\n",
    "#gs.get_library_name()"
   ]
  },
  {
   "cell_type": "code",
   "execution_count": null,
   "metadata": {},
   "outputs": [],
   "source": [
    "back_sea=[]\n",
    "df_world = pd.read_csv(\"%s/background.txt\"%directory, header=None)\n",
    "for g in df_world.values:\n",
    "    back_sea.append(get_symbol(g[0]))"
   ]
  },
  {
   "cell_type": "code",
   "execution_count": null,
   "metadata": {},
   "outputs": [],
   "source": [
    "ontology = []\n",
    "for g in df_topics[df_topics.columns[2]].dropna():\n",
    "    ontology.append(get_symbol(g))"
   ]
  },
  {
   "cell_type": "code",
   "execution_count": null,
   "metadata": {},
   "outputs": [],
   "source": [
    "topic_pvalues = []"
   ]
  },
  {
   "cell_type": "code",
   "execution_count": null,
   "metadata": {},
   "outputs": [],
   "source": [
    "for topic in df_topics.columns:\n",
    "    symbols = ensg_to_symbol(df_topics.loc[:,topic].dropna().values)\n",
    "    print(topic, \" - \" ,len(symbols))\n",
    "    enriched_topic = get_ontology_df(symbols, background=back_sea).sort_values(by=['Adjusted P-value'], ascending=True)\n",
    "    enriched_topic = enriched_topic.loc[enriched_topic.index.values[:20],:]\n",
    "    enriched_topic.to_csv(\"%s/gsea_level_%d_topic%s.csv\"%(directory,l,topic))\n",
    "    print(enriched_topic)\n",
    "    topic_pvalues.append(enriched_topic.loc[enriched_topic.index.values[0],'Adjusted P-value'])"
   ]
  },
  {
   "cell_type": "code",
   "execution_count": null,
   "metadata": {},
   "outputs": [],
   "source": []
  }
 ],
 "metadata": {
  "kernelspec": {
   "display_name": "Python 3",
   "language": "python",
   "name": "python3"
  },
  "language_info": {
   "codemirror_mode": {
    "name": "ipython",
    "version": 3
   },
   "file_extension": ".py",
   "mimetype": "text/x-python",
   "name": "python",
   "nbconvert_exporter": "python",
   "pygments_lexer": "ipython3",
   "version": "3.6.8"
  }
 },
 "nbformat": 4,
 "nbformat_minor": 2
}
