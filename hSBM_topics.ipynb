{
 "cells": [
  {
   "cell_type": "code",
   "execution_count": 3,
   "metadata": {},
   "outputs": [],
   "source": [
    "import numpy as np\n",
    "import pandas as pd\n",
    "from textwrap import wrap\n",
    "from matplotlib import pyplot as plt\n",
    "from sklearn import metrics\n",
    "import matplotlib.ticker as mticker\n",
    "import sys\n",
    "from hsbmpy import plot_topic_size, get_max_available_L"
   ]
  },
  {
   "cell_type": "code",
   "execution_count": 2,
   "metadata": {},
   "outputs": [],
   "source": [
    "directory=\"/home/fvalle/phd/datasets/breast_HDE/\""
   ]
  },
  {
   "cell_type": "code",
   "execution_count": 4,
   "metadata": {},
   "outputs": [],
   "source": [
    "L = get_max_available_L(directory)"
   ]
  },
  {
   "cell_type": "markdown",
   "metadata": {},
   "source": [
    "# topic size"
   ]
  },
  {
   "cell_type": "code",
   "execution_count": null,
   "metadata": {},
   "outputs": [],
   "source": [
    "for l in range(0,L+1):\n",
    "    plot_topic_size(directory,l)"
   ]
  },
  {
   "cell_type": "markdown",
   "metadata": {},
   "source": [
    "## Topic O"
   ]
  },
  {
   "cell_type": "code",
   "execution_count": null,
   "metadata": {},
   "outputs": [],
   "source": [
    "df_mv=pd.read_csv(\"%s/meanVariances.csv\"%directory, index_col=[0])\n",
    "df_o = pd.read_csv(\"%s/O.dat\"%directory, header=None)\n",
    "df_mv.insert(3, 'occurrence', df_o.values)\n",
    "#df_mv['occurrence'] = df_mv['occurrence']\n",
    "df_mv.head()"
   ]
  },
  {
   "cell_type": "code",
   "execution_count": null,
   "metadata": {},
   "outputs": [],
   "source": []
  },
  {
   "cell_type": "code",
   "execution_count": null,
   "metadata": {},
   "outputs": [],
   "source": [
    "for l in range(0,L+1):\n",
    "    fig = plt.figure(figsize=(15,8))\n",
    "    ax = fig.subplots(1,2)\n",
    "    candles = get_candles(directory,l,df_mv,ax[0])\n",
    "    candlestick2_ohlc(ax[0], candles['open'],candles['high'],candles['low'],candles['close'],width=0.6,colordown='b')\n",
    "    ax[1].hist((np.array(candles['open'])+np.array(candles['close']))/2, weights=candles['size'], range=(-0.05,1.05), bins=10, histtype='step')\n",
    "    ax[1].set_xlabel(\"$O_i\", fontsize=18)\n",
    "    plt.show()\n",
    "    fig.savefig(\"%s/topic_Ocandles_level_%d.pdf\"%(directory,l))"
   ]
  },
  {
   "cell_type": "markdown",
   "metadata": {},
   "source": [
    "# Geneontology"
   ]
  },
  {
   "cell_type": "code",
   "execution_count": 5,
   "metadata": {},
   "outputs": [],
   "source": [
    "from geneontology import get_ontology_df, ensg_to_symbol\n",
    "from tableanalyser import get_symbol"
   ]
  },
  {
   "cell_type": "code",
   "execution_count": 6,
   "metadata": {},
   "outputs": [],
   "source": [
    "l=L\n",
    "df_topics = pd.read_csv(\"%s/topsbm/topsbm_level_%d_topics.csv\"%(directory,l))"
   ]
  },
  {
   "cell_type": "code",
   "execution_count": 7,
   "metadata": {},
   "outputs": [],
   "source": [
    "#import gseapy as gs\n",
    "#gs.get_library_name()"
   ]
  },
  {
   "cell_type": "code",
   "execution_count": 8,
   "metadata": {},
   "outputs": [],
   "source": [
    "back_sea=[]\n",
    "for topic in df_topics.columns:\n",
    "    for g in df_topics[topic].dropna().values:\n",
    "        try:\n",
    "            back_sea.append(get_symbol(g))\n",
    "        except:\n",
    "            print(\"error %s\"%g)"
   ]
  },
  {
   "cell_type": "code",
   "execution_count": 10,
   "metadata": {},
   "outputs": [
    {
     "name": "stdout",
     "output_type": "stream",
     "text": [
      "Topic 1\n"
     ]
    },
    {
     "name": "stderr",
     "output_type": "stream",
     "text": [
      "2019-12-04 11:32:35,958 Warning: No enrich terms using library GO_Molecular_Function_2018 when cutoff = 0.05\n",
      "2019-12-04 11:32:42,797 Warning: No enrich terms using library GO_Cellular_Component_2018 when cutoff = 0.05\n"
     ]
    },
    {
     "name": "stdout",
     "output_type": "stream",
     "text": [
      "<class 'FileNotFoundError'> [Errno 2] No such file or directory: '/home/fvalle/phd/datasets/breast_HDE//gsea/gsea_level_4_topic0.csv' <traceback object at 0x7fe671511c48>\n",
      "                                                   Term  Adjusted P-value  \\\n",
      "4097    GTEX-R55F-1726-SM-2TF4R_breast_male_50-59_years      6.793352e-81   \n",
      "7011     GTEX-XBEC-1326-SM-4AT69_heart_male_50-59_years      2.143403e-65   \n",
      "7012     GTEX-OIZG-1126-SM-2HMIU_heart_male_50-59_years      3.809245e-57   \n",
      "7013   GTEX-WRHU-1226-SM-4E3IJ_heart_female_50-59_years      4.368171e-55   \n",
      "4098      GTEX-OIZI-0008-SM-2XCFD_skin_male_40-49_years      3.100015e-53   \n",
      "4099  GTEX-VJWN-0726-SM-3GIJ8_breast_female_50-59_years      5.212389e-53   \n",
      "4100    GTEX-T6MN-0726-SM-32PML_breast_male_50-59_years      2.349504e-48   \n",
      "7015     GTEX-XQ3S-0006-SM-4BOQ4_blood_male_20-29_years      8.396112e-48   \n",
      "7014   GTEX-X8HC-1626-SM-46MWE_heart_female_50-59_years      9.677877e-48   \n",
      "7016   GTEX-WWYW-1326-SM-3NB2S_heart_female_50-59_years      2.280025e-45   \n",
      "7018   GTEX-WYBS-1226-SM-3NM9N_heart_female_60-69_years      6.625746e-45   \n",
      "7017     GTEX-WHSE-0006-SM-3NMBW_blood_male_20-29_years      6.714221e-45   \n",
      "7019     GTEX-PVOW-0006-SM-3NMB8_blood_male_40-49_years      1.949657e-43   \n",
      "4102    GTEX-U3ZH-1426-SM-4DXSR_breast_male_30-39_years      3.935059e-43   \n",
      "7020     GTEX-PW2O-0006-SM-2I3DV_blood_male_20-29_years      4.482016e-43   \n",
      "4101      GTEX-SSA3-0008-SM-47JWJ_skin_male_60-69_years      4.637998e-43   \n",
      "7021     GTEX-U412-0006-SM-3DB8J_blood_male_60-69_years      8.961284e-43   \n",
      "4103    GTEX-T5JC-2126-SM-32PMO_breast_male_20-29_years      2.305155e-42   \n",
      "7022     GTEX-NL4W-0006-SM-2I3GH_blood_male_50-59_years      8.028447e-42   \n",
      "7023   GTEX-T2IS-0426-SM-32QPE_heart_female_20-29_years      2.089878e-41   \n",
      "\n",
      "                                              Gene_set  \n",
      "4097    GTEx_Tissue_Sample_Gene_Expression_Profiles_up  \n",
      "7011  GTEx_Tissue_Sample_Gene_Expression_Profiles_down  \n",
      "7012  GTEx_Tissue_Sample_Gene_Expression_Profiles_down  \n",
      "7013  GTEx_Tissue_Sample_Gene_Expression_Profiles_down  \n",
      "4098    GTEx_Tissue_Sample_Gene_Expression_Profiles_up  \n",
      "4099    GTEx_Tissue_Sample_Gene_Expression_Profiles_up  \n",
      "4100    GTEx_Tissue_Sample_Gene_Expression_Profiles_up  \n",
      "7015  GTEx_Tissue_Sample_Gene_Expression_Profiles_down  \n",
      "7014  GTEx_Tissue_Sample_Gene_Expression_Profiles_down  \n",
      "7016  GTEx_Tissue_Sample_Gene_Expression_Profiles_down  \n",
      "7018  GTEx_Tissue_Sample_Gene_Expression_Profiles_down  \n",
      "7017  GTEx_Tissue_Sample_Gene_Expression_Profiles_down  \n",
      "7019  GTEx_Tissue_Sample_Gene_Expression_Profiles_down  \n",
      "4102    GTEx_Tissue_Sample_Gene_Expression_Profiles_up  \n",
      "7020  GTEx_Tissue_Sample_Gene_Expression_Profiles_down  \n",
      "4101    GTEx_Tissue_Sample_Gene_Expression_Profiles_up  \n",
      "7021  GTEx_Tissue_Sample_Gene_Expression_Profiles_down  \n",
      "4103    GTEx_Tissue_Sample_Gene_Expression_Profiles_up  \n",
      "7022  GTEx_Tissue_Sample_Gene_Expression_Profiles_down  \n",
      "7023  GTEx_Tissue_Sample_Gene_Expression_Profiles_down  \n",
      "Topic 2\n"
     ]
    },
    {
     "name": "stderr",
     "output_type": "stream",
     "text": [
      "2019-12-04 11:33:06,979 Warning: No enrich terms using library GO_Molecular_Function_2018 when cutoff = 0.05\n",
      "2019-12-04 11:33:09,587 Warning: No enrich terms using library GO_Biological_Process_2018 when cutoff = 0.05\n",
      "2019-12-04 11:33:12,074 Warning: No enrich terms using library GO_Cellular_Component_2018 when cutoff = 0.05\n",
      "2019-12-04 11:33:14,566 Warning: No enrich terms using library Human_Phenotype_Ontology when cutoff = 0.05\n",
      "2019-12-04 11:33:20,327 Warning: No enrich terms using library GTEx_Tissue_Sample_Gene_Expression_Profiles_down when cutoff = 0.05\n",
      "2019-12-04 11:33:22,805 Warning: No enrich terms using library Tissue_Protein_Expression_from_Human_Proteome_Map when cutoff = 0.05\n",
      "2019-12-04 11:33:25,313 Warning: No enrich terms using library KEGG_2019_Human when cutoff = 0.05\n",
      "2019-12-04 11:33:27,827 Warning: No enrich terms using library NCI-60_Cancer_Cell_Lines when cutoff = 0.05\n"
     ]
    },
    {
     "name": "stdout",
     "output_type": "stream",
     "text": [
      "<class 'FileNotFoundError'> [Errno 2] No such file or directory: '/home/fvalle/phd/datasets/breast_HDE//gsea/gsea_level_4_topic1.csv' <traceback object at 0x7fe671493148>\n",
      "                                                  Term  Adjusted P-value  \\\n",
      "283  GTEX-NPJ7-0011-R1a-SM-3GACT_brain_female_60-69...          0.004586   \n",
      "282   GTEX-NPJ7-2726-SM-2I3FT_brain_female_60-69_years          0.005291   \n",
      "284  GTEX-TSE9-0011-R1A-SM-3DB7E_brain_female_60-69...          0.005555   \n",
      "285  GTEX-Q2AG-0011-R1A-SM-2HMJI_brain_female_40-49...          0.006725   \n",
      "287  GTEX-WWYW-0011-R1A-SM-3TW8G_brain_female_50-59...          0.026468   \n",
      "286  GTEX-T5JC-0011-R1A-SM-32PM6_brain_male_20-29_y...          0.031751   \n",
      "288  GTEX-WHSE-0011-R3A-SM-3P5ZM_brain_male_20-29_y...          0.037759   \n",
      "290  GTEX-RVPV-0011-R3A-SM-2TF63_brain_male_60-69_y...          0.040965   \n",
      "289  GTEX-N7MS-0011-R1a-SM-2HMJG_brain_male_60-69_y...          0.043940   \n",
      "293  GTEX-RVPU-0011-R1A-SM-2XCAI_brain_male_50-59_y...          0.047701   \n",
      "291  GTEX-OXRO-0011-R10A-SM-2I5EH_brain_female_60-6...          0.047779   \n",
      "292  GTEX-NL4W-0011-R4a-SM-2I5GZ_brain_male_50-59_y...          0.049149   \n",
      "294  GTEX-QDT8-0011-R1A-SM-32PKS_brain_female_30-39...          0.049812   \n",
      "295  GTEX-WHSE-0011-R1A-SM-3P5ZK_brain_male_20-29_y...          0.052166   \n",
      "296  GTEX-RNOR-0011-R4A-SM-3GAD3_brain_female_50-59...          0.052731   \n",
      "297  GTEX-S7SE-0011-R1A-SM-2XCDE_brain_male_50-59_y...          0.054640   \n",
      "303  GTEX-P44H-0011-R1A-SM-3NM8J_brain_male_40-49_y...          0.055278   \n",
      "304  GTEX-XOTO-0011-R1B-SM-4B65C_brain_male_50-59_y...          0.055768   \n",
      "302  GTEX-WZTO-0011-R4A-SM-3NMC7_brain_male_40-49_y...          0.055848   \n",
      "301  GTEX-X4XX-0011-R3B-SM-46MWK_brain_male_60-69_y...          0.058254   \n",
      "\n",
      "                                           Gene_set  \n",
      "283  GTEx_Tissue_Sample_Gene_Expression_Profiles_up  \n",
      "282  GTEx_Tissue_Sample_Gene_Expression_Profiles_up  \n",
      "284  GTEx_Tissue_Sample_Gene_Expression_Profiles_up  \n",
      "285  GTEx_Tissue_Sample_Gene_Expression_Profiles_up  \n",
      "287  GTEx_Tissue_Sample_Gene_Expression_Profiles_up  \n",
      "286  GTEx_Tissue_Sample_Gene_Expression_Profiles_up  \n",
      "288  GTEx_Tissue_Sample_Gene_Expression_Profiles_up  \n",
      "290  GTEx_Tissue_Sample_Gene_Expression_Profiles_up  \n",
      "289  GTEx_Tissue_Sample_Gene_Expression_Profiles_up  \n",
      "293  GTEx_Tissue_Sample_Gene_Expression_Profiles_up  \n",
      "291  GTEx_Tissue_Sample_Gene_Expression_Profiles_up  \n",
      "292  GTEx_Tissue_Sample_Gene_Expression_Profiles_up  \n",
      "294  GTEx_Tissue_Sample_Gene_Expression_Profiles_up  \n",
      "295  GTEx_Tissue_Sample_Gene_Expression_Profiles_up  \n",
      "296  GTEx_Tissue_Sample_Gene_Expression_Profiles_up  \n",
      "297  GTEx_Tissue_Sample_Gene_Expression_Profiles_up  \n",
      "303  GTEx_Tissue_Sample_Gene_Expression_Profiles_up  \n",
      "304  GTEx_Tissue_Sample_Gene_Expression_Profiles_up  \n",
      "302  GTEx_Tissue_Sample_Gene_Expression_Profiles_up  \n",
      "301  GTEx_Tissue_Sample_Gene_Expression_Profiles_up  \n",
      "Topic 3\n"
     ]
    },
    {
     "name": "stderr",
     "output_type": "stream",
     "text": [
      "2019-12-04 11:33:31,130 Warning: No enrich terms using library GO_Molecular_Function_2018 when cutoff = 0.05\n",
      "2019-12-04 11:33:39,670 Warning: No enrich terms using library Human_Phenotype_Ontology when cutoff = 0.05\n",
      "2019-12-04 11:33:54,491 Warning: No enrich terms using library NCI-60_Cancer_Cell_Lines when cutoff = 0.05\n"
     ]
    },
    {
     "name": "stdout",
     "output_type": "stream",
     "text": [
      "<class 'FileNotFoundError'> [Errno 2] No such file or directory: '/home/fvalle/phd/datasets/breast_HDE//gsea/gsea_level_4_topic2.csv' <traceback object at 0x7fe670fb2688>\n",
      "                                                   Term  Adjusted P-value  \\\n",
      "2076  GTEX-XUJ4-1926-SM-4BOOV_breast_female_60-69_years      1.873691e-29   \n",
      "2077  GTEX-UJHI-1426-SM-3DB9C_breast_female_50-59_years      2.571868e-28   \n",
      "2079  GTEX-WXYG-2226-SM-4E3IM_breast_female_50-59_years      1.100463e-24   \n",
      "2078  GTEX-SE5C-2126-SM-4BRUJ_breast_female_40-49_years      1.207172e-24   \n",
      "2080  GTEX-XUW1-2326-SM-4BOO5_breast_female_50-59_years      8.846957e-23   \n",
      "2082  GTEX-T5JW-2026-SM-4DM63_breast_female_20-29_years      1.367050e-22   \n",
      "2081  GTEX-T6MO-0326-SM-32QOK_breast_female_40-49_years      1.567748e-22   \n",
      "2083  GTEX-S4UY-0726-SM-4AD6X_breast_female_40-49_years      9.778274e-22   \n",
      "2084  GTEX-WRHU-0326-SM-3MJFY_breast_female_50-59_years      1.965659e-21   \n",
      "2085  GTEX-R53T-1526-SM-48FEK_breast_female_50-59_years      1.044147e-20   \n",
      "2086  GTEX-TML8-1226-SM-32QON_breast_female_40-49_years      6.694219e-20   \n",
      "2087  GTEX-P78B-0226-SM-3NB1Z_adipose tissue_female_...      3.005764e-19   \n",
      "2088    GTEX-UPK5-2326-SM-3P5Z8_breast_male_40-49_years      4.592221e-19   \n",
      "2089    GTEX-S33H-0326-SM-4AD6N_breast_male_30-39_years      1.224824e-18   \n",
      "2090    GTEX-U3ZH-1426-SM-4DXSR_breast_male_30-39_years      6.087359e-17   \n",
      "2091  GTEX-RWS6-1926-SM-47JXY_breast_female_60-69_years      9.293614e-17   \n",
      "2092    GTEX-XMK1-1126-SM-4IHJ8_breast_male_40-49_years      1.871885e-16   \n",
      "2093    GTEX-XQ3S-1326-SM-4BOPQ_breast_male_20-29_years      3.498891e-16   \n",
      "2094  GTEX-Q2AG-0326-SM-48U1O_breast_female_40-49_years      6.235708e-16   \n",
      "2095  GTEX-VUSG-2426-SM-4KKZG_adipose tissue_male_50...      9.580011e-16   \n",
      "\n",
      "                                            Gene_set  \n",
      "2076  GTEx_Tissue_Sample_Gene_Expression_Profiles_up  \n",
      "2077  GTEx_Tissue_Sample_Gene_Expression_Profiles_up  \n",
      "2079  GTEx_Tissue_Sample_Gene_Expression_Profiles_up  \n",
      "2078  GTEx_Tissue_Sample_Gene_Expression_Profiles_up  \n",
      "2080  GTEx_Tissue_Sample_Gene_Expression_Profiles_up  \n",
      "2082  GTEx_Tissue_Sample_Gene_Expression_Profiles_up  \n",
      "2081  GTEx_Tissue_Sample_Gene_Expression_Profiles_up  \n",
      "2083  GTEx_Tissue_Sample_Gene_Expression_Profiles_up  \n",
      "2084  GTEx_Tissue_Sample_Gene_Expression_Profiles_up  \n",
      "2085  GTEx_Tissue_Sample_Gene_Expression_Profiles_up  \n",
      "2086  GTEx_Tissue_Sample_Gene_Expression_Profiles_up  \n",
      "2087  GTEx_Tissue_Sample_Gene_Expression_Profiles_up  \n",
      "2088  GTEx_Tissue_Sample_Gene_Expression_Profiles_up  \n",
      "2089  GTEx_Tissue_Sample_Gene_Expression_Profiles_up  \n",
      "2090  GTEx_Tissue_Sample_Gene_Expression_Profiles_up  \n",
      "2091  GTEx_Tissue_Sample_Gene_Expression_Profiles_up  \n",
      "2092  GTEx_Tissue_Sample_Gene_Expression_Profiles_up  \n",
      "2093  GTEx_Tissue_Sample_Gene_Expression_Profiles_up  \n",
      "2094  GTEx_Tissue_Sample_Gene_Expression_Profiles_up  \n",
      "2095  GTEx_Tissue_Sample_Gene_Expression_Profiles_up  \n"
     ]
    }
   ],
   "source": [
    "for itopic,topic in enumerate(df_topics.columns):\n",
    "    try:\n",
    "        enriched_topic = pd.read_csv(\"%s/gsea/gsea_level_%d_topic%d.csv\"%(directory,l,itopic), index_col=[0])\n",
    "        print(topic)\n",
    "    except:\n",
    "        try:\n",
    "            symbols = ensg_to_symbol(df_topics.loc[:,topic].dropna().values)\n",
    "            print(topic)\n",
    "            enriched_topic = get_ontology_df(symbols, background=back_sea).sort_values(by=['Adjusted P-value'], ascending=True)\n",
    "            enriched_topic = enriched_topic.loc[enriched_topic.index.values[:20],:]\n",
    "            enriched_topic.to_csv(\"%s/gsea/gsea_level_%d_topic%d.csv\"%(directory,l,itopic))\n",
    "        except:\n",
    "            print(*sys.exc_info())\n",
    "    print(enriched_topic)"
   ]
  },
  {
   "cell_type": "code",
   "execution_count": null,
   "metadata": {},
   "outputs": [],
   "source": [
    "topic_pvalues = []\n",
    "topic_gos = []\n",
    "for itopic,topic in enumerate(df_topics.columns):\n",
    "    try:\n",
    "        enriched_topic = pd.read_csv(\"%s/gsea/gsea_level_%d_topic%d.csv\"%(directory,l,itopic))\n",
    "        if len(enriched_topic.index) >0:\n",
    "            p_val = np.sort(enriched_topic['Adjusted P-value'])[0]\n",
    "            topic_pvalues.append(-np.log10(p_val))\n",
    "            for goc in enriched_topic['Gene_set'][:10].unique():\n",
    "                topic_gos.append(goc)\n",
    "        print(topic)\n",
    "    except:\n",
    "        print(\"error\", sys.exc_info()[0])"
   ]
  },
  {
   "cell_type": "code",
   "execution_count": null,
   "metadata": {},
   "outputs": [],
   "source": [
    "fig = plt.figure()\n",
    "x = np.arange(1,1+len(topic_pvalues))\n",
    "c, _, _ = plt.hist(topic_pvalues, histtype='step', lw=2)\n",
    "plt.plot([-np.log10(0.05) for _ in np.linspace(1,10,num=10)],np.arange(0,np.max(c)+5,(np.max(c)+5)/10), ls='--', lw=5, label=\"$\\\\alpha=0.05$\")\n",
    "plt.xlabel('-log(P-value)', fontsize=16)\n",
    "plt.ylabel(\"number of topics\")\n",
    "#plt.ylim(0,0.055)\n",
    "#plt.yscale('log')\n",
    "plt.legend(fontsize=16)\n",
    "fig.savefig(\"%s/pvaluescrosstopic(%d).png\"%(directory,l))"
   ]
  },
  {
   "cell_type": "code",
   "execution_count": null,
   "metadata": {},
   "outputs": [],
   "source": [
    "fig = plt.figure(figsize=(20,10))\n",
    "gos, goscounts = np.unique(topic_gos,return_counts=True)\n",
    "plt.barh([\"\\n\".join(wrap(str(l).replace('_',' '),20)) for l in gos], goscounts)\n",
    "plt.yticks(fontsize=15)\n",
    "plt.show()\n",
    "fig.savefig(\"%s/pvaluecategories(%d).pdf\"%(directory,l))"
   ]
  },
  {
   "cell_type": "code",
   "execution_count": null,
   "metadata": {},
   "outputs": [],
   "source": []
  }
 ],
 "metadata": {
  "kernelspec": {
   "display_name": "Python 3",
   "language": "python",
   "name": "python3"
  },
  "language_info": {
   "codemirror_mode": {
    "name": "ipython",
    "version": 3
   },
   "file_extension": ".py",
   "mimetype": "text/x-python",
   "name": "python",
   "nbconvert_exporter": "python",
   "pygments_lexer": "ipython3",
   "version": "3.6.9"
  }
 },
 "nbformat": 4,
 "nbformat_minor": 2
}
