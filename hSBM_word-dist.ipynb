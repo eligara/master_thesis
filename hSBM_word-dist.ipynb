{
 "cells": [
  {
   "cell_type": "code",
   "execution_count": null,
   "metadata": {},
   "outputs": [],
   "source": [
    "import findspark\n",
    "findspark.init()\n",
    "import pyspark as spark\n",
    "from pyspark.sql.functions import udf\n",
    "import pyspark.sql.functions as F\n",
    "import os\n",
    "import numpy as np\n",
    "import pandas as pd\n",
    "import matplotlib.pyplot as plt\n",
    "import tensorflow as tf"
   ]
  },
  {
   "cell_type": "code",
   "execution_count": null,
   "metadata": {},
   "outputs": [],
   "source": [
    "sc = spark.SparkContext()\n",
    "sql = spark.SQLContext(sc)"
   ]
  },
  {
   "cell_type": "code",
   "execution_count": null,
   "metadata": {},
   "outputs": [],
   "source": [
    "level = 1\n",
    "label='primary_site'\n",
    "L = 3\n",
    "labels = ['primary_site', 'disease_type', 'disease_tissue']\n",
    "#labels = ['primary_site', 'secondary_site']\n",
    "algorithm = 'topsbm'\n",
    "#labels = ['primary_site', 'secondary_site', 'status']\n",
    "#labels=['RPPA Clusters']\n",
    "directory = \"/home/fvalle/phd/results/tcga/oversampling_10tissue\"\n",
    "#directory = \"/home/fvalle/phd/results/altmann\"\n",
    "#directory = \"/Users/filippo/Google Drive File Stream/My Drive/tesi_magistrale/tesi/results/hSBM/highlyvariable_7tissues\"\n",
    "os.chdir(directory)"
   ]
  },
  {
   "cell_type": "code",
   "execution_count": null,
   "metadata": {},
   "outputs": [],
   "source": [
    "df_Pwt = sql.read.option('header',True).csv(\"%s/%s/%s_level_%d_word-dist.csv\"%(directory,algorithm,algorithm,L))"
   ]
  },
  {
   "cell_type": "code",
   "execution_count": null,
   "metadata": {},
   "outputs": [],
   "source": [
    "fig=plt.figure()\n",
    "plt.title(\"\")\n",
    "for topic in df_Pwt.columns[:5]:\n",
    "    dist = df_Pwt.select([topic]).filter(F.col(topic)>1e-5).sort([topic], ascending=False).toPandas().astype(float).values\n",
    "    if len(dist)<2:\n",
    "        continue\n",
    "    plt.plot(np.sort(dist[dist>0].T)[::-1], marker='x', label=topic)\n",
    "plt.ylabel(\"$P(word | topic$)\", fontsize=20)\n",
    "plt.xlabel(\"words\", fontsize=20)\n",
    "plt.xscale('log')\n",
    "plt.yscale('log')\n",
    "plt.legend()\n",
    "plt.show()"
   ]
  },
  {
   "cell_type": "code",
   "execution_count": null,
   "metadata": {},
   "outputs": [],
   "source": [
    "df_Ptd = sql.read.option('header',True).csv(\"%s/%s/%s_level_%d_topic-dist.csv\"%(directory,algorithm,algorithm,L)).drop('i_doc')"
   ]
  },
  {
   "cell_type": "code",
   "execution_count": null,
   "metadata": {},
   "outputs": [],
   "source": [
    "plt.figure()\n",
    "plt.ylabel(\"$P(topic | sample$)\", fontsize=20)\n",
    "plt.xlabel(\"topics\", fontsize=20)\n",
    "for sample in df_Ptd.select('doc').toPandas().values[:10]:\n",
    "    #plt.plot(df_Ptd.filter(F.col('doc')==sample[0]).drop('doc').toPandas().astype(float).values[0], marker='x')\n",
    "    plt.plot(np.sort(df_Ptd.filter(F.col('doc')==sample[0]).drop('doc').toPandas().astype(float).values[0])[::-1], lw=0.1, marker='x')\n",
    "plt.plot(np.logspace(0,2),1/np.logspace(0,2))\n",
    "plt.xscale('log')\n",
    "plt.yscale('log')\n",
    "plt.show()"
   ]
  },
  {
   "cell_type": "code",
   "execution_count": null,
   "metadata": {},
   "outputs": [],
   "source": [
    "import tensorflow as tf"
   ]
  },
  {
   "cell_type": "code",
   "execution_count": null,
   "metadata": {},
   "outputs": [],
   "source": [
    "Pgt = tf.convert_to_tensor(df_Pwt.toPandas().set_index('_c0').astype(float).values)\n",
    "Pts = tf.transpose(tf.convert_to_tensor(df_Ptd.toPandas().set_index('doc').astype(float).values))"
   ]
  },
  {
   "cell_type": "code",
   "execution_count": null,
   "metadata": {},
   "outputs": [],
   "source": [
    "Pgt"
   ]
  },
  {
   "cell_type": "code",
   "execution_count": null,
   "metadata": {},
   "outputs": [],
   "source": [
    "Pts"
   ]
  },
  {
   "cell_type": "code",
   "execution_count": null,
   "metadata": {},
   "outputs": [],
   "source": [
    "with tf.Session() as sess:\n",
    "    Pgs = sess.run(tf.matmul(Pgt,Pts))\n",
    "Pgs.shape"
   ]
  },
  {
   "cell_type": "code",
   "execution_count": null,
   "metadata": {},
   "outputs": [],
   "source": [
    "df_Pgs = pd.DataFrame(data=Pgs, index=df_Pwt.toPandas().values.T[0], columns=df_Ptd.select(['doc']).toPandas().values.T[0])"
   ]
  },
  {
   "cell_type": "code",
   "execution_count": null,
   "metadata": {},
   "outputs": [],
   "source": [
    "fig=plt.figure()\n",
    "for doc in df_Pgs.columns[:200]:\n",
    "    #doc = df_Pgs.columns[0]\n",
    "    cdf = df_Pgs[doc]\n",
    "    s_values = cdf[cdf>1e-95].sort_values(ascending=False)\n",
    "    s_values = s_values/np.sum(s_values)\n",
    "    plt.plot(s_values.values, marker='x', lw=0)\n",
    "plt.plot(A.sort_values(ascending=False)/A.sum())\n",
    "plt.ylabel(\"$P(word | sample$)\", fontsize=20)\n",
    "plt.xlabel(\"words\", fontsize=20)\n",
    "plt.xscale('log')\n",
    "plt.yscale('log')\n",
    "plt.show()"
   ]
  },
  {
   "cell_type": "code",
   "execution_count": null,
   "metadata": {},
   "outputs": [],
   "source": [
    "A_hsbm = df_Pgs.apply(lambda x: np.average(x), axis=1)"
   ]
  },
  {
   "cell_type": "code",
   "execution_count": null,
   "metadata": {},
   "outputs": [],
   "source": []
  },
  {
   "cell_type": "code",
   "execution_count": 287,
   "metadata": {},
   "outputs": [],
   "source": [
    "def get_tissue(sample, samples=None):\n",
    "    for fullsample in samples.index.values:\n",
    "        if sample in fullsample:\n",
    "            return samples.loc[fullsample,:]"
   ]
  },
  {
   "cell_type": "code",
   "execution_count": null,
   "metadata": {},
   "outputs": [],
   "source": [
    "df_file=pd.read_csv(\"%s/files.dat\"%directory, index_col=0)"
   ]
  },
  {
   "cell_type": "code",
   "execution_count": null,
   "metadata": {},
   "outputs": [],
   "source": [
    "test = df_file.index[np.random.randint(len(df_file.index))]\n",
    "sample_vector = df_mt.toPandas().set_index('_c0').loc[df_Ptissueg.columns,test]\n",
    "df_file.loc[test,]"
   ]
  },
  {
   "cell_type": "code",
   "execution_count": null,
   "metadata": {},
   "outputs": [],
   "source": [
    "proj = np.matmul(df_Ptissueg.values.astype(float),sample_vector.values.astype(float))\n",
    "proj = proj/np.sum(proj)\n",
    "pd.DataFrame(data=proj, index=df_Ptissueg.index).sort_values(0,ascending=False)"
   ]
  },
  {
   "cell_type": "code",
   "execution_count": null,
   "metadata": {},
   "outputs": [],
   "source": [
    "A_hsbm.sort_values(ascending=False)"
   ]
  },
  {
   "cell_type": "code",
   "execution_count": null,
   "metadata": {},
   "outputs": [],
   "source": [
    "A_lda.divide(A_lda.sum()).sort_values(ascending=False)"
   ]
  },
  {
   "cell_type": "code",
   "execution_count": null,
   "metadata": {},
   "outputs": [],
   "source": []
  }
 ],
 "metadata": {
  "kernelspec": {
   "display_name": "Python 3",
   "language": "python",
   "name": "python3"
  },
  "language_info": {
   "codemirror_mode": {
    "name": "ipython",
    "version": 3
   },
   "file_extension": ".py",
   "mimetype": "text/x-python",
   "name": "python",
   "nbconvert_exporter": "python",
   "pygments_lexer": "ipython3",
   "version": "3.6.9"
  }
 },
 "nbformat": 4,
 "nbformat_minor": 2
}
