{
 "cells": [
  {
   "cell_type": "code",
   "execution_count": null,
   "metadata": {},
   "outputs": [],
   "source": [
    "import findspark\n",
    "findspark.init()\n",
    "import pyspark as spark\n",
    "from pyspark.sql.functions import udf\n",
    "import pyspark.sql.functions as F\n",
    "import os\n",
    "import numpy as np\n",
    "import pandas as pd\n",
    "import matplotlib.pyplot as plt"
   ]
  },
  {
   "cell_type": "code",
   "execution_count": null,
   "metadata": {},
   "outputs": [],
   "source": [
    "sc = spark.SparkContext()\n",
    "sql = spark.SQLContext(sc)"
   ]
  },
  {
   "cell_type": "code",
   "execution_count": null,
   "metadata": {},
   "outputs": [],
   "source": [
    "level = 1\n",
    "label='primary_site'\n",
    "L = 3\n",
    "labels = ['primary_site', 'disease_type', 'disease_tissue']\n",
    "#labels = ['primary_site', 'secondary_site']\n",
    "algorithm = 'topsbm'\n",
    "#labels = ['primary_site', 'secondary_site', 'status']\n",
    "#labels=['RPPA Clusters']\n",
    "directory = \"/home/fvalle/phd/results/tcga/oversampling_10tissue\"\n",
    "#directory = \"/Users/filippo/Google Drive File Stream/My Drive/tesi_magistrale/tesi/results/hSBM/highlyvariable_7tissues\"\n",
    "os.chdir(directory)"
   ]
  },
  {
   "cell_type": "code",
   "execution_count": null,
   "metadata": {},
   "outputs": [],
   "source": [
    "df_Pwt = sql.read.option('header',True).csv(\"%s/%s/%s_level_%d_word-dist.csv\"%(directory,algorithm,algorithm,L))"
   ]
  },
  {
   "cell_type": "code",
   "execution_count": null,
   "metadata": {},
   "outputs": [],
   "source": [
    "for topic in df_Pwt.columns[:5]:\n",
    "    dist = df_Pwt.select([topic]).filter(F.col(topic)>1e-5).sort([topic], ascending=False).toPandas().astype(float).values\n",
    "    if len(dist)<2:\n",
    "        continue\n",
    "    plt.title(topic)\n",
    "    plt.plot(np.sort(dist[dist>0].T)[::-1], marker='x')\n",
    "    plt.ylabel(\"$P(word | topic$)\", fontsize=20)\n",
    "    plt.xlabel(\"words\", fontsize=20)\n",
    "    plt.xscale('log')\n",
    "    plt.yscale('log')\n",
    "    plt.show()"
   ]
  },
  {
   "cell_type": "code",
   "execution_count": null,
   "metadata": {},
   "outputs": [],
   "source": [
    "df_Ptd = sql.read.option('header',True).csv(\"%s/%s/%s_level_%d_topic-dist.csv\"%(directory,algorithm,algorithm,L)).drop('i_doc')"
   ]
  },
  {
   "cell_type": "code",
   "execution_count": null,
   "metadata": {},
   "outputs": [],
   "source": [
    "plt.figure()\n",
    "plt.ylabel(\"$P(topic | sample$)\", fontsize=20)\n",
    "plt.xlabel(\"topics\", fontsize=20)\n",
    "for sample in df_Ptd.select('doc').toPandas().values[:10]:\n",
    "    plt.plot(np.sort(df_Ptd.filter(F.col('doc')==sample[0]).drop('doc').toPandas().astype(float).values[0])[::-1])\n",
    "plt.xscale('log')\n",
    "plt.yscale('log')\n",
    "plt.show()"
   ]
  },
  {
   "cell_type": "code",
   "execution_count": null,
   "metadata": {},
   "outputs": [],
   "source": [
    "import tensorflow as tf"
   ]
  },
  {
   "cell_type": "code",
   "execution_count": null,
   "metadata": {},
   "outputs": [],
   "source": [
    "Pgt = tf.convert_to_tensor(df_Pwt.toPandas().set_index('_c0').astype(float).values)\n",
    "Pts = tf.transpose(tf.convert_to_tensor(df_Ptd.toPandas().set_index('doc').astype(float).values))"
   ]
  },
  {
   "cell_type": "code",
   "execution_count": null,
   "metadata": {},
   "outputs": [],
   "source": [
    "Pgt"
   ]
  },
  {
   "cell_type": "code",
   "execution_count": null,
   "metadata": {},
   "outputs": [],
   "source": [
    "Pts"
   ]
  },
  {
   "cell_type": "code",
   "execution_count": null,
   "metadata": {},
   "outputs": [],
   "source": [
    "with tf.Session() as sess:\n",
    "    Pgs = sess.run(tf.matmul(Pgt,Pts))\n",
    "Pgs.shape"
   ]
  },
  {
   "cell_type": "code",
   "execution_count": null,
   "metadata": {},
   "outputs": [],
   "source": [
    "df_Pgs = pd.DataFrame(data=Pgs, index=df_Pwt.select(['_c0']).toPandas().values.T[0], columns=df_Ptd.select(['doc']).toPandas().values.T[0])"
   ]
  },
  {
   "cell_type": "code",
   "execution_count": null,
   "metadata": {},
   "outputs": [],
   "source": [
    "for doc in df_Pgs.columns[:5]:\n",
    "    #doc = df_Pgs.columns[0]\n",
    "    cdf = df_Pgs[doc]\n",
    "    s_values = cdf[cdf>1e-95].sort_values(ascending=False)\n",
    "    s_values = s_values/np.sum(s_values)\n",
    "    plt.plot(s_values)\n",
    "    plt.ylabel(\"$P(word | sample$)\", fontsize=20)\n",
    "    plt.xlabel(\"words\", fontsize=20)\n",
    "    plt.xscale('log')\n",
    "    plt.yscale('log')\n",
    "    plt.show()"
   ]
  },
  {
   "cell_type": "code",
   "execution_count": null,
   "metadata": {},
   "outputs": [],
   "source": [
    "s_values_hsbm=s_values"
   ]
  },
  {
   "cell_type": "code",
   "execution_count": null,
   "metadata": {},
   "outputs": [],
   "source": [
    "df_mt = sql.read.option(\"header\",True).csv(\"%s/mainTable.csv\"%directory)"
   ]
  },
  {
   "cell_type": "code",
   "execution_count": null,
   "metadata": {},
   "outputs": [],
   "source": [
    "abundancies = df_mt.toPandas().set_index('_c0').astype(int).sum(axis=1)"
   ]
  },
  {
   "cell_type": "code",
   "execution_count": null,
   "metadata": {},
   "outputs": [],
   "source": [
    "plt.figure(figsize=(15,8))\n",
    "plt.plot(np.sort(abundancies.values)[::-1]/np.sum(abundancies), label='avg')\n",
    "plt.plot(s_values_hsbm.values, label='hsbm')\n",
    "plt.plot(s_values_lda.values, label='lda')\n",
    "plt.xscale('log')\n",
    "plt.yscale('log')\n",
    "plt.legend()\n",
    "plt.show()"
   ]
  },
  {
   "cell_type": "code",
   "execution_count": null,
   "metadata": {},
   "outputs": [],
   "source": [
    "s_values_hsbm.values"
   ]
  },
  {
   "cell_type": "code",
   "execution_count": null,
   "metadata": {},
   "outputs": [],
   "source": [
    "s_values_lda.values"
   ]
  },
  {
   "cell_type": "code",
   "execution_count": null,
   "metadata": {},
   "outputs": [],
   "source": [
    "s_values"
   ]
  },
  {
   "cell_type": "code",
   "execution_count": null,
   "metadata": {},
   "outputs": [],
   "source": []
  }
 ],
 "metadata": {
  "kernelspec": {
   "display_name": "Python 3",
   "language": "python",
   "name": "python3"
  },
  "language_info": {
   "codemirror_mode": {
    "name": "ipython",
    "version": 3
   },
   "file_extension": ".py",
   "mimetype": "text/x-python",
   "name": "python",
   "nbconvert_exporter": "python",
   "pygments_lexer": "ipython3",
   "version": "3.6.9"
  }
 },
 "nbformat": 4,
 "nbformat_minor": 2
}
