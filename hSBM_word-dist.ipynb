{
 "cells": [
  {
   "cell_type": "code",
   "execution_count": 1,
   "metadata": {},
   "outputs": [
    {
     "name": "stderr",
     "output_type": "stream",
     "text": [
      "/home/fvalle/anaconda3/envs/phd/lib/python3.6/importlib/_bootstrap.py:219: RuntimeWarning: numpy.ufunc size changed, may indicate binary incompatibility. Expected 216, got 192\n",
      "  return f(*args, **kwds)\n",
      "/home/fvalle/anaconda3/envs/phd/lib/python3.6/importlib/_bootstrap.py:219: RuntimeWarning: numpy.ufunc size changed, may indicate binary incompatibility. Expected 192 from C header, got 216 from PyObject\n",
      "  return f(*args, **kwds)\n"
     ]
    }
   ],
   "source": [
    "import findspark\n",
    "findspark.init()\n",
    "import pyspark as spark\n",
    "from pyspark.sql.functions import udf\n",
    "import pyspark.sql.functions as F\n",
    "import os\n",
    "import numpy as np\n",
    "import pandas as pd\n",
    "import matplotlib.pyplot as plt\n",
    "import tensorflow as tf\n",
    "from hsbmpy import get_max_available_L"
   ]
  },
  {
   "cell_type": "code",
   "execution_count": 2,
   "metadata": {},
   "outputs": [],
   "source": [
    "sc = spark.SparkContext()\n",
    "sql = spark.SQLContext(sc)"
   ]
  },
  {
   "cell_type": "code",
   "execution_count": 142,
   "metadata": {},
   "outputs": [],
   "source": [
    "label='primary_site'\n",
    "labels = ['primary_site', 'disease_type', 'disease_tissue']\n",
    "#labels = ['primary_site', 'secondary_site']\n",
    "algorithm = 'topsbm-overlap'\n",
    "#labels = ['primary_site', 'secondary_site', 'status']\n",
    "#labels=['RPPA Clusters']\n",
    "directory = \"/home/fvalle/phd/datasets/breast/\"\n",
    "#directory = \"/home/fvalle/phd/results/altmann\"\n",
    "#directory = \"/Users/filippo/Google Drive File Stream/My Drive/tesi_magistrale/tesi/results/hSBM/highlyvariable_7tissues\"\n",
    "L=get_max_available_L(directory, algorithm)\n",
    "L=0\n",
    "os.chdir(directory)"
   ]
  },
  {
   "cell_type": "code",
   "execution_count": 198,
   "metadata": {},
   "outputs": [],
   "source": [
    "df_Pwt = sql.read.option('header',True).csv(\"%s/%s/%s_level_%d_word-dist.csv\"%(directory,algorithm,algorithm,L))"
   ]
  },
  {
   "cell_type": "code",
   "execution_count": 146,
   "metadata": {},
   "outputs": [
    {
     "data": {
      "image/png": "[encoded data removed]",
      "text/plain": [
       "<Figure size 432x288 with 1 Axes>"
      ]
     },
     "metadata": {
      "needs_background": "light"
     },
     "output_type": "display_data"
    }
   ],
   "source": [
    "fig=plt.figure()\n",
    "plt.title(\"\")\n",
    "for topic in df_Pwt.columns[:]:\n",
    "    dist = df_Pwt.select([topic]).filter(F.col(topic)>1e-50).sort([topic], ascending=False).toPandas().astype(float).values\n",
    "    if len(dist)<2:\n",
    "        pass\n",
    "    plt.plot(np.sort(dist[dist>0].T)[::-1], marker='x', label=topic)\n",
    "plt.ylabel(\"$P(word | topic$)\", fontsize=20)\n",
    "plt.xlabel(\"words\", fontsize=20)\n",
    "plt.xscale('log')\n",
    "plt.yscale('log')\n",
    "#plt.legend()\n",
    "plt.show()"
   ]
  },
  {
   "cell_type": "code",
   "execution_count": 147,
   "metadata": {},
   "outputs": [],
   "source": [
    "df_Ptd = sql.read.option('header',True).csv(\"%s/%s/%s_level_%d_topic-dist.csv\"%(directory,algorithm,algorithm,L)).drop('i_doc')"
   ]
  },
  {
   "cell_type": "code",
   "execution_count": 152,
   "metadata": {},
   "outputs": [
    {
     "data": {
      "image/png": "[encoded data removed]",
      "text/plain": [
       "<Figure size 432x288 with 1 Axes>"
      ]
     },
     "metadata": {
      "needs_background": "light"
     },
     "output_type": "display_data"
    }
   ],
   "source": [
    "plt.figure()\n",
    "plt.ylabel(\"$P(topic | sample$)\", fontsize=20)\n",
    "plt.xlabel(\"topics\", fontsize=20)\n",
    "for sample in df_Ptd.select('doc').toPandas().values[:10]:\n",
    "    plt.plot(df_Ptd.filter(F.col('doc')==sample[0]).drop('doc').toPandas().astype(float).values[0], marker='x')\n",
    "    #plt.plot(np.sort(df_Ptd.filter(F.col('doc')==sample[0]).drop('doc').toPandas().astype(float).values[0])[::-1], lw=0.1, marker='x')\n",
    "#plt.plot(np.logspace(0,2),1/np.logspace(0,2))\n",
    "#plt.xscale('log')\n",
    "#plt.yscale('log')\n",
    "plt.ylim(1e-2,1)\n",
    "plt.xlim(0,20)\n",
    "plt.show()"
   ]
  },
  {
   "cell_type": "code",
   "execution_count": 153,
   "metadata": {},
   "outputs": [],
   "source": [
    "import tensorflow as tf"
   ]
  },
  {
   "cell_type": "code",
   "execution_count": 154,
   "metadata": {},
   "outputs": [],
   "source": [
    "Pgt = tf.convert_to_tensor(df_Pwt.toPandas().set_index('_c0').astype(float).values)\n",
    "Pts = tf.transpose(tf.convert_to_tensor(df_Ptd.toPandas().set_index('doc').astype(float).values))"
   ]
  },
  {
   "cell_type": "code",
   "execution_count": 155,
   "metadata": {},
   "outputs": [
    {
     "data": {
      "text/plain": [
       "<tf.Tensor 'Const_4:0' shape=(699, 19) dtype=float64>"
      ]
     },
     "execution_count": 155,
     "metadata": {},
     "output_type": "execute_result"
    }
   ],
   "source": [
    "Pgt"
   ]
  },
  {
   "cell_type": "code",
   "execution_count": 156,
   "metadata": {},
   "outputs": [
    {
     "data": {
      "text/plain": [
       "<tf.Tensor 'transpose_2:0' shape=(19, 36) dtype=float64>"
      ]
     },
     "execution_count": 156,
     "metadata": {},
     "output_type": "execute_result"
    }
   ],
   "source": [
    "Pts"
   ]
  },
  {
   "cell_type": "code",
   "execution_count": 157,
   "metadata": {},
   "outputs": [
    {
     "data": {
      "text/plain": [
       "(699, 36)"
      ]
     },
     "execution_count": 157,
     "metadata": {},
     "output_type": "execute_result"
    }
   ],
   "source": [
    "with tf.Session() as sess:\n",
    "    Pgs = sess.run(tf.matmul(Pgt,Pts))\n",
    "Pgs.shape"
   ]
  },
  {
   "cell_type": "code",
   "execution_count": 158,
   "metadata": {},
   "outputs": [],
   "source": [
    "df_Pgs = pd.DataFrame(data=Pgs, index=df_Pwt.toPandas().values.T[0], columns=df_Ptd.select(['doc']).toPandas().values.T[0])"
   ]
  },
  {
   "cell_type": "code",
   "execution_count": 159,
   "metadata": {},
   "outputs": [],
   "source": [
    "A=np.genfromtxt(\"A.dat\")"
   ]
  },
  {
   "cell_type": "code",
   "execution_count": 160,
   "metadata": {},
   "outputs": [
    {
     "data": {
      "image/png": "[encoded data removed]",
      "text/plain": [
       "<Figure size 432x288 with 1 Axes>"
      ]
     },
     "metadata": {
      "needs_background": "light"
     },
     "output_type": "display_data"
    }
   ],
   "source": [
    "fig=plt.figure()\n",
    "for doc in df_Pgs.columns[:200]:\n",
    "    #doc = df_Pgs.columns[0]\n",
    "    cdf = df_Pgs[doc]\n",
    "    s_values = cdf[cdf>1e-95].sort_values(ascending=False)\n",
    "    s_values = s_values/np.sum(s_values)\n",
    "    plt.plot(s_values.values, marker='x', lw=0)\n",
    "plt.plot(np.sort(A)[::-1]/A.sum())\n",
    "plt.ylabel(\"$P(word | sample$)\", fontsize=20)\n",
    "plt.xlabel(\"words\", fontsize=20)\n",
    "plt.xscale('log')\n",
    "plt.yscale('log')\n",
    "plt.show()"
   ]
  },
  {
   "cell_type": "code",
   "execution_count": 73,
   "metadata": {},
   "outputs": [],
   "source": [
    "A_hsbm = df_Pgs.apply(lambda x: np.average(x), axis=1)"
   ]
  },
  {
   "cell_type": "code",
   "execution_count": 20,
   "metadata": {},
   "outputs": [],
   "source": [
    "def get_tissue(sample, samples=None):\n",
    "    for fullsample in samples.index.values:\n",
    "        if sample in fullsample:\n",
    "            return samples.loc[fullsample,:]"
   ]
  },
  {
   "cell_type": "code",
   "execution_count": 21,
   "metadata": {},
   "outputs": [],
   "source": [
    "df_file=pd.read_csv(\"%s/files.dat\"%directory, index_col=0)"
   ]
  },
  {
   "cell_type": "code",
   "execution_count": 199,
   "metadata": {},
   "outputs": [
    {
     "name": "stderr",
     "output_type": "stream",
     "text": [
      "/home/fvalle/anaconda3/envs/phd/lib/python3.6/site-packages/numpy/core/fromnumeric.py:56: FutureWarning: Series.nonzero() is deprecated and will be removed in a future version.Use Series.to_numpy().nonzero() instead\n",
      "  return getattr(obj, method)(*args, **kwds)\n"
     ]
    },
    {
     "data": {
      "text/plain": [
       "<matplotlib.axes._subplots.AxesSubplot at 0x7fd0e5b1fcf8>"
      ]
     },
     "execution_count": 199,
     "metadata": {},
     "output_type": "execute_result"
    },
    {
     "data": {
      "image/png": "[encoded data removed]",
      "text/plain": [
       "<Figure size 432x288 with 1 Axes>"
      ]
     },
     "metadata": {
      "needs_background": "light"
     },
     "output_type": "display_data"
    }
   ],
   "source": [
    "df_Pwt.toPandas().set_index('_c0').astype(float).apply(lambda x: len(np.nonzero(x)[0]), axis=1).hist()"
   ]
  },
  {
   "cell_type": "code",
   "execution_count": 228,
   "metadata": {},
   "outputs": [
    {
     "data": {
      "text/plain": [
       "_c0\n",
       "ENSG00000005075    2\n",
       "ENSG00000005156    2\n",
       "ENSG00000006327    2\n",
       "ENSG00000006459    2\n",
       "ENSG00000006576    2\n",
       "                  ..\n",
       "ENSG00000259384    2\n",
       "ENSG00000261052    2\n",
       "ENSG00000269190    2\n",
       "ENSG00000271303    1\n",
       "ENSG00000272899    2\n",
       "Length: 699, dtype: int64"
      ]
     },
     "execution_count": 228,
     "metadata": {},
     "output_type": "execute_result"
    }
   ],
   "source": []
  },
  {
   "cell_type": "code",
   "execution_count": 238,
   "metadata": {},
   "outputs": [],
   "source": [
    "df_Pwt_pandas = df_Pwt.toPandas().set_index('_c0')"
   ]
  },
  {
   "cell_type": "code",
   "execution_count": 239,
   "metadata": {},
   "outputs": [],
   "source": [
    "df_Pwt_pandas.insert(0,'overlap',df_Pwt.toPandas().set_index('_c0').astype(float).apply(lambda x: len(np.nonzero(x)[0]), axis=1).values)"
   ]
  },
  {
   "cell_type": "code",
   "execution_count": 243,
   "metadata": {},
   "outputs": [
    {
     "name": "stdout",
     "output_type": "stream",
     "text": [
      "ENSG00000069248\n",
      "ENSG00000092098\n",
      "ENSG00000100532\n",
      "ENSG00000104738\n",
      "ENSG00000115541\n",
      "ENSG00000130176\n",
      "ENSG00000133027\n",
      "ENSG00000135622\n",
      "ENSG00000140987\n",
      "ENSG00000145388\n",
      "ENSG00000162032\n",
      "ENSG00000165609\n",
      "ENSG00000166938\n",
      "ENSG00000204394\n",
      "ENSG00000242498\n",
      "ENSG00000253305\n",
      "ENSG00000271303\n"
     ]
    }
   ],
   "source": [
    "for g in df_Pwt_pandas[df_Pwt_pandas['overlap']==1].index:\n",
    "    print(g)"
   ]
  },
  {
   "cell_type": "code",
   "execution_count": null,
   "metadata": {},
   "outputs": [],
   "source": []
  }
 ],
 "metadata": {
  "kernelspec": {
   "display_name": "Python 3",
   "language": "python",
   "name": "python3"
  },
  "language_info": {
   "codemirror_mode": {
    "name": "ipython",
    "version": 3
   },
   "file_extension": ".py",
   "mimetype": "text/x-python",
   "name": "python",
   "nbconvert_exporter": "python",
   "pygments_lexer": "ipython3",
   "version": "3.6.9"
  }
 },
 "nbformat": 4,
 "nbformat_minor": 2
}
