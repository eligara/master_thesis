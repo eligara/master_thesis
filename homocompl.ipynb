{
 "cells": [
  {
   "cell_type": "code",
   "execution_count": null,
   "metadata": {},
   "outputs": [],
   "source": [
    "from hsbmpy import plot_cluster_composition\n",
    "import matplotlib.pyplot as plt \n",
    "import seaborn as sns\n",
    "sns.set()\n",
    "sns.set_context(\"paper\")"
   ]
  },
  {
   "cell_type": "code",
   "execution_count": null,
   "metadata": {},
   "outputs": [],
   "source": [
    "fig=plt.figure()\n",
    "plt.bar([0,1,2],[1,0,0])\n",
    "plt.bar([0,1,2],[0,1,0])\n",
    "plt.bar([0,1,2],[0,0,1])\n",
    "plt.xlabel('Cluster', fontsize=18)\n",
    "plt.xticks(ticks=[0,1,2],fontsize=16)\n",
    "plt.yticks(fontsize=16)\n",
    "plt.show()\n",
    "fig.savefig(\"cartoon_hc.pdf\")"
   ]
  },
  {
   "cell_type": "code",
   "execution_count": null,
   "metadata": {},
   "outputs": [],
   "source": [
    "fig=plt.figure()\n",
    "plt.bar([0,1,2],[1,0,0])\n",
    "plt.bar([0,1,2],[0,1,1])\n",
    "plt.xlabel('Cluster', fontsize=18)\n",
    "plt.xticks(ticks=[0,1,2],fontsize=16)\n",
    "plt.yticks(fontsize=16)\n",
    "plt.show()\n",
    "fig.savefig(\"cartoon_h.pdf\")"
   ]
  },
  {
   "cell_type": "code",
   "execution_count": null,
   "metadata": {},
   "outputs": [],
   "source": [
    "fig = plt.figure()\n",
    "plt.bar([0,1,2],[0.5,0,0])\n",
    "plt.bar([0,1,2],[0.5,0,0], bottom=[0.5,0,0])\n",
    "plt.bar([0,1,2],[0,0.5,0])\n",
    "plt.bar([0,1,2],[0,0.5,0], bottom=[0,0.5,0])\n",
    "plt.bar([0,1,2],[0,0,0.5])\n",
    "plt.bar([0,1,2],[0,0,0.5], bottom=[0,0,0.5])\n",
    "plt.xlabel('Cluster', fontsize=18)\n",
    "plt.xticks(ticks=[0,1,2],fontsize=16)\n",
    "plt.yticks(fontsize=16)\n",
    "plt.show()\n",
    "\n",
    "fig.savefig(\"cartoon_c.pdf\")"
   ]
  },
  {
   "cell_type": "code",
   "execution_count": null,
   "metadata": {},
   "outputs": [],
   "source": [
    "fig=plt.figure()\n",
    "plt.bar([0,1,2],[0.25,0.25,0.25])\n",
    "plt.bar([0,1,2],[0.25,0.25,0.25], bottom=[0.25,0.25,0.25])\n",
    "plt.bar([0,1,2],[0.25,0.25,0.25], bottom=[0.5,0.5,0.5])\n",
    "plt.bar([0,1,2],[0.25,0.25,0.25], bottom=[0.75,0.75,0.75])\n",
    "plt.xlabel('Cluster', fontsize=18)\n",
    "plt.xticks(ticks=[0,1,2],fontsize=16)\n",
    "plt.yticks(fontsize=16)\n",
    "plt.show()\n",
    "fig.savefig(\"cartoon.pdf\")"
   ]
  },
  {
   "cell_type": "code",
   "execution_count": null,
   "metadata": {},
   "outputs": [],
   "source": []
  }
 ],
 "metadata": {
  "kernelspec": {
   "display_name": "Python 3",
   "language": "python",
   "name": "python3"
  },
  "language_info": {
   "codemirror_mode": {
    "name": "ipython",
    "version": 3
   },
   "file_extension": ".py",
   "mimetype": "text/x-python",
   "name": "python",
   "nbconvert_exporter": "python",
   "pygments_lexer": "ipython3",
   "version": "3.6.9"
  }
 },
 "nbformat": 4,
 "nbformat_minor": 2
}
