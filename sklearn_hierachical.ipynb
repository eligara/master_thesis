{
 "cells": [
  {
   "cell_type": "code",
   "execution_count": null,
   "metadata": {},
   "outputs": [],
   "source": [
    "import matplotlib.pyplot as plt  \n",
    "import pandas as pd  \n",
    "import numpy as np \n",
    "import seaborn as sns\n",
    "import scipy.cluster.hierarchy as shc\n",
    "from sklearn.cluster import AgglomerativeClustering"
   ]
  },
  {
   "cell_type": "code",
   "execution_count": null,
   "metadata": {},
   "outputs": [],
   "source": [
    "level = 2\n",
    "setup = 'oversigma_10tissue'\n",
    "#label = 'disease_type'\n",
    "label='primary_site'\n",
    "#label = 'uniq'\n",
    "L = 3\n",
    "#labels = ['primary_site', 'disease_type']\n",
    "labels = ['primary_site', 'secondary_site']\n",
    "#directory = \"results/hSBM/%s\"%setup\n",
    "directory=\"gtex/hsbm/%s\"%setup\n",
    "df = pd.read_csv(\"%s/mainTable.csv\"%(directory), index_col=[0], header=[0])\n",
    "df.head()"
   ]
  },
  {
   "cell_type": "code",
   "execution_count": null,
   "metadata": {},
   "outputs": [],
   "source": [
    "data=df.T.values[:1183]"
   ]
  },
  {
   "cell_type": "code",
   "execution_count": null,
   "metadata": {},
   "outputs": [],
   "source": [
    "data.shape"
   ]
  },
  {
   "cell_type": "code",
   "execution_count": null,
   "metadata": {},
   "outputs": [],
   "source": [
    "dend = shc.dendrogram(shc.linkage(data, method='ward'))"
   ]
  },
  {
   "cell_type": "code",
   "execution_count": null,
   "metadata": {},
   "outputs": [],
   "source": [
    "cluster = AgglomerativeClustering(n_clusters=9, affinity='euclidean', linkage='ward')  \n",
    "out = cluster.fit_predict(data)"
   ]
  },
  {
   "cell_type": "code",
   "execution_count": null,
   "metadata": {},
   "outputs": [],
   "source": [
    "from hsbmpy import define_labels, get_cluster_given_l"
   ]
  },
  {
   "cell_type": "code",
   "execution_count": null,
   "metadata": {},
   "outputs": [],
   "source": [
    "true_labels, predicted_labels = define_labels(get_cluster_given_l(2,directory),pd.read_csv(\"%s/files.dat\"%directory, index_col=[0]), label='primary_site')"
   ]
  },
  {
   "cell_type": "code",
   "execution_count": null,
   "metadata": {},
   "outputs": [],
   "source": [
    "np.shape(out)"
   ]
  },
  {
   "cell_type": "code",
   "execution_count": null,
   "metadata": {},
   "outputs": [],
   "source": [
    "np.shape(predicted_labels)"
   ]
  },
  {
   "cell_type": "code",
   "execution_count": null,
   "metadata": {},
   "outputs": [],
   "source": [
    "np.shape(true_labels)"
   ]
  },
  {
   "cell_type": "code",
   "execution_count": null,
   "metadata": {},
   "outputs": [],
   "source": [
    "from sklearn.metrics import homogeneity_completeness_v_measure"
   ]
  },
  {
   "cell_type": "code",
   "execution_count": null,
   "metadata": {},
   "outputs": [],
   "source": [
    "homogeneity_completeness_v_measure(true_labels,predicted_labels)"
   ]
  },
  {
   "cell_type": "code",
   "execution_count": null,
   "metadata": {},
   "outputs": [],
   "source": [
    "df_files = pd.read_csv(\"%s/files.dat\"%directory, index_col=[0])"
   ]
  },
  {
   "cell_type": "code",
   "execution_count": null,
   "metadata": {},
   "outputs": [],
   "source": [
    "from hsbmpy import get_file"
   ]
  },
  {
   "cell_type": "code",
   "execution_count": null,
   "metadata": {},
   "outputs": [],
   "source": [
    "scores = {}\n",
    "scores['hierarchical']={\n",
    "    'h':[],\n",
    "    'c':[],\n",
    "    'V':[]\n",
    "}"
   ]
  },
  {
   "cell_type": "code",
   "execution_count": null,
   "metadata": {},
   "outputs": [],
   "source": [
    "for x in [1183, 268, 34, 10]:\n",
    "    cluster = AgglomerativeClustering(n_clusters=x, affinity='euclidean', linkage='ward')  \n",
    "    out = cluster.fit_predict(data)\n",
    "    true_out = []\n",
    "    for sample in df.columns.values[0:1183]:\n",
    "        true_out.append(get_file(sample, df_files)['primary_site'])\n",
    "    score = (homogeneity_completeness_v_measure(true_out, out))\n",
    "    scores['hierarchical']['h'].append(score[0])\n",
    "    scores['hierarchical']['c'].append(score[1])\n",
    "    scores['hierarchical']['V'].append(score[2])"
   ]
  },
  {
   "cell_type": "code",
   "execution_count": null,
   "metadata": {},
   "outputs": [],
   "source": [
    "scores"
   ]
  },
  {
   "cell_type": "code",
   "execution_count": null,
   "metadata": {},
   "outputs": [],
   "source": []
  },
  {
   "cell_type": "code",
   "execution_count": null,
   "metadata": {},
   "outputs": [],
   "source": []
  },
  {
   "cell_type": "code",
   "execution_count": null,
   "metadata": {},
   "outputs": [],
   "source": []
  },
  {
   "cell_type": "code",
   "execution_count": null,
   "metadata": {},
   "outputs": [],
   "source": []
  },
  {
   "cell_type": "code",
   "execution_count": null,
   "metadata": {},
   "outputs": [],
   "source": []
  },
  {
   "cell_type": "code",
   "execution_count": null,
   "metadata": {},
   "outputs": [],
   "source": [
    "from sklearn.decomposition import LatentDirichletAllocation"
   ]
  },
  {
   "cell_type": "code",
   "execution_count": null,
   "metadata": {},
   "outputs": [],
   "source": [
    "lda = LatentDirichletAllocation(n_components=100,random_state=42)\n",
    "topics = lda.fit_transform(data)"
   ]
  },
  {
   "cell_type": "code",
   "execution_count": null,
   "metadata": {},
   "outputs": [],
   "source": [
    "cm = sns.clustermap(topics)"
   ]
  },
  {
   "cell_type": "code",
   "execution_count": null,
   "metadata": {},
   "outputs": [],
   "source": [
    "cluster.fit_predict(topics)"
   ]
  },
  {
   "cell_type": "code",
   "execution_count": null,
   "metadata": {},
   "outputs": [],
   "source": [
    "scores['lda']={\n",
    "    'h':[],\n",
    "    'c':[],\n",
    "    'V':[]\n",
    "}\n",
    "for x in [1183, 268, 34, 10]:\n",
    "    cluster = AgglomerativeClustering(n_clusters=x, affinity='euclidean', linkage='ward')  \n",
    "    out = cluster.fit_predict(topics)\n",
    "    true_out = []\n",
    "    for sample in df.columns.values[0:1183]:\n",
    "        true_out.append(get_file(sample, df_files)['primary_site'])\n",
    "    score = (homogeneity_completeness_v_measure(true_out, out))\n",
    "    scores['lda']['h'].append(score[0])\n",
    "    scores['lda']['c'].append(score[1])\n",
    "    scores['lda']['V'].append(score[2])"
   ]
  },
  {
   "cell_type": "code",
   "execution_count": null,
   "metadata": {},
   "outputs": [],
   "source": [
    "scores['lda']"
   ]
  },
  {
   "cell_type": "code",
   "execution_count": null,
   "metadata": {},
   "outputs": [],
   "source": []
  },
  {
   "cell_type": "code",
   "execution_count": null,
   "metadata": {},
   "outputs": [],
   "source": []
  },
  {
   "cell_type": "code",
   "execution_count": null,
   "metadata": {},
   "outputs": [],
   "source": []
  },
  {
   "cell_type": "code",
   "execution_count": null,
   "metadata": {},
   "outputs": [],
   "source": []
  },
  {
   "cell_type": "code",
   "execution_count": 8,
   "metadata": {},
   "outputs": [],
   "source": [
    "import tensorflow as tf\n",
    "import pandas as pd"
   ]
  },
  {
   "cell_type": "code",
   "execution_count": 11,
   "metadata": {},
   "outputs": [],
   "source": [
    "df = pd.read_csv(\"mainTable.csv\", index_col=[0], header=[0])"
   ]
  },
  {
   "cell_type": "code",
   "execution_count": 85,
   "metadata": {},
   "outputs": [
    {
     "data": {
      "text/plain": [
       "TensorShape([Dimension(407), Dimension(223)])"
      ]
     },
     "execution_count": 85,
     "metadata": {},
     "output_type": "execute_result"
    }
   ],
   "source": [
    "tfdf = tf.convert_to_tensor(df.transpose().values, dtype=tf.float64)\n",
    "tfdf.shape"
   ]
  },
  {
   "cell_type": "code",
   "execution_count": 84,
   "metadata": {},
   "outputs": [],
   "source": [
    "def euclidean_self(input_tensor):\n",
    "    tensor_shape = input_tensor.get_shape().as_list()\n",
    "    tensor_iter = input_tensor\n",
    "    euclidean_list = []\n",
    "\n",
    "    ses = tf.Session()\n",
    "\n",
    "    for i in range(tensor_shape[0]):\n",
    "        if i%100==0:\n",
    "            print(i)\n",
    "        split_head, split_tail = tf.split(tensor_iter, [1, tensor_shape[0]-1])\n",
    "        tensor_iter = tf.concat([split_tail, split_head], 0)\n",
    "        euclidean_dist = (tf.sqrt(tf.reduce_sum(tf.square(input_tensor-tensor_iter), 1)))\n",
    "        ses.run(euclidean_dist)\n",
    "        euclidean_row = euclidean_dist.eval(session=ses)\n",
    "        euclidean_list.append(euclidean_row)\n",
    "\n",
    "    ses.close()\n",
    "\n",
    "    euclidean_out = np.asarray(euclidean_list).transpose([1, 0])\n",
    "\n",
    "    for i in range(tensor_shape[0]):\n",
    "        euclidean_out[i] = np.append(euclidean_out[i][tensor_shape[0]-1-i:], \n",
    "                                     euclidean_out[i][:tensor_shape[0]-1-i])\n",
    "\n",
    "    '''\n",
    "    the return type is numpy.array, if need tensor for return, use the code beneath\n",
    "    '''\n",
    "    # euclidean_out = tf.convert_to_tensor(euclidean_out)\n",
    "\n",
    "    return euclidean_out"
   ]
  },
  {
   "cell_type": "code",
   "execution_count": 86,
   "metadata": {},
   "outputs": [
    {
     "name": "stdout",
     "output_type": "stream",
     "text": [
      "0\n",
      "100\n",
      "200\n",
      "300\n",
      "400\n"
     ]
    },
    {
     "ename": "NameError",
     "evalue": "name 'np' is not defined",
     "output_type": "error",
     "traceback": [
      "\u001b[0;31m---------------------------------------------------------------------------\u001b[0m",
      "\u001b[0;31mNameError\u001b[0m                                 Traceback (most recent call last)",
      "\u001b[0;32m<ipython-input-86-0e8cb1be77be>\u001b[0m in \u001b[0;36m<module>\u001b[0;34m\u001b[0m\n\u001b[0;32m----> 1\u001b[0;31m \u001b[0meuclidean_self\u001b[0m\u001b[0;34m(\u001b[0m\u001b[0mtfdf\u001b[0m\u001b[0;34m)\u001b[0m\u001b[0;34m\u001b[0m\u001b[0;34m\u001b[0m\u001b[0m\n\u001b[0m",
      "\u001b[0;32m<ipython-input-84-5d0a19464cc9>\u001b[0m in \u001b[0;36meuclidean_self\u001b[0;34m(input_tensor)\u001b[0m\n\u001b[1;32m     18\u001b[0m     \u001b[0mses\u001b[0m\u001b[0;34m.\u001b[0m\u001b[0mclose\u001b[0m\u001b[0;34m(\u001b[0m\u001b[0;34m)\u001b[0m\u001b[0;34m\u001b[0m\u001b[0;34m\u001b[0m\u001b[0m\n\u001b[1;32m     19\u001b[0m \u001b[0;34m\u001b[0m\u001b[0m\n\u001b[0;32m---> 20\u001b[0;31m     \u001b[0meuclidean_out\u001b[0m \u001b[0;34m=\u001b[0m \u001b[0mnp\u001b[0m\u001b[0;34m.\u001b[0m\u001b[0masarray\u001b[0m\u001b[0;34m(\u001b[0m\u001b[0meuclidean_list\u001b[0m\u001b[0;34m)\u001b[0m\u001b[0;34m.\u001b[0m\u001b[0mtranspose\u001b[0m\u001b[0;34m(\u001b[0m\u001b[0;34m[\u001b[0m\u001b[0;36m1\u001b[0m\u001b[0;34m,\u001b[0m \u001b[0;36m0\u001b[0m\u001b[0;34m]\u001b[0m\u001b[0;34m)\u001b[0m\u001b[0;34m\u001b[0m\u001b[0;34m\u001b[0m\u001b[0m\n\u001b[0m\u001b[1;32m     21\u001b[0m \u001b[0;34m\u001b[0m\u001b[0m\n\u001b[1;32m     22\u001b[0m     \u001b[0;32mfor\u001b[0m \u001b[0mi\u001b[0m \u001b[0;32min\u001b[0m \u001b[0mrange\u001b[0m\u001b[0;34m(\u001b[0m\u001b[0mtensor_shape\u001b[0m\u001b[0;34m[\u001b[0m\u001b[0;36m0\u001b[0m\u001b[0;34m]\u001b[0m\u001b[0;34m)\u001b[0m\u001b[0;34m:\u001b[0m\u001b[0;34m\u001b[0m\u001b[0;34m\u001b[0m\u001b[0m\n",
      "\u001b[0;31mNameError\u001b[0m: name 'np' is not defined"
     ]
    }
   ],
   "source": [
    "euclidean_self(tfdf)"
   ]
  },
  {
   "cell_type": "code",
   "execution_count": 79,
   "metadata": {},
   "outputs": [
    {
     "name": "stdout",
     "output_type": "stream",
     "text": [
      "[0. 0. 0. 0. 0. 0. 0. 0. 0. 0. 0. 0. 0. 0. 0. 0. 0. 0. 0. 0. 0. 0. 0. 0.\n",
      " 0. 0. 0. 0. 0. 0. 0. 0. 0. 0. 0. 0. 0. 0. 0. 0. 0. 0. 0. 0. 0. 0. 0. 0.\n",
      " 0. 0. 0. 0. 0. 0. 0. 0. 0. 0. 0. 0. 0. 0. 0. 0. 0. 0. 0. 0. 0. 0. 0. 0.\n",
      " 0. 0. 0. 0. 0. 0. 0. 0. 0. 0. 0. 0. 0. 0. 0. 0. 0. 0. 0. 0. 0. 0. 0. 0.\n",
      " 0. 0. 0. 0. 0. 0. 0. 0. 0. 0. 0. 0. 0. 0. 0. 0. 0. 0. 0. 0. 0. 0. 0. 0.\n",
      " 0. 0. 0. 0. 0. 0. 0. 0. 0. 0. 0. 0. 0. 0. 0. 0. 0. 0. 0. 0. 0. 0. 0. 0.\n",
      " 0. 0. 0. 0. 0. 0. 0. 0. 0. 0. 0. 0. 0. 0. 0. 0. 0. 0. 0. 0. 0. 0. 0. 0.\n",
      " 0. 0. 0. 0. 0. 0. 0. 0. 0. 0. 0. 0. 0. 0. 0. 0. 0. 0. 0. 0. 0. 0. 0. 0.\n",
      " 0. 0. 0. 0. 0. 0. 0. 0. 0. 0. 0. 0. 0. 0. 0. 0. 0. 0. 0. 0. 0. 0. 0. 0.\n",
      " 0. 0. 0. 0. 0. 0. 0. 0. 0. 0. 0. 0. 0. 0. 0. 0. 0. 0. 0. 0. 0. 0. 0. 0.\n",
      " 0. 0. 0. 0. 0. 0. 0. 0. 0. 0. 0. 0. 0. 0. 0. 0. 0. 0. 0. 0. 0. 0. 0. 0.\n",
      " 0. 0. 0. 0. 0. 0. 0. 0. 0. 0. 0. 0. 0. 0. 0. 0. 0. 0. 0. 0. 0. 0. 0. 0.\n",
      " 0. 0. 0. 0. 0. 0. 0. 0. 0. 0. 0. 0. 0. 0. 0. 0. 0. 0. 0. 0. 0. 0. 0. 0.\n",
      " 0. 0. 0. 0. 0. 0. 0. 0. 0. 0. 0. 0. 0. 0. 0. 0. 0. 0. 0. 0. 0. 0. 0. 0.\n",
      " 0. 0. 0. 0. 0. 0. 0. 0. 0. 0. 0. 0. 0. 0. 0. 0. 0. 0. 0. 0. 0. 0. 0. 0.\n",
      " 0. 0. 0. 0. 0. 0. 0. 0. 0. 0. 0. 0. 0. 0. 0. 0. 0. 0. 0. 0. 0. 0. 0. 0.\n",
      " 0. 0. 0. 0. 0. 0. 0. 0. 0. 0. 0. 0. 0. 0. 0. 0. 0. 0. 0. 0. 0. 0. 0.]\n"
     ]
    }
   ],
   "source": [
    "with tf.Session() as sess:\n",
    "    sess.run(tf.global_variables_initializer())\n",
    "    print(sess.run(alternate))"
   ]
  },
  {
   "cell_type": "code",
   "execution_count": 46,
   "metadata": {},
   "outputs": [
    {
     "data": {
      "text/html": [
       "<div>\n",
       "<style scoped>\n",
       "    .dataframe tbody tr th:only-of-type {\n",
       "        vertical-align: middle;\n",
       "    }\n",
       "\n",
       "    .dataframe tbody tr th {\n",
       "        vertical-align: top;\n",
       "    }\n",
       "\n",
       "    .dataframe thead th {\n",
       "        text-align: right;\n",
       "    }\n",
       "</style>\n",
       "<table border=\"1\" class=\"dataframe\">\n",
       "  <thead>\n",
       "    <tr style=\"text-align: right;\">\n",
       "      <th></th>\n",
       "      <th>d2587070-cb7d-440d-ae49-52f5077248e6.htseq.counts.gz</th>\n",
       "      <th>97675f21-ce94-4e7c-bc46-179cc2903bf3.htseq.counts.gz</th>\n",
       "      <th>646d58e7-b7e2-4b2b-bb37-3ca20b601213.htseq.counts.gz</th>\n",
       "      <th>0f2b58b4-7d91-48f3-8901-b624e3d6aa51.htseq.counts.gz</th>\n",
       "      <th>3eb03db7-efc1-4f20-bbc9-61551905eb9b.htseq.counts.gz</th>\n",
       "      <th>73ce143e-44f1-49c6-963f-45246d8551de.htseq.counts.gz</th>\n",
       "      <th>09f2bb20-909e-4929-8a79-c64c7fb2af31.htseq.counts.gz</th>\n",
       "      <th>6ae2dd6c-2a39-411f-a1fc-11e0e6e82165.htseq.counts.gz</th>\n",
       "      <th>5f5c42f3-3631-43a3-9774-164eca819389.htseq.counts.gz</th>\n",
       "      <th>b520edf2-42ce-4b64-8575-19e34b30f042.htseq.counts.gz</th>\n",
       "      <th>...</th>\n",
       "      <th>37e498a7-b147-4c38-a3f5-ed283d57f97a.htseq.counts.gz</th>\n",
       "      <th>c264fe3b-482b-44ec-83a4-73df565663ff.htseq.counts.gz</th>\n",
       "      <th>9e97f017-6855-4d68-bd2a-c4da3ccb1d57.htseq.counts.gz</th>\n",
       "      <th>15864159-be88-41c8-bdef-c2c5927cb1a1.htseq.counts.gz</th>\n",
       "      <th>e2bdca76-7bc5-4143-a6f6-3c6642425c65.htseq.counts.gz</th>\n",
       "      <th>b1868d9d-ef06-4353-883b-230dae23f8b6.htseq.counts.gz</th>\n",
       "      <th>2b5f6764-5a5b-47dc-b0f8-7a548bab2e26.htseq.counts.gz</th>\n",
       "      <th>7324b2d6-dd30-4f99-a101-7c3d497bbcb8.htseq.counts.gz</th>\n",
       "      <th>95e726db-5ccc-4836-a2ae-7feaddaf9f1b.htseq.counts.gz</th>\n",
       "      <th>00cc9b4d-a847-464e-979a-7751e1a87ae3.htseq.counts.gz</th>\n",
       "    </tr>\n",
       "  </thead>\n",
       "  <tbody>\n",
       "    <tr>\n",
       "      <th>ENSG00000276289</th>\n",
       "      <td>0</td>\n",
       "      <td>0</td>\n",
       "      <td>0</td>\n",
       "      <td>0</td>\n",
       "      <td>4</td>\n",
       "      <td>0</td>\n",
       "      <td>1</td>\n",
       "      <td>0</td>\n",
       "      <td>0</td>\n",
       "      <td>0</td>\n",
       "      <td>...</td>\n",
       "      <td>0</td>\n",
       "      <td>0</td>\n",
       "      <td>0</td>\n",
       "      <td>25</td>\n",
       "      <td>2</td>\n",
       "      <td>0</td>\n",
       "      <td>1</td>\n",
       "      <td>1</td>\n",
       "      <td>5</td>\n",
       "      <td>1</td>\n",
       "    </tr>\n",
       "    <tr>\n",
       "      <th>ENSG00000137948</th>\n",
       "      <td>1</td>\n",
       "      <td>0</td>\n",
       "      <td>0</td>\n",
       "      <td>0</td>\n",
       "      <td>1</td>\n",
       "      <td>0</td>\n",
       "      <td>0</td>\n",
       "      <td>1</td>\n",
       "      <td>2</td>\n",
       "      <td>3</td>\n",
       "      <td>...</td>\n",
       "      <td>2</td>\n",
       "      <td>0</td>\n",
       "      <td>0</td>\n",
       "      <td>0</td>\n",
       "      <td>0</td>\n",
       "      <td>0</td>\n",
       "      <td>1</td>\n",
       "      <td>2</td>\n",
       "      <td>0</td>\n",
       "      <td>0</td>\n",
       "    </tr>\n",
       "    <tr>\n",
       "      <th>ENSG00000057149</th>\n",
       "      <td>0</td>\n",
       "      <td>0</td>\n",
       "      <td>0</td>\n",
       "      <td>115</td>\n",
       "      <td>6</td>\n",
       "      <td>0</td>\n",
       "      <td>0</td>\n",
       "      <td>0</td>\n",
       "      <td>0</td>\n",
       "      <td>0</td>\n",
       "      <td>...</td>\n",
       "      <td>0</td>\n",
       "      <td>0</td>\n",
       "      <td>4</td>\n",
       "      <td>0</td>\n",
       "      <td>0</td>\n",
       "      <td>0</td>\n",
       "      <td>0</td>\n",
       "      <td>0</td>\n",
       "      <td>0</td>\n",
       "      <td>1</td>\n",
       "    </tr>\n",
       "    <tr>\n",
       "      <th>ENSG00000130287</th>\n",
       "      <td>7</td>\n",
       "      <td>2</td>\n",
       "      <td>0</td>\n",
       "      <td>6</td>\n",
       "      <td>1</td>\n",
       "      <td>2</td>\n",
       "      <td>4</td>\n",
       "      <td>1</td>\n",
       "      <td>2</td>\n",
       "      <td>24</td>\n",
       "      <td>...</td>\n",
       "      <td>4</td>\n",
       "      <td>2</td>\n",
       "      <td>1</td>\n",
       "      <td>0</td>\n",
       "      <td>0</td>\n",
       "      <td>1</td>\n",
       "      <td>0</td>\n",
       "      <td>1</td>\n",
       "      <td>7</td>\n",
       "      <td>0</td>\n",
       "    </tr>\n",
       "    <tr>\n",
       "      <th>ENSG00000113492</th>\n",
       "      <td>0</td>\n",
       "      <td>1</td>\n",
       "      <td>0</td>\n",
       "      <td>5</td>\n",
       "      <td>0</td>\n",
       "      <td>0</td>\n",
       "      <td>1</td>\n",
       "      <td>1</td>\n",
       "      <td>0</td>\n",
       "      <td>1</td>\n",
       "      <td>...</td>\n",
       "      <td>0</td>\n",
       "      <td>2</td>\n",
       "      <td>0</td>\n",
       "      <td>0</td>\n",
       "      <td>0</td>\n",
       "      <td>3</td>\n",
       "      <td>1</td>\n",
       "      <td>1</td>\n",
       "      <td>3</td>\n",
       "      <td>0</td>\n",
       "    </tr>\n",
       "  </tbody>\n",
       "</table>\n",
       "<p>5 rows × 407 columns</p>\n",
       "</div>"
      ],
      "text/plain": [
       "                 d2587070-cb7d-440d-ae49-52f5077248e6.htseq.counts.gz  \\\n",
       "ENSG00000276289                                                  0      \n",
       "ENSG00000137948                                                  1      \n",
       "ENSG00000057149                                                  0      \n",
       "ENSG00000130287                                                  7      \n",
       "ENSG00000113492                                                  0      \n",
       "\n",
       "                 97675f21-ce94-4e7c-bc46-179cc2903bf3.htseq.counts.gz  \\\n",
       "ENSG00000276289                                                  0      \n",
       "ENSG00000137948                                                  0      \n",
       "ENSG00000057149                                                  0      \n",
       "ENSG00000130287                                                  2      \n",
       "ENSG00000113492                                                  1      \n",
       "\n",
       "                 646d58e7-b7e2-4b2b-bb37-3ca20b601213.htseq.counts.gz  \\\n",
       "ENSG00000276289                                                  0      \n",
       "ENSG00000137948                                                  0      \n",
       "ENSG00000057149                                                  0      \n",
       "ENSG00000130287                                                  0      \n",
       "ENSG00000113492                                                  0      \n",
       "\n",
       "                 0f2b58b4-7d91-48f3-8901-b624e3d6aa51.htseq.counts.gz  \\\n",
       "ENSG00000276289                                                  0      \n",
       "ENSG00000137948                                                  0      \n",
       "ENSG00000057149                                                115      \n",
       "ENSG00000130287                                                  6      \n",
       "ENSG00000113492                                                  5      \n",
       "\n",
       "                 3eb03db7-efc1-4f20-bbc9-61551905eb9b.htseq.counts.gz  \\\n",
       "ENSG00000276289                                                  4      \n",
       "ENSG00000137948                                                  1      \n",
       "ENSG00000057149                                                  6      \n",
       "ENSG00000130287                                                  1      \n",
       "ENSG00000113492                                                  0      \n",
       "\n",
       "                 73ce143e-44f1-49c6-963f-45246d8551de.htseq.counts.gz  \\\n",
       "ENSG00000276289                                                  0      \n",
       "ENSG00000137948                                                  0      \n",
       "ENSG00000057149                                                  0      \n",
       "ENSG00000130287                                                  2      \n",
       "ENSG00000113492                                                  0      \n",
       "\n",
       "                 09f2bb20-909e-4929-8a79-c64c7fb2af31.htseq.counts.gz  \\\n",
       "ENSG00000276289                                                  1      \n",
       "ENSG00000137948                                                  0      \n",
       "ENSG00000057149                                                  0      \n",
       "ENSG00000130287                                                  4      \n",
       "ENSG00000113492                                                  1      \n",
       "\n",
       "                 6ae2dd6c-2a39-411f-a1fc-11e0e6e82165.htseq.counts.gz  \\\n",
       "ENSG00000276289                                                  0      \n",
       "ENSG00000137948                                                  1      \n",
       "ENSG00000057149                                                  0      \n",
       "ENSG00000130287                                                  1      \n",
       "ENSG00000113492                                                  1      \n",
       "\n",
       "                 5f5c42f3-3631-43a3-9774-164eca819389.htseq.counts.gz  \\\n",
       "ENSG00000276289                                                  0      \n",
       "ENSG00000137948                                                  2      \n",
       "ENSG00000057149                                                  0      \n",
       "ENSG00000130287                                                  2      \n",
       "ENSG00000113492                                                  0      \n",
       "\n",
       "                 b520edf2-42ce-4b64-8575-19e34b30f042.htseq.counts.gz  ...  \\\n",
       "ENSG00000276289                                                  0     ...   \n",
       "ENSG00000137948                                                  3     ...   \n",
       "ENSG00000057149                                                  0     ...   \n",
       "ENSG00000130287                                                 24     ...   \n",
       "ENSG00000113492                                                  1     ...   \n",
       "\n",
       "                 37e498a7-b147-4c38-a3f5-ed283d57f97a.htseq.counts.gz  \\\n",
       "ENSG00000276289                                                  0      \n",
       "ENSG00000137948                                                  2      \n",
       "ENSG00000057149                                                  0      \n",
       "ENSG00000130287                                                  4      \n",
       "ENSG00000113492                                                  0      \n",
       "\n",
       "                 c264fe3b-482b-44ec-83a4-73df565663ff.htseq.counts.gz  \\\n",
       "ENSG00000276289                                                  0      \n",
       "ENSG00000137948                                                  0      \n",
       "ENSG00000057149                                                  0      \n",
       "ENSG00000130287                                                  2      \n",
       "ENSG00000113492                                                  2      \n",
       "\n",
       "                 9e97f017-6855-4d68-bd2a-c4da3ccb1d57.htseq.counts.gz  \\\n",
       "ENSG00000276289                                                  0      \n",
       "ENSG00000137948                                                  0      \n",
       "ENSG00000057149                                                  4      \n",
       "ENSG00000130287                                                  1      \n",
       "ENSG00000113492                                                  0      \n",
       "\n",
       "                 15864159-be88-41c8-bdef-c2c5927cb1a1.htseq.counts.gz  \\\n",
       "ENSG00000276289                                                 25      \n",
       "ENSG00000137948                                                  0      \n",
       "ENSG00000057149                                                  0      \n",
       "ENSG00000130287                                                  0      \n",
       "ENSG00000113492                                                  0      \n",
       "\n",
       "                 e2bdca76-7bc5-4143-a6f6-3c6642425c65.htseq.counts.gz  \\\n",
       "ENSG00000276289                                                  2      \n",
       "ENSG00000137948                                                  0      \n",
       "ENSG00000057149                                                  0      \n",
       "ENSG00000130287                                                  0      \n",
       "ENSG00000113492                                                  0      \n",
       "\n",
       "                 b1868d9d-ef06-4353-883b-230dae23f8b6.htseq.counts.gz  \\\n",
       "ENSG00000276289                                                  0      \n",
       "ENSG00000137948                                                  0      \n",
       "ENSG00000057149                                                  0      \n",
       "ENSG00000130287                                                  1      \n",
       "ENSG00000113492                                                  3      \n",
       "\n",
       "                 2b5f6764-5a5b-47dc-b0f8-7a548bab2e26.htseq.counts.gz  \\\n",
       "ENSG00000276289                                                  1      \n",
       "ENSG00000137948                                                  1      \n",
       "ENSG00000057149                                                  0      \n",
       "ENSG00000130287                                                  0      \n",
       "ENSG00000113492                                                  1      \n",
       "\n",
       "                 7324b2d6-dd30-4f99-a101-7c3d497bbcb8.htseq.counts.gz  \\\n",
       "ENSG00000276289                                                  1      \n",
       "ENSG00000137948                                                  2      \n",
       "ENSG00000057149                                                  0      \n",
       "ENSG00000130287                                                  1      \n",
       "ENSG00000113492                                                  1      \n",
       "\n",
       "                 95e726db-5ccc-4836-a2ae-7feaddaf9f1b.htseq.counts.gz  \\\n",
       "ENSG00000276289                                                  5      \n",
       "ENSG00000137948                                                  0      \n",
       "ENSG00000057149                                                  0      \n",
       "ENSG00000130287                                                  7      \n",
       "ENSG00000113492                                                  3      \n",
       "\n",
       "                 00cc9b4d-a847-464e-979a-7751e1a87ae3.htseq.counts.gz  \n",
       "ENSG00000276289                                                  1     \n",
       "ENSG00000137948                                                  0     \n",
       "ENSG00000057149                                                  1     \n",
       "ENSG00000130287                                                  0     \n",
       "ENSG00000113492                                                  0     \n",
       "\n",
       "[5 rows x 407 columns]"
      ]
     },
     "execution_count": 46,
     "metadata": {},
     "output_type": "execute_result"
    }
   ],
   "source": [
    "df.head()"
   ]
  },
  {
   "cell_type": "code",
   "execution_count": 55,
   "metadata": {},
   "outputs": [
    {
     "data": {
      "text/plain": [
       "TensorShape([Dimension(223)])"
      ]
     },
     "execution_count": 55,
     "metadata": {},
     "output_type": "execute_result"
    }
   ],
   "source": [
    "tfdf[0].shape"
   ]
  },
  {
   "cell_type": "code",
   "execution_count": null,
   "metadata": {},
   "outputs": [],
   "source": []
  }
 ],
 "metadata": {
  "kernelspec": {
   "display_name": "Python 3",
   "language": "python",
   "name": "python3"
  },
  "language_info": {
   "codemirror_mode": {
    "name": "ipython",
    "version": 3
   },
   "file_extension": ".py",
   "mimetype": "text/x-python",
   "name": "python",
   "nbconvert_exporter": "python",
   "pygments_lexer": "ipython3",
   "version": "3.6.8"
  }
 },
 "nbformat": 4,
 "nbformat_minor": 2
}
